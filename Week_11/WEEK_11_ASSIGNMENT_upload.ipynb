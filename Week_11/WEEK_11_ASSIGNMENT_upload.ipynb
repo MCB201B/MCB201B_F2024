{
 "cells": [
  {
   "cell_type": "markdown",
   "id": "3d22fcfd-d207-4b02-9dfb-cf4fb31ad0ff",
   "metadata": {},
   "source": [
    "<h1 style=\"font-size: 40px; margin-bottom: 0px;\">Week 11 Assignment</h1>\n",
    "\n",
    "<hr style=\"margin-left: 0px; border: 0.25px solid; border-color: #000000; width: 600px;\"></hr>"
   ]
  },
  {
   "cell_type": "markdown",
   "id": "83dda78b-3741-45d4-be3c-77eddaa53ef0",
   "metadata": {},
   "source": [
    "<p><strong><u>Due: Saturday, November 16th at 11:59PM</u></strong></p>\n",
    "\n",
    "<p><strong><u>Total points: 5 pts</u></strong></p>\n",
    "\n",
    "<p><strong><u>To turn in your assignment:</u></strong></p>\n",
    "\n",
    "<ol>\n",
    "    <li>Complete assignment and make sure you have all the outputs requested in this notebook</li>\n",
    "    <li>Go to your server's file directory and locate this notebook</li>\n",
    "    <li>Right click and select <strong>Download</strong> to download your completed notebook</li>\n",
    "    <li>Navigate to lab class <u><strong><a href=\"https://drive.google.com/drive/folders/1Limmo19dvhZz3qIaDDSnuSrl44yTiHUd?usp=sharing\" rel=\"noopener noreferrer\" target=\"_blank\">Google Drive</a></strong></u></li>\n",
    "    <li>Find your individual folder in the <strong>Assignment Submission folder</strong></li>\n",
    "    <li>Upload this notebook to submit your assignment</li>\n",
    "</ol>\n",
    "\n",
    "<p><strong><u>How this assignment will be graded:</u></strong></p>\n",
    "\n",
    "<p>This assignment will make use of this Python notebook. You will be graded on whether or not the code is correct to achieve the output that you have. You will also be graded on whether or not you have the requested outputs. Note that the outputs will differ from group to group. All your outputs will be within this notebook.</p>"
   ]
  },
  {
   "cell_type": "markdown",
   "id": "2654fae6-6696-4951-a30e-60efc215c30e",
   "metadata": {},
   "source": [
    "<h1>Question 1</h1>"
   ]
  },
  {
   "cell_type": "markdown",
   "id": "96e63357-c354-4745-9c56-2256d7e91448",
   "metadata": {},
   "source": [
    "<p>1 pt</p>"
   ]
  },
  {
   "cell_type": "markdown",
   "id": "b5548072-6359-4d23-bdba-24de85a2dd8f",
   "metadata": {},
   "source": [
    "Using the full data from your group's counts matrix, generate a DataFrame that contains the following:\n",
    "\n",
    "<ul>\n",
    "    <li>Raw read counts for each gene for your control replicate (from full fastq.gz analysis)</li>\n",
    "    <li>Raw read counts for each gene for your TAZ KO replicate (from full fastq.gz analysis)</li>\n",
    "    <li>Average read counts for each gene based on the control and TAZ KO replicates</li>\n",
    "    <li>Ratio of TAZ KO read counts over control read counts</li>\n",
    "</ul>"
   ]
  },
  {
   "cell_type": "code",
   "execution_count": null,
   "id": "1e08504d-a2d9-4571-b5f1-aec90ec6e455",
   "metadata": {},
   "outputs": [],
   "source": []
  },
  {
   "cell_type": "markdown",
   "id": "0234da2e-5dce-4891-a490-fa3f9765e10e",
   "metadata": {},
   "source": [
    "<h1>Question 2</h1>"
   ]
  },
  {
   "cell_type": "markdown",
   "id": "971d1109-f6a5-4cfc-83dc-7b93364b0bca",
   "metadata": {},
   "source": [
    "<p>2 pt</p>"
   ]
  },
  {
   "cell_type": "markdown",
   "id": "57c89fe1-a748-488d-8719-50ac9f7aee29",
   "metadata": {},
   "source": [
    "Generate a scatterplot comparing the raw counts of your control replicate vs your TAZ KO replicate. Each dot of your scatterplot should correspond to a single gene. You will need to label axes accordingly and use a log-scale for both the X- and the Y-axes. You do not need to visually differentiate genes with increased or reduced expression levels."
   ]
  },
  {
   "cell_type": "code",
   "execution_count": null,
   "id": "d2a1faae-434a-4e04-88d2-ceab6ba0bc12",
   "metadata": {},
   "outputs": [],
   "source": []
  },
  {
   "cell_type": "markdown",
   "id": "9ef79333-669a-4d7a-9a7a-b2b03a949822",
   "metadata": {},
   "source": [
    "<h1>Question 3</h1>"
   ]
  },
  {
   "cell_type": "markdown",
   "id": "11ca0d91-9682-45cd-8fe7-67a6d5e82bfd",
   "metadata": {},
   "source": [
    "<p>2 pt</p>"
   ]
  },
  {
   "cell_type": "markdown",
   "id": "6f5ec6c3-6cdd-43e5-988b-10940880d49b",
   "metadata": {},
   "source": [
    "Plot an MA plot of your group's transcriptome data. Each dot should correspond to a single gene. You will need to label axes accordingly and use a log-scale for both the X- and the Y-axes. You do not need to visually differentiate genes with increased or reduced expression levels."
   ]
  },
  {
   "cell_type": "code",
   "execution_count": null,
   "id": "f47fc1da-6329-4baa-a471-da1a690709e6",
   "metadata": {},
   "outputs": [],
   "source": []
  }
 ],
 "metadata": {
  "kernelspec": {
   "display_name": "Python [conda env:root] *",
   "language": "python",
   "name": "conda-root-py"
  },
  "language_info": {
   "codemirror_mode": {
    "name": "ipython",
    "version": 3
   },
   "file_extension": ".py",
   "mimetype": "text/x-python",
   "name": "python",
   "nbconvert_exporter": "python",
   "pygments_lexer": "ipython3",
   "version": "3.11.0"
  }
 },
 "nbformat": 4,
 "nbformat_minor": 5
}
