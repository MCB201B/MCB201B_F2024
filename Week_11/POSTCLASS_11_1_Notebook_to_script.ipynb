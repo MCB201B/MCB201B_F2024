{
 "cells": [
  {
   "cell_type": "markdown",
   "id": "aa9c341c-f348-4be8-a8e0-d37d3cde82a8",
   "metadata": {},
   "source": [
    "<h1 style=\"font-size: 40px; margin-bottom: 0px;\">11.1 From notebook to script</h1>\n",
    "\n",
    "<hr style=\"margin-left: 0px; border: 0.25px solid; border-color: #000000; width: 600px;\"></hr>"
   ]
  },
  {
   "cell_type": "markdown",
   "id": "fb89d335-9178-40ea-ad32-3ca39c2ad346",
   "metadata": {},
   "source": [
    "<p>Now that we have a Python notebook that is able to perform QC, generate plots, and export a table containing just the counts associated with annotated genes. Our notebooks are more rough and ready, and they help us plan out and test Python code. We can now try to polish it up as a Python script that we can incorporate into an RNA-seq pipeline. That way, we don't need to interrupt our pipeline to work in our notebooks. We can just have a command to get our desired outputs as a line in a shell script.</p>\n",
    "\n",
    "<p><strong>Learning objectives:</strong></p>\n",
    "\n",
    "<ul>\n",
    "    <li>Review operating system functionalities in Python</li>\n",
    "    <li>Set up a Python script</li>\n",
    "    <li>Work through a basic Python script</li>\n",
    "</ul>"
   ]
  },
  {
   "cell_type": "markdown",
   "id": "a6062877-34c4-4428-b169-00781fd42286",
   "metadata": {},
   "source": [
    "<h1>Generate a \"bad\" count file</h1>"
   ]
  },
  {
   "cell_type": "markdown",
   "id": "0b8152ea-1966-46d2-be9d-b6c3bc6640ee",
   "metadata": {},
   "source": [
    "To have an example of when you might notice if something went wrong in how you set up <code>htseq-count</code>, we'll be starting today's lesson by running <code>htseq-count</code> using the incorrect strandedness for our library, which should lead to an unusual count matrix where a large number of reads will be unassigned/not counted.\n",
    "\n",
    "First, make sure that HTSeq is installed:\n",
    "\n",
    "<pre style=\"width: 350px; margin-top: 15px; margin-bottom: 15px; color: #000000; background-color: #EEEEEE; border: 1px solid; border-color: #AAAAAA; padding: 10px; border-radius: 15px; font-size: 12px;\">pip install HTSeq</pre>\n",
    "\n",
    "Then, go ahead and run the count on your truncated files but instead of using <code>-s reverse</code>, well use <code>-s yes</code> to indicate that our library is directional on the second-strand (which is incorrect).\n",
    "\n",
    "<pre style=\"width: 500px; margin-top: 15px; margin-bottom: 15px; color: #000000; background-color: #EEEEEE; border: 1px solid; border-color: #AAAAAA; padding: 10px; border-radius: 15px; font-size: 12px;\">htseq-count \\\n",
    "-t exon \\\n",
    "-i gene_id \\\n",
    "-r name \\\n",
    "-s <strong>yes</strong> \\\n",
    "-f bam \\\n",
    "./alignment-outputs/bams/*_name.bam \\\n",
    "~/shared/course/mcb201b-shared-readwrite/rna-feature/hg19-refseq.gtf \\\n",
    "> ./1M_g1_<strong>bad</strong>_counts.txt</pre>"
   ]
  },
  {
   "cell_type": "markdown",
   "id": "89256f05-7ff6-42a7-8d71-fcf507416fa4",
   "metadata": {},
   "source": [
    "Now, while that runs in the background, we will review some operating system functionalities that we can perform in Python in preparation to set up a Python script."
   ]
  },
  {
   "cell_type": "markdown",
   "id": "15dbd388-b437-4ade-b747-4db462a94edc",
   "metadata": {},
   "source": [
    "<h1>Operating system functionalities in Python</h1>"
   ]
  },
  {
   "cell_type": "markdown",
   "id": "d8e5ac9f-e5c1-451d-8d08-6b6b950477f5",
   "metadata": {},
   "source": [
    "Recall from our image analysis notebook (lesson 5_1_Image_analysis_II)  that we made use of operating system functionalities in Python through the package <code>os</code>. The <code>os</code> package allowed us to identify our current working directory, change our working directories, and create lists of our file names. While we could use Terminal to do these commands, the <code>os</code> package allows us to do all these things within our Python notebook (or script), so we don't need to switch back and forth between Terminal and Python just to navigate through our directories when we want to import files or export files to different directories.\n",
    "\n",
    "To keep things simple, what we'll do is we'll continue to work in our <code>Week_10</code> directory. Using either the File Browser or Terminal, create a new directory called <code>quant</code>, and go ahead and move your <code>htseq-count</code> output .txt files to that folder."
   ]
  },
  {
   "cell_type": "markdown",
   "id": "6b35805e-312b-47e4-bebc-36bd81a0249e",
   "metadata": {},
   "source": [
    "<h2>Exercise #1: Change to <code>quant</code> directory</h2>"
   ]
  },
  {
   "cell_type": "markdown",
   "id": "b9950fca-4dd3-4832-b950-1bdae4bd8831",
   "metadata": {},
   "source": [
    "By default, the current working directory for your Python notebook will be the directory in which it is saved. You can find what your current working directory (cwd) is using the <code>os.getcwd()</code> function. It will return a string corresponding to the file path to your current working directory. So the <code>os.getcwd()</code> is similar to the Terminal period <code>.</code>, which specifies the path to your current directory. \n",
    "\n",
    "The function to change directories is <code>os.chdir()</code>, which functions similarly to the Terminal command <code>os</code>.\n",
    "\n",
    "<a href=\"https://docs.python.org/3/library/os.html\" rel=\"noopener noreferrer\" target=\"_blank\"><u>Documentation for <code>os.getcwd()</code>, <code>os.chdir()</code>, and other <code>os</code> functions is here.</u></a>\n",
    "\n",
    "In this exercise, check your current working directory, then change to your <code>quant</code> folder, and then check your current working directory again to see if it has been updated."
   ]
  },
  {
   "cell_type": "code",
   "execution_count": 1,
   "id": "1b772584-0167-4eec-aa66-51479625d3ad",
   "metadata": {},
   "outputs": [],
   "source": [
    "import os"
   ]
  },
  {
   "cell_type": "code",
   "execution_count": 2,
   "id": "c10956ac-2136-4401-a9ea-38860df0a438",
   "metadata": {},
   "outputs": [
    {
     "data": {
      "text/plain": [
       "'/home/jovyan/MCB201B_F2024/Week_11'"
      ]
     },
     "execution_count": 2,
     "metadata": {},
     "output_type": "execute_result"
    }
   ],
   "source": [
    "os.getcwd()"
   ]
  },
  {
   "cell_type": "code",
   "execution_count": 3,
   "id": "26a4c14e-f6e0-40b7-b0a5-1e23a2342e3c",
   "metadata": {},
   "outputs": [],
   "source": [
    "os.chdir('/home/jovyan/MCB201B_F2024/Week_10/quant')"
   ]
  },
  {
   "cell_type": "code",
   "execution_count": 4,
   "id": "a694c9c4-82bb-40de-97c2-9b70e57baec3",
   "metadata": {},
   "outputs": [
    {
     "data": {
      "text/plain": [
       "'/home/jovyan/MCB201B_F2024/Week_10/quant'"
      ]
     },
     "execution_count": 4,
     "metadata": {},
     "output_type": "execute_result"
    }
   ],
   "source": [
    "os.getcwd()"
   ]
  },
  {
   "cell_type": "markdown",
   "id": "8823ab50-af9b-4cfc-a972-60924515069a",
   "metadata": {},
   "source": [
    "<h2>Exercise #2: Make a directory called <code>counts_qc</code></h2>"
   ]
  },
  {
   "cell_type": "markdown",
   "id": "f91ae383-dde5-466b-bb8c-5f203a19ac7e",
   "metadata": {},
   "source": [
    "To make a directory, you can make use of the <code>os.mkdir()</code> function, where you provide the name of your directory as an argument.\n",
    "\n",
    "For this exercise, use Python to create a directory called <code>counts_qc</code>"
   ]
  },
  {
   "cell_type": "code",
   "execution_count": 7,
   "id": "8a61a642-a276-4096-b194-26f158aaf84a",
   "metadata": {},
   "outputs": [
    {
     "ename": "FileExistsError",
     "evalue": "[Errno 17] File exists: 'counts_qc'",
     "output_type": "error",
     "traceback": [
      "\u001b[0;31m---------------------------------------------------------------------------\u001b[0m",
      "\u001b[0;31mFileExistsError\u001b[0m                           Traceback (most recent call last)",
      "Cell \u001b[0;32mIn[7], line 1\u001b[0m\n\u001b[0;32m----> 1\u001b[0m \u001b[43mos\u001b[49m\u001b[38;5;241;43m.\u001b[39;49m\u001b[43mmkdir\u001b[49m\u001b[43m(\u001b[49m\u001b[38;5;124;43m'\u001b[39;49m\u001b[38;5;124;43mcounts_qc\u001b[39;49m\u001b[38;5;124;43m'\u001b[39;49m\u001b[43m)\u001b[49m\n\u001b[1;32m      3\u001b[0m \u001b[38;5;28mprint\u001b[39m(\u001b[38;5;124m'\u001b[39m\u001b[38;5;124mmeow~\u001b[39m\u001b[38;5;124m'\u001b[39m)\n",
      "\u001b[0;31mFileExistsError\u001b[0m: [Errno 17] File exists: 'counts_qc'"
     ]
    }
   ],
   "source": [
    "os.mkdir('counts_qc')\n",
    "\n",
    "print('meow~')"
   ]
  },
  {
   "cell_type": "markdown",
   "id": "6d363218-a048-40e0-8238-d65067d58516",
   "metadata": {},
   "source": [
    "Now, re-run the above cell again once your directory has been created.\n",
    "\n",
    "You should encounter a <code style=\"color: #FF0000; background-color: #FFDDDD;\">FileExistsError</code>. This error will prevent the subsequent lines of code from being executed, and you can see an example of this if you input a line of code in the cell below and restart the kernel and rerun all the cells. Code execution will stop once it encounters <code style=\"color: #FF0000; background-color: #FFDDDD;\">FileExistsError</code>."
   ]
  },
  {
   "cell_type": "code",
   "execution_count": null,
   "id": "44aeefde-760a-4397-9e2f-cf6289261c1a",
   "metadata": {},
   "outputs": [],
   "source": []
  },
  {
   "cell_type": "markdown",
   "id": "65578a01-080c-47a8-a9cf-d4ae53b43990",
   "metadata": {},
   "source": [
    "<h2>Guided Review: <code>try</code>, <code>except</code>, and <code>pass</code> keywords</h2>"
   ]
  },
  {
   "cell_type": "markdown",
   "id": "796e28a9-92d2-42ad-b2ec-95e8ed0d8f8e",
   "metadata": {},
   "source": [
    "Recall from lesson 1-1_Intro_to_Python, to get around this issue, we can have Python try to see if it can create a directory and indicate how we want it to handle errors, specifically <code style=\"color: #FF0000; background-color: #FFDDDD;\">FileExistsError</code>. \n",
    "\n",
    "We can tell it to <code>try</code> the <code>os.mkdir()</code> function, <code>except</code> when it encounters <code style=\"color: #FF0000; background-color: #FFDDDD;\">FileExistsError</code>, in which case, we want it to <code>pass</code> - skipping that line of code."
   ]
  },
  {
   "cell_type": "code",
   "execution_count": 8,
   "id": "d5e35597-338b-404c-92d1-8b65ddaca482",
   "metadata": {},
   "outputs": [
    {
     "name": "stdout",
     "output_type": "stream",
     "text": [
      "meow~\n"
     ]
    }
   ],
   "source": [
    "try:\n",
    "    os.mkdir('counts_qc')\n",
    "except FileExistsError:\n",
    "    pass\n",
    "\n",
    "print('meow~')"
   ]
  },
  {
   "cell_type": "markdown",
   "id": "8bbc1558-a7e5-4e5d-8bc8-23ab657a6b04",
   "metadata": {},
   "source": [
    "Now you should see that by providing Python with additional information on how we want it to handle an error, we can allow subsequent lines of code to be executed.\n",
    "\n",
    "In this case, it allows us to create a directory if it doesn't exist, and if it already does, Python will simply skip that action."
   ]
  },
  {
   "cell_type": "markdown",
   "id": "70d2164d-d07e-40db-adf1-f055ef0382dc",
   "metadata": {},
   "source": [
    "<h2>Guided Exercise: List comprehension to pull files</h2>"
   ]
  },
  {
   "cell_type": "markdown",
   "id": "e3f402ec-35de-487e-92b7-045451298c17",
   "metadata": {},
   "source": [
    "Recall that we can list the files and folders in our current working directory using <code>os.listdir()</code>, which functions similar to the Terminal command <code>ls</code>."
   ]
  },
  {
   "cell_type": "code",
   "execution_count": 9,
   "id": "f7294d9d-4701-4464-90b2-7e779f2b4526",
   "metadata": {},
   "outputs": [
    {
     "data": {
      "text/plain": [
       "['1M_g1_counts.txt', 'counts_qc', '.ipynb_checkpoints', '1M_g1_bad_counts.txt']"
      ]
     },
     "execution_count": 9,
     "metadata": {},
     "output_type": "execute_result"
    }
   ],
   "source": [
    "os.listdir()"
   ]
  },
  {
   "cell_type": "markdown",
   "id": "d8499775-7e53-42c2-92f6-96e485c86d34",
   "metadata": {},
   "source": [
    "You can see that we not only have our counts files but also our new folder that we made, and some of you may have other hidden files as well.\n",
    "\n",
    "To pull just the files that we want into a new list, we can make use of list comprehension to write a compact for loop to pull just the files we want.\n",
    "\n",
    "Standard for loop setup:\n",
    "```\n",
    "data = []\n",
    "\n",
    "for name in os.listdir():\n",
    "    if '.txt' in name:\n",
    "        data.append(name)\n",
    "```\n",
    "\n",
    "This allows us to create a list of plain text files, and in our case, this will pull both of our count files into a new list."
   ]
  },
  {
   "cell_type": "code",
   "execution_count": 12,
   "id": "a4d4a610-831d-4664-9d30-2c1b117f0533",
   "metadata": {},
   "outputs": [],
   "source": [
    "data = []\n",
    "\n",
    "for name in os.listdir():\n",
    "    if '.txt' in name:\n",
    "        data.append(name)"
   ]
  },
  {
   "cell_type": "code",
   "execution_count": 11,
   "id": "7b774fff-9588-4c2b-9040-6215dfe18eda",
   "metadata": {},
   "outputs": [
    {
     "data": {
      "text/plain": [
       "['1M_g1_counts.txt', '1M_g1_bad_counts.txt']"
      ]
     },
     "execution_count": 11,
     "metadata": {},
     "output_type": "execute_result"
    }
   ],
   "source": [
    "data"
   ]
  },
  {
   "cell_type": "markdown",
   "id": "3e6874a7-6a6e-45ba-8b85-f0da1412755c",
   "metadata": {},
   "source": [
    "What the above set up is doing step by step is:\n",
    "\n",
    "<code>data = []</code>\n",
    "\n",
    "This sets up our empty list, so we can append the outputs of our for-loop to it.\n",
    "\n",
    "<hr style=\"border: 1px solid; border-color: #AAAAAA;\"></hr>\n",
    "\n",
    "<code>for name in os.listdir()</code>\n",
    "\n",
    "This sets up our for loop, where we are using the list generated by the <code>os.listdir()</code> function, and pulling each file and folder it finds one by one out of the list.\n",
    "\n",
    "<hr style=\"border: 1px solid; border-color: #AAAAAA;\"></hr>\n",
    "\n",
    "<code>if '.txt' in name:</code>\n",
    "\n",
    "This then checks the file that we pulled to see if it contains the string <code>.txt</code>. \n",
    "\n",
    "<hr style=\"border: 1px solid; border-color: #AAAAAA;\"></hr>\n",
    "\n",
    "<code>data.append(name)</code>\n",
    "\n",
    "If the file name contains <code>.txt</code>, then we add it to our new list <code>data</code>.\n",
    "\n",
    "So the end result is that we have a new list of file names saved to the variable <code>data</code> that contain the string <code>.txt</code>, which in our case will pull our counts matrix files."
   ]
  },
  {
   "cell_type": "markdown",
   "id": "b493b7c6-f9fc-4b99-9d79-4f4a7a3e3c35",
   "metadata": {},
   "source": [
    "We can use list comprehension to shorten all of that into a single line:\n",
    "\n",
    "```\n",
    "data = [name for name in os.listdir() if '.txt' in name]\n",
    "```"
   ]
  },
  {
   "cell_type": "code",
   "execution_count": 13,
   "id": "48f8500b-d270-465c-971a-14306a84e9ea",
   "metadata": {},
   "outputs": [],
   "source": [
    "data_1 = [name for name in os.listdir() if '.txt' in name]"
   ]
  },
  {
   "cell_type": "code",
   "execution_count": 14,
   "id": "bb083a51-a5e9-4a4a-b655-1e2266e9144a",
   "metadata": {},
   "outputs": [
    {
     "data": {
      "text/plain": [
       "['1M_g1_counts.txt', '1M_g1_bad_counts.txt']"
      ]
     },
     "execution_count": 14,
     "metadata": {},
     "output_type": "execute_result"
    }
   ],
   "source": [
    "data_1"
   ]
  },
  {
   "cell_type": "markdown",
   "id": "8dcad6b6-ca94-464c-ab60-032ab7064667",
   "metadata": {},
   "source": [
    "<h2>Guided Exercise: Create a basename from a file name</h2>"
   ]
  },
  {
   "cell_type": "markdown",
   "id": "8a1ef765-653a-4ed4-960a-ec0110a4ec5d",
   "metadata": {},
   "source": [
    "From our shell scripts in Terminal, you learned how you can make use of variable expansion in order to obtain a basename based on the file that you are operating on.\n",
    "\n",
    "The way strings are handled in Python allow us to perform similar actions. Each letter of a string functions like an element of a list, so we can pull just the information we want from a file name and add to it as needed."
   ]
  },
  {
   "cell_type": "markdown",
   "id": "e89e77f1-ecad-4b0d-a788-4c19fde01431",
   "metadata": {},
   "source": [
    "Let's get the file name for the first counts matrix file:"
   ]
  },
  {
   "cell_type": "code",
   "execution_count": 15,
   "id": "15e497d5-c4b0-4a5a-94be-e095def13a42",
   "metadata": {},
   "outputs": [
    {
     "data": {
      "text/plain": [
       "'1M_g1_counts.txt'"
      ]
     },
     "execution_count": 15,
     "metadata": {},
     "output_type": "execute_result"
    }
   ],
   "source": [
    "data[0]"
   ]
  },
  {
   "cell_type": "code",
   "execution_count": 24,
   "id": "57c3f286-4acf-462f-a80b-f686d10cce25",
   "metadata": {},
   "outputs": [
    {
     "name": "stdout",
     "output_type": "stream",
     "text": [
      "1M_g1_counts.txt\n",
      "1M_g1_bad_counts.txt\n"
     ]
    }
   ],
   "source": [
    "file_1 = data[0]\n",
    "file_2 = data[1]\n",
    "\n",
    "print(file_1)\n",
    "print(file_2)"
   ]
  },
  {
   "cell_type": "markdown",
   "id": "d01a8511-ab9d-4709-92b3-9151f7cfc2ae",
   "metadata": {},
   "source": [
    "Because it's a list, we can make use of slice notation to pull specific letters out. In our case, we're most interested in the portion of the file name that identifies each sample."
   ]
  },
  {
   "cell_type": "code",
   "execution_count": 25,
   "id": "e587a317-c5ae-44ab-9dcf-803c08c68d41",
   "metadata": {},
   "outputs": [
    {
     "name": "stdout",
     "output_type": "stream",
     "text": [
      "1M_g1\n",
      "1M_g1_bad\n"
     ]
    }
   ],
   "source": [
    "print(file_1[:-11])\n",
    "print(file_2[:-11])"
   ]
  },
  {
   "cell_type": "markdown",
   "id": "4f07d989-92ef-49ff-a730-307f810e8f5b",
   "metadata": {},
   "source": [
    "Can you think of where this might run into issues?"
   ]
  },
  {
   "cell_type": "code",
   "execution_count": null,
   "id": "0a912afc-25fe-4d62-92e8-56e1a3158dc5",
   "metadata": {},
   "outputs": [],
   "source": []
  },
  {
   "cell_type": "code",
   "execution_count": null,
   "id": "6025f0f6-9b83-4bc1-a73c-4188cc5dd5f2",
   "metadata": {},
   "outputs": [],
   "source": []
  },
  {
   "cell_type": "markdown",
   "id": "567bb10e-0873-4eb6-b6b4-c8fc4634b548",
   "metadata": {},
   "source": [
    "There's two potential workarounds:"
   ]
  },
  {
   "cell_type": "code",
   "execution_count": 28,
   "id": "cdac7223-d061-47c3-bdc9-b1c21d7b11b4",
   "metadata": {},
   "outputs": [
    {
     "name": "stdout",
     "output_type": "stream",
     "text": [
      "1M_g1\n",
      "1M_g1_bad\n"
     ]
    }
   ],
   "source": [
    "print(file_1.replace('_counts.txt', ''))\n",
    "print(file_2.replace('_counts.txt', ''))"
   ]
  },
  {
   "cell_type": "code",
   "execution_count": 30,
   "id": "9f09caee-c422-40f5-b248-0bc62ccfa554",
   "metadata": {},
   "outputs": [
    {
     "data": {
      "text/plain": [
       "'1M_g1'"
      ]
     },
     "execution_count": 30,
     "metadata": {},
     "output_type": "execute_result"
    }
   ],
   "source": [
    "basename = data[0].replace('_counts.txt', '')\n",
    "basename"
   ]
  },
  {
   "cell_type": "markdown",
   "id": "4e990f2b-a6f4-4f30-b5c7-734e0d4ac11d",
   "metadata": {},
   "source": [
    "So we can now pull just the information we need from the file name and set it as a variable to use later for a basename."
   ]
  },
  {
   "cell_type": "code",
   "execution_count": null,
   "id": "c45d5eed-8370-4146-911e-f6660c921e92",
   "metadata": {},
   "outputs": [],
   "source": []
  },
  {
   "cell_type": "markdown",
   "id": "0157b93a-395f-4985-b119-a2bf3bb4dc90",
   "metadata": {},
   "source": [
    "<h1>Setting up a Python script</h1>"
   ]
  },
  {
   "cell_type": "markdown",
   "id": "38a08113-5c11-453b-92d8-3eecbf0c1bf9",
   "metadata": {},
   "source": [
    "To set up a Python script, use the File Browser to navigate to this weeks' directory (<code>Week_11</code>), and open up a new Launcher. Under the section <strong>Other</strong>, select <strong>Python File</strong>. You should see a new plain text file open up, but rather than having a .txt extension, you should see a .py extension, indicating that it is a Python file. Much like with shell scripts, as you type in code, it will be automatically colored.\n",
    "\n",
    "Like with our previous R script output, we can run a Python file using the <code>python</code> command in Terminal, and that way, we don't need to include a shebang in the first line.\n",
    "\n",
    "Before inputting any code, let's save the Python file as <code>11_1_counts_qc.py</code>."
   ]
  },
  {
   "cell_type": "markdown",
   "id": "2bbb2ad2-5ff1-4350-aaf0-afffe682439e",
   "metadata": {},
   "source": [
    "<h2>Adapt our notebook to a script</h2>"
   ]
  },
  {
   "cell_type": "markdown",
   "id": "34e3563f-3d99-4d06-ab41-b0d385d83bdd",
   "metadata": {},
   "source": [
    "Now let's take our 10_2_RNA_seq_counts notebook and our <code>os</code> commands to create a Python script that will do the following:\n",
    "\n",
    "<ul>\n",
    "    <li>Import any needed packages</li>\n",
    "    <li>Tell us what it's doing</li>\n",
    "    <li>Make any needed directories</li>\n",
    "    <li>Import counts matrices</li>\n",
    "    <li>Perform QC on count statistics and output a PDF stacked bar plot</li>\n",
    "    <li>Manual analysis of a single replicate</li>\n",
    "    <li>Output a PDF scatter plot and a PDF MA plot</li>\n",
    "    <li>Output the raw counts just for annotated genes</li>\n",
    "</ul>\n",
    "\n",
    "And we can use this notebook as a workspace for us to test out code to see how it should be expected to run in Terminal."
   ]
  },
  {
   "cell_type": "markdown",
   "id": "750678b5-31e7-429f-a061-a7ed1fe15c3c",
   "metadata": {},
   "source": [
    "<h1>Upload your counts matrix to class lab Google Drive</h1>"
   ]
  },
  {
   "cell_type": "markdown",
   "id": "2c0f82b4-b71d-4a6d-bedb-f8eed5fe4cb7",
   "metadata": {},
   "source": [
    "Now that you have your counts matrix, upload the file corresponding to the correct <code>htseq-count</code> run to the lab class Google Drive, so we can work with the class dataset tomorrow.\n",
    "\n",
    "Jack will upload each group's count matrices to the class shared folder, so you don't need to worry about downloading the files."
   ]
  },
  {
   "cell_type": "code",
   "execution_count": 31,
   "id": "d4e23068-b6e5-4cef-b91a-6f27a111e285",
   "metadata": {},
   "outputs": [
    {
     "name": "stdout",
     "output_type": "stream",
     "text": [
      "Changing to our Week_10 quant directory...\n",
      "\n",
      "You are now working in directory /home/jovyan/MCB201B_F2024/Week_10/quant\n",
      "\n"
     ]
    }
   ],
   "source": [
    "print('Changing to our Week_10 quant directory...\\n')\n",
    "os.chdir('/home/jovyan/MCB201B_F2024/Week_10/quant')\n",
    "print(f'You are now working in directory {os.getcwd()}\\n')"
   ]
  },
  {
   "cell_type": "code",
   "execution_count": 36,
   "id": "6f05d4c0-c947-4cb0-b2f1-74bb698b1832",
   "metadata": {},
   "outputs": [
    {
     "name": "stdout",
     "output_type": "stream",
     "text": [
      "Assigning a basename for 1M_g1_counts.txt...\n",
      "\n",
      "Importing the counts for 1M_g1_counts.txt...\n",
      "\n",
      "       gene  ctrl  tazko\n",
      "0      A1BG     0      2\n",
      "1  A1BG-AS1     3      2\n",
      "2      A1CF     0      0\n",
      "3       A2M     0      0\n",
      "4   A2M-AS1     0      0\n",
      "Assigning a basename for 1M_g1_bad_counts.txt...\n",
      "\n",
      "Importing the counts for 1M_g1_bad_counts.txt...\n",
      "\n",
      "       gene  ctrl  tazko\n",
      "0      A1BG     0      1\n",
      "1  A1BG-AS1     0      2\n",
      "2      A1CF     0      0\n",
      "3       A2M     0      0\n",
      "4   A2M-AS1     0      0\n"
     ]
    }
   ],
   "source": [
    "import pandas as pd\n",
    "data = [name for name in os.listdir() if '.txt' in name]\n",
    "\n",
    "for file_name in data:\n",
    "    #Set up our basename based on the file name\n",
    "    print(f'Assigning a basename for {file_name}...\\n')\n",
    "    basename = file_name.replace('_counts.txt', '')\n",
    "\n",
    "    #Import our files\n",
    "    print(f'Importing the counts for {file_name}...\\n')\n",
    "    counts = pd.read_csv(file_name,\n",
    "                         delimiter='\\t',\n",
    "                         names=['gene', \n",
    "                                'ctrl',\n",
    "                                'tazko'\n",
    "                               ]\n",
    "                        )\n",
    "    print(counts.head())"
   ]
  },
  {
   "cell_type": "code",
   "execution_count": 37,
   "id": "8abe54a4-bf8d-430d-b892-a800f912636b",
   "metadata": {},
   "outputs": [
    {
     "data": {
      "text/plain": [
       "'1M_g1_bad_counts_qc_stacked_bar.pdf'"
      ]
     },
     "execution_count": 37,
     "metadata": {},
     "output_type": "execute_result"
    }
   ],
   "source": [
    "basename+'_counts_qc_stacked_bar.pdf'"
   ]
  },
  {
   "cell_type": "code",
   "execution_count": null,
   "id": "62b17c88-f9e4-4bf4-9578-968013bd1a68",
   "metadata": {},
   "outputs": [],
   "source": []
  }
 ],
 "metadata": {
  "kernelspec": {
   "display_name": "Python [conda env:root] *",
   "language": "python",
   "name": "conda-root-py"
  },
  "language_info": {
   "codemirror_mode": {
    "name": "ipython",
    "version": 3
   },
   "file_extension": ".py",
   "mimetype": "text/x-python",
   "name": "python",
   "nbconvert_exporter": "python",
   "pygments_lexer": "ipython3",
   "version": "3.11.0"
  }
 },
 "nbformat": 4,
 "nbformat_minor": 5
}
