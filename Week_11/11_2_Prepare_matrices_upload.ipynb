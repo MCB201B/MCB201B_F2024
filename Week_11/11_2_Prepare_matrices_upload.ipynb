{
 "cells": [
  {
   "cell_type": "markdown",
   "id": "af4d139e-917a-4c70-9703-6640107896b8",
   "metadata": {},
   "source": [
    "<h1 style=\"font-size: 40px; margin-bottom: 0px;\">11.2 Prepare matrices for DESeq2</h1>\n",
    "\n",
    "<hr style=\"margin-left: 0px; border: 0.25px solid; border-color: #000000; width: 700px;\"></hr>"
   ]
  },
  {
   "cell_type": "markdown",
   "id": "a137be12-05e3-465b-8334-89294a13040d",
   "metadata": {},
   "source": [
    "<p>We'll now start diving more deeply into our RNA-seq data by first merging each group's count matrices into a single data matrix and creating a conditions matrix that will be the metadata for our class dataset. Then we'll make use of R to do a principal component anaysis, and then in subsequent lessons, we'll continue to use R to perform a differential expression analysis using DESeq2.</p>\n",
    "\n",
    "<p><strong>Learning objectives:</strong></p>\n",
    "\n",
    "<ul>\n",
    "    <li>Review Python scripts to merge class data together</li>\n",
    "    <li>Practice working through logic of:</li>\n",
    "    <ul>\n",
    "        <li>for loops</li>\n",
    "        <li>lists</li>\n",
    "        <li>else-if statements</li>\n",
    "        <li>more generally applicable code</li>\n",
    "    </ul>\n",
    "</ul>"
   ]
  },
  {
   "cell_type": "markdown",
   "id": "5281fc5d-3413-4c22-b71f-941ea236bf6c",
   "metadata": {},
   "source": [
    "<h1>Guided Exercise: Review Python scripts</h1>"
   ]
  },
  {
   "cell_type": "markdown",
   "id": "e4e7c2b8-3a55-4ec7-a08b-2078021f4b61",
   "metadata": {},
   "source": [
    "For this guided exercise, we'll create another Python script. The goal of this script will be to pull the separate class matrix files from our shared directory and merge the data into a single matrix. We'll also generate a metadata file that contains the information on the experimental setup/condition for each sample.\n",
    "\n",
    "Normally, if you have multiple replicates for <code>htseq-count</code>, you can supply all your alignments at once, and each alignment will have its own column in the counts matrix that <code>htseq-count</code> outputs. Since we each analyzed our own replicates, we'll need to merge them all together into a single matrix and create a metadata file that goes with it."
   ]
  },
  {
   "cell_type": "markdown",
   "id": "f6806e31-4a99-4655-9aae-f9fe40ce25af",
   "metadata": {},
   "source": [
    "<h2>Class counts matrix</h2>"
   ]
  },
  {
   "cell_type": "markdown",
   "id": "a47f541f-b61f-4805-b882-2b6fe094ba04",
   "metadata": {},
   "source": [
    "Using our Python script, we'll want to merge all our data into a matrix that resembles:\n",
    "\n",
    "<table style=\"text-align:center;\">\n",
    "    <tr>\n",
    "        <th>Gene</th>\n",
    "        <th>ctrl_g1</th>\n",
    "        <th>tazko_g1</th>\n",
    "        <th>ctrl_g2</th>\n",
    "        <th>tazko_g2</th>\n",
    "        <th>...</th>\n",
    "        <th>ctrl_g8</th>\n",
    "        <th>tazko_g8</th>\n",
    "    </tr>\n",
    "    <tr>\n",
    "        <td>gene name</td>\n",
    "        <td>count data</td>\n",
    "        <td>count data</td>\n",
    "        <td>count data</td>\n",
    "        <td>count data</td>\n",
    "        <td>...</td>\n",
    "        <td>count data</td>\n",
    "        <td>count data</td>\n",
    "    </tr>\n",
    "    <tr>\n",
    "        <td>gene name</td>\n",
    "        <td>count data</td>\n",
    "        <td>count data</td>\n",
    "        <td>count data</td>\n",
    "        <td>count data</td>\n",
    "        <td>...</td>\n",
    "        <td>count data</td>\n",
    "        <td>count data</td>\n",
    "    </tr>\n",
    "    <tr>\n",
    "        <td>gene name</td>\n",
    "        <td>count data</td>\n",
    "        <td>count data</td>\n",
    "        <td>count data</td>\n",
    "        <td>count data</td>\n",
    "        <td>...</td>\n",
    "        <td>count data</td>\n",
    "        <td>count data</td>\n",
    "    </tr>    \n",
    "</table>"
   ]
  },
  {
   "cell_type": "markdown",
   "id": "d55b6970-a5bc-4c69-a250-933d484001d2",
   "metadata": {},
   "source": [
    "<h2>Conditions matrix</h2>"
   ]
  },
  {
   "cell_type": "markdown",
   "id": "60a80791-01b2-4a19-8aec-dc6a626d23db",
   "metadata": {},
   "source": [
    "While we know what condition each column's samples come from, DESeq2 does not, so we need to provide it with metadata information on which condition each sample came from. That way, DESeq2 can assign them to the correct condition and make the correct comparisons between conditions, and in our case, it will be between control samples and TAZ KO samples.\n",
    "\n",
    "In the same Python script that we use to merge our class data, we'll also simultaneously create a conditions matrix that acts as the metadata for each of our samples, and it will look something like:\n",
    "\n",
    "<table style=\"text-align:center;\">\n",
    "    <tr>\n",
    "        <th>[Index]</th>\n",
    "        <th>condition</th>\n",
    "    </tr>\n",
    "    <tr>\n",
    "        <th>ctrl_g1</th>\n",
    "        <td>control</td>\n",
    "    </tr>\n",
    "    <tr>\n",
    "        <th>tazko_g1</th>\n",
    "        <td>taz_ko</td>\n",
    "    </tr>\n",
    "    <tr>\n",
    "        <th>control_g2</th>\n",
    "        <td>control</td>\n",
    "    </tr>\n",
    "    <tr>\n",
    "        <th>tazko_g2</th>\n",
    "        <td>taz_ko</td>\n",
    "    </tr>\n",
    "    <tr>\n",
    "        <th>...</th>\n",
    "        <td>...</td>\n",
    "    </tr>\n",
    "    <tr>\n",
    "        <th>control_g8</th>\n",
    "        <td>control</td>\n",
    "    </tr>\n",
    "    <tr>\n",
    "        <th>tazko_g8</th>\n",
    "        <td>taz_ko</td>\n",
    "    </tr>\n",
    "</table>\n",
    "\n",
    "The index values corresponds to the column header of your counts matrix for each sample while the values in the <code>condition</code> column indicates whether that sample is a control sample or a TAZ KO sample, allowing DESeq2 to properly group the data for differential expression analysis."
   ]
  },
  {
   "cell_type": "markdown",
   "id": "014b8479-6d2a-49dc-896e-63b67a6f6c0a",
   "metadata": {},
   "source": [
    "<h1>Workspace for working out code for script</h1>"
   ]
  },
  {
   "cell_type": "markdown",
   "id": "b530211c-c0b3-4979-979d-3ad4d5dbed6e",
   "metadata": {},
   "source": [
    "Create a new Python script file called <code>11_2a_prepare_matrices.py</code>, and we can use this notebook as a workspace to work through the script together."
   ]
  },
  {
   "cell_type": "code",
   "execution_count": null,
   "id": "499fcb72-1b96-43f8-8b9f-a3e852a406ab",
   "metadata": {},
   "outputs": [],
   "source": []
  }
 ],
 "metadata": {
  "kernelspec": {
   "display_name": "Python [conda env:root] *",
   "language": "python",
   "name": "conda-root-py"
  },
  "language_info": {
   "codemirror_mode": {
    "name": "ipython",
    "version": 3
   },
   "file_extension": ".py",
   "mimetype": "text/x-python",
   "name": "python",
   "nbconvert_exporter": "python",
   "pygments_lexer": "ipython3",
   "version": "3.11.0"
  }
 },
 "nbformat": 4,
 "nbformat_minor": 5
}
