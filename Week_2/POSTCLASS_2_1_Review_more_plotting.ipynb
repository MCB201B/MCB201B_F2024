{
 "cells": [
  {
   "cell_type": "markdown",
   "id": "41b05e97-0f1b-416e-bdbb-973fe548be19",
   "metadata": {},
   "source": [
    "<h1 style=\"font-size: 40px; margin-bottom: 0px;\">2.1 Review and more plotting</h1>\n",
    "\n",
    "<hr style=\"margin-left: 0px; border: 0.25px solid; border-color: #000000; width: 600px;\"></hr>"
   ]
  },
  {
   "cell_type": "markdown",
   "id": "bb19d143-af2b-41a1-97e3-28fa42476e7d",
   "metadata": {},
   "source": [
    "Today, we'll be briefly reviewing DataFrames and comparing different actions to things we can do in Excel as a visual reference to stuff that we're more familiar with. Then, we'll take some additional time to do an exercise to reinforce what we've covered last week. We'll also learn how to fine tune how our plots are displayed and learn how to make a plot commonly used to display individual data points with descriptive statistics overlayed on top.\n",
    "\n",
    "<strong>Before we get into today's lesson, let's import the packages we'll use today:</strong>"
   ]
  },
  {
   "cell_type": "code",
   "execution_count": 1,
   "id": "2ceeaef3-8d2b-4c38-b226-3cb5551fa6e7",
   "metadata": {},
   "outputs": [],
   "source": [
    "import numpy as np\n",
    "import pandas as pd\n",
    "import matplotlib.pyplot as plt\n",
    "import seaborn as sns"
   ]
  },
  {
   "cell_type": "markdown",
   "id": "c662cb99-a8ad-4973-a1d3-b5c41bf5d755",
   "metadata": {},
   "source": [
    "One additional package we'll be using today is called seaborn. <u><a href=\"https://seaborn.pydata.org/\" rel=\"noopener noreferrer\" target=\"_blank\">Documentation for seaborn is here</a></u>.\n",
    "\n",
    "Seaborn is based on matplotlib, and it allows us to more easily go into our plots and fine tune how we want to display our data and analyses. Additionally, seaborn has some functions that allow us to generate certain plots we commonly use that can be a bit trickier to generate using just matplotlib.\n",
    "\n",
    "You may need to update seaborn in your environment, and we'll go over how below before we get started.\n",
    "\n",
    "First, you'll need to open up Terminal in a new Launcher window.\n",
    "\n",
    "When terminal opens, type in the following exactly as below:\n",
    "```\n",
    "source activate base\n",
    "```\n",
    "You should see the command line now has something like below:\n",
    "```\n",
    "(base) jovyan@jupyter-CalNetID\n",
    "```\n",
    "Now type in the following to update seaborn:\n",
    "```\n",
    "mamba update seaborn\n",
    "```\n",
    "Accept the update if prompted, and seaborn should be updated to its latest version. You'll need to restart your Python kernal (top right), so that you can import the updated seaborn package by rerunning the code cell above."
   ]
  },
  {
   "cell_type": "markdown",
   "id": "6824b5df-b8b0-4a08-b934-154317d9fc20",
   "metadata": {},
   "source": [
    "<h1 style=\"font-size: 40px; margin-bottom: 0px;\">Week 1 Review</h1>\n",
    "\n",
    "<hr style=\"margin-left: 0px; border: 0.25px solid; border-color: #000000; width: 600px;\"></hr>"
   ]
  },
  {
   "cell_type": "markdown",
   "id": "e7c04303-adc1-4c62-bafb-169c77035b4b",
   "metadata": {},
   "source": [
    "Let's open up our CDC_COVID_CASES.csv file for this review. We'll be making use of both this notebook, and Excel to help visualize what we're doing with the data."
   ]
  },
  {
   "cell_type": "code",
   "execution_count": 2,
   "id": "69a30f30-40e9-4541-8a87-7491cb208c4c",
   "metadata": {},
   "outputs": [],
   "source": [
    "#Import your CDC_COVID_CASES.csv file as a DataFrame\n",
    "#This time you'll need specify the file path because our file is in a different directory:\n",
    "COVID_all = pd.read_csv('~/MCB201B_F2024/Week_1/CDC_COVID_CASES.csv')"
   ]
  },
  {
   "cell_type": "code",
   "execution_count": 3,
   "id": "5b578412-5e54-42e8-867d-955715b0d440",
   "metadata": {},
   "outputs": [
    {
     "name": "stdout",
     "output_type": "stream",
     "text": [
      "  date_updated state  start_date    end_date  tot_cases  new_cases  \\\n",
      "0   01/23/2020    AK  01/16/2020  01/22/2020          0          0   \n",
      "1   01/30/2020    AK  01/23/2020  01/29/2020          0          0   \n",
      "2   02/06/2020    AK  01/30/2020  02/05/2020          0          0   \n",
      "3   02/13/2020    AK  02/06/2020  02/12/2020          0          0   \n",
      "4   02/20/2020    AK  02/13/2020  02/19/2020          0          0   \n",
      "\n",
      "   tot_deaths  new_deaths  new_historic_cases  new_historic_deaths  \n",
      "0           0           0                   0                    0  \n",
      "1           0           0                   0                    0  \n",
      "2           0           0                   0                    0  \n",
      "3           0           0                   0                    0  \n",
      "4           0           0                   0                    0  \n"
     ]
    }
   ],
   "source": [
    "#Let's take a look to make sure that we have our DataFrame:\n",
    "print(COVID_all.head())"
   ]
  },
  {
   "cell_type": "markdown",
   "id": "b8d317ef-50b2-4551-b3fb-a0160bb4178d",
   "metadata": {},
   "source": [
    "<h2 style=\"font-size: 32px;\">Retrieve row(s) from a DataFrame</h2>"
   ]
  },
  {
   "cell_type": "markdown",
   "id": "c3bd1df3-d794-42b5-a654-b57fe6fc2a30",
   "metadata": {},
   "source": [
    "Recall that to retrieve a row, you'll make use of the <mark style=\"background-color: #EEEEEE;\"><strong>pandas.DataFrame.loc</strong></mark> attribute. This allows us to retrieve rows based on their assigned labels or index.\n",
    "```\n",
    "COVID_all.loc[865]\n",
    "```\n",
    "\n",
    "If we assigned index labels, then we could retrieve our data with the label instead using the same syntax."
   ]
  },
  {
   "cell_type": "code",
   "execution_count": 4,
   "id": "eb68befa-6c5f-4078-ab62-1b6cbe6bca90",
   "metadata": {},
   "outputs": [
    {
     "name": "stdout",
     "output_type": "stream",
     "text": [
      "Here, output of a single row based on index value\n",
      "date_updated           01/23/2020\n",
      "state                          CA\n",
      "start_date             01/16/2020\n",
      "end_date               01/22/2020\n",
      "tot_cases                       0\n",
      "new_cases                       0\n",
      "tot_deaths                      0\n",
      "new_deaths                      0\n",
      "new_historic_cases              0\n",
      "new_historic_deaths             0\n",
      "Name: 865, dtype: object\n",
      " \n",
      "Here, output multiple rows using slice notation based on index value\n",
      "    date_updated state  start_date    end_date  tot_cases  new_cases  \\\n",
      "865   01/23/2020    CA  01/16/2020  01/22/2020          0          0   \n",
      "866   01/30/2020    CA  01/23/2020  01/29/2020          2          2   \n",
      "867   02/06/2020    CA  01/30/2020  02/05/2020          8          6   \n",
      "\n",
      "     tot_deaths  new_deaths  new_historic_cases  new_historic_deaths  \n",
      "865           0           0                   0                    0  \n",
      "866           0           0                   0                    0  \n",
      "867           0           0                   0                    0  \n"
     ]
    }
   ],
   "source": [
    "#You can if you want change how you visually arrange your code in the code cell:\n",
    "#This is just a personal choice on how you prefer to write out your code\n",
    "#It doesn't have an impact on the output unless you change the syntax\n",
    "print(\n",
    "    'Here, output of a single row based on index value'\n",
    ")\n",
    "\n",
    "print( #broken up into multiple lines for each argument\n",
    "    COVID_all.loc[865], #you can put a comment here that says row 865\n",
    "    end='\\n \\n'#you can also put a comment here that shows two line breaks\n",
    ")\n",
    "\n",
    "print(\n",
    "    'Here, output multiple rows using slice notation based on index value'\n",
    ")\n",
    "\n",
    "print(\n",
    "    COVID_all.loc[865:867]\n",
    ")"
   ]
  },
  {
   "cell_type": "markdown",
   "id": "d6c1e846-1aa1-48b8-81da-fff0dad35fea",
   "metadata": {},
   "source": [
    "<h2 style=\"font-size: 32px;\">Retrieve column(s) from a DataFrame</h2>"
   ]
  },
  {
   "cell_type": "markdown",
   "id": "9a55a78b-61cc-4f30-b3b7-8f839acbd848",
   "metadata": {},
   "source": [
    "Similarly, to retrieve a column, you can treat your DataFrame as if it were a dictionary.\n",
    "```\n",
    "COVID_all['end_date']\n",
    "```\n",
    "\n",
    "Or if your column has the default headers, you can go by the default assigned values."
   ]
  },
  {
   "cell_type": "code",
   "execution_count": 5,
   "id": "2a55bed8-984d-4705-84a2-2a5158cbb26f",
   "metadata": {},
   "outputs": [
    {
     "name": "stdout",
     "output_type": "stream",
     "text": [
      "Here, output a single column based on label\n",
      "0        01/22/2020\n",
      "1        01/29/2020\n",
      "2        02/05/2020\n",
      "3        02/12/2020\n",
      "4        02/19/2020\n",
      "            ...    \n",
      "10375    04/12/2023\n",
      "10376    04/19/2023\n",
      "10377    04/26/2023\n",
      "10378    05/03/2023\n",
      "10379    05/10/2023\n",
      "Name: end_date, Length: 10380, dtype: object\n",
      " \n",
      "Output multiple columns based on their label\n",
      "by using lists\n",
      "  state    end_date date_updated\n",
      "0    AK  01/22/2020   01/23/2020\n",
      "1    AK  01/29/2020   01/30/2020\n",
      "2    AK  02/05/2020   02/06/2020\n",
      "3    AK  02/12/2020   02/13/2020\n",
      "4    AK  02/19/2020   02/20/2020\n"
     ]
    }
   ],
   "source": [
    "print(\n",
    "    'Here, output a single column based on label'\n",
    ")\n",
    "\n",
    "print(\n",
    "    COVID_all['end_date'],\n",
    "    end='\\n \\n'\n",
    ")\n",
    "\n",
    "print(\n",
    "    'Output multiple columns based on their label',\n",
    "    'by using lists',\n",
    "    sep='\\n'\n",
    ")\n",
    "\n",
    "print(\n",
    "    COVID_all[[\n",
    "        'state',\n",
    "        'end_date',\n",
    "        'date_updated'\n",
    "    ]].head()\n",
    ")"
   ]
  },
  {
   "cell_type": "markdown",
   "id": "0a69b996-47a5-4b2b-81f2-883a28f70e5f",
   "metadata": {},
   "source": [
    "<h2 style=\"font-size: 32px;\">Retrieve a single element from your DataFrame</h2>"
   ]
  },
  {
   "cell_type": "markdown",
   "id": "c62fbee4-41f9-4476-a920-b6ce8d988636",
   "metadata": {},
   "source": [
    "Retrieving a single element is like retrieving a row first, and then from the row, retrieving a single column. So an element can be thought of as the intersection of a row and a column.\n",
    "```\n",
    "COVID_all.loc[865]['state']\n",
    "```\n",
    "You are telling Python to slice a row, and from that slice, you have Python slice it further."
   ]
  },
  {
   "cell_type": "code",
   "execution_count": 6,
   "id": "f1544e26-1c1c-4637-a39d-f14c3b9a2865",
   "metadata": {},
   "outputs": [
    {
     "name": "stdout",
     "output_type": "stream",
     "text": [
      "To pull a single element:\n",
      "CA\n",
      " \n",
      "To pull a single element in one step:\n",
      "CA\n"
     ]
    }
   ],
   "source": [
    "print(\n",
    "    'To pull a single element:'\n",
    ")\n",
    "\n",
    "print(\n",
    "    COVID_all.loc[865]['state'],\n",
    "    end='\\n \\n'\n",
    ")\n",
    "\n",
    "print(\n",
    "    'To pull a single element in one step:'\n",
    ")\n",
    "\n",
    "print(\n",
    "    COVID_all.loc[865, 'state']\n",
    ")"
   ]
  },
  {
   "cell_type": "markdown",
   "id": "5908066e-66dd-4fa7-a521-b91155095f75",
   "metadata": {},
   "source": [
    "<h2 style=\"font-size: 32px;\">Applying a filter to your DataFrame</h2>"
   ]
  },
  {
   "cell_type": "markdown",
   "id": "c2689bb7-902e-4af6-a9a4-538dc336db87",
   "metadata": {},
   "source": [
    "Like with Excel, we can apply a filter to our data in order to look at only the subset of data that we're interested in. To do this in Python, you'll need to make use of conditional statements.\n",
    "```\n",
    "COVID_all['state'] == 'CA'\n",
    "```\n",
    "Let's take a look at what this conditional statement is doing in Python by breaking it down into smaller parts, and having Python print the output. This way, we can get a better idea of how Python is interpreting this statement."
   ]
  },
  {
   "cell_type": "code",
   "execution_count": 7,
   "id": "45f05381-e97f-492c-85b4-b9d185f38cb6",
   "metadata": {},
   "outputs": [
    {
     "name": "stdout",
     "output_type": "stream",
     "text": [
      "Have Python retrieve the information within a specific column\n",
      "0        AK\n",
      "1        AK\n",
      "2        AK\n",
      "3        AK\n",
      "4        AK\n",
      "         ..\n",
      "10375    WY\n",
      "10376    WY\n",
      "10377    WY\n",
      "10378    WY\n",
      "10379    WY\n",
      "Name: state, Length: 10380, dtype: object\n",
      " \n",
      "Apply a conditional statement to each element of that column\n",
      "0        False\n",
      "1        False\n",
      "2        False\n",
      "3        False\n",
      "4        False\n",
      "         ...  \n",
      "10375    False\n",
      "10376    False\n",
      "10377    False\n",
      "10378    False\n",
      "10379    False\n",
      "Name: state, Length: 10380, dtype: bool\n",
      " \n"
     ]
    }
   ],
   "source": [
    "print(\n",
    "    'Have Python retrieve the information within a specific column'\n",
    ")\n",
    "\n",
    "print(\n",
    "    COVID_all['state'],\n",
    "    end='\\n \\n'\n",
    ")\n",
    "\n",
    "print(\n",
    "    'Apply a conditional statement to each element of that column'\n",
    ")\n",
    "\n",
    "print(\n",
    "    COVID_all['state'] == 'CA',\n",
    "    end='\\n \\n'\n",
    ")"
   ]
  },
  {
   "cell_type": "markdown",
   "id": "32c4e80e-d8a7-481a-8312-0bf9fb7801c1",
   "metadata": {},
   "source": [
    "So what Python is doing is going into the column we indicate, and then applying a conditional statement to each element in that column. Then, it will output a Series of Boolean values. Recall that Boolean values are the resulting output of a conditional statement."
   ]
  },
  {
   "cell_type": "markdown",
   "id": "5d38a275-a146-449a-b23f-bbcd60c84e2b",
   "metadata": {},
   "source": [
    "Then, we can have Python take the resulting output and use it as a guide that tells Python what rows we want it to retrieve from our full <mark style=\"background-color: #EEEEEE;\"><strong>COVID_all</strong></mark> dataset.\n",
    "```\n",
    "COVID_all.loc[COVID_all['state'] == 'CA']]\n",
    "```\n",
    "\n",
    "The <mark style=\"background-color: #EEEEEE;\"><strong>True</strong></mark> values tell Python to retrieve that corresponding row, while the <mark style=\"background-color: #EEEEEE;\"><strong>False</strong></mark> values will not be retrieved."
   ]
  },
  {
   "cell_type": "code",
   "execution_count": 8,
   "id": "fd5718bd-0ffe-4990-b473-1a6591d43c1e",
   "metadata": {},
   "outputs": [
    {
     "name": "stdout",
     "output_type": "stream",
     "text": [
      "Use the boolean values as a guide to pull out specific rows\n",
      "True means that Python will pull out a row\n",
      "False means that Python wont pull out a row\n",
      "     date_updated state  start_date    end_date  tot_cases  new_cases  \\\n",
      "865    01/23/2020    CA  01/16/2020  01/22/2020          0          0   \n",
      "866    01/30/2020    CA  01/23/2020  01/29/2020          2          2   \n",
      "867    02/06/2020    CA  01/30/2020  02/05/2020          8          6   \n",
      "868    02/13/2020    CA  02/06/2020  02/12/2020         16          8   \n",
      "869    02/20/2020    CA  02/13/2020  02/19/2020         30         14   \n",
      "...           ...   ...         ...         ...        ...        ...   \n",
      "1033   04/13/2023    CA  04/06/2023  04/12/2023   12205573      11054   \n",
      "1034   04/20/2023    CA  04/13/2023  04/19/2023   12218091      12518   \n",
      "1035   04/27/2023    CA  04/20/2023  04/26/2023   12230624      12533   \n",
      "1036   05/04/2023    CA  04/27/2023  05/03/2023   12242634      12010   \n",
      "1037   05/11/2023    CA  05/04/2023  05/10/2023   12251820       9186   \n",
      "\n",
      "      tot_deaths  new_deaths  new_historic_cases  new_historic_deaths  \n",
      "865            0           0                   0                    0  \n",
      "866            0           0                   0                    0  \n",
      "867            0           0                   0                    0  \n",
      "868            0           0                   0                    0  \n",
      "869            0           0                   0                    0  \n",
      "...          ...         ...                 ...                  ...  \n",
      "1033      101434         124                   0                    0  \n",
      "1034      101549         115                   0                    0  \n",
      "1035      101663         114                   0                    0  \n",
      "1036      101777         114                   0                    0  \n",
      "1037      101886         109                   0                    0  \n",
      "\n",
      "[173 rows x 10 columns]\n"
     ]
    }
   ],
   "source": [
    "print(\n",
    "    'Use the boolean values as a guide to pull out specific rows',\n",
    "    'True means that Python will pull out a row',\n",
    "    'False means that Python wont pull out a row',\n",
    "    sep='\\n'\n",
    ")\n",
    "\n",
    "print(\n",
    "    COVID_all.loc[COVID_all['state'] == 'CA']\n",
    ")"
   ]
  },
  {
   "cell_type": "markdown",
   "id": "19915b89-46d6-4f36-baa4-8f51e9eb64b0",
   "metadata": {},
   "source": [
    "<h2 style=\"font-size: 32px;\">Reorganizing your DataFrame</h2>"
   ]
  },
  {
   "cell_type": "markdown",
   "id": "69c02f6c-ab9a-48ab-9873-07991df0234e",
   "metadata": {},
   "source": [
    "Like in Excel, recall that you can also reorganize your data in Python.\n",
    "\n",
    "To reorganize your rows, you can make use of the <mark style=\"background-color: #EEEEEE;\"><strong>pandas.DataFrame.sort_values()</strong></mark> function. \n",
    "```\n",
    "COVID_all.sort_values(by=['date_updated'])\n",
    "```\n",
    "Additional arguments allow you to control if you want to sort in ascending or descending order and indicate how you want Python to handle <mark style=\"background-color: #EEEEEE;\"><strong>NaN</strong></mark> values (empty cells)."
   ]
  },
  {
   "cell_type": "code",
   "execution_count": 9,
   "id": "cbbb5693-6a57-4d0e-b283-f99619d1d068",
   "metadata": {},
   "outputs": [
    {
     "name": "stdout",
     "output_type": "stream",
     "text": [
      "Sort our DataFrame by the date updated column\n",
      "     date_updated state  start_date    end_date  tot_cases  new_cases  \\\n",
      "6901   01/05/2023   NYC  12/29/2022  01/04/2023    3140216      22437   \n",
      "3787   01/05/2023    LA  12/29/2022  01/04/2023    1521203       7090   \n",
      "6728   01/05/2023    NY  12/29/2022  01/04/2023    3446004      17724   \n",
      "2403   01/05/2023    GU  12/29/2022  01/04/2023      60087        161   \n",
      "4825   01/05/2023    MO  12/29/2022  01/04/2023    1730256       6783   \n",
      "...           ...   ...         ...         ...        ...        ...   \n",
      "4720   12/31/2020    MO  12/24/2020  12/30/2020     430300      20927   \n",
      "9910   12/31/2020    WI  12/24/2020  12/30/2020     516226      15782   \n",
      "49     12/31/2020    AK  12/24/2020  12/30/2020      45802       1724   \n",
      "3509   12/31/2020    KY  12/24/2020  12/30/2020     264829      14773   \n",
      "1260   12/31/2020    CT  12/24/2020  12/30/2020     183663      12958   \n",
      "\n",
      "      tot_deaths  new_deaths  new_historic_cases  new_historic_deaths  \n",
      "6901       44031         199                   0                    0  \n",
      "3787       18394          24                   0                    0  \n",
      "6728       31073         129                   0                    0  \n",
      "2403         411           0                   0                    0  \n",
      "4825       22319          70                   0                    0  \n",
      "...          ...         ...                 ...                  ...  \n",
      "4720        8158         476                   0                    0  \n",
      "9910        5191         238                   0                    0  \n",
      "49           203           7                   0                    0  \n",
      "3509        2621         157                   0                    0  \n",
      "1260        5964         229                   0                    0  \n",
      "\n",
      "[10380 rows x 10 columns]\n"
     ]
    }
   ],
   "source": [
    "print(\n",
    "    'Sort our DataFrame by the date updated column'\n",
    ")\n",
    "\n",
    "print(\n",
    "    COVID_all.sort_values(by=['date_updated'])\n",
    ")"
   ]
  },
  {
   "cell_type": "markdown",
   "id": "96b6506c-dbc9-45c4-9274-bcc115342f12",
   "metadata": {},
   "source": [
    "To reorganize columns, you can pass a list of your reorganized columns when you have Python retrieve columns from your dataset. This also lets you simultaneously select which columns you want if you only want a subset of them.\n",
    "```\n",
    "COVID_all[['state', 'start_date', 'end_date', 'date_updated', 'new_cases']]\n",
    "```"
   ]
  },
  {
   "cell_type": "code",
   "execution_count": 10,
   "id": "3b640abe-c09f-4618-acf0-d65319423ec7",
   "metadata": {},
   "outputs": [
    {
     "name": "stdout",
     "output_type": "stream",
     "text": [
      "Reorganize our columns by specifying the order in which Python pulls columns\n",
      "from our original DataFrame\n",
      "      state  start_date    end_date date_updated  new_cases\n",
      "0        AK  01/16/2020  01/22/2020   01/23/2020          0\n",
      "1        AK  01/23/2020  01/29/2020   01/30/2020          0\n",
      "2        AK  01/30/2020  02/05/2020   02/06/2020          0\n",
      "3        AK  02/06/2020  02/12/2020   02/13/2020          0\n",
      "4        AK  02/13/2020  02/19/2020   02/20/2020          0\n",
      "...     ...         ...         ...          ...        ...\n",
      "10375    WY  04/06/2023  04/12/2023   04/13/2023        158\n",
      "10376    WY  04/13/2023  04/19/2023   04/20/2023        115\n",
      "10377    WY  04/20/2023  04/26/2023   04/27/2023        140\n",
      "10378    WY  04/27/2023  05/03/2023   05/04/2023        129\n",
      "10379    WY  05/04/2023  05/10/2023   05/11/2023        366\n",
      "\n",
      "[10380 rows x 5 columns]\n"
     ]
    }
   ],
   "source": [
    "print(\n",
    "    'Reorganize our columns by specifying the order in which Python pulls columns',\n",
    "    'from our original DataFrame',\n",
    "    sep='\\n'\n",
    ")\n",
    "\n",
    "print(COVID_all[[\n",
    "    'state',\n",
    "    'start_date',\n",
    "    'end_date',\n",
    "    'date_updated',\n",
    "    'new_cases'\n",
    "]])"
   ]
  },
  {
   "cell_type": "markdown",
   "id": "de194f42-e2a2-47d5-aa6b-e240abdc67d7",
   "metadata": {},
   "source": [
    "<h1 style=\"font-size: 40px; margin-bottom: 0px;\">In-class exercise #1</h1>\n",
    "\n",
    "<hr style=\"margin-left: 0px; border: 0.25px solid; border-color: #000000; width: 600px;\"></hr>"
   ]
  },
  {
   "cell_type": "markdown",
   "id": "cc37cc3a-37ca-4306-9b20-4b28905ae8cd",
   "metadata": {},
   "source": [
    "Recall from MCB201A Experiment 10, we used a spectrophotometer to measure the absorbances of a set of BSA dilutions in order to generate a standard curve. In this exercise, you'll practice working with DataFrames and performing operations on them. Then, you'll plot the resulting dataset in a scatterplot using matplotlib's <mark style=\"background-color: #EEEEEE;\"><strong>matplotlib.pyplot.plot()</strong></mark> function with one additional argument to specify how you want your line plot to look. \n",
    "\n",
    "Alternatively, you can also use the <mark style=\"background-color: #EEEEEE;\"><strong>matplotlib.pyplot.scatter()</strong></mark> function. <u><a href=\"https://matplotlib.org/stable/api/_as_gen/matplotlib.pyplot.scatter.html\" rel=\"noopener noreferrer\" target=\"_blank\">Documentation for that is here</a></u>. \n",
    "\n",
    "Although we won't generate a regression curve, the raw data of absorbances provides a simple dataset to practice playing with datasets in Python.\n",
    "\n",
    "I'll walk around as you work through this exercise to see how everyone is doing and to answer questions."
   ]
  },
  {
   "cell_type": "markdown",
   "id": "f77f954f-ef1c-4e4f-9cb9-3f549d983a9e",
   "metadata": {},
   "source": [
    "<h2>1. Tidy up Excel spreadsheet</h2>"
   ]
  },
  {
   "cell_type": "markdown",
   "id": "3b6b2b56-a4ca-40d0-a7cd-ec7b7ef21fd8",
   "metadata": {},
   "source": [
    "First, we'll tidy up our raw data to make it easier for us to work with in Python. You can do this in Excel and just use the absorbances for the standards. No need to worry about your samples or a RIPA blank for this exercise.\n",
    "\n",
    "You can try to create a new Excel or CSV file that resembles something like the below:\n",
    "\n",
    "<table style=\"margin-left: 0px;\">\n",
    "    <tr>\n",
    "        <th style=\"background-color: none; border-left: none; border-top: none; width: 75px;\">&nbsp;</th>\n",
    "        <th style=\"background-color: #EEEEEE; border: 1px solid; border-color: #000000; width: 75px;\">2</th>\n",
    "        <th style=\"background-color: #EEEEEE; border: 1px solid; border-color: #000000; width: 75px;\">1.5</th>\n",
    "        <th style=\"background-color: #EEEEEE; border: 1px solid; border-color: #000000; width: 75px;\">1</th>\n",
    "        <th style=\"background-color: #EEEEEE; border: 1px solid; border-color: #000000; width: 75px;\">0.75</th>\n",
    "        <th style=\"background-color: #EEEEEE; border: 1px solid; border-color: #000000; width: 75px;\">0.5</th>\n",
    "        <th style=\"background-color: #EEEEEE; border: 1px solid; border-color: #000000; width: 75px;\">0.25</th>\n",
    "        <th style=\"background-color: #EEEEEE; border: 1px solid; border-color: #000000; width: 75px;\">0.125</th>\n",
    "        <th style=\"background-color: #EEEEEE; border: 1px solid; border-color: #000000; width: 75px;\">0.025</th>\n",
    "        <th style=\"background-color: #EEEEEE; border: 1px solid; border-color: #000000; width: 75px;\">0</th>\n",
    "    </tr>\n",
    "    <tr>\n",
    "        <td style=\"background-color: #EEEEEE; border: 1px solid; border-color: #000000; \"><strong>rep_1</strong></td>\n",
    "        <td style=\"background-color: #FFFFFF; border: 1px solid; border-color: #000000;\">&nbsp;</td>\n",
    "        <td style=\"background-color: #FFFFFF; border: 1px solid; border-color: #000000;\">&nbsp;</td>\n",
    "        <td style=\"background-color: #FFFFFF; border: 1px solid; border-color: #000000;\">&nbsp;</td>\n",
    "        <td style=\"background-color: #FFFFFF; border: 1px solid; border-color: #000000;\">&nbsp;</td>\n",
    "        <td style=\"background-color: #FFFFFF; border: 1px solid; border-color: #000000;\">&nbsp;</td>\n",
    "        <td style=\"background-color: #FFFFFF; border: 1px solid; border-color: #000000;\">&nbsp;</td>\n",
    "        <td style=\"background-color: #FFFFFF; border: 1px solid; border-color: #000000;\">&nbsp;</td>\n",
    "        <td style=\"background-color: #FFFFFF; border: 1px solid; border-color: #000000;\">&nbsp;</td>\n",
    "        <td style=\"background-color: #FFFFFF; border: 1px solid; border-color: #000000;\">&nbsp;</td>\n",
    "    </tr>\n",
    "    <tr>\n",
    "        <td style=\"background-color: #EEEEEE; border: 1px solid; border-color: #000000; \"><strong>rep_2</strong></td>\n",
    "        <td style=\"background-color: #FFFFFF; border: 1px solid; border-color: #000000;\">&nbsp;</td>\n",
    "        <td style=\"background-color: #FFFFFF; border: 1px solid; border-color: #000000;\">&nbsp;</td>\n",
    "        <td style=\"background-color: #FFFFFF; border: 1px solid; border-color: #000000;\">&nbsp;</td>\n",
    "        <td style=\"background-color: #FFFFFF; border: 1px solid; border-color: #000000;\">&nbsp;</td>\n",
    "        <td style=\"background-color: #FFFFFF; border: 1px solid; border-color: #000000;\">&nbsp;</td>\n",
    "        <td style=\"background-color: #FFFFFF; border: 1px solid; border-color: #000000;\">&nbsp;</td>\n",
    "        <td style=\"background-color: #FFFFFF; border: 1px solid; border-color: #000000;\">&nbsp;</td>\n",
    "        <td style=\"background-color: #FFFFFF; border: 1px solid; border-color: #000000;\">&nbsp;</td>\n",
    "        <td style=\"background-color: #FFFFFF; border: 1px solid; border-color: #000000;\">&nbsp;</td>\n",
    "    </tr></table>"
   ]
  },
  {
   "cell_type": "markdown",
   "id": "1259d200-e113-4c53-a9c8-538aea7f808f",
   "metadata": {},
   "source": [
    "<h2>2. Import spreadsheet into notebook</h2>"
   ]
  },
  {
   "cell_type": "markdown",
   "id": "956c7b21-5357-4b87-88f3-f5aac5b71b62",
   "metadata": {},
   "source": [
    "Upload your Excel or CSV file to your directory for this week, and then you can import the file into this notebook.\n",
    "\n",
    "If you saved as an .xlsx file, then you'll want to make use of the <mark style=\"background-color: #EEEEEE;\"><strong>pandas.read_excel()</strong></mark> function.\n",
    "\n",
    "If you saved as an .csv file, then you'll use the <mark style=\"background-color: #EEEEEE;\"><strong>pandas.read_csv()</strong></mark> function.\n",
    "\n",
    "Since our spreadsheet contains row and column labels, we'll pass additional arguments through the function.\n",
    "```\n",
    "index_col=0\n",
    "```\n",
    "By including this argument, you tell Python that your spreadsheet contains row labels in the first column (position 0)\n",
    "\n",
    "```\n",
    "header=0\n",
    "```\n",
    "By including this argument, you tell Python that the first row (position 0) contains your header labels.\n",
    "\n",
    "Remember that you'll want to separate each parameter with a comma when you call up the function."
   ]
  },
  {
   "cell_type": "code",
   "execution_count": 12,
   "id": "7cd9259f-9bf1-4ed2-8c5f-346e6421ffdb",
   "metadata": {},
   "outputs": [
    {
     "name": "stdout",
     "output_type": "stream",
     "text": [
      "            2     1.5       1    0.75     0.5    0.25   0.125   0.025       0\n",
      "rep_1  2.7136  2.2621  1.6385  1.3747  1.0493  0.7043  0.5296  0.3943  0.3834\n",
      "rep_2  2.6848  2.2493  1.7027  1.3523  1.0900  0.7079  0.5490  0.3867  0.3576\n"
     ]
    }
   ],
   "source": [
    "raw_absorbances = pd.read_csv('BSA_ABSORBANCES.csv', index_col=0, header=0) #remember that when you pass arguments to a function, it should be in the parentheses\n",
    "\n",
    "print(raw_absorbances.head())"
   ]
  },
  {
   "cell_type": "markdown",
   "id": "98cbc252-a48e-442a-ac1e-69674ecacf70",
   "metadata": {},
   "source": [
    "<h2>3. Calculate mean absorbances</h2>"
   ]
  },
  {
   "cell_type": "markdown",
   "id": "b27dfb15-f84c-476a-b3c1-1e5e86897deb",
   "metadata": {},
   "source": [
    "Once we have our dataset imported, let's calculate the mean values using the <mark style=\"background-color: #EEEEEE;\"><strong>DataFrame.mean()</strong></mark> function (and if you want, save it as another DataFrame). We can tell Python that we want to take the average for each column by specifying the axis on which the operation will be performed.\n",
    "```\n",
    "DataFrame.mean(axis=0)\n",
    "```"
   ]
  },
  {
   "cell_type": "code",
   "execution_count": 13,
   "id": "4b3d4545-cefa-4dae-bf3a-0948abff6a93",
   "metadata": {},
   "outputs": [
    {
     "name": "stdout",
     "output_type": "stream",
     "text": [
      "2        2.69920\n",
      "1.5      2.25570\n",
      "1        1.67060\n",
      "0.75     1.36350\n",
      "0.5      1.06965\n",
      "0.25     0.70610\n",
      "0.125    0.53930\n",
      "0.025    0.39050\n",
      "0        0.37050\n",
      "dtype: float64\n",
      "<class 'pandas.core.series.Series'>\n",
      "        2     1.5       1    0.75      0.5    0.25   0.125   0.025       0\n",
      "0  2.6992  2.2557  1.6706  1.3635  1.06965  0.7061  0.5393  0.3905  0.3705\n",
      "<class 'pandas.core.frame.DataFrame'>\n"
     ]
    }
   ],
   "source": [
    "mean_absorbances = raw_absorbances.mean(axis=0)\n",
    "\n",
    "print(mean_absorbances)\n",
    "\n",
    "print(type(mean_absorbances))\n",
    "\n",
    "mean_abs_df = pd.DataFrame(mean_absorbances).transpose() #this will get  you a dataframe similar to what we imported\n",
    "\n",
    "print(mean_abs_df)\n",
    "print(type(mean_abs_df))"
   ]
  },
  {
   "cell_type": "markdown",
   "id": "957af1a4-ef5e-46f8-8cdd-0b4471cc91c0",
   "metadata": {},
   "source": [
    "Print out your mean absorbances. What do you notice about the data? What type of data is it? Are there additional things you should do before you can use this output?"
   ]
  },
  {
   "cell_type": "markdown",
   "id": "21bf6756-3120-4a30-b6bb-d0229ff9e621",
   "metadata": {},
   "source": [
    "<h2>4. Correct for background absorbance</h2>"
   ]
  },
  {
   "cell_type": "markdown",
   "id": "92423b90-3212-4ba6-8eba-c82cd114abb3",
   "metadata": {},
   "source": [
    "This is where some of your approaches may differ. You'll see that there are multiple ways to do something depending on how you set up your data prior to this.\n",
    "\n",
    "<strong>If you created a DataFrame for your mean absorbances:</strong></br>\n",
    "You can take the mean background (0 mg/ml BSA) and subtract that from your <mark style=\"background-color: #EEEEEE;\"><strong>absorbance_mean</strong></mark> to get <mark style=\"background-color: #EEEEEE;\"><strong>corrected_mean_abs</strong></mark>. We'll have to make use of the pandas.DataFrame.sub() function.\n",
    "```\n",
    "corrected_mean_abs = absorbance_mean.sub(absorbance_mean['0'], axis=0)\n",
    "```\n",
    "\n",
    "<strong>If you kept your mean absorbances as a pandas Series:</strong></br>\n",
    "You can take the mean background and subtract that from each element.\n",
    "```\n",
    "corrected_mean_abs = absorbance_mean - absorbance_mean.loc['0']\n",
    "```"
   ]
  },
  {
   "cell_type": "code",
   "execution_count": 15,
   "id": "4f0f77f9-49be-4b6c-800b-84773caf9030",
   "metadata": {},
   "outputs": [
    {
     "name": "stdout",
     "output_type": "stream",
     "text": [
      "        2     1.5       1   0.75      0.5    0.25   0.125  0.025    0\n",
      "0  2.3287  1.8852  1.3001  0.993  0.69915  0.3356  0.1688   0.02  0.0\n",
      "<class 'pandas.core.frame.DataFrame'>\n",
      "Index(['2', '1.5', '1', '0.75', '0.5', '0.25', '0.125', '0.025', '0'], dtype='object')\n",
      "<class 'str'>\n"
     ]
    }
   ],
   "source": [
    "#since we're working with a dataframe:\n",
    "corrected_mean_abs = mean_abs_df.sub(mean_abs_df['0'], axis=0)\n",
    "\n",
    "#Check to see if things look right:\n",
    "print(corrected_mean_abs)\n",
    "\n",
    "#we can also check our object type\n",
    "print(type(corrected_mean_abs))\n",
    "\n",
    "#let's see what object type our column labels are\n",
    "print(corrected_mean_abs.columns)\n",
    "print(type(corrected_mean_abs.columns[0]))\n",
    "\n",
    "#since they're strings, they hold no numerical value, so we need to convert them to int or float before we plot"
   ]
  },
  {
   "cell_type": "markdown",
   "id": "34a582a0-020e-423c-94ba-986e59195cc5",
   "metadata": {},
   "source": [
    "<h2>5. Plot your corrected mean absorbance values</h2>"
   ]
  },
  {
   "cell_type": "markdown",
   "id": "4071d5b9-7585-4a9e-b7ec-1b5febdee68f",
   "metadata": {},
   "source": [
    "Now let's prepare to plot our data. We want Python to understand that there's a specific concentration associated with each column, so we can replace the labels with actual numbers.\n",
    "\n",
    "<strong>If you are working with a DataFrame:</strong></br>\n",
    "You'll be changing your column headers, so will need to pass your argument through the <mark style=\"background-color: #EEEEEE;\"><strong>columns</strong></mark> parameter. Don't forget that you can treat this change as if you were pairing things together in a dictionary, so you'll be using dictionary-like syntax. You're essentially mapping a new value to your old label in order to update it.\n",
    "```\n",
    "DataFrame.rename(columns={'key1': float1, 'key2': float2, ...})\n",
    "```\n",
    "\n",
    "<strong>If you are working with a Series:</strong></br>\n",
    "You'll instead be changing your index labels with the same function and same dictionary-like syntax, but you don't need to specify index or columns, since Series are one-dimensional.\n",
    "```\n",
    "Series.rename({'key1': float1, 'key2': float2, ...})\n",
    "```"
   ]
  },
  {
   "cell_type": "code",
   "execution_count": 16,
   "id": "a0630592-9a46-402c-879d-039afe02582a",
   "metadata": {},
   "outputs": [
    {
     "name": "stdout",
     "output_type": "stream",
     "text": [
      "    2.000   1.500   1.000  0.750    0.500   0.250   0.125  0.025  0.000\n",
      "0  2.3287  1.8852  1.3001  0.993  0.69915  0.3356  0.1688   0.02    0.0\n",
      "<class 'numpy.float64'>\n",
      "    2.000   1.500   1.000  0.750    0.500   0.250   0.125  0.025  0.000\n",
      "0  2.3287  1.8852  1.3001  0.993  0.69915  0.3356  0.1688   0.02    0.0\n"
     ]
    }
   ],
   "source": [
    "#You can rename each column one by one:\n",
    "updated_df = corrected_mean_abs.rename(columns={'2':2.0, \n",
    "                                                '1.5':1.5, \n",
    "                                                '1': 1.0, \n",
    "                                                '0.75': 0.75, \n",
    "                                                '0.5': 0.5,\n",
    "                                                '0.25': 0.25,\n",
    "                                                '0.125':0.125,\n",
    "                                                '0.025':0.025,\n",
    "                                                '0':0})\n",
    "\n",
    "print(updated_df)\n",
    "\n",
    "print(type(updated_df.columns[0]))\n",
    "\n",
    "#Or in our case you can pull out the columns and convert them to numeric\n",
    "updated_header = pd.to_numeric(corrected_mean_abs.columns)\n",
    "\n",
    "#You can also reassign the converted headers back\n",
    "corrected_mean_abs.columns = updated_header\n",
    "\n",
    "print(corrected_mean_abs)"
   ]
  },
  {
   "cell_type": "markdown",
   "id": "fa12f880-d634-4405-9d1e-f1071b4efb2c",
   "metadata": {},
   "source": [
    "Now, let's create a scatter plot our data points using column headers for the x-axis values with the <mark style=\"background-color: #EEEEEE;\"><strong>pandas.DataFrame.columns</strong></mark> attribute.\n",
    "\n",
    "In this case, since we want our markers to be dots, we can pass an additional argument through the <mark style=\"background-color: #EEEEEE;\"><strong>matplotlib.pyplot.plot()</strong></mark> function after we have specified our x-values and our y-values. The additional argument will be <mark style=\"background-color: #EEEEEE;\"><strong>'o'</strong></mark>."
   ]
  },
  {
   "cell_type": "code",
   "execution_count": 17,
   "id": "7ff360a8-e3ae-40de-8bb5-76fb9f08bb7a",
   "metadata": {},
   "outputs": [
    {
     "data": {
      "text/plain": [
       "[<matplotlib.lines.Line2D at 0x7f2e52c6aad0>]"
      ]
     },
     "execution_count": 17,
     "metadata": {},
     "output_type": "execute_result"
    },
    {
     "data": {
      "image/png": "[encoded data removed]",
      "text/plain": [
       "<Figure size 640x480 with 1 Axes>"
      ]
     },
     "metadata": {},
     "output_type": "display_data"
    }
   ],
   "source": [
    "#Multiple ways to plot depending on how you set it up\n",
    "plt.plot(updated_header, updated_df.loc[0], 'o')"
   ]
  },
  {
   "cell_type": "code",
   "execution_count": 22,
   "id": "36ac11c6-50c7-4bc1-9e45-9e9eb7ec9c48",
   "metadata": {},
   "outputs": [
    {
     "data": {
      "text/plain": [
       "[<matplotlib.lines.Line2D at 0x7f2e52a94c50>]"
      ]
     },
     "execution_count": 22,
     "metadata": {},
     "output_type": "execute_result"
    },
    {
     "data": {
      "image/png": "[encoded data removed]",
      "text/plain": [
       "<Figure size 640x480 with 1 Axes>"
      ]
     },
     "metadata": {},
     "output_type": "display_data"
    }
   ],
   "source": [
    "#or\n",
    "plt.plot(corrected_mean_abs.columns, corrected_mean_abs.loc[0], 'o')"
   ]
  },
  {
   "cell_type": "markdown",
   "id": "9faaea79-4d31-409b-ac84-2cb7412f89f5",
   "metadata": {},
   "source": [
    "Or if you used a Series:"
   ]
  },
  {
   "cell_type": "code",
   "execution_count": 27,
   "id": "59342ad7-118c-4cea-a06c-584f5db69294",
   "metadata": {},
   "outputs": [
    {
     "name": "stdout",
     "output_type": "stream",
     "text": [
      "<class 'pandas.core.series.Series'>\n"
     ]
    },
    {
     "data": {
      "image/png": "[encoded data removed]",
      "text/plain": [
       "<Figure size 640x480 with 1 Axes>"
      ]
     },
     "metadata": {},
     "output_type": "display_data"
    }
   ],
   "source": [
    "#You can just input your series for the data without needing to specify x or y values as long as your index values are numbers\n",
    "plt.plot(corrected_mean_abs.loc[0], 'o')\n",
    "#Check type\n",
    "print(type(corrected_mean_abs.loc[0]))"
   ]
  },
  {
   "cell_type": "markdown",
   "id": "e8d1aa9b-6c36-45a5-a91e-2a80f10697c3",
   "metadata": {},
   "source": [
    "<h1 style=\"font-size: 40px; margin-bottom: 0px;\">In-class exercise #2</h1>\n",
    "\n",
    "<hr style=\"margin-left: 0px; border: 0.25px solid; border-color: #000000; width: 600px;\"></hr>"
   ]
  },
  {
   "cell_type": "markdown",
   "id": "4a11055b-6cd1-475d-b25d-7dd065d37442",
   "metadata": {},
   "source": [
    "For this exercise, we'll be creating a fake dataset to use as an example for our later plotting demonstration. \n",
    "\n",
    "This exercise will also help reinforce what we've learned in Week 1."
   ]
  },
  {
   "cell_type": "markdown",
   "id": "1a9f52b5-be0c-4529-b67b-25dacbc6ddda",
   "metadata": {},
   "source": [
    "<h2>1. Create a list of cell counts for 50 control samples</h2>"
   ]
  },
  {
   "cell_type": "markdown",
   "id": "312ec717-703b-4023-b201-ddf3e76bc775",
   "metadata": {},
   "source": [
    "First, let's create some fake control data with sufficient sample numbers for this exercise. We'll use the function <mark style=\"background-color: #EEEEEE;\"><strong>numpy.random.randint()</strong></mark> to generate an array of random integers, which will be our cell counts. This function is similar to the <mark style=\"background-color: #EEEEEE;\"><strong>numpy.random.rand()</strong></mark> function, but it generates integers, and we can specify a range in which the integers will fall.\n",
    "```\n",
    "numpy.random.randint(low, high=None, size=None, dtype=int)\n",
    "```\n",
    "Breaking down the function's parameters:\n",
    "<ul>\n",
    "    <li><mark style=\"background-color: #EEEEEE;\"><strong>low</strong></mark> - This specifies the lowest possible integer that can be drawn</li>\n",
    "    <li><mark style=\"background-color: #EEEEEE;\"><strong>high</strong></mark> - This specifies the highest possible integer that can be drawn. Default is no upper bound</li>\n",
    "    <li><mark style=\"background-color: #EEEEEE;\"><strong>size</strong></mark> - This specifies the shape of the output array</li>\n",
    "    <li><mark style=\"background-color: #EEEEEE;\"><strong>dtype</strong></mark> - This specifies the dtype of the elements</li>\n",
    "</ul>"
   ]
  },
  {
   "cell_type": "code",
   "execution_count": null,
   "id": "a51982f6-d13d-4d1f-8008-9adbbd062b9f",
   "metadata": {},
   "outputs": [],
   "source": []
  },
  {
   "cell_type": "markdown",
   "id": "feeea4a6-9f41-46aa-a8c5-0c5995717665",
   "metadata": {},
   "source": [
    "<h2>2. Create a list of cell counts for 50 TAZ KO samples</h2>"
   ]
  },
  {
   "cell_type": "markdown",
   "id": "db91b499-d1f7-43e5-8f52-80286c5b5559",
   "metadata": {},
   "source": [
    "Let's do the same for some fake TAZ KO samples."
   ]
  },
  {
   "cell_type": "code",
   "execution_count": null,
   "id": "058867ac-6c2f-436c-87ad-3b400875fb60",
   "metadata": {},
   "outputs": [],
   "source": []
  },
  {
   "cell_type": "markdown",
   "id": "f7beef29-1a79-47f1-81dd-995d9de1a438",
   "metadata": {},
   "source": [
    "<h2>3. Create a DataFrame from our two lists</h2>"
   ]
  },
  {
   "cell_type": "markdown",
   "id": "ac9f14d1-250e-4b1d-a7df-a1fa10fd7c7e",
   "metadata": {},
   "source": [
    "Now, let's create a DataFrame from our two lists and update the column headers, so we can use it for today's plotting demonstration."
   ]
  },
  {
   "cell_type": "code",
   "execution_count": null,
   "id": "8e240eae-9360-4e6e-a8e5-4b833b678393",
   "metadata": {},
   "outputs": [],
   "source": []
  },
  {
   "cell_type": "markdown",
   "id": "0bd21e63-32e6-43f1-98f8-ae2afc0d54dd",
   "metadata": {},
   "source": [
    "<h1 style=\"font-size: 40px; margin-bottom: 0px;\">In-class plotting demo</h1>\n",
    "\n",
    "<hr style=\"margin-left: 0px; border: 0.25px solid; border-color: #000000; width: 600px;\"></hr>"
   ]
  },
  {
   "cell_type": "markdown",
   "id": "5aa20353-137b-4ac3-8bc8-7c6047e92fe9",
   "metadata": {},
   "source": [
    "Now that we have our fake dataset, let's dive into more plotting for additional practice and to learn how to fine tune our plots some more."
   ]
  },
  {
   "cell_type": "markdown",
   "id": "2785b514-c6a9-46ea-a054-158ab32fdf52",
   "metadata": {},
   "source": [
    "<h2>Setting up to fine tune figures and plots</h2>"
   ]
  },
  {
   "cell_type": "markdown",
   "id": "a4129441-d8a7-414f-a8af-711069a61e94",
   "metadata": {},
   "source": [
    "To allow us to have more control over how we are plotting, to access specific attributes of our plots, and to create figures containing subplots, we can make use of the <mark style=\"background-color: #EEEEEE;\"><strong>matplotlib.pyplot.subplots()</strong></mark> function.\n",
    "\n",
    "So the first line of code that we'll implement in this demo is:\n",
    "```\n",
    "fig, ax = plt.subplots()\n",
    "```\n",
    "The <mark style=\"background-color: #EEEEEE;\"><strong>matplotlib.pyplot.subplots()</strong></mark> function returns a <mark style=\"background-color: #EEEEEE;\"><strong>fig</strong></mark> and <mark style=\"background-color: #EEEEEE;\"><strong>ax</strong></mark>, which we can assign to similarly named variables, allowing us to modify specific parts of our plots.\n",
    "\n",
    "<a href=\"https://matplotlib.org/stable/api/_as_gen/matplotlib.pyplot.subplots.html\" rel=\"noopener noreferrer\" target=\"_blank\"><u>Click for documentation for the <mark style=\"background-color: #EEEEEE;\"><strong>matplotlib.pyplot.subplots()</strong></mark> function</u></a>."
   ]
  },
  {
   "cell_type": "markdown",
   "id": "d4e04242-4edf-4859-bd95-50ca3980dedf",
   "metadata": {},
   "source": [
    "In the code cell below, mess around with the parameters to see how the output figure changes."
   ]
  },
  {
   "cell_type": "code",
   "execution_count": null,
   "id": "b01ad121-8520-45b6-8993-384eebe5ef02",
   "metadata": {},
   "outputs": [],
   "source": []
  },
  {
   "cell_type": "markdown",
   "id": "aa9f33e2-9342-42a4-a8c9-6425c92da543",
   "metadata": {},
   "source": [
    "You should be able to see that we have empty plots, and by changing parameters around, we can change how the figure looks."
   ]
  },
  {
   "cell_type": "markdown",
   "id": "ae894595-b84b-47a3-8e94-17e4f97fdae6",
   "metadata": {},
   "source": [
    "<h2>Prepare a color palette</h2>"
   ]
  },
  {
   "cell_type": "markdown",
   "id": "e3031079-60c2-4ce0-86f6-027d0c51c1e4",
   "metadata": {},
   "source": [
    "We have the freedom to also select the specific color for our data points, and to prepare for this, we can create a list containing strings of color codes."
   ]
  },
  {
   "cell_type": "code",
   "execution_count": null,
   "id": "c8843b6c-db61-48a9-b311-a5e7fa1261d6",
   "metadata": {},
   "outputs": [],
   "source": []
  },
  {
   "cell_type": "markdown",
   "id": "630b4575-9be2-419c-a49c-cecf4300a752",
   "metadata": {},
   "source": [
    "<h2>Create a swarmplot</h2>"
   ]
  },
  {
   "cell_type": "markdown",
   "id": "4c10aee3-e323-404c-9cd6-1b4439b59a9b",
   "metadata": {},
   "source": [
    "Matplotlib's ability to create a swarmplot is a bit more limited, so we can make use of our seaborn package, which has a function for us to create a swarmplot. Swarmplots are helpful when you want to show each individual data point, so that the reader has an idea of how the distribution of your data looks by looking directly at the raw data points.\n",
    "\n",
    "The function that we'll use is the <mark style=\"background-color: #EEEEEE;\"><strong>seaborn.swarmplot()</strong></mark> function. <u><a href=\"https://seaborn.pydata.org/generated/seaborn.swarmplot.html\" rel=\"noopener noreferrer\" target=\"_blank\">Documentation is here</a></u>.\n",
    "\n",
    "We'll pass our DataFrame through the function to see how it looks like without additional modifications.\n",
    "```\n",
    "sns.swarmplot(data=cell_counts)"
   ]
  },
  {
   "cell_type": "code",
   "execution_count": null,
   "id": "e08763b8-da70-43fc-9cea-d0533be0bb64",
   "metadata": {},
   "outputs": [],
   "source": []
  },
  {
   "cell_type": "markdown",
   "id": "05692d54-53f0-4f5f-bd4e-bb0a9dd2b7fa",
   "metadata": {},
   "source": [
    "We can make minor adjustments by passing additional arguments to the function, such as:\n",
    "<ul>\n",
    "    <li><mark style=\"background-color: #EEEEEE;\"><strong>s</strong></mark> - the size of our markers</li>\n",
    "    <li><mark style=\"background-color: #EEEEEE;\"><strong>palette</strong></mark> - color palette for our markers</li>\n",
    "</ul>"
   ]
  },
  {
   "cell_type": "code",
   "execution_count": null,
   "id": "e8b43d13-2a07-42d5-84c0-cd9bbb335df4",
   "metadata": {},
   "outputs": [],
   "source": []
  },
  {
   "cell_type": "markdown",
   "id": "7c1ba9f6-3913-4e55-a320-8ebc900515d0",
   "metadata": {},
   "source": [
    "You can see that we have the basic swarm plot, but as with our basic plot from last week, there's still a few things missing, such as proper labels for our groups on the X-axis, a Y-axis label, and proper Y-axis limits. Usually, swarmplots also include descriptive statistics that summarize the raw data that is shown, and this can include the mean and error bars denoting the standard deviation or standard error.\n",
    "\n",
    "Before we start adjusting the axes, let's add in our descriptive statistics overlaid on top of our raw data points."
   ]
  },
  {
   "cell_type": "markdown",
   "id": "a1ee4f1f-0d03-42f8-82ea-f8402a14d4bc",
   "metadata": {},
   "source": [
    "<h2>Overlay descriptive statistics</h2>"
   ]
  },
  {
   "cell_type": "markdown",
   "id": "4f57f1bc-2281-4784-a22d-379dd2987565",
   "metadata": {},
   "source": [
    "One thing we can do is to overlay plots on top of one another to convey additional information within a single plot without having to create subplots for each thing. This type of approach is helpful when we want to overlay descriptive statistics over our raw data points, so that the reader can see both the raw data as well as the statistics.\n",
    "\n",
    "Descriptive statistics, such as the mean, can be plotted a few ways, such as a bar graph with error bars or as box-and-whisker plots. Both of these plots contain something that will be helpful to overlay onto our swarmplot. For the bar graph, it contains error bars, and for the box-and-whisker plot, it contains the ability to plot just the mean.\n",
    "\n",
    "So what we can do is to take the portions of these plots that we like, strip away what we don't want to see, and overlay it onto our swarmplot.\n",
    "\n",
    "Let's take a look at how these two plots will look like when plotted as a basic function."
   ]
  },
  {
   "cell_type": "markdown",
   "id": "e6bd8fd6-f2e1-48be-997d-d9e5afafa1ac",
   "metadata": {},
   "source": [
    "<h3>Plot a bar graph to overlay</h3>"
   ]
  },
  {
   "cell_type": "markdown",
   "id": "1cd9a6d1-d6b3-4ec3-ae1c-d1560e6156d3",
   "metadata": {},
   "source": [
    "We can make use of the <mark style=\"background-color: #EEEEEE;\"><strong>seaborn.barplot()</strong></mark> function and pass our DataFrame to the function to plot. \n",
    "\n",
    "<u><a href=\"https://seaborn.pydata.org/generated/seaborn.barplot.html\" rel=\"noopener noreferrer\" target=\"_blank\">Documentation is here</a></u>."
   ]
  },
  {
   "cell_type": "code",
   "execution_count": null,
   "id": "46400b1f-1b87-4931-97fb-26a40bd4525e",
   "metadata": {},
   "outputs": [],
   "source": []
  },
  {
   "cell_type": "markdown",
   "id": "9a51d781-c173-4e52-85e4-adb76a1b13d4",
   "metadata": {},
   "source": [
    "You should see a pretty basic bar graph with error bars already plotted. It has what we need, but now we need to strip out the parts that we don't by passing additional arguments through it.\n",
    "\n",
    "Specifically, we want just the error bars, so we can make use of the following parameters:\n",
    "<ul>\n",
    "    <li><mark style=\"background-color: #EEEEEE;\"><strong>data</strong></mark> - we pass our DataFrame to this parameter so it can perform the calculations needed to plot the error bars</li>\n",
    "    <li><mark style=\"background-color: #EEEEEE;\"><strong>estimator</strong></mark> - we want it to plot the mean since we want our error bars to be centered around the mean of our data. We can pass the <mark style=\"background-color: #EEEEEE;\"><strong>np.mean</strong></mark> function to this parameter</li>\n",
    "    <li><mark style=\"background-color: #EEEEEE;\"><strong>alpha</strong></mark> - the parameter controlling the opacity of the boxplot bars. By changing this to <mark style=\"background-color: #EEEEEE;\"><strong>0</strong></mark>, we basically hide the bars depicting the mean, leaving only the error bars visisble</li>\n",
    "    <li><mark style=\"background-color: #EEEEEE;\"><strong>errorbar</strong></mark> - by changing this parameter, we can tell Python if we want our error bars to denote standard deviation or standard error</li>\n",
    "    <li><mark style=\"background-color: #EEEEEE;\"><strong>capsize</strong></mark> - the horizontal length of our error bars. This also tells Python that we want a horizontal cap (compare to previously, where there was no cap)</li>\n",
    "    <li><mark style=\"background-color: #EEEEEE;\"><strong>err_kws</strong></mark> - we can pass a dictionary containing key:value pairs to this parameter to further fine tune our plot by mapping the key:value pairs we provide to specific parameters that exist for <u><a href=\"https://matplotlib.org/stable/api/_as_gen/matplotlib.axes.Axes.boxplot.html#matplotlib.axes.Axes.boxplot\" rel=\"noopener noreferrer\" target=\"_blank\"><mark style=\"background-color: #EEEEEE;\"><strong>matplotlib.pyplot.boxplot()</strong></mark></a></u>. Click function for documentation.</li>\n",
    "</ul>"
   ]
  },
  {
   "cell_type": "markdown",
   "id": "f1bb2d07-29d0-4d77-9474-7f2aadfd26c0",
   "metadata": {},
   "source": [
    "So let's work through each parameter one at a time to see how each change alters our bar plot."
   ]
  },
  {
   "cell_type": "markdown",
   "id": "36be7fe1-d6ca-4d0a-a80b-b790e0f46962",
   "metadata": {},
   "source": [
    "<h4>Define the estimator</h4>"
   ]
  },
  {
   "cell_type": "code",
   "execution_count": null,
   "id": "c75057b1-fc80-4e3b-933a-c52726423005",
   "metadata": {},
   "outputs": [],
   "source": []
  },
  {
   "cell_type": "markdown",
   "id": "b44cde9e-20c1-4274-a21f-bf2d4350db2b",
   "metadata": {},
   "source": [
    "You can see nothing is changed because by default, the <mark style=\"background-color: #EEEEEE;\"><strong>seaborn.barplot()</strong></mark> function will plot the mean by default."
   ]
  },
  {
   "cell_type": "markdown",
   "id": "3f197da3-e964-44a3-b19d-16801c6ff2cf",
   "metadata": {},
   "source": [
    "<h4>Change the opacity to hide the bars</h4>"
   ]
  },
  {
   "cell_type": "code",
   "execution_count": null,
   "id": "ffdf21c3-2e56-4ed8-a911-cb78b53787c3",
   "metadata": {},
   "outputs": [],
   "source": []
  },
  {
   "cell_type": "markdown",
   "id": "b652585e-541c-4770-9804-dde38a364623",
   "metadata": {},
   "source": [
    "The only things showing now are the error bars, and the error bars need further refining so that we have them denote either the standar deviation or the standard error."
   ]
  },
  {
   "cell_type": "markdown",
   "id": "34f5598e-0469-4327-91f4-48ac13bdbb0a",
   "metadata": {},
   "source": [
    "<h4>Update what the error bars denote</h4>"
   ]
  },
  {
   "cell_type": "code",
   "execution_count": null,
   "id": "1fa33996-52cd-4311-ac3b-0aac7302a8f9",
   "metadata": {},
   "outputs": [],
   "source": []
  },
  {
   "cell_type": "markdown",
   "id": "9ce00295-c23c-4a59-8e29-d55ec435e529",
   "metadata": {},
   "source": [
    "<h4>Add caps to error bars</h4>"
   ]
  },
  {
   "cell_type": "code",
   "execution_count": null,
   "id": "b30d640b-999b-4a93-99e8-05924731535c",
   "metadata": {},
   "outputs": [],
   "source": []
  },
  {
   "cell_type": "markdown",
   "id": "b8df533a-e523-406d-bd84-93ddfd3a83cc",
   "metadata": {},
   "source": [
    "<h4>Further refine error bars</h4>"
   ]
  },
  {
   "cell_type": "code",
   "execution_count": null,
   "id": "7209f076-aa3a-43f2-84d7-223f578047c4",
   "metadata": {},
   "outputs": [],
   "source": []
  },
  {
   "cell_type": "markdown",
   "id": "1712f55a-63a7-4c1a-86b6-a3f39ebb4e0d",
   "metadata": {},
   "source": [
    "<h4>Now let's look at all the plots together on one figure.</h4>"
   ]
  },
  {
   "cell_type": "code",
   "execution_count": null,
   "id": "f04d816c-cde3-4f2b-bced-2bf4b450a08d",
   "metadata": {},
   "outputs": [],
   "source": []
  },
  {
   "cell_type": "markdown",
   "id": "050fe542-de26-4fab-822e-0074512c548c",
   "metadata": {},
   "source": [
    "So now our error bars look good, and let's use the box-and-whisker plot to get a horizontal line denoting the means of our data."
   ]
  },
  {
   "cell_type": "markdown",
   "id": "f7453be1-a300-4663-83f2-ba8a3aeac2ce",
   "metadata": {},
   "source": [
    "<h3>Plot a box-and-whisker plot to overlay</h3>"
   ]
  },
  {
   "cell_type": "markdown",
   "id": "8e89b91b-f676-4427-aa19-7ba782d84296",
   "metadata": {},
   "source": [
    "We'll do something similar for a box-and-whisker plot to get it to just show a horizontal line for our means.\n",
    "\n",
    "We can use the <mark style=\"background-color: #EEEEEE;\"><strong>seaborn.boxplot()</strong></mark> function and pass our same DataFrame to it to plot.\n",
    "\n",
    "<u><a href=\"https://seaborn.pydata.org/generated/seaborn.boxplot.html\" rel=\"noopener noreferrer\" target=\"_blank\">Documentation is here</a></u>."
   ]
  },
  {
   "cell_type": "code",
   "execution_count": null,
   "id": "e82793a7-29dc-4d14-908b-6661c0d00fed",
   "metadata": {},
   "outputs": [],
   "source": []
  },
  {
   "cell_type": "markdown",
   "id": "6d368008-e615-44fc-beee-ad0739b97d5f",
   "metadata": {},
   "source": [
    "Here, you should see a basic box-and-whisker plot. We're going to make adjustments to the plot so that it shows just the mean, so we can use it as an overlay on top of our swarmplot."
   ]
  },
  {
   "cell_type": "markdown",
   "id": "61a0a95d-a617-47d7-b12c-e1dfacc5bb58",
   "metadata": {},
   "source": [
    "Like with our bar plot, we can make use of the following parameters to just get what we need the plot to depict:\n",
    "<ul>\n",
    "    <li><mark style=\"background-color: #EEEEEE;\"><strong>data</strong></mark> - we pass our DataFrame to this parameter so it can perform the calculations needed to plot the error bars</li>\n",
    "    <li><mark style=\"background-color: #EEEEEE;\"><strong>showmeans</strong></mark> - we want it to plot the mean</li>\n",
    "    <li><mark style=\"background-color: #EEEEEE;\"><strong>meanline</strong></mark> - we want it to plot a horizontal line for the mean that spans the width of the box of our box-and-whisker plot</li>\n",
    "    <li><mark style=\"background-color: #EEEEEE;\"><strong>width</strong></mark> - defines the width of our box and therefore also defines the horizontal span of our mean line</li>\n",
    "    <li><mark style=\"background-color: #EEEEEE;\"><strong>meanprops</strong></mark> - we can pass a dictionary containing key:value pairs to this parameter to refine how we want the mean line to look. Like with <mark style=\"background-color: #EEEEEE;\"><strong>err_kws</strong></mark> for the bar plot, the key:value pairs will be passed to <u><a href=\"https://matplotlib.org/stable/api/_as_gen/matplotlib.axes.Axes.boxplot.html#matplotlib.axes.Axes.boxplot\" rel=\"noopener noreferrer\" target=\"_blank\"><mark style=\"background-color: #EEEEEE;\"><strong>matplotlib.pyplot.boxplot()</strong></mark></a></u></li>\n",
    "    <li><mark style=\"background-color: #EEEEEE;\"><strong>medianprops</strong></mark> - we can pass a dictionary containing key:value pairs to this parameter to remove the median line of our box-and-whisker plot. Works like the <mark style=\"background-color: #EEEEEE;\"><strong>meanprops</strong></mark> parameter</li>\n",
    "    <li><mark style=\"background-color: #EEEEEE;\"><strong>whiskerprops</strong></mark> - we can pass a dictionary containing key:value pairs to this parameter to remove the whiskers of our box-and-whisker plot. Also works like the <mark style=\"background-color: #EEEEEE;\"><strong>meanprops</strong></mark> parameter</li>\n",
    "    <li><mark style=\"background-color: #EEEEEE;\"><strong>showfliers</strong></mark> - we can indicate with a Boolean, whether or not we want to hide outliers (fliers)</li>\n",
    "    <li><mark style=\"background-color: #EEEEEE;\"><strong>showbox</strong></mark> - we can indicate with a Boolean, whether or not we want to hide the box of our box-and-whisker plot</li>\n",
    "    <li><mark style=\"background-color: #EEEEEE;\"><strong>showcaps</strong></mark> - we can indicate with a Boolean, whether or not we want to the caps</li>\n",
    "</ul>\n",
    "\n",
    "Now if we go through each argument and see how the resulting box-and-whisker plot is altered with each parameter:"
   ]
  },
  {
   "cell_type": "markdown",
   "id": "8687ae07-6d99-42af-a841-e4071d3568b8",
   "metadata": {},
   "source": [
    "<h4>Show the mean</h4>"
   ]
  },
  {
   "cell_type": "code",
   "execution_count": null,
   "id": "077cc0b8-f6a8-4832-b942-548c70c697d1",
   "metadata": {},
   "outputs": [],
   "source": []
  },
  {
   "cell_type": "markdown",
   "id": "25849eec-c2df-41d7-837e-75c0f974542b",
   "metadata": {},
   "source": [
    "It might be hard to see, but you can see a green triangle representing the mean value for each of our two groups. However, we want our mean to be a horizontal line, so we adjust this with the next parameter."
   ]
  },
  {
   "cell_type": "markdown",
   "id": "3553b69d-74eb-4ea1-9407-38a00eddb771",
   "metadata": {},
   "source": [
    "<h4>Create a horizontal mean line</h4>"
   ]
  },
  {
   "cell_type": "code",
   "execution_count": null,
   "id": "a1748c33-c3f7-4849-a095-a3895e30d174",
   "metadata": {},
   "outputs": [],
   "source": []
  },
  {
   "cell_type": "markdown",
   "id": "33c4aebe-0e28-4779-b1c7-b897c9367d4a",
   "metadata": {},
   "source": [
    "This is probably still hard to see, but there is now a green dashed line that denotes where our mean values are. It spans the full width of the box, but we can shorten the length of the line by reducing the width of our boxes."
   ]
  },
  {
   "cell_type": "markdown",
   "id": "bc74778e-88a6-4ea5-b50a-97b8cba95482",
   "metadata": {},
   "source": [
    "<h4>Shorten the length of the mean line</h4>"
   ]
  },
  {
   "cell_type": "code",
   "execution_count": null,
   "id": "f884fcc5-471d-476d-908b-4467a297791a",
   "metadata": {},
   "outputs": [],
   "source": []
  },
  {
   "cell_type": "markdown",
   "id": "f957ca89-3358-406a-ad02-2e9f1c073835",
   "metadata": {},
   "source": [
    "<h4>Refine the mean line</h4>"
   ]
  },
  {
   "cell_type": "code",
   "execution_count": null,
   "id": "ba18e453-1d38-468b-9f75-e759a3b6c6d3",
   "metadata": {},
   "outputs": [],
   "source": []
  },
  {
   "cell_type": "markdown",
   "id": "b08bc7ad-4df1-4ca0-8da5-3a6385b47e08",
   "metadata": {},
   "source": [
    "Now the mean line is more clearly depicted, but there are still other parts of the box-and-whisker plot that we don't want."
   ]
  },
  {
   "cell_type": "markdown",
   "id": "6ec00ef9-a99b-4385-a3c2-5634708deea2",
   "metadata": {},
   "source": [
    "<h4>Remove median line</h4>"
   ]
  },
  {
   "cell_type": "code",
   "execution_count": null,
   "id": "a03e4ea2-a78f-4ee5-86b2-8269f8073f7d",
   "metadata": {},
   "outputs": [],
   "source": []
  },
  {
   "cell_type": "markdown",
   "id": "b6039d41-2c3c-4614-a2ae-a4c8471562ff",
   "metadata": {},
   "source": [
    "Now that we've removed the median line, we can clearly see the mean line."
   ]
  },
  {
   "cell_type": "markdown",
   "id": "0e6a3e0a-2355-4968-89ba-32007bf641fa",
   "metadata": {},
   "source": [
    "<h4>Remove whiskers</h4>"
   ]
  },
  {
   "cell_type": "code",
   "execution_count": null,
   "id": "148a96ff-81b7-49e3-a645-7aedec4d7a59",
   "metadata": {},
   "outputs": [],
   "source": []
  },
  {
   "cell_type": "markdown",
   "id": "407403b3-2415-420e-accf-36d81a9108f6",
   "metadata": {},
   "source": [
    "<h4>Remove outliers (fliers)</h4>"
   ]
  },
  {
   "cell_type": "markdown",
   "id": "51c55c1e-5656-47e0-909d-cbd80abdf6eb",
   "metadata": {},
   "source": [
    "We're not removing outliers from our dataset, only hiding them in the box-and-whisker plot."
   ]
  },
  {
   "cell_type": "code",
   "execution_count": null,
   "id": "63544482-c814-4eb1-a91e-176f17867c2a",
   "metadata": {},
   "outputs": [],
   "source": []
  },
  {
   "cell_type": "markdown",
   "id": "6ee369d7-2d74-4507-bb74-e652cd74652d",
   "metadata": {},
   "source": [
    "Now we're left with the mean line, caps, and the box (which denotes the interquatile range). So all that's left is to remove the box and to remove the caps."
   ]
  },
  {
   "cell_type": "markdown",
   "id": "1c5097f6-5ff9-4578-83a2-d6c421d04d48",
   "metadata": {},
   "source": [
    "<h4>Remove the box</h4>"
   ]
  },
  {
   "cell_type": "code",
   "execution_count": null,
   "id": "c240517a-bef4-42d6-8669-c64e41d686bc",
   "metadata": {},
   "outputs": [],
   "source": []
  },
  {
   "cell_type": "markdown",
   "id": "e33faf16-d71c-4362-9d22-c9ca6b4c5a70",
   "metadata": {},
   "source": [
    "<h4>Remove the caps</h4>"
   ]
  },
  {
   "cell_type": "code",
   "execution_count": null,
   "id": "b0a5f643-67ab-4e6f-8440-426cc0cc4dc2",
   "metadata": {},
   "outputs": [],
   "source": []
  },
  {
   "cell_type": "markdown",
   "id": "317fabca-13cc-4bd3-9356-bb5e9ef14020",
   "metadata": {},
   "source": [
    "<h4>Now let's look at all the plots together on one figure.</h4>"
   ]
  },
  {
   "cell_type": "code",
   "execution_count": null,
   "id": "a38f51a1-1a36-44fd-8f32-3433950ddf00",
   "metadata": {},
   "outputs": [],
   "source": []
  },
  {
   "cell_type": "markdown",
   "id": "2e275941-9458-4715-83e3-e638097d24d1",
   "metadata": {},
   "source": [
    "<h3>Look at all three of our plots side by side</h3>"
   ]
  },
  {
   "cell_type": "code",
   "execution_count": null,
   "id": "dce8d23f-e686-409e-a899-455ebf5fc747",
   "metadata": {},
   "outputs": [],
   "source": []
  },
  {
   "cell_type": "markdown",
   "id": "c73ff25e-b060-4ec5-8ad3-08549d9f3938",
   "metadata": {},
   "source": [
    "<h3>Now overlay our plots onto our swarmplot</h3>"
   ]
  },
  {
   "cell_type": "code",
   "execution_count": null,
   "id": "f9165733-2702-4b8b-aecd-bd716087a609",
   "metadata": {},
   "outputs": [],
   "source": []
  },
  {
   "cell_type": "markdown",
   "id": "a9146979-fcfb-4c75-814e-176db8c3fcf8",
   "metadata": {},
   "source": [
    "<h4>Re-order the sequence that plots are overlaid</h4>"
   ]
  },
  {
   "cell_type": "markdown",
   "id": "ec14764c-0899-4fb3-ae0a-183a1fc7eff4",
   "metadata": {},
   "source": [
    "You can see that our swarmplot is overlaid on top of our descriptive statistics, so we need to change the order in which each plot appears, so that our descriptive statistics are on top. We can do this by passing a <mark style=\"background-color: #EEEEEE;\"><strong>zorder</strong></mark> parameter to our swarmplot to move it under everything else."
   ]
  },
  {
   "cell_type": "code",
   "execution_count": null,
   "id": "04c57865-1365-436f-a739-a53565870818",
   "metadata": {},
   "outputs": [],
   "source": []
  },
  {
   "cell_type": "markdown",
   "id": "c299d5df-c574-4e70-9bc6-3601f7b8a161",
   "metadata": {},
   "source": [
    "<h2>Update labels</h2>"
   ]
  },
  {
   "cell_type": "markdown",
   "id": "ddb4febd-b102-4004-9bb4-a5968e6e1653",
   "metadata": {},
   "source": [
    "Now our plot is looking much nicer and more like a publication quality figure. However, we still need to update the labels and axis titles!\n",
    "\n",
    "Since our plot set up is slightly different, we'll pull from slightly different attributes to define what our titles and axes labels will be. The concept is still the same as before, but the exact attribute we're calling is different.\n",
    "\n",
    "For example, last week we made use of <mark style=\"background-color: #EEEEEE;\"><strong>plt.ylabel()</strong></mark> to change the title of our Y-axis. This time, we can make use of <mark style=\"background-color: #EEEEEE;\"><strong>ax.set_ylabel()</strong></mark> to change the Y-axis title. They both function the same, but since the set-up is slightly different, we'll need to change which attribute we're calling for certain properties."
   ]
  },
  {
   "cell_type": "markdown",
   "id": "f98857fa-7b8c-4c9e-8c0b-f503a73f3f3a",
   "metadata": {},
   "source": [
    "<h4>Update Y-axis title</h4>"
   ]
  },
  {
   "cell_type": "code",
   "execution_count": null,
   "id": "639330a2-e997-4e63-9dbe-962d3ddaaf97",
   "metadata": {},
   "outputs": [],
   "source": []
  },
  {
   "cell_type": "markdown",
   "id": "68a41e06-a824-4473-8eec-056c3e79d88b",
   "metadata": {},
   "source": [
    "<h4>Update X-axis ticks and tick labels</h4>"
   ]
  },
  {
   "cell_type": "markdown",
   "id": "81a5e2fb-af77-44f1-bc07-6510723d8cef",
   "metadata": {},
   "source": [
    "We could go back into our data columns and update the header there, which will update the header for our plot. But we can update the X-axis tick labels without needing to go way back into our code.\n",
    "\n",
    "We will first define our X-axis positions using a list of integers, and then define the labels using the <mark style=\"background-color: #EEEEEE;\"><strong>labels</strong></mark> parameter.\n",
    "```\n",
    "ax.set_xticks([0, 1], labels=['Control', '$TAZ$ KO'])\n",
    "```\n",
    "Since we have two groups, our list will just consist of 0 and 1, since that's where our two groups are plotted in all our plots, and our list of labels will be at their respective positions. The text flanked by $ will become italicized in the figure.\n",
    "\n",
    "We can also make use of <mark style=\"background-color: #EEEEEE;\"><strong>plt.xticks()</strong></mark> to adjust the rotation and text alignment."
   ]
  },
  {
   "cell_type": "code",
   "execution_count": null,
   "id": "d4db5035-0eb3-4fc5-a197-9c13ce911f76",
   "metadata": {},
   "outputs": [],
   "source": []
  },
  {
   "cell_type": "markdown",
   "id": "844175f8-b56f-4f2a-9c48-2d69cdec88b6",
   "metadata": {},
   "source": [
    "<h2>Setting figure size and resolution</h2>"
   ]
  },
  {
   "cell_type": "markdown",
   "id": "2240d27e-e3fb-4476-8df1-e36c01d28d5e",
   "metadata": {},
   "source": [
    "We have two ways of setting figure size, either at the onset when we first use the <mark style=\"background-color: #EEEEEE;\"><strong>matplotlib.pyplot.subplots()</strong></mark> function, or we can specifically update the figure attribute using <mark style=\"background-color: #EEEEEE;\"><strong>fig.set_size_inches()</strong></mark> function. <u><a href=\"https://matplotlib.org/stable/api/_as_gen/matplotlib.figure.Figure.set_size_inches.html\" rel=\"noopener noreferrer\" target=\"_blank\">Documentation is here</a></u>.\n",
    "\n",
    "We can also improve the resolution of our figure, so it will look good in posters (which have to be blown up to a large size). To do this, we can use the <mark style=\"background-color: #EEEEEE;\"><strong>fig.set_dpi()</strong></mark> function. <u><a href=\"https://matplotlib.org/stable/api/_as_gen/matplotlib.figure.Figure.set_dpi.html#matplotlib.figure.Figure.set_dpi\" rel=\"noopener noreferrer\" target=\"_blank\">Documentation is here</a></u>."
   ]
  },
  {
   "cell_type": "code",
   "execution_count": null,
   "id": "c76eb31b-8710-46e9-9e71-622ef0f9a492",
   "metadata": {},
   "outputs": [],
   "source": []
  },
  {
   "cell_type": "markdown",
   "id": "d323cf7b-3472-443a-aa5f-e38bb14ca541",
   "metadata": {},
   "source": [
    "<h2>Despine</h2>"
   ]
  },
  {
   "cell_type": "markdown",
   "id": "e6be7b1f-ed85-4199-aa72-28dbd8ef909e",
   "metadata": {},
   "source": [
    "One of the benefits of using seaborn is that we can in a single line remove the spines of our plots.\n",
    "```\n",
    "sns.despine()\n",
    "```"
   ]
  },
  {
   "cell_type": "code",
   "execution_count": null,
   "id": "c79dae37-cf9b-427b-82ec-40d67b89ef84",
   "metadata": {},
   "outputs": [],
   "source": []
  },
  {
   "cell_type": "markdown",
   "id": "f9da1a98-29cb-42b6-88aa-1911771866b2",
   "metadata": {},
   "source": [
    "<h1 style=\"font-size: 40px; margin-bottom: 0px;\">Exporting your plot</h1>\n",
    "\n",
    "<hr style=\"margin-left: 0px; border: 0.25px solid; border-color: #000000; width: 600px;\"></hr>"
   ]
  },
  {
   "cell_type": "markdown",
   "id": "4aeb16fd-891a-4b09-8227-5c161786f683",
   "metadata": {},
   "source": [
    "Now that you have a publication quality plot that you want to include into your paper, grant, or presentation, you can export it as a PDF.\n",
    "```\n",
    "fig.savefig('Control_v_TAZ_KO_cell_counts.pdf', bbox_inches=\"tight\")\n",
    "```"
   ]
  },
  {
   "cell_type": "code",
   "execution_count": null,
   "id": "0b1ff96d-b7ad-472a-9e46-eaffe5015c2d",
   "metadata": {},
   "outputs": [],
   "source": []
  },
  {
   "cell_type": "code",
   "execution_count": null,
   "id": "7a410bc4-433a-4971-8875-b22914fbf8bc",
   "metadata": {},
   "outputs": [],
   "source": []
  },
  {
   "cell_type": "code",
   "execution_count": null,
   "id": "fad909eb-8327-4734-9510-1703fa135496",
   "metadata": {},
   "outputs": [],
   "source": []
  }
 ],
 "metadata": {
  "kernelspec": {
   "display_name": "Python [conda env:root] *",
   "language": "python",
   "name": "conda-root-py"
  },
  "language_info": {
   "codemirror_mode": {
    "name": "ipython",
    "version": 3
   },
   "file_extension": ".py",
   "mimetype": "text/x-python",
   "name": "python",
   "nbconvert_exporter": "python",
   "pygments_lexer": "ipython3",
   "version": "3.11.0"
  }
 },
 "nbformat": 4,
 "nbformat_minor": 5
}
