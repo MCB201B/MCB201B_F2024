{
 "cells": [
  {
   "cell_type": "markdown",
   "id": "be8208ab-6374-46b6-839b-474f23534e67",
   "metadata": {},
   "source": [
    "<h1 style=\"font-size: 40px; margin-bottom: 0px;\">Week 2 Assignment</h1>\n",
    "\n",
    "<hr style=\"margin-left: 0px; border: 0.25px solid; border-color: #000000; width: 600px;\"></hr>"
   ]
  },
  {
   "cell_type": "markdown",
   "id": "c259a21b-b45d-40ef-84fb-0217773441db",
   "metadata": {},
   "source": [
    "<strong><u>Due: Saturday, September 14 at 11:59PM</u></strong>\n",
    "\n",
    "<strong><u>Total points: 5 pts</u></strong>\n",
    "\n",
    "<strong><u>Data files associated with this assignment:</u></strong>\n",
    "<ul>\n",
    "    <li>Cell_counts_data.csv</li>\n",
    "    <li>FRENCH_FRIES_STATS.csv</li>\n",
    "</ul>\n",
    "\n",
    "<strong><u>To turn in your assignment:</u></strong>\n",
    "<ol>\n",
    "    <li>Complete assignment and make sure you have all the outputs requested for the notebook</li>\n",
    "    <li>Go to your server's file directory and locate your completed notebook file</li>\n",
    "    <li>Right click and select <strong>Download</strong> to download your completed notebook</li>\n",
    "    <li>Navigate to lab class <u><strong><a href=\"https://drive.google.com/drive/folders/1Limmo19dvhZz3qIaDDSnuSrl44yTiHUd?usp=sharing\" rel=\"noopener noreferrer\" target=\"_blank\">Google Drive</a></strong></u></li>\n",
    "    <li>Find your individual folder in the <strong>Assignment Submission folder</strong></li>\n",
    "    <li>Upload your completed notebook</li>\n",
    "</ol>\n",
    "\n",
    "<strong><u>How this assignment will be graded:</u></strong>\n",
    "\n",
    "You will be graded on whether or not your output is correct. You will also be graded on if your code is able to run without errors. There can be more than one correct way to answer a question. If you find that you prefer to separate your answer for a single question into multiple code cells, feel free to do so.\n",
    "<hr style=\"margin-left: 0px; border: 0.25px solid; border-color: #000000; width: 600px;\"></hr>"
   ]
  },
  {
   "cell_type": "markdown",
   "id": "633555a4-7bde-4ba7-a933-cbef98715cde",
   "metadata": {},
   "source": [
    "<h2>Question 1</h2>"
   ]
  },
  {
   "cell_type": "markdown",
   "id": "690e24a1-3a8e-4f94-b2db-45b823176b0d",
   "metadata": {},
   "source": [
    "1 pt"
   ]
  },
  {
   "cell_type": "markdown",
   "id": "be240d26-2fbd-49a7-82af-27fd33680b19",
   "metadata": {},
   "source": [
    "Import the Cell_counts_data.csv file, assign it to a variable, and output the first five rows of the table.\n",
    "\n",
    "Create a bar plot depiciting the means of the dataset and their associated <u>standard deviation</u>."
   ]
  },
  {
   "cell_type": "code",
   "execution_count": 18,
   "id": "97e3b83c-2a81-44a4-9b96-30f2419fa9b1",
   "metadata": {},
   "outputs": [],
   "source": [
    "#import the packages that you'll need\n",
    "import numpy as np\n",
    "import pandas as pd\n",
    "import scipy.stats as stats\n",
    "import matplotlib.pyplot as plt\n",
    "import seaborn as sns"
   ]
  },
  {
   "cell_type": "code",
   "execution_count": 19,
   "id": "c48189f3-80ae-4d3d-b7c6-339e946a299a",
   "metadata": {},
   "outputs": [
    {
     "data": {
      "text/html": [
       "<style type=\"text/css\">\n",
       "</style>\n",
       "<table id=\"T_c04f4\">\n",
       "  <thead>\n",
       "    <tr>\n",
       "      <th class=\"blank level0\" >&nbsp;</th>\n",
       "      <th id=\"T_c04f4_level0_col0\" class=\"col_heading level0 col0\" >control_counts</th>\n",
       "      <th id=\"T_c04f4_level0_col1\" class=\"col_heading level0 col1\" >taz_ko_counts</th>\n",
       "    </tr>\n",
       "  </thead>\n",
       "  <tbody>\n",
       "    <tr>\n",
       "      <th id=\"T_c04f4_level0_row0\" class=\"row_heading level0 row0\" >0</th>\n",
       "      <td id=\"T_c04f4_row0_col0\" class=\"data row0 col0\" >79.000000</td>\n",
       "      <td id=\"T_c04f4_row0_col1\" class=\"data row0 col1\" >41.000000</td>\n",
       "    </tr>\n",
       "    <tr>\n",
       "      <th id=\"T_c04f4_level0_row1\" class=\"row_heading level0 row1\" >1</th>\n",
       "      <td id=\"T_c04f4_row1_col0\" class=\"data row1 col0\" >104.000000</td>\n",
       "      <td id=\"T_c04f4_row1_col1\" class=\"data row1 col1\" >66.000000</td>\n",
       "    </tr>\n",
       "    <tr>\n",
       "      <th id=\"T_c04f4_level0_row2\" class=\"row_heading level0 row2\" >2</th>\n",
       "      <td id=\"T_c04f4_row2_col0\" class=\"data row2 col0\" >110.000000</td>\n",
       "      <td id=\"T_c04f4_row2_col1\" class=\"data row2 col1\" >42.000000</td>\n",
       "    </tr>\n",
       "    <tr>\n",
       "      <th id=\"T_c04f4_level0_row3\" class=\"row_heading level0 row3\" >3</th>\n",
       "      <td id=\"T_c04f4_row3_col0\" class=\"data row3 col0\" >98.000000</td>\n",
       "      <td id=\"T_c04f4_row3_col1\" class=\"data row3 col1\" >73.000000</td>\n",
       "    </tr>\n",
       "    <tr>\n",
       "      <th id=\"T_c04f4_level0_row4\" class=\"row_heading level0 row4\" >4</th>\n",
       "      <td id=\"T_c04f4_row4_col0\" class=\"data row4 col0\" >135.000000</td>\n",
       "      <td id=\"T_c04f4_row4_col1\" class=\"data row4 col1\" >34.000000</td>\n",
       "    </tr>\n",
       "  </tbody>\n",
       "</table>\n"
      ],
      "text/plain": [
       "<pandas.io.formats.style.Styler at 0x7de49093a2d0>"
      ]
     },
     "execution_count": 19,
     "metadata": {},
     "output_type": "execute_result"
    }
   ],
   "source": [
    "#load in the data and output a stylized table with just the first 5 rows\n",
    "cell_counts = pd.read_csv('Cell_counts_data.csv')\n",
    "cell_counts.head().style"
   ]
  },
  {
   "cell_type": "code",
   "execution_count": 20,
   "id": "911545ca-799b-4f3a-824a-4876014f264c",
   "metadata": {},
   "outputs": [
    {
     "data": {
      "text/plain": [
       "Text(0, 0.5, 'Cell counts')"
      ]
     },
     "execution_count": 20,
     "metadata": {},
     "output_type": "execute_result"
    },
    {
     "data": {
      "image/png": "[encoded data removed]",
      "text/plain": [
       "<Figure size 640x480 with 1 Axes>"
      ]
     },
     "metadata": {},
     "output_type": "display_data"
    }
   ],
   "source": [
    "#we can use barplot to plot mean and stddev\n",
    "sns.barplot(\n",
    "    data=cell_counts, \n",
    "    estimator=np.mean,\n",
    "    errorbar='sd',\n",
    "    capsize=0.3\n",
    ")\n",
    "\n",
    "plt.ylabel('Cell counts')"
   ]
  },
  {
   "cell_type": "markdown",
   "id": "1fee96c5-989e-4685-85fc-8c41b9af6d0f",
   "metadata": {},
   "source": [
    "<h2>Question 2</h2>"
   ]
  },
  {
   "cell_type": "markdown",
   "id": "6072c586-d448-421f-90ac-9139df265562",
   "metadata": {},
   "source": [
    "1 pt"
   ]
  },
  {
   "cell_type": "markdown",
   "id": "9b1bb519-b6c9-4230-8aa6-9656e4837110",
   "metadata": {},
   "source": [
    "Perform a Student's two-tailed t-test using the cell counts data, and output the **t** test statistic and p-value. "
   ]
  },
  {
   "cell_type": "code",
   "execution_count": 21,
   "id": "a121b0ef-b2d3-4253-800d-193544663cc8",
   "metadata": {},
   "outputs": [
    {
     "name": "stdout",
     "output_type": "stream",
     "text": [
      "p-value is 3.798677055495083e-36\n",
      "t statistic is 15.54636616256626\n"
     ]
    }
   ],
   "source": [
    "#use the ttest_ind() function from the scipy.stats package\n",
    "statistics = stats.ttest_ind(cell_counts['control_counts'], cell_counts['taz_ko_counts'], equal_var=True, nan_policy='omit')\n",
    "\n",
    "#pull pvalue and t statistic from the output and print \n",
    "print('p-value is', statistics.pvalue)\n",
    "print('t statistic is', statistics.statistic)"
   ]
  },
  {
   "cell_type": "markdown",
   "id": "e3960d4a-4766-4305-8bec-f5396d1f7b86",
   "metadata": {},
   "source": [
    "<h2>Question 3</h2>"
   ]
  },
  {
   "cell_type": "markdown",
   "id": "97330b40-dab0-44ea-8537-8f5417c89182",
   "metadata": {},
   "source": [
    "1 pt"
   ]
  },
  {
   "cell_type": "markdown",
   "id": "cc8ed675-6df1-4475-8bd3-6d85645c34de",
   "metadata": {},
   "source": [
    "Import the FRENCH_FRIES_STATISTICS.csv file and assign it to a variable."
   ]
  },
  {
   "cell_type": "code",
   "execution_count": 23,
   "id": "a969b7c7-3d49-4728-9aa1-18e768b90a44",
   "metadata": {},
   "outputs": [
    {
     "data": {
      "text/html": [
       "<style type=\"text/css\">\n",
       "</style>\n",
       "<table id=\"T_8fad1\">\n",
       "  <thead>\n",
       "    <tr>\n",
       "      <th class=\"blank level0\" >&nbsp;</th>\n",
       "      <th id=\"T_8fad1_level0_col0\" class=\"col_heading level0 col0\" >McDonald_rating</th>\n",
       "      <th id=\"T_8fad1_level0_col1\" class=\"col_heading level0 col1\" >Nations_rating</th>\n",
       "      <th id=\"T_8fad1_level0_col2\" class=\"col_heading level0 col2\" >McDonalds_fries_count</th>\n",
       "      <th id=\"T_8fad1_level0_col3\" class=\"col_heading level0 col3\" >Nations_fries_count</th>\n",
       "    </tr>\n",
       "  </thead>\n",
       "  <tbody>\n",
       "    <tr>\n",
       "      <th id=\"T_8fad1_level0_row0\" class=\"row_heading level0 row0\" >0</th>\n",
       "      <td id=\"T_8fad1_row0_col0\" class=\"data row0 col0\" >3.000000</td>\n",
       "      <td id=\"T_8fad1_row0_col1\" class=\"data row0 col1\" >4.000000</td>\n",
       "      <td id=\"T_8fad1_row0_col2\" class=\"data row0 col2\" >32.000000</td>\n",
       "      <td id=\"T_8fad1_row0_col3\" class=\"data row0 col3\" >34.000000</td>\n",
       "    </tr>\n",
       "    <tr>\n",
       "      <th id=\"T_8fad1_level0_row1\" class=\"row_heading level0 row1\" >1</th>\n",
       "      <td id=\"T_8fad1_row1_col0\" class=\"data row1 col0\" >3.000000</td>\n",
       "      <td id=\"T_8fad1_row1_col1\" class=\"data row1 col1\" >5.000000</td>\n",
       "      <td id=\"T_8fad1_row1_col2\" class=\"data row1 col2\" >37.000000</td>\n",
       "      <td id=\"T_8fad1_row1_col3\" class=\"data row1 col3\" >32.000000</td>\n",
       "    </tr>\n",
       "    <tr>\n",
       "      <th id=\"T_8fad1_level0_row2\" class=\"row_heading level0 row2\" >2</th>\n",
       "      <td id=\"T_8fad1_row2_col0\" class=\"data row2 col0\" >2.000000</td>\n",
       "      <td id=\"T_8fad1_row2_col1\" class=\"data row2 col1\" >3.000000</td>\n",
       "      <td id=\"T_8fad1_row2_col2\" class=\"data row2 col2\" >34.000000</td>\n",
       "      <td id=\"T_8fad1_row2_col3\" class=\"data row2 col3\" >31.000000</td>\n",
       "    </tr>\n",
       "    <tr>\n",
       "      <th id=\"T_8fad1_level0_row3\" class=\"row_heading level0 row3\" >3</th>\n",
       "      <td id=\"T_8fad1_row3_col0\" class=\"data row3 col0\" >2.000000</td>\n",
       "      <td id=\"T_8fad1_row3_col1\" class=\"data row3 col1\" >3.000000</td>\n",
       "      <td id=\"T_8fad1_row3_col2\" class=\"data row3 col2\" >30.000000</td>\n",
       "      <td id=\"T_8fad1_row3_col3\" class=\"data row3 col3\" >34.000000</td>\n",
       "    </tr>\n",
       "    <tr>\n",
       "      <th id=\"T_8fad1_level0_row4\" class=\"row_heading level0 row4\" >4</th>\n",
       "      <td id=\"T_8fad1_row4_col0\" class=\"data row4 col0\" >2.000000</td>\n",
       "      <td id=\"T_8fad1_row4_col1\" class=\"data row4 col1\" >4.000000</td>\n",
       "      <td id=\"T_8fad1_row4_col2\" class=\"data row4 col2\" >31.000000</td>\n",
       "      <td id=\"T_8fad1_row4_col3\" class=\"data row4 col3\" >33.000000</td>\n",
       "    </tr>\n",
       "  </tbody>\n",
       "</table>\n"
      ],
      "text/plain": [
       "<pandas.io.formats.style.Styler at 0x7de490ab9b90>"
      ]
     },
     "execution_count": 23,
     "metadata": {},
     "output_type": "execute_result"
    }
   ],
   "source": [
    "#load in data\n",
    "fries_stats = pd.read_csv('FRENCH_FRIES_STATS.csv')\n",
    "#checking to see if it loaded in okay\n",
    "fries_stats.head().style"
   ]
  },
  {
   "cell_type": "markdown",
   "id": "314a8425-853a-48eb-b7ed-f0a119907f46",
   "metadata": {},
   "source": [
    "Plot a histogram showing the distribution of how Jack rated McDonald's french fries."
   ]
  },
  {
   "cell_type": "code",
   "execution_count": 24,
   "id": "0dd90ac3-327a-4bc9-8ab4-7ae666250115",
   "metadata": {},
   "outputs": [
    {
     "data": {
      "text/plain": [
       "Text(0.5, 1.0, 'McDonalds')"
      ]
     },
     "execution_count": 24,
     "metadata": {},
     "output_type": "execute_result"
    },
    {
     "data": {
      "image/png": "[encoded data removed]",
      "text/plain": [
       "<Figure size 640x480 with 1 Axes>"
      ]
     },
     "metadata": {},
     "output_type": "display_data"
    }
   ],
   "source": [
    "#plot histogram using seaborn's histplot() function\n",
    "sns.histplot(\n",
    "    fries_stats['McDonald_rating'], \n",
    "    bins=[1,2,3,4,5,6] #specify 5 bins but force how they are generated\n",
    ")\n",
    "plt.xlabel('Jack rating')\n",
    "plt.ylabel('Frequency')\n",
    "plt.title('McDonalds')"
   ]
  },
  {
   "cell_type": "markdown",
   "id": "abdfac7f-178b-4c78-b582-1bf5b93e235d",
   "metadata": {},
   "source": [
    "Plot a histogram showing the distribution of how Jack rated Nation's french fries."
   ]
  },
  {
   "cell_type": "code",
   "execution_count": 25,
   "id": "a1e416c6-ca9b-46e3-b9f2-de963a8f2d67",
   "metadata": {},
   "outputs": [
    {
     "data": {
      "text/plain": [
       "Text(0.5, 1.0, 'Nations')"
      ]
     },
     "execution_count": 25,
     "metadata": {},
     "output_type": "execute_result"
    },
    {
     "data": {
      "image/png": "[encoded data removed]",
      "text/plain": [
       "<Figure size 640x480 with 1 Axes>"
      ]
     },
     "metadata": {},
     "output_type": "display_data"
    }
   ],
   "source": [
    "#plot using seaborn.histplot()\n",
    "sns.histplot(\n",
    "    fries_stats['Nations_rating'], \n",
    "    bins=[1,2,3,4,5,6] #force the exact bins that we want\n",
    ")\n",
    "plt.xlabel('Jack rating')\n",
    "plt.ylabel('Frequency')\n",
    "plt.title('Nations')"
   ]
  },
  {
   "cell_type": "markdown",
   "id": "100adbc4-1fd0-4580-bb2f-608020950a9d",
   "metadata": {},
   "source": [
    "<h2>Question 4</h2>"
   ]
  },
  {
   "cell_type": "markdown",
   "id": "ffb7520e-64c7-4e57-ba34-9be0433a7487",
   "metadata": {},
   "source": [
    "1 pt"
   ]
  },
  {
   "cell_type": "markdown",
   "id": "fde479e2-02c4-4584-967b-463d24eab3e3",
   "metadata": {},
   "source": [
    "Determine the correct statistical test to use to perform a pair-wise comparison between Jack's ratings for the two chains' french fries. Use that statistical test to determine if there is a significant difference between how Jack rated their french fries."
   ]
  },
  {
   "cell_type": "code",
   "execution_count": 26,
   "id": "fd558601-1d5b-46c0-a14e-b7bc7de508ee",
   "metadata": {},
   "outputs": [
    {
     "name": "stdout",
     "output_type": "stream",
     "text": [
      "statistically significant difference with p-value: 0.02939421910292284\n"
     ]
    }
   ],
   "source": [
    "#perform mannwhitneyu test using scipy.stats package because our data is ordinal and not parametric so cant use t-test\n",
    "fries_compare = stats.mannwhitneyu(\n",
    "    fries_stats['McDonald_rating'], \n",
    "    fries_stats['Nations_rating'], \n",
    "    nan_policy='omit' #we have nan in our data, so we can specify to ignore them when performing the test\n",
    ")\n",
    "#set up conditional output based on what our p-value is\n",
    "if fries_compare.pvalue < 0.05:\n",
    "    print('statistically significant difference with p-value:', fries_compare.pvalue)\n",
    "else:\n",
    "    print('not statistically significant with p-value:', fries_compare.pvalue)"
   ]
  },
  {
   "cell_type": "markdown",
   "id": "5def6f61-5b02-4afe-aa81-435af63f956d",
   "metadata": {},
   "source": [
    "<h2>Question 5</h2>"
   ]
  },
  {
   "cell_type": "markdown",
   "id": "e632a88e-d2b4-4420-83e2-0bddb4ffaa24",
   "metadata": {},
   "source": [
    "1 pt"
   ]
  },
  {
   "cell_type": "markdown",
   "id": "ef166817-8d34-4dfd-bf2d-59d23f08e310",
   "metadata": {},
   "source": [
    "Plot the distribution of french fries counts for both fast food chains on the same plot. Assign two different colors to each chain's distribution.\n",
    "\n",
    "Include the following in your plot:\n",
    "<ul>\n",
    "    <li>Y axis label</li>\n",
    "    <li>X axis label</li>\n",
    "    <li>X-axis that starts from 0</li>\n",
    "</ul>"
   ]
  },
  {
   "cell_type": "code",
   "execution_count": 27,
   "id": "d3ccb790-2715-425f-a7df-a1b98049f677",
   "metadata": {},
   "outputs": [
    {
     "data": {
      "text/plain": [
       "<matplotlib.legend.Legend at 0x7de4906ea350>"
      ]
     },
     "execution_count": 27,
     "metadata": {},
     "output_type": "execute_result"
    },
    {
     "data": {
      "image/png": "[encoded data removed]",
      "text/plain": [
       "<Figure size 640x480 with 1 Axes>"
      ]
     },
     "metadata": {},
     "output_type": "display_data"
    }
   ],
   "source": [
    "#set up subplot to overlay plots\n",
    "fig, ax = plt.subplots()\n",
    "#plot the two histograms\n",
    "sns.histplot(\n",
    "    data=fries_stats['McDonalds_fries_count'], #pull out column from dataframe directly while plotting\n",
    "    bins=np.arange(0, 45, 1), #force a specific bin setup that we like\n",
    "    label='McDonalds', #add label to our plotted data\n",
    "    alpha=0.5, #add transparency so we can see the other histogram - setting opacity to 50%\n",
    "    color='goldenrod' #fancy color :)\n",
    ")\n",
    "sns.histplot(\n",
    "    data=fries_stats['Nations_fries_count'], #pull out column\n",
    "    bins=np.arange(0, 45, 1), #force bin specification\n",
    "    label='Nations', #label\n",
    "    alpha=0.5, #transparency\n",
    "    color='silver' #color\n",
    ")\n",
    "\n",
    "#specify plot characteristics\n",
    "ax.set_xlim(0, 45)\n",
    "ax.set_ylabel('Frequency')\n",
    "ax.set_xlabel('Number of fries')\n",
    "plt.legend()"
   ]
  },
  {
   "cell_type": "code",
   "execution_count": null,
   "id": "ffcb7f41-e042-4d21-95c7-3390185d0673",
   "metadata": {},
   "outputs": [],
   "source": []
  }
 ],
 "metadata": {
  "kernelspec": {
   "display_name": "Python 3 (ipykernel)",
   "language": "python",
   "name": "python3"
  },
  "language_info": {
   "codemirror_mode": {
    "name": "ipython",
    "version": 3
   },
   "file_extension": ".py",
   "mimetype": "text/x-python",
   "name": "python",
   "nbconvert_exporter": "python",
   "pygments_lexer": "ipython3",
   "version": "3.11.0"
  }
 },
 "nbformat": 4,
 "nbformat_minor": 5
}
