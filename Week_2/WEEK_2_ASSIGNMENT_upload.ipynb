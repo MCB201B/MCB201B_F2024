{
 "cells": [
  {
   "cell_type": "markdown",
   "id": "be8208ab-6374-46b6-839b-474f23534e67",
   "metadata": {},
   "source": [
    "<h1 style=\"font-size: 40px; margin-bottom: 0px;\">Week 2 Assignment</h1>\n",
    "\n",
    "<hr style=\"margin-left: 0px; border: 0.25px solid; border-color: #000000; width: 600px;\"></hr>"
   ]
  },
  {
   "cell_type": "markdown",
   "id": "c259a21b-b45d-40ef-84fb-0217773441db",
   "metadata": {},
   "source": [
    "<strong><u>Due: Saturday, September 14 at 11:59PM</u></strong>\n",
    "\n",
    "<strong><u>Total points: 5 pts</u></strong>\n",
    "\n",
    "<strong><u>Data files associated with this assignment:</u></strong>\n",
    "<ul>\n",
    "    <li>Cell_counts_data.csv</li>\n",
    "    <li>FRENCH_FRIES_STATS.csv</li>\n",
    "</ul>\n",
    "\n",
    "<strong><u>To turn in your assignment:</u></strong>\n",
    "<ol>\n",
    "    <li>Complete assignment and make sure you have all the outputs requested for the notebook</li>\n",
    "    <li>Go to your server's file directory and locate your completed notebook file</li>\n",
    "    <li>Right click and select <strong>Download</strong> to download your completed notebook</li>\n",
    "    <li>Navigate to lab class <u><strong><a href=\"https://drive.google.com/drive/folders/1Limmo19dvhZz3qIaDDSnuSrl44yTiHUd?usp=sharing\" rel=\"noopener noreferrer\" target=\"_blank\">Google Drive</a></strong></u></li>\n",
    "    <li>Find your individual folder in the <strong>Assignment Submission folder</strong></li>\n",
    "    <li>Upload your completed notebook</li>\n",
    "</ol>\n",
    "\n",
    "<strong><u>How this assignment will be graded:</u></strong>\n",
    "\n",
    "You will be graded on whether or not your output is correct. You will also be graded on if your code is able to run without errors. There can be more than one correct way to answer a question. If you find that you prefer to separate your answer for a single question into multiple code cells, feel free to do so.\n",
    "<hr style=\"margin-left: 0px; border: 0.25px solid; border-color: #000000; width: 600px;\"></hr>"
   ]
  },
  {
   "cell_type": "markdown",
   "id": "633555a4-7bde-4ba7-a933-cbef98715cde",
   "metadata": {},
   "source": [
    "<h2>Question 1</h2>"
   ]
  },
  {
   "cell_type": "markdown",
   "id": "690e24a1-3a8e-4f94-b2db-45b823176b0d",
   "metadata": {},
   "source": [
    "1 pt"
   ]
  },
  {
   "cell_type": "markdown",
   "id": "be240d26-2fbd-49a7-82af-27fd33680b19",
   "metadata": {},
   "source": [
    "Import the Cell_counts_data.csv file, assign it to a variable, and output the first five rows of the table.\n",
    "\n",
    "Create a bar plot depiciting the means of the dataset and their associated <u>standard deviation</u>."
   ]
  },
  {
   "cell_type": "code",
   "execution_count": null,
   "id": "c48189f3-80ae-4d3d-b7c6-339e946a299a",
   "metadata": {},
   "outputs": [],
   "source": []
  },
  {
   "cell_type": "markdown",
   "id": "1fee96c5-989e-4685-85fc-8c41b9af6d0f",
   "metadata": {},
   "source": [
    "<h2>Question 2</h2>"
   ]
  },
  {
   "cell_type": "markdown",
   "id": "6072c586-d448-421f-90ac-9139df265562",
   "metadata": {},
   "source": [
    "1 pt"
   ]
  },
  {
   "cell_type": "markdown",
   "id": "9b1bb519-b6c9-4230-8aa6-9656e4837110",
   "metadata": {},
   "source": [
    "Perform a Student's two-tailed t-test using the cell counts data, and output the **t** test statistic and p-value. "
   ]
  },
  {
   "cell_type": "code",
   "execution_count": null,
   "id": "a121b0ef-b2d3-4253-800d-193544663cc8",
   "metadata": {},
   "outputs": [],
   "source": []
  },
  {
   "cell_type": "markdown",
   "id": "e3960d4a-4766-4305-8bec-f5396d1f7b86",
   "metadata": {},
   "source": [
    "<h2>Question 3</h2>"
   ]
  },
  {
   "cell_type": "markdown",
   "id": "97330b40-dab0-44ea-8537-8f5417c89182",
   "metadata": {},
   "source": [
    "1 pt"
   ]
  },
  {
   "cell_type": "markdown",
   "id": "cc8ed675-6df1-4475-8bd3-6d85645c34de",
   "metadata": {},
   "source": [
    "Import the FRENCH_FRIES_STATISTICS.csv file and assign it to a variable."
   ]
  },
  {
   "cell_type": "code",
   "execution_count": null,
   "id": "a969b7c7-3d49-4728-9aa1-18e768b90a44",
   "metadata": {},
   "outputs": [],
   "source": []
  },
  {
   "cell_type": "markdown",
   "id": "314a8425-853a-48eb-b7ed-f0a119907f46",
   "metadata": {},
   "source": [
    "Plot a histogram showing the distribution of how Jack rated McDonald's french fries."
   ]
  },
  {
   "cell_type": "code",
   "execution_count": null,
   "id": "0dd90ac3-327a-4bc9-8ab4-7ae666250115",
   "metadata": {},
   "outputs": [],
   "source": []
  },
  {
   "cell_type": "markdown",
   "id": "abdfac7f-178b-4c78-b582-1bf5b93e235d",
   "metadata": {},
   "source": [
    "Plot a histogram showing the distribution of how Jack rated Nation's french fries."
   ]
  },
  {
   "cell_type": "code",
   "execution_count": null,
   "id": "a1e416c6-ca9b-46e3-b9f2-de963a8f2d67",
   "metadata": {},
   "outputs": [],
   "source": []
  },
  {
   "cell_type": "markdown",
   "id": "100adbc4-1fd0-4580-bb2f-608020950a9d",
   "metadata": {},
   "source": [
    "<h2>Question 4</h2>"
   ]
  },
  {
   "cell_type": "markdown",
   "id": "ffb7520e-64c7-4e57-ba34-9be0433a7487",
   "metadata": {},
   "source": [
    "1 pt"
   ]
  },
  {
   "cell_type": "markdown",
   "id": "fde479e2-02c4-4584-967b-463d24eab3e3",
   "metadata": {},
   "source": [
    "Determine the correct statistical test to use to perform a pair-wise comparison between Jack's ratings for the two chains' french fries. Use that statistical test to determine if there is a significant difference between how Jack rated their french fries."
   ]
  },
  {
   "cell_type": "code",
   "execution_count": null,
   "id": "fd558601-1d5b-46c0-a14e-b7bc7de508ee",
   "metadata": {},
   "outputs": [],
   "source": []
  },
  {
   "cell_type": "markdown",
   "id": "5def6f61-5b02-4afe-aa81-435af63f956d",
   "metadata": {},
   "source": [
    "<h2>Question 5</h2>"
   ]
  },
  {
   "cell_type": "markdown",
   "id": "e632a88e-d2b4-4420-83e2-0bddb4ffaa24",
   "metadata": {},
   "source": [
    "1 pt"
   ]
  },
  {
   "cell_type": "markdown",
   "id": "ef166817-8d34-4dfd-bf2d-59d23f08e310",
   "metadata": {},
   "source": [
    "Plot the distribution of french fries counts for both fast food chains on the same plot. Assign two different colors to each chain's distribution.\n",
    "\n",
    "Include the following in your plot:\n",
    "<ul>\n",
    "    <li>Y axis label</li>\n",
    "    <li>X axis label</li>\n",
    "    <li>X-axis that starts from 0</li>\n",
    "</ul>"
   ]
  },
  {
   "cell_type": "code",
   "execution_count": null,
   "id": "d3ccb790-2715-425f-a7df-a1b98049f677",
   "metadata": {},
   "outputs": [],
   "source": []
  }
 ],
 "metadata": {
  "kernelspec": {
   "display_name": "Python 3 (ipykernel)",
   "language": "python",
   "name": "python3"
  },
  "language_info": {
   "codemirror_mode": {
    "name": "ipython",
    "version": 3
   },
   "file_extension": ".py",
   "mimetype": "text/x-python",
   "name": "python",
   "nbconvert_exporter": "python",
   "pygments_lexer": "ipython3",
   "version": "3.11.0"
  }
 },
 "nbformat": 4,
 "nbformat_minor": 5
}
