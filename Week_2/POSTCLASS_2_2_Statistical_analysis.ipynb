{
 "cells": [
  {
   "cell_type": "markdown",
   "id": "47238eac-bb04-47c1-9435-a4b7f6fc87f3",
   "metadata": {},
   "source": [
    "<h1 style=\"font-size: 40px; margin-bottom: 0px;\">2.2 Statistical analysis with Python</h1>\n",
    "\n",
    "<p style=\"margin-top: 15px;\"><strong>And more plotting (maybe)</strong></p>\n",
    "\n",
    "<hr style=\"margin-left: 0px; border: 0.25px solid; border-color: #000000; width: 600px;\"></hr>"
   ]
  },
  {
   "cell_type": "markdown",
   "id": "70be6421-c266-4662-a025-37e7efb3ad59",
   "metadata": {},
   "source": [
    "Today, we'll be working with quantitative data, nominal data, and ordinal data in order to practice statistical analysis in Python. We'll be starting today with yesterday's second in class exercise and incorporating it into today's lesson.\n",
    "\n",
    "learning the different functions needed to calculate descriptive statistics and to perform different statistical tests. We'll be continuing to build upon what we've learned previously with an initial exercise that will prepare a dataset for us.\n",
    "\n",
    "<strong>Learning objectives:</strong>\n",
    "<ul>\n",
    "    <li>Continue to practice using functions and reading documentation</li>\n",
    "    <li>Continue to practice specifying arguments for functions</li>\n",
    "    <li>Additional plotting practice</li>\n",
    "    <li>Practice identifying object types</li>\n",
    "    <li>Learn methods to calculate descriptive statistics</li>\n",
    "    <li>Perform pair-wise comparisons between datasets</li>\n",
    "</ul>"
   ]
  },
  {
   "cell_type": "markdown",
   "id": "e6b585af-50fa-4a53-81c4-489e953f9ce0",
   "metadata": {},
   "source": [
    "<strong>As usual, we want to start by importing the necessary packages that we'll need for today's lesson:</strong>\n",
    "<ul>\n",
    "    <li>NumPy</li>\n",
    "    <li>pandas</li>\n",
    "    <li>matplotlib.pyplot</li>\n",
    "    <li>scipy.stats (as stats)</li>\n",
    "    <li>seaborn</li>\n",
    "</ul>"
   ]
  },
  {
   "cell_type": "code",
   "execution_count": 1,
   "id": "e5884619-25ff-4c0d-a0e1-e9a6046993b5",
   "metadata": {},
   "outputs": [],
   "source": [
    "import numpy as np\n",
    "import pandas as pd\n",
    "import matplotlib.pyplot as plt\n",
    "import scipy.stats as stats\n",
    "import seaborn as sns #You'll need to update seaborn if importing it gives an error."
   ]
  },
  {
   "cell_type": "markdown",
   "id": "22df366d-3f5b-41d3-97ed-57f5478111f6",
   "metadata": {},
   "source": [
    "<h1 style=\"font-size: 40px; margin-bottom: 0px;\">Exercise #1 - Quantitative Data</h1>\n",
    "\n",
    "<hr style=\"margin-left: 0px; border: 0.25px solid; border-color: #000000; width: 600px;\"></hr>"
   ]
  },
  {
   "cell_type": "markdown",
   "id": "043bcca9-15cc-4f8b-8e55-e40ed20af586",
   "metadata": {},
   "source": [
    "As you may remember from lecture, quantitative data (sometimes referred to as quantitative variables) is data that holds some measurable value, such as cell counts, height, and fluorescence intensity, and it can come in two forms:\n",
    "<ul>\n",
    "    <li><strong>Discrete</strong> - where the measurement cannot be represented with decimals, such as cell counts</li>\n",
    "    <li><strong>Continuous</strong> - where the data can be represented by decimals or fractions</li>\n",
    "</ul>\n",
    "\n",
    "In this first exercise, we'll use our tumor weights and tumor volumes dataset. I've tidied up the data and saved it as a CSV file for this lesson. You'll find it titled TUMOR_VOL_WEIGHT.csv in your copy of the class directory.\n",
    "\n",
    "\n",
    "<strong>Functions and attributes that we'll use in this exercise are:</strong>\n",
    "<ul>\n",
    "    <li><mark style=\"background-color: #EEEEEE;\"><strong>pd.read_csv()</strong></mark> - to import our .csv file</li>\n",
    "    <li><mark style=\"background-color: #EEEEEE;\"><strong>print()</strong></mark> - to perform sanity checks</li>\n",
    "    <li><mark style=\"background-color: #EEEEEE;\"><strong>type()</strong></mark> - to check data types</li>\n",
    "    <li><mark style=\"background-color: #EEEEEE;\"><strong>pd.DataFrame.loc</strong></mark>\n",
    "    <li><mark style=\"background-color: #EEEEEE;\"><strong>pd.DataFrame.mean()</strong></mark> - to calculate the mean of elements along a specified axis in a DataFrame</li>\n",
    "    <li><mark style=\"background-color: #EEEEEE;\"><strong>pd.DataFrame.median()</strong></mark> - to calculate the median of elements along a specified axis in a DataFrame</li>\n",
    "        <li><mark style=\"background-color: #EEEEEE;\"><strong>pd.DataFrame.std()</strong></mark> - to calculate the standard deviation of elements along a specified axis in a DataFrame</li>\n",
    "</ul>"
   ]
  },
  {
   "cell_type": "markdown",
   "id": "ea2a6d79-39e8-405f-8173-c93992affd6b",
   "metadata": {},
   "source": [
    "<h3>1. Import data, assign it to a variable, and take a look to see if it imported correctly and check its type.</h3>"
   ]
  },
  {
   "cell_type": "code",
   "execution_count": 2,
   "id": "55c12390-d6e4-473e-9dcd-08501f92b6af",
   "metadata": {},
   "outputs": [
    {
     "name": "stdout",
     "output_type": "stream",
     "text": [
      "    control_weight  control_volume  ko_weight  ko_volume\n",
      "0           0.2225     1356.480000     0.0239     200.96\n",
      "1           0.1016      502.400000     0.0476     439.60\n",
      "2           0.2888     2411.520000     0.0122     109.90\n",
      "3           0.0778      439.600000     0.0754     376.80\n",
      "4           0.0802      602.880000        NaN        NaN\n",
      "5           0.8180      401.920000        NaN        NaN\n",
      "6           0.6800      133.973333        NaN        NaN\n",
      "7           0.0209      263.760000        NaN        NaN\n",
      "8           0.1323     1172.266667        NaN        NaN\n",
      "9           0.1293      753.600000        NaN        NaN\n",
      "10          0.3656     2461.760000        NaN        NaN\n",
      "11          0.0791      598.693333        NaN        NaN\n",
      "12          0.0782      628.000000        NaN        NaN\n",
      "13          0.0726      535.893333        NaN        NaN\n",
      "14          0.2804     1130.400000        NaN        NaN\n",
      "15          0.0555      234.453333        NaN        NaN\n",
      "16          0.0371      150.720000        NaN        NaN\n",
      "17          0.0179       83.733333        NaN        NaN\n",
      "<class 'pandas.core.frame.DataFrame'>\n"
     ]
    }
   ],
   "source": [
    "#Import data using read_csv function and check\n",
    "tumor_stats = pd.read_csv('TUMOR_VOL_WEIGHT.csv')\n",
    "print(tumor_stats)\n",
    "print(type(tumor_stats))"
   ]
  },
  {
   "cell_type": "markdown",
   "id": "c95a3671-07d9-4713-bc14-3dec2a163311",
   "metadata": {},
   "source": [
    "<h3>2. Pull out just the weights into a single DataFrame (2 columns),</br></br>assign it to a new variable, and check the new DataFrame</h3>"
   ]
  },
  {
   "cell_type": "code",
   "execution_count": 3,
   "id": "ff951cdf-bb70-4a21-b89e-d444b055e7ad",
   "metadata": {},
   "outputs": [
    {
     "name": "stdout",
     "output_type": "stream",
     "text": [
      "    control_weight  ko_weight\n",
      "0           0.2225     0.0239\n",
      "1           0.1016     0.0476\n",
      "2           0.2888     0.0122\n",
      "3           0.0778     0.0754\n",
      "4           0.0802        NaN\n",
      "5           0.8180        NaN\n",
      "6           0.6800        NaN\n",
      "7           0.0209        NaN\n",
      "8           0.1323        NaN\n",
      "9           0.1293        NaN\n",
      "10          0.3656        NaN\n",
      "11          0.0791        NaN\n",
      "12          0.0782        NaN\n",
      "13          0.0726        NaN\n",
      "14          0.2804        NaN\n",
      "15          0.0555        NaN\n",
      "16          0.0371        NaN\n",
      "17          0.0179        NaN\n",
      "    control_weight  ko_weight\n",
      "0           0.2225     0.0239\n",
      "1           0.1016     0.0476\n",
      "2           0.2888     0.0122\n",
      "3           0.0778     0.0754\n",
      "4           0.0802        NaN\n",
      "5           0.8180        NaN\n",
      "6           0.6800        NaN\n",
      "7           0.0209        NaN\n",
      "8           0.1323        NaN\n",
      "9           0.1293        NaN\n",
      "10          0.3656        NaN\n",
      "11          0.0791        NaN\n",
      "12          0.0782        NaN\n",
      "13          0.0726        NaN\n",
      "14          0.2804        NaN\n",
      "15          0.0555        NaN\n",
      "16          0.0371        NaN\n",
      "17          0.0179        NaN\n"
     ]
    }
   ],
   "source": [
    "#Pull out the weights and assign it to a new variable:\n",
    "tumor_weights = tumor_stats[['control_weight', 'ko_weight']]\n",
    "#Check to make sure everything is okay:\n",
    "print(tumor_weights)\n",
    "\n",
    "#Alternative syntax:\n",
    "tumor_weights_alt = tumor_stats.loc[:, ::2]\n",
    "\n",
    "print(tumor_weights_alt)"
   ]
  },
  {
   "cell_type": "markdown",
   "id": "3f70d646-49b5-4d07-a4be-3ec6735868c0",
   "metadata": {},
   "source": [
    "<h3>3. Pull out just the volumes into a single DataFrame (2 columns),</br></br>then assign to a new variable and check the output</h3>"
   ]
  },
  {
   "cell_type": "code",
   "execution_count": 4,
   "id": "c8f0dc0f-a111-49c6-a43d-595befde5bf6",
   "metadata": {},
   "outputs": [
    {
     "name": "stdout",
     "output_type": "stream",
     "text": [
      "    control_volume  ko_volume\n",
      "0      1356.480000     200.96\n",
      "1       502.400000     439.60\n",
      "2      2411.520000     109.90\n",
      "3       439.600000     376.80\n",
      "4       602.880000        NaN\n",
      "5       401.920000        NaN\n",
      "6       133.973333        NaN\n",
      "7       263.760000        NaN\n",
      "8      1172.266667        NaN\n",
      "9       753.600000        NaN\n",
      "10     2461.760000        NaN\n",
      "11      598.693333        NaN\n",
      "12      628.000000        NaN\n",
      "13      535.893333        NaN\n",
      "14     1130.400000        NaN\n",
      "15      234.453333        NaN\n",
      "16      150.720000        NaN\n",
      "17       83.733333        NaN\n",
      "<class 'pandas.core.frame.DataFrame'>\n"
     ]
    }
   ],
   "source": [
    "#Pull out the volumes and assign it to a new variable:\n",
    "tumor_vols = tumor_stats[['control_volume', 'ko_volume']]\n",
    "#Check to make sure everything is okay:\n",
    "print(tumor_vols)\n",
    "print(type(tumor_vols))"
   ]
  },
  {
   "cell_type": "markdown",
   "id": "ae8894c7-1b81-4711-86f6-6c891c63c4d1",
   "metadata": {},
   "source": [
    "<h3>4. Convert the weights from g to mg.</h3>"
   ]
  },
  {
   "cell_type": "code",
   "execution_count": 5,
   "id": "8ce46ba1-ffac-478b-aec1-2e309f2f4793",
   "metadata": {},
   "outputs": [
    {
     "name": "stdout",
     "output_type": "stream",
     "text": [
      "    control_weight  ko_weight\n",
      "0            222.5       23.9\n",
      "1            101.6       47.6\n",
      "2            288.8       12.2\n",
      "3             77.8       75.4\n",
      "4             80.2        NaN\n",
      "5            818.0        NaN\n",
      "6            680.0        NaN\n",
      "7             20.9        NaN\n",
      "8            132.3        NaN\n",
      "9            129.3        NaN\n",
      "10           365.6        NaN\n",
      "11            79.1        NaN\n",
      "12            78.2        NaN\n",
      "13            72.6        NaN\n",
      "14           280.4        NaN\n",
      "15            55.5        NaN\n",
      "16            37.1        NaN\n",
      "17            17.9        NaN\n"
     ]
    }
   ],
   "source": [
    "#Convert the weights from g to mg\n",
    "tumor_weights = tumor_weights*1000 #You'll need to assign it to either a new variable or the old variable to update the DataFrame\n",
    "\n",
    "print(tumor_weights)"
   ]
  },
  {
   "cell_type": "markdown",
   "id": "ef8053e7-cf53-49e6-9d64-8428b5771b25",
   "metadata": {},
   "source": [
    "<h3>5. Calculate the mean and median of control and ko tumor weights. Do the same for tumor volumes.</h3>"
   ]
  },
  {
   "cell_type": "code",
   "execution_count": 6,
   "id": "59fbc1bf-8451-428c-89d5-efe0ca498b6c",
   "metadata": {},
   "outputs": [
    {
     "name": "stdout",
     "output_type": "stream",
     "text": [
      "control_weight    196.544444\n",
      "ko_weight          39.775000\n",
      "dtype: float64\n",
      "control_volume    770.114074\n",
      "ko_volume         281.815000\n",
      "dtype: float64\n",
      "control_weight    90.90\n",
      "ko_weight         35.75\n",
      "dtype: float64\n",
      "control_volume    567.293333\n",
      "ko_volume         288.880000\n",
      "dtype: float64\n"
     ]
    }
   ],
   "source": [
    "#Let's calculate the mean of our weights:\n",
    "print(tumor_weights.mean(axis=0))\n",
    "\n",
    "#Let's calculate the mean of our volumes:\n",
    "print(tumor_vols.mean(axis=0))\n",
    "\n",
    "#Let's calculate the median of our weights:\n",
    "print(tumor_weights.median(axis=0))\n",
    "\n",
    "#Let's calculate the median of our volumes:\n",
    "print(tumor_vols.median(axis=0))\n",
    "\n",
    "#You can also do one at a time:\n",
    "#print(tumor_weights['control_weight'].mean())\n",
    "\n",
    "#print(tumor_weights['ko_weight'].median())"
   ]
  },
  {
   "cell_type": "markdown",
   "id": "041b9f4b-c844-4c2c-82e5-6b4ae4fed9f0",
   "metadata": {},
   "source": [
    "<h3>6. Determine if the mean and median are equal and output the result. Do this for both control and ko (for tumor weight and volume).</h3>"
   ]
  },
  {
   "cell_type": "code",
   "execution_count": 7,
   "id": "cd1d89ed-3618-42f9-a4a7-671af8321d3b",
   "metadata": {},
   "outputs": [
    {
     "name": "stdout",
     "output_type": "stream",
     "text": [
      "False\n",
      "False\n",
      "False\n",
      "False\n"
     ]
    }
   ],
   "source": [
    "print(tumor_weights['control_weight'].mean() == tumor_weights['control_weight'].median()) #Practicing writing conditional statements and also using functions\n",
    "\n",
    "print(tumor_weights['ko_weight'].mean() == tumor_weights['ko_weight'].median())\n",
    "\n",
    "print(tumor_vols['control_volume'].mean() == tumor_vols['control_volume'].median())\n",
    "\n",
    "print(tumor_vols['ko_volume'].mean() == tumor_vols['ko_volume'].median())"
   ]
  },
  {
   "cell_type": "markdown",
   "id": "d0d7a4d2-44f1-4d2a-abda-1fc4d25ca474",
   "metadata": {},
   "source": [
    "<h3>7. Calculate the standard deviation for control and ko (for weights and volumes).</h3>"
   ]
  },
  {
   "cell_type": "code",
   "execution_count": 8,
   "id": "b0f55db7-2b29-416b-8006-09e46b1f3548",
   "metadata": {},
   "outputs": [
    {
     "name": "stdout",
     "output_type": "stream",
     "text": [
      "control_weight    225.084845\n",
      "ko_weight          27.944991\n",
      "dtype: float64\n",
      "control_volume    704.738771\n",
      "ko_volume         152.764039\n",
      "dtype: float64\n"
     ]
    }
   ],
   "source": [
    "#let's calculate our standard deviation:\n",
    "print(tumor_weights.std(axis=0))\n",
    "#Axis is needed to specify that we want it to calculate the standard deviation along each column\n",
    "print(tumor_vols.std(axis=0))"
   ]
  },
  {
   "cell_type": "markdown",
   "id": "3c178357-2579-495d-8857-728c90d61a8e",
   "metadata": {},
   "source": [
    "<h3>Challenge: Generate a fake dataset for control weights and ko weights with 50 samples per group.</h3>"
   ]
  },
  {
   "cell_type": "markdown",
   "id": "f0dfaa8c-60b3-4d9c-801a-fccddc7e018f",
   "metadata": {},
   "source": [
    "Use the following function to create a DataFrame containing fake control weights and ko weights that are normally distributed:\n",
    "\n",
    "You will need to determine which arguments you will need to change to get a sample size of 50 for each group\n",
    "```\n",
    "numpy.random.normal(loc=0.0, scale=1.0, size=None)\n",
    "```\n",
    "Breaking down the function's parameters:\n",
    "<ul>\n",
    "    <li><mark style=\"background-color: #EEEEEE;\"><strong>loc</strong></mark> - This specifies the center of the normal distribution. Default is 0</li>\n",
    "    <li><mark style=\"background-color: #EEEEEE;\"><strong>scale</strong></mark> - This specifies the standard deviation. Default is 1</li>\n",
    "    <li><mark style=\"background-color: #EEEEEE;\"><strong>size</strong></mark> - This specifies the shape of the output array</li>\n",
    "</ul>\n",
    "\n",
    "We'll use this data set when we do our guided plotting today."
   ]
  },
  {
   "cell_type": "code",
   "execution_count": 9,
   "id": "0abcaf0d-9a79-482c-994d-c15f14d660cb",
   "metadata": {},
   "outputs": [
    {
     "name": "stdout",
     "output_type": "stream",
     "text": [
      "[179.36195013 222.25614307 196.18061333 162.04709661 170.07147682\n",
      " 179.63897691 214.86735742 211.85571455 189.27120656 232.57115986\n",
      " 180.67266785 189.45458628 164.16160403 207.48088804 196.7903122\n",
      " 194.39256207 177.17099883 195.13193541 191.35565643 177.56936515\n",
      " 214.83292578 165.21530584 199.82340823 202.97866778 217.99014054\n",
      " 177.61725449 177.52906898 218.2431871  123.97734746 190.5266599\n",
      " 170.40351909 218.27865498 183.03869652 190.10609671 181.08752651\n",
      " 195.79591542 219.30663853 140.52490621 222.16619479 197.98213244\n",
      " 215.74489314 221.27405807 195.26011116 174.27599942 184.90379894\n",
      " 185.66991168 182.30304159 192.47692805 215.47882731 180.82000211]\n",
      " \n",
      "[30.54704632 39.97498414 24.95748395 24.54571058 46.64151433 27.92868928\n",
      "  6.80379765 32.95709644 37.12524696 26.02129883 34.29442841 22.20341064\n",
      " 47.11718067 51.22300992 32.15458196 60.29133863 38.47132072 57.27545987\n",
      " 27.91410936 24.51951125 40.91028115 32.53663971 38.79921078 57.41780126\n",
      " 31.88713118 50.21713971 50.82278859 41.6477204  51.75393784 45.70024113\n",
      " 34.57587243  9.63069998 58.62846647 21.80921471 49.9967533  26.00754181\n",
      " 73.96226948 50.32789845 18.51981246 54.25808443 27.29548345 32.30394588\n",
      " 40.16346937 23.72757956 46.45074409 30.12147086  3.0679534  30.31390877\n",
      " 57.63220281 58.56108664]\n"
     ]
    }
   ],
   "source": [
    "#The random.normal function creates a list comprising of a random dataset of floats that are normally distributed around the center (loc parameter)\n",
    "control_fake_weights = np.random.normal(195, 20, 50)\n",
    "ko_fake_weights= np.random.normal(40, 15, 50)\n",
    "\n",
    "print(control_fake_weights, end='\\n \\n')\n",
    "print(ko_fake_weights)"
   ]
  },
  {
   "cell_type": "code",
   "execution_count": 10,
   "id": "5da6c2cc-329c-4580-a095-1867a47311f8",
   "metadata": {},
   "outputs": [
    {
     "name": "stdout",
     "output_type": "stream",
     "text": [
      "    control_weight  ko_weight\n",
      "0       179.361950  30.547046\n",
      "1       222.256143  39.974984\n",
      "2       196.180613  24.957484\n",
      "3       162.047097  24.545711\n",
      "4       170.071477  46.641514\n",
      "5       179.638977  27.928689\n",
      "6       214.867357   6.803798\n",
      "7       211.855715  32.957096\n",
      "8       189.271207  37.125247\n",
      "9       232.571160  26.021299\n",
      "10      180.672668  34.294428\n",
      "11      189.454586  22.203411\n",
      "12      164.161604  47.117181\n",
      "13      207.480888  51.223010\n",
      "14      196.790312  32.154582\n",
      "15      194.392562  60.291339\n",
      "16      177.170999  38.471321\n",
      "17      195.131935  57.275460\n",
      "18      191.355656  27.914109\n",
      "19      177.569365  24.519511\n",
      "20      214.832926  40.910281\n",
      "21      165.215306  32.536640\n",
      "22      199.823408  38.799211\n",
      "23      202.978668  57.417801\n",
      "24      217.990141  31.887131\n",
      "25      177.617254  50.217140\n",
      "26      177.529069  50.822789\n",
      "27      218.243187  41.647720\n",
      "28      123.977347  51.753938\n",
      "29      190.526660  45.700241\n",
      "30      170.403519  34.575872\n",
      "31      218.278655   9.630700\n",
      "32      183.038697  58.628466\n",
      "33      190.106097  21.809215\n",
      "34      181.087527  49.996753\n",
      "35      195.795915  26.007542\n",
      "36      219.306639  73.962269\n",
      "37      140.524906  50.327898\n",
      "38      222.166195  18.519812\n",
      "39      197.982132  54.258084\n",
      "40      215.744893  27.295483\n",
      "41      221.274058  32.303946\n",
      "42      195.260111  40.163469\n",
      "43      174.275999  23.727580\n",
      "44      184.903799  46.450744\n",
      "45      185.669912  30.121471\n",
      "46      182.303042   3.067953\n",
      "47      192.476928  30.313909\n",
      "48      215.478827  57.632203\n",
      "49      180.820002  58.561087\n"
     ]
    }
   ],
   "source": [
    "#To create a DataFrame from two lists with each list being in it's own column,\n",
    "#you can first create a DataFrame using one list and set the column label.\n",
    "tumor_fake_weights = pd.DataFrame(control_fake_weights, columns=['control_weight'])\n",
    "\n",
    "#Then have Python pull a \"non-existent\" column with a desired label\n",
    "#and assign values to it based on the other list.\n",
    "tumor_fake_weights['ko_weight'] = ko_fake_weights\n",
    "\n",
    "#Check\n",
    "print(tumor_fake_weights)"
   ]
  },
  {
   "cell_type": "markdown",
   "id": "577b627b-f9e5-4889-976c-b579191ca6a0",
   "metadata": {},
   "source": [
    "<h1 style=\"font-size: 40px; margin-bottom: 0px;\">Two-tailed t-test</h1>\n",
    "\n",
    "<hr style=\"margin-left: 0px; border: 0.25px solid; border-color: #000000; width: 600px;\"></hr>"
   ]
  },
  {
   "cell_type": "markdown",
   "id": "69eff8db-0ccc-423b-9b31-498759930f80",
   "metadata": {},
   "source": [
    "We've taken a look at our data's descriptive statistics, and to compare the means of our two groups, we'll make use of the <mark style=\"background-color: #EEEEEE;\"><strong>scipy.stats</strong></mark> package that we imported today. This package contains a lot of important functions that allow us to perform the statistical tests that we'll often encounter in biomedical research. The one we're all familiar with is the two-tailed t-test that tells us whether or not the means of two groups are equal.\n",
    "\n",
    "The function in <mark style=\"background-color: #EEEEEE;\"><strong>scipy.stats</strong></mark> that allows us to perform a two-tailed t-test is the <mark style=\"background-color: #EEEEEE;\"><strong>scipy.stats.ttest_ind()</strong></mark> function. <u><a href=\"https://docs.scipy.org/doc/scipy/reference/generated/scipy.stats.ttest_ind.html\" rel=\"noopener noreferrer\" target=\"_blank\">Documentation for the function is here</a></u>.\n",
    "```\n",
    "scipy.stats.ttest_ind(a, b, axis=0, equal_var=True, nan_policy='propagate')\n",
    "```\n",
    "\n",
    "The main arguments that you'll need to keep in mind are:\n",
    "<ul>\n",
    "    <li><mark style=\"background-color: #EEEEEE;\"><strong>a</strong></mark> - list or array-like object of your first group of samples</li>\n",
    "    <li><mark style=\"background-color: #EEEEEE;\"><strong>b</strong></mark> - list or array-like object of your second group of samples</li>\n",
    "    <li><mark style=\"background-color: #EEEEEE;\"><strong>axis</strong></mark> - specifies axis to perform the test</li>\n",
    "    <li><mark style=\"background-color: #EEEEEE;\"><strong>equal_var</strong></mark> - tells Python if you want it to assume equal variance or not. If not assuming equal variance, then it will perform a Welch's t-test</li>\n",
    "    <li><mark style=\"background-color: #EEEEEE;\"><strong>nan_policy</strong></mark> - tells Python what to do if it encounters an <mark style=\"background-color: #EEEEEE;\"><strong>NaN</strong></mark>. Can specify <mark style=\"background-color: #EEEEEE;\"><strong>'propagate'</strong></mark> to propagate the <mark style=\"background-color: #EEEEEE;\"><strong>NaN</strong></mark> to the output or <mark style=\"background-color: #EEEEEE;\"><strong>'omit'</strong></mark> to ignore it in the calculations or <mark style=\"background-color: #EEEEEE;\"><strong>'raise'</strong></mark> to raise an error when <mark style=\"background-color: #EEEEEE;\"><strong>NaN</strong></mark> is encountered</li>\n",
    "</ul>\n",
    "\n",
    "There's a single output to this function, but keep in mind that this single output has multiple attributes. So you can actually have Python output either the full result or specific attributes of the result of the t-test.\n",
    "<ul>\n",
    "    <li><mark style=\"background-color: #EEEEEE;\"><strong>result</strong></mark> - this is the output. You'll want to save your output to a variable, so you can call up the attributes</li>\n",
    "    <ul>\n",
    "        <li><mark style=\"background-color: #EEEEEE;\"><strong>statistic</strong></mark> - t-statistic used to calculate the p-value. This is an attribute of the result</li>\n",
    "        <li><mark style=\"background-color: #EEEEEE;\"><strong>pvalue</strong></mark> - the p-value. This is a second attribute of the result</li>\n",
    "    </ul>\n",
    "</ul>\n",
    "\n",
    "So if you want to find the resulting p-value of your statistical analysis, you can either tell Python to directly pull the <mark style=\"background-color: #EEEEEE;\"><strong>pvalue</strong></mark> attribute when it does the test. Or you can save the result of the test to a variable, and then have Python output the <mark style=\"background-color: #EEEEEE;\"><strong>pvalue</strong></mark> attribute.\n",
    "```\n",
    "conclusion = stat.ttest_ind(a, b)\n",
    "print(conclusion.pvalue)\n",
    "```"
   ]
  },
  {
   "cell_type": "markdown",
   "id": "3b06c751-8c1e-465b-91a7-17f6546b5270",
   "metadata": {},
   "source": [
    "<h3>Perform a two-tailed t-test comparing control and tumor weights and volumes.</h3>"
   ]
  },
  {
   "cell_type": "code",
   "execution_count": 11,
   "id": "8adc95e7-9c2c-4816-a49a-3e7ae1d61328",
   "metadata": {},
   "outputs": [
    {
     "name": "stdout",
     "output_type": "stream",
     "text": [
      "t-statistic is: 1.3648054424932643\n",
      "p-value is: 0.18747318413976158\n"
     ]
    }
   ],
   "source": [
    "#When using stats functions, you'll want to assign the output to a variable\n",
    "real_result = stats.ttest_ind(tumor_weights['control_weight'], tumor_weights['ko_weight'], nan_policy='omit')\n",
    "\n",
    "#Then you can pull specific attributes from the output\n",
    "print('t-statistic is:', real_result.statistic)\n",
    "print('p-value is:', real_result.pvalue)"
   ]
  },
  {
   "cell_type": "code",
   "execution_count": 12,
   "id": "db40a7d1-0b21-47b6-9a88-93d38dca3395",
   "metadata": {},
   "outputs": [
    {
     "name": "stdout",
     "output_type": "stream",
     "text": [
      "t-statistic is: 1.3539730631700757\n",
      "p-value is: 0.19084795559250847\n"
     ]
    }
   ],
   "source": [
    "real_result_vol = stats.ttest_ind(tumor_vols['control_volume'], tumor_vols['ko_volume'], nan_policy='omit')\n",
    "\n",
    "print('t-statistic is:', real_result_vol.statistic)\n",
    "print('p-value is:', real_result_vol.pvalue)"
   ]
  },
  {
   "cell_type": "markdown",
   "id": "c29ea8db-1d84-4d3d-977a-1fc4e12e9a4a",
   "metadata": {},
   "source": [
    "<h3>You can also do the same with the fake quantitative data set.</h3>"
   ]
  },
  {
   "cell_type": "code",
   "execution_count": 13,
   "id": "34f9543f-f03a-4411-99e2-0bc90fa848d7",
   "metadata": {},
   "outputs": [
    {
     "name": "stdout",
     "output_type": "stream",
     "text": [
      "t-statistic is: 41.44640980883116\n",
      "p-value is: 6.204506922450476e-64\n"
     ]
    }
   ],
   "source": [
    "fake_result_w = stats.ttest_ind(tumor_fake_weights['control_weight'], tumor_fake_weights['ko_weight'])\n",
    "\n",
    "print('t-statistic is:', fake_result_w.statistic)\n",
    "print('p-value is:', fake_result_w.pvalue)"
   ]
  },
  {
   "cell_type": "code",
   "execution_count": null,
   "id": "2ea90663-8eb1-491f-9805-75f36a7cf309",
   "metadata": {},
   "outputs": [],
   "source": []
  },
  {
   "cell_type": "markdown",
   "id": "f3ba0039-2b2f-40d9-9e10-ad9e3ba6a8fd",
   "metadata": {},
   "source": [
    "<h1 style=\"font-size: 40px; margin-bottom: 0px;\">Exercise #2 - Ordinal/ranked data</h1>\n",
    "\n",
    "<hr style=\"margin-left: 0px; border: 0.25px solid; border-color: #000000; width: 600px;\"></hr>"
   ]
  },
  {
   "cell_type": "markdown",
   "id": "18b4574f-564a-40a3-a9c1-25165a81a7a4",
   "metadata": {},
   "source": [
    "Ordinal, or ranked, data is data that has some assigned numerical value, but there's not really a specific quantitative value associated with it. Ranked data is represented numerically, but the \"distance\" between two ranks is not quantifiable like with quantitative data. Rather, you can think of ranked data as having a \"difference\" in some characteristic or quality rather than a difference in quantity. Like the example we went over in lecture, cancer stages do have some assigned numerical rank, but the difference between cancer stages is dependent on both measurable (tumor size) and qualitative (basement membrane breach, invasion, metastasis) characteristics of the cancer.\n",
    "\n",
    "In Python, what this means is that, we can use the data type **int** or **float** to represent ranked data, but we cannot analyze the data using the usual parametric statistical tests. Instead, we'll need to make use of non-parametric statistics.\n",
    "\n",
    "Before we get into that, let's do a quick exercise to generate some ranked data, since we don't have any from MCB201A."
   ]
  },
  {
   "cell_type": "markdown",
   "id": "92a496ed-63ae-4127-856c-e5c47c938231",
   "metadata": {},
   "source": [
    "<h3>1. Generate a list of integers that range from 1 to 4 to represent cancer stages.</h3>"
   ]
  },
  {
   "cell_type": "markdown",
   "id": "aa16ae5e-dea7-43c6-943c-39c4bd1bbe5d",
   "metadata": {},
   "source": [
    "Let's create a list of **int** with sample sample size of 20, and do this for both control and KO samples.\n",
    "\n",
    "We'll make use of the <mark style=\"background-color: #EEEEEE;\"><strong>numpy.random.randint()</strong></mark> function.\n",
    "```\n",
    "variable = numpy.random.randint(low, high, size)\n",
    "```\n",
    "Note that the <mark style=\"background-color: #EEEEEE;\"><strong>high</strong></mark> parameter should be your highest value + 1 (due to the quirks of Python)."
   ]
  },
  {
   "cell_type": "code",
   "execution_count": 14,
   "id": "bfc1e721-f8dd-4f81-a17b-f41ff0bd0f8d",
   "metadata": {},
   "outputs": [
    {
     "name": "stdout",
     "output_type": "stream",
     "text": [
      "[3 2 4 2 2 2 3 4 4 3 4 4 3 2 4 2 4 3 2 4]\n"
     ]
    }
   ],
   "source": [
    "#We can generate some ranked data by creating a list of random ints of a specified range\n",
    "control_ranked = np.random.randint(2, 5, 20)\n",
    "print(control_ranked)"
   ]
  },
  {
   "cell_type": "code",
   "execution_count": 15,
   "id": "6419f32a-c258-4649-b58a-b63c7148ee1c",
   "metadata": {},
   "outputs": [
    {
     "name": "stdout",
     "output_type": "stream",
     "text": [
      "[4 1 1 2 3 3 2 4 3 3 1 4 1 3 3 4 1 2 4 1]\n"
     ]
    }
   ],
   "source": [
    "ko_ranked = np.random.randint(1,5, 20)\n",
    "print(ko_ranked)"
   ]
  },
  {
   "cell_type": "markdown",
   "id": "8371a44d-86d3-44f9-bc8a-99bbee4fa9c4",
   "metadata": {},
   "source": [
    "<h3><u>Guided:</u> Take a look at the distribution of your data</h3>"
   ]
  },
  {
   "cell_type": "markdown",
   "id": "1db4927d-d69e-4803-966c-63b8fc44fabb",
   "metadata": {},
   "source": [
    "We can take a look at how our data is distributed by using the function <mark style=\"background-color: #EEEEEE;\"><strong>plt.hist()</strong></mark> function. We can pass our data to it, and then specify how many bins our histogram will have using the <mark style=\"background-color: #EEEEEE;\"><strong>bins</strong></mark> parameter.\n",
    "```\n",
    "plt.hist(data, bins)\n",
    "```\n",
    "\n",
    "Because we want our data to look a specific way, we can tell Python how we want it to set the bins. If we take a look at <u><a href=\"https://matplotlib.org/stable/api/_as_gen/matplotlib.pyplot.hist.html\" rel=\"noopener noreferrer\" target=\"_blank\">the documentation for <mark style=\"background-color: #EEEEEE;\"><strong>plt.hist()</strong></mark></a></u>, we can see that we can pass a list as an argument to the <mark style=\"background-color: #EEEEEE;\"><strong>bins</strong></mark> parameter. The documentation notes that we need to be careful because of how the function will interpret the list, with the final bin being inclusive of our final list element. So we need to add an additional bin to separate cancer stage 3 from cancer stage 4 in our histogram.\n",
    "\n",
    "And if we want to be clear about how our X-axis ticks look, we can in a separate line, specify our X-axis ticks:\n",
    "```\n",
    "plt.xticks([1,2,3,4])\n",
    "```\n",
    "\n",
    "Alternatively, we can use a function to specify this range:\n",
    "```\n",
    "plt.xticks(np.arange(1,5,1))\n",
    "```\n",
    "Note the 5 here rather than 4, due to the usual quirks with Python."
   ]
  },
  {
   "cell_type": "code",
   "execution_count": 16,
   "id": "f832f076-56fe-4d2b-89a7-3c01d567a691",
   "metadata": {},
   "outputs": [
    {
     "data": {
      "text/plain": [
       "([<matplotlib.axis.XTick at 0x7e44e263ce50>,\n",
       "  <matplotlib.axis.XTick at 0x7e44e2632dd0>,\n",
       "  <matplotlib.axis.XTick at 0x7e44e263d5d0>,\n",
       "  <matplotlib.axis.XTick at 0x7e44e2604e90>],\n",
       " [Text(1, 0, '1'), Text(2, 0, '2'), Text(3, 0, '3'), Text(4, 0, '4')])"
      ]
     },
     "execution_count": 16,
     "metadata": {},
     "output_type": "execute_result"
    },
    {
     "data": {
      "image/png": "[encoded data removed]",
      "text/plain": [
       "<Figure size 640x480 with 1 Axes>"
      ]
     },
     "metadata": {},
     "output_type": "display_data"
    }
   ],
   "source": [
    "#To look at the frequency distribution, we can use the plt.hist() function\n",
    "#and we can specify bins\n",
    "#make sure to check documentation to bin your samples the way you want\n",
    "plt.hist(control_ranked, bins=[1,2,3,4,5])\n",
    "#we can adjust x-axis ticks to get it to look how we want\n",
    "plt.xticks(np.arange(1,5,1))"
   ]
  },
  {
   "cell_type": "code",
   "execution_count": 17,
   "id": "80fb340b-5f2d-46d3-87bf-835888d14909",
   "metadata": {},
   "outputs": [
    {
     "data": {
      "text/plain": [
       "Text(0, 0.5, 'Frequency')"
      ]
     },
     "execution_count": 17,
     "metadata": {},
     "output_type": "execute_result"
    },
    {
     "data": {
      "image/png": "[encoded data removed]",
      "text/plain": [
       "<Figure size 640x480 with 1 Axes>"
      ]
     },
     "metadata": {},
     "output_type": "display_data"
    }
   ],
   "source": [
    "plt.hist(ko_ranked, bins=[1,2,3,4,5])\n",
    "plt.xticks([1,2,3,4])\n",
    "#we can also add labels\n",
    "plt.xlabel('Cancer stage')\n",
    "plt.ylabel('Frequency')"
   ]
  },
  {
   "cell_type": "markdown",
   "id": "aa79dc0c-aaa7-4763-aba2-5df97472731e",
   "metadata": {},
   "source": [
    "See if you can update your plot to include your axis titles."
   ]
  },
  {
   "cell_type": "code",
   "execution_count": null,
   "id": "5ad0c73a-3b4d-4ac1-a245-844bfb5ce41c",
   "metadata": {},
   "outputs": [],
   "source": []
  },
  {
   "cell_type": "markdown",
   "id": "b919fa11-3b83-4346-84ac-85a5265d99e7",
   "metadata": {},
   "source": [
    "<h1 style=\"font-size: 40px; margin-bottom: 0px;\">Mann-Whitney U test</h1>\n",
    "\n",
    "<hr style=\"margin-left: 0px; border: 0.25px solid; border-color: #000000; width: 600px;\"></hr>"
   ]
  },
  {
   "cell_type": "markdown",
   "id": "d8a89583-3f24-4255-8458-6f3856fa3c11",
   "metadata": {},
   "source": [
    "To do a pairwise comparison for our ranked data, we'll make use of the Mann-Whitney U test. This test organizes our data into a table in asceding order, and the samples for each group are assigned a rank value. Then the sum of the rank values for each group are added together to generate a test statistic (**U** for this test). And the test statistic is then used to determine the p-value (kind of like how the t-test results in a **t** test stastistic, which is then used to determine the p-value).\n",
    "\n",
    "For the Mann-Whitney U test, the null hypothesis is that the distribution of the samples in one group is equal to that of the other group. In other words, it is testing if the two groups are similar to one another. \n",
    "\n",
    "In Python, the <mark style=\"background-color: #EEEEEE;\"><strong>scipy.stats</strong></mark> package contains a function that allows us to compute both the test statistic (**U***) and the corresponding p-value. <u><a href=\"https://docs.scipy.org/doc/scipy/reference/generated/scipy.stats.mannwhitneyu.html\" rel=\"noopener noreferrer\" target=\"_blank\">Documentation for the <mark style=\"background-color: #EEEEEE;\"><strong>scipy.stats.mannwhitneyu()</strong></mark> function can be found here</a></u>.\n",
    "```\n",
    "stats.mannwhitneyu(x, y, alternative='two-sided')\n",
    "```\n",
    "In our case, our <mark style=\"background-color: #EEEEEE;\"><strong>x</strong></mark> parameter will correspond to our control dataset, while our <mark style=\"background-color: #EEEEEE;\"><strong>y</strong></mark> parameter will correspond to our KO dataset. Since our alternative hypothesis will be that the two groups are not equal, we can leave the <mark style=\"background-color: #EEEEEE;\"><strong>alternative</strong></mark> parameter set to its default value of <mark style=\"background-color: #EEEEEE;\"><strong>'two-sided'</strong></mark>. There are additional parameters that you can adjust depending on your data, and those can be found in the documentation.\n",
    "\n",
    "For our example, we'll make use of the first two parameters and leave the <mark style=\"background-color: #EEEEEE;\"><strong>alterative</strong></mark> set to its default."
   ]
  },
  {
   "cell_type": "code",
   "execution_count": 18,
   "id": "5c13094e-cf49-484e-8870-217c803f1070",
   "metadata": {},
   "outputs": [
    {
     "name": "stdout",
     "output_type": "stream",
     "text": [
      "0.14391400588171008\n"
     ]
    }
   ],
   "source": [
    "#Again, you'll want to assign the output to a variable, so you can pull specific attributes\n",
    "ranked_result = stats.mannwhitneyu(control_ranked, ko_ranked)\n",
    "#In our case, we are interested in the resulting pvalue\n",
    "print(ranked_result.pvalue)"
   ]
  },
  {
   "cell_type": "markdown",
   "id": "9fa2cbe3-e844-40a6-ad4d-547f8de91f4f",
   "metadata": {},
   "source": [
    "<h1 style=\"font-size: 40px; margin-bottom: 0px;\">Exercise #3 - Nominal data</h1>\n",
    "\n",
    "<hr style=\"margin-left: 0px; border: 0.25px solid; border-color: #000000; width: 600px;\"></hr>"
   ]
  },
  {
   "cell_type": "markdown",
   "id": "e0ee1c8c-e1a4-4f7a-bfb1-39f3f087e077",
   "metadata": {},
   "source": [
    "Nominal data are data that does not have a numerical value or some ranked order. These can be thought of as labels that help subdivide samples into groups based on specific characteristics. For example, if we look at our xenograft data from MCB201A, we have a set of tumors that engrafted and a set of tumors that didn't engraft. Moreover, we have a set of tumors that are control and another set that are KOs.\n",
    "\n",
    "So in essence, we have two nominal variables, both of which comprise of two labels/groups, and our samples can exist as any combination of the two nominal variables."
   ]
  },
  {
   "cell_type": "markdown",
   "id": "bb6a7e56-9ace-4f3e-8caf-f98eeef21b43",
   "metadata": {},
   "source": [
    "<h3>1. Create a 2D list that contains the counts for each group</h3>"
   ]
  },
  {
   "cell_type": "markdown",
   "id": "156b4e46-f83c-4549-9f77-7b5ef5ec4e12",
   "metadata": {},
   "source": [
    "We can either import a 2x2 table into this notebook, or we can also create a 2x2 list that contains the counts from our xenograft experiment.\n",
    "\n",
    "The 2x2 table/list will look something like:\n",
    "<table style=\"margin-left: 0px;\">\n",
    "    <tr>\n",
    "        <td style=\"background-color: None; border: None;\">&nbsp;</tD>\n",
    "        <td style=\"background-color: #EEEEEE; border: 1px solid; border-color: #000000; width: 75px; text-align: center;\">Engraft</td>\n",
    "        <td style=\"background-color: #EEEEEE; border: 1px solid; border-color: #000000; width: 75px; text-align: center;\">Not engrafted</td>\n",
    "    </tr>\n",
    "    <tr>\n",
    "        <td style=\"background-color: #EEEEEE; border: 1px solid; border-color: #000000; width: 75px; text-align: center;\">Control</td>\n",
    "        <td style=\"background-color: #FFFFFF; border: 1px solid; border-color: #000000; width: 75px; text-align: center;\">17</td>\n",
    "        <td style=\"background-color: #FFFFFF; border: 1px solid; border-color: #000000; width: 75px; text-align: center;\">1</td>\n",
    "    </tr>\n",
    "    <tr>\n",
    "        <td style=\"background-color: #EEEEEE; border: 1px solid; border-color: #000000; width: 75px; text-align: center;\">KO</td>\n",
    "        <td style=\"background-color: #FFFFFF; border: 1px solid; border-color: #000000; width: 75px; text-align: center;\">4</td>\n",
    "        <td style=\"background-color: #FFFFFF; border: 1px solid; border-color: #000000; width: 75px; text-align: center;\">14</td>\n",
    "    </tr>\n",
    "</table>\n",
    "\n",
    "Where the rows correspond to control vs KO, and the columns correspond to engraft vs not engrafted.\n",
    "\n",
    "Translating that into a 2x2 list will look like:\n",
    "```\n",
    "variable = [[control_engraft, control_not_engrafted], [ko_engraft, ko_not_engrafted]]\n",
    "```\n"
   ]
  },
  {
   "cell_type": "code",
   "execution_count": 19,
   "id": "31ad22d6-eef3-4559-9f3f-dee3a73d8dd2",
   "metadata": {},
   "outputs": [
    {
     "name": "stdout",
     "output_type": "stream",
     "text": [
      "[[17, 1], [4, 14]]\n"
     ]
    }
   ],
   "source": [
    "#Set up a 2x2 list by creating lists within lists\n",
    "nominal_results = [[17, 1], [4, 14]]\n",
    "#check to see if things look okay\n",
    "print(nominal_results)"
   ]
  },
  {
   "cell_type": "markdown",
   "id": "3138f059-2fca-4b08-a721-c7dc9f526d42",
   "metadata": {},
   "source": [
    "<h3><u>Challenge:</u> Generate a fake nominal dataset by defining your own function</h3>"
   ]
  },
  {
   "cell_type": "markdown",
   "id": "b93d6eda-ef3e-433c-b594-e60547a63a5b",
   "metadata": {},
   "source": [
    "For those of you who want a challenge, let's try to generate a set of nominal data for a control group and a KO group, looking at whether or not a tumor engrafted, modeled after the data that we collected from MCB201A. Recall that the raw data simply consists of assigned labels (in our case, either 'engrafted' or 'not engrafted') that don't contain an inherent quantitative value. So what that means for us in Python is that our data will consist of **str** data types.\n",
    "\n",
    "To set up a function, sometimes it's helpful to work backwards by first asking ourselves what will our final dataset look like (what is the output that we want this function to generate) and work backwards from there, kind of like O-chem:\n",
    "\n",
    "<strong>For control:</strong>\n",
    "<table style=\"margin-left: 0px;\">\n",
    "    <tr>\n",
    "        <td style=\"background-color: #EEEEEE; border: 1px solid; border-color: #000000;\"><strong>Sample #1</strong></td>\n",
    "        <td style=\"background-color: #FFFFFF; border: 1px solid; border-color: #000000; width: 75px; text-align: center;\">Engraft</td>\n",
    "    </tr>\n",
    "    <tr>\n",
    "        <td style=\"background-color: #EEEEEE; border: 1px solid; border-color: #000000;\"><strong>Sample #2</strong></td>\n",
    "        <td style=\"background-color: #FFFFFF; border: 1px solid; border-color: #000000; width: 75px; text-align: center;\">Engraft</td>\n",
    "    </tr>\n",
    "    <tr>\n",
    "        <td style=\"background-color: #EEEEEE; border: 1px solid; border-color: #000000;\"><strong>Sample #3</strong></td>\n",
    "        <td style=\"background-color: #FFFFFF; border: 1px solid; border-color: #000000; width: 75px; text-align: center;\">Not engraft</td>\n",
    "    </tr>\n",
    "    <tr>\n",
    "        <td style=\"background-color: #EEEEEE; border: 1px solid; border-color: #000000;\"><strong>Sample #4</strong></td>\n",
    "        <td style=\"background-color: #FFFFFF; border: 1px solid; border-color: #000000; width: 75px; text-align: center;\">Engraft</td>\n",
    "    </tr>\n",
    "    <tr>\n",
    "        <td style=\"background-color: #EEEEEE; border: 1px solid; border-color: #000000;\"><strong>Sample #5</strong></td>\n",
    "        <td style=\"background-color: #FFFFFF; border: 1px solid; border-color: #000000; width: 75px; text-align: center;\">Engraft</td>\n",
    "    </tr>\n",
    "    <tr>\n",
    "        <td style=\"background-color: #EEEEEE; border: 1px solid; border-color: #000000;\"><strong>Sample #6</strong></td>\n",
    "        <td style=\"background-color: #FFFFFF; border: 1px solid; border-color: #000000; width: 75px; text-align: center;\">Engraft</td>\n",
    "    </tr>\n",
    "</table>\n",
    "\n",
    "Our dataset looks like a pandas Series, where each element corresponds to a different sample's nominal data point. So what we need to be able to do is to generate two labels for our dataset, create a list of both our labels of varying lengths, to create a pandas Series, and also for our function to output a Series.\n",
    "\n",
    "To accomplish these tasks, we can make use of a number of functions:\n",
    "<ul>\n",
    "    <li><a href=\"https://docs.python.org/3/library/functions.html#func-str\" rel=\"noopener noreferrer\" target=\"_blank\"><mark style=\"background-color: #EEEEEE;\"><strong>str()</strong></mark></a> - because we want to create a <strong>str</strong> for our nominal variable</li>\n",
    "    <li><a href=\"https://numpy.org/doc/stable/reference/random/generated/numpy.random.randint.html\" rel=\"noopener noreferrer\" target=\"_blank\"><mark style=\"background-color: #EEEEEE;\"><strong>np.random.randint()</strong></mark></a> - so we have some quasi random data to play around with</li>\n",
    "    <li><a href=\"https://pandas.pydata.org/pandas-docs/stable/reference/api/pandas.Series.html\" rel=\"noopener noreferrer\" target=\"_blank\"><mark style=\"background-color: #EEEEEE;\"><strong>pd.Series()</strong></mark></a> - to convert objects to Series where needed</li>\n",
    "        <li><a href=\"https://pandas.pydata.org/docs/reference/api/pandas.concat.html\" rel=\"noopener noreferrer\" target=\"_blank\"><mark style=\"background-color: #EEEEEE;\"><strong>pd.concat()</strong></mark></a> - to combine two Series together</li> \n",
    "</ul>\n",
    "\n",
    "So let's try setting up a function below to generate our data set."
   ]
  },
  {
   "cell_type": "code",
   "execution_count": 20,
   "id": "2596270c-1004-4f08-9146-71030b89d5ef",
   "metadata": {},
   "outputs": [
    {
     "name": "stdout",
     "output_type": "stream",
     "text": [
      "0           engraft\n",
      "1           engraft\n",
      "2           engraft\n",
      "3           engraft\n",
      "4           engraft\n",
      "5           engraft\n",
      "6           engraft\n",
      "7           engraft\n",
      "8           engraft\n",
      "9     not_engrafted\n",
      "10    not_engrafted\n",
      "11    not_engrafted\n",
      "12    not_engrafted\n",
      "13    not_engrafted\n",
      "14    not_engrafted\n",
      "15    not_engrafted\n",
      "16    not_engrafted\n",
      "17    not_engrafted\n",
      "18    not_engrafted\n",
      "19    not_engrafted\n",
      "20    not_engrafted\n",
      "21    not_engrafted\n",
      "22    not_engrafted\n",
      "23    not_engrafted\n",
      "24    not_engrafted\n",
      "25    not_engrafted\n",
      "26    not_engrafted\n",
      "27    not_engrafted\n",
      "dtype: object\n",
      "0           engraft\n",
      "1           engraft\n",
      "2           engraft\n",
      "3           engraft\n",
      "4           engraft\n",
      "5     not_engrafted\n",
      "6     not_engrafted\n",
      "7     not_engrafted\n",
      "8     not_engrafted\n",
      "9     not_engrafted\n",
      "10    not_engrafted\n",
      "11    not_engrafted\n",
      "12    not_engrafted\n",
      "13    not_engrafted\n",
      "dtype: object\n"
     ]
    }
   ],
   "source": [
    "#Set up a function to create a random nominal dataset:\n",
    "def nominal_gen(pos_label, neg_label, posmin=5, posmax=20, negmin=5, negmax=20, N=1):\n",
    "    \"\"\"Generate a Series populated with a random number of two label types\"\"\"\n",
    "    pos_group = str(pos_label) #we can even skip this if we just provide strings\n",
    "    neg_group = str(neg_label) #same for this\n",
    "    pos_list = pd.Series([pos_group]*(np.random.randint(posmin, posmax, N)[0])) #expand our list by some random number\n",
    "    neg_list = pd.Series([neg_group]*(np.random.randint(negmin, negmax, N)[0]))\n",
    "    data = pd.concat([pos_list, neg_list], ignore_index=True) #stick the two lists together\n",
    "    return data #output the dataframe\n",
    "\n",
    "#use the function to generate fake dataset for both control and ko\n",
    "control_fake_nominal = nominal_gen('engraft', 'not_engrafted')\n",
    "ko_fake_nominal = nominal_gen('engraft', 'not_engrafted')\n",
    "\n",
    "#Check to make sure everything acts as expected\n",
    "print(control_fake_nominal)\n",
    "print(ko_fake_nominal)"
   ]
  },
  {
   "cell_type": "markdown",
   "id": "cd489bbb-56d5-4990-aae6-c6e5f44cfd49",
   "metadata": {},
   "source": [
    "<h3><u>Challenge:</u> Create a 2D list based on the fake data generated using your function.</h3>"
   ]
  },
  {
   "cell_type": "code",
   "execution_count": 21,
   "id": "4b20215e-5f07-4dee-b443-69b897b8f8ca",
   "metadata": {},
   "outputs": [
    {
     "name": "stdout",
     "output_type": "stream",
     "text": [
      "[[19, 9], [9, 5]]\n",
      "<class 'pandas.core.series.Series'>\n"
     ]
    }
   ],
   "source": [
    "#We can either specify the position or the exact label to get the counts associated with either engrafted or not engrafted\n",
    "nominal_fake_table = [[control_fake_nominal.value_counts()['not_engrafted'], control_fake_nominal.value_counts()['engraft']], \n",
    "                      [ko_fake_nominal.value_counts()['not_engrafted'], ko_fake_nominal.value_counts()['engraft']]]\n",
    "\n",
    "print(nominal_fake_table)\n",
    "\n",
    "print(type(control_fake_nominal.value_counts()))"
   ]
  },
  {
   "cell_type": "markdown",
   "id": "41b0616d-92e2-4165-8094-0a9dabe844c1",
   "metadata": {},
   "source": [
    "<h1 style=\"font-size: 40px; margin-bottom: 0px;\">Chi-squared test (of independence)</h1>\n",
    "\n",
    "<hr style=\"margin-left: 0px; border: 0.25px solid; border-color: #000000; width: 750px;\"></hr>"
   ]
  },
  {
   "cell_type": "markdown",
   "id": "09af3a60-e90c-4e8f-8f85-3d555c223cd7",
   "metadata": {},
   "source": [
    "One way we can test nominal data is through a Chi-squared test of independence. This test's null hypothesis is that the observed proportions of one group is equal to the observed proportions of another group. In our case, the null hypothesis would be that the proportion of engrafted and non-engrafted control samples is equal to the proportion for KO samples.\n",
    "\n",
    "Recall our 2x2 table from earlier:\n",
    "<table style=\"margin-left: 0px;\">\n",
    "    <tr>\n",
    "        <td style=\"background-color: None; border: None;\">&nbsp;</tD>\n",
    "        <td style=\"background-color: #EEEEEE; border: 1px solid; border-color: #000000; width: 75px; text-align: center;\">Engraft</td>\n",
    "        <td style=\"background-color: #EEEEEE; border: 1px solid; border-color: #000000; width: 75px; text-align: center;\">Not engrafted</td>\n",
    "    </tr>\n",
    "    <tr>\n",
    "        <td style=\"background-color: #EEEEEE; border: 1px solid; border-color: #000000; width: 75px; text-align: center;\">Control</td>\n",
    "        <td style=\"background-color: #FFFFFF; border: 1px solid; border-color: #000000; width: 75px; text-align: center;\">17</td>\n",
    "        <td style=\"background-color: #FFFFFF; border: 1px solid; border-color: #000000; width: 75px; text-align: center;\">1</td>\n",
    "    </tr>\n",
    "    <tr>\n",
    "        <td style=\"background-color: #EEEEEE; border: 1px solid; border-color: #000000; width: 75px; text-align: center;\">KO</td>\n",
    "        <td style=\"background-color: #FFFFFF; border: 1px solid; border-color: #000000; width: 75px; text-align: center;\">4</td>\n",
    "        <td style=\"background-color: #FFFFFF; border: 1px solid; border-color: #000000; width: 75px; text-align: center;\">14</td>\n",
    "    </tr>\n",
    "</table>\n",
    "\n",
    "This table is called a 2x2 contingency table, whose values are used to determine the **Chi-squared** test statistic. Similar to both the **t** and **U** test statistics, the **Chi-squared** test statistic is used to determine the p-value."
   ]
  },
  {
   "cell_type": "markdown",
   "id": "a51f9b98-c2da-4ac1-b4cd-03d9b81babe4",
   "metadata": {},
   "source": [
    "Using the <mark style=\"background-color: #EEEEEE;\"><strong>scipy.stats.chi2_contingency()</strong></mark> function, we can have Python perform a Chi-squared test of independence on our contingency table and return both the **Chi-squared** test statistic and the resulting p-value. <u><a href=\"https://docs.scipy.org/doc/scipy/reference/generated/scipy.stats.chi2_contingency.html\" rel=\"noopener noreferrer\" target=\"_blank\">Documentation is here</a></u>.\n",
    "\n",
    "How that will look like in practice is:\n",
    "```\n",
    "variable = stats.chi2_contingency(contingency_table)\n",
    "```\n",
    "\n",
    "And like with our previous statistical tests, the result that it outputs will have two attributes. The first attribute is the test statistic <mark style=\"background-color: #EEEEEE;\"><strong>statistic</strong></mark>, and the second attribute is the corresponding p-value <mark style=\"background-color: #EEEEEE;\"><strong>pvalue</strong></mark>.\n",
    "\n",
    "We can have Python return the specific attribute:\n",
    "```\n",
    "print(variable.pvalue)\n",
    "```\n",
    "In this case, Python will output the p-value of our Chi-squared test of independence."
   ]
  },
  {
   "cell_type": "code",
   "execution_count": 22,
   "id": "ab84ce23-26fa-4a06-bde2-61251a2d5df6",
   "metadata": {},
   "outputs": [
    {
     "name": "stdout",
     "output_type": "stream",
     "text": [
      "4.976233487907417e-05\n",
      "1.0\n"
     ]
    }
   ],
   "source": [
    "#Assign output of statistical test to variable to pull pvalue\n",
    "real_nominal_result = stats.chi2_contingency(nominal_results)\n",
    "\n",
    "print(real_nominal_result.pvalue)\n",
    "\n",
    "fake_nominal_result = stats.chi2_contingency(nominal_fake_table)\n",
    "\n",
    "print(fake_nominal_result.pvalue)"
   ]
  },
  {
   "cell_type": "markdown",
   "id": "b457cb74-fea5-45a2-8dee-d6b4dfd156af",
   "metadata": {},
   "source": [
    "<h1 style=\"font-size: 40px; margin-bottom: 0px;\">Fisher's exact test</h1>\n",
    "\n",
    "<hr style=\"margin-left: 0px; border: 0.25px solid; border-color: #000000; width: 600px;\"></hr>"
   ]
  },
  {
   "cell_type": "markdown",
   "id": "7928c612-1ae3-4882-93f4-16a05403b72c",
   "metadata": {},
   "source": [
    "We can also make use of the Fisher's exact test to perform pair-wise comparisons between nominal data sets. This is generally recommended especially if your sample sizes are small. And the set up is the same as the one we used for the Chi-squared test of independence, so we can use the same contingency table.\n",
    "\n",
    "The function is similarly set up:\n",
    "```\n",
    "variable = stats.fisher_exact(contingency_table)\n",
    "```\n",
    "\n",
    "This function is restricted to a 2x2 contingency table, and the null hypothesis is that the proportions are equal between the two nominal variables. It will output a result that contains two attributes, the odds ratio and the p-value, like our previous statistical tests. And we can pull those attributes out of the variable to which we assigned our results.\n",
    "```\n",
    "print(variable.pvalue)\n",
    "```"
   ]
  },
  {
   "cell_type": "code",
   "execution_count": 23,
   "id": "f6e9252b-2d00-41fe-b892-66a1dcf01996",
   "metadata": {},
   "outputs": [
    {
     "name": "stdout",
     "output_type": "stream",
     "text": [
      "2.0077937570804042e-05\n",
      "1.0\n"
     ]
    }
   ],
   "source": [
    "exact_nominal_result = stats.fisher_exact(nominal_results)\n",
    "\n",
    "print(exact_nominal_result.pvalue)\n",
    "\n",
    "fake_exact_nominal_result = stats.fisher_exact(nominal_fake_table)\n",
    "\n",
    "print(fake_exact_nominal_result.pvalue)"
   ]
  },
  {
   "cell_type": "markdown",
   "id": "39dfa4f4-9a03-4181-b9ae-17dc86485313",
   "metadata": {},
   "source": [
    "<h1 style=\"font-size: 40px; margin-bottom: 0px;\">Guided plotting demo</h1>\n",
    "\n",
    "<hr style=\"margin-left: 0px; border: 0.25px solid; border-color: #000000; width: 600px;\"></hr>"
   ]
  },
  {
   "cell_type": "markdown",
   "id": "1edc040a-9606-464c-8848-1822374e12c4",
   "metadata": {},
   "source": [
    "Yesterday, I mentioned that we'll learn how to create a commonly encountered type of plot called a swarm plot with descriptive statistics overlaid on top of the swarm plot."
   ]
  },
  {
   "cell_type": "markdown",
   "id": "32dd4e55-dfc3-49e0-b257-db31653e7c1f",
   "metadata": {},
   "source": [
    "<h2>Setting up to fine tune figures and plots</h2>"
   ]
  },
  {
   "cell_type": "markdown",
   "id": "0add7c61-7f39-43a6-a102-f45361b24228",
   "metadata": {},
   "source": [
    "To allow us to have more control over how we are plotting, to access specific attributes of our plots, and to create figures containing subplots, we can make use of the <mark style=\"background-color: #EEEEEE;\"><strong>matplotlib.pyplot.subplots()</strong></mark> function.\n",
    "\n",
    "So the first line of code that we'll implement in this demo is:\n",
    "```\n",
    "fig, ax = plt.subplots()\n",
    "```\n",
    "The <mark style=\"background-color: #EEEEEE;\"><strong>matplotlib.pyplot.subplots()</strong></mark> function returns a <mark style=\"background-color: #EEEEEE;\"><strong>fig</strong></mark> and <mark style=\"background-color: #EEEEEE;\"><strong>ax</strong></mark>, which we can assign to similarly named variables, allowing us to modify specific parts of our plots.\n",
    "\n",
    "<a href=\"https://matplotlib.org/stable/api/_as_gen/matplotlib.pyplot.subplots.html\" rel=\"noopener noreferrer\" target=\"_blank\"><u>Click for documentation for the <mark style=\"background-color: #EEEEEE;\"><strong>matplotlib.pyplot.subplots()</strong></mark> function</u></a>."
   ]
  },
  {
   "cell_type": "markdown",
   "id": "042f1a79-d33a-4689-ab96-dca7dfa7a905",
   "metadata": {},
   "source": [
    "In the code cell below, mess around with the parameters to see how the output figure changes."
   ]
  },
  {
   "cell_type": "code",
   "execution_count": 24,
   "id": "e9c2d9fc-af8b-425b-99f3-25f816b4cdd6",
   "metadata": {},
   "outputs": [
    {
     "data": {
      "image/png": "[encoded data removed]",
      "text/plain": [
       "<Figure size 640x480 with 1 Axes>"
      ]
     },
     "metadata": {},
     "output_type": "display_data"
    }
   ],
   "source": [
    "fig, ax = plt.subplots()"
   ]
  },
  {
   "cell_type": "markdown",
   "id": "018b4d49-c991-45d6-8946-73fd136a1c3b",
   "metadata": {},
   "source": [
    "You should be able to see that we have empty plots, and by changing parameters around, we can change how the figure looks."
   ]
  },
  {
   "cell_type": "markdown",
   "id": "045e5a3f-a315-4c7e-acdd-c1c7813f093a",
   "metadata": {},
   "source": [
    "<h2>Prepare a color palette</h2>"
   ]
  },
  {
   "cell_type": "markdown",
   "id": "7f6ae456-eb01-4774-addf-938661ad9865",
   "metadata": {},
   "source": [
    "We have the freedom to also select the specific color for our data points, and to prepare for this, we can create a list containing strings of color codes."
   ]
  },
  {
   "cell_type": "code",
   "execution_count": 25,
   "id": "ec5cabba-4f70-4dac-b889-fe6ca4b6bdc1",
   "metadata": {},
   "outputs": [],
   "source": [
    "Color_code = ['#002676', '#FDB515']"
   ]
  },
  {
   "cell_type": "markdown",
   "id": "057d990e-b130-4d33-b5a6-ad86b4188425",
   "metadata": {},
   "source": [
    "<h2>Create a swarmplot</h2>"
   ]
  },
  {
   "cell_type": "markdown",
   "id": "d03c4bf0-2ca8-4f19-b236-88ff93fa4a93",
   "metadata": {},
   "source": [
    "Matplotlib's ability to create a swarmplot is a bit more limited, so we can make use of our seaborn package, which has a function for us to create a swarmplot. Swarmplots are helpful when you want to show each individual data point, so that the reader has an idea of how the distribution of your data looks by looking directly at the raw data points.\n",
    "\n",
    "The function that we'll use is the <mark style=\"background-color: #EEEEEE;\"><strong>seaborn.swarmplot()</strong></mark> function. <u><a href=\"https://seaborn.pydata.org/generated/seaborn.swarmplot.html\" rel=\"noopener noreferrer\" target=\"_blank\">Documentation is here</a></u>.\n",
    "\n",
    "We'll pass our DataFrame through the function to see how it looks like without additional modifications.\n",
    "```\n",
    "sns.swarmplot(data=tumor_weights)\n",
    "```"
   ]
  },
  {
   "cell_type": "code",
   "execution_count": 26,
   "id": "4682fc09-1507-4338-84a7-1b021b38f231",
   "metadata": {},
   "outputs": [
    {
     "data": {
      "text/plain": [
       "<Axes: >"
      ]
     },
     "execution_count": 26,
     "metadata": {},
     "output_type": "execute_result"
    },
    {
     "data": {
      "image/png": "[encoded data removed]",
      "text/plain": [
       "<Figure size 640x480 with 1 Axes>"
      ]
     },
     "metadata": {},
     "output_type": "display_data"
    }
   ],
   "source": [
    "sns.swarmplot(data=tumor_weights)"
   ]
  },
  {
   "cell_type": "markdown",
   "id": "ed208bce-2b44-404a-9f87-efeb96da9f35",
   "metadata": {},
   "source": [
    "We can make minor adjustments by passing additional arguments to the function, such as:\n",
    "<ul>\n",
    "    <li><mark style=\"background-color: #EEEEEE;\"><strong>s</strong></mark> - the size of our markers</li>\n",
    "    <li><mark style=\"background-color: #EEEEEE;\"><strong>palette</strong></mark> - color palette for our markers</li>\n",
    "</ul>"
   ]
  },
  {
   "cell_type": "code",
   "execution_count": 27,
   "id": "7d57ce4c-3ba1-4670-a9a3-031d75b8745e",
   "metadata": {},
   "outputs": [
    {
     "data": {
      "text/plain": [
       "<Axes: >"
      ]
     },
     "execution_count": 27,
     "metadata": {},
     "output_type": "execute_result"
    },
    {
     "data": {
      "image/png": "[encoded data removed]",
      "text/plain": [
       "<Figure size 640x480 with 1 Axes>"
      ]
     },
     "metadata": {},
     "output_type": "display_data"
    }
   ],
   "source": [
    "sns.swarmplot(\n",
    "    data=tumor_weights,\n",
    "    s=8,\n",
    "    palette=Color_code\n",
    ")"
   ]
  },
  {
   "cell_type": "markdown",
   "id": "4c878aef-fa9b-4cb6-8968-dfc8aa294629",
   "metadata": {},
   "source": [
    "You can see that we have the basic swarm plot, but as with our basic plot from last week, there's still a few things missing, such as proper labels for our groups on the X-axis, a Y-axis label, and proper Y-axis limits. Usually, swarmplots also include descriptive statistics that summarize the raw data that is shown, and this can include the mean and error bars denoting the standard deviation or standard error.\n",
    "\n",
    "Before we start adjusting the axes, let's add in our descriptive statistics overlaid on top of our raw data points."
   ]
  },
  {
   "cell_type": "markdown",
   "id": "1f75b6d9-9206-4bbf-9f09-ef523eb82fb5",
   "metadata": {},
   "source": [
    "<h2>Overlay descriptive statistics</h2>"
   ]
  },
  {
   "cell_type": "markdown",
   "id": "1293801c-12b2-4549-b166-6e9bb6a078c3",
   "metadata": {},
   "source": [
    "One thing we can do is to overlay plots on top of one another to convey additional information within a single plot without having to create subplots for each thing. This type of approach is helpful when we want to overlay descriptive statistics over our raw data points, so that the reader can see both the raw data as well as the statistics.\n",
    "\n",
    "Descriptive statistics, such as the mean, can be plotted a few ways, such as a bar graph with error bars or as box-and-whisker plots. Both of these plots contain something that will be helpful to overlay onto our swarmplot. For the bar graph, it contains error bars, and for the box-and-whisker plot, it contains the ability to plot just the mean.\n",
    "\n",
    "So what we can do is to take the portions of these plots that we like, strip away what we don't want to see, and overlay it onto our swarmplot.\n",
    "\n",
    "Let's take a look at how these two plots will look like when plotted as a basic function."
   ]
  },
  {
   "cell_type": "markdown",
   "id": "60a1d847-5408-46b3-8d5f-c2d681c8bbc1",
   "metadata": {},
   "source": [
    "<h3>Plot a bar graph to overlay</h3>"
   ]
  },
  {
   "cell_type": "markdown",
   "id": "8347379b-0a55-4cce-836d-160eb39711b3",
   "metadata": {},
   "source": [
    "We can make use of the <mark style=\"background-color: #EEEEEE;\"><strong>seaborn.barplot()</strong></mark> function and pass our DataFrame to the function to plot. \n",
    "\n",
    "<u><a href=\"https://seaborn.pydata.org/generated/seaborn.barplot.html\" rel=\"noopener noreferrer\" target=\"_blank\">Documentation is here</a></u>.\n",
    "\n",
    "```\n",
    "seaborn.barplot(data=tumor_weights)\n",
    "```\n",
    "Starting with a barplot with no frills, we can pass our DataFrame in as an argument. In this case, we can continue to use our <mark style=\"background-color: #EEEEEE;\"><strong>tumor_weights</strong></mark> dataset."
   ]
  },
  {
   "cell_type": "code",
   "execution_count": 28,
   "id": "ce7001a8-b202-42c2-95e8-f7f575973715",
   "metadata": {},
   "outputs": [
    {
     "data": {
      "text/plain": [
       "<Axes: >"
      ]
     },
     "execution_count": 28,
     "metadata": {},
     "output_type": "execute_result"
    },
    {
     "data": {
      "image/png": "[encoded data removed]",
      "text/plain": [
       "<Figure size 640x480 with 1 Axes>"
      ]
     },
     "metadata": {},
     "output_type": "display_data"
    }
   ],
   "source": [
    "sns.barplot(data=tumor_weights)"
   ]
  },
  {
   "cell_type": "markdown",
   "id": "cd3aef55-857b-4bc3-8f92-89ff05b4cab1",
   "metadata": {},
   "source": [
    "You should see a pretty basic bar graph with error bars already plotted. It has what we need, but now we need to strip out the parts that we don't by passing additional arguments through it.\n",
    "\n",
    "Specifically, we want just the error bars, so we can make use of the following parameters:\n",
    "<ul>\n",
    "    <li><mark style=\"background-color: #EEEEEE;\"><strong>data</strong></mark> - we pass our DataFrame to this parameter so it can perform the calculations needed to plot the error bars</li>\n",
    "    <li><mark style=\"background-color: #EEEEEE;\"><strong>estimator</strong></mark> - we want it to plot the mean since we want our error bars to be centered around the mean of our data. We can pass the <mark style=\"background-color: #EEEEEE;\"><strong>np.mean</strong></mark> function to this parameter</li>\n",
    "    <li><mark style=\"background-color: #EEEEEE;\"><strong>alpha</strong></mark> - the parameter controlling the opacity of the boxplot bars. By changing this to <mark style=\"background-color: #EEEEEE;\"><strong>0</strong></mark>, we basically hide the bars depicting the mean, leaving only the error bars visisble</li>\n",
    "    <li><mark style=\"background-color: #EEEEEE;\"><strong>errorbar</strong></mark> - by changing this parameter, we can tell Python if we want our error bars to denote standard deviation or standard error</li>\n",
    "    <li><mark style=\"background-color: #EEEEEE;\"><strong>capsize</strong></mark> - the horizontal length of our error bars. This also tells Python that we want a horizontal cap (compare to previously, where there was no cap)</li>\n",
    "    <li><mark style=\"background-color: #EEEEEE;\"><strong>err_kws</strong></mark> - we can pass a dictionary containing key:value pairs to this parameter to further fine tune our plot by mapping the key:value pairs we provide to specific parameters that exist for <u><a href=\"https://matplotlib.org/stable/api/_as_gen/matplotlib.axes.Axes.boxplot.html#matplotlib.axes.Axes.boxplot\" rel=\"noopener noreferrer\" target=\"_blank\"><mark style=\"background-color: #EEEEEE;\"><strong>matplotlib.pyplot.boxplot()</strong></mark></a></u>. Click function for documentation.</li>\n",
    "</ul>"
   ]
  },
  {
   "cell_type": "markdown",
   "id": "47c5a40a-1f79-4272-97cb-033a634c3464",
   "metadata": {},
   "source": [
    "So let's work through each parameter one at a time to see how each change alters our bar plot."
   ]
  },
  {
   "cell_type": "markdown",
   "id": "babd2e2f-3d83-4277-bc3c-c288781704c7",
   "metadata": {},
   "source": [
    "<h4>Define the estimator</h4>"
   ]
  },
  {
   "cell_type": "code",
   "execution_count": 29,
   "id": "b222f3f5-e75e-489a-9f0c-59427e67fada",
   "metadata": {},
   "outputs": [
    {
     "data": {
      "text/plain": [
       "<Axes: >"
      ]
     },
     "execution_count": 29,
     "metadata": {},
     "output_type": "execute_result"
    },
    {
     "data": {
      "image/png": "[encoded data removed]",
      "text/plain": [
       "<Figure size 640x480 with 1 Axes>"
      ]
     },
     "metadata": {},
     "output_type": "display_data"
    }
   ],
   "source": [
    "sns.barplot(\n",
    "    data=tumor_weights,\n",
    "    estimator=np.mean\n",
    ")"
   ]
  },
  {
   "cell_type": "markdown",
   "id": "cff87093-78f4-4953-a847-d861fdbed357",
   "metadata": {},
   "source": [
    "You can see nothing is changed because by default, the <mark style=\"background-color: #EEEEEE;\"><strong>seaborn.barplot()</strong></mark> function will plot the mean by default."
   ]
  },
  {
   "cell_type": "markdown",
   "id": "dd167f8d-6e7b-4e42-bd42-8ac745a18d54",
   "metadata": {},
   "source": [
    "<h4>Change the opacity to hide the bars</h4>"
   ]
  },
  {
   "cell_type": "markdown",
   "id": "f7389112-3313-4ac7-ba34-a259a22a92dd",
   "metadata": {},
   "source": [
    "Now, if we want to hide the bars that depict our mean statistic, we can adjust the argument for <mark style=\"background-color: #EEEEEE;\"><strong>alpha</strong></mark>, which is just another way of saying opacity. For this parameter, the argument that you pass to the function should be between 0 and 1 (inclusive), where 0 is 0% opacity (fully transparent), and 1 is 100% opacity (fully opaque). "
   ]
  },
  {
   "cell_type": "code",
   "execution_count": 30,
   "id": "0828ecb7-fb64-466c-b460-abc9d61926ff",
   "metadata": {},
   "outputs": [
    {
     "data": {
      "text/plain": [
       "<Axes: >"
      ]
     },
     "execution_count": 30,
     "metadata": {},
     "output_type": "execute_result"
    },
    {
     "data": {
      "image/png": "[encoded data removed]",
      "text/plain": [
       "<Figure size 640x480 with 1 Axes>"
      ]
     },
     "metadata": {},
     "output_type": "display_data"
    }
   ],
   "source": [
    "sns.barplot(\n",
    "    data=tumor_weights,\n",
    "    estimator=np.mean,\n",
    "    alpha=0\n",
    ")"
   ]
  },
  {
   "cell_type": "markdown",
   "id": "ed388c12-3624-4fdf-acd6-c1c6c3b98480",
   "metadata": {},
   "source": [
    "The only things showing now are the error bars, and the error bars need further refining so that we have them denote either the standard deviation or the standard error."
   ]
  },
  {
   "cell_type": "markdown",
   "id": "351b01c5-c431-40d7-930d-f77320af08b9",
   "metadata": {},
   "source": [
    "<h4>Update what the error bars denote</h4>"
   ]
  },
  {
   "cell_type": "markdown",
   "id": "a04960a6-e157-4d5b-b321-d76201a989cb",
   "metadata": {},
   "source": [
    "To update the error bars, we can make use of the <mark style=\"background-color: #EEEEEE;\"><strong>errorbar</strong></mark> parameter and provide it with a value <mark style=\"background-color: #EEEEEE;\"><strong>'se'</strong></mark> to denote the standard error. If we wanted the error bars to show the standard deviation, we can use <mark style=\"background-color: #EEEEEE;\"><strong>'sd'</strong></mark> instead."
   ]
  },
  {
   "cell_type": "code",
   "execution_count": 31,
   "id": "e3ecfecb-d2d4-4dd5-839b-467310e2cffb",
   "metadata": {},
   "outputs": [
    {
     "data": {
      "text/plain": [
       "<Axes: >"
      ]
     },
     "execution_count": 31,
     "metadata": {},
     "output_type": "execute_result"
    },
    {
     "data": {
      "image/png": "[encoded data removed]",
      "text/plain": [
       "<Figure size 640x480 with 1 Axes>"
      ]
     },
     "metadata": {},
     "output_type": "display_data"
    }
   ],
   "source": [
    "sns.barplot(\n",
    "    data=tumor_weights,\n",
    "    estimator=np.mean,\n",
    "    alpha=0,\n",
    "    errorbar='se'\n",
    ")"
   ]
  },
  {
   "cell_type": "markdown",
   "id": "872514df-1081-4d61-bfbd-1d28cf4c4872",
   "metadata": {},
   "source": [
    "<h4>Add caps to error bars</h4>"
   ]
  },
  {
   "cell_type": "markdown",
   "id": "07b9ae4d-8b89-4235-8860-02950ddb4f36",
   "metadata": {},
   "source": [
    "Error bars generally have little horizontal lines at their ends (caps), and we can tell the <mark style=\"background-color: #EEEEEE;\"><strong>seaborn.barplot()</strong></mark> function to add a cap to our error bars by providing it with a value for the <mark style=\"background-color: #EEEEEE;\"><strong>capsize</strong></mark> parameter."
   ]
  },
  {
   "cell_type": "code",
   "execution_count": 32,
   "id": "af3f61e1-f304-4160-90ba-1bac8187fdc9",
   "metadata": {},
   "outputs": [
    {
     "data": {
      "text/plain": [
       "<Axes: >"
      ]
     },
     "execution_count": 32,
     "metadata": {},
     "output_type": "execute_result"
    },
    {
     "data": {
      "image/png": "[encoded data removed]",
      "text/plain": [
       "<Figure size 640x480 with 1 Axes>"
      ]
     },
     "metadata": {},
     "output_type": "display_data"
    }
   ],
   "source": [
    "sns.barplot(\n",
    "    data=tumor_weights,\n",
    "    estimator=np.mean,\n",
    "    alpha=0,\n",
    "    errorbar='se',\n",
    "    capsize=.3\n",
    ")"
   ]
  },
  {
   "cell_type": "markdown",
   "id": "07f7267f-91c6-4760-bc74-70b8250cfd71",
   "metadata": {},
   "source": [
    "<h4>Further refine error bars</h4>"
   ]
  },
  {
   "cell_type": "markdown",
   "id": "cc032889-3e41-4ef2-93bf-50559a989372",
   "metadata": {},
   "source": [
    "If we take a look at <u><a href=\"https://seaborn.pydata.org/generated/seaborn.barplot.html\" rel=\"noopener noreferrer\" target=\"_blank\">the documentation for <mark style=\"background-color: #EEEEEE;\"><strong>seaborn.barplot()</strong></mark></a></u>, we can see that there is a parameter that allows us to refine the style of our error bars, called <mark style=\"background-color: #EEEEEE;\"><strong>err_kws</strong></mark>.\n",
    "\n",
    "By using this parameter, we can pass the arguments we give it to another function called <mark style=\"background-color: #EEEEEE;\"><strong>matplotlib.lines.Line2D</strong></mark> by providing it with a dictionary of keys and values. The keys would correspond to the parameters of the <mark style=\"background-color: #EEEEEE;\"><strong>matplotlib.lines.Line2D</strong></mark> function, such as <mark style=\"background-color: #EEEEEE;\"><strong>linewidth</strong></mark> or <mark style=\"background-color: #EEEEEE;\"><strong>color</strong></mark>. And the values would be the argument for those parameters.\n",
    "\n",
    "So when specify the <mark style=\"background-color: #EEEEEE;\"><strong>err_kws</strong></mark> argument, you would provide the argument in the form of a dictionary like below:\n",
    "```\n",
    "err_kws={'linewidth': 1, 'color': 'black'}\n",
    "```\n",
    "\n",
    "This would all be contained within your <mark style=\"background-color: #EEEEEE;\"><strong>seaborn.barplot()</strong></mark> function."
   ]
  },
  {
   "cell_type": "code",
   "execution_count": 33,
   "id": "ac3ddfdf-737f-459f-9aa4-3e768e76ce70",
   "metadata": {},
   "outputs": [
    {
     "data": {
      "text/plain": [
       "<Axes: >"
      ]
     },
     "execution_count": 33,
     "metadata": {},
     "output_type": "execute_result"
    },
    {
     "data": {
      "image/png": "[encoded data removed]",
      "text/plain": [
       "<Figure size 640x480 with 1 Axes>"
      ]
     },
     "metadata": {},
     "output_type": "display_data"
    }
   ],
   "source": [
    "sns.barplot(\n",
    "    data=tumor_weights,\n",
    "    estimator=np.mean,\n",
    "    alpha=0,\n",
    "    errorbar='se',\n",
    "    capsize=.3,\n",
    "    err_kws={'linewidth': 1, 'color': 'black'}\n",
    ")"
   ]
  },
  {
   "cell_type": "markdown",
   "id": "9110a98b-95c5-4526-8f62-dac7d31ab6aa",
   "metadata": {},
   "source": [
    "<h4>Now let's look at all the plots together on one figure.</h4>"
   ]
  },
  {
   "cell_type": "code",
   "execution_count": 34,
   "id": "22d7362c-3c7a-447c-8af9-e20eae92d57b",
   "metadata": {},
   "outputs": [
    {
     "data": {
      "text/plain": [
       "<Axes: >"
      ]
     },
     "execution_count": 34,
     "metadata": {},
     "output_type": "execute_result"
    },
    {
     "data": {
      "image/png": "[encoded data removed]",
      "text/plain": [
       "<Figure size 640x480 with 6 Axes>"
      ]
     },
     "metadata": {},
     "output_type": "display_data"
    }
   ],
   "source": [
    "fig, ax = plt.subplots(3, 2, sharey=True, sharex=True)\n",
    "\n",
    "sns.barplot(\n",
    "    data=tumor_weights,\n",
    "    ax=ax[0,0]\n",
    ")\n",
    "\n",
    "sns.barplot(\n",
    "    data=tumor_weights,\n",
    "    estimator=np.mean,\n",
    "    ax=ax[0,1]\n",
    ")\n",
    "\n",
    "sns.barplot(\n",
    "    data=tumor_weights,\n",
    "    estimator=np.mean,\n",
    "    alpha=0,\n",
    "    ax=ax[1,0]\n",
    ")\n",
    "\n",
    "sns.barplot(\n",
    "    data=tumor_weights,\n",
    "    estimator=np.mean,\n",
    "    alpha=0,\n",
    "    errorbar='se',\n",
    "    ax=ax[1,1]\n",
    ")\n",
    "\n",
    "sns.barplot(\n",
    "    data=tumor_weights,\n",
    "    estimator=np.mean,\n",
    "    alpha=0,\n",
    "    errorbar='se',\n",
    "    capsize=.3,\n",
    "    ax=ax[2,0]\n",
    ")\n",
    "\n",
    "sns.barplot(\n",
    "    data=tumor_weights,\n",
    "    estimator=np.mean,\n",
    "    alpha=0,\n",
    "    errorbar='se',\n",
    "    capsize=.3,\n",
    "    err_kws={'linewidth': 1, 'color': 'black'},\n",
    "    ax=ax[2,1]\n",
    ")"
   ]
  },
  {
   "cell_type": "markdown",
   "id": "778c6035-5c1a-4c47-bf7a-3f5c54848b43",
   "metadata": {},
   "source": [
    "So now our error bars look good, and let's use the box-and-whisker plot to get a horizontal line denoting the means of our data."
   ]
  },
  {
   "cell_type": "markdown",
   "id": "bf4bf035-be95-421e-8cd1-23f9e52a7da6",
   "metadata": {},
   "source": [
    "<h3>Plot a box-and-whisker plot to overlay</h3>"
   ]
  },
  {
   "cell_type": "markdown",
   "id": "e493ef09-7b22-4a69-a8e8-3d483aa157ce",
   "metadata": {},
   "source": [
    "We'll do something similar for a box-and-whisker plot to get it to just show a horizontal line for our means.\n",
    "\n",
    "We can use the <mark style=\"background-color: #EEEEEE;\"><strong>seaborn.boxplot()</strong></mark> function and pass our same DataFrame to it to plot.\n",
    "\n",
    "<u><a href=\"https://seaborn.pydata.org/generated/seaborn.boxplot.html\" rel=\"noopener noreferrer\" target=\"_blank\">Documentation is here</a></u>.\n",
    "```\n",
    "seaborn.boxplot(data=tumor_weights)\n",
    "```\n",
    "We'll start again with a no-frills plot and build up from there."
   ]
  },
  {
   "cell_type": "code",
   "execution_count": 35,
   "id": "661716c3-a046-4935-9c50-e1c047cdff05",
   "metadata": {},
   "outputs": [
    {
     "data": {
      "text/plain": [
       "<Axes: >"
      ]
     },
     "execution_count": 35,
     "metadata": {},
     "output_type": "execute_result"
    },
    {
     "data": {
      "image/png": "[encoded data removed]",
      "text/plain": [
       "<Figure size 640x480 with 1 Axes>"
      ]
     },
     "metadata": {},
     "output_type": "display_data"
    }
   ],
   "source": [
    "sns.boxplot(\n",
    "    data=tumor_weights\n",
    ")"
   ]
  },
  {
   "cell_type": "markdown",
   "id": "87975265-665e-431e-ab8a-d5f6ef2eacd2",
   "metadata": {},
   "source": [
    "You can see in our boxplot that we have some outliers in our tumor weights. So now with our basic box-and-whisker plot, we'll start making adjustments so that it shows just the mean as a horizontal line. So that way, we can use it as an overlay on top of our swarmplot."
   ]
  },
  {
   "cell_type": "markdown",
   "id": "945e3ba6-fd1b-4131-ba33-0b4fd0246e67",
   "metadata": {},
   "source": [
    "Like with our bar plot, we can make use of the following parameters to just get what we need the plot to depict:\n",
    "<ul>\n",
    "    <li><mark style=\"background-color: #EEEEEE;\"><strong>data</strong></mark> - we pass our DataFrame to this parameter so it can perform the calculations needed to plot the error bars</li>\n",
    "    <li><mark style=\"background-color: #EEEEEE;\"><strong>showmeans</strong></mark> - we want it to plot the mean</li>\n",
    "    <li><mark style=\"background-color: #EEEEEE;\"><strong>meanline</strong></mark> - we want it to plot a horizontal line for the mean that spans the width of the box of our box-and-whisker plot</li>\n",
    "    <li><mark style=\"background-color: #EEEEEE;\"><strong>width</strong></mark> - defines the width of our box and therefore also defines the horizontal span of our mean line</li>\n",
    "    <li><mark style=\"background-color: #EEEEEE;\"><strong>meanprops</strong></mark> - we can pass a dictionary containing key:value pairs to this parameter to refine how we want the mean line to look. Like with <mark style=\"background-color: #EEEEEE;\"><strong>err_kws</strong></mark> for the bar plot, the key:value pairs will be passed to <u><a href=\"https://matplotlib.org/stable/api/_as_gen/matplotlib.axes.Axes.boxplot.html#matplotlib.axes.Axes.boxplot\" rel=\"noopener noreferrer\" target=\"_blank\"><mark style=\"background-color: #EEEEEE;\"><strong>matplotlib.pyplot.boxplot()</strong></mark></a></u></li>\n",
    "    <li><mark style=\"background-color: #EEEEEE;\"><strong>medianprops</strong></mark> - we can pass a dictionary containing key:value pairs to this parameter to remove the median line of our box-and-whisker plot. Works like the <mark style=\"background-color: #EEEEEE;\"><strong>meanprops</strong></mark> parameter</li>\n",
    "    <li><mark style=\"background-color: #EEEEEE;\"><strong>whiskerprops</strong></mark> - we can pass a dictionary containing key:value pairs to this parameter to remove the whiskers of our box-and-whisker plot. Also works like the <mark style=\"background-color: #EEEEEE;\"><strong>meanprops</strong></mark> parameter</li>\n",
    "    <li><mark style=\"background-color: #EEEEEE;\"><strong>showfliers</strong></mark> - we can indicate with a Boolean, whether or not we want to hide outliers (fliers)</li>\n",
    "    <li><mark style=\"background-color: #EEEEEE;\"><strong>showbox</strong></mark> - we can indicate with a Boolean, whether or not we want to hide the box of our box-and-whisker plot</li>\n",
    "    <li><mark style=\"background-color: #EEEEEE;\"><strong>showcaps</strong></mark> - we can indicate with a Boolean, whether or not we want to the caps</li>\n",
    "</ul>\n",
    "\n",
    "Now if we go through each argument and see how the resulting box-and-whisker plot is altered with each parameter:"
   ]
  },
  {
   "cell_type": "markdown",
   "id": "8ee7460d-f774-4c19-8d65-739b90835580",
   "metadata": {},
   "source": [
    "<h4>Show the mean</h4>"
   ]
  },
  {
   "cell_type": "markdown",
   "id": "cb8e8903-5217-4501-898d-5050545389e3",
   "metadata": {},
   "source": [
    "Let's get Python to show our mean by making use of the <mark style=\"background-color: #EEEEEE;\"><strong>showmeans</strong></mark> function. By changing it from the default value of <mark style=\"background-color: #EEEEEE;\"><strong>False</strong></mark> to <mark style=\"background-color: #EEEEEE;\"><strong>True</strong></mark>, which will tell the function that we want it to output the mean in the box-and-whisker plot."
   ]
  },
  {
   "cell_type": "code",
   "execution_count": 36,
   "id": "d2a79f91-1dae-4cc9-9a9d-9603feb3f314",
   "metadata": {},
   "outputs": [
    {
     "data": {
      "text/plain": [
       "<Axes: >"
      ]
     },
     "execution_count": 36,
     "metadata": {},
     "output_type": "execute_result"
    },
    {
     "data": {
      "image/png": "[encoded data removed]",
      "text/plain": [
       "<Figure size 640x480 with 1 Axes>"
      ]
     },
     "metadata": {},
     "output_type": "display_data"
    }
   ],
   "source": [
    "sns.boxplot(\n",
    "    data=tumor_weights,\n",
    "    showmeans=True\n",
    ")"
   ]
  },
  {
   "cell_type": "markdown",
   "id": "92104b65-ea9a-4c90-a627-d28429b45a06",
   "metadata": {},
   "source": [
    "It might be hard to see, but you can see a green triangle representing the mean value for each of our two groups. However, we want our mean to be a horizontal line, so we adjust this with the next parameter."
   ]
  },
  {
   "cell_type": "markdown",
   "id": "fe809c16-a4b5-4767-8617-fe67607a141a",
   "metadata": {},
   "source": [
    "<h4>Create a horizontal mean line</h4>"
   ]
  },
  {
   "cell_type": "markdown",
   "id": "5104989f-644f-46c2-a3e5-25d295b278d5",
   "metadata": {},
   "source": [
    "Let's change how the mean is depicted from a triangle shape to a horizontal line. To do this, we'll make use of the <mark style=\"background-color: #EEEEEE;\"><strong>meanline</strong></mark> parameters by switching it from it's defaule <mark style=\"background-color: #EEEEEE;\"><strong>False</strong></mark> to <mark style=\"background-color: #EEEEEE;\"><strong>True</strong></mark>."
   ]
  },
  {
   "cell_type": "code",
   "execution_count": 37,
   "id": "9f9b8933-88da-47da-aee3-df2eb137e957",
   "metadata": {},
   "outputs": [
    {
     "data": {
      "text/plain": [
       "<Axes: >"
      ]
     },
     "execution_count": 37,
     "metadata": {},
     "output_type": "execute_result"
    },
    {
     "data": {
      "image/png": "[encoded data removed]",
      "text/plain": [
       "<Figure size 640x480 with 1 Axes>"
      ]
     },
     "metadata": {},
     "output_type": "display_data"
    }
   ],
   "source": [
    "sns.boxplot(\n",
    "    data=tumor_weights,\n",
    "    showmeans=True,\n",
    "    meanline=True\n",
    ")"
   ]
  },
  {
   "cell_type": "markdown",
   "id": "f36baf44-3b7b-4a4a-b61d-5cfc5bef93e3",
   "metadata": {},
   "source": [
    "This is probably still hard to see, but there is now a green dashed line that denotes where our mean values are. It spans the full width of the box, but we can shorten the length of the line by reducing the width of our boxes."
   ]
  },
  {
   "cell_type": "markdown",
   "id": "8344ac74-be96-4d17-be0e-b75a4f0e1239",
   "metadata": {},
   "source": [
    "<h4>Shorten the length of the mean line</h4>"
   ]
  },
  {
   "cell_type": "markdown",
   "id": "7527ca45-c90d-4d02-8d6f-bac13ee1cba6",
   "metadata": {},
   "source": [
    "We can have the width of our boxes reduced to also simultaneously reduce the width of our mean line. To do this, we will make use of the <mark style=\"background-color: #EEEEEE;\"><strong>width</strong></mark> parameter."
   ]
  },
  {
   "cell_type": "code",
   "execution_count": 38,
   "id": "f0b0f391-9360-4c2c-9b91-8bbee53ed21b",
   "metadata": {},
   "outputs": [
    {
     "data": {
      "text/plain": [
       "<Axes: >"
      ]
     },
     "execution_count": 38,
     "metadata": {},
     "output_type": "execute_result"
    },
    {
     "data": {
      "image/png": "[encoded data removed]",
      "text/plain": [
       "<Figure size 640x480 with 1 Axes>"
      ]
     },
     "metadata": {},
     "output_type": "display_data"
    }
   ],
   "source": [
    "sns.boxplot(\n",
    "    data=tumor_weights,\n",
    "    showmeans=True,\n",
    "    meanline=True,\n",
    "    width=.5\n",
    ")"
   ]
  },
  {
   "cell_type": "markdown",
   "id": "b9e42bdc-522d-4730-a9c0-9702dd61f8a6",
   "metadata": {},
   "source": [
    "<h4>Refine the mean line</h4>"
   ]
  },
  {
   "cell_type": "markdown",
   "id": "bdcffbed-f635-4fd5-976f-3c12297173d0",
   "metadata": {},
   "source": [
    "Now if we want to refine our mean line's style, we can call up the parameter <mark style=\"background-color: #EEEEEE;\"><strong>meanprops</strong></mark>. We can pull up <u><a href=\"https://seaborn.pydata.org/generated/seaborn.boxplot.html\" rel=\"noopener noreferrer\" target=\"_blank\">the documentation of the <mark style=\"background-color: #EEEEEE;\"><strong>seaborn.boxplot()</strong></mark> function</a></u>, where we can find something interesting: a <mark style=\"background-color: #EEEEEE;\"><strong>kwargs</strong></mark> parameter. The documentation specifies that it will pass arguments through to <mark style=\"background-color: #EEEEEE;\"><strong>maplotlib.axes.Axes.boxplot()</strong></mark>, and <u><a href=\"https://matplotlib.org/stable/api/_as_gen/matplotlib.axes.Axes.boxplot.html\" rel=\"noopener noreferrer\" target=\"_blank\">if we dive into that documentation</a></u>, we can see that there are a bunch of keywords that we can specify that will be passed to this function. This works similarly to how the <mark style=\"background-color: #EEEEEE;\"><strong>err_kws</strong></mark> worked for our error bars on our boxplot. We'll provide it with a dictionary of keys and values that it will pass through another function, in this case the <mark style=\"background-color: #EEEEEE;\"><strong>maplotlib.axes.Axes.boxplot()</strong></mark> function.\n",
    "\n",
    "So what we'll pass to our function is a dictionary of keys and values:\n",
    "```\n",
    "meanprops = {'color': 'black', 'ls': '-', 'lw':1}\n",
    "```"
   ]
  },
  {
   "cell_type": "code",
   "execution_count": 39,
   "id": "e57fb266-20a9-4802-b508-75b6526df826",
   "metadata": {},
   "outputs": [
    {
     "data": {
      "text/plain": [
       "<Axes: >"
      ]
     },
     "execution_count": 39,
     "metadata": {},
     "output_type": "execute_result"
    },
    {
     "data": {
      "image/png": "[encoded data removed]",
      "text/plain": [
       "<Figure size 640x480 with 1 Axes>"
      ]
     },
     "metadata": {},
     "output_type": "display_data"
    }
   ],
   "source": [
    "sns.boxplot(\n",
    "    data=tumor_weights,\n",
    "    showmeans=True,\n",
    "    meanline=True,\n",
    "    width=.5,\n",
    "    meanprops = {'color': 'black', 'ls': '-', 'lw': 1}\n",
    ")"
   ]
  },
  {
   "cell_type": "markdown",
   "id": "91bd6416-d4de-462d-82c7-0a95f1f12360",
   "metadata": {},
   "source": [
    "Now the mean line is more clearly depicted, but there are still other parts of the box-and-whisker plot that we don't want."
   ]
  },
  {
   "cell_type": "markdown",
   "id": "93fa5a16-648a-49b9-a6fc-423773584438",
   "metadata": {},
   "source": [
    "<h4>Remove median line</h4>"
   ]
  },
  {
   "cell_type": "markdown",
   "id": "639b7f7b-28cb-47d8-a57b-f19852e1850e",
   "metadata": {},
   "source": [
    "Similar to the <mark style=\"background-color: #EEEEEE;\"><strong>meanprops</strong></mark> parameter, we can also make use of the <mark style=\"background-color: #EEEEEE;\"><strong>medianprops</strong></mark> parameter, which will allow us to stylize our median line. In this case, we'll be stylizing the line to hide it."
   ]
  },
  {
   "cell_type": "code",
   "execution_count": 40,
   "id": "b5d1e4c8-e8fa-4d94-baa6-6fdfd417d649",
   "metadata": {},
   "outputs": [
    {
     "data": {
      "text/plain": [
       "<Axes: >"
      ]
     },
     "execution_count": 40,
     "metadata": {},
     "output_type": "execute_result"
    },
    {
     "data": {
      "image/png": "[encoded data removed]",
      "text/plain": [
       "<Figure size 640x480 with 1 Axes>"
      ]
     },
     "metadata": {},
     "output_type": "display_data"
    }
   ],
   "source": [
    "sns.boxplot(\n",
    "    data=tumor_weights,\n",
    "    showmeans=True,\n",
    "    meanline=True,\n",
    "    width=.5,\n",
    "    meanprops = {'color': 'black', 'ls': '-', 'lw': 1},\n",
    "    medianprops = {'visible': False}\n",
    ")"
   ]
  },
  {
   "cell_type": "markdown",
   "id": "144efc9d-3242-4a00-8685-f28e402d4079",
   "metadata": {},
   "source": [
    "Now that we've removed the median line, we can clearly see the mean line."
   ]
  },
  {
   "cell_type": "markdown",
   "id": "93d5a472-999c-4c00-b2eb-793fffaa7e18",
   "metadata": {},
   "source": [
    "<h4>Remove whiskers</h4>"
   ]
  },
  {
   "cell_type": "markdown",
   "id": "81037b36-d53c-45bd-98e2-61497446c627",
   "metadata": {},
   "source": [
    "Now we can do the same with the whiskers by using the <mark style=\"background-color: #EEEEEE;\"><strong>whiskerprops</strong></mark> parameter, and also hiding it like we did with <mark style=\"background-color: #EEEEEE;\"><strong>medianprops</strong></mark>."
   ]
  },
  {
   "cell_type": "code",
   "execution_count": 41,
   "id": "926cc0b0-861f-46f5-a8e4-33fcd5b49f68",
   "metadata": {},
   "outputs": [
    {
     "data": {
      "text/plain": [
       "<Axes: >"
      ]
     },
     "execution_count": 41,
     "metadata": {},
     "output_type": "execute_result"
    },
    {
     "data": {
      "image/png": "[encoded data removed]",
      "text/plain": [
       "<Figure size 640x480 with 1 Axes>"
      ]
     },
     "metadata": {},
     "output_type": "display_data"
    }
   ],
   "source": [
    "sns.boxplot(\n",
    "    data=tumor_weights,\n",
    "    showmeans=True,\n",
    "    meanline=True,\n",
    "    width=.5,\n",
    "    meanprops = {'color': 'black', 'ls': '-', 'lw': 1},\n",
    "    medianprops = {'visible': False},\n",
    "    whiskerprops = {'visible': False}\n",
    ")"
   ]
  },
  {
   "cell_type": "markdown",
   "id": "97e46a75-72b5-4da8-a92b-67378e8ce7ea",
   "metadata": {},
   "source": [
    "<h4>Remove outliers (fliers)</h4>"
   ]
  },
  {
   "cell_type": "markdown",
   "id": "edc270c2-e241-4919-ae51-ffeb1d19c852",
   "metadata": {},
   "source": [
    "Since we only want our mean line, we'll also hide the plots of any outliers (fliers) in our data by using the <mark style=\"background-color: #EEEEEE;\"><strong>showfliers</strong></mark> parameter, and switching it to <mark style=\"background-color: #EEEEEE;\"><strong>False</strong></mark>."
   ]
  },
  {
   "cell_type": "code",
   "execution_count": 42,
   "id": "ab29eab5-aec8-4148-9777-ca26524273cf",
   "metadata": {},
   "outputs": [
    {
     "data": {
      "text/plain": [
       "<Axes: >"
      ]
     },
     "execution_count": 42,
     "metadata": {},
     "output_type": "execute_result"
    },
    {
     "data": {
      "image/png": "[encoded data removed]",
      "text/plain": [
       "<Figure size 640x480 with 1 Axes>"
      ]
     },
     "metadata": {},
     "output_type": "display_data"
    }
   ],
   "source": [
    "sns.boxplot(\n",
    "    data=tumor_weights,\n",
    "    showmeans=True,\n",
    "    meanline=True,\n",
    "    width=.5,\n",
    "    meanprops = {'color': 'black', 'ls': '-', 'lw': 1},\n",
    "    medianprops = {'visible': False},\n",
    "    whiskerprops = {'visible': False},\n",
    "    showfliers=False\n",
    ")"
   ]
  },
  {
   "cell_type": "markdown",
   "id": "c777bc66-921a-4564-a813-92dc68cfd43d",
   "metadata": {},
   "source": [
    "We're not removing outliers from our dataset, only hiding them in the box-and-whisker plot. And now, we're left with the mean line and the box (which denotes the interquartile range). So all that's left now is to remove the box and the caps."
   ]
  },
  {
   "cell_type": "markdown",
   "id": "1d9032c1-2deb-4621-8d79-ef3921ebfb4a",
   "metadata": {},
   "source": [
    "<h4>Remove the box</h4>"
   ]
  },
  {
   "cell_type": "markdown",
   "id": "f6d50976-4d26-43b4-ac90-a97a526ad454",
   "metadata": {},
   "source": [
    "We'll use the <mark style=\"background-color: #EEEEEE;\"><strong>showbox</strong></mark> parameter to remove the box by switching the argument from <mark style=\"background-color: #EEEEEE;\"><strong>True</strong></mark> (default) to <mark style=\"background-color: #EEEEEE;\"><strong>False</strong></mark>."
   ]
  },
  {
   "cell_type": "code",
   "execution_count": 43,
   "id": "d76ce8f3-5362-4f9e-96e6-760493fd4b50",
   "metadata": {},
   "outputs": [
    {
     "data": {
      "text/plain": [
       "<Axes: >"
      ]
     },
     "execution_count": 43,
     "metadata": {},
     "output_type": "execute_result"
    },
    {
     "data": {
      "image/png": "[encoded data removed]",
      "text/plain": [
       "<Figure size 640x480 with 1 Axes>"
      ]
     },
     "metadata": {},
     "output_type": "display_data"
    }
   ],
   "source": [
    "sns.boxplot(\n",
    "    data=tumor_weights,\n",
    "    showmeans=True,\n",
    "    meanline=True,\n",
    "    width=.5,\n",
    "    meanprops = {'color': 'black', 'ls': '-', 'lw': 1},\n",
    "    medianprops = {'visible': False},\n",
    "    whiskerprops = {'visible': False},\n",
    "    showfliers=False,\n",
    "    showbox=False,\n",
    ")"
   ]
  },
  {
   "cell_type": "markdown",
   "id": "56bdc4a4-20df-4f3c-9a03-fae4cf2fecee",
   "metadata": {},
   "source": [
    "<h4>Remove the caps</h4>"
   ]
  },
  {
   "cell_type": "markdown",
   "id": "24790d55-31e8-449e-98fb-6180f9aaabc3",
   "metadata": {},
   "source": [
    "We'll use the <mark style=\"background-color: #EEEEEE;\"><strong>showcaps</strong></mark> parameter to remove the box by switching the argument from <mark style=\"background-color: #EEEEEE;\"><strong>True</strong></mark> (default) to <mark style=\"background-color: #EEEEEE;\"><strong>False</strong></mark>."
   ]
  },
  {
   "cell_type": "code",
   "execution_count": 44,
   "id": "da9a61f8-ade4-4b8a-87e9-7ab8bb892df2",
   "metadata": {},
   "outputs": [
    {
     "data": {
      "text/plain": [
       "<Axes: >"
      ]
     },
     "execution_count": 44,
     "metadata": {},
     "output_type": "execute_result"
    },
    {
     "data": {
      "image/png": "[encoded data removed]",
      "text/plain": [
       "<Figure size 640x480 with 1 Axes>"
      ]
     },
     "metadata": {},
     "output_type": "display_data"
    }
   ],
   "source": [
    "sns.boxplot(\n",
    "    data=tumor_weights,\n",
    "    showmeans=True,\n",
    "    meanline=True,\n",
    "    width=.5,\n",
    "    meanprops = {'color': 'black', 'ls': '-', 'lw': 1},\n",
    "    medianprops = {'visible': False},\n",
    "    whiskerprops = {'visible': False},\n",
    "    showfliers=False,\n",
    "    showbox=False,\n",
    "    showcaps=False\n",
    ")"
   ]
  },
  {
   "cell_type": "markdown",
   "id": "d9d8684f-3754-4953-abc0-6d01edd30e3b",
   "metadata": {},
   "source": [
    "<h4>Now let's look at all the plots together on one figure.</h4>"
   ]
  },
  {
   "cell_type": "code",
   "execution_count": 45,
   "id": "07e3efc5-4a05-4e45-8e71-f31188c21ebf",
   "metadata": {},
   "outputs": [
    {
     "data": {
      "text/plain": [
       "<Axes: >"
      ]
     },
     "execution_count": 45,
     "metadata": {},
     "output_type": "execute_result"
    },
    {
     "data": {
      "image/png": "[encoded data removed]",
      "text/plain": [
       "<Figure size 640x480 with 10 Axes>"
      ]
     },
     "metadata": {},
     "output_type": "display_data"
    }
   ],
   "source": [
    "fig, ax = plt.subplots(2, 5, sharey=True, sharex=True)\n",
    "\n",
    "sns.boxplot(\n",
    "    data=tumor_weights,\n",
    "    ax=ax[0,0]\n",
    ")\n",
    "\n",
    "sns.boxplot(\n",
    "    data=tumor_weights,\n",
    "    showmeans=True,\n",
    "    ax=ax[0,1]\n",
    ")\n",
    "\n",
    "sns.boxplot(\n",
    "    data=tumor_weights,\n",
    "    showmeans=True,\n",
    "    meanline=True,\n",
    "    ax=ax[0,2]\n",
    ")\n",
    "\n",
    "sns.boxplot(\n",
    "    data=tumor_weights,\n",
    "    showmeans=True,\n",
    "    meanline=True,\n",
    "    width=.5,\n",
    "    ax=ax[0,3]\n",
    ")\n",
    "\n",
    "sns.boxplot(\n",
    "    data=tumor_weights,\n",
    "    showmeans=True,\n",
    "    meanline=True,\n",
    "    width=.5,\n",
    "    meanprops = {'color': 'black', 'ls': '-', 'lw': 1},\n",
    "    ax=ax[0,4]\n",
    ")\n",
    "\n",
    "sns.boxplot(\n",
    "    data=tumor_weights,\n",
    "    showmeans=True,\n",
    "    meanline=True,\n",
    "    width=.5,\n",
    "    meanprops = {'color': 'black', 'ls': '-', 'lw': 1},\n",
    "    medianprops = {'visible': False},\n",
    "    ax=ax[1,0]\n",
    ")\n",
    "\n",
    "sns.boxplot(\n",
    "    data=tumor_weights,\n",
    "    showmeans=True,\n",
    "    meanline=True,\n",
    "    width=.5,\n",
    "    meanprops = {'color': 'black', 'ls': '-', 'lw': 1},\n",
    "    medianprops = {'visible': False},\n",
    "    whiskerprops = {'visible': False},\n",
    "    ax=ax[1,1]\n",
    ")\n",
    "\n",
    "\n",
    "sns.boxplot(\n",
    "    data=tumor_weights,\n",
    "    showmeans=True,\n",
    "    meanline=True,\n",
    "    width=.5,\n",
    "    meanprops = {'color': 'black', 'ls': '-', 'lw': 1},\n",
    "    medianprops = {'visible': False},\n",
    "    whiskerprops = {'visible': False},\n",
    "    showfliers=False,\n",
    "    ax=ax[1,2]\n",
    ")\n",
    "\n",
    "sns.boxplot(\n",
    "    data=tumor_weights,\n",
    "    showmeans=True,\n",
    "    meanline=True,\n",
    "    width=.5,\n",
    "    meanprops = {'color': 'black', 'ls': '-', 'lw': 1},\n",
    "    medianprops = {'visible': False},\n",
    "    whiskerprops = {'visible': False},\n",
    "    showfliers=False,\n",
    "    showbox=False,\n",
    "    ax=ax[1,3]\n",
    ")\n",
    "\n",
    "sns.boxplot(\n",
    "    data=tumor_weights,\n",
    "    showmeans=True,\n",
    "    meanline=True,\n",
    "    width=.5,\n",
    "    meanprops = {'color': 'black', 'ls': '-', 'lw': 1},\n",
    "    medianprops = {'visible': False},\n",
    "    whiskerprops = {'visible': False},\n",
    "    showfliers=False,\n",
    "    showbox=False,\n",
    "    showcaps=False,\n",
    "    ax=ax[1,4]\n",
    ")"
   ]
  },
  {
   "cell_type": "markdown",
   "id": "2a6f7f7e-cef8-47c8-9073-8b9c8d3969a4",
   "metadata": {},
   "source": [
    "<h3>Look at all three of our plots side by side</h3>"
   ]
  },
  {
   "cell_type": "code",
   "execution_count": 46,
   "id": "403ced5a-709e-4e43-b330-4b6d72b160a1",
   "metadata": {},
   "outputs": [
    {
     "data": {
      "text/plain": [
       "<Axes: >"
      ]
     },
     "execution_count": 46,
     "metadata": {},
     "output_type": "execute_result"
    },
    {
     "data": {
      "image/png": "[encoded data removed]",
      "text/plain": [
       "<Figure size 640x480 with 3 Axes>"
      ]
     },
     "metadata": {},
     "output_type": "display_data"
    }
   ],
   "source": [
    "fig, ax = plt.subplots(1, 3, sharey=True)\n",
    "\n",
    "sns.swarmplot(\n",
    "    data=tumor_weights,\n",
    "    s=4,\n",
    "    palette=Color_code,\n",
    "    ax=ax[0]\n",
    ")\n",
    "\n",
    "sns.barplot(\n",
    "    data=tumor_weights,\n",
    "    estimator=np.mean,\n",
    "    alpha=0,\n",
    "    errorbar='se',\n",
    "    capsize=.3,\n",
    "    err_kws={'linewidth': 1, 'color': 'black'},\n",
    "    ax=ax[1]\n",
    ")\n",
    "\n",
    "sns.boxplot(\n",
    "    data=tumor_weights,\n",
    "    showmeans=True,\n",
    "    meanline=True,\n",
    "    width=.5,\n",
    "    meanprops = {'color': 'black', 'ls': '-', 'lw': 1},\n",
    "    medianprops = {'visible': False},\n",
    "    whiskerprops = {'visible': False},\n",
    "    showfliers=False,\n",
    "    showbox=False,\n",
    "    showcaps=False,\n",
    "    ax=ax[2]\n",
    ")"
   ]
  },
  {
   "cell_type": "markdown",
   "id": "42da59ae-d7a6-47af-9126-ed1e8fb9331a",
   "metadata": {},
   "source": [
    "<h3>Now overlay our plots onto our swarmplot</h3>"
   ]
  },
  {
   "cell_type": "code",
   "execution_count": 47,
   "id": "575c8d06-0593-4aec-8581-7b9447600c10",
   "metadata": {},
   "outputs": [
    {
     "data": {
      "text/plain": [
       "<Axes: >"
      ]
     },
     "execution_count": 47,
     "metadata": {},
     "output_type": "execute_result"
    },
    {
     "data": {
      "image/png": "[encoded data removed]",
      "text/plain": [
       "<Figure size 640x480 with 1 Axes>"
      ]
     },
     "metadata": {},
     "output_type": "display_data"
    }
   ],
   "source": [
    "fig, ax = plt.subplots()\n",
    "\n",
    "sns.swarmplot(\n",
    "    data=tumor_weights,\n",
    "    s=7,\n",
    "    palette=Color_code\n",
    ")\n",
    "\n",
    "sns.barplot(\n",
    "    data=tumor_weights,\n",
    "    estimator=np.mean,\n",
    "    alpha=0,\n",
    "    errorbar='se',\n",
    "    capsize=.3,\n",
    "    err_kws={'linewidth': 1, 'color': 'black'}\n",
    ")\n",
    "\n",
    "sns.boxplot(\n",
    "    data=tumor_weights,\n",
    "    showmeans=True,\n",
    "    meanline=True,\n",
    "    width=.5,\n",
    "    meanprops = {'color': 'black', 'ls': '-', 'lw': 1},\n",
    "    medianprops = {'visible': False},\n",
    "    whiskerprops = {'visible': False},\n",
    "    showfliers=False,\n",
    "    showbox=False,\n",
    "    showcaps=False\n",
    ")"
   ]
  },
  {
   "cell_type": "markdown",
   "id": "19afd325-8df0-4a16-a56a-649400ca41ab",
   "metadata": {},
   "source": [
    "<h4>Re-order the sequence that plots are overlaid</h4>"
   ]
  },
  {
   "cell_type": "markdown",
   "id": "d3a7aeb7-b711-44d2-954e-1836e6c2b6a9",
   "metadata": {},
   "source": [
    "You can see that our swarmplot is overlaid on top of our descriptive statistics, so we need to change the order in which each plot appears, so that our descriptive statistics are on top. We can do this by passing a <mark style=\"background-color: #EEEEEE;\"><strong>zorder</strong></mark> parameter to our swarmplot to move it under everything else."
   ]
  },
  {
   "cell_type": "code",
   "execution_count": null,
   "id": "6f0c9afd-1e6a-4efd-8993-b7eaa736cceb",
   "metadata": {},
   "outputs": [],
   "source": []
  },
  {
   "cell_type": "markdown",
   "id": "43be1953-aaed-482f-bbfc-4753025a0975",
   "metadata": {},
   "source": [
    "<h2>Update labels</h2>"
   ]
  },
  {
   "cell_type": "markdown",
   "id": "4074c6b7-eac3-4b85-bfda-dbf4bbac5f1d",
   "metadata": {},
   "source": [
    "Now our plot is looking much nicer and more like a publication quality figure. However, we still need to update the labels and axis titles!\n",
    "\n",
    "Since our plot set up is slightly different, we'll pull from slightly different attributes to define what our titles and axes labels will be. The concept is still the same as before, but the exact attribute we're calling is different.\n",
    "\n",
    "For example, last week we made use of <mark style=\"background-color: #EEEEEE;\"><strong>plt.ylabel()</strong></mark> to change the title of our Y-axis. This time, we can make use of <mark style=\"background-color: #EEEEEE;\"><strong>ax.set_ylabel()</strong></mark> to change the Y-axis title. They both function the same, but since the set-up is slightly different, we'll need to change which attribute we're calling for certain properties.\n",
    "\n",
    "So it will look like:\n",
    "```\n",
    "ax.set_ylabel('Tumor weight (mg)', fontsize=18)\n",
    "```\n",
    "With <mark style=\"background-color: #EEEEEE;\"><strong>ax.set_ylabel()</strong></mark>, we can set the title of the Y-axis and also specify the font-size using the <mark style=\"background-color: #EEEEEE;\"><strong>fontsize</strong></mark> parameter."
   ]
  },
  {
   "cell_type": "markdown",
   "id": "f714184e-bb9b-4192-9fb3-6ec7484e3ec2",
   "metadata": {},
   "source": [
    "<h4>Update Y-axis title</h4>"
   ]
  },
  {
   "cell_type": "code",
   "execution_count": null,
   "id": "cb4f51b6-66e4-4291-93e3-e2772ab993e8",
   "metadata": {},
   "outputs": [],
   "source": []
  },
  {
   "cell_type": "markdown",
   "id": "ddd126c1-00b3-46d5-9844-ae7edb86e55d",
   "metadata": {},
   "source": [
    "<h4>Update X-axis ticks and tick labels</h4>"
   ]
  },
  {
   "cell_type": "markdown",
   "id": "c295288f-c5ec-4251-af34-23d38da75fa8",
   "metadata": {},
   "source": [
    "We could go back into our data columns and update the header there, which will update the header for our plot. But we can update the X-axis tick labels without needing to go way back into our code.\n",
    "\n",
    "We will first define our X-axis positions using a list of integers, and then define the labels using the <mark style=\"background-color: #EEEEEE;\"><strong>labels</strong></mark> parameter.\n",
    "```\n",
    "ax.set_xticks([0, 1], labels=['Control', '$TAZ$ KO'])\n",
    "```\n",
    "Since we have two groups, our list will just consist of 0 and 1, since that's where our two groups are plotted in all our plots, and our list of labels will be at their respective positions. The text flanked by $ will become italicized in the figure.\n",
    "\n",
    "We can also make use of <mark style=\"background-color: #EEEEEE;\"><strong>plt.xticks()</strong></mark> to adjust the rotation and text alignment, and we can update our Y-axis ticks as well using <mark style=\"background-color: #EEEEEE;\"><strong>plt.yticks()</strong></mark>."
   ]
  },
  {
   "cell_type": "code",
   "execution_count": null,
   "id": "95f65c87-4e89-440d-9fac-04042ae3c560",
   "metadata": {},
   "outputs": [],
   "source": []
  },
  {
   "cell_type": "markdown",
   "id": "62d2a828-0c71-44f0-aa2b-ba3636efb636",
   "metadata": {},
   "source": [
    "<h2>Setting figure size and resolution</h2>"
   ]
  },
  {
   "cell_type": "markdown",
   "id": "37e08fd0-6746-4b53-8cc6-020c839957e4",
   "metadata": {},
   "source": [
    "We have two ways of setting figure size, either at the onset when we first use the <mark style=\"background-color: #EEEEEE;\"><strong>matplotlib.pyplot.subplots()</strong></mark> function, or we can specifically update the figure attribute using <mark style=\"background-color: #EEEEEE;\"><strong>fig.set_size_inches()</strong></mark> function. <u><a href=\"https://matplotlib.org/stable/api/_as_gen/matplotlib.figure.Figure.set_size_inches.html\" rel=\"noopener noreferrer\" target=\"_blank\">Documentation is here</a></u>.\n",
    "\n",
    "We can also improve the resolution of our figure, so it will look good in posters (which have to be blown up to a large size). To do this, we can use the <mark style=\"background-color: #EEEEEE;\"><strong>fig.set_dpi()</strong></mark> function. <u><a href=\"https://matplotlib.org/stable/api/_as_gen/matplotlib.figure.Figure.set_dpi.html#matplotlib.figure.Figure.set_dpi\" rel=\"noopener noreferrer\" target=\"_blank\">Documentation is here</a></u>."
   ]
  },
  {
   "cell_type": "code",
   "execution_count": null,
   "id": "e7dd1a4a-45de-494b-9b9d-8eecd34cd9d3",
   "metadata": {},
   "outputs": [],
   "source": []
  },
  {
   "cell_type": "markdown",
   "id": "03a0250c-e389-4c83-8511-df5ec4b3a6a5",
   "metadata": {},
   "source": [
    "<h2>Despine</h2>"
   ]
  },
  {
   "cell_type": "markdown",
   "id": "2f1cdc66-b41e-461b-8e66-ba2b1135bfd8",
   "metadata": {},
   "source": [
    "One of the benefits of using seaborn is that we can in a single line remove the spines of our plots.\n",
    "```\n",
    "sns.despine()\n",
    "```\n",
    "\n",
    "We can call up this function and use just the default parameters, so we don't need to specify any arguments."
   ]
  },
  {
   "cell_type": "code",
   "execution_count": null,
   "id": "5c934cde-7f5c-4ae7-b45a-f405eea4a6be",
   "metadata": {},
   "outputs": [],
   "source": []
  },
  {
   "cell_type": "markdown",
   "id": "631b44d6-e8bd-4d2b-a4a3-c1d3ca381b9e",
   "metadata": {},
   "source": [
    "<h1 style=\"font-size: 40px; margin-bottom: 0px;\">Exporting your plot</h1>\n",
    "\n",
    "<hr style=\"margin-left: 0px; border: 0.25px solid; border-color: #000000; width: 600px;\"></hr>"
   ]
  },
  {
   "cell_type": "markdown",
   "id": "c3784118-7766-4aca-ac90-3ab368959a32",
   "metadata": {},
   "source": [
    "Now that you have a publication quality plot that you want to include into your paper, grant, or presentation, you can export it as a PDF.\n",
    "```\n",
    "fig.savefig('Control_v_TAZ_KO_tumor_weights.pdf', bbox_inches=\"tight\")\n",
    "```"
   ]
  },
  {
   "cell_type": "code",
   "execution_count": null,
   "id": "316e133a-bf3f-44b9-9949-3dc0482698d3",
   "metadata": {},
   "outputs": [],
   "source": []
  },
  {
   "cell_type": "markdown",
   "id": "f80e5317-e63e-4d80-a0dc-4774d72335bc",
   "metadata": {},
   "source": [
    "Next week, we'll review plotting, practice more statistical analyses, and then learn to plot statistical results onto our data.\n",
    "\n",
    "We'll also then begin diving into creating some basic computational models of biological phenomena."
   ]
  },
  {
   "cell_type": "code",
   "execution_count": null,
   "id": "b3875463-33e1-4d46-ad4e-a0838e799f68",
   "metadata": {},
   "outputs": [],
   "source": []
  }
 ],
 "metadata": {
  "kernelspec": {
   "display_name": "Python [conda env:root] *",
   "language": "python",
   "name": "conda-root-py"
  },
  "language_info": {
   "codemirror_mode": {
    "name": "ipython",
    "version": 3
   },
   "file_extension": ".py",
   "mimetype": "text/x-python",
   "name": "python",
   "nbconvert_exporter": "python",
   "pygments_lexer": "ipython3",
   "version": "3.11.0"
  }
 },
 "nbformat": 4,
 "nbformat_minor": 5
}
