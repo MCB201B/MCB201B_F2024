{
 "cells": [
  {
   "cell_type": "markdown",
   "id": "fb6ddaeb-2c85-47ed-b449-cadfeb48813a",
   "metadata": {},
   "source": [
    "<h1 style=\"font-size: 40px; margin-bottom: 0px;\">4.1 Modeling biological phenomena (Part III)</h1>\n",
    "\n",
    "<hr style=\"margin-left: 0px; border: 0.25px solid; border-color: #000000; width: 850px;\"></hr>"
   ]
  },
  {
   "cell_type": "markdown",
   "id": "0d665f23-2ccf-461e-86c4-6ceffbc8df8a",
   "metadata": {},
   "source": [
    "For today, we'll be continuing to practice modeling biological phenomena. We'll explore more complicated models and how to simulate a probabilistic phenomenon, such as the diffusion of a single molecule, and if you finish early, there is time to discuss the biological phenomenon that you want to model.\n",
    "\n",
    "<strong>Learning objectives:</strong>\n",
    "<ul>\n",
    "    <li>Continue practicing for loops</li>\n",
    "    <li>Continue to practice plotting</li>\n",
    "    <li>Run simulations for steady-states</li>\n",
    "    <li>Run simulations for probabilistic events</li>\n",
    "</ul>"
   ]
  },
  {
   "cell_type": "code",
   "execution_count": null,
   "id": "5ad06d19-19c7-49d6-adb6-a72a3f0b38c6",
   "metadata": {},
   "outputs": [],
   "source": []
  },
  {
   "cell_type": "markdown",
   "id": "b26aad33-e29a-4fa2-b8c5-f43239434cbc",
   "metadata": {},
   "source": [
    "<h1 style=\"font-size: 40px; margin-bottom: 0px;\">Simulate mRNA dynamics</h1>\n",
    "\n",
    "<hr style=\"margin-left: 0px; border: 0.25px solid; border-color: #000000; width: 600px;\"></hr>"
   ]
  },
  {
   "cell_type": "markdown",
   "id": "e08be3b9-2078-4d22-8802-c6a24b77997f",
   "metadata": {},
   "source": [
    "Like with bacterial growth, we can also simulate the levels of mRNA. We know that mRNA is produced at some constant rate **r**. And we know that mRNA will have some rate of decay **gamma** that is dependent on the levels of mRNA (if there's no mRNA, then there's nothing to decay). So at some given time point **C(t+dt)**, we can model the levels of mRNA by taking into account the number of mRNA that we have **C(t)**, how many mRNA were made **(r times dt)**, and how many decayed **(gamma times dt times C(t))**.\n",
    "```\n",
    "C(t+dt) = C(t) + r*dt - gamma*dt*C(t)\n",
    "```"
   ]
  },
  {
   "cell_type": "markdown",
   "id": "9eaad708-22e0-47ea-904a-e490ffd48477",
   "metadata": {},
   "source": [
    "<h1 style=\"font-size: 40px; margin-bottom: 0px;\">Exercise #1: Simulate mRNA dynamics</h1>\n",
    "\n",
    "<hr style=\"margin-left: 0px; border: 0.25px solid; border-color: #000000; width: 800px;\"></hr>"
   ]
  },
  {
   "cell_type": "markdown",
   "id": "bab8702f-046e-445a-9c4e-fd3b6bf24187",
   "metadata": {},
   "source": [
    "Now see if you can work out a for loop that will allow you to simulate mRNA dynamics with the following parameters:\n",
    "```\n",
    "t_max = 200 #min\n",
    "dt = 0.1 #min\n",
    "r = 20 #mRNA made per min\n",
    "gamma = 4 #rate of mRNA decay per min\n",
    "mRNA_at_t0 = 5 #number of starting mRNA molecules\n",
    "```"
   ]
  },
  {
   "cell_type": "code",
   "execution_count": null,
   "id": "2d4e046f-ec92-47c6-99cf-f6a11e59e690",
   "metadata": {},
   "outputs": [],
   "source": []
  },
  {
   "cell_type": "markdown",
   "id": "d222254e-9ee0-4e72-8722-4acd9b103451",
   "metadata": {},
   "source": [
    "Let's take a look at the plot of mRNA levels over time with these starting parameters."
   ]
  },
  {
   "cell_type": "code",
   "execution_count": null,
   "id": "1aaf799c-11c1-4a6f-a113-45f3e495ef2e",
   "metadata": {},
   "outputs": [],
   "source": []
  },
  {
   "cell_type": "markdown",
   "id": "9183a537-208b-4860-8f0a-7090da31dc69",
   "metadata": {},
   "source": [
    "Now what if we have a starting mRNA number of 40? How does that change the dynamics of our mRNA?"
   ]
  },
  {
   "cell_type": "code",
   "execution_count": null,
   "id": "b08973ae-c7ab-4074-a68b-f58ee64a15ac",
   "metadata": {},
   "outputs": [],
   "source": []
  },
  {
   "cell_type": "markdown",
   "id": "860bc861-3e1f-4933-a919-3110b9dca3d1",
   "metadata": {},
   "source": [
    "Let's visualize the plot for when we have a higher starting mRNA level."
   ]
  },
  {
   "cell_type": "code",
   "execution_count": null,
   "id": "9751a48f-4bb1-447e-a167-674d1f5b3f44",
   "metadata": {},
   "outputs": [],
   "source": []
  },
  {
   "cell_type": "markdown",
   "id": "2fed6d57-a95d-4607-87f8-1f9cf8e987ea",
   "metadata": {},
   "source": [
    "Let's take a look at our two plots together."
   ]
  },
  {
   "cell_type": "code",
   "execution_count": null,
   "id": "292d15c2-0c3e-43fa-b1af-aaea92226375",
   "metadata": {},
   "outputs": [],
   "source": []
  },
  {
   "cell_type": "markdown",
   "id": "8afc2702-ac20-4e6c-b81a-57cfd0e46585",
   "metadata": {},
   "source": [
    "<h2><u>Challenge:</u> Simulate mRNA dynamics in response to an oscillating transcription factor</h2>"
   ]
  },
  {
   "cell_type": "markdown",
   "id": "591bba4e-5f59-49f8-a33d-fba85349e428",
   "metadata": {},
   "source": [
    "Let's try to come up with an ad hoc simulation of mRNA dynamics when mRNA is only produced once a transcription factor reaches some threshold concentration. For this, we can make use of the <mark style=\"background-color: #EEEEEE;\"><strong>np.sin()</strong></mark> function to represent oscillating levels of a theoretical transcription factor."
   ]
  },
  {
   "cell_type": "markdown",
   "id": "a41e1137-7a3a-4d91-b6b3-963ead57234d",
   "metadata": {},
   "source": [
    "We can make use of the following parameters:\n",
    "```\n",
    "t_max = 10 #sec\n",
    "dt = 0.001 #sec\n",
    "time_array = np.zeros(int(t_max/dt))\n",
    "r = 30\n",
    "c = 0.05 #efficiency of transcription factor binding and activation\n",
    "gamma = 2\n",
    "initial_tf_concentration = 20 #uM\n",
    "```\n",
    "And let's say the transcription factor has oscillates around its initial concentration at a pattern described by:\n",
    "```\n",
    "15*np.sin(2*time_array[i])\n",
    "```\n",
    "And only when the transcription factor reaches a threshold concentration of 30 uM does mRNA production occur."
   ]
  },
  {
   "cell_type": "code",
   "execution_count": null,
   "id": "511eb618-8022-4b39-92a2-68e166b68b6d",
   "metadata": {},
   "outputs": [],
   "source": []
  },
  {
   "cell_type": "markdown",
   "id": "209ae886-c066-427f-bff2-dad7e9482662",
   "metadata": {},
   "source": [
    "<h1 style=\"font-size: 40px; margin-bottom: 0px;\">Exercise #2: Simulating 1D diffusion via coin flips</h1>\n",
    "\n",
    "<hr style=\"margin-left: 0px; border: 0.25px solid; border-color: #000000; width: 900px;\"></hr>"
   ]
  },
  {
   "cell_type": "markdown",
   "id": "efcf03d2-9ee9-41d5-8d3f-1ce9652bb69f",
   "metadata": {},
   "source": [
    "Diffusion can be modeled using a random walk, where we essentially \"flip a coin\" to determine whether our molecule moves in one direction or another. To do this, you can make use of either <mark style=\"background-color: #EEEEEE;\"><strong>np.random.randint()</strong></mark> or a uniform random number generator from NumPy <mark style=\"background-color: #EEEEEE;\"><strong>np.random.uniform()</strong></mark>. <a href=\"https://numpy.org/doc/stable/reference/random/generated/numpy.random.uniform.html\" rel=\"noopener noreferrer\" target=\"_blank\"><u>Documentation is here</u></a>. \n",
    "\n",
    "For this set up, we're not interested tracking anything over multiple flips, we just want to see if we can control the position of a molecule with a random number generator (our coin flip).\n",
    "```\n",
    "position = 0\n",
    "coin = np.random.uniform()\n",
    "```\n",
    "First, see if you can make use of an if-else statement to have your \"molecule\" have a 50% chance of moving either up or down by 1 based on the output of your random number generator."
   ]
  },
  {
   "cell_type": "code",
   "execution_count": null,
   "id": "5063ee28-677a-4d1a-8464-aac17d8821a7",
   "metadata": {},
   "outputs": [],
   "source": []
  },
  {
   "cell_type": "markdown",
   "id": "c77823e6-299d-4e74-9eb4-2938f7fd6c11",
   "metadata": {},
   "source": [
    "Once you've worked out how to change the position of a molecule using an if-else statement, try to use this as a framework to set up a for loop, where now you have an array that tracks the position of your molecule for each flip (in other words, tracking the position of the molecule over time)."
   ]
  },
  {
   "cell_type": "code",
   "execution_count": null,
   "id": "a6f8092b-190e-46d4-bfc4-6a5cb4ee685a",
   "metadata": {},
   "outputs": [],
   "source": []
  },
  {
   "cell_type": "markdown",
   "id": "db7bdd90-1835-4a12-9ad4-e091a8e4b114",
   "metadata": {},
   "source": [
    "Now let's plot the position of the molecule over each flip."
   ]
  },
  {
   "cell_type": "code",
   "execution_count": null,
   "id": "d9ef2ba9-644c-4e40-9569-c30020ebaed9",
   "metadata": {},
   "outputs": [],
   "source": []
  },
  {
   "cell_type": "markdown",
   "id": "e8ad119d-06d8-4689-9e4a-f382b13eff91",
   "metadata": {},
   "source": [
    "<h2><u>Big Challenge:</u> Model multiple molecules at once</h2>"
   ]
  },
  {
   "cell_type": "markdown",
   "id": "1123094b-e142-4077-8a14-c77b5a9a0791",
   "metadata": {},
   "source": [
    "For this big challenge, see if you can figure out how to set up a <u>nested for loop</u> that will allow you to model the diffusion of multiple molecules at once with coin flips.\n",
    "\n",
    "You'll need to set up in this case, a 2D array (a matrix) where each row corresponds to the position of a single molecule and each column corresponds to individual molecules. So the matrix will look something like this table:\n",
    "\n",
    "<table>\n",
    "    <tr style=\"background-color: transparent; border: none;\">\n",
    "        <td style=\"background-color: transparent; border: none;\"></td>\n",
    "        <td style=\"background-color: #EEEEEE; border: 1px solid; border-color: #000000;\">Mol_1</td>\n",
    "        <td style=\"background-color: #EEEEEE; border: 1px solid; border-color: #000000;\">Mol_2</td>\n",
    "        <td style=\"background-color: #EEEEEE; border: 1px solid; border-color: #000000;\">Mol_3</td>\n",
    "        <td style=\"background-color: #EEEEEE; border: 1px solid; border-color: #000000;\">Mol_4</td>\n",
    "    </tr>\n",
    "    <tr style=\"background-color: transparent; border: 1px solid; border-color: #000000;\">\n",
    "        <td style=\"background-color: #EEEEEE; border: 1px solid; border-color: #000000;\">Flip_1</td>\n",
    "        <td style=\"background-color: transparent; border: 1px solid; border-color: #000000;\">&nbsp;</td>\n",
    "        <td style=\"background-color: transparent; border: 1px solid; border-color: #000000;\">&nbsp;</td>\n",
    "        <td style=\"background-color: transparent; border: 1px solid; border-color: #000000;\">&nbsp;</td>\n",
    "        <td style=\"background-color: transparent; border: 1px solid; border-color: #000000;\">&nbsp;</td>\n",
    "    </tr>\n",
    "        <tr style=\"background-color: transparent; border: 1px solid; border-color: #000000;\">\n",
    "        <td style=\"background-color: #EEEEEE; border: 1px solid; border-color: #000000;\">Flip_2</td>\n",
    "        <td style=\"background-color: transparent; border: 1px solid; border-color: #000000;\">&nbsp;</td>\n",
    "        <td style=\"background-color: transparent; border: 1px solid; border-color: #000000;\">&nbsp;</td>\n",
    "        <td style=\"background-color: transparent; border: 1px solid; border-color: #000000;\">&nbsp;</td>\n",
    "        <td style=\"background-color: transparent; border: 1px solid; border-color: #000000;\">&nbsp;</td>\n",
    "    </tr>\n",
    "    </tr>\n",
    "        <tr style=\"background-color: transparent; border: 1px solid; border-color: #000000;\">\n",
    "        <td style=\"background-color: #EEEEEE; border: 1px solid; border-color: #000000;\">Flip_3</td>\n",
    "        <td style=\"background-color: transparent; border: 1px solid; border-color: #000000;\">&nbsp;</td>\n",
    "        <td style=\"background-color: transparent; border: 1px solid; border-color: #000000;\">&nbsp;</td>\n",
    "        <td style=\"background-color: transparent; border: 1px solid; border-color: #000000;\">&nbsp;</td>\n",
    "        <td style=\"background-color: transparent; border: 1px solid; border-color: #000000;\">&nbsp;</td>\n",
    "    </tr>\n",
    "    </tr>\n",
    "        <tr style=\"background-color: transparent; border: 1px solid; border-color: #000000;\">\n",
    "        <td style=\"background-color: #EEEEEE; border: 1px solid; border-color: #000000;\">Flip_4</td>\n",
    "        <td style=\"background-color: transparent; border: 1px solid; border-color: #000000;\">&nbsp;</td>\n",
    "        <td style=\"background-color: transparent; border: 1px solid; border-color: #000000;\">&nbsp;</td>\n",
    "        <td style=\"background-color: transparent; border: 1px solid; border-color: #000000;\">&nbsp;</td>\n",
    "        <td style=\"background-color: transparent; border: 1px solid; border-color: #000000;\">&nbsp;</td>\n",
    "    </tr>\n",
    "    </tr>\n",
    "        <tr style=\"background-color: transparent; border: 1px solid; border-color: #000000;\">\n",
    "        <td style=\"background-color: #EEEEEE; border: 1px solid; border-color: #000000;\">Flip_5</td>\n",
    "        <td style=\"background-color: transparent; border: 1px solid; border-color: #000000;\">&nbsp;</td>\n",
    "        <td style=\"background-color: transparent; border: 1px solid; border-color: #000000;\">&nbsp;</td>\n",
    "        <td style=\"background-color: transparent; border: 1px solid; border-color: #000000;\">&nbsp;</td>\n",
    "        <td style=\"background-color: transparent; border: 1px solid; border-color: #000000;\">&nbsp;</td>\n",
    "    </tr>\n",
    "</table>"
   ]
  },
  {
   "cell_type": "markdown",
   "id": "4ef93a79-3344-4690-a99f-f6a395238bfd",
   "metadata": {},
   "source": [
    "You can initialize a matrix of zeros by providing the <mark style=\"background-color: #EEEEEE;\"><strong>np.zeros()</strong></mark> function with a list containing 2 elements, and it will generate a 2D array rather than a 1D array.\n",
    "```\n",
    "your_matrix_variable = np.zeros([number_of_rows, number_of_columns])\n",
    "```"
   ]
  },
  {
   "cell_type": "markdown",
   "id": "f56f09a5-d212-4eeb-a802-0e9785ff581e",
   "metadata": {},
   "source": [
    "The logic of the nested for loop in this case is that for each single molecule, you want to proceed through each flip, and you want Python to be able track which molecule and which flip it is currently interating through."
   ]
  },
  {
   "cell_type": "code",
   "execution_count": null,
   "id": "1bc7c289-cf38-4e49-bed7-0d3b39a45421",
   "metadata": {},
   "outputs": [],
   "source": []
  },
  {
   "cell_type": "markdown",
   "id": "576b87f9-dfa8-41b0-822e-4ff99828284e",
   "metadata": {},
   "source": [
    "Let's now try that with 200 different molecules."
   ]
  },
  {
   "cell_type": "code",
   "execution_count": null,
   "id": "f758537f-2177-4bad-bffc-ac95577f66aa",
   "metadata": {},
   "outputs": [],
   "source": []
  },
  {
   "cell_type": "markdown",
   "id": "13f72497-6bdd-4b9d-8d5c-e1318d12f0e5",
   "metadata": {},
   "source": [
    "Now let's take a look at how all the molecules look over time by reducing the transparency of our individual lines."
   ]
  },
  {
   "cell_type": "code",
   "execution_count": null,
   "id": "5e0478b8-f1f3-4efb-acb4-8d9e2492195a",
   "metadata": {},
   "outputs": [],
   "source": []
  },
  {
   "cell_type": "markdown",
   "id": "40f6ca92-4ce7-4515-8267-521c5b1e831d",
   "metadata": {},
   "source": [
    "How does the distribution of our molecules look at their final timepoint if we plot the data on a histogram?"
   ]
  },
  {
   "cell_type": "code",
   "execution_count": null,
   "id": "a87b5900-bb75-44ea-b675-403d3c3bc879",
   "metadata": {},
   "outputs": [],
   "source": []
  },
  {
   "cell_type": "code",
   "execution_count": null,
   "id": "c6ddcc8d-3370-408e-87f2-58235a6df82f",
   "metadata": {},
   "outputs": [],
   "source": []
  },
  {
   "cell_type": "code",
   "execution_count": null,
   "id": "3368a42f-0b13-4a18-8f22-59fd51aaa314",
   "metadata": {},
   "outputs": [],
   "source": []
  },
  {
   "cell_type": "code",
   "execution_count": null,
   "id": "410ae77d-82e9-47ba-96e6-a5431fc239be",
   "metadata": {},
   "outputs": [],
   "source": []
  }
 ],
 "metadata": {
  "kernelspec": {
   "display_name": "Python [conda env:root] *",
   "language": "python",
   "name": "conda-root-py"
  },
  "language_info": {
   "codemirror_mode": {
    "name": "ipython",
    "version": 3
   },
   "file_extension": ".py",
   "mimetype": "text/x-python",
   "name": "python",
   "nbconvert_exporter": "python",
   "pygments_lexer": "ipython3",
   "version": "3.11.0"
  }
 },
 "nbformat": 4,
 "nbformat_minor": 5
}
