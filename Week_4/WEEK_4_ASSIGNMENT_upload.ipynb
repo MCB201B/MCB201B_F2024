{
 "cells": [
  {
   "cell_type": "markdown",
   "id": "175984b0-ea36-4c4c-b855-6749b063b8d9",
   "metadata": {},
   "source": [
    "<h1 style=\"font-size: 40px; margin-bottom: 0px;\">Week 4 Assignment (ungraded)</h1>\n",
    "\n",
    "<hr style=\"margin-left: 0px; border: 0.25px solid; border-color: #000000; width: 600px;\"></hr>"
   ]
  },
  {
   "cell_type": "markdown",
   "id": "70fbcb39-a3b8-40ec-b89b-28ddd7dcfb6e",
   "metadata": {},
   "source": [
    "This assignment is ungraded. It's just to prepare for ChIP-seq analysis.\n",
    "\n",
    "Now that you have downloaded your ChIP-seq files, there are more files for you to download.\n",
    "\n",
    "We'll be aligning sequences to the hg19 genome assembly as was done in <a href=\"https://pubmed.ncbi.nlm.nih.gov/26258633/\" rel=\"noopener noreferrer\" target=\"_blank\"><u>Zanconato et al 2015 Nat Cell Biol</u></a>. While we can download the assembly and create our own index, this is time intensive, and fortunately, the alignment software (bowtie2) that we'll be using has a link to the indexed genome assembly. \n",
    "\n",
    "You can find the link along with their documentation and manual <a href=\"https://bowtie-bio.sourceforge.net/bowtie2/index.shtml\" rel=\"noopener noreferrer\" target=\"_blank\"><u>at this link.</u></a> The download link for the indexed *H. sapiens* hg19 genome assembly can be found along the right-hand menu under **Index**. You can also <a href=\"https://genome-idx.s3.amazonaws.com/bt/hg19.zip\" rel=\"noopener noreferrer\" target=\"_blank\"><u>click this link to download the .zip file for the indexed genome assembly.</u></a>"
   ]
  },
  {
   "cell_type": "markdown",
   "id": "aec989ec-c361-4225-8e3d-7cc9604f2089",
   "metadata": {},
   "source": [
    "<h2>Uploading files to your Biology Hub server</h2>"
   ]
  },
  {
   "cell_type": "markdown",
   "id": "b85e96bb-d28c-4a33-a84b-3295a2b5e3f7",
   "metadata": {},
   "source": [
    "To prepare your server for your files, create a folder named <mark style=\"background-color: #EEEEEE;\"><strong>analysis</strong></mark> in your home directory (<u>not</u> in the MCB201B_F2024 directory). \n",
    "\n",
    "Your home directory should look something like:\n",
    "\n",
    "<img src=\"analysis_folder.png\" />\n"
   ]
  },
  {
   "cell_type": "markdown",
   "id": "892539e5-0a61-4692-ae87-b0c741e103b0",
   "metadata": {},
   "source": [
    "Within the <mark style=\"background-color: #EEEEEE;\"><strong>analysis</strong></mark> folder, create the following folders:\n",
    "<ul>\n",
    "    <li><mark style=\"background-color: #EEEEEE;\"><strong>chip</strong></mark></li>\n",
    "    <li><mark style=\"background-color: #EEEEEE;\"><strong>index</strong></mark></li>\n",
    "    <li><mark style=\"background-color: #EEEEEE;\"><strong>rna</strong></mark></li>\n",
    "</ul>"
   ]
  },
  {
   "cell_type": "markdown",
   "id": "699ffcfd-1d56-455c-b5fe-68195ebef666",
   "metadata": {},
   "source": [
    "Upload your ChIP-seq data into the chip folder, and the hg19 index files into the index folder. <u>Leave the index file names unchanged.</u>"
   ]
  },
  {
   "cell_type": "markdown",
   "id": "6c3ee14d-18ad-4d40-b29d-b0b926229c29",
   "metadata": {},
   "source": [
    "<h2>Rename ChIP-seq fastq.gz files</h2>"
   ]
  },
  {
   "cell_type": "markdown",
   "id": "a466a899-4133-477a-9672-a013833b216f",
   "metadata": {},
   "source": [
    "Using the following convention to rename your fastq.gz files. If you used Safari to download the fastq.gz files, and they were automatically unzipped into .fastq files, make sure you don't rename your files with a fastq.gz extension. \n",
    "<ul>\n",
    "    <li><strong>For your controls:</strong> ctrl_[rep#]-[file#].fastq.gz</li>\n",
    "    <ul>\n",
    "        <li>ctrl_1-1.fastq.gz</li>\n",
    "        <li>ctrl_1-2.fastq.gz</li>\n",
    "        <li>ctrl_1-3.fastq.gz</li>\n",
    "        <li>ctrl_3-1.fastq.gz</li>\n",
    "        <li>ctrl_3-2.fastq.gz</li>\n",
    "    </ul>\n",
    "    <li><strong>For TAZ:</strong> taz_[rep#]-[file#].fastq.gz</li>\n",
    "    <ul>\n",
    "        <li>taz_1-1.fastq.gz</li>\n",
    "        <li>taz_1-2.fastq.gz</li>\n",
    "        <li>taz_1-3.fastq.gz</li>\n",
    "        <li>taz_2-1.fastq.gz</li>\n",
    "        <li>taz_2-2.fastq.gz</li>\n",
    "        <li>taz_2-3.fastq.gz</li>\n",
    "    </ul>\n",
    "</ul>"
   ]
  },
  {
   "cell_type": "code",
   "execution_count": null,
   "id": "9677f122-cd3f-43d1-973d-15c07380f704",
   "metadata": {},
   "outputs": [],
   "source": []
  }
 ],
 "metadata": {
  "kernelspec": {
   "display_name": "Python [conda env:root] *",
   "language": "python",
   "name": "conda-root-py"
  },
  "language_info": {
   "codemirror_mode": {
    "name": "ipython",
    "version": 3
   },
   "file_extension": ".py",
   "mimetype": "text/x-python",
   "name": "python",
   "nbconvert_exporter": "python",
   "pygments_lexer": "ipython3",
   "version": "3.11.0"
  }
 },
 "nbformat": 4,
 "nbformat_minor": 5
}
