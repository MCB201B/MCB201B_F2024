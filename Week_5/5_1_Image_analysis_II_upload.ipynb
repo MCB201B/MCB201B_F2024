{
 "cells": [
  {
   "cell_type": "markdown",
   "id": "f29e8776-4602-473e-b17f-aca3b7779b83",
   "metadata": {},
   "source": [
    "<h1 style=\"font-size: 40px; margin-bottom: 0px;\">5.1 Image analysis in Python Part II</h1>\n",
    "\n",
    "<hr style=\"margin-left: 0px; border: 0.25px solid; border-color: #000000; width: 700px;\"></hr>"
   ]
  },
  {
   "cell_type": "markdown",
   "id": "d904fd21-6596-4778-8d11-33ef19c4c578",
   "metadata": {},
   "source": [
    "Today, we'll be continuing with some image analysis to see if we can update our function from last week in order to use it to analyze a series of nuclear YAP intensities at once. This will require an additional package that will let us navigate directories while in our Python notebook. Once we load in our images, we'll work through how to update our function from last week, where we analyzed just a single field of view, to one where we can analyze all our images.\n",
    "\n",
    "<strong>Learning objectives:</strong>\n",
    "<ul>\n",
    "    <li>Practice navigating directories while working in a Python notebook</li>\n",
    "    <li>Learn how to load in multiple files for simultaneous processing</li>\n",
    "    <li>Set up a pipeline to analyze multiple images at once</li>\n",
    "    <li>Continue using for loops and functions for image analysis</li>\n",
    "</ul>"
   ]
  },
  {
   "cell_type": "markdown",
   "id": "887d7120-29ee-4066-85b9-c06cd684aa3b",
   "metadata": {},
   "source": [
    "Packages that we'll use today are:\n",
    "<ul>\n",
    "    <li>numpy</li>\n",
    "    <li>pandas</li>\n",
    "    <li>matplotlib.pyplot</li>\n",
    "    <li>skimage.measure</li>\n",
    "    <li>seaborn</li>\n",
    "    <li>scipy.stats</li>\n",
    "    <li>scipy.ndimage</li>\n",
    "    <li>os</li>\n",
    "</ul>"
   ]
  },
  {
   "cell_type": "code",
   "execution_count": null,
   "id": "30e7ff43-e02b-47b4-89ee-039f09249a24",
   "metadata": {},
   "outputs": [],
   "source": [
    "import numpy as np\n",
    "import pandas as pd\n",
    "import matplotlib.pyplot as plt\n",
    "import skimage.measure\n",
    "from skimage.color import label2rgb\n",
    "import seaborn as sns\n",
    "import scipy.stats as stats\n",
    "import scipy.ndimage as ndi\n",
    "import os"
   ]
  },
  {
   "cell_type": "markdown",
   "id": "a4d130b5-6822-4818-b502-1cb77a76133a",
   "metadata": {},
   "source": [
    "<h1 style=\"font-size: 40px; margin-bottom: 0px;\">Navigating directories</h1>\n",
    "\n",
    "<hr style=\"margin-left: 0px; border: 0.25px solid; border-color: #000000; width: 600px;\"></hr>"
   ]
  },
  {
   "cell_type": "markdown",
   "id": "fbc85c41-df46-41a1-8d25-5b7882b38f0c",
   "metadata": {},
   "source": [
    "Today, you will learn to make use of the <mark style=\"background-color: #EEEEEE;\"><strong>os</strong></mark> module in order to use operating system functionalities, such as changing directories. This module allows you to find files that you want to pull into Python, so you can load in multiple files at once for analysis. In our case, we will be using functions contained in this module to load in all our image files."
   ]
  },
  {
   "cell_type": "markdown",
   "id": "8fe4a06c-906e-4042-9361-0222b0d64b1c",
   "metadata": {},
   "source": [
    "<h2>Identify current working directory</h2>"
   ]
  },
  {
   "cell_type": "markdown",
   "id": "c7dc5833-a5ff-44ad-b8d3-1751d7833ae0",
   "metadata": {},
   "source": [
    "First, let's take a look at our current working directory by using the <mark style=\"background-color: #EEEEEE;\"><strong>os.getcwd()</strong></mark> function. <a href=\"https://docs.python.org/3/library/os.html#os.getcwd\" rel=\"noopener noreferrer\" target=\"_blank\"><u>Documentation is here.</u></a>"
   ]
  },
  {
   "cell_type": "code",
   "execution_count": null,
   "id": "73a25f8f-4c20-43d0-8b14-6c5a8fcc2660",
   "metadata": {},
   "outputs": [],
   "source": []
  },
  {
   "cell_type": "markdown",
   "id": "14262153-2e20-4859-aa3e-1af6022b88c0",
   "metadata": {},
   "source": [
    "You can see that the <mark style=\"background-color: #EEEEEE;\"><strong>os.getcwd()</strong></mark> function outputs to us the path to our current working directory, and by default, our working directory will be the folder that contains our Python notebook.\n",
    "\n",
    "But what data type are we getting as an output?"
   ]
  },
  {
   "cell_type": "code",
   "execution_count": null,
   "id": "ec88ead3-ee9f-463f-993e-f12e56623d79",
   "metadata": {},
   "outputs": [],
   "source": []
  },
  {
   "cell_type": "markdown",
   "id": "e9e78d52-d0c1-408a-a216-44652410312f",
   "metadata": {},
   "source": [
    "You can see that we're getting a string data type as an output that contains the file path information to our current working directory. Recall that we can make use of the <mark style=\"background-color: #EEEEEE;\"><strong>&plus;</strong></mark> operator to concatenate two strings together. What this means is that we can specify subdirectories or add onto the file path by combining the <mark style=\"background-color: #EEEEEE;\"><strong>os.getcwd()</strong></mark> and a string that specifies the subdirectory that we want to go into.\n",
    "```\n",
    "os.getcwd()+'/images/'\n",
    "```"
   ]
  },
  {
   "cell_type": "code",
   "execution_count": null,
   "id": "ea96bd80-7556-4565-be1a-059006eb7329",
   "metadata": {},
   "outputs": [],
   "source": []
  },
  {
   "cell_type": "markdown",
   "id": "cabb8b6e-c50d-45a1-80f7-f51684b1446f",
   "metadata": {},
   "source": [
    "<h2>Change directories</h2>"
   ]
  },
  {
   "cell_type": "markdown",
   "id": "b81976ac-6b8a-4d8c-b658-e4803474b447",
   "metadata": {},
   "source": [
    "We can also change what folder we're working in by using the <mark style=\"background-color: #EEEEEE;\"><strong>os.chdir()</strong></mark> function. <a href=\"https://docs.python.org/3/library/os.html#os.chdir\" rel=\"noopener noreferrer\" target=\"_blank\"><u>Documentation is here.</a></u>\n",
    "\n",
    "To reduce how much we need to type, we can use the <mark style=\"background-color: #EEEEEE;\"><strong>os.getcwd()</strong></mark> function to get the file path to this week's directory and just add on the subdirectory information.\n",
    "```\n",
    "os.chdir(os.getcwd()+'/images/')\n",
    "```"
   ]
  },
  {
   "cell_type": "code",
   "execution_count": null,
   "id": "ce5c37c6-c1d0-4d3b-ad9c-bac91cbee8ce",
   "metadata": {},
   "outputs": [],
   "source": []
  },
  {
   "cell_type": "markdown",
   "id": "980b9d0c-059f-40ad-abe3-5771298b8e59",
   "metadata": {},
   "source": [
    "Now let's see what our current working directory is:"
   ]
  },
  {
   "cell_type": "code",
   "execution_count": null,
   "id": "078f5f11-c598-4135-b7b7-475d3f92a072",
   "metadata": {},
   "outputs": [],
   "source": []
  },
  {
   "cell_type": "markdown",
   "id": "2c462993-c483-42c9-8174-8f37ce1eca0d",
   "metadata": {},
   "source": [
    "You should be able to see now that our current working directory has been updated to be the **images** folder contained within this week's directory."
   ]
  },
  {
   "cell_type": "markdown",
   "id": "9b6883bb-18e2-459c-8125-12728fc595d9",
   "metadata": {},
   "source": [
    "<h2>Get the names of files and folders in a directory</h2>"
   ]
  },
  {
   "cell_type": "markdown",
   "id": "94eca1b5-4d32-45f7-b36a-aac01d538639",
   "metadata": {},
   "source": [
    "Now that we're in a directory that we want to work in, we can take a look at what's containined within it by using the <mark style=\"background-color: #EEEEEE;\"><strong>os.listdir()</strong></mark> function. <a href=\"https://docs.python.org/3/library/os.html#os.listdir\" rel=\"noopener noreferrer\" target=\"_blank\"><u>Documentation is here.</u></a>\n",
    "```\n",
    "os.listdir()\n",
    "```"
   ]
  },
  {
   "cell_type": "code",
   "execution_count": null,
   "id": "b40de5a5-ea2b-4fc1-a475-01e079d7474c",
   "metadata": {},
   "outputs": [],
   "source": []
  },
  {
   "cell_type": "markdown",
   "id": "56e00950-80b6-4d04-a2d8-b69db03d42fd",
   "metadata": {},
   "source": [
    "You should be able to see that the output contains the folders for this week's images that we'll be analyzing. Specifically, the **bacteria**, **dapi**, and **yap** folders, as well as a hidden file **.ipynb_checkpoints**."
   ]
  },
  {
   "cell_type": "markdown",
   "id": "4de94b0a-7dce-4982-a228-4805b0482a34",
   "metadata": {},
   "source": [
    "If we want to find the files contained within those subdirectories, we can either change our working directory, or we can add onto our current working directory file path.\n",
    "```\n",
    "os.listdir(os.getcwd()+'/dapi/no_serum/')\n",
    "```\n",
    "\n",
    "While you can change your current working directory, sometimes it's more convenient to stay in a parent directory, so you can pull all your files without having to keep changing directories beforehand."
   ]
  },
  {
   "cell_type": "code",
   "execution_count": null,
   "id": "32b6770c-91c4-47ae-986e-bfd38aeb07cb",
   "metadata": {},
   "outputs": [],
   "source": []
  },
  {
   "cell_type": "markdown",
   "id": "4ece1be2-2193-4ae1-8774-a09a95e822c9",
   "metadata": {},
   "source": [
    "<h3>Sort file names</h3>"
   ]
  },
  {
   "cell_type": "markdown",
   "id": "2095dc34-d400-40d4-ad0b-161aeac0b94c",
   "metadata": {},
   "source": [
    "What you should see now is a list containing all the file names for our no serum DAPI images that we want to analyze, but they are sorted in an arbitrary order, which means that if we want to match up our DAPI and our YAP images, we'll need to make sure that they are sorted properly by making use of the <mark style=\"background-color: #EEEEEE;\"><strong>list.sort()</strong></mark> function. <a href=\"https://docs.python.org/3/library/stdtypes.html#list.sort\" rel=\"noopener noreferrer\" target=\"_blank\"><u>Documentation is here.</u></a>\n",
    "```\n",
    "ns_dapi_files = os.listdir(os.getcwd()+'/dapi/no_serum/')\n",
    "ns_dapi_files.sort()\n",
    "```"
   ]
  },
  {
   "cell_type": "code",
   "execution_count": null,
   "id": "acd98c13-46a8-4ddc-ae31-090c3f8537fa",
   "metadata": {},
   "outputs": [],
   "source": []
  },
  {
   "cell_type": "markdown",
   "id": "feafa769-910b-49b5-bef9-4658b3011092",
   "metadata": {},
   "source": [
    "Now that our file names are sorted properly, let's do the same for our no serum YAP images to see if they end up in the same order as our no serum DAPI images.\n",
    "```\n",
    "ns_yap_files = os.listdir(os.getcwd()+'/yap/no_serum/')\n",
    "ns_yap_files.sort()\n",
    "```"
   ]
  },
  {
   "cell_type": "code",
   "execution_count": null,
   "id": "99839b4e-c0dc-4609-a617-e5a87e9d293c",
   "metadata": {},
   "outputs": [],
   "source": []
  },
  {
   "cell_type": "markdown",
   "id": "b8d8a18c-deb5-4ee6-a23d-d78a60e944bf",
   "metadata": {},
   "source": [
    "<h1 style=\"font-size: 40px; margin-bottom: 0px;\">Load multiple files</h1>\n",
    "\n",
    "<hr style=\"margin-left: 0px; border: 0.25px solid; border-color: #000000; width: 600px;\"></hr>"
   ]
  },
  {
   "cell_type": "markdown",
   "id": "87597dad-7ecd-4093-9902-0608fc63074b",
   "metadata": {},
   "source": [
    "So what we have now is a list of our files nicely sorted, which means that we can make use of for loops to load in all our files.\n",
    "\n",
    "Let's set up a for loop that will simultaneously and pull in our DAPI and YAP images to their own respective lists."
   ]
  },
  {
   "cell_type": "markdown",
   "id": "ad75ba44-b4a7-48fa-ad4a-7997b1ab65b1",
   "metadata": {},
   "source": [
    "<h2>Iterate through a list of tuples containing paired/grouped files</h2>"
   ]
  },
  {
   "cell_type": "markdown",
   "id": "f2f84750-4d05-4cba-9710-be20091bffde",
   "metadata": {},
   "source": [
    "We can set up our for loop to loop through two lists simultaneously by giving it a list of tuples containing the elements of both lists paired together. To do this, we make use of the <mark style=\"background-color: #EEEEEE;\"><strong>zip()</strong></mark> function. <a href=\"https://docs.python.org/3/library/functions.html#zip\" rel=\"noopener noreferrer\" target=\"_blank\"><u>Documentation is here.</u></a>\n",
    "\n",
    "The <mark style=\"background-color: #EEEEEE;\"><strong>zip()</strong></mark> function is essentially a for loop that goes through each element of the lists that you provide it, and it combines those elements into tuples.\n",
    "```\n",
    "zip(ns_dapi_files, ns_yap_files)\n",
    "```\n",
    "\n",
    "And if you want to take a look at how all the files of both lists are grouped up:\n",
    "```\n",
    "for object in zip(ns_dapi_files, ns_yap_files):\n",
    "    print(object)\n",
    "```"
   ]
  },
  {
   "cell_type": "code",
   "execution_count": null,
   "id": "9791226e-d8ca-4447-a7ab-08fc4f2252e0",
   "metadata": {},
   "outputs": [],
   "source": []
  },
  {
   "cell_type": "markdown",
   "id": "252bf04f-4bfd-4ff4-a1eb-1994b4c74891",
   "metadata": {},
   "source": [
    "You can see that our DAPI file is paired up with its respective YAP file since we sorted both of them earlier when we pulled the file names, and each object is now a tuple data type, which means that we can unpack it by providing a variable for each element of the tuple. \n",
    "```\n",
    "for file_name in zip(ns_dapi_files, ns_yap_files):\n",
    "    blue, green = file_name\n",
    "    print(blue)\n",
    "    print(green)\n",
    "```"
   ]
  },
  {
   "cell_type": "code",
   "execution_count": null,
   "id": "a4232103-7a3d-4e70-a2bb-4b5aeb07ae1e",
   "metadata": {},
   "outputs": [],
   "source": []
  },
  {
   "cell_type": "markdown",
   "id": "6e7cc1eb-799c-43b6-964e-bcfcbc84a311",
   "metadata": {},
   "source": [
    "Rather than specifying the tuple unpacking after we initiate the for loop, we can also provide two variables when we start up our for loop, and the tuple will be unpacked while iterating through our list of tuples.\n",
    "```\n",
    "for blue, green in zip(ns_dapi_files, ns_yap_files):\n",
    "    print(blue)\n",
    "    print(green)\n",
    "```\n",
    "So we'll get the same result as the previous example, but we condense the code."
   ]
  },
  {
   "cell_type": "code",
   "execution_count": null,
   "id": "5cd4c49b-a57a-4a0e-9e76-7e3bf619de1a",
   "metadata": {},
   "outputs": [],
   "source": []
  },
  {
   "cell_type": "markdown",
   "id": "62efe976-fd33-4862-bcb7-8214d646039c",
   "metadata": {},
   "source": [
    "<h2>Load in both DAPI and YAP images simultaneously</h2>"
   ]
  },
  {
   "cell_type": "markdown",
   "id": "1f53ec41-30d9-43d6-8c74-db36e0470ef0",
   "metadata": {},
   "source": [
    "We can use the same set up now to load in both our DAPI and YAP images simultaneously in a single for loop.\n",
    "```\n",
    "ns_dapi_images = []\n",
    "ns_yap_images = []\n",
    "for blue, green in zip(ns_dapi_files, ns_yap_files):\n",
    "    dapi = plt.imread(f\"dapi/no_serum/{blue}\")\n",
    "    yap = plt.imread(f\"yap/no_serum/{green}\")\n",
    "    ns_dapi_images.append(dapi)\n",
    "    ns_yap_images.append(yap)\n",
    "```"
   ]
  },
  {
   "cell_type": "code",
   "execution_count": null,
   "id": "251380fd-dfe5-42bc-b62f-36f947db5f41",
   "metadata": {},
   "outputs": [],
   "source": []
  },
  {
   "cell_type": "code",
   "execution_count": null,
   "id": "b1218d99-91be-4404-83f3-35029e8991a1",
   "metadata": {},
   "outputs": [],
   "source": []
  },
  {
   "cell_type": "markdown",
   "id": "5bab0035-58cd-4cac-8949-8abaabd25525",
   "metadata": {},
   "source": [
    "Let's take a look at our images to see if they loaded in properly."
   ]
  },
  {
   "cell_type": "code",
   "execution_count": null,
   "id": "151d6349-e74e-4471-ada0-cfbe74ca9294",
   "metadata": {},
   "outputs": [],
   "source": []
  },
  {
   "cell_type": "markdown",
   "id": "b9620d28-db28-4ba9-96b8-16ffeafd17f6",
   "metadata": {},
   "source": [
    "<h1 style=\"font-size: 40px; margin-bottom: 0px;\">Process multiple images at once</h1>\n",
    "\n",
    "<hr style=\"margin-left: 0px; border: 0.25px solid; border-color: #000000; width: 600px;\"></hr>"
   ]
  },
  {
   "cell_type": "markdown",
   "id": "4db5bcf1-af65-493c-b153-e490c1774b40",
   "metadata": {},
   "source": [
    "So everything seems good, we have our DAPI and our YAP channels loaded in properly for each of our no serum fields of view. Let's then take our function from last week and bring it into this notebook, so we can make some slight modifications.\n",
    "\n",
    "Let's update it so that we will generate the binary image within our function, so we don't have to generate a binary beforehand, and now we'll only need a single output since we're most interested in the mean nuclear intensity for each cell rather than an aggregate."
   ]
  },
  {
   "cell_type": "code",
   "execution_count": null,
   "id": "86e44440-b3a7-4da0-a6a4-3e5aa65a5c3e",
   "metadata": {},
   "outputs": [],
   "source": [
    "def mean_fluor(binary_image, yap_channel):\n",
    "    \"\"\"Calculating mean nuclear fluorescence\"\"\"\n",
    "    #assign our YAP stain to a variable in the function to use later\n",
    "    transcription_factor = yap_channel\n",
    "\n",
    "    #Label our thresholded nuclei\n",
    "    dapi_label_thresh, dapi_numbers = skimage.measure.label(binary_image, return_num=True)\n",
    "\n",
    "    #get their properties\n",
    "    nuc_props = skimage.measure.regionprops(dapi_label_thresh)\n",
    "\n",
    "    #filter out the noise that we're not interested in\n",
    "    areas = []\n",
    "    for i in nuc_props:\n",
    "        areas.append(i.area)\n",
    "\n",
    "    #apply a conditional statement to remove noise\n",
    "    nuc_filtered = np.zeros_like(dapi_label_thresh)\n",
    "    for j in nuc_props:\n",
    "        if j.area > 100:\n",
    "            nuc_filtered = nuc_filtered + (dapi_label_thresh == j.label)\n",
    "\n",
    "    #label our new filtered nuclei\n",
    "    filtered_labels, filtered_numbers = skimage.measure.label(nuc_filtered, return_num=True)\n",
    "\n",
    "    #group all our individual nuclei arrays into a single list\n",
    "    all_nuclei = [np.zeros_like(filtered_labels)]*filtered_numbers\n",
    "    for k in np.arange(0, filtered_numbers, 1):\n",
    "        all_nuclei[k] = filtered_labels == k+1\n",
    "\n",
    "    #measure mean fluorescence intensity\n",
    "    mean_fluor_array = np.zeros(filtered_numbers)\n",
    "    for l in np.arange(0, filtered_numbers, 1):\n",
    "        fluorescence = transcription_factor*all_nuclei[l]\n",
    "        mean_fluor_array[l] = np.sum(fluorescence)/np.sum(all_nuclei[l])\n",
    "\n",
    "    result = mean_fluor_array.mean()\n",
    "    \n",
    "    return mean_fluor_array, result"
   ]
  },
  {
   "cell_type": "markdown",
   "id": "a074f42a-e0f7-4479-b548-684cf1f21cad",
   "metadata": {},
   "source": [
    "Now that our function is defined, let's quickly take a look to see if we can find a good value for our threshold from all our DAPI images.\n",
    "```\n",
    "fig, ax = plt.subplots()\n",
    "\n",
    "plt.ylim(0, 25000)\n",
    "\n",
    "for im in ns_dapi_images:\n",
    "    sns.histplot(im.flatten(), bins=50)\n",
    "```"
   ]
  },
  {
   "cell_type": "code",
   "execution_count": null,
   "id": "4dd67013-1999-478c-8142-b27cb8725e4d",
   "metadata": {},
   "outputs": [],
   "source": []
  },
  {
   "cell_type": "markdown",
   "id": "168fff2a-534d-41a1-ba66-d37b8d9f93ad",
   "metadata": {},
   "source": [
    "So it looks like the 400 threshold that we used last week should still work fine. Let's give our updated function a try with a single field of view."
   ]
  },
  {
   "cell_type": "code",
   "execution_count": null,
   "id": "608cf34c-8e38-41bd-9eb9-f6de486577df",
   "metadata": {},
   "outputs": [],
   "source": []
  },
  {
   "cell_type": "markdown",
   "id": "c7d9b3d7-8e8c-4ed9-a6d7-847d4fdd8537",
   "metadata": {},
   "source": [
    "Our function is able to output a list containing each cell's mean nuclear YAP fluorescence for us if we give it a single image. Now, we can make an additional modification so that our function will be able to loop through all our files and output all the mean nuclear intensities."
   ]
  },
  {
   "cell_type": "code",
   "execution_count": null,
   "id": "85ad6eec-c00b-4ed9-8b9d-312d9790b4e5",
   "metadata": {},
   "outputs": [],
   "source": []
  },
  {
   "cell_type": "code",
   "execution_count": null,
   "id": "ed89cfb3-db21-429b-b1b6-b2ed4efb3662",
   "metadata": {},
   "outputs": [],
   "source": []
  },
  {
   "cell_type": "markdown",
   "id": "6907e46a-017d-44d2-bb16-253c3e7bf2ac",
   "metadata": {},
   "source": [
    "Now rather than running the function for each image repeatedly, we can just call up the function once, and we can analyze multiple images and get a single list of each cell's mean nuclear YAP fluorescence intensity."
   ]
  },
  {
   "cell_type": "markdown",
   "id": "6f37f93a-8c2f-4b36-b2f3-f9be2cc3df06",
   "metadata": {},
   "source": [
    "<h1 style=\"font-size: 40px; margin-bottom: 0px;\">Exercise #1: Update function to create basic analytical pipeline</h1>\n",
    "\n",
    "<hr style=\"margin-left: 0px; border: 0.25px solid; border-color: #000000; width: 1000px;\"></hr>"
   ]
  },
  {
   "cell_type": "markdown",
   "id": "1e52fcb7-39ca-4aa1-8f9b-aef5bb1f2074",
   "metadata": {},
   "source": [
    "Let's try to take what we've learned today to update our function so that all we need to do is change to our correct parent directory before we provide it with a string corresponding to the experimental condition and give it our desired threshold, and then Python can handle the rest."
   ]
  },
  {
   "cell_type": "code",
   "execution_count": null,
   "id": "32babd85-540c-4b88-8992-487ddccc5825",
   "metadata": {},
   "outputs": [],
   "source": []
  },
  {
   "cell_type": "code",
   "execution_count": null,
   "id": "fc663853-dd2c-40bc-825c-0bfe14092fb0",
   "metadata": {},
   "outputs": [],
   "source": []
  },
  {
   "cell_type": "code",
   "execution_count": null,
   "id": "c73e23c9-ecc8-4940-821d-0df644b45a8c",
   "metadata": {},
   "outputs": [],
   "source": []
  },
  {
   "cell_type": "markdown",
   "id": "b9c108a7-eb04-4a0d-ad07-4af62835c957",
   "metadata": {},
   "source": [
    "<h1 style=\"font-size: 40px; margin-bottom: 0px;\">Exercise #2: Compare no serum vs serum</h1>\n",
    "\n",
    "<hr style=\"margin-left: 0px; border: 0.25px solid; border-color: #000000; width: 800px;\"></hr>"
   ]
  },
  {
   "cell_type": "markdown",
   "id": "1decad68-3311-42bf-9925-e57569cc3857",
   "metadata": {},
   "source": [
    "Now with two lists of data containing our mean nuclear fluorescence intensities for our no serum and serum stimulated cells, let's calculate if there is a significant difference in the nuclear localization of YAP."
   ]
  },
  {
   "cell_type": "code",
   "execution_count": null,
   "id": "8040204f-bf8e-4b49-8a30-24b3de4eaf4d",
   "metadata": {},
   "outputs": [],
   "source": []
  },
  {
   "cell_type": "markdown",
   "id": "41c1952f-c14e-48eb-ae84-20aceb74570f",
   "metadata": {},
   "source": [
    "<h1 style=\"font-size: 40px; margin-bottom: 0px;\">Exercise #3: Plot our results</h1>\n",
    "\n",
    "<hr style=\"margin-left: 0px; border: 0.25px solid; border-color: #000000; width: 800px;\"></hr>"
   ]
  },
  {
   "cell_type": "markdown",
   "id": "61437c28-f2a8-4b30-913f-1782175f2804",
   "metadata": {},
   "source": [
    "Let's take a look at how our results look like when plotted in a swarmplot with descriptive statistics overlaid on top of it."
   ]
  },
  {
   "cell_type": "code",
   "execution_count": null,
   "id": "bf053273-17d6-4bcc-bdda-4549112f3762",
   "metadata": {},
   "outputs": [],
   "source": []
  },
  {
   "cell_type": "code",
   "execution_count": null,
   "id": "30d35146-52b2-4520-9d1e-418c73cec6ba",
   "metadata": {},
   "outputs": [],
   "source": [
    "fig, ax = plt.subplots()\n",
    "\n",
    "Color_code = ['#3C5488', '#4DBBD5']\n",
    "\n",
    "sns.swarmplot(\n",
    "    data=full_results,\n",
    "    s=7,\n",
    "    palette=Color_code,\n",
    "    zorder=0\n",
    ")\n",
    "\n",
    "sns.barplot(\n",
    "    data=full_results,\n",
    "    estimator=np.mean,\n",
    "    alpha=0,\n",
    "    errorbar='se',\n",
    "    capsize=.3,\n",
    "    err_kws={'linewidth': 1.5, 'color': 'black'}\n",
    ")\n",
    "\n",
    "sns.boxplot(\n",
    "    data=full_results,\n",
    "    showmeans=True,\n",
    "    meanline=True,\n",
    "    width=.5,\n",
    "    meanprops = {'color': 'black', 'ls': '-', 'lw': 1.5},\n",
    "    medianprops = {'visible': False},\n",
    "    whiskerprops = {'visible': False},\n",
    "    showfliers=False,\n",
    "    showbox=False,\n",
    "    showcaps=False\n",
    ")\n",
    "\n",
    "ax.set_ylabel('Mean YAP nuclear\\nfluoresence intensity', fontsize=18)\n",
    "ax.set_xticks([0,1], labels=['No Serum', 'Serum Stimulated'])\n",
    "plt.xticks(rotation=30, ha='right', fontsize=18)\n",
    "plt.yticks(fontsize=14)\n",
    "\n",
    "fig.set_dpi(300)\n",
    "fig.set_size_inches(6, 8)\n",
    "\n",
    "plt.show()"
   ]
  },
  {
   "cell_type": "markdown",
   "id": "6543b873-6da7-4899-9ef5-743b8a7c98dd",
   "metadata": {},
   "source": [
    "<h1 style=\"font-size: 40px; margin-bottom: 0px;\">Exercise #4: Annotate plot</h1>\n",
    "\n",
    "<hr style=\"margin-left: 0px; border: 0.25px solid; border-color: #000000; width: 600px;\"></hr>"
   ]
  },
  {
   "cell_type": "markdown",
   "id": "6ff81a21-2a2f-4efa-afc9-d748e273dd31",
   "metadata": {},
   "source": [
    "With our data analyzed and plotted, we can annotate our plot in order to show the results of our statistical analysis. Our annotations can be additional objects that we overlay on top of our plot, allowing us to provide information common to published figures."
   ]
  },
  {
   "cell_type": "markdown",
   "id": "c66b7419-27dd-4d3c-be12-bd882ff49b8c",
   "metadata": {},
   "source": [
    "<h2>Add lines</h2>"
   ]
  },
  {
   "cell_type": "markdown",
   "id": "294e086a-32cb-4889-bb3d-a1242e008399",
   "metadata": {},
   "source": [
    "For example, let's draw a simple line on our plot by defining a set of x values and a set of y values, and then plotting those two points as a red line.\n",
    "```\n",
    "x1, x2 = 0, 1\n",
    "y1, y2 = 200, 300\n",
    "\n",
    "plt.plot([x1, x2], [y1, y2], lw=1.5, c='red')\n",
    "```"
   ]
  },
  {
   "cell_type": "code",
   "execution_count": null,
   "id": "8e497099-3345-49a9-a230-994f470aa7b7",
   "metadata": {},
   "outputs": [],
   "source": []
  },
  {
   "cell_type": "markdown",
   "id": "b65b8873-ef1c-45e6-800d-3897aedcacd6",
   "metadata": {},
   "source": [
    "Now let's create a line higher than the max value of our data.\n",
    "```\n",
    "x1, x2 = 0, 1\n",
    "y = full_results.max().max() + 0.1*full_results.max().max()\n",
    "\n",
    "plt.plot([x1, x2], [y, y], lw=1.5, c='red'\n",
    "``` "
   ]
  },
  {
   "cell_type": "code",
   "execution_count": null,
   "id": "2377be3b-f466-49f3-8468-5fa90cdc813d",
   "metadata": {},
   "outputs": [],
   "source": []
  },
  {
   "cell_type": "markdown",
   "id": "9be7e917-f0d3-4760-addb-7ff5b001ec09",
   "metadata": {},
   "source": [
    "Now let's plot a bracket shape instead and change the color to black. A bracket is essentially just for points connected by lines, so let's define the four points to be plotted.\n",
    "```\n",
    "x1, x2 = 0, 1\n",
    "y, height = full_results.max().max() + 0.1*full_results.max().max() , 0.05*full_results.max().max()\n",
    "\n",
    "plt.plot([x1, x1, x2, x2], [y, y+h, y+h, y], lw=1.5, c='k')\n",
    "```"
   ]
  },
  {
   "cell_type": "code",
   "execution_count": null,
   "id": "78636aef-e241-4164-83b9-5c7f67b9e641",
   "metadata": {},
   "outputs": [],
   "source": []
  },
  {
   "cell_type": "markdown",
   "id": "3864a231-dbb8-4f65-b4a9-9b67b1bae6c4",
   "metadata": {},
   "source": [
    "<h2>Add text</h2>"
   ]
  },
  {
   "cell_type": "markdown",
   "id": "22aadcb3-8a0e-4ac4-8a67-e6ee6d0a43ee",
   "metadata": {},
   "source": [
    "We can also add text to our plots as well by making use of the <mark style=\"background-color: #EEEEEE;\"><strong>plt.text()</strong></mark> function. <a href=\"https://matplotlib.org/stable/api/_as_gen/matplotlib.pyplot.text.html\" rel=\"noopener noreferrer\" target=\"_blank\"><u>Documentation is here.</u></a> Using the same x and y values that we defined before, we can tell Python where we want the text to appear on our plot.\n",
    "```\n",
    "plt.plot((x1+x2)*0.5, y+height, '***', ha='center', va='bottom', color='k', size=12)\n",
    "```"
   ]
  },
  {
   "cell_type": "code",
   "execution_count": null,
   "id": "18065843-d6f5-4c4b-934c-d8da7c044662",
   "metadata": {},
   "outputs": [],
   "source": []
  },
  {
   "cell_type": "code",
   "execution_count": null,
   "id": "5e7050db-c44a-4993-bbe7-efcdcaf90240",
   "metadata": {},
   "outputs": [],
   "source": []
  },
  {
   "cell_type": "code",
   "execution_count": null,
   "id": "9a5ccdc0-f517-43c9-a5fa-4e38bb2d3bf7",
   "metadata": {},
   "outputs": [],
   "source": []
  }
 ],
 "metadata": {
  "kernelspec": {
   "display_name": "Python [conda env:root] *",
   "language": "python",
   "name": "conda-root-py"
  },
  "language_info": {
   "codemirror_mode": {
    "name": "ipython",
    "version": 3
   },
   "file_extension": ".py",
   "mimetype": "text/x-python",
   "name": "python",
   "nbconvert_exporter": "python",
   "pygments_lexer": "ipython3",
   "version": "3.11.0"
  }
 },
 "nbformat": 4,
 "nbformat_minor": 5
}
