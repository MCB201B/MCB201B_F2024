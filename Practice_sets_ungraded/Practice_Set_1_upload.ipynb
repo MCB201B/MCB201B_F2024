{
 "cells": [
  {
   "cell_type": "markdown",
   "id": "bc88182f-5491-419f-8acb-17826aea58ec",
   "metadata": {},
   "source": [
    "<h1 style=\"font-size: 40px; margin-bottom: 0px;\">Practice Set 1 - Syntax & Troubleshooting</h1>\n",
    "\n",
    "<hr style=\"margin-left: 0px; border: 0.25px solid; border-color: #000000; width: 850px;\"></hr>"
   ]
  },
  {
   "cell_type": "markdown",
   "id": "1384a8b4-d217-4d77-95b7-86c07c1ebcab",
   "metadata": {},
   "source": [
    "These are part of a series of <strong><u>ungraded</u></strong> practice sets for those of you who would like additional practice."
   ]
  },
  {
   "cell_type": "markdown",
   "id": "2aae6f61-ef69-494e-94d3-520e6ab59ba3",
   "metadata": {},
   "source": [
    "<strong>Import the needed packages:</strong>\n",
    "<ul>\n",
    "    <li>numpy as np</li>\n",
    "    <li>pandas as pd</li>\n",
    "    <li>matplotlib.pyplot as plt</li>\n",
    "    <li>seaborn as sns</li>\n",
    "</ul>"
   ]
  },
  {
   "cell_type": "code",
   "execution_count": null,
   "id": "1abd984c-a063-4411-9a52-b82d0499d371",
   "metadata": {},
   "outputs": [],
   "source": []
  },
  {
   "cell_type": "markdown",
   "id": "090982bf-c330-4093-a723-8554c3e2c2a6",
   "metadata": {},
   "source": [
    "<h1 style=\"font-size: 40px; margin-bottom: 0px;\">Syntax practice</h1>\n",
    "\n",
    "<hr style=\"margin-left: 0px; border: 0.25px solid; border-color: #000000; width: 400px;\"></hr>"
   ]
  },
  {
   "cell_type": "markdown",
   "id": "35d0b562-9f9b-4c51-b910-4218f9b8e7f5",
   "metadata": {},
   "source": [
    "For this section, any blanks in the code will be marked with the following notation <mark style=\"background-color: #EEEEEE;\"><strong>&UnderBar;*&UnderBar;</strong></mark>, so you know that is a blank area in the code that you will need to fill in correctly. The blank can contain one or more characters that are missing."
   ]
  },
  {
   "cell_type": "code",
   "execution_count": null,
   "id": "312e69f1-be04-49fd-806b-ccb31c40a368",
   "metadata": {},
   "outputs": [],
   "source": [
    "#Create a list:\n",
    "a = _*_0, 1, 2, 3, 4, 5_*_"
   ]
  },
  {
   "cell_type": "code",
   "execution_count": null,
   "id": "2ebd6a62-c8a3-436f-9cc5-5c5861b1ff70",
   "metadata": {},
   "outputs": [],
   "source": [
    "#Specify the below as a string\n",
    "_*_potato_*_"
   ]
  },
  {
   "cell_type": "code",
   "execution_count": null,
   "id": "509476f1-c5e1-4cfa-a747-10d7881a959c",
   "metadata": {},
   "outputs": [],
   "source": [
    "#Pull the first three rows from a DataFrame\n",
    "df._*_[_*_ : _*_]"
   ]
  },
  {
   "cell_type": "code",
   "execution_count": null,
   "id": "c5f8ab9f-dcdc-4787-82f4-cc948aa8929b",
   "metadata": {},
   "outputs": [],
   "source": [
    "#Assign 3.14 to the variable b\n",
    "_*_ = _*_"
   ]
  },
  {
   "cell_type": "code",
   "execution_count": null,
   "id": "f2a91905-4a24-47ca-a5d5-4b0cee2db8db",
   "metadata": {},
   "outputs": [],
   "source": [
    "#Have Python output the result of a times b\n",
    "_*_(a*b)"
   ]
  },
  {
   "cell_type": "code",
   "execution_count": null,
   "id": "5aeb91b8-975a-4f16-a74f-b3141ebae8d5",
   "metadata": {},
   "outputs": [],
   "source": [
    "#Create a function that outputs the deliciousness scale for a potato\n",
    "_*_ potato_function(temperature, cook_time):\n",
    "    deliciousnous_scale = _*_.sqrt(temperature) + cook_time**2\n",
    "    _*_ deliciousness_scale"
   ]
  },
  {
   "cell_type": "code",
   "execution_count": null,
   "id": "78706db8-532a-4392-b799-305e08b35eb3",
   "metadata": {},
   "outputs": [],
   "source": [
    "#Run the potato_function and have Python remember the output\n",
    "\n",
    "_*_ _*_ potato_function(430, 30)"
   ]
  },
  {
   "cell_type": "code",
   "execution_count": null,
   "id": "407b3972-7b60-4fd1-8683-8a8982c11380",
   "metadata": {},
   "outputs": [],
   "source": [
    "#Identify the data type for the output of the potato_function\n",
    "_*_(_*_)"
   ]
  },
  {
   "cell_type": "code",
   "execution_count": null,
   "id": "50eea3e5-f73b-4324-936b-1236c32cf162",
   "metadata": {},
   "outputs": [],
   "source": [
    "#Ask Python if the potato is indeed delicious\n",
    "#a deliciousness_scale greater than 50\n",
    "deliciousness_scale _*_ 50"
   ]
  },
  {
   "cell_type": "code",
   "execution_count": null,
   "id": "bb70b805-6153-4120-a550-4419e4d57b51",
   "metadata": {},
   "outputs": [],
   "source": [
    "#Create a tuple\n",
    "c = _*_0, 1, 2, 3, 4_*_"
   ]
  },
  {
   "cell_type": "code",
   "execution_count": null,
   "id": "dbd4e163-cb15-4368-8015-07e54d082d46",
   "metadata": {},
   "outputs": [],
   "source": [
    "#Create a dictionary containing three key value pairs\n",
    "d = _*_ 'taste' _*_ 'delicious', 'price' _*_ 'cheap', 'texture' _*_ 'crunchy' _*_"
   ]
  },
  {
   "cell_type": "code",
   "execution_count": null,
   "id": "d9f84170-c4bf-43ba-943d-306d38af121e",
   "metadata": {},
   "outputs": [],
   "source": [
    "#pull out a slice from list a\n",
    "a_*_1_*_3_*_"
   ]
  },
  {
   "cell_type": "code",
   "execution_count": null,
   "id": "7310ab27-7485-4afc-bb1d-d044ea2f1fc7",
   "metadata": {},
   "outputs": [],
   "source": [
    "#output the intersect between two lists d and e\n",
    "\n",
    "d = _*_1, 2, 3, 4, 5_*_\n",
    "e = _*_2, 3, 5, 6, 7_*_\n",
    "\n",
    "_*_(d _*_ e)"
   ]
  },
  {
   "cell_type": "code",
   "execution_count": null,
   "id": "14e7e5b5-ee97-4388-a901-943444869f2b",
   "metadata": {},
   "outputs": [],
   "source": [
    "#plot d on the x-axis and e on the y axis\n",
    "\n",
    "_*_._*_(d _*_ e)"
   ]
  },
  {
   "cell_type": "code",
   "execution_count": null,
   "id": "3e5ac661-92af-417a-9adb-102a04d0fe8c",
   "metadata": {},
   "outputs": [],
   "source": [
    "#output the means of d and e\n",
    "_*_(np._*_(d)_*_\n",
    "\n",
    "_*_(np._*_(e)_*_"
   ]
  },
  {
   "cell_type": "code",
   "execution_count": null,
   "id": "778b5401-be58-49f6-bf1c-12cb1cc11c82",
   "metadata": {},
   "outputs": [],
   "source": [
    "#Create a DataFrame using d and label column as 'd'\n",
    "#assign to variable f\n",
    "f = _*_._*_(d, columns=['d'])"
   ]
  },
  {
   "cell_type": "code",
   "execution_count": null,
   "id": "efd54744-9253-473d-804f-cc3dd81d9986",
   "metadata": {},
   "outputs": [],
   "source": [
    "#Add column e to DataFrame f and label column as 'e'\n",
    "_*_[_*_] = e"
   ]
  },
  {
   "cell_type": "code",
   "execution_count": null,
   "id": "a1996bfd-969c-4f7f-831c-80123071a51b",
   "metadata": {},
   "outputs": [],
   "source": [
    "#Pull out column d and store in variable g\n",
    "g = f_*_ _*_d_*_ _*_"
   ]
  },
  {
   "cell_type": "code",
   "execution_count": null,
   "id": "c87fef71-e511-4a30-bde2-5f2b9daedcb6",
   "metadata": {},
   "outputs": [],
   "source": [
    "#Create a basic for loop by first setting up a list\n",
    "\n",
    "list = _*_0,1,2,3,4,5,6_*_\n",
    "\n",
    "for _*_ _*_ list:\n",
    "    print(_*_)"
   ]
  },
  {
   "cell_type": "code",
   "execution_count": null,
   "id": "c8ab8a45-fd41-454a-b83d-1ab809809e67",
   "metadata": {},
   "outputs": [],
   "source": [
    "#create a pandas series from list above\n",
    "series_1 = _*_._*_(list)"
   ]
  },
  {
   "cell_type": "markdown",
   "id": "db117e4f-60f0-4b64-96b4-aecee558dba1",
   "metadata": {},
   "source": [
    "<h1 style=\"font-size: 40px; margin-bottom: 0px;\">Troubleshooting practice</h1>\n",
    "\n",
    "<hr style=\"margin-left: 0px; border: 0.25px solid; border-color: #000000; width: 500px;\"></hr>"
   ]
  },
  {
   "cell_type": "markdown",
   "id": "86018034-9a19-4f95-b660-08b87df6fe1d",
   "metadata": {},
   "source": [
    "For this section, run the code cell, identify the error, and then troubleshoot the error so that the code cell gives the desired output that is noted in the bottom comment line of the cell.\n",
    "\n",
    "Things may be missing or something incorrect may be added or swapped out, etc. There may be multiple ways of solving the problem."
   ]
  },
  {
   "cell_type": "code",
   "execution_count": null,
   "id": "64284bf0-0c1e-404c-ad37-3b5e4cd56469",
   "metadata": {},
   "outputs": [],
   "source": [
    "3028 + 7876\n",
    "\n",
    "print(result)\n",
    "\n",
    "#desired output is that print(result) will give the sum of 3028 and 7876."
   ]
  },
  {
   "cell_type": "code",
   "execution_count": null,
   "id": "13c0e571-8fa6-4199-9a94-3d917e6f4b68",
   "metadata": {},
   "outputs": [],
   "source": [
    "np.zeros(3, 2)\n",
    "\n",
    "#desired output is a 3x2 array of zeros."
   ]
  },
  {
   "cell_type": "code",
   "execution_count": null,
   "id": "7881a00f-43a5-40c5-b931-6ef99289300d",
   "metadata": {},
   "outputs": [],
   "source": [
    "def cake_weight(density, length, width)\n",
    "    mass = density * length * width * height\n",
    "    mass\n",
    "\n",
    "#desired output is a function that outputs the mass"
   ]
  },
  {
   "cell_type": "code",
   "execution_count": null,
   "id": "2ecd8543-933c-43c9-a55d-28c438c49935",
   "metadata": {},
   "outputs": [],
   "source": [
    "np.random.randint[-20, 20, 5]\n",
    "\n",
    "if generator > 0:\n",
    "    then:\n",
    "    print('vacuum')\n",
    "    or else generator < 0:\n",
    "    print('broom')\n",
    "\n",
    "#desired output is:\n",
    "#set up a random number generator\n",
    "#have python print either 'vacuum' or 'broom'\n",
    "#depending on what the integer than the random number generator made"
   ]
  },
  {
   "cell_type": "code",
   "execution_count": null,
   "id": "081771fd-7b02-4045-b190-ad98d09489ea",
   "metadata": {},
   "outputs": [],
   "source": [
    "print('cupcake', 'muffin', sep=\\n \\n)\n",
    "\n",
    "#desired output is that python prints out\n",
    "#cupcake\n",
    "#\n",
    "#muffin\n",
    "#separated by two line breaks"
   ]
  },
  {
   "cell_type": "code",
   "execution_count": null,
   "id": "fe2f2fbb-bec1-430a-88ed-bcd15e3ac292",
   "metadata": {},
   "outputs": [],
   "source": [
    "x-values-1 = np.arange{0, 25, 1)\n",
    "y-values-1 = random.normal(10, 1, 30)\n",
    "\n",
    "plt.plot(y-values-1, x-values-1)\n",
    "\n",
    "#output is a plot of x-values along x axis\n",
    "#y-values along y axis"
   ]
  },
  {
   "cell_type": "code",
   "execution_count": null,
   "id": "4ed4faec-afc2-4c60-8fac-57931d898ee6",
   "metadata": {},
   "outputs": [],
   "source": [
    "test_df_1 = pd.DataFrame(x-values-1, y-values-1, columns='x', 'y')\n",
    "\n",
    "#desired output is a dataframe with two columns\n",
    "#columsn correspond to x values and y values and labeled x and y respectively"
   ]
  },
  {
   "cell_type": "code",
   "execution_count": null,
   "id": "8afe99db-c69a-4862-910d-6587759f4049",
   "metadata": {},
   "outputs": [],
   "source": [
    "fig, ax = plt.subplots(2, 3)\n",
    "\n",
    "sns.lineplot(np.arange(0, 20, 1), axes=1)\n",
    "sns.lineplot(np.arange(0, 40, 2), axes=2)\n",
    "sns.lineplot(np.arange(0, 60, 3), axes=3)\n",
    "sns.lineplot(np.arange(0, 80, 4), axes=4)\n",
    "sns.lineplot(np.arange(0, 100, 5), axes=5)\n",
    "sns.lineplot(np.arange(0, 120, 6), axes=6)\n",
    "\n",
    "#desired output is a fig containing 6 subplots\n",
    "#with each lineplot plotted to a different subplot"
   ]
  },
  {
   "cell_type": "code",
   "execution_count": null,
   "id": "aab8377e-a6f0-49ad-94a3-f5852db332d0",
   "metadata": {},
   "outputs": [],
   "source": [
    "group_1 = np.random.randint[100, 120, 20]\n",
    "group_2 = np.random.randint[200, 220, 30]\n",
    "\n",
    "print[mean[group_1, group_2]]\n",
    "\n",
    "#desired output is to have python output\n",
    "#the mean of group_1\n",
    "#and the mean of group_2"
   ]
  },
  {
   "cell_type": "code",
   "execution_count": null,
   "id": "6220db98-4114-445b-a787-45267d4485da",
   "metadata": {},
   "outputs": [],
   "source": [
    "group_4 = np.random.uniform(1 to 100, 30)\n",
    "group_5 = np.random.uniform(1 to 100, 30)\n",
    "\n",
    "test_df_2 = pd.DataFrame(group_4, group_5)\n",
    "\n",
    "plt.plot(test_df_2)\n",
    "\n",
    "#desired output is:\n",
    "#two arrays with random dataset of uniform distribution containing 30 elements ranging from 1 to 100\n",
    "#a dataframe with two columns, one corresponding to each array\n",
    "#group_4 plotted along the x axis and group_5 plotted along the y-axis"
   ]
  }
 ],
 "metadata": {
  "kernelspec": {
   "display_name": "Python [conda env:root] *",
   "language": "python",
   "name": "conda-root-py"
  },
  "language_info": {
   "codemirror_mode": {
    "name": "ipython",
    "version": 3
   },
   "file_extension": ".py",
   "mimetype": "text/x-python",
   "name": "python",
   "nbconvert_exporter": "python",
   "pygments_lexer": "ipython3",
   "version": "3.11.0"
  }
 },
 "nbformat": 4,
 "nbformat_minor": 5
}
