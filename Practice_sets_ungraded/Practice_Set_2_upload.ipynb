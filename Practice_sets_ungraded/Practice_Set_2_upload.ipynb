{
 "cells": [
  {
   "cell_type": "markdown",
   "id": "d7dfa774-24a6-4632-a2d1-f76318d68acd",
   "metadata": {},
   "source": [
    "<h1 style=\"font-size: 40px; margin-bottom: 0px;\">Practice Set 2 - Troubleshooting and documentation</h1>\n",
    "\n",
    "<hr style=\"margin-left: 0px; border: 0.25px solid; border-color: #000000; width: 950px;\"></hr>"
   ]
  },
  {
   "cell_type": "markdown",
   "id": "1e51abec-52b8-4d56-9dca-b0f9f238638f",
   "metadata": {},
   "source": [
    "These are part of a series of <strong><u>ungraded</u></strong> practice sets for those of you who would like additional practice."
   ]
  },
  {
   "cell_type": "markdown",
   "id": "f83fc63c-f5d0-44a0-b763-707f1181bdbf",
   "metadata": {},
   "source": [
    "<strong>Import the needed packages:</strong>\n",
    "<ul>\n",
    "    <li>numpy as np</li>\n",
    "    <li>pandas as pd</li>\n",
    "    <li>matplotlib.pyplot as plt</li>\n",
    "    <li>seaborn as sns</li>\n",
    "    <li>scipy.stats as stats</li>\n",
    "</ul>"
   ]
  },
  {
   "cell_type": "code",
   "execution_count": null,
   "id": "d2d3fab6-cb2a-4131-a3a9-b7ba96b9a2cf",
   "metadata": {},
   "outputs": [],
   "source": []
  },
  {
   "cell_type": "markdown",
   "id": "30ea345c-91ee-48af-8ff2-e4f90c967d48",
   "metadata": {},
   "source": [
    "<h1 style=\"font-size: 40px; margin-bottom: 0px;\">Troubleshooting practice</h1>\n",
    "\n",
    "<hr style=\"margin-left: 0px; border: 0.25px solid; border-color: #000000; width: 500px;\"></hr>"
   ]
  },
  {
   "cell_type": "markdown",
   "id": "d773b836-d5e6-44df-93f4-bfcf1bdf5ec7",
   "metadata": {},
   "source": [
    "For this section, run the code cell, identify the error, and then troubleshoot the error so that the code cell gives the desired output that is noted in the bottom comment line of the cell.\n",
    "\n",
    "Things may be missing or something incorrect may be added or swapped out, etc. There may be multiple ways of solving the problem."
   ]
  },
  {
   "cell_type": "code",
   "execution_count": null,
   "id": "d515f0cb-31c9-4f2c-a6a3-ff89edfec95d",
   "metadata": {},
   "outputs": [],
   "source": [
    "#create 4 lists of data using a random number generator (np.random.normal)\n",
    "\n",
    "ctrl_branches = random.normal([100, 5], 50)\n",
    "sturdy_branches = random.normal([60, 10], 50)\n",
    "ctrl_leaf_size = random.normal([20, 1], 100)\n",
    "sturdy_leaf_size = random.normal([40, 1], 100)\n",
    "\n",
    "    "
   ]
  },
  {
   "cell_type": "code",
   "execution_count": null,
   "id": "42fba327-2bf3-4d45-a740-31e7a82473de",
   "metadata": {},
   "outputs": [],
   "source": [
    "#print out all four lists using a single print function but iwth 2 line breaks between them\n",
    "print(ctrl_branches, sep=' ', sturdy_branches, sep=' ', ctrl_leaf_size, sep=' ', sturdy_leaf_size)"
   ]
  },
  {
   "cell_type": "code",
   "execution_count": null,
   "id": "8edef350-2af1-48fd-a38a-aec70bedf383",
   "metadata": {},
   "outputs": [],
   "source": [
    "#use a student's two tailed t test assuming unequal variance to compare branches and output the p value\n",
    "comparison = stats.t_test_ind(ctrl_branches, sturdy_branches, equal_var=None)\n",
    "print(comparison.p_value)"
   ]
  },
  {
   "cell_type": "code",
   "execution_count": null,
   "id": "686a1d1d-6aca-4119-9633-06cb860835ae",
   "metadata": {},
   "outputs": [],
   "source": [
    "#use a student's two tailed t test assuming equal variance to compare leaf size and output the t statistic\n",
    "comparison = stats.t_test_ind(ctrl_leaf_size, sturdy_leaf_size, equal_var=True)\n",
    "print(comparison.t_statistic)"
   ]
  },
  {
   "cell_type": "code",
   "execution_count": null,
   "id": "741705d0-c47c-46f5-8dc1-e23d2eae2368",
   "metadata": {},
   "outputs": [],
   "source": [
    "#create two lists of ordinal data using numpy's random integer generator\n",
    "ctrl_trees = numpy.randint{1, 7, 50}\n",
    "sturdy_trees = numpy.randint{5, 10, 50}"
   ]
  },
  {
   "cell_type": "code",
   "execution_count": null,
   "id": "1fbbd471-62ed-4a21-baf8-642c94ae4aba",
   "metadata": {},
   "outputs": [],
   "source": [
    "#use a mann whitney u test to compare the two ordinal datasets and print both the p-value and u statistic\n",
    "comparison = stats.mann_whitney_u(ctrl_trees & sturdy_trees)\n",
    "print(comparison.p_value & comparison.u_statistic)"
   ]
  },
  {
   "cell_type": "code",
   "execution_count": null,
   "id": "f41be452-6811-4fbf-99af-0dd4f71370b0",
   "metadata": {},
   "outputs": [],
   "source": [
    "#create a dataframe from the ordinal datasets in a single line\n",
    "ordinal_df = pd.DataFrame(['control trees': ctrl_trees], ['sturdy trees': sturdy_trees])"
   ]
  },
  {
   "cell_type": "code",
   "execution_count": null,
   "id": "6d52535e-49b3-46d0-8f5a-abddfa4804e7",
   "metadata": {},
   "outputs": [],
   "source": [
    "#print the first 10 rows of ordinal_df as a stylized table\n",
    "ordinal_df.head().style"
   ]
  },
  {
   "cell_type": "code",
   "execution_count": null,
   "id": "2cc6d4d7-1e38-4df7-93bb-96fc696c200a",
   "metadata": {},
   "outputs": [],
   "source": [
    "#create two dictionaries with labels for each set of the branch and leaf size datasets\n",
    "dict_branch = ['control branches': ctrl_branches] & ['sturdy branches': sturdy_branches]\n",
    "dict_leaf= ['control leaf size': ctrl_leaf_size] & ['sturdy leaf size': sturdy_leaf_size]"
   ]
  },
  {
   "cell_type": "code",
   "execution_count": null,
   "id": "a2c6c7e7-0c8d-4264-b310-a0b3e8d1e872",
   "metadata": {},
   "outputs": [],
   "source": [
    "#print out the data associated with sturdy leaf size using dictionary notation\n",
    "print(dict_leaf.sturdy_leaf_size)"
   ]
  },
  {
   "cell_type": "code",
   "execution_count": null,
   "id": "e1d1feef-c6b2-4338-8a86-3d9d99bef054",
   "metadata": {},
   "outputs": [],
   "source": [
    "#create two dataframes from each dictionary\n",
    "branch_df = pd.dataframe(dict_branch)\n",
    "leaf_df = pd.dataframe(dict_leaf)"
   ]
  },
  {
   "cell_type": "code",
   "execution_count": null,
   "id": "44c7bf63-e4c8-4738-bb5d-4d1dec790abe",
   "metadata": {},
   "outputs": [],
   "source": [
    "#print out the data assocaited with index positions 20-40 for sturdy branches from your branch_df\n",
    "print(branch_df.iloc[20:40, 'sturdy branches'])"
   ]
  },
  {
   "cell_type": "code",
   "execution_count": null,
   "id": "33b07d44-bdb6-438c-b773-8db381ea4093",
   "metadata": {},
   "outputs": [],
   "source": [
    "#plot a swarm plot to visualize the data for branches\n",
    "plt.swarmplot(data=branch_df)"
   ]
  },
  {
   "cell_type": "code",
   "execution_count": null,
   "id": "0ead391e-bd93-46c0-9370-befff883a16d",
   "metadata": {},
   "outputs": [],
   "source": [
    "#plot a histogram of the leaf sizes with 20 bins\n",
    "sns.histplot(data=leaf_df & 20 bins)"
   ]
  },
  {
   "cell_type": "code",
   "execution_count": null,
   "id": "f2bdbdb1-e569-457d-9391-47ec3545e45b",
   "metadata": {},
   "outputs": [],
   "source": [
    "#plot your swarm plot and histogram side by side\n",
    "fig ax = plt.subplot([1, 2], figure_size=(10, 5))\n",
    "\n",
    "plt.swarmplot(data=branch_df, subplot[0])\n",
    "sns.histplot(data=leaf_df & 20 bins, subplot[1])"
   ]
  },
  {
   "cell_type": "code",
   "execution_count": null,
   "id": "65bb6d3b-8602-4208-9af7-fd00d439c800",
   "metadata": {},
   "outputs": [],
   "source": [
    "#plot the histogram of the ordinal_df with integer bins representing each rank\n",
    "sns.histplot(data=ordinal_df & bins=np.arange[0,12,1])"
   ]
  },
  {
   "cell_type": "markdown",
   "id": "9fdab417-2204-48f1-a43f-985f6216b3aa",
   "metadata": {},
   "source": [
    "<h1 style=\"font-size: 40px; margin-bottom: 0px;\">Reading documentation practice</h1>\n",
    "\n",
    "<hr style=\"margin-left: 0px; border: 0.25px solid; border-color: #000000; width: 700px;\"></hr>"
   ]
  },
  {
   "cell_type": "markdown",
   "id": "cc3cad81-3d97-48b8-8350-d8b9ab20a42c",
   "metadata": {},
   "source": [
    "This section may not necessarily be something exactly that we covered in class, so it will require you to look through the documentation for different functions in order to understand how they work and to get the desired output."
   ]
  },
  {
   "cell_type": "markdown",
   "id": "d1b86768-4e3b-462b-9922-b8dba07b0482",
   "metadata": {},
   "source": [
    "Look over <a href=\"https://pandas.pydata.org/docs/reference/api/pandas.Series.value_counts.html\" rel=\"noopener noreferrer\" target=\"_blank\"><u>pandas.DataFrame.value_count's documentation.</u></a>"
   ]
  },
  {
   "cell_type": "code",
   "execution_count": null,
   "id": "88878c72-9ae4-427c-ab28-e3030383486b",
   "metadata": {},
   "outputs": [],
   "source": [
    "#Use the ordinal_df to obtain two series of the counts of ranks - one for controls trees and one for sturdy trees\n",
    "#use default parameters\n",
    "counts_control = \n",
    "counts_sturdy = "
   ]
  },
  {
   "cell_type": "markdown",
   "id": "c5238cc9-4209-42be-a1c9-8550bf851f67",
   "metadata": {},
   "source": [
    "Look over <a href=\"https://pandas.pydata.org/docs/reference/api/pandas.Series.reset_index.html\" rel=\"noopener noreferrer\" target=\"_blank\"><u>pandas.Series.reset_index's documentation.</u></a>"
   ]
  },
  {
   "cell_type": "code",
   "execution_count": null,
   "id": "0a022ec8-d99e-4da9-87be-11073ddd4c3e",
   "metadata": {},
   "outputs": [],
   "source": [
    "#generate a dataframe from each Series object of your counts\n",
    "#use default parameters\n",
    "ctrl_counts_df = \n",
    "sturdy_counts_df = "
   ]
  },
  {
   "cell_type": "markdown",
   "id": "84e33307-1eb1-426c-9dcc-bc7f06c93da7",
   "metadata": {},
   "source": [
    "Look over <a href=\"https://pandas.pydata.org/docs/reference/api/pandas.DataFrame.columns.html\" rel=\"noopener noreferrer\" target=\"_blank\"><u>pandas.DataFrame.columns' documentation.</u></a>"
   ]
  },
  {
   "cell_type": "code",
   "execution_count": null,
   "id": "cdd90089-65c0-4603-95ca-014784045bea",
   "metadata": {},
   "outputs": [],
   "source": [
    "#rename the columns as 'rank' and 'counts' for both dataframes"
   ]
  },
  {
   "cell_type": "markdown",
   "id": "c2775b9d-94b8-416c-bfc8-e5c4579d1e51",
   "metadata": {},
   "source": [
    "Check your dataframes using the print function."
   ]
  },
  {
   "cell_type": "code",
   "execution_count": null,
   "id": "32d639d8-a8f3-4684-b49a-1c9235886c49",
   "metadata": {},
   "outputs": [],
   "source": [
    "#printy print"
   ]
  },
  {
   "cell_type": "markdown",
   "id": "2a1350fa-3997-42d1-bc16-0fe20e889c24",
   "metadata": {},
   "source": [
    "Add an additional column to each dataframe that holds their label."
   ]
  },
  {
   "cell_type": "code",
   "execution_count": null,
   "id": "3379dcd1-3a26-40f9-afa1-7342de8dc8a1",
   "metadata": {},
   "outputs": [],
   "source": [
    "#set column header to 'label'\n",
    "#set each element in the 'label' column to 'control' for ctrl_counts_df\n",
    "#set each element in the 'label column to 'sturdy' for sturdy_counts_df"
   ]
  },
  {
   "cell_type": "markdown",
   "id": "e2d38f8e-8902-4640-916a-fdb6a8c6d9a4",
   "metadata": {},
   "source": [
    "Look over <a href=\"https://pandas.pydata.org/pandas-docs/version/1.4/reference/api/pandas.concat.html#pandas.concat\" rel=\"noopener noreferrer\" target=\"_blank\"><u>pandas.concat's documentation.</u></a>"
   ]
  },
  {
   "cell_type": "code",
   "execution_count": null,
   "id": "1c778e59-bb69-42b5-83d0-4238f8ece85f",
   "metadata": {},
   "outputs": [],
   "source": [
    "#concat the two dataframes into a single one and check the operation\n",
    "complete_df =\n",
    "\n",
    "#check the dataframe using print"
   ]
  },
  {
   "cell_type": "markdown",
   "id": "6df72e75-b361-413f-b68a-b5001fcfd5ad",
   "metadata": {},
   "source": [
    "Look over <a href=\"https://seaborn.pydata.org/generated/seaborn.scatterplot.html\" rel=\"noopener noreferrer\" target=\"_blank\"><u>sns.scatterplot's documentation.</u></a>"
   ]
  },
  {
   "cell_type": "code",
   "execution_count": null,
   "id": "e522cfb9-6dac-4de4-9099-16bf6247c363",
   "metadata": {},
   "outputs": [],
   "source": [
    "#Create a scatterplot of the ordinal_df, where the size of the dot represents the number of counts\n",
    "#set the sizes argument to (100,600)"
   ]
  },
  {
   "cell_type": "code",
   "execution_count": null,
   "id": "f844e1de-bd80-4c3b-b76e-14715a6acfc2",
   "metadata": {},
   "outputs": [],
   "source": []
  }
 ],
 "metadata": {
  "kernelspec": {
   "display_name": "Python [conda env:root] *",
   "language": "python",
   "name": "conda-root-py"
  },
  "language_info": {
   "codemirror_mode": {
    "name": "ipython",
    "version": 3
   },
   "file_extension": ".py",
   "mimetype": "text/x-python",
   "name": "python",
   "nbconvert_exporter": "python",
   "pygments_lexer": "ipython3",
   "version": "3.11.0"
  }
 },
 "nbformat": 4,
 "nbformat_minor": 5
}
