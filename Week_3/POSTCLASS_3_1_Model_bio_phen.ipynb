{
 "cells": [
  {
   "cell_type": "markdown",
   "id": "e5e2ebe1-ee54-4a63-9045-e14f57b192d9",
   "metadata": {},
   "source": [
    "<h1 style=\"font-size: 40px; margin-bottom: 0px;\">3.1 Modeling biological phenomena (Part I)</h1>\n",
    "\n",
    "<p style=\"margin-top: 15px;\"><strong>And finishing up our plotting demo</strong></p>\n",
    "\n",
    "<hr style=\"margin-left: 0px; border: 0.25px solid; border-color: #000000; width: 800px;\"></hr>"
   ]
  },
  {
   "cell_type": "markdown",
   "id": "77848de1-93b3-407d-89a4-02ba55f9e5ed",
   "metadata": {},
   "source": [
    "This week, we gained an appreciation how quantitative approaches act as a microscope for biology, helping to reveal hidden mechanisms that our models may not have fully captured. We learned how numerical literacy can help us develop an intuition for the scales and numbers in biology, and when our expectations don't line up entirely with reality, that often means that our understanding of a phenomenon is incomplete, thereby revealing paths for further inquiry that deepen our understanding of biological phenomena. \n",
    "\n",
    "Like with physics and chemistry, mathematical models/simulations can be applied to the complexity and messiness of biology as well. Recall from lecture that in biology, a dialogue exists between theories and experiments, wherein theories shape the questions we ask and hypotheses we test. The resulting data and analyses then reshape and refine our theories and models, and the cycle starts again. The same dialogue exists for computational models and experiments. By taking what we know and translating it into mathematical equations, we can create computational simulations that generate predictions about some biological phenomenon. We can then take these predictions and test it against the results of real-world experiments, and discrepancies between the predictions of our computational models and empirical data indicate that our understanding is incomplete. Our computational models are then refined and further predictions can be made, and again the cycle repeats.\n",
    "\n",
    "Today, we'll learn the fundamentals behind something called a for loop, which is a way of controlling how code is executed. For loops are often used when performing computational simulations to generate theoretical datasets that we can then use to predict how biological processes will behave.\n",
    "\n",
    "<strong>Learning objectives:</strong>\n",
    "<ul>\n",
    "    <li>Learn how code is executed in a notebook</li>\n",
    "    <li>Learn flow control</li>\n",
    "    <li>Practice using if-elif-else statements</li>\n",
    "    <li>Learn the concept of a for loop and how to set one up</li>\n",
    "    <li>Practice setting up for loops of varying degrees of complexity</li>\n",
    "</ul>"
   ]
  },
  {
   "cell_type": "markdown",
   "id": "3b934132-1f49-453a-887c-aebb33f791e7",
   "metadata": {},
   "source": [
    "<strong>Let's import our packages for today.</strong>\n",
    "<ul>\n",
    "    <li>NumPy</li>\n",
    "    <li>pandas</li>\n",
    "    <li>matplotlib.pyplot</li>\n",
    "    <li>seaborn</li>\n",
    "</ul>"
   ]
  },
  {
   "cell_type": "code",
   "execution_count": 1,
   "id": "03b76eda-6264-4451-a088-73b848be4aed",
   "metadata": {},
   "outputs": [],
   "source": [
    "import numpy as np\n",
    "import pandas as pd\n",
    "import matplotlib.pyplot as plt\n",
    "import seaborn as sns"
   ]
  },
  {
   "cell_type": "markdown",
   "id": "6135d4e2-e344-49d0-9fde-c25019e4507c",
   "metadata": {},
   "source": [
    "<h1 style=\"font-size: 40px; margin-bottom: 0px;\">Flow control in Python</h1>\n",
    "\n",
    "<hr style=\"margin-left: 0px; border: 0.25px solid; border-color: #000000; width: 600px;\"></hr>"
   ]
  },
  {
   "cell_type": "markdown",
   "id": "7910af96-4fb6-44fd-a369-c9b2b835d35e",
   "metadata": {},
   "source": [
    "Lines of code are executed sequentially in the order they are read from top to bottom. For the most part, our previous notebooks have largely had a sequential order in which the code was executed (unless you returned to run a previous cell).\n",
    "\n",
    "However, by introducing specific keywords, such as <mark style=\"background-color: #EEEEEE;\"><strong>def</strong></mark>, or <mark style=\"background-color: #EEEEEE;\"><strong>if</strong></mark>, or <mark style=\"background-color: #EEEEEE;\"><strong>for</strong></mark>, we can indicate to Python that we want some block of code to be executed differently than the default way of simply going line by line from top to bottom. This is called **flow control**.\n",
    "\n",
    "<p style=\"font-size: 16px; text-align: center;\"><strong>Standard sequence of code execution</strong></p>\n",
    "<img src=\"Standard_sequence_code_execution.jpg\" style=\"height: 300px; margin: auto\"/>\n"
   ]
  },
  {
   "cell_type": "markdown",
   "id": "c650afe3-9f9a-42c0-b388-41ea05162943",
   "metadata": {},
   "source": [
    "<h2 style=\"font-size: 32px;\">Understanding flow control</h2>"
   ]
  },
  {
   "cell_type": "markdown",
   "id": "fe7f3217-fb7d-4936-85ae-244f9bf5b73e",
   "metadata": {},
   "source": [
    "Recall back to when we learned to define functions using the <mark style=\"background-color: #EEEEEE;\"><strong>def</strong></mark> keyword. When we call up the <mark style=\"background-color: #EEEEEE;\"><strong>def</strong></mark> keyword, we are telling the notebook that there's a specific time in which we want to execute the next lines of code (which are blocked out via indentation). The operations and variables within that block of code are only called up when the function is called up, so by using the <mark style=\"background-color: #EEEEEE;\"><strong>def</strong></mark> keyword, we are essentially telling our Python interpreter to only execute this block of code when we call up the function.\n",
    "\n",
    "<p style=\"font-size: 16px; text-align: center;\"><strong>How calling a function changes flow</strong></p>\n",
    "\n",
    "<img src=\"Function_code_execution.jpg\" style=\"height: 400px; margin: auto\"/>"
   ]
  },
  {
   "cell_type": "markdown",
   "id": "757f0ec6-c65b-4d57-89e0-43fcc8459aa8",
   "metadata": {},
   "source": [
    "Another way of understanding flow controls is to look at conditional statements. We can control when a block of code is executed by providing Python with the conditions under which we want it to execute that line or block of code. The conditional statement then becomes the instructions for Python on when it should perform the operations that are separated from the rest of the code via indentation.\n",
    "\n",
    "Let's set up a condition under which a block of code will be executed using the <mark style=\"background-color: #EEEEEE;\"><strong>if</strong></mark> keyword. \n",
    "\n",
    "<p style=\"font-size: 16px; text-align: center;\"><strong>A single <mark style=\"background-color: #EEEEEE;\">if</mark> statement</strong></p>\n",
    "\n",
    "<img src=\"Single_if_execution.jpg\" style=\"height: 400px; margin: auto\"/>"
   ]
  },
  {
   "cell_type": "markdown",
   "id": "b17e73c9-1cbc-4554-a530-cccb3d64b5f8",
   "metadata": {},
   "source": [
    "With an if statement alone, there will be no action taken when the condition is not met. But we can also instruct Python how to handle a situation when the condition is not satisfied by using the <mark style=\"background-color: #EEEEEE;\"><strong>else</strong></mark> keyword.\n",
    "\n",
    "<p style=\"font-size: 16px; text-align: center;\"><strong>An <mark style=\"background-color: #EEEEEE;\">if</mark>-<mark style=\"background-color: #EEEEEE;\">else</mark> statement</strong></p>\n",
    "\n",
    "<img src=\"If_else_execution.jpg\" style=\"height: 400px; margin: auto\"/>"
   ]
  },
  {
   "cell_type": "markdown",
   "id": "402d9d8b-efb9-4429-80cd-5314831de054",
   "metadata": {},
   "source": [
    "We can also specify additional conditions prior to the <mark style=\"background-color: #EEEEEE;\"><strong>else</strong></mark> keyword by using the <mark style=\"background-color: #EEEEEE;\"><strong>elif</strong></mark> keyword, which is short for \"else-if\". <mark style=\"background-color: #EEEEEE;\"><strong>elif</strong></mark> essentially means that if the preceding <mark style=\"background-color: #EEEEEE;\"><strong>if</strong></mark> condition is not satisfied, then try the <mark style=\"background-color: #EEEEEE;\"><strong>elif</strong></mark> condition. \n",
    "\n",
    "So in the context of <mark style=\"background-color: #EEEEEE;\"><strong>elif</strong></mark>, an <mark style=\"background-color: #EEEEEE;\"><strong>else</strong></mark> would then indicate to Python that if none of the above conditions are satisfied, then perform the indicated action.\n",
    "\n",
    "<p style=\"font-size: 16px; text-align: center;\"><strong>An <mark style=\"background-color: #EEEEEE;\">if</mark>-<mark style=\"background-color: #EEEEEE;\">elif</mark>-<mark style=\"background-color: #EEEEEE;\">else</mark> statement</strong></p>\n",
    "\n",
    "<img src=\"If_elif_else_execution.jpg\" style=\"height: 400px; margin: auto\"/>\n",
    "\n",
    "Through this, you create a decision tree, allowing your Python interpreter to execute specific actions only if certain conditions are met, thereby controlling the flow of code rather than simply executing code sequentially."
   ]
  },
  {
   "cell_type": "markdown",
   "id": "91ad077d-4648-4eb5-b313-9891b99fb075",
   "metadata": {},
   "source": [
    "<h1 style=\"font-size: 40px; margin-bottom: 0px;\">Exercise #1: Basic if statement</h1>\n",
    "\n",
    "<hr style=\"margin-left: 0px; border: 0.25px solid; border-color: #000000; width: 800px;\"></hr>"
   ]
  },
  {
   "cell_type": "markdown",
   "id": "179e5eff-14a3-4010-b156-56808df941a0",
   "metadata": {},
   "source": [
    "Let's assign a random number to a variable, and set up conditions under which a type of noodle will be printed out based on the random number generated.\n",
    "\n",
    "We can set up a random number to be generated with a normal distribution.\n",
    "```\n",
    "variable = np.random.normal(loc, scale)\n",
    "```\n",
    "Recall that <mark style=\"background-color: #EEEEEE;\"><strong>loc</strong></mark> specifies the mean of the normal distribution, while the <mark style=\"background-color: #EEEEEE;\"><strong>scale</strong></mark> specifies the standard deviation.\n",
    "\n",
    "Then we can specify the condition under which it will print a type of noodle along with the value of the random number generated:\n",
    "```\n",
    "if variable < 9:\n",
    "     print('Ramen', variable)\n",
    "```\n",
    "Give that a try in the code cell below, and try having your block of code preceded by a <mark style=\"background-color: #EEEEEE;\"><strong>print('Preceding line')</strong></mark> output, and have the block of code followed by a <mark style=\"background-color: #EEEEEE;\"><strong>print('Subsequent line')</strong></mark> to see how the flow of code changes depending on whether or not your specified condition is met."
   ]
  },
  {
   "cell_type": "code",
   "execution_count": 12,
   "id": "279cb290-9aa6-44c1-b8e5-cbae79876983",
   "metadata": {},
   "outputs": [
    {
     "name": "stdout",
     "output_type": "stream",
     "text": [
      "preceding line\n",
      "Ramen 8.637064331584853\n",
      "subsequent line\n"
     ]
    }
   ],
   "source": [
    "#Create our random number generator\n",
    "tea = np.random.normal(10, 2)\n",
    "#Check if it works\n",
    "#print(tea)\n",
    "\n",
    "print('preceding line') #this is added so you can see when Python skips a line of code by looking at the output\n",
    "if tea < 9:\n",
    "    print('Ramen', tea)\n",
    "print('subsequent line') #this is added so you can see when Python skips a line of code by looking at the output"
   ]
  },
  {
   "cell_type": "markdown",
   "id": "f37e890e-fea3-4d6d-ad9e-5dab1aff1348",
   "metadata": {},
   "source": [
    "You should be able to see that when the condition isn't satisfied, the <mark style=\"background-color: #EEEEEE;\"><strong>print('Ramen', variable)</strong></mark> line of code is not executed and is simply skipped over. "
   ]
  },
  {
   "cell_type": "markdown",
   "id": "0372d3fd-60c9-4acc-9440-ebdc6f74d985",
   "metadata": {},
   "source": [
    "<h1 style=\"font-size: 40px; margin-bottom: 0px;\">Exercise #2: Handle unsatisfied condition</h1>\n",
    "\n",
    "<hr style=\"margin-left: 0px; border: 0.25px solid; border-color: #000000; width: 800px;\"></hr>"
   ]
  },
  {
   "cell_type": "markdown",
   "id": "02a85593-c181-4a2d-937b-4e5143b987db",
   "metadata": {},
   "source": [
    "Let's now give Python something to do when our condition is not satisfied by providing it with an <mark style=\"background-color: #EEEEEE;\"><strong>else</strong></mark>.\n",
    "```\n",
    "else:\n",
    "     print('Udon', variable)\n",
    "```\n",
    "\n",
    "Bring the code from the previous code cell over and provide the <mark style=\"background-color: #EEEEEE;\"><strong>else</strong></mark> condition."
   ]
  },
  {
   "cell_type": "code",
   "execution_count": 15,
   "id": "c5b0bcd8-042b-436b-8a82-3bd347b89355",
   "metadata": {},
   "outputs": [
    {
     "name": "stdout",
     "output_type": "stream",
     "text": [
      "preceding line\n",
      "Udon 12.269412198979726\n",
      "subsequent line\n"
     ]
    }
   ],
   "source": [
    "#Create our random number generator\n",
    "tea = np.random.normal(10, 2)\n",
    "#Check if it works\n",
    "#print(tea)\n",
    "\n",
    "print('preceding line')\n",
    "if tea < 9:\n",
    "    print('Ramen', tea)\n",
    "else:\n",
    "    print('Udon', tea)\n",
    "print('subsequent line')\n",
    "\n",
    "#You should be able to see that Python only runs a line of code when a particular condition is met"
   ]
  },
  {
   "cell_type": "markdown",
   "id": "0111f597-9e6f-4ee2-b677-a135bad8a33e",
   "metadata": {},
   "source": [
    "<h1 style=\"font-size: 40px; margin-bottom: 0px;\">Exercise #3: Specify additional conditions</h1>\n",
    "\n",
    "<hr style=\"margin-left: 0px; border: 0.25px solid; border-color: #000000; width: 800px;\"></hr>"
   ]
  },
  {
   "cell_type": "markdown",
   "id": "52934c5b-794b-454a-9454-d8c300301b5a",
   "metadata": {},
   "source": [
    "Let's then specify additional conditions using <mark style=\"background-color: #EEEEEE;\"><strong>elif</strong></mark> to tell the notebook what to do when the first condition is not met. You can keep the <mark style=\"background-color: #EEEEEE;\"><strong>else</strong></mark> statement to let the notebook know how to handle when neither conditions are met.\n",
    "```\n",
    "elif variable > 11:\n",
    "     print('Soba', variable)\n",
    "```\n",
    "Give it a try below to write out a full set of <mark style=\"background-color: #EEEEEE;\"><strong>if</strong></mark>-<mark style=\"background-color: #EEEEEE;\"><strong>elif</strong></mark>-<mark style=\"background-color: #EEEEEE;\"><strong>else</strong></mark> statements."
   ]
  },
  {
   "cell_type": "code",
   "execution_count": 18,
   "id": "bb60e30a-127d-410e-b7e7-7303b1ad39a5",
   "metadata": {},
   "outputs": [
    {
     "name": "stdout",
     "output_type": "stream",
     "text": [
      "preceding line\n",
      "Soba 12.642133239001495\n",
      "subsequent line\n"
     ]
    }
   ],
   "source": [
    "#Create our random number generator\n",
    "tea = np.random.normal(10, 2)\n",
    "#Check if it works\n",
    "#print(tea)\n",
    "\n",
    "print('preceding line')\n",
    "if tea < 9:\n",
    "    print('Ramen', tea)\n",
    "elif tea > 11:\n",
    "    print('Soba', tea)\n",
    "else:\n",
    "    print('Udon', tea)\n",
    "print('subsequent line')"
   ]
  },
  {
   "cell_type": "markdown",
   "id": "84558ebb-de29-458a-90ff-53f6f3869b4c",
   "metadata": {},
   "source": [
    "<h2><u>Challenge:</u> Nested if statements</h2>"
   ]
  },
  {
   "cell_type": "markdown",
   "id": "19fe27e0-bc38-4af8-8c21-9537100ffd00",
   "metadata": {},
   "source": [
    "You can also nest if statements within another one, allowing you to create layered checks before an action is executed.\n",
    "\n",
    "For those of you who want a challenge, use nested if statements to see if you can set up a random integer generator that outputs a random integer within the range of 20-50. Then set up a block of code that executes code according to the following conditions:\n",
    "<ul>\n",
    "    <li>When the integer is greater than 10 and divisible by 11 - print('cherry')</li>\n",
    "    <li>When the integer is greater than 10 and divisible by 10 - print('peach')</li>\n",
    "    <li>When the integer is greater than 10 but doesn't fall under the above - print('pineapple')</li>\n",
    "    <li>Otherwise, print('toast')</li>\n",
    "</ul>\n",
    "\n",
    "To determine if an integer is divisible by something, you can make use of the <mark style=\"background-color: #EEEEEE;\"><strong>&percnt;</strong></mark> operator, which only returns the remainder of a division operation. If an integer is divisble by another value, then the output of a <mark style=\"background-color: #EEEEEE;\"><strong>&percnt;</strong></mark> operation should be 0."
   ]
  },
  {
   "cell_type": "code",
   "execution_count": 35,
   "id": "304c2edf-a8a3-484b-9d5a-4a9679999d1b",
   "metadata": {},
   "outputs": [
    {
     "name": "stdout",
     "output_type": "stream",
     "text": [
      "44\n",
      "preceding line\n",
      "cherry\n",
      "subsequent line\n"
     ]
    }
   ],
   "source": [
    "#Create random integer generator\n",
    "goat = np.random.randint(20, 50)\n",
    "#Check if everything is okay\n",
    "print(goat)\n",
    "\n",
    "print('preceding line')\n",
    "if goat > 10:\n",
    "    if (goat % 11) == 0:\n",
    "        print('cherry')\n",
    "    elif (goat % 10) == 0:\n",
    "        print('peach')\n",
    "    else:\n",
    "        print('pineapple')\n",
    "else:\n",
    "    print('toast')\n",
    "print('subsequent line')"
   ]
  },
  {
   "cell_type": "markdown",
   "id": "5ed7c071-3174-4026-8e32-1550940cc7fd",
   "metadata": {},
   "source": [
    "<h1 style=\"font-size: 40px; margin-bottom: 0px;\">Basic Python for loop</h1>\n",
    "\n",
    "<hr style=\"margin-left: 0px; border: 0.25px solid; border-color: #000000; width: 600px;\"></hr>"
   ]
  },
  {
   "cell_type": "markdown",
   "id": "5f871f3e-ecdb-4965-87e9-1250dd0d5da4",
   "metadata": {},
   "source": [
    "For loops are another way of controlling how specific blocks of code are executed. This style of flow control is initiated with a <mark style=\"background-color: #EEEEEE;\"><strong>for</strong></mark> keyword. The <mark style=\"background-color: #EEEEEE;\"><strong>for</strong></mark> keyword is followed by a variable and an <mark style=\"background-color: #EEEEEE;\"><strong>in</strong></mark> keyword that specifies the iterable object that will form the index through which the for loop will iterate and peform the specified block of code.\n",
    "\n",
    "For example, if we wanted to print each element in a list, we can set up a for loop that will repeat the operation for each element.\n",
    "```\n",
    "for i in [0, 1, 2, 3, 4, 5]:\n",
    "     print(i)\n",
    "```\n",
    "This set up will tell Python to take the variable <mark style=\"background-color: #EEEEEE;\"><strong>i</strong></mark> and assign it the first value in the index (in this case, we gave Python a list), which corresponds to <mark style=\"background-color: #EEEEEE;\"><strong>0</strong></mark>. Then the specified operation <mark style=\"background-color: #EEEEEE;\"><strong>print(i)</strong></mark> is performed. Once the operation is completed, the notebook checks to see if there are additional elements in the list, and if there are, then it moves to the next element in the list, which in this case would be <mark style=\"background-color: #EEEEEE;\"><strong>1</strong></mark>, and assigns it to the variable <mark style=\"background-color: #EEEEEE;\"><strong>i</strong></mark> and repeats the operation <mark style=\"background-color: #EEEEEE;\"><strong>print(i)</strong></mark>. It will repeat this as long as there are elements in the list, and once there are no more elements, the for loop is exited and the next line of code is executed.\n",
    "\n",
    "So it is almost as if we wrote out the following lines of code but in a much more compact way:\n",
    "```\n",
    "i = 0\n",
    "print(i)\n",
    "\n",
    "i = 1\n",
    "print(i)\n",
    "\n",
    "i=2\n",
    "print(i)\n",
    "\n",
    "i=3\n",
    "print(i)\n",
    "\n",
    "i=4\n",
    "print(i)\n",
    "\n",
    "i=5\n",
    "print(i)\n",
    "```\n",
    "\n",
    "If we visualize how a for loop controls the flow of code, you would get something like the below diagram:\n",
    "\n",
    "<p style=\"font-size: 16px; text-align: center;\"><strong>A for loop sequence of code execution</strong></p>\n",
    "\n",
    "<img src=\"For_loop_execution.jpg\" style=\"height: 500px; margin: auto\"/>"
   ]
  },
  {
   "cell_type": "markdown",
   "id": "3ae178e0-ab29-496c-a573-aa60bd2f2f36",
   "metadata": {},
   "source": [
    "So the key advantage of setting up for loops is that it allows you to repeat a specific operation over and over again without having to repeat the same lines of code. And you can specify how many times you want it to perform that operation based on the iterable object that you provide when first iniating the for loop."
   ]
  },
  {
   "cell_type": "markdown",
   "id": "c7bd39d0-ad00-4356-8ba7-c8d6e81217bf",
   "metadata": {},
   "source": [
    "<h1 style=\"font-size: 40px; margin-bottom: 0px;\">Exercise #4: Set up a basic for loop</h1>\n",
    "\n",
    "<hr style=\"margin-left: 0px; border: 0.25px solid; border-color: #000000; width: 800px;\"></hr>"
   ]
  },
  {
   "cell_type": "markdown",
   "id": "12afb13b-69ad-4d65-b429-eed78c2868e1",
   "metadata": {},
   "source": [
    "Let's set up a basic for loop based on the example that was shown above, where you print all the elements of a given list."
   ]
  },
  {
   "cell_type": "code",
   "execution_count": 36,
   "id": "6d90652a-a50c-470b-b2fd-23e3dba0e4d7",
   "metadata": {},
   "outputs": [
    {
     "name": "stdout",
     "output_type": "stream",
     "text": [
      "0\n",
      "1\n",
      "2\n",
      "3\n",
      "4\n",
      "5\n"
     ]
    }
   ],
   "source": [
    "for i in [0, 1, 2, 3, 4, 5]: #here we specify the list manually when we start up the for loop\n",
    "    print(i)"
   ]
  },
  {
   "cell_type": "markdown",
   "id": "aa9be9e0-cd50-47e6-983f-6df93254810c",
   "metadata": {},
   "source": [
    "Now change up the variable that you used with another arbritrary variable. Don't forget to update the variable in the rest of the block of code.\n",
    "\n",
    "How does the output compare to the previous one?"
   ]
  },
  {
   "cell_type": "code",
   "execution_count": 39,
   "id": "3ba8672d-f15b-408b-aa83-df02f3a7e35a",
   "metadata": {},
   "outputs": [
    {
     "name": "stdout",
     "output_type": "stream",
     "text": [
      "0\n",
      "2\n",
      "5\n",
      "10\n",
      "5\n"
     ]
    }
   ],
   "source": [
    "for c in [0, 2, 5, 10]:\n",
    "    print(c)\n",
    "#you can see it doesn't matter what variable you tell Python to use for assigning values in the for loop\n",
    "#you just need to make sure that it is present in the block of code corresponding to your for loop\n",
    "\n",
    "#look at the variable scope\n",
    "#the variable i exists outside of the for loop as well\n",
    "#so it can be accessed elsewhere in the notebook\n",
    "#this is different than a function, whose variable scope is limited to just the function\n",
    "print(i)\n"
   ]
  },
  {
   "cell_type": "markdown",
   "id": "65d2a02b-b320-4bcc-a75e-f2c0bfde1081",
   "metadata": {},
   "source": [
    "<h2>Specify iterable lists with functions</h2>"
   ]
  },
  {
   "cell_type": "markdown",
   "id": "82929f8f-cda3-4af3-b01f-25148efa604d",
   "metadata": {},
   "source": [
    "If we want, we can also have Python generate the index for us either before we set up the for loop, or when we initialize it.\n",
    "\n",
    "To specify the list before, you can simply assign the list to a variable, and then provide it as the index when you set up the for loop.\n",
    "```\n",
    "list = range(0, 20, 1)\n",
    "\n",
    "for variable in list:\n",
    "     print('some output')\n",
    "```\n",
    "\n",
    "Give it a try below:"
   ]
  },
  {
   "cell_type": "code",
   "execution_count": 42,
   "id": "97f674d5-5c27-4b11-b294-16e0bfa64865",
   "metadata": {},
   "outputs": [
    {
     "name": "stdout",
     "output_type": "stream",
     "text": [
      "[0, 1, 2, 3, 4, 5, 6, 7, 8, 9, 10, 11, 12, 13, 14, 15, 16, 17, 18, 19]\n",
      "0\n",
      "1\n",
      "2\n",
      "3\n",
      "4\n",
      "5\n",
      "6\n",
      "7\n",
      "8\n",
      "9\n",
      "10\n",
      "11\n",
      "12\n",
      "13\n",
      "14\n",
      "15\n",
      "16\n",
      "17\n",
      "18\n",
      "19\n"
     ]
    }
   ],
   "source": [
    "#Generate an iterable list\n",
    "orange_list = range(0, 20, 1)\n",
    "#Check our list\n",
    "print(list(orange_list))\n",
    "\n",
    "#Let's use this for our for loop:\n",
    "for apple in orange_list: #here we can use a variable for our iterable object since it refers to our list\n",
    "    print(apple)\n"
   ]
  },
  {
   "cell_type": "markdown",
   "id": "199ce7b9-5b39-4033-8a8b-b138a79e016d",
   "metadata": {},
   "source": [
    "You can also input the function to generate an index directly in the line that you use to set up the for loop, like below:\n",
    "```\n",
    "for var in range(0, 20, 1):\n",
    "     print(var, 'another output')\n",
    "```\n",
    "\n",
    "Try it for yourself below:"
   ]
  },
  {
   "cell_type": "code",
   "execution_count": 43,
   "id": "bb4e664c-1f16-4cc0-97b1-e15ae507bb78",
   "metadata": {},
   "outputs": [
    {
     "name": "stdout",
     "output_type": "stream",
     "text": [
      "0 another output\n",
      "1 another output\n",
      "2 another output\n",
      "3 another output\n",
      "4 another output\n",
      "5 another output\n",
      "6 another output\n",
      "7 another output\n",
      "8 another output\n",
      "9 another output\n",
      "10 another output\n",
      "11 another output\n",
      "12 another output\n",
      "13 another output\n",
      "14 another output\n",
      "15 another output\n",
      "16 another output\n",
      "17 another output\n",
      "18 another output\n",
      "19 another output\n"
     ]
    }
   ],
   "source": [
    "#Let's create a list as we set up our for loop:\n",
    "for pineapple in range(0, 20, 1):\n",
    "    print(pineapple, 'another output')"
   ]
  },
  {
   "cell_type": "markdown",
   "id": "71da05f3-7f6b-46eb-baee-02c02df8d2bf",
   "metadata": {},
   "source": [
    "<h2><u>Challenge:</u> Limit a for loop's output to only specific conditions</h2>"
   ]
  },
  {
   "cell_type": "markdown",
   "id": "d84ecd18-3a52-46bc-a572-2142de0619f0",
   "metadata": {},
   "source": [
    "Let's try to set up a for loop whose output is dictated by whether or not an element in a list of 20 sequential numbers is divisible by 3. If the element is divisible by 3, then have Python output the value alongside the string <mark style=\"background-color: #EEEEEE;\"><strong>'lemon'</strong></mark>, but if it is not, have Python output the value alongside the string <mark style=\"background-color: #EEEEEE;\"><strong>'lime'</strong></mark>."
   ]
  },
  {
   "cell_type": "code",
   "execution_count": 44,
   "id": "eb8c1643-d43d-4be8-901b-984b802fe8e1",
   "metadata": {},
   "outputs": [
    {
     "name": "stdout",
     "output_type": "stream",
     "text": [
      "lemon 30\n",
      "lime 31\n",
      "lime 32\n",
      "lemon 33\n",
      "lime 34\n",
      "lime 35\n",
      "lemon 36\n",
      "lime 37\n",
      "lime 38\n",
      "lemon 39\n",
      "lime 40\n",
      "lime 41\n",
      "lemon 42\n",
      "lime 43\n",
      "lime 44\n",
      "lemon 45\n",
      "lime 46\n",
      "lime 47\n",
      "lemon 48\n",
      "lime 49\n",
      "lime 50\n",
      "lemon 51\n",
      "lime 52\n",
      "lime 53\n",
      "lemon 54\n",
      "lime 55\n",
      "lime 56\n",
      "lemon 57\n",
      "lime 58\n",
      "lime 59\n",
      "lemon 60\n",
      "lime 61\n",
      "lime 62\n",
      "lemon 63\n",
      "lime 64\n",
      "lime 65\n",
      "lemon 66\n",
      "lime 67\n",
      "lime 68\n",
      "lemon 69\n"
     ]
    }
   ],
   "source": [
    "#let's set up our for loop:\n",
    "for pie in np.arange(30, 70, 1):\n",
    "    if (pie % 3) == 0: #specifying a condition under which the print('lemon', pie) line will be executed\n",
    "        print('lemon', pie)\n",
    "    else:               #specify how to handle the alternative condition\n",
    "        print('lime', pie) "
   ]
  },
  {
   "cell_type": "markdown",
   "id": "3d969ade-a1e1-4195-8a73-d1d89bd1c265",
   "metadata": {},
   "source": [
    "<h1 style=\"font-size: 40px; margin-bottom: 0px;\">Numerical expressions and for loops</h1>\n",
    "\n",
    "<hr style=\"margin-left: 0px; border: 0.25px solid; border-color: #000000; width: 700px;\"></hr>"
   ]
  },
  {
   "cell_type": "markdown",
   "id": "bd7d2799-836e-4451-b745-bf29f4eaf99f",
   "metadata": {},
   "source": [
    "Now, what we can begin doing as we get more comfortable with setting up for loops is to have Python repeatedly perform specific mathematical operations and assign the result of that operation to another variablea s it iterates through a given list.\n",
    "\n",
    "For example:\n",
    "```\n",
    "for lizard in range(0, 20, 1):\n",
    "     liz = lizard * 2\n",
    "     print(lizard, liz)\n",
    "```"
   ]
  },
  {
   "cell_type": "code",
   "execution_count": 45,
   "id": "8bd221d7-7b31-4c87-afe3-115fc9bd6961",
   "metadata": {},
   "outputs": [
    {
     "name": "stdout",
     "output_type": "stream",
     "text": [
      "0 0\n",
      "1 2\n",
      "2 4\n",
      "3 6\n",
      "4 8\n",
      "5 10\n",
      "6 12\n",
      "7 14\n",
      "8 16\n",
      "9 18\n",
      "10 20\n",
      "11 22\n",
      "12 24\n",
      "13 26\n",
      "14 28\n",
      "15 30\n",
      "16 32\n",
      "17 34\n",
      "18 36\n",
      "19 38\n"
     ]
    }
   ],
   "source": [
    "for lizard in range(0, 20, 1):\n",
    "    liz = lizard * 2 #you can do more complicated things in a for loop\n",
    "    print(lizard, liz)"
   ]
  },
  {
   "cell_type": "markdown",
   "id": "f4779316-2dcb-4943-a748-85f73c16ef8d",
   "metadata": {},
   "source": [
    "<h1 style=\"font-size: 40px; margin-bottom: 0px;\">Generate usable output</h1>\n",
    "\n",
    "<hr style=\"margin-left: 0px; border: 0.25px solid; border-color: #000000; width: 600px;\"></hr>"
   ]
  },
  {
   "cell_type": "markdown",
   "id": "1885956c-be3b-40b6-8ed5-8b4fe2d04c74",
   "metadata": {},
   "source": [
    "One thing you've probablly noticed is that we've made extensive use of the <mark style=\"background-color: #EEEEEE;\"><strong>print()</strong></mark> function, which doesn't really give us a usable output that we can play with. So what we can do is to prepare an object to accept the output that will be generated by the for loop.\n",
    "\n",
    "What we'll need is a compound data type that is mutable, so it will be able to be modified as Python proceeds through the for loop. To prepare this, we can predefine an <mark style=\"background-color: #EEEEEE;\"><strong>nd.array</strong></mark> type object that will be ready to accept the outputs as the for loop is executed. We will make use of the <mark style=\"background-color: #EEEEEE;\"><strong>np.zeros()</strong></mark> function, which creates an array of <mark style=\"background-color: #EEEEEE;\"><strong>0.</strong></mark> floats, and the number of <mark style=\"background-color: #EEEEEE;\"><strong>0.</strong></mark>s is determined by the argument you pass to the <mark style=\"background-color: #EEEEEE;\"><strong>np.zeros()</strong></mark> function.\n",
    "\n",
    "```\n",
    "accepting_array = np.zeros(10)\n",
    "```"
   ]
  },
  {
   "cell_type": "code",
   "execution_count": 46,
   "id": "79fe9a2e-6e49-4dfc-9177-a14219de15a6",
   "metadata": {},
   "outputs": [
    {
     "name": "stdout",
     "output_type": "stream",
     "text": [
      "[0. 0. 0. 0. 0. 0. 0. 0. 0. 0.]\n"
     ]
    }
   ],
   "source": [
    "#Let's initialize an array of zeros using the np.zeros() function.\n",
    "accepting_array = np.zeros(10)\n",
    "#in order for us to work with outputs from a for loop, we need something to hold the data\n",
    "#we can use a mutable compound data type like an array\n",
    "#we make an array of zeros, and each zero just acts as a placeholder for us to assign data values to\n",
    "#Check what we made:\n",
    "print(accepting_array)"
   ]
  },
  {
   "cell_type": "markdown",
   "id": "80da9959-7fb8-4a17-9bf5-79fb04657818",
   "metadata": {},
   "source": [
    "<h1 style=\"font-size: 40px; margin-bottom: 0px;\">Exercise #5: Assign for loop outputs to array</h1>\n",
    "\n",
    "<hr style=\"margin-left: 0px; border: 0.25px solid; border-color: #000000; width: 800px;\"></hr>"
   ]
  },
  {
   "cell_type": "markdown",
   "id": "a4c3e498-b265-4092-a432-a5774dbfc443",
   "metadata": {},
   "source": [
    "Once you have your array initialized, you'll want to create an index through which the for loop will iterate. The important thing to note is that the index should be the same size as or smaller than your initialized array, otherwise Python will run into issues when it is unable to store the for loop output into your array.\n",
    "\n",
    "In the code cell below, set up an index for your for loop."
   ]
  },
  {
   "cell_type": "code",
   "execution_count": 48,
   "id": "1415cf44-880e-492c-baba-e7a23b477313",
   "metadata": {},
   "outputs": [
    {
     "name": "stdout",
     "output_type": "stream",
     "text": [
      "[0 1 2 3 4 5 6 7 8 9]\n"
     ]
    }
   ],
   "source": [
    "index = np.arange(0, 10, 1)\n",
    "#the index is like a map that tells python where to pull data from or where to assign the output\n",
    "#depends on how you write your for loop\n",
    "print(index)"
   ]
  },
  {
   "cell_type": "markdown",
   "id": "8b61e88c-eecc-4241-9856-682ae7924e99",
   "metadata": {},
   "source": [
    "Once you have both your array and your index (which can be defined either before your for loop or when you set it up), you can then execute a for loop whose output will be stored within the array.\n",
    "```\n",
    "for ghost in index:\n",
    "     accepting_array[ghost] = ghost**2\n",
    "```\n",
    "Notice how the for loop contains the assignment operator <mark style=\"background-color: #EEEEEE;\"><strong>&equals;</strong></mark>, which means that we will assign the resulting output to something. In this case, that something is the initialized array. Notice how the index also is used to specify the position in the array receiving the data. "
   ]
  },
  {
   "cell_type": "code",
   "execution_count": 49,
   "id": "fb0e9bb5-0c96-437d-8df7-441e98fcd555",
   "metadata": {},
   "outputs": [
    {
     "name": "stdout",
     "output_type": "stream",
     "text": [
      "[0. 0. 0. 0. 0. 0. 0. 0. 0. 0.]\n",
      " \n",
      "[0. 1. 0. 0. 0. 0. 0. 0. 0. 0.]\n",
      " \n",
      "[0. 1. 4. 0. 0. 0. 0. 0. 0. 0.]\n",
      " \n",
      "[0. 1. 4. 9. 0. 0. 0. 0. 0. 0.]\n",
      " \n",
      "[ 0.  1.  4.  9. 16.  0.  0.  0.  0.  0.]\n",
      " \n",
      "[ 0.  1.  4.  9. 16. 25.  0.  0.  0.  0.]\n",
      " \n",
      "[ 0.  1.  4.  9. 16. 25. 36.  0.  0.  0.]\n",
      " \n",
      "[ 0.  1.  4.  9. 16. 25. 36. 49.  0.  0.]\n",
      " \n",
      "[ 0.  1.  4.  9. 16. 25. 36. 49. 64.  0.]\n",
      " \n",
      "[ 0.  1.  4.  9. 16. 25. 36. 49. 64. 81.]\n",
      " \n"
     ]
    }
   ],
   "source": [
    "for ghost in index:\n",
    "    accepting_array[ghost] = ghost**2\n",
    "    print(accepting_array, end='\\n \\n')"
   ]
  },
  {
   "cell_type": "markdown",
   "id": "33a0c19c-c104-4b87-91af-888308cea214",
   "metadata": {},
   "source": [
    "You should now have an array that is populated with elements resulting from the execution of your for loop, and now you can play with those values, whether it is for statistics or plotting or other operations."
   ]
  },
  {
   "cell_type": "code",
   "execution_count": 52,
   "id": "6920ed47-213b-4843-a07b-0b4f8fa53f23",
   "metadata": {},
   "outputs": [
    {
     "data": {
      "text/plain": [
       "[<matplotlib.lines.Line2D at 0x7df086632050>]"
      ]
     },
     "execution_count": 52,
     "metadata": {},
     "output_type": "execute_result"
    },
    {
     "data": {
      "image/png": "[encoded data removed]",
      "text/plain": [
       "<Figure size 640x480 with 1 Axes>"
      ]
     },
     "metadata": {},
     "output_type": "display_data"
    }
   ],
   "source": [
    "plt.plot(accepting_array)"
   ]
  },
  {
   "cell_type": "markdown",
   "id": "b3ecdadd-7d67-486a-9146-027c88adb8ec",
   "metadata": {},
   "source": [
    "<h2><u>Challenge:</u> Working through 2 compound data types in a single for loop</h2>"
   ]
  },
  {
   "cell_type": "markdown",
   "id": "34a75e29-5edb-4156-a54c-3feff57e67c2",
   "metadata": {},
   "source": [
    "You don't need to be restricted to the values of the elements of your iterable object. You can also create a separate list of values that contains values to be pulled into the for loop. Try to set up a single for loop that is able to perform an operation on the elements contained in one list and then have those elements assigned to an array."
   ]
  },
  {
   "cell_type": "code",
   "execution_count": 55,
   "id": "866c0a4b-f039-4622-97e9-a093e447cd3c",
   "metadata": {},
   "outputs": [
    {
     "name": "stdout",
     "output_type": "stream",
     "text": [
      "[0. 0. 0. 0. 0. 0. 0. 0. 0. 0. 0. 0. 0. 0. 0. 0. 0. 0. 0. 0.]\n",
      "[48 44 28 27 44 20 44 26 29 40 23 40 37 40 42 49 23 24 23 34]\n",
      "[ 0  1  2  3  4  5  6  7  8  9 10 11 12 13 14 15 16 17 18 19]\n",
      "for loop results\n",
      "[72.  0.  0.  0.  0.  0.  0.  0.  0.  0.  0.  0.  0.  0.  0.  0.  0.  0.\n",
      "  0.  0.]\n",
      " \n",
      "[72. 66.  0.  0.  0.  0.  0.  0.  0.  0.  0.  0.  0.  0.  0.  0.  0.  0.\n",
      "  0.  0.]\n",
      " \n",
      "[72. 66. 42.  0.  0.  0.  0.  0.  0.  0.  0.  0.  0.  0.  0.  0.  0.  0.\n",
      "  0.  0.]\n",
      " \n",
      "[72.  66.  42.  40.5  0.   0.   0.   0.   0.   0.   0.   0.   0.   0.\n",
      "  0.   0.   0.   0.   0.   0. ]\n",
      " \n",
      "[72.  66.  42.  40.5 66.   0.   0.   0.   0.   0.   0.   0.   0.   0.\n",
      "  0.   0.   0.   0.   0.   0. ]\n",
      " \n",
      "[72.  66.  42.  40.5 66.  30.   0.   0.   0.   0.   0.   0.   0.   0.\n",
      "  0.   0.   0.   0.   0.   0. ]\n",
      " \n",
      "[72.  66.  42.  40.5 66.  30.  66.   0.   0.   0.   0.   0.   0.   0.\n",
      "  0.   0.   0.   0.   0.   0. ]\n",
      " \n",
      "[72.  66.  42.  40.5 66.  30.  66.  39.   0.   0.   0.   0.   0.   0.\n",
      "  0.   0.   0.   0.   0.   0. ]\n",
      " \n",
      "[72.  66.  42.  40.5 66.  30.  66.  39.  43.5  0.   0.   0.   0.   0.\n",
      "  0.   0.   0.   0.   0.   0. ]\n",
      " \n",
      "[72.  66.  42.  40.5 66.  30.  66.  39.  43.5 60.   0.   0.   0.   0.\n",
      "  0.   0.   0.   0.   0.   0. ]\n",
      " \n",
      "[72.  66.  42.  40.5 66.  30.  66.  39.  43.5 60.  34.5  0.   0.   0.\n",
      "  0.   0.   0.   0.   0.   0. ]\n",
      " \n",
      "[72.  66.  42.  40.5 66.  30.  66.  39.  43.5 60.  34.5 60.   0.   0.\n",
      "  0.   0.   0.   0.   0.   0. ]\n",
      " \n",
      "[72.  66.  42.  40.5 66.  30.  66.  39.  43.5 60.  34.5 60.  55.5  0.\n",
      "  0.   0.   0.   0.   0.   0. ]\n",
      " \n",
      "[72.  66.  42.  40.5 66.  30.  66.  39.  43.5 60.  34.5 60.  55.5 60.\n",
      "  0.   0.   0.   0.   0.   0. ]\n",
      " \n",
      "[72.  66.  42.  40.5 66.  30.  66.  39.  43.5 60.  34.5 60.  55.5 60.\n",
      " 63.   0.   0.   0.   0.   0. ]\n",
      " \n",
      "[72.  66.  42.  40.5 66.  30.  66.  39.  43.5 60.  34.5 60.  55.5 60.\n",
      " 63.  73.5  0.   0.   0.   0. ]\n",
      " \n",
      "[72.  66.  42.  40.5 66.  30.  66.  39.  43.5 60.  34.5 60.  55.5 60.\n",
      " 63.  73.5 34.5  0.   0.   0. ]\n",
      " \n",
      "[72.  66.  42.  40.5 66.  30.  66.  39.  43.5 60.  34.5 60.  55.5 60.\n",
      " 63.  73.5 34.5 36.   0.   0. ]\n",
      " \n",
      "[72.  66.  42.  40.5 66.  30.  66.  39.  43.5 60.  34.5 60.  55.5 60.\n",
      " 63.  73.5 34.5 36.  34.5  0. ]\n",
      " \n",
      "[72.  66.  42.  40.5 66.  30.  66.  39.  43.5 60.  34.5 60.  55.5 60.\n",
      " 63.  73.5 34.5 36.  34.5 51. ]\n",
      " \n"
     ]
    }
   ],
   "source": [
    "#First initialize our array to accept our data\n",
    "challenge_array = np.zeros(20)\n",
    "\n",
    "#let's create a separate list of random values to use\n",
    "random_list = np.random.randint(20, 50, 20)\n",
    "\n",
    "#Let's create an index to iterate through for our for loop:\n",
    "position_list = np.arange(0, 20, 1)\n",
    "\n",
    "#Let's do some quick checks\n",
    "print(challenge_array)\n",
    "print(random_list)\n",
    "print(position_list)\n",
    "\n",
    "print('for loop results')\n",
    "#Let's set up our for loop\n",
    "for cake in position_list:\n",
    "    challenge_array[cake] = random_list[cake]*1.5\n",
    "    print(challenge_array, end='\\n \\n')\n",
    "\n",
    "#if we write out each step of the for loop, it's as if we are writing code out like this\n",
    "cake = position_list[0] #a for loop will start from the first element of the list you give it\n",
    "#since that first element is 0, we assign 0 to the variable cake.\n",
    "challenge_array[0] = random_list[0]*1.5\n",
    "#so what this is saying is:\n",
    "#python will pull the first element from random_list then multiply it by 1.5\n",
    "#then it will assign the results of that to the first element of challenge_array\n",
    "\n",
    "\n",
    "#then the for loop will work it's way through the list we give it (position_list)\n",
    "#so it goes to the 2nd element\n",
    "cake = position_list[1]\n",
    "#remember how Python starts counting things at 0.\n",
    "#since the 2nd element (position 1 if we're counting like python) has a value of 1, we assign 1 to the variable cake\n",
    "challenge_array[1] = random_list[1]*1.5\n",
    "#so what this is saying is:\n",
    "#python will pull the second element from random_list then multiply it by 1.5\n",
    "#then it will assign the results of that to the second element of challenge_array\n",
    "\n",
    "#so it goes to the 3rd element\n",
    "cake = position_list[2]\n",
    "#remember how Python starts counting things at 0. so now we're at position_list[2] aka the 3rd element of position_list\n",
    "#since the 3rd element has a value of 2, we assign 2 to the variable cake\n",
    "challenge_array[2] = random_list[2]*1.5\n",
    "#so what this is saying is:\n",
    "#python will pull the third element from random_list then multiply it by 1.5\n",
    "#then it will assign the results of that to the third element of challenge_array\n",
    "\n",
    "#python will keep repeating this for each element of the position_list until there's no more elements\n",
    "#then the for loop will end"
   ]
  },
  {
   "cell_type": "markdown",
   "id": "0c3876ae-cc46-49a4-9fc6-6c93e77ca994",
   "metadata": {},
   "source": [
    "<h1 style=\"font-size: 40px; margin-bottom: 0px;\">Build upon previous values</h1>\n",
    "\n",
    "<hr style=\"margin-left: 0px; border: 0.25px solid; border-color: #000000; width: 600px;\"></hr>"
   ]
  },
  {
   "cell_type": "markdown",
   "id": "34486a5d-3455-41b4-ba94-2210611f55bb",
   "metadata": {},
   "source": [
    "By taking advantage of the position information of your arrays, you can set up for loops that take into account the previous output when generating each subsequent outputs. However, you will want to keep in mind how you are setting up your index to avoid creating an index that is too long for your array.\n",
    "\n",
    "See if you can below, write out a for loop where you add 20 to the element immediately preceding the current position, and have your final array contain 20 elements."
   ]
  },
  {
   "cell_type": "code",
   "execution_count": 58,
   "id": "e0dd57b7-9599-4280-949e-c3055f0974b8",
   "metadata": {},
   "outputs": [
    {
     "name": "stdout",
     "output_type": "stream",
     "text": [
      "[32.  0.  0.  0.  0.  0.  0.  0.  0.  0.  0.  0.  0.  0.  0.  0.  0.  0.\n",
      "  0.  0.]\n",
      "[32. 52.  0.  0.  0.  0.  0.  0.  0.  0.  0.  0.  0.  0.  0.  0.  0.  0.\n",
      "  0.  0.]\n",
      " \n",
      "[32. 52. 72.  0.  0.  0.  0.  0.  0.  0.  0.  0.  0.  0.  0.  0.  0.  0.\n",
      "  0.  0.]\n",
      " \n",
      "[32. 52. 72. 92.  0.  0.  0.  0.  0.  0.  0.  0.  0.  0.  0.  0.  0.  0.\n",
      "  0.  0.]\n",
      " \n",
      "[ 32.  52.  72.  92. 112.   0.   0.   0.   0.   0.   0.   0.   0.   0.\n",
      "   0.   0.   0.   0.   0.   0.]\n",
      " \n",
      "[ 32.  52.  72.  92. 112. 132.   0.   0.   0.   0.   0.   0.   0.   0.\n",
      "   0.   0.   0.   0.   0.   0.]\n",
      " \n",
      "[ 32.  52.  72.  92. 112. 132. 152.   0.   0.   0.   0.   0.   0.   0.\n",
      "   0.   0.   0.   0.   0.   0.]\n",
      " \n",
      "[ 32.  52.  72.  92. 112. 132. 152. 172.   0.   0.   0.   0.   0.   0.\n",
      "   0.   0.   0.   0.   0.   0.]\n",
      " \n",
      "[ 32.  52.  72.  92. 112. 132. 152. 172. 192.   0.   0.   0.   0.   0.\n",
      "   0.   0.   0.   0.   0.   0.]\n",
      " \n",
      "[ 32.  52.  72.  92. 112. 132. 152. 172. 192. 212.   0.   0.   0.   0.\n",
      "   0.   0.   0.   0.   0.   0.]\n",
      " \n",
      "[ 32.  52.  72.  92. 112. 132. 152. 172. 192. 212. 232.   0.   0.   0.\n",
      "   0.   0.   0.   0.   0.   0.]\n",
      " \n",
      "[ 32.  52.  72.  92. 112. 132. 152. 172. 192. 212. 232. 252.   0.   0.\n",
      "   0.   0.   0.   0.   0.   0.]\n",
      " \n",
      "[ 32.  52.  72.  92. 112. 132. 152. 172. 192. 212. 232. 252. 272.   0.\n",
      "   0.   0.   0.   0.   0.   0.]\n",
      " \n",
      "[ 32.  52.  72.  92. 112. 132. 152. 172. 192. 212. 232. 252. 272. 292.\n",
      "   0.   0.   0.   0.   0.   0.]\n",
      " \n",
      "[ 32.  52.  72.  92. 112. 132. 152. 172. 192. 212. 232. 252. 272. 292.\n",
      " 312.   0.   0.   0.   0.   0.]\n",
      " \n",
      "[ 32.  52.  72.  92. 112. 132. 152. 172. 192. 212. 232. 252. 272. 292.\n",
      " 312. 332.   0.   0.   0.   0.]\n",
      " \n",
      "[ 32.  52.  72.  92. 112. 132. 152. 172. 192. 212. 232. 252. 272. 292.\n",
      " 312. 332. 352.   0.   0.   0.]\n",
      " \n",
      "[ 32.  52.  72.  92. 112. 132. 152. 172. 192. 212. 232. 252. 272. 292.\n",
      " 312. 332. 352. 372.   0.   0.]\n",
      " \n",
      "[ 32.  52.  72.  92. 112. 132. 152. 172. 192. 212. 232. 252. 272. 292.\n",
      " 312. 332. 352. 372. 392.   0.]\n",
      " \n",
      "[ 32.  52.  72.  92. 112. 132. 152. 172. 192. 212. 232. 252. 272. 292.\n",
      " 312. 332. 352. 372. 392. 412.]\n",
      " \n"
     ]
    }
   ],
   "source": [
    "value_array = np.zeros(20)\n",
    "\n",
    "value_array[0] = 32 #we can tell python we want to set some value to our first element\n",
    "#kind of like saying we have the data for the first time point\n",
    "\n",
    "print(value_array)\n",
    "\n",
    "for cookie in np.arange(0, 19, 1): #note how the list we give python is specified. \n",
    "    #and look at the way we write our equation below\n",
    "    value_array[cookie + 1] = value_array[cookie] + 20\n",
    "    #since we are assigning the output TO THE NEXT ELEMENT of the value_array, i.e value_array[cookie + 1]\n",
    "    #the list that we give python needs to end ONE ELEMENT EARLIER\n",
    "    #otherwise when we reach the last element of our list\n",
    "    #we will assign it to a spot that doesn't exist in value_array\n",
    "    #so we get an out of bounds warning/error\n",
    "    print(value_array, end='\\n \\n')"
   ]
  },
  {
   "cell_type": "markdown",
   "id": "3417135e-ba84-4c9f-a8bf-b2cf72016dfc",
   "metadata": {},
   "source": [
    "<h1 style=\"font-size: 40px; margin-bottom: 0px;\">Provide an initial parameter</h1>\n",
    "\n",
    "<hr style=\"margin-left: 0px; border: 0.25px solid; border-color: #000000; width: 600px;\"></hr>"
   ]
  },
  {
   "cell_type": "markdown",
   "id": "7a29aa4f-edd0-456d-9d28-3b788bed7052",
   "metadata": {},
   "source": [
    "With for loops, you can also set up an initial parameter to specify the value of the first element. After you initialize your array to store your outputs, you can manually set the first element in the array to a desired initial value.\n",
    "```\n",
    "set_array = np.zeros(20)\n",
    "\n",
    "set_array[0] = 25\n",
    "```\n",
    "\n",
    "Try it out below and run the same for loop that you  used in the \"Build upon previous values\" section above."
   ]
  },
  {
   "cell_type": "code",
   "execution_count": null,
   "id": "bc53222f-9896-4b36-9ae6-c58685f01929",
   "metadata": {},
   "outputs": [],
   "source": [
    "#we set this one up earlier in the \"Build upon previous parameters\" section"
   ]
  },
  {
   "cell_type": "markdown",
   "id": "46365bca-8ef1-417f-ba32-7dc90248cfeb",
   "metadata": {},
   "source": [
    "You should see that now by providing the initial value, you can indicate to Python what the initial parameters are for your for the output data."
   ]
  },
  {
   "cell_type": "markdown",
   "id": "7ba812fe-4305-4f91-81ae-39c3038dc86d",
   "metadata": {},
   "source": [
    "<h2><u>Challenge:</u> Create a Fibonacci sequence using for loops</h2>"
   ]
  },
  {
   "cell_type": "markdown",
   "id": "13d89783-5158-44e3-9583-f22daf5b4a59",
   "metadata": {},
   "source": [
    "Using what you've learned so far, set up a for loop to create a Fibonacci sequence containing 20 elements, and plot the resulting array."
   ]
  },
  {
   "cell_type": "code",
   "execution_count": 63,
   "id": "a86f5a9c-7e47-435a-9c9b-c7ec2daf7562",
   "metadata": {},
   "outputs": [
    {
     "name": "stdout",
     "output_type": "stream",
     "text": [
      "[0. 0. 0. 0. 0. 0. 0. 0. 0. 0. 0. 0. 0. 0. 0. 0. 0. 0. 0. 0.]\n",
      "[1. 1. 0. 0. 0. 0. 0. 0. 0. 0. 0. 0. 0. 0. 0. 0. 0. 0. 0. 0.]\n",
      "[1. 1. 2. 0. 0. 0. 0. 0. 0. 0. 0. 0. 0. 0. 0. 0. 0. 0. 0. 0.]\n",
      " \n",
      "[1. 1. 2. 3. 0. 0. 0. 0. 0. 0. 0. 0. 0. 0. 0. 0. 0. 0. 0. 0.]\n",
      " \n",
      "[1. 1. 2. 3. 5. 0. 0. 0. 0. 0. 0. 0. 0. 0. 0. 0. 0. 0. 0. 0.]\n",
      " \n",
      "[1. 1. 2. 3. 5. 8. 0. 0. 0. 0. 0. 0. 0. 0. 0. 0. 0. 0. 0. 0.]\n",
      " \n",
      "[ 1.  1.  2.  3.  5.  8. 13.  0.  0.  0.  0.  0.  0.  0.  0.  0.  0.  0.\n",
      "  0.  0.]\n",
      " \n",
      "[ 1.  1.  2.  3.  5.  8. 13. 21.  0.  0.  0.  0.  0.  0.  0.  0.  0.  0.\n",
      "  0.  0.]\n",
      " \n",
      "[ 1.  1.  2.  3.  5.  8. 13. 21. 34.  0.  0.  0.  0.  0.  0.  0.  0.  0.\n",
      "  0.  0.]\n",
      " \n",
      "[ 1.  1.  2.  3.  5.  8. 13. 21. 34. 55.  0.  0.  0.  0.  0.  0.  0.  0.\n",
      "  0.  0.]\n",
      " \n",
      "[ 1.  1.  2.  3.  5.  8. 13. 21. 34. 55. 89.  0.  0.  0.  0.  0.  0.  0.\n",
      "  0.  0.]\n",
      " \n",
      "[  1.   1.   2.   3.   5.   8.  13.  21.  34.  55.  89. 144.   0.   0.\n",
      "   0.   0.   0.   0.   0.   0.]\n",
      " \n",
      "[  1.   1.   2.   3.   5.   8.  13.  21.  34.  55.  89. 144. 233.   0.\n",
      "   0.   0.   0.   0.   0.   0.]\n",
      " \n",
      "[  1.   1.   2.   3.   5.   8.  13.  21.  34.  55.  89. 144. 233. 377.\n",
      "   0.   0.   0.   0.   0.   0.]\n",
      " \n",
      "[  1.   1.   2.   3.   5.   8.  13.  21.  34.  55.  89. 144. 233. 377.\n",
      " 610.   0.   0.   0.   0.   0.]\n",
      " \n",
      "[  1.   1.   2.   3.   5.   8.  13.  21.  34.  55.  89. 144. 233. 377.\n",
      " 610. 987.   0.   0.   0.   0.]\n",
      " \n",
      "[1.000e+00 1.000e+00 2.000e+00 3.000e+00 5.000e+00 8.000e+00 1.300e+01\n",
      " 2.100e+01 3.400e+01 5.500e+01 8.900e+01 1.440e+02 2.330e+02 3.770e+02\n",
      " 6.100e+02 9.870e+02 1.597e+03 0.000e+00 0.000e+00 0.000e+00]\n",
      " \n",
      "[1.000e+00 1.000e+00 2.000e+00 3.000e+00 5.000e+00 8.000e+00 1.300e+01\n",
      " 2.100e+01 3.400e+01 5.500e+01 8.900e+01 1.440e+02 2.330e+02 3.770e+02\n",
      " 6.100e+02 9.870e+02 1.597e+03 2.584e+03 0.000e+00 0.000e+00]\n",
      " \n",
      "[1.000e+00 1.000e+00 2.000e+00 3.000e+00 5.000e+00 8.000e+00 1.300e+01\n",
      " 2.100e+01 3.400e+01 5.500e+01 8.900e+01 1.440e+02 2.330e+02 3.770e+02\n",
      " 6.100e+02 9.870e+02 1.597e+03 2.584e+03 4.181e+03 0.000e+00]\n",
      " \n",
      "[1.000e+00 1.000e+00 2.000e+00 3.000e+00 5.000e+00 8.000e+00 1.300e+01\n",
      " 2.100e+01 3.400e+01 5.500e+01 8.900e+01 1.440e+02 2.330e+02 3.770e+02\n",
      " 6.100e+02 9.870e+02 1.597e+03 2.584e+03 4.181e+03 6.765e+03]\n",
      " \n"
     ]
    }
   ],
   "source": [
    "#Initialize our array to hold our data\n",
    "Fib_array = np.zeros(20)\n",
    "print(Fib_array)\n",
    "\n",
    "Fib_array[0] = 1 #initialize our first datapoint\n",
    "Fib_array[1] = 1 #initialize our second datapoint b/c fibonacci seq is sum of previous two.\n",
    "print(Fib_array)\n",
    "\n",
    "for dinosaur in np.arange(0, len(Fib_array)-2, 1): #note how we provided our index for the for loop\n",
    "    #because we are assigning the output NOT to the current position Fib_array[dinosaur],\n",
    "    #NOT to the next position Fib_array[dinosaur + 1]\n",
    "    #BUT position after that Fib_array[dinosaur + 2]\n",
    "    #so our for loop's index needs to end 2 elements earlier!\n",
    "    Fib_array[dinosaur + 2] = Fib_array[dinosaur + 1] + Fib_array[dinosaur]\n",
    "    print(Fib_array, end='\\n \\n')"
   ]
  },
  {
   "cell_type": "markdown",
   "id": "4cbc5d04-df46-4c94-9b4a-013c1c2ab04b",
   "metadata": {},
   "source": [
    "<h2><u>Extra Challenge:</u> Set up a function to generate nominal data using what we've learned</h2>"
   ]
  },
  {
   "cell_type": "markdown",
   "id": "07cfb277-7928-4b99-9005-161f791b36e6",
   "metadata": {},
   "source": [
    "In this challenge, you'll combine what you've learned for both for loops and if-else statements to set up a function that will generate fake xenograft data. In this case, you'll be challenged to set up the function by making use of for loops and conditional statements as well as a random number generator. Challenge yourself to see if you can set up a function that requires <u>only a single parameter</u> and see how compact you can make the code.\n",
    "\n",
    "The goal is to generate a DataFrame that contains a random number of samples that are either labeled <mark style=\"background-color: #EEEEEE;\"><strong>'engrafted'</strong></mark> or <mark style=\"background-color: #EEEEEE;\"><strong>'not engrafted'</strong></mark>."
   ]
  },
  {
   "cell_type": "code",
   "execution_count": 64,
   "id": "ec65a1e8-15be-45c3-9bd9-7f470e24f065",
   "metadata": {},
   "outputs": [
    {
     "name": "stdout",
     "output_type": "stream",
     "text": [
      "                0\n",
      "0       engrafted\n",
      "1   not engrafted\n",
      "2       engrafted\n",
      "3   not engrafted\n",
      "4       engrafted\n",
      "5       engrafted\n",
      "6   not engrafted\n",
      "7       engrafted\n",
      "8       engrafted\n",
      "9       engrafted\n",
      "10  not engrafted\n",
      "11  not engrafted\n",
      "12  not engrafted\n",
      "13  not engrafted\n",
      "14  not engrafted\n",
      "15  not engrafted\n",
      "16  not engrafted\n",
      "17  not engrafted\n",
      "18      engrafted\n",
      "19  not engrafted\n"
     ]
    }
   ],
   "source": [
    "def xeno(N): #define a function\n",
    "    binary_dataset = np.random.randint(0, 2, N) #random binary generator (kind of)\n",
    "    data_holding = [0]*N #this time, we initialize a list but set it up to adapt to a parameter we can provide\n",
    "    for i in np.arange(0, N, 1): #start up our for loop in our function\n",
    "        if binary_dataset[i] == 0: #set a condition for which we determine if something is not engrafted (i.e. when our binary output is 0)\n",
    "            data_holding[i] = 'not engrafted'\n",
    "        else:                      #set the alternative\n",
    "            data_holding[i] = 'engrafted' \n",
    "    df_data = pd.DataFrame(data_holding) #convert our array into a dataframe\n",
    "    return df_data #have the function return the dataframe to us so we can assign it to a variable\n",
    "\n",
    "fake_data = xeno(20)\n",
    "print(fake_data)"
   ]
  },
  {
   "cell_type": "markdown",
   "id": "eac918e1-4771-4822-98af-ddb54a24d09b",
   "metadata": {},
   "source": [
    "<strong>Compare that to the code we used in our 2_2_Statistical_analysis notebook:</strong>"
   ]
  },
  {
   "cell_type": "code",
   "execution_count": null,
   "id": "0bff170e-3e34-4f13-a505-4363bb96516a",
   "metadata": {},
   "outputs": [],
   "source": [
    "#Set up a function to create a random nominal dataset:\n",
    "def nominal_gen(pos_label, neg_label, posmin=5, posmax=20, negmin=5, negmax=20, N=1):\n",
    "    \"\"\"Generate a Series populated with a random number of two label types\"\"\"\n",
    "    pos_group = str(pos_label) #we can even skip this if we just provide strings\n",
    "    neg_group = str(neg_label) #same for this\n",
    "    pos_list = pd.Series([pos_group]*(np.random.randint(posmin, posmax, N)[0])) #expand our list by some random number\n",
    "    neg_list = pd.Series([neg_group]*(np.random.randint(negmin, negmax, N)[0]))\n",
    "    data = pd.concat([pos_list, neg_list], ignore_index=True) #stick the two lists together\n",
    "    return data #output the dataframe"
   ]
  }
 ],
 "metadata": {
  "kernelspec": {
   "display_name": "Python [conda env:root] *",
   "language": "python",
   "name": "conda-root-py"
  },
  "language_info": {
   "codemirror_mode": {
    "name": "ipython",
    "version": 3
   },
   "file_extension": ".py",
   "mimetype": "text/x-python",
   "name": "python",
   "nbconvert_exporter": "python",
   "pygments_lexer": "ipython3",
   "version": "3.11.0"
  }
 },
 "nbformat": 4,
 "nbformat_minor": 5
}
