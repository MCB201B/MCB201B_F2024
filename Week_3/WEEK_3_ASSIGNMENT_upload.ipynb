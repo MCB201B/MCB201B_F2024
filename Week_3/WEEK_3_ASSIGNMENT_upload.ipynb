{
 "cells": [
  {
   "cell_type": "markdown",
   "id": "ebccaee1-ef57-4575-9cbd-1189337ac83e",
   "metadata": {},
   "source": [
    "<h1 style=\"font-size: 40px; margin-bottom: 0px;\">Week 3 Assignment</h1>\n",
    "\n",
    "<hr style=\"margin-left: 0px; border: 0.25px solid; border-color: #000000; width: 600px;\"></hr>"
   ]
  },
  {
   "cell_type": "markdown",
   "id": "34b18164-08cd-4aa9-ac83-38892e2ffcda",
   "metadata": {},
   "source": [
    "<strong><u>Due: Saturday, September 21 at 11:59PM</u></strong>\n",
    "\n",
    "<strong><u>Total points: 5 pts</u></strong>\n",
    "\n",
    "<strong><u>To turn in your assignment:</u></strong>\n",
    "<ol>\n",
    "    <li>Complete assignment and make sure you have all the outputs requested for the notebook</li>\n",
    "    <li>Go to your server's file directory and locate your completed notebook file</li>\n",
    "    <li>Right click and select <strong>Download</strong> to download your completed notebook and <u>the PDF of your growth curve plot</u></li>\n",
    "    <li>Navigate to lab class <u><strong><a href=\"https://drive.google.com/drive/folders/1Limmo19dvhZz3qIaDDSnuSrl44yTiHUd?usp=sharing\" rel=\"noopener noreferrer\" target=\"_blank\">Google Drive</a></strong></u></li>\n",
    "    <li>Find your individual folder in the <strong>Assignment Submission folder</strong></li>\n",
    "    <li>Upload your completed notebook and <u>the PDF of your growth curve plot</u></li>\n",
    "</ol>\n",
    "\n",
    "<strong><u>How this assignment will be graded:</u></strong>\n",
    "\n",
    "You will be graded on whether or not your output is correct. You will also be graded on if your code is able to run without errors. There can be more than one correct way to answer a question. If you find that you prefer to separate your answer for a single question into multiple code cells, feel free to do so.\n",
    "<hr style=\"margin-left: 0px; border: 0.25px solid; border-color: #000000; width: 600px;\"></hr>"
   ]
  },
  {
   "cell_type": "markdown",
   "id": "712385a6-bf2c-4c7f-a573-2575d7c357ae",
   "metadata": {},
   "source": [
    "<h2>Question 1</h2>"
   ]
  },
  {
   "cell_type": "markdown",
   "id": "b72f6642-8454-49fd-a348-150a07c8d78d",
   "metadata": {},
   "source": [
    "Ungraded"
   ]
  },
  {
   "cell_type": "markdown",
   "id": "d30f1991-d7c1-4776-99f7-64a22c7394c1",
   "metadata": {},
   "source": [
    "This question is ungraded and is here for you to get the needed data files for ChIP-seq analysis (and one genomics viewer program). There are multiple files, all of which are quite large, so it will take a bit of time to download it all and to get it uploaded to your DataHub server. Please have your data files ready by the time we start our ChIP-seq analysis.\n",
    "\n",
    "This same information is also on our bCourses page \"ChIP-seq data download information\" if you don't want to have to keep coming back to DataHub to find the links.\n",
    "\n",
    "We will be analyzing the raw ChIP-seq data from <a href=\"https://pubmed.ncbi.nlm.nih.gov/26258633/\" rel=\"noopener noreferrer\" target=\"_blank\"><u>Zanconato et al 2015 Nat Cell Biol</u></a>, specifically looking at their TAZ (and control) datasets.\n",
    "\n",
    "Please use the following links to find and download the sequencing files associated with this publication. There will be an option to download either as a FASTQ file or as a FASTA file. Please download the sequence files as a FASTQ file.\n",
    "\n",
    "<h2>There are 5 replicates for their control (IgG) ChIP-seq,</br>\n",
    "    but we will be analyzing just two of them:</h2>\n",
    "<ul>\n",
    "    <li><a href=\"https://trace.ncbi.nlm.nih.gov/Traces/?view=run_browser&acc=SRR1810912&display=download\" rel=\"noopener noreferrer\" target=\"_blank\"><u>SRX883580</u></a> - contains 3 data files</li>\n",
    "    <ul>\n",
    "        <li>SRR1810912</li>\n",
    "        <li>SRR1810913</li>\n",
    "        <li>SRR1810914</li>\n",
    "    </ul>\n",
    "    <li><a href=\"https://trace.ncbi.nlm.nih.gov/Traces/?view=run_browser&acc=SRR1810925&display=download\" rel=\"noopener noreferrer\" target=\"_blank\"><u>SRX883586</u></a> - contains 2 data files</li>\n",
    "    <ul>\n",
    "        <li>SRR1810925</li>\n",
    "        <li>SRR1810926</li>\n",
    "    </ul>\n",
    "</ul>\n",
    "\n",
    "<h2>There are two replicates for their TAZ ChIP-seq:</h2>\n",
    "<ul>\n",
    "    <li><a href=\"https://trace.ncbi.nlm.nih.gov/Traces/?view=run_browser&acc=SRR1810906&display=download\" rel=\"noopener noreferrer\" target=\"_blank\"><u>SRX883578</u></a> - contains 3 data files</li>\n",
    "    <ul>\n",
    "        <li>SRR1810906</li>\n",
    "        <li>SRR1810907</li>\n",
    "        <li>SRR1810908</li>\n",
    "    </ul>\n",
    "    <li><a href=\"https://trace.ncbi.nlm.nih.gov/Traces/?view=run_browser&acc=SRR1810909&display=download\" rel=\"noopener noreferrer\" target=\"_blank\"><u>SRX883579</u></a> - contains 3 data files</li>\n",
    "    <ul>\n",
    "        <li>SRR1810909</li>\n",
    "        <li>SRR1810910</li>\n",
    "        <li>SRR1810911</li>\n",
    "    </ul>\n",
    "</ul>\n",
    "\n",
    "<h2>Download the Interactive Genomics Viewer (IGV)</h2>\n",
    "\n",
    "<a href=\"https://www.broadinstitute.org/igv/\" rel=\"noopener noreferrer\" target=\"_blank\"><u>You can find the download for IGV here.</u></a> The IGV was developed by the Broad Institute. On the left hand side of the page, there should be a Downloads link. Navigate to the Downloads page, and install IGV onto your computer. "
   ]
  },
  {
   "cell_type": "markdown",
   "id": "98edfedd-338c-47ae-aecd-1dfbdcaf2f31",
   "metadata": {},
   "source": [
    "<h2>Question 2</h2>"
   ]
  },
  {
   "cell_type": "markdown",
   "id": "a37a7c13-d69e-4ff6-9dee-4c815b738842",
   "metadata": {},
   "source": [
    "2 pts"
   ]
  },
  {
   "cell_type": "markdown",
   "id": "d3886110-ec13-481e-bcd4-ad30947e4f64",
   "metadata": {},
   "source": [
    "1 point for creating a working function. 1 point for making a dataframe and displaying the first five rows."
   ]
  },
  {
   "cell_type": "markdown",
   "id": "dfa87098-0b20-415f-8b30-ec6f10b6a5ea",
   "metadata": {},
   "source": [
    "Set up a function that will output two arrays of data corresponding to the number of bacteria at time=t with the following parameters:\n",
    "<ul>\n",
    "    <li>starting population of bacteria: 10 bacteria</li>\n",
    "    <li>rate of division:</li>\n",
    "    <ul>\n",
    "        <li>Boring old control bacteria: np.random.normal(0.2, 0.05) min<sup>-1</sup></li>\n",
    "        <li>Super top-secret bacteria #562051: np.random.normal(0.5, 0.1) min<sup>-1</sup></li>\n",
    "    </ul>\n",
    "    <li>starting timepoint: 0 min</li>\n",
    "    <li>final timepoint: 125 min</li>\n",
    "    <li>time interval: 0.05 min</li>\n",
    "    <li>Carrying capacity: 100,000 bacteria</li>\n",
    "</ul>\n",
    "\n",
    "Run your function to generate 6 control arrays and 6 top-secret arrays, and set up a DataFrame for your control bacteria, and a DataFrame for your top-secret bacteria. Output out a stylized table of <u>the first five rows</u> for your two DataFrames."
   ]
  },
  {
   "cell_type": "code",
   "execution_count": null,
   "id": "2a7e78f4-5b41-4919-baac-1bff60d1f594",
   "metadata": {},
   "outputs": [],
   "source": []
  },
  {
   "cell_type": "markdown",
   "id": "3c686739-5f40-4535-9b3d-c1fb175cca23",
   "metadata": {},
   "source": [
    "<h2>Question 3</h2>"
   ]
  },
  {
   "cell_type": "markdown",
   "id": "804e4910-7e5f-4dc7-b2aa-36495745787f",
   "metadata": {},
   "source": [
    "2 pts"
   ]
  },
  {
   "cell_type": "markdown",
   "id": "9f21d800-6eb4-4152-bbf4-f8ee5141bd7a",
   "metadata": {},
   "source": [
    "1 pt for creating plot. 1 pt for exporting plot as PDF (and submitting the PDF to Google Drive folder)."
   ]
  },
  {
   "cell_type": "markdown",
   "id": "2a0b56d5-1d9d-47f6-831c-1222685d866c",
   "metadata": {},
   "source": [
    "Using your datasets from Question 2, plot (on a linear y-axis) all the growth curves on a single plot. Make sure your plots include the following:\n",
    "<ul>\n",
    "    <li>Y-axis on a linear scale</li>\n",
    "    <li>Legend</li>\n",
    "    <li>Y-axis label</li>\n",
    "    <li>X-axis label</li>\n",
    "    <li>Y-axis and X-axis that starts from 0 at the bottom left corner</li>\n",
    "    <li>Despined plot</li>\n",
    "</ul>\n",
    "\n",
    "Adjust the figure size and figure resolution to your liking, then export your plot as a PDF and upload your PDF file to your Assignment Submission folder."
   ]
  },
  {
   "cell_type": "code",
   "execution_count": null,
   "id": "f3673e9d-3fc6-4a72-beb7-64cd3b5f71d5",
   "metadata": {},
   "outputs": [],
   "source": []
  },
  {
   "cell_type": "markdown",
   "id": "0391f54f-55e8-4b77-bec7-e57af974c3bf",
   "metadata": {},
   "source": [
    "<h2>Question 4</h2>"
   ]
  },
  {
   "cell_type": "markdown",
   "id": "da3b2181-0f68-4c06-9a4d-09fc5d5b487d",
   "metadata": {},
   "source": [
    "1pt"
   ]
  },
  {
   "cell_type": "markdown",
   "id": "2f7af329-eadb-4136-8e4c-88f96638e4bc",
   "metadata": {},
   "source": [
    "Calculate the mean number of bacteria at t=60 min for control bacteria and the super top-secret bacteria. Identify an appropriate statistical test to determine if there's a difference in the number of bacteria at t=60min between your control and top-secret groups."
   ]
  },
  {
   "cell_type": "code",
   "execution_count": null,
   "id": "a52616a6-01d5-4f03-b3e9-6a5e99625c41",
   "metadata": {},
   "outputs": [],
   "source": []
  }
 ],
 "metadata": {
  "kernelspec": {
   "display_name": "Python [conda env:root] *",
   "language": "python",
   "name": "conda-root-py"
  },
  "language_info": {
   "codemirror_mode": {
    "name": "ipython",
    "version": 3
   },
   "file_extension": ".py",
   "mimetype": "text/x-python",
   "name": "python",
   "nbconvert_exporter": "python",
   "pygments_lexer": "ipython3",
   "version": "3.11.0"
  }
 },
 "nbformat": 4,
 "nbformat_minor": 5
}
