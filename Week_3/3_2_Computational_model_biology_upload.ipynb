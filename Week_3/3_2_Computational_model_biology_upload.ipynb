{
 "cells": [
  {
   "cell_type": "markdown",
   "id": "0f32fbc0-fb2c-4855-b0f1-d369afa83545",
   "metadata": {},
   "source": [
    "<h1 style=\"font-size: 40px; margin-bottom: 0px;\">3.2 Modeling biological phenomena (Part II)</h1>\n",
    "\n",
    "<hr style=\"margin-left: 0px; border: 0.25px solid; border-color: #000000; width: 800px;\"></hr>"
   ]
  },
  {
   "cell_type": "markdown",
   "id": "ccc18a38-0821-405c-944a-017e593661b7",
   "metadata": {},
   "source": [
    "Now that we've learned the basics of how to set up for loops, we can begin using what we've learned to set up computational simulations that can be used to predict how dynamic processes change with respect to time or with respect to some independent variable.\n",
    "\n",
    "Like with physics, when we set up computational models, we will start off with a set of assumptions to keep things simple, and we can then begin building on our model and add complexity to it.\n",
    "\n",
    "<strong>Learning objectives:</strong>\n",
    "<ul>\n",
    "    <li>Solve mathematical equations using for loops</li>\n",
    "    <li>Plot the resulting solution</li>\n",
    "    <li>Translate descriptive statement of a biological phenomena into a mathematical expression</li>\n",
    "    <li>Solve the mathematical expression using Python to simulate some dynamic process</li>\n",
    "    <li>Plot the results of the simulation</li>\n",
    "</ul>"
   ]
  },
  {
   "cell_type": "code",
   "execution_count": null,
   "id": "13cd5432-e4f7-4caa-a4e8-f8702bae4949",
   "metadata": {},
   "outputs": [],
   "source": []
  },
  {
   "cell_type": "markdown",
   "id": "680d5484-cd3c-4287-b809-d1e0d829cd07",
   "metadata": {},
   "source": [
    "<h1 style=\"font-size: 40px; margin-bottom: 0px;\">Quick review on for loops</h1>\n",
    "\n",
    "<hr style=\"margin-left: 0px; border: 0.25px solid; border-color: #000000; width: 800px;\"></hr>"
   ]
  },
  {
   "cell_type": "markdown",
   "id": "2be4a762-94e4-4623-9e40-09ab71331e30",
   "metadata": {},
   "source": [
    "Recall that for loops repeat an operation as Python works its way through a list or other iterable object, such as an array. While yesterday the index we passed to the for loop was in numerical order starting from 0, the iterable object does not need to be in numerical order or even be a number. For example, we can pass it objects of different data types, and Python will still proceed with the for loop. "
   ]
  },
  {
   "cell_type": "code",
   "execution_count": null,
   "id": "289f2851-bbba-49bc-8625-44fd89fa74d9",
   "metadata": {},
   "outputs": [],
   "source": []
  },
  {
   "cell_type": "markdown",
   "id": "eb8753e6-4f4c-4e59-a8ba-90c906c4a21f",
   "metadata": {},
   "source": [
    "So all Python is doing is starting at the first position, then one object at a time, working its way through the list you give it."
   ]
  },
  {
   "cell_type": "markdown",
   "id": "a2cba3a4-64fe-46aa-ba23-32e245b30a85",
   "metadata": {},
   "source": [
    "<h1 style=\"font-size: 40px; margin-bottom: 0px;\">Solving math equations with for loops</h1>\n",
    "\n",
    "<hr style=\"margin-left: 0px; border: 0.25px solid; border-color: #000000; width: 800px;\"></hr>"
   ]
  },
  {
   "cell_type": "markdown",
   "id": "8488a251-255b-4c25-9cd3-718d1406549a",
   "metadata": {},
   "source": [
    "Because for loops repeatedly perform a set operation through a defined index, we can use it to solve mathematical equations (over a defined interval). \n",
    "\n",
    "To illustrate this, we can take the equation for a straight line, and turn it into a for loop in Python. \n",
    "```\n",
    "y = m*x + b\n",
    "```\n",
    "\n",
    "Another way to write this out is that we are interested in **y** as a function of **x**. In other words:\n",
    "```\n",
    "y(x) = m*x + b\n",
    "```\n",
    "Where in this case, the **y(x)** denotes y of x.\n",
    "\n",
    "So when we're solving this equation mathematically, we're essentially calculating all the resulting y values for our x values, repeating the calculations over and over again for each x value.\n",
    "\n",
    "That sounds an awful lot like a for loop, where we are repeatedly assigning an output to **y** after performing the mathematical operation **(m times x) plus b** for a list of given values of **x**. Since **m** and **b** are constant, those can be variables that we either define before initiating the for loop or just given their values within the for loop. At it's simplest, the values of **x** can be the values of a for loop index (the iterable object that we provide to the for loop).\n",
    "\n",
    "Translating this to something Python can understand a bit better:\n",
    "```\n",
    "m = slope\n",
    "b = y_intercept\n",
    "y = initialized_array\n",
    "\n",
    "for x in np.arange(start, len(y), 1):\n",
    "     y[x] = m*x + b\n",
    "```\n"
   ]
  },
  {
   "cell_type": "markdown",
   "id": "f93de7fd-1d0e-4126-9af3-4aa0ba26d4aa",
   "metadata": {},
   "source": [
    "Give it a try below to have Python solve a linear expression:"
   ]
  },
  {
   "cell_type": "code",
   "execution_count": null,
   "id": "f83d7f9b-cc4d-41c8-8ebb-1025cb64e36b",
   "metadata": {},
   "outputs": [],
   "source": []
  },
  {
   "cell_type": "markdown",
   "id": "2fd47a65-e1a7-4058-ac2d-5019619550e8",
   "metadata": {},
   "source": [
    "And then once you have the resulting data, try to have Python plot it out. Does it look as you would expect?"
   ]
  },
  {
   "cell_type": "code",
   "execution_count": null,
   "id": "f31549de-2d7e-42f3-9b0f-8d21262a312f",
   "metadata": {},
   "outputs": [],
   "source": []
  },
  {
   "cell_type": "markdown",
   "id": "e2f41c96-801e-4571-bb62-d5ff5a6d8e28",
   "metadata": {},
   "source": [
    "<h1 style=\"font-size: 40px; margin-bottom: 0px;\">Exercise #1: Solve a polynomial</h1>\n",
    "\n",
    "<hr style=\"margin-left: 0px; border: 0.25px solid; border-color: #000000; width: 600px;\"></hr>"
   ]
  },
  {
   "cell_type": "markdown",
   "id": "7932b1c5-63b7-4108-b5d0-dfbbff9ef168",
   "metadata": {},
   "source": [
    "For this exercise, try to see if you can use for loops to get Python to solve a polynomial equation and plot the resulting output.\n",
    "```\n",
    "y = Ax**n + Bx**n-1 + ... + Z\n",
    "```\n",
    "\n",
    "Feel free to make it as simple or as complicated of a polynomial as you want to see how Python handles it."
   ]
  },
  {
   "cell_type": "code",
   "execution_count": null,
   "id": "c8e00481-0031-49a8-8634-c0d1a34cb48b",
   "metadata": {},
   "outputs": [],
   "source": []
  },
  {
   "cell_type": "markdown",
   "id": "276fba5a-d04c-4823-8f02-c5f12827250e",
   "metadata": {},
   "source": [
    "Let's also take a look at the resulting plot. Does it looks like what you would expect?"
   ]
  },
  {
   "cell_type": "code",
   "execution_count": null,
   "id": "e3d2732e-d5d2-4cb8-8347-b5f14989ce65",
   "metadata": {},
   "outputs": [],
   "source": []
  },
  {
   "cell_type": "markdown",
   "id": "1b331132-1053-4ed4-8c17-128b53f7fe02",
   "metadata": {},
   "source": [
    "<h2><u>Challenge:</u> Solve your polynomial expression for negative values of x</h2>"
   ]
  },
  {
   "cell_type": "markdown",
   "id": "28cfe480-b8c5-407e-bafe-eb4c93a2280a",
   "metadata": {},
   "source": [
    "What you've probably noticed is that so far, we've been solving only for positive values of **x**, but as we know, for mathematical expressions, **x** can also be negative. \n",
    "\n",
    "For the challenge, see if you can get Python to solve your polynomial for both positive and negative values of **x**. You may need to make use of a concept that we learned during yesterday's lesson, so feel free to take a look at yesterday's notebook to see what type of approach will work best."
   ]
  },
  {
   "cell_type": "code",
   "execution_count": null,
   "id": "5f707f27-8696-4768-81be-a4b90665dce4",
   "metadata": {},
   "outputs": [],
   "source": []
  },
  {
   "cell_type": "markdown",
   "id": "2699c29e-64e3-4403-b73a-47810c0d1151",
   "metadata": {},
   "source": [
    "Now plot your polynomial. Do you see what you expect to see?"
   ]
  },
  {
   "cell_type": "code",
   "execution_count": null,
   "id": "8f3fc743-074d-4e98-b7ad-ee6f7de07c38",
   "metadata": {},
   "outputs": [],
   "source": []
  },
  {
   "cell_type": "markdown",
   "id": "2c09a270-aef4-4192-b3f5-fc961ec177d1",
   "metadata": {},
   "source": [
    "You'll likely see that the spines of the axes are still along the border of the plot. To adjust the position of the spines, you can set up your figure as follows:\n",
    "```\n",
    "fig, ax = plt.subplots()\n",
    "\n",
    "plt.plot(x_values, y_values)\n",
    "\n",
    "ax.spines[['left', 'bottom']].set_position('zero')\n",
    "sns.despine()\n",
    "```\n",
    "You'll want to set up your figure using the standard <mark style=\"background-color: #EEEEEE;\"><strong>fig, ax = plt.subplots()</strong></mark> set up, so that way you can pull out specific attributes of your plot and figure more easily to make modifications. In this case, we are pulling out the spines associated with the left and bottom borders of our plot and telling Python to set their positions to the (0,0) position of the plot. That way, our polynomial expression is plotted on a graph that is more familiar to us."
   ]
  },
  {
   "cell_type": "code",
   "execution_count": null,
   "id": "5308c345-292c-468f-9af2-f8d81167afe9",
   "metadata": {},
   "outputs": [],
   "source": []
  },
  {
   "cell_type": "markdown",
   "id": "ad18e39e-bdfb-4403-8069-f406cf3d53a6",
   "metadata": {},
   "source": [
    "<h1 style=\"font-size: 40px; margin-bottom: 0px;\">Simulating a dynamic process over time</h1>\n",
    "\n",
    "<hr style=\"margin-left: 0px; border: 0.25px solid; border-color: #000000; width: 600px;\"></hr>"
   ]
  },
  {
   "cell_type": "markdown",
   "id": "6cfd4eab-9094-464e-b78a-c864aa088efe",
   "metadata": {},
   "source": [
    "Now that we have a better understanding of how to use for loops to solve equations, such as a polynomial, we can begin to apply our knowledge to simulating dynamic processes. For today's lesson, we'll expand on what we've learned in lecture, where we translated a basic descsriptive statement of bacterial growth into a mathematical expression.\n",
    "```\n",
    "The change in the number of bacteria over some period of time is dependent on the number of bacteria that actually divide.\n",
    "```\n",
    "So translating this into a mathematical expression:\n",
    "<ul>\n",
    "    <li>The change in the number of bacteria <strong>dN</strong> over some period of time <strong>dt</strong>, which is just <strong>dN/dt</strong></li>\n",
    "    <li>is dependent on, which is like saying <strong>&equals;</strong></li>\n",
    "    <li>the number of bacteria that actually divide - which we determined to be dependent on:</li>\n",
    "    <ul>\n",
    "        <li>the number of bacteria present at some time point <strong>N(t)</strong></li>\n",
    "        <li>the average rate of division <strong>r</strong></li>\n",
    "    </ul>\n",
    "</ul>\n",
    "\n",
    "The above statement can be rewritten into:\n",
    "```\n",
    "dN/dt = N(t)*r\n",
    "```\n",
    "Which gives us an equation that we can rewrite into:\n",
    "```\n",
    "N(t + dt) = N(t) + N(t)*r*dt\n",
    "```\n",
    "This equation now tells us that the number of bacteria after some time **N(t + dt)**, can be calculated by taking into account the number of bacteria at the onset **N(t)** and their rate of division **r** and how much time passed **dt**. \n",
    "\n",
    "And this set up seems again awfully similar to a for loop. Let's compare it to our linear equation from earlier:\n",
    "```\n",
    "y(x) = m*x + b\n",
    "```\n",
    "We were able to translate our linear expression into something Python can interpret <mark style=\"background-color: #EEEEEE;\"><strong>y[x] = m*x + b</strong></mark> and we can do the same with our equation for bacterial growth:\n",
    "```\n",
    "N[t + dt] = N[t] + N[t]*r*dt\n",
    "```\n",
    "So we can set some values to be defined beforehand. Notably, we'll need to decide how long we'll let our *in silico* bacteria to divide <mark style=\"background-color: #EEEEEE;\"><strong>t_max</strong></mark>, and we'll need to decide on how often we want to check in on our *in silico* bacteria <mark style=\"background-color: #EEEEEE;\"><strong>dt</strong></mark>. Then, we can consider the parameters of our bacteria, specifically the starting number of bacteria <mark style=\"background-color: #EEEEEE;\"><strong>N[0]</strong></mark> and their average rate of division <mark style=\"background-color: #EEEEEE;\"><strong>r</strong></mark>. Our set up for our for loop will then look something like:\n",
    "```\n",
    "t_max = 200 #min\n",
    "dt = 1 #min\n",
    "N = np.zeros(t_max/dt)\n",
    "N[0] = starting_population_of_bacteria\n",
    "r = avg_rate_division\n",
    "```\n",
    "Then we can set up our for loop to solve our mathematical expression for bacterial growth given these parameters.\n",
    "```\n",
    "for t in np.arange(0, t_max - dt, dt):\n",
    "     N[t + dt] = N[t] + N[t]*r*dt\n",
    "```"
   ]
  },
  {
   "cell_type": "markdown",
   "id": "228f50b7-e139-491f-9cd1-3b391f21a63c",
   "metadata": {},
   "source": [
    "<h1 style=\"font-size: 40px; margin-bottom: 0px;\">Exercise #2: Model exponential growth</h1>\n",
    "\n",
    "<hr style=\"margin-left: 0px; border: 0.25px solid; border-color: #000000; width: 800px;\"></hr>"
   ]
  },
  {
   "cell_type": "markdown",
   "id": "6631a47a-eecd-4e19-beba-c3482621b8c8",
   "metadata": {},
   "source": [
    "See if you can apply what you've learned to simulate an exponential growth curve below:"
   ]
  },
  {
   "cell_type": "code",
   "execution_count": null,
   "id": "0b54bfd7-58c8-4373-8eab-a6baa60bc37a",
   "metadata": {},
   "outputs": [],
   "source": []
  },
  {
   "cell_type": "markdown",
   "id": "4cee088d-20f6-4db6-81c3-0b44f4ce86e5",
   "metadata": {},
   "source": [
    "You can see that it's exponential growth, so let's plot it with a y-axis set to log scale, and if it is truly exponential, then we should see that the curve should be linear when we set the Y-axis scale to a log-scale.\n",
    "```\n",
    "plt.yscale('log')\n",
    "```"
   ]
  },
  {
   "cell_type": "code",
   "execution_count": null,
   "id": "bed0d4c3-a53a-4c19-ab00-99c5832f9cc2",
   "metadata": {},
   "outputs": [],
   "source": []
  },
  {
   "cell_type": "markdown",
   "id": "9842eaf6-46f3-4028-b9be-f3170d96c81e",
   "metadata": {},
   "source": [
    "<h1 style=\"font-size: 40px; margin-bottom: 0px;\">Exercise #3: Adjusting simulation parameters</h1>\n",
    "\n",
    "<hr style=\"margin-left: 0px; border: 0.25px solid; border-color: #000000; width: 800px;\"></hr>"
   ]
  },
  {
   "cell_type": "markdown",
   "id": "8635d6f6-e39b-4d5f-892a-8c9fae7c3758",
   "metadata": {},
   "source": [
    "For this first exercise, see if you can set up a function that will allow you to play around with the parameters for the for loop that you set up to simulate the exponential phase of bacterial growth. In this case, to keep things simple you can keep the <mark style=\"background-color: #EEEEEE;\"><strong>dt</strong></mark> and <mark style=\"background-color: #EEEEEE;\"><strong>t_max</strong></mark> constant for all your trials. Have the results from the different runs in different arrays, so you can plot the resulting growth curves on top of one another to compare how they look when different parameters are changed."
   ]
  },
  {
   "cell_type": "code",
   "execution_count": null,
   "id": "53850ad9-3a76-475d-a823-e5e7cf19e742",
   "metadata": {},
   "outputs": [],
   "source": []
  },
  {
   "cell_type": "markdown",
   "id": "206759f5-9a1e-4858-b039-72317c761e55",
   "metadata": {},
   "source": [
    "Once you have your samples, lets plot them all on the same plot."
   ]
  },
  {
   "cell_type": "code",
   "execution_count": null,
   "id": "a1bc09ef-3693-47e7-a06b-f758c05c11de",
   "metadata": {},
   "outputs": [],
   "source": []
  },
  {
   "cell_type": "markdown",
   "id": "0ca1f343-94aa-42bf-974f-4ecdf79ea3fa",
   "metadata": {},
   "source": [
    "<h2><u>Challenge:</u> Change time step size (dt) parameter in your simulation</h2>"
   ]
  },
  {
   "cell_type": "markdown",
   "id": "3d2557f8-9a95-4de9-9e03-05300b91e384",
   "metadata": {},
   "source": [
    "Try to change the time step size parameter **dt** in the original for loop that we set up for bacterial growth. You'll likely encounter an error because we cannot use decimals to specify positions in our array, or you'll notice that your for loop is now skipping positions when populating your array with the results. See if you can make adjustments to how the for loop is set up so that you can change **dt** and still use your for loop."
   ]
  },
  {
   "cell_type": "code",
   "execution_count": null,
   "id": "978271c5-adee-47c2-875f-73234e483c57",
   "metadata": {},
   "outputs": [],
   "source": []
  },
  {
   "cell_type": "code",
   "execution_count": null,
   "id": "a322cfb3-99f5-4694-982e-054274302d92",
   "metadata": {},
   "outputs": [],
   "source": []
  },
  {
   "cell_type": "markdown",
   "id": "9384ffe9-5a8d-45ab-bbb7-2bdb7553e5a3",
   "metadata": {},
   "source": [
    "Which one is more reflective of real biology? Our rate of division has not been changed, only our dt. Yet from our simulation, we now see that there's a difference in the number of bacteria. From what we know, if our rate of division and our number of starting bacteria is unchanged, it shouldn't matter how often we take a timepoint. But in our computational simulations, we can see that it makes a difference in our calculations."
   ]
  },
  {
   "cell_type": "markdown",
   "id": "46cdff14-bda6-4a30-81b3-0d01fbc88136",
   "metadata": {},
   "source": [
    "<h2>dt error (integration errors) and considerations for dt or step size in these simulations</h2>"
   ]
  },
  {
   "cell_type": "markdown",
   "id": "a19136db-0905-4ffe-93cc-7d09bca6e60b",
   "metadata": {},
   "source": [
    "This sort of issue that we're seeing, which is an issue for computational simulations, is called an integration error or dt error. Because our computer simulation can only perform a finite number of calculations, it can only sample at discrete intervals, which means it will be an estimation that is dependent on our step size (dt in this case). Think back to calculus and Riemann's sums, and how the iterval affects the accuracy of your estimation. \n",
    "\n",
    "Unlike the mathematical expressions that we worked with at the start of today's lesson, the calculation at each time point is dependent on the results of the previous time point, which means that differences in sampling intervals will affect the simulation. So far, we've kept our dt equal to 1 in our simulations, which helps keep things neat for how we set up our for loop and the index that it will iterate through. But is this accurate?When setting up simulations, you need to consider the effect of your step size on your simulation because like how the interval size for a Riemann's sum affects how accurately it estimates a continuous interval, your step size will also affect your model's ability to simulate real-world processes.\n",
    "\n",
    "Generally, you don't want a step that is too small, which can slow down your simulations because you are performing too many calculations that don't really reduce the error of your model in a meaningful way, and you don't want a step size that is too large, which could lead to undersampling. And a helpful rule of thumb is to keep halving your dt until your simulation estimatations remain roughly the same, within some acceptable error."
   ]
  },
  {
   "cell_type": "markdown",
   "id": "5e49d487-cdc3-4322-b95f-a1324b0e3a32",
   "metadata": {},
   "source": [
    "<h2>Guided: Determining an appropriate dt</h2>"
   ]
  },
  {
   "cell_type": "code",
   "execution_count": null,
   "id": "c9841ebc-f25a-45b8-9eb5-5379969594b3",
   "metadata": {},
   "outputs": [],
   "source": []
  },
  {
   "cell_type": "code",
   "execution_count": null,
   "id": "1387800a-2e2b-4328-a68b-30421f47eacb",
   "metadata": {},
   "outputs": [],
   "source": []
  },
  {
   "cell_type": "markdown",
   "id": "06037fe7-e8e3-4fc9-b926-bd941e5968d3",
   "metadata": {},
   "source": [
    "<h1 style=\"font-size: 40px; margin-bottom: 0px;\">Exercise #4: Model logistic growth</h1>\n",
    "\n",
    "<hr style=\"margin-left: 0px; border: 0.25px solid; border-color: #000000; width: 700px;\"></hr>"
   ]
  },
  {
   "cell_type": "markdown",
   "id": "d16b35dd-9d9b-41cd-b0f7-3b7e54acd082",
   "metadata": {},
   "source": [
    "Let's try to simulate what happens when the environment that our *in silico* bacteria has a carrying capacity **K**, which dynamically affects the rate of bacterial proliferation, with reduced rates of proliferation as the population reaches the carrying capacity.\n",
    "\n",
    "We know from Verhulst that logistic growth can be modeled with the following differential equation:\n",
    "```\n",
    "dN/dt = N(t)*r*(1- N(t)/K)\n",
    "```\n",
    "\n",
    "See if you can figure out how to translate this differential equation into an expression that we can use to model logistic growth of our bacteria."
   ]
  },
  {
   "cell_type": "code",
   "execution_count": null,
   "id": "448735af-4359-4347-8c5a-d95a34c81d56",
   "metadata": {},
   "outputs": [],
   "source": []
  },
  {
   "cell_type": "markdown",
   "id": "137a4229-6200-4f7f-bda3-2f5b58ddefe9",
   "metadata": {},
   "source": [
    "<h1 style=\"font-size: 40px; margin-bottom: 0px;\">Simulate mRNA dynamics</h1>\n",
    "\n",
    "<hr style=\"margin-left: 0px; border: 0.25px solid; border-color: #000000; width: 600px;\"></hr>"
   ]
  },
  {
   "cell_type": "markdown",
   "id": "61519a64-7d6d-44a6-9c49-0cb8811c47d2",
   "metadata": {},
   "source": [
    "Like with bacterial growth, we can also simulate the levels of mRNA. We know that mRNA is produced at some constant rate **r**. And we know that mRNA will have some rate of decay **gamma** that is dependent on the levels of mRNA (if there's no mRNA, then there's nothing to decay). So at some given time point **C(t+dt)**, we can model the levels of mRNA by taking into account the number of mRNA that we have **C(t)**, how many mRNA were made **(r times dt)**, and how many decayed **(gamma times dt times C(t))**.\n",
    "```\n",
    "C(t+dt) = C(t) + r*dt - gamma*dt*C(t)\n",
    "```"
   ]
  },
  {
   "cell_type": "markdown",
   "id": "2004d995-8aec-4b59-85c7-db7e68e9539c",
   "metadata": {},
   "source": [
    "<h1 style=\"font-size: 40px; margin-bottom: 0px;\">Exercise #5: Simulate mRNA dynamics</h1>\n",
    "\n",
    "<hr style=\"margin-left: 0px; border: 0.25px solid; border-color: #000000; width: 800px;\"></hr>"
   ]
  },
  {
   "cell_type": "markdown",
   "id": "700f9c2a-5904-4f11-9d17-d665c3aace43",
   "metadata": {},
   "source": [
    "Now see if you can work out a for loop that will allow you to simulate mRNA dynamics with the following parameters:\n",
    "```\n",
    "t_max = 200 #min\n",
    "dt = 0.1 #min\n",
    "r = 20 #mRNA made per min\n",
    "gamma = 4 #rate of mRNA decay per min\n",
    "mRNA_at_t0 = 5 #number of starting mRNA molecules\n",
    "```"
   ]
  },
  {
   "cell_type": "code",
   "execution_count": null,
   "id": "627d1a4b-4a48-44ac-8088-e58a00d1900b",
   "metadata": {},
   "outputs": [],
   "source": []
  },
  {
   "cell_type": "markdown",
   "id": "5a50ba13-8d09-4c28-be07-7403f6040ed5",
   "metadata": {},
   "source": [
    "You should be able to see that the mRNA reaches some plateau, where the rate of production equals the rate of mRNA decay. This is the steady state."
   ]
  },
  {
   "cell_type": "markdown",
   "id": "53ab72ff-7af0-4b7c-82ab-36ce9f60e891",
   "metadata": {},
   "source": [
    "<h2><u>Challenge:</u> Simulate mRNA dynamics in response to an oscillating transcription factor</h2>"
   ]
  },
  {
   "cell_type": "markdown",
   "id": "252d430a-7d2a-4fba-b96f-7fbc2a411a36",
   "metadata": {},
   "source": [
    "Let's try to simulate some mRNA dynamics when mRNA is only produced once a transcription factor reaches some threshold concentration. For this, we cna make use of the <mark style=\"background-color: #EEEEEE;\"><strong>np.sin()</strong></mark> function to represent oscillating levels of a theoretical transcription factor."
   ]
  },
  {
   "cell_type": "code",
   "execution_count": null,
   "id": "b658b645-4c88-4fc4-bd77-587c30910fa4",
   "metadata": {},
   "outputs": [],
   "source": []
  },
  {
   "cell_type": "markdown",
   "id": "2560774a-dd3c-4470-97b6-4b81b1628770",
   "metadata": {},
   "source": [
    "<h1 style=\"font-size: 40px; margin-bottom: 0px;\">Exercise #6: Simulating 1D diffusion via coin flips</h1>\n",
    "\n",
    "<hr style=\"margin-left: 0px; border: 0.25px solid; border-color: #000000; width: 900px;\"></hr>"
   ]
  },
  {
   "cell_type": "markdown",
   "id": "80a30692-7880-4534-8cf7-37f7bb6f6456",
   "metadata": {},
   "source": [
    "Diffusion can be modeled using a random walk, where we essentially \"flip a coin\" to determine whether our molecule moves in one direction or another. To do this, you can make use of either <mark style=\"background-color: #EEEEEE;\"><strong>np.random.randint()</strong></mark> or a uniform random number generator from NumPy <mark style=\"background-color: #EEEEEE;\"><strong>np.random.uniform()</strong></mark>. <a href=\"https://numpy.org/doc/stable/reference/random/generated/numpy.random.uniform.html\" rel=\"noopener noreferrer\" target=\"_blank\"><u>Documentation is here</u></a>. \n",
    "\n",
    "For this set up, we're not interested tracking anything over multiple flips, we just want to see if we can control the position of a molecule with a random number generator (our coin flip).\n",
    "```\n",
    "position = 0\n",
    "coin = np.random.uniform()\n",
    "```\n",
    "First, see if you can make use of an if-else statement to have your \"molecule\" have a 50% chance of moving either up or down by 1 based on the output of your random number generator."
   ]
  },
  {
   "cell_type": "code",
   "execution_count": null,
   "id": "bf8f7734-ea26-4160-8bbe-f0e2b9a41486",
   "metadata": {},
   "outputs": [],
   "source": []
  },
  {
   "cell_type": "markdown",
   "id": "965c3e17-6fc8-4ecd-9503-7edc2383ee11",
   "metadata": {},
   "source": [
    "Once you've worked out how to change the position of a molecule using an if-else statement, try to use this as a framework to set up a for loop, where now you have an array that tracks the position of your molecule for each flip (in other words, tracking the position of the molecule over time)."
   ]
  },
  {
   "cell_type": "code",
   "execution_count": null,
   "id": "635b5396-66a8-4ef3-99fa-f9c4086e24ff",
   "metadata": {},
   "outputs": [],
   "source": []
  },
  {
   "cell_type": "markdown",
   "id": "10c79b3b-d2f2-464a-9b7d-b28b77ce492e",
   "metadata": {},
   "source": [
    "Now let's plot the position of the molecule over each flip."
   ]
  },
  {
   "cell_type": "code",
   "execution_count": null,
   "id": "00ba7544-3baf-49ad-9acf-7ecbdf8f77e0",
   "metadata": {},
   "outputs": [],
   "source": []
  },
  {
   "cell_type": "markdown",
   "id": "e1dde569-5fdc-4282-8392-dd58e67e5fbf",
   "metadata": {},
   "source": [
    "<h2><u>Big Challenge:</u> Model multiple molecules at once</h2>"
   ]
  },
  {
   "cell_type": "markdown",
   "id": "36912ef0-ef6c-4d6c-aaf5-7f3655c5819b",
   "metadata": {},
   "source": [
    "For this big challenge, see if you can figure out how to set up a <u>nested for loop</u> that will allow you to model the diffusion of multiple molecules at once with coin flips.\n",
    "\n",
    "You'll need to set up in this case, a 2D array (a matrix) where each row corresponds to the position of a single molecule and each column corresponds to individual molecules. So the matrix will look something like this table:\n",
    "\n",
    "<table>\n",
    "    <tr style=\"background-color: transparent; border: none;\">\n",
    "        <td style=\"background-color: transparent; border: none;\"></td>\n",
    "        <td style=\"background-color: #EEEEEE; border: 1px solid; border-color: #000000;\">Mol_1</td>\n",
    "        <td style=\"background-color: #EEEEEE; border: 1px solid; border-color: #000000;\">Mol_2</td>\n",
    "        <td style=\"background-color: #EEEEEE; border: 1px solid; border-color: #000000;\">Mol_3</td>\n",
    "        <td style=\"background-color: #EEEEEE; border: 1px solid; border-color: #000000;\">Mol_4</td>\n",
    "    </tr>\n",
    "    <tr style=\"background-color: transparent; border: 1px solid; border-color: #000000;\">\n",
    "        <td style=\"background-color: #EEEEEE; border: 1px solid; border-color: #000000;\">Flip_1</td>\n",
    "        <td style=\"background-color: transparent; border: 1px solid; border-color: #000000;\">&nbsp;</td>\n",
    "        <td style=\"background-color: transparent; border: 1px solid; border-color: #000000;\">&nbsp;</td>\n",
    "        <td style=\"background-color: transparent; border: 1px solid; border-color: #000000;\">&nbsp;</td>\n",
    "        <td style=\"background-color: transparent; border: 1px solid; border-color: #000000;\">&nbsp;</td>\n",
    "    </tr>\n",
    "        <tr style=\"background-color: transparent; border: 1px solid; border-color: #000000;\">\n",
    "        <td style=\"background-color: #EEEEEE; border: 1px solid; border-color: #000000;\">Flip_2</td>\n",
    "        <td style=\"background-color: transparent; border: 1px solid; border-color: #000000;\">&nbsp;</td>\n",
    "        <td style=\"background-color: transparent; border: 1px solid; border-color: #000000;\">&nbsp;</td>\n",
    "        <td style=\"background-color: transparent; border: 1px solid; border-color: #000000;\">&nbsp;</td>\n",
    "        <td style=\"background-color: transparent; border: 1px solid; border-color: #000000;\">&nbsp;</td>\n",
    "    </tr>\n",
    "    </tr>\n",
    "        <tr style=\"background-color: transparent; border: 1px solid; border-color: #000000;\">\n",
    "        <td style=\"background-color: #EEEEEE; border: 1px solid; border-color: #000000;\">Flip_3</td>\n",
    "        <td style=\"background-color: transparent; border: 1px solid; border-color: #000000;\">&nbsp;</td>\n",
    "        <td style=\"background-color: transparent; border: 1px solid; border-color: #000000;\">&nbsp;</td>\n",
    "        <td style=\"background-color: transparent; border: 1px solid; border-color: #000000;\">&nbsp;</td>\n",
    "        <td style=\"background-color: transparent; border: 1px solid; border-color: #000000;\">&nbsp;</td>\n",
    "    </tr>\n",
    "    </tr>\n",
    "        <tr style=\"background-color: transparent; border: 1px solid; border-color: #000000;\">\n",
    "        <td style=\"background-color: #EEEEEE; border: 1px solid; border-color: #000000;\">Flip_4</td>\n",
    "        <td style=\"background-color: transparent; border: 1px solid; border-color: #000000;\">&nbsp;</td>\n",
    "        <td style=\"background-color: transparent; border: 1px solid; border-color: #000000;\">&nbsp;</td>\n",
    "        <td style=\"background-color: transparent; border: 1px solid; border-color: #000000;\">&nbsp;</td>\n",
    "        <td style=\"background-color: transparent; border: 1px solid; border-color: #000000;\">&nbsp;</td>\n",
    "    </tr>\n",
    "    </tr>\n",
    "        <tr style=\"background-color: transparent; border: 1px solid; border-color: #000000;\">\n",
    "        <td style=\"background-color: #EEEEEE; border: 1px solid; border-color: #000000;\">Flip_5</td>\n",
    "        <td style=\"background-color: transparent; border: 1px solid; border-color: #000000;\">&nbsp;</td>\n",
    "        <td style=\"background-color: transparent; border: 1px solid; border-color: #000000;\">&nbsp;</td>\n",
    "        <td style=\"background-color: transparent; border: 1px solid; border-color: #000000;\">&nbsp;</td>\n",
    "        <td style=\"background-color: transparent; border: 1px solid; border-color: #000000;\">&nbsp;</td>\n",
    "    </tr>\n",
    "</table>"
   ]
  },
  {
   "cell_type": "markdown",
   "id": "f1a50a89-6f87-4ae1-af02-897c515dfd55",
   "metadata": {},
   "source": [
    "You can initialize a matrix of zeros by providing the <mark style=\"background-color: #EEEEEE;\"><strong>np.zeros()</strong></mark> function with a list containing 2 elements, and it will generate a 2D array rather than a 1D array.\n",
    "```\n",
    "your_matrix_variable = np.zeros([number_of_rows, number_of_columns])\n",
    "```"
   ]
  },
  {
   "cell_type": "markdown",
   "id": "7774eb45-ea85-40db-bebb-bc3fe87ad5b2",
   "metadata": {},
   "source": [
    "The logic of the nested for loop in this case is that for each single molecule, you want to proceed through each flip, and you want Python to be able track which molecule and which flip it is currently interating through."
   ]
  },
  {
   "cell_type": "code",
   "execution_count": null,
   "id": "12c1e319-b4b8-48a4-84c9-91f1dc6e49fe",
   "metadata": {},
   "outputs": [],
   "source": []
  },
  {
   "cell_type": "code",
   "execution_count": null,
   "id": "1d4c39a6-c443-4665-ba67-ef6c8ca1b13b",
   "metadata": {},
   "outputs": [],
   "source": []
  }
 ],
 "metadata": {
  "kernelspec": {
   "display_name": "Python [conda env:root] *",
   "language": "python",
   "name": "conda-root-py"
  },
  "language_info": {
   "codemirror_mode": {
    "name": "ipython",
    "version": 3
   },
   "file_extension": ".py",
   "mimetype": "text/x-python",
   "name": "python",
   "nbconvert_exporter": "python",
   "pygments_lexer": "ipython3",
   "version": "3.11.0"
  }
 },
 "nbformat": 4,
 "nbformat_minor": 5
}
