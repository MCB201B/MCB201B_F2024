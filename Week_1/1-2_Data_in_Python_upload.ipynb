{
 "cells": [
  {
   "cell_type": "markdown",
   "id": "83bb0bdd-0aca-4926-9512-4ecf1f2297d6",
   "metadata": {},
   "source": [
    "<h1 style=\"font-size: 40px; margin-bottom: 0px;\">1.2 Data in Python</h1>\n",
    "\n",
    "<hr style=\"margin-left: 0px; border: 0.25px solid; border-color: #000000; width: 600px;\"></hr>"
   ]
  },
  {
   "cell_type": "markdown",
   "id": "e7e8001c-7b16-4678-8f61-6e8c76425d3f",
   "metadata": {},
   "source": [
    "Yesterday, we made basic lists, arrays, and other data structures, but what if we have our own data set that we want to plot and analyze in Python? To do this, we first need to understand how Python handles slightly more complex datasets that are more than a one-dimensional list.\n",
    "\n",
    "In today's lesson, we'll be going over the basics how to work with data sets in Python. In this case, data sets refers to the data that we generate in the lab, which often comes in tables, rather than a simple one dimenional list. By using packages created to handle data sets, we can use Python to perform data analysis, and by combining this with packages for data visualization, we can also create publication quality figures from our data and analyses.\n",
    "\n",
    "The packages that we will be using today include **NumPy** (which we played around with a little bit yesterday), **pandas**, and **matplotlib**. Recall that NumPy allows us to create and manipulate arrays and perform mathematical operations. Pandas allows us to create and work with additional compound data structures. Matplotlib allows us to plot and visualize our data. These packages often go hand-in-hand when doing data analysis and visualization.\n",
    "\n",
    "To get us started, let's import the packages that we'll need for today's lesson."
   ]
  },
  {
   "cell_type": "code",
   "execution_count": null,
   "id": "b275f70b-40db-407a-ad43-ad7812b8f4ed",
   "metadata": {},
   "outputs": [],
   "source": [
    "#Import numpy, pandas, matplotlib"
   ]
  },
  {
   "cell_type": "markdown",
   "id": "464af5f9-3f63-4b00-a192-b75efb3bbac6",
   "metadata": {},
   "source": [
    "<h1 style=\"font-size: 40px; margin-bottom: 0px;\">Pandas Data Structures</h1>\n",
    "\n",
    "<hr style=\"margin-left: 0px; border: 0.25px solid; border-color: #000000; width: 600px;\"></hr>"
   ]
  },
  {
   "cell_type": "markdown",
   "id": "0ec04648-d0b8-46eb-a03f-c649a4629e06",
   "metadata": {},
   "source": [
    "A really helpful package for creating, importing, and working with your data in Python is called **pandas**. \n",
    "\n",
    "Pandas documentation can be found <u><a href=\"https://pandas.pydata.org/docs/index.html\" rel=\"noopener noreferrer\" target=\"_blank\">here</a></u>. \n",
    "\n",
    "Pandas allows you to create in Python data structures that are similar to tables, such as the ones you are more familiar with in Excel, so you can more easily handle and analyze them. You can also clean up your data, filter, and merge data sets. "
   ]
  },
  {
   "cell_type": "markdown",
   "id": "9dbeea87-d814-4663-aeef-6ccf31bef6f3",
   "metadata": {},
   "source": [
    "<h2 style=\"font-size: 32px;\">Series</h2>"
   ]
  },
  {
   "cell_type": "markdown",
   "id": "56aad62a-8712-46dd-bc15-60fc4400622c",
   "metadata": {},
   "source": [
    "A pandas **Series** is a one dimensional labeled array, and it acts similarly to an <mark style=\"background-color: #EEEEEE;\"><strong>ndarray</strong></mark>, which we played with yesterday. But a Series is also dictionary-like, so as you'll see later today, you can perform certain operations as if your Series is a dictionary. "
   ]
  },
  {
   "cell_type": "markdown",
   "id": "9e8d517d-0924-4a83-bb4a-4beec53912b0",
   "metadata": {},
   "source": [
    "<h3>Creating a pandas Series</h3>"
   ]
  },
  {
   "cell_type": "markdown",
   "id": "11ca4d4a-89d8-4333-b8b1-351587757841",
   "metadata": {},
   "source": [
    "So to start off and to get a better understanding of what's going on under the hood, we'll create a Series and poke around with it to see how it's handled by Python.\n",
    "\n",
    "We've already imported <mark style=\"background-color: #EEEEEE;\"><strong>pandas</strong></mark> as <mark style=\"background-color: #EEEEEE;\"><strong>pd</strong></mark> earlier, so we already have the package imported and ready to use. To create a pandas series, you will use the <mark style=\"background-color: #EEEEEE;\"><strong>Series()</strong></mark> function, but remember, since this function is part of the pandas package, you need to tell Python that the function you want to use is within that package by including <mark style=\"background-color: #EEEEEE;\"><strong>pd.</strong></mark> before your function.\n",
    "\n",
    "```\n",
    "pd.Series(data, index=index)\n",
    "```\n",
    "Where <mark style=\"background-color: #EEEEEE;\"><strong>data</strong></mark> can be a scalar value (which is basically just a single value of some kind) or an <mark style=\"background-color: #EEEEEE;\"><strong>ndarray</strong></mark> or a Python dictionary.\n",
    "\n",
    "When creating a Series, the index is by default set up similarly to an <mark style=\"background-color: #EEEEEE;\"><strong>ndarray</strong></mark>, with the element in the first position indexed as 0, and the element in the last position indexed with the length minus 1, or <mark style=\"background-color: #EEEEEE;\"><strong>len(your_data_set)-1</strong></mark>. "
   ]
  },
  {
   "cell_type": "markdown",
   "id": "ac4874eb-e6a0-4414-8c7a-fe7b1359db95",
   "metadata": {},
   "source": [
    "So let's start off by creating a Series with a single value repeated over a defined index size, and we can break it down to better understand how to read Python code as things get slightly more complicated than yesterday. \n",
    "\n",
    "When you provide a scalar value (like an single **int** or **float**) when creating a Series along with an index length, pandas will create a Series repeating that scalar value for the entire length of the index.\n",
    "\n",
    "For example, if we want to create a Series with 10 repeated 5 times without caring how we specify our index:\n",
    "```\n",
    "air_series = pd.Series(10, index=list(range(5)))\n",
    "```\n",
    "\n",
    "To better understand this, we can break this line down:\n",
    "<ul>\n",
    "    <li><mark style=\"background-color: #EEEEEE;\"><strong>air_series</strong></mark> - this is our variable that we will assign to the Series we are creating</li>\n",
    "    <li><mark style=\"background-color: #EEEEEE;\"><strong>=</strong></mark> - this is our assignment operator</li>\n",
    "    <li><mark style=\"background-color: #EEEEEE;\"><strong>pd.Series()</strong></mark> - we are telling Python we want to use the <mark style=\"background-color: #EEEEEE;\"><strong>Series()</strong></mark> function of the pandas package that we imported as <mark style=\"background-color: #EEEEEE;\"><strong>pd</strong></mark></li>\n",
    "    <li><mark style=\"background-color: #EEEEEE;\"><strong>10</strong></mark> - a scalar value to be repeated for as many index values we have</li>\n",
    "    <li><mark style=\"background-color: #EEEEEE;\"><strong>index=</strong></mark> - we are going to set the index parameter to some argument that we specify after the <mark style=\"background-color: #EEEEEE;\"><strong>=</strong></mark> operator. In this case, you can think of it like there is an index variable to which we are assigning an object for this specific function</li>\n",
    "    <li><mark style=\"background-color: #EEEEEE;\"><strong>list()</strong></mark> - we want to create a <mark style=\"background-color: #EEEEEE;\"><strong>list</strong></mark> of values that we will assign to our index variable</li>\n",
    "    <li><mark style=\"background-color: #EEEEEE;\"><strong>range(5)</strong></mark> - this is an <u><a href=\"https://docs.python.org/3/library/functions.html#func-range\" rel=\"noopener noreferrer\" target=\"_blank\">in-built Python function</a></u>. We are essentially creating a sequence of 5 numbers, starting from 0, so the last number will be 4</li>\n",
    "</ul>\n",
    "\n",
    "So what we're essentially doing is: we specify a <mark style=\"background-color: #EEEEEE;\"><strong>range</strong></mark> of 5 values, starting from 0, then create a <mark style=\"background-color: #EEEEEE;\"><strong>list</strong></mark> from this. This <mark style=\"background-color: #EEEEEE;\"><strong>list</strong></mark> is assigned to the variable <mark style=\"background-color: #EEEEEE;\"><strong>index</strong></mark>. We create a <mark style=\"background-color: #EEEEEE;\"><strong>Series</strong></mark> using this index, and for each value of our index, we set it to hold a scalar value of <mark style=\"background-color: #EEEEEE;\"><strong>10</strong></mark>. And this Series is assigned to the variable <mark style=\"background-color: #EEEEEE;\"><strong>air_series</strong></mark>."
   ]
  },
  {
   "cell_type": "code",
   "execution_count": null,
   "id": "6b4265b8-e775-4cdc-bf92-8a27619fcd70",
   "metadata": {},
   "outputs": [],
   "source": [
    "#Give it a try below:"
   ]
  },
  {
   "cell_type": "code",
   "execution_count": null,
   "id": "2755dd1a-013b-4a27-a887-6242b367c2b2",
   "metadata": {},
   "outputs": [],
   "source": [
    "#Try creating a Series of 10 randomly generated numbers\n",
    "#Using the function np.random.rand(10)"
   ]
  },
  {
   "cell_type": "code",
   "execution_count": null,
   "id": "f16241cd-6ea8-4011-88fe-111f0b0d1621",
   "metadata": {},
   "outputs": [],
   "source": [
    "#You can also assign what the index will be by specifying it in the index parameter."
   ]
  },
  {
   "cell_type": "code",
   "execution_count": null,
   "id": "5827c5a7-71d3-4a5d-ac1f-a5cc4e14bd5c",
   "metadata": {},
   "outputs": [],
   "source": [
    "#You can also create a Python dictionary and essentially convert it into a Series."
   ]
  },
  {
   "cell_type": "markdown",
   "id": "f08277ae-4191-461a-a323-28117663aec4",
   "metadata": {},
   "source": [
    "And since Series are similar to <mark style=\"background-color: #EEEEEE;\"><strong>ndarray</strong></mark>, you can retrieve values and slices from them.\n",
    "\n",
    "One way to do so is if you have your Series, you can pass an index through the <mark style=\"background-color: #EEEEEE;\"><strong>pd.Series()</strong></mark> function with your Series as an argument to pull out the value associated to that index or indices.\n",
    "```\n",
    "pd.Series(fire_series, index=['a'])\n",
    "```\n",
    "If the index does not exist in the Series you are trying to retrieve a value from, then Python will return <mark style=\"background-color: #EEEEEE;\"><strong>NaN</strong></mark> (not a number), which is how pandas denotes missing data values (like an empty cell in Excel)."
   ]
  },
  {
   "cell_type": "code",
   "execution_count": null,
   "id": "65dce54a-2a80-419e-b476-30fb1359e6db",
   "metadata": {},
   "outputs": [],
   "source": [
    "#Try pulling out a single index and then a slice of a Series."
   ]
  },
  {
   "cell_type": "code",
   "execution_count": null,
   "id": "98c92384-b3a2-4ec2-a296-afb02b621195",
   "metadata": {},
   "outputs": [],
   "source": [
    "#Try and retrieve from an index that doesn't exist."
   ]
  },
  {
   "cell_type": "markdown",
   "id": "fd27d370-ab25-4f22-9f6c-3138f33bec77",
   "metadata": {},
   "source": [
    "<h3>Dictionary-like properties of Series</h3>"
   ]
  },
  {
   "cell_type": "markdown",
   "id": "97354d07-ffc9-484f-b1ec-307c39d0ac6e",
   "metadata": {},
   "source": [
    "The above way of retrieving data can be a bit cumbersome to write out, and if you noticed, it also retrieves the index value with it. The nice thing about pandas Series is that we can treat it like a Python dictionary as well. So we can retrieve a value based on an associated \"key\", which in this case is the index value or some label that we specified when creating the Series.\n",
    "```\n",
    "fire_series['a']\n",
    "```\n",
    "So this essentially follows a similar syntax that we used to pull out a value associated with a specific key in a dictionary.\n",
    "\n",
    "Recall from yesterday, to pull out a value for a given key:\n",
    "```\n",
    "dictionary['table']\n",
    "```"
   ]
  },
  {
   "cell_type": "code",
   "execution_count": null,
   "id": "a8901394-15c0-4a69-8b8c-b637f70f1a9d",
   "metadata": {},
   "outputs": [],
   "source": [
    "#Try with the above dictionary-like syntax."
   ]
  },
  {
   "cell_type": "code",
   "execution_count": null,
   "id": "0afe8bc9-9080-4e43-aefe-8215debc3278",
   "metadata": {},
   "outputs": [],
   "source": [
    "#But what if our index does not exist?"
   ]
  },
  {
   "cell_type": "markdown",
   "id": "96813327-597d-48d0-b194-4f08021a0aa3",
   "metadata": {},
   "source": [
    "To get around this issue, you can also use the <mark style=\"background-color: #EEEEEE;\"><strong>Series.get()</strong></mark> function. Similar to how <mark style=\"background-color: #EEEEEE;\"><strong>discard()</strong></mark> will just output nothing, <mark style=\"background-color: #EEEEEE;\"><strong>Series.get()</strong></mark> will output nothing or some default that you specify."
   ]
  },
  {
   "cell_type": "code",
   "execution_count": null,
   "id": "cc9d22d7-91d9-4fec-8b99-5b397c10e088",
   "metadata": {},
   "outputs": [],
   "source": [
    "#Try using Series.get() to pull a value from a non-existant index."
   ]
  },
  {
   "cell_type": "markdown",
   "id": "d88aeb1b-5ec5-4c26-8975-87e0f450eddf",
   "metadata": {},
   "source": [
    "<h3>Functions to pull specific element(s)</h3>"
   ]
  },
  {
   "cell_type": "markdown",
   "id": "076bc69c-6708-470c-8fb0-fd35d1f3a517",
   "metadata": {},
   "source": [
    "Pandas also has specific functions that you can use to pull out specific element(s) that you're interested in working with.\n",
    "\n",
    "<a href=\"https://pandas.pydata.org/docs/reference/api/pandas.Series.iloc.html\" rel=\"noopener noreferrer\" target=\"_blank\"><mark style=\"background-color: #EEEEEE;\"><strong>pandas.Series.iloc</strong></mark></a> (click for documentation)\n",
    "\n",
    "The <mark style=\"background-color: #EEEEEE;\"><strong>iloc</strong></mark> function can use an **int** argument to specify the index value in order to identify the associated value in the Series that you want to retrieve.\n",
    "\n",
    "For example,\n",
    "```\n",
    "water_series.iloc[1]\n",
    "```\n",
    "This is telling Python that you want to perform the function <mark style=\"background-color: #EEEEEE;\"><strong>iloc</strong></mark> on the Series <mark style=\"background-color: #EEEEEE;\"><strong>water_series</strong></mark>.\n",
    "\n",
    "<a href=\"https://pandas.pydata.org/docs/reference/api/pandas.Series.loc.html\" rel=\"noopener noreferrer\" target=\"_blank\"><mark style=\"background-color: #EEEEEE;\"><strong>pandas.Series.loc</strong></mark></a> (click for documentation)\n",
    "\n",
    "The <mark style=\"background-color: #EEEEEE;\"><strong>loc</strong></mark> function works similarly to <mark style=\"background-color: #EEEEEE;\"><strong>iloc</strong></mark>. You can retrieve values by their assigned label (kind of like a dictionary) or pull a slice by providing it with multiple labels. When providing both the start and end labels, Python will pull out those values as well, so slightly different than when using an index.\n",
    "\n",
    "For example:\n",
    "```\n",
    "fire_series.loc['b']\n",
    "```\n",
    "This is telling Python that you want to pull the value associated with the label <mark style=\"background-color: #EEEEEE;\"><strong>b</strong></mark> from the Series <mark style=\"background-color: #EEEEEE;\"><strong>fire_series</strong></mark>."
   ]
  },
  {
   "cell_type": "code",
   "execution_count": null,
   "id": "9eae88bd-af2a-4c07-b496-14e844fb1991",
   "metadata": {},
   "outputs": [],
   "source": [
    "#Try with pulling the value of a specified index."
   ]
  },
  {
   "cell_type": "code",
   "execution_count": null,
   "id": "ef9740d4-7d57-4d3c-af98-8bc9ba883bd7",
   "metadata": {},
   "outputs": [],
   "source": [
    "#What if you labeled the index as a letter when you first created it?"
   ]
  },
  {
   "cell_type": "markdown",
   "id": "2ab4eccf-bab8-43d5-bdaa-596901fa93ae",
   "metadata": {},
   "source": [
    "You can also make use of slice notation when calling the <mark style=\"background-color: #EEEEEE;\"><strong>iloc</strong></mark> function.\n",
    "```\n",
    "water_series.iloc[0:4]\n",
    "```\n",
    "This tells Python that you want in this case from positions 0 to 3 from your Series <mark style=\"background-color: #EEEEEE;\"><strong>water_series</strong></mark>. Again, you'll want to keep in mind that things can get a little confusing with how Python denotes positions in an index. In this case, the <mark style=\"background-color: #EEEEEE;\"><strong>4</strong></mark> denotes the fourth position, which has an index value of 3."
   ]
  },
  {
   "cell_type": "code",
   "execution_count": null,
   "id": "395f5c31-2900-4bbf-a1b7-15172d9687ef",
   "metadata": {},
   "outputs": [],
   "source": [
    "#You can also use slice notation to pull specific slices."
   ]
  },
  {
   "cell_type": "code",
   "execution_count": null,
   "id": "e17621d1-4bb9-4fb4-87cf-4d9e98b7eb05",
   "metadata": {},
   "outputs": [],
   "source": [
    "#Again with slice notation: this time pulling every other slice."
   ]
  },
  {
   "cell_type": "markdown",
   "id": "ea8abb74-9cc5-42b6-bf6d-af6e50450f18",
   "metadata": {},
   "source": [
    "When you use <mark style=\"background-color: #EEEEEE;\"><strong>loc</strong></mark>, you can still retrieve a slice object."
   ]
  },
  {
   "cell_type": "code",
   "execution_count": null,
   "id": "2319daa5-7ab7-4fe6-a66f-8f4907a8e1eb",
   "metadata": {},
   "outputs": [],
   "source": [
    "#So with fire_series:"
   ]
  },
  {
   "cell_type": "markdown",
   "id": "029447f0-c669-4047-8226-18d8f07c9e83",
   "metadata": {},
   "source": [
    "<h3>Conditional slices</h3>"
   ]
  },
  {
   "cell_type": "markdown",
   "id": "c8838700-e8bc-4c59-9943-81ef2d3f540b",
   "metadata": {},
   "source": [
    "You can also set a specific condition to pull slices out. If for example, you wanted to pull the slices that contain a value that is greater than the mean of the values in your Series. You can imagine that this will be something that comes in handy if you want to clean or filter your data that you are working with.\n",
    "```\n",
    "water_series[water_series > water_series.mean()]\n",
    "```\n",
    "Let's break down what is going on in the line above:\n",
    "<ul>\n",
    "    <li><mark style=\"background-color: #EEEEEE;\"><strong>water_series[]</strong></mark> - we are telling Python that we want to pull something from the Series <mark style=\"background-color: #EEEEEE;\"><strong>water_series</strong></mark>.</li>\n",
    "    <li><mark style=\"background-color: #EEEEEE;\"><strong>water_series &gt; </strong></mark> - we are specifying the condition that must be met for Python to retrieve a value. In this case, the condition is when the value in the Series is greater than something.</li>\n",
    "    <li><mark style=\"background-color: #EEEEEE;\"><strong>water_series.mean()</strong></mark> - that \"something\" that we want it to be greater than is the mean of the values in <mark style=\"background-color: #EEEEEE;\"><strong>water_series</strong></mark>.</li>\n",
    "</ul>"
   ]
  },
  {
   "cell_type": "code",
   "execution_count": null,
   "id": "f3922d4d-2446-4db1-9985-a91163cd4cbd",
   "metadata": {},
   "outputs": [],
   "source": [
    "#So we can give that a try here:"
   ]
  },
  {
   "cell_type": "code",
   "execution_count": null,
   "id": "8e7dff05-319f-4b93-91f2-0e94d8d184ad",
   "metadata": {},
   "outputs": [],
   "source": [
    "#We can also try filtering for those values in water_series that is less than 0.25"
   ]
  },
  {
   "cell_type": "markdown",
   "id": "6394c04b-bcfd-4419-bb7e-c6ca5e14e637",
   "metadata": {},
   "source": [
    "<h3>Performing operations with Series</h3>"
   ]
  },
  {
   "cell_type": "markdown",
   "id": "08625fe5-3137-4170-a848-001feb3b7a95",
   "metadata": {},
   "source": [
    "Like with <mark style=\"background-color: #EEEEEE;\"><strong>ndarray</strong></mark>, you can perform math operations on Series using the standard syntax, and Python will know to take each element of your Series and perform the specified operation.\n",
    "\n",
    "For example, if you wanted to add 5 to each element of a Series:\n",
    "```\n",
    "fire_series + 5\n",
    "```\n",
    "\n",
    "Or if you wanted to find get the sqrt of each value a Series:\n",
    "```\n",
    "np.sqrt(fire_series)\n",
    "```\n",
    "\n",
    "You can also add two Series together:\n",
    "```\n",
    "fire_series_add + fire_series_rt\n",
    "```"
   ]
  },
  {
   "cell_type": "code",
   "execution_count": null,
   "id": "5a79d3f1-8d91-4ba7-9fcc-b2d49078af07",
   "metadata": {},
   "outputs": [],
   "source": [
    "#Let's try that here and assign the results to some variables"
   ]
  },
  {
   "cell_type": "markdown",
   "id": "37f69dce-4203-4826-9b2d-95cdda3cabea",
   "metadata": {},
   "source": [
    "One important thing to note is that Series will automatically align themselves based on their labels when performing operations involving multiple Series. The benefit of this is that you don't have to worry if one label isn't present in another Series since the other labels will align themselves if they are shared.\n",
    "\n",
    "The result of the operation will give us an output that is the **union** (recall from **sets**) of the indices, and if certain labels aren't shared, no operation can be performed. So the resulting value associated with those unshared labels is <mark style=\"background-color: #EEEEEE;\"><strong>NaN</strong></mark>.\n",
    "\n",
    "This sort of flexibility allows you to work more easily with complicated data sets that may not all have things shared among them."
   ]
  },
  {
   "cell_type": "code",
   "execution_count": null,
   "id": "8ee8197b-0254-4488-b353-c284cf594514",
   "metadata": {},
   "outputs": [],
   "source": [
    "#For example, let's play with specific slices of our new Series that we created from above."
   ]
  },
  {
   "cell_type": "markdown",
   "id": "b69f6745-2448-451e-ac94-acc011b8e151",
   "metadata": {},
   "source": [
    "<h2 style=\"font-size: 32px;\">DataFrames</h2>"
   ]
  },
  {
   "cell_type": "markdown",
   "id": "ac1ef6b5-80bb-496e-ae94-fb646b448157",
   "metadata": {},
   "source": [
    "Pandas **DataFrames** (often shorthanded to **df**) are like a more advanced version of Series. These data structures are more similar to the types of tables that you often work with in Excel or Google Sheets. While Series are one-dimensional, DataFrames are two-dimensional with rows and columns and can include labels that define what the row or column is. This type of data structure is likely going to be the most common type of data structure you'll be working with, particularly for data analysis. It's a pretty verstatile data structure, and there's a lot of tools available for you to work with them."
   ]
  },
  {
   "cell_type": "markdown",
   "id": "973bd916-9293-4260-9730-978d7911b8c1",
   "metadata": {},
   "source": [
    "<h3>Creating DataFrames</h3>"
   ]
  },
  {
   "cell_type": "markdown",
   "id": "f9959988-9329-481b-a412-395a3916cdb8",
   "metadata": {},
   "source": [
    "There's a large number of ways to create a pandas DataFrame from the ground up, and you can find documentation on different ways to do so <u><a href=\"https://pandas.pydata.org/docs/reference/api/pandas.DataFrame.html\" rel=\"noopener noreferrer\" target=\"_blank\">here</a></u>.\n",
    "\n",
    "In these cases, by making use of the <mark style=\"background-color: #EEEEEE;\"><strong>pandas.DataFrame()</strong></mark> function, we can construct a data structure that contains rows and columns and if specified labels for those rows and columns. So in a way, much like Series, a DataFrame can be thought of as dictionary-like as well.\n",
    "\n",
    "If we visualize the DataFrame that we want to create as if it were on an Excel spreadsheet.\n",
    "\n",
    "<table style=\"margin-left: 0px;\">\n",
    "    <tr>\n",
    "        <th style=\"background-color: none; border-left: none; border-top: none;\">&nbsp;</th>\n",
    "        <th style=\"background-color: #EEEEEE; border: 1px solid; border-color: #000000;\">x</th>\n",
    "        <th style=\"background-color: #EEEEEE; border: 1px solid; border-color: #000000;\">y</th>\n",
    "    </tr>\n",
    "    <tr>\n",
    "        <td style=\"background-color: #EEEEEE; border: 1px solid; border-color: #000000;\"><strong>0</strong></td>\n",
    "        <td style=\"background-color: #FFFFFF; border: 1px solid; border-color: #000000;\">100</td>\n",
    "        <td style=\"background-color: #FFFFFF; border: 1px solid; border-color: #000000;\">200</td>\n",
    "    </tr>\n",
    "    <tr>\n",
    "        <td style=\"background-color: #EEEEEE; border: 1px solid; border-color: #000000;\"><strong>1</strong></td>\n",
    "        <td style=\"background-color: #FFFFFF; border: 1px solid; border-color: #000000;\">13</td>\n",
    "        <td style=\"background-color: #FFFFFF; border: 1px solid; border-color: #000000;\">10</td>\n",
    "    </tr>\n",
    "    <tr>\n",
    "        <td style=\"background-color: #EEEEEE; border: 1px solid; border-color: #000000;\"><strong>2</strong></td>\n",
    "        <td style=\"background-color: #FFFFFF; border: 1px solid; border-color: #000000;\">1000</td>\n",
    "        <td style=\"background-color: #FFFFFF; border: 1px solid; border-color: #000000;\">2000</td>\n",
    "    </tr>\n",
    "    <tr>\n",
    "        <td style=\"background-color: #EEEEEE; border: 1px solid; border-color: #000000;\"><strong>3</td>\n",
    "        <td style=\"background-color: #FFFFFF; border: 1px solid; border-color: #000000;\">5</td>\n",
    "        <td style=\"background-color: #FFFFFF; border: 1px solid; border-color: #000000;\">2</td>\n",
    "    </tr>    \n",
    "</table>"
   ]
  },
  {
   "cell_type": "markdown",
   "id": "c58817c8-8384-4f0e-bde6-2fa3ae79db3a",
   "metadata": {},
   "source": [
    "<h4>Constructing DataFrame from ndarray</h4>"
   ]
  },
  {
   "cell_type": "markdown",
   "id": "7c14a2c9-84a4-4672-8474-9c66ec7181e0",
   "metadata": {},
   "source": [
    "We can construct a DataFrame from an <mark style=\"background-color: #EEEEEE;\"><strong>ndarray</strong></mark> that has two dimensions.\n",
    "```\n",
    "#Set up our two-dimensional ndarray\n",
    "seed_1 = np.array([[100, 200], [13, 10], [1000, 2000], [5, 2]])\n",
    "\n",
    "#Create a DataFrame from our 2D array\n",
    "#And we'll specify what we want the columns to be named.\n",
    "mango_df = pd.DataFrame(seed_1, columns=['x', 'y'])\n",
    "```\n",
    "\n",
    "<strong>Breaking these lines down:</strong></br>\n",
    "When we set up our 2D array:\n",
    "<ul>\n",
    "    <li><mark style=\"background-color: #EEEEEE;\"><strong>seed_1</strong></mark> - this is our variable for our array</li>\n",
    "    <li><mark style=\"background-color: #EEEEEE;\"><strong>&equals;</strong></mark> - this is our assignment operator</li>\n",
    "    <li><mark style=\"background-color: #EEEEEE;\"><strong>np.array()</strong></mark> - we want to use the <mark style=\"background-color: #EEEEEE;\"><strong>array()</strong></mark> function from the package <mark style=\"background-color: #EEEEEE;\"><strong>np</strong></mark></li>\n",
    "    <li><mark style=\"background-color: #EEEEEE;\"><strong>[[x0, y0], [x1, y1], [x2, y2], [x3, y3]]</strong></mark> - creating a two-dimensional <mark style=\"background-color: #EEEEEE;\"><strong>ndarray</strong></mark> that has two columns and four rows</li>\n",
    "</ul>\n",
    "\n",
    "When we create our DataFrame from that 2D array:\n",
    "<ul>\n",
    "    <li><mark style=\"background-color: #EEEEEE;\"><strong>mango_df</strong></mark> - this is our variable for our DataFrame</li>\n",
    "    <li><mark style=\"background-color: #EEEEEE;\"><strong>&equals;</strong></mark> - this is our assignment operator</li>\n",
    "    <li><mark style=\"background-color: #EEEEEE;\"><strong>pd.DataFrame()</strong></mark> - we want to use the <mark style=\"background-color: #EEEEEE;\"><strong>DataFrame()</strong></mark> function from the package <mark style=\"background-color: #EEEEEE;\"><strong>pd</strong></mark></li>\n",
    "    <li><mark style=\"background-color: #EEEEEE;\"><strong>seed_1</strong></mark> - we want to use our 2D array to create a DataFrame</li>\n",
    "    <li><mark style=\"background-color: #EEEEEE;\"><strong>columns=</strong></mark> - we are telling Python we want to label our columns for our DataFrame</li>\n",
    "    <li><mark style=\"background-color: #EEEEEE;\"><strong>['x', 'y']</strong></mark> - we create a list with two <strong>strings</strong> that will become the labels for our DataFrame columns</li>\n",
    "</ul>"
   ]
  },
  {
   "cell_type": "code",
   "execution_count": null,
   "id": "57b14b9f-e2dc-4622-9c6b-5800cb69da6e",
   "metadata": {},
   "outputs": [],
   "source": [
    "#Set up our 2D array:\n",
    "\n",
    "#Create a DataFrame from our 2D array\n",
    "#and also specify what we want the columns named\n",
    "\n",
    "#Let's print out our DataFrame"
   ]
  },
  {
   "cell_type": "markdown",
   "id": "de2c501d-4231-498f-98cb-2fc6c6ed7d27",
   "metadata": {},
   "source": [
    "Compare that to what we're used to looking at in Excel:\n",
    "\n",
    "<table style=\"margin-left: 0px;\">\n",
    "    <tr>\n",
    "        <th style=\"background-color: none; border-left: none; border-top: none;\">&nbsp;</th>\n",
    "        <th style=\"background-color: #EEEEEE; border: 1px solid; border-color: #000000;\">x</th>\n",
    "        <th style=\"background-color: #EEEEEE; border: 1px solid; border-color: #000000;\">y</th>\n",
    "    </tr>\n",
    "    <tr>\n",
    "        <td style=\"background-color: #EEEEEE; border: 1px solid; border-color: #000000;\"><strong>0</strong></td>\n",
    "        <td style=\"background-color: #FFFFFF; border: 1px solid; border-color: #000000;\">100</td>\n",
    "        <td style=\"background-color: #FFFFFF; border: 1px solid; border-color: #000000;\">200</td>\n",
    "    </tr>\n",
    "    <tr>\n",
    "        <td style=\"background-color: #EEEEEE; border: 1px solid; border-color: #000000;\"><strong>1</strong></td>\n",
    "        <td style=\"background-color: #FFFFFF; border: 1px solid; border-color: #000000;\">13</td>\n",
    "        <td style=\"background-color: #FFFFFF; border: 1px solid; border-color: #000000;\">10</td>\n",
    "    </tr>\n",
    "    <tr>\n",
    "        <td style=\"background-color: #EEEEEE; border: 1px solid; border-color: #000000;\"><strong>2</strong></td>\n",
    "        <td style=\"background-color: #FFFFFF; border: 1px solid; border-color: #000000;\">1000</td>\n",
    "        <td style=\"background-color: #FFFFFF; border: 1px solid; border-color: #000000;\">2000</td>\n",
    "    </tr>\n",
    "    <tr>\n",
    "        <td style=\"background-color: #EEEEEE; border: 1px solid; border-color: #000000;\"><strong>3</td>\n",
    "        <td style=\"background-color: #FFFFFF; border: 1px solid; border-color: #000000;\">5</td>\n",
    "        <td style=\"background-color: #FFFFFF; border: 1px solid; border-color: #000000;\">2</td>\n",
    "    </tr>    \n",
    "</table>\n",
    "\n",
    "So it's pretty similar, where we have the column labels at the top, and if we wanted to, we could also have specified what we want the labels for the rows to be."
   ]
  },
  {
   "cell_type": "markdown",
   "id": "1dbb596a-09e5-4c20-8581-e37202854b94",
   "metadata": {},
   "source": [
    "You can also do the same with a one-dimensional array."
   ]
  },
  {
   "cell_type": "code",
   "execution_count": null,
   "id": "44e31edd-b5be-4d1e-a46e-ea61809e3cdc",
   "metadata": {},
   "outputs": [],
   "source": [
    "#Try setting up a one-dimenional array and using it to create a DataFrame."
   ]
  },
  {
   "cell_type": "code",
   "execution_count": null,
   "id": "cf2bfe45-feff-469a-bfb5-d1c20684e521",
   "metadata": {},
   "outputs": [],
   "source": [
    "#In class: set up a DataFrame with the dimensions 3x3."
   ]
  },
  {
   "cell_type": "markdown",
   "id": "88cdfb8f-a442-43df-8674-3eab4d9d1bc0",
   "metadata": {},
   "source": [
    "<h4>Creating a DataFrame from Series</h4>"
   ]
  },
  {
   "cell_type": "markdown",
   "id": "dc1e4ab5-5591-4bf4-8dde-bd518a7d8fd9",
   "metadata": {},
   "source": [
    "You can use the <mark style=\"background-color: #EEEEEE;\"><strong>pandas.DataFrame()</strong></mark> function to create DataFrames from Series, and how you set up the arguments can affect whether you create a DataFrame with your Series as a column or as a row."
   ]
  },
  {
   "cell_type": "markdown",
   "id": "e920c5b3-26d7-453e-b16c-96d35c777afa",
   "metadata": {},
   "source": [
    "<strong>If the Series populates a column</strong>\n",
    "\n",
    "Then you can simply set up your series, and run it through the <mark style=\"background-color: #EEEEEE;\"><strong>panda.DataFrame()</strong></mark> function.\n",
    "\n",
    "Let's use our <mark style=\"background-color: #EEEEEE;\"><strong>fire_series_add</strong></mark> Series from earlier.\n",
    "```\n",
    "fire_df = pd.DataFrame(fire_series_add)\n",
    "```\n",
    "This will create a single column DataFrame."
   ]
  },
  {
   "cell_type": "code",
   "execution_count": null,
   "id": "74ea8034-fb66-4f10-be02-ec78c014c56d",
   "metadata": {},
   "outputs": [],
   "source": [
    "#Give that a try here:"
   ]
  },
  {
   "cell_type": "markdown",
   "id": "be2c4e62-a27a-4d00-b551-df0a38bcf97d",
   "metadata": {},
   "source": [
    "What if we wanted to create a DataFrame from a Series and have each Series be its own column?\n",
    "\n",
    "It's a little less simple because if we try:\n",
    "```\n",
    "fire_df2 = pd.DataFrame(fire_series_add, fire_series_rt)\n",
    "```\n",
    "We don't get the result that we want."
   ]
  },
  {
   "cell_type": "code",
   "execution_count": null,
   "id": "4c7919dc-c97c-4e2d-bf9a-7723959c698d",
   "metadata": {},
   "outputs": [],
   "source": [
    "#Let's give that a try here to see how things look:"
   ]
  },
  {
   "cell_type": "markdown",
   "id": "94b9461a-2539-44f9-b8f2-5ee375148212",
   "metadata": {},
   "source": [
    "In this case, we can make use of how DataFrames are handled.\n",
    "```\n",
    "fire_df['1'] = (fire_series_rt + 2)\n",
    "```\n"
   ]
  },
  {
   "cell_type": "code",
   "execution_count": null,
   "id": "3f7b58ed-c951-4087-a4b5-3e70d698f913",
   "metadata": {},
   "outputs": [],
   "source": [
    "#So if we want to add an additional column based on our Series"
   ]
  },
  {
   "cell_type": "markdown",
   "id": "04bb1f6d-47cd-40d1-b8b2-2d71699ef859",
   "metadata": {},
   "source": [
    "So breaking down how the previous code works:\n",
    "<ul>\n",
    "    <li><mark style=\"background-color: #EEEEEE;\"><strong>fire_df</strong></mark> - the DataFrame we want to manipulate</li>\n",
    "    <li><mark style=\"background-color: #EEEEEE;\"><strong>['1']</strong></mark> - the column we want to manipulate within our DataFrame. Since this column technically doesn't exist, a new one will be generated</li>\n",
    "    <li><mark style=\"background-color: #EEEEEE;\"><strong>=</strong></mark> - our assignment operator</li>\n",
    "    <li><mark style=\"background-color: #EEEEEE;\"><strong>fire_series_rt</strong></mark> - the Series that contains the values we want to populate our new column with</li>\n",
    "    <li><mark style=\"background-color: #EEEEEE;\"><strong>&plus;</strong></mark> - adding 2 to each element in the Series <mark style=\"background-color: #EEEEEE;\"><strong>fire_series_rt</strong></mark></li>\n",
    "</ul>"
   ]
  },
  {
   "cell_type": "markdown",
   "id": "f93bbddf-9f61-4715-8a0d-1e41fd452dc0",
   "metadata": {},
   "source": [
    "But what if we have a Series that doesn't contain all the indices that our DataFrame does?"
   ]
  },
  {
   "cell_type": "code",
   "execution_count": null,
   "id": "77c37c88-93d9-452e-813a-015d175b929d",
   "metadata": {},
   "outputs": [],
   "source": [
    "#Let's give that a try here. \n",
    "#Create a new column in your DataFrame and add a slice of your Series."
   ]
  },
  {
   "cell_type": "markdown",
   "id": "8dd7fea8-e842-4cbe-9c49-73067f1ee6c3",
   "metadata": {},
   "source": [
    "You can see that it populate those elements with <mark style=\"background-color: #EEEEEE;\"><strong>NaN</strong></mark> indicating that there's no value there."
   ]
  },
  {
   "cell_type": "markdown",
   "id": "cdb35a7f-5430-42f8-88ea-cbc0ef4a54f0",
   "metadata": {},
   "source": [
    "<strong>If the Series populates a row</strong>\n",
    "\n",
    "How you set this up will be slightly easier than trying to populate columns with Series.\n",
    "```\n",
    "fire_df_rows = pd.DataFrame([fire_series_add])\n",
    "```\n",
    "\n",
    "And if you want to populate multiple rows with different Series:\n",
    "```\n",
    "fire_df_rows2 = pd.DataFrame([fire_series_add, fire_series_rt])\n",
    "```"
   ]
  },
  {
   "cell_type": "code",
   "execution_count": null,
   "id": "df22cd03-41c0-4612-be2b-b0d4c003072a",
   "metadata": {},
   "outputs": [],
   "source": [
    "#Let's take a look under the hood at what's going on"
   ]
  },
  {
   "cell_type": "code",
   "execution_count": null,
   "id": "9d8a069d-aa6c-44f5-82a4-561321f4c578",
   "metadata": {},
   "outputs": [],
   "source": [
    "#Now use this to create your DataFrame"
   ]
  },
  {
   "cell_type": "markdown",
   "id": "d5e76d05-90fd-481f-b374-d81861bfd00e",
   "metadata": {},
   "source": [
    "So it's a bit easier to set things up this way, but depending on your data you might want your column headers to be your rows.\n",
    "\n",
    "In that case, if you've set up your DataFrame by populating the rows with your Series values, you can use the <mark style=\"background-color: #EEEEEE;\"><strong>pandas.transpose()</strong></mark> function, which will transpose the index and columns.\n",
    "```\n",
    "fire_df_columns = fire_df_rows.transpose()\n",
    "```"
   ]
  },
  {
   "cell_type": "code",
   "execution_count": null,
   "id": "a08b7530-1de8-4026-8803-f7c04bcecc60",
   "metadata": {},
   "outputs": [],
   "source": [
    "#Try that down here and see how the output looks."
   ]
  },
  {
   "cell_type": "markdown",
   "id": "1e911265-e0e5-4679-aeac-38b74cb907e2",
   "metadata": {},
   "source": [
    "<h3>Retrieving values from a DataFrame</h3>"
   ]
  },
  {
   "cell_type": "markdown",
   "id": "5e8a014b-d669-49ea-a0a7-2606a5d64b8b",
   "metadata": {},
   "source": [
    "When working with your data, you'll oftentimes need to retrieve a subset of your data to perform calculations, statistical analysis, or simply to visualize you results. Like with Series, you can pull information from your DataFrame either by specifying the column, index, or both (if you wanted to retrieve a specific cell).\n",
    "\n",
    "The syntax is like that used for a Series, where you can treat it like a dictionary.\n",
    "\n",
    "<strong>So if you want to retrieve data based on a specific index:</strong>\n",
    "```\n",
    "fire_df.loc['a']\n",
    "```\n",
    "In this case, you are telling Python that you want to retrieve the values associated with the label <mark style=\"background-color: #EEEEEE;\"><strong>a</strong></mark>.\n",
    "\n",
    "How that will sort of look if you think of the DataFrame as an Excel table:\n",
    "<table style=\"margin-left: 0px;\">\n",
    "    <tr>\n",
    "        <th style=\"background-color: none; border-left: none; border-top: none; width: 100px;\">&nbsp;</th>\n",
    "        <th style=\"background-color: #EEEEEE; border: 1px solid; border-color: #000000; width: 100px;\">0</th>\n",
    "        <th style=\"background-color: #EEEEEE; border: 1px solid; border-color: #000000; width: 100px;\">1</th>\n",
    "        <th style=\"background-color: #EEEEEE; border: 1px solid; border-color: #000000; width: 100px;\">2</th>\n",
    "    </tr>\n",
    "    <tr>\n",
    "        <td style=\"background-color: #FFFF00; border: 1px solid; border-color: #000000; \"><strong>a</strong></td>\n",
    "        <td style=\"background-color: #FFFF00; border: 1px solid; border-color: #000000;\">&nbsp;</td>\n",
    "        <td style=\"background-color: #FFFF00; border: 1px solid; border-color: #000000;\">&nbsp;</td>\n",
    "        <td style=\"background-color: #FFFF00; border: 1px solid; border-color: #000000;\">&nbsp;</td>\n",
    "    </tr>\n",
    "    <tr>\n",
    "        <td style=\"background-color: #EEEEEE; border: 1px solid; border-color: #000000;\"><strong>b</strong></td>\n",
    "        <td style=\"background-color: #FFFFFF; border: 1px solid; border-color: #000000;\">&nbsp;</td>\n",
    "        <td style=\"background-color: #FFFFFF; border: 1px solid; border-color: #000000;\">&nbsp;</td>\n",
    "        <td style=\"background-color: #FFFFFF; border: 1px solid; border-color: #000000;\">&nbsp;</td>\n",
    "    </tr>\n",
    "    <tr>\n",
    "        <td style=\"background-color: #EEEEEE; border: 1px solid; border-color: #000000;\"><strong>c</strong></td>\n",
    "        <td style=\"background-color: #FFFFFF; border: 1px solid; border-color: #000000;\">&nbsp;</td>\n",
    "        <td style=\"background-color: #FFFFFF; border: 1px solid; border-color: #000000;\">&nbsp;</td>\n",
    "        <td style=\"background-color: #FFFFFF; border: 1px solid; border-color: #000000;\">&nbsp;</td>\n",
    "    </tr>\n",
    "    <tr>\n",
    "        <td style=\"background-color: #EEEEEE; border: 1px solid; border-color: #000000;\"><strong>d</td>\n",
    "        <td style=\"background-color: #FFFFFF; border: 1px solid; border-color: #000000;\">&nbsp;</td>\n",
    "        <td style=\"background-color: #FFFFFF; border: 1px solid; border-color: #000000;\">&nbsp;</td>\n",
    "        <td style=\"background-color: #FFFFFF; border: 1px solid; border-color: #000000;\">&nbsp;</td>\n",
    "    </tr>    \n",
    "</table>\n",
    "\n",
    "Where the yellow cells are the ones that you are retrieving with the statement <mark style=\"background-color: #EEEEEE;\"><strong>fire_df.loc['a']</strong></mark>."
   ]
  },
  {
   "cell_type": "code",
   "execution_count": null,
   "id": "584e0aef-03e9-4f46-8c5e-9a4339ac3319",
   "metadata": {},
   "outputs": [],
   "source": [
    "#Try retrieving a specific row based on the index:"
   ]
  },
  {
   "cell_type": "markdown",
   "id": "b1e39c08-0dca-4201-973e-09c7c311aa28",
   "metadata": {},
   "source": [
    "<strong>But if you wanted to retrieve data based on a specific column:</strong>\n",
    "```\n",
    "fire_df['1']\n",
    "```\n",
    "Here, you are kind of telling Python to treat your DataFrame like a dictionary, where you give it a \"key\" value, the string <mark style=\"background-color: #EEEEEE;\"><strong>1</strong></mark>, and Python retrieves the associated values (in this case it's a column of values).\n",
    "\n",
    "How that will sort of look if you think of the DataFrame as an Excel table:\n",
    "<table style=\"margin-left: 0px;\">\n",
    "    <tr>\n",
    "        <th style=\"background-color: none; border-left: none; border-top: none; width: 100px;\">&nbsp;</th>\n",
    "        <th style=\"background-color: #EEEEEE; border: 1px solid; border-color: #000000; width: 100px;\">0</th>\n",
    "        <th style=\"background-color: #FFFF00; border: 1px solid; border-color: #000000; width: 100px;\">1</th>\n",
    "        <th style=\"background-color: #EEEEEE; border: 1px solid; border-color: #000000; width: 100px;\">2</th>\n",
    "    </tr>\n",
    "    <tr>\n",
    "        <td style=\"background-color: #EEEEEE; border: 1px solid; border-color: #000000; \"><strong>a</strong></td>\n",
    "        <td style=\"background-color: #FFFFFF; border: 1px solid; border-color: #000000;\">&nbsp;</td>\n",
    "        <td style=\"background-color: #FFFF00; border: 1px solid; border-color: #000000;\">&nbsp;</td>\n",
    "        <td style=\"background-color: #FFFFFF; border: 1px solid; border-color: #000000;\">&nbsp;</td>\n",
    "    </tr>\n",
    "    <tr>\n",
    "        <td style=\"background-color: #EEEEEE; border: 1px solid; border-color: #000000;\"><strong>b</strong></td>\n",
    "        <td style=\"background-color: #FFFFFF; border: 1px solid; border-color: #000000;\">&nbsp;</td>\n",
    "        <td style=\"background-color: #FFFF00; border: 1px solid; border-color: #000000;\">&nbsp;</td>\n",
    "        <td style=\"background-color: #FFFFFF; border: 1px solid; border-color: #000000;\">&nbsp;</td>\n",
    "    </tr>\n",
    "    <tr>\n",
    "        <td style=\"background-color: #EEEEEE; border: 1px solid; border-color: #000000;\"><strong>c</strong></td>\n",
    "        <td style=\"background-color: #FFFFFF; border: 1px solid; border-color: #000000;\">&nbsp;</td>\n",
    "        <td style=\"background-color: #FFFF00; border: 1px solid; border-color: #000000;\">&nbsp;</td>\n",
    "        <td style=\"background-color: #FFFFFF; border: 1px solid; border-color: #000000;\">&nbsp;</td>\n",
    "    </tr>\n",
    "    <tr>\n",
    "        <td style=\"background-color: #EEEEEE; border: 1px solid; border-color: #000000;\"><strong>d</td>\n",
    "        <td style=\"background-color: #FFFFFF; border: 1px solid; border-color: #000000;\">&nbsp;</td>\n",
    "        <td style=\"background-color: #FFFF00; border: 1px solid; border-color: #000000;\">&nbsp;</td>\n",
    "        <td style=\"background-color: #FFFFFF; border: 1px solid; border-color: #000000;\">&nbsp;</td>\n",
    "    </tr>    \n",
    "</table>\n",
    "\n",
    "Where the yellow cells are the ones that you are retrieving with the statement <mark style=\"background-color: #EEEEEE;\"><strong>fire_df['1']</strong></mark>"
   ]
  },
  {
   "cell_type": "code",
   "execution_count": null,
   "id": "1187090f-43b3-4d6c-a23e-c83b6f220af3",
   "metadata": {},
   "outputs": [],
   "source": [
    "#Try retrieving a specific column based on the column label:"
   ]
  },
  {
   "cell_type": "markdown",
   "id": "8b12ee86-cd5f-46d9-974a-ebf82229782b",
   "metadata": {},
   "source": [
    "<strong>And now, if you want to retrieve a specific cell, you can essentially combine the two methods together.</strong>\n",
    "\n",
    "So let's say that you wanted to retrieve the cell that is specified by row <mark style=\"background-color: #EEEEEE;\"><strong>a</strong></mark> and column <mark style=\"background-color: #EEEEEE;\"><strong>1</strong></mark>. \n",
    "\n",
    "Again if you think of the DataFrame as an Excel table, then the cell that you want to retrieve is at the intersection of a specific column and a specific row.\n",
    "\n",
    "<table style=\"margin-left: 0px;\">\n",
    "    <tr>\n",
    "        <th style=\"background-color: none; border-left: none; border-top: none; width: 100px;\">&nbsp;</th>\n",
    "        <th style=\"background-color: #EEEEEE; border: 1px solid; border-color: #000000; width: 100px;\">0</th>\n",
    "        <th style=\"background-color: #FFFDB6; border: 1px solid; border-color: #000000; width: 100px;\">1</th>\n",
    "        <th style=\"background-color: #EEEEEE; border: 1px solid; border-color: #000000; width: 100px;\">2</th>\n",
    "    </tr>\n",
    "    <tr>\n",
    "        <td style=\"background-color: #FFFDB6; border: 1px solid; border-color: #000000; \"><strong>a</strong></td>\n",
    "        <td style=\"background-color: #FFFDB6; border: 1px solid; border-color: #000000;\">&nbsp;</td>\n",
    "        <td style=\"background-color: #FFFF00; border: 1px solid; border-color: #000000;\">&nbsp;</td>\n",
    "        <td style=\"background-color: #FFFDB6; border: 1px solid; border-color: #000000;\">&nbsp;</td>\n",
    "    </tr>\n",
    "    <tr>\n",
    "        <td style=\"background-color: #EEEEEE; border: 1px solid; border-color: #000000;\"><strong>b</strong></td>\n",
    "        <td style=\"background-color: #FFFFFF; border: 1px solid; border-color: #000000;\">&nbsp;</td>\n",
    "        <td style=\"background-color: #FFFDB6; border: 1px solid; border-color: #000000;\">&nbsp;</td>\n",
    "        <td style=\"background-color: #FFFFFF; border: 1px solid; border-color: #000000;\">&nbsp;</td>\n",
    "    </tr>\n",
    "    <tr>\n",
    "        <td style=\"background-color: #EEEEEE; border: 1px solid; border-color: #000000;\"><strong>c</strong></td>\n",
    "        <td style=\"background-color: #FFFFFF; border: 1px solid; border-color: #000000;\">&nbsp;</td>\n",
    "        <td style=\"background-color: #FFFDB6; border: 1px solid; border-color: #000000;\">&nbsp;</td>\n",
    "        <td style=\"background-color: #FFFFFF; border: 1px solid; border-color: #000000;\">&nbsp;</td>\n",
    "    </tr>\n",
    "    <tr>\n",
    "        <td style=\"background-color: #EEEEEE; border: 1px solid; border-color: #000000;\"><strong>d</td>\n",
    "        <td style=\"background-color: #FFFFFF; border: 1px solid; border-color: #000000;\">&nbsp;</td>\n",
    "        <td style=\"background-color: #FFFDB6; border: 1px solid; border-color: #000000;\">&nbsp;</td>\n",
    "        <td style=\"background-color: #FFFFFF; border: 1px solid; border-color: #000000;\">&nbsp;</td>\n",
    "    </tr>    \n",
    "</table>\n",
    "\n",
    "Then we can specify that we want a slice of both a row and a column, leaving us with a cell that will be returned in the output."
   ]
  },
  {
   "cell_type": "code",
   "execution_count": null,
   "id": "097180cd-18eb-4bb3-b6cc-9111b93917b9",
   "metadata": {},
   "outputs": [],
   "source": [
    "#Give that code a try here.\n",
    "#First specify your row.\n",
    "\n",
    "#Then specify your column.\n",
    "\n",
    "#Combine both into a single line of code.\n",
    "#And play around to select different cells"
   ]
  },
  {
   "cell_type": "markdown",
   "id": "00a75a4c-63f8-4fd8-a617-55e382774d80",
   "metadata": {},
   "source": [
    "Before we do more with our DataFrame, let's add a bit more data into it, using the methods we've learned today."
   ]
  },
  {
   "cell_type": "code",
   "execution_count": null,
   "id": "6cd17a1e-422d-4e07-8a13-aec6ad0db087",
   "metadata": {},
   "outputs": [],
   "source": [
    "#Add more columns with data."
   ]
  },
  {
   "cell_type": "markdown",
   "id": "b349eb91-d79a-4094-b484-d51a4627eb21",
   "metadata": {},
   "source": [
    "One thing that you'll often find yourself needing to do, and that you'll need to do for today's assignment is to retrieve a specific subset of your data based on the values in a column. To do this, you will have to take advantage of the conditional statements that we went over yesterday.\n",
    "\n",
    "For example, if we wanted to retrieve the rows that in column <mark style=\"background-color: #EEEEEE;\"><strong>1</strong></mark> that are greater than 2.8, we can take advantage of conditional statements. This is kind of building upon what we did with Series earlier where we provided conditional statements to get a specific slice that satisfies the condition that we indicated.\n",
    "```\n",
    "fire_2_8 = fire_df.loc[fire_df['1'] > 2.8]\n",
    "```\n",
    "So let's break this down to understand what we are telling the Notebook to do:\n",
    "<ul>\n",
    "    <li><mark style=\"background-color: #EEEEEE;\"><strong>fire_2_8</strong></mark> - the variable for our new DataFrame</li>\n",
    "    <li><mark style=\"background-color: #EEEEEE;\"><strong>&equals;</strong></mark> - the assignment operator</li>\n",
    "    <li><mark style=\"background-color: #EEEEEE;\"><strong>fire_df</strong></mark> - the DataFrame we're going to filter</li>\n",
    "    <li><mark style=\"background-color: #EEEEEE;\"><strong>.loc[...]</strong></mark> - function that retrieves a specific row or rows</li>\n",
    "    <li><mark style=\"background-color: #EEEEEE;\"><strong>fire_df['1']</strong></mark> - we will first pull values from column <mark style=\"background-color: #EEEEEE;\"><strong>1</strong></mark></li>\n",
    "    <li><mark style=\"background-color: #EEEEEE;\"><strong>&gt;</strong></mark> - a conditional statement we will apply to the elements we're pulling. In this case, we want the elements that are greater than something</li>\n",
    "    <li><mark style=\"background-color: #EEEEEE;\"><strong>2.8</strong></mark> - the value to which our conditional statement is making a comparison. We want elements that have a value greater than 2.8</li>\n",
    "</ul>\n",
    "\n",
    "If we wanted to pull rows that have a specific value, then we can instead use the <mark style=\"background-color: #EEEEEE;\"><strong>&equals;&equals;</strong></mark> conditional statement."
   ]
  },
  {
   "cell_type": "code",
   "execution_count": null,
   "id": "b332b235-6de8-445b-b8df-d82849cc62b5",
   "metadata": {},
   "outputs": [],
   "source": [
    "#Try filtering out any rows are less than or equal to 2.8 in column 1 and set it as a new DataFrame"
   ]
  },
  {
   "cell_type": "markdown",
   "id": "5cce4394-a47f-42c0-a6e1-3a40f675c60d",
   "metadata": {},
   "source": [
    "<h3>Organizing your DataFrame</h3>"
   ]
  },
  {
   "cell_type": "markdown",
   "id": "d0daf03c-b140-4b34-9ad0-ef827a815403",
   "metadata": {},
   "source": [
    "You'll likely often need to organize your data or move things around or sort it depending on how your specific analyses and how you want to keep things organized within your DataFrames. You can add cells, as you've just done, and you can also sort and re-order your DataFrame. You can also delete slices of your DataFrame as well. "
   ]
  },
  {
   "cell_type": "markdown",
   "id": "a0235670-75db-4016-9384-7fe2b063f62c",
   "metadata": {},
   "source": [
    "<h4>Sorting and re-ordering a DataFrame</h4>"
   ]
  },
  {
   "cell_type": "markdown",
   "id": "64e90374-4268-4b66-bee8-3dc26a9d65ba",
   "metadata": {},
   "source": [
    "Sorting, like in Excel, lets you organize your DataFrame based on the values of a specified column. \n",
    "\n",
    "This type of action is done through the <mark style=\"background-color: #EEEEEE;\"><strong>pandas.DataFrame.sort_values()</strong></mark> function. Documentation is <u><a href=\"https://pandas.pydata.org/docs/reference/api/pandas.DataFrame.sort_values.html\" rel=\"noopener noreferrer\" target=\"_blank\">here</a></u>.\n",
    "\n",
    "So if we wanted to organize our DataFrame from earlier based on the values of a specific column:\n",
    "```\n",
    "fire_df.sort_values(by=['1'])\n",
    "```\n",
    "You can add in additional parameters:\n",
    "\n",
    "<ul>\n",
    "    <li><mark style=\"background-color: #EEEEEE;\"><strong>ascending=</strong></mark> True or False (default is True). Specifies if you wan to sort in ascending order or not.</li>\n",
    "    <li><mark style=\"background-color: #EEEEEE;\"><strong>na_position=</strong></mark>'first' or 'last' (default is 'last'). Specifies how you want the function to handle <mark style=\"background-color: #EEEEEE;\"><strong>NaN</strong></mark>.</li>\n",
    "</ul>\n",
    "\n",
    "There are other parameters as well that you can check out in the documentation <u><a href=\"https://pandas.pydata.org/docs/reference/api/pandas.DataFrame.sort_values.html\" rel=\"noopener noreferrer\" target=\"_blank\">here</a></u>."
   ]
  },
  {
   "cell_type": "code",
   "execution_count": null,
   "id": "b78ff0d9-5ed7-4eec-be03-37fc9a2a26c2",
   "metadata": {},
   "outputs": [],
   "source": [
    "#Give it a try here sorting by column"
   ]
  },
  {
   "cell_type": "markdown",
   "id": "3885281c-6c95-4ddc-b6d3-dde050a130f4",
   "metadata": {},
   "source": [
    "Sometimes you might find yourself needing to reorganize the order in which the columns are read, such as if you want a 'Last name' column to appear before a 'First name' column. If you have a small number of columns or column labels with short strings, you can manually input the order of columns to create a new DataFrame that contains the columns ordered how you want it.\n",
    "```\n",
    "fire_df_reorg = fire_df[['1', 0, '3', '4', '2']]\n",
    "```\n",
    "Let's break this down:\n",
    "<ul>\n",
    "    <li><mark style=\"background-color: #EEEEEE;\"><strong>fire_df_reorg</strong></mark> - this is our variable to which we will asisgn our reorganized DataFrame</li>\n",
    "    <li><mark style=\"background-color: #EEEEEE;\"><strong>=</strong></mark> - this is our assignment operator</li>\n",
    "    <li><mark style=\"background-color: #EEEEEE;\"><strong>fire_df</strong></mark> - this is the DataFrame that we want to reorganize</li>\n",
    "    <li><mark style=\"background-color: #EEEEEE;\"><strong>[...]</strong></mark> - we are telling Python that we want a column or columns defined by a list of elements that we provide</li>\n",
    "    <li><mark style=\"background-color: #EEEEEE;\"><strong>['1', 0, '3', '4', '2']</strong></mark> - this is the list of elements that we are telling Python to pull columns from and in this order (remember lists are ordered)</li>\n",
    "</ul>\n",
    "\n",
    "What we are essentially doing is creating a list <mark style=\"background-color: #EEEEEE;\"><strong>['1', 0, '3', '4', '2']</strong></mark> that contains the order in which we want our columns to be based on the header values. We then use this list to retrieve the columns from the DataFrame <mark style=\"background-color: #EEEEEE;\"><strong>fire_df</strong></mark> in the order that we indicated in the list, and then assign the resulting DataFrame to our variable <mark style=\"background-color: #EEEEEE;\"><strong>fire_df_reorg</strong></mark>.\n",
    "\n"
   ]
  },
  {
   "cell_type": "code",
   "execution_count": null,
   "id": "32195b8c-d865-4cc3-a3e9-546fbd06d7dc",
   "metadata": {},
   "outputs": [],
   "source": [
    "#Try reorganizing your DataFrame columns using the above syntax."
   ]
  },
  {
   "cell_type": "markdown",
   "id": "645dad51-700d-4baf-9c1e-c4a6eb46e1b8",
   "metadata": {},
   "source": [
    "If you want to re-arrange the order of your columns based on their labels, you can essentially create a list that contains your column headers. Then from there, create a list that has your column headers reorganized by playing around with slice notation to get the order that you want. Then you create a new DataFrame and populate it with the correct order of columns.\n",
    "```\n",
    "headers_list = list(fire_df.columns)\n",
    "\n",
    "headers_list_sorted = headers_list[::-1]\n",
    "\n",
    "fire_df_column_inverse = fire_df[headers_list_sorted]\n",
    "```\n"
   ]
  },
  {
   "cell_type": "code",
   "execution_count": null,
   "id": "23bb3301-46ac-4b81-b9fe-313ea918abfa",
   "metadata": {},
   "outputs": [],
   "source": [
    "#Give that a try here:\n",
    "#First create a list of your column labels.\n",
    "\n",
    "#Check to see if things look okay.\n",
    "\n",
    "#Now inverse that list using slice notation.\n",
    "\n",
    "#Check \n",
    "\n",
    "#Now generate a new, inversed DataFrame using the updated header list"
   ]
  },
  {
   "cell_type": "markdown",
   "id": "dc7fb4f4-77ce-430e-9f0a-6e84803f8aa3",
   "metadata": {},
   "source": [
    "<h1 style=\"font-size: 40px; margin-bottom: 0px;\">Importing Your Data</h1>\n",
    "\n",
    "<hr style=\"margin-left: 0px; border: 0.25px solid; border-color: #000000; width: 600px;\"></hr>"
   ]
  },
  {
   "cell_type": "markdown",
   "id": "3b90101f-2bf4-4e41-9ed7-6523d142cd76",
   "metadata": {},
   "source": [
    "So now that we've gone over the basics of working with data structures in Python, we can move on to the more fun part, where we will learn to import data into our notebooks and extract information from there to plot. We'll use the functions that we've covered today and yesterday and continue building on that by using the <u><a href=\"https://data.cdc.gov/Case-Surveillance/Weekly-United-States-COVID-19-Cases-and-Deaths-by-/pwn4-m3yp/about_data\" rel=\"noopener noreferrer\" target=\"_blank\">COVID-19 weekly case numbers dataset</a></u> available from the CDC.\n",
    "\n",
    "When you pulled in the GitHub repo today, your copy of the class repo should be updated with today's notebook as well as a .csv file called \"CDC_COVID_CASES.csv\"."
   ]
  },
  {
   "cell_type": "markdown",
   "id": "2944956f-0640-4a72-ad3e-46a24fb7565b",
   "metadata": {},
   "source": [
    "<h2 style=\"font-size: 32px;\">Using pandas to import data</h2>"
   ]
  },
  {
   "cell_type": "markdown",
   "id": "4b04eaf7-3775-4de7-9f4a-f74ef1e5ceae",
   "metadata": {},
   "source": [
    "To import your data, you can make use of different functions based on how your data is saved. Generally, you want to keep the data table minimal without too many other frills in the file, so that the DataFrame that's created is easy to work with when you import it. Otherwise, you'll need to do more cleaning to remove unwanted sections of your DataFrame that might contain other things like random notes or comments in some cell off to the side.\n",
    "\n",
    "<strong>If you have a .xlsx file:</strong>\n",
    "\n",
    "You can make use of the <mark style=\"background-color: #EEEEEE;\"><strong>pandas.read_excel()</strong></mark> function. <u><a href=\"https://pandas.pydata.org/docs/reference/api/pandas.read_excel.html\" rel=\"noopener noreferrer\" target=\"_blank\">Click here for documentation.</a></u>\n",
    "\n",
    "<strong>Or if you have a .csv file:</strong>\n",
    "\n",
    "You can use the <mark style=\"background-color: #EEEEEE;\"><strong>pandas.read_csv()</strong></mark> function. <u><a href=\"https://pandas.pydata.org/docs/reference/api/pandas.read_csv.html\" rel=\"noopener noreferrer\" target=\"_blank\">Click here for documentation.</a></u>\n",
    "\n",
    "Both functions will read your file and use it to generate a pandas DataFrame that you will be able to work with in your notebook.\n",
    "\n",
    "So in our case, if we want to import the CDC COVID case numbers:\n",
    "```\n",
    "COVID_all = pd.read_csv('CDC_COVID_CASES.csv')\n",
    "```\n",
    "So breaking this down, what we have is:\n",
    "<ul>\n",
    "    <li><mark style=\"background-color: #EEEEEE;\"><strong>COVID_all</strong></mark> - this is our variable that will contain our imported data</li>\n",
    "    <li><mark style=\"background-color: #EEEEEE;\"><strong>=</strong></mark> - this is our assignment operator</li>\n",
    "    <li><mark style=\"background-color: #EEEEEE;\"><strong>pd.read_csv()</strong></mark> - we are telling Python from the <mark style=\"background-color: #EEEEEE;\"><strong>pd</strong></mark> package, we want to use the <mark style=\"background-color: #EEEEEE;\"><strong>read_csv()</strong></mark> function.</li>\n",
    "    <li><mark style=\"background-color: #EEEEEE;\"><strong>'CDC_COVID_CASES.csv'</strong></mark> - the file that contains the data we want to import. Since the file is in the same directory as our notebook, we don't need to specify a file path, but if it were in a different directory, we will need to specify the file path.</li>\n",
    "</ul>"
   ]
  },
  {
   "cell_type": "code",
   "execution_count": null,
   "id": "3ffa68da-396b-41e6-808e-4425cc97801c",
   "metadata": {},
   "outputs": [],
   "source": [
    "#Let's import the CDC's COVID case data"
   ]
  },
  {
   "cell_type": "markdown",
   "id": "940c4111-d241-4663-bd0c-3654b76beca2",
   "metadata": {},
   "source": [
    "<h2 style=\"font-size: 32px;\">Visualizing a DataFrame</h2>"
   ]
  },
  {
   "cell_type": "markdown",
   "id": "f4c2e79a-e4ae-4246-ab40-bc1784d58f5e",
   "metadata": {},
   "source": [
    "You'll see when you import your data, that there's no output. This is because all we've done is tell Python to import the data, create a pandas DataFrame, and assign the object to our variable <mark style=\"background-color: #EEEEEE;\"><strong>COVID_all</strong></mark>.\n",
    "\n",
    "We can make use of the <mark style=\"background-color: #EEEEEE;\"><strong>print()</strong></mark> function to take a look at our data as a basic output."
   ]
  },
  {
   "cell_type": "code",
   "execution_count": null,
   "id": "a90b5789-969f-42ca-9f19-976cd0178172",
   "metadata": {},
   "outputs": [],
   "source": [
    "#Print out your COVID_all DataFrame."
   ]
  },
  {
   "cell_type": "markdown",
   "id": "3786bd96-ae05-4ef6-944c-c14391a764ec",
   "metadata": {},
   "source": [
    "You can see it's probably not the most pretty looking table, and it probably wraps around, making it harder to read as well. And if your DataFrame is large, like in our case, where we have thousands of rows of data, the output will show only the first five and last five rows separated by ellipses to indicate that there are rows that aren't being printed in the output."
   ]
  },
  {
   "cell_type": "markdown",
   "id": "c633a59e-ee2b-4610-95f9-e4d4c3316522",
   "metadata": {},
   "source": [
    "<h3>DataFrame attributes</h3>"
   ]
  },
  {
   "cell_type": "markdown",
   "id": "ff5d6178-3cba-4f77-a80b-33bb3d560824",
   "metadata": {},
   "source": [
    "Pandas DataFrames have certain attributes, such as <mark style=\"background-color: #EEEEEE;\"><strong>head</strong></mark> and <mark style=\"background-color: #EEEEEE;\"><strong>tail</strong></mark>, which correspond to the first five and last five rows of your DataFrame, respectively. So, if you just wanted to do a quick check to see if your data was imported into your notebook correctly, you can also make use of the <mark style=\"background-color: #EEEEEE;\"><strong>pandas.DataFrame.head()</strong></mark> or <mark style=\"background-color: #EEEEEE;\"><strong>pandas.DataFrame.tail()</strong></mark> functions.\n",
    "```\n",
    "COVID_all.head()\n",
    "```\n",
    "So here, we're telling Python to retrieve the <mark style=\"background-color: #EEEEEE;\"><strong>head</strong></mark> of our <mark style=\"background-color: #EEEEEE;\"><strong>COVID_all</strong></mark> DataFrame, which means it will retrieve the first five rows, and we can take a look at how our data looks like."
   ]
  },
  {
   "cell_type": "code",
   "execution_count": null,
   "id": "6152ac16-459a-4bfb-9960-bbab649a4c2c",
   "metadata": {},
   "outputs": [],
   "source": [
    "#Take a look at just the first 5 rows by using the head() function."
   ]
  },
  {
   "cell_type": "markdown",
   "id": "f04b46f6-48de-4ca1-888a-fb10d3db1dbc",
   "metadata": {},
   "source": [
    "Again, the output's not the most pretty, but if you want a quick look, it gets the job done."
   ]
  },
  {
   "cell_type": "markdown",
   "id": "60e224d6-bad6-4d2f-99cf-c4d1e0fac6e7",
   "metadata": {},
   "source": [
    "<h3>Stylized DataFrame outputs</h3>"
   ]
  },
  {
   "cell_type": "markdown",
   "id": "83287eae-e6b4-4058-a399-f536caeaf578",
   "metadata": {},
   "source": [
    "If you wanted to have a more easily readable table that isn't just a plain-text output, you can also make use of pandas functions to get a more stylized output that is rendered in the output in a way that you're more familiar with.\n",
    "\n",
    "To do this, you can make use of the <mark style=\"background-color: #EEEEEE;\"><strong>pandas.DataFrame.style</strong></mark> function. This will output a stylized HTML representation of your DataFrame.\n",
    "\n",
    "Documentation for the <mark style=\"background-color: #EEEEEE;\"><strong>pandas.DataFrame.style</strong></mark> function is <u><a href=\"https://pandas.pydata.org/docs/reference/api/pandas.DataFrame.style.html\" rel=\"noopener noreferrer\" target=\"_blank\">here</a></u>."
   ]
  },
  {
   "cell_type": "code",
   "execution_count": null,
   "id": "e3602bdf-6bc1-4e67-aa19-eafef0e377fd",
   "metadata": {},
   "outputs": [],
   "source": [
    "#Output a stylized table of your DataFrame COVID_all"
   ]
  },
  {
   "cell_type": "markdown",
   "id": "ae39d2e8-48ee-4437-8a0c-bdd4e0ca51c4",
   "metadata": {},
   "source": [
    "You can see that it also outputs your entire table. The <mark style=\"background-color: #EEEEEE;\"><strong>pandas.DataFrame.style</strong></mark> function can also be combined with the <mark style=\"background-color: #EEEEEE;\"><strong>pandas.DataFrame.head()</strong></mark> or <mark style=\"background-color: #EEEEEE;\"><strong>pandas.DataFrame.tail()</strong></mark> functions as well to output a subset of your DataFrame in a prettier way."
   ]
  },
  {
   "cell_type": "code",
   "execution_count": null,
   "id": "f5ac1843-e73a-4946-a15f-f577ea6cfd0c",
   "metadata": {},
   "outputs": [],
   "source": [
    "#Work out how the syntax will be in that case."
   ]
  },
  {
   "cell_type": "markdown",
   "id": "b3511934-6c56-4be4-969a-38c11520ecc5",
   "metadata": {},
   "source": [
    "To visualize specific regions of our DataFrame, we can also make use of slice notation combined with the <mark style=\"background-color: #EEEEEE;\"><strong>pandas.DataFrame.style</strong></mark> function"
   ]
  },
  {
   "cell_type": "code",
   "execution_count": null,
   "id": "e89c7669-a955-4aac-a60d-14de1123fbb1",
   "metadata": {},
   "outputs": [],
   "source": [
    "#Work out the syntax for printing a prettier table with slice notation.\n",
    "#Let's say we want rows 10-20 (correspond to index 9-19)."
   ]
  },
  {
   "cell_type": "markdown",
   "id": "11ccb26f-f196-4701-a0cb-8d7062015cd8",
   "metadata": {},
   "source": [
    "<h2 style=\"font-size: 32px;\">Extracting a subset of data</h2>"
   ]
  },
  {
   "cell_type": "markdown",
   "id": "d26faaf8-1d52-4514-93d4-61a028ae8f3e",
   "metadata": {},
   "source": [
    "Slice notation is handy and all, but if we want a specific subset of data, say if we're only interested in California's COVID case numbers, but we don't know how many rows there are and also where it is located in the data. \n",
    "\n",
    "So what should we tell Python to do if we want it to create a DataFrame just for California's COVID cases?"
   ]
  },
  {
   "cell_type": "code",
   "execution_count": null,
   "id": "434dc43e-fd85-4581-b973-adc3e6ac9102",
   "metadata": {},
   "outputs": [],
   "source": [
    "#First identify what column we'll need to use to pull our data."
   ]
  },
  {
   "cell_type": "code",
   "execution_count": null,
   "id": "c05965d0-5e09-4ec0-8e30-58dd03fbb162",
   "metadata": {},
   "outputs": [],
   "source": [
    "#How do we get just the California cells?"
   ]
  },
  {
   "cell_type": "code",
   "execution_count": null,
   "id": "0efbf10a-475b-449a-8cbc-462e531d4ac0",
   "metadata": {},
   "outputs": [],
   "source": [
    "#Now pull out rows."
   ]
  },
  {
   "cell_type": "code",
   "execution_count": null,
   "id": "4dda3557-c820-44d6-be77-78468d3a42c1",
   "metadata": {},
   "outputs": [],
   "source": [
    "#Remember to work with this subset of data,\n",
    "#we'll need to assign it to a new DataFrame."
   ]
  },
  {
   "cell_type": "code",
   "execution_count": null,
   "id": "04518039-8ed6-41b4-bd33-9e1ce1d30cc1",
   "metadata": {},
   "outputs": [],
   "source": [
    "#Let's take a look at the first 5 rows again using the head() function"
   ]
  },
  {
   "cell_type": "markdown",
   "id": "47794604-b238-4562-b6e3-e4c4ab69200b",
   "metadata": {},
   "source": [
    "We can also take a look at the full, CA dataset in a prettier way."
   ]
  },
  {
   "cell_type": "code",
   "execution_count": null,
   "id": "79401845-722d-4c2a-9c8f-bc36545bbfc3",
   "metadata": {},
   "outputs": [],
   "source": [
    "#Take a look by using the pandas.DataFrame.style function"
   ]
  },
  {
   "cell_type": "markdown",
   "id": "b271fa94-e9ea-4676-a3ca-7ec79c156457",
   "metadata": {},
   "source": [
    "<h1 style=\"font-size: 40px; margin-bottom: 0px;\">Plotting Your Data</h1>\n",
    "\n",
    "<hr style=\"margin-left: 0px; border: 0.25px solid; border-color: #000000; width: 600px;\"></hr>"
   ]
  },
  {
   "cell_type": "markdown",
   "id": "87e5c2ed-8c0a-44db-bcd2-4503b95d467e",
   "metadata": {},
   "source": [
    "Pretty HTML tables are nice and all, but it's easier to see the data visually in a plot. So now, let's learn how to plot our data in our notebook."
   ]
  },
  {
   "cell_type": "markdown",
   "id": "2c366a25-74bd-4a40-a92a-f5d6515ab16e",
   "metadata": {},
   "source": [
    "<h2 style=\"font-size: 32px;\">Matplotlib</h2>"
   ]
  },
  {
   "cell_type": "markdown",
   "id": "4b2b833e-2e32-472a-a6c8-43f45877003d",
   "metadata": {},
   "source": [
    "The main package that basically everyone uses to plot data in Python is called **matplotlib**. It's an extensive library that contains a bunch of functions to create any number of plots for data visualization. It can create static, animated, and interactive plots. The versatility of matplotlib is really helpful in creating publication quality figures.\n",
    "\n",
    "You can find the documentation of matplotlib <u><a href=\"https://matplotlib.org/\" rel=\"noopener noreferrer\" target=\"_blank\">here</a></u>.\n",
    "\n",
    "Because it can get confusing at times to figure out how to set up a plot a certain way or what functions are available, a quick Google search can often aid in helping find the right code to get your data to plot the way you want it to (or you can also ask ChatGPT)."
   ]
  },
  {
   "cell_type": "markdown",
   "id": "020ba47c-76fc-4e7d-aef2-f5e6cf4fed7e",
   "metadata": {},
   "source": [
    "<h2 style=\"font-size: 32px;\">Basic plot set-up</h2>"
   ]
  },
  {
   "cell_type": "markdown",
   "id": "f8680085-6080-4f3f-b4ab-43bd164252fa",
   "metadata": {},
   "source": [
    "To keep things easy to follow, we'll set up some variables to keep things a bit tidy. Sometimes, you can just jump right into plotting by retrieving data directly from your DataFrame without first assigning it to a variable. But for now, we'll set up some variables with random data to plot.\n",
    "\n",
    "Let's make use of a NumPy function called <mark style=\"background-color: #EEEEEE;\"><strong>numpy.arange()</strong></mark> to set a range of X-axis values. <u><a href=\"https://numpy.org/doc/stable/reference/generated/numpy.arange.html\" rel=\"noopener noreferrer\" target=\"_blank\">Documentation is here</a></u>.\n",
    "\n",
    "The <mark style=\"background-color: #EEEEEE;\"><strong>numpy.arange()</strong></mark> function can take a few arguments: a start value, a stop value, and a step size. This will output an array containing a range of evenly spaced values within your specified interval, so this is an easy way to quickly set up X-axis values for this example.\n",
    "```\n",
    "np.arange(start, stop, step)\n",
    "```"
   ]
  },
  {
   "cell_type": "code",
   "execution_count": null,
   "id": "df7c6a6d-3f5c-4d72-8cc0-95005fe25137",
   "metadata": {},
   "outputs": [],
   "source": [
    "#Set up your X-axis values and assign them to a variable"
   ]
  },
  {
   "cell_type": "markdown",
   "id": "e7253369-0c2a-4a3d-8fbb-6d8a54041c19",
   "metadata": {},
   "source": [
    "Now lets make use of NumPy's random number generator again to generate some random Y-values."
   ]
  },
  {
   "cell_type": "code",
   "execution_count": null,
   "id": "73b9fca4-ac95-4063-b332-b1dc0d7ff41f",
   "metadata": {},
   "outputs": [],
   "source": [
    "#Use np.random.rand() function to create a 1D array of some fake data"
   ]
  },
  {
   "cell_type": "markdown",
   "id": "d8b0d040-4477-4793-af08-d9caf6b5a4a4",
   "metadata": {},
   "source": [
    "Okay so now we have our X-values and Y-values assigned to their respective variables. So then let's take these values and create a simple line plot.\n",
    "\n",
    "To do this, we'll make use of the <mark style=\"background-color: #EEEEEE;\"><strong>matplotlib.pyplot.plot()</strong></mark> function. Documentation for that function can be found <u><a href=\"https://matplotlib.org/stable/api/_as_gen/matplotlib.pyplot.plot.html\" rel=\"noopener noreferrer\" target=\"_blank\">here</a></u>.\n",
    "\n",
    "Recall that waaaay at the top of this notebook, we've imported <mark style=\"background-color: #EEEEEE;\"><strong>matplotlib.pyplot</strong></mark> as <mark style=\"background-color: #EEEEEE;\"><strong>plt</strong></mark>. So if we want to call up the <mark style=\"background-color: #EEEEEE;\"><strong>matplotlib.pyplot.plot()</strong></mark> function, we can do by typing in <mark style=\"background-color: #EEEEEE;\"><strong>plt.plot()</strong></mark>. This is because we've imported the <mark style=\"background-color: #EEEEEE;\"><strong>matplotlib.pyplot</strong></mark> package as <mark style=\"background-color: #EEEEEE;\"><strong>plt</strong></mark>, so Python knows when we indicate <mark style=\"background-color: #EEEEEE;\"><strong>plt.plot()</strong></mark> that we want the <mark style=\"background-color: #EEEEEE;\"><strong>plot()</strong></mark> function from the <mark style=\"background-color: #EEEEEE;\"><strong>matplotlib.pyplot</strong></mark> package.\n",
    "\n",
    "How that will look like is:\n",
    "```\n",
    "plt.plot(basic_x_values, basic_y_values)\n",
    "```\n",
    "This plot function will generate a line plot for us."
   ]
  },
  {
   "cell_type": "code",
   "execution_count": null,
   "id": "b6e3df6d-abb7-4ffb-aab0-21eac2915ad6",
   "metadata": {},
   "outputs": [],
   "source": [
    "#Let's plot!"
   ]
  },
  {
   "cell_type": "markdown",
   "id": "55f7d02d-717a-4bd6-9d45-e53d5ded952e",
   "metadata": {},
   "source": [
    "<h3>Basic plot set-up with CDC COVID-19 data</h3>"
   ]
  },
  {
   "cell_type": "markdown",
   "id": "f212ee68-80c4-4b28-a92a-fe5795938d29",
   "metadata": {},
   "source": [
    "Let's try plotting the number of new weekly cases in CA over the full time frame that the dataset was collected. First, we can retrieve just our timepoints, which will be our X-axis values."
   ]
  },
  {
   "cell_type": "code",
   "execution_count": null,
   "id": "9cbb8ed0-8410-4fec-8ecc-77061dbbf9fa",
   "metadata": {},
   "outputs": [],
   "source": [
    "#Let's assign our X-axis values to a variable"
   ]
  },
  {
   "cell_type": "code",
   "execution_count": null,
   "id": "a186cc87-2361-4a2c-8f6e-0e45a4d56705",
   "metadata": {},
   "outputs": [],
   "source": [
    "#let's check to see if we got what we wanted by printing the first 5 rows."
   ]
  },
  {
   "cell_type": "markdown",
   "id": "b851aa12-f68c-465f-a02f-e46cf5d59f57",
   "metadata": {},
   "source": [
    "So we have our timepoints assigned to a variable. Let's get the associated new case numbers."
   ]
  },
  {
   "cell_type": "code",
   "execution_count": null,
   "id": "89c5e350-1b75-40c8-ac95-4734b26c0156",
   "metadata": {},
   "outputs": [],
   "source": [
    "#Assign new cases values to a variable"
   ]
  },
  {
   "cell_type": "code",
   "execution_count": null,
   "id": "23e49677-9b2c-4848-9a05-7eb2ca6832b9",
   "metadata": {},
   "outputs": [],
   "source": [
    "#Let's do a quick sanity check by printing the first 5 rows."
   ]
  },
  {
   "cell_type": "code",
   "execution_count": null,
   "id": "5c91c496-90f7-4522-acd7-f30ea24dd649",
   "metadata": {},
   "outputs": [],
   "source": [
    "#Let's plot the number of new cases for CA"
   ]
  },
  {
   "cell_type": "markdown",
   "id": "bcf3971a-9c95-4e15-a889-dc079c1d1ed7",
   "metadata": {},
   "source": [
    "With this basic function, we can now visualize our data. But what you can see is that it's there, but there's quite a few issues still. For example, we're missing our axes labels and our X-axis tick marks are all overlapping and completely unreadable. And the 0 value of the y-axis also isn't at the bottom of the graph."
   ]
  },
  {
   "cell_type": "markdown",
   "id": "faddf52b-efd2-46c9-959d-0f50d20979a7",
   "metadata": {},
   "source": [
    "<h2 style=\"font-size: 32px;\">Modifying your plots</h2>"
   ]
  },
  {
   "cell_type": "markdown",
   "id": "fa146804-cfb3-4c88-bf9f-52b1c3e7825c",
   "metadata": {},
   "source": [
    "<h3>Plotting dates</h3>"
   ]
  },
  {
   "cell_type": "markdown",
   "id": "1281c302-29b5-4789-83ae-42fea2d57fc3",
   "metadata": {},
   "source": [
    "We can begin to make adjustments to our basic plot to work towards creating a plot that shows our data in a neater way.\n",
    "\n",
    "To do this, we need to take a look under the hood to get an idea of how Python in interpretting the data we imported and make any needed adjustments. That way, Python understands our data, and we can have it generate a better visualization. "
   ]
  },
  {
   "cell_type": "markdown",
   "id": "ab72b6a6-e67e-4f29-8963-b38e6f5623cc",
   "metadata": {},
   "source": [
    "Our X-axis is dates, and we actually don't really know how Python is interpreting the values in our <mark style=\"background-color: #EEEEEE;\"><strong>end_dates</strong></mark> column. Let's pull out a date from our DataFrame and take a look at the data type."
   ]
  },
  {
   "cell_type": "code",
   "execution_count": null,
   "id": "8bec8afe-2628-4a03-a837-6983d2e5f855",
   "metadata": {},
   "outputs": [],
   "source": [
    "#Let's output our table here just to see it again or you can scroll back up."
   ]
  },
  {
   "cell_type": "code",
   "execution_count": null,
   "id": "130ceb19-486b-4a71-88ea-51ed531d7d27",
   "metadata": {},
   "outputs": [],
   "source": [
    "#Now let's take a look at a value in the end_date column"
   ]
  },
  {
   "cell_type": "markdown",
   "id": "cbce6b1f-83b0-4ea8-8053-322a839027cd",
   "metadata": {},
   "source": [
    "You can see that the date is imported as **str**. So Python is interpretting it as text and not associating any time value to it.\n",
    "\n",
    "To have Python be able to interpret the dates that we imported, we will make use of additional functions in pandas, specifically the <mark style=\"background-color: #EEEEEE;\"><strong>pandas.to_datetime()</strong></mark> function. <u><a href=\"https://pandas.pydata.org/docs/reference/api/pandas.to_datetime.html\" rel=\"noopener noreferrer\" target=\"_blank\">Documentation is here</a></u>. This function will convert our str to a datetime.\n",
    "```\n",
    "pd.to_datetime(COVID_CA['end_date'])\n",
    "```"
   ]
  },
  {
   "cell_type": "code",
   "execution_count": null,
   "id": "9b4c586f-987e-47cc-aeb1-455c5d944611",
   "metadata": {},
   "outputs": [],
   "source": [
    "#We need Python to understand that there's temporal information\n",
    "#and not just arbitrary text."
   ]
  },
  {
   "cell_type": "code",
   "execution_count": null,
   "id": "dad778d2-6947-412d-a168-8740fba6cd52",
   "metadata": {},
   "outputs": [],
   "source": [
    "#Let's take a look at what changed:"
   ]
  },
  {
   "cell_type": "markdown",
   "id": "28393d3e-9df4-48eb-bce5-7aecca4da32f",
   "metadata": {},
   "source": [
    "With this function, you can see not only did the data type change from **str** to **datetime64** but also how it is written out. The <mark style=\"background-color: #EEEEEE;\"><strong>pandas.to_datetime()</strong></mark> function allows Python to interpret our **str** as something with a time value."
   ]
  },
  {
   "cell_type": "markdown",
   "id": "d3386f73-6dfc-4e62-9819-dec6259b1169",
   "metadata": {},
   "source": [
    "Let's see how our plot looks now with this update."
   ]
  },
  {
   "cell_type": "code",
   "execution_count": null,
   "id": "4e20c959-a08a-4d81-95eb-53a04cde0ede",
   "metadata": {},
   "outputs": [],
   "source": [
    "#Plot now with a the updated X-values:"
   ]
  },
  {
   "cell_type": "markdown",
   "id": "5dee2052-05db-480a-8bad-b2300da40765",
   "metadata": {},
   "source": [
    "Now you can see that we appear to be moving in the right direction. The X-values are now interpreted as dates, and the way the X-axis is displayed has been updated too."
   ]
  },
  {
   "cell_type": "markdown",
   "id": "c6840e3e-a79b-4dbe-b6af-2992b329462a",
   "metadata": {},
   "source": [
    "<h3>Updating X-axis and Y-axis labels</h3>"
   ]
  },
  {
   "cell_type": "markdown",
   "id": "613d8253-5f94-4185-b1c8-10e543d382ec",
   "metadata": {},
   "source": [
    "So now let's make some addtional modifications, specifically, we want our plot to have their axes labeled with something.\n",
    "\n",
    "To do this, we can make use of the <a href=\"https://matplotlib.org/stable/api/_as_gen/matplotlib.pyplot.xlabel.html\" rel=\"noopener noreferrer\" target=\"_blank\"><mark style=\"background-color: #EEEEEE;\"><strong>matplot.pyplot.plt.xlabel()</strong></mark></a> and <a href=\"https://matplotlib.org/stable/api/_as_gen/matplotlib.pyplot.ylabel.html\" rel=\"noopener noreferrer\" target=\"_blank\"><mark style=\"background-color: #EEEEEE;\"><strong>matplot.pyplot.plt.ylabel()</strong></mark></a> functions. Click on the function to go to their documentation.\n",
    "\n",
    "For example, if we want to label our X-axis as \"Date\":\n",
    "```\n",
    "plt.xlabel('Date')\n",
    "```\n",
    "\n",
    "And if we wanted to label our Y-axis as \"Number of new weekly cases\":\n",
    "```\n",
    "plt.ylabel('Number of new weekly cases')\n",
    "```\n",
    "You can see that the argument to indicate what we want the axis to be labeled is provided as a **str**."
   ]
  },
  {
   "cell_type": "code",
   "execution_count": null,
   "id": "72402888-0d6b-494e-b0a5-861bb8c4c719",
   "metadata": {},
   "outputs": [],
   "source": [
    "#Label your axes, and then re-plot your data again."
   ]
  },
  {
   "cell_type": "markdown",
   "id": "aad64731-1c63-4921-8fdb-de3a89f1a38b",
   "metadata": {},
   "source": [
    "<h3>Updating X-axis and Y-axis ticks</h3>"
   ]
  },
  {
   "cell_type": "markdown",
   "id": "4ebccb01-79e6-45e9-87eb-f64eb470c1b1",
   "metadata": {},
   "source": [
    "Now let's do one final touch-up and fix up our X-axis tickmarks. We can do this by using the function <mark style=\"background-color: #EEEEEE;\"><strong>matplotlib.pyplot.xticks()</strong></mark>. <u><a href=\"https://matplotlib.org/stable/api/_as_gen/matplotlib.pyplot.xticks.html\" rel=\"noopener noreferrer\" target=\"_blank\">Documentation for that is here</a></u>. A similar function exists to adjust Y-axis ticks and tickmarks as well.\n",
    "```\n",
    "plt.xticks(rotation=30)\n",
    "```\n",
    "Here, we're simply adjusting the way the tickmarks are oriented, so that way, they hopefully won't overlap with one another, and will be more legible."
   ]
  },
  {
   "cell_type": "code",
   "execution_count": null,
   "id": "01687e75-2aaa-456a-824a-a2514a9766d0",
   "metadata": {},
   "outputs": [],
   "source": [
    "#Let's put all the code together"
   ]
  },
  {
   "cell_type": "markdown",
   "id": "de055747-51ae-4ed4-b3ac-5fc020ce58dc",
   "metadata": {},
   "source": [
    "<h3>Setting X-axis and Y-axis limits</h3>"
   ]
  },
  {
   "cell_type": "markdown",
   "id": "042ef10f-8241-4ecd-a572-7eb1679e639f",
   "metadata": {},
   "source": [
    "We can also tell Python what the bounds of our axes are by setting X-axis limits and Y-axis limits through the use of <a href=\"https://matplotlib.org/stable/api/_as_gen/matplotlib.pyplot.xlim.html\" rel=\"noopener noreferrer\" target=\"_blank\"><mark style=\"background-color: #EEEEEE;\"><strong>matplotlib.pyplot.xlim()</strong></mark></a> and <a href=\"https://matplotlib.org/stable/api/_as_gen/matplotlib.pyplot.ylim.html\" rel=\"noopener noreferrer\" target=\"_blank\"><mark style=\"background-color: #EEEEEE;\"><strong>matplotlib.pyplot.ylim()</strong></mark></a> respectively. Click on each for documentation.\n",
    "\n",
    "For example, if we wanted to set our Y-limits:\n",
    "```\n",
    "plt.ylim(0, 350000)\n",
    "```\n",
    "With this set-up, the plot will also shift the 0 value down to the bottom of the graph, which is what we're used to expecting."
   ]
  },
  {
   "cell_type": "code",
   "execution_count": null,
   "id": "242e019e-af89-4548-b5f6-6386c41d13aa",
   "metadata": {},
   "outputs": [],
   "source": [
    "#Let's put all the code together again."
   ]
  },
  {
   "cell_type": "markdown",
   "id": "40a701e3-ceca-4b05-a0c5-e874cf4d4c3a",
   "metadata": {},
   "source": [
    "Now, let's set up some X-axis limits to focus in on a particular window of time. This is a little less straightforward because again, we are working with dates, so we'll need to make use of the <mark style=\"background-color: #EEEEEE;\"><strong>pandas.to_datetime()</strong></mark> function. To keep things easy to follow along, we can set up our bounds as variables too.\n",
    "\n",
    "For example, if we wanted to set up the lower boundary:\n",
    "```\n",
    "time_lower_bound = pd.to_datetime('03/01/2020')\n",
    "```"
   ]
  },
  {
   "cell_type": "code",
   "execution_count": null,
   "id": "ce3841e4-c6f4-4c86-bc6f-dc23797b0238",
   "metadata": {},
   "outputs": [],
   "source": [
    "#Set the lower bound and upper bound of the x-axis to their own variables."
   ]
  },
  {
   "cell_type": "code",
   "execution_count": null,
   "id": "27fb4521-ea08-4b25-acc7-993e726f457a",
   "metadata": {},
   "outputs": [],
   "source": [
    "#Let's put all the code together again."
   ]
  },
  {
   "cell_type": "markdown",
   "id": "f764cce3-7a3b-471a-8a04-9141fa1160e7",
   "metadata": {},
   "source": [
    "So that's the basic ways of setting up and modifying a plot, and there's a bunch more things you can do, but we may be short on time today for that."
   ]
  }
 ],
 "metadata": {
  "kernelspec": {
   "display_name": "Python [conda env:root] *",
   "language": "python",
   "name": "conda-root-py"
  },
  "language_info": {
   "codemirror_mode": {
    "name": "ipython",
    "version": 3
   },
   "file_extension": ".py",
   "mimetype": "text/x-python",
   "name": "python",
   "nbconvert_exporter": "python",
   "pygments_lexer": "ipython3",
   "version": "3.11.0"
  }
 },
 "nbformat": 4,
 "nbformat_minor": 5
}
