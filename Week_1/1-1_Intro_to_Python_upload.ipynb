{
 "cells": [
  {
   "cell_type": "markdown",
   "id": "2bbb27d9-a0d5-40ba-8615-6427f0ce6019",
   "metadata": {},
   "source": [
    "<h1 style=\"font-size: 40px; margin-bottom: 0px;\">1.1 Intro to Python</h1>\n",
    "\n",
    "<hr style=\"margin-left: 0px; border: 0.25px solid; border-color: #000000; width: 600px;\"></hr>"
   ]
  },
  {
   "cell_type": "markdown",
   "id": "e381b167-b085-4c8c-9dd9-c783b4d0371a",
   "metadata": {},
   "source": [
    "This course assumes that you have no prior experience with Python or data analysis. Python has many applications, and in this course, we'll be learning how to use it in the context of bioinformatics and data analysis in biology research. If you have any questions during lab sessions, don't hesitate to ask questions. For those of you with previous experience, feel free to help out your classmates. \n",
    "\n",
    "This course makes use of Jupyter Notebooks, which is an open-source, online computing platform that allows you to write and run code for data analysis. Jupyter supports multiple languages including Python and R. You can create and share documents that contain live code, equations, visualizations, and text. UC Berkeley's JupyterHub service provides you with the computational infrastructure to help lower the activation energy to getting started because it already comes with resources for data analysis and bioinformatics. \n",
    "\n",
    "This notebook provides an environment for interactive computing in Python. You can write narrative text (like this), write and run code, and you can visualize your data and the outputs of your analyses.\n",
    "\n",
    "If at anytime, you need to redownload the original version of a notebook for this class, you can simply delete or rename your old one, and pull the GitHub repo for this class again.\n",
    "\n",
    "In today's class, we'll be going over the basics of Python, its syntax, and a few useful packages for data analysis. \n"
   ]
  },
  {
   "cell_type": "markdown",
   "id": "4ab03eb3-0771-4b65-90fc-4e22f52e4ef0",
   "metadata": {},
   "source": [
    "<h1 style=\"font-size: 40px; margin-bottom: 0px;\">Notebook Structure</h1>\n",
    "<hr style=\"margin-left: 0px; border: 0.25px solid; border-color: #000000; width: 600px;\"></hr>"
   ]
  },
  {
   "cell_type": "markdown",
   "id": "de6dcfcf-5648-4d97-9a0a-eb2b04f84615",
   "metadata": {},
   "source": [
    "In this notebook, you can see that this section is separated from the previous sections. Each section is a **cell**, and each cell can be independently modified from another cell. Cells can be designated as **Code**, **Markdown**, or **Raw**."
   ]
  },
  {
   "cell_type": "markdown",
   "id": "34d12605-9193-48d6-8e3b-78c3d01ddbda",
   "metadata": {},
   "source": [
    "<h2 style=\"font-size: 32px;\">Code</h2>"
   ]
  },
  {
   "cell_type": "markdown",
   "id": "0bf141e1-ee0b-463f-8eda-4164adb6073c",
   "metadata": {},
   "source": [
    "By designating a cell as **Code**, you can execute and run programming code. In this case, the programming language is Python. \n",
    "\n",
    "*Click on this cell to select it.* On the top righthand side of this cell, you should see a colored vertical bar to the left and an outline around this section, indicating that this cell is selected. You should also be able to see at the top righthand corner, six icons. Click on the **Insert a cell below** icon or press **B**. You should see an empty code cell appear below this one. By default, cells are designated as code. \n",
    "\n",
    "*Type into your new cell, 1+1 and then press **Shift+Enter**.* This will run the code just in your selected cell and advance to the next cell, and the output will appear below it.\n",
    "\n",
    "<hr style=\"margin-left: 0px; border: 0.25px solid; border-color: #EEEEEEE; width: 600px;\"></hr>"
   ]
  },
  {
   "cell_type": "markdown",
   "id": "fc791a80-1011-4751-842e-d7341625873c",
   "metadata": {},
   "source": [
    "What you can see is that the code is interpreted as a mathematical expression, and when you run the cell, the notebook acts as a calculator."
   ]
  },
  {
   "cell_type": "markdown",
   "id": "d63f8332-3282-402c-98ae-87bedef8e523",
   "metadata": {},
   "source": [
    "<h2  style=\"font-size: 32px;\">Markdown</h2>"
   ]
  },
  {
   "cell_type": "markdown",
   "id": "09ea7fe2-c2c9-4194-9afd-adfca0298b71",
   "metadata": {},
   "source": [
    "You can also designate a cell as **Markdown**, which allows you to create text, add images, tables, links, and code that won't be executed.\n",
    "\n",
    "For example, *create a new cell below this one*, and then at the top bar of this notebook, you should see a dropdown menu showing Code.\n",
    "\n",
    "*Open the dropdown menu and select Markdown. Type into the cell 1+1, then press **Shift+Enter**.*\n",
    "\n",
    "<hr style=\"margin-left: 0px; border: 0.25px solid; border-color: #EEEEEE; width: 600px;\"></hr>"
   ]
  },
  {
   "cell_type": "markdown",
   "id": "7971df7f-9883-41d7-bd35-f7427993dfbe",
   "metadata": {},
   "source": [
    "You'll notice that this time, the notebook is not generating any output. This is because the cell is designated as Markdown, and so it will not run code.\n",
    "\n",
    "It will, however, format text, images, tables, etc. based on HTML/CSS and Markdown syntax. You can see examples of this by double-clicking any of the Markdown cells to see how it's formatted in plain-text. You can hit **Shift+Enter** to return to the formatted text."
   ]
  },
  {
   "cell_type": "markdown",
   "id": "0e2d203d-1c58-4191-a4a2-8b41155d2c0e",
   "metadata": {},
   "source": [
    "<h2  style=\"font-size: 32px;\">Raw</h2>"
   ]
  },
  {
   "cell_type": "markdown",
   "id": "e1d80888-a541-4a9f-a4bf-d0dcddcef604",
   "metadata": {},
   "source": [
    "The final designation is **Raw**. This is for more specific use cases. Raw cells are used when you need to render in a different code format, such as HTML or LaTeX. "
   ]
  },
  {
   "cell_type": "markdown",
   "id": "6d30e033-8b40-4d8e-b45c-aa3f2d50859e",
   "metadata": {},
   "source": [
    "<h2 style=\"font-size: 32px;\">Hiding and revealing cells</h2>"
   ]
  },
  {
   "cell_type": "markdown",
   "id": "52ecc196-7920-4a1e-8fd9-895b2b5dc5d7",
   "metadata": {},
   "source": [
    "You can also collapse cells if you want to reduce visual clutter, reduce vertical height, or focus on a specific set of cells.\n",
    "\n",
    "*Select the cell above this one*. You should see an arrowhead on the left. If you click on that arrowhead, you'll hide the cells below it."
   ]
  },
  {
   "cell_type": "markdown",
   "id": "18091c57-f1c8-4fb4-86bf-9d9147707ced",
   "metadata": {},
   "source": [
    "Since the header is denoted with an HTML header2 tag (see below, or double click the header)\n",
    "```\n",
    "<h2>Hiding and revealing cells</h2>\n",
    "```\n",
    "The three cells below it are considered its children."
   ]
  },
  {
   "cell_type": "markdown",
   "id": "2f89c8d7-86d3-4a64-bb83-69309c090483",
   "metadata": {},
   "source": [
    "And those cells can be hidden, leaving only the header **Hiding and revealing cells**"
   ]
  },
  {
   "cell_type": "markdown",
   "id": "930f90b1-6f10-4be1-bd90-4e3770d617f9",
   "metadata": {},
   "source": [
    "<h2 style=\"font-size: 32px;\">Moving cells</h2>"
   ]
  },
  {
   "cell_type": "markdown",
   "id": "428611de-6e79-427a-a37f-4c8dca2bb27a",
   "metadata": {},
   "source": [
    "You can move cells around as well if you need to rearrange things or to have a specific cell run before another one.\n",
    "\n",
    "*Select this cell.* You should see at the top righthand side, an up and a down arrow. Click the arrow to move this cell either above the preceding cell or below the following cell."
   ]
  },
  {
   "cell_type": "markdown",
   "id": "0352f1ac-eecd-4076-8c24-dce83a82ec03",
   "metadata": {},
   "source": [
    "<h2 style=\"font-size: 32px;\">Duplicating and deleting cells</h2>"
   ]
  },
  {
   "cell_type": "markdown",
   "id": "2ef8abe1-fa5d-41e5-812c-efe5a0d3b84c",
   "metadata": {},
   "source": [
    "You can also duplicate and delete cells with their respective icons at the top righthand side of a selected cell.\n",
    "\n",
    "*Select this cell.* Click the **Create a duplicate of this cell below** icon to duplicate this cell.\n",
    "\n",
    "*Select the duplicated cell.* Click the **Delete this cell** icon or double-press **D** to delete the copied cell."
   ]
  },
  {
   "cell_type": "markdown",
   "id": "f9f0dfca-8cfd-45bc-ab77-d971749d91bc",
   "metadata": {},
   "source": [
    "<h1 style=\"font-size: 40px; margin-bottom: 0px;\">Syntax</h1>\n",
    "<hr style=\"margin-left: 0px; border: 0.25px solid; border-color: #000000; width: 600px;\"></hr>\n"
   ]
  },
  {
   "cell_type": "markdown",
   "id": "f28519a3-2ff6-4731-92bc-00f1ff2fee12",
   "metadata": {},
   "source": [
    "Like with any language, programming languages follow a specific syntax so that it can be interpreted and executed. You'll want to understand how things are interpreted in Python to have a good handle on getting Python to do what you want it to."
   ]
  },
  {
   "cell_type": "markdown",
   "id": "8cbbae81-0de6-4e14-98bb-5ee787dbeba5",
   "metadata": {},
   "source": [
    "<h2 style=\"font-size: 32px;\">Comments in code cells</h2>"
   ]
  },
  {
   "cell_type": "markdown",
   "id": "69030aa2-e62a-4eac-9fea-6db83ca418c7",
   "metadata": {},
   "source": [
    "Often, you will annotate your code with comments. To mark a line of code out as a comment, you can add <mark style=\"background-color: #EEEEEE\"><strong>#</strong></mark> at the start of the line. The notebook will then interpret the entire line as a comment, and it won't be run as code.\n",
    "\n",
    "To create a new line in a code cell, simply press **Enter**.\n",
    "\n",
    "Comments are important because when you return to your code later on, you can recall what you were doing or why you were doing it, or when someone is reviewing your code, they are able to understand your thought process and how your code is set up. "
   ]
  },
  {
   "cell_type": "code",
   "execution_count": null,
   "id": "93e71e0c-e159-4e2d-896c-21b510d621e4",
   "metadata": {},
   "outputs": [],
   "source": [
    "#Run this code cell to see what the output is.\n",
    "3+3\n",
    "#You should see that lines marked as a comment are not run as code or included in the output."
   ]
  },
  {
   "cell_type": "markdown",
   "id": "0cac4351-6091-43aa-a36e-522f94abca41",
   "metadata": {},
   "source": [
    "Comments can come in handy if you need to remove line(s) of code from running without deleting them, you can mark them out as a comment. This keeps the lines there without having them executed when you run the cell.\n",
    "\n",
    "*Return to the previous code cell, and add a <mark style=\"background-color: #EEEEEE\"><strong>#</strong></mark> to the front of the math expression, then hit **Shift+Enter** to run the cell.* You should see that the line that you marked out as a comment is no longer executed."
   ]
  },
  {
   "cell_type": "markdown",
   "id": "eddc04ae-157d-4d39-ae52-2136c121938e",
   "metadata": {},
   "source": [
    "If you place a <mark style=\"background-color: #EEEEEE\"><strong>#</strong></mark> in the middle of a line, everything in the rest of the line will be ignored."
   ]
  },
  {
   "cell_type": "code",
   "execution_count": null,
   "id": "7e02415e-a6c4-4964-9d9a-0a60ceab1649",
   "metadata": {},
   "outputs": [],
   "source": [
    "#For example, try running this code cell to see how the output looks.\n",
    "3+3 #+ 2+2\n",
    "#You should see that the portions after a # are excluded from running.\n",
    "#If you remove the #, and re-run the cell, you should see that the rest of the expression is now executed."
   ]
  },
  {
   "cell_type": "markdown",
   "id": "1591123c-6b2f-4fa0-aabe-9ef4046cfb99",
   "metadata": {},
   "source": [
    "<h3>Multiline comments</h3>\n",
    "\n",
    "As you probably noticed, if you want to have comments spanning multiple lines, you need to mark out each line as a comment individually, since Python does not have syntax to denote a multiline comment."
   ]
  },
  {
   "cell_type": "markdown",
   "id": "71657666-2cf5-4bb9-a694-0694eca079d1",
   "metadata": {},
   "source": [
    "<h2 style=\"font-size: 32px;\">Numbers and basic math</h2>"
   ]
  },
  {
   "cell_type": "markdown",
   "id": "b53fac71-1df4-4785-8c0d-e2d0d93d3fae",
   "metadata": {},
   "source": [
    "As you have seen earlier when playing with code cells, the notebook is able to act as a calculator because it can interpret the numbers and mathematical expressions you input.\n",
    "\n",
    "Below, let's run through some quick math calculations to get a feel for running code cells. In the empty code cells, practice running some basic calculations such as the ones shown. Feel free to play with different numbers.\n",
    "\n",
    "Addition is denoted by <mark style=\"background-color: #EEEEEE;\"><strong>+</strong></mark>\n",
    "```\n",
    "3+3\n",
    "```"
   ]
  },
  {
   "cell_type": "code",
   "execution_count": null,
   "id": "c6f66b7a-ae30-42bb-ae7b-678b4cabb276",
   "metadata": {},
   "outputs": [],
   "source": [
    "#Play with some addition."
   ]
  },
  {
   "cell_type": "markdown",
   "id": "bdf24bd6-7714-4bb1-a83c-41c6b1fdc92b",
   "metadata": {},
   "source": [
    "Subtraction is denoted by <mark style=\"background-color: #EEEEEE\"><strong>-</strong></mark>\n",
    "```\n",
    "6-3\n",
    "````"
   ]
  },
  {
   "cell_type": "code",
   "execution_count": null,
   "id": "1f90f26a-133c-4d83-a7b9-78eacd35b04d",
   "metadata": {},
   "outputs": [],
   "source": [
    "#Try out subtraction."
   ]
  },
  {
   "cell_type": "markdown",
   "id": "807cae21-79af-4a31-9041-a74448623486",
   "metadata": {},
   "source": [
    "Multiplication is denoted by <mark style=\"background-color: #EEEEEE\"><strong>*</strong></mark>\n",
    "```\n",
    "3*2\n",
    "```"
   ]
  },
  {
   "cell_type": "code",
   "execution_count": null,
   "id": "6c6e8959-04da-4490-9084-df95b6a3c122",
   "metadata": {},
   "outputs": [],
   "source": [
    "#Have the notebook do your multiplication."
   ]
  },
  {
   "cell_type": "markdown",
   "id": "f24a71d9-1370-421d-a7b1-17d6f004a1da",
   "metadata": {},
   "source": [
    "Division is denoted by <mark style=\"background-color: #EEEEEE\"><strong>/</strong></mark>\n",
    "```\n",
    "6/2\n",
    "```"
   ]
  },
  {
   "cell_type": "code",
   "execution_count": null,
   "id": "73b2e9f1-0877-4d22-ac5f-76788bcecf9b",
   "metadata": {},
   "outputs": [],
   "source": [
    "#And division too."
   ]
  },
  {
   "cell_type": "markdown",
   "id": "9a399a26-c654-4f1d-9b10-4941af267c02",
   "metadata": {},
   "source": [
    "You can also calculate powers by using the <mark style=\"background-color: #EEEEEE\"><strong>**</strong></mark> operator\n",
    "```\n",
    "3**2\n",
    "```"
   ]
  },
  {
   "cell_type": "code",
   "execution_count": null,
   "id": "582bea16-a09a-40ae-a711-939090f62b2c",
   "metadata": {},
   "outputs": [],
   "source": [
    "#And even calculate exponents."
   ]
  },
  {
   "cell_type": "markdown",
   "id": "e8d6acbf-e478-422d-9dbc-10e58322b751",
   "metadata": {},
   "source": [
    "<h3 style=\"font-size: 24px;\">Integer vs Float</h3>"
   ]
  },
  {
   "cell_type": "markdown",
   "id": "699e2fa3-a1b7-4840-b46c-db8a23c01adb",
   "metadata": {},
   "source": [
    "Python has multiple ways of classifying a number, and it's important to keep this in mind as sometimes when you are executing specific functions, they require the number to be a specific data type.\n",
    "\n",
    "An **int** is a numeric data type that represents **integers** (positive or negative whole numbers), and as such, they do not have decimals in them. This data type is often used in Python for counting and indexing. \n",
    "\n",
    "On the other hand, a **float** represents a **floating point value** (numbers with decimals). This data type comes into play when dealing with numbers that are not integers and for performing mathematical calculations, since values can be represented with decimals.\n",
    "\n",
    "In the case of division, the calculated value that Python returns is a **float**, and you should be able to see in the calculation(s) you performed above that the values it outputs are represented with decimals."
   ]
  },
  {
   "cell_type": "markdown",
   "id": "feb5e3b1-7c51-458f-b1be-c72f713d61ce",
   "metadata": {},
   "source": [
    "<h2 style=\"font-size: 32px;\">Text</h2>"
   ]
  },
  {
   "cell_type": "markdown",
   "id": "84e30de8-6bda-4361-b0ae-a49591e9f5e8",
   "metadata": {},
   "source": [
    "Text in Python is represented by the data type **str** also called **strings**. Characters enclosed within either single quotations (<mark style=\"background-color: #EEEEEE\"><strong>'...'</strong></mark>) or double quotations (<mark style=\"background-color: #EEEEEE\"><strong>\"...\"</strong></mark>) are interpretted as **str**, and this includes: \n",
    "<ul>\n",
    "    <li>Single characters - <mark style=\"background-color: #EEEEEE\"><strong>'A'</strong></mark> or <mark style=\"background-color: #EEEEEE\"><strong>\"A\"</strong></mark></li>\n",
    "    <li>Special characters - <mark style=\"background-color: #EEEEEE\"><strong>'?'</strong></mark> or <mark style=\"background-color: #EEEEEE\"><strong>\"?\"</strong></mark></li>\n",
    "    <li>Numbers - <mark style=\"background-color: #EEEEEE\"><strong>'1'</strong></mark> or <mark style=\"background-color: #EEEEEE\"><strong>\"1\"</strong></mark></li>\n",
    "    <li>Sentences or phrases - <mark style=\"background-color: #EEEEEE\"><strong>'This is a sentence.'</strong></mark> or <mark style=\"background-color: #EEEEEE\"><strong>\"This is a sentence.\"</strong></mark></li>\n",
    "    <li>Or a combination of the above - <mark style=\"background-color: #EEEEEE\"><strong>'Is this 1 sentence?'</strong></mark> or <mark style=\"background-color: #EEEEEE\"><strong>\"Is this 1 sentence?\"</strong></mark></li>\n",
    "</ul>\n",
    "\n"
   ]
  },
  {
   "cell_type": "code",
   "execution_count": null,
   "id": "9e86f151-a5ad-4cac-861b-5d297935bb07",
   "metadata": {},
   "outputs": [],
   "source": [
    "#Try defining a string in this code cell by using either single quotes or double quotes."
   ]
  },
  {
   "cell_type": "markdown",
   "id": "3074ecd7-9d5f-4959-94d1-de891d3a67ca",
   "metadata": {},
   "source": [
    "Strings can also be manipulated by the same operators that we use for math expressions. For example, if you want to stick mulitple strings together (concatenate), you can make use of the <mark style=\"background-color: #EEEEEE\"><strong>+</strong></mark> operator."
   ]
  },
  {
   "cell_type": "code",
   "execution_count": null,
   "id": "92c5619e-17f3-417f-b8af-4e7d482798f1",
   "metadata": {},
   "outputs": [],
   "source": [
    "#The + operator will stick a string to the preceding one."
   ]
  },
  {
   "cell_type": "markdown",
   "id": "c10a6bad-ffdd-4093-9d1e-7e46a5a2b41e",
   "metadata": {},
   "source": [
    "Strings can be repeated by using the <mark style=\"background-color: #EEEEEE\"><strong>*</strong></mark> operator."
   ]
  },
  {
   "cell_type": "code",
   "execution_count": null,
   "id": "625be27b-7952-48f7-919d-4e3c8494c389",
   "metadata": {},
   "outputs": [],
   "source": [
    "#The * operator will repeat the string and concatenate the repeats,\n",
    "#and the number of repeats is defined by a provided int data type."
   ]
  },
  {
   "cell_type": "markdown",
   "id": "c90f60ff-3b5d-4aef-9a4c-34876bef86f9",
   "metadata": {},
   "source": [
    "If the value you provide is not an **int**, but rather a **float**, then Python will give you an error."
   ]
  },
  {
   "cell_type": "code",
   "execution_count": null,
   "id": "6086c0f7-d3ce-4a4f-a58d-e455f07fe980",
   "metadata": {},
   "outputs": [],
   "source": [
    "#Run this cell with a float."
   ]
  },
  {
   "cell_type": "markdown",
   "id": "f8e8340a-5fc8-40dd-951e-bc3a6d48ad4a",
   "metadata": {},
   "source": [
    "This is a simple case, where the difference between **int** and **float** comes into play."
   ]
  },
  {
   "cell_type": "markdown",
   "id": "59700929-b259-44a0-8f8a-a8fb201bd7a6",
   "metadata": {},
   "source": [
    "<h2 style=\"font-size: 32px;\">Indentation</h2>"
   ]
  },
  {
   "cell_type": "markdown",
   "id": "fb3544d0-c011-449d-bd6c-45e22f284503",
   "metadata": {},
   "source": [
    "Python is sensitive to indentation, and while in other languages, indentation is used to help with readability, indentation in Python indicates a specific block of code. You'll see this become important as you run more complex code and functions, but for now, you'll just want to keep this in mind."
   ]
  },
  {
   "cell_type": "markdown",
   "id": "cff2ac2b-2525-4c5e-b368-9f62e5779a00",
   "metadata": {},
   "source": [
    "<h2 style=\"font-size: 32px;\">Variables</h2>"
   ]
  },
  {
   "cell_type": "markdown",
   "id": "9d861819-0510-4c0d-9814-d4e34f69bed9",
   "metadata": {},
   "source": [
    "**Variables** in Python can be thought of as a label for an object, and as such, act as a pointer.\n",
    "\n",
    "**Objects** in Python can be basically anything, such as a **float** or **int** or later on compound data types like **list**, and every object will have an associated data value, data type, and identity.  The identity (<mark style=\"background-color: #EEEEEE;\"><strong>id</strong></mark>) property of an object is assigned when that object is generated. What this means under the hood is that Python allocates memory for it and the <mark style=\"background-color: #EEEEEE;\"><strong>id</strong></mark> can be thought of as an \"address\" for Python to find or access the object. \n",
    "\n",
    "You can assign an object to a variable, which can be accessed later on in the code. If you don't assign an object to a variable, Python will leave that \"address\" available for other uses as well, so it can be freed up if needed. However, by assigning an object to a variable, you essentially tell Python that you you'll need that object for something later on, and so Python will know to hold onto the memory allocated for that object.\n",
    "\n",
    "This allows you to perform calculations and assign the results to a variable, which can then be used in subsequent calculations or visualizations.\n",
    "\n",
    "To assign a value to a variable, you will use the <mark style=\"background-color: #EEEEEE\"><strong>=</strong></mark> operator. \n",
    "```\n",
    "A = 3\n",
    "```\n",
    "This tells Python that the variable **A** will be assigned a value **3**."
   ]
  },
  {
   "cell_type": "code",
   "execution_count": null,
   "id": "3186018d-5da7-4007-b8eb-f4b36088a3ae",
   "metadata": {},
   "outputs": [],
   "source": [
    "#In a code cell, the above will look like:\n",
    "\n",
    "#And if you run this code cell, you'll notice that there's no output.\n",
    "#That's because Python is simply assigning the value to the variable."
   ]
  },
  {
   "cell_type": "markdown",
   "id": "d190af15-53b3-4285-96e5-164a0579f4c5",
   "metadata": {},
   "source": [
    "The value that you assign can be either an **int**, as shown above, or a **float** or **str**, and later on, you'll see that you can also assign **arrays**, **lists**, or **tuples** to variables as well. "
   ]
  },
  {
   "cell_type": "code",
   "execution_count": null,
   "id": "eb0d9673-fbd1-48f3-90ad-da3f89b71513",
   "metadata": {},
   "outputs": [],
   "source": [
    "#Here, we'll assign a float to variable B.\n",
    "\n",
    "#And then, assign a str to variable C.\n",
    "\n",
    "#Make sure you run this code cell; otherwise, Python will not assign the values to variables B and C."
   ]
  },
  {
   "cell_type": "markdown",
   "id": "673e14ce-ac68-4a69-ade4-d7c02165126e",
   "metadata": {},
   "source": [
    "Let's check to see if our variables are properly assigned."
   ]
  },
  {
   "cell_type": "code",
   "execution_count": null,
   "id": "7a65e0d5-e2a8-4c56-8e74-20358f9901df",
   "metadata": {},
   "outputs": [],
   "source": [
    "#You can simply type the variable into its own line, and run the cell."
   ]
  },
  {
   "cell_type": "code",
   "execution_count": null,
   "id": "2ac27fc1-6470-4233-9f96-dd12955acddc",
   "metadata": {},
   "outputs": [],
   "source": [
    "#Let's check the variable B."
   ]
  },
  {
   "cell_type": "code",
   "execution_count": null,
   "id": "403a9fab-2987-41e3-8862-a4d9be9ab206",
   "metadata": {},
   "outputs": [],
   "source": [
    "#And the variable C, as well."
   ]
  },
  {
   "cell_type": "markdown",
   "id": "31a95eb6-9929-4c87-9e3e-69de22721f4f",
   "metadata": {},
   "source": [
    "With these variables assigned, we can also use them in math expressions and manipulate the values using the mathematical operators we're famililar with."
   ]
  },
  {
   "cell_type": "code",
   "execution_count": null,
   "id": "574eb498-f8a9-415e-a51d-c8886d9752db",
   "metadata": {},
   "outputs": [],
   "source": [
    "#Add A and B together."
   ]
  },
  {
   "cell_type": "code",
   "execution_count": null,
   "id": "81d2e2ca-39ee-4d64-97f2-8fa2a0a5986f",
   "metadata": {},
   "outputs": [],
   "source": [
    "#Repeat C by the number of times indicated by variable A."
   ]
  },
  {
   "cell_type": "markdown",
   "id": "ded74fb3-9c5f-4435-9ec9-846d134bc870",
   "metadata": {},
   "source": [
    "We can also perform operations and assign the results to a specific variable.\n",
    "\n",
    "For example:\n",
    "```\n",
    "D = 3**3\n",
    "```\n",
    "*Give it a try in the empty code cell below.*"
   ]
  },
  {
   "cell_type": "code",
   "execution_count": null,
   "id": "9afa3b6f-e825-4990-a591-4081aa30acce",
   "metadata": {},
   "outputs": [],
   "source": []
  },
  {
   "cell_type": "markdown",
   "id": "4080661f-2719-4e87-8e30-108529f4e6fb",
   "metadata": {},
   "source": [
    "You should notice that no output is spit out even though you are performing a calculation. This is because you're assigning the results of that calculation to a variable."
   ]
  },
  {
   "cell_type": "markdown",
   "id": "5851aa3b-7bc9-4445-a4da-9bfeafcecd2a",
   "metadata": {},
   "source": [
    "You can combine variables, values, and operations together into one.\n",
    "\n",
    "For example:\n",
    "```\n",
    "E = D + 5*(A+B)\n",
    "```\n",
    "\n",
    "*Give it a try in the empty code cell below.*"
   ]
  },
  {
   "cell_type": "code",
   "execution_count": null,
   "id": "1efe2827-1614-4258-a7c9-f3b7aa258df5",
   "metadata": {},
   "outputs": [],
   "source": [
    "#Play around with assigning the results of calculations to different variables in this code cell.\n",
    "#Or you can create additional code cells to play around in as well."
   ]
  },
  {
   "cell_type": "markdown",
   "id": "63f208f0-3112-428c-8c0f-c6e14e643b8d",
   "metadata": {},
   "source": [
    "<h3 style=\"font-size: 24px;\">Naming conventions for Python variables</h3>"
   ]
  },
  {
   "cell_type": "markdown",
   "id": "02912432-07a0-4d75-a981-c055fdbcd5c0",
   "metadata": {},
   "source": [
    "There are a few rules that restrict how you can name variables in Python.\n",
    "\n",
    "Only a specific set of characters are allowed in names for variables:\n",
    "<ul>\n",
    "    <li>Alphanumeric characters - <mark style=\"background-color: #EEEEEE\"><strong>A</strong></mark> or <mark style=\"background-color: #EEEEEE\"><strong>Variable</strong></mark> or <mark style=\"background-color: #EEEEEE\"><strong>A1</strong></mark></li>\n",
    "    <li>Underscores - <mark style=\"background-color: #EEEEEE\"><strong>Variable_A1</strong></mark> or <mark style=\"background-color: #EEEEEE\"><strong>A_variable_1</strong></mark> or <mark style=\"background-color: #EEEEEE\"><strong>_variable_A1</strong></mark></li>\n",
    "</ul>\n",
    "\n",
    "Names of variables must begin with either a **letter** or an **underscore**. They **cannot** begin with a number, so <mark style=\"background-color: #EEEEEE\"><strong>1potato</strong></mark> is not a valid variable name.\n",
    "\n",
    "Names are case-sensitive, so <mark style=\"background-color: #EEEEEE\"><strong>A</strong></mark> is different than <mark style=\"background-color: #EEEEEE\"><strong>a</strong></mark>, and <mark style=\"background-color: #EEEEEE\"><strong>DeliciousPotato</strong></mark> is different than <mark style=\"background-color: #EEEEEE\"><strong>deliciouspotato</strong></mark> ~but both are equally delicious~.\n",
    "\n",
    "Names for variables cannot have a hyphen, so <mark style=\"background-color: #EEEEEE\"><strong>delicious-potato</strong></mark> is an invalid name. You can instead use an underscore: <mark style=\"background-color: #EEEEEE\"><strong>delicious_potato</strong></mark>."
   ]
  },
  {
   "cell_type": "markdown",
   "id": "9b5e3184-d574-4478-9f92-e2307894dcaa",
   "metadata": {},
   "source": [
    "<h2 style=\"font-size: 32px;\">Functions, parameters, and arguments</h2>"
   ]
  },
  {
   "cell_type": "markdown",
   "id": "bc88dd46-e1f2-4d1b-a367-552ff9e9d144",
   "metadata": {},
   "source": [
    "A **function** is a block of code, consisting of a series of statements, that performs its defined specific task only when called. Generally, a function will return some kind of output value. The actions that a function will take are usually either pre-built into Python, such as the <mark style=\"background-color: #EEEEEE\"><strong>print()</strong></mark> function, or defined by modules you import (more on this later), or defined by you. These actions can range from simple math calculations, returning an output of a data type, or more complex tasks. \n",
    "\n",
    "For example, let's try out the <mark style=\"background-color: #EEEEEE\"><strong>print()</strong></mark> function in the empty code cell below."
   ]
  },
  {
   "cell_type": "code",
   "execution_count": null,
   "id": "da3160c9-ee71-49bf-895c-317d3b6caef7",
   "metadata": {},
   "outputs": [],
   "source": [
    "#Run this cell to print the sentence: What a delicious potato.\n",
    "print('What a delicious potato.')\n",
    "#Note that by enclosing the sentence in single quotes ' ' Python interprets the sentence as a string."
   ]
  },
  {
   "cell_type": "code",
   "execution_count": null,
   "id": "c6b1f34c-62a2-4267-88e7-376dc43d859d",
   "metadata": {},
   "outputs": [],
   "source": [
    "#You can also print variables and the results of calculations.\n",
    "\n",
    "#or you can first assign the result to a variable, then print the result.\n"
   ]
  },
  {
   "cell_type": "code",
   "execution_count": null,
   "id": "e454031b-d9bf-42cf-9fc9-fd96b74770b9",
   "metadata": {},
   "outputs": [],
   "source": [
    "#And you can print multiple values together using the print function."
   ]
  },
  {
   "cell_type": "markdown",
   "id": "680a6fdc-8102-431b-af6f-16a387b9f90e",
   "metadata": {},
   "source": [
    "<h3>Parameter vs argument</h3>\n",
    "\n",
    "A function generally requires some kind of input or information that is passed to it in order to perform its action. **Parameters** are what kinds of information or inputs the function requires in order to perform its task. These are named when defining the specific function. On the other hand, an **argument** is the specific value that is passed to the function. Oftentimes, these two are used interchangeably, but essentially, the argument is the value you set a specific parameter to.  \n",
    "\n",
    "So if we look up <u><a href=\"https://docs.python.org/3/library/functions.html#print\" rel=\"noopener noreferrer\" target=\"_blank\">Python's documentation for the <strong>print()</strong> function</a></u> to peek under the hood:\n",
    "```\n",
    "print(*objects, sep=' ', end='\\n', file=None, flush=False)\n",
    "```\n",
    "You can see that there's a little bit more going on than what you can see with a simple <mark style=\"background-color: #EEEEEE\"><strong>print('Hello')</strong></mark>. Under the hood, the function has the following 5 parameters:\n",
    "<ul>\n",
    "    <li><mark style=\"background-color: #EEEEEE\"><strong>*objects</strong></mark></br>\n",
    "    Object(s) that you want to print. They will be converted to string beforehand.</br>\n",
    "    The asterisk denotes that there's no set number of arguments that need to be passed to your function.</li>\n",
    "    </br>\n",
    "    <li><mark style=\"background-color: #EEEEEE\"><strong>sep</strong></mark></br>\n",
    "    Must be string type</br> \n",
    "    An optional parameter that defines the separation between multiple objects that you want to print. Set to ' ' (a single space) by default.</li>\n",
    "    </br>\n",
    "    <li><mark style=\"background-color: #EEEEEE\"><strong>end</strong></mark></br>\n",
    "    Must be string type</br>\n",
    "    An optional parameter that defines how the print ends. Set to <mark style=\"background-color: #EEEEEE;\"><strong>'\\n'</strong></mark> (line break) by default.</li>\n",
    "    </br>\n",
    "    <li><mark style=\"background-color: #EEEEEE\"><strong>file</strong></mark></br>\n",
    "    An optional parameter that sets a write method. Set to None by default. This will default to <mark style=\"background-color: #EEEEEE\"><strong>sys.stdout</strong></mark>, the standard output stream.</li>\n",
    "    </br>\n",
    "    <li><mark style=\"background-color: #EEEEEE\"><strong>flush</strong></mark></br>\n",
    "    An optional parameter that forcibly flushes the stream if set to True. Set to False by default.</li>\n",
    "</ul>"
   ]
  },
  {
   "cell_type": "code",
   "execution_count": null,
   "id": "57c2b6e2-2109-4ad8-a1a9-36a45805a56a",
   "metadata": {},
   "outputs": [],
   "source": [
    "#To see how this works in practice:\n",
    "\n",
    "#Play around with the sep and the end parameter to see how the output of the print() function changes."
   ]
  },
  {
   "cell_type": "markdown",
   "id": "568adcb4-214e-4a57-9dc5-503eeda06e89",
   "metadata": {},
   "source": [
    "<h3>Built-in functions</h3>"
   ]
  },
  {
   "cell_type": "markdown",
   "id": "eab477f2-9c92-4112-92a7-23e262409999",
   "metadata": {},
   "source": [
    "Python has several <u><a href=\"https://docs.python.org/3/library/functions.html\" rel=\"noopener noreferrer\" target=\"_blank\">built-in functions</a></u> that you can call without having to import modules beforehand.\n",
    "\n",
    "For example, there is a <mark style=\"background-color: #EEEEEE\"><strong>type()</strong></mark> function, that will output the data type of a value.\n",
    "Recall that data values can be stored as **int** or **float** or **str**, and it's important to know what type you are working with in case a parameter in a function requires a specific data type.\n",
    "\n",
    "<em>Test out in the code cells below how the resulting data types differ for different mathematical operations by combining both the <mark style=\"background-color: #EEEEEE;\"><strong>print()</strong></mark> and the <mark style=\"background-color: #EEEEEE;\"><strong>type()</strong></mark> functions. Recall that division returns a <strong>float</strong> rather than an <strong>int</strong>.</em>"
   ]
  },
  {
   "cell_type": "code",
   "execution_count": null,
   "id": "c9bd8305-15c0-43f8-902c-621f81beec08",
   "metadata": {},
   "outputs": [],
   "source": [
    "#Example:"
   ]
  },
  {
   "cell_type": "markdown",
   "id": "fdae2ded-e88a-4a56-9cb4-8fc0e80e029d",
   "metadata": {},
   "source": [
    "Recall that Python objects have their own memory allocated to it (the object's <mark style=\"background-color: #EEEEEE;\"><strong>id</strong></mark> property. We can tell Python to return an object's memory address using the in-built <mark style=\"background-color: #EEEEEE;\"><strong>id()</strong></mark> function."
   ]
  },
  {
   "cell_type": "code",
   "execution_count": null,
   "id": "b6e48c8b-1daa-4abf-8755-7b812df20af2",
   "metadata": {},
   "outputs": [],
   "source": [
    "#Get Python to return each id for the variables you created above."
   ]
  },
  {
   "cell_type": "markdown",
   "id": "5818c28f-883f-4175-9d8c-0f878ef34ad7",
   "metadata": {},
   "source": [
    "You can also convert values to an **int**, **float**, or **str** using built-in functions.\n",
    "\n",
    "<mark style=\"background-color: #EEEEEE;\"><strong>int()</strong></mark> will convert a value from either a **float** or a **string** to an **int**. If your **float** has a decimal point, it will round down to the nearest integer value if positive or round up if negative. If your **string** is not a whole number, then it will give you an error.\n",
    "\n",
    "The function <mark style=\"background-color: #EEEEEE;\"><strong>float()</strong></mark> will convert **int** or **string** to a **float** value. Like with <mark style=\"background-color: #EEEEEE;\"><strong>int()</strong></mark>, <mark style=\"background-color: #EEEEEE;\"><strong>float()</strong></mark> will output an error if your **string** cannot be represented as a **float**.\n",
    "\n",
    "*In the empty code cell below, convert some data types around, and use the type() function to see how the data value changes.*"
   ]
  },
  {
   "cell_type": "code",
   "execution_count": null,
   "id": "3848be2c-0e9c-49e6-891b-bd6c85f67447",
   "metadata": {},
   "outputs": [],
   "source": []
  },
  {
   "cell_type": "code",
   "execution_count": null,
   "id": "30972be3-a45e-460d-acc7-844d461e45ad",
   "metadata": {},
   "outputs": [],
   "source": [
    "#How does the id change? Test out the id() function on your altered variables."
   ]
  },
  {
   "cell_type": "markdown",
   "id": "be3bbcc7-0b52-42a4-8f98-cfdfc1ad93ed",
   "metadata": {},
   "source": [
    "<h3>Creating your own functions</h3>"
   ]
  },
  {
   "cell_type": "markdown",
   "id": "3b82368d-44d2-4e9a-a5a4-4b0164fd4521",
   "metadata": {},
   "source": [
    "One of the key advantages to having functions is that they allow you to repeat actions or calculations without having to retype the entire underlying code. All you need to do is to define a code once, and then you can use it repeatedly afterwards. This also has the added benefit of keeping your code tidier.\n",
    "\n",
    "To create a function, you will use the keyword <mark style=\"background-color: #EEEEEE;\"><strong>def</strong></mark>, which introduces a function <strong>definition</strong>. The <mark style=\"background-color: #EEEEEE;\"><strong>def</strong></mark> keyword must be followed by the name of the function and its list of named parameters and any default arguments. And we'll make use of the keyword <mark style=\"background-color: #EEEEEE;\"><strong>return</strong></mark>, which will spit out an output if we provide it with a variable."
   ]
  },
  {
   "cell_type": "code",
   "execution_count": null,
   "id": "e1879365-dfd7-46f8-8b03-9386f002c9c9",
   "metadata": {},
   "outputs": [],
   "source": [
    "#We'll create a function called rice that will need the parameters a, b, c."
   ]
  },
  {
   "cell_type": "code",
   "execution_count": null,
   "id": "806e2c98-ae09-456f-b9bc-0ac1f3729a1c",
   "metadata": {},
   "outputs": [],
   "source": [
    "#You can also include other functions within a function that you're creating."
   ]
  },
  {
   "cell_type": "markdown",
   "id": "eee265ed-9047-4bb1-8ec4-131616be5adc",
   "metadata": {},
   "source": [
    "<h3>Variable scope</h3>"
   ]
  },
  {
   "cell_type": "markdown",
   "id": "8769e342-fe78-42be-8913-63a452180d05",
   "metadata": {},
   "source": [
    "You may have noticed that blocks of code defining both functions above use variables. In both cases, we have created within each function the variable name <mark style=\"background-color: #EEEEEE;\"><strong>result</strong></mark>, which only exists within its respective function and does not exist outside of it. This is the variable's **scope**, which determines which parts of the notebook can see and use a variable. \n",
    "\n",
    "The consequence of this is that variable names within functions are local and do not have a relationship to variable names in another function, even in the same notebook. The scope of the variable name is visible only to its respective function; therefore, different functions can use the same variable name."
   ]
  },
  {
   "cell_type": "code",
   "execution_count": null,
   "id": "10c7c930-0a03-4ca3-a525-c8c424fe4c76",
   "metadata": {},
   "outputs": [],
   "source": [
    "#Let's take a look at whether or not the variable result exists outside of the def block."
   ]
  },
  {
   "cell_type": "markdown",
   "id": "04e62e60-f162-4639-933a-02c77d87ccd3",
   "metadata": {},
   "source": [
    "<h3>Functions from imported modules or packages</h3>"
   ]
  },
  {
   "cell_type": "markdown",
   "id": "105c3d3e-8759-4abf-a384-06b819d4a79b",
   "metadata": {},
   "source": [
    "**Modules** are a single Python file, while **packages** are a collection (or directory) of modules. \n",
    "\n",
    "Modules and packages in Python allow for you to import defined functions into your notebook, so you don't have redefine it every time you start up a new notebook. All you need to do is at the start of your notebook, import the modules containing the functions you will use, and then you can call up those functions when needed later on. \n",
    "\n",
    "To import a module or package, you can make use of the <mark style=\"background-color: #EEEEEE;\"><strong>import</strong></mark> keyword. For example, lets import a fundamental package used in data analysis called NumPy, which contains a number of functions that are used for analysis and visualization. \n",
    "\n",
    "For example:\n",
    "```\n",
    "import numpy\n",
    "```\n",
    "This will import the NumPy package, but you can also assign a name to the package when you import it. That way, it's easier to call up later on.\n",
    "\n",
    "For example:\n",
    "```\n",
    "import numpy as np\n",
    "```\n",
    "This will import NumPy package under the name <mark style=\"background-color: #EEEEEE;\"><strong>np</strong></mark>. \n",
    "\n",
    "After importing NumPy, if we wanted to use NumPy's square root function, we can input the following:\n",
    "```\n",
    "np.sqrt(x)\n",
    "```\n",
    "\n",
    "If we did not assign the name <mark style=\"background-color: #EEEEEE;\"><strong>np</strong></mark> to NumPy, then to call up NumPy's square root function:\n",
    "```\n",
    "numpy.sqrt(x)\n",
    "```\n",
    "Note that if you did assign a name to NumPy, then <mark style=\"background-color: #EEEEEE;\"><strong>numpy</strong></mark> will not work."
   ]
  },
  {
   "cell_type": "code",
   "execution_count": null,
   "id": "cf2eb08c-29d8-4303-ade9-a802b7644a61",
   "metadata": {},
   "outputs": [],
   "source": [
    "#Let's import the NumPy package."
   ]
  },
  {
   "cell_type": "code",
   "execution_count": null,
   "id": "7dc9bac0-136d-46c4-9c59-54893880426b",
   "metadata": {},
   "outputs": [],
   "source": [
    "#Now you can make use of the functions in NumPy"
   ]
  },
  {
   "cell_type": "code",
   "execution_count": null,
   "id": "05606f89-21ad-4995-87ea-072f39daf174",
   "metadata": {},
   "outputs": [],
   "source": [
    "#You can perform functions on variables you have assigned."
   ]
  },
  {
   "cell_type": "code",
   "execution_count": null,
   "id": "599bef54-a401-4a7d-8972-fdae4482a3dd",
   "metadata": {},
   "outputs": [],
   "source": [
    "#You can also assign the output of your function to a variable."
   ]
  },
  {
   "cell_type": "markdown",
   "id": "49a8e53d-8beb-4368-a5fd-f949361f8976",
   "metadata": {},
   "source": [
    "<h2 style=\"font-size: 32px;\">Boolean values</h2>"
   ]
  },
  {
   "cell_type": "markdown",
   "id": "d76e6012-6a9e-4d64-b888-1419cf67fb8c",
   "metadata": {},
   "source": [
    "**Boolean** values are one of two values: <mark style=\"background-color: #EEEEEE;\"><strong>True</strong></mark> or <mark style=\"background-color: #EEEEEE;\"><strong>False</strong></mark>, and this data type is used to represent the truth values of expressions, such as conditional statements.\n",
    "\n",
    "Boolean values are a subtype of integer, where <mark style=\"background-color: #EEEEEE;\"><strong>True</strong></mark> is equivalent to <mark style=\"background-color: #EEEEEE;\"><strong>1</strong></mark> and <mark style=\"background-color: #EEEEEE;\"><strong>False</strong></mark> is equivalent to <mark style=\"background-color: #EEEEEE;\"><strong>0</strong></mark>.\n",
    "\n",
    "We can evaluate variables and values by using conditional statements that compare values or variables to each other, and the resulting output is a Boolean value. \n",
    "```\n",
    "time = 35\n",
    "space = 40\n",
    "```\n",
    "So we have specific values assigned to two variables <mark style=\"background-color: #EEEEEE;\"><strong>time</strong></mark> and <mark style=\"background-color: #EEEEEE;\"><strong>space</strong></mark>. We can make use of different comparison operators, such as <mark style=\"background-color: #EEEEEE;\"><strong>&equals;&equals;</strong></mark>, which checks if the two values are equal to each other.\n",
    "```\n",
    "time == space\n",
    "```\n",
    "We can do the same with other comparison operators:\n",
    "<ul>\n",
    "    <li><mark style=\"background-color: #EEEEEE;\"><strong>&excl;&equals;</strong></mark> - ...not equal to...</li>\n",
    "    <li><mark style=\"background-color: #EEEEEE;\"><strong>&gt;</strong></mark> - ...greater than...</li>\n",
    "    <li><mark style=\"background-color: #EEEEEE;\"><strong>&lt;</strong></mark> - ...less than...</li>\n",
    "    <li><mark style=\"background-color: #EEEEEE;\"><strong>&gt;&equals;</strong></mark> - ...greater than or equal to...</li>\n",
    "    <li><mark style=\"background-color: #EEEEEE;\"><strong>&lt;&equals;</strong></mark> - ...less than or equal to...</li>\n",
    "</ul>\n",
    "\n",
    "One example where Boolean values will show up is in image analysis. When you set thresholds, you are creating conditional statements through which you pass the information contained in your image, which will then output for each value a <mark style=\"background-color: #EEEEEE;\"><strong>True</strong></mark> or <mark style=\"background-color: #EEEEEE;\"><strong>False</strong></mark> result for each pixel."
   ]
  },
  {
   "cell_type": "code",
   "execution_count": null,
   "id": "407bcc81-33af-446b-aa47-b4c1a12c330c",
   "metadata": {},
   "outputs": [],
   "source": [
    "#Play around with Boolean operators to see how they work and the Boolean outputs"
   ]
  },
  {
   "cell_type": "markdown",
   "id": "ba197d23-3dd9-4d0c-bec8-0fb5d1fe63a3",
   "metadata": {},
   "source": [
    "You can also define how code blocks execute based on the Boolean output of a function, allowing you to control how you want a function to operate."
   ]
  },
  {
   "cell_type": "code",
   "execution_count": null,
   "id": "17ef607f-d5c0-4ece-8d26-3c589cb47c56",
   "metadata": {},
   "outputs": [],
   "source": [
    "#First define a function:"
   ]
  },
  {
   "cell_type": "markdown",
   "id": "71d58a60-6fd1-435f-8a6d-301f946b70dd",
   "metadata": {},
   "source": [
    "<h2 style=\"font-size: 32px;\">Compound data types</h2>"
   ]
  },
  {
   "cell_type": "markdown",
   "id": "cc73101f-3eef-482d-ad91-5d6047aaff21",
   "metadata": {},
   "source": [
    "There are multiple ways in which Python stores compound data types. You have mutable compound data types: lists, arrays, and dictionaries, and you have immutable compound data types: tuples and sets. \n",
    "\n",
    "Much like with single value data types, it's important to know which compound data type you are working with because Python handles each one differently, and some functions that you'll use for data analysis and bioinformatics may only accept a specific data type to carry out its function."
   ]
  },
  {
   "cell_type": "markdown",
   "id": "aad2edc9-1755-410c-b5ed-d5b67b49662a",
   "metadata": {},
   "source": [
    "<h3>Lists</h3>"
   ]
  },
  {
   "cell_type": "markdown",
   "id": "3246eaae-cf01-40b1-b1a3-4617be21f9a3",
   "metadata": {},
   "source": [
    "In Python, **lists** are a type of data structure that can be created and manipulated for data analysis and modeling. The objects within a list are referred to as elements, and they can be heterogeneous. So a list can contain an **int**, a **float**, and a **str**.\n",
    "\n",
    "<strong>Creating a list</strong>\n",
    "\n",
    "To create a list, you can denote a list with square brackets <mark style=\"background-color: #EEEEEE;\"><strong>[...]</strong></mark> and use commas to separate out each element of your list.\n",
    "```\n",
    "[1, 5, \"potato\", 3.1415]\n",
    "```\n",
    "You can see that this line will generate a one-dimensional list containing 2 **ints**, 1 **str**, and 1 **float** data types, and the list itself is considered an object as well."
   ]
  },
  {
   "cell_type": "code",
   "execution_count": null,
   "id": "38971b3c-28e2-4d99-a83a-e89ce02255ba",
   "metadata": {},
   "outputs": [],
   "source": [
    "#Create a list below, and then output the data type of the list."
   ]
  },
  {
   "cell_type": "markdown",
   "id": "f943038c-cd90-4537-8f54-5c0ef2bfe2f1",
   "metadata": {},
   "source": [
    "Like with other objects, you can assign a list to a variable."
   ]
  },
  {
   "cell_type": "code",
   "execution_count": null,
   "id": "c4117227-44fc-432b-aa53-7f37232a183c",
   "metadata": {},
   "outputs": [],
   "source": [
    "#Assign a list to a variable then output the data type."
   ]
  },
  {
   "cell_type": "markdown",
   "id": "0cd97bc0-1336-41fb-8e79-8792bd71ff71",
   "metadata": {},
   "source": [
    "<strong>Accessing elements in a list</strong>\n",
    "\n",
    "Lists are indexed with the very first element at position <mark style=\"background-color: #EEEEEE;\"><strong>[0]</strong></mark>.\n",
    "\n",
    "So you can use the index to access the elements of an existing list by calling it using the following syntax.\n",
    "```\n",
    "potato_list[0]\n",
    "```\n",
    "In this case, you are telling Python that you want to get the element at position <mark style=\"background-color: #EEEEEE;\"><strong>[0]</strong></mark> (index value of 0) in the list <mark style=\"background-color: #EEEEEE;\"><strong>potato_list</strong></mark>.\n",
    "\n",
    "So if you wanted to pull out the 3rd element of <mark style=\"background-color: #EEEEEE;\"><strong>potato_list</strong></mark>:\n",
    "```\n",
    "potato_list[2]\n",
    "```\n",
    "Recall that because the first element is indexed as position 0, the third element will be indexed as 2.\n",
    "\n",
    "If you want to access the last element of a list, and you don't know the final position, you can use the index -1.\n",
    "```\n",
    "potato_list[-1]\n",
    "```\n",
    "\n",
    "To pull out not just one element, but multiple elements (a slice) from a list, you can use slice notation <mark style=\"background-color: #EEEEEE;\"><strong>[start:end:step size]</strong></mark>. Note that the <mark style=\"background-color: #EEEEEE;\"><strong>end</strong></mark> actually signifies the position of the value that is one more than the last list value you want Python to return.\n",
    "```\n",
    "potato_list[0:3]\n",
    "```\n",
    "This returns the elements in from position 0 to 2 (i.e. the first three elements in <mark style=\"background-color: #EEEEEE;\"><strong>potato_list</strong></mark>.\n",
    "\n",
    "\n",
    "If we also include a step size:\n",
    "```\n",
    "potato_list[0:6:2]\n",
    "```\n",
    "This returns a list of every other element (because the step size is 2) for elements in position 0 to 5 (one less than 6).\n",
    "\n",
    "An alternative syntax is to use the <mark style=\"background-color: #EEEEEE;\"><strong>slice()</strong></mark> function. It follows the same argument breakdown as the <mark style=\"background-color: #EEEEEE;\"><strong>[start:end:step size]</strong></mark>, but instead of colons, you separate each argument with commas.\n",
    "```\n",
    "potato_list[slice(0, 6, 2)]\n",
    "```"
   ]
  },
  {
   "cell_type": "code",
   "execution_count": null,
   "id": "e5d52a03-0a9e-4dec-aad4-1ee072a8c411",
   "metadata": {},
   "outputs": [],
   "source": [
    "#Let's pull some elements from our list."
   ]
  },
  {
   "cell_type": "code",
   "execution_count": null,
   "id": "9b091ef5-c4e1-4f7d-abc4-61b68b8fa0bd",
   "metadata": {},
   "outputs": [],
   "source": [
    "#Then let's determine what data type they are."
   ]
  },
  {
   "cell_type": "markdown",
   "id": "d4ec7f21-60c7-4c82-83a3-ed73e4e86ac4",
   "metadata": {},
   "source": [
    "<strong>List properties</strong>\n",
    "\n",
    "If you want to find out how many elements are in a list (i.e. the list's length), you can use the <mark style=\"background-color: #EEEEEE;\"><strong>len()</strong></mark> function.\n",
    "```\n",
    "len(potato_list)\n",
    "```\n",
    "This will return the length of <mark style=\"background-color: #EEEEEE;\"><strong>potato_list</strong></mark>."
   ]
  },
  {
   "cell_type": "code",
   "execution_count": null,
   "id": "acdc7d8d-d2d8-419a-a1c1-fdb311271272",
   "metadata": {},
   "outputs": [],
   "source": [
    "#Try it out in this cell"
   ]
  },
  {
   "cell_type": "markdown",
   "id": "d866ac87-a42d-4ac0-8a8a-c370cca6b8b1",
   "metadata": {},
   "source": [
    "<h3>Arrays</h3>"
   ]
  },
  {
   "cell_type": "markdown",
   "id": "80b790ef-cb5c-4b8e-bdc7-0fb54aac751e",
   "metadata": {},
   "source": [
    "**Arrays** are a type of data structure containing a homogeneous data type. Unlike a list, an array cannot store both a **float** and a **str** in the same array, but it can hold multiple elements of an **int** or a **float** or a **str**. \n",
    "\n",
    "A key difference under the hood between a list and an array is that contiguous memory allocation for data storage makes arrays more memory efficient than lists when retrieving information within it.  \n",
    "\n",
    "<strong>Creating an array</strong>\n",
    "\n",
    "To create an array, you can make use of NumPy's array function <mark style=\"background-color: #EEEEEE;\"><strong>numpy.array()</strong></mark>, which creates an array object called <mark style=\"background-color: #EEEEEE;\"><strong>ndarray</strong></mark>."
   ]
  },
  {
   "cell_type": "code",
   "execution_count": null,
   "id": "84602bff-740e-4f0b-af4b-56e213b76c81",
   "metadata": {},
   "outputs": [],
   "source": [
    "#Since we've already imported the NumPy package earlier, we don't need to do it again.\n",
    "#We can just call up the array function."
   ]
  },
  {
   "cell_type": "markdown",
   "id": "9f875386-92a5-4d41-a8e5-5580c96f04eb",
   "metadata": {},
   "source": [
    "Like with lists, you can have Python pull and return specific elements or a slice of your array, and you can do so with the same functions."
   ]
  },
  {
   "cell_type": "code",
   "execution_count": null,
   "id": "813ef199-bbb2-4c58-8130-8ba1fc777599",
   "metadata": {},
   "outputs": [],
   "source": [
    "#Play around with it here."
   ]
  },
  {
   "cell_type": "markdown",
   "id": "e8df92d7-43c6-4553-8f42-e57c2246e27e",
   "metadata": {},
   "source": [
    "<h3>List vs Arrays</h3>"
   ]
  },
  {
   "cell_type": "markdown",
   "id": "8215b371-51e4-413e-92be-d7a0a7568560",
   "metadata": {},
   "source": [
    "Some other notable characteristics between a list and an array are:\n",
    "\n",
    "<table>\n",
    "    <tr>\n",
    "        <th style=\"background-color: #EEEEEE; border: 1px solid; border-color: #000000;\"><strong>List</strong></th>\n",
    "        <th style=\"background-color: #EEEEEE; border: 1px solid; border-color: #000000;\"><strong>Array</strong></th>\n",
    "    </tr>\n",
    "    <tr>\n",
    "        <td style=\"background-color: #FFFFFF; border: 1px solid; border-color: #000000;\">Heterogeneous data type</td>\n",
    "        <td style=\"background-color: #FFFFFF; border: 1px solid; border-color: #000000;\">Homogeneous data type</td>\n",
    "    </tr>\n",
    "    <tr>\n",
    "        <td style=\"background-color: #FFFFFF; border: 1px solid; border-color: #000000;\">Created by <mark style=\"background-color: #EEEEEE;\"><strong>[...]</strong></mark></td>\n",
    "        <td style=\"background-color: #FFFFFF; border: 1px solid; border-color: #000000;\">Created by an array function</td>\n",
    "    </tr>\n",
    "    <tr>\n",
    "        <td style=\"background-color: #FFFFFF; border: 1px solid; border-color: #000000;\">Cannot handle math operations</td>\n",
    "        <td style=\"background-color: #FFFFFF; border: 1px solid; border-color: #000000;\">Can handle math operations</td>\n",
    "    </tr>\n",
    "    <tr>\n",
    "        <td style=\"background-color: #FFFFFF; border: 1px solid; border-color: #000000;\">Can output list without looping</td>\n",
    "        <td style=\"background-color: #FFFFFF; border: 1px solid; border-color: #000000;\">Requires a loop to output or access elements</td>\n",
    "    </tr>\n",
    "    <tr>\n",
    "        <td style=\"background-color: #FFFFFF; border: 1px solid; border-color: #000000;\">Larger memory requirement</td>\n",
    "        <td style=\"background-color: #FFFFFF; border: 1px solid; border-color: #000000;\">More compact memory size</td>\n",
    "    </tr>\n",
    "</table>"
   ]
  },
  {
   "cell_type": "code",
   "execution_count": null,
   "id": "b75de68f-b128-457b-b222-8631e858b3dd",
   "metadata": {},
   "outputs": [],
   "source": [
    "#Compare how Python handles math operations for lists"
   ]
  },
  {
   "cell_type": "code",
   "execution_count": null,
   "id": "5af99296-ca85-48eb-b346-b362ebf712a1",
   "metadata": {},
   "outputs": [],
   "source": [
    "#Compare that output to this one for arrays"
   ]
  },
  {
   "cell_type": "markdown",
   "id": "2c458f54-4e17-4500-9e60-b429ca1ec24a",
   "metadata": {},
   "source": [
    "Something interesting about how NumPy arrays work compared to a list is that while the <mark style=\"background-color: #EEEEEE;\"><strong>ndarray</strong></mark> has its own <mark style=\"background-color: #EEEEEE;\"><strong>id</strong></mark>, the elements within it do not. Only when the element need to be accessed does Python create an object and allocates memory for it, so this makes it more memory compact than a list, in which each element is its own object with allocated memory."
   ]
  },
  {
   "cell_type": "code",
   "execution_count": null,
   "id": "8cfddeb4-aba9-4e80-86eb-df9fd34d87bb",
   "metadata": {},
   "outputs": [],
   "source": []
  },
  {
   "cell_type": "markdown",
   "id": "fbddab45-a1a2-406e-9b46-1fb5709a2725",
   "metadata": {},
   "source": [
    "<strong>Modifying lists and arrays</strong>\n",
    "\n",
    "Lists and arrays are considered mutable data types in Python. This means that they can be changed or altered without changing the specific way it is accessed by Python."
   ]
  },
  {
   "cell_type": "code",
   "execution_count": null,
   "id": "5bf915e0-6148-431c-858f-aab375652b95",
   "metadata": {},
   "outputs": [],
   "source": [
    "#Let's take a look at our list and how it's accessed by Python"
   ]
  },
  {
   "cell_type": "markdown",
   "id": "c3d7c2d0-01c7-4254-9d8e-a2778888909c",
   "metadata": {},
   "source": [
    "The output that you get is a numerical assignment to your object (<mark style=\"background-color: #EEEEEE;\"><strong>potato_list</strong></mark>), which if you recall, acts as a memory \"address\" for Python to access the data referenced by a variable.\n",
    "\n",
    "If you alter the list by adding additional elements to it by using the <mark style=\"background-color: #EEEEEE;\"><strong>append()</strong></mark> function, <mark style=\"background-color: #EEEEEE;\"><strong>id</strong></mark> property for the list is unchanged, while the elements within the list are updated."
   ]
  },
  {
   "cell_type": "code",
   "execution_count": null,
   "id": "ae74ad5b-3f3e-4547-9308-423f7f7387d3",
   "metadata": {},
   "outputs": [],
   "source": [
    "#Let's add some additional elements to potato_list using the list_name.append() funtion"
   ]
  },
  {
   "cell_type": "markdown",
   "id": "dc1074b2-d32d-4cef-9d88-669291834ac8",
   "metadata": {},
   "source": [
    "You can see that the memory address is unchanged even though you have modified the contents of <mark style=\"background-color: #EEEEEE;\"><strong>potato_list</strong></mark>."
   ]
  },
  {
   "cell_type": "markdown",
   "id": "bf0501d3-bc1e-48c8-966b-3fbc6fa93dce",
   "metadata": {},
   "source": [
    "The same is true for an <mark style=\"background-color: #EEEEEE;\"><strong>ndarray</strong></mark>. "
   ]
  },
  {
   "cell_type": "code",
   "execution_count": null,
   "id": "19cf3eec-aaa5-430d-a119-de29a89b0f55",
   "metadata": {},
   "outputs": [],
   "source": [
    "#Let's take a look at the identity of our ndarray."
   ]
  },
  {
   "cell_type": "code",
   "execution_count": null,
   "id": "76962b8d-df63-4635-a3fc-c49a3fbe3763",
   "metadata": {},
   "outputs": [],
   "source": [
    "#Now let's add additional elements to it using np.append() function."
   ]
  },
  {
   "cell_type": "code",
   "execution_count": null,
   "id": "a5dd0934-60d3-4b3c-b60f-a374961544cf",
   "metadata": {},
   "outputs": [],
   "source": [
    "#Then we can see if the id property changes for our ndarray after we mutate it."
   ]
  },
  {
   "cell_type": "markdown",
   "id": "0a30c504-a0a8-4dc8-a7e2-fda82e89ab91",
   "metadata": {},
   "source": [
    "<h3>Dictionaries</h3>"
   ]
  },
  {
   "cell_type": "markdown",
   "id": "22aee936-8215-4f3a-8e85-771dc57f3886",
   "metadata": {},
   "source": [
    "**Dictionaries** are another type of compound data structure that allows us to associate a value to a specific key for more efficient access to that value. While we can use lists to perform this same function, dictionaries are faster. In a dictionary, values are mapped to a unique **key** that can be used to quickly find a specific object (the mapped vlaue). The speed comes from the fact that dictionary keys are **hashable**, meaning that they can be assigned an integer value which then is a shortcut to find the associated value."
   ]
  },
  {
   "cell_type": "code",
   "execution_count": null,
   "id": "2f855fcd-88ff-4f15-aea7-b6658d038803",
   "metadata": {},
   "outputs": [],
   "source": [
    "#Test it out here, and you can see that an object's id is different from its hash value."
   ]
  },
  {
   "cell_type": "markdown",
   "id": "6edbced2-9bef-4386-930f-2b303056a2d8",
   "metadata": {},
   "source": [
    "<strong>Creating a dictionary</strong>\n",
    "\n",
    "To create a dictionary, you will make use of the curly brackets <mark style=\"background-color: #EEEEEE;\"><strong>{...}</strong></mark> or the <mark style=\"background-color: #EEEEEE;\"><strong>dict()</strong></mark> function. You'll pair up a key with a value by following the <mark style=\"background-color: #EEEEEE;\"><strong>key:value</strong></mark> syntax and separating pairs with commas."
   ]
  },
  {
   "cell_type": "code",
   "execution_count": null,
   "id": "b4135ec1-7388-4281-b0c2-5346e6955183",
   "metadata": {},
   "outputs": [],
   "source": [
    "#Let's create a simple table with a couple of key:value pairs."
   ]
  },
  {
   "cell_type": "markdown",
   "id": "93234551-17ce-4cc1-9c34-c5d637d85501",
   "metadata": {},
   "source": [
    "To modify a dictionary, we can make use of different functions, such as <mark style=\"background-color: #EEEEEE;\"><strong>update()</strong></mark> to add key:value pairs, or <mark style=\"background-color: #EEEEEE;\"><strong>del</strong></mark> to delete key:value pairs.\n",
    "\n",
    "Dictionaries are useful for iterating and counting, where you can iterate through a dataset to get the frequency of some observation."
   ]
  },
  {
   "cell_type": "markdown",
   "id": "315c493a-17d4-4ada-936b-82d05dac30b1",
   "metadata": {},
   "source": [
    "<h3>Tuples</h3>"
   ]
  },
  {
   "cell_type": "markdown",
   "id": "0cf8e964-1a7d-4489-8b77-941faba73c68",
   "metadata": {},
   "source": [
    "**Tuples** are another compound data type in Python, and it's largely similar to a list. The key difference is that while lists are changeable (mutable), tuples cannot be changed (immutable). This means that while you can modify a list or array with functions such as <mark style=\"background-color: #EEEEEE;\"><strong>append()</strong></mark>, you cannot do so with a tuple. Tuples can be useful for when you have a dataset that you don't want to accidentally modify since tuples are immutable, or when you want to use the elements as a dictionary key.\n",
    "\n",
    "Tuples can contain a heterogeneous set of data types, so in that instance, they are similar to a list. The elements stored within a tuple are indexed by integers, like lists and arrays. So you can have Python return specific elements of a tuple.\n",
    "\n",
    "<strong>Creating a tuple</strong>\n",
    "\n",
    "The syntax for creating a tuple in Python is with parentheses <mark style=\"background-color: #EEEEEE;\"><strong>(...)</strong></mark> with each element of a tuple separated by a comma. \n",
    "```\n",
    "(1, 4, 5, 19, 25, 60)\n",
    "```\n",
    "\n",
    "Since parantheses are also used in Python for grouping, there's an additional consideration you need to keep in mind if you ever want to create a tuple with a single element. You'll need to add a hanging comma after the single element to specify that it is a tuple containing just one element.\n",
    "```\n",
    "(1,)\n",
    "```"
   ]
  },
  {
   "cell_type": "code",
   "execution_count": null,
   "id": "94f0b0ee-54bd-49c9-b7ff-4a125fe50841",
   "metadata": {},
   "outputs": [],
   "source": [
    "#Let's create a tuple."
   ]
  },
  {
   "cell_type": "code",
   "execution_count": null,
   "id": "814e8263-4629-405f-b9d8-9172daa509de",
   "metadata": {},
   "outputs": [],
   "source": [
    "#Get Python to return a specific element and slice of our tuple.\n",
    "\n",
    "#To get a slice, you can follow the usual slice syntax."
   ]
  },
  {
   "cell_type": "code",
   "execution_count": null,
   "id": "2a62c634-38a8-4277-99be-04a686ade113",
   "metadata": {},
   "outputs": [],
   "source": [
    "#Let's look under the hood. Is each element already assigned an id or is it created only when the object is accessed?"
   ]
  },
  {
   "cell_type": "markdown",
   "id": "37e4c2ab-0b53-457b-b7aa-edbe12d58362",
   "metadata": {},
   "source": [
    "<strong>Packing and unpacking tuples</strong>\n",
    "\n",
    "Tuple packing occurs when you assign multiple values to a single variable. Python will interpret the assignment to generate a tuple from the different values that you assigned.\n",
    "```\n",
    "packed_potato = 1, 'hot potato', 2, 'tired potato', 3\n",
    "```\n",
    "The five objects to the right of the <mark style=\"background-color: #EEEEEE;\"><strong>=</strong></mark> operator will be packed together into a single tuple that is assigned to the variable <mark style=\"background-color: #EEEEEE;\"><strong>packed_potato</strong></mark>\n",
    "\n",
    "You can unpack a tuple to extract the values stored within it as individual variables:\n",
    "```\n",
    "u1, u2, u3, u4, u5 = packed_potato\n",
    "```\n",
    "In this case, you have multiple variables on the left side of the <mark style=\"background-color: #EEEEEE;\"><strong>=</strong></mark> operator, which Python will then interpret as unpacking the tuple into its individual objects and assigning each object to each variable. This requires that you have provided as many variables on the left as there are objects in the tuple."
   ]
  },
  {
   "cell_type": "code",
   "execution_count": null,
   "id": "bb21a882-7eb9-43a9-9ab8-f7c40574c984",
   "metadata": {},
   "outputs": [],
   "source": [
    "#Pack a tuple and then unpack the tuple."
   ]
  },
  {
   "cell_type": "markdown",
   "id": "688e5e2d-fb27-4dc2-99c4-91f4f9c4c487",
   "metadata": {},
   "source": [
    "<h3>Sets</h3>"
   ]
  },
  {
   "cell_type": "markdown",
   "id": "ada45fd2-44e6-4704-bc71-514ff8cb5efc",
   "metadata": {},
   "source": [
    "The last compound data type that you may encounter is a **set**. Sets can contain either homogeneous data types or heterogeneous data types. While you can add and remove elements within a set, the elements themselves cannot be mutable. One notable distinction from the other compound data types is that sets are unordered and also unindexed. Additionally, you can't have duplicate elements in a set, and since sets are unordered, each time you use a set, the order can be different. This means that you can't use the usual indexing and slicing syntax to retrieve information from a set. There is a special set of operators that allow you to operate on and pull elements from a set.\n",
    "\n",
    "<strong>Creating a set</strong>\n",
    "\n",
    "Sets are denoted with curly brackets <mark style=\"background-color: #EEEEEE;\"><strong>{...}</strong></mark> like dictionaries, but instead of having key:value pairs, you just have each object separated by commas.\n",
    "```\n",
    "{'tomato', 1, 'potato', 3, 'rice', 'wheat', 6}\n",
    "```"
   ]
  },
  {
   "cell_type": "code",
   "execution_count": null,
   "id": "936edfee-5790-432f-bf7d-31ec1101ceb3",
   "metadata": {},
   "outputs": [],
   "source": [
    "#Create a few sets below with some shared and some not shared values. Assign them to variables."
   ]
  },
  {
   "cell_type": "markdown",
   "id": "340fce4b-e7df-47d0-a770-093dafb8a390",
   "metadata": {},
   "source": [
    "<strong>Updating a set</strong>\n",
    "\n",
    "You can add or remove elements from a set using either the <mark style=\"background-color: #EEEEEE;\"><strong>update()</strong></mark> function to add something, or the <mark style=\"background-color: #EEEEEE;\"><strong>remove()</strong></mark> function to remove an element. For <mark style=\"background-color: #EEEEEE;\"><strong>remove()</strong></mark>, you will get an error if what you want to remove is not contained within the set. An alternative function is <mark style=\"background-color: #EEEEEE;\"><strong>discard()</strong></mark>, which won't raise an error if the value is not present in the set. "
   ]
  },
  {
   "cell_type": "code",
   "execution_count": null,
   "id": "dfaab832-0876-4088-8844-56be7aa9188e",
   "metadata": {},
   "outputs": [],
   "source": [
    "#Add additional values to your set."
   ]
  },
  {
   "cell_type": "markdown",
   "id": "18d59757-47e3-4d5c-93dc-a82dad13323d",
   "metadata": {},
   "source": [
    "<strong>Comparing sets</strong>\n",
    "\n",
    "We can use operators such as:\n",
    "<ul>\n",
    "    <li><mark style=\"background-color: #EEEEEE;\"><strong>&vert;</strong></mark> or <mark style=\"background-color: #EEEEEE;\"><strong>union()</strong></mark> to output all elements of both sets without duplication</li>\n",
    "    <li><mark style=\"background-color: #EEEEEE;\"><strong>&amp;</strong></mark> or <mark style=\"background-color: #EEEEEE;\"><strong>intersection()</strong></mark> to output the shared elements of both sets</li>\n",
    "    <li><mark style=\"background-color: #EEEEEE;\"><strong>&minus;</strong></mark> or <mark style=\"background-color: #EEEEEE;\"><strong>difference()</strong></mark> to output the elements in the first set that are not in the second</li>\n",
    "    <li><mark style=\"background-color: #EEEEEE;\"><strong>&Hat;</strong></mark> or <mark style=\"background-color: #EEEEEE;\"><strong>symmetric_difference()</strong></mark> to output the elements in the that are either in the first set or the second set but not in both sets</li>\n",
    "</ul>"
   ]
  },
  {
   "cell_type": "code",
   "execution_count": null,
   "id": "ddb40dd3-5d6f-416b-825e-42f79367d549",
   "metadata": {},
   "outputs": [],
   "source": [
    "#Try playing around with these operators and the sets that you created to get a feel for how they work."
   ]
  },
  {
   "cell_type": "code",
   "execution_count": null,
   "id": "e7162a42-9c66-4872-b065-c7c4b21ded3a",
   "metadata": {},
   "outputs": [],
   "source": []
  }
 ],
 "metadata": {
  "kernelspec": {
   "display_name": "Python [conda env:root] *",
   "language": "python",
   "name": "conda-root-py"
  },
  "language_info": {
   "codemirror_mode": {
    "name": "ipython",
    "version": 3
   },
   "file_extension": ".py",
   "mimetype": "text/x-python",
   "name": "python",
   "nbconvert_exporter": "python",
   "pygments_lexer": "ipython3",
   "version": "3.11.0"
  }
 },
 "nbformat": 4,
 "nbformat_minor": 5
}
