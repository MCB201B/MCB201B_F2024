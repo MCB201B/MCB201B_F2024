{
 "cells": [
  {
   "cell_type": "markdown",
   "id": "83bb0bdd-0aca-4926-9512-4ecf1f2297d6",
   "metadata": {},
   "source": [
    "<h1 style=\"font-size: 40px; margin-bottom: 0px;\">1.2 Data in Python</h1>\n",
    "\n",
    "&nbsp;\n",
    "\n",
    "Tidied up notes.\n",
    "\n",
    "<hr style=\"margin-left: 0px; border: 0.25px solid; border-color: #000000; width: 600px;\"></hr>"
   ]
  },
  {
   "cell_type": "markdown",
   "id": "e7e8001c-7b16-4678-8f61-6e8c76425d3f",
   "metadata": {},
   "source": [
    "Yesterday, we made basic lists, arrays, and other data structures, but what if we have our own data set that we want to plot and analyze in Python? To do this, we first need to understand how Python handles slightly more complex datasets that are more than a one-dimensional list.\n",
    "\n",
    "In today's lesson, we'll be going over the basics how to work with data sets in Python. In this case, data sets refers to the data that we generate in the lab, which often comes in tables, rather than a simple one dimenional list. By using packages created to handle data sets, we can use Python to perform data analysis, and by combining this with packages for data visualization, we can also create publication quality figures from our data and analyses.\n",
    "\n",
    "The packages that we will be using today include **NumPy** (which we played around with a little bit yesterday), **pandas**, and **matplotlib**. Recall that NumPy allows us to create and manipulate arrays and perform mathematical operations. Pandas allows us to create and work with additional compound data structures. Matplotlib allows us to plot and visualize our data. These packages often go hand-in-hand when doing data analysis and visualization.\n",
    "\n",
    "To get us started, let's import the packages that we'll need for today's lesson."
   ]
  },
  {
   "cell_type": "code",
   "execution_count": 1,
   "id": "b275f70b-40db-407a-ad43-ad7812b8f4ed",
   "metadata": {},
   "outputs": [],
   "source": [
    "#Import numpy, pandas, matplotlib\n",
    "import numpy as np\n",
    "import pandas as pd\n",
    "import matplotlib.pyplot as plt\n",
    "import matplotlib.dates as mdates"
   ]
  },
  {
   "cell_type": "markdown",
   "id": "464af5f9-3f63-4b00-a192-b75efb3bbac6",
   "metadata": {},
   "source": [
    "<h1 style=\"font-size: 40px; margin-bottom: 0px;\">Pandas Data Structures</h1>\n",
    "\n",
    "<hr style=\"margin-left: 0px; border: 0.25px solid; border-color: #000000; width: 600px;\"></hr>"
   ]
  },
  {
   "cell_type": "markdown",
   "id": "0ec04648-d0b8-46eb-a03f-c649a4629e06",
   "metadata": {},
   "source": [
    "A really helpful package for creating, importing, and working with your data in Python is called **pandas**. \n",
    "\n",
    "Pandas documentation can be found <u><a href=\"https://pandas.pydata.org/docs/index.html\" rel=\"noopener noreferrer\" target=\"_blank\">here</a></u>. \n",
    "\n",
    "Pandas allows you to create in Python data structures that are similar to tables, such as the ones you are more familiar with in Excel, so you can more easily handle and analyze them. You can also clean up your data, filter, and merge data sets. "
   ]
  },
  {
   "cell_type": "markdown",
   "id": "9dbeea87-d814-4663-aeef-6ccf31bef6f3",
   "metadata": {},
   "source": [
    "<h2 style=\"font-size: 32px;\">Series</h2>"
   ]
  },
  {
   "cell_type": "markdown",
   "id": "56aad62a-8712-46dd-bc15-60fc4400622c",
   "metadata": {},
   "source": [
    "A pandas **Series** is a one dimensional labeled array, and it acts similarly to an <mark style=\"background-color: #EEEEEE;\"><strong>ndarray</strong></mark>, which we played with yesterday. But a Series is also dictionary-like, so as you'll see later today, you can perform certain operations as if your Series is a dictionary. "
   ]
  },
  {
   "cell_type": "markdown",
   "id": "9e8d517d-0924-4a83-bb4a-4beec53912b0",
   "metadata": {},
   "source": [
    "<h3>Creating a pandas Series</h3>"
   ]
  },
  {
   "cell_type": "markdown",
   "id": "11ca4d4a-89d8-4333-b8b1-351587757841",
   "metadata": {},
   "source": [
    "So to start off and to get a better understanding of what's going on under the hood, we'll create a Series and poke around with it to see how it's handled by Python.\n",
    "\n",
    "We've already imported <mark style=\"background-color: #EEEEEE;\"><strong>pandas</strong></mark> as <mark style=\"background-color: #EEEEEE;\"><strong>pd</strong></mark> earlier, so we already have the package imported and ready to use. To create a pandas series, you will use the <mark style=\"background-color: #EEEEEE;\"><strong>Series()</strong></mark> function, but remember, since this function is part of the pandas package, you need to tell Python that the function you want to use is within that package by including <mark style=\"background-color: #EEEEEE;\"><strong>pd.</strong></mark> before your function.\n",
    "\n",
    "```\n",
    "pd.Series(data, index=index)\n",
    "```\n",
    "Where <mark style=\"background-color: #EEEEEE;\"><strong>data</strong></mark> can be a scalar value (which is basically just a single value of some kind) or an <mark style=\"background-color: #EEEEEE;\"><strong>ndarray</strong></mark> or a Python dictionary.\n",
    "\n",
    "When creating a Series, the index is by default set up similarly to an <mark style=\"background-color: #EEEEEE;\"><strong>ndarray</strong></mark>, with the element in the first position indexed as 0, and the element in the last position indexed with the length minus 1, or <mark style=\"background-color: #EEEEEE;\"><strong>len(your_data_set)-1</strong></mark>. "
   ]
  },
  {
   "cell_type": "markdown",
   "id": "ac4874eb-e6a0-4414-8c7a-fe7b1359db95",
   "metadata": {},
   "source": [
    "So let's start off by creating a Series with a single value repeated over a defined index size, and we can break it down to better understand how to read Python code as things get slightly more complicated than yesterday. \n",
    "\n",
    "When you provide a scalar value (like an single **int** or **float**) when creating a Series along with an index length, pandas will create a Series repeating that scalar value for the entire length of the index.\n",
    "\n",
    "For example, if we want to create a Series with 10 repeated 5 times without caring how we specify our index:\n",
    "```\n",
    "air_series = pd.Series(10, index=list(range(5)))\n",
    "```\n",
    "\n",
    "To better understand this, we can break this line down:\n",
    "<ul>\n",
    "    <li><mark style=\"background-color: #EEEEEE;\"><strong>air_series</strong></mark> - this is our variable that we will assign to the Series we are creating</li>\n",
    "    <li><mark style=\"background-color: #EEEEEE;\"><strong>=</strong></mark> - this is our assignment operator</li>\n",
    "    <li><mark style=\"background-color: #EEEEEE;\"><strong>pd.Series()</strong></mark> - we are telling Python we want to use the <mark style=\"background-color: #EEEEEE;\"><strong>Series()</strong></mark> function of the pandas package that we imported as <mark style=\"background-color: #EEEEEE;\"><strong>pd</strong></mark></li>\n",
    "    <li><mark style=\"background-color: #EEEEEE;\"><strong>10</strong></mark> - a scalar value to be repeated for as many index values we have</li>\n",
    "    <li><mark style=\"background-color: #EEEEEE;\"><strong>index=</strong></mark> - we are going to set the index parameter to some argument that we specify after the <mark style=\"background-color: #EEEEEE;\"><strong>=</strong></mark> operator. In this case, you can think of it like there is an index variable to which we are assigning an object for this specific function</li>\n",
    "    <li><mark style=\"background-color: #EEEEEE;\"><strong>list()</strong></mark> - we want to create a <mark style=\"background-color: #EEEEEE;\"><strong>list</strong></mark> of values that we will assign to our index variable</li>\n",
    "    <li><mark style=\"background-color: #EEEEEE;\"><strong>range(5)</strong></mark> - this is an <u><a href=\"https://docs.python.org/3/library/functions.html#func-range\" rel=\"noopener noreferrer\" target=\"_blank\">in-built Python function</a></u>. We are essentially creating a sequence of 5 numbers, starting from 0, so the last number will be 4</li>\n",
    "</ul>\n",
    "\n",
    "So what we're essentially doing is: we specify a <mark style=\"background-color: #EEEEEE;\"><strong>range</strong></mark> of 5 values, starting from 0, then create a <mark style=\"background-color: #EEEEEE;\"><strong>list</strong></mark> from this. This <mark style=\"background-color: #EEEEEE;\"><strong>list</strong></mark> is assigned to the variable <mark style=\"background-color: #EEEEEE;\"><strong>index</strong></mark>. We create a <mark style=\"background-color: #EEEEEE;\"><strong>Series</strong></mark> using this index, and for each value of our index, we set it to hold a scalar value of <mark style=\"background-color: #EEEEEE;\"><strong>10</strong></mark>. And this Series is assigned to the variable <mark style=\"background-color: #EEEEEE;\"><strong>air_series</strong></mark>."
   ]
  },
  {
   "cell_type": "code",
   "execution_count": 2,
   "id": "6b4265b8-e775-4cdc-bf92-8a27619fcd70",
   "metadata": {},
   "outputs": [
    {
     "name": "stdout",
     "output_type": "stream",
     "text": [
      "0    10\n",
      "1    10\n",
      "2    10\n",
      "3    10\n",
      "4    10\n",
      "dtype: int64\n"
     ]
    }
   ],
   "source": [
    "#Give it a try below:\n",
    "air_series = pd.Series(10, index=list(range(5)))\n",
    "\n",
    "#print the variable air_series\n",
    "print(air_series)"
   ]
  },
  {
   "cell_type": "code",
   "execution_count": 3,
   "id": "2755dd1a-013b-4a27-a887-6242b367c2b2",
   "metadata": {},
   "outputs": [
    {
     "name": "stdout",
     "output_type": "stream",
     "text": [
      "0    0.716635\n",
      "1    0.210956\n",
      "2    0.284269\n",
      "3    0.213437\n",
      "4    0.856984\n",
      "5    0.231085\n",
      "6    0.464308\n",
      "7    0.007670\n",
      "8    0.302848\n",
      "9    0.560867\n",
      "dtype: float64\n"
     ]
    }
   ],
   "source": [
    "#Try creating a Series of 10 randomly generated numbers\n",
    "#Using the function np.random.rand(10)\n",
    "\n",
    "water_series = pd.Series(np.random.rand(10))\n",
    "\n",
    "print(water_series)"
   ]
  },
  {
   "cell_type": "code",
   "execution_count": 4,
   "id": "f16241cd-6ea8-4011-88fe-111f0b0d1621",
   "metadata": {},
   "outputs": [
    {
     "name": "stdout",
     "output_type": "stream",
     "text": [
      "a    0.255310\n",
      "b    0.783403\n",
      "c    0.245603\n",
      "d    0.068541\n",
      "e    0.784223\n",
      "f    0.809311\n",
      "g    0.098136\n",
      "dtype: float64\n"
     ]
    }
   ],
   "source": [
    "#You can also assign what the index will be by specifying it in the index parameter.\n",
    "\n",
    "fire_series = pd.Series(np.random.rand(7), index=['a', 'b', 'c', 'd', 'e', 'f', 'g'])\n",
    "\n",
    "print(fire_series)"
   ]
  },
  {
   "cell_type": "code",
   "execution_count": 5,
   "id": "5827c5a7-71d3-4a5d-ac1f-a5cc4e14bd5c",
   "metadata": {},
   "outputs": [
    {
     "data": {
      "text/plain": [
       "leaf      20\n",
       "branch     5\n",
       "trunk      1\n",
       "dtype: int64"
      ]
     },
     "execution_count": 5,
     "metadata": {},
     "output_type": "execute_result"
    }
   ],
   "source": [
    "#You can also create a Python dictionary and essentially convert it into a Series.\n",
    "earth_dict = {'leaf': 20, 'branch': 5, 'trunk':1}\n",
    "\n",
    "pd.Series(earth_dict)"
   ]
  },
  {
   "cell_type": "markdown",
   "id": "f08277ae-4191-461a-a323-28117663aec4",
   "metadata": {},
   "source": [
    "And since Series are similar to <mark style=\"background-color: #EEEEEE;\"><strong>ndarray</strong></mark>, you can retrieve values and slices from them.\n",
    "\n",
    "One way to do so is if you have your Series, you can pass an index through the <mark style=\"background-color: #EEEEEE;\"><strong>pd.Series()</strong></mark> function with your Series as an argument to pull out the value associated to that index or indices.\n",
    "```\n",
    "pd.Series(fire_series, index=['a'])\n",
    "```\n",
    "If the index does not exist in the Series you are trying to retrieve a value from, then Python will return <mark style=\"background-color: #EEEEEE;\"><strong>NaN</strong></mark> (not a number), which is how pandas denotes missing data values (like an empty cell in Excel)."
   ]
  },
  {
   "cell_type": "code",
   "execution_count": 6,
   "id": "65dce54a-2a80-419e-b476-30fb1359e6db",
   "metadata": {},
   "outputs": [
    {
     "data": {
      "text/plain": [
       "a    0.25531\n",
       "dtype: float64"
      ]
     },
     "execution_count": 6,
     "metadata": {},
     "output_type": "execute_result"
    }
   ],
   "source": [
    "#Try pulling out a single index and then a slice of a Series.\n",
    "\n",
    "pd.Series(fire_series, index=['a'])"
   ]
  },
  {
   "cell_type": "code",
   "execution_count": 7,
   "id": "98c92384-b3a2-4ec2-a296-afb02b621195",
   "metadata": {},
   "outputs": [
    {
     "data": {
      "text/plain": [
       "i   NaN\n",
       "dtype: float64"
      ]
     },
     "execution_count": 7,
     "metadata": {},
     "output_type": "execute_result"
    }
   ],
   "source": [
    "#Try and retrieve from an index that doesn't exist.\n",
    "pd.Series(fire_series, index=['i'])"
   ]
  },
  {
   "cell_type": "markdown",
   "id": "fd27d370-ab25-4f22-9f6c-3138f33bec77",
   "metadata": {},
   "source": [
    "<h3>Dictionary-like properties of Series</h3>"
   ]
  },
  {
   "cell_type": "markdown",
   "id": "97354d07-ffc9-484f-b1ec-307c39d0ac6e",
   "metadata": {},
   "source": [
    "The above way of retrieving data can be a bit cumbersome to write out, and if you noticed, it also retrieves the index value with it. The nice thing about pandas Series is that we can treat it like a Python dictionary as well. So we can retrieve a value based on an associated \"key\", which in this case is the index value or some label that we specified when creating the Series.\n",
    "```\n",
    "fire_series['a']\n",
    "```\n",
    "So this essentially follows a similar syntax that we used to pull out a value associated with a specific key in a dictionary.\n",
    "\n",
    "Recall from yesterday, to pull out a value for a given key:\n",
    "```\n",
    "dictionary['table']\n",
    "```"
   ]
  },
  {
   "cell_type": "code",
   "execution_count": 8,
   "id": "a8901394-15c0-4a69-8b8c-b637f70f1a9d",
   "metadata": {},
   "outputs": [
    {
     "data": {
      "text/plain": [
       "0.25530957264560405"
      ]
     },
     "execution_count": 8,
     "metadata": {},
     "output_type": "execute_result"
    }
   ],
   "source": [
    "#Try with the above dictionary-like syntax.\n",
    "fire_series['a']"
   ]
  },
  {
   "cell_type": "code",
   "execution_count": 9,
   "id": "0afe8bc9-9080-4e43-aefe-8215debc3278",
   "metadata": {},
   "outputs": [
    {
     "ename": "KeyError",
     "evalue": "'i'",
     "output_type": "error",
     "traceback": [
      "\u001b[0;31m---------------------------------------------------------------------------\u001b[0m",
      "\u001b[0;31mKeyError\u001b[0m                                  Traceback (most recent call last)",
      "File \u001b[0;32m/srv/conda/lib/python3.11/site-packages/pandas/core/indexes/base.py:3802\u001b[0m, in \u001b[0;36mIndex.get_loc\u001b[0;34m(self, key, method, tolerance)\u001b[0m\n\u001b[1;32m   3801\u001b[0m \u001b[38;5;28;01mtry\u001b[39;00m:\n\u001b[0;32m-> 3802\u001b[0m     \u001b[38;5;28;01mreturn\u001b[39;00m \u001b[38;5;28;43mself\u001b[39;49m\u001b[38;5;241;43m.\u001b[39;49m\u001b[43m_engine\u001b[49m\u001b[38;5;241;43m.\u001b[39;49m\u001b[43mget_loc\u001b[49m\u001b[43m(\u001b[49m\u001b[43mcasted_key\u001b[49m\u001b[43m)\u001b[49m\n\u001b[1;32m   3803\u001b[0m \u001b[38;5;28;01mexcept\u001b[39;00m \u001b[38;5;167;01mKeyError\u001b[39;00m \u001b[38;5;28;01mas\u001b[39;00m err:\n",
      "File \u001b[0;32m/srv/conda/lib/python3.11/site-packages/pandas/_libs/index.pyx:138\u001b[0m, in \u001b[0;36mpandas._libs.index.IndexEngine.get_loc\u001b[0;34m()\u001b[0m\n",
      "File \u001b[0;32m/srv/conda/lib/python3.11/site-packages/pandas/_libs/index.pyx:165\u001b[0m, in \u001b[0;36mpandas._libs.index.IndexEngine.get_loc\u001b[0;34m()\u001b[0m\n",
      "File \u001b[0;32mpandas/_libs/hashtable_class_helper.pxi:5745\u001b[0m, in \u001b[0;36mpandas._libs.hashtable.PyObjectHashTable.get_item\u001b[0;34m()\u001b[0m\n",
      "File \u001b[0;32mpandas/_libs/hashtable_class_helper.pxi:5753\u001b[0m, in \u001b[0;36mpandas._libs.hashtable.PyObjectHashTable.get_item\u001b[0;34m()\u001b[0m\n",
      "\u001b[0;31mKeyError\u001b[0m: 'i'",
      "\nThe above exception was the direct cause of the following exception:\n",
      "\u001b[0;31mKeyError\u001b[0m                                  Traceback (most recent call last)",
      "Cell \u001b[0;32mIn[9], line 2\u001b[0m\n\u001b[1;32m      1\u001b[0m \u001b[38;5;66;03m#But what if our index does not exist?\u001b[39;00m\n\u001b[0;32m----> 2\u001b[0m \u001b[43mfire_series\u001b[49m\u001b[43m[\u001b[49m\u001b[38;5;124;43m'\u001b[39;49m\u001b[38;5;124;43mi\u001b[39;49m\u001b[38;5;124;43m'\u001b[39;49m\u001b[43m]\u001b[49m\n",
      "File \u001b[0;32m/srv/conda/lib/python3.11/site-packages/pandas/core/series.py:981\u001b[0m, in \u001b[0;36mSeries.__getitem__\u001b[0;34m(self, key)\u001b[0m\n\u001b[1;32m    978\u001b[0m     \u001b[38;5;28;01mreturn\u001b[39;00m \u001b[38;5;28mself\u001b[39m\u001b[38;5;241m.\u001b[39m_values[key]\n\u001b[1;32m    980\u001b[0m \u001b[38;5;28;01melif\u001b[39;00m key_is_scalar:\n\u001b[0;32m--> 981\u001b[0m     \u001b[38;5;28;01mreturn\u001b[39;00m \u001b[38;5;28;43mself\u001b[39;49m\u001b[38;5;241;43m.\u001b[39;49m\u001b[43m_get_value\u001b[49m\u001b[43m(\u001b[49m\u001b[43mkey\u001b[49m\u001b[43m)\u001b[49m\n\u001b[1;32m    983\u001b[0m \u001b[38;5;28;01mif\u001b[39;00m is_hashable(key):\n\u001b[1;32m    984\u001b[0m     \u001b[38;5;66;03m# Otherwise index.get_value will raise InvalidIndexError\u001b[39;00m\n\u001b[1;32m    985\u001b[0m     \u001b[38;5;28;01mtry\u001b[39;00m:\n\u001b[1;32m    986\u001b[0m         \u001b[38;5;66;03m# For labels that don't resolve as scalars like tuples and frozensets\u001b[39;00m\n",
      "File \u001b[0;32m/srv/conda/lib/python3.11/site-packages/pandas/core/series.py:1089\u001b[0m, in \u001b[0;36mSeries._get_value\u001b[0;34m(self, label, takeable)\u001b[0m\n\u001b[1;32m   1086\u001b[0m     \u001b[38;5;28;01mreturn\u001b[39;00m \u001b[38;5;28mself\u001b[39m\u001b[38;5;241m.\u001b[39m_values[label]\n\u001b[1;32m   1088\u001b[0m \u001b[38;5;66;03m# Similar to Index.get_value, but we do not fall back to positional\u001b[39;00m\n\u001b[0;32m-> 1089\u001b[0m loc \u001b[38;5;241m=\u001b[39m \u001b[38;5;28;43mself\u001b[39;49m\u001b[38;5;241;43m.\u001b[39;49m\u001b[43mindex\u001b[49m\u001b[38;5;241;43m.\u001b[39;49m\u001b[43mget_loc\u001b[49m\u001b[43m(\u001b[49m\u001b[43mlabel\u001b[49m\u001b[43m)\u001b[49m\n\u001b[1;32m   1090\u001b[0m \u001b[38;5;28;01mreturn\u001b[39;00m \u001b[38;5;28mself\u001b[39m\u001b[38;5;241m.\u001b[39mindex\u001b[38;5;241m.\u001b[39m_get_values_for_loc(\u001b[38;5;28mself\u001b[39m, loc, label)\n",
      "File \u001b[0;32m/srv/conda/lib/python3.11/site-packages/pandas/core/indexes/base.py:3804\u001b[0m, in \u001b[0;36mIndex.get_loc\u001b[0;34m(self, key, method, tolerance)\u001b[0m\n\u001b[1;32m   3802\u001b[0m     \u001b[38;5;28;01mreturn\u001b[39;00m \u001b[38;5;28mself\u001b[39m\u001b[38;5;241m.\u001b[39m_engine\u001b[38;5;241m.\u001b[39mget_loc(casted_key)\n\u001b[1;32m   3803\u001b[0m \u001b[38;5;28;01mexcept\u001b[39;00m \u001b[38;5;167;01mKeyError\u001b[39;00m \u001b[38;5;28;01mas\u001b[39;00m err:\n\u001b[0;32m-> 3804\u001b[0m     \u001b[38;5;28;01mraise\u001b[39;00m \u001b[38;5;167;01mKeyError\u001b[39;00m(key) \u001b[38;5;28;01mfrom\u001b[39;00m \u001b[38;5;21;01merr\u001b[39;00m\n\u001b[1;32m   3805\u001b[0m \u001b[38;5;28;01mexcept\u001b[39;00m \u001b[38;5;167;01mTypeError\u001b[39;00m:\n\u001b[1;32m   3806\u001b[0m     \u001b[38;5;66;03m# If we have a listlike key, _check_indexing_error will raise\u001b[39;00m\n\u001b[1;32m   3807\u001b[0m     \u001b[38;5;66;03m#  InvalidIndexError. Otherwise we fall through and re-raise\u001b[39;00m\n\u001b[1;32m   3808\u001b[0m     \u001b[38;5;66;03m#  the TypeError.\u001b[39;00m\n\u001b[1;32m   3809\u001b[0m     \u001b[38;5;28mself\u001b[39m\u001b[38;5;241m.\u001b[39m_check_indexing_error(key)\n",
      "\u001b[0;31mKeyError\u001b[0m: 'i'"
     ]
    }
   ],
   "source": [
    "#But what if our index does not exist?\n",
    "fire_series['i']"
   ]
  },
  {
   "cell_type": "markdown",
   "id": "96813327-597d-48d0-b194-4f08021a0aa3",
   "metadata": {},
   "source": [
    "To get around this issue, you can also use the <mark style=\"background-color: #EEEEEE;\"><strong>Series.get()</strong></mark> function. Similar to how <mark style=\"background-color: #EEEEEE;\"><strong>discard()</strong></mark> will just output nothing, <mark style=\"background-color: #EEEEEE;\"><strong>Series.get()</strong></mark> will output nothing or some default that you specify."
   ]
  },
  {
   "cell_type": "code",
   "execution_count": 10,
   "id": "cc9d22d7-91d9-4fec-8b99-5b397c10e088",
   "metadata": {},
   "outputs": [
    {
     "name": "stdout",
     "output_type": "stream",
     "text": [
      "0.25530957264560405\n",
      "None\n"
     ]
    }
   ],
   "source": [
    "#Try using Series.get() to pull a value from a non-existant index.\n",
    "print(fire_series.get('a'))\n",
    "\n",
    "#If the index doesn't exist\n",
    "print(fire_series.get('i'))"
   ]
  },
  {
   "cell_type": "markdown",
   "id": "d88aeb1b-5ec5-4c26-8975-87e0f450eddf",
   "metadata": {},
   "source": [
    "<h3>Functions to pull specific element(s)</h3>"
   ]
  },
  {
   "cell_type": "markdown",
   "id": "076bc69c-6708-470c-8fb0-fd35d1f3a517",
   "metadata": {},
   "source": [
    "Pandas also has specific functions that you can use to pull out specific element(s) that you're interested in working with.\n",
    "\n",
    "<a href=\"https://pandas.pydata.org/docs/reference/api/pandas.Series.iloc.html\" rel=\"noopener noreferrer\" target=\"_blank\"><mark style=\"background-color: #EEEEEE;\"><strong>pandas.Series.iloc</strong></mark></a> (click for documentation)\n",
    "\n",
    "The <mark style=\"background-color: #EEEEEE;\"><strong>iloc</strong></mark> function can use an **int** argument to specify the index value in order to identify the associated value in the Series that you want to retrieve.\n",
    "\n",
    "For example,\n",
    "```\n",
    "water_series.iloc[1]\n",
    "```\n",
    "This is telling Python that you want to perform the function <mark style=\"background-color: #EEEEEE;\"><strong>iloc</strong></mark> on the Series <mark style=\"background-color: #EEEEEE;\"><strong>water_series</strong></mark>.\n",
    "\n",
    "<a href=\"https://pandas.pydata.org/docs/reference/api/pandas.Series.loc.html\" rel=\"noopener noreferrer\" target=\"_blank\"><mark style=\"background-color: #EEEEEE;\"><strong>pandas.Series.loc</strong></mark></a> (click for documentation)\n",
    "\n",
    "The <mark style=\"background-color: #EEEEEE;\"><strong>loc</strong></mark> function works similarly to <mark style=\"background-color: #EEEEEE;\"><strong>iloc</strong></mark>. You can retrieve values by their assigned label (kind of like a dictionary) or pull a slice by providing it with multiple labels. When providing both the start and end labels, Python will pull out those values as well, so slightly different than when using an index.\n",
    "\n",
    "For example:\n",
    "```\n",
    "fire_series.loc['b']\n",
    "```\n",
    "This is telling Python that you want to pull the value associated with the label <mark style=\"background-color: #EEEEEE;\"><strong>b</strong></mark> from the Series <mark style=\"background-color: #EEEEEE;\"><strong>fire_series</strong></mark>."
   ]
  },
  {
   "cell_type": "code",
   "execution_count": 11,
   "id": "9eae88bd-af2a-4c07-b496-14e844fb1991",
   "metadata": {},
   "outputs": [
    {
     "name": "stdout",
     "output_type": "stream",
     "text": [
      "0.7166353610596408\n",
      "0    0.716635\n",
      "1    0.210956\n",
      "2    0.284269\n",
      "3    0.213437\n",
      "4    0.856984\n",
      "5    0.231085\n",
      "6    0.464308\n",
      "7    0.007670\n",
      "8    0.302848\n",
      "9    0.560867\n",
      "dtype: float64\n"
     ]
    }
   ],
   "source": [
    "#Try with pulling the value of a specified index.\n",
    "print(water_series.iloc[0])\n",
    "print(water_series)"
   ]
  },
  {
   "cell_type": "code",
   "execution_count": 14,
   "id": "ef9740d4-7d57-4d3c-af98-8bc9ba883bd7",
   "metadata": {},
   "outputs": [
    {
     "data": {
      "text/plain": [
       "0.7834025433555055"
      ]
     },
     "execution_count": 14,
     "metadata": {},
     "output_type": "execute_result"
    }
   ],
   "source": [
    "#What if you labeled the index as a letter when you first created it?\n",
    "fire_series.loc['b']"
   ]
  },
  {
   "cell_type": "markdown",
   "id": "2ab4eccf-bab8-43d5-bdaa-596901fa93ae",
   "metadata": {},
   "source": [
    "You can also make use of slice notation when calling the <mark style=\"background-color: #EEEEEE;\"><strong>iloc</strong></mark> function.\n",
    "```\n",
    "water_series.iloc[0:4]\n",
    "```\n",
    "This tells Python that you want in this case from positions 0 to 3 from your Series <mark style=\"background-color: #EEEEEE;\"><strong>water_series</strong></mark>. Again, you'll want to keep in mind that things can get a little confusing with how Python denotes positions in an index. In this case, the <mark style=\"background-color: #EEEEEE;\"><strong>4</strong></mark> denotes the fourth position, which has an index value of 3."
   ]
  },
  {
   "cell_type": "code",
   "execution_count": 13,
   "id": "395f5c31-2900-4bbf-a1b7-15172d9687ef",
   "metadata": {},
   "outputs": [
    {
     "data": {
      "text/plain": [
       "0    0.716635\n",
       "1    0.210956\n",
       "2    0.284269\n",
       "3    0.213437\n",
       "dtype: float64"
      ]
     },
     "execution_count": 13,
     "metadata": {},
     "output_type": "execute_result"
    }
   ],
   "source": [
    "#You can also use slice notation to pull specific slices.\n",
    "water_series.iloc[0:4]"
   ]
  },
  {
   "cell_type": "code",
   "execution_count": 15,
   "id": "e17621d1-4bb9-4fb4-87cf-4d9e98b7eb05",
   "metadata": {},
   "outputs": [
    {
     "data": {
      "text/plain": [
       "0    0.716635\n",
       "2    0.284269\n",
       "4    0.856984\n",
       "6    0.464308\n",
       "8    0.302848\n",
       "dtype: float64"
      ]
     },
     "execution_count": 15,
     "metadata": {},
     "output_type": "execute_result"
    }
   ],
   "source": [
    "#Again with slice notation: this time pulling every other slice.\n",
    "water_series.iloc[ : : 2]\n",
    "#The [::2] slice notation indicates that every other element will be retrieved.\n",
    "#Recall that the arguments are [start : end : step-size]"
   ]
  },
  {
   "cell_type": "markdown",
   "id": "ea8abb74-9cc5-42b6-bf6d-af6e50450f18",
   "metadata": {},
   "source": [
    "When you use <mark style=\"background-color: #EEEEEE;\"><strong>loc</strong></mark>, you can still retrieve a slice object."
   ]
  },
  {
   "cell_type": "code",
   "execution_count": 16,
   "id": "2319daa5-7ab7-4fe6-a66f-8f4907a8e1eb",
   "metadata": {},
   "outputs": [
    {
     "name": "stdout",
     "output_type": "stream",
     "text": [
      "a    0.255310\n",
      "b    0.783403\n",
      "c    0.245603\n",
      "dtype: float64\n"
     ]
    },
    {
     "data": {
      "text/plain": [
       "a    0.255310\n",
       "c    0.245603\n",
       "e    0.784223\n",
       "g    0.098136\n",
       "dtype: float64"
      ]
     },
     "execution_count": 16,
     "metadata": {},
     "output_type": "execute_result"
    }
   ],
   "source": [
    "#So with fire_series:\n",
    "print(fire_series.loc['a':'c'])\n",
    "\n",
    "#Can you specify step size?\n",
    "fire_series.loc['a':'g':2]"
   ]
  },
  {
   "cell_type": "markdown",
   "id": "029447f0-c669-4047-8226-18d8f07c9e83",
   "metadata": {},
   "source": [
    "<h3>Conditional slices</h3>"
   ]
  },
  {
   "cell_type": "markdown",
   "id": "c8838700-e8bc-4c59-9943-81ef2d3f540b",
   "metadata": {},
   "source": [
    "You can also set a specific condition to pull slices out. If for example, you wanted to pull the slices that contain a value that is greater than the mean of the values in your Series. You can imagine that this will be something that comes in handy if you want to clean or filter your data that you are working with.\n",
    "```\n",
    "water_series[water_series > water_series.mean()]\n",
    "```\n",
    "Let's break down what is going on in the line above:\n",
    "<ul>\n",
    "    <li><mark style=\"background-color: #EEEEEE;\"><strong>water_series[]</strong></mark> - we are telling Python that we want to pull something from the Series <mark style=\"background-color: #EEEEEE;\"><strong>water_series</strong></mark>.</li>\n",
    "    <li><mark style=\"background-color: #EEEEEE;\"><strong>water_series &gt; </strong></mark> - we are specifying the condition that must be met for Python to retrieve a value. In this case, the condition is when the value in the Series is greater than something.</li>\n",
    "    <li><mark style=\"background-color: #EEEEEE;\"><strong>water_series.mean()</strong></mark> - that \"something\" that we want it to be greater than is the mean of the values in <mark style=\"background-color: #EEEEEE;\"><strong>water_series</strong></mark>.</li>\n",
    "</ul>"
   ]
  },
  {
   "cell_type": "code",
   "execution_count": 17,
   "id": "f3922d4d-2446-4db1-9985-a91163cd4cbd",
   "metadata": {},
   "outputs": [
    {
     "name": "stdout",
     "output_type": "stream",
     "text": [
      "0.38490589559639354\n",
      "0     True\n",
      "1    False\n",
      "2    False\n",
      "3    False\n",
      "4     True\n",
      "5    False\n",
      "6     True\n",
      "7    False\n",
      "8    False\n",
      "9     True\n",
      "dtype: bool\n",
      "0    0.716635\n",
      "1    0.210956\n",
      "2    0.284269\n",
      "3    0.213437\n",
      "4    0.856984\n",
      "5    0.231085\n",
      "6    0.464308\n",
      "7    0.007670\n",
      "8    0.302848\n",
      "9    0.560867\n",
      "dtype: float64\n",
      "0    0.716635\n",
      "4    0.856984\n",
      "6    0.464308\n",
      "9    0.560867\n",
      "dtype: float64\n"
     ]
    }
   ],
   "source": [
    "#Looking at mean() function:\n",
    "print(water_series.mean())\n",
    "#The above line calculates the mean using all elements in water_series\n",
    "#then prints the result.\n",
    "#Open parenthese () indicate that you just want default parameters for that function\n",
    "#In this case the function is the mean()\n",
    "\n",
    "#Looking at the conditional statement\n",
    "print(water_series > water_series.mean())\n",
    "#This will give us a 'bool' data type because we are making a conditional statement.\n",
    "#Basically as if we were asking Python \"For each element in water_series, is it greater than the mean?\"\n",
    "#So as Python goes through each element, it will give us an answer to our question.\n",
    "\n",
    "#Take a look to see if the values look greater than the mean to you.\n",
    "print(water_series)\n",
    "\n",
    "#Now let's use the answers of our conditional statement as a reference\n",
    "#to determine which elements we want to pull out\n",
    "#If there's a True value, then the corresponding element will be pulled out.\n",
    "print(water_series[water_series > water_series.mean()])\n"
   ]
  },
  {
   "cell_type": "code",
   "execution_count": 18,
   "id": "8e7dff05-319f-4b93-91f2-0e94d8d184ad",
   "metadata": {},
   "outputs": [
    {
     "name": "stdout",
     "output_type": "stream",
     "text": [
      "0    False\n",
      "1     True\n",
      "2    False\n",
      "3     True\n",
      "4    False\n",
      "5     True\n",
      "6    False\n",
      "7     True\n",
      "8    False\n",
      "9    False\n",
      "dtype: bool\n",
      "1    0.210956\n",
      "3    0.213437\n",
      "5    0.231085\n",
      "7    0.007670\n",
      "dtype: float64\n"
     ]
    }
   ],
   "source": [
    "#We can also try filtering for those values in water_series that is less than 0.25\n",
    "\n",
    "#Let's look to see what the answer to our question will be:\n",
    "print(water_series < 0.25)\n",
    "\n",
    "#Now that will be the guide that Python uses to pull out specific elements\n",
    "#for the Series that we specify\n",
    "print(water_series[water_series < 0.25])"
   ]
  },
  {
   "cell_type": "markdown",
   "id": "6394c04b-bcfd-4419-bb7e-c6ca5e14e637",
   "metadata": {},
   "source": [
    "<h3>Performing operations with Series</h3>"
   ]
  },
  {
   "cell_type": "markdown",
   "id": "08625fe5-3137-4170-a848-001feb3b7a95",
   "metadata": {},
   "source": [
    "Like with <mark style=\"background-color: #EEEEEE;\"><strong>ndarray</strong></mark>, you can perform math operations on Series using the standard syntax, and Python will know to take each element of your Series and perform the specified operation.\n",
    "\n",
    "For example, if you wanted to add 5 to each element of a Series:\n",
    "```\n",
    "fire_series + 5\n",
    "```\n",
    "\n",
    "Or if you wanted to find get the sqrt of each value a Series:\n",
    "```\n",
    "np.sqrt(fire_series)\n",
    "```\n",
    "\n",
    "You can also add two Series together:\n",
    "```\n",
    "fire_series_add + fire_series_rt\n",
    "```"
   ]
  },
  {
   "cell_type": "code",
   "execution_count": 19,
   "id": "5a79d3f1-8d91-4ba7-9fcc-b2d49078af07",
   "metadata": {},
   "outputs": [
    {
     "name": "stdout",
     "output_type": "stream",
     "text": [
      "a    0.255310\n",
      "b    0.783403\n",
      "c    0.245603\n",
      "d    0.068541\n",
      "e    0.784223\n",
      "f    0.809311\n",
      "g    0.098136\n",
      "dtype: float64\n",
      "a    5.255310\n",
      "b    5.783403\n",
      "c    5.245603\n",
      "d    5.068541\n",
      "e    5.784223\n",
      "f    5.809311\n",
      "g    5.098136\n",
      "dtype: float64\n",
      "a    5.255310\n",
      "b    5.783403\n",
      "c    5.245603\n",
      "d    5.068541\n",
      "e    5.784223\n",
      "f    5.809311\n",
      "g    5.098136\n",
      "dtype: float64\n",
      "a    0.505282\n",
      "b    0.885100\n",
      "c    0.495584\n",
      "d    0.261804\n",
      "e    0.885564\n",
      "f    0.899617\n",
      "g    0.313266\n",
      "dtype: float64\n"
     ]
    }
   ],
   "source": [
    "#Let's try that here and assign the results to some variables\n",
    "\n",
    "#Let's break the operation into it's consituent parts:\n",
    "print(fire_series) #Our original fire_series\n",
    "\n",
    "print(fire_series + 5) #Now add 5 to each element and print the result\n",
    "#So operations are performed on each element in a Series.\n",
    "\n",
    "#Let's create two new Series that we will use later\n",
    "fire_series_add = fire_series + 5\n",
    "fire_series_rt = np.sqrt(fire_series)\n",
    "#Math operations can be specified by standard math syntax\n",
    "#and specific functions as well.\n",
    "\n",
    "#Now let's see what the result is\n",
    "print(fire_series_add)\n",
    "print(fire_series_rt)"
   ]
  },
  {
   "cell_type": "markdown",
   "id": "37f69dce-4203-4826-9b2d-95cdda3cabea",
   "metadata": {},
   "source": [
    "One important thing to note is that Series will automatically align themselves based on their labels when performing operations involving multiple Series. The benefit of this is that you don't have to worry if one label isn't present in another Series since the other labels will align themselves if they are shared.\n",
    "\n",
    "The result of the operation will give us an output that is the **union** (recall from **sets**) of the indices, and if certain labels aren't shared, no operation can be performed. So the resulting value associated with those unshared labels is <mark style=\"background-color: #EEEEEE;\"><strong>NaN</strong></mark>.\n",
    "\n",
    "This sort of flexibility allows you to work more easily with complicated data sets that may not all have things shared among them."
   ]
  },
  {
   "cell_type": "code",
   "execution_count": 20,
   "id": "8ee8197b-0254-4488-b353-c284cf594514",
   "metadata": {},
   "outputs": [
    {
     "name": "stdout",
     "output_type": "stream",
     "text": [
      "a    5.255310\n",
      "b    5.783403\n",
      "c    5.245603\n",
      "d    5.068541\n",
      "dtype: float64\n",
      "a    0.505282\n",
      "c    0.495584\n",
      "e    0.885564\n",
      "g    0.313266\n",
      "dtype: float64\n"
     ]
    },
    {
     "data": {
      "text/plain": [
       "a    5.760591\n",
       "b         NaN\n",
       "c    5.741187\n",
       "d         NaN\n",
       "e         NaN\n",
       "g         NaN\n",
       "dtype: float64"
      ]
     },
     "execution_count": 20,
     "metadata": {},
     "output_type": "execute_result"
    }
   ],
   "source": [
    "#For example, let's play with specific slices of our new Series that we created from above.\n",
    "#Let's sample two portions of our Series that don't have perfectly overlapping index values.\n",
    "#Take a look at the output, and pay attention to the index values for both slices.\n",
    "print(fire_series_add['a':'d']) #This one has index values a to d.\n",
    "\n",
    "print(fire_series_rt[::2]) #While this one has every other index value.\n",
    "\n",
    "#So then if we use these two slices in an operation.\n",
    "fire_series_add['a':'d'] + fire_series_rt[::2]\n",
    "#Since only labels a and c are shared, only those will have an operation performed on them.\n",
    "#The rest are left NaN\n",
    "#But the resulting Series will have the index values contained in both Series\n",
    "#The union of them. Essentially like a union of two sets (no duplicates)."
   ]
  },
  {
   "cell_type": "markdown",
   "id": "b69f6745-2448-451e-ac94-acc011b8e151",
   "metadata": {},
   "source": [
    "<h2 style=\"font-size: 32px;\">DataFrames</h2>"
   ]
  },
  {
   "cell_type": "markdown",
   "id": "ac1ef6b5-80bb-496e-ae94-fb646b448157",
   "metadata": {},
   "source": [
    "Pandas **DataFrames** (often shorthanded to **df**) are like a more advanced version of Series. These data structures are more similar to the types of tables that you often work with in Excel or Google Sheets. While Series are one-dimensional, DataFrames are two-dimensional with rows and columns and can include labels that define what the row or column is. This type of data structure is likely going to be the most common type of data structure you'll be working with, particularly for data analysis. It's a pretty verstatile data structure, and there's a lot of tools available for you to work with them."
   ]
  },
  {
   "cell_type": "markdown",
   "id": "973bd916-9293-4260-9730-978d7911b8c1",
   "metadata": {},
   "source": [
    "<h3>Creating DataFrames</h3>"
   ]
  },
  {
   "cell_type": "markdown",
   "id": "f9959988-9329-481b-a412-395a3916cdb8",
   "metadata": {},
   "source": [
    "There's a large number of ways to create a pandas DataFrame from the ground up, and you can find documentation on different ways to do so <u><a href=\"https://pandas.pydata.org/docs/reference/api/pandas.DataFrame.html\" rel=\"noopener noreferrer\" target=\"_blank\">here</a></u>.\n",
    "\n",
    "In these cases, by making use of the <mark style=\"background-color: #EEEEEE;\"><strong>pandas.DataFrame()</strong></mark> function, we can construct a data structure that contains rows and columns and if specified labels for those rows and columns. So in a way, much like Series, a DataFrame can be thought of as dictionary-like as well.\n",
    "\n",
    "If we visualize the DataFrame that we want to create as if it were on an Excel spreadsheet.\n",
    "\n",
    "<table style=\"margin-left: 0px;\">\n",
    "    <tr>\n",
    "        <th style=\"background-color: none; border-left: none; border-top: none;\">&nbsp;</th>\n",
    "        <th style=\"background-color: #EEEEEE; border: 1px solid; border-color: #000000;\">x</th>\n",
    "        <th style=\"background-color: #EEEEEE; border: 1px solid; border-color: #000000;\">y</th>\n",
    "    </tr>\n",
    "    <tr>\n",
    "        <td style=\"background-color: #EEEEEE; border: 1px solid; border-color: #000000;\"><strong>0</strong></td>\n",
    "        <td style=\"background-color: #FFFFFF; border: 1px solid; border-color: #000000;\">100</td>\n",
    "        <td style=\"background-color: #FFFFFF; border: 1px solid; border-color: #000000;\">200</td>\n",
    "    </tr>\n",
    "    <tr>\n",
    "        <td style=\"background-color: #EEEEEE; border: 1px solid; border-color: #000000;\"><strong>1</strong></td>\n",
    "        <td style=\"background-color: #FFFFFF; border: 1px solid; border-color: #000000;\">13</td>\n",
    "        <td style=\"background-color: #FFFFFF; border: 1px solid; border-color: #000000;\">10</td>\n",
    "    </tr>\n",
    "    <tr>\n",
    "        <td style=\"background-color: #EEEEEE; border: 1px solid; border-color: #000000;\"><strong>2</strong></td>\n",
    "        <td style=\"background-color: #FFFFFF; border: 1px solid; border-color: #000000;\">1000</td>\n",
    "        <td style=\"background-color: #FFFFFF; border: 1px solid; border-color: #000000;\">2000</td>\n",
    "    </tr>\n",
    "    <tr>\n",
    "        <td style=\"background-color: #EEEEEE; border: 1px solid; border-color: #000000;\"><strong>3</td>\n",
    "        <td style=\"background-color: #FFFFFF; border: 1px solid; border-color: #000000;\">5</td>\n",
    "        <td style=\"background-color: #FFFFFF; border: 1px solid; border-color: #000000;\">2</td>\n",
    "    </tr>    \n",
    "</table>"
   ]
  },
  {
   "cell_type": "markdown",
   "id": "c58817c8-8384-4f0e-bde6-2fa3ae79db3a",
   "metadata": {},
   "source": [
    "<h4>Constructing DataFrame from ndarray</h4>"
   ]
  },
  {
   "cell_type": "markdown",
   "id": "7c14a2c9-84a4-4672-8474-9c66ec7181e0",
   "metadata": {},
   "source": [
    "We can construct a DataFrame from an <mark style=\"background-color: #EEEEEE;\"><strong>ndarray</strong></mark> that has two dimensions.\n",
    "```\n",
    "#Set up our two-dimensional ndarray\n",
    "seed_1 = np.array([[100, 200], [13, 10], [1000, 2000], [5, 2]])\n",
    "\n",
    "#Create a DataFrame from our 2D array\n",
    "#And we'll specify what we want the columns to be named.\n",
    "mango_df = pd.DataFrame(seed_1, columns=['x', 'y'])\n",
    "```\n",
    "\n",
    "<strong>Breaking these lines down:</strong></br>\n",
    "When we set up our 2D array:\n",
    "<ul>\n",
    "    <li><mark style=\"background-color: #EEEEEE;\"><strong>seed_1</strong></mark> - this is our variable for our array</li>\n",
    "    <li><mark style=\"background-color: #EEEEEE;\"><strong>&equals;</strong></mark> - this is our assignment operator</li>\n",
    "    <li><mark style=\"background-color: #EEEEEE;\"><strong>np.array()</strong></mark> - we want to use the <mark style=\"background-color: #EEEEEE;\"><strong>array()</strong></mark> function from the package <mark style=\"background-color: #EEEEEE;\"><strong>np</strong></mark></li>\n",
    "    <li><mark style=\"background-color: #EEEEEE;\"><strong>[[x0, y0], [x1, y1], [x2, y2], [x3, y3]]</strong></mark> - creating a two-dimensional <mark style=\"background-color: #EEEEEE;\"><strong>ndarray</strong></mark> that has two columns and four rows</li>\n",
    "</ul>\n",
    "\n",
    "When we create our DataFrame from that 2D array:\n",
    "<ul>\n",
    "    <li><mark style=\"background-color: #EEEEEE;\"><strong>mango_df</strong></mark> - this is our variable for our DataFrame</li>\n",
    "    <li><mark style=\"background-color: #EEEEEE;\"><strong>&equals;</strong></mark> - this is our assignment operator</li>\n",
    "    <li><mark style=\"background-color: #EEEEEE;\"><strong>pd.DataFrame()</strong></mark> - we want to use the <mark style=\"background-color: #EEEEEE;\"><strong>DataFrame()</strong></mark> function from the package <mark style=\"background-color: #EEEEEE;\"><strong>pd</strong></mark></li>\n",
    "    <li><mark style=\"background-color: #EEEEEE;\"><strong>seed_1</strong></mark> - we want to use our 2D array to create a DataFrame</li>\n",
    "    <li><mark style=\"background-color: #EEEEEE;\"><strong>columns=</strong></mark> - we are telling Python we want to label our columns for our DataFrame</li>\n",
    "    <li><mark style=\"background-color: #EEEEEE;\"><strong>['x', 'y']</strong></mark> - we create a list with two <strong>strings</strong> that will become the labels for our DataFrame columns</li>\n",
    "</ul>"
   ]
  },
  {
   "cell_type": "code",
   "execution_count": 21,
   "id": "57b14b9f-e2dc-4622-9c6b-5800cb69da6e",
   "metadata": {},
   "outputs": [
    {
     "name": "stdout",
     "output_type": "stream",
     "text": [
      "[[ 100  200]\n",
      " [  13   10]\n",
      " [1000 2000]\n",
      " [   5    2]]\n",
      "      x     y\n",
      "0   100   200\n",
      "1    13    10\n",
      "2  1000  2000\n",
      "3     5     2\n"
     ]
    }
   ],
   "source": [
    "#Set up our 2D array:\n",
    "seed_1 = np.array([[100, 200], [13, 10], [1000, 2000], [5, 2]])\n",
    "\n",
    "#Let's take a look at our array.\n",
    "print(seed_1)\n",
    "\n",
    "#Create a DataFrame from our 2D array\n",
    "#and also specify what we want the columns named\n",
    "mango_df = pd.DataFrame(seed_1, columns=['x','y'])\n",
    "\n",
    "#Let's print out our DataFrame\n",
    "print(mango_df)\n",
    "#You can see in the output that it has the column header and index as well.\n",
    "#Kind of like an Excel table."
   ]
  },
  {
   "cell_type": "markdown",
   "id": "de2c501d-4231-498f-98cb-2fc6c6ed7d27",
   "metadata": {},
   "source": [
    "Compare that to what we're used to looking at in Excel:\n",
    "\n",
    "<table style=\"margin-left: 0px;\">\n",
    "    <tr>\n",
    "        <th style=\"background-color: none; border-left: none; border-top: none;\">&nbsp;</th>\n",
    "        <th style=\"background-color: #EEEEEE; border: 1px solid; border-color: #000000;\">x</th>\n",
    "        <th style=\"background-color: #EEEEEE; border: 1px solid; border-color: #000000;\">y</th>\n",
    "    </tr>\n",
    "    <tr>\n",
    "        <td style=\"background-color: #EEEEEE; border: 1px solid; border-color: #000000;\"><strong>0</strong></td>\n",
    "        <td style=\"background-color: #FFFFFF; border: 1px solid; border-color: #000000;\">100</td>\n",
    "        <td style=\"background-color: #FFFFFF; border: 1px solid; border-color: #000000;\">200</td>\n",
    "    </tr>\n",
    "    <tr>\n",
    "        <td style=\"background-color: #EEEEEE; border: 1px solid; border-color: #000000;\"><strong>1</strong></td>\n",
    "        <td style=\"background-color: #FFFFFF; border: 1px solid; border-color: #000000;\">13</td>\n",
    "        <td style=\"background-color: #FFFFFF; border: 1px solid; border-color: #000000;\">10</td>\n",
    "    </tr>\n",
    "    <tr>\n",
    "        <td style=\"background-color: #EEEEEE; border: 1px solid; border-color: #000000;\"><strong>2</strong></td>\n",
    "        <td style=\"background-color: #FFFFFF; border: 1px solid; border-color: #000000;\">1000</td>\n",
    "        <td style=\"background-color: #FFFFFF; border: 1px solid; border-color: #000000;\">2000</td>\n",
    "    </tr>\n",
    "    <tr>\n",
    "        <td style=\"background-color: #EEEEEE; border: 1px solid; border-color: #000000;\"><strong>3</td>\n",
    "        <td style=\"background-color: #FFFFFF; border: 1px solid; border-color: #000000;\">5</td>\n",
    "        <td style=\"background-color: #FFFFFF; border: 1px solid; border-color: #000000;\">2</td>\n",
    "    </tr>    \n",
    "</table>\n",
    "\n",
    "So it's pretty similar, where we have the column labels at the top, and if we wanted to, we could also have specified what we want the labels for the rows to be."
   ]
  },
  {
   "cell_type": "markdown",
   "id": "1dbb596a-09e5-4c20-8581-e37202854b94",
   "metadata": {},
   "source": [
    "You can also do the same with a one-dimensional array."
   ]
  },
  {
   "cell_type": "code",
   "execution_count": 24,
   "id": "44e31edd-b5be-4d1e-a46e-ea61809e3cdc",
   "metadata": {},
   "outputs": [
    {
     "name": "stdout",
     "output_type": "stream",
     "text": [
      "[100 200 300 400]\n",
      "     a\n",
      "0  100\n",
      "1  200\n",
      "2  300\n",
      "3  400\n"
     ]
    }
   ],
   "source": [
    "#Try setting up a one-dimenional array and using it to create a DataFrame.\n",
    "seed_2 = np.array([100, 200, 300, 400])\n",
    "\n",
    "#Take a look at what we made:\n",
    "print(seed_2)\n",
    "\n",
    "#Now let's see how it looks when used to generate a DataFrame:\n",
    "mango2_df = pd.DataFrame(seed_2, columns=['a'])\n",
    "print(mango2_df)\n",
    "#Each element populates a single column.\n",
    "#And even though we only have 1 column, we can still give it a label."
   ]
  },
  {
   "cell_type": "code",
   "execution_count": 25,
   "id": "cf2bfe45-feff-469a-bfb5-d1c20684e521",
   "metadata": {},
   "outputs": [
    {
     "name": "stdout",
     "output_type": "stream",
     "text": [
      "[[ 100  200  300]\n",
      " [  13   10   12]\n",
      " [1000 2000    1]]\n",
      "      0     1    2\n",
      "0   100   200  300\n",
      "1    13    10   12\n",
      "2  1000  2000    1\n"
     ]
    }
   ],
   "source": [
    "#In class: set up a DataFrame with the dimensions 3x3.\n",
    "seed_3 = np.array([[100, 200, 300], [13, 10, 12], [1000, 2000, 1]])\n",
    "print(seed_3)\n",
    "\n",
    "mango3_df = pd.DataFrame(seed_3)\n",
    "print(mango3_df)\n",
    "#You can see if you don't specify a column header, it will have a default 0, 1, 2,..."
   ]
  },
  {
   "cell_type": "markdown",
   "id": "88cdfb8f-a442-43df-8674-3eab4d9d1bc0",
   "metadata": {},
   "source": [
    "<h4>Creating a DataFrame from Series</h4>"
   ]
  },
  {
   "cell_type": "markdown",
   "id": "dc1e4ab5-5591-4bf4-8dde-bd518a7d8fd9",
   "metadata": {},
   "source": [
    "You can use the <mark style=\"background-color: #EEEEEE;\"><strong>pandas.DataFrame()</strong></mark> function to create DataFrames from Series, and how you set up the arguments can affect whether you create a DataFrame with your Series as a column or as a row."
   ]
  },
  {
   "cell_type": "markdown",
   "id": "e920c5b3-26d7-453e-b16c-96d35c777afa",
   "metadata": {},
   "source": [
    "<strong>If the Series populates a column</strong>\n",
    "\n",
    "Then you can simply set up your series, and run it through the <mark style=\"background-color: #EEEEEE;\"><strong>panda.DataFrame()</strong></mark> function.\n",
    "\n",
    "Let's use our <mark style=\"background-color: #EEEEEE;\"><strong>fire_series_add</strong></mark> Series from earlier.\n",
    "```\n",
    "fire_df = pd.DataFrame(fire_series_add)\n",
    "```\n",
    "This will create a single column DataFrame."
   ]
  },
  {
   "cell_type": "code",
   "execution_count": 26,
   "id": "74ea8034-fb66-4f10-be02-ec78c014c56d",
   "metadata": {},
   "outputs": [
    {
     "name": "stdout",
     "output_type": "stream",
     "text": [
      "a    5.255310\n",
      "b    5.783403\n",
      "c    5.245603\n",
      "d    5.068541\n",
      "e    5.784223\n",
      "f    5.809311\n",
      "g    5.098136\n",
      "dtype: float64\n",
      "          0\n",
      "a  5.255310\n",
      "b  5.783403\n",
      "c  5.245603\n",
      "d  5.068541\n",
      "e  5.784223\n",
      "f  5.809311\n",
      "g  5.098136\n"
     ]
    }
   ],
   "source": [
    "#Give that a try here:\n",
    "\n",
    "#Take a look at the Series:\n",
    "print(fire_series_add)\n",
    "\n",
    "#Use it to create a DataFrame.\n",
    "fire_df = pd.DataFrame(fire_series_add)\n",
    "print(fire_df)"
   ]
  },
  {
   "cell_type": "markdown",
   "id": "be2c4e62-a27a-4d00-b551-df0a38bcf97d",
   "metadata": {},
   "source": [
    "What if we wanted to create a DataFrame from a Series and have each Series be its own column?\n",
    "\n",
    "It's a little less simple because if we try:\n",
    "```\n",
    "fire_df2 = pd.DataFrame(fire_series_add, fire_series_rt)\n",
    "```\n",
    "We don't get the result that we want."
   ]
  },
  {
   "cell_type": "code",
   "execution_count": 28,
   "id": "4c7919dc-c97c-4e2d-bf9a-7723959c698d",
   "metadata": {},
   "outputs": [
    {
     "name": "stdout",
     "output_type": "stream",
     "text": [
      "           0\n",
      "0.505282 NaN\n",
      "0.885100 NaN\n",
      "0.495584 NaN\n",
      "0.261804 NaN\n",
      "0.885564 NaN\n",
      "0.899617 NaN\n",
      "0.313266 NaN\n"
     ]
    }
   ],
   "source": [
    "#Let's give that a try here to see how things look:\n",
    "fire_df2 = pd.DataFrame(fire_series_add, fire_series_rt)\n",
    "print(fire_df2)\n",
    "#You can see that you can't just add additional arguments as Series.\n",
    "#What is happening is that fire_series_rt is being used to generate the index values.\n",
    "#And since fire_series_add doesn't have those indices, you get empty cells (NaN)."
   ]
  },
  {
   "cell_type": "markdown",
   "id": "94b9461a-2539-44f9-b8f2-5ee375148212",
   "metadata": {},
   "source": [
    "In this case, we can make use of how DataFrames are handled.\n",
    "```\n",
    "fire_df['1'] = (fire_series_rt + 2)\n",
    "```\n"
   ]
  },
  {
   "cell_type": "code",
   "execution_count": 46,
   "id": "3f7b58ed-c951-4087-a4b5-3e70d698f913",
   "metadata": {},
   "outputs": [
    {
     "name": "stdout",
     "output_type": "stream",
     "text": [
      "original DataFrame\n",
      "          0\n",
      "a  5.255310\n",
      "b  5.783403\n",
      "c  5.245603\n",
      "d  5.068541\n",
      "e  5.784223\n",
      "f  5.809311\n",
      "g  5.098136\n",
      "DataFrame now with an additional column added\n",
      "          0         1\n",
      "a  5.255310  1.515845\n",
      "b  5.783403  2.655301\n",
      "c  5.245603  1.486752\n",
      "d  5.068541  0.785412\n",
      "e  5.784223  2.656691\n",
      "f  5.809311  2.698851\n",
      "g  5.098136  0.939798\n",
      "DataFrame now that we replaced elements of an existing column\n",
      "          0         1\n",
      "a  5.255310  9.505282\n",
      "b  5.783403  9.885100\n",
      "c  5.245603  9.495584\n",
      "d  5.068541  9.261804\n",
      "e  5.784223  9.885564\n",
      "f  5.809311  9.899617\n",
      "g  5.098136  9.313266\n",
      "DataFrame with another column added\n",
      "          0         1          2\n",
      "a  5.255310  9.505282  17.255310\n",
      "b  5.783403  9.885100  17.783403\n",
      "c  5.245603  9.495584  17.245603\n",
      "d  5.068541  9.261804  17.068541\n",
      "e  5.784223  9.885564  17.784223\n",
      "f  5.809311  9.899617  17.809311\n",
      "g  5.098136  9.313266  17.098136\n",
      "after we drop that column we added\n",
      "          0         1\n",
      "a  5.255310  9.505282\n",
      "b  5.783403  9.885100\n",
      "c  5.245603  9.495584\n",
      "d  5.068541  9.261804\n",
      "e  5.784223  9.885564\n",
      "f  5.809311  9.899617\n",
      "g  5.098136  9.313266\n"
     ]
    }
   ],
   "source": [
    "#So if we want to add an additional column based on our Series\n",
    "\n",
    "#Let's break it down into consituent parts:\n",
    "#Take a look at fire_series\n",
    "print('original DataFrame')\n",
    "print(fire_df)\n",
    "#Right now it is a single column DataFrame\n",
    "\n",
    "#So how is Python interpreting fire_df['1']?\n",
    "#Let's take a look\n",
    "#print(fire_df['1'])\n",
    "#See that there's no corresponding values, so you get an error.\n",
    "\n",
    "#We can use this notation to populate our \"empty column\" by assigning it values.\n",
    "fire_df['1'] = fire_series_rt*3\n",
    "#Now let's see how our DataFrame looks\n",
    "print('DataFrame now with an additional column added')\n",
    "print(fire_df)\n",
    "\n",
    "#You can also replace the elements in a column using the same method.\n",
    "fire_df['1'] = fire_series_rt + 9\n",
    "#Take a look at the change\n",
    "print('DataFrame now that we replaced elements of an existing column')\n",
    "print(fire_df)\n",
    "\n",
    "#Let's add another column and then delete it using the DataFrame.drop() function.\n",
    "fire_df['2'] = fire_series_add + 12\n",
    "#Take a look at the DataFrame now:\n",
    "print('DataFrame with another column added')\n",
    "print(fire_df)\n",
    "\n",
    "#Now let's drop the column with label 2 \n",
    "fire_df = fire_df.drop(columns='2') #We can reassign the change to our original variable or to a new one if we want to keep our old DataFrame\n",
    "print('after we drop that column we added')\n",
    "print(fire_df)"
   ]
  },
  {
   "cell_type": "markdown",
   "id": "04bb1f6d-47cd-40d1-b8b2-2d71699ef859",
   "metadata": {},
   "source": [
    "So breaking down how the previous code works:\n",
    "<ul>\n",
    "    <li><mark style=\"background-color: #EEEEEE;\"><strong>fire_df</strong></mark> - the DataFrame we want to manipulate</li>\n",
    "    <li><mark style=\"background-color: #EEEEEE;\"><strong>['1']</strong></mark> - the column we want to manipulate within our DataFrame. Since this column technically doesn't exist, a new one will be generated</li>\n",
    "    <li><mark style=\"background-color: #EEEEEE;\"><strong>=</strong></mark> - our assignment operator</li>\n",
    "    <li><mark style=\"background-color: #EEEEEE;\"><strong>fire_series_rt</strong></mark> - the Series that contains the values we want to populate our new column with</li>\n",
    "    <li><mark style=\"background-color: #EEEEEE;\"><strong>&plus;</strong></mark> - adding 2 to each element in the Series <mark style=\"background-color: #EEEEEE;\"><strong>fire_series_rt</strong></mark></li>\n",
    "</ul>"
   ]
  },
  {
   "cell_type": "markdown",
   "id": "f93bbddf-9f61-4715-8a0d-1e41fd452dc0",
   "metadata": {},
   "source": [
    "But what if we have a Series that doesn't contain all the indices that our DataFrame does?"
   ]
  },
  {
   "cell_type": "code",
   "execution_count": 48,
   "id": "77c37c88-93d9-452e-813a-015d175b929d",
   "metadata": {},
   "outputs": [
    {
     "name": "stdout",
     "output_type": "stream",
     "text": [
      "          0         1         2\n",
      "a  5.255310  9.505282  0.505282\n",
      "b  5.783403  9.885100       NaN\n",
      "c  5.245603  9.495584  0.495584\n",
      "d  5.068541  9.261804       NaN\n",
      "e  5.784223  9.885564  0.885564\n",
      "f  5.809311  9.899617       NaN\n",
      "g  5.098136  9.313266  0.313266\n"
     ]
    }
   ],
   "source": [
    "#Let's give that a try here. \n",
    "#Create a new column in your DataFrame and add a slice of your Series.\n",
    "fire_df['2'] = fire_series_rt[::2]\n",
    "print(fire_df)\n",
    "#You can see that Python aligns the two based on their index and then populates the new column.\n",
    "#Since there's no value associated with index b, d, and f - there is an NaN (like an empty cell)."
   ]
  },
  {
   "cell_type": "markdown",
   "id": "8dd7fea8-e842-4cbe-9c49-73067f1ee6c3",
   "metadata": {},
   "source": [
    "You can see that it populate those elements with <mark style=\"background-color: #EEEEEE;\"><strong>NaN</strong></mark> indicating that there's no value there."
   ]
  },
  {
   "cell_type": "markdown",
   "id": "cdb35a7f-5430-42f8-88ea-cbc0ef4a54f0",
   "metadata": {},
   "source": [
    "<strong>If the Series populates a row</strong>\n",
    "\n",
    "How you set this up will be slightly easier than trying to populate columns with Series.\n",
    "```\n",
    "fire_df_rows = pd.DataFrame([fire_series_add])\n",
    "```\n",
    "\n",
    "And if you want to populate multiple rows with different Series:\n",
    "```\n",
    "fire_df_rows2 = pd.DataFrame([fire_series_add, fire_series_rt])\n",
    "```"
   ]
  },
  {
   "cell_type": "code",
   "execution_count": 64,
   "id": "df22cd03-41c0-4612-be2b-b0d4c003072a",
   "metadata": {},
   "outputs": [
    {
     "name": "stdout",
     "output_type": "stream",
     "text": [
      "See the new list\n",
      "[a    5.255310\n",
      "b    5.783403\n",
      "c    5.245603\n",
      "d    5.068541\n",
      "e    5.784223\n",
      "f    5.809311\n",
      "g    5.098136\n",
      "dtype: float64]\n",
      " \n",
      "Check if it is indeed a list that we just made\n",
      "<class 'list'>\n",
      " \n",
      "but how is python seeing this list?\n",
      "check the shape - will output rows x columns\n",
      "(1, 7)\n",
      " \n",
      "directly check number of columns\n",
      "7\n",
      " \n",
      "take a look at fire_rows_2\n",
      "[a    17.255310\n",
      "b    17.783403\n",
      "c    17.245603\n",
      "d    17.068541\n",
      "e    17.784223\n",
      "f    17.809311\n",
      "g    17.098136\n",
      "dtype: float64, a    5.255310\n",
      "b    5.783403\n",
      "c    5.245603\n",
      "d    5.068541\n",
      "e    5.784223\n",
      "f    5.809311\n",
      "g    5.098136\n",
      "dtype: float64, a    0.505282\n",
      "b    0.885100\n",
      "c    0.495584\n",
      "d    0.261804\n",
      "e    0.885564\n",
      "f    0.899617\n",
      "g    0.313266\n",
      "dtype: float64]\n",
      " \n",
      "but how is python seeing this other list?\n",
      "check the shape - will output rows x columns\n",
      "(3, 7)\n",
      " \n",
      "directly check number of columns\n",
      "7\n",
      " \n"
     ]
    }
   ],
   "source": [
    "#Let's take a look under the hood at what's going on\n",
    "fire_rows_1 = [fire_series_add] #This is essentially converting our Series to a list.\n",
    "#let's see how that list looks:\n",
    "print('See the new list')\n",
    "print(fire_rows_1, end='\\n \\n')\n",
    "#Double checking the data type:\n",
    "print('Check if it is indeed a list that we just made')\n",
    "print(type(fire_rows_1), end='\\n \\n')\n",
    "#Can see that it is indeed a list\n",
    "\n",
    "#But how is Python seeing this list?\n",
    "print('but how is python seeing this list?')\n",
    "print('check the shape - will output rows x columns')\n",
    "print(np.shape(fire_rows_1), end='\\n \\n') #Check the shape (dimensions) of this list\n",
    "print('directly check number of columns')\n",
    "print(np.size(fire_rows_1, axis=1), end='\\n \\n') #Checking how many columns.\n",
    "#The list is a 1 by 7, so when we created the list it made a list with one row and seven columns.\n",
    "\n",
    "#If we complicate things by putting more series together then converting it to a list:\n",
    "fire_rows_2 = [fire_series_add +12, fire_series_add, fire_series_rt]\n",
    "print('take a look at fire_rows_2')\n",
    "print(fire_rows_2, end='\\n \\n')\n",
    "#But how is Python seeing this list?\n",
    "print('but how is python seeing this other list?')\n",
    "print('check the shape - will output rows x columns')\n",
    "print(np.shape(fire_rows_2), end='\\n \\n') #Check the shape (dimensions) of this list\n",
    "print('directly check number of columns')\n",
    "print(np.size(fire_rows_2, axis=1), end='\\n \\n') #Checking how many columns."
   ]
  },
  {
   "cell_type": "code",
   "execution_count": 66,
   "id": "e59728e2-46d5-4649-8167-0b7c41201716",
   "metadata": {},
   "outputs": [
    {
     "name": "stdout",
     "output_type": "stream",
     "text": [
      "           a          b          c          d          e          f          g\n",
      "0  17.255310  17.783403  17.245603  17.068541  17.784223  17.809311  17.098136\n",
      "1   5.255310   5.783403   5.245603   5.068541   5.784223   5.809311   5.098136\n",
      "2   0.505282   0.885100   0.495584   0.261804   0.885564   0.899617   0.313266\n",
      "          0         1         2\n",
      "a  5.255310  9.505282  0.505282\n",
      "b  5.783403  9.885100       NaN\n",
      "c  5.245603  9.495584  0.495584\n",
      "d  5.068541  9.261804       NaN\n",
      "e  5.784223  9.885564  0.885564\n",
      "f  5.809311  9.899617       NaN\n",
      "g  5.098136  9.313266  0.313266\n"
     ]
    }
   ],
   "source": [
    "#Now use the two lists to create your DataFrame\n",
    "fire_df_rows = pd.DataFrame(fire_rows_2)\n",
    "print(fire_df_rows)\n",
    "#Compare that to our other DataFrame\n",
    "print(fire_df)"
   ]
  },
  {
   "cell_type": "markdown",
   "id": "d5e76d05-90fd-481f-b374-d81861bfd00e",
   "metadata": {},
   "source": [
    "So it's a bit easier to set things up this way, but depending on your data you might want your column headers to be your rows.\n",
    "\n",
    "In that case, if you've set up your DataFrame by populating the rows with your Series values, you can use the <mark style=\"background-color: #EEEEEE;\"><strong>pandas.transpose()</strong></mark> function, which will transpose the index and columns.\n",
    "```\n",
    "fire_df_columns = fire_df_rows.transpose()\n",
    "```"
   ]
  },
  {
   "cell_type": "code",
   "execution_count": 68,
   "id": "a08b7530-1de8-4026-8803-f7c04bcecc60",
   "metadata": {},
   "outputs": [
    {
     "name": "stdout",
     "output_type": "stream",
     "text": [
      "           0         1         2\n",
      "a  17.255310  5.255310  0.505282\n",
      "b  17.783403  5.783403  0.885100\n",
      "c  17.245603  5.245603  0.495584\n",
      "d  17.068541  5.068541  0.261804\n",
      "e  17.784223  5.784223  0.885564\n",
      "f  17.809311  5.809311  0.899617\n",
      "g  17.098136  5.098136  0.313266\n"
     ]
    }
   ],
   "source": [
    "#Try that down here and see how the output looks.\n",
    "print(fire_df_rows.transpose())\n",
    "#You can see transpose swaps the rows and columns."
   ]
  },
  {
   "cell_type": "markdown",
   "id": "1e911265-e0e5-4679-aeac-38b74cb907e2",
   "metadata": {},
   "source": [
    "<h3>Retrieving values from a DataFrame</h3>"
   ]
  },
  {
   "cell_type": "markdown",
   "id": "5e8a014b-d669-49ea-a0a7-2606a5d64b8b",
   "metadata": {},
   "source": [
    "When working with your data, you'll oftentimes need to retrieve a subset of your data to perform calculations, statistical analysis, or simply to visualize you results. Like with Series, you can pull information from your DataFrame either by specifying the column, index, or both (if you wanted to retrieve a specific cell).\n",
    "\n",
    "The syntax is like that used for a Series, where you can treat it like a dictionary.\n",
    "\n",
    "<strong>So if you want to retrieve data based on a specific index:</strong>\n",
    "```\n",
    "fire_df.loc['a']\n",
    "```\n",
    "In this case, you are telling Python that you want to retrieve the values associated with the label <mark style=\"background-color: #EEEEEE;\"><strong>a</strong></mark>.\n",
    "\n",
    "How that will sort of look if you think of the DataFrame as an Excel table:\n",
    "<table style=\"margin-left: 0px;\">\n",
    "    <tr>\n",
    "        <th style=\"background-color: none; border-left: none; border-top: none; width: 100px;\">&nbsp;</th>\n",
    "        <th style=\"background-color: #EEEEEE; border: 1px solid; border-color: #000000; width: 100px;\">0</th>\n",
    "        <th style=\"background-color: #EEEEEE; border: 1px solid; border-color: #000000; width: 100px;\">1</th>\n",
    "        <th style=\"background-color: #EEEEEE; border: 1px solid; border-color: #000000; width: 100px;\">2</th>\n",
    "    </tr>\n",
    "    <tr>\n",
    "        <td style=\"background-color: #FFFF00; border: 1px solid; border-color: #000000; \"><strong>a</strong></td>\n",
    "        <td style=\"background-color: #FFFF00; border: 1px solid; border-color: #000000;\">&nbsp;</td>\n",
    "        <td style=\"background-color: #FFFF00; border: 1px solid; border-color: #000000;\">&nbsp;</td>\n",
    "        <td style=\"background-color: #FFFF00; border: 1px solid; border-color: #000000;\">&nbsp;</td>\n",
    "    </tr>\n",
    "    <tr>\n",
    "        <td style=\"background-color: #EEEEEE; border: 1px solid; border-color: #000000;\"><strong>b</strong></td>\n",
    "        <td style=\"background-color: #FFFFFF; border: 1px solid; border-color: #000000;\">&nbsp;</td>\n",
    "        <td style=\"background-color: #FFFFFF; border: 1px solid; border-color: #000000;\">&nbsp;</td>\n",
    "        <td style=\"background-color: #FFFFFF; border: 1px solid; border-color: #000000;\">&nbsp;</td>\n",
    "    </tr>\n",
    "    <tr>\n",
    "        <td style=\"background-color: #EEEEEE; border: 1px solid; border-color: #000000;\"><strong>c</strong></td>\n",
    "        <td style=\"background-color: #FFFFFF; border: 1px solid; border-color: #000000;\">&nbsp;</td>\n",
    "        <td style=\"background-color: #FFFFFF; border: 1px solid; border-color: #000000;\">&nbsp;</td>\n",
    "        <td style=\"background-color: #FFFFFF; border: 1px solid; border-color: #000000;\">&nbsp;</td>\n",
    "    </tr>\n",
    "    <tr>\n",
    "        <td style=\"background-color: #EEEEEE; border: 1px solid; border-color: #000000;\"><strong>d</td>\n",
    "        <td style=\"background-color: #FFFFFF; border: 1px solid; border-color: #000000;\">&nbsp;</td>\n",
    "        <td style=\"background-color: #FFFFFF; border: 1px solid; border-color: #000000;\">&nbsp;</td>\n",
    "        <td style=\"background-color: #FFFFFF; border: 1px solid; border-color: #000000;\">&nbsp;</td>\n",
    "    </tr>    \n",
    "</table>\n",
    "\n",
    "Where the yellow cells are the ones that you are retrieving with the statement <mark style=\"background-color: #EEEEEE;\"><strong>fire_df.loc['a']</strong></mark>."
   ]
  },
  {
   "cell_type": "code",
   "execution_count": 69,
   "id": "584e0aef-03e9-4f46-8c5e-9a4339ac3319",
   "metadata": {},
   "outputs": [
    {
     "data": {
      "text/plain": [
       "0    5.255310\n",
       "1    9.505282\n",
       "2    0.505282\n",
       "Name: a, dtype: float64"
      ]
     },
     "execution_count": 69,
     "metadata": {},
     "output_type": "execute_result"
    }
   ],
   "source": [
    "#Try retrieving a specific row based on the index:\n",
    "fire_df.loc['a']"
   ]
  },
  {
   "cell_type": "markdown",
   "id": "b1e39c08-0dca-4201-973e-09c7c311aa28",
   "metadata": {},
   "source": [
    "<strong>But if you wanted to retrieve data based on a specific column:</strong>\n",
    "```\n",
    "fire_df['1']\n",
    "```\n",
    "Here, you are kind of telling Python to treat your DataFrame like a dictionary, where you give it a \"key\" value, the string <mark style=\"background-color: #EEEEEE;\"><strong>1</strong></mark>, and Python retrieves the associated values (in this case it's a column of values).\n",
    "\n",
    "How that will sort of look if you think of the DataFrame as an Excel table:\n",
    "<table style=\"margin-left: 0px;\">\n",
    "    <tr>\n",
    "        <th style=\"background-color: none; border-left: none; border-top: none; width: 100px;\">&nbsp;</th>\n",
    "        <th style=\"background-color: #EEEEEE; border: 1px solid; border-color: #000000; width: 100px;\">0</th>\n",
    "        <th style=\"background-color: #FFFF00; border: 1px solid; border-color: #000000; width: 100px;\">1</th>\n",
    "        <th style=\"background-color: #EEEEEE; border: 1px solid; border-color: #000000; width: 100px;\">2</th>\n",
    "    </tr>\n",
    "    <tr>\n",
    "        <td style=\"background-color: #EEEEEE; border: 1px solid; border-color: #000000; \"><strong>a</strong></td>\n",
    "        <td style=\"background-color: #FFFFFF; border: 1px solid; border-color: #000000;\">&nbsp;</td>\n",
    "        <td style=\"background-color: #FFFF00; border: 1px solid; border-color: #000000;\">&nbsp;</td>\n",
    "        <td style=\"background-color: #FFFFFF; border: 1px solid; border-color: #000000;\">&nbsp;</td>\n",
    "    </tr>\n",
    "    <tr>\n",
    "        <td style=\"background-color: #EEEEEE; border: 1px solid; border-color: #000000;\"><strong>b</strong></td>\n",
    "        <td style=\"background-color: #FFFFFF; border: 1px solid; border-color: #000000;\">&nbsp;</td>\n",
    "        <td style=\"background-color: #FFFF00; border: 1px solid; border-color: #000000;\">&nbsp;</td>\n",
    "        <td style=\"background-color: #FFFFFF; border: 1px solid; border-color: #000000;\">&nbsp;</td>\n",
    "    </tr>\n",
    "    <tr>\n",
    "        <td style=\"background-color: #EEEEEE; border: 1px solid; border-color: #000000;\"><strong>c</strong></td>\n",
    "        <td style=\"background-color: #FFFFFF; border: 1px solid; border-color: #000000;\">&nbsp;</td>\n",
    "        <td style=\"background-color: #FFFF00; border: 1px solid; border-color: #000000;\">&nbsp;</td>\n",
    "        <td style=\"background-color: #FFFFFF; border: 1px solid; border-color: #000000;\">&nbsp;</td>\n",
    "    </tr>\n",
    "    <tr>\n",
    "        <td style=\"background-color: #EEEEEE; border: 1px solid; border-color: #000000;\"><strong>d</td>\n",
    "        <td style=\"background-color: #FFFFFF; border: 1px solid; border-color: #000000;\">&nbsp;</td>\n",
    "        <td style=\"background-color: #FFFF00; border: 1px solid; border-color: #000000;\">&nbsp;</td>\n",
    "        <td style=\"background-color: #FFFFFF; border: 1px solid; border-color: #000000;\">&nbsp;</td>\n",
    "    </tr>    \n",
    "</table>\n",
    "\n",
    "Where the yellow cells are the ones that you are retrieving with the statement <mark style=\"background-color: #EEEEEE;\"><strong>fire_df['1']</strong></mark>"
   ]
  },
  {
   "cell_type": "code",
   "execution_count": 77,
   "id": "1187090f-43b3-4d6c-a23e-c83b6f220af3",
   "metadata": {},
   "outputs": [
    {
     "name": "stdout",
     "output_type": "stream",
     "text": [
      "a    9.505282\n",
      "b    9.885100\n",
      "c    9.495584\n",
      "d    9.261804\n",
      "e    9.885564\n",
      "f    9.899617\n",
      "g    9.313266\n",
      "Name: 1, dtype: float64\n",
      " \n",
      "Index([0, '1', '2'], dtype='object')\n",
      "<class 'str'>\n"
     ]
    }
   ],
   "source": [
    "#Try retrieving a specific column based on the column label:\n",
    "print(fire_df['1'], end='\\n \\n')\n",
    "\n",
    "#If you have your labels as numbers, always want to check to make sure if it is a float or int.\n",
    "#You can pull out column headers using the DataFrame.columns attribute\n",
    "#Access column values \n",
    "print(fire_df.columns)\n",
    "\n",
    "#To access the specific label, we can use its position value.\n",
    "print(type(fire_df.columns[1]))\n",
    "#Can see that the label '1' is a string."
   ]
  },
  {
   "cell_type": "markdown",
   "id": "8b12ee86-cd5f-46d9-974a-ebf82229782b",
   "metadata": {},
   "source": [
    "<strong>And now, if you want to retrieve a specific cell, you can essentially combine the two methods together.</strong>\n",
    "\n",
    "So let's say that you wanted to retrieve the cell that is specified by row <mark style=\"background-color: #EEEEEE;\"><strong>a</strong></mark> and column <mark style=\"background-color: #EEEEEE;\"><strong>1</strong></mark>. \n",
    "\n",
    "Again if you think of the DataFrame as an Excel table, then the cell that you want to retrieve is at the intersection of a specific column and a specific row.\n",
    "\n",
    "<table style=\"margin-left: 0px;\">\n",
    "    <tr>\n",
    "        <th style=\"background-color: none; border-left: none; border-top: none; width: 100px;\">&nbsp;</th>\n",
    "        <th style=\"background-color: #EEEEEE; border: 1px solid; border-color: #000000; width: 100px;\">0</th>\n",
    "        <th style=\"background-color: #FFFDB6; border: 1px solid; border-color: #000000; width: 100px;\">1</th>\n",
    "        <th style=\"background-color: #EEEEEE; border: 1px solid; border-color: #000000; width: 100px;\">2</th>\n",
    "    </tr>\n",
    "    <tr>\n",
    "        <td style=\"background-color: #FFFDB6; border: 1px solid; border-color: #000000; \"><strong>a</strong></td>\n",
    "        <td style=\"background-color: #FFFDB6; border: 1px solid; border-color: #000000;\">&nbsp;</td>\n",
    "        <td style=\"background-color: #FFFF00; border: 1px solid; border-color: #000000;\">&nbsp;</td>\n",
    "        <td style=\"background-color: #FFFDB6; border: 1px solid; border-color: #000000;\">&nbsp;</td>\n",
    "    </tr>\n",
    "    <tr>\n",
    "        <td style=\"background-color: #EEEEEE; border: 1px solid; border-color: #000000;\"><strong>b</strong></td>\n",
    "        <td style=\"background-color: #FFFFFF; border: 1px solid; border-color: #000000;\">&nbsp;</td>\n",
    "        <td style=\"background-color: #FFFDB6; border: 1px solid; border-color: #000000;\">&nbsp;</td>\n",
    "        <td style=\"background-color: #FFFFFF; border: 1px solid; border-color: #000000;\">&nbsp;</td>\n",
    "    </tr>\n",
    "    <tr>\n",
    "        <td style=\"background-color: #EEEEEE; border: 1px solid; border-color: #000000;\"><strong>c</strong></td>\n",
    "        <td style=\"background-color: #FFFFFF; border: 1px solid; border-color: #000000;\">&nbsp;</td>\n",
    "        <td style=\"background-color: #FFFDB6; border: 1px solid; border-color: #000000;\">&nbsp;</td>\n",
    "        <td style=\"background-color: #FFFFFF; border: 1px solid; border-color: #000000;\">&nbsp;</td>\n",
    "    </tr>\n",
    "    <tr>\n",
    "        <td style=\"background-color: #EEEEEE; border: 1px solid; border-color: #000000;\"><strong>d</td>\n",
    "        <td style=\"background-color: #FFFFFF; border: 1px solid; border-color: #000000;\">&nbsp;</td>\n",
    "        <td style=\"background-color: #FFFDB6; border: 1px solid; border-color: #000000;\">&nbsp;</td>\n",
    "        <td style=\"background-color: #FFFFFF; border: 1px solid; border-color: #000000;\">&nbsp;</td>\n",
    "    </tr>    \n",
    "</table>\n",
    "\n",
    "Then we can specify that we want a slice of both a row and a column, leaving us with a cell that will be returned in the output."
   ]
  },
  {
   "cell_type": "code",
   "execution_count": 78,
   "id": "700d070f-656c-4b77-9157-2ff98e24ade2",
   "metadata": {},
   "outputs": [
    {
     "name": "stdout",
     "output_type": "stream",
     "text": [
      "          0         1         2\n",
      "a  5.255310  9.505282  0.505282\n",
      "b  5.783403  9.885100       NaN\n",
      "c  5.245603  9.495584  0.495584\n",
      "d  5.068541  9.261804       NaN\n",
      "e  5.784223  9.885564  0.885564\n",
      "f  5.809311  9.899617       NaN\n",
      "g  5.098136  9.313266  0.313266\n"
     ]
    }
   ],
   "source": [
    "#Let's take a look at our fire_df DataFrame again\n",
    "print(fire_df)"
   ]
  },
  {
   "cell_type": "code",
   "execution_count": 81,
   "id": "097180cd-18eb-4bb3-b6cc-9111b93917b9",
   "metadata": {},
   "outputs": [
    {
     "name": "stdout",
     "output_type": "stream",
     "text": [
      "getting a row\n",
      "0    5.783403\n",
      "1    9.885100\n",
      "2         NaN\n",
      "Name: b, dtype: float64\n",
      " \n",
      "slicing our row to get a single element\n",
      "9.885100301296697\n",
      " \n",
      "we can use slice notation to pull multiple rows in a column too\n",
      "a    0.505282\n",
      "b         NaN\n",
      "c    0.495584\n",
      "d         NaN\n",
      "Name: 2, dtype: float64\n"
     ]
    }
   ],
   "source": [
    "#So when we specify a row using .loc\n",
    "print('getting a row')\n",
    "print(fire_df.loc['b'], end='\\n \\n')\n",
    "#We obtain a slice.\n",
    "\n",
    "#We can then slice it more by specifying the column after\n",
    "print('slicing our row to get a single element')\n",
    "print(fire_df.loc['b']['1'], end='\\n \\n')\n",
    "\n",
    "#We can also use slice notation to pull multiple rows from a column\n",
    "print('we can use slice notation to pull multiple rows in a column too')\n",
    "print(fire_df.loc['a':'d']['2'])"
   ]
  },
  {
   "cell_type": "markdown",
   "id": "00a75a4c-63f8-4fd8-a617-55e382774d80",
   "metadata": {},
   "source": [
    "Before we do more with our DataFrame, let's add a bit more data into it, using the methods we've learned today."
   ]
  },
  {
   "cell_type": "code",
   "execution_count": 82,
   "id": "6cd17a1e-422d-4e07-8a13-aec6ad0db087",
   "metadata": {},
   "outputs": [
    {
     "name": "stdout",
     "output_type": "stream",
     "text": [
      "          0         1         2         3          4     walnut\n",
      "a  5.255310  9.505282  0.505282  1.010563  10.510619  15.765929\n",
      "b  5.783403  9.885100       NaN  1.770201  11.566805  17.350208\n",
      "c  5.245603  9.495584  0.495584  0.991168  10.491207  15.736810\n",
      "d  5.068541  9.261804       NaN  0.523608  10.137083  15.205624\n",
      "e  5.784223  9.885564  0.885564  1.771127  11.568446  17.352669\n",
      "f  5.809311  9.899617       NaN  1.799234  11.618621  17.427932\n",
      "g  5.098136  9.313266  0.313266  0.626532  10.196271  15.294407\n"
     ]
    }
   ],
   "source": [
    "#Add more columns with data.\n",
    "fire_df['3'] = fire_series_rt*2\n",
    "fire_df['4'] = fire_series_add*2\n",
    "fire_df['walnut'] = fire_series_add*3\n",
    "print(fire_df)"
   ]
  },
  {
   "cell_type": "markdown",
   "id": "b349eb91-d79a-4094-b484-d51a4627eb21",
   "metadata": {},
   "source": [
    "One thing that you'll often find yourself needing to do, and that you'll need to do for today's assignment is to retrieve a specific subset of your data based on the values in a column. To do this, you will have to take advantage of the conditional statements that we went over yesterday.\n",
    "\n",
    "For example, if we wanted to retrieve the rows that in column <mark style=\"background-color: #EEEEEE;\"><strong>1</strong></mark> that are greater than 2.8, we can take advantage of conditional statements. This is kind of building upon what we did with Series earlier where we provided conditional statements to get a specific slice that satisfies the condition that we indicated.\n",
    "```\n",
    "fire_2_8 = fire_df.loc[fire_df['1'] > 2.8]\n",
    "```\n",
    "So let's break this down to understand what we are telling the Notebook to do:\n",
    "<ul>\n",
    "    <li><mark style=\"background-color: #EEEEEE;\"><strong>fire_2_8</strong></mark> - the variable for our new DataFrame</li>\n",
    "    <li><mark style=\"background-color: #EEEEEE;\"><strong>&equals;</strong></mark> - the assignment operator</li>\n",
    "    <li><mark style=\"background-color: #EEEEEE;\"><strong>fire_df</strong></mark> - the DataFrame we're going to filter</li>\n",
    "    <li><mark style=\"background-color: #EEEEEE;\"><strong>.loc[...]</strong></mark> - function that retrieves a specific row or rows</li>\n",
    "    <li><mark style=\"background-color: #EEEEEE;\"><strong>fire_df['1']</strong></mark> - we will first pull values from column <mark style=\"background-color: #EEEEEE;\"><strong>1</strong></mark></li>\n",
    "    <li><mark style=\"background-color: #EEEEEE;\"><strong>&gt;</strong></mark> - a conditional statement we will apply to the elements we're pulling. In this case, we want the elements that are greater than something</li>\n",
    "    <li><mark style=\"background-color: #EEEEEE;\"><strong>2.8</strong></mark> - the value to which our conditional statement is making a comparison. We want elements that have a value greater than 2.8</li>\n",
    "</ul>\n",
    "\n",
    "If we wanted to pull rows that have a specific value, then we can instead use the <mark style=\"background-color: #EEEEEE;\"><strong>&equals;&equals;</strong></mark> conditional statement."
   ]
  },
  {
   "cell_type": "code",
   "execution_count": 88,
   "id": "b332b235-6de8-445b-b8df-d82849cc62b5",
   "metadata": {},
   "outputs": [
    {
     "name": "stdout",
     "output_type": "stream",
     "text": [
      "a    1.010563\n",
      "b    1.770201\n",
      "c    0.991168\n",
      "d    0.523608\n",
      "e    1.771127\n",
      "f    1.799234\n",
      "g    0.626532\n",
      "Name: 3, dtype: float64\n",
      "Python pulls column 3 for fire_df \n",
      " \n",
      "\n",
      "a     True\n",
      "b     True\n",
      "c    False\n",
      "d    False\n",
      "e     True\n",
      "f     True\n",
      "g    False\n",
      "Name: 3, dtype: bool\n",
      "Python then applies a conditional statement and now has bool values \n",
      " \n",
      "\n",
      "          0         1         2         3          4     walnut\n",
      "a  5.255310  9.505282  0.505282  1.010563  10.510619  15.765929\n",
      "b  5.783403  9.885100       NaN  1.770201  11.566805  17.350208\n",
      "e  5.784223  9.885564  0.885564  1.771127  11.568446  17.352669\n",
      "f  5.809311  9.899617       NaN  1.799234  11.618621  17.427932\n",
      "Those boolean values are used as a guide telling Python which rows to pull out from fire_df\n"
     ]
    }
   ],
   "source": [
    "#Try filtering out any rows are less than or equal to 2.8 in column 1 and set it as a new DataFrame\n",
    "#Let's first see how Python is interpreting each component:\n",
    "print(fire_df['3'])\n",
    "print('Python pulls column 3 for fire_df \\n \\n')\n",
    "\n",
    "print(fire_df['3'] > 1)\n",
    "print('Python then applies a conditional statement and now has bool values \\n \\n')\n",
    "\n",
    "fire_filter = fire_df.loc[fire_df['3'] > 1]\n",
    "print(fire_filter)\n",
    "print('Those boolean values are used as a guide telling Python which rows to pull out from fire_df')"
   ]
  },
  {
   "cell_type": "markdown",
   "id": "5cce4394-a47f-42c0-a6e1-3a40f675c60d",
   "metadata": {},
   "source": [
    "<h3>Organizing your DataFrame</h3>"
   ]
  },
  {
   "cell_type": "markdown",
   "id": "d0daf03c-b140-4b34-9ad0-ef827a815403",
   "metadata": {},
   "source": [
    "You'll likely often need to organize your data or move things around or sort it depending on how your specific analyses and how you want to keep things organized within your DataFrames. You can add cells, as you've just done, and you can also sort and re-order your DataFrame. You can also delete slices of your DataFrame as well. "
   ]
  },
  {
   "cell_type": "markdown",
   "id": "a0235670-75db-4016-9384-7fe2b063f62c",
   "metadata": {},
   "source": [
    "<h4>Sorting and re-ordering a DataFrame</h4>"
   ]
  },
  {
   "cell_type": "markdown",
   "id": "64e90374-4268-4b66-bee8-3dc26a9d65ba",
   "metadata": {},
   "source": [
    "Sorting, like in Excel, lets you organize your DataFrame based on the values of a specified column. \n",
    "\n",
    "This type of action is done through the <mark style=\"background-color: #EEEEEE;\"><strong>pandas.DataFrame.sort_values()</strong></mark> function. Documentation is <u><a href=\"https://pandas.pydata.org/docs/reference/api/pandas.DataFrame.sort_values.html\" rel=\"noopener noreferrer\" target=\"_blank\">here</a></u>.\n",
    "\n",
    "So if we wanted to organize our DataFrame from earlier based on the values of a specific column:\n",
    "```\n",
    "fire_df.sort_values(by=['1'])\n",
    "```\n",
    "You can add in additional parameters:\n",
    "\n",
    "<ul>\n",
    "    <li><mark style=\"background-color: #EEEEEE;\"><strong>ascending=</strong></mark> True or False (default is True). Specifies if you want to sort in ascending order or not.</li>\n",
    "    <li><mark style=\"background-color: #EEEEEE;\"><strong>na_position=</strong></mark>'first' or 'last' (default is 'last'). Specifies how you want the function to handle <mark style=\"background-color: #EEEEEE;\"><strong>NaN</strong></mark>.</li>\n",
    "</ul>\n",
    "\n",
    "There are other parameters as well that you can check out in the documentation <u><a href=\"https://pandas.pydata.org/docs/reference/api/pandas.DataFrame.sort_values.html\" rel=\"noopener noreferrer\" target=\"_blank\">here</a></u>."
   ]
  },
  {
   "cell_type": "code",
   "execution_count": 89,
   "id": "b78ff0d9-5ed7-4eec-be03-37fc9a2a26c2",
   "metadata": {},
   "outputs": [
    {
     "name": "stdout",
     "output_type": "stream",
     "text": [
      "          0         1         2         3          4     walnut\n",
      "g  5.098136  9.313266  0.313266  0.626532  10.196271  15.294407\n",
      "c  5.245603  9.495584  0.495584  0.991168  10.491207  15.736810\n",
      "a  5.255310  9.505282  0.505282  1.010563  10.510619  15.765929\n",
      "e  5.784223  9.885564  0.885564  1.771127  11.568446  17.352669\n",
      "b  5.783403  9.885100       NaN  1.770201  11.566805  17.350208\n",
      "d  5.068541  9.261804       NaN  0.523608  10.137083  15.205624\n",
      "f  5.809311  9.899617       NaN  1.799234  11.618621  17.427932\n"
     ]
    }
   ],
   "source": [
    "#Give it a try here sorting by column\n",
    "print(fire_df.sort_values(by=['2']))"
   ]
  },
  {
   "cell_type": "markdown",
   "id": "3885281c-6c95-4ddc-b6d3-dde050a130f4",
   "metadata": {},
   "source": [
    "Sometimes you might find yourself needing to reorganize the order in which the columns are read, such as if you want a 'Last name' column to appear before a 'First name' column. If you have a small number of columns or column labels with short strings, you can manually input the order of columns to create a new DataFrame that contains the columns ordered how you want it.\n",
    "```\n",
    "fire_df_reorg = fire_df[['1', 0, '3', '4', '2']]\n",
    "```\n",
    "Let's break this down:\n",
    "<ul>\n",
    "    <li><mark style=\"background-color: #EEEEEE;\"><strong>fire_df_reorg</strong></mark> - this is our variable to which we will asisgn our reorganized DataFrame</li>\n",
    "    <li><mark style=\"background-color: #EEEEEE;\"><strong>=</strong></mark> - this is our assignment operator</li>\n",
    "    <li><mark style=\"background-color: #EEEEEE;\"><strong>fire_df</strong></mark> - this is the DataFrame that we want to reorganize</li>\n",
    "    <li><mark style=\"background-color: #EEEEEE;\"><strong>[...]</strong></mark> - we are telling Python that we want a column or columns defined by a list of elements that we provide</li>\n",
    "    <li><mark style=\"background-color: #EEEEEE;\"><strong>['1', 0, '3', '4', '2']</strong></mark> - this is the list of elements that we are telling Python to pull columns from and in this order (remember lists are ordered)</li>\n",
    "</ul>\n",
    "\n",
    "What we are essentially doing is creating a list <mark style=\"background-color: #EEEEEE;\"><strong>['1', 0, '3', '4', '2']</strong></mark> that contains the order in which we want our columns to be based on the header values. We then use this list to retrieve the columns from the DataFrame <mark style=\"background-color: #EEEEEE;\"><strong>fire_df</strong></mark> in the order that we indicated in the list, and then assign the resulting DataFrame to our variable <mark style=\"background-color: #EEEEEE;\"><strong>fire_df_reorg</strong></mark>.\n",
    "\n"
   ]
  },
  {
   "cell_type": "code",
   "execution_count": 90,
   "id": "32195b8c-d865-4cc3-a3e9-546fbd06d7dc",
   "metadata": {},
   "outputs": [
    {
     "name": "stdout",
     "output_type": "stream",
     "text": [
      "          1         2          4         3     walnut         0\n",
      "a  9.505282  0.505282  10.510619  1.010563  15.765929  5.255310\n",
      "b  9.885100       NaN  11.566805  1.770201  17.350208  5.783403\n",
      "c  9.495584  0.495584  10.491207  0.991168  15.736810  5.245603\n",
      "d  9.261804       NaN  10.137083  0.523608  15.205624  5.068541\n",
      "e  9.885564  0.885564  11.568446  1.771127  17.352669  5.784223\n",
      "f  9.899617       NaN  11.618621  1.799234  17.427932  5.809311\n",
      "g  9.313266  0.313266  10.196271  0.626532  15.294407  5.098136\n"
     ]
    }
   ],
   "source": [
    "#Try reorganizing your DataFrame columns using the above syntax.\n",
    "fire_df_reorg = fire_df[['1', '2', '4', '3', 'walnut', 0]]\n",
    "print(fire_df_reorg)"
   ]
  },
  {
   "cell_type": "markdown",
   "id": "645dad51-700d-4baf-9c1e-c4a6eb46e1b8",
   "metadata": {},
   "source": [
    "If you want to re-arrange the order of your columns based on their labels, you can essentially create a list that contains your column headers. Then from there, create a list that has your column headers reorganized by playing around with slice notation to get the order that you want. Then you create a new DataFrame and populate it with the correct order of columns.\n",
    "```\n",
    "headers_list = list(fire_df.columns)\n",
    "\n",
    "headers_list_sorted = headers_list[::-1]\n",
    "\n",
    "fire_df_column_inverse = fire_df[headers_list_sorted]\n",
    "```\n"
   ]
  },
  {
   "cell_type": "code",
   "execution_count": 91,
   "id": "23bb3301-46ac-4b81-b9fe-313ea918abfa",
   "metadata": {},
   "outputs": [
    {
     "name": "stdout",
     "output_type": "stream",
     "text": [
      "generate a list of our column labels\n",
      "[0, '1', '2', '3', '4', 'walnut']\n",
      " \n",
      "inverse list order using slice notation\n",
      "['walnut', '4', '3', '2', '1', 0]\n",
      " \n",
      "now use the inverted list to reorder our DataFrame and assign it to a new variable\n",
      "      walnut          4         3         2         1         0\n",
      "a  15.765929  10.510619  1.010563  0.505282  9.505282  5.255310\n",
      "b  17.350208  11.566805  1.770201       NaN  9.885100  5.783403\n",
      "c  15.736810  10.491207  0.991168  0.495584  9.495584  5.245603\n",
      "d  15.205624  10.137083  0.523608       NaN  9.261804  5.068541\n",
      "e  17.352669  11.568446  1.771127  0.885564  9.885564  5.784223\n",
      "f  17.427932  11.618621  1.799234       NaN  9.899617  5.809311\n",
      "g  15.294407  10.196271  0.626532  0.313266  9.313266  5.098136\n"
     ]
    }
   ],
   "source": [
    "#Give that a try here:\n",
    "#First create a list of your column labels.\n",
    "print('generate a list of our column labels')\n",
    "headers_list = list(fire_df.columns)\n",
    "#Check to see if things look okay.\n",
    "print(headers_list, end='\\n \\n')\n",
    "#Now inverse that list using slice notation.\n",
    "print('inverse list order using slice notation')\n",
    "headers_list_sorted = headers_list[::-1]\n",
    "#Check \n",
    "print(headers_list_sorted, end='\\n \\n')\n",
    "\n",
    "#Now generate a new, inversed DataFrame using the updated header list\n",
    "print('now use the inverted list to reorder our DataFrame and assign it to a new variable')\n",
    "fire_df_column_inverse = fire_df[headers_list_sorted]\n",
    "print(fire_df_column_inverse)"
   ]
  },
  {
   "cell_type": "markdown",
   "id": "dc7fb4f4-77ce-430e-9f0a-6e84803f8aa3",
   "metadata": {},
   "source": [
    "<h1 style=\"font-size: 40px; margin-bottom: 0px;\">Importing Your Data</h1>\n",
    "\n",
    "<hr style=\"margin-left: 0px; border: 0.25px solid; border-color: #000000; width: 600px;\"></hr>"
   ]
  },
  {
   "cell_type": "markdown",
   "id": "3b90101f-2bf4-4e41-9ed7-6523d142cd76",
   "metadata": {},
   "source": [
    "So now that we've gone over the basics of working with data structures in Python, we can move on to the more fun part, where we will learn to import data into our notebooks and extract information from there to plot. We'll use the functions that we've covered today and yesterday and continue building on that by using the <u><a href=\"https://data.cdc.gov/Case-Surveillance/Weekly-United-States-COVID-19-Cases-and-Deaths-by-/pwn4-m3yp/about_data\" rel=\"noopener noreferrer\" target=\"_blank\">COVID-19 weekly case numbers dataset</a></u> available from the CDC.\n",
    "\n",
    "When you pulled in the GitHub repo today, your copy of the class repo should be updated with today's notebook as well as a .csv file called \"CDC_COVID_CASES.csv\"."
   ]
  },
  {
   "cell_type": "markdown",
   "id": "2944956f-0640-4a72-ad3e-46a24fb7565b",
   "metadata": {},
   "source": [
    "<h2 style=\"font-size: 32px;\">Using pandas to import data</h2>"
   ]
  },
  {
   "cell_type": "markdown",
   "id": "4b04eaf7-3775-4de7-9f4a-f74ef1e5ceae",
   "metadata": {},
   "source": [
    "To import your data, you can make use of different functions based on how your data is saved. Generally, you want to keep the data table minimal without too many other frills in the file, so that the DataFrame that's created is easy to work with when you import it. Otherwise, you'll need to do more cleaning to remove unwanted sections of your DataFrame that might contain other things like random notes or comments in some cell off to the side.\n",
    "\n",
    "<strong>If you have a .xlsx file:</strong>\n",
    "\n",
    "You can make use of the <mark style=\"background-color: #EEEEEE;\"><strong>pandas.read_excel()</strong></mark> function. <u><a href=\"https://pandas.pydata.org/docs/reference/api/pandas.read_excel.html\" rel=\"noopener noreferrer\" target=\"_blank\">Click here for documentation.</a></u>\n",
    "\n",
    "<strong>Or if you have a .csv file:</strong>\n",
    "\n",
    "You can use the <mark style=\"background-color: #EEEEEE;\"><strong>pandas.read_csv()</strong></mark> function. <u><a href=\"https://pandas.pydata.org/docs/reference/api/pandas.read_csv.html\" rel=\"noopener noreferrer\" target=\"_blank\">Click here for documentation.</a></u>\n",
    "\n",
    "Both functions will read your file and use it to generate a pandas DataFrame that you will be able to work with in your notebook.\n",
    "\n",
    "So in our case, if we want to import the CDC COVID case numbers:\n",
    "```\n",
    "COVID_all = pd.read_csv('CDC_COVID_CASES.csv')\n",
    "```\n",
    "So breaking this down, what we have is:\n",
    "<ul>\n",
    "    <li><mark style=\"background-color: #EEEEEE;\"><strong>COVID_all</strong></mark> - this is our variable that will contain our imported data</li>\n",
    "    <li><mark style=\"background-color: #EEEEEE;\"><strong>=</strong></mark> - this is our assignment operator</li>\n",
    "    <li><mark style=\"background-color: #EEEEEE;\"><strong>pd.read_csv()</strong></mark> - we are telling Python from the <mark style=\"background-color: #EEEEEE;\"><strong>pd</strong></mark> package, we want to use the <mark style=\"background-color: #EEEEEE;\"><strong>read_csv()</strong></mark> function.</li>\n",
    "    <li><mark style=\"background-color: #EEEEEE;\"><strong>'CDC_COVID_CASES.csv'</strong></mark> - the file that contains the data we want to import. Since the file is in the same directory as our notebook, we don't need to specify a file path, but if it were in a different directory, we will need to specify the file path.</li>\n",
    "</ul>"
   ]
  },
  {
   "cell_type": "code",
   "execution_count": 92,
   "id": "3ffa68da-396b-41e6-808e-4425cc97801c",
   "metadata": {},
   "outputs": [],
   "source": [
    "#Let's import the CDC's COVID case data\n",
    "COVID_all = pd.read_csv('CDC_COVID_CASES.csv')"
   ]
  },
  {
   "cell_type": "markdown",
   "id": "940c4111-d241-4663-bd0c-3654b76beca2",
   "metadata": {},
   "source": [
    "<h2 style=\"font-size: 32px;\">Visualizing a DataFrame</h2>"
   ]
  },
  {
   "cell_type": "markdown",
   "id": "f4c2e79a-e4ae-4246-ab40-bc1784d58f5e",
   "metadata": {},
   "source": [
    "You'll see when you import your data, that there's no output. This is because all we've done is tell Python to import the data, create a pandas DataFrame, and assign the object to our variable <mark style=\"background-color: #EEEEEE;\"><strong>COVID_all</strong></mark>.\n",
    "\n",
    "We can make use of the <mark style=\"background-color: #EEEEEE;\"><strong>print()</strong></mark> function to take a look at our data as a basic output."
   ]
  },
  {
   "cell_type": "code",
   "execution_count": 93,
   "id": "a90b5789-969f-42ca-9f19-976cd0178172",
   "metadata": {},
   "outputs": [
    {
     "name": "stdout",
     "output_type": "stream",
     "text": [
      "      date_updated state  start_date    end_date  tot_cases  new_cases  \\\n",
      "0       01/23/2020    AK  01/16/2020  01/22/2020          0          0   \n",
      "1       01/30/2020    AK  01/23/2020  01/29/2020          0          0   \n",
      "2       02/06/2020    AK  01/30/2020  02/05/2020          0          0   \n",
      "3       02/13/2020    AK  02/06/2020  02/12/2020          0          0   \n",
      "4       02/20/2020    AK  02/13/2020  02/19/2020          0          0   \n",
      "...            ...   ...         ...         ...        ...        ...   \n",
      "10375   04/13/2023    WY  04/06/2023  04/12/2023     186284        158   \n",
      "10376   04/20/2023    WY  04/13/2023  04/19/2023     186399        115   \n",
      "10377   04/27/2023    WY  04/20/2023  04/26/2023     186539        140   \n",
      "10378   05/04/2023    WY  04/27/2023  05/03/2023     186668        129   \n",
      "10379   05/11/2023    WY  05/04/2023  05/10/2023     187034        366   \n",
      "\n",
      "       tot_deaths  new_deaths  new_historic_cases  new_historic_deaths  \n",
      "0               0           0                   0                    0  \n",
      "1               0           0                   0                    0  \n",
      "2               0           0                   0                    0  \n",
      "3               0           0                   0                    0  \n",
      "4               0           0                   0                    0  \n",
      "...           ...         ...                 ...                  ...  \n",
      "10375        2023           3                   0                    0  \n",
      "10376        2027           4                   0                    0  \n",
      "10377        2030           3                   0                    0  \n",
      "10378        2031           1                   0                    0  \n",
      "10379        2031           0                   0                    0  \n",
      "\n",
      "[10380 rows x 10 columns]\n"
     ]
    }
   ],
   "source": [
    "#Print out your COVID_all DataFrame.\n",
    "print(COVID_all)"
   ]
  },
  {
   "cell_type": "markdown",
   "id": "3786bd96-ae05-4ef6-944c-c14391a764ec",
   "metadata": {},
   "source": [
    "You can see it's probably not the most pretty looking table, and it probably wraps around, making it harder to read as well. And if your DataFrame is large, like in our case, where we have thousands of rows of data, the output will show only the first five and last five rows separated by ellipses to indicate that there are rows that aren't being printed in the output."
   ]
  },
  {
   "cell_type": "markdown",
   "id": "c633a59e-ee2b-4610-95f9-e4d4c3316522",
   "metadata": {},
   "source": [
    "<h3>DataFrame attributes</h3>"
   ]
  },
  {
   "cell_type": "markdown",
   "id": "ff5d6178-3cba-4f77-a80b-33bb3d560824",
   "metadata": {},
   "source": [
    "Pandas DataFrames have certain attributes, such as <mark style=\"background-color: #EEEEEE;\"><strong>head</strong></mark> and <mark style=\"background-color: #EEEEEE;\"><strong>tail</strong></mark>, which correspond to the first five and last five rows of your DataFrame, respectively. So, if you just wanted to do a quick check to see if your data was imported into your notebook correctly, you can also make use of the <mark style=\"background-color: #EEEEEE;\"><strong>pandas.DataFrame.head()</strong></mark> or <mark style=\"background-color: #EEEEEE;\"><strong>pandas.DataFrame.tail()</strong></mark> functions.\n",
    "```\n",
    "COVID_all.head()\n",
    "```\n",
    "So here, we're telling Python to retrieve the <mark style=\"background-color: #EEEEEE;\"><strong>head</strong></mark> of our <mark style=\"background-color: #EEEEEE;\"><strong>COVID_all</strong></mark> DataFrame, which means it will retrieve the first five rows, and we can take a look at how our data looks like."
   ]
  },
  {
   "cell_type": "code",
   "execution_count": 94,
   "id": "6152ac16-459a-4bfb-9960-bbab649a4c2c",
   "metadata": {},
   "outputs": [
    {
     "name": "stdout",
     "output_type": "stream",
     "text": [
      "  date_updated state  start_date    end_date  tot_cases  new_cases  \\\n",
      "0   01/23/2020    AK  01/16/2020  01/22/2020          0          0   \n",
      "1   01/30/2020    AK  01/23/2020  01/29/2020          0          0   \n",
      "2   02/06/2020    AK  01/30/2020  02/05/2020          0          0   \n",
      "3   02/13/2020    AK  02/06/2020  02/12/2020          0          0   \n",
      "4   02/20/2020    AK  02/13/2020  02/19/2020          0          0   \n",
      "\n",
      "   tot_deaths  new_deaths  new_historic_cases  new_historic_deaths  \n",
      "0           0           0                   0                    0  \n",
      "1           0           0                   0                    0  \n",
      "2           0           0                   0                    0  \n",
      "3           0           0                   0                    0  \n",
      "4           0           0                   0                    0  \n"
     ]
    }
   ],
   "source": [
    "#Take a look at just the first 5 rows by using the head() function.\n",
    "print(COVID_all.head())\n",
    "#The empty () means we are using default parameters, which in this case is just outputting 5 rows."
   ]
  },
  {
   "cell_type": "markdown",
   "id": "f04b46f6-48de-4ca1-888a-fb10d3db1dbc",
   "metadata": {},
   "source": [
    "Again, the output's not the most pretty, but if you want a quick look, it gets the job done."
   ]
  },
  {
   "cell_type": "markdown",
   "id": "60e224d6-bad6-4d2f-99cf-c4d1e0fac6e7",
   "metadata": {},
   "source": [
    "<h3>Stylized DataFrame outputs</h3>"
   ]
  },
  {
   "cell_type": "markdown",
   "id": "83287eae-e6b4-4058-a399-f536caeaf578",
   "metadata": {},
   "source": [
    "If you wanted to have a more easily readable table that isn't just a plain-text output, you can also make use of pandas functions to get a more stylized output that is rendered in the output in a way that you're more familiar with.\n",
    "\n",
    "To do this, you can make use of the <mark style=\"background-color: #EEEEEE;\"><strong>pandas.DataFrame.style</strong></mark> function. This will output a stylized HTML representation of your DataFrame.\n",
    "\n",
    "Documentation for the <mark style=\"background-color: #EEEEEE;\"><strong>pandas.DataFrame.style</strong></mark> function is <u><a href=\"https://pandas.pydata.org/docs/reference/api/pandas.DataFrame.style.html\" rel=\"noopener noreferrer\" target=\"_blank\">here</a></u>."
   ]
  },
  {
   "cell_type": "code",
   "execution_count": 95,
   "id": "e3602bdf-6bc1-4e67-aa19-eafef0e377fd",
   "metadata": {},
   "outputs": [
    {
     "data": {
      "text/html": [
       "<style type=\"text/css\">\n",
       "</style>\n",
       "<table id=\"T_131e5\">\n",
       "  <thead>\n",
       "    <tr>\n",
       "      <th class=\"blank level0\" >&nbsp;</th>\n",
       "      <th id=\"T_131e5_level0_col0\" class=\"col_heading level0 col0\" >date_updated</th>\n",
       "      <th id=\"T_131e5_level0_col1\" class=\"col_heading level0 col1\" >state</th>\n",
       "      <th id=\"T_131e5_level0_col2\" class=\"col_heading level0 col2\" >start_date</th>\n",
       "      <th id=\"T_131e5_level0_col3\" class=\"col_heading level0 col3\" >end_date</th>\n",
       "      <th id=\"T_131e5_level0_col4\" class=\"col_heading level0 col4\" >tot_cases</th>\n",
       "      <th id=\"T_131e5_level0_col5\" class=\"col_heading level0 col5\" >new_cases</th>\n",
       "      <th id=\"T_131e5_level0_col6\" class=\"col_heading level0 col6\" >tot_deaths</th>\n",
       "      <th id=\"T_131e5_level0_col7\" class=\"col_heading level0 col7\" >new_deaths</th>\n",
       "      <th id=\"T_131e5_level0_col8\" class=\"col_heading level0 col8\" >new_historic_cases</th>\n",
       "      <th id=\"T_131e5_level0_col9\" class=\"col_heading level0 col9\" >new_historic_deaths</th>\n",
       "    </tr>\n",
       "  </thead>\n",
       "  <tbody>\n",
       "    <tr>\n",
       "      <th id=\"T_131e5_level0_row0\" class=\"row_heading level0 row0\" >0</th>\n",
       "      <td id=\"T_131e5_row0_col0\" class=\"data row0 col0\" >01/23/2020</td>\n",
       "      <td id=\"T_131e5_row0_col1\" class=\"data row0 col1\" >AK</td>\n",
       "      <td id=\"T_131e5_row0_col2\" class=\"data row0 col2\" >01/16/2020</td>\n",
       "      <td id=\"T_131e5_row0_col3\" class=\"data row0 col3\" >01/22/2020</td>\n",
       "      <td id=\"T_131e5_row0_col4\" class=\"data row0 col4\" >0</td>\n",
       "      <td id=\"T_131e5_row0_col5\" class=\"data row0 col5\" >0</td>\n",
       "      <td id=\"T_131e5_row0_col6\" class=\"data row0 col6\" >0</td>\n",
       "      <td id=\"T_131e5_row0_col7\" class=\"data row0 col7\" >0</td>\n",
       "      <td id=\"T_131e5_row0_col8\" class=\"data row0 col8\" >0</td>\n",
       "      <td id=\"T_131e5_row0_col9\" class=\"data row0 col9\" >0</td>\n",
       "    </tr>\n",
       "    <tr>\n",
       "      <th id=\"T_131e5_level0_row1\" class=\"row_heading level0 row1\" >1</th>\n",
       "      <td id=\"T_131e5_row1_col0\" class=\"data row1 col0\" >01/30/2020</td>\n",
       "      <td id=\"T_131e5_row1_col1\" class=\"data row1 col1\" >AK</td>\n",
       "      <td id=\"T_131e5_row1_col2\" class=\"data row1 col2\" >01/23/2020</td>\n",
       "      <td id=\"T_131e5_row1_col3\" class=\"data row1 col3\" >01/29/2020</td>\n",
       "      <td id=\"T_131e5_row1_col4\" class=\"data row1 col4\" >0</td>\n",
       "      <td id=\"T_131e5_row1_col5\" class=\"data row1 col5\" >0</td>\n",
       "      <td id=\"T_131e5_row1_col6\" class=\"data row1 col6\" >0</td>\n",
       "      <td id=\"T_131e5_row1_col7\" class=\"data row1 col7\" >0</td>\n",
       "      <td id=\"T_131e5_row1_col8\" class=\"data row1 col8\" >0</td>\n",
       "      <td id=\"T_131e5_row1_col9\" class=\"data row1 col9\" >0</td>\n",
       "    </tr>\n",
       "    <tr>\n",
       "      <th id=\"T_131e5_level0_row2\" class=\"row_heading level0 row2\" >2</th>\n",
       "      <td id=\"T_131e5_row2_col0\" class=\"data row2 col0\" >02/06/2020</td>\n",
       "      <td id=\"T_131e5_row2_col1\" class=\"data row2 col1\" >AK</td>\n",
       "      <td id=\"T_131e5_row2_col2\" class=\"data row2 col2\" >01/30/2020</td>\n",
       "      <td id=\"T_131e5_row2_col3\" class=\"data row2 col3\" >02/05/2020</td>\n",
       "      <td id=\"T_131e5_row2_col4\" class=\"data row2 col4\" >0</td>\n",
       "      <td id=\"T_131e5_row2_col5\" class=\"data row2 col5\" >0</td>\n",
       "      <td id=\"T_131e5_row2_col6\" class=\"data row2 col6\" >0</td>\n",
       "      <td id=\"T_131e5_row2_col7\" class=\"data row2 col7\" >0</td>\n",
       "      <td id=\"T_131e5_row2_col8\" class=\"data row2 col8\" >0</td>\n",
       "      <td id=\"T_131e5_row2_col9\" class=\"data row2 col9\" >0</td>\n",
       "    </tr>\n",
       "    <tr>\n",
       "      <th id=\"T_131e5_level0_row3\" class=\"row_heading level0 row3\" >3</th>\n",
       "      <td id=\"T_131e5_row3_col0\" class=\"data row3 col0\" >02/13/2020</td>\n",
       "      <td id=\"T_131e5_row3_col1\" class=\"data row3 col1\" >AK</td>\n",
       "      <td id=\"T_131e5_row3_col2\" class=\"data row3 col2\" >02/06/2020</td>\n",
       "      <td id=\"T_131e5_row3_col3\" class=\"data row3 col3\" >02/12/2020</td>\n",
       "      <td id=\"T_131e5_row3_col4\" class=\"data row3 col4\" >0</td>\n",
       "      <td id=\"T_131e5_row3_col5\" class=\"data row3 col5\" >0</td>\n",
       "      <td id=\"T_131e5_row3_col6\" class=\"data row3 col6\" >0</td>\n",
       "      <td id=\"T_131e5_row3_col7\" class=\"data row3 col7\" >0</td>\n",
       "      <td id=\"T_131e5_row3_col8\" class=\"data row3 col8\" >0</td>\n",
       "      <td id=\"T_131e5_row3_col9\" class=\"data row3 col9\" >0</td>\n",
       "    </tr>\n",
       "    <tr>\n",
       "      <th id=\"T_131e5_level0_row4\" class=\"row_heading level0 row4\" >4</th>\n",
       "      <td id=\"T_131e5_row4_col0\" class=\"data row4 col0\" >02/20/2020</td>\n",
       "      <td id=\"T_131e5_row4_col1\" class=\"data row4 col1\" >AK</td>\n",
       "      <td id=\"T_131e5_row4_col2\" class=\"data row4 col2\" >02/13/2020</td>\n",
       "      <td id=\"T_131e5_row4_col3\" class=\"data row4 col3\" >02/19/2020</td>\n",
       "      <td id=\"T_131e5_row4_col4\" class=\"data row4 col4\" >0</td>\n",
       "      <td id=\"T_131e5_row4_col5\" class=\"data row4 col5\" >0</td>\n",
       "      <td id=\"T_131e5_row4_col6\" class=\"data row4 col6\" >0</td>\n",
       "      <td id=\"T_131e5_row4_col7\" class=\"data row4 col7\" >0</td>\n",
       "      <td id=\"T_131e5_row4_col8\" class=\"data row4 col8\" >0</td>\n",
       "      <td id=\"T_131e5_row4_col9\" class=\"data row4 col9\" >0</td>\n",
       "    </tr>\n",
       "  </tbody>\n",
       "</table>\n"
      ],
      "text/plain": [
       "<pandas.io.formats.style.Styler at 0x7a0fd59acf10>"
      ]
     },
     "execution_count": 95,
     "metadata": {},
     "output_type": "execute_result"
    }
   ],
   "source": [
    "#Output a stylized table of your DataFrame COVID_all\n",
    "COVID_all.head().style"
   ]
  },
  {
   "cell_type": "markdown",
   "id": "ae39d2e8-48ee-4437-8a0c-bdd4e0ca51c4",
   "metadata": {},
   "source": [
    "You can see that it also outputs your entire table. The <mark style=\"background-color: #EEEEEE;\"><strong>pandas.DataFrame.style</strong></mark> function can also be combined with the <mark style=\"background-color: #EEEEEE;\"><strong>pandas.DataFrame.head()</strong></mark> or <mark style=\"background-color: #EEEEEE;\"><strong>pandas.DataFrame.tail()</strong></mark> functions as well to output a subset of your DataFrame in a prettier way."
   ]
  },
  {
   "cell_type": "code",
   "execution_count": 96,
   "id": "f5ac1843-e73a-4946-a15f-f577ea6cfd0c",
   "metadata": {},
   "outputs": [
    {
     "data": {
      "text/html": [
       "<style type=\"text/css\">\n",
       "</style>\n",
       "<table id=\"T_35227\">\n",
       "  <thead>\n",
       "    <tr>\n",
       "      <th class=\"blank level0\" >&nbsp;</th>\n",
       "      <th id=\"T_35227_level0_col0\" class=\"col_heading level0 col0\" >date_updated</th>\n",
       "      <th id=\"T_35227_level0_col1\" class=\"col_heading level0 col1\" >state</th>\n",
       "      <th id=\"T_35227_level0_col2\" class=\"col_heading level0 col2\" >start_date</th>\n",
       "      <th id=\"T_35227_level0_col3\" class=\"col_heading level0 col3\" >end_date</th>\n",
       "      <th id=\"T_35227_level0_col4\" class=\"col_heading level0 col4\" >tot_cases</th>\n",
       "      <th id=\"T_35227_level0_col5\" class=\"col_heading level0 col5\" >new_cases</th>\n",
       "      <th id=\"T_35227_level0_col6\" class=\"col_heading level0 col6\" >tot_deaths</th>\n",
       "      <th id=\"T_35227_level0_col7\" class=\"col_heading level0 col7\" >new_deaths</th>\n",
       "      <th id=\"T_35227_level0_col8\" class=\"col_heading level0 col8\" >new_historic_cases</th>\n",
       "      <th id=\"T_35227_level0_col9\" class=\"col_heading level0 col9\" >new_historic_deaths</th>\n",
       "    </tr>\n",
       "  </thead>\n",
       "  <tbody>\n",
       "    <tr>\n",
       "      <th id=\"T_35227_level0_row0\" class=\"row_heading level0 row0\" >10375</th>\n",
       "      <td id=\"T_35227_row0_col0\" class=\"data row0 col0\" >04/13/2023</td>\n",
       "      <td id=\"T_35227_row0_col1\" class=\"data row0 col1\" >WY</td>\n",
       "      <td id=\"T_35227_row0_col2\" class=\"data row0 col2\" >04/06/2023</td>\n",
       "      <td id=\"T_35227_row0_col3\" class=\"data row0 col3\" >04/12/2023</td>\n",
       "      <td id=\"T_35227_row0_col4\" class=\"data row0 col4\" >186284</td>\n",
       "      <td id=\"T_35227_row0_col5\" class=\"data row0 col5\" >158</td>\n",
       "      <td id=\"T_35227_row0_col6\" class=\"data row0 col6\" >2023</td>\n",
       "      <td id=\"T_35227_row0_col7\" class=\"data row0 col7\" >3</td>\n",
       "      <td id=\"T_35227_row0_col8\" class=\"data row0 col8\" >0</td>\n",
       "      <td id=\"T_35227_row0_col9\" class=\"data row0 col9\" >0</td>\n",
       "    </tr>\n",
       "    <tr>\n",
       "      <th id=\"T_35227_level0_row1\" class=\"row_heading level0 row1\" >10376</th>\n",
       "      <td id=\"T_35227_row1_col0\" class=\"data row1 col0\" >04/20/2023</td>\n",
       "      <td id=\"T_35227_row1_col1\" class=\"data row1 col1\" >WY</td>\n",
       "      <td id=\"T_35227_row1_col2\" class=\"data row1 col2\" >04/13/2023</td>\n",
       "      <td id=\"T_35227_row1_col3\" class=\"data row1 col3\" >04/19/2023</td>\n",
       "      <td id=\"T_35227_row1_col4\" class=\"data row1 col4\" >186399</td>\n",
       "      <td id=\"T_35227_row1_col5\" class=\"data row1 col5\" >115</td>\n",
       "      <td id=\"T_35227_row1_col6\" class=\"data row1 col6\" >2027</td>\n",
       "      <td id=\"T_35227_row1_col7\" class=\"data row1 col7\" >4</td>\n",
       "      <td id=\"T_35227_row1_col8\" class=\"data row1 col8\" >0</td>\n",
       "      <td id=\"T_35227_row1_col9\" class=\"data row1 col9\" >0</td>\n",
       "    </tr>\n",
       "    <tr>\n",
       "      <th id=\"T_35227_level0_row2\" class=\"row_heading level0 row2\" >10377</th>\n",
       "      <td id=\"T_35227_row2_col0\" class=\"data row2 col0\" >04/27/2023</td>\n",
       "      <td id=\"T_35227_row2_col1\" class=\"data row2 col1\" >WY</td>\n",
       "      <td id=\"T_35227_row2_col2\" class=\"data row2 col2\" >04/20/2023</td>\n",
       "      <td id=\"T_35227_row2_col3\" class=\"data row2 col3\" >04/26/2023</td>\n",
       "      <td id=\"T_35227_row2_col4\" class=\"data row2 col4\" >186539</td>\n",
       "      <td id=\"T_35227_row2_col5\" class=\"data row2 col5\" >140</td>\n",
       "      <td id=\"T_35227_row2_col6\" class=\"data row2 col6\" >2030</td>\n",
       "      <td id=\"T_35227_row2_col7\" class=\"data row2 col7\" >3</td>\n",
       "      <td id=\"T_35227_row2_col8\" class=\"data row2 col8\" >0</td>\n",
       "      <td id=\"T_35227_row2_col9\" class=\"data row2 col9\" >0</td>\n",
       "    </tr>\n",
       "    <tr>\n",
       "      <th id=\"T_35227_level0_row3\" class=\"row_heading level0 row3\" >10378</th>\n",
       "      <td id=\"T_35227_row3_col0\" class=\"data row3 col0\" >05/04/2023</td>\n",
       "      <td id=\"T_35227_row3_col1\" class=\"data row3 col1\" >WY</td>\n",
       "      <td id=\"T_35227_row3_col2\" class=\"data row3 col2\" >04/27/2023</td>\n",
       "      <td id=\"T_35227_row3_col3\" class=\"data row3 col3\" >05/03/2023</td>\n",
       "      <td id=\"T_35227_row3_col4\" class=\"data row3 col4\" >186668</td>\n",
       "      <td id=\"T_35227_row3_col5\" class=\"data row3 col5\" >129</td>\n",
       "      <td id=\"T_35227_row3_col6\" class=\"data row3 col6\" >2031</td>\n",
       "      <td id=\"T_35227_row3_col7\" class=\"data row3 col7\" >1</td>\n",
       "      <td id=\"T_35227_row3_col8\" class=\"data row3 col8\" >0</td>\n",
       "      <td id=\"T_35227_row3_col9\" class=\"data row3 col9\" >0</td>\n",
       "    </tr>\n",
       "    <tr>\n",
       "      <th id=\"T_35227_level0_row4\" class=\"row_heading level0 row4\" >10379</th>\n",
       "      <td id=\"T_35227_row4_col0\" class=\"data row4 col0\" >05/11/2023</td>\n",
       "      <td id=\"T_35227_row4_col1\" class=\"data row4 col1\" >WY</td>\n",
       "      <td id=\"T_35227_row4_col2\" class=\"data row4 col2\" >05/04/2023</td>\n",
       "      <td id=\"T_35227_row4_col3\" class=\"data row4 col3\" >05/10/2023</td>\n",
       "      <td id=\"T_35227_row4_col4\" class=\"data row4 col4\" >187034</td>\n",
       "      <td id=\"T_35227_row4_col5\" class=\"data row4 col5\" >366</td>\n",
       "      <td id=\"T_35227_row4_col6\" class=\"data row4 col6\" >2031</td>\n",
       "      <td id=\"T_35227_row4_col7\" class=\"data row4 col7\" >0</td>\n",
       "      <td id=\"T_35227_row4_col8\" class=\"data row4 col8\" >0</td>\n",
       "      <td id=\"T_35227_row4_col9\" class=\"data row4 col9\" >0</td>\n",
       "    </tr>\n",
       "  </tbody>\n",
       "</table>\n"
      ],
      "text/plain": [
       "<pandas.io.formats.style.Styler at 0x7a0fd3be5c10>"
      ]
     },
     "execution_count": 96,
     "metadata": {},
     "output_type": "execute_result"
    }
   ],
   "source": [
    "#Work out how the syntax will be in that case.\n",
    "COVID_all.tail().style"
   ]
  },
  {
   "cell_type": "markdown",
   "id": "b3511934-6c56-4be4-969a-38c11520ecc5",
   "metadata": {},
   "source": [
    "To visualize specific regions of our DataFrame, we can also make use of slice notation combined with the <mark style=\"background-color: #EEEEEE;\"><strong>pandas.DataFrame.style</strong></mark> function"
   ]
  },
  {
   "cell_type": "code",
   "execution_count": 97,
   "id": "e89c7669-a955-4aac-a60d-14de1123fbb1",
   "metadata": {},
   "outputs": [
    {
     "data": {
      "text/html": [
       "<style type=\"text/css\">\n",
       "</style>\n",
       "<table id=\"T_19490\">\n",
       "  <thead>\n",
       "    <tr>\n",
       "      <th class=\"blank level0\" >&nbsp;</th>\n",
       "      <th id=\"T_19490_level0_col0\" class=\"col_heading level0 col0\" >date_updated</th>\n",
       "      <th id=\"T_19490_level0_col1\" class=\"col_heading level0 col1\" >state</th>\n",
       "      <th id=\"T_19490_level0_col2\" class=\"col_heading level0 col2\" >start_date</th>\n",
       "      <th id=\"T_19490_level0_col3\" class=\"col_heading level0 col3\" >end_date</th>\n",
       "      <th id=\"T_19490_level0_col4\" class=\"col_heading level0 col4\" >tot_cases</th>\n",
       "      <th id=\"T_19490_level0_col5\" class=\"col_heading level0 col5\" >new_cases</th>\n",
       "      <th id=\"T_19490_level0_col6\" class=\"col_heading level0 col6\" >tot_deaths</th>\n",
       "      <th id=\"T_19490_level0_col7\" class=\"col_heading level0 col7\" >new_deaths</th>\n",
       "      <th id=\"T_19490_level0_col8\" class=\"col_heading level0 col8\" >new_historic_cases</th>\n",
       "      <th id=\"T_19490_level0_col9\" class=\"col_heading level0 col9\" >new_historic_deaths</th>\n",
       "    </tr>\n",
       "  </thead>\n",
       "  <tbody>\n",
       "    <tr>\n",
       "      <th id=\"T_19490_level0_row0\" class=\"row_heading level0 row0\" >9</th>\n",
       "      <td id=\"T_19490_row0_col0\" class=\"data row0 col0\" >03/26/2020</td>\n",
       "      <td id=\"T_19490_row0_col1\" class=\"data row0 col1\" >AK</td>\n",
       "      <td id=\"T_19490_row0_col2\" class=\"data row0 col2\" >03/19/2020</td>\n",
       "      <td id=\"T_19490_row0_col3\" class=\"data row0 col3\" >03/25/2020</td>\n",
       "      <td id=\"T_19490_row0_col4\" class=\"data row0 col4\" >63</td>\n",
       "      <td id=\"T_19490_row0_col5\" class=\"data row0 col5\" >52</td>\n",
       "      <td id=\"T_19490_row0_col6\" class=\"data row0 col6\" >1</td>\n",
       "      <td id=\"T_19490_row0_col7\" class=\"data row0 col7\" >1</td>\n",
       "      <td id=\"T_19490_row0_col8\" class=\"data row0 col8\" >0</td>\n",
       "      <td id=\"T_19490_row0_col9\" class=\"data row0 col9\" >0</td>\n",
       "    </tr>\n",
       "    <tr>\n",
       "      <th id=\"T_19490_level0_row1\" class=\"row_heading level0 row1\" >10</th>\n",
       "      <td id=\"T_19490_row1_col0\" class=\"data row1 col0\" >04/02/2020</td>\n",
       "      <td id=\"T_19490_row1_col1\" class=\"data row1 col1\" >AK</td>\n",
       "      <td id=\"T_19490_row1_col2\" class=\"data row1 col2\" >03/26/2020</td>\n",
       "      <td id=\"T_19490_row1_col3\" class=\"data row1 col3\" >04/01/2020</td>\n",
       "      <td id=\"T_19490_row1_col4\" class=\"data row1 col4\" >149</td>\n",
       "      <td id=\"T_19490_row1_col5\" class=\"data row1 col5\" >86</td>\n",
       "      <td id=\"T_19490_row1_col6\" class=\"data row1 col6\" >3</td>\n",
       "      <td id=\"T_19490_row1_col7\" class=\"data row1 col7\" >2</td>\n",
       "      <td id=\"T_19490_row1_col8\" class=\"data row1 col8\" >0</td>\n",
       "      <td id=\"T_19490_row1_col9\" class=\"data row1 col9\" >0</td>\n",
       "    </tr>\n",
       "    <tr>\n",
       "      <th id=\"T_19490_level0_row2\" class=\"row_heading level0 row2\" >11</th>\n",
       "      <td id=\"T_19490_row2_col0\" class=\"data row2 col0\" >04/09/2020</td>\n",
       "      <td id=\"T_19490_row2_col1\" class=\"data row2 col1\" >AK</td>\n",
       "      <td id=\"T_19490_row2_col2\" class=\"data row2 col2\" >04/02/2020</td>\n",
       "      <td id=\"T_19490_row2_col3\" class=\"data row2 col3\" >04/08/2020</td>\n",
       "      <td id=\"T_19490_row2_col4\" class=\"data row2 col4\" >235</td>\n",
       "      <td id=\"T_19490_row2_col5\" class=\"data row2 col5\" >86</td>\n",
       "      <td id=\"T_19490_row2_col6\" class=\"data row2 col6\" >7</td>\n",
       "      <td id=\"T_19490_row2_col7\" class=\"data row2 col7\" >4</td>\n",
       "      <td id=\"T_19490_row2_col8\" class=\"data row2 col8\" >0</td>\n",
       "      <td id=\"T_19490_row2_col9\" class=\"data row2 col9\" >0</td>\n",
       "    </tr>\n",
       "    <tr>\n",
       "      <th id=\"T_19490_level0_row3\" class=\"row_heading level0 row3\" >12</th>\n",
       "      <td id=\"T_19490_row3_col0\" class=\"data row3 col0\" >04/16/2020</td>\n",
       "      <td id=\"T_19490_row3_col1\" class=\"data row3 col1\" >AK</td>\n",
       "      <td id=\"T_19490_row3_col2\" class=\"data row3 col2\" >04/09/2020</td>\n",
       "      <td id=\"T_19490_row3_col3\" class=\"data row3 col3\" >04/15/2020</td>\n",
       "      <td id=\"T_19490_row3_col4\" class=\"data row3 col4\" >300</td>\n",
       "      <td id=\"T_19490_row3_col5\" class=\"data row3 col5\" >65</td>\n",
       "      <td id=\"T_19490_row3_col6\" class=\"data row3 col6\" >9</td>\n",
       "      <td id=\"T_19490_row3_col7\" class=\"data row3 col7\" >2</td>\n",
       "      <td id=\"T_19490_row3_col8\" class=\"data row3 col8\" >0</td>\n",
       "      <td id=\"T_19490_row3_col9\" class=\"data row3 col9\" >0</td>\n",
       "    </tr>\n",
       "    <tr>\n",
       "      <th id=\"T_19490_level0_row4\" class=\"row_heading level0 row4\" >13</th>\n",
       "      <td id=\"T_19490_row4_col0\" class=\"data row4 col0\" >04/23/2020</td>\n",
       "      <td id=\"T_19490_row4_col1\" class=\"data row4 col1\" >AK</td>\n",
       "      <td id=\"T_19490_row4_col2\" class=\"data row4 col2\" >04/16/2020</td>\n",
       "      <td id=\"T_19490_row4_col3\" class=\"data row4 col3\" >04/22/2020</td>\n",
       "      <td id=\"T_19490_row4_col4\" class=\"data row4 col4\" >337</td>\n",
       "      <td id=\"T_19490_row4_col5\" class=\"data row4 col5\" >37</td>\n",
       "      <td id=\"T_19490_row4_col6\" class=\"data row4 col6\" >9</td>\n",
       "      <td id=\"T_19490_row4_col7\" class=\"data row4 col7\" >0</td>\n",
       "      <td id=\"T_19490_row4_col8\" class=\"data row4 col8\" >0</td>\n",
       "      <td id=\"T_19490_row4_col9\" class=\"data row4 col9\" >0</td>\n",
       "    </tr>\n",
       "    <tr>\n",
       "      <th id=\"T_19490_level0_row5\" class=\"row_heading level0 row5\" >14</th>\n",
       "      <td id=\"T_19490_row5_col0\" class=\"data row5 col0\" >04/30/2020</td>\n",
       "      <td id=\"T_19490_row5_col1\" class=\"data row5 col1\" >AK</td>\n",
       "      <td id=\"T_19490_row5_col2\" class=\"data row5 col2\" >04/23/2020</td>\n",
       "      <td id=\"T_19490_row5_col3\" class=\"data row5 col3\" >04/29/2020</td>\n",
       "      <td id=\"T_19490_row5_col4\" class=\"data row5 col4\" >355</td>\n",
       "      <td id=\"T_19490_row5_col5\" class=\"data row5 col5\" >18</td>\n",
       "      <td id=\"T_19490_row5_col6\" class=\"data row5 col6\" >9</td>\n",
       "      <td id=\"T_19490_row5_col7\" class=\"data row5 col7\" >0</td>\n",
       "      <td id=\"T_19490_row5_col8\" class=\"data row5 col8\" >0</td>\n",
       "      <td id=\"T_19490_row5_col9\" class=\"data row5 col9\" >0</td>\n",
       "    </tr>\n",
       "    <tr>\n",
       "      <th id=\"T_19490_level0_row6\" class=\"row_heading level0 row6\" >15</th>\n",
       "      <td id=\"T_19490_row6_col0\" class=\"data row6 col0\" >05/07/2020</td>\n",
       "      <td id=\"T_19490_row6_col1\" class=\"data row6 col1\" >AK</td>\n",
       "      <td id=\"T_19490_row6_col2\" class=\"data row6 col2\" >04/30/2020</td>\n",
       "      <td id=\"T_19490_row6_col3\" class=\"data row6 col3\" >05/06/2020</td>\n",
       "      <td id=\"T_19490_row6_col4\" class=\"data row6 col4\" >374</td>\n",
       "      <td id=\"T_19490_row6_col5\" class=\"data row6 col5\" >19</td>\n",
       "      <td id=\"T_19490_row6_col6\" class=\"data row6 col6\" >10</td>\n",
       "      <td id=\"T_19490_row6_col7\" class=\"data row6 col7\" >1</td>\n",
       "      <td id=\"T_19490_row6_col8\" class=\"data row6 col8\" >0</td>\n",
       "      <td id=\"T_19490_row6_col9\" class=\"data row6 col9\" >0</td>\n",
       "    </tr>\n",
       "    <tr>\n",
       "      <th id=\"T_19490_level0_row7\" class=\"row_heading level0 row7\" >16</th>\n",
       "      <td id=\"T_19490_row7_col0\" class=\"data row7 col0\" >05/14/2020</td>\n",
       "      <td id=\"T_19490_row7_col1\" class=\"data row7 col1\" >AK</td>\n",
       "      <td id=\"T_19490_row7_col2\" class=\"data row7 col2\" >05/07/2020</td>\n",
       "      <td id=\"T_19490_row7_col3\" class=\"data row7 col3\" >05/13/2020</td>\n",
       "      <td id=\"T_19490_row7_col4\" class=\"data row7 col4\" >389</td>\n",
       "      <td id=\"T_19490_row7_col5\" class=\"data row7 col5\" >15</td>\n",
       "      <td id=\"T_19490_row7_col6\" class=\"data row7 col6\" >10</td>\n",
       "      <td id=\"T_19490_row7_col7\" class=\"data row7 col7\" >0</td>\n",
       "      <td id=\"T_19490_row7_col8\" class=\"data row7 col8\" >0</td>\n",
       "      <td id=\"T_19490_row7_col9\" class=\"data row7 col9\" >0</td>\n",
       "    </tr>\n",
       "    <tr>\n",
       "      <th id=\"T_19490_level0_row8\" class=\"row_heading level0 row8\" >17</th>\n",
       "      <td id=\"T_19490_row8_col0\" class=\"data row8 col0\" >05/21/2020</td>\n",
       "      <td id=\"T_19490_row8_col1\" class=\"data row8 col1\" >AK</td>\n",
       "      <td id=\"T_19490_row8_col2\" class=\"data row8 col2\" >05/14/2020</td>\n",
       "      <td id=\"T_19490_row8_col3\" class=\"data row8 col3\" >05/20/2020</td>\n",
       "      <td id=\"T_19490_row8_col4\" class=\"data row8 col4\" >404</td>\n",
       "      <td id=\"T_19490_row8_col5\" class=\"data row8 col5\" >15</td>\n",
       "      <td id=\"T_19490_row8_col6\" class=\"data row8 col6\" >10</td>\n",
       "      <td id=\"T_19490_row8_col7\" class=\"data row8 col7\" >0</td>\n",
       "      <td id=\"T_19490_row8_col8\" class=\"data row8 col8\" >0</td>\n",
       "      <td id=\"T_19490_row8_col9\" class=\"data row8 col9\" >0</td>\n",
       "    </tr>\n",
       "    <tr>\n",
       "      <th id=\"T_19490_level0_row9\" class=\"row_heading level0 row9\" >18</th>\n",
       "      <td id=\"T_19490_row9_col0\" class=\"data row9 col0\" >05/28/2020</td>\n",
       "      <td id=\"T_19490_row9_col1\" class=\"data row9 col1\" >AK</td>\n",
       "      <td id=\"T_19490_row9_col2\" class=\"data row9 col2\" >05/21/2020</td>\n",
       "      <td id=\"T_19490_row9_col3\" class=\"data row9 col3\" >05/27/2020</td>\n",
       "      <td id=\"T_19490_row9_col4\" class=\"data row9 col4\" >427</td>\n",
       "      <td id=\"T_19490_row9_col5\" class=\"data row9 col5\" >23</td>\n",
       "      <td id=\"T_19490_row9_col6\" class=\"data row9 col6\" >10</td>\n",
       "      <td id=\"T_19490_row9_col7\" class=\"data row9 col7\" >0</td>\n",
       "      <td id=\"T_19490_row9_col8\" class=\"data row9 col8\" >0</td>\n",
       "      <td id=\"T_19490_row9_col9\" class=\"data row9 col9\" >0</td>\n",
       "    </tr>\n",
       "    <tr>\n",
       "      <th id=\"T_19490_level0_row10\" class=\"row_heading level0 row10\" >19</th>\n",
       "      <td id=\"T_19490_row10_col0\" class=\"data row10 col0\" >06/04/2020</td>\n",
       "      <td id=\"T_19490_row10_col1\" class=\"data row10 col1\" >AK</td>\n",
       "      <td id=\"T_19490_row10_col2\" class=\"data row10 col2\" >05/28/2020</td>\n",
       "      <td id=\"T_19490_row10_col3\" class=\"data row10 col3\" >06/03/2020</td>\n",
       "      <td id=\"T_19490_row10_col4\" class=\"data row10 col4\" >518</td>\n",
       "      <td id=\"T_19490_row10_col5\" class=\"data row10 col5\" >91</td>\n",
       "      <td id=\"T_19490_row10_col6\" class=\"data row10 col6\" >10</td>\n",
       "      <td id=\"T_19490_row10_col7\" class=\"data row10 col7\" >0</td>\n",
       "      <td id=\"T_19490_row10_col8\" class=\"data row10 col8\" >0</td>\n",
       "      <td id=\"T_19490_row10_col9\" class=\"data row10 col9\" >0</td>\n",
       "    </tr>\n",
       "  </tbody>\n",
       "</table>\n"
      ],
      "text/plain": [
       "<pandas.io.formats.style.Styler at 0x7a0fd3c28310>"
      ]
     },
     "execution_count": 97,
     "metadata": {},
     "output_type": "execute_result"
    }
   ],
   "source": [
    "#Work out the syntax for printing a prettier table with slice notation.\n",
    "#Let's say we want rows 10-20 (correspond to index 9-19).\n",
    "COVID_all.loc[9:19].style"
   ]
  },
  {
   "cell_type": "markdown",
   "id": "11ccb26f-f196-4701-a0cb-8d7062015cd8",
   "metadata": {},
   "source": [
    "<h2 style=\"font-size: 32px;\">Extracting a subset of data</h2>"
   ]
  },
  {
   "cell_type": "markdown",
   "id": "d26faaf8-1d52-4514-93d4-61a028ae8f3e",
   "metadata": {},
   "source": [
    "Slice notation is handy and all, but if we want a specific subset of data, say if we're only interested in California's COVID case numbers, but we don't know how many rows there are and also where it is located in the data. \n",
    "\n",
    "So what should we tell Python to do if we want it to create a DataFrame just for California's COVID cases?"
   ]
  },
  {
   "cell_type": "code",
   "execution_count": 98,
   "id": "434dc43e-fd85-4581-b973-adc3e6ac9102",
   "metadata": {},
   "outputs": [
    {
     "name": "stdout",
     "output_type": "stream",
     "text": [
      "0        AK\n",
      "1        AK\n",
      "2        AK\n",
      "3        AK\n",
      "4        AK\n",
      "         ..\n",
      "10375    WY\n",
      "10376    WY\n",
      "10377    WY\n",
      "10378    WY\n",
      "10379    WY\n",
      "Name: state, Length: 10380, dtype: object\n"
     ]
    }
   ],
   "source": [
    "#First identify what column we'll need to use to pull our data.\n",
    "print(COVID_all['state'])"
   ]
  },
  {
   "cell_type": "code",
   "execution_count": 101,
   "id": "c05965d0-5e09-4ec0-8e30-58dd03fbb162",
   "metadata": {},
   "outputs": [
    {
     "name": "stdout",
     "output_type": "stream",
     "text": [
      "apply a conditional statement\n",
      "we want the values in the state column to be equal to CA\n",
      "       state\n",
      "0      False\n",
      "1      False\n",
      "2      False\n",
      "3      False\n",
      "4      False\n",
      "...      ...\n",
      "10375  False\n",
      "10376  False\n",
      "10377  False\n",
      "10378  False\n",
      "10379  False\n",
      "\n",
      "[10380 rows x 1 columns]\n"
     ]
    }
   ],
   "source": [
    "#How do we get just the California cells?\n",
    "print('apply a conditional statement')\n",
    "print('we want the values in the state column to be equal to CA')\n",
    "print(pd.DataFrame(COVID_all['state'] == 'CA'))"
   ]
  },
  {
   "cell_type": "code",
   "execution_count": 103,
   "id": "0efbf10a-475b-449a-8cbc-462e531d4ac0",
   "metadata": {},
   "outputs": [
    {
     "name": "stdout",
     "output_type": "stream",
     "text": [
      "     date_updated state  start_date    end_date  tot_cases  new_cases  \\\n",
      "865    01/23/2020    CA  01/16/2020  01/22/2020          0          0   \n",
      "866    01/30/2020    CA  01/23/2020  01/29/2020          2          2   \n",
      "867    02/06/2020    CA  01/30/2020  02/05/2020          8          6   \n",
      "868    02/13/2020    CA  02/06/2020  02/12/2020         16          8   \n",
      "869    02/20/2020    CA  02/13/2020  02/19/2020         30         14   \n",
      "...           ...   ...         ...         ...        ...        ...   \n",
      "1033   04/13/2023    CA  04/06/2023  04/12/2023   12205573      11054   \n",
      "1034   04/20/2023    CA  04/13/2023  04/19/2023   12218091      12518   \n",
      "1035   04/27/2023    CA  04/20/2023  04/26/2023   12230624      12533   \n",
      "1036   05/04/2023    CA  04/27/2023  05/03/2023   12242634      12010   \n",
      "1037   05/11/2023    CA  05/04/2023  05/10/2023   12251820       9186   \n",
      "\n",
      "      tot_deaths  new_deaths  new_historic_cases  new_historic_deaths  \n",
      "865            0           0                   0                    0  \n",
      "866            0           0                   0                    0  \n",
      "867            0           0                   0                    0  \n",
      "868            0           0                   0                    0  \n",
      "869            0           0                   0                    0  \n",
      "...          ...         ...                 ...                  ...  \n",
      "1033      101434         124                   0                    0  \n",
      "1034      101549         115                   0                    0  \n",
      "1035      101663         114                   0                    0  \n",
      "1036      101777         114                   0                    0  \n",
      "1037      101886         109                   0                    0  \n",
      "\n",
      "[173 rows x 10 columns]\n"
     ]
    }
   ],
   "source": [
    "#Now pull out rows and assign it to a new variable so we can work with just this subset of the data.\n",
    "COVID_CA = COVID_all.loc[COVID_all['state'] == 'CA']\n",
    "print(COVID_CA)"
   ]
  },
  {
   "cell_type": "code",
   "execution_count": 104,
   "id": "04518039-8ed6-41b4-bd33-9e1ce1d30cc1",
   "metadata": {},
   "outputs": [
    {
     "name": "stdout",
     "output_type": "stream",
     "text": [
      "    date_updated state  start_date    end_date  tot_cases  new_cases  \\\n",
      "865   01/23/2020    CA  01/16/2020  01/22/2020          0          0   \n",
      "866   01/30/2020    CA  01/23/2020  01/29/2020          2          2   \n",
      "867   02/06/2020    CA  01/30/2020  02/05/2020          8          6   \n",
      "868   02/13/2020    CA  02/06/2020  02/12/2020         16          8   \n",
      "869   02/20/2020    CA  02/13/2020  02/19/2020         30         14   \n",
      "\n",
      "     tot_deaths  new_deaths  new_historic_cases  new_historic_deaths  \n",
      "865           0           0                   0                    0  \n",
      "866           0           0                   0                    0  \n",
      "867           0           0                   0                    0  \n",
      "868           0           0                   0                    0  \n",
      "869           0           0                   0                    0  \n"
     ]
    }
   ],
   "source": [
    "#Let's take a look at the first 5 rows again using the head() function\n",
    "print(COVID_CA.head())"
   ]
  },
  {
   "cell_type": "markdown",
   "id": "47794604-b238-4562-b6e3-e4c4ab69200b",
   "metadata": {},
   "source": [
    "We can also take a look at the full, CA dataset in a prettier way."
   ]
  },
  {
   "cell_type": "code",
   "execution_count": 106,
   "id": "79401845-722d-4c2a-9c8f-bc36545bbfc3",
   "metadata": {},
   "outputs": [],
   "source": [
    "#Take a look by using the pandas.DataFrame.style function\n",
    "#COVID_CA.style"
   ]
  },
  {
   "cell_type": "markdown",
   "id": "b271fa94-e9ea-4676-a3ca-7ec79c156457",
   "metadata": {},
   "source": [
    "<h1 style=\"font-size: 40px; margin-bottom: 0px;\">Plotting Your Data</h1>\n",
    "\n",
    "<hr style=\"margin-left: 0px; border: 0.25px solid; border-color: #000000; width: 600px;\"></hr>"
   ]
  },
  {
   "cell_type": "markdown",
   "id": "87e5c2ed-8c0a-44db-bcd2-4503b95d467e",
   "metadata": {},
   "source": [
    "Pretty HTML tables are nice and all, but it's easier to see the data visually in a plot. So now, let's learn how to plot our data in our notebook."
   ]
  },
  {
   "cell_type": "markdown",
   "id": "2c366a25-74bd-4a40-a92a-f5d6515ab16e",
   "metadata": {},
   "source": [
    "<h2 style=\"font-size: 32px;\">Matplotlib</h2>"
   ]
  },
  {
   "cell_type": "markdown",
   "id": "4b2b833e-2e32-472a-a6c8-43f45877003d",
   "metadata": {},
   "source": [
    "The main package that basically everyone uses to plot data in Python is called **matplotlib**. It's an extensive library that contains a bunch of functions to create any number of plots for data visualization. It can create static, animated, and interactive plots. The versatility of matplotlib is really helpful in creating publication quality figures.\n",
    "\n",
    "You can find the documentation of matplotlib <u><a href=\"https://matplotlib.org/\" rel=\"noopener noreferrer\" target=\"_blank\">here</a></u>.\n",
    "\n",
    "Because it can get confusing at times to figure out how to set up a plot a certain way or what functions are available, a quick Google search can often aid in helping find the right code to get your data to plot the way you want it to (or you can also ask ChatGPT)."
   ]
  },
  {
   "cell_type": "markdown",
   "id": "020ba47c-76fc-4e7d-aef2-f5e6cf4fed7e",
   "metadata": {},
   "source": [
    "<h2 style=\"font-size: 32px;\">Basic plot set-up</h2>"
   ]
  },
  {
   "cell_type": "markdown",
   "id": "f8680085-6080-4f3f-b4ab-43bd164252fa",
   "metadata": {},
   "source": [
    "To keep things easy to follow, we'll set up some variables to keep things a bit tidy. Sometimes, you can just jump right into plotting by retrieving data directly from your DataFrame without first assigning it to a variable. But for now, we'll set up some variables with random data to plot.\n",
    "\n",
    "Let's make use of a NumPy function called <mark style=\"background-color: #EEEEEE;\"><strong>numpy.arange()</strong></mark> to set a range of X-axis values. <u><a href=\"https://numpy.org/doc/stable/reference/generated/numpy.arange.html\" rel=\"noopener noreferrer\" target=\"_blank\">Documentation is here</a></u>.\n",
    "\n",
    "The <mark style=\"background-color: #EEEEEE;\"><strong>numpy.arange()</strong></mark> function can take a few arguments: a start value, a stop value, and a step size. This will output an array containing a range of evenly spaced values within your specified interval, so this is an easy way to quickly set up X-axis values for this example.\n",
    "```\n",
    "np.arange(start, stop, step)\n",
    "```"
   ]
  },
  {
   "cell_type": "code",
   "execution_count": 107,
   "id": "df7c6a6d-3f5c-4d72-8cc0-95005fe25137",
   "metadata": {},
   "outputs": [
    {
     "name": "stdout",
     "output_type": "stream",
     "text": [
      "[0.  0.5 1.  1.5 2.  2.5 3.  3.5 4.  4.5 5.  5.5 6.  6.5 7.  7.5 8.  8.5\n",
      " 9.  9.5]\n"
     ]
    }
   ],
   "source": [
    "#Set up your X-axis values and assign them to a variable\n",
    "basic_x_values = np.arange(0, 10, 0.5)\n",
    "print(basic_x_values)"
   ]
  },
  {
   "cell_type": "markdown",
   "id": "e7253369-0c2a-4a3d-8fbb-6d8a54041c19",
   "metadata": {},
   "source": [
    "Now lets make use of NumPy's random number generator again to generate some random Y-values."
   ]
  },
  {
   "cell_type": "code",
   "execution_count": 108,
   "id": "73b9fca4-ac95-4063-b332-b1dc0d7ff41f",
   "metadata": {},
   "outputs": [
    {
     "name": "stdout",
     "output_type": "stream",
     "text": [
      "[0.53678256 0.67448358 0.8036362  0.95392336 0.42440361 0.35400737\n",
      " 0.69029139 0.89592719 0.17402782 0.83627398 0.69685127 0.70965339\n",
      " 0.72736804 0.57320247 0.64968453 0.31735801 0.54992452 0.23432935\n",
      " 0.5053736  0.52468243]\n"
     ]
    }
   ],
   "source": [
    "#Use np.random.rand() function to create a 1D array of some fake data\n",
    "basic_y_values = np.random.rand(len(basic_x_values))\n",
    "print(basic_y_values)"
   ]
  },
  {
   "cell_type": "markdown",
   "id": "d8b0d040-4477-4793-af08-d9caf6b5a4a4",
   "metadata": {},
   "source": [
    "Okay so now we have our X-values and Y-values assigned to their respective variables. So then let's take these values and create a simple line plot.\n",
    "\n",
    "To do this, we'll make use of the <mark style=\"background-color: #EEEEEE;\"><strong>matplotlib.pyplot.plot()</strong></mark> function. Documentation for that function can be found <u><a href=\"https://matplotlib.org/stable/api/_as_gen/matplotlib.pyplot.plot.html\" rel=\"noopener noreferrer\" target=\"_blank\">here</a></u>.\n",
    "\n",
    "Recall that waaaay at the top of this notebook, we've imported <mark style=\"background-color: #EEEEEE;\"><strong>matplotlib.pyplot</strong></mark> as <mark style=\"background-color: #EEEEEE;\"><strong>plt</strong></mark>. So if we want to call up the <mark style=\"background-color: #EEEEEE;\"><strong>matplotlib.pyplot.plot()</strong></mark> function, we can do by typing in <mark style=\"background-color: #EEEEEE;\"><strong>plt.plot()</strong></mark>. This is because we've imported the <mark style=\"background-color: #EEEEEE;\"><strong>matplotlib.pyplot</strong></mark> package as <mark style=\"background-color: #EEEEEE;\"><strong>plt</strong></mark>, so Python knows when we indicate <mark style=\"background-color: #EEEEEE;\"><strong>plt.plot()</strong></mark> that we want the <mark style=\"background-color: #EEEEEE;\"><strong>plot()</strong></mark> function from the <mark style=\"background-color: #EEEEEE;\"><strong>matplotlib.pyplot</strong></mark> package.\n",
    "\n",
    "How that will look like is:\n",
    "```\n",
    "plt.plot(basic_x_values, basic_y_values)\n",
    "```\n",
    "This plot function will generate a line plot for us."
   ]
  },
  {
   "cell_type": "code",
   "execution_count": 109,
   "id": "b6e3df6d-abb7-4ffb-aab0-21eac2915ad6",
   "metadata": {},
   "outputs": [
    {
     "data": {
      "text/plain": [
       "[<matplotlib.lines.Line2D at 0x7a0fd3a29690>]"
      ]
     },
     "execution_count": 109,
     "metadata": {},
     "output_type": "execute_result"
    },
    {
     "data": {
      "image/png": "[encoded data removed]",
      "text/plain": [
       "<Figure size 640x480 with 1 Axes>"
      ]
     },
     "metadata": {},
     "output_type": "display_data"
    }
   ],
   "source": [
    "#Let's plot!\n",
    "plt.plot(basic_x_values, basic_y_values)"
   ]
  },
  {
   "cell_type": "markdown",
   "id": "55f7d02d-717a-4bd6-9d45-e53d5ded952e",
   "metadata": {},
   "source": [
    "<h3>Basic plot set-up with CDC COVID-19 data</h3>"
   ]
  },
  {
   "cell_type": "markdown",
   "id": "f212ee68-80c4-4b28-a92a-fe5795938d29",
   "metadata": {},
   "source": [
    "Let's try plotting the number of new weekly cases in CA over the full time frame that the dataset was collected. First, we can retrieve just our timepoints, which will be our X-axis values."
   ]
  },
  {
   "cell_type": "code",
   "execution_count": 111,
   "id": "9cbb8ed0-8410-4fec-8ecc-77061dbbf9fa",
   "metadata": {},
   "outputs": [],
   "source": [
    "#Let's assign our X-axis values to a variable\n",
    "time_points = COVID_CA['end_date']"
   ]
  },
  {
   "cell_type": "code",
   "execution_count": 112,
   "id": "a186cc87-2361-4a2c-8f6e-0e45a4d56705",
   "metadata": {},
   "outputs": [
    {
     "name": "stdout",
     "output_type": "stream",
     "text": [
      "865    01/22/2020\n",
      "866    01/29/2020\n",
      "867    02/05/2020\n",
      "868    02/12/2020\n",
      "869    02/19/2020\n",
      "Name: end_date, dtype: object\n"
     ]
    }
   ],
   "source": [
    "#let's check to see if we got what we wanted by printing the first 5 rows.\n",
    "print(time_points.head())"
   ]
  },
  {
   "cell_type": "markdown",
   "id": "b851aa12-f68c-465f-a02f-e46cf5d59f57",
   "metadata": {},
   "source": [
    "So we have our timepoints assigned to a variable. Let's get the associated new case numbers."
   ]
  },
  {
   "cell_type": "code",
   "execution_count": 113,
   "id": "89c5e350-1b75-40c8-ac95-4734b26c0156",
   "metadata": {},
   "outputs": [],
   "source": [
    "#Assign new cases values to a variable\n",
    "new_weekly_cases = COVID_CA['new_cases']"
   ]
  },
  {
   "cell_type": "code",
   "execution_count": 114,
   "id": "23e49677-9b2c-4848-9a05-7eb2ca6832b9",
   "metadata": {},
   "outputs": [
    {
     "name": "stdout",
     "output_type": "stream",
     "text": [
      "865     0\n",
      "866     2\n",
      "867     6\n",
      "868     8\n",
      "869    14\n",
      "Name: new_cases, dtype: int64\n"
     ]
    }
   ],
   "source": [
    "#Let's do a quick sanity check by printing the first 5 rows.\n",
    "print(new_weekly_cases.head())"
   ]
  },
  {
   "cell_type": "code",
   "execution_count": 115,
   "id": "5c91c496-90f7-4522-acd7-f30ea24dd649",
   "metadata": {},
   "outputs": [
    {
     "data": {
      "text/plain": [
       "[<matplotlib.lines.Line2D at 0x7a0fd3b31e10>]"
      ]
     },
     "execution_count": 115,
     "metadata": {},
     "output_type": "execute_result"
    },
    {
     "data": {
      "image/png": "[encoded data removed]",
      "text/plain": [
       "<Figure size 640x480 with 1 Axes>"
      ]
     },
     "metadata": {},
     "output_type": "display_data"
    }
   ],
   "source": [
    "#Let's plot the number of new cases for CA\n",
    "plt.plot(time_points, new_weekly_cases)"
   ]
  },
  {
   "cell_type": "markdown",
   "id": "bcf3971a-9c95-4e15-a889-dc079c1d1ed7",
   "metadata": {},
   "source": [
    "With this basic function, we can now visualize our data. But what you can see is that it's there, but there's quite a few issues still. For example, we're missing our axes labels and our X-axis tick marks are all overlapping and completely unreadable. And the 0 value of the y-axis also isn't at the bottom of the graph."
   ]
  },
  {
   "cell_type": "markdown",
   "id": "faddf52b-efd2-46c9-959d-0f50d20979a7",
   "metadata": {},
   "source": [
    "<h2 style=\"font-size: 32px;\">Modifying your plots</h2>"
   ]
  },
  {
   "cell_type": "markdown",
   "id": "fa146804-cfb3-4c88-bf9f-52b1c3e7825c",
   "metadata": {},
   "source": [
    "<h3>Plotting dates</h3>"
   ]
  },
  {
   "cell_type": "markdown",
   "id": "1281c302-29b5-4789-83ae-42fea2d57fc3",
   "metadata": {},
   "source": [
    "We can begin to make adjustments to our basic plot to work towards creating a plot that shows our data in a neater way.\n",
    "\n",
    "To do this, we need to take a look under the hood to get an idea of how Python in interpretting the data we imported and make any needed adjustments. That way, Python understands our data, and we can have it generate a better visualization. "
   ]
  },
  {
   "cell_type": "markdown",
   "id": "ab72b6a6-e67e-4f29-8963-b38e6f5623cc",
   "metadata": {},
   "source": [
    "Our X-axis is dates, and we actually don't really know how Python is interpreting the values in our <mark style=\"background-color: #EEEEEE;\"><strong>end_dates</strong></mark> column. Let's pull out a date from our DataFrame and take a look at the data type."
   ]
  },
  {
   "cell_type": "code",
   "execution_count": 117,
   "id": "8bec8afe-2628-4a03-a837-6983d2e5f855",
   "metadata": {},
   "outputs": [
    {
     "name": "stdout",
     "output_type": "stream",
     "text": [
      "    date_updated state  start_date    end_date  tot_cases  new_cases  \\\n",
      "865   01/23/2020    CA  01/16/2020  01/22/2020          0          0   \n",
      "866   01/30/2020    CA  01/23/2020  01/29/2020          2          2   \n",
      "867   02/06/2020    CA  01/30/2020  02/05/2020          8          6   \n",
      "868   02/13/2020    CA  02/06/2020  02/12/2020         16          8   \n",
      "869   02/20/2020    CA  02/13/2020  02/19/2020         30         14   \n",
      "\n",
      "     tot_deaths  new_deaths  new_historic_cases  new_historic_deaths  \n",
      "865           0           0                   0                    0  \n",
      "866           0           0                   0                    0  \n",
      "867           0           0                   0                    0  \n",
      "868           0           0                   0                    0  \n",
      "869           0           0                   0                    0  \n"
     ]
    }
   ],
   "source": [
    "#Let's output our table here just to see it again or you can scroll back up.\n",
    "print(COVID_CA.head())"
   ]
  },
  {
   "cell_type": "code",
   "execution_count": 118,
   "id": "130ceb19-486b-4a71-88ea-51ed531d7d27",
   "metadata": {},
   "outputs": [
    {
     "name": "stdout",
     "output_type": "stream",
     "text": [
      "<class 'str'>\n"
     ]
    }
   ],
   "source": [
    "#Now let's take a look at a value in the end_date column\n",
    "print(type(COVID_CA.loc[865]['end_date']))"
   ]
  },
  {
   "cell_type": "markdown",
   "id": "cbce6b1f-83b0-4ea8-8053-322a839027cd",
   "metadata": {},
   "source": [
    "You can see that the date is imported as **str**. So Python is interpretting it as text and not associating any time value to it.\n",
    "\n",
    "To have Python be able to interpret the dates that we imported, we will make use of additional functions in pandas, specifically the <mark style=\"background-color: #EEEEEE;\"><strong>pandas.to_datetime()</strong></mark> function. <u><a href=\"https://pandas.pydata.org/docs/reference/api/pandas.to_datetime.html\" rel=\"noopener noreferrer\" target=\"_blank\">Documentation is here</a></u>. This function will convert our str to a datetime.\n",
    "```\n",
    "pd.to_datetime(COVID_CA['end_date'])\n",
    "```"
   ]
  },
  {
   "cell_type": "code",
   "execution_count": 119,
   "id": "9b4c586f-987e-47cc-aeb1-455c5d944611",
   "metadata": {},
   "outputs": [],
   "source": [
    "#We need Python to understand that there's temporal information\n",
    "#and not just arbitrary text.\n",
    "x_dates = pd.to_datetime(COVID_CA['end_date'])"
   ]
  },
  {
   "cell_type": "code",
   "execution_count": 120,
   "id": "dad778d2-6947-412d-a168-8740fba6cd52",
   "metadata": {},
   "outputs": [
    {
     "name": "stdout",
     "output_type": "stream",
     "text": [
      "865   2020-01-22\n",
      "866   2020-01-29\n",
      "867   2020-02-05\n",
      "868   2020-02-12\n",
      "869   2020-02-19\n",
      "Name: end_date, dtype: datetime64[ns]\n",
      "865    01/22/2020\n",
      "866    01/29/2020\n",
      "867    02/05/2020\n",
      "868    02/12/2020\n",
      "869    02/19/2020\n",
      "Name: end_date, dtype: object\n"
     ]
    }
   ],
   "source": [
    "#Let's take a look at what changed:\n",
    "print(x_dates.head())\n",
    "print(COVID_CA['end_date'].head())"
   ]
  },
  {
   "cell_type": "markdown",
   "id": "28393d3e-9df4-48eb-bce5-7aecca4da32f",
   "metadata": {},
   "source": [
    "With this function, you can see not only did the data type change from **str** to **datetime64** but also how it is written out. The <mark style=\"background-color: #EEEEEE;\"><strong>pandas.to_datetime()</strong></mark> function allows Python to interpret our **str** as something with a time value."
   ]
  },
  {
   "cell_type": "markdown",
   "id": "d3386f73-6dfc-4e62-9819-dec6259b1169",
   "metadata": {},
   "source": [
    "Let's see how our plot looks now with this update."
   ]
  },
  {
   "cell_type": "code",
   "execution_count": 121,
   "id": "4e20c959-a08a-4d81-95eb-53a04cde0ede",
   "metadata": {},
   "outputs": [
    {
     "data": {
      "text/plain": [
       "[<matplotlib.lines.Line2D at 0x7a0fd39e9d50>]"
      ]
     },
     "execution_count": 121,
     "metadata": {},
     "output_type": "execute_result"
    },
    {
     "data": {
      "image/png": "[encoded data removed]",
      "text/plain": [
       "<Figure size 640x480 with 1 Axes>"
      ]
     },
     "metadata": {},
     "output_type": "display_data"
    }
   ],
   "source": [
    "#Plot now with a the updated X-values:\n",
    "plt.plot(x_dates, new_weekly_cases)"
   ]
  },
  {
   "cell_type": "markdown",
   "id": "5dee2052-05db-480a-8bad-b2300da40765",
   "metadata": {},
   "source": [
    "Now you can see that we appear to be moving in the right direction. The X-values are now interpreted as dates, and the way the X-axis is displayed has been updated too."
   ]
  },
  {
   "cell_type": "markdown",
   "id": "c6840e3e-a79b-4dbe-b6af-2992b329462a",
   "metadata": {},
   "source": [
    "<h3>Updating X-axis and Y-axis labels</h3>"
   ]
  },
  {
   "cell_type": "markdown",
   "id": "613d8253-5f94-4185-b1c8-10e543d382ec",
   "metadata": {},
   "source": [
    "So now let's make some addtional modifications, specifically, we want our plot to have their axes labeled with something.\n",
    "\n",
    "To do this, we can make use of the <a href=\"https://matplotlib.org/stable/api/_as_gen/matplotlib.pyplot.xlabel.html\" rel=\"noopener noreferrer\" target=\"_blank\"><mark style=\"background-color: #EEEEEE;\"><strong>matplotlib.pyplot.plt.xlabel()</strong></mark></a> and <a href=\"https://matplotlib.org/stable/api/_as_gen/matplotlib.pyplot.ylabel.html\" rel=\"noopener noreferrer\" target=\"_blank\"><mark style=\"background-color: #EEEEEE;\"><strong>matplotlib.pyplot.plt.ylabel()</strong></mark></a> functions. Click on the function to go to their documentation.\n",
    "\n",
    "For example, if we want to label our X-axis as \"Date\":\n",
    "```\n",
    "plt.xlabel('Date')\n",
    "```\n",
    "\n",
    "And if we wanted to label our Y-axis as \"Number of new weekly cases\":\n",
    "```\n",
    "plt.ylabel('Number of new weekly cases')\n",
    "```\n",
    "You can see that the argument to indicate what we want the axis to be labeled is provided as a **str**."
   ]
  },
  {
   "cell_type": "code",
   "execution_count": 122,
   "id": "72402888-0d6b-494e-b0a5-861bb8c4c719",
   "metadata": {},
   "outputs": [
    {
     "data": {
      "text/plain": [
       "[<matplotlib.lines.Line2D at 0x7a0fd38e5a50>]"
      ]
     },
     "execution_count": 122,
     "metadata": {},
     "output_type": "execute_result"
    },
    {
     "data": {
      "image/png": "[encoded data removed]",
      "text/plain": [
       "<Figure size 640x480 with 1 Axes>"
      ]
     },
     "metadata": {},
     "output_type": "display_data"
    }
   ],
   "source": [
    "#Label your axes, and then re-plot your data again.\n",
    "plt.xlabel('Date')\n",
    "plt.ylabel('Number of new weekly cases')\n",
    "plt.plot(x_dates, new_weekly_cases)"
   ]
  },
  {
   "cell_type": "markdown",
   "id": "aad64731-1c63-4921-8fdb-de3a89f1a38b",
   "metadata": {},
   "source": [
    "<h3>Updating X-axis and Y-axis ticks</h3>"
   ]
  },
  {
   "cell_type": "markdown",
   "id": "4ebccb01-79e6-45e9-87eb-f64eb470c1b1",
   "metadata": {},
   "source": [
    "Now let's do one final touch-up and fix up our X-axis tickmarks. We can do this by using the function <mark style=\"background-color: #EEEEEE;\"><strong>matplotlib.pyplot.xticks()</strong></mark>. <u><a href=\"https://matplotlib.org/stable/api/_as_gen/matplotlib.pyplot.xticks.html\" rel=\"noopener noreferrer\" target=\"_blank\">Documentation for that is here</a></u>. A similar function exists to adjust Y-axis ticks and tickmarks as well.\n",
    "```\n",
    "plt.xticks(rotation=30)\n",
    "```\n",
    "Here, we're simply adjusting the way the tickmarks are oriented, so that way, they hopefully won't overlap with one another, and will be more legible."
   ]
  },
  {
   "cell_type": "code",
   "execution_count": 124,
   "id": "01687e75-2aaa-456a-824a-a2514a9766d0",
   "metadata": {},
   "outputs": [
    {
     "data": {
      "text/plain": [
       "[<matplotlib.lines.Line2D at 0x7a0fd37c3090>]"
      ]
     },
     "execution_count": 124,
     "metadata": {},
     "output_type": "execute_result"
    },
    {
     "data": {
      "image/png": "[encoded data removed]",
      "text/plain": [
       "<Figure size 640x480 with 1 Axes>"
      ]
     },
     "metadata": {},
     "output_type": "display_data"
    }
   ],
   "source": [
    "#Let's put all the code together\n",
    "plt.xticks(rotation=30)\n",
    "plt.xlabel('Date')\n",
    "plt.ylabel('Number of new weekly cases')\n",
    "plt.plot(x_dates, new_weekly_cases)\n",
    "#In practice you don't have to keep repeating the same lines of code in new cells,\n",
    "#You can just go back to the original cell and update it.\n",
    "#But here, I have it repeated to show each iterative step."
   ]
  },
  {
   "cell_type": "markdown",
   "id": "de055747-51ae-4ed4-b3ac-5fc020ce58dc",
   "metadata": {},
   "source": [
    "<h3>Setting X-axis and Y-axis limits</h3>"
   ]
  },
  {
   "cell_type": "markdown",
   "id": "042ef10f-8241-4ecd-a572-7eb1679e639f",
   "metadata": {},
   "source": [
    "We can also tell Python what the bounds of our axes are by setting X-axis limits and Y-axis limits through the use of <a href=\"https://matplotlib.org/stable/api/_as_gen/matplotlib.pyplot.xlim.html\" rel=\"noopener noreferrer\" target=\"_blank\"><mark style=\"background-color: #EEEEEE;\"><strong>matplotlib.pyplot.xlim()</strong></mark></a> and <a href=\"https://matplotlib.org/stable/api/_as_gen/matplotlib.pyplot.ylim.html\" rel=\"noopener noreferrer\" target=\"_blank\"><mark style=\"background-color: #EEEEEE;\"><strong>matplotlib.pyplot.ylim()</strong></mark></a> respectively. Click on each for documentation.\n",
    "\n",
    "For example, if we wanted to set our Y-limits:\n",
    "```\n",
    "plt.ylim(0, 350000)\n",
    "```\n",
    "With this set-up, the plot will also shift the 0 value down to the bottom of the graph, which is what we're used to expecting."
   ]
  },
  {
   "cell_type": "code",
   "execution_count": 125,
   "id": "242e019e-af89-4548-b5f6-6386c41d13aa",
   "metadata": {},
   "outputs": [
    {
     "data": {
      "text/plain": [
       "[<matplotlib.lines.Line2D at 0x7a0fd37f6090>]"
      ]
     },
     "execution_count": 125,
     "metadata": {},
     "output_type": "execute_result"
    },
    {
     "data": {
      "image/png": "[encoded data removed]",
      "text/plain": [
       "<Figure size 640x480 with 1 Axes>"
      ]
     },
     "metadata": {},
     "output_type": "display_data"
    }
   ],
   "source": [
    "#Let's put all the code together again.\n",
    "plt.ylim(0, 350000)\n",
    "plt.xticks(rotation=30)\n",
    "plt.xlabel('Date')\n",
    "plt.ylabel('Number of new weekly cases')\n",
    "plt.plot(x_dates, new_weekly_cases)"
   ]
  },
  {
   "cell_type": "markdown",
   "id": "40a701e3-ceca-4b05-a0c5-e874cf4d4c3a",
   "metadata": {},
   "source": [
    "Now, let's set up some X-axis limits to focus in on a particular window of time. This is a little less straightforward because again, we are working with dates, so we'll need to make use of the <mark style=\"background-color: #EEEEEE;\"><strong>pandas.to_datetime()</strong></mark> function. To keep things easy to follow along, we can set up our bounds as variables too.\n",
    "\n",
    "For example, if we wanted to set up the lower boundary:\n",
    "```\n",
    "time_lower_bound = pd.to_datetime('03/01/2020')\n",
    "```"
   ]
  },
  {
   "cell_type": "code",
   "execution_count": 128,
   "id": "ce3841e4-c6f4-4c86-bc6f-dc23797b0238",
   "metadata": {},
   "outputs": [
    {
     "name": "stdout",
     "output_type": "stream",
     "text": [
      "lets look at what the original data type is\n",
      "<class 'str'>\n",
      "compare that to the updated data type\n",
      "<class 'pandas._libs.tslibs.timestamps.Timestamp'>\n"
     ]
    }
   ],
   "source": [
    "#Set the lower bound and upper bound of the x-axis to their own variables.\n",
    "time_lower_bound = pd.to_datetime('03/01/2020')\n",
    "print('lets look at what the original data type is')\n",
    "print(type('03/01/2020'))\n",
    "print('compare that to the updated data type')\n",
    "print(type(time_lower_bound))\n",
    "\n",
    "#Setting the upper bound\n",
    "time_upper_bound = pd.to_datetime('03/01/2021')"
   ]
  },
  {
   "cell_type": "code",
   "execution_count": 129,
   "id": "27fb4521-ea08-4b25-acc7-993e726f457a",
   "metadata": {},
   "outputs": [
    {
     "data": {
      "text/plain": [
       "[<matplotlib.lines.Line2D at 0x7a0fd34927d0>]"
      ]
     },
     "execution_count": 129,
     "metadata": {},
     "output_type": "execute_result"
    },
    {
     "data": {
      "image/png": "[encoded data removed]",
      "text/plain": [
       "<Figure size 640x480 with 1 Axes>"
      ]
     },
     "metadata": {},
     "output_type": "display_data"
    }
   ],
   "source": [
    "#Let's put all the code together again.\n",
    "plt.xlim(time_lower_bound, time_upper_bound)\n",
    "plt.ylim(0, 350000)\n",
    "plt.xticks(rotation=30)\n",
    "plt.xlabel('Date')\n",
    "plt.ylabel('Number of new weekly cases')\n",
    "plt.plot(x_dates, new_weekly_cases)"
   ]
  },
  {
   "cell_type": "markdown",
   "id": "f764cce3-7a3b-471a-8a04-9141fa1160e7",
   "metadata": {},
   "source": [
    "So that's the basic ways of setting up and modifying a plot, and there's a bunch more things you can do, but we may be short on time today for that."
   ]
  }
 ],
 "metadata": {
  "kernelspec": {
   "display_name": "Python [conda env:root] *",
   "language": "python",
   "name": "conda-root-py"
  },
  "language_info": {
   "codemirror_mode": {
    "name": "ipython",
    "version": 3
   },
   "file_extension": ".py",
   "mimetype": "text/x-python",
   "name": "python",
   "nbconvert_exporter": "python",
   "pygments_lexer": "ipython3",
   "version": "3.11.0"
  }
 },
 "nbformat": 4,
 "nbformat_minor": 5
}
