{
 "cells": [
  {
   "cell_type": "markdown",
   "id": "1c18c174-7027-41af-a920-455f08264c1c",
   "metadata": {},
   "source": [
    "<h1 style=\"font-size: 40px; margin-bottom: 0px;\">Week 1 Assignment</h1>\n",
    "\n",
    "<hr style=\"margin-left: 0px; border: 0.25px solid; border-color: #000000; width: 600px;\"></hr>"
   ]
  },
  {
   "cell_type": "markdown",
   "id": "d0f7ecbb-275e-481a-a832-ad03fe080e0f",
   "metadata": {},
   "source": [
    "<strong><u>Due: Saturday, September 7 at 11:59PM</u></strong>\n",
    "\n",
    "<strong><u>Total points: 5 pts</u></strong>\n",
    "\n",
    "<strong><u>To turn in your assignment:</u></strong>\n",
    "<ol>\n",
    "    <li>Complete assignment and make sure you have all the outputs requested for the notebook</li>\n",
    "    <li>Go to your server's file directory and locate your completed notebook file</li>\n",
    "    <li>Right click and select <strong>Download</strong> to download your completed notebook</li>\n",
    "    <li>Navigate to lab class <u><strong><a href=\"https://drive.google.com/drive/folders/1Limmo19dvhZz3qIaDDSnuSrl44yTiHUd?usp=sharing\" rel=\"noopener noreferrer\" target=\"_blank\">Google Drive</a></strong></u></li>\n",
    "    <li>Find your individual folder in the <strong>Assignment Submission folder</strong></li>\n",
    "    <li>Upload your completed notebook</li>\n",
    "</ol>\n",
    "\n",
    "<strong><u>How this assignment will be graded:</u></strong>\n",
    "\n",
    "You will be graded on whether or not your output is correct. You will also be graded on if your code is able to run without errors. There can be more than one correct way to answer a question. If you find that you prefer to separate your answer for a single question into multiple code cells, feel free to do so.\n",
    "<hr style=\"margin-left: 0px; border: 0.25px solid; border-color: #000000; width: 600px;\"></hr>"
   ]
  },
  {
   "cell_type": "markdown",
   "id": "69fdd2d8-dbaf-40f7-a01d-3b04b9ee231c",
   "metadata": {},
   "source": [
    "<h2>Question 1</h2>"
   ]
  },
  {
   "cell_type": "markdown",
   "id": "4e2d7922-b0d9-458a-8ef6-5d62e6fcb3d3",
   "metadata": {},
   "source": [
    "0.5pts"
   ]
  },
  {
   "cell_type": "markdown",
   "id": "1a1ee382-6715-413b-a41c-9a95b86d5af6",
   "metadata": {},
   "source": [
    "Import the following packages:\n",
    "<ul>\n",
    "    <li>NumPy</li>\n",
    "    <li>pandas</li>\n",
    "    <li>matplotlib.pyplot</li>\n",
    "</ul>"
   ]
  },
  {
   "cell_type": "code",
   "execution_count": null,
   "id": "306ce706-9ed6-4884-9b45-af859a36da39",
   "metadata": {},
   "outputs": [],
   "source": []
  },
  {
   "cell_type": "markdown",
   "id": "ad1b2cd9-4228-49f1-886c-747b13a191a7",
   "metadata": {},
   "source": [
    "<hr style=\"margin-left: 0px; border: 0.25px solid; border-color: #000000; width: 600px;\"></hr>"
   ]
  },
  {
   "cell_type": "markdown",
   "id": "66ad31c0-831a-4a37-b20e-a68ae03a6de3",
   "metadata": {},
   "source": [
    "<h2>Question 2</h2>"
   ]
  },
  {
   "cell_type": "markdown",
   "id": "47fe526a-681f-45b4-905b-44562ccc53e4",
   "metadata": {},
   "source": [
    "0.5pts"
   ]
  },
  {
   "cell_type": "markdown",
   "id": "bc62b8ff-b63b-492f-b479-f578405e71f4",
   "metadata": {},
   "source": [
    "Import the same CDC_COVID_CASES.csv file that we worked with in class and assign it to a variable."
   ]
  },
  {
   "cell_type": "code",
   "execution_count": null,
   "id": "a5875116-8c2b-4cdb-b0ee-6a99bee5ecc8",
   "metadata": {},
   "outputs": [],
   "source": []
  },
  {
   "cell_type": "markdown",
   "id": "c2f33d67-3456-4e05-856a-dd10a4b7b732",
   "metadata": {},
   "source": [
    "<hr style=\"margin-left: 0px; border: 0.25px solid; border-color: #000000; width: 600px;\"></hr>"
   ]
  },
  {
   "cell_type": "markdown",
   "id": "81a3b935-204f-4250-9809-f886d49410cc",
   "metadata": {},
   "source": [
    "<h2>Question 3</h2>"
   ]
  },
  {
   "cell_type": "markdown",
   "id": "4f85d614-c76c-4af1-ae5a-8041517741f1",
   "metadata": {},
   "source": [
    "1pt"
   ]
  },
  {
   "cell_type": "markdown",
   "id": "26c0031e-2162-4980-bd0b-47d58ab98f5c",
   "metadata": {},
   "source": [
    "Output out a stylized table of Florida's data from June 2021 to to June 2022 (inclusive). "
   ]
  },
  {
   "cell_type": "code",
   "execution_count": null,
   "id": "57af1012-d2f5-4fea-9daf-7872b07dcd43",
   "metadata": {},
   "outputs": [],
   "source": []
  },
  {
   "cell_type": "markdown",
   "id": "a4d1d18c-afd4-419f-adaf-a83a40c57460",
   "metadata": {},
   "source": [
    "<hr style=\"margin-left: 0px; border: 0.25px solid; border-color: #000000; width: 600px;\"></hr>"
   ]
  },
  {
   "cell_type": "markdown",
   "id": "a7fa279b-24be-493d-80e9-5ead6b1ae427",
   "metadata": {},
   "source": [
    "<h2>Question 4</h2>"
   ]
  },
  {
   "cell_type": "markdown",
   "id": "ba3a9223-d1d1-4b7e-b99c-422602135e84",
   "metadata": {},
   "source": [
    "1pt"
   ]
  },
  {
   "cell_type": "markdown",
   "id": "c00d458c-5554-499b-a3ee-1ed28d5ef7b5",
   "metadata": {},
   "source": [
    "Filter your dataset to only include data updated before 2021 for all states.\n",
    "\n",
    "Print the resulting DataFrame."
   ]
  },
  {
   "cell_type": "code",
   "execution_count": null,
   "id": "c7178abd-b109-4fc9-9ffc-14c2d61e8499",
   "metadata": {},
   "outputs": [],
   "source": []
  },
  {
   "cell_type": "markdown",
   "id": "26e940b7-2266-4f68-b873-d24cc5c31f57",
   "metadata": {},
   "source": [
    "<hr style=\"margin-left: 0px; border: 0.25px solid; border-color: #000000; width: 600px;\"></hr>"
   ]
  },
  {
   "cell_type": "markdown",
   "id": "66a50b36-79eb-4978-9a18-8c01809c3528",
   "metadata": {},
   "source": [
    "<h2>Question 5</h2>"
   ]
  },
  {
   "cell_type": "markdown",
   "id": "978bc43e-8be0-4182-b81e-490aafdbb727",
   "metadata": {},
   "source": [
    "1pt"
   ]
  },
  {
   "cell_type": "markdown",
   "id": "cb8f4163-152f-467f-9479-1c301003faad",
   "metadata": {},
   "source": [
    "Calculate the mean number of new cases in Florida for the month of June 2021."
   ]
  },
  {
   "cell_type": "code",
   "execution_count": null,
   "id": "38f1aa7a-05a7-46da-88b2-d5634ab339a2",
   "metadata": {},
   "outputs": [],
   "source": []
  },
  {
   "cell_type": "markdown",
   "id": "ffe78935-c8e6-4cda-8229-e6f3c4a0d617",
   "metadata": {},
   "source": [
    "<hr style=\"margin-left: 0px; border: 0.25px solid; border-color: #000000; width: 600px;\"></hr>"
   ]
  },
  {
   "cell_type": "markdown",
   "id": "0096946c-1ed7-41dc-b4c2-ba2010517e09",
   "metadata": {},
   "source": [
    "<h2>Question 6</h2>"
   ]
  },
  {
   "cell_type": "markdown",
   "id": "f6453fec-c7cc-46d2-9337-42fb19ee42d7",
   "metadata": {},
   "source": [
    "1pt"
   ]
  },
  {
   "cell_type": "markdown",
   "id": "26d5b1db-c903-49cb-ae67-d68b17ffc7be",
   "metadata": {},
   "source": [
    "Create a line plot that contains the following:\n",
    "<ul>\n",
    "    <li>X-axis label</li>\n",
    "    <li>Y-axis label</li>\n",
    "    <li>Data for new cases for New York from March 1, 2020 to December 31, 2020 plotted using their associated end date</li>\n",
    "    <li>Readable X-axis ticks</li>\n",
    "    <li>Y-axis with 0 set to the bottom left corner</li>\n",
    "</ul>"
   ]
  },
  {
   "cell_type": "code",
   "execution_count": null,
   "id": "ab73fe81-2eeb-48ab-84c9-a98f09d7c4cb",
   "metadata": {},
   "outputs": [],
   "source": []
  }
 ],
 "metadata": {
  "kernelspec": {
   "display_name": "Python 3 (ipykernel)",
   "language": "python",
   "name": "python3"
  },
  "language_info": {
   "codemirror_mode": {
    "name": "ipython",
    "version": 3
   },
   "file_extension": ".py",
   "mimetype": "text/x-python",
   "name": "python",
   "nbconvert_exporter": "python",
   "pygments_lexer": "ipython3",
   "version": "3.11.0"
  }
 },
 "nbformat": 4,
 "nbformat_minor": 5
}
