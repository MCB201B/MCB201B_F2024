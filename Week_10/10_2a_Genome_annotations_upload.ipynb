{
 "cells": [
  {
   "cell_type": "markdown",
   "id": "800b53b4-5d7d-4187-9f17-44fd64e97322",
   "metadata": {},
   "source": [
    "<h1 style=\"font-size: 40px; margin-bottom: 0px;\">10.2.a Looking at genome annotations</h1>\n",
    "\n",
    "<hr style=\"margin-left: 0px; border: 0.25px solid; border-color: #000000; width: 700px;\"></hr>"
   ]
  },
  {
   "cell_type": "markdown",
   "id": "69129ae0-fa61-4a2c-b9d0-3ba5941046f6",
   "metadata": {},
   "source": [
    "This notebook is just for us to take a look at the <code>.gtf</code> file since it's quite large, and Python will use a lot of memory. This way, we can close this notebook when we're done to free up the memory to use for the rest of the lesson."
   ]
  },
  {
   "cell_type": "code",
   "execution_count": null,
   "id": "b36947a0-f03e-4fd4-b543-3e764acb2ca8",
   "metadata": {},
   "outputs": [],
   "source": [
    "import pandas as pd"
   ]
  },
  {
   "cell_type": "markdown",
   "id": "72a85fb6-7cd7-4335-a417-101afbbca7bd",
   "metadata": {},
   "source": [
    "Load in the GTF file as a pandas DataFrame."
   ]
  },
  {
   "cell_type": "code",
   "execution_count": null,
   "id": "2e38b198-5236-4e35-98c5-19f67c846070",
   "metadata": {},
   "outputs": [],
   "source": [
    "hg19_refseq = pd.read_csv('~/shared/course/mcb201b-shared-readwrite/rna-feature/hg19-refseq.gtf',\n",
    "                  delimiter='\\t',\n",
    "                  header=None,\n",
    "                  names=['seqname', 'source', 'feature', 'start', 'end', 'score', 'strand', 'frame', 'attribute']\n",
    "                 )"
   ]
  },
  {
   "cell_type": "markdown",
   "id": "0d0042d4-1ab8-485d-b075-f5e76e2d3280",
   "metadata": {},
   "source": [
    "Let's take a look at the first 20 rows to see how the data is organized in GFF format."
   ]
  },
  {
   "cell_type": "code",
   "execution_count": null,
   "id": "4364ed8f-a532-4968-b7db-4d0fa2fd220e",
   "metadata": {},
   "outputs": [],
   "source": [
    "hg19_refseq.head(20).style"
   ]
  },
  {
   "cell_type": "code",
   "execution_count": null,
   "id": "780655b4-080d-467a-b8be-55ce31b91737",
   "metadata": {},
   "outputs": [],
   "source": []
  }
 ],
 "metadata": {
  "kernelspec": {
   "display_name": "Python [conda env:root] *",
   "language": "python",
   "name": "conda-root-py"
  },
  "language_info": {
   "codemirror_mode": {
    "name": "ipython",
    "version": 3
   },
   "file_extension": ".py",
   "mimetype": "text/x-python",
   "name": "python",
   "nbconvert_exporter": "python",
   "pygments_lexer": "ipython3",
   "version": "3.11.0"
  }
 },
 "nbformat": 4,
 "nbformat_minor": 5
}
