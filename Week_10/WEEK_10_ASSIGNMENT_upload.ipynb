{
 "cells": [
  {
   "cell_type": "markdown",
   "id": "157ed06a-6d1d-493c-a7f3-fef6626b0827",
   "metadata": {},
   "source": [
    "<h1 style=\"font-size: 40px; margin-bottom: 0px;\">Week 10 Assignment</h1>\n",
    "\n",
    "<hr style=\"margin-left: 0px; border: 0.25px solid; border-color: #000000; width: 600px;\"></hr>"
   ]
  },
  {
   "cell_type": "markdown",
   "id": "e77a3bb1-56fa-4b28-9622-d7f7c0e0b5f8",
   "metadata": {},
   "source": [
    "<p><strong><u>Due: Saturday, November 9th at 11:59PM</u></strong></p>\n",
    "\n",
    "<p><strong><u>Total points: 5 pts</u></strong></p>\n",
    "\n",
    "<p><strong><u>To turn in your assignment:</u></strong></p>\n",
    "\n",
    "<ol>\n",
    "    <li>Complete assignment and make sure you have all the outputs requested in a <code>week_10_outputs</code> folder</li>\n",
    "    <li>Go to your server's file directory and locate your output directory</li>\n",
    "    <li>Right click and select <strong>Download as an Archive</strong> to download your output folder</li>\n",
    "    <li>Navigate to lab class <u><strong><a href=\"https://drive.google.com/drive/folders/1Limmo19dvhZz3qIaDDSnuSrl44yTiHUd?usp=sharing\" rel=\"noopener noreferrer\" target=\"_blank\">Google Drive</a></strong></u></li>\n",
    "    <li>Find your individual folder in the <strong>Assignment Submission folder</strong></li>\n",
    "    <li>Upload your <code>week_10_outputs</code> folder</li>\n",
    "</ol>\n",
    "\n",
    "<p><strong><u>How this assignment will be graded:</u></strong></p>\n",
    "\n",
    "<p>This assignment will make use of Terminal and this notebook. You will be graded on whether or not the code in your Python notebook is correct to achieve the output that you have. You will also be graded on whether or not you have the requested outputs. Note that the outputs will differ from group to group.</p>\n",
    "\n",
    "<p>Your <code>week_10_outputs</code> folder should contain:</p>\n",
    "\n",
    "<ul>\n",
    "    <li>HTML multiqc report(s) either separate multiqc_report files for Question and for Question 2 or a single multiqc_report that includes the information for both</li>\n",
    "    <li>Your raw read counts data matrix output from HTSeq</li>\n",
    "    <li>This Python notebook with the QC of your raw read counts</li>\n",
    "</ul>\n",
    "\n",
    "You may feel free to set up a shell script to perform analyses for this assignment."
   ]
  },
  {
   "cell_type": "markdown",
   "id": "f7bb1b8c-673e-475c-8e13-4ae95d3b492b",
   "metadata": {},
   "source": [
    "<h1>Question 1</h1>"
   ]
  },
  {
   "cell_type": "markdown",
   "id": "d30ad8e8-f337-4be5-88ee-da533d3641bc",
   "metadata": {},
   "source": [
    "<p>1 pt</p>"
   ]
  },
  {
   "cell_type": "markdown",
   "id": "10d8dc20-3414-426e-a9be-8e0a6b9df99d",
   "metadata": {},
   "source": [
    "Perform FastQC on your group's four .fastq.gz files, and use <code>multiqc</code> to obtain a summary of the FastQC results for all four analyses.\n",
    "\n",
    "Save the HTML multiqc_report output in your <code>week_10_outputs</code> folder to be submitted."
   ]
  },
  {
   "cell_type": "markdown",
   "id": "c3e9f6d3-4632-4d77-b24a-10a5020ff079",
   "metadata": {},
   "source": [
    "<h1>Question 2</h1>"
   ]
  },
  {
   "cell_type": "markdown",
   "id": "26006b62-6cc1-4ad8-8401-e9f71987a66c",
   "metadata": {},
   "source": [
    "<p>2 pts</p>"
   ]
  },
  {
   "cell_type": "markdown",
   "id": "4078fa35-a854-421d-8c18-8e66f257a32e",
   "metadata": {},
   "source": [
    "Perform an alignment using HISAT2 for your control samples and your TAZ KO samples. Use <code>multiqc</code> to obtain a summary of the alignment statistics for control and TAZ KO alignments. Convert your SAM files to BAM files. Then go ahead and delete your SAM files to limit how much storage we are using. The SAM files will be about 50GB or more in size.\n",
    "\n",
    "You may feel free to run a single <code>multiqc</code> to obtain the FastQC and the alignment statistics summaries together in a single multiqc_report.\n",
    "\n",
    "Save the HTML multiqc_report output in your <code>week_10_outputs</code> folder to be submitted."
   ]
  },
  {
   "cell_type": "markdown",
   "id": "5ff488cb-efcf-41d3-9139-b2c8d1fdabab",
   "metadata": {},
   "source": [
    "<h1>Question 3</h1>"
   ]
  },
  {
   "cell_type": "markdown",
   "id": "8247a823-1f8a-467b-a058-458bfa4e8709",
   "metadata": {},
   "source": [
    "<p>1 pt</p>"
   ]
  },
  {
   "cell_type": "markdown",
   "id": "3275b655-56e6-415b-8f4d-7188901d5779",
   "metadata": {},
   "source": [
    "Obtain a single data matrix of your raw read counts for both control and TAZ KO samples using <code>htseq-count</code>.\n",
    "\n",
    "Save the data matrix output in your <code>week_10_outputs</code> folder to be submitted."
   ]
  },
  {
   "cell_type": "markdown",
   "id": "e16ac1bb-cbdb-4d98-845b-1c615cc7367e",
   "metadata": {},
   "source": [
    "<h1>Question 4</h1>"
   ]
  },
  {
   "cell_type": "markdown",
   "id": "cc3dfdd6-d779-460c-a164-700103d45222",
   "metadata": {},
   "source": [
    "<p>1 pt</p>"
   ]
  },
  {
   "cell_type": "markdown",
   "id": "7705ecee-89cc-46cc-8906-4a0b5f04774c",
   "metadata": {},
   "source": [
    "In this Python notebook, create a stacked bar plot that visualizes the following for your control and your TAZ KO samples:\n",
    "\n",
    "<ul>\n",
    "    <li>Number of reads that were counted as overlapping an annotated gene</li>\n",
    "    <li>Number of reads without a feature</li>\n",
    "    <li>Number of ambiguous reads</li>\n",
    "    <li>Number of reads with low alignment scores</li>\n",
    "    <li>Number of reads that were not aligned</li>\n",
    "    <li>Number of reads that were not uniquely mapped</li>\n",
    "</ul>\n",
    "\n",
    "Once you're done, move this Python notebook to your <code>week_10_outputs</code> folder to be submitted."
   ]
  },
  {
   "cell_type": "code",
   "execution_count": null,
   "id": "9b8eac71-c618-48a2-aa37-f14086b760fe",
   "metadata": {},
   "outputs": [],
   "source": []
  }
 ],
 "metadata": {
  "kernelspec": {
   "display_name": "Python [conda env:root] *",
   "language": "python",
   "name": "conda-root-py"
  },
  "language_info": {
   "codemirror_mode": {
    "name": "ipython",
    "version": 3
   },
   "file_extension": ".py",
   "mimetype": "text/x-python",
   "name": "python",
   "nbconvert_exporter": "python",
   "pygments_lexer": "ipython3",
   "version": "3.11.0"
  }
 },
 "nbformat": 4,
 "nbformat_minor": 5
}
