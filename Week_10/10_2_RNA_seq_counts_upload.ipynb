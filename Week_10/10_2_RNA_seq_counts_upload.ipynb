{
 "cells": [
  {
   "cell_type": "markdown",
   "id": "e51d4955-ad20-4173-befa-c3dc6f7ce64d",
   "metadata": {},
   "source": [
    "<h1 style=\"font-size: 40px; margin-bottom: 0px;\">10.2 RNA-seq counts</h1>\n",
    "\n",
    "<hr style=\"margin-left: 0px; border: 0.25px solid; border-color: #000000; width: 600px;\"></hr>"
   ]
  },
  {
   "cell_type": "markdown",
   "id": "61297274-7deb-4a58-a7ca-c79c4db5c125",
   "metadata": {},
   "source": [
    "Yesterday, we aligned our RNA-seq reads to a reference genome using the splice aware aligner HISAT2, and today, we'll be counting our mapped reads in order to set up for differential expression analysis. To do this, we'll make use of a program called HTSeq, which will allow us to count the reads mapped to different genomic features, and in the case of RNA-seq, we're interested in counting reads that have mapped to exons. Each group will then obtain raw counts for their control and TAZ KO replicates. We'll take a look at the data in our Python notebooks to do some basic QC, and then take a look to see if we might have some potentially differentially expressed genes just solely based on one replicate.\n",
    "\n",
    "<strong>Learning objectives:</strong>\n",
    "\n",
    "<ul>\n",
    "    <li>Install and use HTSeq to obtain read counts</li>\n",
    "    <li>Understand and play with HTSeq output</li>\n",
    "    <li>Manual analysis to visualize raw count data for a single replicate</li>\n",
    "</ul>"
   ]
  },
  {
   "cell_type": "markdown",
   "id": "6ef715da-10de-484a-b03a-62052d388f93",
   "metadata": {},
   "source": [
    "<h1 style=\"font-size: 40px; margin-bottom: 0px;\">HTSeq</h1>\n",
    "\n",
    "<hr style=\"margin-left: 0px; border: 0.25px solid; border-color: #000000; width: 400px;\"></hr>"
   ]
  },
  {
   "cell_type": "markdown",
   "id": "11309897-cb94-4fb3-9305-18e083821082",
   "metadata": {},
   "source": [
    "<a href=\"https://htseq.readthedocs.io/en/master/index.html\" rel=\"noopener noreferrer\" target=\"_blank\"><u>Documentation for HTSeq is here.</u></a>\n",
    "\n",
    "HTSeq (High-throughput sequence analysis in Python) is developed by Fabio Zanini, Simon Anders, Givanna Putri and contributors (<a href=\"https://academic.oup.com/bioinformatics/article/38/10/2943/6551247\" rel=\"noopener noreferrer\" target=\"_blank\"><u>Anders et al 2014</u></a>, <a href=\"https://academic.oup.com/bioinformatics/article/31/2/166/2366196\" rel=\"noopener noreferrer\" target=\"_blank\"><u>Putri et al 2022</u></a>). It's a Python package that acts as a framework for working with high-throughput sequencing data in Python. We will make use of its ability to count reads within features when provided with an alignment file and with a genome annotation file. For this, we'll make use of Terminal to install and run HTSeq, then we'll use this Python notebook to play around with the outputs that we get."
   ]
  },
  {
   "cell_type": "markdown",
   "id": "36b4436e-8344-4cc8-9de5-992e0ffe7079",
   "metadata": {},
   "source": [
    "<h2>Install HTSeq</h2>"
   ]
  },
  {
   "cell_type": "markdown",
   "id": "0c9aecc6-b92f-4179-8e54-162896773c4b",
   "metadata": {},
   "source": [
    "To install the HTSeq package, first open up Terminal. Then install HTSeq by entering the following into the command line:\n",
    "\n",
    "<pre style=\"width: 350px; margin-top: 15px; margin-bottom: 15px; color: #000000; background-color: #EEEEEE; border: 1px solid; border-color: #AAAAAA; padding: 10px; border-radius: 15px; font-size: 12px;\">pip install HTSeq</pre>"
   ]
  },
  {
   "cell_type": "markdown",
   "id": "20c4017c-790d-4fee-b922-e0c12049ccc8",
   "metadata": {},
   "source": [
    "The HTSeq package should then be installed, and you will be able to use the information contained within your alignment files and obtain the raw counts for specific genomic features. As Dr. Ingolia mentioned in lecture, genomic features are usually annotated in a GFF or GTF format, which is a fairly large tab-delimited table containing the following information for each annotated genomic feature:\n",
    "\n",
    "<table style=\"text-align: center;\">\n",
    "    <tr style=\"font-size: 15px;\">\n",
    "        <th>seqname</th>\n",
    "        <th>source</th>\n",
    "        <th>feature</th>\n",
    "        <th>start</th>\n",
    "        <th>end</th>\n",
    "        <th>score</th>\n",
    "        <th>strand</th>\n",
    "        <th>frame</th>\n",
    "        <th>attribute</th>\n",
    "    </tr>\n",
    "    <tr>\n",
    "        <td>Chr name</td>\n",
    "        <td>Program that generated the data or the data source</td>\n",
    "        <td>type of feature (gene, exon, cds, etc)</td>\n",
    "        <td>start position</td>\n",
    "        <td>end position</td>\n",
    "        <td>floating point value</td>\n",
    "        <td>+ or -</td>\n",
    "        <td>codon frame</td>\n",
    "        <td>additional information for each feature</td>\n",
    "    </tr>\n",
    "</table>"
   ]
  },
  {
   "cell_type": "markdown",
   "id": "9caa4a5f-e7fc-4dd8-a7ea-a4b8e9e872a5",
   "metadata": {},
   "source": [
    "For this part, let's take a look at our annotation file in notebook 10_2a. The GTF file is quite large, so we'll open it up in another notebook, so we can close it out later and free up memory."
   ]
  },
  {
   "cell_type": "markdown",
   "id": "e616fa5b-ca60-4238-8b8e-ac754d2c8c99",
   "metadata": {},
   "source": [
    "<h2>Run <code>htseq-count</code> to obtain raw counts</h2>"
   ]
  },
  {
   "cell_type": "markdown",
   "id": "6a68efc6-6bf7-4155-bebb-89e5fd203085",
   "metadata": {},
   "source": [
    "One of the main things you can do with HTSeq is to determine how many reads overlap with a specific set of genomic features. For example, you can count the reads that overlap with exons in order to begin estimating the levels of gene expression in your cell. HTSeq contains a specific script that performs read quantification with the intention that you will later perform differential expression analysis. You can use the command <code>htseq-count</code> to take a gene annotation file and an alignment file and quantify how many reads map to each annotated gene.\n",
    "\n",
    "<a href=\"https://htseq.readthedocs.io/en/master/htseqcount.html\" rel=\"noopener noreferrer\" target=\"_blank\"><u>Documentation specifically for htseq-count is here.</u></a>\n",
    "\n",
    "The basic setup for using <code>htseq-count</code> is:\n",
    "\n",
    "<pre style=\"width: 450px; margin-top: 15px; margin-bottom: 15px; color: #000000; background-color: #EEEEEE; border: 1px solid; border-color: #AAAAAA; padding: 10px; border-radius: 15px; font-size: 12px;\">htseq-count &lbrack;options&rbrack; &lt;alignment_files&gt; &lt;gtf_file&gt;</pre>\n",
    "\n",
    "Based on the basic setup, we can run <code>htseq-count</code> on our two samples at once by supplying it with both your control replicate and your TAZ KO replicate. To do this easily, we can make use of the wildcard <code>*</code> to pull just our bam files that were sorted by name.\n",
    "\n",
    "Something to note is that if you look into the documentation for <code>htseq-count</code>, you'll notice that special consideration needs to be taken for paired-end reads. The documentation recommends that the files be sorted by name rather than position, such that mate pairs are positioned by each other to help save memory usage since reads are kept in memory until their mate is found.\n",
    "\n",
    "<hr style=\"border: 1px solid; border-color: #BBBBBB;\"></hr>"
   ]
  },
  {
   "cell_type": "markdown",
   "id": "6db1e927-de47-471c-882f-686e184d0845",
   "metadata": {},
   "source": [
    "So, to get the raw counts of both our alignment files\n",
    "\n",
    "<pre style=\"width: 500px; margin-top: 15px; margin-bottom: 15px; color: #000000; background-color: #EEEEEE; border: 1px solid; border-color: #AAAAAA; padding: 10px; border-radius: 15px; font-size: 12px;\">htseq-count \\\n",
    "-t exon \\\n",
    "-i gene_id \\\n",
    "-r name \\\n",
    "-s reverse \\\n",
    "-f bam \\\n",
    "./alignment-outputs/bams/*_name.bam \\\n",
    "~/shared/course/mcb201b-shared-readwrite/rna-feature/hg19-refseq.gtf \\\n",
    "> ./1M_g1_counts.txt</pre>"
   ]
  },
  {
   "cell_type": "markdown",
   "id": "aa4bfb11-be68-436e-9676-b962288a631c",
   "metadata": {},
   "source": [
    "Let's break down the code:\n",
    "\n",
    "<code>htseq-count</code>\n",
    "\n",
    "This is to call up the script to get the counts of reads mapped to a set of genomic features.\n",
    "\n",
    "<hr style=\"border: 1px solid; border-color: #AAAAAA;\"></hr>\n",
    "\n",
    "<code>-t exon</code>\n",
    "\n",
    "The <code>-t</code> option allows us to specify what type of feature from the <strong>feature</strong> column of the GTF file that we want to obtain read counts for. In this setup, we are looking to determine how many reads overlap with annotated exons.\n",
    "\n",
    "<hr style=\"border: 1px solid; border-color: #AAAAAA;\"></hr>\n",
    "\n",
    "<code>-i gene_id</code>\n",
    "\n",
    "The <code>-i</code> option provides the labels for each exon that we determine the counts for. Here, we specify that we want it to pull the <strong>gene_id</strong>, and use it as the label for its respective exon.\n",
    "\n",
    "<hr style=\"border: 1px solid; border-color: #AAAAAA;\"></hr>\n",
    "\n",
    "<code>-r name</code>\n",
    "\n",
    "Here, we specify that our BAM file reads are sorted by name.\n",
    "\n",
    "<hr style=\"border: 1px solid; border-color: #AAAAAA;\"></hr>\n",
    "\n",
    "<code>-s reverse</code>\n",
    "\n",
    "This option tells <code>htseq-count</code> the strandedness of your cDNA library, and it's an important option because it will have a noticeable impact on the raw counts that you get. If you select the incorrect strandedness, you will end up with inaccurate quantifications that will impact your differential expression analysis. \n",
    "\n",
    "Since our cDNA library is directional on the first strand, so we will need to specify <code>reverse</code> for the strandedness option.\n",
    "\n",
    "<hr style=\"border: 1px solid; border-color: #AAAAAA;\"></hr>\n",
    "\n",
    "<code>-f bam</code>\n",
    "\n",
    "We provide the information on the type of alignment file that we are using as the input(s). Our alignment files are BAMs, so we specify <code>bam</code>.\n",
    "\n",
    "<hr style=\"border: 1px solid; border-color: #AAAAAA;\"></hr>\n",
    "\n",
    "<code>./alignment-outputs/bams/*_name.bam</code>\n",
    "\n",
    "After we specify our options, we then provide the alignment files that we want to obtain read counts for. Here, we can provide it with our alignment files by making use of the wildcard <code>*</code>.\n",
    "\n",
    "<hr style=\"border: 1px solid; border-color: #AAAAAA;\"></hr>\n",
    "\n",
    "<code>~/shared/course/mcb201b-shared-readwrite/rna-feature/hg19-refseq.gtf</code>\n",
    "\n",
    "Then we specify the annotation file that we want it to use in order to identify how many reads are overlapping with known genomic features. In our case, we provide it with a file containing gene annotations.\n",
    "\n",
    "<hr style=\"border: 1px solid; border-color: #AAAAAA;\"></hr>\n",
    "\n",
    "<code>&gt; ./1M_g1_counts.txt</code>\n",
    "\n",
    "We then tell it to redirect the output to a <code>.txt</code> file that we can then play around with later and use for differential expression analysis.\n"
   ]
  },
  {
   "cell_type": "markdown",
   "id": "cf574b53-41a4-4b7c-b1c3-e65ea77577ec",
   "metadata": {},
   "source": [
    "<h1 style=\"font-size: 40px; margin-bottom: 0px;\">Import raw counts data matrix</h1>\n",
    "\n",
    "<hr style=\"margin-left: 0px; border: 0.25px solid; border-color: #000000; width: 600px;\"></hr>"
   ]
  },
  {
   "cell_type": "markdown",
   "id": "220821a1-b653-4589-89f7-ea8dd9eef6f3",
   "metadata": {},
   "source": [
    "Since we provided <code>htseq-count</code> with two BAM files at once, it will provide us with a data matrix containing the read counts for both our control and TAZ KO samples.\n",
    "\n",
    "The first column should contain the <code>gene_id</code> that we instructed <code>htseq-count</code> to use to identify each feature. So we'll have the gene symbols in the first column. The second column should contain your raw counts for your control sample and the third column should contain your raw counts for your TAZ KO sample.\n",
    "\n",
    "Let's import our data matrix into this Python notebook as a pandas DataFrame and play around with our data."
   ]
  },
  {
   "cell_type": "code",
   "execution_count": null,
   "id": "3f32ee55-35f3-4b24-b488-0fc8a7fe4420",
   "metadata": {},
   "outputs": [],
   "source": [
    "import numpy as np\n",
    "import pandas as pd\n",
    "import matplotlib.pyplot as plt\n",
    "import matplotlib.colors as mcolors\n",
    "import seaborn as sns"
   ]
  },
  {
   "cell_type": "markdown",
   "id": "467093e8-15c3-4c8e-bd76-82ff51f73279",
   "metadata": {},
   "source": [
    "<h2>Exercise #1: Import your counts matrix</h2>"
   ]
  },
  {
   "cell_type": "markdown",
   "id": "0487e865-bcc9-4695-8f64-5e420b2990fb",
   "metadata": {},
   "source": [
    "Import the count matrix that you got for your control and TAZ KO samples. <a href=\"https://pandas.pydata.org/docs/reference/api/pandas.read_csv.html\" rel=\"noopener noreferrer\" target=\"_blank\"><u>Take a look over the documentation for <code>pd.read_csv()</code></u></a> to see if you can import your tab-delimited data matrix with the header names as: 'gene', 'ctrl', and 'tazko'."
   ]
  },
  {
   "cell_type": "code",
   "execution_count": null,
   "id": "0f73da39-ade2-4eb3-bb3a-caa6f25ad9f3",
   "metadata": {},
   "outputs": [],
   "source": []
  },
  {
   "cell_type": "markdown",
   "id": "bfda17e4-4f2f-4bf9-afab-92c8b0e3ee33",
   "metadata": {},
   "source": [
    "Now let's take a look at the first ten rows of our DataFrame."
   ]
  },
  {
   "cell_type": "code",
   "execution_count": null,
   "id": "739573d7-83aa-4bab-89e9-6553b045b124",
   "metadata": {},
   "outputs": [],
   "source": []
  },
  {
   "cell_type": "markdown",
   "id": "aa853652-63d0-4140-a54e-dcf470b47bff",
   "metadata": {},
   "source": [
    "There's also additional information about our counts at the last set of rows, so let's take a look at the last ten rows as well."
   ]
  },
  {
   "cell_type": "code",
   "execution_count": null,
   "id": "207c2396-b25e-48a1-a18c-89d2c4aa33e4",
   "metadata": {},
   "outputs": [],
   "source": []
  },
  {
   "cell_type": "markdown",
   "id": "2c115e94-9b74-4099-9e5a-dc626d7f04d3",
   "metadata": {},
   "source": [
    "So not only do we have the raw counts for each annotated gene, we also have rows at the end of the data matrix that specify:\n",
    "\n",
    "<ul>\n",
    "    <li><code>__no_feature</code>: the number of reads that did not overlap with any annotated feature</li>\n",
    "    <li><code>__ambiguous</code>: those that overlapped with two or more genes</li>\n",
    "    <li><code>__too_low_aQual</code>: those that had poor alignment quality</li>\n",
    "    <li><code>__not_aligned</code>: those that didn't align</li>\n",
    "    <li><code>__alignment_not_unique</code>: reads that mapped to more than one location</li>\n",
    "</ul>\n",
    "\n",
    "These rows give us some information that we can use for QC to see if anything might have went wrong in the read counting. For example, if we specified the incorrect strandedness of our cDNA library, we will end up with an unusually large portion of our reads not overlapping with any genes because they'll be associated with the wrong strand."
   ]
  },
  {
   "cell_type": "markdown",
   "id": "490f9d2a-d51b-4eb6-b54a-b718d52d8c1b",
   "metadata": {},
   "source": [
    "<h2>Exercise #2: Pull out information to perform QC</h2>"
   ]
  },
  {
   "cell_type": "markdown",
   "id": "532717c1-407c-4303-b8e6-59e16b766c5b",
   "metadata": {},
   "source": [
    "We can take a look at our overall count statistics by pulling the rows starting with the string <code>__</code> from our DataFrame by using the <code>pd.Series.str.contains()</code> function. \n",
    "\n",
    "<a href=\"https://pandas.pydata.org/docs/reference/api/pandas.Series.str.contains.html\" rel=\"noopener noreferrer\" target=\"_blank\"><u>Documentation is here.</u></a>\n",
    "\n",
    "See if you can take a look at the documentation to try and pull the rows starting with <code>__</code> and save it as a new variable called <code>read_stats</code>. We'll then concatenate the total reads that were actually counted after."
   ]
  },
  {
   "cell_type": "code",
   "execution_count": null,
   "id": "762c9c9d-618e-40f6-aa97-f8a7565de95b",
   "metadata": {},
   "outputs": [],
   "source": []
  },
  {
   "cell_type": "code",
   "execution_count": null,
   "id": "26b732b9-f919-4b44-b738-9fe10f90ab9f",
   "metadata": {},
   "outputs": [],
   "source": []
  },
  {
   "cell_type": "markdown",
   "id": "cf786324-8f84-46ee-8c3f-816da32b8d11",
   "metadata": {},
   "source": [
    "<h2>Guided Exercise: Determine how many reads overlap with an annotated genes</h2>"
   ]
  },
  {
   "cell_type": "markdown",
   "id": "6b17e20d-6583-4d4b-a419-27264997220c",
   "metadata": {},
   "source": [
    "So we've pulled the reads that were not associated with any annotated genes in our GTF file, so the reads that were counted are the remaining rows. In other words, the inverse of the rows containing the string <code>__</code> contain the reads that were counted. We can continue to make use of the <code>pd.Series.str.contains()</code> function, but we can add on an additional <code>~</code> in order to specify that we want the inverse. \n",
    "\n",
    "How this will look is:\n",
    "\n",
    "```\n",
    "counted_reads = counts[~counts['gene'].str.contains('__')]\n",
    "```\n",
    "\n",
    "Then to determine the total counts of those reads, we can make use of the <code>pd.DataFrame.sum()</code> function, and we can combine the two into a single line of code. So we end up with:\n",
    "\n",
    "```\n",
    "counted_reads = counts[~counts['gene'].str.contains('__')].sum(axis=0, numeric_only=True)\n",
    "```\n",
    "\n",
    "Breaking down this line of code, we get:\n",
    "\n",
    "<code>counted_reads</code>\n",
    "\n",
    "This is the variable that we will assign our total counted read counts to.\n",
    "\n",
    "<hr style=\"border: 1px solid; border-color: #AAAAAA;\"></hr>\n",
    "\n",
    "<code>=</code>\n",
    "\n",
    "This is the assignment operator.\n",
    "\n",
    "<hr style=\"border: 1px solid; border-color: #AAAAAA;\"></hr>\n",
    "\n",
    "<code>counts[~counts['gene'].str.contains('__')]</code>\n",
    "\n",
    "Here, we specify that we want the rows that <u>do not</u> contain the string <code>__</code>, which corresponds to all the reads that were counted as overlapping with an annotated gene.\n",
    "\n",
    "<hr style=\"border: 1px solid; border-color: #AAAAAA;\"></hr>\n",
    "\n",
    "<code>.sum(axis=0, numeric_only=True)</code>\n",
    "\n",
    "This function allows us to take the sum of the ctrl column's read counts and the sum of the tazko column's read counts, so we have a Series with the total counted reads for our two samples."
   ]
  },
  {
   "cell_type": "code",
   "execution_count": null,
   "id": "5285b3df-1da1-4ebb-8222-059a304288f6",
   "metadata": {},
   "outputs": [],
   "source": []
  },
  {
   "cell_type": "code",
   "execution_count": null,
   "id": "ba11d112-d30a-462d-a0d2-ccb2a3b5dd1a",
   "metadata": {},
   "outputs": [],
   "source": []
  },
  {
   "cell_type": "markdown",
   "id": "494ed6ae-8a7f-467d-9fa1-0338862b2096",
   "metadata": {},
   "source": [
    "<h2>Guided Exercise: Prepare <code>counted_reads</code> for concatenation</h2>"
   ]
  },
  {
   "cell_type": "markdown",
   "id": "55538cc4-1525-4d62-b8e4-b716f682b51a",
   "metadata": {},
   "source": [
    "There's two things we'll need to consider in order to get our <code>counted_reads</code> ready to be concatenated onto our <code>read_stats</code> DataFrame. \n",
    "\n",
    "First, we need a label for it contained in the \"gene\" column like for our <code>read_stats</code> DataFrame.\n",
    "\n",
    "Second, it's a Series with the indices corresponding to the column headers in the <code>read_stats</code> DataFrame."
   ]
  },
  {
   "cell_type": "markdown",
   "id": "769f9702-3633-43d6-8a4d-1f14251b7b47",
   "metadata": {},
   "source": [
    "To address the first consideration, we can just concatenate two Series together in order to add in a label in the \"gene\" column using the <code>pd.concat()</code> function.\n",
    "\n",
    "```\n",
    "counted_reads = pd.concat([pd.Series({'gene': 'counted_reads'}), counted_reads])\n",
    "```"
   ]
  },
  {
   "cell_type": "code",
   "execution_count": null,
   "id": "a4f50476-3e25-4ec4-97c7-a98eca2f381b",
   "metadata": {},
   "outputs": [],
   "source": []
  },
  {
   "cell_type": "code",
   "execution_count": null,
   "id": "4251d2ea-9d11-458a-a2ef-dcf05de52a92",
   "metadata": {},
   "outputs": [],
   "source": []
  },
  {
   "cell_type": "markdown",
   "id": "6c0eadb5-a3b0-4e0c-bf80-3e159d4baf7b",
   "metadata": {},
   "source": [
    "Another way of seeing the second consideration is that <code>counted_reads</code> is in the wrong orientation, where its rows should be columns and its columns should be rows. So to address this, we will first need to convert it into a DataFrame, because pandas Series is one-dimensional, so it cannot be transposed. We'll make use of the <code>pd.Series.to_frame()</code> function first to make our Series a DataFrame.\n",
    "\n",
    "```\n",
    "counted_reads = counted_reads.to_frame()\n",
    "```\n",
    "\n",
    "Then, we can use the <code>pd.DataFrame.transpose()</code> or the <code>pd.DataFrame.T</code> functions to transpose our DataFrame. We can combine this with the DataFrame conversion do it all in a single line as follows:\n",
    "\n",
    "```\n",
    "counted_reads = counted_reads.to_frame().transpose()\n",
    "```"
   ]
  },
  {
   "cell_type": "code",
   "execution_count": null,
   "id": "9f8d76d9-f7e4-4ec1-9c66-656b4c8dec5e",
   "metadata": {},
   "outputs": [],
   "source": []
  },
  {
   "cell_type": "code",
   "execution_count": null,
   "id": "be8c201a-554a-4e20-bcba-8e0ddd0e8fc4",
   "metadata": {},
   "outputs": [],
   "source": []
  },
  {
   "cell_type": "markdown",
   "id": "e6157f6c-cd1b-4597-ab6f-cee27d4bc7f0",
   "metadata": {},
   "source": [
    "<h2>Exercise #3: Concatenate <code>read_stats</code> and <code>counted_reads</code></h2>"
   ]
  },
  {
   "cell_type": "markdown",
   "id": "b33666bd-d56d-42b0-b50c-5e7345ec199a",
   "metadata": {},
   "source": [
    "Now it's ready to be concatenated, so we can make use of the <code>pd.concat()</code> function again."
   ]
  },
  {
   "cell_type": "code",
   "execution_count": null,
   "id": "41428c02-d197-449d-abc2-f887dcea7e6a",
   "metadata": {},
   "outputs": [],
   "source": []
  },
  {
   "cell_type": "code",
   "execution_count": null,
   "id": "83a6b65d-8848-4577-bddf-34128a12f76e",
   "metadata": {},
   "outputs": [],
   "source": []
  },
  {
   "cell_type": "markdown",
   "id": "9c662c21-4f90-4311-94da-52e2338feeed",
   "metadata": {},
   "source": [
    "<h2>Exercise #4: Update labels in <code>gene</code> column to remove the starting <code>__</code></h2>"
   ]
  },
  {
   "cell_type": "markdown",
   "id": "d3853f6c-cab0-456c-8005-b0f6f4831f34",
   "metadata": {},
   "source": [
    "So here, we can just rename the labels to remove the starting two underscores <code>__</code>. Otherwise, when we try to use them as labels for our plots, Python will ignore them."
   ]
  },
  {
   "cell_type": "code",
   "execution_count": null,
   "id": "16156537-adc7-45d7-bfd6-0025620f8c4b",
   "metadata": {},
   "outputs": [],
   "source": []
  },
  {
   "cell_type": "markdown",
   "id": "4dbfaf4d-2ecf-4812-8189-4b93c2f68417",
   "metadata": {},
   "source": [
    "<h2>Guided Exercise: Generate a stacked bar plot on count statistics</h2>"
   ]
  },
  {
   "cell_type": "markdown",
   "id": "4a7b99f3-c211-436d-8455-3852ad6053e3",
   "metadata": {},
   "source": [
    "Now let's use that DataFrame to generate a stacked bar plot to obtain our count statistics, so we can do some QC following <code>htseq-counts</code>. If our two samples have dramatically different proportions of reads that were counted, then we'll need to keep that in mind in our later downstream analyses."
   ]
  },
  {
   "cell_type": "markdown",
   "id": "46e3f7c9-9815-4f85-9230-3be22c655891",
   "metadata": {},
   "source": [
    "<h3>Set the <code>gene</code> column as the index</h3>"
   ]
  },
  {
   "cell_type": "markdown",
   "id": "03d10e9e-b877-4c52-a697-ca476d442a81",
   "metadata": {},
   "source": [
    "To simplify the later plotting, we'll use the labels in the <code>gene</code> column as our indices, so the body of the DataFrame only contains numerical values."
   ]
  },
  {
   "cell_type": "code",
   "execution_count": null,
   "id": "a972e745-df95-4132-aefb-25d28d26986d",
   "metadata": {},
   "outputs": [],
   "source": []
  },
  {
   "cell_type": "code",
   "execution_count": null,
   "id": "2195409c-45e5-405d-93f1-3b94f06c13f1",
   "metadata": {},
   "outputs": [],
   "source": []
  },
  {
   "cell_type": "markdown",
   "id": "a2494c88-158b-4354-8751-5a0b97d1a5ad",
   "metadata": {},
   "source": [
    "<h3>Transpose DataFrame</h3>"
   ]
  },
  {
   "cell_type": "markdown",
   "id": "43692967-d6e9-4e1b-be12-e21ecbdd142a",
   "metadata": {},
   "source": [
    "We'll now transpose our DataFrame to make it easier to plot a stacked bar plot using a for loop."
   ]
  },
  {
   "cell_type": "code",
   "execution_count": null,
   "id": "a3553ba6-8a1b-4fa2-932e-13f0fc82d381",
   "metadata": {},
   "outputs": [],
   "source": []
  },
  {
   "cell_type": "code",
   "execution_count": null,
   "id": "56ae54f9-af67-4edf-827f-c7936e4c7d18",
   "metadata": {},
   "outputs": [],
   "source": []
  },
  {
   "cell_type": "markdown",
   "id": "5ff41435-ace8-4167-86ad-63ce77dcb7a6",
   "metadata": {},
   "source": [
    "<h3>Plot count statistics for control and TAZ KO</h3>"
   ]
  },
  {
   "cell_type": "markdown",
   "id": "522ee7b1-b26e-451a-b033-d5ad2a9084db",
   "metadata": {},
   "source": [
    "Now our DataFrame is ready to use for plotting, so we can prepare to set up a for loop to plot a stacked bar plot.\n",
    "\n",
    "Seaborn doesn't have the ability to make a stacked bar plot, but matplotlib can through its <code>plt.bar()</code> function by specifying an additional <code>bottom</code> parameter. This will plot the bottom of a bar plot higher up at the specified Y-axis height, allowing us to stack our bars one on top of another.\n",
    "\n",
    "We can go into <a href=\"https://matplotlib.org/stable/gallery/lines_bars_and_markers/bar_stacked.html\" rel=\"noopener noreferrer\" target=\"_blank\"><u>the documentation for matplotlib</u></a> and find that they describe a way to plot stacked bar plots using the <code>plt.bar()</code> function and a for loop. So let's set something similar up for our count statistics."
   ]
  },
  {
   "cell_type": "code",
   "execution_count": null,
   "id": "11c25941-8a93-4f51-9fbb-8ffdb228d4a8",
   "metadata": {},
   "outputs": [],
   "source": []
  },
  {
   "cell_type": "markdown",
   "id": "a2557237-cfec-486b-afb4-47332f9a7ed7",
   "metadata": {},
   "source": [
    "<h1 style=\"font-size: 40px; margin-bottom: 0px;\">Manual analysis of a single replicate</h1>\n",
    "\n",
    "<hr style=\"margin-left: 0px; border: 0.25px solid; border-color: #000000; width: 700px;\"></hr>"
   ]
  },
  {
   "cell_type": "markdown",
   "id": "e502abcc-67cf-4967-91a7-8974548221fa",
   "metadata": {},
   "source": [
    "For this part, we'll go ahead and take a look at our data from our own control and TAZ KO replicates to see how they compare, and if there seems to be a potentially detectable difference between them. Additional ways of visualizing your expression data both for raw counts and also after performing normalization and/or differential expression can be found in <a href=\"https://academic.oup.com/bib/article/20/6/2044/5066173\" rel=\"noopener noreferrer\" target=\"_blank\"><u>McDermaid et al 2019</u></a>.\n",
    "\n",
    "First, we'll filter out the reads that didn't get counted, leaving us with a data matrix containing just the genes and their respective read counts. We will make use of the <code>pd.DataFrame.str.contains()</code> function again."
   ]
  },
  {
   "cell_type": "code",
   "execution_count": null,
   "id": "69b04954-e942-42cb-8f52-c3e7738e3189",
   "metadata": {},
   "outputs": [],
   "source": []
  },
  {
   "cell_type": "code",
   "execution_count": null,
   "id": "0074ac74-02f0-4c8a-9a31-12d36e5af395",
   "metadata": {},
   "outputs": [],
   "source": []
  },
  {
   "cell_type": "markdown",
   "id": "dd81e7ec-a18a-4d1c-a73d-d1d121d3b317",
   "metadata": {},
   "source": [
    "<h2>Guided Exercise: Plot conditions against each other</h2>"
   ]
  },
  {
   "cell_type": "markdown",
   "id": "aed13fa0-9409-4396-983f-6c1cc7e4b927",
   "metadata": {},
   "source": [
    "Then, let's make a scatter plot of our read counts by plotting our two conditions against one another. The control can be plotted on the X-axis, and the TAZ KO can be plotted on the Y-axis."
   ]
  },
  {
   "cell_type": "code",
   "execution_count": null,
   "id": "c7ba552a-255c-4da5-864f-9a6c3ffc3c83",
   "metadata": {},
   "outputs": [],
   "source": []
  },
  {
   "cell_type": "markdown",
   "id": "088941a0-eb51-4ba3-b77b-4ca1a6589781",
   "metadata": {},
   "source": [
    "We can see that there are fairly large outliers in terms of the number of reads counted for certain genes, making it difficult to compare the lower end of the data. So we can instead plot on a log scale for both the X- and the Y-axes using <code>plt.loglog()</code>. Or we can perform a log transformation on our data."
   ]
  },
  {
   "cell_type": "code",
   "execution_count": null,
   "id": "161add83-5168-44f1-9760-f054a16d28eb",
   "metadata": {},
   "outputs": [],
   "source": []
  },
  {
   "cell_type": "markdown",
   "id": "1f23ebce-d2fe-4b81-a3c7-6601f0c915e7",
   "metadata": {},
   "source": [
    "Now we can see more easily a spread in our data, and each point represents an individual gene in our data matrix. Since we're plotting our control counts against our TAZ KO counts, deviations from X=Y would indicate that there is a different in the number of reads associated with that gene between the two conditions. This would suggest that there is a difference in their expression levels, and further analysis following normalization can help us determine if there is indeed differential expression."
   ]
  },
  {
   "cell_type": "markdown",
   "id": "d6e679ec-f7a1-4464-928a-0be67b52d72d",
   "metadata": {},
   "source": [
    "<h2>MA plots</h2>"
   ]
  },
  {
   "cell_type": "markdown",
   "id": "72d0e14f-0ba7-46cd-9a26-52792ed101c7",
   "metadata": {},
   "source": [
    "MA plots plot the average (A) against the ratio (M) of your dataset, and in RNA-seq, MA plots are commonly used to visualize differential expression levels. These plots have a characteristic arrowhead shape, owing to the fact that low counts lead to larger ratios. "
   ]
  },
  {
   "cell_type": "markdown",
   "id": "78fc80a2-34d4-43f8-88d4-62fd6c6747b9",
   "metadata": {},
   "source": [
    "<h3>Get the ratio of TAZ KO to control</h3>"
   ]
  },
  {
   "cell_type": "markdown",
   "id": "cedbff28-b68d-43c9-9617-53e0a4e4c030",
   "metadata": {},
   "source": [
    "So to get the ratio, we can just divide our TAZ KO counts by our control counts to get a rough idea of whether there may be differences in the expression levels between our TAZ KO and control cells. \n",
    "\n",
    "We can then assign the resulting ratios to a new column in our DataFrame."
   ]
  },
  {
   "cell_type": "code",
   "execution_count": null,
   "id": "848c7b3d-9ea8-4cc3-98a6-8efe7dacab28",
   "metadata": {},
   "outputs": [],
   "source": []
  },
  {
   "cell_type": "markdown",
   "id": "7b7e9a5d-0687-4cc7-80ce-78cd92ddb519",
   "metadata": {},
   "source": [
    "Since we're dividing the TAZ KO by the control, a ratio greater than 1 would indicate higher raw counts for that respective gene when TAZ is KO'ed compared to control, whereas a ratio lower than 1 would indicate the opposite. And a ratio roughly equal to 1 indicates minimal difference in expression level."
   ]
  },
  {
   "cell_type": "markdown",
   "id": "b8cfa429-9c6f-490d-986f-745f6472b38e",
   "metadata": {},
   "source": [
    "<h3>Get the average between TAZ KO and control</h3>"
   ]
  },
  {
   "cell_type": "markdown",
   "id": "5ce4b751-af04-4d73-affa-22beab503b51",
   "metadata": {},
   "source": [
    "We can then calculate the average read count for each gene between TAZ KO and control cells, and if we want, we can filter out genes that are not expressed or too lowly expressed based on the average of the raw counts for both conditions."
   ]
  },
  {
   "cell_type": "code",
   "execution_count": null,
   "id": "1373066a-90cd-4a8a-93b2-5ae047b7029d",
   "metadata": {},
   "outputs": [],
   "source": []
  },
  {
   "cell_type": "code",
   "execution_count": null,
   "id": "ab1194ca-4bcd-47f9-b96e-9e5e74130223",
   "metadata": {},
   "outputs": [],
   "source": []
  },
  {
   "cell_type": "markdown",
   "id": "d5aafed6-ff41-4a85-a82c-50a50fdea983",
   "metadata": {},
   "source": [
    "<h3>Estimate potentially downregulated and upregulated genes</h3>"
   ]
  },
  {
   "cell_type": "markdown",
   "id": "9df33901-678f-4451-8e87-d0c14f279d13",
   "metadata": {},
   "source": [
    "With our single replicate, we take a quick look to see what genes may be upregulated or downregulated by applying a conditional statement based on the ratios.\n",
    "\n",
    "Potentially downregulated genes would then have a ratio less than 1, and potentially upregulated genes would have a ratio greater than 1. \n",
    "\n",
    "So if we want to visualize how many are at least 2-fold different, we would use 0.5 and 2 as our bounds for downregulated and upregulated, respectively."
   ]
  },
  {
   "cell_type": "code",
   "execution_count": null,
   "id": "f30707af-6c3f-4936-80af-afb23a029392",
   "metadata": {},
   "outputs": [],
   "source": []
  },
  {
   "cell_type": "code",
   "execution_count": null,
   "id": "3486dc1c-3746-43a1-a818-b8a392c5c54f",
   "metadata": {},
   "outputs": [],
   "source": []
  },
  {
   "cell_type": "markdown",
   "id": "4e5eedf4-b8f4-4fc6-a589-2a4242f823f3",
   "metadata": {},
   "source": [
    "<h2>Visualize potentially downregulated and upregulated genes</h2>"
   ]
  },
  {
   "cell_type": "markdown",
   "id": "efd73ac2-51b1-4606-8573-4eb0bcf4ee93",
   "metadata": {},
   "source": [
    "Let's take the two scatter plots that we created earlier and update them to allow us to separate visually by color genes that may be upregulated and genes that may be downregulated from those that don't show that much difference between our two conditions."
   ]
  },
  {
   "cell_type": "code",
   "execution_count": null,
   "id": "09bf8966-c9aa-45f0-9757-19e32e7aa558",
   "metadata": {},
   "outputs": [],
   "source": []
  },
  {
   "cell_type": "code",
   "execution_count": null,
   "id": "b3ae0d69-dd8c-40e4-8700-8d7d910e1cf4",
   "metadata": {},
   "outputs": [],
   "source": []
  },
  {
   "cell_type": "markdown",
   "id": "57a03085-eaa1-412d-91f1-f823453730cc",
   "metadata": {},
   "source": [
    "<h1 style=\"font-size: 40px; margin-bottom: 0px;\">References</h1>\n",
    "\n",
    "<hr style=\"margin-left: 0px; border: 0.25px solid; border-color: #000000; width: 400px;\"></hr>"
   ]
  },
  {
   "cell_type": "markdown",
   "id": "1f49182c-0fdd-40b2-9989-89e620337557",
   "metadata": {},
   "source": [
    "<a href=\"https://academic.oup.com/bioinformatics/article/31/2/166/2366196\" rel=\"noopener noreferrer\" target=\"_blank\"><u>Anders et al 2015 Bioinformatics:</u></a> HTSeq—a Python framework to work with high-throughput sequencing data\n",
    "\n",
    "<a href=\"https://academic.oup.com/bioinformatics/article/38/10/2943/6551247\" rel=\"noopener noreferrer\" target=\"_blank\"><u>Putri et al 2022 Bioinformatics:</u></a> Analysing high-throughput sequencing data in Python with HTSeq 2.0\n",
    "\n",
    "<a href=\"https://academic.oup.com/bib/article/20/6/2044/5066173\" rel=\"noopener noreferrer\" target=\"_blank\"><u>McDermaid et al 2019 Brief Bioinform:</u></a> Interpretation of differential gene expression results of RNA-seq data: review and integration"
   ]
  },
  {
   "cell_type": "markdown",
   "id": "c4a135b2-23e2-4c0b-8d34-7c26bdfbcec3",
   "metadata": {},
   "source": []
  }
 ],
 "metadata": {
  "kernelspec": {
   "display_name": "Python [conda env:root] *",
   "language": "python",
   "name": "conda-root-py"
  },
  "language_info": {
   "codemirror_mode": {
    "name": "ipython",
    "version": 3
   },
   "file_extension": ".py",
   "mimetype": "text/x-python",
   "name": "python",
   "nbconvert_exporter": "python",
   "pygments_lexer": "ipython3",
   "version": "3.11.0"
  }
 },
 "nbformat": 4,
 "nbformat_minor": 5
}
