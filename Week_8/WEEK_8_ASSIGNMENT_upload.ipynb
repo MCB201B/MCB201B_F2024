{
 "cells": [
  {
   "cell_type": "markdown",
   "id": "d4f310d7-aba7-4b18-afda-9d7ebc30ebb6",
   "metadata": {},
   "source": [
    "<h1 style=\"font-size: 40px; margin-bottom: 0px;\">Week 8 Assignment</h1>\n",
    "\n",
    "<hr style=\"margin-left: 0px; border: 0.25px solid; border-color: #000000; width: 600px;\"></hr>"
   ]
  },
  {
   "cell_type": "markdown",
   "id": "b2437d52-6a7c-42bf-a87b-1d794f75145d",
   "metadata": {},
   "source": [
    "<p><strong><u>Due: <mark>Wednesday, October 30 at 11:59PM</mark></u></strong></p>\n",
    "\n",
    "<p><strong><u>Total points: 5 pts</u></strong></p>\n",
    "\n",
    "<p><strong><u>To turn in your assignment:</u></strong></p>\n",
    "\n",
    "<ol>\n",
    "    <li>Complete assignment and make sure you have all the outputs requested</li>\n",
    "    <li>Go to your server's file directory and locate this notebook and the two HTML files containing your <i>de novo</i> motif analysis results and your known motif analysis results</li>\n",
    "    <li>Right click and select <strong>Download</strong> to download this notebook and the two HTML files</li>\n",
    "    <li>Navigate to lab class <u><strong><a href=\"https://drive.google.com/drive/folders/1Limmo19dvhZz3qIaDDSnuSrl44yTiHUd?usp=sharing\" rel=\"noopener noreferrer\" target=\"_blank\">Google Drive</a></strong></u></li>\n",
    "    <li>Find your individual folder in the <strong>Assignment Submission folder</strong></li>\n",
    "    <li>Upload your completed notebook and your two HTML files</li>\n",
    "</ol>\n",
    "\n",
    "<p><strong><u>How this assignment will be graded:</u></strong></p>\n",
    "\n",
    "<p>This assignment will make use of Terminal and this notebook. You will be graded on whether or not the code in your Python notebook is correct to achieve the output that you have. You will also be graded on whether or not you have the requested outputs. Note that the outputs from the motif discovery analysis may differ.</p>"
   ]
  },
  {
   "cell_type": "markdown",
   "id": "3d84bb68-831f-48e4-8601-09b53f55656a",
   "metadata": {},
   "source": [
    "<h1>Question 1</h1>"
   ]
  },
  {
   "cell_type": "markdown",
   "id": "88c845d4-33d3-43d8-a2e7-99c618c74d91",
   "metadata": {},
   "source": [
    "<p>1 pt</p>"
   ]
  },
  {
   "cell_type": "markdown",
   "id": "afca20ac-cab2-4f9c-a60a-ab8f0bcf3ba5",
   "metadata": {},
   "source": [
    "Use HOMER to identify the overlapping peaks from both TAZ replicates.\n",
    "\n",
    "Import the data table into this Python notebook.\n",
    "\n",
    "Output the first 5 rows as a stylized table. You don't need to sort anything prior to outputting the first 5 rows."
   ]
  },
  {
   "cell_type": "code",
   "execution_count": null,
   "id": "63e893da-05b4-451b-9f82-75232041424e",
   "metadata": {},
   "outputs": [],
   "source": []
  },
  {
   "cell_type": "markdown",
   "id": "c0bb68ca-b788-4b42-9fe5-387fa7d3f70a",
   "metadata": {},
   "source": [
    "<h1>Question 2</h1>"
   ]
  },
  {
   "cell_type": "markdown",
   "id": "8edd361d-68a2-451d-8744-83c90637920e",
   "metadata": {},
   "source": [
    "<p>1 pt</p>"
   ]
  },
  {
   "cell_type": "markdown",
   "id": "ba225555-fd17-469e-b2a2-d966887d98c1",
   "metadata": {},
   "source": [
    "Generate a DataFrame containing a focused set of overlapping peaks pulled from the peaks that appear in the top 500 most significant peaks in <u>both</u> replicates. "
   ]
  },
  {
   "cell_type": "code",
   "execution_count": null,
   "id": "b5e51275-e7c9-4421-a888-61e571ecf79b",
   "metadata": {},
   "outputs": [],
   "source": []
  },
  {
   "cell_type": "markdown",
   "id": "31ef5db3-3667-4152-b34f-fb6be822db18",
   "metadata": {},
   "source": [
    "<h1>Question 3</h1>"
   ]
  },
  {
   "cell_type": "markdown",
   "id": "730ed0fe-0932-49c8-b092-a119bd76a4f5",
   "metadata": {},
   "source": [
    "<p>1 pt</p>"
   ]
  },
  {
   "cell_type": "markdown",
   "id": "73fb9fdb-388a-4ff4-a75c-dbdf2292b7df",
   "metadata": {},
   "source": [
    "Plot the peak ranks of both replicates against each other on a scatter plot. For this plot, include both the full set of overlapping peaks (in one color) and the focused set of overlapping peaks (in a different color).\n",
    "\n",
    "Label the X- and Y-axis appropriately."
   ]
  },
  {
   "cell_type": "code",
   "execution_count": null,
   "id": "7b7aa9dd-51b5-4db5-b314-53724c1569e7",
   "metadata": {},
   "outputs": [],
   "source": []
  },
  {
   "cell_type": "markdown",
   "id": "30d73380-3c1d-47a3-be23-b3e76795d32a",
   "metadata": {},
   "source": [
    "<h1>Question 4</h1>"
   ]
  },
  {
   "cell_type": "markdown",
   "id": "a39215bb-65b0-4c98-8373-0c739dc96d35",
   "metadata": {},
   "source": [
    "<p>1 pt</p>"
   ]
  },
  {
   "cell_type": "markdown",
   "id": "a33841ce-2541-4767-9f99-392fba39a7a8",
   "metadata": {},
   "source": [
    "Run HOMER to identify the known motifs and <i>de novo</i> motifs from your focused set of overlapping peaks. Submit the output HTML files (knownResults.HTML and homerResults.html) with this Python notebook."
   ]
  },
  {
   "cell_type": "markdown",
   "id": "00e51d32-9854-4889-be28-8c3119906549",
   "metadata": {},
   "source": [
    "<h1>Question 5</h1>"
   ]
  },
  {
   "cell_type": "markdown",
   "id": "757de303-70e5-40c3-904e-35422e32f0d4",
   "metadata": {},
   "source": [
    "<p>1 pt</p>"
   ]
  },
  {
   "cell_type": "markdown",
   "id": "fd0c0dd6-7873-48c6-95ba-bc856ab21659",
   "metadata": {},
   "source": [
    "Plot the motif distribution within &pm;2 kilobases of your focused set of overlapping peaks for your rank 1 <i>de novo</i> motif that you identified through your motif analysis."
   ]
  },
  {
   "cell_type": "code",
   "execution_count": null,
   "id": "48309d72-9ab0-4c70-a1cc-d6d51e6299e8",
   "metadata": {},
   "outputs": [],
   "source": []
  }
 ],
 "metadata": {
  "kernelspec": {
   "display_name": "Python [conda env:root] *",
   "language": "python",
   "name": "conda-root-py"
  },
  "language_info": {
   "codemirror_mode": {
    "name": "ipython",
    "version": 3
   },
   "file_extension": ".py",
   "mimetype": "text/x-python",
   "name": "python",
   "nbconvert_exporter": "python",
   "pygments_lexer": "ipython3",
   "version": "3.11.0"
  }
 },
 "nbformat": 4,
 "nbformat_minor": 5
}
