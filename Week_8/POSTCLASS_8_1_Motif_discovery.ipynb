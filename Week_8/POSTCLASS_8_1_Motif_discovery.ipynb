{
 "cells": [
  {
   "cell_type": "markdown",
   "id": "b09d7d58-3c68-4443-b7aa-de7334d09bf7",
   "metadata": {},
   "source": [
    "<h1 style=\"font-size: 40px; margin-bottom: 0px;\">8.1 Playing with peak data and motif discovery</h1>\n",
    "\n",
    "<hr style=\"margin-left: 0px; border: 0.25px solid; border-color: #000000; width: 900px;\"></hr>"
   ]
  },
  {
   "cell_type": "markdown",
   "id": "20805943-7a5d-45a3-8017-9ad94d8eca15",
   "metadata": {},
   "source": [
    "Today, we'll be switching between Terminal and our Python notebook, but today's lesson will be contained in this file. Last week, we used bowtie2 to align our raw reads to the h19 reference genome. We then took those aligned reads and visualized the aligned reads using IGV. We then used macs2 to identify significant peaks in our taz_1 and taz_2 datasets, and we were able to see how the reads pile up on both sides of the footprint of a DNA binding protein.\n",
    "\n",
    "First, we will install a program called <a href=\"http://homer.ucsd.edu/homer/\" rel=\"noopener noreferrer\" target=\"_blank\"><u>HOMER (Hypergeometric Optimization of Motif EnRichment)</u></a>, and then we will use it to take a look at the distribution of our reads around our summits. We'll also take a closer look at our peak data by looking at the intersection of our peaks, and taking a look at the concordance of the two TAZ replicates. Even though we can't get IDR on here without running into errors, we can still take a look at how well overlapping peaks match up to one another. To do this, we'll make use of Terminal and Python to play around with our data.\n",
    "\n",
    "Once we have our merged peaks, we can perform motif discovery on the overlapping peaks to see what are the binding sites recognized by the DNA binding protein(s) that TAZ is interacting with in order to regulate gene expression.\n",
    "\n",
    "<strong>Learning objectives:</strong>\n",
    "\n",
    "<ul>\n",
    "    <li>Learn to install and use simple HOMER functionality</li>\n",
    "    <li>Learn to plot the peak profile</li>\n",
    "    <li>Identify overlapping peaks</li>\n",
    "    <li>Take a basic look at the concordance of the two replicates</li>\n",
    "    <li>Pull data from peaks ranking high in both replicates</li>\n",
    "</ul>"
   ]
  },
  {
   "cell_type": "code",
   "execution_count": 2,
   "id": "d4ab5444-3165-42c1-9183-ed762990683d",
   "metadata": {},
   "outputs": [],
   "source": [
    "import pandas as pd\n",
    "import numpy as np\n",
    "import matplotlib.pyplot as plt\n",
    "import seaborn as sns"
   ]
  },
  {
   "cell_type": "markdown",
   "id": "9b41a3fb-e529-48f8-aceb-d8d13df6fc2e",
   "metadata": {},
   "source": [
    "<h1 style=\"font-size: 40px; margin-bottom: 0px;\">Installing HOMER</h1>\n",
    "\n",
    "<hr style=\"margin-left: 0px; border: 0.25px solid; border-color: #000000; width: 600px;\"></hr>"
   ]
  },
  {
   "cell_type": "markdown",
   "id": "243ae0cf-6043-4400-88c4-ab9bcbc883a9",
   "metadata": {},
   "source": [
    "HOMER is a multifunctional program that can not only perform motif discovery, which is what we'll be primarily using it for, but it also has a lot of next-gen sequencing analysis functionality. For instance, it can also be used to call peaks, much like macs2.\n",
    "\n",
    "HOMER was primarily developed by Chris Benner at UCSD."
   ]
  },
  {
   "cell_type": "markdown",
   "id": "e9417150-baef-421c-971b-59c29c5d1cb2",
   "metadata": {},
   "source": [
    "I've placed a <code>configureHomer.pl</code> file in our shared class directory. This file will be used to install the files needed for HOMER to run on your Biology Hub server.\n",
    "\n",
    "First, you'll want to make a new directory in your home directory that will hold a <u>copy</u> of the <code>configureHomer.pl</code> file.\n",
    "\n",
    "<h3>Change to home directory</h3>\n",
    "\n",
    "<pre style=\"width: 450px; margin-top: 15px; margin-bottom: 15px; color: #000000; background-color: #EEEEEE; border: 1px solid; border-color: #AAAAAA; padding: 10px; border-radius: 15px; font-size: 12px;\">cd ~</pre>\n",
    "\n",
    "<hr style=\"border: 1px solid; border-color: #BBBBBB;\"></hr>\n",
    "\n",
    "<h3>Make a new directory called <code>homer</code></h3>\n",
    "\n",
    "<pre style=\"width: 450px; margin-top: 15px; margin-bottom: 15px; color: #000000; background-color: #EEEEEE; border: 1px solid; border-color: #AAAAAA; padding: 10px; border-radius: 15px; font-size: 12px;\">mkdir homer</pre>\n",
    "\n",
    "<hr style=\"border: 1px solid; border-color: #BBBBBB;\"></hr>\n",
    "\n",
    "<h3>Copy over <code>configureHomer.pl</code> to your new folder</h3>\n",
    "\n",
    "<pre style=\"width: 450px; margin-top: 15px; margin-bottom: 15px; color: #000000; background-color: #EEEEEE; border: 1px solid; border-color: #AAAAAA; padding: 10px; border-radius: 15px; font-size: 12px;\">cd homer</pre>\n",
    "\n",
    "<pre style=\"width: 450px; margin-top: 15px; margin-bottom: 15px; color: #000000; background-color: #EEEEEE; border: 1px solid; border-color: #AAAAAA; padding: 10px; border-radius: 15px; font-size: 12px;\">cp ~/shared/course/mcb201b-shared-readwrite/configureHomer.pl ./</pre>\n",
    "\n",
    "<hr style=\"border: 1px solid; border-color: #BBBBBB;\"></hr>"
   ]
  },
  {
   "cell_type": "markdown",
   "id": "199c929e-eea4-47aa-90b9-39ba69a5da0b",
   "metadata": {},
   "source": [
    "Once you've copied over <code>configureHomer.pl</code>, you'll now need to run it in order to install the necessary files.\n",
    "\n",
    "<h3>Run <code>configureHomer.pl</code></h3>\n",
    "\n",
    "Since this file uses Perl, another coding language, we will need to run it directly in command line.\n",
    "\n",
    "<pre style=\"width: 450px; margin-top: 15px; margin-bottom: 15px; color: #000000; background-color: #EEEEEE; border: 1px solid; border-color: #AAAAAA; padding: 10px; border-radius: 15px; font-size: 12px;\">perl configureHomer.pl -install</pre>\n",
    "\n",
    "You should see that HOMER is now being installed. There might be a few warnings, but there shouldn't be any errors.\n",
    "\n",
    "<hr style=\"border: 1px solid; border-color: #BBBBBB;\"></hr>\n",
    "\n",
    "<h3>Update PATH to be able to run HOMER</h3>\n",
    "\n",
    "We'll need to tell Terminal where to go to find the different files that HOMER uses. This temporarily updates the PATH, but since the server reinitializes things, you'll need to go to your <code>homer</code> directory and re-run this line to update the PATH each time you start up your server.\n",
    "\n",
    "<pre style=\"width: 450px; margin-top: 15px; margin-bottom: 15px; color: #000000; background-color: #EEEEEE; border: 1px solid; border-color: #AAAAAA; padding: 10px; border-radius: 15px; font-size: 12px;\">PATH=$PATH:/home/jovyan/homer/.//bin/</pre>\n",
    "\n",
    "<hr style=\"border: 1px solid; border-color: #BBBBBB;\"></hr>"
   ]
  },
  {
   "cell_type": "markdown",
   "id": "fc533165-effb-4c8c-bba6-9a6fae2ad822",
   "metadata": {},
   "source": [
    "<h3>Install hg19 genome</h3>\n",
    "\n",
    "Since our alignments were to the hg19 genome, we'll need to install this genome to use with HOMER and then prepare it for use later on when we perform motif discovery. First, let's look at what we currently have installed:\n",
    "\n",
    "<pre style=\"width: 450px; margin-top: 15px; margin-bottom: 15px; color: #000000; background-color: #EEEEEE; border: 1px solid; border-color: #AAAAAA; padding: 10px; border-radius: 15px; font-size: 12px;\">perl configureHomer.pl -list</pre>\n",
    "\n",
    "You should see that we don't have the hg19 genome installed, so let's go ahead and install it:\n",
    "\n",
    "<pre style=\"width: 450px; margin-top: 15px; margin-bottom: 15px; color: #000000; background-color: #EEEEEE; border: 1px solid; border-color: #AAAAAA; padding: 10px; border-radius: 15px; font-size: 12px;\">perl configureHomer.pl -install hg19</pre>\n",
    "\n",
    "<hr style=\"border: 1px solid; border-color: #BBBBBB;\"></hr>\n",
    "\n",
    "<h3>Preparse hg19 genome</h3>\n",
    "\n",
    "Once you've installed the hg19 genome, you'll see a lot of new files under <code>~/homer/data/genomes/h19</code>, and if an analysis requires you to provide an input genome, you can simply specifiy <code>hg19</code>.\n",
    "\n",
    "Before we can use it though, we'll have to prepare it for use in motif discovery by preparsing the genome.\n",
    "\n",
    "<pre style=\"width: 450px; margin-top: 15px; margin-bottom: 15px; color: #000000; background-color: #EEEEEE; border: 1px solid; border-color: #AAAAAA; padding: 10px; border-radius: 15px; font-size: 12px;\">preparseGenome.pl hg19 -size 50</pre>\n",
    "\n",
    "Later on when we perform motif discovery, we can set the size of the region we are analyzing for motifs."
   ]
  },
  {
   "cell_type": "markdown",
   "id": "620d3efc-bb7a-47ec-8e57-c4ed85dcce56",
   "metadata": {},
   "source": [
    "<h1 style=\"font-size: 40px; margin-bottom: 0px;\">Plot peak profile</h1>\n",
    "\n",
    "<hr style=\"margin-left: 0px; border: 0.25px solid; border-color: #000000; width: 600px;\"></hr>"
   ]
  },
  {
   "cell_type": "markdown",
   "id": "1bee32ae-a4fe-46cc-be27-d10d1b83b05c",
   "metadata": {},
   "source": [
    "To get an idea of how all the reads are distributed around their summits, we can plot the peak profile for our two replicates."
   ]
  },
  {
   "cell_type": "markdown",
   "id": "92f05e59-ee42-489d-8074-c98859957934",
   "metadata": {},
   "source": [
    "<h3>Change directories to prepare to plot peak profiles</h3>\n",
    "\n",
    "Change your current working directory to this week's directory and make a folder named <code>plot_profile</code>. Set your current working directory to the new folder you created.\n",
    "\n",
    "<pre style=\"width: 450px; margin-top: 15px; margin-bottom: 15px; color: #000000; background-color: #EEEEEE; border: 1px solid; border-color: #AAAAAA; padding: 10px; border-radius: 15px; font-size: 12px;\">cd ~/MCB201B_F2024/Week_8</pre>\n",
    "\n",
    "<pre style=\"width: 450px; margin-top: 15px; margin-bottom: 15px; color: #000000; background-color: #EEEEEE; border: 1px solid; border-color: #AAAAAA; padding: 10px; border-radius: 15px; font-size: 12px;\">mkdir plot_profile</pre>\n",
    "\n",
    "<pre style=\"width: 450px; margin-top: 15px; margin-bottom: 15px; color: #000000; background-color: #EEEEEE; border: 1px solid; border-color: #AAAAAA; padding: 10px; border-radius: 15px; font-size: 12px;\">cd plot_profile</pre>\n",
    "\n",
    "<hr style=\"border: 1px solid; border-color: #BBBBBB;\"></hr>\n",
    "\n",
    "<h3>Use annotatePeaks.pl to generate histograms</h3>\n",
    "\n",
    "HOMER has a program for peak annotation called <code>annotatePeaks.pl</code>, which like the other HOMER functions, you can run directly in Terminal. <a href=\"http://homer.ucsd.edu/homer/ngs/annotation.html\" rel=\"noopener noreferrer\" target=\"_blank\"><u>Documentation for that is here.</u></a>\n",
    "\n",
    "<code>annotatePeaks.pl</code> is the workhorse of HOMER. It is multifunctional and can be used for a variety of purposes. It's primary purpose is, as it's name implies, to annotate the peaks identified through your peak calling program by identifying nearby genes, distance to the nearest transcription start sites (TSSs), and annotate your peaks with genomic features. It can also be used to generate histograms and heatmaps, which is one of the functions we'll be using it for here.\n",
    "\n",
    "The syntax to use this program in command line is fairly straightforward; however, there are a number of different options that you can invoke that will change how the program runs, resulting in pretty different outputs.\n",
    "\n",
    "If we take a look at the documentation to see how we can use this program:\n",
    "\n",
    "<pre style=\"width: 450px; margin-top: 15px; margin-bottom: 15px; color: #000000; background-color: #EEEEEE; border: 1px solid; border-color: #AAAAAA; padding: 10px; border-radius: 15px; font-size: 12px;\">annotatePeaks.pl &lt;peak file | tss&gt; &lt;genome version&gt; &lbrack;options&rbrack;</pre>\n",
    "\n",
    "We can either supply it with a peak file, such as our <code>.narrowPeak</code> or <code>*_summit.bed</code> output from macs2. Alternatively, we can specify it to carry out a transcription start site (TSS)-centric analysis, in which case a peak file is not needed. Another way that we can alter how <code>annotatePeaks.pl</code> runs is by supplying it with additional options such as <code>-hist</code>, which will generate a histogram output if we supply it with tag counts in the form of a bedGraph file using the option <code>-bedGraph</code>.\n",
    "\n",
    "<hr style=\"border: 1px solid; border-color: #BBBBBB;\"></hr>\n",
    "\n",
    "<h3>Obtain distribution of read counts</h3>\n",
    "\n",
    "To obtain the distribution of reads around the summit for taz_1, you'll need your <code>10M_taz_1_summits.bed</code> file, as well as the bedgraph file that macs2 output, which contains the distribution of reads across the whole genome.\n",
    "\n",
    "<pre style=\"width: 450px; margin-top: 15px; margin-bottom: 15px; color: #000000; background-color: #EEEEEE; border: 1px solid; border-color: #AAAAAA; padding: 10px; border-radius: 15px; font-size: 12px;\">annotatePeaks.pl \\\n",
    "~/MCB201B_F2024/Week_7/macs2/10M_taz_1_summits.bed \\\n",
    "hg19 \\\n",
    "-bedGraph ~/MCB201B_F2024/Week_7/macs2/10M_taz_1_treat_pileup.bdg \\\n",
    "-size 2000 \\\n",
    "-hist 10 > 10M_taz_1_summit_profile.txt</pre>\n",
    "\n",
    "<strong>Let's break down this line of code:</strong>\n",
    "\n",
    "<code>annotatePeaks.pl</code>\n",
    "\n",
    "This calls up the annotatePeaks program within HOMER.\n",
    "\n",
    "<hr style=\"border: 1px solid; border-color: #AAAAAA;\"></hr>\n",
    "\n",
    "<code>~/MCB201B_F2024/Week_7/macs2/10M_taz_1_summits.bed</code>\n",
    "\n",
    "Here, we are providing the annotatePeaks program with a bed file containing the coordinates for our peak summits because we're interested in taking a look at the distribution of read counts around our summits. \n",
    "\n",
    "<hr style=\"border: 1px solid; border-color: #AAAAAA;\"></hr>\n",
    "\n",
    "<code>hg19</code>\n",
    "\n",
    "We specify the reference genome that we want the program to use. We can just provide it with the name of the reference genome <code>hg19</code>, and HOMER will know the directory containing the files for our reference genome that we installed earlier.\n",
    "\n",
    "<hr style=\"border: 1px solid; border-color: #AAAAAA;\"></hr>\n",
    "\n",
    "<code>-bedGraph ~/MCB201B_F2024/Week_7/macs2/10M_taz_1_treat_pileup.bdg</code>\n",
    "\n",
    "While we've provided annotatePeaks with the genomic coordinates to each of our summits, we need to also provide it with information on the read coverage throughout the genome so that it can determine the distribution of reads around our summits. So here, we supply it with the bedGraph file that was generated by macs2, since this file contains information on read coverage for each location in the genome.\n",
    "\n",
    "<hr style=\"border: 1px solid; border-color: #AAAAAA;\"></hr>\n",
    "\n",
    "<code>-size 2000</code>\n",
    "\n",
    "The <code>-size</code> option specifies the size of our region of interest, centered around what we're interested in, which in our case are the peak summits. By specifying a size of 2000, we will be generating a histogram of a region 1kb upstream and downstream of the summit.\n",
    "\n",
    "<hr style=\"border: 1px solid; border-color: #AAAAAA;\"></hr>\n",
    "\n",
    "<code>-hist 10</code>\n",
    "\n",
    "The <code>-hist</code> option changes how annotatePeaks runs. This changes it essentially to \"histogram\" mode, where it will output (into Terminal) the distribution of read coverage around in our specified region of interest. The argument following the <code>-hist</code> option specifies the bin size for the histogram, so with <code>10</code>, we will be looking at the read distribution in intervals of 10.\n",
    "\n",
    "<hr style=\"border: 1px solid; border-color: #AAAAAA;\"></hr>\n",
    "\n",
    "<code>&gt; 10M_taz_1_summit_profile.txt</code>\n",
    "\n",
    "We want annotatePeaks to save the output into a .txt file rather than dumping it into Terminal, so we redirect the output into <code>taz_1_summit_profile.txt</code>"
   ]
  },
  {
   "cell_type": "markdown",
   "id": "22ced3f4-8b46-4b94-8768-7ac6cd4933f9",
   "metadata": {},
   "source": [
    "<h2>Exercise #1: Obtain read count distributions for 10M_taz_2</h2>"
   ]
  },
  {
   "cell_type": "markdown",
   "id": "fe065e3d-25ce-48fd-97cb-8bfd632829c1",
   "metadata": {},
   "source": [
    "For this exercise, see if you can run the <code>annotatePeaks.pl</code> program to generate the histogram for 10M_taz_2."
   ]
  },
  {
   "cell_type": "markdown",
   "id": "95594f11-e9c3-46e4-a708-85f674bdfdb9",
   "metadata": {},
   "source": [
    "<h2>Exercise #2: Plot peak profiles for both replicates</h2>"
   ]
  },
  {
   "cell_type": "markdown",
   "id": "72ba00e1-83d9-4e02-a03f-86a3a5fec45f",
   "metadata": {},
   "source": [
    "Now, see if you can make use of Python to take the output from HOMER to take a look at how the reads are distributed around the summits for both of our TAZ replicates."
   ]
  },
  {
   "cell_type": "markdown",
   "id": "5753893f-8d92-4755-9f3f-bf3e4b4eadaf",
   "metadata": {},
   "source": [
    "First, import both files into their own pandas DataFrames using the <code>pd.read_csv()</code> function:\n",
    "\n",
    "```\n",
    "taz_1_profile = pd.read_csv('~/MCB201B_F2024/Week_8/plot_profile/10M_taz_1_summit_profile.txt',\n",
    "                            delimiter='\\t'\n",
    "                            )\n",
    "```"
   ]
  },
  {
   "cell_type": "code",
   "execution_count": 2,
   "id": "2a092166-149a-4cd6-9c2b-32b647ea4419",
   "metadata": {},
   "outputs": [],
   "source": [
    "taz_1_profile = pd.read_csv('~/MCB201B_F2024/Week_8/plot_profile/10M_taz_1_summit_profile.txt',\n",
    "                            delimiter='\\t'\n",
    "                            )"
   ]
  },
  {
   "cell_type": "markdown",
   "id": "1aa3992b-a32c-45aa-b172-e84c87d45b32",
   "metadata": {},
   "source": [
    "Do the same for taz_2."
   ]
  },
  {
   "cell_type": "code",
   "execution_count": 3,
   "id": "aeb13b1b-0486-428d-847f-5c41370c2c1d",
   "metadata": {},
   "outputs": [],
   "source": [
    "\n",
    "taz_2_profile = pd.read_csv('~/MCB201B_F2024/Week_8/plot_profile/10M_taz_2_summit_profile.txt',\n",
    "                            delimiter='\\t'\n",
    "                            )"
   ]
  },
  {
   "cell_type": "markdown",
   "id": "86fc1e0c-e26d-41b6-ab09-357019b25ab8",
   "metadata": {},
   "source": [
    "Take a look at the first 5 rows."
   ]
  },
  {
   "cell_type": "code",
   "execution_count": 4,
   "id": "4a37a31a-022b-428b-b703-645902faef3d",
   "metadata": {},
   "outputs": [
    {
     "data": {
      "text/html": [
       "<style type=\"text/css\">\n",
       "</style>\n",
       "<table id=\"T_b0ccf\">\n",
       "  <thead>\n",
       "    <tr>\n",
       "      <th class=\"blank level0\" >&nbsp;</th>\n",
       "      <th id=\"T_b0ccf_level0_col0\" class=\"col_heading level0 col0\" >Distance from Center (cmd=annotatePeaks.pl /home/jovyan/MCB201B_F2024/Week_7/macs2/10M_taz_1_summits.bed hg19 -bedGraph /home/jovyan/MCB201B_F2024/Week_7/macs2/10M_taz_1_treat_pileup.bdg -size 2000 -hist 10)</th>\n",
       "      <th id=\"T_b0ccf_level0_col1\" class=\"col_heading level0 col1\" >/home/jovyan/MCB201B_F2024/Week_7/macs2/10M_taz_1_treat_pileup.bdg Coverage</th>\n",
       "      <th id=\"T_b0ccf_level0_col2\" class=\"col_heading level0 col2\" >/home/jovyan/MCB201B_F2024/Week_7/macs2/10M_taz_1_treat_pileup.bdg + Tags</th>\n",
       "      <th id=\"T_b0ccf_level0_col3\" class=\"col_heading level0 col3\" >/home/jovyan/MCB201B_F2024/Week_7/macs2/10M_taz_1_treat_pileup.bdg - Tags</th>\n",
       "    </tr>\n",
       "  </thead>\n",
       "  <tbody>\n",
       "    <tr>\n",
       "      <th id=\"T_b0ccf_level0_row0\" class=\"row_heading level0 row0\" >0</th>\n",
       "      <td id=\"T_b0ccf_row0_col0\" class=\"data row0 col0\" >-1000</td>\n",
       "      <td id=\"T_b0ccf_row0_col1\" class=\"data row0 col1\" >1.873403</td>\n",
       "      <td id=\"T_b0ccf_row0_col2\" class=\"data row0 col2\" >0.475354</td>\n",
       "      <td id=\"T_b0ccf_row0_col3\" class=\"data row0 col3\" >0.475168</td>\n",
       "    </tr>\n",
       "    <tr>\n",
       "      <th id=\"T_b0ccf_level0_row1\" class=\"row_heading level0 row1\" >1</th>\n",
       "      <td id=\"T_b0ccf_row1_col0\" class=\"data row1 col0\" >-990</td>\n",
       "      <td id=\"T_b0ccf_row1_col1\" class=\"data row1 col1\" >1.881765</td>\n",
       "      <td id=\"T_b0ccf_row1_col2\" class=\"data row1 col2\" >0.500302</td>\n",
       "      <td id=\"T_b0ccf_row1_col3\" class=\"data row1 col3\" >0.499466</td>\n",
       "    </tr>\n",
       "    <tr>\n",
       "      <th id=\"T_b0ccf_level0_row2\" class=\"row_heading level0 row2\" >2</th>\n",
       "      <td id=\"T_b0ccf_row2_col0\" class=\"data row2 col0\" >-980</td>\n",
       "      <td id=\"T_b0ccf_row2_col1\" class=\"data row2 col1\" >1.892683</td>\n",
       "      <td id=\"T_b0ccf_row2_col2\" class=\"data row2 col2\" >0.506713</td>\n",
       "      <td id=\"T_b0ccf_row2_col3\" class=\"data row2 col3\" >0.505621</td>\n",
       "    </tr>\n",
       "    <tr>\n",
       "      <th id=\"T_b0ccf_level0_row3\" class=\"row_heading level0 row3\" >3</th>\n",
       "      <td id=\"T_b0ccf_row3_col0\" class=\"data row3 col0\" >-970</td>\n",
       "      <td id=\"T_b0ccf_row3_col1\" class=\"data row3 col1\" >1.909175</td>\n",
       "      <td id=\"T_b0ccf_row3_col2\" class=\"data row3 col2\" >0.524808</td>\n",
       "      <td id=\"T_b0ccf_row3_col3\" class=\"data row3 col3\" >0.523159</td>\n",
       "    </tr>\n",
       "    <tr>\n",
       "      <th id=\"T_b0ccf_level0_row4\" class=\"row_heading level0 row4\" >4</th>\n",
       "      <td id=\"T_b0ccf_row4_col0\" class=\"data row4 col0\" >-960</td>\n",
       "      <td id=\"T_b0ccf_row4_col1\" class=\"data row4 col1\" >1.930546</td>\n",
       "      <td id=\"T_b0ccf_row4_col2\" class=\"data row4 col2\" >0.526016</td>\n",
       "      <td id=\"T_b0ccf_row4_col3\" class=\"data row4 col3\" >0.523879</td>\n",
       "    </tr>\n",
       "  </tbody>\n",
       "</table>\n"
      ],
      "text/plain": [
       "<pandas.io.formats.style.Styler at 0x7f4f60fe6d10>"
      ]
     },
     "execution_count": 4,
     "metadata": {},
     "output_type": "execute_result"
    }
   ],
   "source": [
    "taz_1_profile.head().style"
   ]
  },
  {
   "cell_type": "code",
   "execution_count": 5,
   "id": "39ba09eb-a466-44ca-9b30-5b4807625257",
   "metadata": {},
   "outputs": [
    {
     "data": {
      "text/html": [
       "<style type=\"text/css\">\n",
       "</style>\n",
       "<table id=\"T_bb92a\">\n",
       "  <thead>\n",
       "    <tr>\n",
       "      <th class=\"blank level0\" >&nbsp;</th>\n",
       "      <th id=\"T_bb92a_level0_col0\" class=\"col_heading level0 col0\" >Distance from Center (cmd=annotatePeaks.pl /home/jovyan/MCB201B_F2024/Week_7/macs2/10M_taz_2_summits.bed hg19 -bedGraph /home/jovyan/MCB201B_F2024/Week_7/macs2/10M_taz_2_treat_pileup.bdg -size 2000 -hist 10)</th>\n",
       "      <th id=\"T_bb92a_level0_col1\" class=\"col_heading level0 col1\" >/home/jovyan/MCB201B_F2024/Week_7/macs2/10M_taz_2_treat_pileup.bdg Coverage</th>\n",
       "      <th id=\"T_bb92a_level0_col2\" class=\"col_heading level0 col2\" >/home/jovyan/MCB201B_F2024/Week_7/macs2/10M_taz_2_treat_pileup.bdg + Tags</th>\n",
       "      <th id=\"T_bb92a_level0_col3\" class=\"col_heading level0 col3\" >/home/jovyan/MCB201B_F2024/Week_7/macs2/10M_taz_2_treat_pileup.bdg - Tags</th>\n",
       "    </tr>\n",
       "  </thead>\n",
       "  <tbody>\n",
       "    <tr>\n",
       "      <th id=\"T_bb92a_level0_row0\" class=\"row_heading level0 row0\" >0</th>\n",
       "      <td id=\"T_bb92a_row0_col0\" class=\"data row0 col0\" >-1000</td>\n",
       "      <td id=\"T_bb92a_row0_col1\" class=\"data row0 col1\" >2.307758</td>\n",
       "      <td id=\"T_bb92a_row0_col2\" class=\"data row0 col2\" >0.670165</td>\n",
       "      <td id=\"T_bb92a_row0_col3\" class=\"data row0 col3\" >0.670280</td>\n",
       "    </tr>\n",
       "    <tr>\n",
       "      <th id=\"T_bb92a_level0_row1\" class=\"row_heading level0 row1\" >1</th>\n",
       "      <td id=\"T_bb92a_row1_col0\" class=\"data row1 col0\" >-990</td>\n",
       "      <td id=\"T_bb92a_row1_col1\" class=\"data row1 col1\" >2.311751</td>\n",
       "      <td id=\"T_bb92a_row1_col2\" class=\"data row1 col2\" >0.650656</td>\n",
       "      <td id=\"T_bb92a_row1_col3\" class=\"data row1 col3\" >0.650257</td>\n",
       "    </tr>\n",
       "    <tr>\n",
       "      <th id=\"T_bb92a_level0_row2\" class=\"row_heading level0 row2\" >2</th>\n",
       "      <td id=\"T_bb92a_row2_col0\" class=\"data row2 col0\" >-980</td>\n",
       "      <td id=\"T_bb92a_row2_col1\" class=\"data row2 col1\" >2.335710</td>\n",
       "      <td id=\"T_bb92a_row2_col2\" class=\"data row2 col2\" >0.705533</td>\n",
       "      <td id=\"T_bb92a_row2_col3\" class=\"data row2 col3\" >0.703137</td>\n",
       "    </tr>\n",
       "    <tr>\n",
       "      <th id=\"T_bb92a_level0_row3\" class=\"row_heading level0 row3\" >3</th>\n",
       "      <td id=\"T_bb92a_row3_col0\" class=\"data row3 col0\" >-970</td>\n",
       "      <td id=\"T_bb92a_row3_col1\" class=\"data row3 col1\" >2.349686</td>\n",
       "      <td id=\"T_bb92a_row3_col2\" class=\"data row3 col2\" >0.637792</td>\n",
       "      <td id=\"T_bb92a_row3_col3\" class=\"data row3 col3\" >0.636395</td>\n",
       "    </tr>\n",
       "    <tr>\n",
       "      <th id=\"T_bb92a_level0_row4\" class=\"row_heading level0 row4\" >4</th>\n",
       "      <td id=\"T_bb92a_row4_col0\" class=\"data row4 col0\" >-960</td>\n",
       "      <td id=\"T_bb92a_row4_col1\" class=\"data row4 col1\" >2.371649</td>\n",
       "      <td id=\"T_bb92a_row4_col2\" class=\"data row4 col2\" >0.632459</td>\n",
       "      <td id=\"T_bb92a_row4_col3\" class=\"data row4 col3\" >0.630262</td>\n",
       "    </tr>\n",
       "  </tbody>\n",
       "</table>\n"
      ],
      "text/plain": [
       "<pandas.io.formats.style.Styler at 0x7f4f607dd7d0>"
      ]
     },
     "execution_count": 5,
     "metadata": {},
     "output_type": "execute_result"
    }
   ],
   "source": [
    "taz_2_profile.head().style"
   ]
  },
  {
   "cell_type": "markdown",
   "id": "8ab8bd33-a434-4f62-9860-f4321f41fae7",
   "metadata": {},
   "source": [
    "You can see that the header is a bit long with a lot of extra information that we don't need for plotting. Replace the headers as follows:\n",
    "\n",
    "```\n",
    "taz_1_profile.columns = ['distance_from_center', 'coverage', 'plus_tags', 'minus_tags']\n",
    "```\n",
    "\n",
    "Also do the same for taz_2."
   ]
  },
  {
   "cell_type": "code",
   "execution_count": 6,
   "id": "b5ee42d3-d57e-4af2-976c-bdc82ac7965a",
   "metadata": {},
   "outputs": [],
   "source": [
    "taz_1_profile.columns = ['distance_from_center', 'coverage', 'plus_tags', 'minus_tags']\n",
    "taz_2_profile.columns = ['distance_from_center', 'coverage', 'plus_tags', 'minus_tags']"
   ]
  },
  {
   "cell_type": "markdown",
   "id": "357be9cd-d108-4089-bd61-1aad6d410e76",
   "metadata": {},
   "source": [
    "Take a look to see if the DataFrame updated properly."
   ]
  },
  {
   "cell_type": "code",
   "execution_count": 7,
   "id": "20a31d08-1534-41ba-9b5d-338f0d9ade5b",
   "metadata": {},
   "outputs": [
    {
     "data": {
      "text/html": [
       "<style type=\"text/css\">\n",
       "</style>\n",
       "<table id=\"T_15957\">\n",
       "  <thead>\n",
       "    <tr>\n",
       "      <th class=\"blank level0\" >&nbsp;</th>\n",
       "      <th id=\"T_15957_level0_col0\" class=\"col_heading level0 col0\" >distance_from_center</th>\n",
       "      <th id=\"T_15957_level0_col1\" class=\"col_heading level0 col1\" >coverage</th>\n",
       "      <th id=\"T_15957_level0_col2\" class=\"col_heading level0 col2\" >plus_tags</th>\n",
       "      <th id=\"T_15957_level0_col3\" class=\"col_heading level0 col3\" >minus_tags</th>\n",
       "    </tr>\n",
       "  </thead>\n",
       "  <tbody>\n",
       "    <tr>\n",
       "      <th id=\"T_15957_level0_row0\" class=\"row_heading level0 row0\" >0</th>\n",
       "      <td id=\"T_15957_row0_col0\" class=\"data row0 col0\" >-1000</td>\n",
       "      <td id=\"T_15957_row0_col1\" class=\"data row0 col1\" >1.873403</td>\n",
       "      <td id=\"T_15957_row0_col2\" class=\"data row0 col2\" >0.475354</td>\n",
       "      <td id=\"T_15957_row0_col3\" class=\"data row0 col3\" >0.475168</td>\n",
       "    </tr>\n",
       "    <tr>\n",
       "      <th id=\"T_15957_level0_row1\" class=\"row_heading level0 row1\" >1</th>\n",
       "      <td id=\"T_15957_row1_col0\" class=\"data row1 col0\" >-990</td>\n",
       "      <td id=\"T_15957_row1_col1\" class=\"data row1 col1\" >1.881765</td>\n",
       "      <td id=\"T_15957_row1_col2\" class=\"data row1 col2\" >0.500302</td>\n",
       "      <td id=\"T_15957_row1_col3\" class=\"data row1 col3\" >0.499466</td>\n",
       "    </tr>\n",
       "    <tr>\n",
       "      <th id=\"T_15957_level0_row2\" class=\"row_heading level0 row2\" >2</th>\n",
       "      <td id=\"T_15957_row2_col0\" class=\"data row2 col0\" >-980</td>\n",
       "      <td id=\"T_15957_row2_col1\" class=\"data row2 col1\" >1.892683</td>\n",
       "      <td id=\"T_15957_row2_col2\" class=\"data row2 col2\" >0.506713</td>\n",
       "      <td id=\"T_15957_row2_col3\" class=\"data row2 col3\" >0.505621</td>\n",
       "    </tr>\n",
       "    <tr>\n",
       "      <th id=\"T_15957_level0_row3\" class=\"row_heading level0 row3\" >3</th>\n",
       "      <td id=\"T_15957_row3_col0\" class=\"data row3 col0\" >-970</td>\n",
       "      <td id=\"T_15957_row3_col1\" class=\"data row3 col1\" >1.909175</td>\n",
       "      <td id=\"T_15957_row3_col2\" class=\"data row3 col2\" >0.524808</td>\n",
       "      <td id=\"T_15957_row3_col3\" class=\"data row3 col3\" >0.523159</td>\n",
       "    </tr>\n",
       "    <tr>\n",
       "      <th id=\"T_15957_level0_row4\" class=\"row_heading level0 row4\" >4</th>\n",
       "      <td id=\"T_15957_row4_col0\" class=\"data row4 col0\" >-960</td>\n",
       "      <td id=\"T_15957_row4_col1\" class=\"data row4 col1\" >1.930546</td>\n",
       "      <td id=\"T_15957_row4_col2\" class=\"data row4 col2\" >0.526016</td>\n",
       "      <td id=\"T_15957_row4_col3\" class=\"data row4 col3\" >0.523879</td>\n",
       "    </tr>\n",
       "  </tbody>\n",
       "</table>\n"
      ],
      "text/plain": [
       "<pandas.io.formats.style.Styler at 0x7f4f607bb290>"
      ]
     },
     "execution_count": 7,
     "metadata": {},
     "output_type": "execute_result"
    }
   ],
   "source": [
    "taz_1_profile.head().style"
   ]
  },
  {
   "cell_type": "code",
   "execution_count": 8,
   "id": "f2444d19-8bad-482c-8fb9-eeb3a29c0ca4",
   "metadata": {},
   "outputs": [
    {
     "data": {
      "text/html": [
       "<style type=\"text/css\">\n",
       "</style>\n",
       "<table id=\"T_b6422\">\n",
       "  <thead>\n",
       "    <tr>\n",
       "      <th class=\"blank level0\" >&nbsp;</th>\n",
       "      <th id=\"T_b6422_level0_col0\" class=\"col_heading level0 col0\" >distance_from_center</th>\n",
       "      <th id=\"T_b6422_level0_col1\" class=\"col_heading level0 col1\" >coverage</th>\n",
       "      <th id=\"T_b6422_level0_col2\" class=\"col_heading level0 col2\" >plus_tags</th>\n",
       "      <th id=\"T_b6422_level0_col3\" class=\"col_heading level0 col3\" >minus_tags</th>\n",
       "    </tr>\n",
       "  </thead>\n",
       "  <tbody>\n",
       "    <tr>\n",
       "      <th id=\"T_b6422_level0_row0\" class=\"row_heading level0 row0\" >0</th>\n",
       "      <td id=\"T_b6422_row0_col0\" class=\"data row0 col0\" >-1000</td>\n",
       "      <td id=\"T_b6422_row0_col1\" class=\"data row0 col1\" >2.307758</td>\n",
       "      <td id=\"T_b6422_row0_col2\" class=\"data row0 col2\" >0.670165</td>\n",
       "      <td id=\"T_b6422_row0_col3\" class=\"data row0 col3\" >0.670280</td>\n",
       "    </tr>\n",
       "    <tr>\n",
       "      <th id=\"T_b6422_level0_row1\" class=\"row_heading level0 row1\" >1</th>\n",
       "      <td id=\"T_b6422_row1_col0\" class=\"data row1 col0\" >-990</td>\n",
       "      <td id=\"T_b6422_row1_col1\" class=\"data row1 col1\" >2.311751</td>\n",
       "      <td id=\"T_b6422_row1_col2\" class=\"data row1 col2\" >0.650656</td>\n",
       "      <td id=\"T_b6422_row1_col3\" class=\"data row1 col3\" >0.650257</td>\n",
       "    </tr>\n",
       "    <tr>\n",
       "      <th id=\"T_b6422_level0_row2\" class=\"row_heading level0 row2\" >2</th>\n",
       "      <td id=\"T_b6422_row2_col0\" class=\"data row2 col0\" >-980</td>\n",
       "      <td id=\"T_b6422_row2_col1\" class=\"data row2 col1\" >2.335710</td>\n",
       "      <td id=\"T_b6422_row2_col2\" class=\"data row2 col2\" >0.705533</td>\n",
       "      <td id=\"T_b6422_row2_col3\" class=\"data row2 col3\" >0.703137</td>\n",
       "    </tr>\n",
       "    <tr>\n",
       "      <th id=\"T_b6422_level0_row3\" class=\"row_heading level0 row3\" >3</th>\n",
       "      <td id=\"T_b6422_row3_col0\" class=\"data row3 col0\" >-970</td>\n",
       "      <td id=\"T_b6422_row3_col1\" class=\"data row3 col1\" >2.349686</td>\n",
       "      <td id=\"T_b6422_row3_col2\" class=\"data row3 col2\" >0.637792</td>\n",
       "      <td id=\"T_b6422_row3_col3\" class=\"data row3 col3\" >0.636395</td>\n",
       "    </tr>\n",
       "    <tr>\n",
       "      <th id=\"T_b6422_level0_row4\" class=\"row_heading level0 row4\" >4</th>\n",
       "      <td id=\"T_b6422_row4_col0\" class=\"data row4 col0\" >-960</td>\n",
       "      <td id=\"T_b6422_row4_col1\" class=\"data row4 col1\" >2.371649</td>\n",
       "      <td id=\"T_b6422_row4_col2\" class=\"data row4 col2\" >0.632459</td>\n",
       "      <td id=\"T_b6422_row4_col3\" class=\"data row4 col3\" >0.630262</td>\n",
       "    </tr>\n",
       "  </tbody>\n",
       "</table>\n"
      ],
      "text/plain": [
       "<pandas.io.formats.style.Styler at 0x7f4f607e0410>"
      ]
     },
     "execution_count": 8,
     "metadata": {},
     "output_type": "execute_result"
    }
   ],
   "source": [
    "taz_2_profile.head().style"
   ]
  },
  {
   "cell_type": "markdown",
   "id": "f1fdbde7-9a43-47c9-b548-b5f1994f7914",
   "metadata": {},
   "source": [
    "Now plot both profiles on the same subplot as a lineplot with the X-axis as the distance from the center of the summit and the Y-axis as the coverage."
   ]
  },
  {
   "cell_type": "code",
   "execution_count": 9,
   "id": "f245d22c-2342-4cd0-847e-3b9f42c5f10a",
   "metadata": {},
   "outputs": [
    {
     "data": {
      "text/plain": [
       "<Axes: xlabel='distance_from_center', ylabel='coverage'>"
      ]
     },
     "execution_count": 9,
     "metadata": {},
     "output_type": "execute_result"
    },
    {
     "data": {
      "image/png": "[encoded data removed]",
      "text/plain": [
       "<Figure size 640x480 with 1 Axes>"
      ]
     },
     "metadata": {},
     "output_type": "display_data"
    }
   ],
   "source": [
    "fig, ax = plt.subplots()\n",
    "\n",
    "sns.lineplot(x=taz_1_profile['distance_from_center'],\n",
    "             y=taz_1_profile['coverage']\n",
    "            )\n",
    "\n",
    "sns.lineplot(x=taz_2_profile['distance_from_center'],\n",
    "             y=taz_2_profile['coverage']\n",
    "            )\n"
   ]
  },
  {
   "cell_type": "markdown",
   "id": "8d3d2789-c26f-45e4-a5e7-3c910b5d3b2a",
   "metadata": {},
   "source": [
    "You can see in your plot that while the coverage pattern is similar between the two replicates, they vary slightly in their read depth, with taz_2 having overall higher coverage than taz_1. This is normally expected, since each replicate will have slightly different read counts. The important consideration is that the plot profiles look similar in their shape."
   ]
  },
  {
   "cell_type": "markdown",
   "id": "ca0235c0-6247-4709-aa69-69397532450f",
   "metadata": {},
   "source": [
    "<h1 style=\"font-size: 40px; margin-bottom: 0px;\">Plot TSS-centric read distribution</h1>\n",
    "\n",
    "<hr style=\"margin-left: 0px; border: 0.25px solid; border-color: #000000; width: 600px;\"></hr>"
   ]
  },
  {
   "cell_type": "markdown",
   "id": "3ee8a541-3ebd-4e99-8ca6-ca3e281114a1",
   "metadata": {},
   "source": [
    "The multifunctionality of <code>annotatePeaks.pl</code> means that we can also perform a TSS-centric analysis. In this case, we can supply the program with the <code>tss</code> argument along with our bedGraph files, so it can provide us with the distribution of reads around TSSs. This can help give us an idea into if our protein of interest is regulating its target genes via promoter binding or through more distant interactions.\n",
    "\n",
    "<h3>Make directory to prepare to obtain read distribution around TSS</h3>\n",
    "\n",
    "<pre style=\"width: 450px; margin-top: 15px; margin-bottom: 15px; color: #000000; background-color: #EEEEEE; border: 1px solid; border-color: #AAAAAA; padding: 10px; border-radius: 15px; font-size: 12px;\">mkdir tss_profile</pre>\n",
    "\n",
    "<hr style=\"border: 1px solid; border-color: #BBBBBB;\"></hr>\n",
    "\n",
    "<h3>Change to new directory</h3>\n",
    "\n",
    "<pre style=\"width: 450px; margin-top: 15px; margin-bottom: 15px; color: #000000; background-color: #EEEEEE; border: 1px solid; border-color: #AAAAAA; padding: 10px; border-radius: 15px; font-size: 12px;\">cd tss_profile</pre>\n",
    "\n",
    "<hr style=\"border: 1px solid; border-color: #BBBBBB;\"></hr>\n",
    "\n",
    "<h3>Obtain read distributions around TSS for 10M_taz_1</h3>\n",
    "\n",
    "<pre style=\"width: 450px; margin-top: 15px; margin-bottom: 15px; color: #000000; background-color: #EEEEEE; border: 1px solid; border-color: #AAAAAA; padding: 10px; border-radius: 15px; font-size: 12px;\">annotatePeaks.pl \\\n",
    "tss \\\n",
    "hg19 \\\n",
    "-bedGraph ~/MCB201B_F2024/Week_7/macs2/10M_taz_1_treat_pileup.bdg \\\n",
    "-size 8000 \\\n",
    "-hist 10 \\\n",
    "> 10M_taz_1_tss_profile.txt</pre>\n",
    "\n",
    "Here, we make minor alterations to how we ran the annotatePeaks program to instruct it to focus on TSSs and to provide a larger region of interest. So we provide the <code>tss</code> argument and increase the <code>-size</code> to <code>8000</code>. That way, we'll get an output containing the read distribution centered around TSSs, which we can plot like we did with the summit profile."
   ]
  },
  {
   "cell_type": "markdown",
   "id": "61248949-2ec1-4a13-83e5-29ff44a0287c",
   "metadata": {},
   "source": [
    "<h2>Exercise #3: Plot TSS read distribution</h2>"
   ]
  },
  {
   "cell_type": "markdown",
   "id": "9f393e39-3b19-4b42-ba65-dcd86c5619ac",
   "metadata": {},
   "source": [
    "For this exercise, see if you can plot the read distribution around TSSs for both your 10M_taz_1 and 10M_taz_2 outputs."
   ]
  },
  {
   "cell_type": "markdown",
   "id": "77072eac-31a1-435e-abb7-983e630810a2",
   "metadata": {},
   "source": [
    "First, import your files:"
   ]
  },
  {
   "cell_type": "code",
   "execution_count": 10,
   "id": "1f4d383c-265f-4e0c-a7e1-4c2883267e24",
   "metadata": {},
   "outputs": [
    {
     "data": {
      "text/html": [
       "<style type=\"text/css\">\n",
       "</style>\n",
       "<table id=\"T_d2851\">\n",
       "  <thead>\n",
       "    <tr>\n",
       "      <th class=\"blank level0\" >&nbsp;</th>\n",
       "      <th id=\"T_d2851_level0_col0\" class=\"col_heading level0 col0\" >Distance from Center (cmd=annotatePeaks.pl tss hg19 -bedGraph /home/jovyan/MCB201B_F2024/Week_7/macs2/10M_taz_1_treat_pileup.bdg -size 8000 -hist 10)</th>\n",
       "      <th id=\"T_d2851_level0_col1\" class=\"col_heading level0 col1\" >/home/jovyan/MCB201B_F2024/Week_7/macs2/10M_taz_1_treat_pileup.bdg Coverage</th>\n",
       "      <th id=\"T_d2851_level0_col2\" class=\"col_heading level0 col2\" >/home/jovyan/MCB201B_F2024/Week_7/macs2/10M_taz_1_treat_pileup.bdg + Tags</th>\n",
       "      <th id=\"T_d2851_level0_col3\" class=\"col_heading level0 col3\" >/home/jovyan/MCB201B_F2024/Week_7/macs2/10M_taz_1_treat_pileup.bdg - Tags</th>\n",
       "    </tr>\n",
       "  </thead>\n",
       "  <tbody>\n",
       "    <tr>\n",
       "      <th id=\"T_d2851_level0_row0\" class=\"row_heading level0 row0\" >0</th>\n",
       "      <td id=\"T_d2851_row0_col0\" class=\"data row0 col0\" >-4000</td>\n",
       "      <td id=\"T_d2851_row0_col1\" class=\"data row0 col1\" >0.588917</td>\n",
       "      <td id=\"T_d2851_row0_col2\" class=\"data row0 col2\" >0.014113</td>\n",
       "      <td id=\"T_d2851_row0_col3\" class=\"data row0 col3\" >0.014380</td>\n",
       "    </tr>\n",
       "    <tr>\n",
       "      <th id=\"T_d2851_level0_row1\" class=\"row_heading level0 row1\" >1</th>\n",
       "      <td id=\"T_d2851_row1_col0\" class=\"data row1 col0\" >-3990</td>\n",
       "      <td id=\"T_d2851_row1_col1\" class=\"data row1 col1\" >0.591411</td>\n",
       "      <td id=\"T_d2851_row1_col2\" class=\"data row1 col2\" >0.012937</td>\n",
       "      <td id=\"T_d2851_row1_col3\" class=\"data row1 col3\" >0.012688</td>\n",
       "    </tr>\n",
       "    <tr>\n",
       "      <th id=\"T_d2851_level0_row2\" class=\"row_heading level0 row2\" >2</th>\n",
       "      <td id=\"T_d2851_row2_col0\" class=\"data row2 col0\" >-3980</td>\n",
       "      <td id=\"T_d2851_row2_col1\" class=\"data row2 col1\" >0.592038</td>\n",
       "      <td id=\"T_d2851_row2_col2\" class=\"data row2 col2\" >0.013916</td>\n",
       "      <td id=\"T_d2851_row2_col3\" class=\"data row2 col3\" >0.013854</td>\n",
       "    </tr>\n",
       "    <tr>\n",
       "      <th id=\"T_d2851_level0_row3\" class=\"row_heading level0 row3\" >3</th>\n",
       "      <td id=\"T_d2851_row3_col0\" class=\"data row3 col0\" >-3970</td>\n",
       "      <td id=\"T_d2851_row3_col1\" class=\"data row3 col1\" >0.594470</td>\n",
       "      <td id=\"T_d2851_row3_col2\" class=\"data row3 col2\" >0.014405</td>\n",
       "      <td id=\"T_d2851_row3_col3\" class=\"data row3 col3\" >0.014162</td>\n",
       "    </tr>\n",
       "    <tr>\n",
       "      <th id=\"T_d2851_level0_row4\" class=\"row_heading level0 row4\" >4</th>\n",
       "      <td id=\"T_d2851_row4_col0\" class=\"data row4 col0\" >-3960</td>\n",
       "      <td id=\"T_d2851_row4_col1\" class=\"data row4 col1\" >0.593622</td>\n",
       "      <td id=\"T_d2851_row4_col2\" class=\"data row4 col2\" >0.014789</td>\n",
       "      <td id=\"T_d2851_row4_col3\" class=\"data row4 col3\" >0.014873</td>\n",
       "    </tr>\n",
       "  </tbody>\n",
       "</table>\n"
      ],
      "text/plain": [
       "<pandas.io.formats.style.Styler at 0x7f4f607ca8d0>"
      ]
     },
     "execution_count": 10,
     "metadata": {},
     "output_type": "execute_result"
    }
   ],
   "source": [
    "taz_1_tss_profile = pd.read_csv('~/MCB201B_F2024/Week_8/tss_profile/10M_taz_1_tss_profile.txt',\n",
    "                            delimiter='\\t'\n",
    "                            )\n",
    "taz_2_tss_profile = pd.read_csv('~/MCB201B_F2024/Week_8/tss_profile/10M_taz_2_tss_profile.txt',\n",
    "                            delimiter='\\t'\n",
    "                            )\n",
    "\n",
    "taz_1_tss_profile.head().style"
   ]
  },
  {
   "cell_type": "markdown",
   "id": "9710b5e9-e04c-44d3-9215-4503915b00d6",
   "metadata": {},
   "source": [
    "Update the column headers for convenience:"
   ]
  },
  {
   "cell_type": "code",
   "execution_count": 11,
   "id": "cafe8dae-a75d-4f3f-ad26-43db2e5cd2f1",
   "metadata": {},
   "outputs": [],
   "source": [
    "taz_1_tss_profile.columns = ['distance_from_center', 'coverage', 'plus_tags', 'minus_tags']\n",
    "taz_2_tss_profile.columns = ['distance_from_center', 'coverage', 'plus_tags', 'minus_tags']"
   ]
  },
  {
   "cell_type": "code",
   "execution_count": 12,
   "id": "6cf13138-7083-4700-b7fe-37a68b0e30f5",
   "metadata": {},
   "outputs": [
    {
     "data": {
      "text/html": [
       "<style type=\"text/css\">\n",
       "</style>\n",
       "<table id=\"T_01b30\">\n",
       "  <thead>\n",
       "    <tr>\n",
       "      <th class=\"blank level0\" >&nbsp;</th>\n",
       "      <th id=\"T_01b30_level0_col0\" class=\"col_heading level0 col0\" >distance_from_center</th>\n",
       "      <th id=\"T_01b30_level0_col1\" class=\"col_heading level0 col1\" >coverage</th>\n",
       "      <th id=\"T_01b30_level0_col2\" class=\"col_heading level0 col2\" >plus_tags</th>\n",
       "      <th id=\"T_01b30_level0_col3\" class=\"col_heading level0 col3\" >minus_tags</th>\n",
       "    </tr>\n",
       "  </thead>\n",
       "  <tbody>\n",
       "    <tr>\n",
       "      <th id=\"T_01b30_level0_row0\" class=\"row_heading level0 row0\" >0</th>\n",
       "      <td id=\"T_01b30_row0_col0\" class=\"data row0 col0\" >-4000</td>\n",
       "      <td id=\"T_01b30_row0_col1\" class=\"data row0 col1\" >0.588917</td>\n",
       "      <td id=\"T_01b30_row0_col2\" class=\"data row0 col2\" >0.014113</td>\n",
       "      <td id=\"T_01b30_row0_col3\" class=\"data row0 col3\" >0.014380</td>\n",
       "    </tr>\n",
       "    <tr>\n",
       "      <th id=\"T_01b30_level0_row1\" class=\"row_heading level0 row1\" >1</th>\n",
       "      <td id=\"T_01b30_row1_col0\" class=\"data row1 col0\" >-3990</td>\n",
       "      <td id=\"T_01b30_row1_col1\" class=\"data row1 col1\" >0.591411</td>\n",
       "      <td id=\"T_01b30_row1_col2\" class=\"data row1 col2\" >0.012937</td>\n",
       "      <td id=\"T_01b30_row1_col3\" class=\"data row1 col3\" >0.012688</td>\n",
       "    </tr>\n",
       "    <tr>\n",
       "      <th id=\"T_01b30_level0_row2\" class=\"row_heading level0 row2\" >2</th>\n",
       "      <td id=\"T_01b30_row2_col0\" class=\"data row2 col0\" >-3980</td>\n",
       "      <td id=\"T_01b30_row2_col1\" class=\"data row2 col1\" >0.592038</td>\n",
       "      <td id=\"T_01b30_row2_col2\" class=\"data row2 col2\" >0.013916</td>\n",
       "      <td id=\"T_01b30_row2_col3\" class=\"data row2 col3\" >0.013854</td>\n",
       "    </tr>\n",
       "    <tr>\n",
       "      <th id=\"T_01b30_level0_row3\" class=\"row_heading level0 row3\" >3</th>\n",
       "      <td id=\"T_01b30_row3_col0\" class=\"data row3 col0\" >-3970</td>\n",
       "      <td id=\"T_01b30_row3_col1\" class=\"data row3 col1\" >0.594470</td>\n",
       "      <td id=\"T_01b30_row3_col2\" class=\"data row3 col2\" >0.014405</td>\n",
       "      <td id=\"T_01b30_row3_col3\" class=\"data row3 col3\" >0.014162</td>\n",
       "    </tr>\n",
       "    <tr>\n",
       "      <th id=\"T_01b30_level0_row4\" class=\"row_heading level0 row4\" >4</th>\n",
       "      <td id=\"T_01b30_row4_col0\" class=\"data row4 col0\" >-3960</td>\n",
       "      <td id=\"T_01b30_row4_col1\" class=\"data row4 col1\" >0.593622</td>\n",
       "      <td id=\"T_01b30_row4_col2\" class=\"data row4 col2\" >0.014789</td>\n",
       "      <td id=\"T_01b30_row4_col3\" class=\"data row4 col3\" >0.014873</td>\n",
       "    </tr>\n",
       "  </tbody>\n",
       "</table>\n"
      ],
      "text/plain": [
       "<pandas.io.formats.style.Styler at 0x7f4f5e674510>"
      ]
     },
     "execution_count": 12,
     "metadata": {},
     "output_type": "execute_result"
    }
   ],
   "source": [
    "taz_1_tss_profile.head().style"
   ]
  },
  {
   "cell_type": "markdown",
   "id": "4be9a5b9-7ca0-41c6-9c78-9c8f05fb8995",
   "metadata": {},
   "source": [
    "Plot the distributions:"
   ]
  },
  {
   "cell_type": "code",
   "execution_count": 13,
   "id": "70447c26-dfa6-4f57-9f9a-5572746932cb",
   "metadata": {},
   "outputs": [
    {
     "data": {
      "text/plain": [
       "(0.0, 20.0)"
      ]
     },
     "execution_count": 13,
     "metadata": {},
     "output_type": "execute_result"
    },
    {
     "data": {
      "image/png": "[encoded data removed]",
      "text/plain": [
       "<Figure size 640x480 with 1 Axes>"
      ]
     },
     "metadata": {},
     "output_type": "display_data"
    }
   ],
   "source": [
    "fig, ax = plt.subplots()\n",
    "\n",
    "sns.lineplot(x=taz_1_tss_profile['distance_from_center'],\n",
    "             y=taz_1_tss_profile['coverage']\n",
    "            )\n",
    "\n",
    "sns.lineplot(x=taz_2_tss_profile['distance_from_center'],\n",
    "             y=taz_2_tss_profile['coverage']\n",
    "            )\n",
    "\n",
    "plt.ylim(0, 20)"
   ]
  },
  {
   "cell_type": "markdown",
   "id": "9c5a20ed-0b43-4ba7-95d4-cc0cff8e9049",
   "metadata": {},
   "source": [
    "What does the distribution tell us about the way that TAZ (and its associated DNA-binding protein) is potentially regulating gene transcription?"
   ]
  },
  {
   "cell_type": "markdown",
   "id": "6cd76b95-9864-4279-8a28-a9ea1c3ac9f3",
   "metadata": {},
   "source": [
    "<h1 style=\"font-size: 40px; margin-bottom: 0px;\">Determine distance from TSS</h1>\n",
    "\n",
    "<hr style=\"margin-left: 0px; border: 0.25px solid; border-color: #000000; width: 600px;\"></hr>"
   ]
  },
  {
   "cell_type": "markdown",
   "id": "20bb9442-6cfa-40da-99fd-7f56e5a48d69",
   "metadata": {},
   "source": [
    "The results that we get when we look at the read distributions around TSSs seem to suggest that our peaks may be more distant than &pm;4kbp. What we can then do is take a look at the distribution of distances that our peaks are located from their nearest TSS. That can help give us a little bit more insight into our above result.\n",
    "\n",
    "We'll once again make use of <code>annotatePeaks.pl</code> with slight modifications. If we take a look at <a href=\"http://homer.ucsd.edu/homer/ngs/annotation.html\" rel=\"noopener noreferrer\" target=\"_blank\"><u>the documentation for annotatePeaks</u></a>, among one of the outputs for its basic annotate function is a column containing information on the distance to the nearest TSS, which is what we're interested in.\n",
    "\n",
    "So we can use the basic annotate function of <code>annotatePeaks.pl</code> and focus on TSS annotations.\n",
    "\n",
    "<h3>Create new directory <code>annotation</code></h3>\n",
    "\n",
    "<pre style=\"width: 450px; margin-top: 15px; margin-bottom: 15px; color: #000000; background-color: #EEEEEE; border: 1px solid; border-color: #AAAAAA; padding: 10px; border-radius: 15px; font-size: 12px;\">mkdir annotation</pre>\n",
    "\n",
    "Make sure that you are making your <code>annotation</code> folder in this week's directory.\n",
    "\n",
    "<hr style=\"border: 1px solid; border-color: #BBBBBB;\"></hr>\n",
    "\n",
    "<h3>Change to new directory</h3>\n",
    "\n",
    "<pre style=\"width: 450px; margin-top: 15px; margin-bottom: 15px; color: #000000; background-color: #EEEEEE; border: 1px solid; border-color: #AAAAAA; padding: 10px; border-radius: 15px; font-size: 12px;\">cd annotation</pre>\n",
    "\n",
    "<hr style=\"border: 1px solid; border-color: #BBBBBB;\"></hr>\n",
    "\n",
    "<h3>Annotate to find distance to nearest TSS for 10M_taz_1</h3>\n",
    "\n",
    "<pre style=\"width: 450px; margin-top: 15px; margin-bottom: 15px; color: #000000; background-color: #EEEEEE; border: 1px solid; border-color: #AAAAAA; padding: 10px; border-radius: 15px; font-size: 12px;\">annotatePeaks.pl \\\n",
    "~/MCB201B_F2024/Week_7/macs2/10M_taz_1_peaks.narrowPeak \\\n",
    "hg19 \\\n",
    "-noann \\\n",
    "> 10M_taz_1_annotation.txt</pre>\n",
    "\n",
    "<strong>Let's break down this code:</code>\n",
    "\n",
    "<code>annotatePeaks.pl</code>\n",
    "\n",
    "This calls up the annotatePeaks program.\n",
    "\n",
    "<hr style=\"border: 1px solid; border-color: #AAAAAA;\"></hr>\n",
    "\n",
    "<code>~/MCB201B_F2024/Week_7/macs2/10M_taz_1_peaks.narrowPeak</code>\n",
    "\n",
    "Here, we provide our peak file that contains the peaks and their chromosomal coordinates that we want to annotate.\n",
    "\n",
    "<hr style=\"border: 1px solid; border-color: #AAAAAA;\"></hr>\n",
    "\n",
    "<code>hg19</code>\n",
    "\n",
    "We indicate that we want to use the hg19 reference genome, which we have installed.\n",
    "\n",
    "<hr style=\"border: 1px solid; border-color: #AAAAAA;\"></hr>\n",
    "\n",
    "<code>-noann</code>\n",
    "\n",
    "This option alters how the annotatePeaks program runs. By default the program will mark peak locations based on the genomic feature in which its located (intron, exon, TSS, CDS, etc), and the program will also identify the nearest gene and TSS. By providing the <code>-noann</code>, we are instructing the annotatePeaks program not to annotate peaks for genomic features, and instead, just focus on identifying nearby genes and TSSs. \n",
    "\n",
    "<hr style=\"border: 1px solid; border-color: #AAAAAA;\"></hr>\n",
    "\n",
    "<code>&gt; 10M_taz_1_annotation.txt</code>\n",
    "\n",
    "We redirect the output data into a .txt file that we can then load into Python in order to pull relevant information."
   ]
  },
  {
   "cell_type": "markdown",
   "id": "d815f95a-b853-44ce-88d7-93e298cb0965",
   "metadata": {},
   "source": [
    "<h2>Exercise #4: Annotate 10M_taz_2 as well</h2>"
   ]
  },
  {
   "cell_type": "markdown",
   "id": "da15a751-339d-4fc9-bbfb-a3bdc4be1c50",
   "metadata": {},
   "source": [
    "Now get the annotations for 10M_taz_2 as well."
   ]
  },
  {
   "cell_type": "markdown",
   "id": "e744404f-589a-4517-8414-e74920808194",
   "metadata": {},
   "source": [
    "<h2>Exercise #5: Create barplot of peak distance to TSS</h2>"
   ]
  },
  {
   "cell_type": "markdown",
   "id": "ec7ec527-1f4e-48ff-b5fe-0516e7cfb90b",
   "metadata": {},
   "source": [
    "For this exercise, you'll need to first import your annotated peaks as a DataFrame, like we've done before:"
   ]
  },
  {
   "cell_type": "code",
   "execution_count": 14,
   "id": "7e862d0a-f082-4064-9b20-f573a5498f58",
   "metadata": {},
   "outputs": [],
   "source": [
    "taz_1_annotation = pd.read_csv('~/MCB201B_F2024/Week_8/annotation/10M_taz_1_annotation.txt',\n",
    "                            delimiter='\\t'\n",
    "                            )\n",
    "taz_2_annotation = pd.read_csv('~/MCB201B_F2024/Week_8/annotation/10M_taz_2_annotation.txt',\n",
    "                            delimiter='\\t'\n",
    "                            )"
   ]
  },
  {
   "cell_type": "markdown",
   "id": "278ba7e0-01bb-46fa-80da-59e2489105b8",
   "metadata": {},
   "source": [
    "Take a quick look at the first five rows of one of the DataFrames:"
   ]
  },
  {
   "cell_type": "code",
   "execution_count": 15,
   "id": "e4d17a49-13bf-4465-ba15-246b8b32cc8c",
   "metadata": {},
   "outputs": [
    {
     "data": {
      "text/html": [
       "<style type=\"text/css\">\n",
       "</style>\n",
       "<table id=\"T_e9419\">\n",
       "  <thead>\n",
       "    <tr>\n",
       "      <th class=\"blank level0\" >&nbsp;</th>\n",
       "      <th id=\"T_e9419_level0_col0\" class=\"col_heading level0 col0\" >PeakID (cmd=annotatePeaks.pl /home/jovyan/MCB201B_F2024/Week_7/macs2/10M_taz_1_peaks.narrowPeak hg19 -noann)</th>\n",
       "      <th id=\"T_e9419_level0_col1\" class=\"col_heading level0 col1\" >Chr</th>\n",
       "      <th id=\"T_e9419_level0_col2\" class=\"col_heading level0 col2\" >Start</th>\n",
       "      <th id=\"T_e9419_level0_col3\" class=\"col_heading level0 col3\" >End</th>\n",
       "      <th id=\"T_e9419_level0_col4\" class=\"col_heading level0 col4\" >Strand</th>\n",
       "      <th id=\"T_e9419_level0_col5\" class=\"col_heading level0 col5\" >Peak Score</th>\n",
       "      <th id=\"T_e9419_level0_col6\" class=\"col_heading level0 col6\" >Focus Ratio/Region Size</th>\n",
       "      <th id=\"T_e9419_level0_col7\" class=\"col_heading level0 col7\" >Annotation</th>\n",
       "      <th id=\"T_e9419_level0_col8\" class=\"col_heading level0 col8\" >Detailed Annotation</th>\n",
       "      <th id=\"T_e9419_level0_col9\" class=\"col_heading level0 col9\" >Distance to TSS</th>\n",
       "      <th id=\"T_e9419_level0_col10\" class=\"col_heading level0 col10\" >Nearest PromoterID</th>\n",
       "      <th id=\"T_e9419_level0_col11\" class=\"col_heading level0 col11\" >Entrez ID</th>\n",
       "      <th id=\"T_e9419_level0_col12\" class=\"col_heading level0 col12\" >Nearest Unigene</th>\n",
       "      <th id=\"T_e9419_level0_col13\" class=\"col_heading level0 col13\" >Nearest Refseq</th>\n",
       "      <th id=\"T_e9419_level0_col14\" class=\"col_heading level0 col14\" >Nearest Ensembl</th>\n",
       "      <th id=\"T_e9419_level0_col15\" class=\"col_heading level0 col15\" >Gene Name</th>\n",
       "      <th id=\"T_e9419_level0_col16\" class=\"col_heading level0 col16\" >Gene Alias</th>\n",
       "      <th id=\"T_e9419_level0_col17\" class=\"col_heading level0 col17\" >Gene Description</th>\n",
       "      <th id=\"T_e9419_level0_col18\" class=\"col_heading level0 col18\" >Gene Type</th>\n",
       "    </tr>\n",
       "  </thead>\n",
       "  <tbody>\n",
       "    <tr>\n",
       "      <th id=\"T_e9419_level0_row0\" class=\"row_heading level0 row0\" >0</th>\n",
       "      <td id=\"T_e9419_row0_col0\" class=\"data row0 col0\" >10M_taz_1_peak_1347</td>\n",
       "      <td id=\"T_e9419_row0_col1\" class=\"data row0 col1\" >chr14</td>\n",
       "      <td id=\"T_e9419_row0_col2\" class=\"data row0 col2\" >62221781</td>\n",
       "      <td id=\"T_e9419_row0_col3\" class=\"data row0 col3\" >62222474</td>\n",
       "      <td id=\"T_e9419_row0_col4\" class=\"data row0 col4\" >+</td>\n",
       "      <td id=\"T_e9419_row0_col5\" class=\"data row0 col5\" >2703</td>\n",
       "      <td id=\"T_e9419_row0_col6\" class=\"data row0 col6\" >nan</td>\n",
       "      <td id=\"T_e9419_row0_col7\" class=\"data row0 col7\" >nan</td>\n",
       "      <td id=\"T_e9419_row0_col8\" class=\"data row0 col8\" >nan</td>\n",
       "      <td id=\"T_e9419_row0_col9\" class=\"data row0 col9\" >-4312.000000</td>\n",
       "      <td id=\"T_e9419_row0_col10\" class=\"data row0 col10\" >NR_144368</td>\n",
       "      <td id=\"T_e9419_row0_col11\" class=\"data row0 col11\" >105370526.000000</td>\n",
       "      <td id=\"T_e9419_row0_col12\" class=\"data row0 col12\" >nan</td>\n",
       "      <td id=\"T_e9419_row0_col13\" class=\"data row0 col13\" >NR_144368</td>\n",
       "      <td id=\"T_e9419_row0_col14\" class=\"data row0 col14\" >ENSG00000258667</td>\n",
       "      <td id=\"T_e9419_row0_col15\" class=\"data row0 col15\" >HIF1A-AS3</td>\n",
       "      <td id=\"T_e9419_row0_col16\" class=\"data row0 col16\" >HIFAL</td>\n",
       "      <td id=\"T_e9419_row0_col17\" class=\"data row0 col17\" >HIF1A antisense RNA 3</td>\n",
       "      <td id=\"T_e9419_row0_col18\" class=\"data row0 col18\" >ncRNA</td>\n",
       "    </tr>\n",
       "    <tr>\n",
       "      <th id=\"T_e9419_level0_row1\" class=\"row_heading level0 row1\" >1</th>\n",
       "      <td id=\"T_e9419_row1_col0\" class=\"data row1 col0\" >10M_taz_1_peak_1912</td>\n",
       "      <td id=\"T_e9419_row1_col1\" class=\"data row1 col1\" >chr19</td>\n",
       "      <td id=\"T_e9419_row1_col2\" class=\"data row1 col2\" >1383199</td>\n",
       "      <td id=\"T_e9419_row1_col3\" class=\"data row1 col3\" >1383934</td>\n",
       "      <td id=\"T_e9419_row1_col4\" class=\"data row1 col4\" >+</td>\n",
       "      <td id=\"T_e9419_row1_col5\" class=\"data row1 col5\" >2081</td>\n",
       "      <td id=\"T_e9419_row1_col6\" class=\"data row1 col6\" >nan</td>\n",
       "      <td id=\"T_e9419_row1_col7\" class=\"data row1 col7\" >nan</td>\n",
       "      <td id=\"T_e9419_row1_col8\" class=\"data row1 col8\" >nan</td>\n",
       "      <td id=\"T_e9419_row1_col9\" class=\"data row1 col9\" >-340.000000</td>\n",
       "      <td id=\"T_e9419_row1_col10\" class=\"data row1 col10\" >NM_024407</td>\n",
       "      <td id=\"T_e9419_row1_col11\" class=\"data row1 col11\" >374291.000000</td>\n",
       "      <td id=\"T_e9419_row1_col12\" class=\"data row1 col12\" >nan</td>\n",
       "      <td id=\"T_e9419_row1_col13\" class=\"data row1 col13\" >NM_024407</td>\n",
       "      <td id=\"T_e9419_row1_col14\" class=\"data row1 col14\" >ENSG00000115286</td>\n",
       "      <td id=\"T_e9419_row1_col15\" class=\"data row1 col15\" >NDUFS7</td>\n",
       "      <td id=\"T_e9419_row1_col16\" class=\"data row1 col16\" >CI-20|CI-20KD|MC1DN3|MY017|PSST</td>\n",
       "      <td id=\"T_e9419_row1_col17\" class=\"data row1 col17\" >NADH:ubiquinone oxidoreductase core subunit S7</td>\n",
       "      <td id=\"T_e9419_row1_col18\" class=\"data row1 col18\" >protein-coding</td>\n",
       "    </tr>\n",
       "    <tr>\n",
       "      <th id=\"T_e9419_level0_row2\" class=\"row_heading level0 row2\" >2</th>\n",
       "      <td id=\"T_e9419_row2_col0\" class=\"data row2 col0\" >10M_taz_1_peak_31</td>\n",
       "      <td id=\"T_e9419_row2_col1\" class=\"data row2 col1\" >chr1</td>\n",
       "      <td id=\"T_e9419_row2_col2\" class=\"data row2 col2\" >19378871</td>\n",
       "      <td id=\"T_e9419_row2_col3\" class=\"data row2 col3\" >19379364</td>\n",
       "      <td id=\"T_e9419_row2_col4\" class=\"data row2 col4\" >+</td>\n",
       "      <td id=\"T_e9419_row2_col5\" class=\"data row2 col5\" >1702</td>\n",
       "      <td id=\"T_e9419_row2_col6\" class=\"data row2 col6\" >nan</td>\n",
       "      <td id=\"T_e9419_row2_col7\" class=\"data row2 col7\" >nan</td>\n",
       "      <td id=\"T_e9419_row2_col8\" class=\"data row2 col8\" >nan</td>\n",
       "      <td id=\"T_e9419_row2_col9\" class=\"data row2 col9\" >-95947.000000</td>\n",
       "      <td id=\"T_e9419_row2_col10\" class=\"data row2 col10\" >NM_001136265</td>\n",
       "      <td id=\"T_e9419_row2_col11\" class=\"data row2 col11\" >126917.000000</td>\n",
       "      <td id=\"T_e9419_row2_col12\" class=\"data row2 col12\" >nan</td>\n",
       "      <td id=\"T_e9419_row2_col13\" class=\"data row2 col13\" >NM_001136265</td>\n",
       "      <td id=\"T_e9419_row2_col14\" class=\"data row2 col14\" >ENSG00000169991</td>\n",
       "      <td id=\"T_e9419_row2_col15\" class=\"data row2 col15\" >IFFO2</td>\n",
       "      <td id=\"T_e9419_row2_col16\" class=\"data row2 col16\" >-</td>\n",
       "      <td id=\"T_e9419_row2_col17\" class=\"data row2 col17\" >intermediate filament family orphan 2</td>\n",
       "      <td id=\"T_e9419_row2_col18\" class=\"data row2 col18\" >protein-coding</td>\n",
       "    </tr>\n",
       "    <tr>\n",
       "      <th id=\"T_e9419_level0_row3\" class=\"row_heading level0 row3\" >3</th>\n",
       "      <td id=\"T_e9419_row3_col0\" class=\"data row3 col0\" >10M_taz_1_peak_1768</td>\n",
       "      <td id=\"T_e9419_row3_col1\" class=\"data row3 col1\" >chr17</td>\n",
       "      <td id=\"T_e9419_row3_col2\" class=\"data row3 col2\" >73030385</td>\n",
       "      <td id=\"T_e9419_row3_col3\" class=\"data row3 col3\" >73031437</td>\n",
       "      <td id=\"T_e9419_row3_col4\" class=\"data row3 col4\" >+</td>\n",
       "      <td id=\"T_e9419_row3_col5\" class=\"data row3 col5\" >1558</td>\n",
       "      <td id=\"T_e9419_row3_col6\" class=\"data row3 col6\" >nan</td>\n",
       "      <td id=\"T_e9419_row3_col7\" class=\"data row3 col7\" >nan</td>\n",
       "      <td id=\"T_e9419_row3_col8\" class=\"data row3 col8\" >nan</td>\n",
       "      <td id=\"T_e9419_row3_col9\" class=\"data row3 col9\" >2245.000000</td>\n",
       "      <td id=\"T_e9419_row3_col10\" class=\"data row3 col10\" >NR_110835</td>\n",
       "      <td id=\"T_e9419_row3_col11\" class=\"data row3 col11\" >23510.000000</td>\n",
       "      <td id=\"T_e9419_row3_col12\" class=\"data row3 col12\" >nan</td>\n",
       "      <td id=\"T_e9419_row3_col13\" class=\"data row3 col13\" >NM_015353</td>\n",
       "      <td id=\"T_e9419_row3_col14\" class=\"data row3 col14\" >ENSG00000180901</td>\n",
       "      <td id=\"T_e9419_row3_col15\" class=\"data row3 col15\" >KCTD2</td>\n",
       "      <td id=\"T_e9419_row3_col16\" class=\"data row3 col16\" >-</td>\n",
       "      <td id=\"T_e9419_row3_col17\" class=\"data row3 col17\" >potassium channel tetramerization domain containing 2</td>\n",
       "      <td id=\"T_e9419_row3_col18\" class=\"data row3 col18\" >protein-coding</td>\n",
       "    </tr>\n",
       "    <tr>\n",
       "      <th id=\"T_e9419_level0_row4\" class=\"row_heading level0 row4\" >4</th>\n",
       "      <td id=\"T_e9419_row4_col0\" class=\"data row4 col0\" >10M_taz_1_peak_278</td>\n",
       "      <td id=\"T_e9419_row4_col1\" class=\"data row4 col1\" >chr1</td>\n",
       "      <td id=\"T_e9419_row4_col2\" class=\"data row4 col2\" >161369269</td>\n",
       "      <td id=\"T_e9419_row4_col3\" class=\"data row4 col3\" >161369922</td>\n",
       "      <td id=\"T_e9419_row4_col4\" class=\"data row4 col4\" >+</td>\n",
       "      <td id=\"T_e9419_row4_col5\" class=\"data row4 col5\" >1535</td>\n",
       "      <td id=\"T_e9419_row4_col6\" class=\"data row4 col6\" >nan</td>\n",
       "      <td id=\"T_e9419_row4_col7\" class=\"data row4 col7\" >nan</td>\n",
       "      <td id=\"T_e9419_row4_col8\" class=\"data row4 col8\" >nan</td>\n",
       "      <td id=\"T_e9419_row4_col9\" class=\"data row4 col9\" >-31929.000000</td>\n",
       "      <td id=\"T_e9419_row4_col10\" class=\"data row4 col10\" >NM_001013625</td>\n",
       "      <td id=\"T_e9419_row4_col11\" class=\"data row4 col11\" >257177.000000</td>\n",
       "      <td id=\"T_e9419_row4_col12\" class=\"data row4 col12\" >nan</td>\n",
       "      <td id=\"T_e9419_row4_col13\" class=\"data row4 col13\" >NM_001013625</td>\n",
       "      <td id=\"T_e9419_row4_col14\" class=\"data row4 col14\" >ENSG00000188931</td>\n",
       "      <td id=\"T_e9419_row4_col15\" class=\"data row4 col15\" >CFAP126</td>\n",
       "      <td id=\"T_e9419_row4_col16\" class=\"data row4 col16\" >C1orf192|Flattop|Fltp</td>\n",
       "      <td id=\"T_e9419_row4_col17\" class=\"data row4 col17\" >cilia and flagella associated protein 126</td>\n",
       "      <td id=\"T_e9419_row4_col18\" class=\"data row4 col18\" >protein-coding</td>\n",
       "    </tr>\n",
       "  </tbody>\n",
       "</table>\n"
      ],
      "text/plain": [
       "<pandas.io.formats.style.Styler at 0x7f4f5e5702d0>"
      ]
     },
     "execution_count": 15,
     "metadata": {},
     "output_type": "execute_result"
    }
   ],
   "source": [
    "taz_1_annotation.head().style"
   ]
  },
  {
   "cell_type": "markdown",
   "id": "ff572e79-a6b5-4e9a-9ccf-e8f31b587c87",
   "metadata": {},
   "source": [
    "You can see that the first column header is pretty long. If you want, you can go ahead and rename just that one column header:\n",
    "\n",
    "```\n",
    "taz_1_annotation = taz_1_annotation.rename(columns={'PeakID (cmd=annotatePeaks.pl /home/jovyan/MCB201B_F2024/Week_7/macs2/10M_taz_1_peaks.narrowPeak hg19 -noann)': 'PeakID'})\n",
    "```\n",
    "\n",
    "If your column header is different than what is shown here, you'll need to replace what the example shows with your exact column header. Otherwise, it won't properly replace the header name.\n",
    "\n",
    "You can also update the other DataFrame as well.\n",
    "\n",
    "<a href=\"https://pandas.pydata.org/docs/reference/api/pandas.DataFrame.rename.html\" rel=\"noopener noreferrer\" target=\"_blank\"><u>Documentation for <code>pd.DataFrame.rename()</code> is here.</u></a>"
   ]
  },
  {
   "cell_type": "code",
   "execution_count": 16,
   "id": "182df9ee-5ef5-4d4e-a0e9-ae94f43bcf74",
   "metadata": {},
   "outputs": [
    {
     "data": {
      "text/html": [
       "<style type=\"text/css\">\n",
       "</style>\n",
       "<table id=\"T_72525\">\n",
       "  <thead>\n",
       "    <tr>\n",
       "      <th class=\"blank level0\" >&nbsp;</th>\n",
       "      <th id=\"T_72525_level0_col0\" class=\"col_heading level0 col0\" >PeakID</th>\n",
       "      <th id=\"T_72525_level0_col1\" class=\"col_heading level0 col1\" >Chr</th>\n",
       "      <th id=\"T_72525_level0_col2\" class=\"col_heading level0 col2\" >Start</th>\n",
       "      <th id=\"T_72525_level0_col3\" class=\"col_heading level0 col3\" >End</th>\n",
       "      <th id=\"T_72525_level0_col4\" class=\"col_heading level0 col4\" >Strand</th>\n",
       "      <th id=\"T_72525_level0_col5\" class=\"col_heading level0 col5\" >Peak Score</th>\n",
       "      <th id=\"T_72525_level0_col6\" class=\"col_heading level0 col6\" >Focus Ratio/Region Size</th>\n",
       "      <th id=\"T_72525_level0_col7\" class=\"col_heading level0 col7\" >Annotation</th>\n",
       "      <th id=\"T_72525_level0_col8\" class=\"col_heading level0 col8\" >Detailed Annotation</th>\n",
       "      <th id=\"T_72525_level0_col9\" class=\"col_heading level0 col9\" >Distance to TSS</th>\n",
       "      <th id=\"T_72525_level0_col10\" class=\"col_heading level0 col10\" >Nearest PromoterID</th>\n",
       "      <th id=\"T_72525_level0_col11\" class=\"col_heading level0 col11\" >Entrez ID</th>\n",
       "      <th id=\"T_72525_level0_col12\" class=\"col_heading level0 col12\" >Nearest Unigene</th>\n",
       "      <th id=\"T_72525_level0_col13\" class=\"col_heading level0 col13\" >Nearest Refseq</th>\n",
       "      <th id=\"T_72525_level0_col14\" class=\"col_heading level0 col14\" >Nearest Ensembl</th>\n",
       "      <th id=\"T_72525_level0_col15\" class=\"col_heading level0 col15\" >Gene Name</th>\n",
       "      <th id=\"T_72525_level0_col16\" class=\"col_heading level0 col16\" >Gene Alias</th>\n",
       "      <th id=\"T_72525_level0_col17\" class=\"col_heading level0 col17\" >Gene Description</th>\n",
       "      <th id=\"T_72525_level0_col18\" class=\"col_heading level0 col18\" >Gene Type</th>\n",
       "    </tr>\n",
       "  </thead>\n",
       "  <tbody>\n",
       "    <tr>\n",
       "      <th id=\"T_72525_level0_row0\" class=\"row_heading level0 row0\" >0</th>\n",
       "      <td id=\"T_72525_row0_col0\" class=\"data row0 col0\" >10M_taz_2_peak_1145</td>\n",
       "      <td id=\"T_72525_row0_col1\" class=\"data row0 col1\" >chr14</td>\n",
       "      <td id=\"T_72525_row0_col2\" class=\"data row0 col2\" >62221709</td>\n",
       "      <td id=\"T_72525_row0_col3\" class=\"data row0 col3\" >62222529</td>\n",
       "      <td id=\"T_72525_row0_col4\" class=\"data row0 col4\" >+</td>\n",
       "      <td id=\"T_72525_row0_col5\" class=\"data row0 col5\" >3466</td>\n",
       "      <td id=\"T_72525_row0_col6\" class=\"data row0 col6\" >nan</td>\n",
       "      <td id=\"T_72525_row0_col7\" class=\"data row0 col7\" >nan</td>\n",
       "      <td id=\"T_72525_row0_col8\" class=\"data row0 col8\" >nan</td>\n",
       "      <td id=\"T_72525_row0_col9\" class=\"data row0 col9\" >-4304.000000</td>\n",
       "      <td id=\"T_72525_row0_col10\" class=\"data row0 col10\" >NR_144368</td>\n",
       "      <td id=\"T_72525_row0_col11\" class=\"data row0 col11\" >105370526.000000</td>\n",
       "      <td id=\"T_72525_row0_col12\" class=\"data row0 col12\" >nan</td>\n",
       "      <td id=\"T_72525_row0_col13\" class=\"data row0 col13\" >NR_144368</td>\n",
       "      <td id=\"T_72525_row0_col14\" class=\"data row0 col14\" >ENSG00000258667</td>\n",
       "      <td id=\"T_72525_row0_col15\" class=\"data row0 col15\" >HIF1A-AS3</td>\n",
       "      <td id=\"T_72525_row0_col16\" class=\"data row0 col16\" >HIFAL</td>\n",
       "      <td id=\"T_72525_row0_col17\" class=\"data row0 col17\" >HIF1A antisense RNA 3</td>\n",
       "      <td id=\"T_72525_row0_col18\" class=\"data row0 col18\" >ncRNA</td>\n",
       "    </tr>\n",
       "    <tr>\n",
       "      <th id=\"T_72525_level0_row1\" class=\"row_heading level0 row1\" >1</th>\n",
       "      <td id=\"T_72525_row1_col0\" class=\"data row1 col0\" >10M_taz_2_peak_1603</td>\n",
       "      <td id=\"T_72525_row1_col1\" class=\"data row1 col1\" >chr19</td>\n",
       "      <td id=\"T_72525_row1_col2\" class=\"data row1 col2\" >1383159</td>\n",
       "      <td id=\"T_72525_row1_col3\" class=\"data row1 col3\" >1383910</td>\n",
       "      <td id=\"T_72525_row1_col4\" class=\"data row1 col4\" >+</td>\n",
       "      <td id=\"T_72525_row1_col5\" class=\"data row1 col5\" >1945</td>\n",
       "      <td id=\"T_72525_row1_col6\" class=\"data row1 col6\" >nan</td>\n",
       "      <td id=\"T_72525_row1_col7\" class=\"data row1 col7\" >nan</td>\n",
       "      <td id=\"T_72525_row1_col8\" class=\"data row1 col8\" >nan</td>\n",
       "      <td id=\"T_72525_row1_col9\" class=\"data row1 col9\" >-372.000000</td>\n",
       "      <td id=\"T_72525_row1_col10\" class=\"data row1 col10\" >NM_024407</td>\n",
       "      <td id=\"T_72525_row1_col11\" class=\"data row1 col11\" >374291.000000</td>\n",
       "      <td id=\"T_72525_row1_col12\" class=\"data row1 col12\" >nan</td>\n",
       "      <td id=\"T_72525_row1_col13\" class=\"data row1 col13\" >NM_024407</td>\n",
       "      <td id=\"T_72525_row1_col14\" class=\"data row1 col14\" >ENSG00000115286</td>\n",
       "      <td id=\"T_72525_row1_col15\" class=\"data row1 col15\" >NDUFS7</td>\n",
       "      <td id=\"T_72525_row1_col16\" class=\"data row1 col16\" >CI-20|CI-20KD|MC1DN3|MY017|PSST</td>\n",
       "      <td id=\"T_72525_row1_col17\" class=\"data row1 col17\" >NADH:ubiquinone oxidoreductase core subunit S7</td>\n",
       "      <td id=\"T_72525_row1_col18\" class=\"data row1 col18\" >protein-coding</td>\n",
       "    </tr>\n",
       "    <tr>\n",
       "      <th id=\"T_72525_level0_row2\" class=\"row_heading level0 row2\" >2</th>\n",
       "      <td id=\"T_72525_row2_col0\" class=\"data row2 col0\" >10M_taz_2_peak_712</td>\n",
       "      <td id=\"T_72525_row2_col1\" class=\"data row2 col1\" >chr11</td>\n",
       "      <td id=\"T_72525_row2_col2\" class=\"data row2 col2\" >59317975</td>\n",
       "      <td id=\"T_72525_row2_col3\" class=\"data row2 col3\" >59319443</td>\n",
       "      <td id=\"T_72525_row2_col4\" class=\"data row2 col4\" >+</td>\n",
       "      <td id=\"T_72525_row2_col5\" class=\"data row2 col5\" >1905</td>\n",
       "      <td id=\"T_72525_row2_col6\" class=\"data row2 col6\" >nan</td>\n",
       "      <td id=\"T_72525_row2_col7\" class=\"data row2 col7\" >nan</td>\n",
       "      <td id=\"T_72525_row2_col8\" class=\"data row2 col8\" >nan</td>\n",
       "      <td id=\"T_72525_row2_col9\" class=\"data row2 col9\" >36323.000000</td>\n",
       "      <td id=\"T_72525_row2_col10\" class=\"data row2 col10\" >NM_001004711</td>\n",
       "      <td id=\"T_72525_row2_col11\" class=\"data row2 col11\" >390199.000000</td>\n",
       "      <td id=\"T_72525_row2_col12\" class=\"data row2 col12\" >nan</td>\n",
       "      <td id=\"T_72525_row2_col13\" class=\"data row2 col13\" >NM_001004711</td>\n",
       "      <td id=\"T_72525_row2_col14\" class=\"data row2 col14\" >ENSG00000172742</td>\n",
       "      <td id=\"T_72525_row2_col15\" class=\"data row2 col15\" >OR4D9</td>\n",
       "      <td id=\"T_72525_row2_col16\" class=\"data row2 col16\" >OR11-253</td>\n",
       "      <td id=\"T_72525_row2_col17\" class=\"data row2 col17\" >olfactory receptor family 4 subfamily D member 9</td>\n",
       "      <td id=\"T_72525_row2_col18\" class=\"data row2 col18\" >protein-coding</td>\n",
       "    </tr>\n",
       "    <tr>\n",
       "      <th id=\"T_72525_level0_row3\" class=\"row_heading level0 row3\" >3</th>\n",
       "      <td id=\"T_72525_row3_col0\" class=\"data row3 col0\" >10M_taz_2_peak_3458</td>\n",
       "      <td id=\"T_72525_row3_col1\" class=\"data row3 col1\" >chr9</td>\n",
       "      <td id=\"T_72525_row3_col2\" class=\"data row3 col2\" >137029377</td>\n",
       "      <td id=\"T_72525_row3_col3\" class=\"data row3 col3\" >137030049</td>\n",
       "      <td id=\"T_72525_row3_col4\" class=\"data row3 col4\" >+</td>\n",
       "      <td id=\"T_72525_row3_col5\" class=\"data row3 col5\" >1828</td>\n",
       "      <td id=\"T_72525_row3_col6\" class=\"data row3 col6\" >nan</td>\n",
       "      <td id=\"T_72525_row3_col7\" class=\"data row3 col7\" >nan</td>\n",
       "      <td id=\"T_72525_row3_col8\" class=\"data row3 col8\" >nan</td>\n",
       "      <td id=\"T_72525_row3_col9\" class=\"data row3 col9\" >-27.000000</td>\n",
       "      <td id=\"T_72525_row3_col10\" class=\"data row3 col10\" >NR_023344</td>\n",
       "      <td id=\"T_72525_row3_col11\" class=\"data row3 col11\" >100151684.000000</td>\n",
       "      <td id=\"T_72525_row3_col12\" class=\"data row3 col12\" >nan</td>\n",
       "      <td id=\"T_72525_row3_col13\" class=\"data row3 col13\" >NR_023344</td>\n",
       "      <td id=\"T_72525_row3_col14\" class=\"data row3 col14\" >ENSG00000221676</td>\n",
       "      <td id=\"T_72525_row3_col15\" class=\"data row3 col15\" >RNU6ATAC</td>\n",
       "      <td id=\"T_72525_row3_col16\" class=\"data row3 col16\" >RNU6ATAC1|U6ATAC</td>\n",
       "      <td id=\"T_72525_row3_col17\" class=\"data row3 col17\" >RNA, U6atac small nuclear</td>\n",
       "      <td id=\"T_72525_row3_col18\" class=\"data row3 col18\" >snRNA</td>\n",
       "    </tr>\n",
       "    <tr>\n",
       "      <th id=\"T_72525_level0_row4\" class=\"row_heading level0 row4\" >4</th>\n",
       "      <td id=\"T_72525_row4_col0\" class=\"data row4 col0\" >10M_taz_2_peak_1428</td>\n",
       "      <td id=\"T_72525_row4_col1\" class=\"data row4 col1\" >chr17</td>\n",
       "      <td id=\"T_72525_row4_col2\" class=\"data row4 col2\" >37309742</td>\n",
       "      <td id=\"T_72525_row4_col3\" class=\"data row4 col3\" >37311103</td>\n",
       "      <td id=\"T_72525_row4_col4\" class=\"data row4 col4\" >+</td>\n",
       "      <td id=\"T_72525_row4_col5\" class=\"data row4 col5\" >1781</td>\n",
       "      <td id=\"T_72525_row4_col6\" class=\"data row4 col6\" >nan</td>\n",
       "      <td id=\"T_72525_row4_col7\" class=\"data row4 col7\" >nan</td>\n",
       "      <td id=\"T_72525_row4_col8\" class=\"data row4 col8\" >nan</td>\n",
       "      <td id=\"T_72525_row4_col9\" class=\"data row4 col9\" >-2532.000000</td>\n",
       "      <td id=\"T_72525_row4_col10\" class=\"data row4 col10\" >NM_020405</td>\n",
       "      <td id=\"T_72525_row4_col11\" class=\"data row4 col11\" >57125.000000</td>\n",
       "      <td id=\"T_72525_row4_col12\" class=\"data row4 col12\" >nan</td>\n",
       "      <td id=\"T_72525_row4_col13\" class=\"data row4 col13\" >NM_020405</td>\n",
       "      <td id=\"T_72525_row4_col14\" class=\"data row4 col14\" >ENSG00000161381</td>\n",
       "      <td id=\"T_72525_row4_col15\" class=\"data row4 col15\" >PLXDC1</td>\n",
       "      <td id=\"T_72525_row4_col16\" class=\"data row4 col16\" >TEM3|TEM7</td>\n",
       "      <td id=\"T_72525_row4_col17\" class=\"data row4 col17\" >plexin domain containing 1</td>\n",
       "      <td id=\"T_72525_row4_col18\" class=\"data row4 col18\" >protein-coding</td>\n",
       "    </tr>\n",
       "  </tbody>\n",
       "</table>\n"
      ],
      "text/plain": [
       "<pandas.io.formats.style.Styler at 0x7f4f5e448690>"
      ]
     },
     "execution_count": 16,
     "metadata": {},
     "output_type": "execute_result"
    }
   ],
   "source": [
    "taz_1_annotation = taz_1_annotation.rename(columns={'PeakID (cmd=annotatePeaks.pl /home/jovyan/MCB201B_F2024/Week_7/macs2/10M_taz_1_peaks.narrowPeak hg19 -noann)': 'PeakID'})\n",
    "taz_2_annotation = taz_2_annotation.rename(columns={'PeakID (cmd=annotatePeaks.pl /home/jovyan/MCB201B_F2024/Week_7/macs2/10M_taz_2_peaks.narrowPeak hg19 -noann)': 'PeakID'})\n",
    "\n",
    "taz_2_annotation.head().style"
   ]
  },
  {
   "cell_type": "markdown",
   "id": "276f725f-ca10-4762-93e9-a000947e3c73",
   "metadata": {},
   "source": [
    "You can see in the <code>Distance to TSS</code> column that the values are both positive and negative depending on whether or not the peaks are downstream or upstream to the TSS.\n",
    "\n",
    "We only really care about the absolute distance for our barplots, so we can take the absolute value of the distances using <code>np.abs()</code>. Use this function to pull just the absolute values of the distances to a TSS. <a href=\"https://numpy.org/doc/2.0/reference/generated/numpy.absolute.html\" rel=\"noopener noreferrer\" target=\"_blank\"><u>Documentation for <code>np.abs()</code> is here</u></a>."
   ]
  },
  {
   "cell_type": "code",
   "execution_count": 17,
   "id": "d695b2c6-24d9-4e73-aa13-e0701c3101ed",
   "metadata": {},
   "outputs": [
    {
     "name": "stdout",
     "output_type": "stream",
     "text": [
      "0         4312.0\n",
      "1          340.0\n",
      "2        95947.0\n",
      "3         2245.0\n",
      "4        31929.0\n",
      "          ...   \n",
      "4300    371000.0\n",
      "4301      3153.0\n",
      "4302       489.0\n",
      "4303     47703.0\n",
      "4304    469714.0\n",
      "Name: Distance to TSS, Length: 4305, dtype: float64\n",
      "0         4304.0\n",
      "1          372.0\n",
      "2        36323.0\n",
      "3           27.0\n",
      "4         2532.0\n",
      "          ...   \n",
      "3501       877.0\n",
      "3502     18584.0\n",
      "3503    545635.0\n",
      "3504     91796.0\n",
      "3505      9647.0\n",
      "Name: Distance to TSS, Length: 3506, dtype: float64\n"
     ]
    }
   ],
   "source": [
    "taz_1_annotation['Distance to TSS']\n",
    "\n",
    "taz_1_annotation_abs = np.abs(taz_1_annotation['Distance to TSS'])\n",
    "taz_2_annotation_abs = np.abs(taz_2_annotation['Distance to TSS'])\n",
    "\n",
    "print(taz_1_annotation_abs)\n",
    "print(taz_2_annotation_abs)"
   ]
  },
  {
   "cell_type": "markdown",
   "id": "15ee9ac4-4b64-49d9-8134-cf9b27baf83b",
   "metadata": {},
   "source": [
    "Now convert the values to kilobases:"
   ]
  },
  {
   "cell_type": "code",
   "execution_count": 18,
   "id": "ac640aaf-e7ad-4f0f-a59f-4d2bfe601973",
   "metadata": {},
   "outputs": [
    {
     "name": "stdout",
     "output_type": "stream",
     "text": [
      "0         4.312\n",
      "1         0.340\n",
      "2        95.947\n",
      "3         2.245\n",
      "4        31.929\n",
      "         ...   \n",
      "4300    371.000\n",
      "4301      3.153\n",
      "4302      0.489\n",
      "4303     47.703\n",
      "4304    469.714\n",
      "Name: Distance to TSS, Length: 4305, dtype: float64\n"
     ]
    }
   ],
   "source": [
    "taz_1_annotation_abs_kb = taz_1_annotation_abs.div(1000)\n",
    "taz_2_annotation_abs_kb = taz_2_annotation_abs.div(1000)\n",
    "\n",
    "print(taz_1_annotation_abs_kb)"
   ]
  },
  {
   "cell_type": "markdown",
   "id": "3b6fb359-0413-48b8-922b-a45156e24c6c",
   "metadata": {},
   "source": [
    "Here, I have set up a list of bin ranges for you to use for counting how many values are in each bin. Run the code cell to save the objects to the variable <code>distances</code>."
   ]
  },
  {
   "cell_type": "code",
   "execution_count": 19,
   "id": "3a8616c9-3864-4f21-9d09-edff085e59bb",
   "metadata": {},
   "outputs": [],
   "source": [
    "distances = [[0, 0.999], [1, 9.999], [10, 99.999], [100, np.inf]]"
   ]
  },
  {
   "cell_type": "markdown",
   "id": "92a5b1a9-9f80-44bb-9f1f-c1ade4c717fc",
   "metadata": {},
   "source": [
    "If we want to count the value for a single bin, we can make use of the function <code>pd.Series.value_counts()</code> to obtain a count of all the values in our Series that fall within the indicated range.\n",
    "\n",
    "```\n",
    "print(abs_t1_kb.value_counts(bins=[0,0.999]))\n",
    "```"
   ]
  },
  {
   "cell_type": "code",
   "execution_count": 20,
   "id": "ab18f4c3-3101-4921-ab1b-e3f95c833753",
   "metadata": {},
   "outputs": [
    {
     "name": "stdout",
     "output_type": "stream",
     "text": [
      "(-0.001, 0.999]    302\n",
      "Name: Distance to TSS, dtype: int64\n"
     ]
    }
   ],
   "source": [
    "print(taz_1_annotation_abs_kb.value_counts(bins=[0,0.999]))"
   ]
  },
  {
   "cell_type": "markdown",
   "id": "9ae9f23d-157e-412d-85ff-e9d83b41fd1e",
   "metadata": {},
   "source": [
    "This comes with extra information that we don't need, so we can use the <code>pd.Series.item()</code> to return just the counts and not the extra information.\n",
    "\n",
    "<a href=\"https://pandas.pydata.org/docs/reference/api/pandas.Series.item.html\" rel=\"noopener noreferrer\" target=\"_blank\"><u>Documentation for <code>pd.Series.item()</code> is here.</u></a>\n",
    "\n",
    "```\n",
    "print(abs_t1_kb.value_counts(bins=[0,0.999]).item())\n",
    "```"
   ]
  },
  {
   "cell_type": "code",
   "execution_count": 21,
   "id": "b2f4f46e-bb9e-49d2-8209-dd8d7d9ab98a",
   "metadata": {},
   "outputs": [
    {
     "name": "stdout",
     "output_type": "stream",
     "text": [
      "302\n"
     ]
    }
   ],
   "source": [
    "print(taz_1_annotation_abs_kb.value_counts(bins=[0,0.999]).item())"
   ]
  },
  {
   "cell_type": "markdown",
   "id": "4be7b851-ba91-44c2-b5f9-240df729dd9a",
   "metadata": {},
   "source": [
    "Now set up a for loop that makes use of <code>pd.Series.value_counts().item()</code> to obtain a list of counts for each bin range in <code>distances</code>."
   ]
  },
  {
   "cell_type": "code",
   "execution_count": 22,
   "id": "26cdd730-9bce-4933-8fec-36e7d59cee03",
   "metadata": {},
   "outputs": [
    {
     "data": {
      "text/plain": [
       "[242, 659, 1974, 629]"
      ]
     },
     "execution_count": 22,
     "metadata": {},
     "output_type": "execute_result"
    }
   ],
   "source": [
    "taz1_counts = []\n",
    "taz2_counts = []\n",
    "\n",
    "for i in distances:\n",
    "    taz1_counts.append(taz_1_annotation_abs_kb.value_counts(bins=i).item())\n",
    "    taz2_counts.append(taz_2_annotation_abs_kb.value_counts(bins=i).item())\n",
    "\n",
    "taz2_counts"
   ]
  },
  {
   "cell_type": "markdown",
   "id": "15a8e768-0b52-499c-9910-8def7c7d4068",
   "metadata": {},
   "source": [
    "Convert the counts to a percent of the total counts for each replicate."
   ]
  },
  {
   "cell_type": "code",
   "execution_count": 23,
   "id": "9f788562-1088-455e-9ef5-357ada50fcda",
   "metadata": {},
   "outputs": [
    {
     "name": "stdout",
     "output_type": "stream",
     "text": [
      "[ 7.01835928 19.21914943 54.93841506 18.82407623]\n"
     ]
    }
   ],
   "source": [
    "percent_taz1_counts = (taz1_counts/np.sum(taz1_counts))*100\n",
    "percent_taz2_counts = (taz2_counts/np.sum(taz2_counts))*100\n",
    "\n",
    "print(percent_taz1_counts)"
   ]
  },
  {
   "cell_type": "markdown",
   "id": "cbca002f-a681-4fff-be5f-a0647f1a1f90",
   "metadata": {},
   "source": [
    "Plot a barplot of the counts."
   ]
  },
  {
   "cell_type": "code",
   "execution_count": 24,
   "id": "d3b4526e-86ea-48fa-bb65-0e25f58411be",
   "metadata": {},
   "outputs": [
    {
     "data": {
      "text/plain": [
       "Text(0, 0.5, 'Percent of total peaks')"
      ]
     },
     "execution_count": 24,
     "metadata": {},
     "output_type": "execute_result"
    },
    {
     "data": {
      "image/png": "[encoded data removed]",
      "text/plain": [
       "<Figure size 640x480 with 1 Axes>"
      ]
     },
     "metadata": {},
     "output_type": "display_data"
    }
   ],
   "source": [
    "fig, ax = plt.subplots()\n",
    "\n",
    "sns.barplot(percent_taz1_counts, alpha=0.5)\n",
    "sns.barplot(percent_taz2_counts, alpha=0.5)\n",
    "\n",
    "ax.set_xticks([0,1,2,3], ['0-1', '1-10', '10-100', '100+'])\n",
    "plt.xlabel('Distance to TSS (kilobases)')\n",
    "plt.ylabel('Percent of total peaks')"
   ]
  },
  {
   "cell_type": "markdown",
   "id": "44fd40b9-27d5-4a84-aae2-b978dda09994",
   "metadata": {},
   "source": [
    "What do the distribution of peak distances to TSS suggest to us about how TAZ is regulating gene expression?"
   ]
  },
  {
   "cell_type": "markdown",
   "id": "d5447f58-7c8e-4e4b-af0e-b0eeb2a18bfc",
   "metadata": {},
   "source": [
    "<h1 style=\"font-size: 40px; margin-bottom: 0px;\">Find concordant peaks between two replicates</h1>\n",
    "\n",
    "<hr style=\"margin-left: 0px; border: 0.25px solid; border-color: #000000; width: 900px;\"></hr>"
   ]
  },
  {
   "cell_type": "markdown",
   "id": "a01384fa-b896-4404-b406-22957378c2f1",
   "metadata": {},
   "source": [
    "Currently, we have two replicates with thousands of identified peaks that were found to be significant compared to the background levels (using our pooled IgG sequencing data). However, not all those peaks will be the same between replicates, due to biological and experimental variability, so we'll want to focus on just those peaks that are present in both our replicates for a more focused downstream analysis."
   ]
  },
  {
   "cell_type": "markdown",
   "id": "7e034af4-5ff6-4cc4-9e0d-ccf7efff723b",
   "metadata": {},
   "source": [
    "<h2>HOMER's mergePeaks program</h2>"
   ]
  },
  {
   "cell_type": "markdown",
   "id": "4e572b12-a203-4485-afc4-728cf12ca9a9",
   "metadata": {},
   "source": [
    "To find peaks that are shared between our two replicates, we will make use of the <code>mergePeaks</code> program, and we'll provide it with the .narrowPeak files for both our replicates for analysis.\n",
    "\n",
    "<a href=\"http://homer.ucsd.edu/homer/ngs/mergePeaks.html\" rel=\"noopener noreferrer\" target=\"_blank\"><u>Documentation for the <code>mergePeaks</code> utility is here.</u></a>\n",
    "\n",
    "If we take a look at the command line structure to use this program to pull overlapping peaks:\n",
    "\n",
    "<pre style=\"width: 750px; margin-top: 15px; margin-bottom: 15px; color: #000000; background-color: #EEEEEE; border: 1px solid; border-color: #AAAAAA; padding: 10px; border-radius: 15px; font-size: 12px;\">mergePeaks -d &lt;max distance to merge&gt; &lt;peak file 1&gt; &lt;peak file 2&gt; &lbrack;peak file N&rbrack; &lbrack;options&rbrack; -prefix &lt;base name&gt;</pre>"
   ]
  },
  {
   "cell_type": "markdown",
   "id": "b58fe98b-009f-486c-8188-439ab9cd043c",
   "metadata": {},
   "source": [
    "<h3>Create <code>merged</code> directory and enter it</h3>\n",
    "\n",
    "<pre style=\"width: 450px; margin-top: 15px; margin-bottom: 15px; color: #000000; background-color: #EEEEEE; border: 1px solid; border-color: #AAAAAA; padding: 10px; border-radius: 15px; font-size: 12px;\">mkdir merged</pre>\n",
    "\n",
    "Make sure that you are making your <code>merged</code> folder in this week's directory.\n",
    "\n",
    "<pre style=\"width: 450px; margin-top: 15px; margin-bottom: 15px; color: #000000; background-color: #EEEEEE; border: 1px solid; border-color: #AAAAAA; padding: 10px; border-radius: 15px; font-size: 12px;\">cd merged</pre>\n",
    "\n",
    "<hr style=\"border: 1px solid; border-color: #BBBBBB;\"></hr>\n",
    "\n",
    "<h3>Find overlapping peaks and unique peaks</h3>\n",
    "\n",
    "<pre style=\"width: 450px; margin-top: 15px; margin-bottom: 15px; color: #000000; background-color: #EEEEEE; border: 1px solid; border-color: #AAAAAA; padding: 10px; border-radius: 15px; font-size: 12px;\">mergePeaks \\\n",
    "-d 100 \\\n",
    "~/MCB201B_F2024/Week_7/macs2/10M_taz_1_peaks.narrowPeak \\\n",
    "~/MCB201B_F2024/Week_7/macs2/10M_taz_2_peaks.narrowPeak \\\n",
    "-prefix merged</pre>\n",
    "\n",
    "<strong>Let's break down the code:</strong>\n",
    "\n",
    "<code>mergePeaks</code>\n",
    "\n",
    "Here, we are calling up the mergePeaks program.\n",
    "\n",
    "<hr style=\"border: 1px solid; border-color: #AAAAAA;\"></hr>\n",
    "\n",
    "<code>-d 100</code>\n",
    "\n",
    "Here, we provide the program with the maximum distance that we would like it to merge peaks based on the distance between the peak centers. So peaks whose centers are greater than 100bp apart will not be considered overlapping.\n",
    "\n",
    "<hr style=\"border: 1px solid; border-color: #AAAAAA;\"></hr>\n",
    "\n",
    "<code>~/MCB201B_F2024/Week_7/macs2/10M_taz_1_peaks.narrowPeak</code>\n",
    "\n",
    "The .narrowPeak file corresponding to our first replicate that we want it to pull peak information from.\n",
    "\n",
    "<hr style=\"border: 1px solid; border-color: #AAAAAA;\"></hr>\n",
    "\n",
    "<code>~/MCB201B_F2024/Week_7/macs2/10M_taz_1_peaks.narrowPeak</code>\n",
    "\n",
    "The .narrowPeak file corresponding to our second replicate. mergePeaks will identify the overlapping peaks from the two files we supply it. We can also supply it with additional files, and it will analyze all of them.\n",
    "\n",
    "<hr style=\"border: 1px solid; border-color: #AAAAAA;\"></hr>\n",
    "\n",
    "<code>-prefix merged</code>\n",
    "\n",
    "Here, we supply it with the basename that we want it to add to all the files that it outputs. Based on how we set up the command, we will have three output files, two that correspond to unique peaks present in their respective replicates and one that contains the information on overlapping peaks, which is the file that we're most interested in."
   ]
  },
  {
   "cell_type": "markdown",
   "id": "98d8fde6-4266-48ad-adfe-ea887c899ace",
   "metadata": {},
   "source": [
    "<h3>Simplify output file names</h3>\n",
    "\n",
    "If you take a look in your File Browser, you can see the three outputs, and they have rather long, unwieldy names, especially the file containing our overlapping peaks. So let's just directly in the File Browser rename the files for simplicity's sake.\n",
    "\n",
    "Rename the file containing the overlapping peaks to: <code>merged_taz_peaks.narrowPeak</code>\n",
    "\n",
    "<hr style=\"border: 1px solid; border-color: #BBBBBB;\"></hr>"
   ]
  },
  {
   "cell_type": "markdown",
   "id": "f2f08fdc-e29b-4d24-90cd-ea3f2195384f",
   "metadata": {},
   "source": [
    "<h2>Import <code>merged_taz_peaks.narrowPeak</code> as a DataFrame</h2>\n",
    "\n",
    "Now let's take a look at the information contained within the file by importing into our Python notebook.\n",
    "\n",
    "First, import the .narrowPeak file using <code>pd.read_csv()</code> like we've done earlier."
   ]
  },
  {
   "cell_type": "code",
   "execution_count": 25,
   "id": "dd75e786-cc43-4175-8069-3d1f59a68b2f",
   "metadata": {},
   "outputs": [],
   "source": [
    "merged_peaks = pd.read_csv('~/MCB201B_F2024/Week_8/merged/merged_taz_peaks.narrowPeak',\n",
    "                            delimiter='\\t'\n",
    "                            )"
   ]
  },
  {
   "cell_type": "markdown",
   "id": "f2455272-6227-4a5c-b466-d0cde07b6eb8",
   "metadata": {},
   "source": [
    "Now let's look at the first five rows to check if it imported okay."
   ]
  },
  {
   "cell_type": "code",
   "execution_count": 26,
   "id": "82f6c158-5803-44d8-b88c-cd110dd9fae8",
   "metadata": {},
   "outputs": [
    {
     "data": {
      "text/html": [
       "<style type=\"text/css\">\n",
       "</style>\n",
       "<table id=\"T_13719\">\n",
       "  <thead>\n",
       "    <tr>\n",
       "      <th class=\"blank level0\" >&nbsp;</th>\n",
       "      <th id=\"T_13719_level0_col0\" class=\"col_heading level0 col0\" >#name (cmd = mergePeaks -d 100 /home/jovyan/MCB201B_F2024/Week_7/macs2/10M_taz_1_peaks.narrowPeak /home/jovyan/MCB201B_F2024/Week_7/macs2/10M_taz_2_peaks.narrowPeak -prefix merged)</th>\n",
       "      <th id=\"T_13719_level0_col1\" class=\"col_heading level0 col1\" >chr</th>\n",
       "      <th id=\"T_13719_level0_col2\" class=\"col_heading level0 col2\" >start</th>\n",
       "      <th id=\"T_13719_level0_col3\" class=\"col_heading level0 col3\" >end</th>\n",
       "      <th id=\"T_13719_level0_col4\" class=\"col_heading level0 col4\" >strand</th>\n",
       "      <th id=\"T_13719_level0_col5\" class=\"col_heading level0 col5\" >Stat</th>\n",
       "      <th id=\"T_13719_level0_col6\" class=\"col_heading level0 col6\" >Parent files</th>\n",
       "      <th id=\"T_13719_level0_col7\" class=\"col_heading level0 col7\" >Total subpeaks</th>\n",
       "      <th id=\"T_13719_level0_col8\" class=\"col_heading level0 col8\" >/home/jovyan/MCB201B_F2024/Week_7/macs2/10M_taz_1_peaks.narrowPeak</th>\n",
       "      <th id=\"T_13719_level0_col9\" class=\"col_heading level0 col9\" >/home/jovyan/MCB201B_F2024/Week_7/macs2/10M_taz_2_peaks.narrowPeak</th>\n",
       "    </tr>\n",
       "  </thead>\n",
       "  <tbody>\n",
       "    <tr>\n",
       "      <th id=\"T_13719_level0_row0\" class=\"row_heading level0 row0\" >0</th>\n",
       "      <td id=\"T_13719_row0_col0\" class=\"data row0 col0\" >Merged-chr20-32497481-2</td>\n",
       "      <td id=\"T_13719_row0_col1\" class=\"data row0 col1\" >chr20</td>\n",
       "      <td id=\"T_13719_row0_col2\" class=\"data row0 col2\" >32497405</td>\n",
       "      <td id=\"T_13719_row0_col3\" class=\"data row0 col3\" >32497557</td>\n",
       "      <td id=\"T_13719_row0_col4\" class=\"data row0 col4\" >+</td>\n",
       "      <td id=\"T_13719_row0_col5\" class=\"data row0 col5\" >0.000000</td>\n",
       "      <td id=\"T_13719_row0_col6\" class=\"data row0 col6\" >/home/jovyan/MCB201B_F2024/Week_7/macs2/10M_taz_1_peaks.narrowPeak|/home/jovyan/MCB201B_F2024/Week_7/macs2/10M_taz_2_peaks.narrowPeak</td>\n",
       "      <td id=\"T_13719_row0_col7\" class=\"data row0 col7\" >2</td>\n",
       "      <td id=\"T_13719_row0_col8\" class=\"data row0 col8\" >10M_taz_1_peak_2400</td>\n",
       "      <td id=\"T_13719_row0_col9\" class=\"data row0 col9\" >10M_taz_2_peak_1962</td>\n",
       "    </tr>\n",
       "    <tr>\n",
       "      <th id=\"T_13719_level0_row1\" class=\"row_heading level0 row1\" >1</th>\n",
       "      <td id=\"T_13719_row1_col0\" class=\"data row1 col0\" >Merged-chr20-32978672-2</td>\n",
       "      <td id=\"T_13719_row1_col1\" class=\"data row1 col1\" >chr20</td>\n",
       "      <td id=\"T_13719_row1_col2\" class=\"data row1 col2\" >32978614</td>\n",
       "      <td id=\"T_13719_row1_col3\" class=\"data row1 col3\" >32978730</td>\n",
       "      <td id=\"T_13719_row1_col4\" class=\"data row1 col4\" >+</td>\n",
       "      <td id=\"T_13719_row1_col5\" class=\"data row1 col5\" >0.000000</td>\n",
       "      <td id=\"T_13719_row1_col6\" class=\"data row1 col6\" >/home/jovyan/MCB201B_F2024/Week_7/macs2/10M_taz_1_peaks.narrowPeak|/home/jovyan/MCB201B_F2024/Week_7/macs2/10M_taz_2_peaks.narrowPeak</td>\n",
       "      <td id=\"T_13719_row1_col7\" class=\"data row1 col7\" >2</td>\n",
       "      <td id=\"T_13719_row1_col8\" class=\"data row1 col8\" >10M_taz_1_peak_2401</td>\n",
       "      <td id=\"T_13719_row1_col9\" class=\"data row1 col9\" >10M_taz_2_peak_1963</td>\n",
       "    </tr>\n",
       "    <tr>\n",
       "      <th id=\"T_13719_level0_row2\" class=\"row_heading level0 row2\" >2</th>\n",
       "      <td id=\"T_13719_row2_col0\" class=\"data row2 col0\" >Merged-chr20-33113793-2</td>\n",
       "      <td id=\"T_13719_row2_col1\" class=\"data row2 col1\" >chr20</td>\n",
       "      <td id=\"T_13719_row2_col2\" class=\"data row2 col2\" >33113732</td>\n",
       "      <td id=\"T_13719_row2_col3\" class=\"data row2 col3\" >33113855</td>\n",
       "      <td id=\"T_13719_row2_col4\" class=\"data row2 col4\" >+</td>\n",
       "      <td id=\"T_13719_row2_col5\" class=\"data row2 col5\" >0.000000</td>\n",
       "      <td id=\"T_13719_row2_col6\" class=\"data row2 col6\" >/home/jovyan/MCB201B_F2024/Week_7/macs2/10M_taz_1_peaks.narrowPeak|/home/jovyan/MCB201B_F2024/Week_7/macs2/10M_taz_2_peaks.narrowPeak</td>\n",
       "      <td id=\"T_13719_row2_col7\" class=\"data row2 col7\" >2</td>\n",
       "      <td id=\"T_13719_row2_col8\" class=\"data row2 col8\" >10M_taz_1_peak_2402</td>\n",
       "      <td id=\"T_13719_row2_col9\" class=\"data row2 col9\" >10M_taz_2_peak_1964</td>\n",
       "    </tr>\n",
       "    <tr>\n",
       "      <th id=\"T_13719_level0_row3\" class=\"row_heading level0 row3\" >3</th>\n",
       "      <td id=\"T_13719_row3_col0\" class=\"data row3 col0\" >Merged-chr20-33640689-2</td>\n",
       "      <td id=\"T_13719_row3_col1\" class=\"data row3 col1\" >chr20</td>\n",
       "      <td id=\"T_13719_row3_col2\" class=\"data row3 col2\" >33640631</td>\n",
       "      <td id=\"T_13719_row3_col3\" class=\"data row3 col3\" >33640748</td>\n",
       "      <td id=\"T_13719_row3_col4\" class=\"data row3 col4\" >+</td>\n",
       "      <td id=\"T_13719_row3_col5\" class=\"data row3 col5\" >0.000000</td>\n",
       "      <td id=\"T_13719_row3_col6\" class=\"data row3 col6\" >/home/jovyan/MCB201B_F2024/Week_7/macs2/10M_taz_1_peaks.narrowPeak|/home/jovyan/MCB201B_F2024/Week_7/macs2/10M_taz_2_peaks.narrowPeak</td>\n",
       "      <td id=\"T_13719_row3_col7\" class=\"data row3 col7\" >2</td>\n",
       "      <td id=\"T_13719_row3_col8\" class=\"data row3 col8\" >10M_taz_1_peak_2403</td>\n",
       "      <td id=\"T_13719_row3_col9\" class=\"data row3 col9\" >10M_taz_2_peak_1965</td>\n",
       "    </tr>\n",
       "    <tr>\n",
       "      <th id=\"T_13719_level0_row4\" class=\"row_heading level0 row4\" >4</th>\n",
       "      <td id=\"T_13719_row4_col0\" class=\"data row4 col0\" >Merged-chr20-33803296-2</td>\n",
       "      <td id=\"T_13719_row4_col1\" class=\"data row4 col1\" >chr20</td>\n",
       "      <td id=\"T_13719_row4_col2\" class=\"data row4 col2\" >33803233</td>\n",
       "      <td id=\"T_13719_row4_col3\" class=\"data row4 col3\" >33803360</td>\n",
       "      <td id=\"T_13719_row4_col4\" class=\"data row4 col4\" >+</td>\n",
       "      <td id=\"T_13719_row4_col5\" class=\"data row4 col5\" >0.000000</td>\n",
       "      <td id=\"T_13719_row4_col6\" class=\"data row4 col6\" >/home/jovyan/MCB201B_F2024/Week_7/macs2/10M_taz_1_peaks.narrowPeak|/home/jovyan/MCB201B_F2024/Week_7/macs2/10M_taz_2_peaks.narrowPeak</td>\n",
       "      <td id=\"T_13719_row4_col7\" class=\"data row4 col7\" >2</td>\n",
       "      <td id=\"T_13719_row4_col8\" class=\"data row4 col8\" >10M_taz_1_peak_2404</td>\n",
       "      <td id=\"T_13719_row4_col9\" class=\"data row4 col9\" >10M_taz_2_peak_1966</td>\n",
       "    </tr>\n",
       "  </tbody>\n",
       "</table>\n"
      ],
      "text/plain": [
       "<pandas.io.formats.style.Styler at 0x7f4f5e7102d0>"
      ]
     },
     "execution_count": 26,
     "metadata": {},
     "output_type": "execute_result"
    }
   ],
   "source": [
    "merged_peaks.head().style"
   ]
  },
  {
   "cell_type": "markdown",
   "id": "fcee19d5-1fba-44c0-8c30-a3edb388f7ef",
   "metadata": {},
   "source": [
    "So we can see that the column headers are a bit long, so we can shorten things for our sake later on by using the <code>pd.DataFrame.rename()</code> function."
   ]
  },
  {
   "cell_type": "code",
   "execution_count": 27,
   "id": "f7cc68fd-65eb-4c88-ae7e-5a532fabbdcf",
   "metadata": {},
   "outputs": [],
   "source": [
    "merged_peaks = merged_peaks.rename(columns={'#name (cmd = mergePeaks -d 100 /home/jovyan/MCB201B_F2024/Week_7/macs2/10M_taz_1_peaks.narrowPeak /home/jovyan/MCB201B_F2024/Week_7/macs2/10M_taz_2_peaks.narrowPeak -prefix merged)':'name',\n",
    "                                            '/home/jovyan/MCB201B_F2024/Week_7/macs2/10M_taz_1_peaks.narrowPeak':'taz_1',\n",
    "                                            '/home/jovyan/MCB201B_F2024/Week_7/macs2/10M_taz_2_peaks.narrowPeak':'taz_2'})"
   ]
  },
  {
   "cell_type": "markdown",
   "id": "7effa1b5-39a6-4791-a059-684f78fca4a0",
   "metadata": {},
   "source": [
    "And let's check to see if it updated properly:"
   ]
  },
  {
   "cell_type": "code",
   "execution_count": 28,
   "id": "ce329be5-7ab0-44dc-97ca-a0dbbb84929e",
   "metadata": {},
   "outputs": [
    {
     "data": {
      "text/html": [
       "<style type=\"text/css\">\n",
       "</style>\n",
       "<table id=\"T_5e031\">\n",
       "  <thead>\n",
       "    <tr>\n",
       "      <th class=\"blank level0\" >&nbsp;</th>\n",
       "      <th id=\"T_5e031_level0_col0\" class=\"col_heading level0 col0\" >name</th>\n",
       "      <th id=\"T_5e031_level0_col1\" class=\"col_heading level0 col1\" >chr</th>\n",
       "      <th id=\"T_5e031_level0_col2\" class=\"col_heading level0 col2\" >start</th>\n",
       "      <th id=\"T_5e031_level0_col3\" class=\"col_heading level0 col3\" >end</th>\n",
       "      <th id=\"T_5e031_level0_col4\" class=\"col_heading level0 col4\" >strand</th>\n",
       "      <th id=\"T_5e031_level0_col5\" class=\"col_heading level0 col5\" >Stat</th>\n",
       "      <th id=\"T_5e031_level0_col6\" class=\"col_heading level0 col6\" >Parent files</th>\n",
       "      <th id=\"T_5e031_level0_col7\" class=\"col_heading level0 col7\" >Total subpeaks</th>\n",
       "      <th id=\"T_5e031_level0_col8\" class=\"col_heading level0 col8\" >taz_1</th>\n",
       "      <th id=\"T_5e031_level0_col9\" class=\"col_heading level0 col9\" >taz_2</th>\n",
       "    </tr>\n",
       "  </thead>\n",
       "  <tbody>\n",
       "    <tr>\n",
       "      <th id=\"T_5e031_level0_row0\" class=\"row_heading level0 row0\" >0</th>\n",
       "      <td id=\"T_5e031_row0_col0\" class=\"data row0 col0\" >Merged-chr20-32497481-2</td>\n",
       "      <td id=\"T_5e031_row0_col1\" class=\"data row0 col1\" >chr20</td>\n",
       "      <td id=\"T_5e031_row0_col2\" class=\"data row0 col2\" >32497405</td>\n",
       "      <td id=\"T_5e031_row0_col3\" class=\"data row0 col3\" >32497557</td>\n",
       "      <td id=\"T_5e031_row0_col4\" class=\"data row0 col4\" >+</td>\n",
       "      <td id=\"T_5e031_row0_col5\" class=\"data row0 col5\" >0.000000</td>\n",
       "      <td id=\"T_5e031_row0_col6\" class=\"data row0 col6\" >/home/jovyan/MCB201B_F2024/Week_7/macs2/10M_taz_1_peaks.narrowPeak|/home/jovyan/MCB201B_F2024/Week_7/macs2/10M_taz_2_peaks.narrowPeak</td>\n",
       "      <td id=\"T_5e031_row0_col7\" class=\"data row0 col7\" >2</td>\n",
       "      <td id=\"T_5e031_row0_col8\" class=\"data row0 col8\" >10M_taz_1_peak_2400</td>\n",
       "      <td id=\"T_5e031_row0_col9\" class=\"data row0 col9\" >10M_taz_2_peak_1962</td>\n",
       "    </tr>\n",
       "    <tr>\n",
       "      <th id=\"T_5e031_level0_row1\" class=\"row_heading level0 row1\" >1</th>\n",
       "      <td id=\"T_5e031_row1_col0\" class=\"data row1 col0\" >Merged-chr20-32978672-2</td>\n",
       "      <td id=\"T_5e031_row1_col1\" class=\"data row1 col1\" >chr20</td>\n",
       "      <td id=\"T_5e031_row1_col2\" class=\"data row1 col2\" >32978614</td>\n",
       "      <td id=\"T_5e031_row1_col3\" class=\"data row1 col3\" >32978730</td>\n",
       "      <td id=\"T_5e031_row1_col4\" class=\"data row1 col4\" >+</td>\n",
       "      <td id=\"T_5e031_row1_col5\" class=\"data row1 col5\" >0.000000</td>\n",
       "      <td id=\"T_5e031_row1_col6\" class=\"data row1 col6\" >/home/jovyan/MCB201B_F2024/Week_7/macs2/10M_taz_1_peaks.narrowPeak|/home/jovyan/MCB201B_F2024/Week_7/macs2/10M_taz_2_peaks.narrowPeak</td>\n",
       "      <td id=\"T_5e031_row1_col7\" class=\"data row1 col7\" >2</td>\n",
       "      <td id=\"T_5e031_row1_col8\" class=\"data row1 col8\" >10M_taz_1_peak_2401</td>\n",
       "      <td id=\"T_5e031_row1_col9\" class=\"data row1 col9\" >10M_taz_2_peak_1963</td>\n",
       "    </tr>\n",
       "    <tr>\n",
       "      <th id=\"T_5e031_level0_row2\" class=\"row_heading level0 row2\" >2</th>\n",
       "      <td id=\"T_5e031_row2_col0\" class=\"data row2 col0\" >Merged-chr20-33113793-2</td>\n",
       "      <td id=\"T_5e031_row2_col1\" class=\"data row2 col1\" >chr20</td>\n",
       "      <td id=\"T_5e031_row2_col2\" class=\"data row2 col2\" >33113732</td>\n",
       "      <td id=\"T_5e031_row2_col3\" class=\"data row2 col3\" >33113855</td>\n",
       "      <td id=\"T_5e031_row2_col4\" class=\"data row2 col4\" >+</td>\n",
       "      <td id=\"T_5e031_row2_col5\" class=\"data row2 col5\" >0.000000</td>\n",
       "      <td id=\"T_5e031_row2_col6\" class=\"data row2 col6\" >/home/jovyan/MCB201B_F2024/Week_7/macs2/10M_taz_1_peaks.narrowPeak|/home/jovyan/MCB201B_F2024/Week_7/macs2/10M_taz_2_peaks.narrowPeak</td>\n",
       "      <td id=\"T_5e031_row2_col7\" class=\"data row2 col7\" >2</td>\n",
       "      <td id=\"T_5e031_row2_col8\" class=\"data row2 col8\" >10M_taz_1_peak_2402</td>\n",
       "      <td id=\"T_5e031_row2_col9\" class=\"data row2 col9\" >10M_taz_2_peak_1964</td>\n",
       "    </tr>\n",
       "    <tr>\n",
       "      <th id=\"T_5e031_level0_row3\" class=\"row_heading level0 row3\" >3</th>\n",
       "      <td id=\"T_5e031_row3_col0\" class=\"data row3 col0\" >Merged-chr20-33640689-2</td>\n",
       "      <td id=\"T_5e031_row3_col1\" class=\"data row3 col1\" >chr20</td>\n",
       "      <td id=\"T_5e031_row3_col2\" class=\"data row3 col2\" >33640631</td>\n",
       "      <td id=\"T_5e031_row3_col3\" class=\"data row3 col3\" >33640748</td>\n",
       "      <td id=\"T_5e031_row3_col4\" class=\"data row3 col4\" >+</td>\n",
       "      <td id=\"T_5e031_row3_col5\" class=\"data row3 col5\" >0.000000</td>\n",
       "      <td id=\"T_5e031_row3_col6\" class=\"data row3 col6\" >/home/jovyan/MCB201B_F2024/Week_7/macs2/10M_taz_1_peaks.narrowPeak|/home/jovyan/MCB201B_F2024/Week_7/macs2/10M_taz_2_peaks.narrowPeak</td>\n",
       "      <td id=\"T_5e031_row3_col7\" class=\"data row3 col7\" >2</td>\n",
       "      <td id=\"T_5e031_row3_col8\" class=\"data row3 col8\" >10M_taz_1_peak_2403</td>\n",
       "      <td id=\"T_5e031_row3_col9\" class=\"data row3 col9\" >10M_taz_2_peak_1965</td>\n",
       "    </tr>\n",
       "    <tr>\n",
       "      <th id=\"T_5e031_level0_row4\" class=\"row_heading level0 row4\" >4</th>\n",
       "      <td id=\"T_5e031_row4_col0\" class=\"data row4 col0\" >Merged-chr20-33803296-2</td>\n",
       "      <td id=\"T_5e031_row4_col1\" class=\"data row4 col1\" >chr20</td>\n",
       "      <td id=\"T_5e031_row4_col2\" class=\"data row4 col2\" >33803233</td>\n",
       "      <td id=\"T_5e031_row4_col3\" class=\"data row4 col3\" >33803360</td>\n",
       "      <td id=\"T_5e031_row4_col4\" class=\"data row4 col4\" >+</td>\n",
       "      <td id=\"T_5e031_row4_col5\" class=\"data row4 col5\" >0.000000</td>\n",
       "      <td id=\"T_5e031_row4_col6\" class=\"data row4 col6\" >/home/jovyan/MCB201B_F2024/Week_7/macs2/10M_taz_1_peaks.narrowPeak|/home/jovyan/MCB201B_F2024/Week_7/macs2/10M_taz_2_peaks.narrowPeak</td>\n",
       "      <td id=\"T_5e031_row4_col7\" class=\"data row4 col7\" >2</td>\n",
       "      <td id=\"T_5e031_row4_col8\" class=\"data row4 col8\" >10M_taz_1_peak_2404</td>\n",
       "      <td id=\"T_5e031_row4_col9\" class=\"data row4 col9\" >10M_taz_2_peak_1966</td>\n",
       "    </tr>\n",
       "  </tbody>\n",
       "</table>\n"
      ],
      "text/plain": [
       "<pandas.io.formats.style.Styler at 0x7f4f5e299a90>"
      ]
     },
     "execution_count": 28,
     "metadata": {},
     "output_type": "execute_result"
    }
   ],
   "source": [
    "merged_peaks.head().style"
   ]
  },
  {
   "cell_type": "markdown",
   "id": "e14c4ffc-952a-4898-a382-f908a5a281b5",
   "metadata": {},
   "source": [
    "Now that we have our overlapping peaks, it's not enough to just know which peaks are shared between our two replicates. We also need to know how reproducible these peaks are between our two replicates."
   ]
  },
  {
   "cell_type": "markdown",
   "id": "97be6dec-d1b2-4b89-b674-5548d38ad671",
   "metadata": {},
   "source": [
    "<h2>Assessing reproducibility</h2>\n",
    "\n",
    "Dr. Ingolia mentioned in lecture that between replicates, there is variability in which peaks are called as well as their significance, which can be due to normal biological or experimental variability. <a href=\"https://doi.org/10.1101/gr.136184.111\" rel=\"noopener noreferrer\" target=\"_blank\"><u>The standard way (set by the ENCODE and modeENCODE consortia)</u></a> of determining if the peaks that we identify through our peak calling program is to calculate the Irreproducible Discovery Rate (IDR), developed by <a href=\"https://doi.org/10.1214/11-AOAS466\" rel=\"noopener noreferrer\" target=\"_blank\"><u>Li et al 2011</u></a>. \n",
    "\n",
    "The IDR framework allows for us to determine the reproducibility of our peaks (or in general the findings of high-throughput experiments) by comparing replicates to one another. IDR provides us with a quantitative assessment of when two replicates are no longer consistent with one another, which could point to findings that are less reproducible. In our case, that would suggest that those peaks may not necessarily be reproducible in repeated experiments. It's in a way conceptually similar to the FDR, where a lower IDR indicates a lower chance that the peak is irreproducible.\n",
    "\n",
    "Unfortunately, there's not a good way to get the <a href=\"https://github.com/kundajelab/idr\" rel=\"noopener noreferrer\" target=\"_blank\"><u>IDR package</u></a> onto our servers without running into errors, so we'll be taking a qualitative look at the concordance of our data, which will give us a qualitative idea of which peaks are probably more consistent between our replicates. And then we'll use those peaks for motif discovery.\n",
    "\n",
    "To do this, we'll first need our original .narrowPeak files, so that we can rank the peaks according to their significance (-log10(qvalue)). Then we can used our <code>merged_taz_peaks.narrowPeak</code> file containing our overlapping peaks to pull all the information only for the overlapping peaks. And then we can plot the two replicates against one another to see how correlated the ranks are for each of the overlapping peaks. We can also do the same for the significance of each overlapping peak."
   ]
  },
  {
   "cell_type": "markdown",
   "id": "f56a1df3-c6d9-4d6f-af39-2c234512fa72",
   "metadata": {},
   "source": [
    "<h2>Exercise #5: Import our original peak.xls files</h2>"
   ]
  },
  {
   "cell_type": "markdown",
   "id": "89fab6b9-12fb-4e34-9d38-d39665a2441b",
   "metadata": {},
   "source": [
    "Let's import our original .xls file that was output by macs2, so we have all the information for each peak.\n",
    "\n",
    "```\n",
    "taz_1 = pd.read_csv('~/MCB201B_F2024/Week_7/macs2/10M_taz_1_peaks.xls', \n",
    "                    delimiter='\\t', \n",
    "                    comment='#'\n",
    "                   )\n",
    "```\n",
    "\n",
    "And do the same for taz_2."
   ]
  },
  {
   "cell_type": "code",
   "execution_count": 29,
   "id": "96ba95e5-5926-48ee-9923-6e082a91d352",
   "metadata": {},
   "outputs": [],
   "source": [
    "taz_1 = pd.read_csv('~/MCB201B_F2024/Week_7/macs2/10M_taz_1_peaks.xls', \n",
    "                    delimiter='\\t', \n",
    "                    comment='#'\n",
    "                   )\n",
    "taz_2 = pd.read_csv('~/MCB201B_F2024/Week_7/macs2/10M_taz_2_peaks.xls', \n",
    "                    delimiter='\\t', \n",
    "                    comment='#'\n",
    "                   )\n"
   ]
  },
  {
   "cell_type": "markdown",
   "id": "453daa74-5f4b-4932-9142-d7f1dac35384",
   "metadata": {},
   "source": [
    "Let's check to see how the file imported."
   ]
  },
  {
   "cell_type": "code",
   "execution_count": 30,
   "id": "3519ca0b-6c29-49b6-a06f-b3f370971e21",
   "metadata": {},
   "outputs": [
    {
     "data": {
      "text/html": [
       "<style type=\"text/css\">\n",
       "</style>\n",
       "<table id=\"T_e846e\">\n",
       "  <thead>\n",
       "    <tr>\n",
       "      <th class=\"blank level0\" >&nbsp;</th>\n",
       "      <th id=\"T_e846e_level0_col0\" class=\"col_heading level0 col0\" >chr</th>\n",
       "      <th id=\"T_e846e_level0_col1\" class=\"col_heading level0 col1\" >start</th>\n",
       "      <th id=\"T_e846e_level0_col2\" class=\"col_heading level0 col2\" >end</th>\n",
       "      <th id=\"T_e846e_level0_col3\" class=\"col_heading level0 col3\" >length</th>\n",
       "      <th id=\"T_e846e_level0_col4\" class=\"col_heading level0 col4\" >abs_summit</th>\n",
       "      <th id=\"T_e846e_level0_col5\" class=\"col_heading level0 col5\" >pileup</th>\n",
       "      <th id=\"T_e846e_level0_col6\" class=\"col_heading level0 col6\" >-log10(pvalue)</th>\n",
       "      <th id=\"T_e846e_level0_col7\" class=\"col_heading level0 col7\" >fold_enrichment</th>\n",
       "      <th id=\"T_e846e_level0_col8\" class=\"col_heading level0 col8\" >-log10(qvalue)</th>\n",
       "      <th id=\"T_e846e_level0_col9\" class=\"col_heading level0 col9\" >name</th>\n",
       "    </tr>\n",
       "  </thead>\n",
       "  <tbody>\n",
       "    <tr>\n",
       "      <th id=\"T_e846e_level0_row0\" class=\"row_heading level0 row0\" >0</th>\n",
       "      <td id=\"T_e846e_row0_col0\" class=\"data row0 col0\" >chr1</td>\n",
       "      <td id=\"T_e846e_row0_col1\" class=\"data row0 col1\" >960117</td>\n",
       "      <td id=\"T_e846e_row0_col2\" class=\"data row0 col2\" >960354</td>\n",
       "      <td id=\"T_e846e_row0_col3\" class=\"data row0 col3\" >238</td>\n",
       "      <td id=\"T_e846e_row0_col4\" class=\"data row0 col4\" >960224</td>\n",
       "      <td id=\"T_e846e_row0_col5\" class=\"data row0 col5\" >16</td>\n",
       "      <td id=\"T_e846e_row0_col6\" class=\"data row0 col6\" >17.881900</td>\n",
       "      <td id=\"T_e846e_row0_col7\" class=\"data row0 col7\" >10.236800</td>\n",
       "      <td id=\"T_e846e_row0_col8\" class=\"data row0 col8\" >13.587900</td>\n",
       "      <td id=\"T_e846e_row0_col9\" class=\"data row0 col9\" >10M_taz_1_peak_1</td>\n",
       "    </tr>\n",
       "    <tr>\n",
       "      <th id=\"T_e846e_level0_row1\" class=\"row_heading level0 row1\" >1</th>\n",
       "      <td id=\"T_e846e_row1_col0\" class=\"data row1 col0\" >chr1</td>\n",
       "      <td id=\"T_e846e_row1_col1\" class=\"data row1 col1\" >1200310</td>\n",
       "      <td id=\"T_e846e_row1_col2\" class=\"data row1 col2\" >1200494</td>\n",
       "      <td id=\"T_e846e_row1_col3\" class=\"data row1 col3\" >185</td>\n",
       "      <td id=\"T_e846e_row1_col4\" class=\"data row1 col4\" >1200445</td>\n",
       "      <td id=\"T_e846e_row1_col5\" class=\"data row1 col5\" >12</td>\n",
       "      <td id=\"T_e846e_row1_col6\" class=\"data row1 col6\" >13.121100</td>\n",
       "      <td id=\"T_e846e_row1_col7\" class=\"data row1 col7\" >8.237770</td>\n",
       "      <td id=\"T_e846e_row1_col8\" class=\"data row1 col8\" >9.040820</td>\n",
       "      <td id=\"T_e846e_row1_col9\" class=\"data row1 col9\" >10M_taz_1_peak_2</td>\n",
       "    </tr>\n",
       "    <tr>\n",
       "      <th id=\"T_e846e_level0_row2\" class=\"row_heading level0 row2\" >2</th>\n",
       "      <td id=\"T_e846e_row2_col0\" class=\"data row2 col0\" >chr1</td>\n",
       "      <td id=\"T_e846e_row2_col1\" class=\"data row2 col1\" >1296015</td>\n",
       "      <td id=\"T_e846e_row2_col2\" class=\"data row2 col2\" >1296286</td>\n",
       "      <td id=\"T_e846e_row2_col3\" class=\"data row2 col3\" >272</td>\n",
       "      <td id=\"T_e846e_row2_col4\" class=\"data row2 col4\" >1296163</td>\n",
       "      <td id=\"T_e846e_row2_col5\" class=\"data row2 col5\" >14</td>\n",
       "      <td id=\"T_e846e_row2_col6\" class=\"data row2 col6\" >16.208900</td>\n",
       "      <td id=\"T_e846e_row2_col7\" class=\"data row2 col7\" >9.663280</td>\n",
       "      <td id=\"T_e846e_row2_col8\" class=\"data row2 col8\" >11.979200</td>\n",
       "      <td id=\"T_e846e_row2_col9\" class=\"data row2 col9\" >10M_taz_1_peak_3</td>\n",
       "    </tr>\n",
       "    <tr>\n",
       "      <th id=\"T_e846e_level0_row3\" class=\"row_heading level0 row3\" >3</th>\n",
       "      <td id=\"T_e846e_row3_col0\" class=\"data row3 col0\" >chr1</td>\n",
       "      <td id=\"T_e846e_row3_col1\" class=\"data row3 col1\" >1310545</td>\n",
       "      <td id=\"T_e846e_row3_col2\" class=\"data row3 col2\" >1310710</td>\n",
       "      <td id=\"T_e846e_row3_col3\" class=\"data row3 col3\" >166</td>\n",
       "      <td id=\"T_e846e_row3_col4\" class=\"data row3 col4\" >1310679</td>\n",
       "      <td id=\"T_e846e_row3_col5\" class=\"data row3 col5\" >7</td>\n",
       "      <td id=\"T_e846e_row3_col6\" class=\"data row3 col6\" >6.880840</td>\n",
       "      <td id=\"T_e846e_row3_col7\" class=\"data row3 col7\" >5.153750</td>\n",
       "      <td id=\"T_e846e_row3_col8\" class=\"data row3 col8\" >3.250230</td>\n",
       "      <td id=\"T_e846e_row3_col9\" class=\"data row3 col9\" >10M_taz_1_peak_4</td>\n",
       "    </tr>\n",
       "    <tr>\n",
       "      <th id=\"T_e846e_level0_row4\" class=\"row_heading level0 row4\" >4</th>\n",
       "      <td id=\"T_e846e_row4_col0\" class=\"data row4 col0\" >chr1</td>\n",
       "      <td id=\"T_e846e_row4_col1\" class=\"data row4 col1\" >1617792</td>\n",
       "      <td id=\"T_e846e_row4_col2\" class=\"data row4 col2\" >1617964</td>\n",
       "      <td id=\"T_e846e_row4_col3\" class=\"data row4 col3\" >173</td>\n",
       "      <td id=\"T_e846e_row4_col4\" class=\"data row4 col4\" >1617919</td>\n",
       "      <td id=\"T_e846e_row4_col5\" class=\"data row4 col5\" >7</td>\n",
       "      <td id=\"T_e846e_row4_col6\" class=\"data row4 col6\" >4.929440</td>\n",
       "      <td id=\"T_e846e_row4_col7\" class=\"data row4 col7\" >3.961240</td>\n",
       "      <td id=\"T_e846e_row4_col8\" class=\"data row4 col8\" >1.578600</td>\n",
       "      <td id=\"T_e846e_row4_col9\" class=\"data row4 col9\" >10M_taz_1_peak_5</td>\n",
       "    </tr>\n",
       "  </tbody>\n",
       "</table>\n"
      ],
      "text/plain": [
       "<pandas.io.formats.style.Styler at 0x7f4f5e72cb10>"
      ]
     },
     "execution_count": 30,
     "metadata": {},
     "output_type": "execute_result"
    }
   ],
   "source": [
    "taz_1.head().style"
   ]
  },
  {
   "cell_type": "code",
   "execution_count": 31,
   "id": "6c42f749-13f3-4bc5-b0b9-e40fecb81b23",
   "metadata": {},
   "outputs": [
    {
     "data": {
      "text/html": [
       "<style type=\"text/css\">\n",
       "</style>\n",
       "<table id=\"T_a8b6c\">\n",
       "  <thead>\n",
       "    <tr>\n",
       "      <th class=\"blank level0\" >&nbsp;</th>\n",
       "      <th id=\"T_a8b6c_level0_col0\" class=\"col_heading level0 col0\" >chr</th>\n",
       "      <th id=\"T_a8b6c_level0_col1\" class=\"col_heading level0 col1\" >start</th>\n",
       "      <th id=\"T_a8b6c_level0_col2\" class=\"col_heading level0 col2\" >end</th>\n",
       "      <th id=\"T_a8b6c_level0_col3\" class=\"col_heading level0 col3\" >length</th>\n",
       "      <th id=\"T_a8b6c_level0_col4\" class=\"col_heading level0 col4\" >abs_summit</th>\n",
       "      <th id=\"T_a8b6c_level0_col5\" class=\"col_heading level0 col5\" >pileup</th>\n",
       "      <th id=\"T_a8b6c_level0_col6\" class=\"col_heading level0 col6\" >-log10(pvalue)</th>\n",
       "      <th id=\"T_a8b6c_level0_col7\" class=\"col_heading level0 col7\" >fold_enrichment</th>\n",
       "      <th id=\"T_a8b6c_level0_col8\" class=\"col_heading level0 col8\" >-log10(qvalue)</th>\n",
       "      <th id=\"T_a8b6c_level0_col9\" class=\"col_heading level0 col9\" >name</th>\n",
       "    </tr>\n",
       "  </thead>\n",
       "  <tbody>\n",
       "    <tr>\n",
       "      <th id=\"T_a8b6c_level0_row0\" class=\"row_heading level0 row0\" >0</th>\n",
       "      <td id=\"T_a8b6c_row0_col0\" class=\"data row0 col0\" >chr1</td>\n",
       "      <td id=\"T_a8b6c_row0_col1\" class=\"data row0 col1\" >960071</td>\n",
       "      <td id=\"T_a8b6c_row0_col2\" class=\"data row0 col2\" >960340</td>\n",
       "      <td id=\"T_a8b6c_row0_col3\" class=\"data row0 col3\" >270</td>\n",
       "      <td id=\"T_a8b6c_row0_col4\" class=\"data row0 col4\" >960190</td>\n",
       "      <td id=\"T_a8b6c_row0_col5\" class=\"data row0 col5\" >18</td>\n",
       "      <td id=\"T_a8b6c_row0_col6\" class=\"data row0 col6\" >19.146600</td>\n",
       "      <td id=\"T_a8b6c_row0_col7\" class=\"data row0 col7\" >10.490600</td>\n",
       "      <td id=\"T_a8b6c_row0_col8\" class=\"data row0 col8\" >14.832300</td>\n",
       "      <td id=\"T_a8b6c_row0_col9\" class=\"data row0 col9\" >10M_taz_2_peak_1</td>\n",
       "    </tr>\n",
       "    <tr>\n",
       "      <th id=\"T_a8b6c_level0_row1\" class=\"row_heading level0 row1\" >1</th>\n",
       "      <td id=\"T_a8b6c_row1_col0\" class=\"data row1 col0\" >chr1</td>\n",
       "      <td id=\"T_a8b6c_row1_col1\" class=\"data row1 col1\" >1200204</td>\n",
       "      <td id=\"T_a8b6c_row1_col2\" class=\"data row1 col2\" >1200501</td>\n",
       "      <td id=\"T_a8b6c_row1_col3\" class=\"data row1 col3\" >298</td>\n",
       "      <td id=\"T_a8b6c_row1_col4\" class=\"data row1 col4\" >1200378</td>\n",
       "      <td id=\"T_a8b6c_row1_col5\" class=\"data row1 col5\" >10</td>\n",
       "      <td id=\"T_a8b6c_row1_col6\" class=\"data row1 col6\" >7.942810</td>\n",
       "      <td id=\"T_a8b6c_row1_col7\" class=\"data row1 col7\" >5.465390</td>\n",
       "      <td id=\"T_a8b6c_row1_col8\" class=\"data row1 col8\" >4.214470</td>\n",
       "      <td id=\"T_a8b6c_row1_col9\" class=\"data row1 col9\" >10M_taz_2_peak_2</td>\n",
       "    </tr>\n",
       "    <tr>\n",
       "      <th id=\"T_a8b6c_level0_row2\" class=\"row_heading level0 row2\" >2</th>\n",
       "      <td id=\"T_a8b6c_row2_col0\" class=\"data row2 col0\" >chr1</td>\n",
       "      <td id=\"T_a8b6c_row2_col1\" class=\"data row2 col1\" >1295982</td>\n",
       "      <td id=\"T_a8b6c_row2_col2\" class=\"data row2 col2\" >1296211</td>\n",
       "      <td id=\"T_a8b6c_row2_col3\" class=\"data row2 col3\" >230</td>\n",
       "      <td id=\"T_a8b6c_row2_col4\" class=\"data row2 col4\" >1296132</td>\n",
       "      <td id=\"T_a8b6c_row2_col5\" class=\"data row2 col5\" >14</td>\n",
       "      <td id=\"T_a8b6c_row2_col6\" class=\"data row2 col6\" >15.660100</td>\n",
       "      <td id=\"T_a8b6c_row2_col7\" class=\"data row2 col7\" >9.359180</td>\n",
       "      <td id=\"T_a8b6c_row2_col8\" class=\"data row2 col8\" >11.472500</td>\n",
       "      <td id=\"T_a8b6c_row2_col9\" class=\"data row2 col9\" >10M_taz_2_peak_3</td>\n",
       "    </tr>\n",
       "    <tr>\n",
       "      <th id=\"T_a8b6c_level0_row3\" class=\"row_heading level0 row3\" >3</th>\n",
       "      <td id=\"T_a8b6c_row3_col0\" class=\"data row3 col0\" >chr1</td>\n",
       "      <td id=\"T_a8b6c_row3_col1\" class=\"data row3 col1\" >1992808</td>\n",
       "      <td id=\"T_a8b6c_row3_col2\" class=\"data row3 col2\" >1993144</td>\n",
       "      <td id=\"T_a8b6c_row3_col3\" class=\"data row3 col3\" >337</td>\n",
       "      <td id=\"T_a8b6c_row3_col4\" class=\"data row3 col4\" >1992934</td>\n",
       "      <td id=\"T_a8b6c_row3_col5\" class=\"data row3 col5\" >20</td>\n",
       "      <td id=\"T_a8b6c_row3_col6\" class=\"data row3 col6\" >20.012900</td>\n",
       "      <td id=\"T_a8b6c_row3_col7\" class=\"data row3 col7\" >10.433900</td>\n",
       "      <td id=\"T_a8b6c_row3_col8\" class=\"data row3 col8\" >15.670300</td>\n",
       "      <td id=\"T_a8b6c_row3_col9\" class=\"data row3 col9\" >10M_taz_2_peak_4</td>\n",
       "    </tr>\n",
       "    <tr>\n",
       "      <th id=\"T_a8b6c_level0_row4\" class=\"row_heading level0 row4\" >4</th>\n",
       "      <td id=\"T_a8b6c_row4_col0\" class=\"data row4 col0\" >chr1</td>\n",
       "      <td id=\"T_a8b6c_row4_col1\" class=\"data row4 col1\" >6784654</td>\n",
       "      <td id=\"T_a8b6c_row4_col2\" class=\"data row4 col2\" >6784910</td>\n",
       "      <td id=\"T_a8b6c_row4_col3\" class=\"data row4 col3\" >257</td>\n",
       "      <td id=\"T_a8b6c_row4_col4\" class=\"data row4 col4\" >6784764</td>\n",
       "      <td id=\"T_a8b6c_row4_col5\" class=\"data row4 col5\" >15</td>\n",
       "      <td id=\"T_a8b6c_row4_col6\" class=\"data row4 col6\" >16.779000</td>\n",
       "      <td id=\"T_a8b6c_row4_col7\" class=\"data row4 col7\" >9.810590</td>\n",
       "      <td id=\"T_a8b6c_row4_col8\" class=\"data row4 col8\" >12.550400</td>\n",
       "      <td id=\"T_a8b6c_row4_col9\" class=\"data row4 col9\" >10M_taz_2_peak_5</td>\n",
       "    </tr>\n",
       "  </tbody>\n",
       "</table>\n"
      ],
      "text/plain": [
       "<pandas.io.formats.style.Styler at 0x7f4f5e733e10>"
      ]
     },
     "execution_count": 31,
     "metadata": {},
     "output_type": "execute_result"
    }
   ],
   "source": [
    "taz_2.head().style"
   ]
  },
  {
   "cell_type": "markdown",
   "id": "d34d4db0-8dae-42da-b8fe-8fe92f9c442e",
   "metadata": {},
   "source": [
    "<h2>Exercise #6: Sort DataFrames according to the <code>-log10(qvalue)</code></h2>"
   ]
  },
  {
   "cell_type": "markdown",
   "id": "c8b5ca92-c78f-499a-a975-673bbbeaf32f",
   "metadata": {},
   "source": [
    "Now, we'll want to rank all the peaks according to their significance, with the greatest -log10(qvalue) having the assigned rank of 1."
   ]
  },
  {
   "cell_type": "markdown",
   "id": "36e7eb1b-2914-4f81-8961-7243a3ea432d",
   "metadata": {},
   "source": [
    "First, sort both your DataFrames by the <code>-log10(qvalue)</code>"
   ]
  },
  {
   "cell_type": "code",
   "execution_count": 32,
   "id": "af560af1-0e47-42eb-97ff-0c370262cc22",
   "metadata": {},
   "outputs": [
    {
     "data": {
      "text/html": [
       "<style type=\"text/css\">\n",
       "</style>\n",
       "<table id=\"T_95db0\">\n",
       "  <thead>\n",
       "    <tr>\n",
       "      <th class=\"blank level0\" >&nbsp;</th>\n",
       "      <th id=\"T_95db0_level0_col0\" class=\"col_heading level0 col0\" >chr</th>\n",
       "      <th id=\"T_95db0_level0_col1\" class=\"col_heading level0 col1\" >start</th>\n",
       "      <th id=\"T_95db0_level0_col2\" class=\"col_heading level0 col2\" >end</th>\n",
       "      <th id=\"T_95db0_level0_col3\" class=\"col_heading level0 col3\" >length</th>\n",
       "      <th id=\"T_95db0_level0_col4\" class=\"col_heading level0 col4\" >abs_summit</th>\n",
       "      <th id=\"T_95db0_level0_col5\" class=\"col_heading level0 col5\" >pileup</th>\n",
       "      <th id=\"T_95db0_level0_col6\" class=\"col_heading level0 col6\" >-log10(pvalue)</th>\n",
       "      <th id=\"T_95db0_level0_col7\" class=\"col_heading level0 col7\" >fold_enrichment</th>\n",
       "      <th id=\"T_95db0_level0_col8\" class=\"col_heading level0 col8\" >-log10(qvalue)</th>\n",
       "      <th id=\"T_95db0_level0_col9\" class=\"col_heading level0 col9\" >name</th>\n",
       "    </tr>\n",
       "  </thead>\n",
       "  <tbody>\n",
       "    <tr>\n",
       "      <th id=\"T_95db0_level0_row0\" class=\"row_heading level0 row0\" >1346</th>\n",
       "      <td id=\"T_95db0_row0_col0\" class=\"data row0 col0\" >chr14</td>\n",
       "      <td id=\"T_95db0_row0_col1\" class=\"data row0 col1\" >62221781</td>\n",
       "      <td id=\"T_95db0_row0_col2\" class=\"data row0 col2\" >62222474</td>\n",
       "      <td id=\"T_95db0_row0_col3\" class=\"data row0 col3\" >694</td>\n",
       "      <td id=\"T_95db0_row0_col4\" class=\"data row0 col4\" >62222163</td>\n",
       "      <td id=\"T_95db0_row0_col5\" class=\"data row0 col5\" >225</td>\n",
       "      <td id=\"T_95db0_row0_col6\" class=\"data row0 col6\" >277.789000</td>\n",
       "      <td id=\"T_95db0_row0_col7\" class=\"data row0 col7\" >37.062200</td>\n",
       "      <td id=\"T_95db0_row0_col8\" class=\"data row0 col8\" >270.377000</td>\n",
       "      <td id=\"T_95db0_row0_col9\" class=\"data row0 col9\" >10M_taz_1_peak_1347</td>\n",
       "    </tr>\n",
       "    <tr>\n",
       "      <th id=\"T_95db0_level0_row1\" class=\"row_heading level0 row1\" >1911</th>\n",
       "      <td id=\"T_95db0_row1_col0\" class=\"data row1 col0\" >chr19</td>\n",
       "      <td id=\"T_95db0_row1_col1\" class=\"data row1 col1\" >1383199</td>\n",
       "      <td id=\"T_95db0_row1_col2\" class=\"data row1 col2\" >1383934</td>\n",
       "      <td id=\"T_95db0_row1_col3\" class=\"data row1 col3\" >736</td>\n",
       "      <td id=\"T_95db0_row1_col4\" class=\"data row1 col4\" >1383513</td>\n",
       "      <td id=\"T_95db0_row1_col5\" class=\"data row1 col5\" >163</td>\n",
       "      <td id=\"T_95db0_row1_col6\" class=\"data row1 col6\" >215.209000</td>\n",
       "      <td id=\"T_95db0_row1_col7\" class=\"data row1 col7\" >40.406900</td>\n",
       "      <td id=\"T_95db0_row1_col8\" class=\"data row1 col8\" >208.115000</td>\n",
       "      <td id=\"T_95db0_row1_col9\" class=\"data row1 col9\" >10M_taz_1_peak_1912</td>\n",
       "    </tr>\n",
       "    <tr>\n",
       "      <th id=\"T_95db0_level0_row2\" class=\"row_heading level0 row2\" >30</th>\n",
       "      <td id=\"T_95db0_row2_col0\" class=\"data row2 col0\" >chr1</td>\n",
       "      <td id=\"T_95db0_row2_col1\" class=\"data row2 col1\" >19378871</td>\n",
       "      <td id=\"T_95db0_row2_col2\" class=\"data row2 col2\" >19379364</td>\n",
       "      <td id=\"T_95db0_row2_col3\" class=\"data row2 col3\" >494</td>\n",
       "      <td id=\"T_95db0_row2_col4\" class=\"data row2 col4\" >19379131</td>\n",
       "      <td id=\"T_95db0_row2_col5\" class=\"data row2 col5\" >96</td>\n",
       "      <td id=\"T_95db0_row2_col6\" class=\"data row2 col6\" >177.232000</td>\n",
       "      <td id=\"T_95db0_row2_col7\" class=\"data row2 col7\" >62.489200</td>\n",
       "      <td id=\"T_95db0_row2_col8\" class=\"data row2 col8\" >170.289000</td>\n",
       "      <td id=\"T_95db0_row2_col9\" class=\"data row2 col9\" >10M_taz_1_peak_31</td>\n",
       "    </tr>\n",
       "    <tr>\n",
       "      <th id=\"T_95db0_level0_row3\" class=\"row_heading level0 row3\" >1767</th>\n",
       "      <td id=\"T_95db0_row3_col0\" class=\"data row3 col0\" >chr17</td>\n",
       "      <td id=\"T_95db0_row3_col1\" class=\"data row3 col1\" >73030385</td>\n",
       "      <td id=\"T_95db0_row3_col2\" class=\"data row3 col2\" >73031437</td>\n",
       "      <td id=\"T_95db0_row3_col3\" class=\"data row3 col3\" >1053</td>\n",
       "      <td id=\"T_95db0_row3_col4\" class=\"data row3 col4\" >73030628</td>\n",
       "      <td id=\"T_95db0_row3_col5\" class=\"data row3 col5\" >126</td>\n",
       "      <td id=\"T_95db0_row3_col6\" class=\"data row3 col6\" >162.733000</td>\n",
       "      <td id=\"T_95db0_row3_col7\" class=\"data row3 col7\" >35.672800</td>\n",
       "      <td id=\"T_95db0_row3_col8\" class=\"data row3 col8\" >155.876000</td>\n",
       "      <td id=\"T_95db0_row3_col9\" class=\"data row3 col9\" >10M_taz_1_peak_1768</td>\n",
       "    </tr>\n",
       "    <tr>\n",
       "      <th id=\"T_95db0_level0_row4\" class=\"row_heading level0 row4\" >277</th>\n",
       "      <td id=\"T_95db0_row4_col0\" class=\"data row4 col0\" >chr1</td>\n",
       "      <td id=\"T_95db0_row4_col1\" class=\"data row4 col1\" >161369269</td>\n",
       "      <td id=\"T_95db0_row4_col2\" class=\"data row4 col2\" >161369922</td>\n",
       "      <td id=\"T_95db0_row4_col3\" class=\"data row4 col3\" >654</td>\n",
       "      <td id=\"T_95db0_row4_col4\" class=\"data row4 col4\" >161369601</td>\n",
       "      <td id=\"T_95db0_row4_col5\" class=\"data row4 col5\" >110</td>\n",
       "      <td id=\"T_95db0_row4_col6\" class=\"data row4 col6\" >160.424000</td>\n",
       "      <td id=\"T_95db0_row4_col7\" class=\"data row4 col7\" >43.884700</td>\n",
       "      <td id=\"T_95db0_row4_col8\" class=\"data row4 col8\" >153.591000</td>\n",
       "      <td id=\"T_95db0_row4_col9\" class=\"data row4 col9\" >10M_taz_1_peak_278</td>\n",
       "    </tr>\n",
       "  </tbody>\n",
       "</table>\n"
      ],
      "text/plain": [
       "<pandas.io.formats.style.Styler at 0x7f4f5e72e410>"
      ]
     },
     "execution_count": 32,
     "metadata": {},
     "output_type": "execute_result"
    }
   ],
   "source": [
    "taz_1_sorted = taz_1.sort_values(by='-log10(qvalue)', ascending=False)\n",
    "taz_2_sorted = taz_2.sort_values(by='-log10(qvalue)', ascending=False)\n",
    "\n",
    "taz_1_sorted.head().style"
   ]
  },
  {
   "cell_type": "markdown",
   "id": "d4e9a51e-dcc5-44dd-8040-3b2de731d834",
   "metadata": {},
   "source": [
    "<h2>Exercise #7: Assign ranks</code></h2>"
   ]
  },
  {
   "cell_type": "markdown",
   "id": "044c785d-9d45-4977-9c13-ab5d059aaf8b",
   "metadata": {},
   "source": [
    "Give all the peaks a rank by creating a new column called <code>rank</code> and supplying it with a list of ascending numbers."
   ]
  },
  {
   "cell_type": "code",
   "execution_count": 33,
   "id": "6c584cf9-bd64-409c-9c62-7b7f24594362",
   "metadata": {},
   "outputs": [],
   "source": [
    "taz_1_sorted['rank'] = np.arange(1, len(taz_1_sorted['-log10(qvalue)']) + 1, 1)\n",
    "taz_2_sorted['rank'] = np.arange(1, len(taz_2_sorted['-log10(qvalue)']) + 1, 1)"
   ]
  },
  {
   "cell_type": "markdown",
   "id": "abe35865-4d16-4012-8fec-505dccf62ef9",
   "metadata": {},
   "source": [
    "Do a quick check of both ends of the DataFrame to make sure ranks were properly assigned."
   ]
  },
  {
   "cell_type": "code",
   "execution_count": 34,
   "id": "14b0419d-c9f0-4572-a0f9-e195cc6337c3",
   "metadata": {},
   "outputs": [
    {
     "data": {
      "text/html": [
       "<style type=\"text/css\">\n",
       "</style>\n",
       "<table id=\"T_87eda\">\n",
       "  <thead>\n",
       "    <tr>\n",
       "      <th class=\"blank level0\" >&nbsp;</th>\n",
       "      <th id=\"T_87eda_level0_col0\" class=\"col_heading level0 col0\" >chr</th>\n",
       "      <th id=\"T_87eda_level0_col1\" class=\"col_heading level0 col1\" >start</th>\n",
       "      <th id=\"T_87eda_level0_col2\" class=\"col_heading level0 col2\" >end</th>\n",
       "      <th id=\"T_87eda_level0_col3\" class=\"col_heading level0 col3\" >length</th>\n",
       "      <th id=\"T_87eda_level0_col4\" class=\"col_heading level0 col4\" >abs_summit</th>\n",
       "      <th id=\"T_87eda_level0_col5\" class=\"col_heading level0 col5\" >pileup</th>\n",
       "      <th id=\"T_87eda_level0_col6\" class=\"col_heading level0 col6\" >-log10(pvalue)</th>\n",
       "      <th id=\"T_87eda_level0_col7\" class=\"col_heading level0 col7\" >fold_enrichment</th>\n",
       "      <th id=\"T_87eda_level0_col8\" class=\"col_heading level0 col8\" >-log10(qvalue)</th>\n",
       "      <th id=\"T_87eda_level0_col9\" class=\"col_heading level0 col9\" >name</th>\n",
       "      <th id=\"T_87eda_level0_col10\" class=\"col_heading level0 col10\" >rank</th>\n",
       "    </tr>\n",
       "  </thead>\n",
       "  <tbody>\n",
       "    <tr>\n",
       "      <th id=\"T_87eda_level0_row0\" class=\"row_heading level0 row0\" >1346</th>\n",
       "      <td id=\"T_87eda_row0_col0\" class=\"data row0 col0\" >chr14</td>\n",
       "      <td id=\"T_87eda_row0_col1\" class=\"data row0 col1\" >62221781</td>\n",
       "      <td id=\"T_87eda_row0_col2\" class=\"data row0 col2\" >62222474</td>\n",
       "      <td id=\"T_87eda_row0_col3\" class=\"data row0 col3\" >694</td>\n",
       "      <td id=\"T_87eda_row0_col4\" class=\"data row0 col4\" >62222163</td>\n",
       "      <td id=\"T_87eda_row0_col5\" class=\"data row0 col5\" >225</td>\n",
       "      <td id=\"T_87eda_row0_col6\" class=\"data row0 col6\" >277.789000</td>\n",
       "      <td id=\"T_87eda_row0_col7\" class=\"data row0 col7\" >37.062200</td>\n",
       "      <td id=\"T_87eda_row0_col8\" class=\"data row0 col8\" >270.377000</td>\n",
       "      <td id=\"T_87eda_row0_col9\" class=\"data row0 col9\" >10M_taz_1_peak_1347</td>\n",
       "      <td id=\"T_87eda_row0_col10\" class=\"data row0 col10\" >1</td>\n",
       "    </tr>\n",
       "    <tr>\n",
       "      <th id=\"T_87eda_level0_row1\" class=\"row_heading level0 row1\" >1911</th>\n",
       "      <td id=\"T_87eda_row1_col0\" class=\"data row1 col0\" >chr19</td>\n",
       "      <td id=\"T_87eda_row1_col1\" class=\"data row1 col1\" >1383199</td>\n",
       "      <td id=\"T_87eda_row1_col2\" class=\"data row1 col2\" >1383934</td>\n",
       "      <td id=\"T_87eda_row1_col3\" class=\"data row1 col3\" >736</td>\n",
       "      <td id=\"T_87eda_row1_col4\" class=\"data row1 col4\" >1383513</td>\n",
       "      <td id=\"T_87eda_row1_col5\" class=\"data row1 col5\" >163</td>\n",
       "      <td id=\"T_87eda_row1_col6\" class=\"data row1 col6\" >215.209000</td>\n",
       "      <td id=\"T_87eda_row1_col7\" class=\"data row1 col7\" >40.406900</td>\n",
       "      <td id=\"T_87eda_row1_col8\" class=\"data row1 col8\" >208.115000</td>\n",
       "      <td id=\"T_87eda_row1_col9\" class=\"data row1 col9\" >10M_taz_1_peak_1912</td>\n",
       "      <td id=\"T_87eda_row1_col10\" class=\"data row1 col10\" >2</td>\n",
       "    </tr>\n",
       "    <tr>\n",
       "      <th id=\"T_87eda_level0_row2\" class=\"row_heading level0 row2\" >30</th>\n",
       "      <td id=\"T_87eda_row2_col0\" class=\"data row2 col0\" >chr1</td>\n",
       "      <td id=\"T_87eda_row2_col1\" class=\"data row2 col1\" >19378871</td>\n",
       "      <td id=\"T_87eda_row2_col2\" class=\"data row2 col2\" >19379364</td>\n",
       "      <td id=\"T_87eda_row2_col3\" class=\"data row2 col3\" >494</td>\n",
       "      <td id=\"T_87eda_row2_col4\" class=\"data row2 col4\" >19379131</td>\n",
       "      <td id=\"T_87eda_row2_col5\" class=\"data row2 col5\" >96</td>\n",
       "      <td id=\"T_87eda_row2_col6\" class=\"data row2 col6\" >177.232000</td>\n",
       "      <td id=\"T_87eda_row2_col7\" class=\"data row2 col7\" >62.489200</td>\n",
       "      <td id=\"T_87eda_row2_col8\" class=\"data row2 col8\" >170.289000</td>\n",
       "      <td id=\"T_87eda_row2_col9\" class=\"data row2 col9\" >10M_taz_1_peak_31</td>\n",
       "      <td id=\"T_87eda_row2_col10\" class=\"data row2 col10\" >3</td>\n",
       "    </tr>\n",
       "    <tr>\n",
       "      <th id=\"T_87eda_level0_row3\" class=\"row_heading level0 row3\" >1767</th>\n",
       "      <td id=\"T_87eda_row3_col0\" class=\"data row3 col0\" >chr17</td>\n",
       "      <td id=\"T_87eda_row3_col1\" class=\"data row3 col1\" >73030385</td>\n",
       "      <td id=\"T_87eda_row3_col2\" class=\"data row3 col2\" >73031437</td>\n",
       "      <td id=\"T_87eda_row3_col3\" class=\"data row3 col3\" >1053</td>\n",
       "      <td id=\"T_87eda_row3_col4\" class=\"data row3 col4\" >73030628</td>\n",
       "      <td id=\"T_87eda_row3_col5\" class=\"data row3 col5\" >126</td>\n",
       "      <td id=\"T_87eda_row3_col6\" class=\"data row3 col6\" >162.733000</td>\n",
       "      <td id=\"T_87eda_row3_col7\" class=\"data row3 col7\" >35.672800</td>\n",
       "      <td id=\"T_87eda_row3_col8\" class=\"data row3 col8\" >155.876000</td>\n",
       "      <td id=\"T_87eda_row3_col9\" class=\"data row3 col9\" >10M_taz_1_peak_1768</td>\n",
       "      <td id=\"T_87eda_row3_col10\" class=\"data row3 col10\" >4</td>\n",
       "    </tr>\n",
       "    <tr>\n",
       "      <th id=\"T_87eda_level0_row4\" class=\"row_heading level0 row4\" >277</th>\n",
       "      <td id=\"T_87eda_row4_col0\" class=\"data row4 col0\" >chr1</td>\n",
       "      <td id=\"T_87eda_row4_col1\" class=\"data row4 col1\" >161369269</td>\n",
       "      <td id=\"T_87eda_row4_col2\" class=\"data row4 col2\" >161369922</td>\n",
       "      <td id=\"T_87eda_row4_col3\" class=\"data row4 col3\" >654</td>\n",
       "      <td id=\"T_87eda_row4_col4\" class=\"data row4 col4\" >161369601</td>\n",
       "      <td id=\"T_87eda_row4_col5\" class=\"data row4 col5\" >110</td>\n",
       "      <td id=\"T_87eda_row4_col6\" class=\"data row4 col6\" >160.424000</td>\n",
       "      <td id=\"T_87eda_row4_col7\" class=\"data row4 col7\" >43.884700</td>\n",
       "      <td id=\"T_87eda_row4_col8\" class=\"data row4 col8\" >153.591000</td>\n",
       "      <td id=\"T_87eda_row4_col9\" class=\"data row4 col9\" >10M_taz_1_peak_278</td>\n",
       "      <td id=\"T_87eda_row4_col10\" class=\"data row4 col10\" >5</td>\n",
       "    </tr>\n",
       "  </tbody>\n",
       "</table>\n"
      ],
      "text/plain": [
       "<pandas.io.formats.style.Styler at 0x7f4f5e75c290>"
      ]
     },
     "execution_count": 34,
     "metadata": {},
     "output_type": "execute_result"
    }
   ],
   "source": [
    "taz_1_sorted.head().style"
   ]
  },
  {
   "cell_type": "code",
   "execution_count": 35,
   "id": "5c3a0c62-ebd1-4f43-ae68-d59e57735663",
   "metadata": {},
   "outputs": [
    {
     "data": {
      "text/html": [
       "<style type=\"text/css\">\n",
       "</style>\n",
       "<table id=\"T_b860a\">\n",
       "  <thead>\n",
       "    <tr>\n",
       "      <th class=\"blank level0\" >&nbsp;</th>\n",
       "      <th id=\"T_b860a_level0_col0\" class=\"col_heading level0 col0\" >chr</th>\n",
       "      <th id=\"T_b860a_level0_col1\" class=\"col_heading level0 col1\" >start</th>\n",
       "      <th id=\"T_b860a_level0_col2\" class=\"col_heading level0 col2\" >end</th>\n",
       "      <th id=\"T_b860a_level0_col3\" class=\"col_heading level0 col3\" >length</th>\n",
       "      <th id=\"T_b860a_level0_col4\" class=\"col_heading level0 col4\" >abs_summit</th>\n",
       "      <th id=\"T_b860a_level0_col5\" class=\"col_heading level0 col5\" >pileup</th>\n",
       "      <th id=\"T_b860a_level0_col6\" class=\"col_heading level0 col6\" >-log10(pvalue)</th>\n",
       "      <th id=\"T_b860a_level0_col7\" class=\"col_heading level0 col7\" >fold_enrichment</th>\n",
       "      <th id=\"T_b860a_level0_col8\" class=\"col_heading level0 col8\" >-log10(qvalue)</th>\n",
       "      <th id=\"T_b860a_level0_col9\" class=\"col_heading level0 col9\" >name</th>\n",
       "      <th id=\"T_b860a_level0_col10\" class=\"col_heading level0 col10\" >rank</th>\n",
       "    </tr>\n",
       "  </thead>\n",
       "  <tbody>\n",
       "    <tr>\n",
       "      <th id=\"T_b860a_level0_row0\" class=\"row_heading level0 row0\" >3659</th>\n",
       "      <td id=\"T_b860a_row0_col0\" class=\"data row0 col0\" >chr6</td>\n",
       "      <td id=\"T_b860a_row0_col1\" class=\"data row0 col1\" >145275188</td>\n",
       "      <td id=\"T_b860a_row0_col2\" class=\"data row0 col2\" >145275381</td>\n",
       "      <td id=\"T_b860a_row0_col3\" class=\"data row0 col3\" >194</td>\n",
       "      <td id=\"T_b860a_row0_col4\" class=\"data row0 col4\" >145275265</td>\n",
       "      <td id=\"T_b860a_row0_col5\" class=\"data row0 col5\" >11</td>\n",
       "      <td id=\"T_b860a_row0_col6\" class=\"data row0 col6\" >4.817980</td>\n",
       "      <td id=\"T_b860a_row0_col7\" class=\"data row0 col7\" >3.381310</td>\n",
       "      <td id=\"T_b860a_row0_col8\" class=\"data row0 col8\" >1.502630</td>\n",
       "      <td id=\"T_b860a_row0_col9\" class=\"data row0 col9\" >10M_taz_1_peak_3660</td>\n",
       "      <td id=\"T_b860a_row0_col10\" class=\"data row0 col10\" >4301</td>\n",
       "    </tr>\n",
       "    <tr>\n",
       "      <th id=\"T_b860a_level0_row1\" class=\"row_heading level0 row1\" >3601</th>\n",
       "      <td id=\"T_b860a_row1_col0\" class=\"data row1 col0\" >chr6</td>\n",
       "      <td id=\"T_b860a_row1_col1\" class=\"data row1 col1\" >100960420</td>\n",
       "      <td id=\"T_b860a_row1_col2\" class=\"data row1 col2\" >100960581</td>\n",
       "      <td id=\"T_b860a_row1_col3\" class=\"data row1 col3\" >162</td>\n",
       "      <td id=\"T_b860a_row1_col4\" class=\"data row1 col4\" >100960545</td>\n",
       "      <td id=\"T_b860a_row1_col5\" class=\"data row1 col5\" >5</td>\n",
       "      <td id=\"T_b860a_row1_col6\" class=\"data row1 col6\" >4.608970</td>\n",
       "      <td id=\"T_b860a_row1_col7\" class=\"data row1 col7\" >3.865310</td>\n",
       "      <td id=\"T_b860a_row1_col8\" class=\"data row1 col8\" >1.303930</td>\n",
       "      <td id=\"T_b860a_row1_col9\" class=\"data row1 col9\" >10M_taz_1_peak_3602</td>\n",
       "      <td id=\"T_b860a_row1_col10\" class=\"data row1 col10\" >4302</td>\n",
       "    </tr>\n",
       "    <tr>\n",
       "      <th id=\"T_b860a_level0_row2\" class=\"row_heading level0 row2\" >582</th>\n",
       "      <td id=\"T_b860a_row2_col0\" class=\"data row2 col0\" >chr10</td>\n",
       "      <td id=\"T_b860a_row2_col1\" class=\"data row2 col1\" >42393679</td>\n",
       "      <td id=\"T_b860a_row2_col2\" class=\"data row2 col2\" >42393880</td>\n",
       "      <td id=\"T_b860a_row2_col3\" class=\"data row2 col3\" >202</td>\n",
       "      <td id=\"T_b860a_row2_col4\" class=\"data row2 col4\" >42393806</td>\n",
       "      <td id=\"T_b860a_row2_col5\" class=\"data row2 col5\" >170</td>\n",
       "      <td id=\"T_b860a_row2_col6\" class=\"data row2 col6\" >4.541810</td>\n",
       "      <td id=\"T_b860a_row2_col7\" class=\"data row2 col7\" >1.374950</td>\n",
       "      <td id=\"T_b860a_row2_col8\" class=\"data row2 col8\" >1.303930</td>\n",
       "      <td id=\"T_b860a_row2_col9\" class=\"data row2 col9\" >10M_taz_1_peak_583</td>\n",
       "      <td id=\"T_b860a_row2_col10\" class=\"data row2 col10\" >4303</td>\n",
       "    </tr>\n",
       "    <tr>\n",
       "      <th id=\"T_b860a_level0_row3\" class=\"row_heading level0 row3\" >1988</th>\n",
       "      <td id=\"T_b860a_row3_col0\" class=\"data row3 col0\" >chr19</td>\n",
       "      <td id=\"T_b860a_row3_col1\" class=\"data row3 col1\" >39894254</td>\n",
       "      <td id=\"T_b860a_row3_col2\" class=\"data row3 col2\" >39894415</td>\n",
       "      <td id=\"T_b860a_row3_col3\" class=\"data row3 col3\" >162</td>\n",
       "      <td id=\"T_b860a_row3_col4\" class=\"data row3 col4\" >39894343</td>\n",
       "      <td id=\"T_b860a_row3_col5\" class=\"data row3 col5\" >5</td>\n",
       "      <td id=\"T_b860a_row3_col6\" class=\"data row3 col6\" >4.608970</td>\n",
       "      <td id=\"T_b860a_row3_col7\" class=\"data row3 col7\" >3.865310</td>\n",
       "      <td id=\"T_b860a_row3_col8\" class=\"data row3 col8\" >1.303930</td>\n",
       "      <td id=\"T_b860a_row3_col9\" class=\"data row3 col9\" >10M_taz_1_peak_1989</td>\n",
       "      <td id=\"T_b860a_row3_col10\" class=\"data row3 col10\" >4304</td>\n",
       "    </tr>\n",
       "    <tr>\n",
       "      <th id=\"T_b860a_level0_row4\" class=\"row_heading level0 row4\" >2650</th>\n",
       "      <td id=\"T_b860a_row4_col0\" class=\"data row4 col0\" >chr3</td>\n",
       "      <td id=\"T_b860a_row4_col1\" class=\"data row4 col1\" >49840125</td>\n",
       "      <td id=\"T_b860a_row4_col2\" class=\"data row4 col2\" >49840286</td>\n",
       "      <td id=\"T_b860a_row4_col3\" class=\"data row4 col3\" >162</td>\n",
       "      <td id=\"T_b860a_row4_col4\" class=\"data row4 col4\" >49840191</td>\n",
       "      <td id=\"T_b860a_row4_col5\" class=\"data row4 col5\" >5</td>\n",
       "      <td id=\"T_b860a_row4_col6\" class=\"data row4 col6\" >4.608970</td>\n",
       "      <td id=\"T_b860a_row4_col7\" class=\"data row4 col7\" >3.865310</td>\n",
       "      <td id=\"T_b860a_row4_col8\" class=\"data row4 col8\" >1.303930</td>\n",
       "      <td id=\"T_b860a_row4_col9\" class=\"data row4 col9\" >10M_taz_1_peak_2651</td>\n",
       "      <td id=\"T_b860a_row4_col10\" class=\"data row4 col10\" >4305</td>\n",
       "    </tr>\n",
       "  </tbody>\n",
       "</table>\n"
      ],
      "text/plain": [
       "<pandas.io.formats.style.Styler at 0x7f4f5e711a50>"
      ]
     },
     "execution_count": 35,
     "metadata": {},
     "output_type": "execute_result"
    }
   ],
   "source": [
    "taz_1_sorted.tail().style"
   ]
  },
  {
   "cell_type": "markdown",
   "id": "23204b3c-28e5-47a2-92b2-a351f76f4d9b",
   "metadata": {},
   "source": [
    "<h2>Exercise #7: Pull the <code>rank</code> and <code>-log10(qvalue)</code> for just the overlapping peaks</h2>"
   ]
  },
  {
   "cell_type": "markdown",
   "id": "5a5891d1-5849-4c1e-8a29-ef1bd6018681",
   "metadata": {},
   "source": [
    "Here, see if you can set up a for loop that will update your <code>merged_peaks</code> DataFrame with the following for each peak: \n",
    "\n",
    "<ul>\n",
    "    <li>A column for the taz_1 <code>rank</code> matched up to the correct peak</li>\n",
    "    <li>A column for the taz_1 <code>-log10(qvalue)</code> matched up to the correct peak</li>\n",
    "    <li>A column for the taz_2 <code>rank</code> matched up to the correct peak</li>\n",
    "    <li>A column for the taz_2 <code>-log10(qvalue></code> matched up to the correct peak</li>\n",
    "</ul>"
   ]
  },
  {
   "cell_type": "code",
   "execution_count": 39,
   "id": "666453f7-0b0b-4372-9b82-f2dc2c1a141e",
   "metadata": {},
   "outputs": [],
   "source": [
    "for a, b in zip(merged_peaks.taz_1, merged_peaks.taz_2):\n",
    "    merged_peaks.loc[merged_peaks['taz_1'] == a , 'taz1_q'] = taz_1_sorted.loc[taz_1_sorted['name'] == a , '-log10(qvalue)'].item()\n",
    "    merged_peaks.loc[merged_peaks['taz_2'] == b , 'taz2_q'] = taz_2_sorted.loc[taz_2_sorted['name'] == b , '-log10(qvalue)'].item()\n",
    "    merged_peaks.loc[merged_peaks['taz_1'] == a , 'taz1_rank'] = taz_1_sorted.loc[taz_1_sorted['name'] == a , 'rank'].item()\n",
    "    merged_peaks.loc[merged_peaks['taz_2'] == b , 'taz2_rank'] = taz_2_sorted.loc[taz_2_sorted['name'] == b , 'rank'].item()"
   ]
  },
  {
   "cell_type": "markdown",
   "id": "12df4c0f-1584-41eb-aac2-93ba179b04f3",
   "metadata": {},
   "source": [
    "Now let's check to see if it looks okay:"
   ]
  },
  {
   "cell_type": "code",
   "execution_count": 40,
   "id": "6e8c3908-a592-479f-bf84-3946308e7778",
   "metadata": {},
   "outputs": [
    {
     "data": {
      "text/html": [
       "<style type=\"text/css\">\n",
       "</style>\n",
       "<table id=\"T_faa14\">\n",
       "  <thead>\n",
       "    <tr>\n",
       "      <th class=\"blank level0\" >&nbsp;</th>\n",
       "      <th id=\"T_faa14_level0_col0\" class=\"col_heading level0 col0\" >name</th>\n",
       "      <th id=\"T_faa14_level0_col1\" class=\"col_heading level0 col1\" >chr</th>\n",
       "      <th id=\"T_faa14_level0_col2\" class=\"col_heading level0 col2\" >start</th>\n",
       "      <th id=\"T_faa14_level0_col3\" class=\"col_heading level0 col3\" >end</th>\n",
       "      <th id=\"T_faa14_level0_col4\" class=\"col_heading level0 col4\" >strand</th>\n",
       "      <th id=\"T_faa14_level0_col5\" class=\"col_heading level0 col5\" >Stat</th>\n",
       "      <th id=\"T_faa14_level0_col6\" class=\"col_heading level0 col6\" >Parent files</th>\n",
       "      <th id=\"T_faa14_level0_col7\" class=\"col_heading level0 col7\" >Total subpeaks</th>\n",
       "      <th id=\"T_faa14_level0_col8\" class=\"col_heading level0 col8\" >taz_1</th>\n",
       "      <th id=\"T_faa14_level0_col9\" class=\"col_heading level0 col9\" >taz_2</th>\n",
       "      <th id=\"T_faa14_level0_col10\" class=\"col_heading level0 col10\" >taz1_q</th>\n",
       "      <th id=\"T_faa14_level0_col11\" class=\"col_heading level0 col11\" >taz2_q</th>\n",
       "      <th id=\"T_faa14_level0_col12\" class=\"col_heading level0 col12\" >taz1_rank</th>\n",
       "      <th id=\"T_faa14_level0_col13\" class=\"col_heading level0 col13\" >taz2_rank</th>\n",
       "    </tr>\n",
       "  </thead>\n",
       "  <tbody>\n",
       "    <tr>\n",
       "      <th id=\"T_faa14_level0_row0\" class=\"row_heading level0 row0\" >0</th>\n",
       "      <td id=\"T_faa14_row0_col0\" class=\"data row0 col0\" >Merged-chr20-32497481-2</td>\n",
       "      <td id=\"T_faa14_row0_col1\" class=\"data row0 col1\" >chr20</td>\n",
       "      <td id=\"T_faa14_row0_col2\" class=\"data row0 col2\" >32497405</td>\n",
       "      <td id=\"T_faa14_row0_col3\" class=\"data row0 col3\" >32497557</td>\n",
       "      <td id=\"T_faa14_row0_col4\" class=\"data row0 col4\" >+</td>\n",
       "      <td id=\"T_faa14_row0_col5\" class=\"data row0 col5\" >0.000000</td>\n",
       "      <td id=\"T_faa14_row0_col6\" class=\"data row0 col6\" >/home/jovyan/MCB201B_F2024/Week_7/macs2/10M_taz_1_peaks.narrowPeak|/home/jovyan/MCB201B_F2024/Week_7/macs2/10M_taz_2_peaks.narrowPeak</td>\n",
       "      <td id=\"T_faa14_row0_col7\" class=\"data row0 col7\" >2</td>\n",
       "      <td id=\"T_faa14_row0_col8\" class=\"data row0 col8\" >10M_taz_1_peak_2400</td>\n",
       "      <td id=\"T_faa14_row0_col9\" class=\"data row0 col9\" >10M_taz_2_peak_1962</td>\n",
       "      <td id=\"T_faa14_row0_col10\" class=\"data row0 col10\" >6.089410</td>\n",
       "      <td id=\"T_faa14_row0_col11\" class=\"data row0 col11\" >10.135000</td>\n",
       "      <td id=\"T_faa14_row0_col12\" class=\"data row0 col12\" >2645.000000</td>\n",
       "      <td id=\"T_faa14_row0_col13\" class=\"data row0 col13\" >1320.000000</td>\n",
       "    </tr>\n",
       "    <tr>\n",
       "      <th id=\"T_faa14_level0_row1\" class=\"row_heading level0 row1\" >1</th>\n",
       "      <td id=\"T_faa14_row1_col0\" class=\"data row1 col0\" >Merged-chr20-32978672-2</td>\n",
       "      <td id=\"T_faa14_row1_col1\" class=\"data row1 col1\" >chr20</td>\n",
       "      <td id=\"T_faa14_row1_col2\" class=\"data row1 col2\" >32978614</td>\n",
       "      <td id=\"T_faa14_row1_col3\" class=\"data row1 col3\" >32978730</td>\n",
       "      <td id=\"T_faa14_row1_col4\" class=\"data row1 col4\" >+</td>\n",
       "      <td id=\"T_faa14_row1_col5\" class=\"data row1 col5\" >0.000000</td>\n",
       "      <td id=\"T_faa14_row1_col6\" class=\"data row1 col6\" >/home/jovyan/MCB201B_F2024/Week_7/macs2/10M_taz_1_peaks.narrowPeak|/home/jovyan/MCB201B_F2024/Week_7/macs2/10M_taz_2_peaks.narrowPeak</td>\n",
       "      <td id=\"T_faa14_row1_col7\" class=\"data row1 col7\" >2</td>\n",
       "      <td id=\"T_faa14_row1_col8\" class=\"data row1 col8\" >10M_taz_1_peak_2401</td>\n",
       "      <td id=\"T_faa14_row1_col9\" class=\"data row1 col9\" >10M_taz_2_peak_1963</td>\n",
       "      <td id=\"T_faa14_row1_col10\" class=\"data row1 col10\" >18.517400</td>\n",
       "      <td id=\"T_faa14_row1_col11\" class=\"data row1 col11\" >12.827000</td>\n",
       "      <td id=\"T_faa14_row1_col12\" class=\"data row1 col12\" >654.000000</td>\n",
       "      <td id=\"T_faa14_row1_col13\" class=\"data row1 col13\" >979.000000</td>\n",
       "    </tr>\n",
       "    <tr>\n",
       "      <th id=\"T_faa14_level0_row2\" class=\"row_heading level0 row2\" >2</th>\n",
       "      <td id=\"T_faa14_row2_col0\" class=\"data row2 col0\" >Merged-chr20-33113793-2</td>\n",
       "      <td id=\"T_faa14_row2_col1\" class=\"data row2 col1\" >chr20</td>\n",
       "      <td id=\"T_faa14_row2_col2\" class=\"data row2 col2\" >33113732</td>\n",
       "      <td id=\"T_faa14_row2_col3\" class=\"data row2 col3\" >33113855</td>\n",
       "      <td id=\"T_faa14_row2_col4\" class=\"data row2 col4\" >+</td>\n",
       "      <td id=\"T_faa14_row2_col5\" class=\"data row2 col5\" >0.000000</td>\n",
       "      <td id=\"T_faa14_row2_col6\" class=\"data row2 col6\" >/home/jovyan/MCB201B_F2024/Week_7/macs2/10M_taz_1_peaks.narrowPeak|/home/jovyan/MCB201B_F2024/Week_7/macs2/10M_taz_2_peaks.narrowPeak</td>\n",
       "      <td id=\"T_faa14_row2_col7\" class=\"data row2 col7\" >2</td>\n",
       "      <td id=\"T_faa14_row2_col8\" class=\"data row2 col8\" >10M_taz_1_peak_2402</td>\n",
       "      <td id=\"T_faa14_row2_col9\" class=\"data row2 col9\" >10M_taz_2_peak_1964</td>\n",
       "      <td id=\"T_faa14_row2_col10\" class=\"data row2 col10\" >5.173420</td>\n",
       "      <td id=\"T_faa14_row2_col11\" class=\"data row2 col11\" >6.271590</td>\n",
       "      <td id=\"T_faa14_row2_col12\" class=\"data row2 col12\" >3039.000000</td>\n",
       "      <td id=\"T_faa14_row2_col13\" class=\"data row2 col13\" >2271.000000</td>\n",
       "    </tr>\n",
       "    <tr>\n",
       "      <th id=\"T_faa14_level0_row3\" class=\"row_heading level0 row3\" >3</th>\n",
       "      <td id=\"T_faa14_row3_col0\" class=\"data row3 col0\" >Merged-chr20-33640689-2</td>\n",
       "      <td id=\"T_faa14_row3_col1\" class=\"data row3 col1\" >chr20</td>\n",
       "      <td id=\"T_faa14_row3_col2\" class=\"data row3 col2\" >33640631</td>\n",
       "      <td id=\"T_faa14_row3_col3\" class=\"data row3 col3\" >33640748</td>\n",
       "      <td id=\"T_faa14_row3_col4\" class=\"data row3 col4\" >+</td>\n",
       "      <td id=\"T_faa14_row3_col5\" class=\"data row3 col5\" >0.000000</td>\n",
       "      <td id=\"T_faa14_row3_col6\" class=\"data row3 col6\" >/home/jovyan/MCB201B_F2024/Week_7/macs2/10M_taz_1_peaks.narrowPeak|/home/jovyan/MCB201B_F2024/Week_7/macs2/10M_taz_2_peaks.narrowPeak</td>\n",
       "      <td id=\"T_faa14_row3_col7\" class=\"data row3 col7\" >2</td>\n",
       "      <td id=\"T_faa14_row3_col8\" class=\"data row3 col8\" >10M_taz_1_peak_2403</td>\n",
       "      <td id=\"T_faa14_row3_col9\" class=\"data row3 col9\" >10M_taz_2_peak_1965</td>\n",
       "      <td id=\"T_faa14_row3_col10\" class=\"data row3 col10\" >30.454800</td>\n",
       "      <td id=\"T_faa14_row3_col11\" class=\"data row3 col11\" >14.639400</td>\n",
       "      <td id=\"T_faa14_row3_col12\" class=\"data row3 col12\" >334.000000</td>\n",
       "      <td id=\"T_faa14_row3_col13\" class=\"data row3 col13\" >822.000000</td>\n",
       "    </tr>\n",
       "    <tr>\n",
       "      <th id=\"T_faa14_level0_row4\" class=\"row_heading level0 row4\" >4</th>\n",
       "      <td id=\"T_faa14_row4_col0\" class=\"data row4 col0\" >Merged-chr20-33803296-2</td>\n",
       "      <td id=\"T_faa14_row4_col1\" class=\"data row4 col1\" >chr20</td>\n",
       "      <td id=\"T_faa14_row4_col2\" class=\"data row4 col2\" >33803233</td>\n",
       "      <td id=\"T_faa14_row4_col3\" class=\"data row4 col3\" >33803360</td>\n",
       "      <td id=\"T_faa14_row4_col4\" class=\"data row4 col4\" >+</td>\n",
       "      <td id=\"T_faa14_row4_col5\" class=\"data row4 col5\" >0.000000</td>\n",
       "      <td id=\"T_faa14_row4_col6\" class=\"data row4 col6\" >/home/jovyan/MCB201B_F2024/Week_7/macs2/10M_taz_1_peaks.narrowPeak|/home/jovyan/MCB201B_F2024/Week_7/macs2/10M_taz_2_peaks.narrowPeak</td>\n",
       "      <td id=\"T_faa14_row4_col7\" class=\"data row4 col7\" >2</td>\n",
       "      <td id=\"T_faa14_row4_col8\" class=\"data row4 col8\" >10M_taz_1_peak_2404</td>\n",
       "      <td id=\"T_faa14_row4_col9\" class=\"data row4 col9\" >10M_taz_2_peak_1966</td>\n",
       "      <td id=\"T_faa14_row4_col10\" class=\"data row4 col10\" >6.683810</td>\n",
       "      <td id=\"T_faa14_row4_col11\" class=\"data row4 col11\" >7.326220</td>\n",
       "      <td id=\"T_faa14_row4_col12\" class=\"data row4 col12\" >2397.000000</td>\n",
       "      <td id=\"T_faa14_row4_col13\" class=\"data row4 col13\" >1955.000000</td>\n",
       "    </tr>\n",
       "  </tbody>\n",
       "</table>\n"
      ],
      "text/plain": [
       "<pandas.io.formats.style.Styler at 0x7f4f607e8410>"
      ]
     },
     "execution_count": 40,
     "metadata": {},
     "output_type": "execute_result"
    }
   ],
   "source": [
    "merged_peaks.head().style"
   ]
  },
  {
   "cell_type": "markdown",
   "id": "97ce20fb-3c00-4c89-9a10-7c9a03aa5d3e",
   "metadata": {},
   "source": [
    "<h2>Exercise #8: Plot ranks of two replicates against one another</h2>"
   ]
  },
  {
   "cell_type": "markdown",
   "id": "63fa069f-ea6e-4535-b8c0-e8dcb4fd3ffc",
   "metadata": {},
   "source": [
    "If you take a look at our DataFrame, you'll see that we now have for each overlapping peak, its corresponding taz_1 rank and taz_2 rank. So to get a qualitative idea of well the two replicates agree with one another, we can plot the ranks of the two replicates against one another, with a peak's taz_1 rank on the X-axis, and its taz_2 rank on the Y-axis."
   ]
  },
  {
   "cell_type": "markdown",
   "id": "bc347914-3398-4633-9aec-4cd37536dc0c",
   "metadata": {},
   "source": [
    "See if you can create a scatterplot that plots each overlapping peak's taz_1 rank on the X-axis and its respective taz_2 rank on the Y-axis."
   ]
  },
  {
   "cell_type": "code",
   "execution_count": 44,
   "id": "4fde5b89-bb2f-4afb-a686-468487df9f4a",
   "metadata": {},
   "outputs": [
    {
     "data": {
      "text/plain": [
       "Text(0, 0.5, 'log10 taz2 Q')"
      ]
     },
     "execution_count": 44,
     "metadata": {},
     "output_type": "execute_result"
    },
    {
     "data": {
      "image/png": "[encoded data removed]",
      "text/plain": [
       "<Figure size 640x480 with 1 Axes>"
      ]
     },
     "metadata": {},
     "output_type": "display_data"
    }
   ],
   "source": [
    "sns.scatterplot(x=np.log10(merged_peaks['taz1_q']),\n",
    "                y=np.log10(merged_peaks['taz2_q']),\n",
    "                c='k'\n",
    "               )\n",
    "plt.xlabel('log10 taz1 Q')\n",
    "plt.ylabel('log10 taz2 Q')"
   ]
  },
  {
   "cell_type": "markdown",
   "id": "1048b986-baa0-4eba-9f27-6a1325e949ba",
   "metadata": {},
   "source": [
    "What you should be able to see is a plot that begins to fan out as the value for the rank increases (so overall less significant peak), suggesting that those peaks identified in either set that do not have a high -log10(qvalue) may not be very reproducible. So in our more focused analysis, we will want to avoid those peaks and just look into those that consistently rank high (rank values closer to 1)."
   ]
  },
  {
   "cell_type": "markdown",
   "id": "48690967-2858-425a-91c1-2a19ae747aba",
   "metadata": {},
   "source": [
    "<h2>Exercise #8: Plot significance of two replicates against one another</h2>"
   ]
  },
  {
   "cell_type": "markdown",
   "id": "6a02ead7-16f1-4e84-b654-3164d56f6be4",
   "metadata": {},
   "source": [
    "We can also do the same for the -log10(qvalue) of our overlapping peaks."
   ]
  },
  {
   "cell_type": "code",
   "execution_count": 45,
   "id": "a50998f5-c65a-42a0-92ce-5fa9ad912fa5",
   "metadata": {},
   "outputs": [
    {
     "data": {
      "text/plain": [
       "Text(0, 0.5, 'taz2 rank')"
      ]
     },
     "execution_count": 45,
     "metadata": {},
     "output_type": "execute_result"
    },
    {
     "data": {
      "image/png": "[encoded data removed]",
      "text/plain": [
       "<Figure size 640x480 with 1 Axes>"
      ]
     },
     "metadata": {},
     "output_type": "display_data"
    }
   ],
   "source": [
    "sns.scatterplot(x=merged_peaks['taz1_rank'],\n",
    "                y=merged_peaks['taz2_rank'],\n",
    "                c='k'\n",
    "               )\n",
    "plt.xlabel('taz1 rank')\n",
    "plt.ylabel('taz2 rank')"
   ]
  },
  {
   "cell_type": "markdown",
   "id": "7ad850a3-3e48-45d2-aac5-a1a6921c8547",
   "metadata": {},
   "source": [
    "To visually increase the spread of the lower significance samples, we can log transform the -log10(qvalue) using <code>np.log10()</code> when we plot each data point.\n",
    "\n",
    "Alternatively, you can change the X- and Y-axes to log scale."
   ]
  },
  {
   "cell_type": "code",
   "execution_count": null,
   "id": "b31f2dcf-bd9f-4ee7-a502-57368a6d0246",
   "metadata": {},
   "outputs": [],
   "source": []
  },
  {
   "cell_type": "markdown",
   "id": "ad8d2100-3384-4841-bb77-c9a69c5ba961",
   "metadata": {},
   "source": [
    "Again, we can see that peaks that are highly significant in one replicate are likely to also be similarly significant in the second replicate, which suggest that they are more consistent between replicates."
   ]
  },
  {
   "cell_type": "markdown",
   "id": "929c97d6-9e0f-435b-afe2-7a1da454b7a6",
   "metadata": {},
   "source": [
    "<h2>Exercise #9: Narrow down peaks to consistently high ranked peaks</h2>"
   ]
  },
  {
   "cell_type": "markdown",
   "id": "3a0feada-c3b3-4361-8b33-2e3383359dc9",
   "metadata": {},
   "source": [
    "We will focus our motif discovery to just those peaks that are consistently high ranked in both replicates. Although we don't have a specific IDR threshold value, we can qualitatively assess where the data seems to be most consistent, which appears to be for those peaks with a rank value of 500 or less in both replicates.\n",
    "\n",
    "Now, see if you can make use of conditional statements to create a new DataFrame consisting of just the peaks that have a rank value of less than 500 for both replicates."
   ]
  },
  {
   "cell_type": "code",
   "execution_count": 46,
   "id": "72da80a1-b089-4f88-a5b9-9919df5a43b6",
   "metadata": {},
   "outputs": [],
   "source": [
    "peaks_for_motifs = merged_peaks.loc[(merged_peaks['taz1_rank'] < 500) & (merged_peaks['taz2_rank'] < 500)]"
   ]
  },
  {
   "cell_type": "markdown",
   "id": "66692061-50a9-49c1-bbe3-000e926d5d9d",
   "metadata": {},
   "source": [
    "Let's take a look at the first five rows of our focused dataset:"
   ]
  },
  {
   "cell_type": "code",
   "execution_count": 47,
   "id": "13559b5f-2847-4eb9-ad88-982cd82f4de3",
   "metadata": {},
   "outputs": [
    {
     "data": {
      "text/html": [
       "<style type=\"text/css\">\n",
       "</style>\n",
       "<table id=\"T_da325\">\n",
       "  <thead>\n",
       "    <tr>\n",
       "      <th class=\"blank level0\" >&nbsp;</th>\n",
       "      <th id=\"T_da325_level0_col0\" class=\"col_heading level0 col0\" >name</th>\n",
       "      <th id=\"T_da325_level0_col1\" class=\"col_heading level0 col1\" >chr</th>\n",
       "      <th id=\"T_da325_level0_col2\" class=\"col_heading level0 col2\" >start</th>\n",
       "      <th id=\"T_da325_level0_col3\" class=\"col_heading level0 col3\" >end</th>\n",
       "      <th id=\"T_da325_level0_col4\" class=\"col_heading level0 col4\" >strand</th>\n",
       "      <th id=\"T_da325_level0_col5\" class=\"col_heading level0 col5\" >Stat</th>\n",
       "      <th id=\"T_da325_level0_col6\" class=\"col_heading level0 col6\" >Parent files</th>\n",
       "      <th id=\"T_da325_level0_col7\" class=\"col_heading level0 col7\" >Total subpeaks</th>\n",
       "      <th id=\"T_da325_level0_col8\" class=\"col_heading level0 col8\" >taz_1</th>\n",
       "      <th id=\"T_da325_level0_col9\" class=\"col_heading level0 col9\" >taz_2</th>\n",
       "      <th id=\"T_da325_level0_col10\" class=\"col_heading level0 col10\" >taz1_q</th>\n",
       "      <th id=\"T_da325_level0_col11\" class=\"col_heading level0 col11\" >taz2_q</th>\n",
       "      <th id=\"T_da325_level0_col12\" class=\"col_heading level0 col12\" >taz1_rank</th>\n",
       "      <th id=\"T_da325_level0_col13\" class=\"col_heading level0 col13\" >taz2_rank</th>\n",
       "    </tr>\n",
       "  </thead>\n",
       "  <tbody>\n",
       "    <tr>\n",
       "      <th id=\"T_da325_level0_row0\" class=\"row_heading level0 row0\" >10</th>\n",
       "      <td id=\"T_da325_row0_col0\" class=\"data row0 col0\" >Merged-chr20-36746213-2</td>\n",
       "      <td id=\"T_da325_row0_col1\" class=\"data row0 col1\" >chr20</td>\n",
       "      <td id=\"T_da325_row0_col2\" class=\"data row0 col2\" >36746151</td>\n",
       "      <td id=\"T_da325_row0_col3\" class=\"data row0 col3\" >36746275</td>\n",
       "      <td id=\"T_da325_row0_col4\" class=\"data row0 col4\" >+</td>\n",
       "      <td id=\"T_da325_row0_col5\" class=\"data row0 col5\" >0.000000</td>\n",
       "      <td id=\"T_da325_row0_col6\" class=\"data row0 col6\" >/home/jovyan/MCB201B_F2024/Week_7/macs2/10M_taz_1_peaks.narrowPeak|/home/jovyan/MCB201B_F2024/Week_7/macs2/10M_taz_2_peaks.narrowPeak</td>\n",
       "      <td id=\"T_da325_row0_col7\" class=\"data row0 col7\" >2</td>\n",
       "      <td id=\"T_da325_row0_col8\" class=\"data row0 col8\" >10M_taz_1_peak_2416</td>\n",
       "      <td id=\"T_da325_row0_col9\" class=\"data row0 col9\" >10M_taz_2_peak_1975</td>\n",
       "      <td id=\"T_da325_row0_col10\" class=\"data row0 col10\" >33.078600</td>\n",
       "      <td id=\"T_da325_row0_col11\" class=\"data row0 col11\" >27.652600</td>\n",
       "      <td id=\"T_da325_row0_col12\" class=\"data row0 col12\" >302.000000</td>\n",
       "      <td id=\"T_da325_row0_col13\" class=\"data row0 col13\" >352.000000</td>\n",
       "    </tr>\n",
       "    <tr>\n",
       "      <th id=\"T_da325_level0_row1\" class=\"row_heading level0 row1\" >23</th>\n",
       "      <td id=\"T_da325_row1_col0\" class=\"data row1 col0\" >Merged-chr20-49157672-2</td>\n",
       "      <td id=\"T_da325_row1_col1\" class=\"data row1 col1\" >chr20</td>\n",
       "      <td id=\"T_da325_row1_col2\" class=\"data row1 col2\" >49157609</td>\n",
       "      <td id=\"T_da325_row1_col3\" class=\"data row1 col3\" >49157736</td>\n",
       "      <td id=\"T_da325_row1_col4\" class=\"data row1 col4\" >+</td>\n",
       "      <td id=\"T_da325_row1_col5\" class=\"data row1 col5\" >0.000000</td>\n",
       "      <td id=\"T_da325_row1_col6\" class=\"data row1 col6\" >/home/jovyan/MCB201B_F2024/Week_7/macs2/10M_taz_1_peaks.narrowPeak|/home/jovyan/MCB201B_F2024/Week_7/macs2/10M_taz_2_peaks.narrowPeak</td>\n",
       "      <td id=\"T_da325_row1_col7\" class=\"data row1 col7\" >2</td>\n",
       "      <td id=\"T_da325_row1_col8\" class=\"data row1 col8\" >10M_taz_1_peak_2440</td>\n",
       "      <td id=\"T_da325_row1_col9\" class=\"data row1 col9\" >10M_taz_2_peak_1994</td>\n",
       "      <td id=\"T_da325_row1_col10\" class=\"data row1 col10\" >61.163800</td>\n",
       "      <td id=\"T_da325_row1_col11\" class=\"data row1 col11\" >44.897800</td>\n",
       "      <td id=\"T_da325_row1_col12\" class=\"data row1 col12\" >129.000000</td>\n",
       "      <td id=\"T_da325_row1_col13\" class=\"data row1 col13\" >204.000000</td>\n",
       "    </tr>\n",
       "    <tr>\n",
       "      <th id=\"T_da325_level0_row2\" class=\"row_heading level0 row2\" >42</th>\n",
       "      <td id=\"T_da325_row2_col0\" class=\"data row2 col0\" >Merged-chr21-17936309-2</td>\n",
       "      <td id=\"T_da325_row2_col1\" class=\"data row2 col1\" >chr21</td>\n",
       "      <td id=\"T_da325_row2_col2\" class=\"data row2 col2\" >17936250</td>\n",
       "      <td id=\"T_da325_row2_col3\" class=\"data row2 col3\" >17936368</td>\n",
       "      <td id=\"T_da325_row2_col4\" class=\"data row2 col4\" >+</td>\n",
       "      <td id=\"T_da325_row2_col5\" class=\"data row2 col5\" >0.000000</td>\n",
       "      <td id=\"T_da325_row2_col6\" class=\"data row2 col6\" >/home/jovyan/MCB201B_F2024/Week_7/macs2/10M_taz_1_peaks.narrowPeak|/home/jovyan/MCB201B_F2024/Week_7/macs2/10M_taz_2_peaks.narrowPeak</td>\n",
       "      <td id=\"T_da325_row2_col7\" class=\"data row2 col7\" >2</td>\n",
       "      <td id=\"T_da325_row2_col8\" class=\"data row2 col8\" >10M_taz_1_peak_2478</td>\n",
       "      <td id=\"T_da325_row2_col9\" class=\"data row2 col9\" >10M_taz_2_peak_2024</td>\n",
       "      <td id=\"T_da325_row2_col10\" class=\"data row2 col10\" >38.999500</td>\n",
       "      <td id=\"T_da325_row2_col11\" class=\"data row2 col11\" >41.374900</td>\n",
       "      <td id=\"T_da325_row2_col12\" class=\"data row2 col12\" >244.000000</td>\n",
       "      <td id=\"T_da325_row2_col13\" class=\"data row2 col13\" >229.000000</td>\n",
       "    </tr>\n",
       "    <tr>\n",
       "      <th id=\"T_da325_level0_row3\" class=\"row_heading level0 row3\" >55</th>\n",
       "      <td id=\"T_da325_row3_col0\" class=\"data row3 col0\" >Merged-chr1-55895008-2</td>\n",
       "      <td id=\"T_da325_row3_col1\" class=\"data row3 col1\" >chr1</td>\n",
       "      <td id=\"T_da325_row3_col2\" class=\"data row3 col2\" >55894953</td>\n",
       "      <td id=\"T_da325_row3_col3\" class=\"data row3 col3\" >55895063</td>\n",
       "      <td id=\"T_da325_row3_col4\" class=\"data row3 col4\" >+</td>\n",
       "      <td id=\"T_da325_row3_col5\" class=\"data row3 col5\" >0.000000</td>\n",
       "      <td id=\"T_da325_row3_col6\" class=\"data row3 col6\" >/home/jovyan/MCB201B_F2024/Week_7/macs2/10M_taz_1_peaks.narrowPeak|/home/jovyan/MCB201B_F2024/Week_7/macs2/10M_taz_2_peaks.narrowPeak</td>\n",
       "      <td id=\"T_da325_row3_col7\" class=\"data row3 col7\" >2</td>\n",
       "      <td id=\"T_da325_row3_col8\" class=\"data row3 col8\" >10M_taz_1_peak_104</td>\n",
       "      <td id=\"T_da325_row3_col9\" class=\"data row3 col9\" >10M_taz_2_peak_91</td>\n",
       "      <td id=\"T_da325_row3_col10\" class=\"data row3 col10\" >45.075800</td>\n",
       "      <td id=\"T_da325_row3_col11\" class=\"data row3 col11\" >33.987800</td>\n",
       "      <td id=\"T_da325_row3_col12\" class=\"data row3 col12\" >192.000000</td>\n",
       "      <td id=\"T_da325_row3_col13\" class=\"data row3 col13\" >282.000000</td>\n",
       "    </tr>\n",
       "    <tr>\n",
       "      <th id=\"T_da325_level0_row4\" class=\"row_heading level0 row4\" >57</th>\n",
       "      <td id=\"T_da325_row4_col0\" class=\"data row4 col0\" >Merged-chr1-56192840-2</td>\n",
       "      <td id=\"T_da325_row4_col1\" class=\"data row4 col1\" >chr1</td>\n",
       "      <td id=\"T_da325_row4_col2\" class=\"data row4 col2\" >56192764</td>\n",
       "      <td id=\"T_da325_row4_col3\" class=\"data row4 col3\" >56192917</td>\n",
       "      <td id=\"T_da325_row4_col4\" class=\"data row4 col4\" >+</td>\n",
       "      <td id=\"T_da325_row4_col5\" class=\"data row4 col5\" >0.000000</td>\n",
       "      <td id=\"T_da325_row4_col6\" class=\"data row4 col6\" >/home/jovyan/MCB201B_F2024/Week_7/macs2/10M_taz_1_peaks.narrowPeak|/home/jovyan/MCB201B_F2024/Week_7/macs2/10M_taz_2_peaks.narrowPeak</td>\n",
       "      <td id=\"T_da325_row4_col7\" class=\"data row4 col7\" >2</td>\n",
       "      <td id=\"T_da325_row4_col8\" class=\"data row4 col8\" >10M_taz_1_peak_107</td>\n",
       "      <td id=\"T_da325_row4_col9\" class=\"data row4 col9\" >10M_taz_2_peak_93</td>\n",
       "      <td id=\"T_da325_row4_col10\" class=\"data row4 col10\" >25.405000</td>\n",
       "      <td id=\"T_da325_row4_col11\" class=\"data row4 col11\" >34.519200</td>\n",
       "      <td id=\"T_da325_row4_col12\" class=\"data row4 col12\" >432.000000</td>\n",
       "      <td id=\"T_da325_row4_col13\" class=\"data row4 col13\" >278.000000</td>\n",
       "    </tr>\n",
       "  </tbody>\n",
       "</table>\n"
      ],
      "text/plain": [
       "<pandas.io.formats.style.Styler at 0x7f4f5e2082d0>"
      ]
     },
     "execution_count": 47,
     "metadata": {},
     "output_type": "execute_result"
    }
   ],
   "source": [
    "peaks_for_motifs.head().style"
   ]
  },
  {
   "cell_type": "markdown",
   "id": "2085616f-4e6e-4c68-8350-a1ffac740ca2",
   "metadata": {},
   "source": [
    "And let's take a look at these data points with respect to the peaks that didn't make our cutoff."
   ]
  },
  {
   "cell_type": "code",
   "execution_count": 50,
   "id": "bc4f6231-2c0f-4654-b230-1348521427e1",
   "metadata": {},
   "outputs": [
    {
     "data": {
      "text/plain": [
       "Text(0, 0.5, 'taz2 rank')"
      ]
     },
     "execution_count": 50,
     "metadata": {},
     "output_type": "execute_result"
    },
    {
     "data": {
      "image/png": "[encoded data removed]",
      "text/plain": [
       "<Figure size 640x480 with 1 Axes>"
      ]
     },
     "metadata": {},
     "output_type": "display_data"
    }
   ],
   "source": [
    "sns.scatterplot(x=merged_peaks['taz1_rank'],\n",
    "                y=merged_peaks['taz2_rank'],\n",
    "                c='k'\n",
    "               )\n",
    "\n",
    "sns.scatterplot(x=peaks_for_motifs['taz1_rank'],\n",
    "                y=peaks_for_motifs['taz2_rank'],\n",
    "                c='r'\n",
    "               )\n",
    "plt.xlabel('taz1 rank')\n",
    "plt.ylabel('taz2 rank')"
   ]
  },
  {
   "cell_type": "markdown",
   "id": "bcff9d20-9a2f-441d-b114-d4207b3e1c0b",
   "metadata": {},
   "source": [
    "<h2>Exercise #10: Export your top concordant peaks for motif discovery</h2>"
   ]
  },
  {
   "cell_type": "markdown",
   "id": "021eb684-3289-486d-a5e6-9fc7be3cf3db",
   "metadata": {},
   "source": [
    "Now that we have a separate DataFrame that just has the focused peaks that we are interested in, we can export it into a new .narrowPeak file that we will supply to HOMER for motif analysis.\n",
    "\n",
    "```\n",
    "peaks_for_motifs.to_csv('top_concordant_peaks.narrowPeak',\n",
    "                        header=False,\n",
    "                        index=False,\n",
    "                        sep='\\t'\n",
    "                       )\n",
    "```\n",
    "\n",
    "We'll want to export it without any extraneous things, so we'll specify that we don't want to export the headers or indices along with our data, and we'll also specify that our values will be separated by a tab."
   ]
  },
  {
   "cell_type": "code",
   "execution_count": 51,
   "id": "cdf85b85-4fc1-4fdd-88e2-e4ed51b06303",
   "metadata": {},
   "outputs": [],
   "source": [
    "peaks_for_motifs.to_csv('top_concordant_peaks.narrowPeak',\n",
    "                        header=False,\n",
    "                        index=False,\n",
    "                        sep='\\t'\n",
    "                       )"
   ]
  },
  {
   "cell_type": "markdown",
   "id": "b82b5149-fed9-445f-b8af-ab34b2efc2d5",
   "metadata": {},
   "source": [
    "You should now see that this DataFrame has been exported into this week's directory as a .narrowPeak file."
   ]
  },
  {
   "cell_type": "markdown",
   "id": "6540a4c1-8d59-437e-be56-14b7f3e6c156",
   "metadata": {},
   "source": [
    "<h1 style=\"font-size: 40px; margin-bottom: 0px;\">Motif Discovery</h1>\n",
    "\n",
    "<hr style=\"margin-left: 0px; border: 0.25px solid; border-color: #000000; width: 400px;\"></hr>"
   ]
  },
  {
   "cell_type": "markdown",
   "id": "2ae8e18b-ff0a-4853-b4be-74f0d814c0a3",
   "metadata": {},
   "source": [
    "Here, we'll make use of the core function of HOMER, which is to identify motifs. To do this, we'll need to go back to Terminal to run the <code>findMotifsGenome.pl</code> program. <a href=\"http://homer.ucsd.edu/homer/ngs/peakMotifs.html\" rel=\"noopener noreferrer\" target=\"_blank\"><u>Documentation for <code>findMotifsGenome.pl</code> is here.</u></a>\n",
    "\n",
    "If we look into the documentation, we can see that the basic command line structure to use this code is:\n",
    "\n",
    "<pre style=\"width: 600px; margin-top: 15px; margin-bottom: 15px; color: #000000; background-color: #EEEEEE; border: 1px solid; border-color: #AAAAAA; padding: 10px; border-radius: 15px; font-size: 12px;\">findMotifsGenome.pl &lt;peak file&gt; &lt;genome version&gt; &lt;output directory&gt; -size &#35; &lbrack;options&rbrack;</pre>\n",
    "\n",
    "So to run the findMotifsGenome program, we will supply it with our .narrowPeak file containing our focused list of overlapping peaks, the genome version, an output directory, a fragment size, and any additional options."
   ]
  },
  {
   "cell_type": "markdown",
   "id": "b5106765-f92d-4fc7-9cba-d632d60b1134",
   "metadata": {},
   "source": [
    "<h3>Create <code>motif</code> directory and enter it</h3>\n",
    "\n",
    "<pre style=\"width: 450px; margin-top: 15px; margin-bottom: 15px; color: #000000; background-color: #EEEEEE; border: 1px solid; border-color: #AAAAAA; padding: 10px; border-radius: 15px; font-size: 12px;\">mkdir motif</pre>\n",
    "\n",
    "Make sure you make the new directory in this week's folder.\n",
    "\n",
    "<pre style=\"width: 450px; margin-top: 15px; margin-bottom: 15px; color: #000000; background-color: #EEEEEE; border: 1px solid; border-color: #AAAAAA; padding: 10px; border-radius: 15px; font-size: 12px;\">cd motif</pre>\n",
    "\n",
    "<hr style=\"border: 1px solid; border-color: #BBBBBB;\"></hr>\n",
    "\n",
    "<h3>Run motif discovery program</h3>\n",
    "\n",
    "<pre style=\"width: 450px; margin-top: 15px; margin-bottom: 15px; color: #000000; background-color: #EEEEEE; border: 1px solid; border-color: #AAAAAA; padding: 10px; border-radius: 15px; font-size: 12px;\">findMotifsGenome.pl \\\n",
    "~/MCB201B_F2024/Week_8/top_concordant_peaks.narrowPeak \\\n",
    "hg19 \\\n",
    "./ \\\n",
    "-size 50 \\\n",
    "-S 5</pre>\n",
    "\n",
    "<strong>Let's break down the code:</strong>\n",
    "\n",
    "<code>findMotifsGenome.pl</code>\n",
    "\n",
    "We call up the findMotifsGenome program.\n",
    "\n",
    "<hr style=\"border: 1px solid; border-color: #AAAAAA;\"></hr>\n",
    "\n",
    "<code>~/MCB201B_F2024/Week_8/top_concordant_peaks.narrowPeak</code>\n",
    "\n",
    "We provide it with our .narrowPeak file containing just our focused set of overlapping peaks.\n",
    "\n",
    "<hr style=\"border: 1px solid; border-color: #AAAAAA;\"></hr>\n",
    "\n",
    "<code>hg19</code>\n",
    "\n",
    "We indicate the genome version that it will use to pull sequences and find motifs. Recall that when we first set up HOMER, we preparsed the genome for 50bp fragments, and now we will be using that preparsed genome for motif discovery.\n",
    "\n",
    "<hr style=\"border: 1px solid; border-color: #AAAAAA;\"></hr>\n",
    "\n",
    "<code>./</code>\n",
    "\n",
    "We indicate the output directory as our current working directory.\n",
    "\n",
    "<hr style=\"border: 1px solid; border-color: #AAAAAA;\"></hr>\n",
    "\n",
    "<code>-size 50</code>\n",
    "\n",
    "We indicate the fragment size around the peak center where we want it to look for motifs. Here, it will look for motifs in the region &pm;50bp from the peak center.\n",
    "\n",
    "<hr style=\"border: 1px solid; border-color: #AAAAAA;\"></hr>\n",
    "\n",
    "<code>-S 5</code>\n",
    "\n",
    "This option specifies how many <i>de novo</i> motifs we want it to look for. The default option is 25, which is a lot. To keep the runtime down, we'll have it look for just 5 <i>de novo</i> motifs"
   ]
  },
  {
   "cell_type": "markdown",
   "id": "1a890024-b8ea-4cca-a720-79bef1a80b88",
   "metadata": {},
   "source": [
    "<h2>Take a look at the identified motifs</h2>\n",
    "\n",
    "Let's go ahead and take a look at the HTML output files to see what motifs we have identified within our peaks."
   ]
  },
  {
   "cell_type": "markdown",
   "id": "ac068f41-e096-4d8b-b06c-a31efd413d2c",
   "metadata": {},
   "source": [
    "<h1 style=\"font-size: 40px; margin-bottom: 0px;\">Visualize motif distributions</h1>\n",
    "\n",
    "<hr style=\"margin-left: 0px; border: 0.25px solid; border-color: #000000; width: 600px;\"></hr>"
   ]
  },
  {
   "cell_type": "markdown",
   "id": "b9753851-3f99-4a2b-9f94-d7328306ad39",
   "metadata": {},
   "source": [
    "Now let's take a look at all the distribution of all our various TEAD motifs just to get an idea of where TEAD might be binding and how that compares to the center of our peaks, which should theoretically map to where TEAD is binding.\n",
    "\n",
    "To do this, we'll make use of annotatePeaks' histogram mode, but we'll provide it with our TEAD motifs that we've found through our analysis. What annotatePeaks will do is go through our focused set of peaks and determine the distribution of our TEAD motifs around the center of all the peaks."
   ]
  },
  {
   "cell_type": "markdown",
   "id": "f1a1bd5f-2df9-47cd-bb98-0d887e9e30db",
   "metadata": {},
   "source": [
    "<h3>Change to <code>annotation</code> directory</h3>\n",
    "\n",
    "If you're currently in the <code>motif</code> directory, you can make use of <code>../annotation</code> to change to the parent directory and go directly to the annotation folder.\n",
    "\n",
    "<pre style=\"width: 450px; margin-top: 15px; margin-bottom: 15px; color: #000000; background-color: #EEEEEE; border: 1px solid; border-color: #AAAAAA; padding: 10px; border-radius: 15px; font-size: 12px;\">cd ../annotation</pre>\n",
    "\n",
    "<hr style=\"border: 1px solid; border-color: #BBBBBB;\"></hr>\n",
    "\n",
    "<h3>Obtain motif distributions around peak</h3>\n",
    "\n",
    "Note that the files that you will provide may differ since each time HOMER runs, the results may change slightly. So my example may be different than what you see in your motif discovery output.\n",
    "\n",
    "<pre style=\"width: 450px; margin-top: 15px; margin-bottom: 15px; color: #000000; background-color: #EEEEEE; border: 1px solid; border-color: #AAAAAA; padding: 10px; border-radius: 15px; font-size: 12px;\">annotatePeaks.pl \\\n",
    "~/MCB201B_F2024/Week_8/top_concordant_peaks.narrowPeak \\\n",
    "hg19 \\\n",
    "-m ../motif/knownResults/known1.motif \\\n",
    "../motif/knownResults/known2.motif \\\n",
    "../motif/knownResults/known3.motif \\\n",
    "../motif/knownResults/known4.motif \\\n",
    "../motif/knownResults/known5.motif \\\n",
    "-size 2000 \\\n",
    "-hist 20 \\\n",
    "> motif_distribution.txt</pre>\n",
    "\n",
    "<strong>Let's break down the code:</strong>\n",
    "\n",
    "<code>annotatePeaks.pl</code>\n",
    "\n",
    "This calls up the annotatePeaks program.\n",
    "\n",
    "<hr style=\"border: 1px solid; border-color: #AAAAAA;\"></hr>\n",
    "\n",
    "<code>~/MCB201B_F2024/Week_8/top_concordant_peaks.narrowPeak</code>\n",
    "\n",
    "This provides HOMER with our focused set of overlapping peaks.\n",
    "\n",
    "<hr style=\"border: 1px solid; border-color: #AAAAAA;\"></hr>\n",
    "\n",
    "<code>hg19</code>\n",
    "\n",
    "We specify the genome version.\n",
    "\n",
    "<hr style=\"border: 1px solid; border-color: #AAAAAA;\"></hr>\n",
    "\n",
    "<code>-m</code>\n",
    "\n",
    "This tells the program that we want it to do an analysis of a specific motif or set of motifs. In our case, we are providing it with motifs that we want it to use to determine their distributions within our focused set of peaks.\n",
    "\n",
    "<hr style=\"border: 1px solid; border-color: #AAAAAA;\"></hr>\n",
    "\n",
    "<code>&lt;.motif files&gt;</code>\n",
    "\n",
    "We provide the motif file(s) that we want the annotatePeaks program to use. We can supply it with a single motif file or more than one. In either case, the output will be a single file that contains information for each motif we provide it. Each motif will have 3 columns of data: one for total counts, one for (+) counts, and one for (-) counts.\n",
    "\n",
    "<hr style=\"border: 1px solid; border-color: #AAAAAA;\"></hr>\n",
    "\n",
    "<code>-size 2000</code>\n",
    "\n",
    "We specify the size of the region of interest that we're interested in looking at motif distributions. With a size set to 2000, we will be looking at a region &pm;1000bp centered on our peaks.\n",
    "\n",
    "<hr style=\"border: 1px solid; border-color: #AAAAAA;\"></hr>\n",
    "\n",
    "<code>-hist 20</code>\n",
    "\n",
    "We invoke the histogram mode of annotatePeaks and provide it with the bin size that it will use to determine the distribution of motifs in our specified region.\n",
    "\n",
    "<hr style=\"border: 1px solid; border-color: #AAAAAA;\"></hr>\n",
    "\n",
    "<code>-hist 20</code>&gt; motif_distribution.txt</code>\n",
    "\n",
    "We redirect the output to a file called <code>motif_distribution.txt</code> that we can then import into this Python notebook to plot."
   ]
  },
  {
   "cell_type": "markdown",
   "id": "b91687b0-5928-4949-89b0-11f466dc3317",
   "metadata": {},
   "source": [
    "<h2>Exercise #11: Plot the motif distributions as a lineplot together on the same plot</h2>"
   ]
  },
  {
   "cell_type": "markdown",
   "id": "8cf2c217-b3a7-4c9f-8ad1-0f98fcabbd40",
   "metadata": {},
   "source": [
    "See if you can plot the motif distributions of your TEAD motifs that you analyzed with HOMER.\n",
    "\n",
    "First, you'll want to import the file using the same method that we've been using:"
   ]
  },
  {
   "cell_type": "code",
   "execution_count": 3,
   "id": "33a01f91-af72-4ede-83ec-b845bdc98de9",
   "metadata": {},
   "outputs": [],
   "source": [
    "motif_distribution = pd.read_csv('~/MCB201B_F2024/Week_8/annotation/motif_distribution.txt',\n",
    "                                 delimiter='\\t'\n",
    "                                )"
   ]
  },
  {
   "cell_type": "markdown",
   "id": "2882c033-f839-47a8-952a-ac924980baf9",
   "metadata": {},
   "source": [
    "Check to make sure that it imported okay:"
   ]
  },
  {
   "cell_type": "code",
   "execution_count": 4,
   "id": "6be356d5-558b-4189-a64c-686193caf633",
   "metadata": {},
   "outputs": [
    {
     "data": {
      "text/html": [
       "<style type=\"text/css\">\n",
       "</style>\n",
       "<table id=\"T_e9ef7\">\n",
       "  <thead>\n",
       "    <tr>\n",
       "      <th class=\"blank level0\" >&nbsp;</th>\n",
       "      <th id=\"T_e9ef7_level0_col0\" class=\"col_heading level0 col0\" >Distance from Center (cmd=annotatePeaks.pl /home/jovyan/MCB201B_F2024/Week_8/top_concordant_peaks.narrowPeak hg19 -m ../motif/knownResults/known1.motif ../motif/knownResults/known2.motif ../motif/knownResults/known3.motif ../motif/knownResults/known4.motif ../motif/knownResults/known5.motif -size 2000 -hist 20)</th>\n",
       "      <th id=\"T_e9ef7_level0_col1\" class=\"col_heading level0 col1\" >TEAD4(TEA)/Tropoblast-Tead4-ChIP-Seq(GSE37350)/Homer total sites</th>\n",
       "      <th id=\"T_e9ef7_level0_col2\" class=\"col_heading level0 col2\" >TEAD4(TEA)/Tropoblast-Tead4-ChIP-Seq(GSE37350)/Homer + sites</th>\n",
       "      <th id=\"T_e9ef7_level0_col3\" class=\"col_heading level0 col3\" >TEAD4(TEA)/Tropoblast-Tead4-ChIP-Seq(GSE37350)/Homer - sites</th>\n",
       "      <th id=\"T_e9ef7_level0_col4\" class=\"col_heading level0 col4\" >TEAD2(TEA)/Py2T-Tead2-ChIP-Seq(GSE55709)/Homer total sites</th>\n",
       "      <th id=\"T_e9ef7_level0_col5\" class=\"col_heading level0 col5\" >TEAD2(TEA)/Py2T-Tead2-ChIP-Seq(GSE55709)/Homer + sites</th>\n",
       "      <th id=\"T_e9ef7_level0_col6\" class=\"col_heading level0 col6\" >TEAD2(TEA)/Py2T-Tead2-ChIP-Seq(GSE55709)/Homer - sites</th>\n",
       "      <th id=\"T_e9ef7_level0_col7\" class=\"col_heading level0 col7\" >TEAD3(TEA)/HepG2-TEAD3-ChIP-Seq(Encode)/Homer total sites</th>\n",
       "      <th id=\"T_e9ef7_level0_col8\" class=\"col_heading level0 col8\" >TEAD3(TEA)/HepG2-TEAD3-ChIP-Seq(Encode)/Homer + sites</th>\n",
       "      <th id=\"T_e9ef7_level0_col9\" class=\"col_heading level0 col9\" >TEAD3(TEA)/HepG2-TEAD3-ChIP-Seq(Encode)/Homer - sites</th>\n",
       "      <th id=\"T_e9ef7_level0_col10\" class=\"col_heading level0 col10\" >TEAD1(TEAD)/HepG2-TEAD1-ChIP-Seq(Encode)/Homer total sites</th>\n",
       "      <th id=\"T_e9ef7_level0_col11\" class=\"col_heading level0 col11\" >TEAD1(TEAD)/HepG2-TEAD1-ChIP-Seq(Encode)/Homer + sites</th>\n",
       "      <th id=\"T_e9ef7_level0_col12\" class=\"col_heading level0 col12\" >TEAD1(TEAD)/HepG2-TEAD1-ChIP-Seq(Encode)/Homer - sites</th>\n",
       "      <th id=\"T_e9ef7_level0_col13\" class=\"col_heading level0 col13\" >TEAD(TEA)/Fibroblast-PU.1-ChIP-Seq(Unpublished)/Homer total sites</th>\n",
       "      <th id=\"T_e9ef7_level0_col14\" class=\"col_heading level0 col14\" >TEAD(TEA)/Fibroblast-PU.1-ChIP-Seq(Unpublished)/Homer + sites</th>\n",
       "      <th id=\"T_e9ef7_level0_col15\" class=\"col_heading level0 col15\" >TEAD(TEA)/Fibroblast-PU.1-ChIP-Seq(Unpublished)/Homer - sites</th>\n",
       "      <th id=\"T_e9ef7_level0_col16\" class=\"col_heading level0 col16\" >A frequency</th>\n",
       "      <th id=\"T_e9ef7_level0_col17\" class=\"col_heading level0 col17\" >C frequency</th>\n",
       "      <th id=\"T_e9ef7_level0_col18\" class=\"col_heading level0 col18\" >G frequency</th>\n",
       "      <th id=\"T_e9ef7_level0_col19\" class=\"col_heading level0 col19\" >T frequency</th>\n",
       "    </tr>\n",
       "  </thead>\n",
       "  <tbody>\n",
       "    <tr>\n",
       "      <th id=\"T_e9ef7_level0_row0\" class=\"row_heading level0 row0\" >0</th>\n",
       "      <td id=\"T_e9ef7_row0_col0\" class=\"data row0 col0\" >-1000</td>\n",
       "      <td id=\"T_e9ef7_row0_col1\" class=\"data row0 col1\" >0.000000</td>\n",
       "      <td id=\"T_e9ef7_row0_col2\" class=\"data row0 col2\" >0.000000</td>\n",
       "      <td id=\"T_e9ef7_row0_col3\" class=\"data row0 col3\" >0.000000</td>\n",
       "      <td id=\"T_e9ef7_row0_col4\" class=\"data row0 col4\" >0.000000</td>\n",
       "      <td id=\"T_e9ef7_row0_col5\" class=\"data row0 col5\" >0.000000</td>\n",
       "      <td id=\"T_e9ef7_row0_col6\" class=\"data row0 col6\" >0.000000</td>\n",
       "      <td id=\"T_e9ef7_row0_col7\" class=\"data row0 col7\" >0.000000</td>\n",
       "      <td id=\"T_e9ef7_row0_col8\" class=\"data row0 col8\" >0.000137</td>\n",
       "      <td id=\"T_e9ef7_row0_col9\" class=\"data row0 col9\" >0.000000</td>\n",
       "      <td id=\"T_e9ef7_row0_col10\" class=\"data row0 col10\" >0.000000</td>\n",
       "      <td id=\"T_e9ef7_row0_col11\" class=\"data row0 col11\" >0.000137</td>\n",
       "      <td id=\"T_e9ef7_row0_col12\" class=\"data row0 col12\" >0.000000</td>\n",
       "      <td id=\"T_e9ef7_row0_col13\" class=\"data row0 col13\" >0.000000</td>\n",
       "      <td id=\"T_e9ef7_row0_col14\" class=\"data row0 col14\" >0.000000</td>\n",
       "      <td id=\"T_e9ef7_row0_col15\" class=\"data row0 col15\" >0.000000</td>\n",
       "      <td id=\"T_e9ef7_row0_col16\" class=\"data row0 col16\" >0.260548</td>\n",
       "      <td id=\"T_e9ef7_row0_col17\" class=\"data row0 col17\" >0.235068</td>\n",
       "      <td id=\"T_e9ef7_row0_col18\" class=\"data row0 col18\" >0.249041</td>\n",
       "      <td id=\"T_e9ef7_row0_col19\" class=\"data row0 col19\" >0.255342</td>\n",
       "    </tr>\n",
       "    <tr>\n",
       "      <th id=\"T_e9ef7_level0_row1\" class=\"row_heading level0 row1\" >1</th>\n",
       "      <td id=\"T_e9ef7_row1_col0\" class=\"data row1 col0\" >-980</td>\n",
       "      <td id=\"T_e9ef7_row1_col1\" class=\"data row1 col1\" >0.000820</td>\n",
       "      <td id=\"T_e9ef7_row1_col2\" class=\"data row1 col2\" >0.000137</td>\n",
       "      <td id=\"T_e9ef7_row1_col3\" class=\"data row1 col3\" >0.000546</td>\n",
       "      <td id=\"T_e9ef7_row1_col4\" class=\"data row1 col4\" >0.000410</td>\n",
       "      <td id=\"T_e9ef7_row1_col5\" class=\"data row1 col5\" >0.000137</td>\n",
       "      <td id=\"T_e9ef7_row1_col6\" class=\"data row1 col6\" >0.000273</td>\n",
       "      <td id=\"T_e9ef7_row1_col7\" class=\"data row1 col7\" >0.001093</td>\n",
       "      <td id=\"T_e9ef7_row1_col8\" class=\"data row1 col8\" >0.000820</td>\n",
       "      <td id=\"T_e9ef7_row1_col9\" class=\"data row1 col9\" >0.000137</td>\n",
       "      <td id=\"T_e9ef7_row1_col10\" class=\"data row1 col10\" >0.000956</td>\n",
       "      <td id=\"T_e9ef7_row1_col11\" class=\"data row1 col11\" >0.000683</td>\n",
       "      <td id=\"T_e9ef7_row1_col12\" class=\"data row1 col12\" >0.000000</td>\n",
       "      <td id=\"T_e9ef7_row1_col13\" class=\"data row1 col13\" >0.000683</td>\n",
       "      <td id=\"T_e9ef7_row1_col14\" class=\"data row1 col14\" >0.000137</td>\n",
       "      <td id=\"T_e9ef7_row1_col15\" class=\"data row1 col15\" >0.000410</td>\n",
       "      <td id=\"T_e9ef7_row1_col16\" class=\"data row1 col16\" >0.261233</td>\n",
       "      <td id=\"T_e9ef7_row1_col17\" class=\"data row1 col17\" >0.241096</td>\n",
       "      <td id=\"T_e9ef7_row1_col18\" class=\"data row1 col18\" >0.243562</td>\n",
       "      <td id=\"T_e9ef7_row1_col19\" class=\"data row1 col19\" >0.254110</td>\n",
       "    </tr>\n",
       "    <tr>\n",
       "      <th id=\"T_e9ef7_level0_row2\" class=\"row_heading level0 row2\" >2</th>\n",
       "      <td id=\"T_e9ef7_row2_col0\" class=\"data row2 col0\" >-960</td>\n",
       "      <td id=\"T_e9ef7_row2_col1\" class=\"data row2 col1\" >0.000273</td>\n",
       "      <td id=\"T_e9ef7_row2_col2\" class=\"data row2 col2\" >0.000000</td>\n",
       "      <td id=\"T_e9ef7_row2_col3\" class=\"data row2 col3\" >0.000410</td>\n",
       "      <td id=\"T_e9ef7_row2_col4\" class=\"data row2 col4\" >0.000410</td>\n",
       "      <td id=\"T_e9ef7_row2_col5\" class=\"data row2 col5\" >0.000000</td>\n",
       "      <td id=\"T_e9ef7_row2_col6\" class=\"data row2 col6\" >0.000410</td>\n",
       "      <td id=\"T_e9ef7_row2_col7\" class=\"data row2 col7\" >0.001093</td>\n",
       "      <td id=\"T_e9ef7_row2_col8\" class=\"data row2 col8\" >0.000683</td>\n",
       "      <td id=\"T_e9ef7_row2_col9\" class=\"data row2 col9\" >0.000410</td>\n",
       "      <td id=\"T_e9ef7_row2_col10\" class=\"data row2 col10\" >0.000410</td>\n",
       "      <td id=\"T_e9ef7_row2_col11\" class=\"data row2 col11\" >0.000546</td>\n",
       "      <td id=\"T_e9ef7_row2_col12\" class=\"data row2 col12\" >0.000137</td>\n",
       "      <td id=\"T_e9ef7_row2_col13\" class=\"data row2 col13\" >0.000410</td>\n",
       "      <td id=\"T_e9ef7_row2_col14\" class=\"data row2 col14\" >0.000000</td>\n",
       "      <td id=\"T_e9ef7_row2_col15\" class=\"data row2 col15\" >0.000410</td>\n",
       "      <td id=\"T_e9ef7_row2_col16\" class=\"data row2 col16\" >0.249863</td>\n",
       "      <td id=\"T_e9ef7_row2_col17\" class=\"data row2 col17\" >0.241644</td>\n",
       "      <td id=\"T_e9ef7_row2_col18\" class=\"data row2 col18\" >0.237671</td>\n",
       "      <td id=\"T_e9ef7_row2_col19\" class=\"data row2 col19\" >0.270822</td>\n",
       "    </tr>\n",
       "    <tr>\n",
       "      <th id=\"T_e9ef7_level0_row3\" class=\"row_heading level0 row3\" >3</th>\n",
       "      <td id=\"T_e9ef7_row3_col0\" class=\"data row3 col0\" >-940</td>\n",
       "      <td id=\"T_e9ef7_row3_col1\" class=\"data row3 col1\" >0.000273</td>\n",
       "      <td id=\"T_e9ef7_row3_col2\" class=\"data row3 col2\" >0.000000</td>\n",
       "      <td id=\"T_e9ef7_row3_col3\" class=\"data row3 col3\" >0.000273</td>\n",
       "      <td id=\"T_e9ef7_row3_col4\" class=\"data row3 col4\" >0.000000</td>\n",
       "      <td id=\"T_e9ef7_row3_col5\" class=\"data row3 col5\" >0.000000</td>\n",
       "      <td id=\"T_e9ef7_row3_col6\" class=\"data row3 col6\" >0.000000</td>\n",
       "      <td id=\"T_e9ef7_row3_col7\" class=\"data row3 col7\" >0.000273</td>\n",
       "      <td id=\"T_e9ef7_row3_col8\" class=\"data row3 col8\" >0.000137</td>\n",
       "      <td id=\"T_e9ef7_row3_col9\" class=\"data row3 col9\" >0.000137</td>\n",
       "      <td id=\"T_e9ef7_row3_col10\" class=\"data row3 col10\" >0.000683</td>\n",
       "      <td id=\"T_e9ef7_row3_col11\" class=\"data row3 col11\" >0.000273</td>\n",
       "      <td id=\"T_e9ef7_row3_col12\" class=\"data row3 col12\" >0.000273</td>\n",
       "      <td id=\"T_e9ef7_row3_col13\" class=\"data row3 col13\" >0.000273</td>\n",
       "      <td id=\"T_e9ef7_row3_col14\" class=\"data row3 col14\" >0.000000</td>\n",
       "      <td id=\"T_e9ef7_row3_col15\" class=\"data row3 col15\" >0.000410</td>\n",
       "      <td id=\"T_e9ef7_row3_col16\" class=\"data row3 col16\" >0.262877</td>\n",
       "      <td id=\"T_e9ef7_row3_col17\" class=\"data row3 col17\" >0.229178</td>\n",
       "      <td id=\"T_e9ef7_row3_col18\" class=\"data row3 col18\" >0.250959</td>\n",
       "      <td id=\"T_e9ef7_row3_col19\" class=\"data row3 col19\" >0.256986</td>\n",
       "    </tr>\n",
       "    <tr>\n",
       "      <th id=\"T_e9ef7_level0_row4\" class=\"row_heading level0 row4\" >4</th>\n",
       "      <td id=\"T_e9ef7_row4_col0\" class=\"data row4 col0\" >-920</td>\n",
       "      <td id=\"T_e9ef7_row4_col1\" class=\"data row4 col1\" >0.000546</td>\n",
       "      <td id=\"T_e9ef7_row4_col2\" class=\"data row4 col2\" >0.000273</td>\n",
       "      <td id=\"T_e9ef7_row4_col3\" class=\"data row4 col3\" >0.000137</td>\n",
       "      <td id=\"T_e9ef7_row4_col4\" class=\"data row4 col4\" >0.000410</td>\n",
       "      <td id=\"T_e9ef7_row4_col5\" class=\"data row4 col5\" >0.000137</td>\n",
       "      <td id=\"T_e9ef7_row4_col6\" class=\"data row4 col6\" >0.000137</td>\n",
       "      <td id=\"T_e9ef7_row4_col7\" class=\"data row4 col7\" >0.000683</td>\n",
       "      <td id=\"T_e9ef7_row4_col8\" class=\"data row4 col8\" >0.000546</td>\n",
       "      <td id=\"T_e9ef7_row4_col9\" class=\"data row4 col9\" >0.000273</td>\n",
       "      <td id=\"T_e9ef7_row4_col10\" class=\"data row4 col10\" >0.000820</td>\n",
       "      <td id=\"T_e9ef7_row4_col11\" class=\"data row4 col11\" >0.000410</td>\n",
       "      <td id=\"T_e9ef7_row4_col12\" class=\"data row4 col12\" >0.000410</td>\n",
       "      <td id=\"T_e9ef7_row4_col13\" class=\"data row4 col13\" >0.000410</td>\n",
       "      <td id=\"T_e9ef7_row4_col14\" class=\"data row4 col14\" >0.000137</td>\n",
       "      <td id=\"T_e9ef7_row4_col15\" class=\"data row4 col15\" >0.000137</td>\n",
       "      <td id=\"T_e9ef7_row4_col16\" class=\"data row4 col16\" >0.259178</td>\n",
       "      <td id=\"T_e9ef7_row4_col17\" class=\"data row4 col17\" >0.237945</td>\n",
       "      <td id=\"T_e9ef7_row4_col18\" class=\"data row4 col18\" >0.239589</td>\n",
       "      <td id=\"T_e9ef7_row4_col19\" class=\"data row4 col19\" >0.263288</td>\n",
       "    </tr>\n",
       "  </tbody>\n",
       "</table>\n"
      ],
      "text/plain": [
       "<pandas.io.formats.style.Styler at 0x7f3b713ebcd0>"
      ]
     },
     "execution_count": 4,
     "metadata": {},
     "output_type": "execute_result"
    }
   ],
   "source": [
    "motif_distribution.head().style"
   ]
  },
  {
   "cell_type": "markdown",
   "id": "a9598ffa-1c9e-47b1-ba4d-5118c8a875fb",
   "metadata": {},
   "source": [
    "The column headers are pretty long, but for this, we'll just make use of <code>pd.DataFrame.iloc</code> and slice notation to pull columns to plot.\n",
    "\n",
    "See if you can set up a for loop to plot all your lineplots onto the same plot."
   ]
  },
  {
   "cell_type": "code",
   "execution_count": 7,
   "id": "a801717e-5004-4fb4-b4c8-12f65875de66",
   "metadata": {},
   "outputs": [
    {
     "data": {
      "image/png": "[encoded data removed]",
      "text/plain": [
       "<Figure size 640x480 with 1 Axes>"
      ]
     },
     "metadata": {},
     "output_type": "display_data"
    }
   ],
   "source": [
    "fig, ax = plt.subplots()\n",
    "\n",
    "col = [1, 4, 7, 10 , 13]\n",
    "labels = ['TEAD4', 'TEAD2', 'TEAD3', 'TEAD1', 'TEAD']\n",
    "\n",
    "for a, b in zip(col, labels):\n",
    "    sns.lineplot(x=motif_distribution.iloc[:,0],\n",
    "                 y=motif_distribution.iloc[:,a],\n",
    "                 label=b\n",
    "                )\n",
    "\n",
    "plt.xlabel('Distance from peak center (bp)')\n",
    "plt.ylabel('Count per bp per peak')\n",
    "sns.despine()"
   ]
  },
  {
   "cell_type": "markdown",
   "id": "0edfa2e9-928c-4d08-ba61-b7681c3c3752",
   "metadata": {},
   "source": [
    "<h1 style=\"font-size: 40px; margin-bottom: 0px;\">References</h1>\n",
    "\n",
    "<hr style=\"margin-left: 0px; border: 0.25px solid; border-color: #000000; width: 300px;\"></hr>"
   ]
  },
  {
   "cell_type": "markdown",
   "id": "be139c84-a5c3-41f1-89ee-fbd1a52b061a",
   "metadata": {},
   "source": [
    "<a href=\"https://www.nature.com/articles/ncb3216\" rel=\"noopener noreferrer\" target=\"_blank\"><u>Zanconato et al 2015 Nat Cell Biol:</u></a> Genome-wide association between YAP/TAZ/TEAD and AP-1 at enhancers drives oncogenic growth\n",
    "\n",
    "<a href=\"https://genome.cshlp.org/content/22/9/1813\" rel=\"noopener noreferrer\" target=\"_blank\"><u>Landt et al 2012 Genome Res:</u></a> ChIP-seq guidelines and practices of the ENCODE and modENCODE consortia\n",
    "\n",
    "<a href=\"https://projecteuclid.org/journals/annals-of-applied-statistics/volume-5/issue-3/Measuring-reproducibility-of-high-throughput-experiments/10.1214/11-AOAS466.full\" rel=\"noopener noreferrer\" target=\"_blank\"><u>Li et al 2011 Ann Appl Stat:</u></a> Measuring reproducibility of high-throughput experiments"
   ]
  },
  {
   "cell_type": "code",
   "execution_count": null,
   "id": "fcf3888d-e069-4bd6-b24d-f5f3ed7a10d4",
   "metadata": {},
   "outputs": [],
   "source": []
  }
 ],
 "metadata": {
  "kernelspec": {
   "display_name": "Python [conda env:root] *",
   "language": "python",
   "name": "conda-root-py"
  },
  "language_info": {
   "codemirror_mode": {
    "name": "ipython",
    "version": 3
   },
   "file_extension": ".py",
   "mimetype": "text/x-python",
   "name": "python",
   "nbconvert_exporter": "python",
   "pygments_lexer": "ipython3",
   "version": "3.11.0"
  }
 },
 "nbformat": 4,
 "nbformat_minor": 5
}
