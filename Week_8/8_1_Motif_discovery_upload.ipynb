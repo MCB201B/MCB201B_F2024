{
 "cells": [
  {
   "cell_type": "markdown",
   "id": "b09d7d58-3c68-4443-b7aa-de7334d09bf7",
   "metadata": {},
   "source": [
    "<h1 style=\"font-size: 40px; margin-bottom: 0px;\">8.1 Playing with peak data and motif discovery</h1>\n",
    "\n",
    "<hr style=\"margin-left: 0px; border: 0.25px solid; border-color: #000000; width: 900px;\"></hr>"
   ]
  },
  {
   "cell_type": "markdown",
   "id": "20805943-7a5d-45a3-8017-9ad94d8eca15",
   "metadata": {},
   "source": [
    "Today, we'll be switching between Terminal and our Python notebook, but today's lesson will be contained in this file. Last week, we used bowtie2 to align our raw reads to the h19 reference genome. We then took those aligned reads and visualized the aligned reads using IGV. We then used macs2 to identify significant peaks in our taz_1 and taz_2 datasets, and we were able to see how the reads pile up on both sides of the footprint of a DNA binding protein.\n",
    "\n",
    "First, we will install a program called <a href=\"http://homer.ucsd.edu/homer/\" rel=\"noopener noreferrer\" target=\"_blank\"><u>HOMER (Hypergeometric Optimization of Motif EnRichment)</u></a>, and then we will use it to take a look at the distribution of our reads around our summits. We'll also take a closer look at our peak data by looking at the intersection of our peaks, and taking a look at the concordance of the two TAZ replicates. Even though we can't get IDR on here without running into errors, we can still take a look at how well overlapping peaks match up to one another. To do this, we'll make use of Terminal and Python to play around with our data.\n",
    "\n",
    "Once we have our merged peaks, we can perform motif discovery on the overlapping peaks to see what are the binding sites recognized by the DNA binding protein(s) that TAZ is interacting with in order to regulate gene expression.\n",
    "\n",
    "<strong>Learning objectives:</strong>\n",
    "\n",
    "<ul>\n",
    "    <li>Learn to install and use simple HOMER functionality</li>\n",
    "    <li>Learn to plot the peak profile</li>\n",
    "    <li>Identify overlapping peaks</li>\n",
    "    <li>Take a basic look at the concordance of the two replicates</li>\n",
    "    <li>Pull data from peaks ranking high in both replicates</li>\n",
    "</ul>"
   ]
  },
  {
   "cell_type": "code",
   "execution_count": null,
   "id": "d4ab5444-3165-42c1-9183-ed762990683d",
   "metadata": {},
   "outputs": [],
   "source": [
    "import pandas as pd\n",
    "import numpy as np\n",
    "import matplotlib.pyplot as plt\n",
    "import seaborn as sns"
   ]
  },
  {
   "cell_type": "markdown",
   "id": "9b41a3fb-e529-48f8-aceb-d8d13df6fc2e",
   "metadata": {},
   "source": [
    "<h1 style=\"font-size: 40px; margin-bottom: 0px;\">Installing HOMER</h1>\n",
    "\n",
    "<hr style=\"margin-left: 0px; border: 0.25px solid; border-color: #000000; width: 600px;\"></hr>"
   ]
  },
  {
   "cell_type": "markdown",
   "id": "243ae0cf-6043-4400-88c4-ab9bcbc883a9",
   "metadata": {},
   "source": [
    "HOMER is a multifunctional program that can not only perform motif discovery, which is what we'll be primarily using it for, but it also has a lot of next-gen sequencing analysis functionality. For instance, it can also be used to call peaks, much like macs2.\n",
    "\n",
    "HOMER was primarily developed by Chris Benner at UCSD."
   ]
  },
  {
   "cell_type": "markdown",
   "id": "e9417150-baef-421c-971b-59c29c5d1cb2",
   "metadata": {},
   "source": [
    "I've placed a <code>configureHomer.pl</code> file in our shared class directory. This file will be used to install the files needed for HOMER to run on your Biology Hub server.\n",
    "\n",
    "First, you'll want to make a new directory in your home directory that will hold a <u>copy</u> of the <code>configureHomer.pl</code> file.\n",
    "\n",
    "<h3>Change to home directory</h3>\n",
    "\n",
    "<pre style=\"width: 450px; margin-top: 15px; margin-bottom: 15px; color: #000000; background-color: #EEEEEE; border: 1px solid; border-color: #AAAAAA; padding: 10px; border-radius: 15px; font-size: 12px;\">cd ~</pre>\n",
    "\n",
    "<hr style=\"border: 1px solid; border-color: #BBBBBB;\"></hr>\n",
    "\n",
    "<h3>Make a new directory called <code>homer</code></h3>\n",
    "\n",
    "<pre style=\"width: 450px; margin-top: 15px; margin-bottom: 15px; color: #000000; background-color: #EEEEEE; border: 1px solid; border-color: #AAAAAA; padding: 10px; border-radius: 15px; font-size: 12px;\">mkdir homer</pre>\n",
    "\n",
    "<hr style=\"border: 1px solid; border-color: #BBBBBB;\"></hr>\n",
    "\n",
    "<h3>Copy over <code>configureHomer.pl</code> to your new folder</h3>\n",
    "\n",
    "<pre style=\"width: 450px; margin-top: 15px; margin-bottom: 15px; color: #000000; background-color: #EEEEEE; border: 1px solid; border-color: #AAAAAA; padding: 10px; border-radius: 15px; font-size: 12px;\">cd homer</pre>\n",
    "\n",
    "<pre style=\"width: 450px; margin-top: 15px; margin-bottom: 15px; color: #000000; background-color: #EEEEEE; border: 1px solid; border-color: #AAAAAA; padding: 10px; border-radius: 15px; font-size: 12px;\">cp ~/shared/course/mcb201b-shared-readwrite/configureHomer.pl ./</pre>\n",
    "\n",
    "<hr style=\"border: 1px solid; border-color: #BBBBBB;\"></hr>"
   ]
  },
  {
   "cell_type": "markdown",
   "id": "199c929e-eea4-47aa-90b9-39ba69a5da0b",
   "metadata": {},
   "source": [
    "Once you've copied over <code>configureHomer.pl</code>, you'll now need to run it in order to install the necessary files.\n",
    "\n",
    "<h3>Run <code>configureHomer.pl</code></h3>\n",
    "\n",
    "Since this file uses Perl, another coding language, we will need to run it directly in command line.\n",
    "\n",
    "<pre style=\"width: 450px; margin-top: 15px; margin-bottom: 15px; color: #000000; background-color: #EEEEEE; border: 1px solid; border-color: #AAAAAA; padding: 10px; border-radius: 15px; font-size: 12px;\">perl configureHomer.pl -install</pre>\n",
    "\n",
    "You should see that HOMER is now being installed. There might be a few warnings, but there shouldn't be any errors.\n",
    "\n",
    "<hr style=\"border: 1px solid; border-color: #BBBBBB;\"></hr>\n",
    "\n",
    "<h3>Update PATH to be able to run HOMER</h3>\n",
    "\n",
    "We'll need to tell Terminal where to go to find the different files that HOMER uses. This temporarily updates the PATH, but since the server reinitializes things, you'll need to go to your <code>homer</code> directory and re-run this line to update the PATH each time you start up your server.\n",
    "\n",
    "<pre style=\"width: 450px; margin-top: 15px; margin-bottom: 15px; color: #000000; background-color: #EEEEEE; border: 1px solid; border-color: #AAAAAA; padding: 10px; border-radius: 15px; font-size: 12px;\">PATH=$PATH:/home/jovyan/homer/.//bin/</pre>\n",
    "\n",
    "<hr style=\"border: 1px solid; border-color: #BBBBBB;\"></hr>"
   ]
  },
  {
   "cell_type": "markdown",
   "id": "fc533165-effb-4c8c-bba6-9a6fae2ad822",
   "metadata": {},
   "source": [
    "<h3>Install hg19 genome</h3>\n",
    "\n",
    "Since our alignments were to the hg19 genome, we'll need to install this genome to use with HOMER and then prepare it for use later on when we perform motif discovery. First, let's look at what we currently have installed:\n",
    "\n",
    "<pre style=\"width: 450px; margin-top: 15px; margin-bottom: 15px; color: #000000; background-color: #EEEEEE; border: 1px solid; border-color: #AAAAAA; padding: 10px; border-radius: 15px; font-size: 12px;\">perl configureHomer.pl -list</pre>\n",
    "\n",
    "You should see that we don't have the hg19 genome installed, so let's go ahead and install it:\n",
    "\n",
    "<pre style=\"width: 450px; margin-top: 15px; margin-bottom: 15px; color: #000000; background-color: #EEEEEE; border: 1px solid; border-color: #AAAAAA; padding: 10px; border-radius: 15px; font-size: 12px;\">perl configureHomer.pl -install hg19</pre>\n",
    "\n",
    "<hr style=\"border: 1px solid; border-color: #BBBBBB;\"></hr>\n",
    "\n",
    "<h3>Preparse hg19 genome</h3>\n",
    "\n",
    "Once you've installed the hg19 genome, you'll see a lot of new files under <code>~/homer/data/genomes/h19</code>, and if an analysis requires you to provide an input genome, you can simply specifiy <code>hg19</code>.\n",
    "\n",
    "Before we can use it though, we'll have to prepare it for use in motif discovery by preparsing the genome.\n",
    "\n",
    "<pre style=\"width: 450px; margin-top: 15px; margin-bottom: 15px; color: #000000; background-color: #EEEEEE; border: 1px solid; border-color: #AAAAAA; padding: 10px; border-radius: 15px; font-size: 12px;\">preparseGenome.pl hg19 -size 50</pre>\n",
    "\n",
    "Later on when we perform motif discovery, we can set the size of the region we are analyzing for motifs."
   ]
  },
  {
   "cell_type": "markdown",
   "id": "620d3efc-bb7a-47ec-8e57-c4ed85dcce56",
   "metadata": {},
   "source": [
    "<h1 style=\"font-size: 40px; margin-bottom: 0px;\">Plot peak profile</h1>\n",
    "\n",
    "<hr style=\"margin-left: 0px; border: 0.25px solid; border-color: #000000; width: 600px;\"></hr>"
   ]
  },
  {
   "cell_type": "markdown",
   "id": "1bee32ae-a4fe-46cc-be27-d10d1b83b05c",
   "metadata": {},
   "source": [
    "To get an idea of how all the reads are distributed around their summits, we can plot the peak profile for our two replicates."
   ]
  },
  {
   "cell_type": "markdown",
   "id": "92f05e59-ee42-489d-8074-c98859957934",
   "metadata": {},
   "source": [
    "<h3>Change directories to prepare to plot peak profiles</h3>\n",
    "\n",
    "Change your current working directory to this week's directory and make a folder named <code>plot_profile</code>. Set your current working directory to the new folder you created.\n",
    "\n",
    "<pre style=\"width: 450px; margin-top: 15px; margin-bottom: 15px; color: #000000; background-color: #EEEEEE; border: 1px solid; border-color: #AAAAAA; padding: 10px; border-radius: 15px; font-size: 12px;\">cd ~/MCB201B_F2024/Week_8</pre>\n",
    "\n",
    "<pre style=\"width: 450px; margin-top: 15px; margin-bottom: 15px; color: #000000; background-color: #EEEEEE; border: 1px solid; border-color: #AAAAAA; padding: 10px; border-radius: 15px; font-size: 12px;\">mkdir plot_profile</pre>\n",
    "\n",
    "<pre style=\"width: 450px; margin-top: 15px; margin-bottom: 15px; color: #000000; background-color: #EEEEEE; border: 1px solid; border-color: #AAAAAA; padding: 10px; border-radius: 15px; font-size: 12px;\">cd plot_profile</pre>\n",
    "\n",
    "<hr style=\"border: 1px solid; border-color: #BBBBBB;\"></hr>\n",
    "\n",
    "<h3>Use annotatePeaks.pl to generate histograms</h3>\n",
    "\n",
    "HOMER has a program for peak annotation called <code>annotatePeaks.pl</code>, which like the other HOMER functions, you can run directly in Terminal. <a href=\"http://homer.ucsd.edu/homer/ngs/annotation.html\" rel=\"noopener noreferrer\" target=\"_blank\"><u>Documentation for that is here.</u></a>\n",
    "\n",
    "<code>annotatePeaks.pl</code> is the workhorse of HOMER. It is multifunctional and can be used for a variety of purposes. It's primary purpose is, as it's name implies, to annotate the peaks identified through your peak calling program by identifying nearby genes, distance to the nearest transcription start sites (TSSs), and annotate your peaks with genomic features. It can also be used to generate histograms and heatmaps, which is one of the functions we'll be using it for here.\n",
    "\n",
    "The syntax to use this program in command line is fairly straightforward; however, there are a number of different options that you can invoke that will change how the program runs, resulting in pretty different outputs.\n",
    "\n",
    "If we take a look at the documentation to see how we can use this program:\n",
    "\n",
    "<pre style=\"width: 450px; margin-top: 15px; margin-bottom: 15px; color: #000000; background-color: #EEEEEE; border: 1px solid; border-color: #AAAAAA; padding: 10px; border-radius: 15px; font-size: 12px;\">annotatePeaks.pl &lt;peak file | tss&gt; &lt;genome version&gt; &lbrack;options&rbrack;</pre>\n",
    "\n",
    "We can either supply it with a peak file, such as our <code>.narrowPeak</code> or <code>*_summit.bed</code> output from macs2. Alternatively, we can specify it to carry out a transcription start site (TSS)-centric analysis, in which case a peak file is not needed. Another way that we can alter how <code>annotatePeaks.pl</code> runs is by supplying it with additional options such as <code>-hist</code>, which will generate a histogram output if we supply it with tag counts in the form of a bedGraph file using the option <code>-bedGraph</code>.\n",
    "\n",
    "<hr style=\"border: 1px solid; border-color: #BBBBBB;\"></hr>\n",
    "\n",
    "<h3>Obtain distribution of read counts</h3>\n",
    "\n",
    "To obtain the distribution of reads around the summit for taz_1, you'll need your <code>10M_taz_1_summits.bed</code> file, as well as the bedgraph file that macs2 output, which contains the distribution of reads across the whole genome.\n",
    "\n",
    "<pre style=\"width: 450px; margin-top: 15px; margin-bottom: 15px; color: #000000; background-color: #EEEEEE; border: 1px solid; border-color: #AAAAAA; padding: 10px; border-radius: 15px; font-size: 12px;\">annotatePeaks.pl \\\n",
    "~/MCB201B_F2024/Week_7/macs2/10M_taz_1_summits.bed \\\n",
    "hg19 \\\n",
    "-bedGraph ~/MCB201B_F2024/Week_7/macs2/10M_taz_1_treat_pileup.bdg \\\n",
    "-size 2000 \\\n",
    "-hist 10 > 10M_taz_1_summit_profile.txt</pre>\n",
    "\n",
    "<strong>Let's break down this line of code:</strong>\n",
    "\n",
    "<code>annotatePeaks.pl</code>\n",
    "\n",
    "This calls up the annotatePeaks program within HOMER.\n",
    "\n",
    "<hr style=\"border: 1px solid; border-color: #AAAAAA;\"></hr>\n",
    "\n",
    "<code>~/MCB201B_F2024/Week_7/macs2/10M_taz_1_summits.bed</code>\n",
    "\n",
    "Here, we are providing the annotatePeaks program with a bed file containing the coordinates for our peak summits because we're interested in taking a look at the distribution of read counts around our summits. \n",
    "\n",
    "<hr style=\"border: 1px solid; border-color: #AAAAAA;\"></hr>\n",
    "\n",
    "<code>hg19</code>\n",
    "\n",
    "We specify the reference genome that we want the program to use. We can just provide it with the name of the reference genome <code>hg19</code>, and HOMER will know the directory containing the files for our reference genome that we installed earlier.\n",
    "\n",
    "<hr style=\"border: 1px solid; border-color: #AAAAAA;\"></hr>\n",
    "\n",
    "<code>-bedGraph ~/MCB201B_F2024/Week_7/macs2/10M_taz_1_treat_pileup.bdg</code>\n",
    "\n",
    "While we've provided annotatePeaks with the genomic coordinates to each of our summits, we need to also provide it with information on the read coverage throughout the genome so that it can determine the distribution of reads around our summits. So here, we supply it with the bedGraph file that was generated by macs2, since this file contains information on read coverage for each location in the genome.\n",
    "\n",
    "<hr style=\"border: 1px solid; border-color: #AAAAAA;\"></hr>\n",
    "\n",
    "<code>-size 2000</code>\n",
    "\n",
    "The <code>-size</code> option specifies the size of our region of interest, centered around what we're interested in, which in our case are the peak summits. By specifying a size of 2000, we will be generating a histogram of a region 1kb upstream and downstream of the summit.\n",
    "\n",
    "<hr style=\"border: 1px solid; border-color: #AAAAAA;\"></hr>\n",
    "\n",
    "<code>-hist 10</code>\n",
    "\n",
    "The <code>-hist</code> option changes how annotatePeaks runs. This changes it essentially to \"histogram\" mode, where it will output (into Terminal) the distribution of read coverage around in our specified region of interest. The argument following the <code>-hist</code> option specifies the bin size for the histogram, so with <code>10</code>, we will be looking at the read distribution in intervals of 10.\n",
    "\n",
    "<hr style=\"border: 1px solid; border-color: #AAAAAA;\"></hr>\n",
    "\n",
    "<code>&gt; 10M_taz_1_summit_profile.txt</code>\n",
    "\n",
    "We want annotatePeaks to save the output into a .txt file rather than dumping it into Terminal, so we redirect the output into <code>taz_1_summit_profile.txt</code>"
   ]
  },
  {
   "cell_type": "markdown",
   "id": "22ced3f4-8b46-4b94-8768-7ac6cd4933f9",
   "metadata": {},
   "source": [
    "<h2>Exercise #1: Obtain read count distributions for 10M_taz_2</h2>"
   ]
  },
  {
   "cell_type": "markdown",
   "id": "fe065e3d-25ce-48fd-97cb-8bfd632829c1",
   "metadata": {},
   "source": [
    "For this exercise, see if you can run the <code>annotatePeaks.pl</code> program to generate the histogram for 10M_taz_2."
   ]
  },
  {
   "cell_type": "markdown",
   "id": "95594f11-e9c3-46e4-a708-85f674bdfdb9",
   "metadata": {},
   "source": [
    "<h2>Exercise #2: Plot peak profiles for both replicates</h2>"
   ]
  },
  {
   "cell_type": "markdown",
   "id": "72ba00e1-83d9-4e02-a03f-86a3a5fec45f",
   "metadata": {},
   "source": [
    "Now, see if you can make use of Python to take the output from HOMER to take a look at how the reads are distributed around the summits for both of our TAZ replicates."
   ]
  },
  {
   "cell_type": "markdown",
   "id": "5753893f-8d92-4755-9f3f-bf3e4b4eadaf",
   "metadata": {},
   "source": [
    "First, import both files into their own pandas DataFrames using the <code>pd.read_csv()</code> function:\n",
    "\n",
    "```\n",
    "taz_1_profile = pd.read_csv('~/MCB201B_F2024/Week_8/plot_profile/10M_taz_1_summit_profile.txt',\n",
    "                            delimiter='\\t'\n",
    "                            )\n",
    "```"
   ]
  },
  {
   "cell_type": "code",
   "execution_count": null,
   "id": "2a092166-149a-4cd6-9c2b-32b647ea4419",
   "metadata": {},
   "outputs": [],
   "source": []
  },
  {
   "cell_type": "markdown",
   "id": "1aa3992b-a32c-45aa-b172-e84c87d45b32",
   "metadata": {},
   "source": [
    "Do the same for taz_2."
   ]
  },
  {
   "cell_type": "code",
   "execution_count": null,
   "id": "aeb13b1b-0486-428d-847f-5c41370c2c1d",
   "metadata": {},
   "outputs": [],
   "source": []
  },
  {
   "cell_type": "markdown",
   "id": "86fc1e0c-e26d-41b6-ab09-357019b25ab8",
   "metadata": {},
   "source": [
    "Take a look at the first 5 rows."
   ]
  },
  {
   "cell_type": "code",
   "execution_count": null,
   "id": "4a37a31a-022b-428b-b703-645902faef3d",
   "metadata": {},
   "outputs": [],
   "source": []
  },
  {
   "cell_type": "code",
   "execution_count": null,
   "id": "39ba09eb-a466-44ca-9b30-5b4807625257",
   "metadata": {},
   "outputs": [],
   "source": []
  },
  {
   "cell_type": "markdown",
   "id": "8ab8bd33-a434-4f62-9860-f4321f41fae7",
   "metadata": {},
   "source": [
    "You can see that the header is a bit long with a lot of extra information that we don't need for plotting. Replace the headers as follows:\n",
    "\n",
    "```\n",
    "taz_1_profile.columns = ['distance_from_center', 'coverage', 'plus_tags', 'minus_tags']\n",
    "```\n",
    "\n",
    "Also do the same for taz_2."
   ]
  },
  {
   "cell_type": "code",
   "execution_count": null,
   "id": "b5ee42d3-d57e-4af2-976c-bdc82ac7965a",
   "metadata": {},
   "outputs": [],
   "source": []
  },
  {
   "cell_type": "markdown",
   "id": "357be9cd-d108-4089-bd61-1aad6d410e76",
   "metadata": {},
   "source": [
    "Take a look to see if the DataFrame updated properly."
   ]
  },
  {
   "cell_type": "code",
   "execution_count": null,
   "id": "20a31d08-1534-41ba-9b5d-338f0d9ade5b",
   "metadata": {},
   "outputs": [],
   "source": []
  },
  {
   "cell_type": "code",
   "execution_count": null,
   "id": "f2444d19-8bad-482c-8fb9-eeb3a29c0ca4",
   "metadata": {},
   "outputs": [],
   "source": []
  },
  {
   "cell_type": "markdown",
   "id": "f1fdbde7-9a43-47c9-b548-b5f1994f7914",
   "metadata": {},
   "source": [
    "Now plot both profiles on the same subplot as a lineplot with the X-axis as the distance from the center of the summit and the Y-axis as the coverage."
   ]
  },
  {
   "cell_type": "code",
   "execution_count": null,
   "id": "f245d22c-2342-4cd0-847e-3b9f42c5f10a",
   "metadata": {},
   "outputs": [],
   "source": []
  },
  {
   "cell_type": "markdown",
   "id": "8d3d2789-c26f-45e4-a5e7-3c910b5d3b2a",
   "metadata": {},
   "source": [
    "You can see in your plot that while the coverage pattern is similar between the two replicates, they vary slightly in their read depth, with taz_2 having overall higher coverage than taz_1. This is normally expected, since each replicate will have slightly different read counts. The important consideration is that the plot profiles look similar in their shape."
   ]
  },
  {
   "cell_type": "markdown",
   "id": "ca0235c0-6247-4709-aa69-69397532450f",
   "metadata": {},
   "source": [
    "<h1 style=\"font-size: 40px; margin-bottom: 0px;\">Plot TSS-centric read distribution</h1>\n",
    "\n",
    "<hr style=\"margin-left: 0px; border: 0.25px solid; border-color: #000000; width: 600px;\"></hr>"
   ]
  },
  {
   "cell_type": "markdown",
   "id": "3ee8a541-3ebd-4e99-8ca6-ca3e281114a1",
   "metadata": {},
   "source": [
    "The multifunctionality of <code>annotatePeaks.pl</code> means that we can also perform a TSS-centric analysis. In this case, we can supply the program with the <code>tss</code> argument along with our bedGraph files, so it can provide us with the distribution of reads around TSSs. This can help give us an idea into if our protein of interest is regulating its target genes via promoter binding or through more distant interactions.\n",
    "\n",
    "<h3>Make directory to prepare to obtain read distribution around TSS</h3>\n",
    "\n",
    "<pre style=\"width: 450px; margin-top: 15px; margin-bottom: 15px; color: #000000; background-color: #EEEEEE; border: 1px solid; border-color: #AAAAAA; padding: 10px; border-radius: 15px; font-size: 12px;\">mkdir tss_profile</pre>\n",
    "\n",
    "<hr style=\"border: 1px solid; border-color: #BBBBBB;\"></hr>\n",
    "\n",
    "<h3>Change to new directory</h3>\n",
    "\n",
    "<pre style=\"width: 450px; margin-top: 15px; margin-bottom: 15px; color: #000000; background-color: #EEEEEE; border: 1px solid; border-color: #AAAAAA; padding: 10px; border-radius: 15px; font-size: 12px;\">cd tss_profile</pre>\n",
    "\n",
    "<hr style=\"border: 1px solid; border-color: #BBBBBB;\"></hr>\n",
    "\n",
    "<h3>Obtain read distributions around TSS for 10M_taz_1</h3>\n",
    "\n",
    "<pre style=\"width: 450px; margin-top: 15px; margin-bottom: 15px; color: #000000; background-color: #EEEEEE; border: 1px solid; border-color: #AAAAAA; padding: 10px; border-radius: 15px; font-size: 12px;\">annotatePeaks.pl \\\n",
    "tss \\\n",
    "hg19 \\\n",
    "-bedGraph ~/MCB201B_F2024/Week_7/macs2/10M_taz_1_treat_pileup.bdg \\\n",
    "-size 8000 \\\n",
    "-hist 10 \\\n",
    "> 10M_taz_1_tss_profile.txt</pre>\n",
    "\n",
    "Here, we make minor alterations to how we ran the annotatePeaks program to instruct it to focus on TSSs and to provide a larger region of interest. So we provide the <code>tss</code> argument and increase the <code>-size</code> to <code>8000</code>. That way, we'll get an output containing the read distribution centered around TSSs, which we can plot like we did with the summit profile."
   ]
  },
  {
   "cell_type": "markdown",
   "id": "61248949-2ec1-4a13-83e5-29ff44a0287c",
   "metadata": {},
   "source": [
    "<h2>Exercise #3: Plot TSS read distribution</h2>"
   ]
  },
  {
   "cell_type": "markdown",
   "id": "9f393e39-3b19-4b42-ba65-dcd86c5619ac",
   "metadata": {},
   "source": [
    "For this exercise, see if you can plot the read distribution around TSSs for both your 10M_taz_1 and 10M_taz_2 outputs."
   ]
  },
  {
   "cell_type": "markdown",
   "id": "77072eac-31a1-435e-abb7-983e630810a2",
   "metadata": {},
   "source": [
    "First, import your files:"
   ]
  },
  {
   "cell_type": "code",
   "execution_count": null,
   "id": "1f4d383c-265f-4e0c-a7e1-4c2883267e24",
   "metadata": {},
   "outputs": [],
   "source": []
  },
  {
   "cell_type": "markdown",
   "id": "9710b5e9-e04c-44d3-9215-4503915b00d6",
   "metadata": {},
   "source": [
    "Update the column headers for convenience:"
   ]
  },
  {
   "cell_type": "code",
   "execution_count": null,
   "id": "cafe8dae-a75d-4f3f-ad26-43db2e5cd2f1",
   "metadata": {},
   "outputs": [],
   "source": []
  },
  {
   "cell_type": "markdown",
   "id": "4be9a5b9-7ca0-41c6-9c78-9c8f05fb8995",
   "metadata": {},
   "source": [
    "Plot the distributions:"
   ]
  },
  {
   "cell_type": "code",
   "execution_count": null,
   "id": "70447c26-dfa6-4f57-9f9a-5572746932cb",
   "metadata": {},
   "outputs": [],
   "source": []
  },
  {
   "cell_type": "markdown",
   "id": "9c5a20ed-0b43-4ba7-95d4-cc0cff8e9049",
   "metadata": {},
   "source": [
    "What does the distribution tell us about the way that TAZ (and its associated DNA-binding protein) is potentially regulating gene transcription?"
   ]
  },
  {
   "cell_type": "markdown",
   "id": "6cd76b95-9864-4279-8a28-a9ea1c3ac9f3",
   "metadata": {},
   "source": [
    "<h1 style=\"font-size: 40px; margin-bottom: 0px;\">Determine distance from TSS</h1>\n",
    "\n",
    "<hr style=\"margin-left: 0px; border: 0.25px solid; border-color: #000000; width: 600px;\"></hr>"
   ]
  },
  {
   "cell_type": "markdown",
   "id": "20bb9442-6cfa-40da-99fd-7f56e5a48d69",
   "metadata": {},
   "source": [
    "The results that we get when we look at the read distributions around TSSs seem to suggest that our peaks may be more distant than &pm;4kbp. What we can then do is take a look at the distribution of distances that our peaks are located from their nearest TSS. That can help give us a little bit more insight into our above result.\n",
    "\n",
    "We'll once again make use of <code>annotatePeaks.pl</code> with slight modifications. If we take a look at <a href=\"http://homer.ucsd.edu/homer/ngs/annotation.html\" rel=\"noopener noreferrer\" target=\"_blank\"><u>the documentation for annotatePeaks</u></a>, among one of the outputs for its basic annotate function is a column containing information on the distance to the nearest TSS, which is what we're interested in.\n",
    "\n",
    "So we can use the basic annotate function of <code>annotatePeaks.pl</code> and focus on TSS annotations.\n",
    "\n",
    "<h3>Create new directory <code>annotation</code></h3>\n",
    "\n",
    "<pre style=\"width: 450px; margin-top: 15px; margin-bottom: 15px; color: #000000; background-color: #EEEEEE; border: 1px solid; border-color: #AAAAAA; padding: 10px; border-radius: 15px; font-size: 12px;\">mkdir annotation</pre>\n",
    "\n",
    "Make sure that you are making your <code>annotation</code> folder in this week's directory.\n",
    "\n",
    "<hr style=\"border: 1px solid; border-color: #BBBBBB;\"></hr>\n",
    "\n",
    "<h3>Change to new directory</h3>\n",
    "\n",
    "<pre style=\"width: 450px; margin-top: 15px; margin-bottom: 15px; color: #000000; background-color: #EEEEEE; border: 1px solid; border-color: #AAAAAA; padding: 10px; border-radius: 15px; font-size: 12px;\">cd annotation</pre>\n",
    "\n",
    "<hr style=\"border: 1px solid; border-color: #BBBBBB;\"></hr>\n",
    "\n",
    "<h3>Annotate to find distance to nearest TSS for 10M_taz_1</h3>\n",
    "\n",
    "<pre style=\"width: 450px; margin-top: 15px; margin-bottom: 15px; color: #000000; background-color: #EEEEEE; border: 1px solid; border-color: #AAAAAA; padding: 10px; border-radius: 15px; font-size: 12px;\">annotatePeaks.pl \\\n",
    "~/MCB201B_F2024/Week_7/macs2/10M_taz_1_peaks.narrowPeak \\\n",
    "hg19 \\\n",
    "-noann \\\n",
    "> 10M_taz_1_annotation.txt</pre>\n",
    "\n",
    "<strong>Let's break down this code:</code>\n",
    "\n",
    "<code>annotatePeaks.pl</code>\n",
    "\n",
    "This calls up the annotatePeaks program.\n",
    "\n",
    "<hr style=\"border: 1px solid; border-color: #AAAAAA;\"></hr>\n",
    "\n",
    "<code>~/MCB201B_F2024/Week_7/macs2/10M_taz_1_peaks.narrowPeak</code>\n",
    "\n",
    "Here, we provide our peak file that contains the peaks and their chromosomal coordinates that we want to annotate.\n",
    "\n",
    "<hr style=\"border: 1px solid; border-color: #AAAAAA;\"></hr>\n",
    "\n",
    "<code>hg19</code>\n",
    "\n",
    "We indicate that we want to use the hg19 reference genome, which we have installed.\n",
    "\n",
    "<hr style=\"border: 1px solid; border-color: #AAAAAA;\"></hr>\n",
    "\n",
    "<code>-noann</code>\n",
    "\n",
    "This option alters how the annotatePeaks program runs. By default the program will mark peak locations based on the genomic feature in which its located (intron, exon, TSS, CDS, etc), and the program will also identify the nearest gene and TSS. By providing the <code>-noann</code>, we are instructing the annotatePeaks program not to annotate peaks for genomic features, and instead, just focus on identifying nearby genes and TSSs. \n",
    "\n",
    "<hr style=\"border: 1px solid; border-color: #AAAAAA;\"></hr>\n",
    "\n",
    "<code>&gt; 10M_taz_1_annotation.txt</code>\n",
    "\n",
    "We redirect the output data into a .txt file that we can then load into Python in order to pull relevant information."
   ]
  },
  {
   "cell_type": "markdown",
   "id": "d815f95a-b853-44ce-88d7-93e298cb0965",
   "metadata": {},
   "source": [
    "<h2>Exercise #4: Annotate 10M_taz_2 as well</h2>"
   ]
  },
  {
   "cell_type": "markdown",
   "id": "da15a751-339d-4fc9-bbfb-a3bdc4be1c50",
   "metadata": {},
   "source": [
    "Now get the annotations for 10M_taz_2 as well."
   ]
  },
  {
   "cell_type": "markdown",
   "id": "e744404f-589a-4517-8414-e74920808194",
   "metadata": {},
   "source": [
    "<h2>Exercise #5: Create barplot of peak distance to TSS</h2>"
   ]
  },
  {
   "cell_type": "markdown",
   "id": "ec7ec527-1f4e-48ff-b5fe-0516e7cfb90b",
   "metadata": {},
   "source": [
    "For this exercise, you'll need to first import your annotated peaks as a DataFrame, like we've done before:"
   ]
  },
  {
   "cell_type": "code",
   "execution_count": null,
   "id": "7e862d0a-f082-4064-9b20-f573a5498f58",
   "metadata": {},
   "outputs": [],
   "source": []
  },
  {
   "cell_type": "markdown",
   "id": "278ba7e0-01bb-46fa-80da-59e2489105b8",
   "metadata": {},
   "source": [
    "Take a quick look at the first five rows of one of the DataFrames:"
   ]
  },
  {
   "cell_type": "code",
   "execution_count": null,
   "id": "e4d17a49-13bf-4465-ba15-246b8b32cc8c",
   "metadata": {},
   "outputs": [],
   "source": []
  },
  {
   "cell_type": "markdown",
   "id": "ff572e79-a6b5-4e9a-9ccf-e8f31b587c87",
   "metadata": {},
   "source": [
    "You can see that the first column header is pretty long. If you want, you can go ahead and rename just that one column header:\n",
    "\n",
    "```\n",
    "taz_1_annotation = taz_1_annotation.rename(columns={'PeakID (cmd=annotatePeaks.pl /home/jovyan/MCB201B_F2024/Week_7/macs2/10M_taz_1_peaks.narrowPeak hg19 -noann)': 'PeakID'})\n",
    "```\n",
    "\n",
    "If your column header is different than what is shown here, you'll need to replace what the example shows with your exact column header. Otherwise, it won't properly replace the header name.\n",
    "\n",
    "You can also update the other DataFrame as well.\n",
    "\n",
    "<a href=\"https://pandas.pydata.org/docs/reference/api/pandas.DataFrame.rename.html\" rel=\"noopener noreferrer\" target=\"_blank\"><u>Documentation for <code>pd.DataFrame.rename()</code> is here.</u></a>"
   ]
  },
  {
   "cell_type": "code",
   "execution_count": null,
   "id": "182df9ee-5ef5-4d4e-a0e9-ae94f43bcf74",
   "metadata": {},
   "outputs": [],
   "source": []
  },
  {
   "cell_type": "markdown",
   "id": "276f725f-ca10-4762-93e9-a000947e3c73",
   "metadata": {},
   "source": [
    "You can see in the <code>Distance to TSS</code> column that the values are both positive and negative depending on whether or not the peaks are downstream or upstream to the TSS.\n",
    "\n",
    "We only really care about the absolute distance for our barplots, so we can take the absolute value of the distances using <code>np.abs()</code>. Use this function to pull just the absolute values of the distances to a TSS. <a href=\"https://numpy.org/doc/2.0/reference/generated/numpy.absolute.html\" rel=\"noopener noreferrer\" target=\"_blank\"><u>Documentation for <code>np.abs()</code> is here</u></a>."
   ]
  },
  {
   "cell_type": "code",
   "execution_count": null,
   "id": "d695b2c6-24d9-4e73-aa13-e0701c3101ed",
   "metadata": {},
   "outputs": [],
   "source": []
  },
  {
   "cell_type": "markdown",
   "id": "15ee9ac4-4b64-49d9-8134-cf9b27baf83b",
   "metadata": {},
   "source": [
    "Now convert the values to kilobases:"
   ]
  },
  {
   "cell_type": "code",
   "execution_count": null,
   "id": "ac640aaf-e7ad-4f0f-a59f-4d2bfe601973",
   "metadata": {},
   "outputs": [],
   "source": []
  },
  {
   "cell_type": "markdown",
   "id": "3b6fb359-0413-48b8-922b-a45156e24c6c",
   "metadata": {},
   "source": [
    "Here, I have set up a list of bin ranges for you to use for counting how many values are in each bin. Run the code cell to save the objects to the variable <code>distances</code>."
   ]
  },
  {
   "cell_type": "code",
   "execution_count": null,
   "id": "3a8616c9-3864-4f21-9d09-edff085e59bb",
   "metadata": {},
   "outputs": [],
   "source": []
  },
  {
   "cell_type": "markdown",
   "id": "92a5b1a9-9f80-44bb-9f1f-c1ade4c717fc",
   "metadata": {},
   "source": [
    "If we want to count the value for a single bin, we can make use of the function <code>pd.Series.value_counts()</code> to obtain a count of all the values in our Series that fall within the indicated range.\n",
    "\n",
    "```\n",
    "print(abs_t1_kb.value_counts(bins=[0,0.999]))\n",
    "```"
   ]
  },
  {
   "cell_type": "code",
   "execution_count": null,
   "id": "ab18f4c3-3101-4921-ab1b-e3f95c833753",
   "metadata": {},
   "outputs": [],
   "source": []
  },
  {
   "cell_type": "markdown",
   "id": "9ae9f23d-157e-412d-85ff-e9d83b41fd1e",
   "metadata": {},
   "source": [
    "This comes with extra information that we don't need, so we can use the <code>pd.Series.item()</code> to return just the counts and not the extra information.\n",
    "\n",
    "<a href=\"https://pandas.pydata.org/docs/reference/api/pandas.Series.item.html\" rel=\"noopener noreferrer\" target=\"_blank\"><u>Documentation for <code>pd.Series.item()</code> is here.</u></a>\n",
    "\n",
    "```\n",
    "print(abs_t1_kb.value_counts(bins=[0,0.999]).item())\n",
    "```"
   ]
  },
  {
   "cell_type": "code",
   "execution_count": null,
   "id": "b2f4f46e-bb9e-49d2-8209-dd8d7d9ab98a",
   "metadata": {},
   "outputs": [],
   "source": []
  },
  {
   "cell_type": "markdown",
   "id": "4be7b851-ba91-44c2-b5f9-240df729dd9a",
   "metadata": {},
   "source": [
    "Now set up a for loop that makes use of <code>pd.Series.value_counts().item()</code> to obtain a list of counts for each bin range in <code>distances</code>."
   ]
  },
  {
   "cell_type": "code",
   "execution_count": null,
   "id": "26cdd730-9bce-4933-8fec-36e7d59cee03",
   "metadata": {},
   "outputs": [],
   "source": []
  },
  {
   "cell_type": "markdown",
   "id": "15a8e768-0b52-499c-9910-8def7c7d4068",
   "metadata": {},
   "source": [
    "Convert the counts to a percent of the total counts for each replicate."
   ]
  },
  {
   "cell_type": "code",
   "execution_count": null,
   "id": "9f788562-1088-455e-9ef5-357ada50fcda",
   "metadata": {},
   "outputs": [],
   "source": []
  },
  {
   "cell_type": "markdown",
   "id": "cbca002f-a681-4fff-be5f-a0647f1a1f90",
   "metadata": {},
   "source": [
    "Plot a barplot of the counts."
   ]
  },
  {
   "cell_type": "code",
   "execution_count": null,
   "id": "d3b4526e-86ea-48fa-bb65-0e25f58411be",
   "metadata": {},
   "outputs": [],
   "source": []
  },
  {
   "cell_type": "markdown",
   "id": "44fd40b9-27d5-4a84-aae2-b978dda09994",
   "metadata": {},
   "source": [
    "What do the distribution of peak distances to TSS suggest to us about how TAZ is regulating gene expression?"
   ]
  },
  {
   "cell_type": "markdown",
   "id": "d5447f58-7c8e-4e4b-af0e-b0eeb2a18bfc",
   "metadata": {},
   "source": [
    "<h1 style=\"font-size: 40px; margin-bottom: 0px;\">Find concordant peaks between two replicates</h1>\n",
    "\n",
    "<hr style=\"margin-left: 0px; border: 0.25px solid; border-color: #000000; width: 900px;\"></hr>"
   ]
  },
  {
   "cell_type": "markdown",
   "id": "a01384fa-b896-4404-b406-22957378c2f1",
   "metadata": {},
   "source": [
    "Currently, we have two replicates with thousands of identified peaks that were found to be significant compared to the background levels (using our pooled IgG sequencing data). However, not all those peaks will be the same between replicates, due to biological and experimental variability, so we'll want to focus on just those peaks that are present in both our replicates for a more focused downstream analysis."
   ]
  },
  {
   "cell_type": "markdown",
   "id": "7e034af4-5ff6-4cc4-9e0d-ccf7efff723b",
   "metadata": {},
   "source": [
    "<h2>HOMER's mergePeaks program</h2>"
   ]
  },
  {
   "cell_type": "markdown",
   "id": "4e572b12-a203-4485-afc4-728cf12ca9a9",
   "metadata": {},
   "source": [
    "To find peaks that are shared between our two replicates, we will make use of the <code>mergePeaks</code> program, and we'll provide it with the .narrowPeak files for both our replicates for analysis.\n",
    "\n",
    "<a href=\"http://homer.ucsd.edu/homer/ngs/mergePeaks.html\" rel=\"noopener noreferrer\" target=\"_blank\"><u>Documentation for the <code>mergePeaks</code> utility is here.</u></a>\n",
    "\n",
    "If we take a look at the command line structure to use this program to pull overlapping peaks:\n",
    "\n",
    "<pre style=\"width: 750px; margin-top: 15px; margin-bottom: 15px; color: #000000; background-color: #EEEEEE; border: 1px solid; border-color: #AAAAAA; padding: 10px; border-radius: 15px; font-size: 12px;\">mergePeaks -d &lt;max distance to merge&gt; &lt;peak file 1&gt; &lt;peak file 2&gt; &lbrack;peak file N&rbrack; &lbrack;options&rbrack; -prefix &lt;base name&gt;</pre>"
   ]
  },
  {
   "cell_type": "markdown",
   "id": "b58fe98b-009f-486c-8188-439ab9cd043c",
   "metadata": {},
   "source": [
    "<h3>Create <code>merged</code> directory and enter it</h3>\n",
    "\n",
    "<pre style=\"width: 450px; margin-top: 15px; margin-bottom: 15px; color: #000000; background-color: #EEEEEE; border: 1px solid; border-color: #AAAAAA; padding: 10px; border-radius: 15px; font-size: 12px;\">mkdir merged</pre>\n",
    "\n",
    "Make sure that you are making your <code>merged</code> folder in this week's directory.\n",
    "\n",
    "<pre style=\"width: 450px; margin-top: 15px; margin-bottom: 15px; color: #000000; background-color: #EEEEEE; border: 1px solid; border-color: #AAAAAA; padding: 10px; border-radius: 15px; font-size: 12px;\">cd merged</pre>\n",
    "\n",
    "<hr style=\"border: 1px solid; border-color: #BBBBBB;\"></hr>\n",
    "\n",
    "<h3>Find overlapping peaks and unique peaks</h3>\n",
    "\n",
    "<pre style=\"width: 450px; margin-top: 15px; margin-bottom: 15px; color: #000000; background-color: #EEEEEE; border: 1px solid; border-color: #AAAAAA; padding: 10px; border-radius: 15px; font-size: 12px;\">mergePeaks \\\n",
    "-d 100 \\\n",
    "~/MCB201B_F2024/Week_7/macs2/10M_taz_1_peaks.narrowPeak \\\n",
    "~/MCB201B_F2024/Week_7/macs2/10M_taz_2_peaks.narrowPeak \\\n",
    "-prefix merged</pre>\n",
    "\n",
    "<strong>Let's break down the code:</strong>\n",
    "\n",
    "<code>mergePeaks</code>\n",
    "\n",
    "Here, we are calling up the mergePeaks program.\n",
    "\n",
    "<hr style=\"border: 1px solid; border-color: #AAAAAA;\"></hr>\n",
    "\n",
    "<code>-d 100</code>\n",
    "\n",
    "Here, we provide the program with the maximum distance that we would like it to merge peaks based on the distance between the peak centers. So peaks whose centers are greater than 100bp apart will not be considered overlapping.\n",
    "\n",
    "<hr style=\"border: 1px solid; border-color: #AAAAAA;\"></hr>\n",
    "\n",
    "<code>~/MCB201B_F2024/Week_7/macs2/10M_taz_1_peaks.narrowPeak</code>\n",
    "\n",
    "The .narrowPeak file corresponding to our first replicate that we want it to pull peak information from.\n",
    "\n",
    "<hr style=\"border: 1px solid; border-color: #AAAAAA;\"></hr>\n",
    "\n",
    "<code>~/MCB201B_F2024/Week_7/macs2/10M_taz_1_peaks.narrowPeak</code>\n",
    "\n",
    "The .narrowPeak file corresponding to our second replicate. mergePeaks will identify the overlapping peaks from the two files we supply it. We can also supply it with additional files, and it will analyze all of them.\n",
    "\n",
    "<hr style=\"border: 1px solid; border-color: #AAAAAA;\"></hr>\n",
    "\n",
    "<code>-prefix merged</code>\n",
    "\n",
    "Here, we supply it with the basename that we want it to add to all the files that it outputs. Based on how we set up the command, we will have three output files, two that correspond to unique peaks present in their respective replicates and one that contains the information on overlapping peaks, which is the file that we're most interested in."
   ]
  },
  {
   "cell_type": "markdown",
   "id": "98d8fde6-4266-48ad-adfe-ea887c899ace",
   "metadata": {},
   "source": [
    "<h3>Simplify output file names</h3>\n",
    "\n",
    "If you take a look in your File Browser, you can see the three outputs, and they have rather long, unwieldy names, especially the file containing our overlapping peaks. So let's just directly in the File Browser rename the files for simplicity's sake.\n",
    "\n",
    "Rename the file containing the overlapping peaks to: <code>merged_taz_peaks.narrowPeak</code>\n",
    "\n",
    "<hr style=\"border: 1px solid; border-color: #BBBBBB;\"></hr>"
   ]
  },
  {
   "cell_type": "markdown",
   "id": "f2f08fdc-e29b-4d24-90cd-ea3f2195384f",
   "metadata": {},
   "source": [
    "<h2>Import <code>merged_taz_peaks.narrowPeak</code> as a DataFrame</h2>\n",
    "\n",
    "Now let's take a look at the information contained within the file by importing into our Python notebook.\n",
    "\n",
    "First, import the .narrowPeak file using <code>pd.read_csv()</code> like we've done earlier."
   ]
  },
  {
   "cell_type": "code",
   "execution_count": null,
   "id": "dd75e786-cc43-4175-8069-3d1f59a68b2f",
   "metadata": {},
   "outputs": [],
   "source": []
  },
  {
   "cell_type": "markdown",
   "id": "f2455272-6227-4a5c-b466-d0cde07b6eb8",
   "metadata": {},
   "source": [
    "Now let's look at the first five rows to check if it imported okay."
   ]
  },
  {
   "cell_type": "code",
   "execution_count": null,
   "id": "82f6c158-5803-44d8-b88c-cd110dd9fae8",
   "metadata": {},
   "outputs": [],
   "source": []
  },
  {
   "cell_type": "markdown",
   "id": "fcee19d5-1fba-44c0-8c30-a3edb388f7ef",
   "metadata": {},
   "source": [
    "So we can see that the column headers are a bit long, so we can shorten things for our sake later on by using the <code>pd.DataFrame.rename()</code> function."
   ]
  },
  {
   "cell_type": "code",
   "execution_count": null,
   "id": "f7cc68fd-65eb-4c88-ae7e-5a532fabbdcf",
   "metadata": {},
   "outputs": [],
   "source": []
  },
  {
   "cell_type": "markdown",
   "id": "7effa1b5-39a6-4791-a059-684f78fca4a0",
   "metadata": {},
   "source": [
    "And let's check to see if it updated properly:"
   ]
  },
  {
   "cell_type": "code",
   "execution_count": null,
   "id": "ce329be5-7ab0-44dc-97ca-a0dbbb84929e",
   "metadata": {},
   "outputs": [],
   "source": []
  },
  {
   "cell_type": "markdown",
   "id": "e14c4ffc-952a-4898-a382-f908a5a281b5",
   "metadata": {},
   "source": [
    "Now that we have our overlapping peaks, it's not enough to just know which peaks are shared between our two replicates. We also need to know how reproducible these peaks are between our two replicates."
   ]
  },
  {
   "cell_type": "markdown",
   "id": "97be6dec-d1b2-4b89-b674-5548d38ad671",
   "metadata": {},
   "source": [
    "<h2>Assessing reproducibility</h2>\n",
    "\n",
    "Dr. Ingolia mentioned in lecture that between replicates, there is variability in which peaks are called as well as their significance, which can be due to normal biological or experimental variability. <a href=\"https://doi.org/10.1101/gr.136184.111\" rel=\"noopener noreferrer\" target=\"_blank\"><u>The standard way (set by the ENCODE and modeENCODE consortia)</u></a> of determining if the peaks that we identify through our peak calling program is to calculate the Irreproducible Discovery Rate (IDR), developed by <a href=\"https://doi.org/10.1214/11-AOAS466\" rel=\"noopener noreferrer\" target=\"_blank\"><u>Li et al 2011</u></a>. \n",
    "\n",
    "The IDR framework allows for us to determine the reproducibility of our peaks (or in general the findings of high-throughput experiments) by comparing replicates to one another. IDR provides us with a quantitative assessment of when two replicates are no longer consistent with one another, which could point to findings that are less reproducible. In our case, that would suggest that those peaks may not necessarily be reproducible in repeated experiments. It's in a way conceptually similar to the FDR, where a lower IDR indicates a lower chance that the peak is irreproducible.\n",
    "\n",
    "Unfortunately, there's not a good way to get the <a href=\"https://github.com/kundajelab/idr\" rel=\"noopener noreferrer\" target=\"_blank\"><u>IDR package</u></a> onto our servers without running into errors, so we'll be taking a qualitative look at the concordance of our data, which will give us a qualitative idea of which peaks are probably more consistent between our replicates. And then we'll use those peaks for motif discovery.\n",
    "\n",
    "To do this, we'll first need our original .narrowPeak files, so that we can rank the peaks according to their significance (-log10(qvalue)). Then we can used our <code>merged_taz_peaks.narrowPeak</code> file containing our overlapping peaks to pull all the information only for the overlapping peaks. And then we can plot the two replicates against one another to see how correlated the ranks are for each of the overlapping peaks. We can also do the same for the significance of each overlapping peak."
   ]
  },
  {
   "cell_type": "markdown",
   "id": "f56a1df3-c6d9-4d6f-af39-2c234512fa72",
   "metadata": {},
   "source": [
    "<h2>Exercise #5: Import our original peak.xls files</h2>"
   ]
  },
  {
   "cell_type": "markdown",
   "id": "89fab6b9-12fb-4e34-9d38-d39665a2441b",
   "metadata": {},
   "source": [
    "Let's import our original .xls file that was output by macs2, so we have all the information for each peak.\n",
    "\n",
    "```\n",
    "taz_1 = pd.read_csv('~/MCB201B_F2024/Week_7/macs2/10M_taz_1_peaks.xls', \n",
    "                    delimiter='\\t', \n",
    "                    comment='#'\n",
    "                   )\n",
    "```\n",
    "\n",
    "And do the same for taz_2."
   ]
  },
  {
   "cell_type": "code",
   "execution_count": null,
   "id": "96ba95e5-5926-48ee-9923-6e082a91d352",
   "metadata": {},
   "outputs": [],
   "source": []
  },
  {
   "cell_type": "markdown",
   "id": "453daa74-5f4b-4932-9142-d7f1dac35384",
   "metadata": {},
   "source": [
    "Let's check to see how the file imported."
   ]
  },
  {
   "cell_type": "code",
   "execution_count": null,
   "id": "3519ca0b-6c29-49b6-a06f-b3f370971e21",
   "metadata": {},
   "outputs": [],
   "source": []
  },
  {
   "cell_type": "code",
   "execution_count": null,
   "id": "6c42f749-13f3-4bc5-b0b9-e40fecb81b23",
   "metadata": {},
   "outputs": [],
   "source": []
  },
  {
   "cell_type": "markdown",
   "id": "d34d4db0-8dae-42da-b8fe-8fe92f9c442e",
   "metadata": {},
   "source": [
    "<h2>Exercise #6: Sort DataFrames according to the <code>-log10(qvalue)</code></h2>"
   ]
  },
  {
   "cell_type": "markdown",
   "id": "c8b5ca92-c78f-499a-a975-673bbbeaf32f",
   "metadata": {},
   "source": [
    "Now, we'll want to rank all the peaks according to their significance, with the greatest -log10(qvalue) having the assigned rank of 1."
   ]
  },
  {
   "cell_type": "markdown",
   "id": "36e7eb1b-2914-4f81-8961-7243a3ea432d",
   "metadata": {},
   "source": [
    "First, sort both your DataFrames by the <code>-log10(qvalue)</code>"
   ]
  },
  {
   "cell_type": "code",
   "execution_count": null,
   "id": "af560af1-0e47-42eb-97ff-0c370262cc22",
   "metadata": {},
   "outputs": [],
   "source": []
  },
  {
   "cell_type": "markdown",
   "id": "d4e9a51e-dcc5-44dd-8040-3b2de731d834",
   "metadata": {},
   "source": [
    "<h2>Exercise #7: Assign ranks</code></h2>"
   ]
  },
  {
   "cell_type": "markdown",
   "id": "044c785d-9d45-4977-9c13-ab5d059aaf8b",
   "metadata": {},
   "source": [
    "Give all the peaks a rank by creating a new column called <code>rank</code> and supplying it with a list of ascending numbers."
   ]
  },
  {
   "cell_type": "code",
   "execution_count": null,
   "id": "6c584cf9-bd64-409c-9c62-7b7f24594362",
   "metadata": {},
   "outputs": [],
   "source": []
  },
  {
   "cell_type": "markdown",
   "id": "abe35865-4d16-4012-8fec-505dccf62ef9",
   "metadata": {},
   "source": [
    "Do a quick check of both ends of the DataFrame to make sure ranks were properly assigned."
   ]
  },
  {
   "cell_type": "code",
   "execution_count": null,
   "id": "14b0419d-c9f0-4572-a0f9-e195cc6337c3",
   "metadata": {},
   "outputs": [],
   "source": []
  },
  {
   "cell_type": "code",
   "execution_count": null,
   "id": "5c3a0c62-ebd1-4f43-ae68-d59e57735663",
   "metadata": {},
   "outputs": [],
   "source": []
  },
  {
   "cell_type": "markdown",
   "id": "23204b3c-28e5-47a2-92b2-a351f76f4d9b",
   "metadata": {},
   "source": [
    "<h2>Exercise #7: Pull the <code>rank</code> and <code>-log10(qvalue)</code> for just the overlapping peaks</h2>"
   ]
  },
  {
   "cell_type": "markdown",
   "id": "5a5891d1-5849-4c1e-8a29-ef1bd6018681",
   "metadata": {},
   "source": [
    "Here, see if you can set up a for loop that will update your <code>merged_peaks</code> DataFrame with the following for each peak: \n",
    "\n",
    "<ul>\n",
    "    <li>A column for the taz_1 <code>rank</code> matched up to the correct peak</li>\n",
    "    <li>A column for the taz_1 <code>-log10(qvalue)</code> matched up to the correct peak</li>\n",
    "    <li>A column for the taz_2 <code>rank</code> matched up to the correct peak</li>\n",
    "    <li>A column for the taz_2 <code>-log10(qvalue></code> matched up to the correct peak</li>\n",
    "</ul>"
   ]
  },
  {
   "cell_type": "code",
   "execution_count": null,
   "id": "666453f7-0b0b-4372-9b82-f2dc2c1a141e",
   "metadata": {},
   "outputs": [],
   "source": []
  },
  {
   "cell_type": "markdown",
   "id": "12df4c0f-1584-41eb-aac2-93ba179b04f3",
   "metadata": {},
   "source": [
    "Now let's check to see if it looks okay:"
   ]
  },
  {
   "cell_type": "code",
   "execution_count": null,
   "id": "6e8c3908-a592-479f-bf84-3946308e7778",
   "metadata": {},
   "outputs": [],
   "source": []
  },
  {
   "cell_type": "markdown",
   "id": "97ce20fb-3c00-4c89-9a10-7c9a03aa5d3e",
   "metadata": {},
   "source": [
    "<h2>Exercise #8: Plot ranks of two replicates against one another</h2>"
   ]
  },
  {
   "cell_type": "markdown",
   "id": "63fa069f-ea6e-4535-b8c0-e8dcb4fd3ffc",
   "metadata": {},
   "source": [
    "If you take a look at our DataFrame, you'll see that we now have for each overlapping peak, its corresponding taz_1 rank and taz_2 rank. So to get a qualitative idea of well the two replicates agree with one another, we can plot the ranks of the two replicates against one another, with a peak's taz_1 rank on the X-axis, and its taz_2 rank on the Y-axis."
   ]
  },
  {
   "cell_type": "markdown",
   "id": "bc347914-3398-4633-9aec-4cd37536dc0c",
   "metadata": {},
   "source": [
    "See if you can create a scatterplot that plots each overlapping peak's taz_1 rank on the X-axis and its respective taz_2 rank on the Y-axis."
   ]
  },
  {
   "cell_type": "code",
   "execution_count": null,
   "id": "4fde5b89-bb2f-4afb-a686-468487df9f4a",
   "metadata": {},
   "outputs": [],
   "source": []
  },
  {
   "cell_type": "markdown",
   "id": "1048b986-baa0-4eba-9f27-6a1325e949ba",
   "metadata": {},
   "source": [
    "What you should be able to see is a plot that begins to fan out as the value for the rank increases (so overall less significant peak), suggesting that those peaks identified in either set that do not have a high -log10(qvalue) may not be very reproducible. So in our more focused analysis, we will want to avoid those peaks and just look into those that consistently rank high (rank values closer to 1)."
   ]
  },
  {
   "cell_type": "markdown",
   "id": "48690967-2858-425a-91c1-2a19ae747aba",
   "metadata": {},
   "source": [
    "<h2>Exercise #8: Plot significance of two replicates against one another</h2>"
   ]
  },
  {
   "cell_type": "markdown",
   "id": "6a02ead7-16f1-4e84-b654-3164d56f6be4",
   "metadata": {},
   "source": [
    "We can also do the same for the -log10(qvalue) of our overlapping peaks."
   ]
  },
  {
   "cell_type": "code",
   "execution_count": null,
   "id": "a50998f5-c65a-42a0-92ce-5fa9ad912fa5",
   "metadata": {},
   "outputs": [],
   "source": []
  },
  {
   "cell_type": "markdown",
   "id": "7ad850a3-3e48-45d2-aac5-a1a6921c8547",
   "metadata": {},
   "source": [
    "To visually increase the spread of the lower significance samples, we can log transform the -log10(qvalue) using <code>np.log10()</code> when we plot each data point.\n",
    "\n",
    "Alternatively, you can change the X- and Y-axes to log scale."
   ]
  },
  {
   "cell_type": "code",
   "execution_count": null,
   "id": "b31f2dcf-bd9f-4ee7-a502-57368a6d0246",
   "metadata": {},
   "outputs": [],
   "source": []
  },
  {
   "cell_type": "markdown",
   "id": "ad8d2100-3384-4841-bb77-c9a69c5ba961",
   "metadata": {},
   "source": [
    "Again, we can see that peaks that are highly significant in one replicate are likely to also be similarly significant in the second replicate, which suggest that they are more consistent between replicates."
   ]
  },
  {
   "cell_type": "markdown",
   "id": "929c97d6-9e0f-435b-afe2-7a1da454b7a6",
   "metadata": {},
   "source": [
    "<h2>Exercise #9: Narrow down peaks to consistently high ranked peaks</h2>"
   ]
  },
  {
   "cell_type": "markdown",
   "id": "3a0feada-c3b3-4361-8b33-2e3383359dc9",
   "metadata": {},
   "source": [
    "We will focus our motif discovery to just those peaks that are consistently high ranked in both replicates. Although we don't have a specific IDR threshold value, we can qualitatively assess where the data seems to be most consistent, which appears to be for those peaks with a rank value of 500 or less in both replicates.\n",
    "\n",
    "Now, see if you can make use of conditional statements to create a new DataFrame consisting of just the peaks that have a rank value of less than 500 for both replicates."
   ]
  },
  {
   "cell_type": "code",
   "execution_count": null,
   "id": "72da80a1-b089-4f88-a5b9-9919df5a43b6",
   "metadata": {},
   "outputs": [],
   "source": []
  },
  {
   "cell_type": "markdown",
   "id": "66692061-50a9-49c1-bbe3-000e926d5d9d",
   "metadata": {},
   "source": [
    "Let's take a look at the first five rows of our focused dataset:"
   ]
  },
  {
   "cell_type": "code",
   "execution_count": null,
   "id": "13559b5f-2847-4eb9-ad88-982cd82f4de3",
   "metadata": {},
   "outputs": [],
   "source": []
  },
  {
   "cell_type": "markdown",
   "id": "2085616f-4e6e-4c68-8350-a1ffac740ca2",
   "metadata": {},
   "source": [
    "And let's take a look at these data points with respect to the peaks that didn't make our cutoff."
   ]
  },
  {
   "cell_type": "code",
   "execution_count": null,
   "id": "bc4f6231-2c0f-4654-b230-1348521427e1",
   "metadata": {},
   "outputs": [],
   "source": []
  },
  {
   "cell_type": "markdown",
   "id": "bcff9d20-9a2f-441d-b114-d4207b3e1c0b",
   "metadata": {},
   "source": [
    "<h2>Exercise #10: Export your top concordant peaks for motif discovery</h2>"
   ]
  },
  {
   "cell_type": "markdown",
   "id": "021eb684-3289-486d-a5e6-9fc7be3cf3db",
   "metadata": {},
   "source": [
    "Now that we have a separate DataFrame that just has the focused peaks that we are interested in, we can export it into a new .narrowPeak file that we will supply to HOMER for motif analysis.\n",
    "\n",
    "```\n",
    "peaks_for_motifs.to_csv('top_concordant_peaks.narrowPeak',\n",
    "                        header=False,\n",
    "                        index=False,\n",
    "                        sep='\\t'\n",
    "                       )\n",
    "```\n",
    "\n",
    "We'll want to export it without any extraneous things, so we'll specify that we don't want to export the headers or indices along with our data, and we'll also specify that our values will be separated by a tab."
   ]
  },
  {
   "cell_type": "code",
   "execution_count": null,
   "id": "cdf85b85-4fc1-4fdd-88e2-e4ed51b06303",
   "metadata": {},
   "outputs": [],
   "source": []
  },
  {
   "cell_type": "markdown",
   "id": "b82b5149-fed9-445f-b8af-ab34b2efc2d5",
   "metadata": {},
   "source": [
    "You should now see that this DataFrame has been exported into this week's directory as a .narrowPeak file."
   ]
  },
  {
   "cell_type": "markdown",
   "id": "6540a4c1-8d59-437e-be56-14b7f3e6c156",
   "metadata": {},
   "source": [
    "<h1 style=\"font-size: 40px; margin-bottom: 0px;\">Motif Discovery</h1>\n",
    "\n",
    "<hr style=\"margin-left: 0px; border: 0.25px solid; border-color: #000000; width: 400px;\"></hr>"
   ]
  },
  {
   "cell_type": "markdown",
   "id": "2ae8e18b-ff0a-4853-b4be-74f0d814c0a3",
   "metadata": {},
   "source": [
    "Here, we'll make use of the core function of HOMER, which is to identify motifs. To do this, we'll need to go back to Terminal to run the <code>findMotifsGenome.pl</code> program. <a href=\"http://homer.ucsd.edu/homer/ngs/peakMotifs.html\" rel=\"noopener noreferrer\" target=\"_blank\"><u>Documentation for <code>findMotifsGenome.pl</code> is here.</u></a>\n",
    "\n",
    "If we look into the documentation, we can see that the basic command line structure to use this code is:\n",
    "\n",
    "<pre style=\"width: 600px; margin-top: 15px; margin-bottom: 15px; color: #000000; background-color: #EEEEEE; border: 1px solid; border-color: #AAAAAA; padding: 10px; border-radius: 15px; font-size: 12px;\">findMotifsGenome.pl &lt;peak file&gt; &lt;genome version&gt; &lt;output directory&gt; -size &#35; &lbrack;options&rbrack;</pre>\n",
    "\n",
    "So to run the findMotifsGenome program, we will supply it with our .narrowPeak file containing our focused list of overlapping peaks, the genome version, an output directory, a fragment size, and any additional options."
   ]
  },
  {
   "cell_type": "markdown",
   "id": "b5106765-f92d-4fc7-9cba-d632d60b1134",
   "metadata": {},
   "source": [
    "<h3>Create <code>motif</code> directory and enter it</h3>\n",
    "\n",
    "<pre style=\"width: 450px; margin-top: 15px; margin-bottom: 15px; color: #000000; background-color: #EEEEEE; border: 1px solid; border-color: #AAAAAA; padding: 10px; border-radius: 15px; font-size: 12px;\">mkdir motif</pre>\n",
    "\n",
    "Make sure you make the new directory in this week's folder.\n",
    "\n",
    "<pre style=\"width: 450px; margin-top: 15px; margin-bottom: 15px; color: #000000; background-color: #EEEEEE; border: 1px solid; border-color: #AAAAAA; padding: 10px; border-radius: 15px; font-size: 12px;\">cd motif</pre>\n",
    "\n",
    "<hr style=\"border: 1px solid; border-color: #BBBBBB;\"></hr>\n",
    "\n",
    "<h3>Run motif discovery program</h3>\n",
    "\n",
    "<pre style=\"width: 450px; margin-top: 15px; margin-bottom: 15px; color: #000000; background-color: #EEEEEE; border: 1px solid; border-color: #AAAAAA; padding: 10px; border-radius: 15px; font-size: 12px;\">findMotifsGenome.pl \\\n",
    "~/MCB201B_F2024/Week_8/top_concordant_peaks.narrowPeak \\\n",
    "hg19 \\\n",
    "./ \\\n",
    "-size 50 \\\n",
    "-S 5</pre>\n",
    "\n",
    "<strong>Let's break down the code:</strong>\n",
    "\n",
    "<code>findMotifsGenome.pl</code>\n",
    "\n",
    "We call up the findMotifsGenome program.\n",
    "\n",
    "<hr style=\"border: 1px solid; border-color: #AAAAAA;\"></hr>\n",
    "\n",
    "<code>~/MCB201B_F2024/Week_8/top_concordant_peaks.narrowPeak</code>\n",
    "\n",
    "We provide it with our .narrowPeak file containing just our focused set of overlapping peaks.\n",
    "\n",
    "<hr style=\"border: 1px solid; border-color: #AAAAAA;\"></hr>\n",
    "\n",
    "<code>hg19</code>\n",
    "\n",
    "We indicate the genome version that it will use to pull sequences and find motifs. Recall that when we first set up HOMER, we preparsed the genome for 50bp fragments, and now we will be using that preparsed genome for motif discovery.\n",
    "\n",
    "<hr style=\"border: 1px solid; border-color: #AAAAAA;\"></hr>\n",
    "\n",
    "<code>./</code>\n",
    "\n",
    "We indicate the output directory as our current working directory.\n",
    "\n",
    "<hr style=\"border: 1px solid; border-color: #AAAAAA;\"></hr>\n",
    "\n",
    "<code>-size 50</code>\n",
    "\n",
    "We indicate the fragment size around the peak center where we want it to look for motifs. Here, it will look for motifs in the region &pm;50bp from the peak center.\n",
    "\n",
    "<hr style=\"border: 1px solid; border-color: #AAAAAA;\"></hr>\n",
    "\n",
    "<code>-S 5</code>\n",
    "\n",
    "This option specifies how many <i>de novo</i> motifs we want it to look for. The default option is 25, which is a lot. To keep the runtime down, we'll have it look for just 5 <i>de novo</i> motifs"
   ]
  },
  {
   "cell_type": "markdown",
   "id": "1a890024-b8ea-4cca-a720-79bef1a80b88",
   "metadata": {},
   "source": [
    "<h2>Take a look at the identified motifs</h2>\n",
    "\n",
    "Let's go ahead and take a look at the HTML output files to see what motifs we have identified within our peaks."
   ]
  },
  {
   "cell_type": "markdown",
   "id": "ac068f41-e096-4d8b-b06c-a31efd413d2c",
   "metadata": {},
   "source": [
    "<h1 style=\"font-size: 40px; margin-bottom: 0px;\">Visualize motif distributions</h1>\n",
    "\n",
    "<hr style=\"margin-left: 0px; border: 0.25px solid; border-color: #000000; width: 600px;\"></hr>"
   ]
  },
  {
   "cell_type": "markdown",
   "id": "b9753851-3f99-4a2b-9f94-d7328306ad39",
   "metadata": {},
   "source": [
    "Now let's take a look at all the distribution of all our various TEAD motifs just to get an idea of where TEAD might be binding and how that compares to the center of our peaks, which should theoretically map to where TEAD is binding.\n",
    "\n",
    "To do this, we'll make use of annotatePeaks' histogram mode, but we'll provide it with our TEAD motifs that we've found through our analysis. What annotatePeaks will do is go through our focused set of peaks and determine the distribution of our TEAD motifs around the center of all the peaks."
   ]
  },
  {
   "cell_type": "markdown",
   "id": "f1a1bd5f-2df9-47cd-bb98-0d887e9e30db",
   "metadata": {},
   "source": [
    "<h3>Change to <code>annotation</code> directory</h3>\n",
    "\n",
    "If you're currently in the <code>motif</code> directory, you can make use of <code>../annotation</code> to change to the parent directory and go directly to the annotation folder.\n",
    "\n",
    "<pre style=\"width: 450px; margin-top: 15px; margin-bottom: 15px; color: #000000; background-color: #EEEEEE; border: 1px solid; border-color: #AAAAAA; padding: 10px; border-radius: 15px; font-size: 12px;\">cd ../annotation</pre>\n",
    "\n",
    "<hr style=\"border: 1px solid; border-color: #BBBBBB;\"></hr>\n",
    "\n",
    "<h3>Obtain motif distributions around peak</h3>\n",
    "\n",
    "Note that the files that you will provide may differ since each time HOMER runs, the results may change slightly. So my example may be different than what you see in your motif discovery output.\n",
    "\n",
    "<pre style=\"width: 450px; margin-top: 15px; margin-bottom: 15px; color: #000000; background-color: #EEEEEE; border: 1px solid; border-color: #AAAAAA; padding: 10px; border-radius: 15px; font-size: 12px;\">annotatePeaks.pl \\\n",
    "~/MCB201B_F2024/Week_8/top_concordant_peaks.narrowPeak \\\n",
    "hg19 \\\n",
    "-m ../motif/knownResults/known1.motif \\\n",
    "../motif/knownResults/known2.motif \\\n",
    "../motif/knownResults/known3.motif \\\n",
    "../motif/knownResults/known4.motif \\\n",
    "../motif/knownResults/known5.motif \\\n",
    "-size 2000 \\\n",
    "-hist 20 \\\n",
    "> motif_distribution.txt</pre>\n",
    "\n",
    "<strong>Let's break down the code:</strong>\n",
    "\n",
    "<code>annotatePeaks.pl</code>\n",
    "\n",
    "This calls up the annotatePeaks program.\n",
    "\n",
    "<hr style=\"border: 1px solid; border-color: #AAAAAA;\"></hr>\n",
    "\n",
    "<code>~/MCB201B_F2024/Week_8/top_concordant_peaks.narrowPeak</code>\n",
    "\n",
    "This provides HOMER with our focused set of overlapping peaks.\n",
    "\n",
    "<hr style=\"border: 1px solid; border-color: #AAAAAA;\"></hr>\n",
    "\n",
    "<code>hg19</code>\n",
    "\n",
    "We specify the genome version.\n",
    "\n",
    "<hr style=\"border: 1px solid; border-color: #AAAAAA;\"></hr>\n",
    "\n",
    "<code>-m</code>\n",
    "\n",
    "This tells the program that we want it to do an analysis of a specific motif or set of motifs. In our case, we are providing it with motifs that we want it to use to determine their distributions within our focused set of peaks.\n",
    "\n",
    "<hr style=\"border: 1px solid; border-color: #AAAAAA;\"></hr>\n",
    "\n",
    "<code>&lt;.motif files&gt;</code>\n",
    "\n",
    "We provide the motif file(s) that we want the annotatePeaks program to use. We can supply it with a single motif file or more than one. In either case, the output will be a single file that contains information for each motif we provide it. Each motif will have 3 columns of data: one for total counts, one for (+) counts, and one for (-) counts.\n",
    "\n",
    "<hr style=\"border: 1px solid; border-color: #AAAAAA;\"></hr>\n",
    "\n",
    "<code>-size 2000</code>\n",
    "\n",
    "We specify the size of the region of interest that we're interested in looking at motif distributions. With a size set to 2000, we will be looking at a region &pm;1000bp centered on our peaks.\n",
    "\n",
    "<hr style=\"border: 1px solid; border-color: #AAAAAA;\"></hr>\n",
    "\n",
    "<code>-hist 20</code>\n",
    "\n",
    "We invoke the histogram mode of annotatePeaks and provide it with the bin size that it will use to determine the distribution of motifs in our specified region.\n",
    "\n",
    "<hr style=\"border: 1px solid; border-color: #AAAAAA;\"></hr>\n",
    "\n",
    "<code>-hist 20</code>&gt; motif_distribution.txt</code>\n",
    "\n",
    "We redirect the output to a file called <code>motif_distribution.txt</code> that we can then import into this Python notebook to plot."
   ]
  },
  {
   "cell_type": "markdown",
   "id": "b91687b0-5928-4949-89b0-11f466dc3317",
   "metadata": {},
   "source": [
    "<h2>Exercise #11: Plot the motif distributions as a lineplot together on the same plot</h2>"
   ]
  },
  {
   "cell_type": "markdown",
   "id": "8cf2c217-b3a7-4c9f-8ad1-0f98fcabbd40",
   "metadata": {},
   "source": [
    "See if you can plot the motif distributions of your TEAD motifs that you analyzed with HOMER.\n",
    "\n",
    "First, you'll want to import the file using the same method that we've been using:"
   ]
  },
  {
   "cell_type": "code",
   "execution_count": null,
   "id": "33a01f91-af72-4ede-83ec-b845bdc98de9",
   "metadata": {},
   "outputs": [],
   "source": []
  },
  {
   "cell_type": "markdown",
   "id": "2882c033-f839-47a8-952a-ac924980baf9",
   "metadata": {},
   "source": [
    "Check to make sure that it imported okay:"
   ]
  },
  {
   "cell_type": "code",
   "execution_count": null,
   "id": "6be356d5-558b-4189-a64c-686193caf633",
   "metadata": {},
   "outputs": [],
   "source": []
  },
  {
   "cell_type": "markdown",
   "id": "a9598ffa-1c9e-47b1-ba4d-5118c8a875fb",
   "metadata": {},
   "source": [
    "The column headers are pretty long, but for this, we'll just make use of <code>pd.DataFrame.iloc</code> and slice notation to pull columns to plot.\n",
    "\n",
    "See if you can set up a for loop to plot all your lineplots onto the same plot."
   ]
  },
  {
   "cell_type": "code",
   "execution_count": null,
   "id": "a801717e-5004-4fb4-b4c8-12f65875de66",
   "metadata": {},
   "outputs": [],
   "source": []
  },
  {
   "cell_type": "markdown",
   "id": "0edfa2e9-928c-4d08-ba61-b7681c3c3752",
   "metadata": {},
   "source": [
    "<h1 style=\"font-size: 40px; margin-bottom: 0px;\">References</h1>\n",
    "\n",
    "<hr style=\"margin-left: 0px; border: 0.25px solid; border-color: #000000; width: 300px;\"></hr>"
   ]
  },
  {
   "cell_type": "markdown",
   "id": "be139c84-a5c3-41f1-89ee-fbd1a52b061a",
   "metadata": {},
   "source": [
    "<a href=\"https://www.nature.com/articles/ncb3216\" rel=\"noopener noreferrer\" target=\"_blank\"><u>Zanconato et al 2015 Nat Cell Biol:</u></a> Genome-wide association between YAP/TAZ/TEAD and AP-1 at enhancers drives oncogenic growth\n",
    "\n",
    "<a href=\"https://genome.cshlp.org/content/22/9/1813\" rel=\"noopener noreferrer\" target=\"_blank\"><u>Landt et al 2012 Genome Res:</u></a> ChIP-seq guidelines and practices of the ENCODE and modENCODE consortia\n",
    "\n",
    "<a href=\"https://projecteuclid.org/journals/annals-of-applied-statistics/volume-5/issue-3/Measuring-reproducibility-of-high-throughput-experiments/10.1214/11-AOAS466.full\" rel=\"noopener noreferrer\" target=\"_blank\"><u>Li et al 2011 Ann Appl Stat:</u></a> Measuring reproducibility of high-throughput experiments"
   ]
  },
  {
   "cell_type": "code",
   "execution_count": null,
   "id": "fcf3888d-e069-4bd6-b24d-f5f3ed7a10d4",
   "metadata": {},
   "outputs": [],
   "source": []
  }
 ],
 "metadata": {
  "kernelspec": {
   "display_name": "Python [conda env:root] *",
   "language": "python",
   "name": "conda-root-py"
  },
  "language_info": {
   "codemirror_mode": {
    "name": "ipython",
    "version": 3
   },
   "file_extension": ".py",
   "mimetype": "text/x-python",
   "name": "python",
   "nbconvert_exporter": "python",
   "pygments_lexer": "ipython3",
   "version": "3.11.0"
  }
 },
 "nbformat": 4,
 "nbformat_minor": 5
}
