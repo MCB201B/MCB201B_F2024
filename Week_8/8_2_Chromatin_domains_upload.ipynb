{
 "cells": [
  {
   "cell_type": "markdown",
   "id": "663b3be8-3544-4b60-b8c5-de678152469d",
   "metadata": {},
   "source": [
    "<h1 style=\"font-size: 40px; margin-bottom: 0px;\">8.2 Chromatin domains</h1>\n",
    "\n",
    "<hr style=\"margin-left: 0px; border: 0.25px solid; border-color: #000000; width: 600px;\"></hr>"
   ]
  },
  {
   "cell_type": "markdown",
   "id": "71fdd554-b064-46db-8753-b2275b4da4f0",
   "metadata": {},
   "source": [
    "If we have time, we'll take a look at chromatin markers that signify an active enhancer region, specifically around our focused set of overlapping peaks. This will give us an idea of which of our peaks overlap with enhancers that have been marked as active based on the region's epigenetic signature. We'll continue to make use of HOMER, particularly the <code>annotatePeaks.pl</code> program, but we'll provide an another option to slightly change the way it runs.\n",
    "\n",
    "<strong>Learning objectives:</strong>\n",
    "\n",
    "<ul>\n",
    "    <li>Continue to practice using HOMER to analyze CHIP-seq data</li>\n",
    "    <li>Generate heatmaps of read coverage around a region of interest</li>\n",
    "    <li>Infer enhancer or promoter activity based on epigenetic signatures</li>\n",
    "    <li>Plot TF read coverage alongside histone read coverage</li>\n",
    "</ul>"
   ]
  },
  {
   "cell_type": "code",
   "execution_count": null,
   "id": "c0d21486-1c53-4bff-ad4b-9fbea843c9e6",
   "metadata": {},
   "outputs": [],
   "source": [
    "import pandas as pd\n",
    "import numpy as np\n",
    "import matplotlib.pyplot as plt\n",
    "import seaborn as sns"
   ]
  },
  {
   "cell_type": "markdown",
   "id": "6d556a4e-f98f-41f9-b0ef-743c6371a52d",
   "metadata": {},
   "source": [
    "<h1 style=\"font-size: 40px; margin-bottom: 0px;\">Analyze epigenetic signatures</h1>\n",
    "\n",
    "<hr style=\"margin-left: 0px; border: 0.25px solid; border-color: #000000; width: 600px;\"></hr>"
   ]
  },
  {
   "cell_type": "markdown",
   "id": "b5c1fd0f-eb12-4f81-a2aa-28a63591adb0",
   "metadata": {},
   "source": [
    "I have a <code>histone</code> directory located within our shared <code>chip</code> directory, containing the bedGraph files from <a href=\"https://doi.org/10.1186/1471-2164-15-331\" rel=\"noopener noreferrer\" target=\"_blank\"><u>Rhie et al 2014</u></a> (<a href=\"https://www.ncbi.nlm.nih.gov/geo/query/acc.cgi?acc=GSE49651\" rel=\"noopener noreferrer\" target=\"_blank\"><u>GSE49651</u></a>), which Zanconato et al 2015 also used in their analyses. We'll be using their read coverage data to get an idea of the epigenetic signature around our peaks. \n",
    "\n",
    "Here, we'll call up the <code>annotatePeaks.pl</code> program and make use of its histogram mode. But rather than have it simply provide us with the read density along all peaks in a single column, we can tell it to provide us with a data matrix, where we can then see the read coverage for each peak individually.\n",
    "\n",
    "<h3>Create <code>heatmap</code> directory and enter it</h3>\n",
    "\n",
    "Let's create a new directory called <code>heatmap</code> in this week's directory and change into it.\n",
    "\n",
    "<pre style=\"width: 450px; margin-top: 15px; margin-bottom: 15px; color: #000000; background-color: #EEEEEE; border: 1px solid; border-color: #AAAAAA; padding: 10px; border-radius: 15px; font-size: 12px;\">mkdir heatmap</pre>\n",
    "\n",
    "<pre style=\"width: 450px; margin-top: 15px; margin-bottom: 15px; color: #000000; background-color: #EEEEEE; border: 1px solid; border-color: #AAAAAA; padding: 10px; border-radius: 15px; font-size: 12px;\">cd heatmap</pre>\n",
    "\n",
    "<hr style=\"border: 1px solid; border-color: #BBBBBB;\"></hr>\n",
    "\n",
    "<h3>Obtain data matrix for h3k4me1</h3>\n",
    "\n",
    "<pre style=\"width: 450px; margin-top: 15px; margin-bottom: 15px; color: #000000; background-color: #EEEEEE; border: 1px solid; border-color: #AAAAAA; padding: 10px; border-radius: 15px; font-size: 12px;\">annotatePeaks.pl \\\n",
    "~/MCB201B_F2024/Week_8/top_concordant_peaks.narrowPeak \\\n",
    "hg19 \\\n",
    "-bedGraph ~/shared/course/mcb201b-shared-readwrite/chip/histone/h3k4me1-1.bedGraph \\\n",
    "-size 2000 \\\n",
    "-hist 10 \\\n",
    "-ghist \\\n",
    "> h3k4me1_heatmap.txt</pre>\n",
    "\n",
    "<strong>Let's break down the code:</strong>\n",
    "\n",
    "<code>annotatePeaks.pl</code>\n",
    "\n",
    "This calls up the annotatePeaks program.\n",
    "\n",
    "<hr style=\"border: 1px solid; border-color: #AAAAAA;\"></hr>\n",
    "\n",
    "<code>~/MCB201B_F2024/Week_8/top_concordant_peaks.narrowPeak</code>\n",
    "\n",
    "Here, we provide HOMER with our focused set of overlapping peaks.\n",
    "\n",
    "<hr style=\"border: 1px solid; border-color: #AAAAAA;\"></hr>\n",
    "\n",
    "<code>-bedGraph ~/shared/course/mcb201b-shared-readwrite/chip/histone/h3k4me1-1.bedGraph</code>\n",
    "\n",
    "We provide it with coverage maps of the reads associated with one of our histone marks, which will give us an idea of the activity of the peak region, each of these marks are is associated with an active enhancer or promoter site.\n",
    "\n",
    "\n",
    "<hr style=\"border: 1px solid; border-color: #AAAAAA;\"></hr>\n",
    "\n",
    "<code>-size 2000</code>\n",
    "\n",
    "Like yesterday, we use the <code>-size</code> option to specify the size of the region around our peaks that we are interested in looking at.\n",
    "\n",
    "<hr style=\"border: 1px solid; border-color: #AAAAAA;\"></hr>\n",
    "\n",
    "<code>-hist 10</code>\n",
    "\n",
    "We provide the bin size and also switch to histogram mode, so the annotatePeaks program will provide us with information on read distributions.\n",
    "\n",
    "<hr style=\"border: 1px solid; border-color: #AAAAAA;\"></hr>\n",
    "\n",
    "<code>-ghist</code>\n",
    "\n",
    "You can kind of think of the <code>-ghist</code> option as switching to a different sub-mode of the histogram mode. Instead of providing us with the read coverage for all peaks at once, it will give us the read coverage for each peak in the form of a data matrix, where the rows correspond to different peaks, and the columns provide us with the read densities along those positions for each peak.\n",
    "\n",
    "<hr style=\"border: 1px solid; border-color: #AAAAAA;\"></hr>\n",
    "\n",
    "<code>&gt; h3k4me1_heatmap.txt</code>\n",
    "\n",
    "We specify our output file that we want the data matrix to be stored in. This redirects the annotatePeaks output from the Terminal window to a .txt file that we can open up in Python to visualize the data."
   ]
  },
  {
   "cell_type": "markdown",
   "id": "4c13f55d-9f03-42fa-9bab-c314175c1b7f",
   "metadata": {},
   "source": [
    "<h2>Plot heatmap of read densities</h2>"
   ]
  },
  {
   "cell_type": "markdown",
   "id": "17616bad-2665-45ac-843c-225103831ac2",
   "metadata": {},
   "source": [
    "Now let's make use of seaborn's heatmap function to visualize the read densities of H3K4me1 marks around our peaks.\n",
    "\n",
    "First import our data matrix:"
   ]
  },
  {
   "cell_type": "code",
   "execution_count": null,
   "id": "329ac0c3-7cc9-4df1-8f7c-b132af5aee0e",
   "metadata": {},
   "outputs": [],
   "source": []
  },
  {
   "cell_type": "markdown",
   "id": "2db8f835-3d34-4e98-8771-0b678aadcc73",
   "metadata": {},
   "source": [
    "Then, let's drop the first column to keep things simple for us later on."
   ]
  },
  {
   "cell_type": "code",
   "execution_count": null,
   "id": "b64451db-e862-4c64-a675-a8a71fbf8b20",
   "metadata": {},
   "outputs": [],
   "source": []
  },
  {
   "cell_type": "markdown",
   "id": "7186999d-4b20-4aae-a7b6-e8223f1c7baf",
   "metadata": {},
   "source": [
    "Now, let's plot the heatmap using seaborn."
   ]
  },
  {
   "cell_type": "code",
   "execution_count": null,
   "id": "b511e98e-9d5a-465c-99e1-dcda7a52b61f",
   "metadata": {},
   "outputs": [],
   "source": []
  },
  {
   "cell_type": "markdown",
   "id": "1d9bb011-556d-497a-b5d3-2dfff022466f",
   "metadata": {},
   "source": [
    "And we can reorder it so that the peaks with the highest mean reads are up top"
   ]
  },
  {
   "cell_type": "code",
   "execution_count": null,
   "id": "97caf088-d651-40c9-a4f3-7a7fbb5ed318",
   "metadata": {},
   "outputs": [],
   "source": []
  },
  {
   "cell_type": "code",
   "execution_count": null,
   "id": "54712723-16ee-411e-b71a-b488704194f5",
   "metadata": {},
   "outputs": [],
   "source": []
  },
  {
   "cell_type": "code",
   "execution_count": null,
   "id": "695fb37a-227c-4252-99e5-7cac053b4aa6",
   "metadata": {},
   "outputs": [],
   "source": []
  },
  {
   "cell_type": "code",
   "execution_count": null,
   "id": "624f014e-235d-4cdf-a936-235bef14b4f8",
   "metadata": {},
   "outputs": [],
   "source": []
  },
  {
   "cell_type": "markdown",
   "id": "ca5d8779-6947-42ae-baf8-8964e6c93940",
   "metadata": {},
   "source": [
    "<h1 style=\"font-size: 40px; margin-bottom: 0px;\">Analyze other histone marks</h1>\n",
    "\n",
    "<hr style=\"margin-left: 0px; border: 0.25px solid; border-color: #000000; width: 600px;\"></hr>"
   ]
  },
  {
   "cell_type": "markdown",
   "id": "5cbe2e2f-7c07-4619-b01e-c1fe16301111",
   "metadata": {},
   "source": [
    "If we have time, see if you can do the same for the other histone marks."
   ]
  },
  {
   "cell_type": "markdown",
   "id": "1973e4e7-57d3-4417-80af-e6ab8e23c59e",
   "metadata": {},
   "source": [
    "<h3>Obtain data matrix of read densities for H3K4me3</h3>\n",
    "\n",
    "<pre style=\"width: 450px; margin-top: 15px; margin-bottom: 15px; color: #000000; background-color: #EEEEEE; border: 1px solid; border-color: #AAAAAA; padding: 10px; border-radius: 15px; font-size: 12px;\">annotatePeaks.pl \\\n",
    "~/MCB201B_F2024/Week_8/top_concordant_peaks.narrowPeak \\\n",
    "hg19 \\\n",
    "-bedGraph ~/shared/course/mcb201b-shared-readwrite/chip/histone/h3k4me3-1.bedGraph \\\n",
    "-size 2000 \\\n",
    "-hist 10 \\\n",
    "-ghist \\\n",
    "> h3k4me3_heatmap.txt</pre>\n",
    "\n",
    "<hr style=\"border: 1px solid; border-color: #BBBBBB;\"></hr>"
   ]
  },
  {
   "cell_type": "markdown",
   "id": "2662228b-65e4-4c9c-a157-3184c26d9dbd",
   "metadata": {},
   "source": [
    "<h3>Obtain data matrix of read densities for H3K27Ac</h3>\n",
    "\n",
    "<pre style=\"width: 450px; margin-top: 15px; margin-bottom: 15px; color: #000000; background-color: #EEEEEE; border: 1px solid; border-color: #AAAAAA; padding: 10px; border-radius: 15px; font-size: 12px;\">annotatePeaks.pl \\\n",
    "~/MCB201B_F2024/Week_8/top_concordant_peaks.narrowPeak \\\n",
    "hg19 \\\n",
    "-bedGraph ~/shared/course/mcb201b-shared-readwrite/chip/histone/h3k27ac-1.bedGraph \\\n",
    "-size 2000 \\\n",
    "-hist 10 \\\n",
    "-ghist \\\n",
    "> h3k27ac_heatmap.txt</pre>"
   ]
  },
  {
   "cell_type": "markdown",
   "id": "7909d653-ae76-4f4e-a524-593f0f5e3dfc",
   "metadata": {},
   "source": [
    "<h2>Plot their heatmaps</h2>"
   ]
  },
  {
   "cell_type": "code",
   "execution_count": null,
   "id": "9266e3a1-5078-4545-a5b0-646399c2c840",
   "metadata": {},
   "outputs": [],
   "source": []
  },
  {
   "cell_type": "markdown",
   "id": "222855d8-6dc0-403e-b9a9-5a26a7497877",
   "metadata": {},
   "source": [
    "<h1 style=\"font-size: 40px; margin-bottom: 0px;\">References</h1>\n",
    "\n",
    "<hr style=\"margin-left: 0px; border: 0.25px solid; border-color: #000000; width: 400px;\"></hr>"
   ]
  },
  {
   "cell_type": "markdown",
   "id": "3581bb27-b912-411d-adef-e7b56cb41b15",
   "metadata": {},
   "source": [
    "<a href=\"https://bmcgenomics.biomedcentral.com/articles/10.1186/1471-2164-15-331\" rel=\"noopener noreferrer\" target=\"_blank\"><u>Rhie et al 2014 BMC Genomics:</u></a> Nucleosome positioning and histone modifications define relationships between regulatory elements and nearby gene expression in breast epithelial cells"
   ]
  }
 ],
 "metadata": {
  "kernelspec": {
   "display_name": "Python [conda env:root] *",
   "language": "python",
   "name": "conda-root-py"
  },
  "language_info": {
   "codemirror_mode": {
    "name": "ipython",
    "version": 3
   },
   "file_extension": ".py",
   "mimetype": "text/x-python",
   "name": "python",
   "nbconvert_exporter": "python",
   "pygments_lexer": "ipython3",
   "version": "3.11.0"
  }
 },
 "nbformat": 4,
 "nbformat_minor": 5
}
