{
 "cells": [
  {
   "cell_type": "markdown",
   "id": "4c9085cc-9693-4c47-bdec-7757ac574e59",
   "metadata": {},
   "source": [
    "<h1 style=\"font-size: 40px; margin-bottom: 0px;\">13.2 Functional analysis of RNA-seq results</h1>\n",
    "\n",
    "<hr style=\"margin-left: 0px; border: 0.25px solid; border-color: #000000; width: 950px;\"></hr>"
   ]
  },
  {
   "cell_type": "markdown",
   "id": "ceb9cf80-2f71-497a-82b0-490a46aa11a8",
   "metadata": {},
   "source": [
    "Yesterday, we explored our data at the level of each gene. Today, we'll take a look at our data with respect to groups of genes through a functional analysis of our differential expression results. While looking at the changes in expression of individual genes can provide insight into the gene-level impacts of experimental manipulations, we can also look for groups of genes that change together through functional analysis. This type of analysis can give us insight into broader biological changes that are occurring as a result of experimental manipulations, such as knocking down TAZ. So rather than asking about what is happening to a specific gene, we are instead asking about what biological processes, signaling pathways, or other functional groups are changing in our cells.\n",
    "\n",
    "<strong>Learning objectives:</strong>\n",
    "\n",
    "<ul>\n",
    "    <li>Explore databases for functional analysis</li>\n",
    "    <li>Review and perform an over-representation analysis</li>\n",
    "    <li>Review and perform gene set enrichment analysis (GSEA)</li>\n",
    "    <li>Explore other programs and methods to perform functional analysis</li>\n",
    "</ul>"
   ]
  },
  {
   "cell_type": "markdown",
   "id": "d51156d2-e43b-483d-b267-c866d0178849",
   "metadata": {},
   "source": [
    "<h1>Install GSEApy and load in packages</h1>"
   ]
  },
  {
   "cell_type": "markdown",
   "id": "5c951c93-6d17-4845-ab63-4e27521d54c1",
   "metadata": {},
   "source": [
    "We'll be performing both the over-representation analysis and GSEA using Python, and to do this, we'll make use of a package called <code>GSEApy</code>, which was developed by Zhuoqing Fang, Xinyuan Liu, and Gary Peltz (<a href=\"https://academic.oup.com/bioinformatics/article/39/1/btac757/6847088\" rel=\"noopener noreferrer\" target=\"_blank\"><u>Fang et al 2022</u></a>). It also allows us to directly pull into our notebook, a bunch of different databases all containing their own gene sets, which we can then use to identify functional groups that may be impacted when we knocked down TAZ.\n",
    "\n",
    "<a href=\"https://gseapy.readthedocs.io/en/latest/index.html\" rel=\"noopener noreferrer\" target=\"_blank\"><u>Documentation for GSEApy package can be found here.</u></a>"
   ]
  },
  {
   "cell_type": "markdown",
   "id": "1edabf92-6c31-4483-bc96-9e42975b88a8",
   "metadata": {},
   "source": [
    "First, we'll install GSEApy:"
   ]
  },
  {
   "cell_type": "code",
   "execution_count": null,
   "id": "a787bf4f-aa34-4d7c-8999-6bdc15644de2",
   "metadata": {},
   "outputs": [],
   "source": [
    "pip install gseapy"
   ]
  },
  {
   "cell_type": "markdown",
   "id": "bb5131ab-2adb-4703-9c79-1a93910981e4",
   "metadata": {},
   "source": [
    "Then we'll load in the packages we'll use for today's lesson."
   ]
  },
  {
   "cell_type": "code",
   "execution_count": null,
   "id": "3a5e23f5-31dc-478f-a03d-253b7fa888fe",
   "metadata": {},
   "outputs": [],
   "source": [
    "import numpy as np\n",
    "import pandas as pd\n",
    "import matplotlib.pyplot as plt\n",
    "import seaborn as sns\n",
    "import gseapy as gp\n",
    "import networkx as nx"
   ]
  },
  {
   "cell_type": "markdown",
   "id": "02c62cca-f91d-4874-a426-7a97d1b5ef53",
   "metadata": {},
   "source": [
    "<h1>Explore databases</h1>"
   ]
  },
  {
   "cell_type": "markdown",
   "id": "c238697c-d350-4b69-9d16-b0fb4ba6d504",
   "metadata": {},
   "source": [
    "Recall from Dr. Ingolia's lecture that there are a large number of different databases curated by different organizations and people. Each database will group genes a little differently depending on their own classification scheme, and so selecting a database can affect how you interpret your functional analysis. Some may allow you to gain insight into the regulation of different pathways and others may provide information on how biological processes are altered in your experimental manipulation.\n",
    "\n",
    "Let's briefly take some time to take a look at some databases to see how they organize their gene sets."
   ]
  },
  {
   "cell_type": "markdown",
   "id": "9e881e9a-b9a0-4f82-8d97-59fb763c31de",
   "metadata": {},
   "source": [
    "<h2>Pull in Molecular Signatures Database (MSigDB)</h2>"
   ]
  },
  {
   "cell_type": "markdown",
   "id": "0349876a-b9cb-4f1d-9b40-7f41a7478b88",
   "metadata": {},
   "source": [
    "One of the major databases is the <a href=\"https://www.gsea-msigdb.org/gsea/msigdb\" rel=\"noopener noreferrer\" target=\"_blank\"><u>Molecular Signatures Database (MSigDB)</u></a>, which contains annotated gene sets for functional analysis. MSigDB is a joint project between UC San Diego and the Broad Institute (<a href=\"https://www.pnas.org/doi/10.1073/pnas.0506580102\" rel=\"noopener norferrer\" target=\"_blank\"><u>Subramanian, Tamayo et al 2005</u></a>, <a href=\"https://pmc.ncbi.nlm.nih.gov/articles/PMC4707969/\" rel=\"noopener norferrer\" target=\"_blank\"><u>Liberzon et al 2015</u></a>) and funded by the National Cancer Institute's Informatics Technology for Cancer Research."
   ]
  },
  {
   "cell_type": "markdown",
   "id": "732d3a26-22f3-41e9-b4bb-c0432bdeb428",
   "metadata": {},
   "source": [
    "GSEApy allows us to pull in information on the current <a href=\"https://data.broadinstitute.org/gsea-msigdb/msigdb/release/\" rel=\"noopener noreferrer\" target=\"_blank\"><u>MSigDB database from the Broad Institute.</u></a>\n",
    "\n",
    "To do this, we'll make use of the <code>gp.Msigdb()</code> function from the GSEApy package.\n",
    "\n",
    "```\n",
    "msig = gp.Msigdb()\n",
    "```"
   ]
  },
  {
   "cell_type": "code",
   "execution_count": null,
   "id": "24c69e1b-1576-4377-86ff-7605fa4eb81e",
   "metadata": {},
   "outputs": [],
   "source": []
  },
  {
   "cell_type": "markdown",
   "id": "85f2a5e7-2e24-4fa9-9488-2f4e14651d3f",
   "metadata": {},
   "source": [
    "We can then take a look to see what directories the server currently has:\n",
    "\n",
    "```\n",
    "msig.list_dbver()\n",
    "```"
   ]
  },
  {
   "cell_type": "code",
   "execution_count": null,
   "id": "0e9cc5ae-cf7f-445c-9993-de0643dd6700",
   "metadata": {},
   "outputs": [],
   "source": []
  },
  {
   "cell_type": "markdown",
   "id": "cf6cc109-02ab-4fdf-883f-2aa09fe3aded",
   "metadata": {},
   "source": [
    "To get the <code>gmt</code> file, we will make use of the function <code>msig.get_gmt()</code>, where <code>msig</code> is the <code>msigdb</code> object that we created earlier with the <code>Msigdb()</code> function.\n",
    "\n",
    "```\n",
    "hallmark_db = msig.get_gmt(category='h.all', dbver='2024.1.Hs')\n",
    "```\n",
    "\n",
    "Let's break down this line of code:\n",
    "\n",
    "<code>hallmark_db</code>\n",
    "\n",
    "This is the variable that we will save our database. The database is imported into Python as a <code>dict</code> (dictionary) object, so it has <code>key:value</code> pairs, where the key is the category or group that a gene or genes belong to, and the value is the gene name. \n",
    "\n",
    "<hr style=\"border: 1px solid; border-color: #AAAAAA;\"></hr>\n",
    "\n",
    "<code>&equals;</code>\n",
    "\n",
    "Our assignment operator.\n",
    "\n",
    "<hr style=\"border: 1px solid; border-color: #AAAAAA;\"></hr>\n",
    "\n",
    "<code>msig.get_gmt()</code>\n",
    "\n",
    "This function allows us to pull in the database that we want to use for our functional analysis. The files are usually in a <a href=\"https://software.broadinstitute.org/cancer/software/gsea/wiki/index.php/Data_formats#GMT:_Gene_Matrix_Transposed_file_format_.28.2A.gmt.29\" rel=\"noopener noreferrer\" target=\"_blank\"><u>.gmt (Gene Matrix Transposed) format</u></a>.\n",
    "\n",
    "<hr style=\"border: 1px solid; border-color: #AAAAAA;\"></hr>\n",
    "\n",
    "<code>category='h.all'</code>\n",
    "\n",
    "This is the database that we want to pull in, since if we take a look at the directory, it contains a bunch of different .gmt files. Here, we're pulling in the MSigDB Hallmark database.\n",
    "\n",
    "<hr style=\"border: 1px solid; border-color: #AAAAAA;\"></hr>\n",
    "\n",
    "<code>dbver='2024.1.Hs'</code>\n",
    "\n",
    "This is the database version that we're pulling in. As you saw when we took a look at the <code>msigdb</code> object, there were different versions of the MSigDB for both humans and mice, and the <code>dbver</code> parameter allows us to select which version we want to pull into our notebook.\n",
    "\n",
    "Let's input the code into the code cell below:"
   ]
  },
  {
   "cell_type": "code",
   "execution_count": null,
   "id": "61a70f8e-e217-400c-ac14-9cd7280a85fe",
   "metadata": {},
   "outputs": [],
   "source": []
  },
  {
   "cell_type": "markdown",
   "id": "9c96163e-af86-402d-b2e3-6d4aed2687a3",
   "metadata": {},
   "source": [
    "Since the object is a dictionary, we can pull all the values associated with a specific key. In other words, pull all the genes associated with a specific MSigDB Hallmark category.\n",
    "\n",
    "```\n",
    "hallmark_db['HALLMARK_ADIPOGENESIS']\n",
    "```"
   ]
  },
  {
   "cell_type": "code",
   "execution_count": null,
   "id": "d2519e81-a664-4ec6-860b-c71e55dfa709",
   "metadata": {},
   "outputs": [],
   "source": []
  },
  {
   "cell_type": "markdown",
   "id": "0c1954b3-c66a-4fa0-824c-6c6fb1387c83",
   "metadata": {},
   "source": [
    "What you should see is a list of genes that have been categorized as being involved in adipogenesis by MSigDB. We can also take a look at the whole database by converting the dictionary to a DataFrame:\n",
    "\n",
    "```\n",
    "pd.DataFrame.from_dict(hallmark_db, orient='index').T\n",
    "```\n",
    "\n",
    "Since we're not saving it to a variable, this is just for us to take a look at the different gene sets in the database we pulled in."
   ]
  },
  {
   "cell_type": "code",
   "execution_count": null,
   "id": "07c49d72-fde7-4ad2-8eec-198649f77b48",
   "metadata": {},
   "outputs": [],
   "source": []
  },
  {
   "cell_type": "markdown",
   "id": "5f210a0d-4d79-477e-bcbd-67f9071d6662",
   "metadata": {},
   "source": [
    "For this version of the MSigDB Hallmark human database, you can see that there are 50 different categories ranging from adipogenesis to xenobiotic metabolism with varying numbers of genes inside of them. <a href=\"https://www.gsea-msigdb.org/gsea/msigdb/human/genesets.jsp?collection=H\" rel=\"noopener noreferrer\" target=\"_blank\"><u>We can also find more information on these gene sets by diving into the MSigDB page on their Hallmark database.</u></a>"
   ]
  },
  {
   "cell_type": "markdown",
   "id": "a4affce8-e1ce-4dd8-8a90-39e9433f4473",
   "metadata": {},
   "source": [
    "<h2>Use GSEApy to pull Enrichr library of databases</h2>"
   ]
  },
  {
   "cell_type": "markdown",
   "id": "26b909d2-80b1-46c6-8866-9d29ab7d2f5b",
   "metadata": {},
   "source": [
    "GSEApy also functions as an Enrichr wrapper, meaning that it allows you to use the Enrichr web program through Python. <a href=\"https://maayanlab.cloud/Enrichr/\" rel=\"noopener noreferrer\" target=\"_blank\"><u>Enrichr is developed and maintained by the Ma'ayan lab at the Icahn School of Medicine, Mount Sinai, Center for Bioinformatics</u></a> (<a href=\"https://bmcbioinformatics.biomedcentral.com/articles/10.1186/1471-2105-14-128\" rel=\"noopener noreferrer\" target=\"_blank\"><u>Chen et al 2013</u></a>), and it's one of many web-based tools/programs that allow you to perform functional analyses, such as the ones we're doing in this lesson."
   ]
  },
  {
   "cell_type": "markdown",
   "id": "fca76ded-e6d9-4149-b424-e63d500e620f",
   "metadata": {},
   "source": [
    "To take a look at what human-specific databases we can work with for functional analysis, we can make use of the <code>gp.get_library_name()</code> function.\n",
    "\n",
    "```\n",
    "databases = gp.get_library_name(organism='Human')\n",
    "```"
   ]
  },
  {
   "cell_type": "code",
   "execution_count": null,
   "id": "07fff151-083e-447e-8910-2681e49dd0e3",
   "metadata": {},
   "outputs": [],
   "source": []
  },
  {
   "cell_type": "markdown",
   "id": "75fd9de8-fbea-4b08-bf6d-d56567943cc0",
   "metadata": {},
   "source": [
    "Let's take a look at what we pulled into our notebook"
   ]
  },
  {
   "cell_type": "code",
   "execution_count": null,
   "id": "5bb4bd84-52cb-4a8a-8627-1ef5035c4a79",
   "metadata": {},
   "outputs": [],
   "source": []
  },
  {
   "cell_type": "markdown",
   "id": "1fad792d-bf9c-45ae-a4b9-c02b6730db30",
   "metadata": {},
   "source": [
    "You should see that we now have a long list of different human-specific databases that have categorized genes in a variety of different ways.\n",
    "\n",
    "Some commonly used ones that Dr. Ingolia mentioned in lecture are those databases from the <a href=\"https://geneontology.org/\" rel=\"noopener noreferrer\" target=\"_blank\"><u>Gene Ontology (GO) resource</u></a>, the MSigDB, and the <a href=\"https://www.genome.jp/kegg/\" rel=\"noopener noreferrer\" target=\"_blank\"><u>Kyoto Encyclopedia of Genes and Genomes (KEGG)</u></a>. Recall that GO is at the highest level of grouping, divided into three major categories: biological process, cell component, and molecular function, and you should be able to see in this list of databases, these three categories as their own database for functional analysis.\n",
    "\n",
    "Note that these are pulled from the Enrichr library, and that they might not always be the most up-to-date. Note the date for their repository of the MSigDB Hallmark database, <code>MSigDB_Hallmark_2020</code>, while we can directly download or pull the most up-to-date version directly from MSigDB."
   ]
  },
  {
   "cell_type": "markdown",
   "id": "051cd915-9c08-4914-9679-29d679c6a824",
   "metadata": {},
   "source": [
    "<h2>Using databases</h2>"
   ]
  },
  {
   "cell_type": "markdown",
   "id": "0aeac953-d3a9-4d78-9d78-eb7d9d6f0b11",
   "metadata": {},
   "source": [
    "These databases often can be used through web or desktop programs that have been developed, and we'll explore some of them towards the end of this lesson if we have time.\n",
    "\n",
    "To use these databases via GSEApy, we can just pass the name or the variable for the gene set that we want to use for our functional analysis."
   ]
  },
  {
   "cell_type": "markdown",
   "id": "e593cfb2-3665-42a3-9ddb-939fd2eb04fe",
   "metadata": {},
   "source": [
    "<h1>Load in and prepare data</h1>"
   ]
  },
  {
   "cell_type": "markdown",
   "id": "4b580fb9-eb5c-41fe-b244-15be30204a22",
   "metadata": {},
   "source": [
    "Let's go ahead and load in our RNA-seq data that we'll use for today's lesson:\n",
    "\n",
    "<ul>\n",
    "    <li>Our normalized counts matrix</li>\n",
    "    <li>Our shrunken log fold change results</li>\n",
    "</ul>"
   ]
  },
  {
   "cell_type": "code",
   "execution_count": null,
   "id": "c51729a9-3fa7-4a84-9d96-c33be398b98f",
   "metadata": {},
   "outputs": [],
   "source": [
    "norm_counts = pd.read_csv('/home/jovyan/MCB201B_F2024/Week_13/data/1M_norm_counts.csv', delimiter=',')\n",
    "shrinklfc = pd.read_csv('/home/jovyan/MCB201B_F2024/Week_13/data/1M_results_lfcShrink.csv', delimiter=',')"
   ]
  },
  {
   "cell_type": "markdown",
   "id": "cb9a7666-6ee0-41e8-b0ac-c8666b3126a4",
   "metadata": {},
   "source": [
    "Let's take a look at our imported data."
   ]
  },
  {
   "cell_type": "code",
   "execution_count": null,
   "id": "34741e0c-5583-4c3e-a26e-f767daf7ffc0",
   "metadata": {},
   "outputs": [],
   "source": []
  },
  {
   "cell_type": "code",
   "execution_count": null,
   "id": "aeef8376-5a27-4a90-813a-b780d8059b3d",
   "metadata": {},
   "outputs": [],
   "source": []
  },
  {
   "cell_type": "markdown",
   "id": "2a72041b-d854-40a7-bd9b-330071a7af9d",
   "metadata": {},
   "source": [
    "To simplify things for us, we can update our column name for our genes."
   ]
  },
  {
   "cell_type": "code",
   "execution_count": null,
   "id": "e9864a1e-8f6f-4111-8074-77f5da77af2f",
   "metadata": {},
   "outputs": [],
   "source": []
  },
  {
   "cell_type": "markdown",
   "id": "bdfc8c16-9dcb-4bd4-b001-3e894384a555",
   "metadata": {},
   "source": [
    "Then let's pull just the gene names for the significant hits from our differential expression analysis."
   ]
  },
  {
   "cell_type": "code",
   "execution_count": null,
   "id": "bce722ca-0369-4866-93a0-3ad1cb7ab532",
   "metadata": {},
   "outputs": [],
   "source": []
  },
  {
   "cell_type": "code",
   "execution_count": null,
   "id": "af332d1b-d61e-4372-a64f-1baadcb334b9",
   "metadata": {},
   "outputs": [],
   "source": []
  },
  {
   "cell_type": "markdown",
   "id": "5f880ec8-6484-4084-8edb-91d90edcd4df",
   "metadata": {},
   "source": [
    "<h1>Over-representation analysis</h1>"
   ]
  },
  {
   "cell_type": "markdown",
   "id": "41551dbe-876c-427d-aa41-c1693838849a",
   "metadata": {},
   "source": [
    "This type of functional analysis asks if there is an over-representation of sets of genes among the differentially expressed genes you identified through your RNA-seq analysis. The statistical test used by this type of analysis is a hypergeometric test which tells us if the level of enrichment we see is true or just due to random chance. \n",
    "\n",
    "Gene sets that are enriched would then suggest that the biological process, molecular function, or other functional group that they belong to is being broadly affected by the experimental manipulation that was done."
   ]
  },
  {
   "cell_type": "markdown",
   "id": "61b5ae97-3425-456d-8eb0-a42cc9543258",
   "metadata": {},
   "source": [
    "<h2>Deciding on background for analysis</h2>"
   ]
  },
  {
   "cell_type": "markdown",
   "id": "27fc455a-7593-4083-95c2-bd05bc5cc9ff",
   "metadata": {},
   "source": [
    "Recall from Dr. Ingolia's lecture that an important thing to consider for your over-representation analysis is \"What is the universe of genes that you are looking in?\". In other words, what is the background set of genes that will form your reference point? While the human genome has ~25,000 genes, a typical cell will usually express maybe ~10,000 to ~12,000 genes. So you'll want to take into account the fact that your cells probably aren't going to be expressing all genes in the genome by limiting your \"universe of genes\" to the data that you have rather than all the genes in the genome. \n",
    "\n",
    "What that means for our experiment is that we'll generate a list of all expressed genes based on our RNA-seq data and that will be the background for our over-representation analysis. "
   ]
  },
  {
   "cell_type": "code",
   "execution_count": null,
   "id": "31d6ec42-1ec9-4620-b4e4-c2729993c015",
   "metadata": {},
   "outputs": [],
   "source": []
  },
  {
   "cell_type": "code",
   "execution_count": null,
   "id": "662f58e4-7b51-497d-8634-d814fa30220b",
   "metadata": {},
   "outputs": [],
   "source": []
  },
  {
   "cell_type": "markdown",
   "id": "ea4b25d4-e51d-4ab9-8242-350e3e46fb52",
   "metadata": {},
   "source": [
    "<h2>Run the over-representation analysis</h2>"
   ]
  },
  {
   "cell_type": "markdown",
   "id": "894ddf2e-f317-48cd-bd38-d107f996e784",
   "metadata": {},
   "source": [
    "GSEApy contains a couple of ways to run an over-representation analysis, either through Enrichr web program or within Python. We'll perform the hypergeometric test in Python using the function <code>gp.enrich()</code>. <a href=\"https://gseapy.readthedocs.io/en/latest/run.html#gseapy.enrich\" rel=\"noopener noreferrer\" target=\"_blank\"><u>Documentation is here.</u></a>\n",
    "\n",
    "```\n",
    "ora = gp.enrich(gene_list=sig_genes,\n",
    "                    gene_sets=hallmark_db,\n",
    "                    background=bg_genes,\n",
    "                    outdir=None\n",
    "                   )\n",
    "```\n",
    "\n",
    "Let's break down this line of code:\n",
    "\n",
    "<code>ora</code>\n",
    "\n",
    "Our variable that will hold the results of the over-representation analysis.\n",
    "\n",
    "<hr style=\"border: 1px solid; border-color: #AAAAAA;\"></hr>\n",
    "\n",
    "<code>&equals;</code>\n",
    "\n",
    "Assignment operator.\n",
    "\n",
    "<hr style=\"border: 1px solid; border-color: #AAAAAA;\"></hr>\n",
    "\n",
    "<code>gp.enrich()</code>\n",
    "\n",
    "We're calling up this function to perform an over-representation analysis.\n",
    "\n",
    "<hr style=\"border: 1px solid; border-color: #AAAAAA;\"></hr>\n",
    "\n",
    "<code>gene_list=sig_genes</code>\n",
    "\n",
    "Here, we pass our list of significant genes to the function.\n",
    "\n",
    "<hr style=\"border: 1px solid; border-color: #AAAAAA;\"></hr>\n",
    "\n",
    "<code>gene_sets=hallmark_db</code>\n",
    "\n",
    "This is the database that we want it to use when performing the functional analysis.\n",
    "\n",
    "<hr style=\"border: 1px solid; border-color: #AAAAAA;\"></hr>\n",
    "\n",
    "<code>background=bg_genes</code>\n",
    "\n",
    "Here, we provide the list of background genes. In our case, we pulled all the expressed genes from our RNA-seq analysis. Recall that we filtered out genes that weren't expressed (mean == 0) prior to performing our differential expression analysis. So all the output genes showed some level of expression in our cells.\n",
    "\n",
    "<hr style=\"border: 1px solid; border-color: #AAAAAA;\"></hr>\n",
    "\n",
    "<code>outdir=None</code>\n",
    "\n",
    "We specify that we don't want the function to output the results of the analysis to a file."
   ]
  },
  {
   "cell_type": "code",
   "execution_count": null,
   "id": "5fcaddeb-fd15-4e0f-897e-bf5ae4219e50",
   "metadata": {},
   "outputs": [],
   "source": []
  },
  {
   "cell_type": "markdown",
   "id": "176a22f7-4fa9-4d26-bec8-97642a98136d",
   "metadata": {},
   "source": [
    "Now let's take a look at our object."
   ]
  },
  {
   "cell_type": "code",
   "execution_count": null,
   "id": "7fee5708-d7d7-4356-b625-3a985cc50f54",
   "metadata": {},
   "outputs": [],
   "source": []
  },
  {
   "cell_type": "markdown",
   "id": "0811f892-161f-4946-86a3-f51f438d943a",
   "metadata": {},
   "source": [
    "You can see that the results are stored in an Enrichr object, and if we dig into the documentation, we find that there are two ways to pull out the results. We can either pull it out using the <code>res2d</code> attribute or <code>results</code> attribute. The documentation notes that <code>res2d</code> will pull the most recent query while <code>results</code> will pull all queries.\n",
    "\n",
    "Let's pull our most recent query:\n",
    "\n",
    "```\n",
    "ora.res2d\n",
    "```"
   ]
  },
  {
   "cell_type": "code",
   "execution_count": null,
   "id": "cba26b14-e779-40e9-b8c0-df0d7c3a0e7e",
   "metadata": {},
   "outputs": [],
   "source": []
  },
  {
   "cell_type": "markdown",
   "id": "9465c33d-f7bf-4131-9bd6-5045ee2b61e2",
   "metadata": {},
   "source": [
    "We can also update the values in the <code>Gene_set</code> column."
   ]
  },
  {
   "cell_type": "code",
   "execution_count": null,
   "id": "90a05c86-de87-40b6-b10c-ba431220ae7e",
   "metadata": {},
   "outputs": [],
   "source": []
  },
  {
   "cell_type": "markdown",
   "id": "70e63ac6-3232-4bf3-a8a5-17fdf012035b",
   "metadata": {},
   "source": [
    "Let's check how it updated:"
   ]
  },
  {
   "cell_type": "code",
   "execution_count": null,
   "id": "ff1ab869-3aad-4575-b285-72d9f44ea7c6",
   "metadata": {},
   "outputs": [],
   "source": []
  },
  {
   "cell_type": "markdown",
   "id": "324dc0f8-7de0-46d0-9cc5-832029717ae8",
   "metadata": {},
   "source": [
    "So what we have in our Enrichr object results table are the following:\n",
    "\n",
    "<ul>\n",
    "    <li><code>Gene_set</code> - this is the database that we're using for our analysis. If we provided more than one database for our analysis, we would have additional gene set values corresponding to the other databases.</li>\n",
    "    <li><code>Term</code> - this is the functional groupings of the different genes.</li>\n",
    "    <li><code>Overlap</code> - this is the quantification of the number of genes contained in our significant hits (or other specified threshold) that overlap with the genes contained within the different terms</li>\n",
    "    <li><code>P-value</code> - this is the p-value resulting from the hypergeometric test</li>\n",
    "    <li><code>Adjusted P-value</code> - this is the FDR or q-value resulting from the Benjamini-Hochberg, which is one way to correct for multiple hypothesis testing</li>\n",
    "    <li><code>Odds Ratio</code> - the odds ratio can be thought of as a quantification of the enrichment of your significant hits, so a greater Odds Ratio value indicates a greater enrichment of genes contained in that gene set among your hits. The odds ratio is calculated as follows:</li>\n",
    "</ul>\n",
    "\n",
    "```\n",
    "Odds Ratio = (1 * a * d) / (whichever is greater of the two: (1 * b * c) or 1)\n",
    "```\n",
    "\n",
    "<ul>\n",
    "    <p>Where the variables are the numbers of genes broken down in the figure below:</p>\n",
    "</ul>\n",
    "\n",
    "<img src=\"./images/13_2_fig_1.jpg\" style=\"height: 250px; margin: auto;\"/>\n",
    "\n",
    "<ul>\n",
    "    <p>So then if we see a reduced enrichment for example, we would expect to see a smaller odds ratio.</p>\n",
    "</ul>\n",
    "\n",
    "<img src=\"./images/13_2_fig_2.jpg\" style=\"height: 250px; margin: auto;\"/>\n",
    "\n",
    "<ul>\n",
    "    <li><code>Combined Score</code> - a calculation that takes into account the <code>P-value</code> (not the <code>Adjusted P-value</code>) and the <code>Odds Ratio</code></li>\n",
    "</ul>\n",
    "\n",
    "<ul>\n",
    "    <p>The combined score is calculated as:</p>\n",
    "</ul>\n",
    "\n",
    "```\n",
    "Combined Score = -log(P-value) * (Odds Ratio)\n",
    "```\n",
    "\n",
    "<ul>\n",
    "    <p>The combined score is a compromise between the p-value and the odds ratio, which has been shown by the Ma'ayan lab to be better for ranking the results of an over-representation analysis.</p>\n",
    "</ul>"
   ]
  },
  {
   "cell_type": "markdown",
   "id": "75323efb-b106-4b06-920a-2ac4199eb055",
   "metadata": {},
   "source": [
    "<h2>Visualizing results of over-representation analysis</h2>"
   ]
  },
  {
   "cell_type": "markdown",
   "id": "c3898e6e-23f2-485f-897a-8fccbc43b951",
   "metadata": {},
   "source": [
    "We can then take our results and plot them a few different ways to visualize the results of our functional analysis. If you ran your over-representation analysis using multiple databases, you also have the option to plot the results from the databases together."
   ]
  },
  {
   "cell_type": "markdown",
   "id": "9719eed3-7b6b-497f-b2ff-bac7ed49bfaf",
   "metadata": {},
   "source": [
    "<h3>Plot a dot plot</h3>"
   ]
  },
  {
   "cell_type": "markdown",
   "id": "c0a8f232-c3cb-4999-8b7d-b4ee81ef94e7",
   "metadata": {},
   "source": [
    "We can plot our results on a dot plot (categorical scatter plot) that allow us to visualize the different categories (<code>Term</code>) together on a single plot and arrange them based on the output result scores, such as combined score, adjusted p-value, etc. The dot plot allows us to visualize multiple result scores on a single plot depending on what parameters we provide it.\n",
    "\n",
    "To do this, we'll make use of GSEApy's <code>gp.dotplot()</code> function. <a href=\"https://gseapy.readthedocs.io/en/latest/run.html#gseapy.plot.dotplot\" rel=\"noopener noreferrer\" target=\"_blank\"><u>Documentation is here.</u></a> We'll provide it with the results of our analysis and specify how we want it to generate the plot:\n",
    "\n",
    "```\n",
    "gp.dotplot(df=ora.res2d,                   \n",
    "           column='Adjusted P-value',                   \n",
    "           x='Combined Score',\n",
    "           y='Term',\n",
    "           top_term=20,\n",
    "           cutoff=0.05,\n",
    "           size=15,                   \n",
    "           figsize=(3,10),                   \n",
    "           title = 'MSigDB Hallmark',                  \n",
    "           xticklabels_rot=0, \n",
    "           show_ring=False,              \n",
    "           marker='o',\n",
    "           ofname=None\n",
    "          );\n",
    "```\n",
    "\n",
    "Breaking down this code block, we get:\n",
    "\n",
    "<code>gp.dotplot()</code>\n",
    "\n",
    "We're calling up the function to generate dot plots from the GSEApy package. The dot plot will visualize the data contained in three columns of your DataFrame: % Genes in set (derived from <code>Overlap</code>), and two others that you can select through the <code>column</code> and <code>x</code> parameters.\n",
    "\n",
    "<hr style=\"border: 1px solid; border-color: #AAAAAA;\"></hr>\n",
    "\n",
    "<code>df=ora.res2d</code>\n",
    "\n",
    "We provide it with a DataFrame containing our results. In this case, we're providing it with the DataFrame containing the results of our most recent query.\n",
    "\n",
    "<hr style=\"border: 1px solid; border-color: #AAAAAA;\"></hr>\n",
    "\n",
    "<code>column='Adjusted P-value'</code>\n",
    "\n",
    "We are specifying how we want to fill the color for each dot. The default viridis color map will be used to color in the dots according to their adjusted p-value.\n",
    "\n",
    "<hr style=\"border: 1px solid; border-color: #AAAAAA;\"></hr>\n",
    "\n",
    "<code>x='Combined Score'</code>\n",
    "\n",
    "This is another set of data that we want to visualize in the same dot plot. This parameter affects where along the X-axis the dots are plotted with the location determined by the results column you specify. In this case, we will plot the dots along the X-axis based on their <code>Combined Score</code>.\n",
    "\n",
    "<hr style=\"border: 1px solid; border-color: #AAAAAA;\"></hr>\n",
    "\n",
    "<code>y='Term'</code>\n",
    "\n",
    "This sets our Y-axis, and here we're specifying that we want to set our Y-axis as a categorical Y axis corresponding to each group of genes.\n",
    "\n",
    "<hr style=\"border: 1px solid; border-color: #AAAAAA;\"></hr>\n",
    "\n",
    "<code>top_term=20</code>\n",
    "\n",
    "This argument sets the number of enriched terms that we will plot, and it will pull the top terms according to the values specified by your <code>column</code> parameter. So in our case, this will pull the top 10 most significant terms to generate a dot plot.\n",
    "\n",
    "<hr style=\"border: 1px solid; border-color: #AAAAAA;\"></hr>\n",
    "\n",
    "<code>cutoff=0.05</code>\n",
    "\n",
    "This argument sets what the cutoff significance threshold is for plotting. By setting this to parameter to <code>0.05</code>, we specify that our significantly enriched terms will be those that have an <code>Adjusted P-value</code> less than 0.05.\n",
    "\n",
    "<hr style=\"border: 1px solid; border-color: #AAAAAA;\"></hr>\n",
    "\n",
    "<code>size=15</code>\n",
    "\n",
    "This sets the size of our dots, and we can adjust this to better display our dots on our plots.\n",
    "\n",
    "<hr style=\"border: 1px solid; border-color: #AAAAAA;\"></hr>\n",
    "\n",
    "<code>figsize=(3,10)</code>\n",
    "\n",
    "This parameter sets the size of our output figure, and we can supply it with a tuple corresponding to the width and the height of our figure.\n",
    "\n",
    "<hr style=\"border: 1px solid; border-color: #AAAAAA;\"></hr>\n",
    "\n",
    "<code>title = 'MSigDB Hallmark'</code>\n",
    "\n",
    "We can also add a title to our plots through this parameter.\n",
    "\n",
    "<hr style=\"border: 1px solid; border-color: #AAAAAA;\"></hr>\n",
    "\n",
    "<code>xticklabels_rot=0</code>\n",
    "\n",
    "Here, we can adjust the rotation of our X-axis tick labels. This is helpful to adjust when plotting categorical values along the X-axis (such as comparing multiple databases at the same time) to prevent the labels from overlapping one another.\n",
    "\n",
    "<hr style=\"border: 1px solid; border-color: #AAAAAA;\"></hr>\n",
    "\n",
    "<code>show_ring=False</code>\n",
    "\n",
    "If we want, we can also plot a ring around our dots corresponding to the largest percent value in our plot to better compare size changes between dots. By setting this to <code>False</code>, we'll hide the rings and just plot the dots.\n",
    "\n",
    "<hr style=\"border: 1px solid; border-color: #AAAAAA;\"></hr>\n",
    "\n",
    "<code>marker='o'</code>\n",
    "\n",
    "This parameter is the same as what we've seen with matplotlib, and <code>gp.dotplot()</code> follows the same syntax, where we can specify that we want to plot dots by passing the argument <code>'o'</code>.\n",
    "\n",
    "<hr style=\"border: 1px solid; border-color: #AAAAAA;\"></hr>\n",
    "\n",
    "<code>ofname=None</code>\n",
    "\n",
    "If we want to instead save our output image generated by this function to a file, we can provide the name of the file as a string. This functions similarly to some of the visualization functions we've encountered in R, where we provided the file name as an argument to get an output file."
   ]
  },
  {
   "cell_type": "code",
   "execution_count": null,
   "id": "24f03904-8c9e-423d-b3ae-79694bb5cac8",
   "metadata": {},
   "outputs": [],
   "source": []
  },
  {
   "cell_type": "markdown",
   "id": "e2b3f10a-5809-49bd-8e38-fab45cc186cd",
   "metadata": {},
   "source": [
    "<h3>Exercise: Try out different arguments for the dot plot</h3>"
   ]
  },
  {
   "cell_type": "markdown",
   "id": "50b1427f-0ef0-4401-bbda-4427ce1a9583",
   "metadata": {},
   "source": [
    "You can also try playing around with changing the <code>x</code> and <code>column</code> parameters to see how your dot plot changes.\n",
    "\n",
    "Also try to play around with your abritrary cut-offs to see how it affects the results you get from your over-representation analysis.\n",
    "\n",
    "If you want, you can also plot multiple databases at once, but you'll need to first re-run the over-representation analysis with additional databases."
   ]
  },
  {
   "cell_type": "code",
   "execution_count": null,
   "id": "eab521a7-dd46-4e43-b7c8-cf8428d3eff8",
   "metadata": {},
   "outputs": [],
   "source": []
  },
  {
   "cell_type": "markdown",
   "id": "66dd147c-8216-4e20-b50c-d872737ac0ef",
   "metadata": {},
   "source": [
    "<h2>Plot a bar plot</h2>"
   ]
  },
  {
   "cell_type": "markdown",
   "id": "c8c3a905-d239-443f-9be9-91aba286ef2e",
   "metadata": {},
   "source": [
    "Another way of visualizing our results is to generate a bar plot, which is a more focused graph, where we simply plot one of the result scores. We'll make use of GSEApy's <code>gp.barplot()</code> function. <a href=\"https://gseapy.readthedocs.io/en/latest/run.html#gseapy.plot.barplot\" rel=\"noopener noreferrer\" target=\"_blank\"><u>Documentation is here.</u></a>\n",
    "\n",
    "\n",
    "```\n",
    "gp.barplot(df=ora.res2d,\n",
    "           column='Combined Score',\n",
    "           size=10,\n",
    "           top_term=20,\n",
    "           figsize=(4,7),\n",
    "           title='MSigDB Hallmark',\n",
    "           color='#E64B35',\n",
    "           ofname=None\n",
    "          );\n",
    "```\n",
    "\n",
    "The setup is very similar to the dot plot and in some ways a little simpler. The only difference here is that we can provide the function with a <code>color</code> string or dictionary that sets the fill color of the bars. If we have multiple databases being compared, we can provide it with a dictionary containing key:value pairs corresponding to the database name and the color, respectively."
   ]
  },
  {
   "cell_type": "code",
   "execution_count": null,
   "id": "75f4bac9-af67-4750-98bf-5cf15182cd45",
   "metadata": {},
   "outputs": [],
   "source": []
  },
  {
   "cell_type": "markdown",
   "id": "a4843d2d-dc87-4ad6-8489-ff4bf61f201c",
   "metadata": {},
   "source": [
    "<h2>Plot a volcano plot</h2>"
   ]
  },
  {
   "cell_type": "markdown",
   "id": "db8e8c96-367b-4b9f-8478-3a3a85582b7f",
   "metadata": {},
   "source": [
    "Like with our DESeq2 results, we can also generate a volcano plot of our data. Instead of our X-axis being the log2 fold change, we'll plot the odds ratio along the X-axis."
   ]
  },
  {
   "cell_type": "code",
   "execution_count": null,
   "id": "e8f8ca3b-1324-412a-ae01-819d1eb1d279",
   "metadata": {},
   "outputs": [],
   "source": []
  },
  {
   "cell_type": "code",
   "execution_count": null,
   "id": "cede36e3-93a7-4f15-8d9c-7c379454e8df",
   "metadata": {},
   "outputs": [],
   "source": []
  },
  {
   "cell_type": "markdown",
   "id": "88fe8615-4ef9-4cbc-9fda-30b2cbdd8ee5",
   "metadata": {},
   "source": [
    "<h1>Gene Set Enrichment Analysis (GSEA)</h1>"
   ]
  },
  {
   "cell_type": "markdown",
   "id": "7464b8a9-0140-4597-a3d9-65940601f5cb",
   "metadata": {},
   "source": [
    "Another common functional analysis approach is to perform a <a href=\"https://www.gsea-msigdb.org/gsea/doc/GSEAUserGuideFrame.html\" rel=\"noopener noreferrer\" target=\"_blank\"><u>Gene Set Enrichment Analysis (GSEA)</u></a>. A key difference between the over-representation analysis that we performed above and GSEA is that we will take our counts matrix to perform this analysis. So we are not setting any arbitrary cutoffs for significance or log2 fold change. We provide the analysis with our expression matrix, the database that we want it to use for analysis, and metadata contained within a .cls file.\n",
    "\n",
    "Our dataset will get ordered based on the normalized count matrix. Then the function will perform a walk down the list of genes to determine if there is an enrichment of genes within a gene set above what it would normally expect to encounter based on random chance, where random chance is determined by reshuffling (permutation) the order of the genes and repeating the walk up to a specified number of permutations. The result is that we identify which gene sets are enriched in either our control samples or our TAZ KO samples."
   ]
  },
  {
   "cell_type": "markdown",
   "id": "dd44ffde-1af6-4dce-a386-67ccfab7b4d5",
   "metadata": {},
   "source": [
    "<h2>Perform GSEA</h2>"
   ]
  },
  {
   "cell_type": "markdown",
   "id": "5a777175-5ed6-4b77-be32-540db354556c",
   "metadata": {},
   "source": [
    "To perform our analysis, we'll first generate the \"metadata\" that will be parsed from a .cls file. The <code>gp.parser.gsea_cls_parser()</code> function will pull out the conditions and how they should be assigned to each column of your normalized counts matrix. We can generate this ourselves directly in this notebook:"
   ]
  },
  {
   "cell_type": "markdown",
   "id": "358d637d-0bc7-420e-a4ed-d43774db6b67",
   "metadata": {},
   "source": [
    "We can create variables that specify what our two sample groups are:"
   ]
  },
  {
   "cell_type": "code",
   "execution_count": null,
   "id": "2b6e2b7b-6296-4c49-b23c-797ba88d1493",
   "metadata": {},
   "outputs": [],
   "source": []
  },
  {
   "cell_type": "markdown",
   "id": "02c9c89e-e11e-4486-836b-636b298e9db3",
   "metadata": {},
   "source": [
    "Then we can put them together into a list that will be used to assign the groups to each column of our normalized count matrix:"
   ]
  },
  {
   "cell_type": "code",
   "execution_count": null,
   "id": "5657d010-af44-4d86-bd22-ffbee6fff0b9",
   "metadata": {},
   "outputs": [],
   "source": []
  },
  {
   "cell_type": "markdown",
   "id": "0876c1e6-9098-4a9a-a5c5-e063bc78b9d3",
   "metadata": {},
   "source": [
    "Let's take a look at the variables:"
   ]
  },
  {
   "cell_type": "code",
   "execution_count": null,
   "id": "52a3e14a-5b08-4a79-81ce-e9999a1f51f1",
   "metadata": {},
   "outputs": [],
   "source": []
  },
  {
   "cell_type": "markdown",
   "id": "494dedf8-6360-40b2-9f6d-6bcc44ba71db",
   "metadata": {},
   "source": [
    "So this is much the same as what we did when we provided DESeq2 with a conditions matrix."
   ]
  },
  {
   "cell_type": "markdown",
   "id": "c4769f12-caa6-4c4b-9732-925fa5f08020",
   "metadata": {},
   "source": [
    "Now, we can set up and then run GSEA:\n",
    "\n",
    "```\n",
    "gs_res = gp.GSEA(data=norm_counts,\n",
    "                 gene_sets=hallmark_db,\n",
    "                 classes=class_vector,\n",
    "                 method='signal_to_noise',\n",
    "                 permutation_type='gene_set',\n",
    "                 permutation_num=1000,\n",
    "                 outdir=None,\n",
    "                 seed=135\n",
    "                )\n",
    "\n",
    "gs_res.pheno_pos = tazko\n",
    "gs_res.pheno_neg = ctrl\n",
    "\n",
    "gs_res.run()\n",
    "```\n",
    "\n",
    "Let's break down this code block:\n",
    "\n",
    "<code>gs_res</code>\n",
    "\n",
    "This will be the variable to hold our GSEA results.\n",
    "\n",
    "<hr style=\"border: 1px solid; border-color: #AAAAAA;\"></hr>\n",
    "\n",
    "<code>&equals;</code>\n",
    "\n",
    "Our assignment variable.\n",
    "\n",
    "<hr style=\"border: 1px solid; border-color: #AAAAAA;\"></hr>\n",
    "\n",
    "<code>gp.GSEA()</code>\n",
    "\n",
    "This is the function to set up our GSEA run. This set up allows us to first provide the information for our analysis before running the analysis. If we wanted to just run the analysis directly, we can instead use the <code>gp.gsea()</code> function. This will become more apparent when we specify how we want our groups to be arranged.\n",
    "\n",
    "<hr style=\"border: 1px solid; border-color: #AAAAAA;\"></hr>\n",
    "\n",
    "<code>data=norm_counts</code>\n",
    "\n",
    "This is our normalized counts matrix that we'll pass to <code>gp.GSEA()</code>. We don't need to provide it with an ordered list of genes since it will perform the ranking according to the argument we set for the <code>method</code> parameter. \n",
    "\n",
    "<hr style=\"border: 1px solid; border-color: #AAAAAA;\"></hr>\n",
    "\n",
    "<code>gene_sets=hallmark_db</code>\n",
    "\n",
    "Like with before, we indicate which database we want it to use for functional analysis. Here, we provide it with the <code>dict</code> object containing the gene sets for the MSigDB Hallmark database that we pulled in earlier.\n",
    "\n",
    "<hr style=\"border: 1px solid; border-color: #AAAAAA;\"></hr>\n",
    "\n",
    "<code>classes=class_vector</code>\n",
    "\n",
    "This argument assigns the sample conditions (phenotypes) to our normalized counts matrix based on the information contained in our .cls file. So by making sure that the order of our class vector matches our normalized counts matrix columns, our samples will be assigned to their correct \"class\" or \"phenotype\".\n",
    "\n",
    "<hr style=\"border: 1px solid; border-color: #AAAAAA;\"></hr>\n",
    "\n",
    "<code>method='signal_to_noise'</code>\n",
    "\n",
    "This parameter sets the ranking algorithm that will be used. This method calculates the difference of means scaled by the standard deviation, so that a large difference in gene expression classifies that gene as a stronger \"class marker\" for the condition. So if something is highly upregulated in our TAZ KO samples compared to control, then it will be highly ranked in our ranked list. As we then progress towards the end of the ranked list, the genes will be highly downregulatd in TAZ KO samples compared to control, so those genes will be a stronger \"class marker\" for our control condition.\n",
    "\n",
    "<hr style=\"border: 1px solid; border-color: #AAAAAA;\"></hr>\n",
    "\n",
    "<code>permutation_type='phenotype'</code>\n",
    "\n",
    "Recall from Dr. Ingolia's lecture that GSEA compares the enrichment relative to what would be expected by random chance. In order to determine \"what would be expected by random chance\", GSEA will randomly shuffle the data and repeat the analysis many times. The repeated reshuffling and \"walk\" down the list creates a reference for the level of enrichment that would be expected based on random chance. There are two methods to \"shuffle\" the data prior to analysis. \n",
    "\n",
    "The one discussed in lecture is a reshuffling of the sample condition prior to ranking and then repeating the walk down the list of genes. With the setup that we have indicated here with the <code>'phenotype'</code> argument, we randomly assign a condition (phenotype) to each sample, then the genes are ranked according to our specified method. Then the walk down the list is performed. This type of permutation ensures that the gene sets are constant between permutations, and by shuffling the assigned phenotypes for each of our samples, it creates a reference point for the level of enrichment when there is no differential expression in our data (a random ranking of genes). This permutation method requires that we have at least 7 samples for each condition, which we do. The stringency of this method allows us to use a cutoff FDR (q-value) of 0.25 rather than 0.05.\n",
    "\n",
    "Another permutation method, which is less stringent, is to hold the gene rankings constant (assume the differential expression is true) and then instead reshuffle what genes are contained in the gene sets. This method can be used by passing the <code>'gene_set'</code> argument. So the reference point in this case is not a random ranking of genes but rather comparing the enrichment level to a hypothetical randomly generated gene set. This can be used if the sample numbers are too small for the 'phenotype' permutation, and it requires a FDR (q-value) cutoff of 0.05.\n",
    "\n",
    "<hr style=\"border: 1px solid; border-color: #AAAAAA;\"></hr>\n",
    "\n",
    "<code>permutation_num=1000</code>\n",
    "\n",
    "This is the number of times we want to reshuffle and repeat the analysis to determine a reference enrichment level for \"random chance\".\n",
    "\n",
    "<hr style=\"border: 1px solid; border-color: #AAAAAA;\"></hr>\n",
    "\n",
    "<code>outdir=None</code>\n",
    "\n",
    "If we wanted to save the output into a file, we can specify the file name here.\n",
    "\n",
    "<hr style=\"border: 1px solid; border-color: #AAAAAA;\"></hr>\n",
    "\n",
    "<code>seed=135</code>\n",
    "\n",
    "This seed is for the random permutations, and by setting a \"seed\" value, we fix the randomization, allowing our results to be reproducible between runs. So if you provided someone else with the same settings, they'll be able to get the same results if they use the same \"seed\" value. However, if they run with a different seed value, their randomization will be different, so their reference enrichment level will be different as well. So they may have slightly different results.\n",
    "\n",
    "<hr style=\"border: 1px solid; border-color: #AAAAAA;\"></hr>\n",
    "\n",
    "<code>gs_res.pheno_pos = tazko</code>\n",
    "\n",
    "This sets which condition (phenotype) positive enrichment values are correlated with. Our setup will set positive values to be indicative of enrichment in TAZ KO samples.\n",
    "\n",
    "<hr style=\"border: 1px solid; border-color: #AAAAAA;\"></hr>\n",
    "\n",
    "<code>gs_res.pheno_neg = ctrl</code>\n",
    "\n",
    "This sets which condition (phenotpe) negative enrichment values are correlated with. Based on our setup, negative values would indicate enrichment in our control samples.\n",
    "\n",
    "<hr style=\"border: 1px solid; border-color: #AAAAAA;\"></hr>\n",
    "\n",
    "<code>gs_res.run()</code>\n",
    "\n",
    "After we've set up how we want to run our GSEA, we can then run the analysis with this line."
   ]
  },
  {
   "cell_type": "code",
   "execution_count": null,
   "id": "0a601c49-e575-44e5-a212-b3d850de18c2",
   "metadata": {},
   "outputs": [],
   "source": []
  },
  {
   "cell_type": "markdown",
   "id": "e103fa8f-5c96-41b9-abd5-ca4259e62cc6",
   "metadata": {},
   "source": [
    "Let's take a look at the results table:"
   ]
  },
  {
   "cell_type": "code",
   "execution_count": null,
   "id": "9bb0002e-5386-4773-a9c5-770aa75cd1ec",
   "metadata": {},
   "outputs": [],
   "source": []
  },
  {
   "cell_type": "markdown",
   "id": "b767f805-2039-4825-819f-fe6788660c22",
   "metadata": {},
   "source": [
    "Depending on what seed you chose, your results might differ slightly, but we can see enrichment for a number of pathways in our TAZ KO samples. "
   ]
  },
  {
   "cell_type": "markdown",
   "id": "caa18789-1fc0-428e-8f64-c979a06aaf9e",
   "metadata": {},
   "source": [
    "<h2>Generate a GSEA plot</h2>"
   ]
  },
  {
   "cell_type": "markdown",
   "id": "5b9e346e-30a0-4b44-ad75-ce0c2d24f62b",
   "metadata": {},
   "source": [
    "We can then visualize our results with a GSEA plot:\n",
    "\n",
    "```\n",
    "fig = gs._res.plot(gs_res.res2d.Term[0])\n",
    "```\n",
    "\n",
    "This function will generate a GSEA plot for our indicated gene set term/category, and the object is a matplotlib.Figure object, which we can modify using the same methods we have been using for our other figures."
   ]
  },
  {
   "cell_type": "code",
   "execution_count": null,
   "id": "576ff5b5-988e-4363-8a68-1d57da5dc7a7",
   "metadata": {},
   "outputs": [],
   "source": []
  },
  {
   "cell_type": "markdown",
   "id": "1b0c74cb-902a-4011-8013-584061a64d8e",
   "metadata": {},
   "source": [
    "If we want to plot multiple GSEA plots (say of our top 5 hits), we can make use of a for loop:"
   ]
  },
  {
   "cell_type": "code",
   "execution_count": null,
   "id": "d8990e56-a480-40e3-8d9b-4573b09fcbb0",
   "metadata": {},
   "outputs": [],
   "source": []
  },
  {
   "cell_type": "markdown",
   "id": "392fb7db-2260-4cdf-bc64-e4486e64531d",
   "metadata": {},
   "source": [
    "Another way of looking at multiple GSEA terms is to plot them all together onto a single GSEA plot. We'll use the same function as before but instead of providing it with a single term, we can provide a list of terms:\n",
    "\n",
    "```\n",
    "gs_res.plot(gs_res.res2d.Term[:5])\n",
    "```"
   ]
  },
  {
   "cell_type": "code",
   "execution_count": null,
   "id": "4db4c282-024b-41a7-9db3-b3c81fc148d3",
   "metadata": {},
   "outputs": [],
   "source": []
  },
  {
   "cell_type": "markdown",
   "id": "70cfb3c8-fd27-4562-a330-a9e6f0d4a3c8",
   "metadata": {},
   "source": [
    "<h2>Generate heatmap of leading edge genes</h2>"
   ]
  },
  {
   "cell_type": "markdown",
   "id": "149d7369-1332-4b02-a722-0b7eddd13a12",
   "metadata": {},
   "source": [
    "The leading edge of a GSEA plot are the genes that have contributed to the \"peak\" enrichment score of a term, and we can pull them out of our results matrix to generate a heatmap of their relative expression levels between our two conditions. To do this, we'll first need to pull out each of the genes identified as a leading edge gene for a term of interest:\n",
    "\n",
    "```\n",
    "genes = gs_res.res2d.Lead_genes[0].split(';')\n",
    "```\n",
    "\n",
    "This line of code pulls out the string containing the gene names of the leading edge genes for our top GSEA result, and since the gene names are all a single value in the data matrix separated by a semicolon, we can split them apart from each other with the <code>str.split()</code> function, where <code>str</code> is replaced with the string we want to split up into a list."
   ]
  },
  {
   "cell_type": "code",
   "execution_count": null,
   "id": "9bf60c34-f3fe-4dfb-84a9-ac6fd336c427",
   "metadata": {},
   "outputs": [],
   "source": []
  },
  {
   "cell_type": "markdown",
   "id": "1ec2ab24-9ef1-4f37-88b1-3b23ee5445e3",
   "metadata": {},
   "source": [
    "Let's take a look at our leading edge gene names:"
   ]
  },
  {
   "cell_type": "code",
   "execution_count": null,
   "id": "9870afd4-03b8-4a5b-8f38-74eb7b7ced12",
   "metadata": {},
   "outputs": [],
   "source": []
  },
  {
   "cell_type": "markdown",
   "id": "d207f1aa-11aa-439f-98c3-600b290d292f",
   "metadata": {},
   "source": [
    "We can pass this list to an organized counts matrix generated by <code>gp.GSEA()</code> and contained within the output <code>gs_res</code> object.\n",
    "\n",
    "```\n",
    "gp.heatmap(df=gs_res.heatmat.loc[genes], \n",
    "           z_score=0, \n",
    "           title=gs_res.res2d.Term[0], \n",
    "           figsize=(16,8), \n",
    "           cmap='viridis'\n",
    "          );\n",
    "```"
   ]
  },
  {
   "cell_type": "code",
   "execution_count": null,
   "id": "45e26a2e-6b9e-4058-bd18-9af51b0e0578",
   "metadata": {},
   "outputs": [],
   "source": []
  },
  {
   "cell_type": "markdown",
   "id": "804f98c5-49ed-4f1d-8461-e926846435b5",
   "metadata": {},
   "source": [
    "Like with our GSEA plots, if we want to plot our top 5 terms, we can make use of a for loop:"
   ]
  },
  {
   "cell_type": "code",
   "execution_count": null,
   "id": "3a16f1d9-1e44-43b1-b66d-d94c4ffb4175",
   "metadata": {},
   "outputs": [],
   "source": []
  },
  {
   "cell_type": "markdown",
   "id": "55857fae-1511-453f-b438-f7682dc91291",
   "metadata": {},
   "source": [
    "<h2>Generate a dot plot from GSEA results</h2>"
   ]
  },
  {
   "cell_type": "markdown",
   "id": "d261b56a-f283-4bd4-b719-5d9a0ac14e0b",
   "metadata": {},
   "source": [
    "Similar to our over-representation analysis, we can also generate a dot plot from the results of our GSEA run. We'll again make use of the <code>gp.dotplot</code> function.\n",
    "\n",
    "```\n",
    "gp.dotplot(df=gs_res.res2d,             \n",
    "           column=\"FDR q-val\",\n",
    "           x='NES',\n",
    "           y='Term',\n",
    "           top_term=30,\n",
    "           cutoff=0.25,            \n",
    "           size=5, \n",
    "           figsize=(3,10),\n",
    "           title='MSigDB Hallmark',\n",
    "           xticklabels_rot=0,\n",
    "           show_ring=True,\n",
    "           marker='o',\n",
    "           ofname=None\n",
    "          );\n",
    "```"
   ]
  },
  {
   "cell_type": "code",
   "execution_count": null,
   "id": "b475493f-63b4-4cc0-9e9c-30d8ed4e3ef5",
   "metadata": {},
   "outputs": [],
   "source": []
  },
  {
   "cell_type": "markdown",
   "id": "60bdb938-0750-4b18-8805-f1f3b2e718c2",
   "metadata": {},
   "source": [
    "<h2>Plot an enrichment map network</h2>"
   ]
  },
  {
   "cell_type": "markdown",
   "id": "a445414c-6cff-4d0e-970f-b85c9d2aac25",
   "metadata": {},
   "source": [
    "We can zoom out even more to look at the connections/relationships between different enriched terms that we identified through GSEA. This can help provide us with an even higher order view of the changes resulting from our experimental manipulation by identifying related pathways or biological processes that are all changing together in our cells. In this type of network visualization, our terms form nodes in the network that are then connected to each other if they share a gene in their gene set. The strength of the connection is then visualized as the line width of the connecting line between nodes, with a greater number of shared genes pointing to a greater relationship between the two nodes. This could give us additional higher order insights into the changes occurring in our cells as a result of our KO. For example, if we find that a lot of inflammation related terms are all enriched, their overlapping genes may be of interest for further inquiry or inflammation in general. "
   ]
  },
  {
   "cell_type": "markdown",
   "id": "9c37da4a-6c14-46e2-97ac-9a9350314246",
   "metadata": {},
   "source": [
    "First we can build our network nodes and edges:\n",
    "\n",
    "```\n",
    "nodes, edges = gp.enrichment_map(gs_res.res2d, \n",
    "                                 top_term=20, \n",
    "                                 cutoff=0.25\n",
    "                                )\n",
    "```"
   ]
  },
  {
   "cell_type": "code",
   "execution_count": null,
   "id": "6efb8f03-78a7-4b47-a504-97126e96863b",
   "metadata": {},
   "outputs": [],
   "source": []
  },
  {
   "cell_type": "markdown",
   "id": "17da94dc-e4fb-4b0f-987b-38c6424c8b1d",
   "metadata": {},
   "source": [
    "Let's take a look at how many nodes we have in our network:"
   ]
  },
  {
   "cell_type": "code",
   "execution_count": null,
   "id": "45e2dd7a-68e6-44b9-92ec-92d1f9090427",
   "metadata": {},
   "outputs": [],
   "source": []
  },
  {
   "cell_type": "code",
   "execution_count": null,
   "id": "1a4a9bf5-39ce-4440-b7ae-49fc8675394f",
   "metadata": {},
   "outputs": [],
   "source": []
  },
  {
   "cell_type": "markdown",
   "id": "3f5e8f47-0ceb-44de-bafa-9857d0867b72",
   "metadata": {},
   "source": [
    "Then we can use the networkx package to create our network visualization:\n",
    "\n",
    "```\n",
    "G = nx.from_pandas_edgelist(edges,\n",
    "                            source='src_idx',\n",
    "                            target='targ_idx',\n",
    "                            edge_attr=['jaccard_coef', 'overlap_coef']\n",
    "                           )\n",
    "```\n",
    "\n",
    "This sets up the vectors that define the edges between nodes for our network, and we can then pull the edge attributes later to visualize the strength of the relationship between our nodes. We can select from:\n",
    "\n",
    "<ul>\n",
    "    <li>the Jaccard coefficient <code>'jaccard_coef'</code> which measures the similarity and diversity of two connected gene sets</li>\n",
    "    <li>the overlap coefficient <code>'overlap_coef'</code> which measures the similarity between two connected gene sets</li>\n",
    "</ul>"
   ]
  },
  {
   "cell_type": "code",
   "execution_count": null,
   "id": "8ca83512-76b7-4a05-bb48-20b9413a150e",
   "metadata": {},
   "outputs": [],
   "source": []
  },
  {
   "cell_type": "markdown",
   "id": "6678e568-6ab6-4ad4-bccd-7a8784861e12",
   "metadata": {},
   "source": [
    "Once we've generated our edges, we can then check to see if all our nodes are connected with one another, otherwise there will be an error later on if we have an orphan node when plotting our network:"
   ]
  },
  {
   "cell_type": "code",
   "execution_count": null,
   "id": "1462da2f-6e56-4273-9d52-a3464cf1d94a",
   "metadata": {},
   "outputs": [],
   "source": []
  },
  {
   "cell_type": "code",
   "execution_count": null,
   "id": "617104d9-d3e0-4610-8197-aeed4ac10ba3",
   "metadata": {},
   "outputs": [],
   "source": []
  },
  {
   "cell_type": "markdown",
   "id": "6de7c04d-2a87-4543-956c-56cda376d39b",
   "metadata": {},
   "source": [
    "Now let's generate our network visualization from our nodes and edges:\n",
    "\n",
    "```\n",
    "fig, ax = plt.subplots()\n",
    "\n",
    "pos_n=nx.layout.circular_layout(G)\n",
    "\n",
    "nx.draw_networkx_nodes(G,\n",
    "                       pos=pos_n, \n",
    "                       cmap='cool',\n",
    "                       node_color=list(nodes.NES), \n",
    "                       node_size=list(nodes.Hits_ratio *1000)\n",
    "                      )\n",
    "\n",
    "nx.draw_networkx_labels(G,\n",
    "                        pos=pos_n,\n",
    "                        labels=nodes.Term.to_dict(),\n",
    "                        font_size=6,\n",
    "                        font_color='#000000'\n",
    "                       )\n",
    "\n",
    "edge_weight = nx.get_edge_attributes(G, 'jaccard_coef').values()\n",
    "\n",
    "nx.draw_networkx_edges(G,\n",
    "                       pos=pos_n,\n",
    "                       width=np.multiply(list(edge_weight), 15),\n",
    "                       edge_color='#CCCCCC'\n",
    "                      )\n",
    "\n",
    "plt.xlim(-1.5, 1.5)\n",
    "plt.ylim(-1.25, 1.25)\n",
    "\n",
    "fig.set_size_inches(8, 6)\n",
    "fig.set_dpi(300)\n",
    "\n",
    "plt.show()\n",
    "```\n",
    "\n",
    "Breaking down this code block, we have:\n",
    "\n",
    "```\n",
    "pos_n=nx.layout.circular_layout(G)\n",
    "```\n",
    "\n",
    "This defines the positions of our nodes. Here, we set up our network map with a circular layout, so our nodes will form a circle.\n",
    "\n",
    "<hr style=\"border: 1px solid; border-color: #AAAAAA;\"></hr>\n",
    "\n",
    "```\n",
    "nx.draw_networkx_nodes(G,\n",
    "                       pos=pos_n, \n",
    "                       cmap='cool',\n",
    "                       node_color=list(nodes.NES), \n",
    "                       node_size=list(nodes.Hits_ratio *1000)\n",
    "                      )\n",
    "```\n",
    "\n",
    "This draws the nodes onto our figure based on the layout we defined earlier, and we can specify the fill color for our nodes as well as their size and how they are determined.\n",
    "\n",
    "<hr style=\"border: 1px solid; border-color: #AAAAAA;\"></hr>\n",
    "\n",
    "```\n",
    "nx.draw_networkx_labels(G,\n",
    "                        pos=pos_n,\n",
    "                        labels=nodes.Term.to_dict(),\n",
    "                        font_size=6,\n",
    "                        font_color='#000000'\n",
    "                       )\n",
    "```\n",
    "\n",
    "This sets the labels for our nodes.\n",
    "\n",
    "<hr style=\"border: 1px solid; border-color: #AAAAAA;\"></hr>\n",
    "\n",
    "```\n",
    "edge_weight = nx.get_edge_attributes(G, 'jaccard_coef').values()\n",
    "```\n",
    "\n",
    "Here we define the weight of our edges that will visualize the strength of the relationship between our nodes. In other words, this will show the connectedness of different terms.\n",
    "\n",
    "<hr style=\"border: 1px solid; border-color: #AAAAAA;\"></hr>\n",
    "\n",
    "```\n",
    "nx.draw_networkx_edges(G,\n",
    "                       pos=pos_n,\n",
    "                       width=np.multiply(list(edge_weight), 15),\n",
    "                       edge_color='#CCCCCC'\n",
    "                      )\n",
    "```\n",
    "\n",
    "This uses the information of our node positions and the <code>edge_weight</code> to draw our edge vectors."
   ]
  },
  {
   "cell_type": "code",
   "execution_count": null,
   "id": "4cef053e-8ff6-4b4a-a630-e8db7fcd13d1",
   "metadata": {},
   "outputs": [],
   "source": []
  },
  {
   "cell_type": "markdown",
   "id": "25f47abe-e802-4339-a682-3f269fa21ec4",
   "metadata": {},
   "source": [
    "<h1>Exploring other functional analysis programs</h1>"
   ]
  },
  {
   "cell_type": "markdown",
   "id": "a861ece4-3b52-4ccb-b53a-1cc7df84a402",
   "metadata": {},
   "source": [
    "There are a number of available free programs to use for functional analysis. A large number of them are web-based but some can also be downloaded and run on your computer. As you've seen today, you can run functional analysis in Python, but you can also run functional analysis in R. Some of them are included below if you want to explore them:"
   ]
  },
  {
   "cell_type": "markdown",
   "id": "6113e527-14bb-48b9-9973-66cc5d73772d",
   "metadata": {},
   "source": [
    "Enrichr - https://maayanlab.cloud/Enrichr/\n",
    "\n",
    "gProfiler - https://biit.cs.ut.ee/gprofiler/gost\n",
    "\n",
    "Panther - https://pantherdb.org/\n",
    "\n",
    "GOrilla - https://cbl-gorilla.cs.technion.ac.il/\n",
    "\n",
    "Ontologizer - http://ontologizer.de/\n",
    "\n",
    "Gene Weaver - https://www.geneweaver.org/\n",
    "\n",
    "ClueGO - https://apps.cytoscape.org/apps/cluego\n",
    "\n",
    "DAVID - https://davidbioinformatics.nih.gov/content.jsp?file=functional_annotation.html\n",
    "\n",
    "GSEA desktop application - https://www.gsea-msigdb.org/gsea/index.jsp\n",
    "\n",
    "clusterProfiler (in R)\n"
   ]
  },
  {
   "cell_type": "markdown",
   "id": "8032f040-da55-44b0-b63a-fc0ffd26f534",
   "metadata": {},
   "source": [
    "<h1 style=\"font-size: 40px; margin-bottom: 0px;\">References</h1>\n",
    "\n",
    "<hr style=\"margin-left: 0px; border: 0.25px solid; border-color: #000000; width: 400px;\"></hr>"
   ]
  },
  {
   "cell_type": "markdown",
   "id": "a07a15ac-7390-441f-8efb-b0417b4f73e9",
   "metadata": {},
   "source": [
    "<a href=\"https://academic.oup.com/bioinformatics/article/39/1/btac757/6847088\" rel=\"noopener noreferrer\" target=\"_blank\"><u>Fang et al 2022 Bioinformatics:</u></a> GSEApy: a comprehensive package for performing gene set enrichment analysis in Python\n",
    "\n",
    "<a href=\"https://www.pnas.org/doi/10.1073/pnas.0506580102\" rel=\"noopener norferrer\" target=\"_blank\"><u>Subramanian, Tamayo et al 2005 PNAS:</u></a> Gene set enrichment analysis: A knowledge-based approach for interpreting genome-wide expression profiles\n",
    "\n",
    "<a href=\"https://pmc.ncbi.nlm.nih.gov/articles/PMC4707969/\" rel=\"noopener norferrer\" target=\"_blank\"><u>Liberzon et al 2015 Cell Syst:</u></a> The Molecular Signatures Database (MSigDB) hallmark gene set collection\n",
    "\n",
    "<a href=\"https://bmcbioinformatics.biomedcentral.com/articles/10.1186/1471-2105-14-128\" rel=\"noopener noreferrer\" target=\"_blank\"><u>Chen et al 2013 BMC Bioinformatics:</u></a> Enrichr: interactive and collaborative HTML5 gene list enrichment analysis tool"
   ]
  },
  {
   "cell_type": "code",
   "execution_count": null,
   "id": "4e070a4f-5e11-4703-8b6d-9eb363847684",
   "metadata": {},
   "outputs": [],
   "source": []
  }
 ],
 "metadata": {
  "kernelspec": {
   "display_name": "Python [conda env:root] *",
   "language": "python",
   "name": "conda-root-py"
  },
  "language_info": {
   "codemirror_mode": {
    "name": "ipython",
    "version": 3
   },
   "file_extension": ".py",
   "mimetype": "text/x-python",
   "name": "python",
   "nbconvert_exporter": "python",
   "pygments_lexer": "ipython3",
   "version": "3.11.0"
  }
 },
 "nbformat": 4,
 "nbformat_minor": 5
}
