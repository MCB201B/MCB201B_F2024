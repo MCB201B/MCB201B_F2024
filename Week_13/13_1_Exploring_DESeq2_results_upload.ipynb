{
 "cells": [
  {
   "cell_type": "markdown",
   "id": "6326edef-dd83-4ddc-b419-d0e7e3e51a7b",
   "metadata": {},
   "source": [
    "<h1 style=\"font-size: 40px; margin-bottom: 0px;\">13.1 Exploring DESeq2 results</h1>\n",
    "\n",
    "<hr style=\"margin-left: 0px; border: 0.25px solid; border-color: #000000; width: 950px;\"></hr>"
   ]
  },
  {
   "cell_type": "markdown",
   "id": "5835abe1-0fae-43b4-80bb-e32ad1c5646f",
   "metadata": {},
   "source": [
    "Last week, we ran DESeq2 on our class dataset and got the results of our differential expression analysis. Today, we'll be playing around with our data, looking at our results in aggregate and pulling out data that we might think is interesting to look at in more detail. We'll make some plots that we've generated in R, but breaking it down into smaller steps to better understand what is going on under the hood and exactly what we're looking at in each of these plots. We'll work together to walk through the logic behind step as we build up each plot increasing in complexity.\n",
    "\n",
    "For those of you who are comfortable, you can feel free to go on ahead at your own pace. And for those of you who are more comfortable using R, you can also feel free to change this notebook's kernel to R, and do this lesson in R. I'll switch between R and Python if people want to work in R as well.\n",
    "\n",
    "<strong>Learning objectives:</strong>\n",
    "\n",
    "<ul>\n",
    "    <li>Navigate differential expression results</li>\n",
    "    <li>Practice working with data in Python</li>\n",
    "    <li>Practice data visualization</li>\n",
    "    <ul>\n",
    "        <li>MA plot</li>\n",
    "        <li>Volcano plot</li>\n",
    "        <li>Violin plot</li>\n",
    "        <li>Box-and-whisker plot</li>\n",
    "    </ul>\n",
    "</ul>"
   ]
  },
  {
   "cell_type": "markdown",
   "id": "78a3a031-b4e8-4c0c-ab1a-6521e5592ee3",
   "metadata": {},
   "source": [
    "<h2>Packages for those of you who want to work in Python</h2>"
   ]
  },
  {
   "cell_type": "code",
   "execution_count": null,
   "id": "6520075e-cb18-4778-a857-dc4a2b205e83",
   "metadata": {},
   "outputs": [],
   "source": [
    "import numpy as np\n",
    "import pandas as pd\n",
    "import matplotlib.pyplot as plt\n",
    "import seaborn as sns"
   ]
  },
  {
   "cell_type": "markdown",
   "id": "3706d5e3-c9f8-4eda-b6f6-9223b6d343bf",
   "metadata": {},
   "source": [
    "<h2>Packages for those of you who want to work in R</h2>"
   ]
  },
  {
   "cell_type": "code",
   "execution_count": null,
   "id": "ae14e6f2-847d-4172-8eec-8c4f088b7fa0",
   "metadata": {},
   "outputs": [],
   "source": [
    "# library(ggplot2)\n",
    "# library(dplyr)\n",
    "# library(ggrepel)\n",
    "# library(reshape2)"
   ]
  },
  {
   "cell_type": "markdown",
   "id": "2bf199f3-9928-4822-8681-ff990df8bb59",
   "metadata": {},
   "source": [
    "<h1>Import data for today's exercises</h1>"
   ]
  },
  {
   "cell_type": "markdown",
   "id": "49c2a008-d0f9-4aae-977c-6f09da2d400a",
   "metadata": {},
   "source": [
    "To start, we'll first import the data that we'll need for today's exercises. We'll be working with:\n",
    "\n",
    "<ul>\n",
    "    <li>Normalized counts matrix extracted from DESeq2</li>\n",
    "    <li>DESeq2 results matrix</li>\n",
    "    <li>DESeq2 shrunken log fold change results matrix</li>\n",
    "    <li>Conditions matrix</li>\n",
    "</ul>"
   ]
  },
  {
   "cell_type": "code",
   "execution_count": null,
   "id": "6c277b14-9925-494d-a328-d26456ddbd47",
   "metadata": {},
   "outputs": [],
   "source": [
    "norm_counts \n",
    "res \n",
    "shrinklfc \n",
    "conditions "
   ]
  },
  {
   "cell_type": "markdown",
   "id": "4a324530-2bd3-4983-93d4-577e0674cd94",
   "metadata": {},
   "source": [
    "To make things easier later on, let's update the <code>Unnamed: 0</code> column name for our DataFrames."
   ]
  },
  {
   "cell_type": "code",
   "execution_count": null,
   "id": "dad56120-f099-4e5c-a061-aede7ba0ff41",
   "metadata": {},
   "outputs": [],
   "source": []
  },
  {
   "cell_type": "markdown",
   "id": "df39c257-5cc6-43a4-94bb-40f188edf721",
   "metadata": {},
   "source": [
    "Now let's double check to see how these DataFrames look:"
   ]
  },
  {
   "cell_type": "code",
   "execution_count": null,
   "id": "8d11441f-a002-42de-bf89-1e48caa17d39",
   "metadata": {},
   "outputs": [],
   "source": []
  },
  {
   "cell_type": "markdown",
   "id": "cf095d77-9c27-4eeb-bc4a-6536afcef7bd",
   "metadata": {},
   "source": [
    "<h1>(Re)generate an MA plot</h1>"
   ]
  },
  {
   "cell_type": "markdown",
   "id": "1bf673f7-98bc-4ce9-81c2-392f284283c0",
   "metadata": {},
   "source": [
    "To refamiliarize ourselves with Python, we'll regenerate an MA plot using our results from the DESeq2 dataset to help us better understand what we're looking at in the plot and where the values are coming from.\n",
    "\n",
    "For this, we'll once again make use of <code>sns.scatterplot()</code>. <a href=\"https://seaborn.pydata.org/generated/seaborn.scatterplot.html\" rel=\"noopener noreferrer\" target=\"_blank\"><u>Documentation is here.</u></a>"
   ]
  },
  {
   "cell_type": "code",
   "execution_count": null,
   "id": "b49931ab-e4e3-4e5b-873e-215200c90cc4",
   "metadata": {},
   "outputs": [],
   "source": []
  },
  {
   "cell_type": "markdown",
   "id": "38fde178-d7da-4383-85df-d8330ef9b45a",
   "metadata": {},
   "source": [
    "<h2>Plot MA plot of shrunken log fold change</h2>"
   ]
  },
  {
   "cell_type": "markdown",
   "id": "436cfbd7-0bbf-40ef-ad9a-8cea35f5d4ea",
   "metadata": {},
   "source": [
    "For this one, we'll regenerate an MA plot of the shrunken log fold change and add a little bit more complexity by visually differentiating between significantly upregulated and significantly downregulated genes."
   ]
  },
  {
   "cell_type": "code",
   "execution_count": null,
   "id": "af969cd5-6023-4456-af42-00eb7deabf7f",
   "metadata": {},
   "outputs": [],
   "source": []
  },
  {
   "cell_type": "markdown",
   "id": "eb24c07f-d646-451b-99b1-b1091d0da4ac",
   "metadata": {},
   "source": [
    "<h1>Generate a volcano plot from your DESeq2 results</h1>"
   ]
  },
  {
   "cell_type": "markdown",
   "id": "9ea3dd66-5838-4619-841c-50c532f1ed89",
   "metadata": {},
   "source": [
    "Another plot that you'll commonly see with accompanying differential expression analyses is the volcano plot. In volcano plots, each gene's log2 fold change is plotted along the X-axis, and its -log10(FDR) is plotted along the Y-axis. The resulting scatter plot sort of resembles an erupting volcano with the most significant genes higher up along the Y-axis, while genes that exhibit a greater log fold change are found further towards the negative and positive extremes of the X-axis.\n",
    "\n",
    "For this plot, we'll continue to visually differentiate between upregulated and downregulated genes, and then add another layer of complexity by labeling the top 10 most significantly upregulated and top 10 most significantly downregulated genes."
   ]
  },
  {
   "cell_type": "code",
   "execution_count": null,
   "id": "7c0361be-a39b-4c82-ab4a-7826d61a855e",
   "metadata": {},
   "outputs": [],
   "source": []
  },
  {
   "cell_type": "markdown",
   "id": "734f9f4b-3677-48ac-8c41-245761629beb",
   "metadata": {},
   "source": [
    "<h1>Guided Exercise: Violin plots and box-and-whisker plots</h1>"
   ]
  },
  {
   "cell_type": "markdown",
   "id": "cf1e7d5f-5740-4e1c-9984-2d4bfeaa0947",
   "metadata": {},
   "source": [
    "Another way that you can visualize your RNA-seq data is to generate violin plots or box-and-whisker plots for individual genes (or sets of genes) using the normalized count matrix. The set up for either one is the same since they are essentially different ways of visualizing the distribution of your samples.\n",
    "\n",
    "For plotting violin plots, we'll make use of <code>sns.violinplot()</code>. <a href=\"https://seaborn.pydata.org/generated/seaborn.violinplot.html\" rel=\"noopener noreferrer\" target=\"_blank\"><u>Documentation is here.</u></a>\n",
    "\n",
    "And to plot a box-and-whisker plot, we'll make use of <code>sns.boxplot()</code>. <a href=\"https://seaborn.pydata.org/generated/seaborn.boxplot.html\" rel=\"noopener noreferrer\" target=\"_blank\"><u>Documentation is here.</u></a>\n",
    "\n",
    "For this guided exercise, we can continue to make use of the genes that were identified to be differentially expressed that we labeled in our volcano plot and use them to pull out the associated normalized counts. First we can do this for our top ten significantly upregulated genes (based on their padj)."
   ]
  },
  {
   "cell_type": "code",
   "execution_count": null,
   "id": "a0b01d77-0308-47db-8258-9dc788c54553",
   "metadata": {},
   "outputs": [],
   "source": []
  },
  {
   "cell_type": "markdown",
   "id": "659f761d-7152-4f8b-8198-a593890012fc",
   "metadata": {},
   "source": [
    "Let's take a look at the new filtered DataFrame."
   ]
  },
  {
   "cell_type": "code",
   "execution_count": null,
   "id": "fabb6048-a030-4273-a1d2-535011322034",
   "metadata": {},
   "outputs": [],
   "source": []
  },
  {
   "cell_type": "markdown",
   "id": "068e4114-c8fd-4351-aa5e-3928ed8613a3",
   "metadata": {},
   "source": [
    "Much like how DESeq2 required a conditions matrix to understand which condition each sample belonged to, we'll swap out our column headers with the information from our conditions matrix. That way, we can specify how we want to group our data later on based on which condition each sample belongs to. "
   ]
  },
  {
   "cell_type": "code",
   "execution_count": null,
   "id": "d0e02b72-f013-4f75-b56a-a6adae026aee",
   "metadata": {},
   "outputs": [],
   "source": []
  },
  {
   "cell_type": "markdown",
   "id": "47987b19-bad7-4ba9-b908-e508082238fd",
   "metadata": {},
   "source": [
    "We can then move our gene names and use them as an index. That way, when we transpose our DataFrame, the gene names will become the column headers."
   ]
  },
  {
   "cell_type": "code",
   "execution_count": null,
   "id": "92e9f4ed-0a01-41c6-a320-75740c8e2bb5",
   "metadata": {
    "scrolled": true
   },
   "outputs": [],
   "source": []
  },
  {
   "cell_type": "markdown",
   "id": "42692477-5582-4c13-9d0a-bd8175b5f059",
   "metadata": {},
   "source": [
    "Now let's transpose our DataFrame."
   ]
  },
  {
   "cell_type": "code",
   "execution_count": null,
   "id": "11e15933-0de2-4d92-80ee-c55c4424714b",
   "metadata": {},
   "outputs": [],
   "source": []
  },
  {
   "cell_type": "markdown",
   "id": "375d0933-a3c1-4365-9394-ae64240542a5",
   "metadata": {},
   "source": [
    "Now let's take another look at our data:"
   ]
  },
  {
   "cell_type": "code",
   "execution_count": null,
   "id": "65c13f10-95ba-48b9-8c95-01d718faf2a7",
   "metadata": {},
   "outputs": [],
   "source": []
  },
  {
   "cell_type": "markdown",
   "id": "c39e7d79-51f6-431f-a2fb-493aeae2c291",
   "metadata": {},
   "source": [
    "<h2>Plot a violin plot for a single gene</h2>"
   ]
  },
  {
   "cell_type": "markdown",
   "id": "78eec554-b662-43dd-8cc9-3424b106a24d",
   "metadata": {},
   "source": [
    "Now let's set up a violin plot to take a look at a single gene first by identifying what our X-axis will be and what our Y-axis will be. Then we can begin adding additional parameters to modify the plot, and then call up specific plot attributes to pretty things up."
   ]
  },
  {
   "cell_type": "code",
   "execution_count": null,
   "id": "88bdeb58-1d20-49c5-afda-03afddc7b21b",
   "metadata": {},
   "outputs": [],
   "source": []
  },
  {
   "cell_type": "markdown",
   "id": "3d59ba2a-a71d-47a6-811e-450ec0eae900",
   "metadata": {},
   "source": [
    "<h2>Plot a box-and-whisker plot for a single gene</h2>"
   ]
  },
  {
   "cell_type": "markdown",
   "id": "0fdb6b8c-c01f-4e19-93c2-f57ad79cf831",
   "metadata": {},
   "source": [
    "We can take our code for the violin plot and make modifications to the arguments that we pass to the <code>sns.boxplot()</code> function:"
   ]
  },
  {
   "cell_type": "code",
   "execution_count": null,
   "id": "51827424-8d52-4106-bc99-ac48cbfc742a",
   "metadata": {},
   "outputs": [],
   "source": []
  },
  {
   "cell_type": "markdown",
   "id": "2a0b9a40-eeb5-4317-b069-0c55d2dca4e0",
   "metadata": {},
   "source": [
    "<h2>Set up to plot multiple gene(s) on a single plot</h2>"
   ]
  },
  {
   "cell_type": "markdown",
   "id": "80e9c294-ee43-4d78-b7b0-e5c09e57e1d6",
   "metadata": {},
   "source": [
    "The set up to plot multiple genes on a single violin plot or box-and-whisker plot is slightly different than plotting a single gene. Whereas the \"wide-format\" of our original DataFrame allows us to distinguish between the conditions of each gene, if we want to plot multiple genes, we'll also need to distinguish between genes as well. One way to do this is to convert the \"wide-format\" DataFrame into a \"long-format\" DataFrame, where all the normalized count values are contained within a single, long column, and the associated information on which condition (either control or TAZ KO) and which gene it comes from are located in their own respective columns. So with this format, each row corresponds to a single normalized count value and its \"metadata\".\n",
    "\n",
    "<table style=\"text-align: center; margin: auto;\">\n",
    "    <tr>\n",
    "        <th style=\"border: none\">&nbsp;</th>\n",
    "        <th style=\"border: 1px solid; border-color: #000000;\">condition</th>\n",
    "        <th style=\"border: 1px solid; border-color: #000000;\">count</th>\n",
    "        <th style=\"border: 1px solid; border-color: #000000;\">gene</th>\n",
    "    </tr>\n",
    "    <tr>\n",
    "        <th style=\"border: 1px solid; border-color: #000000;\">0</th>\n",
    "        <td style=\"border: 1px solid; border-color: #000000;\">control</td>\n",
    "        <td style=\"border: 1px solid; border-color: #000000;\">100.000</td>\n",
    "        <td style=\"border: 1px solid; border-color: #000000;\">first_gene</td>\n",
    "    </tr>\n",
    "    <tr>\n",
    "        <th style=\"border: 1px solid; border-color: #000000;\">1</th>\n",
    "        <td style=\"border: 1px solid; border-color: #000000;\">taz_ko</td>\n",
    "        <td style=\"border: 1px solid; border-color: #000000;\">200.000</td>\n",
    "        <td style=\"border: 1px solid; border-color: #000000;\">first_gene</td>\n",
    "    </tr>\n",
    "    <tr>\n",
    "        <th style=\"border: 1px solid; border-color: #000000;\">2</th>\n",
    "        <td style=\"border: 1px solid; border-color: #000000;\">control</td>\n",
    "        <td style=\"border: 1px solid; border-color: #000000;\">150.000</td>\n",
    "        <td style=\"border: 1px solid; border-color: #000000;\">first_gene</td>\n",
    "    </tr>\n",
    "    <tr>\n",
    "        <th style=\"border: 1px solid; border-color: #000000;\">3</th>\n",
    "        <td style=\"border: 1px solid; border-color: #000000;\">taz_ko</td>\n",
    "        <td style=\"border: 1px solid; border-color: #000000;\">300.000</td>\n",
    "        <td style=\"border: 1px solid; border-color: #000000;\">first_gene</td>\n",
    "    </tr>\n",
    "    <tr>\n",
    "        <th style=\"border: 1px solid; border-color: #000000;\">4</th>\n",
    "        <td style=\"border: 1px solid; border-color: #000000;\">control</td>\n",
    "        <td style=\"border: 1px solid; border-color: #000000;\">400.000</td>\n",
    "        <td style=\"border: 1px solid; border-color: #000000;\">second_gene</td>\n",
    "    </tr>\n",
    "    <tr>\n",
    "        <th style=\"border: 1px solid; border-color: #000000;\">5</th>\n",
    "        <td style=\"border: 1px solid; border-color: #000000;\">taz_ko</td>\n",
    "        <td style=\"border: 1px solid; border-color: #000000;\">900.000</td>\n",
    "        <td style=\"border: 1px solid; border-color: #000000;\">second_gene</td>\n",
    "    </tr>\n",
    "    <tr>\n",
    "        <th style=\"border: 1px solid; border-color: #000000;\">6</th>\n",
    "        <td style=\"border: 1px solid; border-color: #000000;\">control</td>\n",
    "        <td style=\"border: 1px solid; border-color: #000000;\">300.000</td>\n",
    "        <td style=\"border: 1px solid; border-color: #000000;\">second_gene</td>\n",
    "    </tr>\n",
    "    <tr>\n",
    "        <th style=\"border: 1px solid; border-color: #000000;\">7</th>\n",
    "        <td style=\"border: 1px solid; border-color: #000000;\">taz_ko</td>\n",
    "        <td style=\"border: 1px solid; border-color: #000000;\">600.000</td>\n",
    "        <td style=\"border: 1px solid; border-color: #000000;\">second_gene</td>\n",
    "    </tr>\n",
    "    <tr>\n",
    "        <th style=\"border: 1px solid; border-color: #000000;\">...</th>\n",
    "        <td style=\"border: 1px solid; border-color: #000000;\">...</td>\n",
    "        <td style=\"border: 1px solid; border-color: #000000;\">...</td>\n",
    "        <td style=\"border: 1px solid; border-color: #000000;\">...</td>\n",
    "    </tr>\n",
    "    <tr>\n",
    "        <th style=\"border: 1px solid; border-color: #000000;\">96</th>\n",
    "        <td style=\"border: 1px solid; border-color: #000000;\">control</td>\n",
    "        <td style=\"border: 1px solid; border-color: #000000;\">50.000</td>\n",
    "        <td style=\"border: 1px solid; border-color: #000000;\">last_gene</td>\n",
    "    </tr>\n",
    "    <tr>\n",
    "        <th style=\"border: 1px solid; border-color: #000000;\">97</th>\n",
    "        <td style=\"border: 1px solid; border-color: #000000;\">taz_ko</td>\n",
    "        <td style=\"border: 1px solid; border-color: #000000;\">70.000</td>\n",
    "        <td style=\"border: 1px solid; border-color: #000000;\">last_gene</td>\n",
    "    </tr>\n",
    "    <tr>\n",
    "        <th style=\"border: 1px solid; border-color: #000000;\">98</th>\n",
    "        <td style=\"border: 1px solid; border-color: #000000;\">control</td>\n",
    "        <td style=\"border: 1px solid; border-color: #000000;\">20.000</td>\n",
    "        <td style=\"border: 1px solid; border-color: #000000;\">last_gene</td>\n",
    "    </tr>\n",
    "    <tr>\n",
    "        <th style=\"border: 1px solid; border-color: #000000;\">99</th>\n",
    "        <td style=\"border: 1px solid; border-color: #000000;\">taz_ko</td>\n",
    "        <td style=\"border: 1px solid; border-color: #000000;\">30.000</td>\n",
    "        <td style=\"border: 1px solid; border-color: #000000;\">last_gene</td>\n",
    "    </tr>\n",
    "</table>"
   ]
  },
  {
   "cell_type": "markdown",
   "id": "f25d8bf4-c6a5-45f4-a307-9a4c115a4f08",
   "metadata": {},
   "source": [
    "This can kind of be thought of as flattening our DataFrame, since we're collapsing our 2D normalized count matrix into a single column, and the other columns can be thought of as extra information on where the values came from, so that we can distinguish between genes and conditions.\n",
    "\n",
    "First, let's take a look again at our normalized counts, and for this example, we're interested in taking a look at just our top upregulated genes."
   ]
  },
  {
   "cell_type": "code",
   "execution_count": null,
   "id": "2e7ecf4d-d453-44d9-b46e-79e78bb24d68",
   "metadata": {},
   "outputs": [],
   "source": []
  },
  {
   "cell_type": "markdown",
   "id": "13fe4d8a-e4c8-4503-9200-7a18173d5e62",
   "metadata": {},
   "source": [
    "To flatten our DataFrame, we can make use of the function <code>pd.melt()</code> which will allow us to convert the format of our DataFrame from a \"wide-format\" to a \"long-format\".\n",
    "\n",
    "<a href=\"https://pandas.pydata.org/docs/reference/api/pandas.melt.html\" rel=\"noopener noreferrer\" target=\"_blank\"><u>Documentation for <code>pd.melt()</code> is here.</u></a>"
   ]
  },
  {
   "cell_type": "code",
   "execution_count": null,
   "id": "2eee8f79-532b-4824-aee0-f4316b40ab82",
   "metadata": {},
   "outputs": [],
   "source": []
  },
  {
   "cell_type": "markdown",
   "id": "186d364a-007e-4d31-83c5-a1389ac10f97",
   "metadata": {},
   "source": [
    "<h2>Plot violin plot for upregulated genes</h2>"
   ]
  },
  {
   "cell_type": "markdown",
   "id": "0956e131-11cb-41eb-97a7-e6498a7c7dad",
   "metadata": {},
   "source": [
    "We can make use of the same code that we used before to plot a violin plot for one gene with slight modifications to have it plot multiple genes together on a single plot."
   ]
  },
  {
   "cell_type": "code",
   "execution_count": null,
   "id": "a8610e82-1210-4b62-9bdc-35d019b406bc",
   "metadata": {},
   "outputs": [],
   "source": []
  },
  {
   "cell_type": "markdown",
   "id": "5902a210-bca9-453b-98da-42ac4dd02437",
   "metadata": {},
   "source": [
    "<h2>Plot a box-and-whisker plot for upregulated genes</h2>"
   ]
  },
  {
   "cell_type": "markdown",
   "id": "f77bed98-e444-455e-9c0a-1be0fadd293c",
   "metadata": {},
   "source": [
    "We can similarly modify our box-and-whisker plot code to have it plot multiple genes on the same plot:"
   ]
  },
  {
   "cell_type": "code",
   "execution_count": null,
   "id": "c721d9ff-d3b1-4231-92cd-ee7d6f190937",
   "metadata": {},
   "outputs": [],
   "source": []
  },
  {
   "cell_type": "code",
   "execution_count": null,
   "id": "28a04ef0-45d0-4503-8b6e-39f2acaef831",
   "metadata": {},
   "outputs": [],
   "source": []
  }
 ],
 "metadata": {
  "kernelspec": {
   "display_name": "Python [conda env:root] *",
   "language": "python",
   "name": "conda-root-py"
  },
  "language_info": {
   "codemirror_mode": {
    "name": "ipython",
    "version": 3
   },
   "file_extension": ".py",
   "mimetype": "text/x-python",
   "name": "python",
   "nbconvert_exporter": "python",
   "pygments_lexer": "ipython3",
   "version": "3.11.0"
  }
 },
 "nbformat": 4,
 "nbformat_minor": 5
}
