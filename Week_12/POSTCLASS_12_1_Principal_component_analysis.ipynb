{
 "cells": [
  {
   "cell_type": "markdown",
   "id": "86e9b58b-b4e4-45b2-9c5e-154fc75848b5",
   "metadata": {},
   "source": [
    "<h1 style=\"font-size: 40px; margin-bottom: 0px;\">12.1 Principal Component Analysis</h1>\n",
    "\n",
    "<hr style=\"margin-left: 0px; border: 0.25px solid; border-color: #000000; width: 700px;\"></hr>"
   ]
  },
  {
   "cell_type": "markdown",
   "id": "2cbe0094-9a69-44ad-b051-d23711a55d1c",
   "metadata": {},
   "source": [
    "<p>Last week, we played around with our raw counts data in Python, and today, we'll switch over to R to start diving deeper into our counts. If you take a look at the kernel at the top right, you'll see that it's running using R rather than Python. We'll import our matrices that we created using our Python script, perform some normalization and filtering with DESeq2, and then use those values to perform a principal component analysis to get an idea of whether a notable difference exists between our control and TAZ KO replicates. By performing a principal component analysis on our replicates, we'll also be able to see whether there may have been batch effects that we may need to keep in mind in our analyses.</p>\n",
    "\n",
    "<p><strong>Learning objectives:</strong></p>\n",
    "\n",
    "<ul>\n",
    "    <li>Working with data in R</li>\n",
    "    <ul>\n",
    "        <li>Normalization using DESeq2</li>\n",
    "        <li>Basic filtering</li>\n",
    "    </ul>\n",
    "    <li>Review concept of principal component analysis</li>\n",
    "    <li>Perform a principal component analysis</li>\n",
    "</ul>"
   ]
  },
  {
   "cell_type": "markdown",
   "id": "9b8f5d4e-d425-42de-aa0e-f3d783c8e016",
   "metadata": {},
   "source": [
    "<h1>Loading in packages</h1>"
   ]
  },
  {
   "cell_type": "markdown",
   "id": "eb26a448-a21b-4867-a616-960efa1347e1",
   "metadata": {},
   "source": [
    "Like with Python, R has a bunch of different packages to help with data analysis and visualization. The first thing we'll do is load in some packages and install additional ones that we'll need to normalize and filter our data, as well as perform a principal component analysis and generate plots."
   ]
  },
  {
   "cell_type": "markdown",
   "id": "8d5a3d7f-a93c-43e6-b604-b2421d3c19b7",
   "metadata": {},
   "source": [
    "<h2>Differential expression</h2>\n",
    "\n",
    "The main package that we'll be using is called <a href=\"https://bioconductor.org/packages/release/bioc/html/DESeq2.html\" rel=\"noopener noreferrer\" target=\"_blank\"><u>DESeq2</u></a>, which is one of the major packages commonly used to perform differential expression analysis. The other package that is also commonly used for differential expression analysis is called <a href=\"https://bioconductor.org/packages/release/bioc/html/edgeR.html\" rel=\"noopener noreferrer\" target=\"_blank\"><u>edgeR</u></a>.\n",
    "\n",
    "<a href=\"https://bioconductor.org/packages/release/bioc/html/DESeq2.html\" rel=\"noopener noreferrer\" target=\"_blank\"><u>Documentation for DESeq2 can be found here.</u></a> DESeq2 was developed by Michael Love, Wolfgang Huber, and Simon Anders and published in <a href=\"https://genomebiology.biomedcentral.com/articles/10.1186/s13059-014-0550-8\" rel=\"noopener noreferrer\" target=\"_blank\"><u>Love et al 2014 Genome Biology</u></a>. This package allows us to identify differentially expressed genes from a raw counts matrix. This  <a href=\"https://bioconductor.org/packages/devel/bioc/vignettes/DESeq2/inst/doc/DESeq2.html\" rel=\"noopener noreferrer\" target=\"_blank\"><u>A guided walkthrough example (vignette) can be found here</u></a>, and it contains helpful explanations of the different steps of DESeq2. We'll be performing a similar analysis here with some slight modifications."
   ]
  },
  {
   "cell_type": "markdown",
   "id": "ecba7e84-6e1d-4149-8062-74c632f99797",
   "metadata": {},
   "source": [
    "<h2>Data visualization</h2>\n",
    "\n",
    "One of the major packages for data visualization in R is <a href=\"https://ggplot2.tidyverse.org/\" rel=\"noopener noreferrer\" target=\"_blank\"><u>ggplot2</u></a>, which was developed by <a href=\"https://ggplot2.tidyverse.org/authors.html\" rel=\"noopener noreferrer\" target=\"_blank\"><u>Hadley Wickham, Winston Chang, Lionel Henry, Thomas Lin Pedersen, Kohske Takahashi, Claus Wilke, Kara Woo, Hiroaki Yutani, Dewey Dunnington, and Teun van den Brand</u></a>.\n",
    "\n",
    "ggplot2 follows a specific framework to visualize data in a large variety of ways. A very basic way of viewing it is as layers of components that are added on top of each other in order to produce a final visualization. So each layer can be separately modified to produce more complex visualization. <a href=\"https://ggplot2.tidyverse.org/articles/ggplot2.html\" rel=\"noopener noreferrer\" target=\"_blank\"><u>A more detailed explanation can be found here.</u></a>\n",
    "\n",
    "Other packages for data visualization that we'll use are:\n",
    "<ul>\n",
    "    <li><a href=\"https://www.bioconductor.org/packages/2.8/bioc/html/hexbin.html\" rel=\"noopener noreferrer\" target=\"_blank\"><u>hexbin</u></a> - to bin and plot data into hexagonal bins</li>\n",
    "    <li><a href=\"https://www.bioconductor.org/packages/release/bioc/html/vsn.html\" rel=\"noopener noreferrer\" target=\"_blank\"><u>vsn</u></a> - to visualize normalized transcriptomics data</li>\n",
    "</ul>"
   ]
  },
  {
   "cell_type": "markdown",
   "id": "8c5bae09-35d7-4cda-a8aa-cbc849d7360d",
   "metadata": {},
   "source": [
    "<h2>'Omics data exploration</h2>\n",
    "\n",
    "mixOmics is an R package containing a number of methods that facilitate both single 'omics and multivariate 'omics analyses. We'll be making use of mixOmics to perform a principal component analysis of our class transcriptome dataset to determine how our replicates compare to one another. Instead of clustering our datasets by each gene, we'll be clustering our dataset by samples.\n",
    "\n",
    "miXomics was developed by a core team including: Kim-Anh Le Cao, Florian Rohart, and Sebastien Dejean and published in <a href=\"https://journals.plos.org/ploscompbiol/article?id=10.1371/journal.pcbi.1005752\" rel=\"noopener noreferrer\" target=\"_blank\"><u>PLoS Comp Biol 2017.</u></a>\n",
    "<a href=\"https://www.bioconductor.org/packages/release/bioc/html/mixOmics.html\" rel=\"noopener noreferrer\" target=\"_blank\"><u>Documentation for mixOmics can be found here</u></a>, and <a href=\"http://mixomics.org/\" rel=\"noopener noreferrer\" target=\"_blank\"><u>additional information here.</u></a> "
   ]
  },
  {
   "cell_type": "code",
   "execution_count": 1,
   "id": "9a676b7b-fc31-42de-91c4-e84ea604923e",
   "metadata": {},
   "outputs": [
    {
     "name": "stderr",
     "output_type": "stream",
     "text": [
      "Loading required package: S4Vectors\n",
      "\n",
      "Loading required package: stats4\n",
      "\n",
      "Loading required package: BiocGenerics\n",
      "\n",
      "\n",
      "Attaching package: ‘BiocGenerics’\n",
      "\n",
      "\n",
      "The following objects are masked from ‘package:stats’:\n",
      "\n",
      "    IQR, mad, sd, var, xtabs\n",
      "\n",
      "\n",
      "The following objects are masked from ‘package:base’:\n",
      "\n",
      "    anyDuplicated, aperm, append, as.data.frame, basename, cbind,\n",
      "    colnames, dirname, do.call, duplicated, eval, evalq, Filter, Find,\n",
      "    get, grep, grepl, intersect, is.unsorted, lapply, Map, mapply,\n",
      "    match, mget, order, paste, pmax, pmax.int, pmin, pmin.int,\n",
      "    Position, rank, rbind, Reduce, rownames, sapply, saveRDS, setdiff,\n",
      "    table, tapply, union, unique, unsplit, which.max, which.min\n",
      "\n",
      "\n",
      "\n",
      "Attaching package: ‘S4Vectors’\n",
      "\n",
      "\n",
      "The following object is masked from ‘package:utils’:\n",
      "\n",
      "    findMatches\n",
      "\n",
      "\n",
      "The following objects are masked from ‘package:base’:\n",
      "\n",
      "    expand.grid, I, unname\n",
      "\n",
      "\n",
      "Loading required package: IRanges\n",
      "\n",
      "Loading required package: GenomicRanges\n",
      "\n",
      "Loading required package: GenomeInfoDb\n",
      "\n",
      "Loading required package: SummarizedExperiment\n",
      "\n",
      "Loading required package: MatrixGenerics\n",
      "\n",
      "Loading required package: matrixStats\n",
      "\n",
      "\n",
      "Attaching package: ‘MatrixGenerics’\n",
      "\n",
      "\n",
      "The following objects are masked from ‘package:matrixStats’:\n",
      "\n",
      "    colAlls, colAnyNAs, colAnys, colAvgsPerRowSet, colCollapse,\n",
      "    colCounts, colCummaxs, colCummins, colCumprods, colCumsums,\n",
      "    colDiffs, colIQRDiffs, colIQRs, colLogSumExps, colMadDiffs,\n",
      "    colMads, colMaxs, colMeans2, colMedians, colMins, colOrderStats,\n",
      "    colProds, colQuantiles, colRanges, colRanks, colSdDiffs, colSds,\n",
      "    colSums2, colTabulates, colVarDiffs, colVars, colWeightedMads,\n",
      "    colWeightedMeans, colWeightedMedians, colWeightedSds,\n",
      "    colWeightedVars, rowAlls, rowAnyNAs, rowAnys, rowAvgsPerColSet,\n",
      "    rowCollapse, rowCounts, rowCummaxs, rowCummins, rowCumprods,\n",
      "    rowCumsums, rowDiffs, rowIQRDiffs, rowIQRs, rowLogSumExps,\n",
      "    rowMadDiffs, rowMads, rowMaxs, rowMeans2, rowMedians, rowMins,\n",
      "    rowOrderStats, rowProds, rowQuantiles, rowRanges, rowRanks,\n",
      "    rowSdDiffs, rowSds, rowSums2, rowTabulates, rowVarDiffs, rowVars,\n",
      "    rowWeightedMads, rowWeightedMeans, rowWeightedMedians,\n",
      "    rowWeightedSds, rowWeightedVars\n",
      "\n",
      "\n",
      "Loading required package: Biobase\n",
      "\n",
      "Welcome to Bioconductor\n",
      "\n",
      "    Vignettes contain introductory material; view with\n",
      "    'browseVignettes()'. To cite Bioconductor, see\n",
      "    'citation(\"Biobase\")', and for packages 'citation(\"pkgname\")'.\n",
      "\n",
      "\n",
      "\n",
      "Attaching package: ‘Biobase’\n",
      "\n",
      "\n",
      "The following object is masked from ‘package:MatrixGenerics’:\n",
      "\n",
      "    rowMedians\n",
      "\n",
      "\n",
      "The following objects are masked from ‘package:matrixStats’:\n",
      "\n",
      "    anyMissing, rowMedians\n",
      "\n",
      "\n",
      "'getOption(\"repos\")' replaces Bioconductor standard repositories, see\n",
      "'help(\"repositories\", package = \"BiocManager\")' for details.\n",
      "Replacement repositories:\n",
      "    CRAN: https://packagemanager.rstudio.com/all/__linux__/jammy/latest\n",
      "\n",
      "Bioconductor version 3.20 (BiocManager 1.30.25), R 4.4.1 (2024-06-14)\n",
      "\n",
      "Installing package(s) 'mixOmics'\n",
      "\n",
      "also installing the dependencies ‘RSpectra’, ‘pracma’, ‘ellipse’, ‘corpcor’, ‘rARPACK’, ‘gsignal’, ‘rgl’\n",
      "\n",
      "\n",
      "Installation paths not writeable, unable to update packages\n",
      "  path: /usr/lib/R/site-library\n",
      "  packages:\n",
      "    littler\n",
      "\n",
      "Old packages: 'curl', 'fontawesome', 'hierfstat', 'Matrix', 'mclust',\n",
      "  'mixtools', 'phytools', 'plotly', 'poppr', 'qqman', 'RSQLite', 'tidyverse'\n",
      "\n",
      "'getOption(\"repos\")' replaces Bioconductor standard repositories, see\n",
      "'help(\"repositories\", package = \"BiocManager\")' for details.\n",
      "Replacement repositories:\n",
      "    CRAN: https://packagemanager.rstudio.com/all/__linux__/jammy/latest\n",
      "\n",
      "Bioconductor version 3.20 (BiocManager 1.30.25), R 4.4.1 (2024-06-14)\n",
      "\n",
      "Installing package(s) 'hexbin'\n",
      "\n",
      "Installation paths not writeable, unable to update packages\n",
      "  path: /usr/lib/R/site-library\n",
      "  packages:\n",
      "    littler\n",
      "\n",
      "Old packages: 'curl', 'fontawesome', 'hierfstat', 'Matrix', 'mclust',\n",
      "  'mixtools', 'phytools', 'plotly', 'poppr', 'qqman', 'RSQLite', 'tidyverse'\n",
      "\n",
      "'getOption(\"repos\")' replaces Bioconductor standard repositories, see\n",
      "'help(\"repositories\", package = \"BiocManager\")' for details.\n",
      "Replacement repositories:\n",
      "    CRAN: https://packagemanager.rstudio.com/all/__linux__/jammy/latest\n",
      "\n",
      "Bioconductor version 3.20 (BiocManager 1.30.25), R 4.4.1 (2024-06-14)\n",
      "\n",
      "Installing package(s) 'vsn'\n",
      "\n",
      "also installing the dependencies ‘affyio’, ‘preprocessCore’, ‘statmod’, ‘affy’, ‘limma’\n",
      "\n",
      "\n",
      "Installation paths not writeable, unable to update packages\n",
      "  path: /usr/lib/R/site-library\n",
      "  packages:\n",
      "    littler\n",
      "\n",
      "Old packages: 'curl', 'fontawesome', 'hierfstat', 'Matrix', 'mclust',\n",
      "  'mixtools', 'phytools', 'plotly', 'poppr', 'qqman', 'RSQLite', 'tidyverse'\n",
      "\n"
     ]
    }
   ],
   "source": [
    "library(DESeq2)\n",
    "library(ggplot2)\n",
    "BiocManager::install(\"mixOmics\")\n",
    "BiocManager::install(\"hexbin\")\n",
    "BiocManager::install(\"vsn\")"
   ]
  },
  {
   "cell_type": "markdown",
   "id": "5e25cbd6-83c6-4c9d-bc86-7a03f4748c4c",
   "metadata": {},
   "source": [
    "<h1>Import class counts dataset and metadata file</h1>"
   ]
  },
  {
   "cell_type": "markdown",
   "id": "cc114272-2c18-465a-af08-66ae65849f44",
   "metadata": {},
   "source": [
    "Like with Python, we'll have to import our dataset into a dataframe matrix, which we can normalize, filter, and perform differential expression analysis.\n",
    "\n",
    "The syntax is different than Python, but the concept is fundamentally the same.\n",
    "\n",
    "\n",
    "```\n",
    "counts <- read.csv('~/MCB201B_F2024/Week_11/1M-class-counts.csv',\n",
    "                   stringsAsFactors=FALSE, \n",
    "                   row.names=1\n",
    "                  )\n",
    "```\n",
    "\n",
    "Let's break down this line of code:\n",
    "\n",
    "<code>counts</code>\n",
    "\n",
    "This is our variable to which we will assign our dataframe matrix.\n",
    "\n",
    "<hr style=\"border: 1px solid; border-color: #AAAAAA;\"></hr>\n",
    "\n",
    "<code>&lt;-</code>\n",
    "\n",
    "This is the R assignment operator that assigns a variable on the left the object on the right.\n",
    "\n",
    "<hr style=\"border: 1px solid; border-color: #AAAAAA;\"></hr>\n",
    "\n",
    "<code>read.csv()</code>\n",
    "\n",
    "This is the function to read in our .csv file into a dataframe.\n",
    "\n",
    "<hr style=\"border: 1px solid; border-color: #AAAAAA;\"></hr>\n",
    "\n",
    "<code>'~/MCB201B_F2024/Week_11/1M-class-counts.csv'</code>\n",
    "\n",
    "This specifies the file path and file name of the .csv file that we want to load into our notebook.\n",
    "\n",
    "<code>stringsAsFactors=FALSE</code>\n",
    "\n",
    "This argument is refers to a data type particular to R, called a <code>factor</code>. This data type represents categorical data, allowing it to be ordered if needed by assigning them pre-defined values called levels. This comes in handy when plotting, where you can specify the ordering of your categrorical data by pre-defining their levels.\n",
    "\n",
    "By setting this argument to <code>FALSE</code>, we stop R from converting our strings to factors.\n",
    "\n",
    "<hr style=\"border: 1px solid; border-color: #AAAAAA;\"></hr>\n",
    "\n",
    "<code>row.names=1</code>\n",
    "\n",
    "This argument sets the index of our dataframe as the first column in our .csv file. Another way of reading this is that the names of each row is the values of the first column. "
   ]
  },
  {
   "cell_type": "code",
   "execution_count": 2,
   "id": "aa05c927-fffa-421a-a0c9-f623028d16a0",
   "metadata": {},
   "outputs": [],
   "source": [
    "counts <- read.csv('~/MCB201B_F2024/Week_12/1M_counts_matrix.csv',\n",
    "                   stringsAsFactors=FALSE,\n",
    "                   row.names=1\n",
    "                   )"
   ]
  },
  {
   "cell_type": "markdown",
   "id": "c823c18f-9e85-4192-9264-4a84b9afdc70",
   "metadata": {},
   "source": [
    "Now let's take a look at the first 6 rows of our imported dataframe to make sure it imported correctly.\n",
    "\n",
    "```\n",
    "head(counts)\n",
    "```\n",
    "\n",
    "Like with Python and Terminal, <code>head</code> refers to the first set of rows in your data. In Python, the default head is 5 rows. For Terminal, it's 10 rows. And for R, it's 6 rows.\n",
    "\n",
    "If we want to specify 5 rows, we would just provide an extra argument indicating the number of rows we want to display.\n",
    "\n",
    "```\n",
    "head(counts, 5)\n",
    "```\n",
    "\n",
    "This will output 5 rows rather than 6."
   ]
  },
  {
   "cell_type": "code",
   "execution_count": 52,
   "id": "b9bed892-e6fa-4419-9884-929efc9ca69e",
   "metadata": {},
   "outputs": [
    {
     "data": {
      "text/html": [
       "<table class=\"dataframe\">\n",
       "<caption>A data.frame: 5 × 16</caption>\n",
       "<thead>\n",
       "\t<tr><th></th><th scope=col>ctrl_g1</th><th scope=col>tazko_g1</th><th scope=col>ctrl_g2</th><th scope=col>tazko_g2</th><th scope=col>ctrl_g3</th><th scope=col>tazko_g3</th><th scope=col>ctrl_g4</th><th scope=col>tazko_g4</th><th scope=col>ctrl_g5</th><th scope=col>tazko_g5</th><th scope=col>ctrl_g6</th><th scope=col>tazko_g6</th><th scope=col>ctrl_g7</th><th scope=col>tazko_g7</th><th scope=col>ctrl_g8</th><th scope=col>tazko_g8</th></tr>\n",
       "\t<tr><th></th><th scope=col>&lt;int&gt;</th><th scope=col>&lt;int&gt;</th><th scope=col>&lt;int&gt;</th><th scope=col>&lt;int&gt;</th><th scope=col>&lt;int&gt;</th><th scope=col>&lt;int&gt;</th><th scope=col>&lt;int&gt;</th><th scope=col>&lt;int&gt;</th><th scope=col>&lt;int&gt;</th><th scope=col>&lt;int&gt;</th><th scope=col>&lt;int&gt;</th><th scope=col>&lt;int&gt;</th><th scope=col>&lt;int&gt;</th><th scope=col>&lt;int&gt;</th><th scope=col>&lt;int&gt;</th><th scope=col>&lt;int&gt;</th></tr>\n",
       "</thead>\n",
       "<tbody>\n",
       "\t<tr><th scope=row>A1BG</th><td>0</td><td>2</td><td>1</td><td>6</td><td>0</td><td>1</td><td>1</td><td>2</td><td>1</td><td>1</td><td>0</td><td>0</td><td>1</td><td>1</td><td>0</td><td>1</td></tr>\n",
       "\t<tr><th scope=row>A1BG-AS1</th><td>3</td><td>2</td><td>2</td><td>2</td><td>4</td><td>3</td><td>2</td><td>1</td><td>1</td><td>1</td><td>2</td><td>2</td><td>1</td><td>0</td><td>3</td><td>0</td></tr>\n",
       "\t<tr><th scope=row>A1CF</th><td>0</td><td>0</td><td>0</td><td>0</td><td>0</td><td>0</td><td>0</td><td>0</td><td>0</td><td>0</td><td>0</td><td>0</td><td>0</td><td>0</td><td>0</td><td>0</td></tr>\n",
       "\t<tr><th scope=row>A2M</th><td>0</td><td>0</td><td>0</td><td>0</td><td>0</td><td>0</td><td>0</td><td>0</td><td>0</td><td>0</td><td>0</td><td>0</td><td>1</td><td>0</td><td>0</td><td>0</td></tr>\n",
       "\t<tr><th scope=row>A2M-AS1</th><td>0</td><td>0</td><td>3</td><td>0</td><td>1</td><td>0</td><td>0</td><td>0</td><td>1</td><td>0</td><td>0</td><td>0</td><td>0</td><td>0</td><td>0</td><td>0</td></tr>\n",
       "</tbody>\n",
       "</table>\n"
      ],
      "text/latex": [
       "A data.frame: 5 × 16\n",
       "\\begin{tabular}{r|llllllllllllllll}\n",
       "  & ctrl\\_g1 & tazko\\_g1 & ctrl\\_g2 & tazko\\_g2 & ctrl\\_g3 & tazko\\_g3 & ctrl\\_g4 & tazko\\_g4 & ctrl\\_g5 & tazko\\_g5 & ctrl\\_g6 & tazko\\_g6 & ctrl\\_g7 & tazko\\_g7 & ctrl\\_g8 & tazko\\_g8\\\\\n",
       "  & <int> & <int> & <int> & <int> & <int> & <int> & <int> & <int> & <int> & <int> & <int> & <int> & <int> & <int> & <int> & <int>\\\\\n",
       "\\hline\n",
       "\tA1BG & 0 & 2 & 1 & 6 & 0 & 1 & 1 & 2 & 1 & 1 & 0 & 0 & 1 & 1 & 0 & 1\\\\\n",
       "\tA1BG-AS1 & 3 & 2 & 2 & 2 & 4 & 3 & 2 & 1 & 1 & 1 & 2 & 2 & 1 & 0 & 3 & 0\\\\\n",
       "\tA1CF & 0 & 0 & 0 & 0 & 0 & 0 & 0 & 0 & 0 & 0 & 0 & 0 & 0 & 0 & 0 & 0\\\\\n",
       "\tA2M & 0 & 0 & 0 & 0 & 0 & 0 & 0 & 0 & 0 & 0 & 0 & 0 & 1 & 0 & 0 & 0\\\\\n",
       "\tA2M-AS1 & 0 & 0 & 3 & 0 & 1 & 0 & 0 & 0 & 1 & 0 & 0 & 0 & 0 & 0 & 0 & 0\\\\\n",
       "\\end{tabular}\n"
      ],
      "text/markdown": [
       "\n",
       "A data.frame: 5 × 16\n",
       "\n",
       "| <!--/--> | ctrl_g1 &lt;int&gt; | tazko_g1 &lt;int&gt; | ctrl_g2 &lt;int&gt; | tazko_g2 &lt;int&gt; | ctrl_g3 &lt;int&gt; | tazko_g3 &lt;int&gt; | ctrl_g4 &lt;int&gt; | tazko_g4 &lt;int&gt; | ctrl_g5 &lt;int&gt; | tazko_g5 &lt;int&gt; | ctrl_g6 &lt;int&gt; | tazko_g6 &lt;int&gt; | ctrl_g7 &lt;int&gt; | tazko_g7 &lt;int&gt; | ctrl_g8 &lt;int&gt; | tazko_g8 &lt;int&gt; |\n",
       "|---|---|---|---|---|---|---|---|---|---|---|---|---|---|---|---|---|\n",
       "| A1BG | 0 | 2 | 1 | 6 | 0 | 1 | 1 | 2 | 1 | 1 | 0 | 0 | 1 | 1 | 0 | 1 |\n",
       "| A1BG-AS1 | 3 | 2 | 2 | 2 | 4 | 3 | 2 | 1 | 1 | 1 | 2 | 2 | 1 | 0 | 3 | 0 |\n",
       "| A1CF | 0 | 0 | 0 | 0 | 0 | 0 | 0 | 0 | 0 | 0 | 0 | 0 | 0 | 0 | 0 | 0 |\n",
       "| A2M | 0 | 0 | 0 | 0 | 0 | 0 | 0 | 0 | 0 | 0 | 0 | 0 | 1 | 0 | 0 | 0 |\n",
       "| A2M-AS1 | 0 | 0 | 3 | 0 | 1 | 0 | 0 | 0 | 1 | 0 | 0 | 0 | 0 | 0 | 0 | 0 |\n",
       "\n"
      ],
      "text/plain": [
       "         ctrl_g1 tazko_g1 ctrl_g2 tazko_g2 ctrl_g3 tazko_g3 ctrl_g4 tazko_g4\n",
       "A1BG     0       2        1       6        0       1        1       2       \n",
       "A1BG-AS1 3       2        2       2        4       3        2       1       \n",
       "A1CF     0       0        0       0        0       0        0       0       \n",
       "A2M      0       0        0       0        0       0        0       0       \n",
       "A2M-AS1  0       0        3       0        1       0        0       0       \n",
       "         ctrl_g5 tazko_g5 ctrl_g6 tazko_g6 ctrl_g7 tazko_g7 ctrl_g8 tazko_g8\n",
       "A1BG     1       1        0       0        1       1        0       1       \n",
       "A1BG-AS1 1       1        2       2        1       0        3       0       \n",
       "A1CF     0       0        0       0        0       0        0       0       \n",
       "A2M      0       0        0       0        1       0        0       0       \n",
       "A2M-AS1  1       0        0       0        0       0        0       0       "
      ]
     },
     "metadata": {},
     "output_type": "display_data"
    }
   ],
   "source": [
    "head(counts, 5)"
   ]
  },
  {
   "cell_type": "markdown",
   "id": "8513852e-542c-448d-8217-f0d5fe075088",
   "metadata": {},
   "source": [
    "<h2>Exercise #1: Import metadata file</h2>"
   ]
  },
  {
   "cell_type": "markdown",
   "id": "279affe4-ab24-428e-8e31-5dbb1365aaf6",
   "metadata": {},
   "source": [
    "Now see if you can import your metadata file using the same setup that we used above. Name your variable <code>conditions</code>."
   ]
  },
  {
   "cell_type": "code",
   "execution_count": 3,
   "id": "a078fcc4-3988-4044-a1be-679c9cd62429",
   "metadata": {},
   "outputs": [],
   "source": [
    "conditions <- read.csv('~/MCB201B_F2024/Week_10/quant/1M_conditions_matrix.csv',\n",
    "                   stringsAsFactors=FALSE,\n",
    "                   row.names=1\n",
    "                   )"
   ]
  },
  {
   "cell_type": "markdown",
   "id": "64c79f43-19cb-4862-a9b0-9515ef6f0cda",
   "metadata": {},
   "source": [
    "Then, check the first five rows to make sure the file imported correctly."
   ]
  },
  {
   "cell_type": "code",
   "execution_count": 54,
   "id": "848e3127-2beb-41cd-8788-b24630f460e9",
   "metadata": {},
   "outputs": [
    {
     "data": {
      "text/html": [
       "<table class=\"dataframe\">\n",
       "<caption>A data.frame: 5 × 1</caption>\n",
       "<thead>\n",
       "\t<tr><th></th><th scope=col>condition</th></tr>\n",
       "\t<tr><th></th><th scope=col>&lt;chr&gt;</th></tr>\n",
       "</thead>\n",
       "<tbody>\n",
       "\t<tr><th scope=row>1M_g1_control</th><td>control</td></tr>\n",
       "\t<tr><th scope=row>1M_g1_tazko</th><td>taz_ko </td></tr>\n",
       "\t<tr><th scope=row>1M_g2_control</th><td>control</td></tr>\n",
       "\t<tr><th scope=row>1M_g2_tazko</th><td>taz_ko </td></tr>\n",
       "\t<tr><th scope=row>1M_g3_control</th><td>control</td></tr>\n",
       "</tbody>\n",
       "</table>\n"
      ],
      "text/latex": [
       "A data.frame: 5 × 1\n",
       "\\begin{tabular}{r|l}\n",
       "  & condition\\\\\n",
       "  & <chr>\\\\\n",
       "\\hline\n",
       "\t1M\\_g1\\_control & control\\\\\n",
       "\t1M\\_g1\\_tazko & taz\\_ko \\\\\n",
       "\t1M\\_g2\\_control & control\\\\\n",
       "\t1M\\_g2\\_tazko & taz\\_ko \\\\\n",
       "\t1M\\_g3\\_control & control\\\\\n",
       "\\end{tabular}\n"
      ],
      "text/markdown": [
       "\n",
       "A data.frame: 5 × 1\n",
       "\n",
       "| <!--/--> | condition &lt;chr&gt; |\n",
       "|---|---|\n",
       "| 1M_g1_control | control |\n",
       "| 1M_g1_tazko | taz_ko  |\n",
       "| 1M_g2_control | control |\n",
       "| 1M_g2_tazko | taz_ko  |\n",
       "| 1M_g3_control | control |\n",
       "\n"
      ],
      "text/plain": [
       "              condition\n",
       "1M_g1_control control  \n",
       "1M_g1_tazko   taz_ko   \n",
       "1M_g2_control control  \n",
       "1M_g2_tazko   taz_ko   \n",
       "1M_g3_control control  "
      ]
     },
     "metadata": {},
     "output_type": "display_data"
    }
   ],
   "source": [
    "head(conditions, 5)"
   ]
  },
  {
   "cell_type": "code",
   "execution_count": 55,
   "id": "a397558c-4933-45e2-9260-4f7e50187ac2",
   "metadata": {},
   "outputs": [
    {
     "data": {
      "text/html": [
       "<style>\n",
       ".list-inline {list-style: none; margin:0; padding: 0}\n",
       ".list-inline>li {display: inline-block}\n",
       ".list-inline>li:not(:last-child)::after {content: \"\\00b7\"; padding: 0 .5ex}\n",
       "</style>\n",
       "<ol class=list-inline><li>'1M_g1_control'</li><li>'1M_g1_tazko'</li><li>'1M_g2_control'</li><li>'1M_g2_tazko'</li><li>'1M_g3_control'</li><li>'1M_g3_tazko'</li><li>'1M_g4_control'</li><li>'1M_g4_tazko'</li><li>'1M_g5_control'</li><li>'1M_g5_tazko'</li><li>'1M_g6_control'</li><li>'1M_g6_tazko'</li><li>'1M_g7_control'</li><li>'1M_g7_tazko'</li><li>'1M_g8_control'</li><li>'1M_g8_tazko'</li></ol>\n"
      ],
      "text/latex": [
       "\\begin{enumerate*}\n",
       "\\item '1M\\_g1\\_control'\n",
       "\\item '1M\\_g1\\_tazko'\n",
       "\\item '1M\\_g2\\_control'\n",
       "\\item '1M\\_g2\\_tazko'\n",
       "\\item '1M\\_g3\\_control'\n",
       "\\item '1M\\_g3\\_tazko'\n",
       "\\item '1M\\_g4\\_control'\n",
       "\\item '1M\\_g4\\_tazko'\n",
       "\\item '1M\\_g5\\_control'\n",
       "\\item '1M\\_g5\\_tazko'\n",
       "\\item '1M\\_g6\\_control'\n",
       "\\item '1M\\_g6\\_tazko'\n",
       "\\item '1M\\_g7\\_control'\n",
       "\\item '1M\\_g7\\_tazko'\n",
       "\\item '1M\\_g8\\_control'\n",
       "\\item '1M\\_g8\\_tazko'\n",
       "\\end{enumerate*}\n"
      ],
      "text/markdown": [
       "1. '1M_g1_control'\n",
       "2. '1M_g1_tazko'\n",
       "3. '1M_g2_control'\n",
       "4. '1M_g2_tazko'\n",
       "5. '1M_g3_control'\n",
       "6. '1M_g3_tazko'\n",
       "7. '1M_g4_control'\n",
       "8. '1M_g4_tazko'\n",
       "9. '1M_g5_control'\n",
       "10. '1M_g5_tazko'\n",
       "11. '1M_g6_control'\n",
       "12. '1M_g6_tazko'\n",
       "13. '1M_g7_control'\n",
       "14. '1M_g7_tazko'\n",
       "15. '1M_g8_control'\n",
       "16. '1M_g8_tazko'\n",
       "\n",
       "\n"
      ],
      "text/plain": [
       " [1] \"1M_g1_control\" \"1M_g1_tazko\"   \"1M_g2_control\" \"1M_g2_tazko\"  \n",
       " [5] \"1M_g3_control\" \"1M_g3_tazko\"   \"1M_g4_control\" \"1M_g4_tazko\"  \n",
       " [9] \"1M_g5_control\" \"1M_g5_tazko\"   \"1M_g6_control\" \"1M_g6_tazko\"  \n",
       "[13] \"1M_g7_control\" \"1M_g7_tazko\"   \"1M_g8_control\" \"1M_g8_tazko\"  "
      ]
     },
     "metadata": {},
     "output_type": "display_data"
    }
   ],
   "source": [
    "rownames(conditions)"
   ]
  },
  {
   "cell_type": "code",
   "execution_count": 56,
   "id": "a2ed8515-6583-4249-bc1a-a89440098c83",
   "metadata": {},
   "outputs": [],
   "source": [
    "colnames(counts) <- rownames(conditions)"
   ]
  },
  {
   "cell_type": "code",
   "execution_count": 57,
   "id": "4cfbd19f-893c-4236-891b-8f87d0c3f34e",
   "metadata": {},
   "outputs": [
    {
     "data": {
      "text/html": [
       "<table class=\"dataframe\">\n",
       "<caption>A data.frame: 5 × 16</caption>\n",
       "<thead>\n",
       "\t<tr><th></th><th scope=col>1M_g1_control</th><th scope=col>1M_g1_tazko</th><th scope=col>1M_g2_control</th><th scope=col>1M_g2_tazko</th><th scope=col>1M_g3_control</th><th scope=col>1M_g3_tazko</th><th scope=col>1M_g4_control</th><th scope=col>1M_g4_tazko</th><th scope=col>1M_g5_control</th><th scope=col>1M_g5_tazko</th><th scope=col>1M_g6_control</th><th scope=col>1M_g6_tazko</th><th scope=col>1M_g7_control</th><th scope=col>1M_g7_tazko</th><th scope=col>1M_g8_control</th><th scope=col>1M_g8_tazko</th></tr>\n",
       "\t<tr><th></th><th scope=col>&lt;int&gt;</th><th scope=col>&lt;int&gt;</th><th scope=col>&lt;int&gt;</th><th scope=col>&lt;int&gt;</th><th scope=col>&lt;int&gt;</th><th scope=col>&lt;int&gt;</th><th scope=col>&lt;int&gt;</th><th scope=col>&lt;int&gt;</th><th scope=col>&lt;int&gt;</th><th scope=col>&lt;int&gt;</th><th scope=col>&lt;int&gt;</th><th scope=col>&lt;int&gt;</th><th scope=col>&lt;int&gt;</th><th scope=col>&lt;int&gt;</th><th scope=col>&lt;int&gt;</th><th scope=col>&lt;int&gt;</th></tr>\n",
       "</thead>\n",
       "<tbody>\n",
       "\t<tr><th scope=row>A1BG</th><td>0</td><td>2</td><td>1</td><td>6</td><td>0</td><td>1</td><td>1</td><td>2</td><td>1</td><td>1</td><td>0</td><td>0</td><td>1</td><td>1</td><td>0</td><td>1</td></tr>\n",
       "\t<tr><th scope=row>A1BG-AS1</th><td>3</td><td>2</td><td>2</td><td>2</td><td>4</td><td>3</td><td>2</td><td>1</td><td>1</td><td>1</td><td>2</td><td>2</td><td>1</td><td>0</td><td>3</td><td>0</td></tr>\n",
       "\t<tr><th scope=row>A1CF</th><td>0</td><td>0</td><td>0</td><td>0</td><td>0</td><td>0</td><td>0</td><td>0</td><td>0</td><td>0</td><td>0</td><td>0</td><td>0</td><td>0</td><td>0</td><td>0</td></tr>\n",
       "\t<tr><th scope=row>A2M</th><td>0</td><td>0</td><td>0</td><td>0</td><td>0</td><td>0</td><td>0</td><td>0</td><td>0</td><td>0</td><td>0</td><td>0</td><td>1</td><td>0</td><td>0</td><td>0</td></tr>\n",
       "\t<tr><th scope=row>A2M-AS1</th><td>0</td><td>0</td><td>3</td><td>0</td><td>1</td><td>0</td><td>0</td><td>0</td><td>1</td><td>0</td><td>0</td><td>0</td><td>0</td><td>0</td><td>0</td><td>0</td></tr>\n",
       "</tbody>\n",
       "</table>\n"
      ],
      "text/latex": [
       "A data.frame: 5 × 16\n",
       "\\begin{tabular}{r|llllllllllllllll}\n",
       "  & 1M\\_g1\\_control & 1M\\_g1\\_tazko & 1M\\_g2\\_control & 1M\\_g2\\_tazko & 1M\\_g3\\_control & 1M\\_g3\\_tazko & 1M\\_g4\\_control & 1M\\_g4\\_tazko & 1M\\_g5\\_control & 1M\\_g5\\_tazko & 1M\\_g6\\_control & 1M\\_g6\\_tazko & 1M\\_g7\\_control & 1M\\_g7\\_tazko & 1M\\_g8\\_control & 1M\\_g8\\_tazko\\\\\n",
       "  & <int> & <int> & <int> & <int> & <int> & <int> & <int> & <int> & <int> & <int> & <int> & <int> & <int> & <int> & <int> & <int>\\\\\n",
       "\\hline\n",
       "\tA1BG & 0 & 2 & 1 & 6 & 0 & 1 & 1 & 2 & 1 & 1 & 0 & 0 & 1 & 1 & 0 & 1\\\\\n",
       "\tA1BG-AS1 & 3 & 2 & 2 & 2 & 4 & 3 & 2 & 1 & 1 & 1 & 2 & 2 & 1 & 0 & 3 & 0\\\\\n",
       "\tA1CF & 0 & 0 & 0 & 0 & 0 & 0 & 0 & 0 & 0 & 0 & 0 & 0 & 0 & 0 & 0 & 0\\\\\n",
       "\tA2M & 0 & 0 & 0 & 0 & 0 & 0 & 0 & 0 & 0 & 0 & 0 & 0 & 1 & 0 & 0 & 0\\\\\n",
       "\tA2M-AS1 & 0 & 0 & 3 & 0 & 1 & 0 & 0 & 0 & 1 & 0 & 0 & 0 & 0 & 0 & 0 & 0\\\\\n",
       "\\end{tabular}\n"
      ],
      "text/markdown": [
       "\n",
       "A data.frame: 5 × 16\n",
       "\n",
       "| <!--/--> | 1M_g1_control &lt;int&gt; | 1M_g1_tazko &lt;int&gt; | 1M_g2_control &lt;int&gt; | 1M_g2_tazko &lt;int&gt; | 1M_g3_control &lt;int&gt; | 1M_g3_tazko &lt;int&gt; | 1M_g4_control &lt;int&gt; | 1M_g4_tazko &lt;int&gt; | 1M_g5_control &lt;int&gt; | 1M_g5_tazko &lt;int&gt; | 1M_g6_control &lt;int&gt; | 1M_g6_tazko &lt;int&gt; | 1M_g7_control &lt;int&gt; | 1M_g7_tazko &lt;int&gt; | 1M_g8_control &lt;int&gt; | 1M_g8_tazko &lt;int&gt; |\n",
       "|---|---|---|---|---|---|---|---|---|---|---|---|---|---|---|---|---|\n",
       "| A1BG | 0 | 2 | 1 | 6 | 0 | 1 | 1 | 2 | 1 | 1 | 0 | 0 | 1 | 1 | 0 | 1 |\n",
       "| A1BG-AS1 | 3 | 2 | 2 | 2 | 4 | 3 | 2 | 1 | 1 | 1 | 2 | 2 | 1 | 0 | 3 | 0 |\n",
       "| A1CF | 0 | 0 | 0 | 0 | 0 | 0 | 0 | 0 | 0 | 0 | 0 | 0 | 0 | 0 | 0 | 0 |\n",
       "| A2M | 0 | 0 | 0 | 0 | 0 | 0 | 0 | 0 | 0 | 0 | 0 | 0 | 1 | 0 | 0 | 0 |\n",
       "| A2M-AS1 | 0 | 0 | 3 | 0 | 1 | 0 | 0 | 0 | 1 | 0 | 0 | 0 | 0 | 0 | 0 | 0 |\n",
       "\n"
      ],
      "text/plain": [
       "         1M_g1_control 1M_g1_tazko 1M_g2_control 1M_g2_tazko 1M_g3_control\n",
       "A1BG     0             2           1             6           0            \n",
       "A1BG-AS1 3             2           2             2           4            \n",
       "A1CF     0             0           0             0           0            \n",
       "A2M      0             0           0             0           0            \n",
       "A2M-AS1  0             0           3             0           1            \n",
       "         1M_g3_tazko 1M_g4_control 1M_g4_tazko 1M_g5_control 1M_g5_tazko\n",
       "A1BG     1           1             2           1             1          \n",
       "A1BG-AS1 3           2             1           1             1          \n",
       "A1CF     0           0             0           0             0          \n",
       "A2M      0           0             0           0             0          \n",
       "A2M-AS1  0           0             0           1             0          \n",
       "         1M_g6_control 1M_g6_tazko 1M_g7_control 1M_g7_tazko 1M_g8_control\n",
       "A1BG     0             0           1             1           0            \n",
       "A1BG-AS1 2             2           1             0           3            \n",
       "A1CF     0             0           0             0           0            \n",
       "A2M      0             0           1             0           0            \n",
       "A2M-AS1  0             0           0             0           0            \n",
       "         1M_g8_tazko\n",
       "A1BG     1          \n",
       "A1BG-AS1 0          \n",
       "A1CF     0          \n",
       "A2M      0          \n",
       "A2M-AS1  0          "
      ]
     },
     "metadata": {},
     "output_type": "display_data"
    }
   ],
   "source": [
    "head(counts, 5)"
   ]
  },
  {
   "cell_type": "markdown",
   "id": "994ef06d-59c8-4700-a9da-d347ade02314",
   "metadata": {},
   "source": [
    "<h1>Guided Exercise: Filter out genes that are not expressed</h1>"
   ]
  },
  {
   "cell_type": "markdown",
   "id": "7cb25482-37f4-459d-b65e-f14c87bade59",
   "metadata": {},
   "source": [
    "For this exercise, we'll filter out genes that are not expressed in order to reduce the amount of data that we're working with. Although we can leave these in, some of the normalizations and data visualization will be neater and more memory efficient if we filter out these genes first.\n",
    "\n",
    "We'll set that genes that have 0 counts in all replicates will be considered as not expressed, and those will be the rows that we filter out. In other words, we are looking to create a new dataframe containing rows whose mean count is greater than 0."
   ]
  },
  {
   "cell_type": "markdown",
   "id": "f7b01a95-5919-41a2-8130-84d2eaa538e3",
   "metadata": {},
   "source": [
    "<h2>Calculate mean of each row</h2>"
   ]
  },
  {
   "cell_type": "markdown",
   "id": "7719b757-c104-4606-80f1-2d52d8dc6149",
   "metadata": {},
   "source": [
    "First, we'll calculate the mean counts for each gene:\n",
    "\n",
    "```\n",
    "means <- apply(counts, 1, mean)\n",
    "```\n",
    "\n",
    "Breaking down this line of code:\n",
    "\n",
    "<code>means</code>\n",
    "\n",
    "This is our variable in which we will save the results of our calculations.\n",
    "\n",
    "<hr style=\"border: 1px solid; border-color: #AAAAAA;\"></hr>\n",
    "\n",
    "<code>&lt;-</code>\n",
    "\n",
    "This is our assignment operator.\n",
    "\n",
    "<hr style=\"border: 1px solid; border-color: #AAAAAA;\"></hr>\n",
    "\n",
    "<code>apply()</code>\n",
    "\n",
    "This function allows us to perform calculations on our data matrix across the values in a row <code>1</code> or all values in a column <code>2</code>. We can specify the dataframe that we're operating on and the type of calculation to perform.\n",
    "\n",
    "<hr style=\"border: 1px solid; border-color: #AAAAAA;\"></hr>\n",
    "\n",
    "<code>counts</code>\n",
    "\n",
    "Here, we specify that we want to perform calculations on the data contained within our <code>counts</code> dataframe.\n",
    "\n",
    "<hr style=\"border: 1px solid; border-color: #AAAAAA;\"></hr>\n",
    "\n",
    "<code>1</code>\n",
    "\n",
    "By specifying 1 for the <code>margin</code> parameter, we indicate that we want to perform some calculation across all the values in each row.\n",
    "\n",
    "<hr style=\"border: 1px solid; border-color: #AAAAAA;\"></hr>\n",
    "\n",
    "<code>mean</code>\n",
    "\n",
    "The calculation will perform is specified by <code>mean</code>, so we'll be taking the average of all values across each row. In other words, we're calculating the average read count for each gene."
   ]
  },
  {
   "cell_type": "code",
   "execution_count": 58,
   "id": "2070042c-40c4-4411-862b-81bda7462ed6",
   "metadata": {},
   "outputs": [],
   "source": [
    "means <- apply(counts, 1, mean)"
   ]
  },
  {
   "cell_type": "code",
   "execution_count": 59,
   "id": "658c121d-73fa-4110-ba95-5b574fcf3a64",
   "metadata": {},
   "outputs": [
    {
     "data": {
      "text/html": [
       "<table class=\"dataframe\">\n",
       "<caption>A data.frame: 5 × 1</caption>\n",
       "<thead>\n",
       "\t<tr><th></th><th scope=col>means</th></tr>\n",
       "\t<tr><th></th><th scope=col>&lt;dbl&gt;</th></tr>\n",
       "</thead>\n",
       "<tbody>\n",
       "\t<tr><th scope=row>A1BG</th><td>1.1250</td></tr>\n",
       "\t<tr><th scope=row>A1BG-AS1</th><td>1.8125</td></tr>\n",
       "\t<tr><th scope=row>A1CF</th><td>0.0000</td></tr>\n",
       "\t<tr><th scope=row>A2M</th><td>0.0625</td></tr>\n",
       "\t<tr><th scope=row>A2M-AS1</th><td>0.3125</td></tr>\n",
       "</tbody>\n",
       "</table>\n"
      ],
      "text/latex": [
       "A data.frame: 5 × 1\n",
       "\\begin{tabular}{r|l}\n",
       "  & means\\\\\n",
       "  & <dbl>\\\\\n",
       "\\hline\n",
       "\tA1BG & 1.1250\\\\\n",
       "\tA1BG-AS1 & 1.8125\\\\\n",
       "\tA1CF & 0.0000\\\\\n",
       "\tA2M & 0.0625\\\\\n",
       "\tA2M-AS1 & 0.3125\\\\\n",
       "\\end{tabular}\n"
      ],
      "text/markdown": [
       "\n",
       "A data.frame: 5 × 1\n",
       "\n",
       "| <!--/--> | means &lt;dbl&gt; |\n",
       "|---|---|\n",
       "| A1BG | 1.1250 |\n",
       "| A1BG-AS1 | 1.8125 |\n",
       "| A1CF | 0.0000 |\n",
       "| A2M | 0.0625 |\n",
       "| A2M-AS1 | 0.3125 |\n",
       "\n"
      ],
      "text/plain": [
       "         means \n",
       "A1BG     1.1250\n",
       "A1BG-AS1 1.8125\n",
       "A1CF     0.0000\n",
       "A2M      0.0625\n",
       "A2M-AS1  0.3125"
      ]
     },
     "metadata": {},
     "output_type": "display_data"
    }
   ],
   "source": [
    "head(as.data.frame(means), 5)"
   ]
  },
  {
   "cell_type": "markdown",
   "id": "953c0d56-5281-45a2-9bda-43f9ff7d3cae",
   "metadata": {},
   "source": [
    "<h2>Filter out non-expressed genes</h2>"
   ]
  },
  {
   "cell_type": "markdown",
   "id": "ba92723c-14f4-4070-a0a2-eeab1d8d7534",
   "metadata": {},
   "source": [
    "Now, we'll filter out genes that are not expressed in any of our replicates to minimize the memory needed to perform normalizations and to make our visualizations a bit neater.\n",
    "\n",
    "```\n",
    "counts <- counts[which(means>0),]\n",
    "```\n",
    "\n",
    "Breaking down this line of code:\n",
    "\n",
    "<code>counts</code>\n",
    "\n",
    "We're reassigning our filtered data back to the variable <code>counts</code>\n",
    "\n",
    "<hr style=\"border: 1px solid; border-color: #AAAAAA;\"></hr>\n",
    "\n",
    "<code>&lt;-</code>\n",
    "\n",
    "This is our assignment operator.\n",
    "\n",
    "<hr style=\"border: 1px solid; border-color: #AAAAAA;\"></hr>\n",
    "\n",
    "<code>counts[which(means>0),]</code>\n",
    "\n",
    "This set up here is very similar to how we filter our pandas DataFrames. We specify the dataframe that we want to filter <code>counts[rows, columns]</code>, and then we indicate that we want to filter rows whose means are greater than 0 <code>which(means>0)</code>."
   ]
  },
  {
   "cell_type": "code",
   "execution_count": 60,
   "id": "c5ae00d4-bf7d-4fb2-8852-43be8274db22",
   "metadata": {},
   "outputs": [],
   "source": [
    "counts <- counts[which(means>0),]"
   ]
  },
  {
   "cell_type": "code",
   "execution_count": 61,
   "id": "78c15668-1545-488b-8bcb-2996b03f8b17",
   "metadata": {},
   "outputs": [
    {
     "data": {
      "text/html": [
       "<table class=\"dataframe\">\n",
       "<caption>A data.frame: 5 × 16</caption>\n",
       "<thead>\n",
       "\t<tr><th></th><th scope=col>1M_g1_control</th><th scope=col>1M_g1_tazko</th><th scope=col>1M_g2_control</th><th scope=col>1M_g2_tazko</th><th scope=col>1M_g3_control</th><th scope=col>1M_g3_tazko</th><th scope=col>1M_g4_control</th><th scope=col>1M_g4_tazko</th><th scope=col>1M_g5_control</th><th scope=col>1M_g5_tazko</th><th scope=col>1M_g6_control</th><th scope=col>1M_g6_tazko</th><th scope=col>1M_g7_control</th><th scope=col>1M_g7_tazko</th><th scope=col>1M_g8_control</th><th scope=col>1M_g8_tazko</th></tr>\n",
       "\t<tr><th></th><th scope=col>&lt;int&gt;</th><th scope=col>&lt;int&gt;</th><th scope=col>&lt;int&gt;</th><th scope=col>&lt;int&gt;</th><th scope=col>&lt;int&gt;</th><th scope=col>&lt;int&gt;</th><th scope=col>&lt;int&gt;</th><th scope=col>&lt;int&gt;</th><th scope=col>&lt;int&gt;</th><th scope=col>&lt;int&gt;</th><th scope=col>&lt;int&gt;</th><th scope=col>&lt;int&gt;</th><th scope=col>&lt;int&gt;</th><th scope=col>&lt;int&gt;</th><th scope=col>&lt;int&gt;</th><th scope=col>&lt;int&gt;</th></tr>\n",
       "</thead>\n",
       "<tbody>\n",
       "\t<tr><th scope=row>A1BG</th><td> 0</td><td>2</td><td>1</td><td> 6</td><td>0</td><td> 1</td><td>1</td><td>2</td><td>1</td><td> 1</td><td> 0</td><td> 0</td><td>1</td><td> 1</td><td> 0</td><td>1</td></tr>\n",
       "\t<tr><th scope=row>A1BG-AS1</th><td> 3</td><td>2</td><td>2</td><td> 2</td><td>4</td><td> 3</td><td>2</td><td>1</td><td>1</td><td> 1</td><td> 2</td><td> 2</td><td>1</td><td> 0</td><td> 3</td><td>0</td></tr>\n",
       "\t<tr><th scope=row>A2M</th><td> 0</td><td>0</td><td>0</td><td> 0</td><td>0</td><td> 0</td><td>0</td><td>0</td><td>0</td><td> 0</td><td> 0</td><td> 0</td><td>1</td><td> 0</td><td> 0</td><td>0</td></tr>\n",
       "\t<tr><th scope=row>A2M-AS1</th><td> 0</td><td>0</td><td>3</td><td> 0</td><td>1</td><td> 0</td><td>0</td><td>0</td><td>1</td><td> 0</td><td> 0</td><td> 0</td><td>0</td><td> 0</td><td> 0</td><td>0</td></tr>\n",
       "\t<tr><th scope=row>A4GALT</th><td>12</td><td>9</td><td>7</td><td>20</td><td>7</td><td>12</td><td>8</td><td>8</td><td>4</td><td>10</td><td>13</td><td>13</td><td>7</td><td>13</td><td>10</td><td>9</td></tr>\n",
       "</tbody>\n",
       "</table>\n"
      ],
      "text/latex": [
       "A data.frame: 5 × 16\n",
       "\\begin{tabular}{r|llllllllllllllll}\n",
       "  & 1M\\_g1\\_control & 1M\\_g1\\_tazko & 1M\\_g2\\_control & 1M\\_g2\\_tazko & 1M\\_g3\\_control & 1M\\_g3\\_tazko & 1M\\_g4\\_control & 1M\\_g4\\_tazko & 1M\\_g5\\_control & 1M\\_g5\\_tazko & 1M\\_g6\\_control & 1M\\_g6\\_tazko & 1M\\_g7\\_control & 1M\\_g7\\_tazko & 1M\\_g8\\_control & 1M\\_g8\\_tazko\\\\\n",
       "  & <int> & <int> & <int> & <int> & <int> & <int> & <int> & <int> & <int> & <int> & <int> & <int> & <int> & <int> & <int> & <int>\\\\\n",
       "\\hline\n",
       "\tA1BG &  0 & 2 & 1 &  6 & 0 &  1 & 1 & 2 & 1 &  1 &  0 &  0 & 1 &  1 &  0 & 1\\\\\n",
       "\tA1BG-AS1 &  3 & 2 & 2 &  2 & 4 &  3 & 2 & 1 & 1 &  1 &  2 &  2 & 1 &  0 &  3 & 0\\\\\n",
       "\tA2M &  0 & 0 & 0 &  0 & 0 &  0 & 0 & 0 & 0 &  0 &  0 &  0 & 1 &  0 &  0 & 0\\\\\n",
       "\tA2M-AS1 &  0 & 0 & 3 &  0 & 1 &  0 & 0 & 0 & 1 &  0 &  0 &  0 & 0 &  0 &  0 & 0\\\\\n",
       "\tA4GALT & 12 & 9 & 7 & 20 & 7 & 12 & 8 & 8 & 4 & 10 & 13 & 13 & 7 & 13 & 10 & 9\\\\\n",
       "\\end{tabular}\n"
      ],
      "text/markdown": [
       "\n",
       "A data.frame: 5 × 16\n",
       "\n",
       "| <!--/--> | 1M_g1_control &lt;int&gt; | 1M_g1_tazko &lt;int&gt; | 1M_g2_control &lt;int&gt; | 1M_g2_tazko &lt;int&gt; | 1M_g3_control &lt;int&gt; | 1M_g3_tazko &lt;int&gt; | 1M_g4_control &lt;int&gt; | 1M_g4_tazko &lt;int&gt; | 1M_g5_control &lt;int&gt; | 1M_g5_tazko &lt;int&gt; | 1M_g6_control &lt;int&gt; | 1M_g6_tazko &lt;int&gt; | 1M_g7_control &lt;int&gt; | 1M_g7_tazko &lt;int&gt; | 1M_g8_control &lt;int&gt; | 1M_g8_tazko &lt;int&gt; |\n",
       "|---|---|---|---|---|---|---|---|---|---|---|---|---|---|---|---|---|\n",
       "| A1BG |  0 | 2 | 1 |  6 | 0 |  1 | 1 | 2 | 1 |  1 |  0 |  0 | 1 |  1 |  0 | 1 |\n",
       "| A1BG-AS1 |  3 | 2 | 2 |  2 | 4 |  3 | 2 | 1 | 1 |  1 |  2 |  2 | 1 |  0 |  3 | 0 |\n",
       "| A2M |  0 | 0 | 0 |  0 | 0 |  0 | 0 | 0 | 0 |  0 |  0 |  0 | 1 |  0 |  0 | 0 |\n",
       "| A2M-AS1 |  0 | 0 | 3 |  0 | 1 |  0 | 0 | 0 | 1 |  0 |  0 |  0 | 0 |  0 |  0 | 0 |\n",
       "| A4GALT | 12 | 9 | 7 | 20 | 7 | 12 | 8 | 8 | 4 | 10 | 13 | 13 | 7 | 13 | 10 | 9 |\n",
       "\n"
      ],
      "text/plain": [
       "         1M_g1_control 1M_g1_tazko 1M_g2_control 1M_g2_tazko 1M_g3_control\n",
       "A1BG      0            2           1              6          0            \n",
       "A1BG-AS1  3            2           2              2          4            \n",
       "A2M       0            0           0              0          0            \n",
       "A2M-AS1   0            0           3              0          1            \n",
       "A4GALT   12            9           7             20          7            \n",
       "         1M_g3_tazko 1M_g4_control 1M_g4_tazko 1M_g5_control 1M_g5_tazko\n",
       "A1BG      1          1             2           1              1         \n",
       "A1BG-AS1  3          2             1           1              1         \n",
       "A2M       0          0             0           0              0         \n",
       "A2M-AS1   0          0             0           1              0         \n",
       "A4GALT   12          8             8           4             10         \n",
       "         1M_g6_control 1M_g6_tazko 1M_g7_control 1M_g7_tazko 1M_g8_control\n",
       "A1BG      0             0          1              1           0           \n",
       "A1BG-AS1  2             2          1              0           3           \n",
       "A2M       0             0          1              0           0           \n",
       "A2M-AS1   0             0          0              0           0           \n",
       "A4GALT   13            13          7             13          10           \n",
       "         1M_g8_tazko\n",
       "A1BG     1          \n",
       "A1BG-AS1 0          \n",
       "A2M      0          \n",
       "A2M-AS1  0          \n",
       "A4GALT   9          "
      ]
     },
     "metadata": {},
     "output_type": "display_data"
    }
   ],
   "source": [
    "head(counts, 5)"
   ]
  },
  {
   "cell_type": "markdown",
   "id": "5ee2fb03-560c-4d77-b5d3-e6e4f0577bd9",
   "metadata": {},
   "source": [
    "<h1>Create a <code>DESeqDataSet</code></h1>"
   ]
  },
  {
   "cell_type": "markdown",
   "id": "3b559c2d-9b10-4b48-a901-a96a840b27cf",
   "metadata": {},
   "source": [
    "Now, we'll begin making use of the DESeq2 package, first to create a type of <code>SummarizedExperiment</code> called a <code>DESeqDataSet</code>. <a href=\"https://www.bioconductor.org/packages/devel/bioc/vignettes/SummarizedExperiment/inst/doc/SummarizedExperiment.html\" rel=\"noopener noreferrer\" target=\"_blank\"><u>A general overview of a <code>SummarizedExperiment</code></u></a> is that it's a type of object that holds data, metadata, calculations, and outputs. These features can be thought of similar to attributes in Python that can be pulled out of the <code>SummarizedExperiment</code>. The <code>DESeqDataSet</code> is an extension of the <code>RangedSummarizedExperiment</code> class. \n",
    "\n",
    "We'll load into a <code>DESeqDataSet</code> our <code>counts</code>, our <code>conditions</code> metadata, and specify our experiment design formula.\n",
    "\n",
    "```\n",
    "dds <- DESeqDataSetFromMatrix(countData = counts,\n",
    "                              colData = conditions,\n",
    "                              design = ~ condition\n",
    "                             )\n",
    "```\n",
    "\n",
    "Let's break down this line of code:\n",
    "\n",
    "<code>dds</code>\n",
    "\n",
    "This is the variable to which we are assigning our <code>DESeqDataSet</code>.\n",
    "\n",
    "<hr style=\"border: 1px solid; border-color: #AAAAAA;\"></hr>\n",
    "\n",
    "<code>DESeqDataSetFromMatrix()</code>\n",
    "\n",
    "This function creates a <code>DESeqDataSet</code> based on the arguments we pass to it.\n",
    "\n",
    "<hr style=\"border: 1px solid; border-color: #AAAAAA;\"></hr>\n",
    "\n",
    "<code>countData = counts</code>\n",
    "\n",
    "We pass to the <code>DESeqDataSetFromMatrix()</code> our counts dataframe. It's important that you provide it with your raw counts because DESeq2 will normalize the data assuming that you are providing it with raw counts.\n",
    "\n",
    "<hr style=\"border: 1px solid; border-color: #AAAAAA;\"></hr>\n",
    "\n",
    "<code>colData = conditions</code>\n",
    "\n",
    "We also load in our metadata matrix containing the corresponding condition for each sample. Note that the order in which your samples are in is important because DESeq2 assumes that the order in which they appear in your <code>counts</code> matrix is the same as the order that they are organized in your metadata matrix. If they are not in the same order, then you will need to reorder them so that they match up.\n",
    "\n",
    "<hr style=\"border: 1px solid; border-color: #AAAAAA;\"></hr>\n",
    "\n",
    "<code>design = ~ condition</code>\n",
    "\n",
    "Here, we specify the experimental set up for our transcriptome dataset. Essentially, we are telling DESeq2 how we want it to perform the comparison. Since we only have two conditions, only the order of the levels matters, since that will determine how we interpret the positive/negative outputs of the differential expressioin analysis."
   ]
  },
  {
   "cell_type": "code",
   "execution_count": 62,
   "id": "e17987b3-3e1c-4923-926b-b8143ee2b715",
   "metadata": {},
   "outputs": [
    {
     "name": "stderr",
     "output_type": "stream",
     "text": [
      "Warning message in DESeqDataSet(se, design = design, ignoreRank):\n",
      "“some variables in design formula are characters, converting to factors”\n"
     ]
    }
   ],
   "source": [
    "dds <- DESeqDataSetFromMatrix(countData = counts,\n",
    "                              colData = conditions,\n",
    "                              design = ~ condition\n",
    "                              )"
   ]
  },
  {
   "cell_type": "markdown",
   "id": "dea3f26e-a540-4725-a62d-22047fccc40b",
   "metadata": {},
   "source": [
    "Let's take a look at what the DESeqDataSet contains:"
   ]
  },
  {
   "cell_type": "code",
   "execution_count": 63,
   "id": "adbbcd01-cbb2-4361-970d-f9ba7ccb579d",
   "metadata": {},
   "outputs": [
    {
     "data": {
      "text/plain": [
       "class: DESeqDataSet \n",
       "dim: 18096 16 \n",
       "metadata(1): version\n",
       "assays(1): counts\n",
       "rownames(18096): A1BG A1BG-AS1 ... ZZEF1 ZZZ3\n",
       "rowData names(0):\n",
       "colnames(16): 1M_g1_control 1M_g1_tazko ... 1M_g8_control 1M_g8_tazko\n",
       "colData names(1): condition"
      ]
     },
     "metadata": {},
     "output_type": "display_data"
    }
   ],
   "source": [
    "dds"
   ]
  },
  {
   "cell_type": "markdown",
   "id": "8870ab02-b03d-44ae-b1d2-161225f338c4",
   "metadata": {},
   "source": [
    "We can also pull out our raw counts out of this dataset since it still contains the original data.\n",
    "\n",
    "```\n",
    "head(counts(dds), 5)\n",
    "```"
   ]
  },
  {
   "cell_type": "code",
   "execution_count": 64,
   "id": "c7552b63-1b92-49b2-a052-44e36e5c7362",
   "metadata": {},
   "outputs": [
    {
     "data": {
      "text/html": [
       "<table class=\"dataframe\">\n",
       "<caption>A matrix: 5 × 16 of type int</caption>\n",
       "<thead>\n",
       "\t<tr><th></th><th scope=col>1M_g1_control</th><th scope=col>1M_g1_tazko</th><th scope=col>1M_g2_control</th><th scope=col>1M_g2_tazko</th><th scope=col>1M_g3_control</th><th scope=col>1M_g3_tazko</th><th scope=col>1M_g4_control</th><th scope=col>1M_g4_tazko</th><th scope=col>1M_g5_control</th><th scope=col>1M_g5_tazko</th><th scope=col>1M_g6_control</th><th scope=col>1M_g6_tazko</th><th scope=col>1M_g7_control</th><th scope=col>1M_g7_tazko</th><th scope=col>1M_g8_control</th><th scope=col>1M_g8_tazko</th></tr>\n",
       "</thead>\n",
       "<tbody>\n",
       "\t<tr><th scope=row>A1BG</th><td> 0</td><td>2</td><td>1</td><td> 6</td><td>0</td><td> 1</td><td>1</td><td>2</td><td>1</td><td> 1</td><td> 0</td><td> 0</td><td>1</td><td> 1</td><td> 0</td><td>1</td></tr>\n",
       "\t<tr><th scope=row>A1BG-AS1</th><td> 3</td><td>2</td><td>2</td><td> 2</td><td>4</td><td> 3</td><td>2</td><td>1</td><td>1</td><td> 1</td><td> 2</td><td> 2</td><td>1</td><td> 0</td><td> 3</td><td>0</td></tr>\n",
       "\t<tr><th scope=row>A2M</th><td> 0</td><td>0</td><td>0</td><td> 0</td><td>0</td><td> 0</td><td>0</td><td>0</td><td>0</td><td> 0</td><td> 0</td><td> 0</td><td>1</td><td> 0</td><td> 0</td><td>0</td></tr>\n",
       "\t<tr><th scope=row>A2M-AS1</th><td> 0</td><td>0</td><td>3</td><td> 0</td><td>1</td><td> 0</td><td>0</td><td>0</td><td>1</td><td> 0</td><td> 0</td><td> 0</td><td>0</td><td> 0</td><td> 0</td><td>0</td></tr>\n",
       "\t<tr><th scope=row>A4GALT</th><td>12</td><td>9</td><td>7</td><td>20</td><td>7</td><td>12</td><td>8</td><td>8</td><td>4</td><td>10</td><td>13</td><td>13</td><td>7</td><td>13</td><td>10</td><td>9</td></tr>\n",
       "</tbody>\n",
       "</table>\n"
      ],
      "text/latex": [
       "A matrix: 5 × 16 of type int\n",
       "\\begin{tabular}{r|llllllllllllllll}\n",
       "  & 1M\\_g1\\_control & 1M\\_g1\\_tazko & 1M\\_g2\\_control & 1M\\_g2\\_tazko & 1M\\_g3\\_control & 1M\\_g3\\_tazko & 1M\\_g4\\_control & 1M\\_g4\\_tazko & 1M\\_g5\\_control & 1M\\_g5\\_tazko & 1M\\_g6\\_control & 1M\\_g6\\_tazko & 1M\\_g7\\_control & 1M\\_g7\\_tazko & 1M\\_g8\\_control & 1M\\_g8\\_tazko\\\\\n",
       "\\hline\n",
       "\tA1BG &  0 & 2 & 1 &  6 & 0 &  1 & 1 & 2 & 1 &  1 &  0 &  0 & 1 &  1 &  0 & 1\\\\\n",
       "\tA1BG-AS1 &  3 & 2 & 2 &  2 & 4 &  3 & 2 & 1 & 1 &  1 &  2 &  2 & 1 &  0 &  3 & 0\\\\\n",
       "\tA2M &  0 & 0 & 0 &  0 & 0 &  0 & 0 & 0 & 0 &  0 &  0 &  0 & 1 &  0 &  0 & 0\\\\\n",
       "\tA2M-AS1 &  0 & 0 & 3 &  0 & 1 &  0 & 0 & 0 & 1 &  0 &  0 &  0 & 0 &  0 &  0 & 0\\\\\n",
       "\tA4GALT & 12 & 9 & 7 & 20 & 7 & 12 & 8 & 8 & 4 & 10 & 13 & 13 & 7 & 13 & 10 & 9\\\\\n",
       "\\end{tabular}\n"
      ],
      "text/markdown": [
       "\n",
       "A matrix: 5 × 16 of type int\n",
       "\n",
       "| <!--/--> | 1M_g1_control | 1M_g1_tazko | 1M_g2_control | 1M_g2_tazko | 1M_g3_control | 1M_g3_tazko | 1M_g4_control | 1M_g4_tazko | 1M_g5_control | 1M_g5_tazko | 1M_g6_control | 1M_g6_tazko | 1M_g7_control | 1M_g7_tazko | 1M_g8_control | 1M_g8_tazko |\n",
       "|---|---|---|---|---|---|---|---|---|---|---|---|---|---|---|---|---|\n",
       "| A1BG |  0 | 2 | 1 |  6 | 0 |  1 | 1 | 2 | 1 |  1 |  0 |  0 | 1 |  1 |  0 | 1 |\n",
       "| A1BG-AS1 |  3 | 2 | 2 |  2 | 4 |  3 | 2 | 1 | 1 |  1 |  2 |  2 | 1 |  0 |  3 | 0 |\n",
       "| A2M |  0 | 0 | 0 |  0 | 0 |  0 | 0 | 0 | 0 |  0 |  0 |  0 | 1 |  0 |  0 | 0 |\n",
       "| A2M-AS1 |  0 | 0 | 3 |  0 | 1 |  0 | 0 | 0 | 1 |  0 |  0 |  0 | 0 |  0 |  0 | 0 |\n",
       "| A4GALT | 12 | 9 | 7 | 20 | 7 | 12 | 8 | 8 | 4 | 10 | 13 | 13 | 7 | 13 | 10 | 9 |\n",
       "\n"
      ],
      "text/plain": [
       "         1M_g1_control 1M_g1_tazko 1M_g2_control 1M_g2_tazko 1M_g3_control\n",
       "A1BG      0            2           1              6          0            \n",
       "A1BG-AS1  3            2           2              2          4            \n",
       "A2M       0            0           0              0          0            \n",
       "A2M-AS1   0            0           3              0          1            \n",
       "A4GALT   12            9           7             20          7            \n",
       "         1M_g3_tazko 1M_g4_control 1M_g4_tazko 1M_g5_control 1M_g5_tazko\n",
       "A1BG      1          1             2           1              1         \n",
       "A1BG-AS1  3          2             1           1              1         \n",
       "A2M       0          0             0           0              0         \n",
       "A2M-AS1   0          0             0           1              0         \n",
       "A4GALT   12          8             8           4             10         \n",
       "         1M_g6_control 1M_g6_tazko 1M_g7_control 1M_g7_tazko 1M_g8_control\n",
       "A1BG      0             0          1              1           0           \n",
       "A1BG-AS1  2             2          1              0           3           \n",
       "A2M       0             0          1              0           0           \n",
       "A2M-AS1   0             0          0              0           0           \n",
       "A4GALT   13            13          7             13          10           \n",
       "         1M_g8_tazko\n",
       "A1BG     1          \n",
       "A1BG-AS1 0          \n",
       "A2M      0          \n",
       "A2M-AS1  0          \n",
       "A4GALT   9          "
      ]
     },
     "metadata": {},
     "output_type": "display_data"
    }
   ],
   "source": [
    "head(counts(dds), 5)"
   ]
  },
  {
   "cell_type": "markdown",
   "id": "25af5601-608c-4788-b148-4c5beee45700",
   "metadata": {},
   "source": [
    "<h1>Estimate size factors</h1>"
   ]
  },
  {
   "cell_type": "markdown",
   "id": "128c2a91-0de4-4c3b-bfce-1d7f5ef3f128",
   "metadata": {},
   "source": [
    "Now, let's estimate the size factors for our dataset. In other words, this is the information that controls for differences in library size and the final number of counted reads that were assigned to an annotated gene. \n",
    "\n",
    "Since we truncated our dataset down to 1M reads for all our samples, you'll see that all the size factors are estimated to be approximately 1.\n",
    "\n",
    "```\n",
    "dds <- estimateSizeFactors(dds)\n",
    "```\n",
    "\n",
    "Here, we estimate the size factors and add the data into our <code>DESeqDataSet</code>."
   ]
  },
  {
   "cell_type": "code",
   "execution_count": 65,
   "id": "5dfa3caa-e1f1-40d1-afee-153f887789f5",
   "metadata": {},
   "outputs": [],
   "source": [
    "dds <- estimateSizeFactors(dds)"
   ]
  },
  {
   "cell_type": "markdown",
   "id": "0bd02592-b973-45c3-aa08-7d142e93f186",
   "metadata": {},
   "source": [
    "Like how we pulled out our raw counts using <code>counts()</code>, we'll use the function <code>sizeFactors()</code> to pull the estimated size factors out of our dataset."
   ]
  },
  {
   "cell_type": "code",
   "execution_count": 66,
   "id": "f501fc69-0b25-42ac-b750-ed7994edabd2",
   "metadata": {},
   "outputs": [
    {
     "data": {
      "text/html": [
       "<style>\n",
       ".dl-inline {width: auto; margin:0; padding: 0}\n",
       ".dl-inline>dt, .dl-inline>dd {float: none; width: auto; display: inline-block}\n",
       ".dl-inline>dt::after {content: \":\\0020\"; padding-right: .5ex}\n",
       ".dl-inline>dt:not(:first-of-type) {padding-left: .5ex}\n",
       "</style><dl class=dl-inline><dt>1M_g1_control</dt><dd>1.0120898972156</dd><dt>1M_g1_tazko</dt><dd>1.04754430161205</dd><dt>1M_g2_control</dt><dd>1.01578628458504</dd><dt>1M_g2_tazko</dt><dd>1.07766576246688</dd><dt>1M_g3_control</dt><dd>1.02317236431009</dd><dt>1M_g3_tazko</dt><dd>1.01551166180162</dd><dt>1M_g4_control</dt><dd>1.02221803968634</dd><dt>1M_g4_tazko</dt><dd>1.03470380026034</dd><dt>1M_g5_control</dt><dd>1.06886135090942</dd><dt>1M_g5_tazko</dt><dd>1.0896226055515</dd><dt>1M_g6_control</dt><dd>1.00765897742211</dd><dt>1M_g6_tazko</dt><dd>0.991582882412005</dd><dt>1M_g7_control</dt><dd>0.942206574073709</dd><dt>1M_g7_tazko</dt><dd>0.942742654827033</dd><dt>1M_g8_control</dt><dd>0.969950269049412</dd><dt>1M_g8_tazko</dt><dd>0.970731641783405</dd></dl>\n"
      ],
      "text/latex": [
       "\\begin{description*}\n",
       "\\item[1M\\textbackslash{}\\_g1\\textbackslash{}\\_control] 1.0120898972156\n",
       "\\item[1M\\textbackslash{}\\_g1\\textbackslash{}\\_tazko] 1.04754430161205\n",
       "\\item[1M\\textbackslash{}\\_g2\\textbackslash{}\\_control] 1.01578628458504\n",
       "\\item[1M\\textbackslash{}\\_g2\\textbackslash{}\\_tazko] 1.07766576246688\n",
       "\\item[1M\\textbackslash{}\\_g3\\textbackslash{}\\_control] 1.02317236431009\n",
       "\\item[1M\\textbackslash{}\\_g3\\textbackslash{}\\_tazko] 1.01551166180162\n",
       "\\item[1M\\textbackslash{}\\_g4\\textbackslash{}\\_control] 1.02221803968634\n",
       "\\item[1M\\textbackslash{}\\_g4\\textbackslash{}\\_tazko] 1.03470380026034\n",
       "\\item[1M\\textbackslash{}\\_g5\\textbackslash{}\\_control] 1.06886135090942\n",
       "\\item[1M\\textbackslash{}\\_g5\\textbackslash{}\\_tazko] 1.0896226055515\n",
       "\\item[1M\\textbackslash{}\\_g6\\textbackslash{}\\_control] 1.00765897742211\n",
       "\\item[1M\\textbackslash{}\\_g6\\textbackslash{}\\_tazko] 0.991582882412005\n",
       "\\item[1M\\textbackslash{}\\_g7\\textbackslash{}\\_control] 0.942206574073709\n",
       "\\item[1M\\textbackslash{}\\_g7\\textbackslash{}\\_tazko] 0.942742654827033\n",
       "\\item[1M\\textbackslash{}\\_g8\\textbackslash{}\\_control] 0.969950269049412\n",
       "\\item[1M\\textbackslash{}\\_g8\\textbackslash{}\\_tazko] 0.970731641783405\n",
       "\\end{description*}\n"
      ],
      "text/markdown": [
       "1M_g1_control\n",
       ":   1.01208989721561M_g1_tazko\n",
       ":   1.047544301612051M_g2_control\n",
       ":   1.015786284585041M_g2_tazko\n",
       ":   1.077665762466881M_g3_control\n",
       ":   1.023172364310091M_g3_tazko\n",
       ":   1.015511661801621M_g4_control\n",
       ":   1.022218039686341M_g4_tazko\n",
       ":   1.034703800260341M_g5_control\n",
       ":   1.068861350909421M_g5_tazko\n",
       ":   1.08962260555151M_g6_control\n",
       ":   1.007658977422111M_g6_tazko\n",
       ":   0.9915828824120051M_g7_control\n",
       ":   0.9422065740737091M_g7_tazko\n",
       ":   0.9427426548270331M_g8_control\n",
       ":   0.9699502690494121M_g8_tazko\n",
       ":   0.970731641783405\n",
       "\n"
      ],
      "text/plain": [
       "1M_g1_control   1M_g1_tazko 1M_g2_control   1M_g2_tazko 1M_g3_control \n",
       "    1.0120899     1.0475443     1.0157863     1.0776658     1.0231724 \n",
       "  1M_g3_tazko 1M_g4_control   1M_g4_tazko 1M_g5_control   1M_g5_tazko \n",
       "    1.0155117     1.0222180     1.0347038     1.0688614     1.0896226 \n",
       "1M_g6_control   1M_g6_tazko 1M_g7_control   1M_g7_tazko 1M_g8_control \n",
       "    1.0076590     0.9915829     0.9422066     0.9427427     0.9699503 \n",
       "  1M_g8_tazko \n",
       "    0.9707316 "
      ]
     },
     "metadata": {},
     "output_type": "display_data"
    }
   ],
   "source": [
    "sizeFactors(dds)"
   ]
  },
  {
   "cell_type": "markdown",
   "id": "77fe319f-0be6-4687-bed5-af4adf1a558f",
   "metadata": {},
   "source": [
    "<h1>Pull out normalized counts data</h1>"
   ]
  },
  {
   "cell_type": "markdown",
   "id": "a8d9f7fe-45a6-43bd-aa38-22078ed49d2f",
   "metadata": {},
   "source": [
    "In order to be able to compare our counts between samples, we first need to normalize our counts. There are a number of different normalization methods, and Dr. Ingolia touched on a few of them in lecture. DESeq2 normalizes raw count data using a median of ratios method.\n",
    "\n",
    "To pull out normalized counts from our dataset, we can make use of the <code>counts()</code> function like we did previously to pull out our raw counts, but we can provide it with an additional argument <code>normalized = TRUE</code> to get the normalized counts.\n",
    "\n",
    "```\n",
    "norm.counts <- counts(dds, normalized = TRUE)\n",
    "```"
   ]
  },
  {
   "cell_type": "code",
   "execution_count": 67,
   "id": "5c690177-179e-437f-a76b-ff1cbb4fe7b4",
   "metadata": {},
   "outputs": [],
   "source": [
    "norm.counts <- counts(dds, normalized = TRUE)"
   ]
  },
  {
   "cell_type": "code",
   "execution_count": 68,
   "id": "f75e7e6a-87be-48c1-8e8a-2cf58d0c21b6",
   "metadata": {},
   "outputs": [
    {
     "data": {
      "text/html": [
       "<table class=\"dataframe\">\n",
       "<caption>A matrix: 5 × 16 of type dbl</caption>\n",
       "<thead>\n",
       "\t<tr><th></th><th scope=col>1M_g1_control</th><th scope=col>1M_g1_tazko</th><th scope=col>1M_g2_control</th><th scope=col>1M_g2_tazko</th><th scope=col>1M_g3_control</th><th scope=col>1M_g3_tazko</th><th scope=col>1M_g4_control</th><th scope=col>1M_g4_tazko</th><th scope=col>1M_g5_control</th><th scope=col>1M_g5_tazko</th><th scope=col>1M_g6_control</th><th scope=col>1M_g6_tazko</th><th scope=col>1M_g7_control</th><th scope=col>1M_g7_tazko</th><th scope=col>1M_g8_control</th><th scope=col>1M_g8_tazko</th></tr>\n",
       "</thead>\n",
       "<tbody>\n",
       "\t<tr><th scope=row>A1BG</th><td> 0.000000</td><td>1.909227</td><td>0.984459</td><td> 5.567589</td><td>0.0000000</td><td> 0.9847253</td><td>0.9782649</td><td>1.9329203</td><td>0.935575</td><td>0.9177489</td><td> 0.000000</td><td> 0.000000</td><td>1.061338</td><td> 1.060735</td><td> 0.000000</td><td>1.030151</td></tr>\n",
       "\t<tr><th scope=row>A1BG-AS1</th><td> 2.964164</td><td>1.909227</td><td>1.968918</td><td> 1.855863</td><td>3.9094097</td><td> 2.9541758</td><td>1.9565297</td><td>0.9664602</td><td>0.935575</td><td>0.9177489</td><td> 1.984798</td><td> 2.016977</td><td>1.061338</td><td> 0.000000</td><td> 3.092942</td><td>0.000000</td></tr>\n",
       "\t<tr><th scope=row>A2M</th><td> 0.000000</td><td>0.000000</td><td>0.000000</td><td> 0.000000</td><td>0.0000000</td><td> 0.0000000</td><td>0.0000000</td><td>0.0000000</td><td>0.000000</td><td>0.0000000</td><td> 0.000000</td><td> 0.000000</td><td>1.061338</td><td> 0.000000</td><td> 0.000000</td><td>0.000000</td></tr>\n",
       "\t<tr><th scope=row>A2M-AS1</th><td> 0.000000</td><td>0.000000</td><td>2.953377</td><td> 0.000000</td><td>0.9773524</td><td> 0.0000000</td><td>0.0000000</td><td>0.0000000</td><td>0.935575</td><td>0.0000000</td><td> 0.000000</td><td> 0.000000</td><td>0.000000</td><td> 0.000000</td><td> 0.000000</td><td>0.000000</td></tr>\n",
       "\t<tr><th scope=row>A4GALT</th><td>11.856654</td><td>8.591522</td><td>6.891213</td><td>18.558630</td><td>6.8414670</td><td>11.8167033</td><td>7.8261190</td><td>7.7316813</td><td>3.742300</td><td>9.1774895</td><td>12.901190</td><td>13.110351</td><td>7.429369</td><td>13.789553</td><td>10.309807</td><td>9.271357</td></tr>\n",
       "</tbody>\n",
       "</table>\n"
      ],
      "text/latex": [
       "A matrix: 5 × 16 of type dbl\n",
       "\\begin{tabular}{r|llllllllllllllll}\n",
       "  & 1M\\_g1\\_control & 1M\\_g1\\_tazko & 1M\\_g2\\_control & 1M\\_g2\\_tazko & 1M\\_g3\\_control & 1M\\_g3\\_tazko & 1M\\_g4\\_control & 1M\\_g4\\_tazko & 1M\\_g5\\_control & 1M\\_g5\\_tazko & 1M\\_g6\\_control & 1M\\_g6\\_tazko & 1M\\_g7\\_control & 1M\\_g7\\_tazko & 1M\\_g8\\_control & 1M\\_g8\\_tazko\\\\\n",
       "\\hline\n",
       "\tA1BG &  0.000000 & 1.909227 & 0.984459 &  5.567589 & 0.0000000 &  0.9847253 & 0.9782649 & 1.9329203 & 0.935575 & 0.9177489 &  0.000000 &  0.000000 & 1.061338 &  1.060735 &  0.000000 & 1.030151\\\\\n",
       "\tA1BG-AS1 &  2.964164 & 1.909227 & 1.968918 &  1.855863 & 3.9094097 &  2.9541758 & 1.9565297 & 0.9664602 & 0.935575 & 0.9177489 &  1.984798 &  2.016977 & 1.061338 &  0.000000 &  3.092942 & 0.000000\\\\\n",
       "\tA2M &  0.000000 & 0.000000 & 0.000000 &  0.000000 & 0.0000000 &  0.0000000 & 0.0000000 & 0.0000000 & 0.000000 & 0.0000000 &  0.000000 &  0.000000 & 1.061338 &  0.000000 &  0.000000 & 0.000000\\\\\n",
       "\tA2M-AS1 &  0.000000 & 0.000000 & 2.953377 &  0.000000 & 0.9773524 &  0.0000000 & 0.0000000 & 0.0000000 & 0.935575 & 0.0000000 &  0.000000 &  0.000000 & 0.000000 &  0.000000 &  0.000000 & 0.000000\\\\\n",
       "\tA4GALT & 11.856654 & 8.591522 & 6.891213 & 18.558630 & 6.8414670 & 11.8167033 & 7.8261190 & 7.7316813 & 3.742300 & 9.1774895 & 12.901190 & 13.110351 & 7.429369 & 13.789553 & 10.309807 & 9.271357\\\\\n",
       "\\end{tabular}\n"
      ],
      "text/markdown": [
       "\n",
       "A matrix: 5 × 16 of type dbl\n",
       "\n",
       "| <!--/--> | 1M_g1_control | 1M_g1_tazko | 1M_g2_control | 1M_g2_tazko | 1M_g3_control | 1M_g3_tazko | 1M_g4_control | 1M_g4_tazko | 1M_g5_control | 1M_g5_tazko | 1M_g6_control | 1M_g6_tazko | 1M_g7_control | 1M_g7_tazko | 1M_g8_control | 1M_g8_tazko |\n",
       "|---|---|---|---|---|---|---|---|---|---|---|---|---|---|---|---|---|\n",
       "| A1BG |  0.000000 | 1.909227 | 0.984459 |  5.567589 | 0.0000000 |  0.9847253 | 0.9782649 | 1.9329203 | 0.935575 | 0.9177489 |  0.000000 |  0.000000 | 1.061338 |  1.060735 |  0.000000 | 1.030151 |\n",
       "| A1BG-AS1 |  2.964164 | 1.909227 | 1.968918 |  1.855863 | 3.9094097 |  2.9541758 | 1.9565297 | 0.9664602 | 0.935575 | 0.9177489 |  1.984798 |  2.016977 | 1.061338 |  0.000000 |  3.092942 | 0.000000 |\n",
       "| A2M |  0.000000 | 0.000000 | 0.000000 |  0.000000 | 0.0000000 |  0.0000000 | 0.0000000 | 0.0000000 | 0.000000 | 0.0000000 |  0.000000 |  0.000000 | 1.061338 |  0.000000 |  0.000000 | 0.000000 |\n",
       "| A2M-AS1 |  0.000000 | 0.000000 | 2.953377 |  0.000000 | 0.9773524 |  0.0000000 | 0.0000000 | 0.0000000 | 0.935575 | 0.0000000 |  0.000000 |  0.000000 | 0.000000 |  0.000000 |  0.000000 | 0.000000 |\n",
       "| A4GALT | 11.856654 | 8.591522 | 6.891213 | 18.558630 | 6.8414670 | 11.8167033 | 7.8261190 | 7.7316813 | 3.742300 | 9.1774895 | 12.901190 | 13.110351 | 7.429369 | 13.789553 | 10.309807 | 9.271357 |\n",
       "\n"
      ],
      "text/plain": [
       "         1M_g1_control 1M_g1_tazko 1M_g2_control 1M_g2_tazko 1M_g3_control\n",
       "A1BG      0.000000     1.909227    0.984459       5.567589   0.0000000    \n",
       "A1BG-AS1  2.964164     1.909227    1.968918       1.855863   3.9094097    \n",
       "A2M       0.000000     0.000000    0.000000       0.000000   0.0000000    \n",
       "A2M-AS1   0.000000     0.000000    2.953377       0.000000   0.9773524    \n",
       "A4GALT   11.856654     8.591522    6.891213      18.558630   6.8414670    \n",
       "         1M_g3_tazko 1M_g4_control 1M_g4_tazko 1M_g5_control 1M_g5_tazko\n",
       "A1BG      0.9847253  0.9782649     1.9329203   0.935575      0.9177489  \n",
       "A1BG-AS1  2.9541758  1.9565297     0.9664602   0.935575      0.9177489  \n",
       "A2M       0.0000000  0.0000000     0.0000000   0.000000      0.0000000  \n",
       "A2M-AS1   0.0000000  0.0000000     0.0000000   0.935575      0.0000000  \n",
       "A4GALT   11.8167033  7.8261190     7.7316813   3.742300      9.1774895  \n",
       "         1M_g6_control 1M_g6_tazko 1M_g7_control 1M_g7_tazko 1M_g8_control\n",
       "A1BG      0.000000      0.000000   1.061338       1.060735    0.000000    \n",
       "A1BG-AS1  1.984798      2.016977   1.061338       0.000000    3.092942    \n",
       "A2M       0.000000      0.000000   1.061338       0.000000    0.000000    \n",
       "A2M-AS1   0.000000      0.000000   0.000000       0.000000    0.000000    \n",
       "A4GALT   12.901190     13.110351   7.429369      13.789553   10.309807    \n",
       "         1M_g8_tazko\n",
       "A1BG     1.030151   \n",
       "A1BG-AS1 0.000000   \n",
       "A2M      0.000000   \n",
       "A2M-AS1  0.000000   \n",
       "A4GALT   9.271357   "
      ]
     },
     "metadata": {},
     "output_type": "display_data"
    }
   ],
   "source": [
    "head(norm.counts, 5)"
   ]
  },
  {
   "cell_type": "markdown",
   "id": "1cda8e3e-beee-475a-8c48-8b68bb09baf0",
   "metadata": {},
   "source": [
    "<h1>Visualize count variances</h1>"
   ]
  },
  {
   "cell_type": "markdown",
   "id": "1a13f05f-4172-4f52-8a1c-a922e95472a8",
   "metadata": {},
   "source": [
    "Let's do a quick visualization of the variance in our data to get an idea of where the variance lies in our data. Genes that don't vary much or at all between samples aren't informative for a principal component analysis, while those that do can be used to cluster our samples. \n",
    "\n",
    "We'll take a look at two types of normalizations of our dataset. One is the standard log2 transformation, and another is a regularized log transformation, which accounts for the fact that low count genes will have higher variance."
   ]
  },
  {
   "cell_type": "markdown",
   "id": "76753ff0-cb91-43ff-8a1d-cb448d24706c",
   "metadata": {},
   "source": [
    "<h2>Perform an log2 transformation on normalized counts</h2>"
   ]
  },
  {
   "cell_type": "markdown",
   "id": "0d7ab8d1-cfc5-4f76-80eb-75608eb3d669",
   "metadata": {},
   "source": [
    "We'll first take a look at our dataset after a standard log2 transformation using the <code>normTransform()</code> function.\n",
    "\n",
    "```\n",
    "log2.norm.counts <- normTransform(dds)\n",
    "```"
   ]
  },
  {
   "cell_type": "code",
   "execution_count": 69,
   "id": "dbdacc1e-ffbc-4256-b964-cc6fb86d6cf2",
   "metadata": {},
   "outputs": [],
   "source": [
    "log2.norm.counts <- normTransform(dds)"
   ]
  },
  {
   "cell_type": "code",
   "execution_count": 70,
   "id": "8318b9ce-b784-47e4-b1bc-f034b9f36dc5",
   "metadata": {},
   "outputs": [
    {
     "data": {
      "text/plain": [
       "class: DESeqTransform \n",
       "dim: 18096 16 \n",
       "metadata(1): version\n",
       "assays(1): ''\n",
       "rownames(18096): A1BG A1BG-AS1 ... ZZEF1 ZZZ3\n",
       "rowData names(0):\n",
       "colnames(16): 1M_g1_control 1M_g1_tazko ... 1M_g8_control 1M_g8_tazko\n",
       "colData names(2): condition sizeFactor"
      ]
     },
     "metadata": {},
     "output_type": "display_data"
    }
   ],
   "source": [
    "log2.norm.counts"
   ]
  },
  {
   "cell_type": "markdown",
   "id": "5eb856c7-f941-473a-bb1c-550c71e1a411",
   "metadata": {},
   "source": [
    "Let's pull out the normalized, log2 transformed counts using the <code>assay()</code> accessor function."
   ]
  },
  {
   "cell_type": "code",
   "execution_count": 71,
   "id": "99815871-0458-4de9-935a-1e967ff2c929",
   "metadata": {},
   "outputs": [
    {
     "data": {
      "text/html": [
       "<table class=\"dataframe\">\n",
       "<caption>A matrix: 5 × 16 of type dbl</caption>\n",
       "<thead>\n",
       "\t<tr><th></th><th scope=col>1M_g1_control</th><th scope=col>1M_g1_tazko</th><th scope=col>1M_g2_control</th><th scope=col>1M_g2_tazko</th><th scope=col>1M_g3_control</th><th scope=col>1M_g3_tazko</th><th scope=col>1M_g4_control</th><th scope=col>1M_g4_tazko</th><th scope=col>1M_g5_control</th><th scope=col>1M_g5_tazko</th><th scope=col>1M_g6_control</th><th scope=col>1M_g6_tazko</th><th scope=col>1M_g7_control</th><th scope=col>1M_g7_tazko</th><th scope=col>1M_g8_control</th><th scope=col>1M_g8_tazko</th></tr>\n",
       "</thead>\n",
       "<tbody>\n",
       "\t<tr><th scope=row>A1BG</th><td>0.000000</td><td>1.540636</td><td>0.9887458</td><td>2.715364</td><td>0.000000</td><td>0.9889393</td><td>0.9842356</td><td>1.552338</td><td>0.9527622</td><td>0.9394139</td><td>0.000000</td><td>0.000000</td><td>1.043581</td><td>1.043159</td><td>0.000000</td><td>1.021587</td></tr>\n",
       "\t<tr><th scope=row>A1BG-AS1</th><td>1.987016</td><td>1.540636</td><td>1.5699373</td><td>1.513927</td><td>2.295550</td><td>1.9833770</td><td>1.5639048</td><td>0.975601</td><td>0.9527622</td><td>0.9394139</td><td>1.577634</td><td>1.593104</td><td>1.043581</td><td>0.000000</td><td>2.033138</td><td>0.000000</td></tr>\n",
       "\t<tr><th scope=row>A2M</th><td>0.000000</td><td>0.000000</td><td>0.0000000</td><td>0.000000</td><td>0.000000</td><td>0.0000000</td><td>0.0000000</td><td>0.000000</td><td>0.0000000</td><td>0.0000000</td><td>0.000000</td><td>0.000000</td><td>1.043581</td><td>0.000000</td><td>0.000000</td><td>0.000000</td></tr>\n",
       "\t<tr><th scope=row>A2M-AS1</th><td>0.000000</td><td>0.000000</td><td>1.9830856</td><td>0.000000</td><td>0.983570</td><td>0.0000000</td><td>0.0000000</td><td>0.000000</td><td>0.9527622</td><td>0.0000000</td><td>0.000000</td><td>0.000000</td><td>0.000000</td><td>0.000000</td><td>0.000000</td><td>0.000000</td></tr>\n",
       "\t<tr><th scope=row>A4GALT</th><td>3.684443</td><td>3.261760</td><td>2.9802471</td><td>4.289733</td><td>2.971124</td><td>3.6799533</td><td>3.1417792</td><td>3.126259</td><td>2.2455870</td><td>3.3473098</td><td>3.797136</td><td>3.818682</td><td>3.075425</td><td>3.886507</td><td>3.499502</td><td>3.360555</td></tr>\n",
       "</tbody>\n",
       "</table>\n"
      ],
      "text/latex": [
       "A matrix: 5 × 16 of type dbl\n",
       "\\begin{tabular}{r|llllllllllllllll}\n",
       "  & 1M\\_g1\\_control & 1M\\_g1\\_tazko & 1M\\_g2\\_control & 1M\\_g2\\_tazko & 1M\\_g3\\_control & 1M\\_g3\\_tazko & 1M\\_g4\\_control & 1M\\_g4\\_tazko & 1M\\_g5\\_control & 1M\\_g5\\_tazko & 1M\\_g6\\_control & 1M\\_g6\\_tazko & 1M\\_g7\\_control & 1M\\_g7\\_tazko & 1M\\_g8\\_control & 1M\\_g8\\_tazko\\\\\n",
       "\\hline\n",
       "\tA1BG & 0.000000 & 1.540636 & 0.9887458 & 2.715364 & 0.000000 & 0.9889393 & 0.9842356 & 1.552338 & 0.9527622 & 0.9394139 & 0.000000 & 0.000000 & 1.043581 & 1.043159 & 0.000000 & 1.021587\\\\\n",
       "\tA1BG-AS1 & 1.987016 & 1.540636 & 1.5699373 & 1.513927 & 2.295550 & 1.9833770 & 1.5639048 & 0.975601 & 0.9527622 & 0.9394139 & 1.577634 & 1.593104 & 1.043581 & 0.000000 & 2.033138 & 0.000000\\\\\n",
       "\tA2M & 0.000000 & 0.000000 & 0.0000000 & 0.000000 & 0.000000 & 0.0000000 & 0.0000000 & 0.000000 & 0.0000000 & 0.0000000 & 0.000000 & 0.000000 & 1.043581 & 0.000000 & 0.000000 & 0.000000\\\\\n",
       "\tA2M-AS1 & 0.000000 & 0.000000 & 1.9830856 & 0.000000 & 0.983570 & 0.0000000 & 0.0000000 & 0.000000 & 0.9527622 & 0.0000000 & 0.000000 & 0.000000 & 0.000000 & 0.000000 & 0.000000 & 0.000000\\\\\n",
       "\tA4GALT & 3.684443 & 3.261760 & 2.9802471 & 4.289733 & 2.971124 & 3.6799533 & 3.1417792 & 3.126259 & 2.2455870 & 3.3473098 & 3.797136 & 3.818682 & 3.075425 & 3.886507 & 3.499502 & 3.360555\\\\\n",
       "\\end{tabular}\n"
      ],
      "text/markdown": [
       "\n",
       "A matrix: 5 × 16 of type dbl\n",
       "\n",
       "| <!--/--> | 1M_g1_control | 1M_g1_tazko | 1M_g2_control | 1M_g2_tazko | 1M_g3_control | 1M_g3_tazko | 1M_g4_control | 1M_g4_tazko | 1M_g5_control | 1M_g5_tazko | 1M_g6_control | 1M_g6_tazko | 1M_g7_control | 1M_g7_tazko | 1M_g8_control | 1M_g8_tazko |\n",
       "|---|---|---|---|---|---|---|---|---|---|---|---|---|---|---|---|---|\n",
       "| A1BG | 0.000000 | 1.540636 | 0.9887458 | 2.715364 | 0.000000 | 0.9889393 | 0.9842356 | 1.552338 | 0.9527622 | 0.9394139 | 0.000000 | 0.000000 | 1.043581 | 1.043159 | 0.000000 | 1.021587 |\n",
       "| A1BG-AS1 | 1.987016 | 1.540636 | 1.5699373 | 1.513927 | 2.295550 | 1.9833770 | 1.5639048 | 0.975601 | 0.9527622 | 0.9394139 | 1.577634 | 1.593104 | 1.043581 | 0.000000 | 2.033138 | 0.000000 |\n",
       "| A2M | 0.000000 | 0.000000 | 0.0000000 | 0.000000 | 0.000000 | 0.0000000 | 0.0000000 | 0.000000 | 0.0000000 | 0.0000000 | 0.000000 | 0.000000 | 1.043581 | 0.000000 | 0.000000 | 0.000000 |\n",
       "| A2M-AS1 | 0.000000 | 0.000000 | 1.9830856 | 0.000000 | 0.983570 | 0.0000000 | 0.0000000 | 0.000000 | 0.9527622 | 0.0000000 | 0.000000 | 0.000000 | 0.000000 | 0.000000 | 0.000000 | 0.000000 |\n",
       "| A4GALT | 3.684443 | 3.261760 | 2.9802471 | 4.289733 | 2.971124 | 3.6799533 | 3.1417792 | 3.126259 | 2.2455870 | 3.3473098 | 3.797136 | 3.818682 | 3.075425 | 3.886507 | 3.499502 | 3.360555 |\n",
       "\n"
      ],
      "text/plain": [
       "         1M_g1_control 1M_g1_tazko 1M_g2_control 1M_g2_tazko 1M_g3_control\n",
       "A1BG     0.000000      1.540636    0.9887458     2.715364    0.000000     \n",
       "A1BG-AS1 1.987016      1.540636    1.5699373     1.513927    2.295550     \n",
       "A2M      0.000000      0.000000    0.0000000     0.000000    0.000000     \n",
       "A2M-AS1  0.000000      0.000000    1.9830856     0.000000    0.983570     \n",
       "A4GALT   3.684443      3.261760    2.9802471     4.289733    2.971124     \n",
       "         1M_g3_tazko 1M_g4_control 1M_g4_tazko 1M_g5_control 1M_g5_tazko\n",
       "A1BG     0.9889393   0.9842356     1.552338    0.9527622     0.9394139  \n",
       "A1BG-AS1 1.9833770   1.5639048     0.975601    0.9527622     0.9394139  \n",
       "A2M      0.0000000   0.0000000     0.000000    0.0000000     0.0000000  \n",
       "A2M-AS1  0.0000000   0.0000000     0.000000    0.9527622     0.0000000  \n",
       "A4GALT   3.6799533   3.1417792     3.126259    2.2455870     3.3473098  \n",
       "         1M_g6_control 1M_g6_tazko 1M_g7_control 1M_g7_tazko 1M_g8_control\n",
       "A1BG     0.000000      0.000000    1.043581      1.043159    0.000000     \n",
       "A1BG-AS1 1.577634      1.593104    1.043581      0.000000    2.033138     \n",
       "A2M      0.000000      0.000000    1.043581      0.000000    0.000000     \n",
       "A2M-AS1  0.000000      0.000000    0.000000      0.000000    0.000000     \n",
       "A4GALT   3.797136      3.818682    3.075425      3.886507    3.499502     \n",
       "         1M_g8_tazko\n",
       "A1BG     1.021587   \n",
       "A1BG-AS1 0.000000   \n",
       "A2M      0.000000   \n",
       "A2M-AS1  0.000000   \n",
       "A4GALT   3.360555   "
      ]
     },
     "metadata": {},
     "output_type": "display_data"
    }
   ],
   "source": [
    "head(assay(log2.norm.counts), 5)"
   ]
  },
  {
   "cell_type": "markdown",
   "id": "b3612eb9-5e64-47d2-a36d-a65f6fc688c3",
   "metadata": {},
   "source": [
    "<h2>Plot the standard deviation of data</h2>"
   ]
  },
  {
   "cell_type": "markdown",
   "id": "3491a263-f0f6-4c9c-82e5-1afe7d47dcde",
   "metadata": {},
   "source": [
    "We'll now make use of the <code>meanSdPlot()</code> function of the <code>vsn</code> package to visualize the standard deviation of our counts.\n",
    "\n",
    "<a href=\"https://www.bioconductor.org/packages/release/bioc/manuals/vsn/man/vsn.pdf\" rel=\"noopener noreferrer\" target=\"_blank\"><u>Documentation for vsn including <code>meanSdPlot()</code> is here.</u></a>\n",
    "\n",
    "```\n",
    "vsn::meanSdPlot(assay(log2.norm.counts))\n",
    "```\n",
    "\n",
    "Breaking down this line of code:\n",
    "\n",
    "<code>vsn::meanSdPlot()</code>\n",
    "\n",
    "We call up the <code>meanSdPlot()</code> function. Since we just installed the library and didn't load it like we did with DESeq2 and ggplot2, we'll need to call up the package first (kind of like what we do in Python). In this case, the syntax is <code>vsn::</code>.\n",
    "\n",
    "<hr style=\"border: 1px solid; border-color: #AAAAAA;\"></hr>\n",
    "\n",
    "<code>assay()</code>\n",
    "\n",
    "This is an accessor function that allows us to pull our data out of the <code>DESeqDataSet</code>, kind of like the <code>counts()</code> function.\n",
    "\n",
    "<hr style=\"border: 1px solid; border-color: #AAAAAA;\"></hr>\n",
    "\n",
    "<code>log2.norm.counts</code>\n",
    "\n",
    "We specify the data that we want to pull out."
   ]
  },
  {
   "cell_type": "code",
   "execution_count": 72,
   "id": "56ee1fa3-971e-413b-99eb-47205a3320f4",
   "metadata": {},
   "outputs": [
    {
     "data": {
      "image/png": "[encoded data removed]",
      "text/plain": [
       "plot without title"
      ]
     },
     "metadata": {
      "image/png": {
       "height": 420,
       "width": 420
      }
     },
     "output_type": "display_data"
    }
   ],
   "source": [
    "log2.norm.plot <- vsn::meanSdPlot(assay(log2.norm.counts))"
   ]
  },
  {
   "cell_type": "markdown",
   "id": "b17b3904-719d-4b61-80cd-dfc591aa72a9",
   "metadata": {},
   "source": [
    "<a href=\"https://www.bioconductor.org/packages/release/bioc/html/vsn.html\" rel=\"noopener noreferrer\" target=\"_blank\"><u>In the documentation for the vsn package</u></a>, you can access the ggplot object by pulling it out and modifying it by layering on additional plot components via ggplot2."
   ]
  },
  {
   "cell_type": "code",
   "execution_count": 73,
   "id": "2f65106a-2800-465f-b02b-4bf3d07452f2",
   "metadata": {},
   "outputs": [
    {
     "data": {
      "image/png": "[encoded data removed]",
      "text/plain": [
       "plot without title"
      ]
     },
     "metadata": {
      "image/png": {
       "height": 420,
       "width": 420
      }
     },
     "output_type": "display_data"
    }
   ],
   "source": [
    "log2.norm.plot$gg +\n",
    "    ggtitle('Log2 transformed counts, standard deviation') +\n",
    "    ylab('Standard Deviation') +\n",
    "    xlab('Rank of means')"
   ]
  },
  {
   "cell_type": "markdown",
   "id": "0c69ca1f-29cf-45a5-bce3-e5044974f2f5",
   "metadata": {},
   "source": [
    "<h2>Perform a regularized log (rlog) transformation of data</h2>"
   ]
  },
  {
   "cell_type": "markdown",
   "id": "2d175c11-c276-4b4b-83a7-8e976a74084f",
   "metadata": {},
   "source": [
    "Let's compare how the variation looks like when we take into account the fact that lowly expressed genes will have higher variance by performing a regularized log transformation and then plotting the standard deviation of the rlog transformed data.\n",
    "\n",
    "```\n",
    "rld <- rlog(dds, blind=FALSE)\n",
    "```\n",
    "\n",
    "This type of transformation isn't performed on counts for differential analysis. Instead, this type of transformation is used for data visualization and clustering."
   ]
  },
  {
   "cell_type": "code",
   "execution_count": 74,
   "id": "44bb2140-b3c9-404f-a8ac-2556ba3d544f",
   "metadata": {},
   "outputs": [],
   "source": [
    "rld <- rlog(dds, blind=FALSE)"
   ]
  },
  {
   "cell_type": "code",
   "execution_count": 75,
   "id": "030de300-55d6-49f3-8241-7c275b92071b",
   "metadata": {},
   "outputs": [
    {
     "data": {
      "text/html": [
       "<table class=\"dataframe\">\n",
       "<caption>A matrix: 5 × 16 of type dbl</caption>\n",
       "<thead>\n",
       "\t<tr><th></th><th scope=col>1M_g1_control</th><th scope=col>1M_g1_tazko</th><th scope=col>1M_g2_control</th><th scope=col>1M_g2_tazko</th><th scope=col>1M_g3_control</th><th scope=col>1M_g3_tazko</th><th scope=col>1M_g4_control</th><th scope=col>1M_g4_tazko</th><th scope=col>1M_g5_control</th><th scope=col>1M_g5_tazko</th><th scope=col>1M_g6_control</th><th scope=col>1M_g6_tazko</th><th scope=col>1M_g7_control</th><th scope=col>1M_g7_tazko</th><th scope=col>1M_g8_control</th><th scope=col>1M_g8_tazko</th></tr>\n",
       "</thead>\n",
       "<tbody>\n",
       "\t<tr><th scope=row>A1BG</th><td> 0.0419342</td><td> 0.1352281</td><td> 0.09043184</td><td> 0.3021097</td><td> 0.04164598</td><td> 0.0904453</td><td> 0.09011778</td><td> 0.1361192</td><td> 0.0878977</td><td> 0.08694088</td><td> 0.04205029</td><td> 0.04247571</td><td> 0.09417068</td><td> 0.09414243</td><td> 0.04305878</td><td> 0.09268852</td></tr>\n",
       "\t<tr><th scope=row>A1BG-AS1</th><td> 0.8753869</td><td> 0.8272262</td><td> 0.82991076</td><td> 0.8247555</td><td> 0.91766897</td><td> 0.8750210</td><td> 0.82936028</td><td> 0.7821495</td><td> 0.7800336</td><td> 0.77878088</td><td> 0.83061138</td><td> 0.83201407</td><td> 0.78824749</td><td> 0.73845820</td><td> 0.87999859</td><td> 0.73722464</td></tr>\n",
       "\t<tr><th scope=row>A2M</th><td>-2.2825675</td><td>-2.2827679</td><td>-2.28258871</td><td>-2.2829329</td><td>-2.28263088</td><td>-2.2825871</td><td>-2.28262545</td><td>-2.2826961</td><td>-2.2828852</td><td>-2.28299716</td><td>-2.28254195</td><td>-2.28244833</td><td>-2.27050913</td><td>-2.28215432</td><td>-2.28231994</td><td>-2.28232462</td></tr>\n",
       "\t<tr><th scope=row>A2M-AS1</th><td>-1.5720585</td><td>-1.5726965</td><td>-1.46094624</td><td>-1.5732218</td><td>-1.53520036</td><td>-1.5721210</td><td>-1.57224301</td><td>-1.5724680</td><td>-1.5360099</td><td>-1.57342627</td><td>-1.57197720</td><td>-1.57167919</td><td>-1.57073271</td><td>-1.57074325</td><td>-1.57127046</td><td>-1.57128538</td></tr>\n",
       "\t<tr><th scope=row>A4GALT</th><td> 3.3700307</td><td> 3.2506366</td><td> 3.18510262</td><td> 3.5913851</td><td> 3.18279319</td><td> 3.3687201</td><td> 3.22161911</td><td> 3.2175693</td><td> 3.0489680</td><td> 3.27263515</td><td> 3.40585055</td><td> 3.41230075</td><td> 3.20905287</td><td> 3.43257236</td><td> 3.31471832</td><td> 3.27713057</td></tr>\n",
       "</tbody>\n",
       "</table>\n"
      ],
      "text/latex": [
       "A matrix: 5 × 16 of type dbl\n",
       "\\begin{tabular}{r|llllllllllllllll}\n",
       "  & 1M\\_g1\\_control & 1M\\_g1\\_tazko & 1M\\_g2\\_control & 1M\\_g2\\_tazko & 1M\\_g3\\_control & 1M\\_g3\\_tazko & 1M\\_g4\\_control & 1M\\_g4\\_tazko & 1M\\_g5\\_control & 1M\\_g5\\_tazko & 1M\\_g6\\_control & 1M\\_g6\\_tazko & 1M\\_g7\\_control & 1M\\_g7\\_tazko & 1M\\_g8\\_control & 1M\\_g8\\_tazko\\\\\n",
       "\\hline\n",
       "\tA1BG &  0.0419342 &  0.1352281 &  0.09043184 &  0.3021097 &  0.04164598 &  0.0904453 &  0.09011778 &  0.1361192 &  0.0878977 &  0.08694088 &  0.04205029 &  0.04247571 &  0.09417068 &  0.09414243 &  0.04305878 &  0.09268852\\\\\n",
       "\tA1BG-AS1 &  0.8753869 &  0.8272262 &  0.82991076 &  0.8247555 &  0.91766897 &  0.8750210 &  0.82936028 &  0.7821495 &  0.7800336 &  0.77878088 &  0.83061138 &  0.83201407 &  0.78824749 &  0.73845820 &  0.87999859 &  0.73722464\\\\\n",
       "\tA2M & -2.2825675 & -2.2827679 & -2.28258871 & -2.2829329 & -2.28263088 & -2.2825871 & -2.28262545 & -2.2826961 & -2.2828852 & -2.28299716 & -2.28254195 & -2.28244833 & -2.27050913 & -2.28215432 & -2.28231994 & -2.28232462\\\\\n",
       "\tA2M-AS1 & -1.5720585 & -1.5726965 & -1.46094624 & -1.5732218 & -1.53520036 & -1.5721210 & -1.57224301 & -1.5724680 & -1.5360099 & -1.57342627 & -1.57197720 & -1.57167919 & -1.57073271 & -1.57074325 & -1.57127046 & -1.57128538\\\\\n",
       "\tA4GALT &  3.3700307 &  3.2506366 &  3.18510262 &  3.5913851 &  3.18279319 &  3.3687201 &  3.22161911 &  3.2175693 &  3.0489680 &  3.27263515 &  3.40585055 &  3.41230075 &  3.20905287 &  3.43257236 &  3.31471832 &  3.27713057\\\\\n",
       "\\end{tabular}\n"
      ],
      "text/markdown": [
       "\n",
       "A matrix: 5 × 16 of type dbl\n",
       "\n",
       "| <!--/--> | 1M_g1_control | 1M_g1_tazko | 1M_g2_control | 1M_g2_tazko | 1M_g3_control | 1M_g3_tazko | 1M_g4_control | 1M_g4_tazko | 1M_g5_control | 1M_g5_tazko | 1M_g6_control | 1M_g6_tazko | 1M_g7_control | 1M_g7_tazko | 1M_g8_control | 1M_g8_tazko |\n",
       "|---|---|---|---|---|---|---|---|---|---|---|---|---|---|---|---|---|\n",
       "| A1BG |  0.0419342 |  0.1352281 |  0.09043184 |  0.3021097 |  0.04164598 |  0.0904453 |  0.09011778 |  0.1361192 |  0.0878977 |  0.08694088 |  0.04205029 |  0.04247571 |  0.09417068 |  0.09414243 |  0.04305878 |  0.09268852 |\n",
       "| A1BG-AS1 |  0.8753869 |  0.8272262 |  0.82991076 |  0.8247555 |  0.91766897 |  0.8750210 |  0.82936028 |  0.7821495 |  0.7800336 |  0.77878088 |  0.83061138 |  0.83201407 |  0.78824749 |  0.73845820 |  0.87999859 |  0.73722464 |\n",
       "| A2M | -2.2825675 | -2.2827679 | -2.28258871 | -2.2829329 | -2.28263088 | -2.2825871 | -2.28262545 | -2.2826961 | -2.2828852 | -2.28299716 | -2.28254195 | -2.28244833 | -2.27050913 | -2.28215432 | -2.28231994 | -2.28232462 |\n",
       "| A2M-AS1 | -1.5720585 | -1.5726965 | -1.46094624 | -1.5732218 | -1.53520036 | -1.5721210 | -1.57224301 | -1.5724680 | -1.5360099 | -1.57342627 | -1.57197720 | -1.57167919 | -1.57073271 | -1.57074325 | -1.57127046 | -1.57128538 |\n",
       "| A4GALT |  3.3700307 |  3.2506366 |  3.18510262 |  3.5913851 |  3.18279319 |  3.3687201 |  3.22161911 |  3.2175693 |  3.0489680 |  3.27263515 |  3.40585055 |  3.41230075 |  3.20905287 |  3.43257236 |  3.31471832 |  3.27713057 |\n",
       "\n"
      ],
      "text/plain": [
       "         1M_g1_control 1M_g1_tazko 1M_g2_control 1M_g2_tazko 1M_g3_control\n",
       "A1BG      0.0419342     0.1352281   0.09043184    0.3021097   0.04164598  \n",
       "A1BG-AS1  0.8753869     0.8272262   0.82991076    0.8247555   0.91766897  \n",
       "A2M      -2.2825675    -2.2827679  -2.28258871   -2.2829329  -2.28263088  \n",
       "A2M-AS1  -1.5720585    -1.5726965  -1.46094624   -1.5732218  -1.53520036  \n",
       "A4GALT    3.3700307     3.2506366   3.18510262    3.5913851   3.18279319  \n",
       "         1M_g3_tazko 1M_g4_control 1M_g4_tazko 1M_g5_control 1M_g5_tazko\n",
       "A1BG      0.0904453   0.09011778    0.1361192   0.0878977     0.08694088\n",
       "A1BG-AS1  0.8750210   0.82936028    0.7821495   0.7800336     0.77878088\n",
       "A2M      -2.2825871  -2.28262545   -2.2826961  -2.2828852    -2.28299716\n",
       "A2M-AS1  -1.5721210  -1.57224301   -1.5724680  -1.5360099    -1.57342627\n",
       "A4GALT    3.3687201   3.22161911    3.2175693   3.0489680     3.27263515\n",
       "         1M_g6_control 1M_g6_tazko 1M_g7_control 1M_g7_tazko 1M_g8_control\n",
       "A1BG      0.04205029    0.04247571  0.09417068    0.09414243  0.04305878  \n",
       "A1BG-AS1  0.83061138    0.83201407  0.78824749    0.73845820  0.87999859  \n",
       "A2M      -2.28254195   -2.28244833 -2.27050913   -2.28215432 -2.28231994  \n",
       "A2M-AS1  -1.57197720   -1.57167919 -1.57073271   -1.57074325 -1.57127046  \n",
       "A4GALT    3.40585055    3.41230075  3.20905287    3.43257236  3.31471832  \n",
       "         1M_g8_tazko\n",
       "A1BG      0.09268852\n",
       "A1BG-AS1  0.73722464\n",
       "A2M      -2.28232462\n",
       "A2M-AS1  -1.57128538\n",
       "A4GALT    3.27713057"
      ]
     },
     "metadata": {},
     "output_type": "display_data"
    }
   ],
   "source": [
    "head(assay(rld), 5)"
   ]
  },
  {
   "cell_type": "markdown",
   "id": "e9be307a-9ddf-42ee-bc86-fea839f08fc4",
   "metadata": {},
   "source": [
    "<h2>Exercise #2: Plot standard deviation after rlog transformation</h2>"
   ]
  },
  {
   "cell_type": "markdown",
   "id": "438c57fe-0b69-4e36-bba6-0f533cf2e9a9",
   "metadata": {},
   "source": [
    "Using what you've learned earlier for plotting, and generate a similar plot but with the rlog transformed dataset. "
   ]
  },
  {
   "cell_type": "code",
   "execution_count": 76,
   "id": "bd358822-60ac-4409-9a2c-c1813f25acc9",
   "metadata": {},
   "outputs": [
    {
     "data": {
      "image/png": "[encoded data removed]",
      "text/plain": [
       "plot without title"
      ]
     },
     "metadata": {
      "image/png": {
       "height": 420,
       "width": 420
      }
     },
     "output_type": "display_data"
    }
   ],
   "source": [
    "vsn::meanSdPlot(assay(rld))"
   ]
  },
  {
   "cell_type": "markdown",
   "id": "33b07b91-1c3d-47f9-8525-e59e9ecfd8c8",
   "metadata": {},
   "source": [
    "You should see that the resulting plot looks quite different, and the lower ranked genes no longer have an extremely high variance that swamps out the rest of the dataset."
   ]
  },
  {
   "cell_type": "markdown",
   "id": "4ea4b5cf-c234-4220-a09a-1853460b748b",
   "metadata": {},
   "source": [
    "<h1>Guided Exercise: Pull top 500 variable genes for principal component analysis</h1>"
   ]
  },
  {
   "cell_type": "markdown",
   "id": "286bd9c3-e073-4079-b3e9-b8ff168e3ccc",
   "metadata": {},
   "source": [
    "As briefly mentioned previously, we'll focus on the most variable genes in our dataset since that will allow us to perform clustering on our samples. Genes that are not highly variable don't provide much helpful information for us when grouping our samples.\n",
    "\n",
    "We'll want to work with just the rlog transformed counts, so first, how do we get our rlog transformed counts?"
   ]
  },
  {
   "cell_type": "code",
   "execution_count": 77,
   "id": "db150e54-3d19-4b77-82e7-c27944e4341a",
   "metadata": {},
   "outputs": [],
   "source": [
    "rld.values <- assay(rld)"
   ]
  },
  {
   "cell_type": "markdown",
   "id": "f358b3c2-513e-4ad5-b8b3-bc6bdac41806",
   "metadata": {},
   "source": [
    "Once we have our rlog transformed counts, what should we do next?"
   ]
  },
  {
   "cell_type": "code",
   "execution_count": 78,
   "id": "4d3ead4d-bc4b-4fca-948f-4f01a4083e28",
   "metadata": {},
   "outputs": [],
   "source": [
    "rld.var.sort <- rld.values[order(rowVars(rld.values), decreasing = TRUE),]"
   ]
  },
  {
   "cell_type": "code",
   "execution_count": 79,
   "id": "dd0321d4-b30a-4278-aeea-65f046647488",
   "metadata": {},
   "outputs": [],
   "source": [
    "top500.var.rld <- head(rld.var.sort, 500)"
   ]
  },
  {
   "cell_type": "markdown",
   "id": "00573666-a204-4f3f-b1ef-989131fc716a",
   "metadata": {},
   "source": [
    "<h1>Perform a principal component analysis</h1>"
   ]
  },
  {
   "cell_type": "markdown",
   "id": "96b62fe1-653f-47bb-802d-17657d7c3c53",
   "metadata": {},
   "source": [
    "With our top 500 genes that have the highest variance, we can perform a principal component analysis. We'll use the mixOmics package's <code>pca()</code> function to calculate the proportion of explained variance for the first 10 principal components. Then we'll use ggplot2 to generate a biplot, where we plot principal component 1 against principal component 2 and visualize how the clusters separate out from one another.\n",
    "\n",
    "<a href=\"https://www.bioconductor.org/packages/release/bioc/manuals/mixOmics/man/mixOmics.pdf\" rel=\"noopener noreferrer\" target=\"_blank\"><u>Documentation for mixOmics, including <code>pca()</code> is here.</u></a>\n",
    "\n",
    "```\n",
    "pca.out <- mixOmics::pca(t(top500.var.rld), ncomp=10)\n",
    "```\n",
    "\n",
    "Let's break down this line of code:\n",
    "\n",
    "<code>pca.out</code>\n",
    "\n",
    "This is the variable to which we will assign our PCA results.\n",
    "\n",
    "<hr style=\"border: 1px solid; border-color: #AAAAAA;\"></hr>\n",
    "\n",
    "<code>&lt;-<code>\n",
    "\n",
    "This is our assignment operator.\n",
    "\n",
    "<hr style=\"border: 1px solid; border-color: #AAAAAA;\"></hr>\n",
    "\n",
    "<code>mixOmics::</code>\n",
    "\n",
    "We're calling up a function of the mixOmics package.\n",
    "\n",
    "<hr style=\"border: 1px solid; border-color: #AAAAAA;\"></hr>\n",
    "\n",
    "<code>pca()</code>\n",
    "\n",
    "Specifically, the function that we're calling up is the <code>pca()</code> function.\n",
    "\n",
    "<hr style=\"border: 1px solid; border-color: #AAAAAA;\"></hr>\n",
    "\n",
    "<code>t(top500.var.rld)</code>\n",
    "\n",
    "This argument consists of two parts. The first part is the <code>t()</code> function, which transposes our dataset, much like how we can transpose a pandas DataFrame. Since the <code>pca()</code> function uses the rows to determine clustering, we need to transpose our dataset. The second part is <code>top500.var.rld</code>, which is the dataframe containing our rlog transformed counts. This will be transposed by the <code>t()</code> function, and then passed to the <code>pca()</code> function.\n",
    "\n",
    "<hr style=\"border: 1px solid; border-color: #AAAAAA;\"></hr>\n",
    "\n",
    "<code>ncomp = 10</code>\n",
    "\n",
    "This argument specifies the number of principal components that we will be calculating. We'll calculate ten principal components."
   ]
  },
  {
   "cell_type": "code",
   "execution_count": 80,
   "id": "89e8bb3a-e4c3-437d-923f-b258776f6e92",
   "metadata": {},
   "outputs": [],
   "source": [
    "pca.out <- mixOmics::pca(t(top500.var.rld), ncomp=10)"
   ]
  },
  {
   "cell_type": "markdown",
   "id": "78253262-3d1a-4d2a-842c-0596db0815d7",
   "metadata": {},
   "source": [
    "Let's take a look at whats contained in our PCA results."
   ]
  },
  {
   "cell_type": "code",
   "execution_count": 81,
   "id": "af4fda78-0875-45be-a861-a181be36400f",
   "metadata": {},
   "outputs": [
    {
     "data": {
      "text/plain": [
       "  Eigenvalues for the first 10 principal components, see object$sdev^2: \n",
       "       PC1        PC2        PC3        PC4        PC5        PC6        PC7 \n",
       "95.6773423  7.0375414  2.2052331  1.5623962  1.2383229  1.1239857  1.0131273 \n",
       "       PC8        PC9       PC10 \n",
       " 0.9822884  0.7873571  0.7515937 \n",
       "  \n",
       "  Proportion of  explained variance for the first 10 principal components, see object$prop_expl_var: \n",
       "        PC1              PC2              PC3              PC4      \n",
       "0.828967231      0.060974637      0.019106571      0.013536907      \n",
       "        PC5              PC6              PC7              PC8      \n",
       "0.010729072      0.009738433      0.008777934      0.008510739      \n",
       "        PC9             PC10      \n",
       "0.006821816      0.006511955      \n",
       "  \n",
       "  Cumulative proportion of  explained variance for the first 10 principal components, see object$cum.var: \n",
       "      PC1            PC2            PC3            PC4            PC5      \n",
       "0.8289672      0.8899419      0.9090484      0.9225853      0.9333144      \n",
       "      PC6            PC7            PC8            PC9           PC10      \n",
       "0.9430529      0.9518308      0.9603415      0.9671633      0.9736753      \n",
       "  \n",
       "  Other available components: \n",
       " -------------------- \n",
       "  loading vectors: see object$rotation \n",
       "  Other functions: \n",
       " -------------------- \n",
       "  plotIndiv, plot, plotVar, selectVar, biplot"
      ]
     },
     "metadata": {},
     "output_type": "display_data"
    }
   ],
   "source": [
    "pca.out"
   ]
  },
  {
   "cell_type": "markdown",
   "id": "5acc32b5-9879-4854-a10f-f4409ad818fb",
   "metadata": {},
   "source": [
    "<h1>Guided Exercise: Set up to plot a biplot</h1>"
   ]
  },
  {
   "cell_type": "markdown",
   "id": "fb040ba4-95dd-4c45-ae55-739d8709e662",
   "metadata": {},
   "source": [
    "With the results from our principal component analysis, we can begin setting up a biplot, where we plot the first principal component (PC1) against the second one (PC2).\n",
    "\n",
    "Since PC1 and PC2 together explain the large proportion of the variance in our dataset, we should be able to see samples cluster away from each other. \n",
    "\n",
    "And if we plot other principal components, we wouldn't expect such obvious clustering."
   ]
  },
  {
   "cell_type": "markdown",
   "id": "3fb4d02e-bed2-4ab4-a693-399cdb7899aa",
   "metadata": {},
   "source": [
    "<h2>Pull proportion of explained variance into a new dataframe</h2>"
   ]
  },
  {
   "cell_type": "markdown",
   "id": "d8ad1885-617b-4b06-8baf-6a988868f0d7",
   "metadata": {},
   "source": [
    "To make plotting a little bit simpler, we'll create a new dataframe containing just the proportion of explained variance. So when we want to pull these values to label our axes, we can simply use a similar notation to the one we used in Python.\n",
    "\n",
    "So first, we'll create the dataframe:\n",
    "\n",
    "```\n",
    "pro.var.expl <- as.data.frame(pca.out$prop_expl_var)\n",
    "```\n",
    "\n",
    "Breaking down this line of code, we get:\n",
    "\n",
    "<code>pro.var.expl</code>\n",
    "\n",
    "This is our variable that will point to our new dataframe.\n",
    "\n",
    "<hr style=\"border: 1px solid; border-color: #AAAAAA;\"></hr>\n",
    "\n",
    "<code>&lt;-</code>\n",
    "\n",
    "This is our assignment operator.\n",
    "\n",
    "<hr style=\"border: 1px solid; border-color: #AAAAAA;\"></hr>\n",
    "\n",
    "<code>as.data.frame()</code>\n",
    "\n",
    "This converts an object into a data frame. Conceptually, it's similar to <code>pd.DataFrame()</code> that we're familiar with in Python. \n",
    "\n",
    "<hr style=\"border: 1px solid; border-color: #AAAAAA;\"></hr>\n",
    "\n",
    "<code>pca.out</code>\n",
    "\n",
    "This is the variable to which we previously assigned our PCA results. <a href=\"https://www.bioconductor.org/packages/release/bioc/manuals/mixOmics/man/mixOmics.pdf\" rel=\"noopener noreferrer\" target=\"_blank\"><u>If we dig into the documentation</u></a>, we can see that the output of mixOmics' <code>pca()</code> function is a <code>pca</code> class object that contains different information that we can pull out.\n",
    "\n",
    "<hr style=\"border: 1px solid; border-color: #AAAAAA;\"></hr>\n",
    "\n",
    "<code>$</code>\n",
    "\n",
    "This is an operator in R that allows us to pull out values out of an object, such as a matrix, or in this case a <code>pca</code> class object. \n",
    "\n",
    "<hr style=\"border: 1px solid; border-color: #AAAAAA;\"></hr>\n",
    "\n",
    "<code>prop_expl_var</code>\n",
    "\n",
    "We're pulling out a list of values from our variable <code>pca.out</code>, and we're specifically pulling out the proportion of explained variance, which has the value <code>prop_expl_var</code>. \n",
    "\n",
    "So with this line of code, we'll have a dataframe that contains the calculated proportion of explained variance for our ten principal components."
   ]
  },
  {
   "cell_type": "code",
   "execution_count": 82,
   "id": "0fc2b4df-7f7e-4fc5-b894-477bec8c4cf4",
   "metadata": {},
   "outputs": [],
   "source": [
    "pro.var.expl <- as.data.frame(pca.out$prop_expl_var)"
   ]
  },
  {
   "cell_type": "markdown",
   "id": "43fa2af1-6cd7-4d7c-8c8a-1aad91c1f27d",
   "metadata": {},
   "source": [
    "Let's take a quick look at the dataframe."
   ]
  },
  {
   "cell_type": "code",
   "execution_count": 83,
   "id": "ca2f4be5-560c-4984-ac99-64afc048cef7",
   "metadata": {},
   "outputs": [
    {
     "data": {
      "text/html": [
       "<table class=\"dataframe\">\n",
       "<caption>A data.frame: 10 × 1</caption>\n",
       "<thead>\n",
       "\t<tr><th></th><th scope=col>X</th></tr>\n",
       "\t<tr><th></th><th scope=col>&lt;dbl&gt;</th></tr>\n",
       "</thead>\n",
       "<tbody>\n",
       "\t<tr><th scope=row>PC1</th><td>0.828967231</td></tr>\n",
       "\t<tr><th scope=row>PC2</th><td>0.060974637</td></tr>\n",
       "\t<tr><th scope=row>PC3</th><td>0.019106571</td></tr>\n",
       "\t<tr><th scope=row>PC4</th><td>0.013536907</td></tr>\n",
       "\t<tr><th scope=row>PC5</th><td>0.010729072</td></tr>\n",
       "\t<tr><th scope=row>PC6</th><td>0.009738433</td></tr>\n",
       "\t<tr><th scope=row>PC7</th><td>0.008777934</td></tr>\n",
       "\t<tr><th scope=row>PC8</th><td>0.008510739</td></tr>\n",
       "\t<tr><th scope=row>PC9</th><td>0.006821816</td></tr>\n",
       "\t<tr><th scope=row>PC10</th><td>0.006511955</td></tr>\n",
       "</tbody>\n",
       "</table>\n"
      ],
      "text/latex": [
       "A data.frame: 10 × 1\n",
       "\\begin{tabular}{r|l}\n",
       "  & X\\\\\n",
       "  & <dbl>\\\\\n",
       "\\hline\n",
       "\tPC1 & 0.828967231\\\\\n",
       "\tPC2 & 0.060974637\\\\\n",
       "\tPC3 & 0.019106571\\\\\n",
       "\tPC4 & 0.013536907\\\\\n",
       "\tPC5 & 0.010729072\\\\\n",
       "\tPC6 & 0.009738433\\\\\n",
       "\tPC7 & 0.008777934\\\\\n",
       "\tPC8 & 0.008510739\\\\\n",
       "\tPC9 & 0.006821816\\\\\n",
       "\tPC10 & 0.006511955\\\\\n",
       "\\end{tabular}\n"
      ],
      "text/markdown": [
       "\n",
       "A data.frame: 10 × 1\n",
       "\n",
       "| <!--/--> | X &lt;dbl&gt; |\n",
       "|---|---|\n",
       "| PC1 | 0.828967231 |\n",
       "| PC2 | 0.060974637 |\n",
       "| PC3 | 0.019106571 |\n",
       "| PC4 | 0.013536907 |\n",
       "| PC5 | 0.010729072 |\n",
       "| PC6 | 0.009738433 |\n",
       "| PC7 | 0.008777934 |\n",
       "| PC8 | 0.008510739 |\n",
       "| PC9 | 0.006821816 |\n",
       "| PC10 | 0.006511955 |\n",
       "\n"
      ],
      "text/plain": [
       "     X          \n",
       "PC1  0.828967231\n",
       "PC2  0.060974637\n",
       "PC3  0.019106571\n",
       "PC4  0.013536907\n",
       "PC5  0.010729072\n",
       "PC6  0.009738433\n",
       "PC7  0.008777934\n",
       "PC8  0.008510739\n",
       "PC9  0.006821816\n",
       "PC10 0.006511955"
      ]
     },
     "metadata": {},
     "output_type": "display_data"
    }
   ],
   "source": [
    "pro.var.expl"
   ]
  },
  {
   "cell_type": "markdown",
   "id": "8607e7dc-8d41-4455-8e62-1bf0963eddae",
   "metadata": {},
   "source": [
    "<h2>Pull coordinate values for each sample's principal components</h2>"
   ]
  },
  {
   "cell_type": "markdown",
   "id": "39b322e8-c90e-4310-9e14-3a830a87c492",
   "metadata": {},
   "source": [
    "We can pull out the coordinate information for each of our samples from our <code>pca.out</code> object and use that information to generate a biplot. <a href=\"https://www.bioconductor.org/packages/release/bioc/manuals/mixOmics/man/mixOmics.pdf\" rel=\"noopener noreferrer\" target=\"_blank\"><u>If we dig into the documentation for mixOmics' <code>pca()</code> function</u></a>, we can see that among the things that we can pull from the output, one of them is the <code>variates</code>, which contains the coordinate information for each sample when it's projected on each principal component. Recall from Dr. Ingolia's lecture that principal component analysis is one way of reducing the dimensionality of a dataset while still preserving the information of the original dataset.\n",
    "\n",
    "So to pull out the coordinate information:\n",
    "\n",
    "```\n",
    "pca.coord <- pca.out$variates\n",
    "```"
   ]
  },
  {
   "cell_type": "code",
   "execution_count": 84,
   "id": "c42dddae-3152-42a5-b89f-e6a5dad2ab2a",
   "metadata": {},
   "outputs": [],
   "source": [
    "pca.coord <- pca.out$variates"
   ]
  },
  {
   "cell_type": "markdown",
   "id": "f2f79c27-815e-43e3-8742-c420321d1761",
   "metadata": {},
   "source": [
    "Let's take a look at the object:"
   ]
  },
  {
   "cell_type": "code",
   "execution_count": 85,
   "id": "c5a5ed81-f0f6-4efe-89d4-7fb846e4a124",
   "metadata": {},
   "outputs": [
    {
     "data": {
      "text/html": [
       "<strong>$X</strong> = <table class=\"dataframe\">\n",
       "<caption>A matrix: 16 × 10 of type dbl</caption>\n",
       "<thead>\n",
       "\t<tr><th></th><th scope=col>PC1</th><th scope=col>PC2</th><th scope=col>PC3</th><th scope=col>PC4</th><th scope=col>PC5</th><th scope=col>PC6</th><th scope=col>PC7</th><th scope=col>PC8</th><th scope=col>PC9</th><th scope=col>PC10</th></tr>\n",
       "</thead>\n",
       "<tbody>\n",
       "\t<tr><th scope=row>1M_g1_control</th><td>-14.182332</td><td>-2.67080238</td><td> 0.04984504</td><td>-0.8742303</td><td>-0.6232536</td><td> 0.05740141</td><td>-0.711873405</td><td> 0.90011998</td><td> 0.41219672</td><td>-1.445429854</td></tr>\n",
       "\t<tr><th scope=row>1M_g1_tazko</th><td>  9.131666</td><td>-1.04357915</td><td>-0.64398472</td><td> 0.8369952</td><td>-1.3693701</td><td> 1.86377093</td><td> 0.363358144</td><td> 0.95289639</td><td> 0.93620166</td><td> 1.760705998</td></tr>\n",
       "\t<tr><th scope=row>1M_g2_control</th><td>-14.124022</td><td>-2.52718416</td><td> 1.12720263</td><td>-0.5920668</td><td>-1.5408791</td><td>-0.77569742</td><td> 0.494431379</td><td> 0.85456617</td><td> 0.71368239</td><td> 0.251326473</td></tr>\n",
       "\t<tr><th scope=row>1M_g2_tazko</th><td>  9.245397</td><td>-1.40512842</td><td> 0.14303933</td><td> 1.9581032</td><td>-0.7282176</td><td>-0.34936158</td><td>-0.793147521</td><td>-0.13801971</td><td> 0.09508105</td><td>-0.659839047</td></tr>\n",
       "\t<tr><th scope=row>1M_g3_control</th><td>-10.180357</td><td>-0.07246890</td><td>-0.10090396</td><td> 1.4771638</td><td> 1.2135960</td><td> 1.01042236</td><td>-0.516621002</td><td>-0.02443973</td><td>-0.01262746</td><td> 0.006768248</td></tr>\n",
       "\t<tr><th scope=row>1M_g3_tazko</th><td>  9.318155</td><td>-1.52065995</td><td>-2.27432509</td><td>-0.3501834</td><td> 1.1454613</td><td> 0.28535546</td><td>-0.897662445</td><td> 1.85407519</td><td>-1.31125512</td><td>-0.208878368</td></tr>\n",
       "\t<tr><th scope=row>1M_g4_control</th><td> -8.773776</td><td> 0.35217129</td><td>-0.18436386</td><td> 1.1962005</td><td> 2.0429465</td><td> 0.44011882</td><td> 2.385595270</td><td>-0.07578801</td><td> 0.61720221</td><td>-0.219259469</td></tr>\n",
       "\t<tr><th scope=row>1M_g4_tazko</th><td>  9.272750</td><td>-1.67579780</td><td>-2.17594357</td><td>-0.7073819</td><td> 0.3105435</td><td>-1.70835192</td><td>-0.002372558</td><td>-1.47349801</td><td> 1.27785897</td><td> 0.551035758</td></tr>\n",
       "\t<tr><th scope=row>1M_g5_control</th><td>-10.906855</td><td>-1.10815295</td><td>-0.77875485</td><td>-0.2644528</td><td> 0.1374340</td><td>-1.15324724</td><td>-0.726049355</td><td>-0.73363784</td><td>-0.60882289</td><td> 1.090953149</td></tr>\n",
       "\t<tr><th scope=row>1M_g5_tazko</th><td>  9.304937</td><td>-1.44582958</td><td>-0.83275335</td><td> 0.5887307</td><td>-0.5715043</td><td>-0.41892738</td><td> 1.275711777</td><td>-0.59532529</td><td>-0.63384829</td><td>-1.463242799</td></tr>\n",
       "\t<tr><th scope=row>1M_g6_control</th><td> -9.807342</td><td> 0.08835773</td><td> 0.01981668</td><td>-0.1669119</td><td>-0.1039191</td><td> 1.02276257</td><td>-0.493830909</td><td>-1.65679847</td><td>-1.54240528</td><td> 0.729249487</td></tr>\n",
       "\t<tr><th scope=row>1M_g6_tazko</th><td>  8.174292</td><td> 0.30621756</td><td> 2.46050516</td><td>-0.1757735</td><td> 0.8744916</td><td> 1.00727379</td><td>-1.642648306</td><td>-1.01438538</td><td> 1.17593443</td><td>-0.635604021</td></tr>\n",
       "\t<tr><th scope=row>1M_g7_control</th><td> -1.531013</td><td> 6.57982131</td><td> 0.62716875</td><td> 1.8711803</td><td>-0.4456760</td><td>-1.75064369</td><td>-0.509009559</td><td> 0.84474709</td><td>-0.11126877</td><td> 0.212807821</td></tr>\n",
       "\t<tr><th scope=row>1M_g7_tazko</th><td>  8.145549</td><td>-0.05997070</td><td> 2.39781952</td><td>-2.0127983</td><td> 1.6706278</td><td>-0.82289087</td><td> 0.415151309</td><td> 0.98447551</td><td>-0.20627388</td><td> 0.702310413</td></tr>\n",
       "\t<tr><th scope=row>1M_g8_control</th><td> -1.598493</td><td> 6.08257351</td><td>-1.90562311</td><td>-2.2993625</td><td>-0.6772421</td><td> 1.03450460</td><td> 0.195118998</td><td>-0.15010594</td><td> 0.49406388</td><td>-0.618078506</td></tr>\n",
       "\t<tr><th scope=row>1M_g8_tazko</th><td>  8.511445</td><td> 0.12043262</td><td> 2.07125539</td><td>-0.4852123</td><td>-1.3350389</td><td> 0.25751014</td><td> 1.163848183</td><td>-0.52888196</td><td>-1.29571962</td><td>-0.054825284</td></tr>\n",
       "</tbody>\n",
       "</table>\n"
      ],
      "text/latex": [
       "\\textbf{\\$X} = A matrix: 16 × 10 of type dbl\n",
       "\\begin{tabular}{r|llllllllll}\n",
       "  & PC1 & PC2 & PC3 & PC4 & PC5 & PC6 & PC7 & PC8 & PC9 & PC10\\\\\n",
       "\\hline\n",
       "\t1M\\_g1\\_control & -14.182332 & -2.67080238 &  0.04984504 & -0.8742303 & -0.6232536 &  0.05740141 & -0.711873405 &  0.90011998 &  0.41219672 & -1.445429854\\\\\n",
       "\t1M\\_g1\\_tazko &   9.131666 & -1.04357915 & -0.64398472 &  0.8369952 & -1.3693701 &  1.86377093 &  0.363358144 &  0.95289639 &  0.93620166 &  1.760705998\\\\\n",
       "\t1M\\_g2\\_control & -14.124022 & -2.52718416 &  1.12720263 & -0.5920668 & -1.5408791 & -0.77569742 &  0.494431379 &  0.85456617 &  0.71368239 &  0.251326473\\\\\n",
       "\t1M\\_g2\\_tazko &   9.245397 & -1.40512842 &  0.14303933 &  1.9581032 & -0.7282176 & -0.34936158 & -0.793147521 & -0.13801971 &  0.09508105 & -0.659839047\\\\\n",
       "\t1M\\_g3\\_control & -10.180357 & -0.07246890 & -0.10090396 &  1.4771638 &  1.2135960 &  1.01042236 & -0.516621002 & -0.02443973 & -0.01262746 &  0.006768248\\\\\n",
       "\t1M\\_g3\\_tazko &   9.318155 & -1.52065995 & -2.27432509 & -0.3501834 &  1.1454613 &  0.28535546 & -0.897662445 &  1.85407519 & -1.31125512 & -0.208878368\\\\\n",
       "\t1M\\_g4\\_control &  -8.773776 &  0.35217129 & -0.18436386 &  1.1962005 &  2.0429465 &  0.44011882 &  2.385595270 & -0.07578801 &  0.61720221 & -0.219259469\\\\\n",
       "\t1M\\_g4\\_tazko &   9.272750 & -1.67579780 & -2.17594357 & -0.7073819 &  0.3105435 & -1.70835192 & -0.002372558 & -1.47349801 &  1.27785897 &  0.551035758\\\\\n",
       "\t1M\\_g5\\_control & -10.906855 & -1.10815295 & -0.77875485 & -0.2644528 &  0.1374340 & -1.15324724 & -0.726049355 & -0.73363784 & -0.60882289 &  1.090953149\\\\\n",
       "\t1M\\_g5\\_tazko &   9.304937 & -1.44582958 & -0.83275335 &  0.5887307 & -0.5715043 & -0.41892738 &  1.275711777 & -0.59532529 & -0.63384829 & -1.463242799\\\\\n",
       "\t1M\\_g6\\_control &  -9.807342 &  0.08835773 &  0.01981668 & -0.1669119 & -0.1039191 &  1.02276257 & -0.493830909 & -1.65679847 & -1.54240528 &  0.729249487\\\\\n",
       "\t1M\\_g6\\_tazko &   8.174292 &  0.30621756 &  2.46050516 & -0.1757735 &  0.8744916 &  1.00727379 & -1.642648306 & -1.01438538 &  1.17593443 & -0.635604021\\\\\n",
       "\t1M\\_g7\\_control &  -1.531013 &  6.57982131 &  0.62716875 &  1.8711803 & -0.4456760 & -1.75064369 & -0.509009559 &  0.84474709 & -0.11126877 &  0.212807821\\\\\n",
       "\t1M\\_g7\\_tazko &   8.145549 & -0.05997070 &  2.39781952 & -2.0127983 &  1.6706278 & -0.82289087 &  0.415151309 &  0.98447551 & -0.20627388 &  0.702310413\\\\\n",
       "\t1M\\_g8\\_control &  -1.598493 &  6.08257351 & -1.90562311 & -2.2993625 & -0.6772421 &  1.03450460 &  0.195118998 & -0.15010594 &  0.49406388 & -0.618078506\\\\\n",
       "\t1M\\_g8\\_tazko &   8.511445 &  0.12043262 &  2.07125539 & -0.4852123 & -1.3350389 &  0.25751014 &  1.163848183 & -0.52888196 & -1.29571962 & -0.054825284\\\\\n",
       "\\end{tabular}\n"
      ],
      "text/markdown": [
       "**$X** = \n",
       "A matrix: 16 × 10 of type dbl\n",
       "\n",
       "| <!--/--> | PC1 | PC2 | PC3 | PC4 | PC5 | PC6 | PC7 | PC8 | PC9 | PC10 |\n",
       "|---|---|---|---|---|---|---|---|---|---|---|\n",
       "| 1M_g1_control | -14.182332 | -2.67080238 |  0.04984504 | -0.8742303 | -0.6232536 |  0.05740141 | -0.711873405 |  0.90011998 |  0.41219672 | -1.445429854 |\n",
       "| 1M_g1_tazko |   9.131666 | -1.04357915 | -0.64398472 |  0.8369952 | -1.3693701 |  1.86377093 |  0.363358144 |  0.95289639 |  0.93620166 |  1.760705998 |\n",
       "| 1M_g2_control | -14.124022 | -2.52718416 |  1.12720263 | -0.5920668 | -1.5408791 | -0.77569742 |  0.494431379 |  0.85456617 |  0.71368239 |  0.251326473 |\n",
       "| 1M_g2_tazko |   9.245397 | -1.40512842 |  0.14303933 |  1.9581032 | -0.7282176 | -0.34936158 | -0.793147521 | -0.13801971 |  0.09508105 | -0.659839047 |\n",
       "| 1M_g3_control | -10.180357 | -0.07246890 | -0.10090396 |  1.4771638 |  1.2135960 |  1.01042236 | -0.516621002 | -0.02443973 | -0.01262746 |  0.006768248 |\n",
       "| 1M_g3_tazko |   9.318155 | -1.52065995 | -2.27432509 | -0.3501834 |  1.1454613 |  0.28535546 | -0.897662445 |  1.85407519 | -1.31125512 | -0.208878368 |\n",
       "| 1M_g4_control |  -8.773776 |  0.35217129 | -0.18436386 |  1.1962005 |  2.0429465 |  0.44011882 |  2.385595270 | -0.07578801 |  0.61720221 | -0.219259469 |\n",
       "| 1M_g4_tazko |   9.272750 | -1.67579780 | -2.17594357 | -0.7073819 |  0.3105435 | -1.70835192 | -0.002372558 | -1.47349801 |  1.27785897 |  0.551035758 |\n",
       "| 1M_g5_control | -10.906855 | -1.10815295 | -0.77875485 | -0.2644528 |  0.1374340 | -1.15324724 | -0.726049355 | -0.73363784 | -0.60882289 |  1.090953149 |\n",
       "| 1M_g5_tazko |   9.304937 | -1.44582958 | -0.83275335 |  0.5887307 | -0.5715043 | -0.41892738 |  1.275711777 | -0.59532529 | -0.63384829 | -1.463242799 |\n",
       "| 1M_g6_control |  -9.807342 |  0.08835773 |  0.01981668 | -0.1669119 | -0.1039191 |  1.02276257 | -0.493830909 | -1.65679847 | -1.54240528 |  0.729249487 |\n",
       "| 1M_g6_tazko |   8.174292 |  0.30621756 |  2.46050516 | -0.1757735 |  0.8744916 |  1.00727379 | -1.642648306 | -1.01438538 |  1.17593443 | -0.635604021 |\n",
       "| 1M_g7_control |  -1.531013 |  6.57982131 |  0.62716875 |  1.8711803 | -0.4456760 | -1.75064369 | -0.509009559 |  0.84474709 | -0.11126877 |  0.212807821 |\n",
       "| 1M_g7_tazko |   8.145549 | -0.05997070 |  2.39781952 | -2.0127983 |  1.6706278 | -0.82289087 |  0.415151309 |  0.98447551 | -0.20627388 |  0.702310413 |\n",
       "| 1M_g8_control |  -1.598493 |  6.08257351 | -1.90562311 | -2.2993625 | -0.6772421 |  1.03450460 |  0.195118998 | -0.15010594 |  0.49406388 | -0.618078506 |\n",
       "| 1M_g8_tazko |   8.511445 |  0.12043262 |  2.07125539 | -0.4852123 | -1.3350389 |  0.25751014 |  1.163848183 | -0.52888196 | -1.29571962 | -0.054825284 |\n",
       "\n"
      ],
      "text/plain": [
       "$X\n",
       "                     PC1         PC2         PC3        PC4        PC5\n",
       "1M_g1_control -14.182332 -2.67080238  0.04984504 -0.8742303 -0.6232536\n",
       "1M_g1_tazko     9.131666 -1.04357915 -0.64398472  0.8369952 -1.3693701\n",
       "1M_g2_control -14.124022 -2.52718416  1.12720263 -0.5920668 -1.5408791\n",
       "1M_g2_tazko     9.245397 -1.40512842  0.14303933  1.9581032 -0.7282176\n",
       "1M_g3_control -10.180357 -0.07246890 -0.10090396  1.4771638  1.2135960\n",
       "1M_g3_tazko     9.318155 -1.52065995 -2.27432509 -0.3501834  1.1454613\n",
       "1M_g4_control  -8.773776  0.35217129 -0.18436386  1.1962005  2.0429465\n",
       "1M_g4_tazko     9.272750 -1.67579780 -2.17594357 -0.7073819  0.3105435\n",
       "1M_g5_control -10.906855 -1.10815295 -0.77875485 -0.2644528  0.1374340\n",
       "1M_g5_tazko     9.304937 -1.44582958 -0.83275335  0.5887307 -0.5715043\n",
       "1M_g6_control  -9.807342  0.08835773  0.01981668 -0.1669119 -0.1039191\n",
       "1M_g6_tazko     8.174292  0.30621756  2.46050516 -0.1757735  0.8744916\n",
       "1M_g7_control  -1.531013  6.57982131  0.62716875  1.8711803 -0.4456760\n",
       "1M_g7_tazko     8.145549 -0.05997070  2.39781952 -2.0127983  1.6706278\n",
       "1M_g8_control  -1.598493  6.08257351 -1.90562311 -2.2993625 -0.6772421\n",
       "1M_g8_tazko     8.511445  0.12043262  2.07125539 -0.4852123 -1.3350389\n",
       "                      PC6          PC7         PC8         PC9         PC10\n",
       "1M_g1_control  0.05740141 -0.711873405  0.90011998  0.41219672 -1.445429854\n",
       "1M_g1_tazko    1.86377093  0.363358144  0.95289639  0.93620166  1.760705998\n",
       "1M_g2_control -0.77569742  0.494431379  0.85456617  0.71368239  0.251326473\n",
       "1M_g2_tazko   -0.34936158 -0.793147521 -0.13801971  0.09508105 -0.659839047\n",
       "1M_g3_control  1.01042236 -0.516621002 -0.02443973 -0.01262746  0.006768248\n",
       "1M_g3_tazko    0.28535546 -0.897662445  1.85407519 -1.31125512 -0.208878368\n",
       "1M_g4_control  0.44011882  2.385595270 -0.07578801  0.61720221 -0.219259469\n",
       "1M_g4_tazko   -1.70835192 -0.002372558 -1.47349801  1.27785897  0.551035758\n",
       "1M_g5_control -1.15324724 -0.726049355 -0.73363784 -0.60882289  1.090953149\n",
       "1M_g5_tazko   -0.41892738  1.275711777 -0.59532529 -0.63384829 -1.463242799\n",
       "1M_g6_control  1.02276257 -0.493830909 -1.65679847 -1.54240528  0.729249487\n",
       "1M_g6_tazko    1.00727379 -1.642648306 -1.01438538  1.17593443 -0.635604021\n",
       "1M_g7_control -1.75064369 -0.509009559  0.84474709 -0.11126877  0.212807821\n",
       "1M_g7_tazko   -0.82289087  0.415151309  0.98447551 -0.20627388  0.702310413\n",
       "1M_g8_control  1.03450460  0.195118998 -0.15010594  0.49406388 -0.618078506\n",
       "1M_g8_tazko    0.25751014  1.163848183 -0.52888196 -1.29571962 -0.054825284\n"
      ]
     },
     "metadata": {},
     "output_type": "display_data"
    }
   ],
   "source": [
    "pca.coord"
   ]
  },
  {
   "cell_type": "markdown",
   "id": "899a9444-1bc6-478f-bc1f-13e4461c1278",
   "metadata": {},
   "source": [
    "We can then pull out the matrix contained within the list <code>X</code> to use to create our dataframe:\n",
    "\n",
    "```\n",
    "pca.coord <- pca.coord$X\n",
    "```"
   ]
  },
  {
   "cell_type": "code",
   "execution_count": 86,
   "id": "f620b05a-6dcc-441c-819a-55a4adc04b09",
   "metadata": {},
   "outputs": [],
   "source": [
    "pca.coord <- pca.coord$X"
   ]
  },
  {
   "cell_type": "code",
   "execution_count": 87,
   "id": "5f4321d7-3a38-451a-9098-e8a318219035",
   "metadata": {},
   "outputs": [
    {
     "data": {
      "text/html": [
       "<table class=\"dataframe\">\n",
       "<caption>A matrix: 16 × 10 of type dbl</caption>\n",
       "<thead>\n",
       "\t<tr><th></th><th scope=col>PC1</th><th scope=col>PC2</th><th scope=col>PC3</th><th scope=col>PC4</th><th scope=col>PC5</th><th scope=col>PC6</th><th scope=col>PC7</th><th scope=col>PC8</th><th scope=col>PC9</th><th scope=col>PC10</th></tr>\n",
       "</thead>\n",
       "<tbody>\n",
       "\t<tr><th scope=row>1M_g1_control</th><td>-14.182332</td><td>-2.67080238</td><td> 0.04984504</td><td>-0.8742303</td><td>-0.6232536</td><td> 0.05740141</td><td>-0.711873405</td><td> 0.90011998</td><td> 0.41219672</td><td>-1.445429854</td></tr>\n",
       "\t<tr><th scope=row>1M_g1_tazko</th><td>  9.131666</td><td>-1.04357915</td><td>-0.64398472</td><td> 0.8369952</td><td>-1.3693701</td><td> 1.86377093</td><td> 0.363358144</td><td> 0.95289639</td><td> 0.93620166</td><td> 1.760705998</td></tr>\n",
       "\t<tr><th scope=row>1M_g2_control</th><td>-14.124022</td><td>-2.52718416</td><td> 1.12720263</td><td>-0.5920668</td><td>-1.5408791</td><td>-0.77569742</td><td> 0.494431379</td><td> 0.85456617</td><td> 0.71368239</td><td> 0.251326473</td></tr>\n",
       "\t<tr><th scope=row>1M_g2_tazko</th><td>  9.245397</td><td>-1.40512842</td><td> 0.14303933</td><td> 1.9581032</td><td>-0.7282176</td><td>-0.34936158</td><td>-0.793147521</td><td>-0.13801971</td><td> 0.09508105</td><td>-0.659839047</td></tr>\n",
       "\t<tr><th scope=row>1M_g3_control</th><td>-10.180357</td><td>-0.07246890</td><td>-0.10090396</td><td> 1.4771638</td><td> 1.2135960</td><td> 1.01042236</td><td>-0.516621002</td><td>-0.02443973</td><td>-0.01262746</td><td> 0.006768248</td></tr>\n",
       "\t<tr><th scope=row>1M_g3_tazko</th><td>  9.318155</td><td>-1.52065995</td><td>-2.27432509</td><td>-0.3501834</td><td> 1.1454613</td><td> 0.28535546</td><td>-0.897662445</td><td> 1.85407519</td><td>-1.31125512</td><td>-0.208878368</td></tr>\n",
       "\t<tr><th scope=row>1M_g4_control</th><td> -8.773776</td><td> 0.35217129</td><td>-0.18436386</td><td> 1.1962005</td><td> 2.0429465</td><td> 0.44011882</td><td> 2.385595270</td><td>-0.07578801</td><td> 0.61720221</td><td>-0.219259469</td></tr>\n",
       "\t<tr><th scope=row>1M_g4_tazko</th><td>  9.272750</td><td>-1.67579780</td><td>-2.17594357</td><td>-0.7073819</td><td> 0.3105435</td><td>-1.70835192</td><td>-0.002372558</td><td>-1.47349801</td><td> 1.27785897</td><td> 0.551035758</td></tr>\n",
       "\t<tr><th scope=row>1M_g5_control</th><td>-10.906855</td><td>-1.10815295</td><td>-0.77875485</td><td>-0.2644528</td><td> 0.1374340</td><td>-1.15324724</td><td>-0.726049355</td><td>-0.73363784</td><td>-0.60882289</td><td> 1.090953149</td></tr>\n",
       "\t<tr><th scope=row>1M_g5_tazko</th><td>  9.304937</td><td>-1.44582958</td><td>-0.83275335</td><td> 0.5887307</td><td>-0.5715043</td><td>-0.41892738</td><td> 1.275711777</td><td>-0.59532529</td><td>-0.63384829</td><td>-1.463242799</td></tr>\n",
       "\t<tr><th scope=row>1M_g6_control</th><td> -9.807342</td><td> 0.08835773</td><td> 0.01981668</td><td>-0.1669119</td><td>-0.1039191</td><td> 1.02276257</td><td>-0.493830909</td><td>-1.65679847</td><td>-1.54240528</td><td> 0.729249487</td></tr>\n",
       "\t<tr><th scope=row>1M_g6_tazko</th><td>  8.174292</td><td> 0.30621756</td><td> 2.46050516</td><td>-0.1757735</td><td> 0.8744916</td><td> 1.00727379</td><td>-1.642648306</td><td>-1.01438538</td><td> 1.17593443</td><td>-0.635604021</td></tr>\n",
       "\t<tr><th scope=row>1M_g7_control</th><td> -1.531013</td><td> 6.57982131</td><td> 0.62716875</td><td> 1.8711803</td><td>-0.4456760</td><td>-1.75064369</td><td>-0.509009559</td><td> 0.84474709</td><td>-0.11126877</td><td> 0.212807821</td></tr>\n",
       "\t<tr><th scope=row>1M_g7_tazko</th><td>  8.145549</td><td>-0.05997070</td><td> 2.39781952</td><td>-2.0127983</td><td> 1.6706278</td><td>-0.82289087</td><td> 0.415151309</td><td> 0.98447551</td><td>-0.20627388</td><td> 0.702310413</td></tr>\n",
       "\t<tr><th scope=row>1M_g8_control</th><td> -1.598493</td><td> 6.08257351</td><td>-1.90562311</td><td>-2.2993625</td><td>-0.6772421</td><td> 1.03450460</td><td> 0.195118998</td><td>-0.15010594</td><td> 0.49406388</td><td>-0.618078506</td></tr>\n",
       "\t<tr><th scope=row>1M_g8_tazko</th><td>  8.511445</td><td> 0.12043262</td><td> 2.07125539</td><td>-0.4852123</td><td>-1.3350389</td><td> 0.25751014</td><td> 1.163848183</td><td>-0.52888196</td><td>-1.29571962</td><td>-0.054825284</td></tr>\n",
       "</tbody>\n",
       "</table>\n"
      ],
      "text/latex": [
       "A matrix: 16 × 10 of type dbl\n",
       "\\begin{tabular}{r|llllllllll}\n",
       "  & PC1 & PC2 & PC3 & PC4 & PC5 & PC6 & PC7 & PC8 & PC9 & PC10\\\\\n",
       "\\hline\n",
       "\t1M\\_g1\\_control & -14.182332 & -2.67080238 &  0.04984504 & -0.8742303 & -0.6232536 &  0.05740141 & -0.711873405 &  0.90011998 &  0.41219672 & -1.445429854\\\\\n",
       "\t1M\\_g1\\_tazko &   9.131666 & -1.04357915 & -0.64398472 &  0.8369952 & -1.3693701 &  1.86377093 &  0.363358144 &  0.95289639 &  0.93620166 &  1.760705998\\\\\n",
       "\t1M\\_g2\\_control & -14.124022 & -2.52718416 &  1.12720263 & -0.5920668 & -1.5408791 & -0.77569742 &  0.494431379 &  0.85456617 &  0.71368239 &  0.251326473\\\\\n",
       "\t1M\\_g2\\_tazko &   9.245397 & -1.40512842 &  0.14303933 &  1.9581032 & -0.7282176 & -0.34936158 & -0.793147521 & -0.13801971 &  0.09508105 & -0.659839047\\\\\n",
       "\t1M\\_g3\\_control & -10.180357 & -0.07246890 & -0.10090396 &  1.4771638 &  1.2135960 &  1.01042236 & -0.516621002 & -0.02443973 & -0.01262746 &  0.006768248\\\\\n",
       "\t1M\\_g3\\_tazko &   9.318155 & -1.52065995 & -2.27432509 & -0.3501834 &  1.1454613 &  0.28535546 & -0.897662445 &  1.85407519 & -1.31125512 & -0.208878368\\\\\n",
       "\t1M\\_g4\\_control &  -8.773776 &  0.35217129 & -0.18436386 &  1.1962005 &  2.0429465 &  0.44011882 &  2.385595270 & -0.07578801 &  0.61720221 & -0.219259469\\\\\n",
       "\t1M\\_g4\\_tazko &   9.272750 & -1.67579780 & -2.17594357 & -0.7073819 &  0.3105435 & -1.70835192 & -0.002372558 & -1.47349801 &  1.27785897 &  0.551035758\\\\\n",
       "\t1M\\_g5\\_control & -10.906855 & -1.10815295 & -0.77875485 & -0.2644528 &  0.1374340 & -1.15324724 & -0.726049355 & -0.73363784 & -0.60882289 &  1.090953149\\\\\n",
       "\t1M\\_g5\\_tazko &   9.304937 & -1.44582958 & -0.83275335 &  0.5887307 & -0.5715043 & -0.41892738 &  1.275711777 & -0.59532529 & -0.63384829 & -1.463242799\\\\\n",
       "\t1M\\_g6\\_control &  -9.807342 &  0.08835773 &  0.01981668 & -0.1669119 & -0.1039191 &  1.02276257 & -0.493830909 & -1.65679847 & -1.54240528 &  0.729249487\\\\\n",
       "\t1M\\_g6\\_tazko &   8.174292 &  0.30621756 &  2.46050516 & -0.1757735 &  0.8744916 &  1.00727379 & -1.642648306 & -1.01438538 &  1.17593443 & -0.635604021\\\\\n",
       "\t1M\\_g7\\_control &  -1.531013 &  6.57982131 &  0.62716875 &  1.8711803 & -0.4456760 & -1.75064369 & -0.509009559 &  0.84474709 & -0.11126877 &  0.212807821\\\\\n",
       "\t1M\\_g7\\_tazko &   8.145549 & -0.05997070 &  2.39781952 & -2.0127983 &  1.6706278 & -0.82289087 &  0.415151309 &  0.98447551 & -0.20627388 &  0.702310413\\\\\n",
       "\t1M\\_g8\\_control &  -1.598493 &  6.08257351 & -1.90562311 & -2.2993625 & -0.6772421 &  1.03450460 &  0.195118998 & -0.15010594 &  0.49406388 & -0.618078506\\\\\n",
       "\t1M\\_g8\\_tazko &   8.511445 &  0.12043262 &  2.07125539 & -0.4852123 & -1.3350389 &  0.25751014 &  1.163848183 & -0.52888196 & -1.29571962 & -0.054825284\\\\\n",
       "\\end{tabular}\n"
      ],
      "text/markdown": [
       "\n",
       "A matrix: 16 × 10 of type dbl\n",
       "\n",
       "| <!--/--> | PC1 | PC2 | PC3 | PC4 | PC5 | PC6 | PC7 | PC8 | PC9 | PC10 |\n",
       "|---|---|---|---|---|---|---|---|---|---|---|\n",
       "| 1M_g1_control | -14.182332 | -2.67080238 |  0.04984504 | -0.8742303 | -0.6232536 |  0.05740141 | -0.711873405 |  0.90011998 |  0.41219672 | -1.445429854 |\n",
       "| 1M_g1_tazko |   9.131666 | -1.04357915 | -0.64398472 |  0.8369952 | -1.3693701 |  1.86377093 |  0.363358144 |  0.95289639 |  0.93620166 |  1.760705998 |\n",
       "| 1M_g2_control | -14.124022 | -2.52718416 |  1.12720263 | -0.5920668 | -1.5408791 | -0.77569742 |  0.494431379 |  0.85456617 |  0.71368239 |  0.251326473 |\n",
       "| 1M_g2_tazko |   9.245397 | -1.40512842 |  0.14303933 |  1.9581032 | -0.7282176 | -0.34936158 | -0.793147521 | -0.13801971 |  0.09508105 | -0.659839047 |\n",
       "| 1M_g3_control | -10.180357 | -0.07246890 | -0.10090396 |  1.4771638 |  1.2135960 |  1.01042236 | -0.516621002 | -0.02443973 | -0.01262746 |  0.006768248 |\n",
       "| 1M_g3_tazko |   9.318155 | -1.52065995 | -2.27432509 | -0.3501834 |  1.1454613 |  0.28535546 | -0.897662445 |  1.85407519 | -1.31125512 | -0.208878368 |\n",
       "| 1M_g4_control |  -8.773776 |  0.35217129 | -0.18436386 |  1.1962005 |  2.0429465 |  0.44011882 |  2.385595270 | -0.07578801 |  0.61720221 | -0.219259469 |\n",
       "| 1M_g4_tazko |   9.272750 | -1.67579780 | -2.17594357 | -0.7073819 |  0.3105435 | -1.70835192 | -0.002372558 | -1.47349801 |  1.27785897 |  0.551035758 |\n",
       "| 1M_g5_control | -10.906855 | -1.10815295 | -0.77875485 | -0.2644528 |  0.1374340 | -1.15324724 | -0.726049355 | -0.73363784 | -0.60882289 |  1.090953149 |\n",
       "| 1M_g5_tazko |   9.304937 | -1.44582958 | -0.83275335 |  0.5887307 | -0.5715043 | -0.41892738 |  1.275711777 | -0.59532529 | -0.63384829 | -1.463242799 |\n",
       "| 1M_g6_control |  -9.807342 |  0.08835773 |  0.01981668 | -0.1669119 | -0.1039191 |  1.02276257 | -0.493830909 | -1.65679847 | -1.54240528 |  0.729249487 |\n",
       "| 1M_g6_tazko |   8.174292 |  0.30621756 |  2.46050516 | -0.1757735 |  0.8744916 |  1.00727379 | -1.642648306 | -1.01438538 |  1.17593443 | -0.635604021 |\n",
       "| 1M_g7_control |  -1.531013 |  6.57982131 |  0.62716875 |  1.8711803 | -0.4456760 | -1.75064369 | -0.509009559 |  0.84474709 | -0.11126877 |  0.212807821 |\n",
       "| 1M_g7_tazko |   8.145549 | -0.05997070 |  2.39781952 | -2.0127983 |  1.6706278 | -0.82289087 |  0.415151309 |  0.98447551 | -0.20627388 |  0.702310413 |\n",
       "| 1M_g8_control |  -1.598493 |  6.08257351 | -1.90562311 | -2.2993625 | -0.6772421 |  1.03450460 |  0.195118998 | -0.15010594 |  0.49406388 | -0.618078506 |\n",
       "| 1M_g8_tazko |   8.511445 |  0.12043262 |  2.07125539 | -0.4852123 | -1.3350389 |  0.25751014 |  1.163848183 | -0.52888196 | -1.29571962 | -0.054825284 |\n",
       "\n"
      ],
      "text/plain": [
       "              PC1        PC2         PC3         PC4        PC5       \n",
       "1M_g1_control -14.182332 -2.67080238  0.04984504 -0.8742303 -0.6232536\n",
       "1M_g1_tazko     9.131666 -1.04357915 -0.64398472  0.8369952 -1.3693701\n",
       "1M_g2_control -14.124022 -2.52718416  1.12720263 -0.5920668 -1.5408791\n",
       "1M_g2_tazko     9.245397 -1.40512842  0.14303933  1.9581032 -0.7282176\n",
       "1M_g3_control -10.180357 -0.07246890 -0.10090396  1.4771638  1.2135960\n",
       "1M_g3_tazko     9.318155 -1.52065995 -2.27432509 -0.3501834  1.1454613\n",
       "1M_g4_control  -8.773776  0.35217129 -0.18436386  1.1962005  2.0429465\n",
       "1M_g4_tazko     9.272750 -1.67579780 -2.17594357 -0.7073819  0.3105435\n",
       "1M_g5_control -10.906855 -1.10815295 -0.77875485 -0.2644528  0.1374340\n",
       "1M_g5_tazko     9.304937 -1.44582958 -0.83275335  0.5887307 -0.5715043\n",
       "1M_g6_control  -9.807342  0.08835773  0.01981668 -0.1669119 -0.1039191\n",
       "1M_g6_tazko     8.174292  0.30621756  2.46050516 -0.1757735  0.8744916\n",
       "1M_g7_control  -1.531013  6.57982131  0.62716875  1.8711803 -0.4456760\n",
       "1M_g7_tazko     8.145549 -0.05997070  2.39781952 -2.0127983  1.6706278\n",
       "1M_g8_control  -1.598493  6.08257351 -1.90562311 -2.2993625 -0.6772421\n",
       "1M_g8_tazko     8.511445  0.12043262  2.07125539 -0.4852123 -1.3350389\n",
       "              PC6         PC7          PC8         PC9         PC10        \n",
       "1M_g1_control  0.05740141 -0.711873405  0.90011998  0.41219672 -1.445429854\n",
       "1M_g1_tazko    1.86377093  0.363358144  0.95289639  0.93620166  1.760705998\n",
       "1M_g2_control -0.77569742  0.494431379  0.85456617  0.71368239  0.251326473\n",
       "1M_g2_tazko   -0.34936158 -0.793147521 -0.13801971  0.09508105 -0.659839047\n",
       "1M_g3_control  1.01042236 -0.516621002 -0.02443973 -0.01262746  0.006768248\n",
       "1M_g3_tazko    0.28535546 -0.897662445  1.85407519 -1.31125512 -0.208878368\n",
       "1M_g4_control  0.44011882  2.385595270 -0.07578801  0.61720221 -0.219259469\n",
       "1M_g4_tazko   -1.70835192 -0.002372558 -1.47349801  1.27785897  0.551035758\n",
       "1M_g5_control -1.15324724 -0.726049355 -0.73363784 -0.60882289  1.090953149\n",
       "1M_g5_tazko   -0.41892738  1.275711777 -0.59532529 -0.63384829 -1.463242799\n",
       "1M_g6_control  1.02276257 -0.493830909 -1.65679847 -1.54240528  0.729249487\n",
       "1M_g6_tazko    1.00727379 -1.642648306 -1.01438538  1.17593443 -0.635604021\n",
       "1M_g7_control -1.75064369 -0.509009559  0.84474709 -0.11126877  0.212807821\n",
       "1M_g7_tazko   -0.82289087  0.415151309  0.98447551 -0.20627388  0.702310413\n",
       "1M_g8_control  1.03450460  0.195118998 -0.15010594  0.49406388 -0.618078506\n",
       "1M_g8_tazko    0.25751014  1.163848183 -0.52888196 -1.29571962 -0.054825284"
      ]
     },
     "metadata": {},
     "output_type": "display_data"
    }
   ],
   "source": [
    "pca.coord"
   ]
  },
  {
   "cell_type": "markdown",
   "id": "9a745d0d-b951-450e-948a-bbd3f241093f",
   "metadata": {},
   "source": [
    "And we can create a dataframe from it:\n",
    "\n",
    "```\n",
    "pca.coord <- as.data.frame(pca.coord)\n",
    "```"
   ]
  },
  {
   "cell_type": "code",
   "execution_count": 88,
   "id": "ff406642-e548-4b27-915b-887a472abca7",
   "metadata": {},
   "outputs": [],
   "source": [
    "pca.coord <- as.data.frame(pca.coord)"
   ]
  },
  {
   "cell_type": "code",
   "execution_count": 89,
   "id": "71caec7e-ae45-446f-8e9e-7da4f83fd7ea",
   "metadata": {},
   "outputs": [
    {
     "data": {
      "text/html": [
       "<table class=\"dataframe\">\n",
       "<caption>A data.frame: 5 × 10</caption>\n",
       "<thead>\n",
       "\t<tr><th></th><th scope=col>PC1</th><th scope=col>PC2</th><th scope=col>PC3</th><th scope=col>PC4</th><th scope=col>PC5</th><th scope=col>PC6</th><th scope=col>PC7</th><th scope=col>PC8</th><th scope=col>PC9</th><th scope=col>PC10</th></tr>\n",
       "\t<tr><th></th><th scope=col>&lt;dbl&gt;</th><th scope=col>&lt;dbl&gt;</th><th scope=col>&lt;dbl&gt;</th><th scope=col>&lt;dbl&gt;</th><th scope=col>&lt;dbl&gt;</th><th scope=col>&lt;dbl&gt;</th><th scope=col>&lt;dbl&gt;</th><th scope=col>&lt;dbl&gt;</th><th scope=col>&lt;dbl&gt;</th><th scope=col>&lt;dbl&gt;</th></tr>\n",
       "</thead>\n",
       "<tbody>\n",
       "\t<tr><th scope=row>1M_g1_control</th><td>-14.182332</td><td>-2.6708024</td><td> 0.04984504</td><td>-0.8742303</td><td>-0.6232536</td><td> 0.05740141</td><td>-0.7118734</td><td> 0.90011998</td><td> 0.41219672</td><td>-1.445429854</td></tr>\n",
       "\t<tr><th scope=row>1M_g1_tazko</th><td>  9.131666</td><td>-1.0435791</td><td>-0.64398472</td><td> 0.8369952</td><td>-1.3693701</td><td> 1.86377093</td><td> 0.3633581</td><td> 0.95289639</td><td> 0.93620166</td><td> 1.760705998</td></tr>\n",
       "\t<tr><th scope=row>1M_g2_control</th><td>-14.124022</td><td>-2.5271842</td><td> 1.12720263</td><td>-0.5920668</td><td>-1.5408791</td><td>-0.77569742</td><td> 0.4944314</td><td> 0.85456617</td><td> 0.71368239</td><td> 0.251326473</td></tr>\n",
       "\t<tr><th scope=row>1M_g2_tazko</th><td>  9.245397</td><td>-1.4051284</td><td> 0.14303933</td><td> 1.9581032</td><td>-0.7282176</td><td>-0.34936158</td><td>-0.7931475</td><td>-0.13801971</td><td> 0.09508105</td><td>-0.659839047</td></tr>\n",
       "\t<tr><th scope=row>1M_g3_control</th><td>-10.180357</td><td>-0.0724689</td><td>-0.10090396</td><td> 1.4771638</td><td> 1.2135960</td><td> 1.01042236</td><td>-0.5166210</td><td>-0.02443973</td><td>-0.01262746</td><td> 0.006768248</td></tr>\n",
       "</tbody>\n",
       "</table>\n"
      ],
      "text/latex": [
       "A data.frame: 5 × 10\n",
       "\\begin{tabular}{r|llllllllll}\n",
       "  & PC1 & PC2 & PC3 & PC4 & PC5 & PC6 & PC7 & PC8 & PC9 & PC10\\\\\n",
       "  & <dbl> & <dbl> & <dbl> & <dbl> & <dbl> & <dbl> & <dbl> & <dbl> & <dbl> & <dbl>\\\\\n",
       "\\hline\n",
       "\t1M\\_g1\\_control & -14.182332 & -2.6708024 &  0.04984504 & -0.8742303 & -0.6232536 &  0.05740141 & -0.7118734 &  0.90011998 &  0.41219672 & -1.445429854\\\\\n",
       "\t1M\\_g1\\_tazko &   9.131666 & -1.0435791 & -0.64398472 &  0.8369952 & -1.3693701 &  1.86377093 &  0.3633581 &  0.95289639 &  0.93620166 &  1.760705998\\\\\n",
       "\t1M\\_g2\\_control & -14.124022 & -2.5271842 &  1.12720263 & -0.5920668 & -1.5408791 & -0.77569742 &  0.4944314 &  0.85456617 &  0.71368239 &  0.251326473\\\\\n",
       "\t1M\\_g2\\_tazko &   9.245397 & -1.4051284 &  0.14303933 &  1.9581032 & -0.7282176 & -0.34936158 & -0.7931475 & -0.13801971 &  0.09508105 & -0.659839047\\\\\n",
       "\t1M\\_g3\\_control & -10.180357 & -0.0724689 & -0.10090396 &  1.4771638 &  1.2135960 &  1.01042236 & -0.5166210 & -0.02443973 & -0.01262746 &  0.006768248\\\\\n",
       "\\end{tabular}\n"
      ],
      "text/markdown": [
       "\n",
       "A data.frame: 5 × 10\n",
       "\n",
       "| <!--/--> | PC1 &lt;dbl&gt; | PC2 &lt;dbl&gt; | PC3 &lt;dbl&gt; | PC4 &lt;dbl&gt; | PC5 &lt;dbl&gt; | PC6 &lt;dbl&gt; | PC7 &lt;dbl&gt; | PC8 &lt;dbl&gt; | PC9 &lt;dbl&gt; | PC10 &lt;dbl&gt; |\n",
       "|---|---|---|---|---|---|---|---|---|---|---|\n",
       "| 1M_g1_control | -14.182332 | -2.6708024 |  0.04984504 | -0.8742303 | -0.6232536 |  0.05740141 | -0.7118734 |  0.90011998 |  0.41219672 | -1.445429854 |\n",
       "| 1M_g1_tazko |   9.131666 | -1.0435791 | -0.64398472 |  0.8369952 | -1.3693701 |  1.86377093 |  0.3633581 |  0.95289639 |  0.93620166 |  1.760705998 |\n",
       "| 1M_g2_control | -14.124022 | -2.5271842 |  1.12720263 | -0.5920668 | -1.5408791 | -0.77569742 |  0.4944314 |  0.85456617 |  0.71368239 |  0.251326473 |\n",
       "| 1M_g2_tazko |   9.245397 | -1.4051284 |  0.14303933 |  1.9581032 | -0.7282176 | -0.34936158 | -0.7931475 | -0.13801971 |  0.09508105 | -0.659839047 |\n",
       "| 1M_g3_control | -10.180357 | -0.0724689 | -0.10090396 |  1.4771638 |  1.2135960 |  1.01042236 | -0.5166210 | -0.02443973 | -0.01262746 |  0.006768248 |\n",
       "\n"
      ],
      "text/plain": [
       "              PC1        PC2        PC3         PC4        PC5       \n",
       "1M_g1_control -14.182332 -2.6708024  0.04984504 -0.8742303 -0.6232536\n",
       "1M_g1_tazko     9.131666 -1.0435791 -0.64398472  0.8369952 -1.3693701\n",
       "1M_g2_control -14.124022 -2.5271842  1.12720263 -0.5920668 -1.5408791\n",
       "1M_g2_tazko     9.245397 -1.4051284  0.14303933  1.9581032 -0.7282176\n",
       "1M_g3_control -10.180357 -0.0724689 -0.10090396  1.4771638  1.2135960\n",
       "              PC6         PC7        PC8         PC9         PC10        \n",
       "1M_g1_control  0.05740141 -0.7118734  0.90011998  0.41219672 -1.445429854\n",
       "1M_g1_tazko    1.86377093  0.3633581  0.95289639  0.93620166  1.760705998\n",
       "1M_g2_control -0.77569742  0.4944314  0.85456617  0.71368239  0.251326473\n",
       "1M_g2_tazko   -0.34936158 -0.7931475 -0.13801971  0.09508105 -0.659839047\n",
       "1M_g3_control  1.01042236 -0.5166210 -0.02443973 -0.01262746  0.006768248"
      ]
     },
     "metadata": {},
     "output_type": "display_data"
    }
   ],
   "source": [
    "head(pca.coord, 5)"
   ]
  },
  {
   "cell_type": "markdown",
   "id": "32a11908-def1-4290-9a75-c32a7bc10a96",
   "metadata": {},
   "source": [
    "We can also do this in a single line as follows:\n",
    "\n",
    "```\n",
    "pca.coord <- as.data.frame(pca.out$variates$X)\n",
    "```\n",
    "\n",
    "And another alternative is that we can subsitute <code>$variates$X</code> with <code>$x</code> (lower case x) to directly get the coordinates matrix.\n",
    "\n",
    "```\n",
    "pca.coord <- as.data.frame(pca.out$x)\n",
    "```"
   ]
  },
  {
   "cell_type": "code",
   "execution_count": 90,
   "id": "ca0d1615-02b9-46f7-946b-34b9fd0b84ec",
   "metadata": {},
   "outputs": [],
   "source": [
    "pca.coord <- as.data.frame(pca.out$x)"
   ]
  },
  {
   "cell_type": "code",
   "execution_count": 91,
   "id": "a2476f36-7178-49d2-95a9-1490b063b4f2",
   "metadata": {},
   "outputs": [
    {
     "data": {
      "text/html": [
       "<table class=\"dataframe\">\n",
       "<caption>A data.frame: 5 × 10</caption>\n",
       "<thead>\n",
       "\t<tr><th></th><th scope=col>PC1</th><th scope=col>PC2</th><th scope=col>PC3</th><th scope=col>PC4</th><th scope=col>PC5</th><th scope=col>PC6</th><th scope=col>PC7</th><th scope=col>PC8</th><th scope=col>PC9</th><th scope=col>PC10</th></tr>\n",
       "\t<tr><th></th><th scope=col>&lt;dbl&gt;</th><th scope=col>&lt;dbl&gt;</th><th scope=col>&lt;dbl&gt;</th><th scope=col>&lt;dbl&gt;</th><th scope=col>&lt;dbl&gt;</th><th scope=col>&lt;dbl&gt;</th><th scope=col>&lt;dbl&gt;</th><th scope=col>&lt;dbl&gt;</th><th scope=col>&lt;dbl&gt;</th><th scope=col>&lt;dbl&gt;</th></tr>\n",
       "</thead>\n",
       "<tbody>\n",
       "\t<tr><th scope=row>1M_g1_control</th><td>-14.182332</td><td>-2.6708024</td><td> 0.04984504</td><td>-0.8742303</td><td>-0.6232536</td><td> 0.05740141</td><td>-0.7118734</td><td> 0.90011998</td><td> 0.41219672</td><td>-1.445429854</td></tr>\n",
       "\t<tr><th scope=row>1M_g1_tazko</th><td>  9.131666</td><td>-1.0435791</td><td>-0.64398472</td><td> 0.8369952</td><td>-1.3693701</td><td> 1.86377093</td><td> 0.3633581</td><td> 0.95289639</td><td> 0.93620166</td><td> 1.760705998</td></tr>\n",
       "\t<tr><th scope=row>1M_g2_control</th><td>-14.124022</td><td>-2.5271842</td><td> 1.12720263</td><td>-0.5920668</td><td>-1.5408791</td><td>-0.77569742</td><td> 0.4944314</td><td> 0.85456617</td><td> 0.71368239</td><td> 0.251326473</td></tr>\n",
       "\t<tr><th scope=row>1M_g2_tazko</th><td>  9.245397</td><td>-1.4051284</td><td> 0.14303933</td><td> 1.9581032</td><td>-0.7282176</td><td>-0.34936158</td><td>-0.7931475</td><td>-0.13801971</td><td> 0.09508105</td><td>-0.659839047</td></tr>\n",
       "\t<tr><th scope=row>1M_g3_control</th><td>-10.180357</td><td>-0.0724689</td><td>-0.10090396</td><td> 1.4771638</td><td> 1.2135960</td><td> 1.01042236</td><td>-0.5166210</td><td>-0.02443973</td><td>-0.01262746</td><td> 0.006768248</td></tr>\n",
       "</tbody>\n",
       "</table>\n"
      ],
      "text/latex": [
       "A data.frame: 5 × 10\n",
       "\\begin{tabular}{r|llllllllll}\n",
       "  & PC1 & PC2 & PC3 & PC4 & PC5 & PC6 & PC7 & PC8 & PC9 & PC10\\\\\n",
       "  & <dbl> & <dbl> & <dbl> & <dbl> & <dbl> & <dbl> & <dbl> & <dbl> & <dbl> & <dbl>\\\\\n",
       "\\hline\n",
       "\t1M\\_g1\\_control & -14.182332 & -2.6708024 &  0.04984504 & -0.8742303 & -0.6232536 &  0.05740141 & -0.7118734 &  0.90011998 &  0.41219672 & -1.445429854\\\\\n",
       "\t1M\\_g1\\_tazko &   9.131666 & -1.0435791 & -0.64398472 &  0.8369952 & -1.3693701 &  1.86377093 &  0.3633581 &  0.95289639 &  0.93620166 &  1.760705998\\\\\n",
       "\t1M\\_g2\\_control & -14.124022 & -2.5271842 &  1.12720263 & -0.5920668 & -1.5408791 & -0.77569742 &  0.4944314 &  0.85456617 &  0.71368239 &  0.251326473\\\\\n",
       "\t1M\\_g2\\_tazko &   9.245397 & -1.4051284 &  0.14303933 &  1.9581032 & -0.7282176 & -0.34936158 & -0.7931475 & -0.13801971 &  0.09508105 & -0.659839047\\\\\n",
       "\t1M\\_g3\\_control & -10.180357 & -0.0724689 & -0.10090396 &  1.4771638 &  1.2135960 &  1.01042236 & -0.5166210 & -0.02443973 & -0.01262746 &  0.006768248\\\\\n",
       "\\end{tabular}\n"
      ],
      "text/markdown": [
       "\n",
       "A data.frame: 5 × 10\n",
       "\n",
       "| <!--/--> | PC1 &lt;dbl&gt; | PC2 &lt;dbl&gt; | PC3 &lt;dbl&gt; | PC4 &lt;dbl&gt; | PC5 &lt;dbl&gt; | PC6 &lt;dbl&gt; | PC7 &lt;dbl&gt; | PC8 &lt;dbl&gt; | PC9 &lt;dbl&gt; | PC10 &lt;dbl&gt; |\n",
       "|---|---|---|---|---|---|---|---|---|---|---|\n",
       "| 1M_g1_control | -14.182332 | -2.6708024 |  0.04984504 | -0.8742303 | -0.6232536 |  0.05740141 | -0.7118734 |  0.90011998 |  0.41219672 | -1.445429854 |\n",
       "| 1M_g1_tazko |   9.131666 | -1.0435791 | -0.64398472 |  0.8369952 | -1.3693701 |  1.86377093 |  0.3633581 |  0.95289639 |  0.93620166 |  1.760705998 |\n",
       "| 1M_g2_control | -14.124022 | -2.5271842 |  1.12720263 | -0.5920668 | -1.5408791 | -0.77569742 |  0.4944314 |  0.85456617 |  0.71368239 |  0.251326473 |\n",
       "| 1M_g2_tazko |   9.245397 | -1.4051284 |  0.14303933 |  1.9581032 | -0.7282176 | -0.34936158 | -0.7931475 | -0.13801971 |  0.09508105 | -0.659839047 |\n",
       "| 1M_g3_control | -10.180357 | -0.0724689 | -0.10090396 |  1.4771638 |  1.2135960 |  1.01042236 | -0.5166210 | -0.02443973 | -0.01262746 |  0.006768248 |\n",
       "\n"
      ],
      "text/plain": [
       "              PC1        PC2        PC3         PC4        PC5       \n",
       "1M_g1_control -14.182332 -2.6708024  0.04984504 -0.8742303 -0.6232536\n",
       "1M_g1_tazko     9.131666 -1.0435791 -0.64398472  0.8369952 -1.3693701\n",
       "1M_g2_control -14.124022 -2.5271842  1.12720263 -0.5920668 -1.5408791\n",
       "1M_g2_tazko     9.245397 -1.4051284  0.14303933  1.9581032 -0.7282176\n",
       "1M_g3_control -10.180357 -0.0724689 -0.10090396  1.4771638  1.2135960\n",
       "              PC6         PC7        PC8         PC9         PC10        \n",
       "1M_g1_control  0.05740141 -0.7118734  0.90011998  0.41219672 -1.445429854\n",
       "1M_g1_tazko    1.86377093  0.3633581  0.95289639  0.93620166  1.760705998\n",
       "1M_g2_control -0.77569742  0.4944314  0.85456617  0.71368239  0.251326473\n",
       "1M_g2_tazko   -0.34936158 -0.7931475 -0.13801971  0.09508105 -0.659839047\n",
       "1M_g3_control  1.01042236 -0.5166210 -0.02443973 -0.01262746  0.006768248"
      ]
     },
     "metadata": {},
     "output_type": "display_data"
    }
   ],
   "source": [
    "head(pca.coord, 5)"
   ]
  },
  {
   "cell_type": "markdown",
   "id": "deefe0a9-45df-476d-927c-d2fe579bf1bc",
   "metadata": {},
   "source": [
    "<h2>Plot biplot of PC1 vs PC2</h2>"
   ]
  },
  {
   "cell_type": "markdown",
   "id": "cbf02319-6f4c-4a15-ac4a-1efc2102a0c4",
   "metadata": {},
   "source": [
    "With the coordinates for our principal components, we can generate biplots to visualize the groupings of our samples. This can help us to determine if there may have been batch effects or potential issues with a sample that we may want to keep in mind during our differential expression analysis.\n",
    "\n",
    "To generate these plots, we'll make use of ggplot2 first by starting with a basic ggplot object and then layering on additional plot components on top of it."
   ]
  },
  {
   "cell_type": "code",
   "execution_count": 100,
   "id": "9addc1d2-5e23-4f5e-a984-567f4a1f6b2a",
   "metadata": {},
   "outputs": [
    {
     "name": "stderr",
     "output_type": "stream",
     "text": [
      "\u001b[1m\u001b[22mSaving 7 x 7 in image\n"
     ]
    },
    {
     "data": {
      "image/png": "[encoded data removed]",
      "text/plain": [
       "plot without title"
      ]
     },
     "metadata": {
      "image/png": {
       "height": 420,
       "width": 420
      }
     },
     "output_type": "display_data"
    }
   ],
   "source": [
    "ggplot(pca.coord, aes(x=PC1, y=PC2)) +\n",
    "    geom_point() +\n",
    "    geom_text(aes(label=rownames(pca.coord)),\n",
    "              hjust=0.5,\n",
    "              vjust=-1) +\n",
    "    theme_bw() +\n",
    "    guides(fill=guide_legend(titles=NULL)) +\n",
    "    ggtitle('PCA Biplot') +\n",
    "    xlab(paste0('PC1: ', \n",
    "                round((pro.var.expl$X[1])*100, digits=2), \n",
    "                '% variance')) +\n",
    "    ylab(paste0('PC2: ', \n",
    "                round((pro.var.expl$X[2])*100, digits=2), \n",
    "                '% variance')) +\n",
    "    geom_hline(yintercept = 0,\n",
    "               linetype = 'dashed',\n",
    "               colour = 'grey'\n",
    "               ) +\n",
    "    geom_vline(xintercept = 0,\n",
    "               linetype = 'dashed',\n",
    "               colour = 'grey'\n",
    "               )\n",
    "\n",
    "ggsave('PCA_biplot_PC1_PC2.pdf')"
   ]
  },
  {
   "cell_type": "markdown",
   "id": "b3c3dafa-3274-45fb-97b6-64208ae76895",
   "metadata": {},
   "source": [
    "<h2>Exercise #3: Plot a biplot of PC2 vs PC3</h2>"
   ]
  },
  {
   "cell_type": "markdown",
   "id": "d5d24e33-6059-4a77-a7e6-4ab4488cf320",
   "metadata": {},
   "source": [
    "See if you can set up a biplot using the coordinates for PC2 and PC3, seeing what you can substitute out from the above code that we used to generate a biplot of PC1 vs PC2."
   ]
  },
  {
   "cell_type": "code",
   "execution_count": 102,
   "id": "c791f5ec-2039-4b05-afd2-071573cd653c",
   "metadata": {},
   "outputs": [
    {
     "name": "stderr",
     "output_type": "stream",
     "text": [
      "\u001b[1m\u001b[22mSaving 7 x 7 in image\n"
     ]
    },
    {
     "data": {
      "image/png": "[encoded data removed]",
      "text/plain": [
       "plot without title"
      ]
     },
     "metadata": {
      "image/png": {
       "height": 420,
       "width": 420
      }
     },
     "output_type": "display_data"
    }
   ],
   "source": [
    "ggplot(pca.coord, aes(x=PC2, y=PC3)) +\n",
    "    geom_point() +\n",
    "    geom_text(aes(label=rownames(pca.coord)),\n",
    "              hjust=0.5,\n",
    "              vjust=-1) +\n",
    "    theme_bw() +\n",
    "    guides(fill=guide_legend(titles=NULL)) +\n",
    "    ggtitle('PCA Biplot') +\n",
    "    xlab(paste0('PC2: ', \n",
    "                round((pro.var.expl$X[2])*100, digits=2), \n",
    "                '% variance')) +\n",
    "    ylab(paste0('PC3: ', \n",
    "                round((pro.var.expl$X[3])*100, digits=2), \n",
    "                '% variance')) +\n",
    "    geom_hline(yintercept = 0,\n",
    "               linetype = 'dashed',\n",
    "               colour = 'grey'\n",
    "               ) +\n",
    "    geom_vline(xintercept = 0,\n",
    "               linetype = 'dashed',\n",
    "               colour = 'grey'\n",
    "               )\n",
    "\n",
    "ggsave('PCA_biplot_PC2_PC3.pdf')"
   ]
  },
  {
   "cell_type": "markdown",
   "id": "50749260-d8de-4fa5-a44c-5e2f75b91efe",
   "metadata": {},
   "source": [
    "What do you see for this biplot and how does it compare to PC1 vs PC2?"
   ]
  },
  {
   "cell_type": "markdown",
   "id": "0f8874c1-b121-4f15-a51e-4ea6442baeef",
   "metadata": {},
   "source": [
    "<h1 style=\"font-size: 40px; margin-bottom: 0px;\">References</h1>\n",
    "\n",
    "<hr style=\"margin-left: 0px; border: 0.25px solid; border-color: #000000; width: 400px;\"></hr>"
   ]
  },
  {
   "cell_type": "markdown",
   "id": "21c36cc5-76d5-4e2f-b564-d2429ad0ac0e",
   "metadata": {},
   "source": [
    "<p><a href=\"https://genomebiology.biomedcentral.com/articles/10.1186/s13059-014-0550-8\" rel=\"noopener noreferrer\" target=\"_blank\"><u>Love et al 2014 Genome Biol:</u></a> Moderated estimation of fold change and dispersion for RNA-seq data with DESeq2</p>\n",
    "\n",
    "<p><a href=\"https://ggplot2.tidyverse.org\" rel=\"noopener noreferrer\" target=\"_blank\"><u>H. Wickham. ggplot2: Elegant Graphics for Data Analysis. Springer-Verlag New York, 2016.</u></a></p>\n",
    "\n",
    "<p><a href=\"https://journals.plos.org/ploscompbiol/article?id=10.1371/journal.pcbi.1005752\" rel=\"noopener noreferrer\" target=\"_blank\"><u>Rohart et al 2017 PLoS Comp Biol:</u></a> mixOmics: An R package for ‘omics feature selection and multiple data integration</p>"
   ]
  },
  {
   "cell_type": "code",
   "execution_count": null,
   "id": "ecd7e34d-9711-480a-b488-ab57e7d5df38",
   "metadata": {},
   "outputs": [],
   "source": []
  }
 ],
 "metadata": {
  "kernelspec": {
   "display_name": "R",
   "language": "R",
   "name": "ir"
  },
  "language_info": {
   "codemirror_mode": "r",
   "file_extension": ".r",
   "mimetype": "text/x-r-source",
   "name": "R",
   "pygments_lexer": "r",
   "version": "4.4.1"
  }
 },
 "nbformat": 4,
 "nbformat_minor": 5
}
