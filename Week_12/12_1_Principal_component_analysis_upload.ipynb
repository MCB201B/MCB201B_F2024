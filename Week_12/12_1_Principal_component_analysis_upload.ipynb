{
 "cells": [
  {
   "cell_type": "markdown",
   "id": "86e9b58b-b4e4-45b2-9c5e-154fc75848b5",
   "metadata": {},
   "source": [
    "<h1 style=\"font-size: 40px; margin-bottom: 0px;\">12.1 Principal Component Analysis</h1>\n",
    "\n",
    "<hr style=\"margin-left: 0px; border: 0.25px solid; border-color: #000000; width: 700px;\"></hr>"
   ]
  },
  {
   "cell_type": "markdown",
   "id": "2cbe0094-9a69-44ad-b051-d23711a55d1c",
   "metadata": {},
   "source": [
    "<p>Last week, we played around with our raw counts data in Python, and today, we'll switch over to R to start diving deeper into our counts. If you take a look at the kernel at the top right, you'll see that it's running using R rather than Python. We'll import our matrices that we created using our Python script, perform some normalization and filtering with DESeq2, and then use those values to perform a principal component analysis to get an idea of whether a notable difference exists between our control and TAZ KO replicates. By performing a principal component analysis on our replicates, we'll also be able to see whether there may have been batch effects that we may need to keep in mind in our analyses.</p>\n",
    "\n",
    "<p><strong>Learning objectives:</strong></p>\n",
    "\n",
    "<ul>\n",
    "    <li>Working with data in R</li>\n",
    "    <ul>\n",
    "        <li>Normalization using DESeq2</li>\n",
    "        <li>Basic filtering</li>\n",
    "    </ul>\n",
    "    <li>Review concept of principal component analysis</li>\n",
    "    <li>Perform a principal component analysis</li>\n",
    "</ul>"
   ]
  },
  {
   "cell_type": "markdown",
   "id": "9b8f5d4e-d425-42de-aa0e-f3d783c8e016",
   "metadata": {},
   "source": [
    "<h1>Loading in packages</h1>"
   ]
  },
  {
   "cell_type": "markdown",
   "id": "eb26a448-a21b-4867-a616-960efa1347e1",
   "metadata": {},
   "source": [
    "Like with Python, R has a bunch of different packages to help with data analysis and visualization. The first thing we'll do is load in some packages and install additional ones that we'll need to normalize and filter our data, as well as perform a principal component analysis and generate plots."
   ]
  },
  {
   "cell_type": "markdown",
   "id": "8d5a3d7f-a93c-43e6-b604-b2421d3c19b7",
   "metadata": {},
   "source": [
    "<h2>Differential expression</h2>\n",
    "\n",
    "The main package that we'll be using is called <a href=\"https://bioconductor.org/packages/release/bioc/html/DESeq2.html\" rel=\"noopener noreferrer\" target=\"_blank\"><u>DESeq2</u></a>, which is one of the major packages commonly used to perform differential expression analysis. The other package that is also commonly used for differential expression analysis is called <a href=\"https://bioconductor.org/packages/release/bioc/html/edgeR.html\" rel=\"noopener noreferrer\" target=\"_blank\"><u>edgeR</u></a>.\n",
    "\n",
    "<a href=\"https://bioconductor.org/packages/release/bioc/html/DESeq2.html\" rel=\"noopener noreferrer\" target=\"_blank\"><u>Documentation for DESeq2 can be found here.</u></a> DESeq2 was developed by Michael Love, Wolfgang Huber, and Simon Anders and published in <a href=\"https://genomebiology.biomedcentral.com/articles/10.1186/s13059-014-0550-8\" rel=\"noopener noreferrer\" target=\"_blank\"><u>Love et al 2014 Genome Biology</u></a>. This package allows us to identify differentially expressed genes from a raw counts matrix. This  <a href=\"https://bioconductor.org/packages/devel/bioc/vignettes/DESeq2/inst/doc/DESeq2.html\" rel=\"noopener noreferrer\" target=\"_blank\"><u>A guided walkthrough example (vignette) can be found here</u></a>, and it contains helpful explanations of the different steps of DESeq2. We'll be performing a similar analysis here with some slight modifications."
   ]
  },
  {
   "cell_type": "markdown",
   "id": "ecba7e84-6e1d-4149-8062-74c632f99797",
   "metadata": {},
   "source": [
    "<h2>Data visualization</h2>\n",
    "\n",
    "One of the major packages for data visualization in R is <a href=\"https://ggplot2.tidyverse.org/\" rel=\"noopener noreferrer\" target=\"_blank\"><u>ggplot2</u></a>, which was developed by <a href=\"https://ggplot2.tidyverse.org/authors.html\" rel=\"noopener noreferrer\" target=\"_blank\"><u>Hadley Wickham, Winston Chang, Lionel Henry, Thomas Lin Pedersen, Kohske Takahashi, Claus Wilke, Kara Woo, Hiroaki Yutani, Dewey Dunnington, and Teun van den Brand</u></a>.\n",
    "\n",
    "ggplot2 follows a specific framework to visualize data in a large variety of ways. A very basic way of viewing it is as layers of components that are added on top of each other in order to produce a final visualization. So each layer can be separately modified to produce more complex visualization. <a href=\"https://ggplot2.tidyverse.org/articles/ggplot2.html\" rel=\"noopener noreferrer\" target=\"_blank\"><u>A more detailed explanation can be found here.</u></a>\n",
    "\n",
    "Other packages for data visualization that we'll use are:\n",
    "<ul>\n",
    "    <li><a href=\"https://www.bioconductor.org/packages/2.8/bioc/html/hexbin.html\" rel=\"noopener noreferrer\" target=\"_blank\"><u>hexbin</u></a> - to bin and plot data into hexagonal bins</li>\n",
    "    <li><a href=\"https://www.bioconductor.org/packages/release/bioc/html/vsn.html\" rel=\"noopener noreferrer\" target=\"_blank\"><u>vsn</u></a> - to visualize normalized transcriptomics data</li>\n",
    "</ul>"
   ]
  },
  {
   "cell_type": "markdown",
   "id": "8c5bae09-35d7-4cda-a8aa-cbc849d7360d",
   "metadata": {},
   "source": [
    "<h2>'Omics data exploration</h2>\n",
    "\n",
    "mixOmics is an R package containing a number of methods that facilitate both single 'omics and multivariate 'omics analyses. We'll be making use of mixOmics to perform a principal component analysis of our class transcriptome dataset to determine how our replicates compare to one another. Instead of clustering our datasets by each gene, we'll be clustering our dataset by samples.\n",
    "\n",
    "miXomics was developed by a core team including: Kim-Anh Le Cao, Florian Rohart, and Sebastien Dejean and published in <a href=\"https://journals.plos.org/ploscompbiol/article?id=10.1371/journal.pcbi.1005752\" rel=\"noopener noreferrer\" target=\"_blank\"><u>PLoS Comp Biol 2017.</u></a>\n",
    "<a href=\"https://www.bioconductor.org/packages/release/bioc/html/mixOmics.html\" rel=\"noopener noreferrer\" target=\"_blank\"><u>Documentation for mixOmics can be found here</u></a>, and <a href=\"http://mixomics.org/\" rel=\"noopener noreferrer\" target=\"_blank\"><u>additional information here.</u></a> "
   ]
  },
  {
   "cell_type": "code",
   "execution_count": null,
   "id": "9a676b7b-fc31-42de-91c4-e84ea604923e",
   "metadata": {},
   "outputs": [],
   "source": [
    "library(DESeq2)\n",
    "library(ggplot2)\n",
    "BiocManager::install(\"mixOmics\")\n",
    "BiocManager::install(\"hexbin\")\n",
    "BiocManager::install(\"vsn\")"
   ]
  },
  {
   "cell_type": "markdown",
   "id": "5e25cbd6-83c6-4c9d-bc86-7a03f4748c4c",
   "metadata": {},
   "source": [
    "<h1>Import class counts dataset and metadata file</h1>"
   ]
  },
  {
   "cell_type": "markdown",
   "id": "cc114272-2c18-465a-af08-66ae65849f44",
   "metadata": {},
   "source": [
    "Like with Python, we'll have to import our dataset into a dataframe matrix, which we can normalize, filter, and perform differential expression analysis.\n",
    "\n",
    "The syntax is different than Python, but the concept is fundamentally the same.\n",
    "\n",
    "\n",
    "```\n",
    "counts <- read.csv('~/MCB201B_F2024/Week_11/1M-class-counts.csv',\n",
    "                   stringsAsFactors=FALSE, \n",
    "                   row.names=1\n",
    "                  )\n",
    "```\n",
    "\n",
    "Let's break down this line of code:\n",
    "\n",
    "<code>counts</code>\n",
    "\n",
    "This is our variable to which we will assign our dataframe matrix.\n",
    "\n",
    "<hr style=\"border: 1px solid; border-color: #AAAAAA;\"></hr>\n",
    "\n",
    "<code>&lt;-</code>\n",
    "\n",
    "This is the R assignment operator that assigns a variable on the left the object on the right.\n",
    "\n",
    "<hr style=\"border: 1px solid; border-color: #AAAAAA;\"></hr>\n",
    "\n",
    "<code>read.csv()</code>\n",
    "\n",
    "This is the function to read in our .csv file into a dataframe.\n",
    "\n",
    "<hr style=\"border: 1px solid; border-color: #AAAAAA;\"></hr>\n",
    "\n",
    "<code>'~/MCB201B_F2024/Week_11/1M-class-counts.csv'</code>\n",
    "\n",
    "This specifies the file path and file name of the .csv file that we want to load into our notebook.\n",
    "\n",
    "<code>stringsAsFactors=FALSE</code>\n",
    "\n",
    "This argument is refers to a data type particular to R, called a <code>factor</code>. This data type represents categorical data, allowing it to be ordered if needed by assigning them pre-defined values called levels. This comes in handy when plotting, where you can specify the ordering of your categrorical data by pre-defining their levels.\n",
    "\n",
    "By setting this argument to <code>FALSE</code>, we stop R from converting our strings to factors.\n",
    "\n",
    "<hr style=\"border: 1px solid; border-color: #AAAAAA;\"></hr>\n",
    "\n",
    "<code>row.names=1</code>\n",
    "\n",
    "This argument sets the index of our dataframe as the first column in our .csv file. Another way of reading this is that the names of each row is the values of the first column. "
   ]
  },
  {
   "cell_type": "code",
   "execution_count": null,
   "id": "aa05c927-fffa-421a-a0c9-f623028d16a0",
   "metadata": {},
   "outputs": [],
   "source": []
  },
  {
   "cell_type": "markdown",
   "id": "c823c18f-9e85-4192-9264-4a84b9afdc70",
   "metadata": {},
   "source": [
    "Now let's take a look at the first 6 rows of our imported dataframe to make sure it imported correctly.\n",
    "\n",
    "```\n",
    "head(counts)\n",
    "```\n",
    "\n",
    "Like with Python and Terminal, <code>head</code> refers to the first set of rows in your data. In Python, the default head is 5 rows. For Terminal, it's 10 rows. And for R, it's 6 rows.\n",
    "\n",
    "If we want to specify 5 rows, we would just provide an extra argument indicating the number of rows we want to display.\n",
    "\n",
    "```\n",
    "head(counts, 5)\n",
    "```\n",
    "\n",
    "This will output 5 rows rather than 6."
   ]
  },
  {
   "cell_type": "code",
   "execution_count": null,
   "id": "b9bed892-e6fa-4419-9884-929efc9ca69e",
   "metadata": {},
   "outputs": [],
   "source": []
  },
  {
   "cell_type": "markdown",
   "id": "8513852e-542c-448d-8217-f0d5fe075088",
   "metadata": {},
   "source": [
    "<h2>Exercise #1: Import metadata file</h2>"
   ]
  },
  {
   "cell_type": "markdown",
   "id": "279affe4-ab24-428e-8e31-5dbb1365aaf6",
   "metadata": {},
   "source": [
    "Now see if you can import your metadata file using the same setup that we used above. Name your variable <code>conditions</code>."
   ]
  },
  {
   "cell_type": "code",
   "execution_count": null,
   "id": "a078fcc4-3988-4044-a1be-679c9cd62429",
   "metadata": {},
   "outputs": [],
   "source": []
  },
  {
   "cell_type": "markdown",
   "id": "64c79f43-19cb-4862-a9b0-9515ef6f0cda",
   "metadata": {},
   "source": [
    "Then, check the first five rows to make sure the file imported correctly."
   ]
  },
  {
   "cell_type": "code",
   "execution_count": null,
   "id": "848e3127-2beb-41cd-8788-b24630f460e9",
   "metadata": {},
   "outputs": [],
   "source": []
  },
  {
   "cell_type": "markdown",
   "id": "994ef06d-59c8-4700-a9da-d347ade02314",
   "metadata": {},
   "source": [
    "<h1>Guided Exercise: Filter out genes that are not expressed</h1>"
   ]
  },
  {
   "cell_type": "markdown",
   "id": "7cb25482-37f4-459d-b65e-f14c87bade59",
   "metadata": {},
   "source": [
    "For this exercise, we'll filter out genes that are not expressed in order to reduce the amount of data that we're working with. Although we can leave these in, some of the normalizations and data visualization will be neater and more memory efficient if we filter out these genes first.\n",
    "\n",
    "We'll set that genes that have 0 counts in all replicates will be considered as not expressed, and those will be the rows that we filter out. In other words, we are looking to create a new dataframe containing rows whose mean count is greater than 0."
   ]
  },
  {
   "cell_type": "markdown",
   "id": "f7b01a95-5919-41a2-8130-84d2eaa538e3",
   "metadata": {},
   "source": [
    "<h2>Calculate mean of each row</h2>"
   ]
  },
  {
   "cell_type": "markdown",
   "id": "7719b757-c104-4606-80f1-2d52d8dc6149",
   "metadata": {},
   "source": [
    "First, we'll calculate the mean counts for each gene:\n",
    "\n",
    "```\n",
    "means <- apply(counts, 1, mean)\n",
    "```\n",
    "\n",
    "Breaking down this line of code:\n",
    "\n",
    "<code>means</code>\n",
    "\n",
    "This is our variable in which we will save the results of our calculations.\n",
    "\n",
    "<hr style=\"border: 1px solid; border-color: #AAAAAA;\"></hr>\n",
    "\n",
    "<code>&lt;-</code>\n",
    "\n",
    "This is our assignment operator.\n",
    "\n",
    "<hr style=\"border: 1px solid; border-color: #AAAAAA;\"></hr>\n",
    "\n",
    "<code>apply()</code>\n",
    "\n",
    "This function allows us to perform calculations on our data matrix across the values in a row <code>1</code> or all values in a column <code>2</code>. We can specify the dataframe that we're operating on and the type of calculation to perform.\n",
    "\n",
    "<hr style=\"border: 1px solid; border-color: #AAAAAA;\"></hr>\n",
    "\n",
    "<code>counts</code>\n",
    "\n",
    "Here, we specify that we want to perform calculations on the data contained within our <code>counts</code> dataframe.\n",
    "\n",
    "<hr style=\"border: 1px solid; border-color: #AAAAAA;\"></hr>\n",
    "\n",
    "<code>1</code>\n",
    "\n",
    "By specifying 1 for the <code>margin</code> parameter, we indicate that we want to perform some calculation across all the values in each row.\n",
    "\n",
    "<hr style=\"border: 1px solid; border-color: #AAAAAA;\"></hr>\n",
    "\n",
    "<code>mean</code>\n",
    "\n",
    "The calculation will perform is specified by <code>mean</code>, so we'll be taking the average of all values across each row. In other words, we're calculating the average read count for each gene."
   ]
  },
  {
   "cell_type": "code",
   "execution_count": null,
   "id": "2070042c-40c4-4411-862b-81bda7462ed6",
   "metadata": {},
   "outputs": [],
   "source": []
  },
  {
   "cell_type": "code",
   "execution_count": null,
   "id": "658c121d-73fa-4110-ba95-5b574fcf3a64",
   "metadata": {},
   "outputs": [],
   "source": []
  },
  {
   "cell_type": "markdown",
   "id": "953c0d56-5281-45a2-9bda-43f9ff7d3cae",
   "metadata": {},
   "source": [
    "<h2>Filter out non-expressed genes</h2>"
   ]
  },
  {
   "cell_type": "markdown",
   "id": "ba92723c-14f4-4070-a0a2-eeab1d8d7534",
   "metadata": {},
   "source": [
    "Now, we'll filter out genes that are not expressed in any of our replicates to minimize the memory needed to perform normalizations and to make our visualizations a bit neater.\n",
    "\n",
    "```\n",
    "counts <- counts[which(means>0),]\n",
    "```\n",
    "\n",
    "Breaking down this line of code:\n",
    "\n",
    "<code>counts</code>\n",
    "\n",
    "We're reassigning our filtered data back to the variable <code>counts</code>\n",
    "\n",
    "<hr style=\"border: 1px solid; border-color: #AAAAAA;\"></hr>\n",
    "\n",
    "<code>&lt;-</code>\n",
    "\n",
    "This is our assignment operator.\n",
    "\n",
    "<hr style=\"border: 1px solid; border-color: #AAAAAA;\"></hr>\n",
    "\n",
    "<code>counts[which(means>0),]</code>\n",
    "\n",
    "This set up here is very similar to how we filter our pandas DataFrames. We specify the dataframe that we want to filter <code>counts[rows, columns]</code>, and then we indicate that we want to filter rows whose means are greater than 0 <code>which(means>0)</code>."
   ]
  },
  {
   "cell_type": "code",
   "execution_count": null,
   "id": "c5ae00d4-bf7d-4fb2-8852-43be8274db22",
   "metadata": {},
   "outputs": [],
   "source": []
  },
  {
   "cell_type": "code",
   "execution_count": null,
   "id": "78c15668-1545-488b-8bcb-2996b03f8b17",
   "metadata": {},
   "outputs": [],
   "source": []
  },
  {
   "cell_type": "markdown",
   "id": "5ee2fb03-560c-4d77-b5d3-e6e4f0577bd9",
   "metadata": {},
   "source": [
    "<h1>Create a <code>DESeqDataSet</code></h1>"
   ]
  },
  {
   "cell_type": "markdown",
   "id": "3b559c2d-9b10-4b48-a901-a96a840b27cf",
   "metadata": {},
   "source": [
    "Now, we'll begin making use of the DESeq2 package, first to create a type of <code>SummarizedExperiment</code> called a <code>DESeqDataSet</code>. <a href=\"https://www.bioconductor.org/packages/devel/bioc/vignettes/SummarizedExperiment/inst/doc/SummarizedExperiment.html\" rel=\"noopener noreferrer\" target=\"_blank\"><u>A general overview of a <code>SummarizedExperiment</code></u></a> is that it's a type of object that holds data, metadata, calculations, and outputs. These features can be thought of similar to attributes in Python that can be pulled out of the <code>SummarizedExperiment</code>. The <code>DESeqDataSet</code> is an extension of the <code>RangedSummarizedExperiment</code> class. \n",
    "\n",
    "We'll load into a <code>DESeqDataSet</code> our <code>counts</code>, our <code>conditions</code> metadata, and specify our experiment design formula.\n",
    "\n",
    "```\n",
    "dds <- DESeqDataSetFromMatrix(countData = counts,\n",
    "                              colData = conditions,\n",
    "                              design = ~ condition\n",
    "                             )\n",
    "```\n",
    "\n",
    "Let's break down this line of code:\n",
    "\n",
    "<code>dds</code>\n",
    "\n",
    "This is the variable to which we are assigning our <code>DESeqDataSet</code>.\n",
    "\n",
    "<hr style=\"border: 1px solid; border-color: #AAAAAA;\"></hr>\n",
    "\n",
    "<code>DESeqDataSetFromMatrix()</code>\n",
    "\n",
    "This function creates a <code>DESeqDataSet</code> based on the arguments we pass to it.\n",
    "\n",
    "<hr style=\"border: 1px solid; border-color: #AAAAAA;\"></hr>\n",
    "\n",
    "<code>countData = counts</code>\n",
    "\n",
    "We pass to the <code>DESeqDataSetFromMatrix()</code> our counts dataframe. It's important that you provide it with your raw counts because DESeq2 will normalize the data assuming that you are providing it with raw counts.\n",
    "\n",
    "<hr style=\"border: 1px solid; border-color: #AAAAAA;\"></hr>\n",
    "\n",
    "<code>colData = conditions</code>\n",
    "\n",
    "We also load in our metadata matrix containing the corresponding condition for each sample. Note that the order in which your samples are in is important because DESeq2 assumes that the order in which they appear in your <code>counts</code> matrix is the same as the order that they are organized in your metadata matrix. If they are not in the same order, then you will need to reorder them so that they match up.\n",
    "\n",
    "<hr style=\"border: 1px solid; border-color: #AAAAAA;\"></hr>\n",
    "\n",
    "<code>design = ~ condition</code>\n",
    "\n",
    "Here, we specify the experimental set up for our transcriptome dataset. Essentially, we are telling DESeq2 how we want it to perform the comparison. Since we only have two conditions, only the order of the levels matters, since that will determine how we interpret the positive/negative outputs of the differential expressioin analysis."
   ]
  },
  {
   "cell_type": "code",
   "execution_count": null,
   "id": "e17987b3-3e1c-4923-926b-b8143ee2b715",
   "metadata": {},
   "outputs": [],
   "source": []
  },
  {
   "cell_type": "markdown",
   "id": "dea3f26e-a540-4725-a62d-22047fccc40b",
   "metadata": {},
   "source": [
    "Let's take a look at what the DESeqDataSet contains:"
   ]
  },
  {
   "cell_type": "code",
   "execution_count": null,
   "id": "adbbcd01-cbb2-4361-970d-f9ba7ccb579d",
   "metadata": {},
   "outputs": [],
   "source": []
  },
  {
   "cell_type": "markdown",
   "id": "8870ab02-b03d-44ae-b1d2-161225f338c4",
   "metadata": {},
   "source": [
    "We can also pull out our raw counts out of this dataset since it still contains the original data.\n",
    "\n",
    "```\n",
    "head(counts(dds), 5)\n",
    "```"
   ]
  },
  {
   "cell_type": "code",
   "execution_count": null,
   "id": "c7552b63-1b92-49b2-a052-44e36e5c7362",
   "metadata": {},
   "outputs": [],
   "source": []
  },
  {
   "cell_type": "markdown",
   "id": "25af5601-608c-4788-b148-4c5beee45700",
   "metadata": {},
   "source": [
    "<h1>Estimate size factors</h1>"
   ]
  },
  {
   "cell_type": "markdown",
   "id": "128c2a91-0de4-4c3b-bfce-1d7f5ef3f128",
   "metadata": {},
   "source": [
    "Now, let's estimate the size factors for our dataset. In other words, this is the information that controls for differences in library size and the final number of counted reads that were assigned to an annotated gene. \n",
    "\n",
    "Since we truncated our dataset down to 1M reads for all our samples, you'll see that all the size factors are estimated to be approximately 1.\n",
    "\n",
    "```\n",
    "dds <- estimateSizeFactors(dds)\n",
    "```\n",
    "\n",
    "Here, we estimate the size factors and add the data into our <code>DESeqDataSet</code>."
   ]
  },
  {
   "cell_type": "code",
   "execution_count": null,
   "id": "5dfa3caa-e1f1-40d1-afee-153f887789f5",
   "metadata": {},
   "outputs": [],
   "source": []
  },
  {
   "cell_type": "markdown",
   "id": "0bd02592-b973-45c3-aa08-7d142e93f186",
   "metadata": {},
   "source": [
    "Like how we pulled out our raw counts using <code>counts()</code>, we'll use the function <code>sizeFactors()</code> to pull the estimated size factors out of our dataset."
   ]
  },
  {
   "cell_type": "code",
   "execution_count": null,
   "id": "f501fc69-0b25-42ac-b750-ed7994edabd2",
   "metadata": {},
   "outputs": [],
   "source": []
  },
  {
   "cell_type": "markdown",
   "id": "77fe319f-0be6-4687-bed5-af4adf1a558f",
   "metadata": {},
   "source": [
    "<h1>Pull out normalized counts data</h1>"
   ]
  },
  {
   "cell_type": "markdown",
   "id": "a8d9f7fe-45a6-43bd-aa38-22078ed49d2f",
   "metadata": {},
   "source": [
    "In order to be able to compare our counts between samples, we first need to normalize our counts. There are a number of different normalization methods, and Dr. Ingolia touched on a few of them in lecture. DESeq2 normalizes raw count data using a median of ratios method.\n",
    "\n",
    "To pull out normalized counts from our dataset, we can make use of the <code>counts()</code> function like we did previously to pull out our raw counts, but we can provide it with an additional argument <code>normalized = TRUE</code> to get the normalized counts.\n",
    "\n",
    "```\n",
    "norm.counts <- counts(dds, normalized = TRUE)\n",
    "```"
   ]
  },
  {
   "cell_type": "code",
   "execution_count": null,
   "id": "5c690177-179e-437f-a76b-ff1cbb4fe7b4",
   "metadata": {},
   "outputs": [],
   "source": []
  },
  {
   "cell_type": "code",
   "execution_count": null,
   "id": "f75e7e6a-87be-48c1-8e8a-2cf58d0c21b6",
   "metadata": {},
   "outputs": [],
   "source": []
  },
  {
   "cell_type": "markdown",
   "id": "1cda8e3e-beee-475a-8c48-8b68bb09baf0",
   "metadata": {},
   "source": [
    "<h1>Visualize count variances</h1>"
   ]
  },
  {
   "cell_type": "markdown",
   "id": "1a13f05f-4172-4f52-8a1c-a922e95472a8",
   "metadata": {},
   "source": [
    "Let's do a quick visualization of the variance in our data to get an idea of where the variance lies in our data. Genes that don't vary much or at all between samples aren't informative for a principal component analysis, while those that do can be used to cluster our samples. \n",
    "\n",
    "We'll take a look at two types of normalizations of our dataset. One is the standard log2 transformation, and another is a regularized log transformation, which accounts for the fact that low count genes will have higher variance."
   ]
  },
  {
   "cell_type": "markdown",
   "id": "76753ff0-cb91-43ff-8a1d-cb448d24706c",
   "metadata": {},
   "source": [
    "<h2>Perform an log2 transformation on normalized counts</h2>"
   ]
  },
  {
   "cell_type": "markdown",
   "id": "0d7ab8d1-cfc5-4f76-80eb-75608eb3d669",
   "metadata": {},
   "source": [
    "We'll first take a look at our dataset after a standard log2 transformation using the <code>normTransform()</code> function.\n",
    "\n",
    "```\n",
    "log2.norm.counts <- normTransform(dds)\n",
    "```"
   ]
  },
  {
   "cell_type": "code",
   "execution_count": null,
   "id": "dbdacc1e-ffbc-4256-b964-cc6fb86d6cf2",
   "metadata": {},
   "outputs": [],
   "source": []
  },
  {
   "cell_type": "markdown",
   "id": "5eb856c7-f941-473a-bb1c-550c71e1a411",
   "metadata": {},
   "source": [
    "Let's pull out the normalized, log2 transformed counts using the <code>assay()</code> accessor function."
   ]
  },
  {
   "cell_type": "code",
   "execution_count": null,
   "id": "99815871-0458-4de9-935a-1e967ff2c929",
   "metadata": {},
   "outputs": [],
   "source": []
  },
  {
   "cell_type": "markdown",
   "id": "b3612eb9-5e64-47d2-a36d-a65f6fc688c3",
   "metadata": {},
   "source": [
    "<h2>Plot the standard deviation of data</h2>"
   ]
  },
  {
   "cell_type": "markdown",
   "id": "3491a263-f0f6-4c9c-82e5-1afe7d47dcde",
   "metadata": {},
   "source": [
    "We'll now make use of the <code>meanSdPlot()</code> function of the <code>vsn</code> package to visualize the standard deviation of our counts.\n",
    "\n",
    "<a href=\"https://www.bioconductor.org/packages/release/bioc/manuals/vsn/man/vsn.pdf\" rel=\"noopener noreferrer\" target=\"_blank\"><u>Documentation for vsn including <code>meanSdPlot()</code> is here.</u></a>\n",
    "\n",
    "```\n",
    "vsn::meanSdPlot(assay(log2.norm.counts))\n",
    "```\n",
    "\n",
    "Breaking down this line of code:\n",
    "\n",
    "<code>vsn::meanSdPlot()</code>\n",
    "\n",
    "We call up the <code>meanSdPlot()</code> function. Since we just installed the library and didn't load it like we did with DESeq2 and ggplot2, we'll need to call up the package first (kind of like what we do in Python). In this case, the syntax is <code>vsn::</code>.\n",
    "\n",
    "<hr style=\"border: 1px solid; border-color: #AAAAAA;\"></hr>\n",
    "\n",
    "<code>assay()</code>\n",
    "\n",
    "This is an accessor function that allows us to pull our data out of the <code>DESeqDataSet</code>, kind of like the <code>counts()</code> function.\n",
    "\n",
    "<hr style=\"border: 1px solid; border-color: #AAAAAA;\"></hr>\n",
    "\n",
    "<code>log2.norm.counts</code>\n",
    "\n",
    "We specify the data that we want to pull out."
   ]
  },
  {
   "cell_type": "code",
   "execution_count": null,
   "id": "56ee1fa3-971e-413b-99eb-47205a3320f4",
   "metadata": {},
   "outputs": [],
   "source": [
    "log2.norm.plot <- vsn::meanSdPlot(assay(log2.norm.counts))"
   ]
  },
  {
   "cell_type": "markdown",
   "id": "b17b3904-719d-4b61-80cd-dfc591aa72a9",
   "metadata": {},
   "source": [
    "<a href=\"https://www.bioconductor.org/packages/release/bioc/html/vsn.html\" rel=\"noopener noreferrer\" target=\"_blank\"><u>In the documentation for the vsn package</u></a>, you can access the ggplot object by pulling it out and modifying it by layering on additional plot components via ggplot2."
   ]
  },
  {
   "cell_type": "code",
   "execution_count": null,
   "id": "2f65106a-2800-465f-b02b-4bf3d07452f2",
   "metadata": {},
   "outputs": [],
   "source": []
  },
  {
   "cell_type": "markdown",
   "id": "0c69ca1f-29cf-45a5-bce3-e5044974f2f5",
   "metadata": {},
   "source": [
    "<h2>Perform a regularized log (rlog) transformation of data</h2>"
   ]
  },
  {
   "cell_type": "markdown",
   "id": "2d175c11-c276-4b4b-83a7-8e976a74084f",
   "metadata": {},
   "source": [
    "Let's compare how the variation looks like when we take into account the fact that lowly expressed genes will have higher variance by performing a regularized log transformation and then plotting the standard deviation of the rlog transformed data.\n",
    "\n",
    "```\n",
    "rld <- rlog(dds, blind=FALSE)\n",
    "```\n",
    "\n",
    "This type of transformation isn't performed on counts for differential analysis. Instead, this type of transformation is used for data visualization and clustering."
   ]
  },
  {
   "cell_type": "code",
   "execution_count": null,
   "id": "44bb2140-b3c9-404f-a8ac-2556ba3d544f",
   "metadata": {},
   "outputs": [],
   "source": []
  },
  {
   "cell_type": "code",
   "execution_count": null,
   "id": "030de300-55d6-49f3-8241-7c275b92071b",
   "metadata": {},
   "outputs": [],
   "source": []
  },
  {
   "cell_type": "markdown",
   "id": "e9be307a-9ddf-42ee-bc86-fea839f08fc4",
   "metadata": {},
   "source": [
    "<h2>Exercise #2: Plot standard deviation after rlog transformation</h2>"
   ]
  },
  {
   "cell_type": "markdown",
   "id": "438c57fe-0b69-4e36-bba6-0f533cf2e9a9",
   "metadata": {},
   "source": [
    "Using what you've learned earlier for plotting, and generate a similar plot but with the rlog transformed dataset. "
   ]
  },
  {
   "cell_type": "code",
   "execution_count": null,
   "id": "bd358822-60ac-4409-9a2c-c1813f25acc9",
   "metadata": {},
   "outputs": [],
   "source": []
  },
  {
   "cell_type": "markdown",
   "id": "33b07b91-1c3d-47f9-8525-e59e9ecfd8c8",
   "metadata": {},
   "source": [
    "You should see that the resulting plot looks quite different, and the lower ranked genes no longer have an extremely high variance that swamps out the rest of the dataset."
   ]
  },
  {
   "cell_type": "markdown",
   "id": "4ea4b5cf-c234-4220-a09a-1853460b748b",
   "metadata": {},
   "source": [
    "<h1>Guided Exercise: Pull top 500 variable genes for principal component analysis</h1>"
   ]
  },
  {
   "cell_type": "markdown",
   "id": "286bd9c3-e073-4079-b3e9-b8ff168e3ccc",
   "metadata": {},
   "source": [
    "As briefly mentioned previously, we'll focus on the most variable genes in our dataset since that will allow us to perform clustering on our samples. Genes that are not highly variable don't provide much helpful information for us when grouping our samples.\n",
    "\n",
    "We'll want to work with just the rlog transformed counts, so first, how do we get our rlog transformed counts?"
   ]
  },
  {
   "cell_type": "code",
   "execution_count": null,
   "id": "db150e54-3d19-4b77-82e7-c27944e4341a",
   "metadata": {},
   "outputs": [],
   "source": []
  },
  {
   "cell_type": "markdown",
   "id": "f358b3c2-513e-4ad5-b8b3-bc6bdac41806",
   "metadata": {},
   "source": [
    "Once we have our rlog transformed counts, what should we do next?"
   ]
  },
  {
   "cell_type": "code",
   "execution_count": null,
   "id": "4d3ead4d-bc4b-4fca-948f-4f01a4083e28",
   "metadata": {},
   "outputs": [],
   "source": []
  },
  {
   "cell_type": "markdown",
   "id": "00573666-a204-4f3f-b1ef-989131fc716a",
   "metadata": {},
   "source": [
    "<h1>Perform a principal component analysis</h1>"
   ]
  },
  {
   "cell_type": "markdown",
   "id": "96b62fe1-653f-47bb-802d-17657d7c3c53",
   "metadata": {},
   "source": [
    "With our top 500 genes that have the highest variance, we can perform a principal component analysis. We'll use the mixOmics package's <code>pca()</code> function to calculate the proportion of explained variance for the first 10 principal components. Then we'll use ggplot2 to generate a biplot, where we plot principal component 1 against principal component 2 and visualize how the clusters separate out from one another.\n",
    "\n",
    "<a href=\"https://www.bioconductor.org/packages/release/bioc/manuals/mixOmics/man/mixOmics.pdf\" rel=\"noopener noreferrer\" target=\"_blank\"><u>Documentation for mixOmics, including <code>pca()</code> is here.</u></a>\n",
    "\n",
    "```\n",
    "pca.out <- mixOmics::pca(t(top500.var.rld), ncomp=10)\n",
    "```\n",
    "\n",
    "Let's break down this line of code:\n",
    "\n",
    "<code>pca.out</code>\n",
    "\n",
    "This is the variable to which we will assign our PCA results.\n",
    "\n",
    "<hr style=\"border: 1px solid; border-color: #AAAAAA;\"></hr>\n",
    "\n",
    "<code>&lt;-<code>\n",
    "\n",
    "This is our assignment operator.\n",
    "\n",
    "<hr style=\"border: 1px solid; border-color: #AAAAAA;\"></hr>\n",
    "\n",
    "<code>mixOmics::</code>\n",
    "\n",
    "We're calling up a function of the mixOmics package.\n",
    "\n",
    "<hr style=\"border: 1px solid; border-color: #AAAAAA;\"></hr>\n",
    "\n",
    "<code>pca()</code>\n",
    "\n",
    "Specifically, the function that we're calling up is the <code>pca()</code> function.\n",
    "\n",
    "<hr style=\"border: 1px solid; border-color: #AAAAAA;\"></hr>\n",
    "\n",
    "<code>t(top500.var.rld)</code>\n",
    "\n",
    "This argument consists of two parts. The first part is the <code>t()</code> function, which transposes our dataset, much like how we can transpose a pandas DataFrame. Since the <code>pca()</code> function uses the rows to determine clustering, we need to transpose our dataset. The second part is <code>top500.var.rld</code>, which is the dataframe containing our rlog transformed counts. This will be transposed by the <code>t()</code> function, and then passed to the <code>pca()</code> function.\n",
    "\n",
    "<hr style=\"border: 1px solid; border-color: #AAAAAA;\"></hr>\n",
    "\n",
    "<code>ncomp = 10</code>\n",
    "\n",
    "This argument specifies the number of principal components that we will be calculating. We'll calculate ten principal components."
   ]
  },
  {
   "cell_type": "code",
   "execution_count": null,
   "id": "89e8bb3a-e4c3-437d-923f-b258776f6e92",
   "metadata": {},
   "outputs": [],
   "source": []
  },
  {
   "cell_type": "markdown",
   "id": "78253262-3d1a-4d2a-842c-0596db0815d7",
   "metadata": {},
   "source": [
    "Let's take a look at whats contained in our PCA results."
   ]
  },
  {
   "cell_type": "code",
   "execution_count": null,
   "id": "af4fda78-0875-45be-a861-a181be36400f",
   "metadata": {},
   "outputs": [],
   "source": []
  },
  {
   "cell_type": "markdown",
   "id": "5acc32b5-9879-4854-a10f-f4409ad818fb",
   "metadata": {},
   "source": [
    "<h1>Guided Exercise: Set up to plot a biplot</h1>"
   ]
  },
  {
   "cell_type": "markdown",
   "id": "fb040ba4-95dd-4c45-ae55-739d8709e662",
   "metadata": {},
   "source": [
    "With the results from our principal component analysis, we can begin setting up a biplot, where we plot the first principal component (PC1) against the second one (PC2).\n",
    "\n",
    "Since PC1 and PC2 together explain the large proportion of the variance in our dataset, we should be able to see samples cluster away from each other. \n",
    "\n",
    "And if we plot other principal components, we wouldn't expect such obvious clustering."
   ]
  },
  {
   "cell_type": "markdown",
   "id": "3fb4d02e-bed2-4ab4-a693-399cdb7899aa",
   "metadata": {},
   "source": [
    "<h2>Pull proportion of explained variance into a new dataframe</h2>"
   ]
  },
  {
   "cell_type": "markdown",
   "id": "d8ad1885-617b-4b06-8baf-6a988868f0d7",
   "metadata": {},
   "source": [
    "To make plotting a little bit simpler, we'll create a new dataframe containing just the proportion of explained variance. So when we want to pull these values to label our axes, we can simply use a similar notation to the one we used in Python.\n",
    "\n",
    "So first, we'll create the dataframe:\n",
    "\n",
    "```\n",
    "pro.var.expl <- as.data.frame(pca.out$prop_expl_var)\n",
    "```\n",
    "\n",
    "Breaking down this line of code, we get:\n",
    "\n",
    "<code>pro.var.expl</code>\n",
    "\n",
    "This is our variable that will point to our new dataframe.\n",
    "\n",
    "<hr style=\"border: 1px solid; border-color: #AAAAAA;\"></hr>\n",
    "\n",
    "<code>&lt;-</code>\n",
    "\n",
    "This is our assignment operator.\n",
    "\n",
    "<hr style=\"border: 1px solid; border-color: #AAAAAA;\"></hr>\n",
    "\n",
    "<code>as.data.frame()</code>\n",
    "\n",
    "This converts an object into a data frame. Conceptually, it's similar to <code>pd.DataFrame()</code> that we're familiar with in Python. \n",
    "\n",
    "<hr style=\"border: 1px solid; border-color: #AAAAAA;\"></hr>\n",
    "\n",
    "<code>pca.out</code>\n",
    "\n",
    "This is the variable to which we previously assigned our PCA results. <a href=\"https://www.bioconductor.org/packages/release/bioc/manuals/mixOmics/man/mixOmics.pdf\" rel=\"noopener noreferrer\" target=\"_blank\"><u>If we dig into the documentation</u></a>, we can see that the output of mixOmics' <code>pca()</code> function is a <code>pca</code> class object that contains different information that we can pull out.\n",
    "\n",
    "<hr style=\"border: 1px solid; border-color: #AAAAAA;\"></hr>\n",
    "\n",
    "<code>$</code>\n",
    "\n",
    "This is an operator in R that allows us to pull out values out of an object, such as a matrix, or in this case a <code>pca</code> class object. \n",
    "\n",
    "<hr style=\"border: 1px solid; border-color: #AAAAAA;\"></hr>\n",
    "\n",
    "<code>prop_expl_var</code>\n",
    "\n",
    "We're pulling out a list of values from our variable <code>pca.out</code>, and we're specifically pulling out the proportion of explained variance, which has the value <code>prop_expl_var</code>. \n",
    "\n",
    "So with this line of code, we'll have a dataframe that contains the calculated proportion of explained variance for our ten principal components."
   ]
  },
  {
   "cell_type": "code",
   "execution_count": null,
   "id": "0fc2b4df-7f7e-4fc5-b894-477bec8c4cf4",
   "metadata": {},
   "outputs": [],
   "source": []
  },
  {
   "cell_type": "markdown",
   "id": "43fa2af1-6cd7-4d7c-8c8a-1aad91c1f27d",
   "metadata": {},
   "source": [
    "Let's take a quick look at the dataframe."
   ]
  },
  {
   "cell_type": "code",
   "execution_count": null,
   "id": "ca2f4be5-560c-4984-ac99-64afc048cef7",
   "metadata": {},
   "outputs": [],
   "source": []
  },
  {
   "cell_type": "markdown",
   "id": "8607e7dc-8d41-4455-8e62-1bf0963eddae",
   "metadata": {},
   "source": [
    "<h2>Pull coordinate values for each sample's principal components</h2>"
   ]
  },
  {
   "cell_type": "markdown",
   "id": "39b322e8-c90e-4310-9e14-3a830a87c492",
   "metadata": {},
   "source": [
    "We can pull out the coordinate information for each of our samples from our <code>pca.out</code> object and use that information to generate a biplot. <a href=\"https://www.bioconductor.org/packages/release/bioc/manuals/mixOmics/man/mixOmics.pdf\" rel=\"noopener noreferrer\" target=\"_blank\"><u>If we dig into the documentation for mixOmics' <code>pca()</code> function</u></a>, we can see that among the things that we can pull from the output, one of them is the <code>variates</code>, which contains the coordinate information for each sample when it's projected on each principal component. Recall from Dr. Ingolia's lecture that principal component analysis is one way of reducing the dimensionality of a dataset while still preserving the information of the original dataset.\n",
    "\n",
    "So to pull out the coordinate information:\n",
    "\n",
    "```\n",
    "pca.coord <- pca.out$variates\n",
    "```"
   ]
  },
  {
   "cell_type": "code",
   "execution_count": null,
   "id": "c42dddae-3152-42a5-b89f-e6a5dad2ab2a",
   "metadata": {},
   "outputs": [],
   "source": []
  },
  {
   "cell_type": "markdown",
   "id": "f2f79c27-815e-43e3-8742-c420321d1761",
   "metadata": {},
   "source": [
    "Let's take a look at the object:"
   ]
  },
  {
   "cell_type": "code",
   "execution_count": null,
   "id": "c5a5ed81-f0f6-4efe-89d4-7fb846e4a124",
   "metadata": {},
   "outputs": [],
   "source": []
  },
  {
   "cell_type": "markdown",
   "id": "899a9444-1bc6-478f-bc1f-13e4461c1278",
   "metadata": {},
   "source": [
    "We can then pull out the matrix contained within the list <code>X</code> to use to create our dataframe:\n",
    "\n",
    "```\n",
    "pca.coord <- pca.coord$X\n",
    "```"
   ]
  },
  {
   "cell_type": "code",
   "execution_count": null,
   "id": "f620b05a-6dcc-441c-819a-55a4adc04b09",
   "metadata": {},
   "outputs": [],
   "source": []
  },
  {
   "cell_type": "code",
   "execution_count": null,
   "id": "5f4321d7-3a38-451a-9098-e8a318219035",
   "metadata": {},
   "outputs": [],
   "source": []
  },
  {
   "cell_type": "markdown",
   "id": "9a745d0d-b951-450e-948a-bbd3f241093f",
   "metadata": {},
   "source": [
    "And we can create a dataframe from it:\n",
    "\n",
    "```\n",
    "pca.coord <- as.data.frame(pca.coord)\n",
    "```"
   ]
  },
  {
   "cell_type": "code",
   "execution_count": null,
   "id": "ff406642-e548-4b27-915b-887a472abca7",
   "metadata": {},
   "outputs": [],
   "source": []
  },
  {
   "cell_type": "code",
   "execution_count": null,
   "id": "71caec7e-ae45-446f-8e9e-7da4f83fd7ea",
   "metadata": {},
   "outputs": [],
   "source": []
  },
  {
   "cell_type": "markdown",
   "id": "32a11908-def1-4290-9a75-c32a7bc10a96",
   "metadata": {},
   "source": [
    "We can also do this in a single line as follows:\n",
    "\n",
    "```\n",
    "pca.coord <- as.data.frame(pca.out$variates$X)\n",
    "```\n",
    "\n",
    "And another alternative is that we can subsitute <code>$variates$X</code> with <code>$x</code> (lower case x) to directly get the coordinates matrix.\n",
    "\n",
    "```\n",
    "pca.coord <- as.data.frame(pca.out$x)\n",
    "```"
   ]
  },
  {
   "cell_type": "code",
   "execution_count": null,
   "id": "ca0d1615-02b9-46f7-946b-34b9fd0b84ec",
   "metadata": {},
   "outputs": [],
   "source": []
  },
  {
   "cell_type": "markdown",
   "id": "deefe0a9-45df-476d-927c-d2fe579bf1bc",
   "metadata": {},
   "source": [
    "<h2>Plot biplot of PC1 vs PC2</h2>"
   ]
  },
  {
   "cell_type": "markdown",
   "id": "cbf02319-6f4c-4a15-ac4a-1efc2102a0c4",
   "metadata": {},
   "source": [
    "With the coordinates for our principal components, we can generate biplots to visualize the groupings of our samples. This can help us to determine if there may have been batch effects or potential issues with a sample that we may want to keep in mind during our differential expression analysis.\n",
    "\n",
    "To generate these plots, we'll make use of ggplot2 first by starting with a basic ggplot object and then layering on additional plot components on top of it."
   ]
  },
  {
   "cell_type": "code",
   "execution_count": null,
   "id": "9addc1d2-5e23-4f5e-a984-567f4a1f6b2a",
   "metadata": {},
   "outputs": [],
   "source": []
  },
  {
   "cell_type": "markdown",
   "id": "b3c3dafa-3274-45fb-97b6-64208ae76895",
   "metadata": {},
   "source": [
    "<h2>Exercise #3: Plot a biplot of PC2 vs PC3</h2>"
   ]
  },
  {
   "cell_type": "markdown",
   "id": "d5d24e33-6059-4a77-a7e6-4ab4488cf320",
   "metadata": {},
   "source": [
    "See if you can set up a biplot using the coordinates for PC2 and PC3, seeing what you can substitute out from the above code that we used to generate a biplot of PC1 vs PC2."
   ]
  },
  {
   "cell_type": "code",
   "execution_count": null,
   "id": "c791f5ec-2039-4b05-afd2-071573cd653c",
   "metadata": {},
   "outputs": [],
   "source": []
  },
  {
   "cell_type": "markdown",
   "id": "50749260-d8de-4fa5-a44c-5e2f75b91efe",
   "metadata": {},
   "source": [
    "What do you see for this biplot and how does it compare to PC1 vs PC2?"
   ]
  },
  {
   "cell_type": "markdown",
   "id": "0f8874c1-b121-4f15-a51e-4ea6442baeef",
   "metadata": {},
   "source": [
    "<h1 style=\"font-size: 40px; margin-bottom: 0px;\">References</h1>\n",
    "\n",
    "<hr style=\"margin-left: 0px; border: 0.25px solid; border-color: #000000; width: 400px;\"></hr>"
   ]
  },
  {
   "cell_type": "markdown",
   "id": "21c36cc5-76d5-4e2f-b564-d2429ad0ac0e",
   "metadata": {},
   "source": [
    "<p><a href=\"https://genomebiology.biomedcentral.com/articles/10.1186/s13059-014-0550-8\" rel=\"noopener noreferrer\" target=\"_blank\"><u>Love et al 2014 Genome Biol:</u></a> Moderated estimation of fold change and dispersion for RNA-seq data with DESeq2</p>\n",
    "\n",
    "<p><a href=\"https://ggplot2.tidyverse.org\" rel=\"noopener noreferrer\" target=\"_blank\"><u>H. Wickham. ggplot2: Elegant Graphics for Data Analysis. Springer-Verlag New York, 2016.</u></a></p>\n",
    "\n",
    "<p><a href=\"https://journals.plos.org/ploscompbiol/article?id=10.1371/journal.pcbi.1005752\" rel=\"noopener noreferrer\" target=\"_blank\"><u>Rohart et al 2017 PLoS Comp Biol:</u></a> mixOmics: An R package for ‘omics feature selection and multiple data integration</p>"
   ]
  },
  {
   "cell_type": "code",
   "execution_count": null,
   "id": "ecd7e34d-9711-480a-b488-ab57e7d5df38",
   "metadata": {},
   "outputs": [],
   "source": []
  }
 ],
 "metadata": {
  "kernelspec": {
   "display_name": "R",
   "language": "R",
   "name": "ir"
  },
  "language_info": {
   "codemirror_mode": "r",
   "file_extension": ".r",
   "mimetype": "text/x-r-source",
   "name": "R",
   "pygments_lexer": "r",
   "version": "4.4.1"
  }
 },
 "nbformat": 4,
 "nbformat_minor": 5
}
