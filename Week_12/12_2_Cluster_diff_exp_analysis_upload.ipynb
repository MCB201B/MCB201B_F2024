{
 "cells": [
  {
   "cell_type": "markdown",
   "id": "7dd6658d-91d1-418b-b309-08bb339c7ae1",
   "metadata": {},
   "source": [
    "<h1 style=\"font-size: 40px; margin-bottom: 0px;\">12.2 Clustering and Differential Expression Analysis</h1>\n",
    "\n",
    "<hr style=\"margin-left: 0px; border: 0.25px solid; border-color: #000000; width: 950px;\"></hr>"
   ]
  },
  {
   "cell_type": "markdown",
   "id": "a055c1e8-b439-480e-b06f-ab0011ea3ac1",
   "metadata": {},
   "source": [
    "Today, we'll continue to play around with our RNA-seq counts by looking at two other ways we can cluster our data, and then we'll perform differential expression analysis to obtain a .csv file that we can then load into Python. As we're performing the differential expression analysis, we'll break it up into smaller steps to review what Dr. Ingolia taught in lecture to see what's going on under the hood.\n",
    "\n",
    "<strong>Learning objectives:</strong>\n",
    "\n",
    "<ul>\n",
    "    <li>Play with color palettes</li>\n",
    "    <li>Explore clustering methods</li>\n",
    "    <li>Review differential expression analysis</li>\n",
    "    <li>Perform differential expression analysis</li>\n",
    "</ul>"
   ]
  },
  {
   "cell_type": "markdown",
   "id": "c54352fa-50a6-479e-bf0e-c7d2c0459218",
   "metadata": {},
   "source": [
    "<h1>Load in packages</h1>"
   ]
  },
  {
   "cell_type": "markdown",
   "id": "1dc7f59f-b9ee-4d3c-a36a-3250a22b9c70",
   "metadata": {},
   "source": [
    "Like our previous lesson, we'll first load in the packages that we'll need for today's analysis, and then we'll briefly review some of the initial steps of DESeq2 that we did previously to set up for our principal component analysis. We'll have the same set up here in this notebook in order to perform some other clustering methods.\n",
    "\n",
    "Two new packages that we'll make use of today are <code>pheatmap</code> to generate heatmaps and <code>viridis</code> to get a specific type of color palette. And we'll still be making use of <code>DESeq2</code>, <code>ggplot2</code>, and <code>hexbin</code>. "
   ]
  },
  {
   "cell_type": "code",
   "execution_count": null,
   "id": "337ae0c4-0ed0-4744-8b2a-5536287e2bd7",
   "metadata": {},
   "outputs": [],
   "source": [
    "library(DESeq2)\n",
    "library(ggplot2)\n",
    "BiocManager::install(\"hexbin\")\n",
    "library(pheatmap)\n",
    "library(viridis)"
   ]
  },
  {
   "cell_type": "markdown",
   "id": "9c602dc7-fb98-4603-bf9c-6c502bd7ebc7",
   "metadata": {},
   "source": [
    "<h1>Play with color palettes in R</h1>"
   ]
  },
  {
   "cell_type": "markdown",
   "id": "b3291ad8-2d31-4588-b1d6-1c77ed700095",
   "metadata": {},
   "source": [
    "So to start off with today, we'll play around with some color palettes. Specifically, we can take a look at the viridis colormap, which you might recognize as the default colormap for matplotlib in Python when we didn't specify a colormap for our imported image files. We'll then make use of these color palettes that we create for visualizing our clustering results.\n",
    "\n",
    "<a href=\"https://cran.r-project.org/web/packages/viridis/vignettes/intro-to-viridis.html\" rel=\"noopener noreferrer\" target=\"_blank\"><u>A helpful vignette on the viridis color scale can be found here</u></a> (Rudis, Ross and Garnier). It describes the different color scales contained within the viridis package, and also demonstrates how the color scales, particularly viridis (designed by Eric Firing), is useful for data visualization that is readable by those with different types of color-blindness, allowing your data visualizations to be more accessible. The vignette also contains a pretty visualization that we can use to test out our own color palettes as well."
   ]
  },
  {
   "cell_type": "markdown",
   "id": "1bcaf355-e323-42e0-901e-11e9011eb020",
   "metadata": {},
   "source": [
    "<h2>Viridis color palette</h2>"
   ]
  },
  {
   "cell_type": "markdown",
   "id": "bd04cd3f-b1af-4cfa-8a26-ce667bf4f0b5",
   "metadata": {},
   "source": [
    "We can use the <code>viridis()</code> function to quickly generate a list of hex codes corresponding to the viridis color palette. We can provide it with the number of hex codes we want it to generate, and it will generate a list spanning the viridis color map.\n",
    "\n",
    "```\n",
    "viridis(255)\n",
    "```\n",
    "\n",
    "This example will generate a list containing 255 hex codes that span the viridis color map."
   ]
  },
  {
   "cell_type": "code",
   "execution_count": null,
   "id": "9b87461c-8b40-4506-b98b-de5579a92904",
   "metadata": {},
   "outputs": [],
   "source": []
  },
  {
   "cell_type": "markdown",
   "id": "20b4fe99-dfc3-4286-a939-36e65c915116",
   "metadata": {},
   "source": [
    "Now let's see how the colors work in a visualization, pulling the code from the vignette with some slight modifications:"
   ]
  },
  {
   "cell_type": "code",
   "execution_count": null,
   "id": "d7d49f65-ca91-4840-97cb-3a88373e8bea",
   "metadata": {},
   "outputs": [],
   "source": [
    "ggplot(data.frame(x = rnorm(10000), y = rnorm(10000)), aes(x = x, y = y)) +\n",
    "    geom_hex() +\n",
    "    theme_void() +\n",
    "    coord_fixed() +\n",
    "    scale_fill_gradientn(colors=viridis(255))"
   ]
  },
  {
   "cell_type": "markdown",
   "id": "754e61ec-5de8-4d58-84ce-8a3b71f41c05",
   "metadata": {},
   "source": [
    "<h2>Setting up a color palette using <code>colorRampPalette()</code></h2>"
   ]
  },
  {
   "cell_type": "markdown",
   "id": "cb2a0d03-3336-4a5d-8ed3-caf5b742d8d4",
   "metadata": {},
   "source": [
    "Plenty of different color maps exist both for R and in Python, which can be used for data visualizations such as heatmaps. However, sometimes you might feel that existing color maps don't capture exactly how you want your data to be visualized stylistically. In that case, you can make use of the <code>colorRampPalette()</code> function to generate your own graded color palettes. <a href=\"https://www.rdocumentation.org/packages/dichromat/versions/1.1/topics/colorRampPalette\" rel=\"noopener noreferrer\" target=\"_blank\"><u>Documentation for <code>colorRampPalette()</code> is here.</u></a>\n",
    "\n",
    "So you can provide the function with a list of your colors (either names, hex codes, etc) that you want it to span, and it can generate a gradient of colors that span the ones you specify:\n",
    "\n",
    "```\n",
    "my.fav.col.map <- colorRampPalette(colors = c(\"aquamarine\", \"grey\", \"hotpink\"))\n",
    "```\n",
    "\n",
    "<a href=\"https://www.nceas.ucsb.edu/sites/default/files/2020-04/colorPaletteCheatsheet.pdf\" rel=\"noopener noreferrer\" target=\"_blank\"><u>A helpful cheatsheet for colors and other color palettes can be found here by Melanie Frazier.</u></a>\n",
    "\n",
    "\n",
    "You can then specify how many hex codes to generate by slightly modifying your line of code:\n",
    "\n",
    "```\n",
    "my.fav.col.map <- colorRampPalette(colors = c(\"aquamarine\", \"grey\", \"hotpink\"))(255)\n",
    "```\n",
    "\n",
    "In this setup, you'll generate a list of 255 hex codes that span from aquamarine to grey to hot pink. \n",
    "\n",
    "Then, you can provide this color map to your functions for data visualizations, allowing you to create custom color maps based on the needs of your individual figures or the data/information that you are trying to convey."
   ]
  },
  {
   "cell_type": "code",
   "execution_count": null,
   "id": "9e702312-2601-4feb-ad92-c52f47c0f940",
   "metadata": {},
   "outputs": [],
   "source": []
  },
  {
   "cell_type": "code",
   "execution_count": null,
   "id": "c20dbb3f-bfec-426b-81ef-6548adbde594",
   "metadata": {},
   "outputs": [],
   "source": []
  },
  {
   "cell_type": "code",
   "execution_count": null,
   "id": "010c1de6-3e7b-4d02-ae0d-79df4edbb107",
   "metadata": {},
   "outputs": [],
   "source": []
  },
  {
   "cell_type": "code",
   "execution_count": null,
   "id": "6099f0bc-35c8-494d-98b9-f685796c6cf4",
   "metadata": {},
   "outputs": [],
   "source": []
  },
  {
   "cell_type": "code",
   "execution_count": null,
   "id": "f0ce5a2c-690e-4ee7-841a-30a51fbeb41f",
   "metadata": {},
   "outputs": [],
   "source": []
  },
  {
   "cell_type": "markdown",
   "id": "c5f6feea-5045-4fbd-abb0-93b96fa9658d",
   "metadata": {},
   "source": [
    "<h1>Prepare your <code>DESeqDataSet</code></h1>"
   ]
  },
  {
   "cell_type": "markdown",
   "id": "8980f59f-9521-4ac2-afc2-de7ea426f047",
   "metadata": {},
   "source": [
    "Since this is a new notebook, we'll need to bring in our counts matrix and conditions matrix again and use them to create a <code>DESeqDataSet</code> for us to use to do some more clustering. \n",
    "\n",
    "For convenience, I've just copied over the code from our previous lesson, so you don't need to retype it."
   ]
  },
  {
   "cell_type": "code",
   "execution_count": null,
   "id": "3f69096a-febd-4ecd-91cd-fc4d416eb8b2",
   "metadata": {},
   "outputs": [],
   "source": [
    "#Here we're importing our counts matrix.\n",
    "counts <- read.csv('~/MCB201B_F2024/Week_10/quant/1M_counts_matrix.csv',\n",
    "                   stringsAsFactors=FALSE,\n",
    "                   row.names=1\n",
    "                   )\n",
    "\n",
    "#Then we're importing our conditions matrix.\n",
    "conditions <- read.csv('~/MCB201B_F2024/Week_10/quant/1M_conditions_matrix.csv',\n",
    "                   stringsAsFactors=FALSE,\n",
    "                   row.names=1\n",
    "                   )\n",
    "\n",
    "#Update our column headers to match\n",
    "colnames(counts) <- rownames(conditions)\n",
    "\n",
    "#Filter out non-expressed genes.\n",
    "means <- apply(counts, 1, mean)\n",
    "counts <- counts[which(means>0),]\n",
    "\n",
    "#Create your DESeqDataSet\n",
    "dds <- DESeqDataSetFromMatrix(countData = counts,\n",
    "                              colData = conditions,\n",
    "                              design = ~ condition\n",
    "                             )\n",
    "\n",
    "#Estimate size factors - this is actually the start of differential expression analysis\n",
    "dds <- estimateSizeFactors(dds)\n",
    "\n",
    "#Perform a regularized log transformation\n",
    "#Like with PCA, this will be the values we use for additional clustering\n",
    "#This part is not differential expression but more like QC\n",
    "rld <- rlog(dds, blind=FALSE)\n",
    "\n",
    "#Pull the rlog transformed values to sort them and get the top 500 variance genes\n",
    "rld.values <- assay(rld)\n",
    "rld.var.sort <- rld.values[order(rowVars(rld.values), decreasing = TRUE),]\n",
    "top500.var.rld <- head(rld.var.sort, 500)"
   ]
  },
  {
   "cell_type": "markdown",
   "id": "bcb8f1b8-c882-4465-b1a4-639f1925ed4f",
   "metadata": {},
   "source": [
    "<h1>Guided Exercise: Generate a distance matrix</h1>"
   ]
  },
  {
   "cell_type": "markdown",
   "id": "f5126476-6afa-47ab-af87-fcf99e1c5d28",
   "metadata": {},
   "source": [
    "Recall from Dr. Ingolia's clustering lecture that we can determine the similarities and dissimilarities of our samples by calculating their distances from one another, then using the resulting distance matrix to identify clusters of closely grouped samples. "
   ]
  },
  {
   "cell_type": "markdown",
   "id": "20bcab15-b54b-40fb-951b-ea17f01e70e4",
   "metadata": {},
   "source": [
    "<h2>Calculate distances between replicates</h2>"
   ]
  },
  {
   "cell_type": "markdown",
   "id": "330f2355-b25b-4fd4-9536-35b2f4010e04",
   "metadata": {},
   "source": [
    "To do this, we'll make use of the <code>dist()</code> function, which computes the distance matrix of a given data matrix. <a href=\"https://stat.ethz.ch/R-manual/R-devel/library/stats/html/dist.html\" rel=\"noopener noreferrer\" target=\"_blank\"><u>Documentation for <code>dist()</code> is here.</u></a> If we dig into the documentation, we can see that it calculates the Euclidean distance between the rows, and it will output an object that can the be converted to a matrix via the function <code>as.matrix()</code>.\n",
    "\n",
    "```\n",
    "rep.distances <- dist(t(assay(rld)))\n",
    "```\n",
    "\n",
    "Breaking down this line of code, we have:\n",
    "\n",
    "<code>rep.distances</code>\n",
    "\n",
    "This is the variable to which we are saving our <code>dist</code> object.\n",
    "\n",
    "<hr style=\"border: 1px solid; border-color: #AAAAAA;\"></hr>\n",
    "\n",
    "<code>&lt;-</code>\n",
    "\n",
    "This is our assignment operator.\n",
    "\n",
    "<hr style=\"border: 1px solid; border-color: #AAAAAA;\"></hr>\n",
    "\n",
    "<code>dist()</code>\n",
    "\n",
    "This is the function to calculate the Euclidean distance between each row.\n",
    "\n",
    "<hr style=\"border: 1px solid; border-color: #AAAAAA;\"></hr>\n",
    "\n",
    "<code>t(assay(rld))</code>\n",
    "\n",
    "Here, we provide it with the transposed rlog transformed counts matrix. Like with principal component analysis, the distances are determined between the rows, and since we are more interested in the similarities/differences between each of our replicates, we will provide it with a transposed matrix of our rlog transformed counts using the <code>t()</code> function."
   ]
  },
  {
   "cell_type": "code",
   "execution_count": null,
   "id": "eff0e729-1c34-45bd-b2ce-26fd323b943f",
   "metadata": {},
   "outputs": [],
   "source": []
  },
  {
   "cell_type": "markdown",
   "id": "676c925f-1a5f-45a1-a792-dbecaf1d4690",
   "metadata": {},
   "source": [
    "Let's take a look at the output:"
   ]
  },
  {
   "cell_type": "code",
   "execution_count": null,
   "id": "423af94d-ad78-45f8-b11e-11cd600e3d64",
   "metadata": {},
   "outputs": [],
   "source": []
  },
  {
   "cell_type": "markdown",
   "id": "e1cd1542-6254-40da-9ff5-d93ec7ccab6c",
   "metadata": {},
   "source": [
    "<h2>Convert to a matrix</h2>"
   ]
  },
  {
   "cell_type": "markdown",
   "id": "0d4c5753-e3f5-447a-bb55-db0b4476d697",
   "metadata": {},
   "source": [
    "Now we can convert our <code>dist</code> object into a matrix that we can then use to generate a heatmap of our data based on the distance values for each point in our matrix. To do this, we'll use <a href=\"https://stat.ethz.ch/R-manual/R-devel/library/base/html/matrix.html\" rel=\"noopener noreferrer\" target=\"_blank\"><u>a standard function called <code>as.matrix()</code></u></a>, which can convert our <code>dist</code> object into a 2D matrix. This function takes the object that you pass it and attempts to coerce it into a matrix.\n",
    "\n",
    "```\n",
    "rep.distances.matrix <- as.matrix(rep.distances)\n",
    "```"
   ]
  },
  {
   "cell_type": "code",
   "execution_count": null,
   "id": "b1ac3811-c86c-4506-9b2d-5d94984569c4",
   "metadata": {},
   "outputs": [],
   "source": []
  },
  {
   "cell_type": "markdown",
   "id": "c4e89d8f-245d-4866-9e08-0a14d6b8667e",
   "metadata": {},
   "source": [
    "Let's take a look at how our distance matrix looks:"
   ]
  },
  {
   "cell_type": "code",
   "execution_count": null,
   "id": "4bbb8660-ec10-4765-8ffa-10dafbf4bff6",
   "metadata": {},
   "outputs": [],
   "source": []
  },
  {
   "cell_type": "markdown",
   "id": "3982327e-f94c-419c-9409-32bd8e66a78f",
   "metadata": {},
   "source": [
    "<h1>Plot a heatmap of sample distances</h1>"
   ]
  },
  {
   "cell_type": "markdown",
   "id": "253931f4-0fbd-4d30-ae84-f66806a5b949",
   "metadata": {},
   "source": [
    "Now that we have a matrix of the Euclidean distances between our samples, we can then generate a heatmap of their distances while clustering our samples based on how close or far away they are from each other.\n",
    "\n",
    "For this type of plotting, we'll make use of the pheatmap package. <a href=\"https://cran.r-project.org/web/packages/pheatmap/pheatmap.pdf\" rel=\"noopener noreferrer\" target=\"_blank\"><u>Documentation for the pheatmap package is here.</u></a> Specifically, we'll make use of the <code>pheatmap()</code> function, which will allow us to cluster our data based on their Euclidean distances that we calculated using the <code>dist()</code> function."
   ]
  },
  {
   "cell_type": "code",
   "execution_count": null,
   "id": "e6d76329-0b93-4dba-9166-8061406e3f61",
   "metadata": {},
   "outputs": [],
   "source": []
  },
  {
   "cell_type": "markdown",
   "id": "72765d4e-4018-45f9-9dbc-f554ddd1b82a",
   "metadata": {},
   "source": [
    "You should see a heatmap colored with the color map that you specified, where the diagonal corresponds to a zero because it is the distance between the sample itself. \n",
    "\n",
    "We can identify groupings of our data based on the dendogram built up based on the distances (recall from Dr. Ingolia's lecture), and we can also see them as the larger squares that we see."
   ]
  },
  {
   "cell_type": "markdown",
   "id": "6e65105d-e246-4091-89fe-964acf75dee8",
   "metadata": {},
   "source": [
    "<h2>Save distance matrix heatmap</h2>"
   ]
  },
  {
   "cell_type": "markdown",
   "id": "7eefd6fd-b654-4167-b58e-e313b75d1a6e",
   "metadata": {},
   "source": [
    "We can make a quick adjustment to our code to then output the plot directly to a file rather than into the notebook by passing an additional argument to the <code>pheatmap()</code> function. This argument is <code>filename='name-of-file.ext'</code>."
   ]
  },
  {
   "cell_type": "markdown",
   "id": "ee5a5008-9026-4f4a-a9a4-b5d25250abc8",
   "metadata": {},
   "source": [
    "<h1>Perform hierarchical clustering</h1>"
   ]
  },
  {
   "cell_type": "markdown",
   "id": "dec95afe-e742-4282-bab7-4494e74f4e03",
   "metadata": {},
   "source": [
    "Another way of determining the similarities and dissimilarities of our samples is to perform hierarchical clustering based on our top 500 genes with the highest variance.\n",
    "\n",
    "We'll continue to make use of the <code>pheatmap()</code> function, but we'll provide it with a different set of arguments."
   ]
  },
  {
   "cell_type": "code",
   "execution_count": null,
   "id": "dafdd081-ff1d-4ac0-bc6b-7686c9113dc6",
   "metadata": {},
   "outputs": [],
   "source": []
  },
  {
   "cell_type": "markdown",
   "id": "c9347a62-fd6d-46c3-b996-15b22d635a7e",
   "metadata": {},
   "source": [
    "You should see a heatmap that looks a little different than the heatmap that we generated earlier. You can see how our data is grouped together, but now we can also see clusters of our genes, where we have clusters of genes that are overexpressed in our TAZ KO samples and groups of genes that exhibit reduced expression in our KO samples. \n",
    "\n",
    "You might notice that the legend for this figure looks different than that of our distance matrix heatmap. This is due to the fact that we supplied the argument <code>scale=\"row\"</code>. This argument centers the mean of the data around 0 and scales the standard deviation to be 1, which makes differences between the rows (our genes) more apparent. You'll want to be careful interpretting the result because a negative scaled value does not necessarily mean that the gene exhibits reduced expression. Rather, it means that it is however many standard deviations below the mean expression level for the dataset you're looking at. Try commenting out the <code>scale=\"row\"</code> argument to see how the heatmap changes.\n",
    "\n",
    "And again, if we want to output the figure into a file, we can make use of the same argument we used earlier. "
   ]
  },
  {
   "cell_type": "markdown",
   "id": "0d029475-bc44-4892-8357-8a2036343b6d",
   "metadata": {},
   "source": [
    "<h1>Differential Expression Analysis</h1>"
   ]
  },
  {
   "cell_type": "markdown",
   "id": "646aefc1-3339-419b-a3b9-9ac63345c7fa",
   "metadata": {},
   "source": [
    "Here, we'll return to our <code>DESeqDataSet</code> to finish up our differential expression analysis. Recall from Dr. Ingolia's lecture that we've already performed some of the intial steps for differential expression analysis, where we estimated the size factors in order to account for differences in sequencing depth."
   ]
  },
  {
   "cell_type": "markdown",
   "id": "6caedaa0-a0df-424a-9665-ccabc7612c75",
   "metadata": {},
   "source": [
    "<h2>Estimate Dispersions</h2>"
   ]
  },
  {
   "cell_type": "markdown",
   "id": "cc195bcb-7dfd-4235-aab6-60b44c4c0a21",
   "metadata": {},
   "source": [
    "The next step is to then estimate the spread of our measurements, otherwise referred to as the dispersion. DESeq2 calculates the estimated dispersion (&#593;) as a function of the mean (&micro;) and variance. In other words, the estimated dispersion is the expected spread of the data for a given mean based on your data. This allows DESeq2 to identify what is likely to be true variation in the data resulting from biological or technical effects by shrinking the dispersion  of each gene towards the calculated estimated value for that specific mean. This can be thought of as modeling what the noise is for our experiment in order to distinguish biological and technical differences in our samples from what are just noise in our measurements.\n",
    "\n",
    "We'll do this by making use of the <code>estimateDispersions()</code> function, which is part of the DESeq2 package.\n",
    "\n",
    "```\n",
    "dds <- estimateDispersions(dds)\n",
    "```\n",
    "\n",
    "Like with our other intermediate calculations, we place the output into our <code>DESeqDataSet</code>."
   ]
  },
  {
   "cell_type": "code",
   "execution_count": null,
   "id": "0322e380-a0c7-491d-8419-de7753fd9dc2",
   "metadata": {},
   "outputs": [],
   "source": []
  },
  {
   "cell_type": "markdown",
   "id": "9a4467d6-7ab4-4e1e-ba9e-9d2d1931726e",
   "metadata": {},
   "source": [
    "Then we can visualize the dispersion estimate using the <code>plotDispEsts()</code> function.\n",
    "\n",
    "```\n",
    "plotDispEsts(dds)\n",
    "```"
   ]
  },
  {
   "cell_type": "code",
   "execution_count": null,
   "id": "9a055c96-cf26-4eab-b31a-965a0aa3d1c3",
   "metadata": {},
   "outputs": [],
   "source": []
  },
  {
   "cell_type": "markdown",
   "id": "5792e0da-1cb6-43e4-bdcf-49e788cd878e",
   "metadata": {},
   "source": [
    "In the plot, each dot corresponds to a single gene plotted with its mean on the X-axis and its calculated dispersion on the Y-axis. The red line is the estimated dispersion based on your whole dataset. A \"good\" dispersion plot should have genes following the estimated dispersion. The blue indicates the final dispersion after shrinkage, essentially removing what variation may be just due to noise in the measurements. The dots with the genes showing potential biological or technical variation greater than the expected noise marked with a blue outline.\n",
    "\n",
    "What you would normally expect to see is a fitted line that increases in dispersion as the mean decreases (inversely correlated to mean). This is due to the fact that noise has a greater impact (accounts for more of the variation) when the mean is smaller."
   ]
  },
  {
   "cell_type": "markdown",
   "id": "cefc8d68-b89d-483c-a7d7-4157a236fd2e",
   "metadata": {},
   "source": [
    "<h2>Hypothesis testing: negative binomial Wald test to determine significance</h2>"
   ]
  },
  {
   "cell_type": "markdown",
   "id": "e9a53321-678d-45f5-b507-bdda8aa534d1",
   "metadata": {},
   "source": [
    "Finally, we'll use the Wald test to detect differentially expressed genes and determine if they are significant. DESeq2 models expression based on a negative binomial distribution, and recall from Dr. Ingolia's lecture that the negative binomial distribution can be thought of like a Poisson distribution but with extra variance as a second parameter. \n",
    "\n",
    "For hypothesis testing, DESeq2 sets the null hypothesis for each gene as having no difference between sample groups, so no log fold change difference (equal to 0). To test this hypothesis, DESeq2 makes use of the Wald test to compare the sample groups.\n",
    "\n",
    "To run a Wald test on our samples, we can make use of the <code>nbinomWaldTest()</code> function.\n",
    "\n",
    "```\n",
    "dds <- nbinomWaldTest(dds)\n",
    "```"
   ]
  },
  {
   "cell_type": "code",
   "execution_count": null,
   "id": "8288468b-5c62-4edd-9c26-109585b1f0fa",
   "metadata": {},
   "outputs": [],
   "source": []
  },
  {
   "cell_type": "markdown",
   "id": "eeebd907-f532-4d7d-992b-92845e4bcd73",
   "metadata": {},
   "source": [
    "Then we can pull out the results out of our <code>DESeqDataSet</code> using the <code>results()</code> function, and then assigning that to a new variable.\n",
    "\n",
    "```\n",
    "res <- results(dds)\n",
    "```"
   ]
  },
  {
   "cell_type": "code",
   "execution_count": null,
   "id": "1a5eb243-348b-4f8b-a2ee-0aacda11955f",
   "metadata": {},
   "outputs": [],
   "source": []
  },
  {
   "cell_type": "markdown",
   "id": "783dafe5-6ca6-4b0f-a1ef-baf17b15c418",
   "metadata": {},
   "source": [
    "Let's take a look at how our results table looks like:"
   ]
  },
  {
   "cell_type": "code",
   "execution_count": null,
   "id": "ce8fe80e-556f-47cf-afd4-8c2cab9b8f07",
   "metadata": {},
   "outputs": [],
   "source": []
  },
  {
   "cell_type": "markdown",
   "id": "11a6266b-4715-410b-b8a4-f15e6b3f453e",
   "metadata": {},
   "source": [
    "<h2>Export results of differential expression analysis</h2>"
   ]
  },
  {
   "cell_type": "markdown",
   "id": "be29b0a2-dc85-4266-912d-41a9f37d5847",
   "metadata": {},
   "source": [
    "Like with Python, we can export the dataframe containing our results, just with slightly different syntax.\n",
    "\n",
    "```\n",
    "write.csv(res, '1M_results.csv')\n",
    "```\n",
    "\n",
    "This will output a .csv file containing the results of our differential expression analysis."
   ]
  },
  {
   "cell_type": "code",
   "execution_count": null,
   "id": "8ada003a-5748-4725-ba5b-701f9bdf7793",
   "metadata": {},
   "outputs": [],
   "source": []
  },
  {
   "cell_type": "markdown",
   "id": "e804df58-daa4-49a4-aca2-9f6f9f61ed5b",
   "metadata": {},
   "source": [
    "<h2>Export rlog transformed counts</h2>"
   ]
  },
  {
   "cell_type": "markdown",
   "id": "8654f847-46fe-47d5-8077-ecc3b6868376",
   "metadata": {},
   "source": [
    "While we're at it, let's also export our rlog transformed counts for use later on."
   ]
  },
  {
   "cell_type": "code",
   "execution_count": null,
   "id": "4425956d-6de6-4882-a8b1-5a98dbf6d308",
   "metadata": {},
   "outputs": [],
   "source": []
  },
  {
   "cell_type": "markdown",
   "id": "a00336c0-2f21-4d77-b06a-31dc91f6416c",
   "metadata": {},
   "source": [
    "<h2>Generate an MA Plot</h2>"
   ]
  },
  {
   "cell_type": "markdown",
   "id": "cb6c6222-9b46-47b3-b525-f5c26a9ffaba",
   "metadata": {},
   "source": [
    "Recall that you previously generated an MA plot for your group's replicate using the ratio between your TAZ KO and control counts and their average counts.\n",
    "\n",
    "Now with our differential expression analysis results, we can generate an MA plot from our class dataset. To do this, we'll make use of DESeq2's <code>plotMA()</code> function.\n",
    "\n",
    "```\n",
    "plotMA(res)\n",
    "```"
   ]
  },
  {
   "cell_type": "code",
   "execution_count": null,
   "id": "c7554963-1e62-4039-aaff-aef01b7c9a57",
   "metadata": {},
   "outputs": [],
   "source": []
  },
  {
   "cell_type": "markdown",
   "id": "6ebf0696-7724-47cd-993b-08a666f14a45",
   "metadata": {},
   "source": [
    "By default, <code>plotMA()</code> highlights genes whose p-adjusted (p-value corrected for multiple hypothesis testing) is less than 0.1."
   ]
  },
  {
   "cell_type": "markdown",
   "id": "9a8e7802-9e5f-4466-8b42-d17c6e0d9cad",
   "metadata": {},
   "source": [
    "We can supply additional arguments to the function to slightly adjust our plot:\n",
    "\n",
    "```\n",
    "plotMA(res,\n",
    "       alpha=0.05,\n",
    "       xlab='Mean of normalized counts', \n",
    "       ylab='Log fold change', \n",
    "       main='MA plot',\n",
    "       ylim=c(-5,5)\n",
    "       )\n",
    "```"
   ]
  },
  {
   "cell_type": "code",
   "execution_count": null,
   "id": "3195103b-4e6e-449a-a4c2-5f4220caa4f4",
   "metadata": {},
   "outputs": [],
   "source": []
  },
  {
   "cell_type": "markdown",
   "id": "8b2a8327-e97a-4cff-a962-8efa8ce900cc",
   "metadata": {},
   "source": [
    "<h2>Obtain shrunken log fold change values</h2>"
   ]
  },
  {
   "cell_type": "markdown",
   "id": "73b90df7-222e-44f5-9adc-af4d687676d5",
   "metadata": {},
   "source": [
    "As you can see, much like with our MA plot for our single replicate, genes that have a lower mean also exhibit a greater log fold change, giving the MA plot its characteristic arrowhead shape. This is due to the fact that noise in the measurements will lead to larger dispersion and a greater log fold change.\n",
    "\n",
    "We can correct for this by calculating the shrunken log fold change. This allows us to better visualize genes whose differential expression is likely due to true biological or technical variance rather than noise. "
   ]
  },
  {
   "cell_type": "markdown",
   "id": "e59aec7b-3331-4a31-90e0-635e4de1b650",
   "metadata": {},
   "source": [
    "First, let's pull out the comparison groups from our <code>DESeqDataSet</code>:\n",
    "\n",
    "```\n",
    "resultsNames(dds)\n",
    "```"
   ]
  },
  {
   "cell_type": "code",
   "execution_count": null,
   "id": "8ba15af0-832e-4c40-8af9-8ae398da1b22",
   "metadata": {},
   "outputs": [],
   "source": []
  },
  {
   "cell_type": "markdown",
   "id": "20279a72-d71c-45af-ae0b-b4233bb2d795",
   "metadata": {},
   "source": [
    "Then, we can call up the <code>lfcShrink()</code> function to calculate our shrunken log fold change:\n",
    "\n",
    "```\n",
    "resLFC <- lfcShrink(dds, \n",
    "                    coef=\"condition_tazko_vs_ctrl\",\n",
    "                    type=\"apeglm\"\n",
    "                    )\n",
    "```"
   ]
  },
  {
   "cell_type": "code",
   "execution_count": null,
   "id": "7a5a6385-4c40-4bab-847f-ed933b75f02a",
   "metadata": {},
   "outputs": [],
   "source": []
  },
  {
   "cell_type": "markdown",
   "id": "e2987eab-7951-490b-8257-b37bccd15e28",
   "metadata": {},
   "source": [
    "Now let's take a look at the results and export them for use later:"
   ]
  },
  {
   "cell_type": "code",
   "execution_count": null,
   "id": "e5b802be-1d81-4588-b88e-bc333d5ccd53",
   "metadata": {},
   "outputs": [],
   "source": []
  },
  {
   "cell_type": "code",
   "execution_count": null,
   "id": "57df8105-33b3-4cb5-ba2f-7a9032f2530a",
   "metadata": {},
   "outputs": [],
   "source": []
  },
  {
   "cell_type": "markdown",
   "id": "0b1b47b8-901f-47b0-a908-1b290b4bb009",
   "metadata": {},
   "source": [
    "<h2>Plot MA plot for shrunken log fold change</h2>"
   ]
  },
  {
   "cell_type": "markdown",
   "id": "2098f6e3-1298-4ad6-96da-25925b52c14f",
   "metadata": {},
   "source": [
    "Now let's take a look at how our MA plot looks like when we take into account that lower means are expected to have higher log fold change:"
   ]
  },
  {
   "cell_type": "code",
   "execution_count": null,
   "id": "5f8e2f29-6a43-49d9-910f-4eef2de7f00d",
   "metadata": {},
   "outputs": [],
   "source": []
  },
  {
   "cell_type": "code",
   "execution_count": null,
   "id": "770a7ae4-a84d-4789-9b27-a8c038ca1dc1",
   "metadata": {},
   "outputs": [],
   "source": []
  }
 ],
 "metadata": {
  "kernelspec": {
   "display_name": "R",
   "language": "R",
   "name": "ir"
  },
  "language_info": {
   "codemirror_mode": "r",
   "file_extension": ".r",
   "mimetype": "text/x-r-source",
   "name": "R",
   "pygments_lexer": "r",
   "version": "4.4.1"
  }
 },
 "nbformat": 4,
 "nbformat_minor": 5
}
