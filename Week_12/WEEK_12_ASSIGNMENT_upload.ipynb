{
 "cells": [
  {
   "cell_type": "markdown",
   "id": "0a8fbfb1-1d98-4c7a-a6c0-b63cfbb12cf0",
   "metadata": {},
   "source": [
    "<h1 style=\"font-size: 40px; margin-bottom: 0px;\">Week 12 Assignment</h1>\n",
    "\n",
    "<hr style=\"margin-left: 0px; border: 0.25px solid; border-color: #000000; width: 600px;\"></hr>"
   ]
  },
  {
   "cell_type": "markdown",
   "id": "ab512b95-234d-4a2a-94af-1b92728369ab",
   "metadata": {},
   "source": [
    "<p><strong><u>Due: Saturday, November 23rd at 11:59PM</u></strong></p>\n",
    "\n",
    "<p><strong><u>Total points: 5 pts</u></strong></p>\n",
    "\n",
    "<p><strong><u>To turn in your assignment:</u></strong></p>\n",
    "\n",
    "<ol>\n",
    "    <li>Complete assignment and make sure you have all the outputs requested in this notebook</li>\n",
    "    <li>Go to your server's file directory and locate this notebook</li>\n",
    "    <li>Right click and select <strong>Download</strong> to download your completed notebook</li>\n",
    "    <li>Navigate to lab class <u><strong><a href=\"https://drive.google.com/drive/folders/1Limmo19dvhZz3qIaDDSnuSrl44yTiHUd?usp=sharing\" rel=\"noopener noreferrer\" target=\"_blank\">Google Drive</a></strong></u></li>\n",
    "    <li>Find your individual folder in the <strong>Assignment Submission folder</strong></li>\n",
    "    <li>Upload this notebook to submit your assignment</li>\n",
    "</ol>\n",
    "\n",
    "<p><strong><u>How this assignment will be graded:</u></strong></p>\n",
    "\n",
    "<p>This assignment will make use of this R notebook, and the full class dataset counts file under the path <code>~/shared/course/mcb201b-shared/rna-counts-class/FULL_class_gene_counts.csv</code>. You will be graded on whether or not the code is correct to achieve the output that you have. You will also be graded on whether or not you have the requested outputs. All your outputs will be within this notebook.</p>"
   ]
  },
  {
   "cell_type": "markdown",
   "id": "236c1dec-415f-4c6d-864a-003e995577a3",
   "metadata": {},
   "source": [
    "<h1>Question 1</h1>"
   ]
  },
  {
   "cell_type": "markdown",
   "id": "c718b983-fc6e-4789-9401-99f65efb11bc",
   "metadata": {},
   "source": [
    "<p>1 pt</p>"
   ]
  },
  {
   "cell_type": "markdown",
   "id": "90a6f30a-9421-49ca-a5c7-a0750060a1cf",
   "metadata": {},
   "source": [
    "Import the <code>FULL_class_gene_counts.csv</code> and your conditions matrix into this R notebook. Output the row names for the conditions matrix, and output the column names for the counts matrix. If they do not match, match up the column names for the counts matrix to the row names of the conditions matrix (or vice versa)."
   ]
  },
  {
   "cell_type": "code",
   "execution_count": null,
   "id": "8f0f0b77-9b09-4512-bdab-59063dc9af10",
   "metadata": {},
   "outputs": [],
   "source": []
  },
  {
   "cell_type": "markdown",
   "id": "d3e4e694-197c-45bd-93e5-b814102abddb",
   "metadata": {},
   "source": [
    "<h1>Question 2</h1>"
   ]
  },
  {
   "cell_type": "markdown",
   "id": "b30dad88-d5ff-48d6-a93d-27d4e09fc6ce",
   "metadata": {},
   "source": [
    "<p>1 pt</p>"
   ]
  },
  {
   "cell_type": "markdown",
   "id": "6f198f6f-3382-439f-9f6a-c11cc35aba1f",
   "metadata": {},
   "source": [
    "Filter out non-expressed genes from your counts matrix, then create a DESeqDataSet using your counts matrix and conditions matrix."
   ]
  },
  {
   "cell_type": "code",
   "execution_count": null,
   "id": "ab42eb0e-bbd2-49a4-b23b-84a0a4d61f8b",
   "metadata": {},
   "outputs": [],
   "source": []
  },
  {
   "cell_type": "markdown",
   "id": "1d70e829-6800-4aea-8dcc-aaaca9c7ec39",
   "metadata": {},
   "source": [
    "<h1>Question 3</h1>"
   ]
  },
  {
   "cell_type": "markdown",
   "id": "2caa87c9-7e14-4bf5-beab-4471a3bae978",
   "metadata": {},
   "source": [
    "<p>1 pt</p>"
   ]
  },
  {
   "cell_type": "markdown",
   "id": "5e44c39d-5e14-4c9c-aa8e-9c50405054c0",
   "metadata": {},
   "source": [
    "Run a differential expression analysis on your DESeqDataSet with a negative binomial Wald test to determine the significance. You can either run it each step at a time (like we did in class), or look into the documentation for DESeq2 to identify the code to run it in a single line."
   ]
  },
  {
   "cell_type": "code",
   "execution_count": null,
   "id": "34aaeb03-60a6-4531-912d-466ef4d6d3b0",
   "metadata": {},
   "outputs": [],
   "source": []
  },
  {
   "cell_type": "markdown",
   "id": "0166760d-b9d2-49bb-8445-7360facc2546",
   "metadata": {},
   "source": [
    "<h1>Question 4</h1>"
   ]
  },
  {
   "cell_type": "markdown",
   "id": "9f00590a-2c56-4cc6-b081-5435ef9d377d",
   "metadata": {},
   "source": [
    "<p>1 pt</p>"
   ]
  },
  {
   "cell_type": "markdown",
   "id": "f869fb11-7089-452c-921f-81388d0de26d",
   "metadata": {},
   "source": [
    "Perform a regularized log transformation on your DESeqDataSet, and pull out the regularized log transformed counts to identify the top 500 genes with the greatest variance. Use these top 500 genes to calculate the Euclidean distance between all the samples, and plot a heatmap of the resulting distance matrix to determine the clusters among the samples. Make sure that both the rows and the columns in your heatmap are labeled."
   ]
  },
  {
   "cell_type": "code",
   "execution_count": null,
   "id": "76dd9632-2b0c-4d5e-a117-0a2f8587472e",
   "metadata": {},
   "outputs": [],
   "source": []
  },
  {
   "cell_type": "markdown",
   "id": "fc6e1967-2c6b-4037-b815-b38dd1905ded",
   "metadata": {},
   "source": [
    "<h1>Question 5</h1>"
   ]
  },
  {
   "cell_type": "markdown",
   "id": "ee732254-f1a8-450e-8041-919c89541241",
   "metadata": {},
   "source": [
    "<p>1 pt</p>"
   ]
  },
  {
   "cell_type": "markdown",
   "id": "022e5e9a-fdcc-4afe-bc50-69618f0d86dd",
   "metadata": {},
   "source": [
    "Generate an MA plot of the results of your differential expression analysis (from Question 3), and highlight the genes with an adjusted p-value of less than 0.05 in your MA plot."
   ]
  },
  {
   "cell_type": "code",
   "execution_count": null,
   "id": "5fe02f29-bff6-4975-bf05-263c28cd5e30",
   "metadata": {},
   "outputs": [],
   "source": []
  }
 ],
 "metadata": {
  "kernelspec": {
   "display_name": "R",
   "language": "R",
   "name": "ir"
  },
  "language_info": {
   "codemirror_mode": "r",
   "file_extension": ".r",
   "mimetype": "text/x-r-source",
   "name": "R",
   "pygments_lexer": "r",
   "version": "4.4.1"
  }
 },
 "nbformat": 4,
 "nbformat_minor": 5
}
