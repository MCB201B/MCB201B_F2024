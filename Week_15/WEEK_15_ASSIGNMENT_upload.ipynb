{
 "cells": [
  {
   "cell_type": "markdown",
   "id": "915aa769-7704-4671-88e9-a52c5f68bc3b",
   "metadata": {},
   "source": [
    "<h1 style=\"font-size: 40px; margin-bottom: 0px;\">Week 15 Assignment</h1>\n",
    "\n",
    "<hr style=\"margin-left: 0px; border: 0.25px solid; border-color: #000000; width: 600px;\"></hr>"
   ]
  },
  {
   "cell_type": "markdown",
   "id": "a6a0f786-3c29-4716-8f05-734773009689",
   "metadata": {},
   "source": [
    "<p><strong><u>Due: Saturday, December 14th at 11:59PM</u></strong></p>\n",
    "\n",
    "<p><strong><u>Total points: 5 pts</u></strong></p>\n",
    "\n",
    "<p><strong><u>To turn in your assignment:</u></strong></p>\n",
    "\n",
    "<ol>\n",
    "    <li>Complete assignment and make sure you have all the outputs requested in this notebook</li>\n",
    "    <li>Go to your server's file directory and locate this notebook</li>\n",
    "    <li>Right click and select <strong>Download</strong> to download your completed notebook</li>\n",
    "    <li>Navigate to lab class <u><strong><a href=\"https://drive.google.com/drive/folders/1Limmo19dvhZz3qIaDDSnuSrl44yTiHUd?usp=sharing\" rel=\"noopener noreferrer\" target=\"_blank\">Google Drive</a></strong></u></li>\n",
    "    <li>Find your individual folder in the <strong>Assignment Submission folder</strong></li>\n",
    "    <li>Upload this notebook to submit your assignment</li>\n",
    "</ol>\n",
    "\n",
    "<p><strong><u>How this assignment will be graded:</u></strong></p>\n",
    "\n",
    "<p>This assignment will make use of this Python notebook, and the full class dataset that we used in class this week under the <code>data</code> subdirectory for <code>Week_15</code>. You will be graded on whether or not the code is correct to achieve the output that you have. You will also be graded on whether or not you have the requested outputs. All your outputs will be within this notebook.</p>"
   ]
  },
  {
   "cell_type": "code",
   "execution_count": null,
   "id": "5eecfe0c-a84a-4e29-a2cc-4515451b21d1",
   "metadata": {},
   "outputs": [],
   "source": [
    "pip install matplotlib-venn"
   ]
  },
  {
   "cell_type": "code",
   "execution_count": null,
   "id": "82801021-51c2-4075-8f33-3f6666d32a69",
   "metadata": {},
   "outputs": [],
   "source": [
    "pip install gseapy"
   ]
  },
  {
   "cell_type": "code",
   "execution_count": null,
   "id": "a1aee5ca-d986-4d56-a5c5-404c431fffc4",
   "metadata": {},
   "outputs": [],
   "source": [
    "import pandas as pd\n",
    "import numpy as np\n",
    "import matplotlib.pyplot as plt\n",
    "import matplotlib_venn as vn\n",
    "import seaborn as sns\n",
    "import scipy.stats as stats\n",
    "import gseapy as gp"
   ]
  },
  {
   "cell_type": "markdown",
   "id": "ad388b23-0a05-42ed-96f8-7686bd7dcf24",
   "metadata": {},
   "source": [
    "<h1>Question 1</h1>"
   ]
  },
  {
   "cell_type": "markdown",
   "id": "a9e64403-f972-42cc-ba32-f5c33343f2f2",
   "metadata": {},
   "source": [
    "<p>1 pt</p>"
   ]
  },
  {
   "cell_type": "markdown",
   "id": "49dabcbb-fc64-414a-8789-1b373b39d2e5",
   "metadata": {},
   "source": [
    "Using the shrunken log fold change file <code>~/MCB201B_F2024/Week_15/data/FULL_class_shrinklfc.csv</code>, pull out the all the genes with a <code>padj</code> less than 0.05 and a <code>log2FoldChange</code> less than -1.5. Output the names of those genes into this notebook."
   ]
  },
  {
   "cell_type": "code",
   "execution_count": null,
   "id": "10229b1b-1b9d-49e4-b024-9cc2f5f488f4",
   "metadata": {},
   "outputs": [],
   "source": []
  },
  {
   "cell_type": "markdown",
   "id": "f0d2b28f-90c9-4a17-8655-1086ea2be57b",
   "metadata": {},
   "source": [
    "<h1>Question 2</h1>"
   ]
  },
  {
   "cell_type": "markdown",
   "id": "66a4aec6-9155-4b79-b451-cc57a65b5e86",
   "metadata": {},
   "source": [
    "<p>2 pts</p>"
   ]
  },
  {
   "cell_type": "markdown",
   "id": "e2d5df85-18e2-47ba-84c2-cd2f8a65d2cc",
   "metadata": {},
   "source": [
    "Using your <code>annotated-peaks-full-set.txt</code>, determine which genes also match up to a ChIP-seq peak from our class analysis (include an output with those gene names) and generate a venn diagram to visualize the following:\n",
    "\n",
    "<ul>\n",
    "    <li>Genes with a ChIP-seq peak</li>\n",
    "    <li>Genes overlapping between the above and below sets</li>\n",
    "    <li>Genes with a padj < 0.05 and a log2FoldChange < -1.5</li>\n",
    "</ul>"
   ]
  },
  {
   "cell_type": "code",
   "execution_count": null,
   "id": "fe9c6172-0ff3-47a3-8054-176d48c126db",
   "metadata": {},
   "outputs": [],
   "source": []
  },
  {
   "cell_type": "markdown",
   "id": "64d280cd-5b1b-4a6a-969e-a568c7e22153",
   "metadata": {},
   "source": [
    "<h1>Question 3</h1>"
   ]
  },
  {
   "cell_type": "markdown",
   "id": "1d010839-daa2-4a5d-a6cf-0d080e123c3d",
   "metadata": {},
   "source": [
    "<p>1 pt</p>"
   ]
  },
  {
   "cell_type": "markdown",
   "id": "8a3fa3d1-4ac5-44b7-b383-f3902a0394c5",
   "metadata": {},
   "source": [
    "Run an over-representation analysis on your set of genes with a padj < 0.05 and a log2FoldChange < -1.5 using the most recent MSigDB Hallmark collection. Output the results table for your over-representation analysis."
   ]
  },
  {
   "cell_type": "code",
   "execution_count": null,
   "id": "440d4e0e-da44-44b4-8ba6-cba56fe9983c",
   "metadata": {},
   "outputs": [],
   "source": []
  },
  {
   "cell_type": "markdown",
   "id": "1dc136e2-3f5a-46d2-bbcb-7e36d8563012",
   "metadata": {},
   "source": [
    "<h1>Question 4</h1>"
   ]
  },
  {
   "cell_type": "markdown",
   "id": "b6818269-9fe3-40fc-80d5-c1970af16e55",
   "metadata": {},
   "source": [
    "<p>1 pt</p>"
   ]
  },
  {
   "cell_type": "markdown",
   "id": "fb544339-1b39-433c-8dbb-819c8dce501a",
   "metadata": {},
   "source": [
    "Generate a dot plot output in this notebook visualizing the following from your over-representation analysis:\n",
    "\n",
    "<ul>\n",
    "    <li>Color of dots determined by Adjusted P-value</li>\n",
    "    <li>X-axis values as the Odds Ratio</li>\n",
    "    <li>Y-axis as the Terms</li>\n",
    "    <li>All terms that meet a cutoff of 0.05 adjusted p-value</li>\n",
    "</ul>"
   ]
  },
  {
   "cell_type": "code",
   "execution_count": null,
   "id": "339d124e-441f-499d-a545-eeb55b5674de",
   "metadata": {},
   "outputs": [],
   "source": []
  }
 ],
 "metadata": {
  "kernelspec": {
   "display_name": "Python [conda env:root] *",
   "language": "python",
   "name": "conda-root-py"
  },
  "language_info": {
   "codemirror_mode": {
    "name": "ipython",
    "version": 3
   },
   "file_extension": ".py",
   "mimetype": "text/x-python",
   "name": "python",
   "nbconvert_exporter": "python",
   "pygments_lexer": "ipython3",
   "version": "3.11.0"
  }
 },
 "nbformat": 4,
 "nbformat_minor": 5
}
