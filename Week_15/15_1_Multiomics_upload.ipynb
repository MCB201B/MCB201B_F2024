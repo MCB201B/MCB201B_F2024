{
 "cells": [
  {
   "cell_type": "markdown",
   "id": "88eef0e1-0129-4ee6-87b3-a795551a4dfe",
   "metadata": {},
   "source": [
    "<h1 style=\"font-size: 40px; margin-bottom: 0px;\">15.1 Multiomics: Integrating ChIP-seq and RNA-seq</h1>\n",
    "\n",
    "<hr style=\"margin-left: 0px; border: 0.25px solid; border-color: #000000; width: 950px;\"></hr>"
   ]
  },
  {
   "cell_type": "markdown",
   "id": "5a1b2d3e-b850-404e-b8de-b3f352dfba7d",
   "metadata": {},
   "source": [
    "We've taken a look at the TAZ-TEAD-DNA binding interactions through ChIP-seq analysis, and we identified a set of reproducible peaks where TAZ-TEAD are likely to bind to DNA. Our analysis showed that TAZ-TEAD primarily bind to regions distant from the transcription start site (TSS) rather than the nearby promoter region, suggesting a longer range regulation of target gene expression through distant enhancers. Then we explored the transcriptional changes resulting from TAZ KO through RNA-seq, and we performed differential expression analysis to determine which genes are impacted by TAZ KO and if this can explain the phenotypes we observed in MCB201A. \n",
    "\n",
    "In this lesson, we'll be taking a basic multiomics approach by integrating our two big data analyses together in order to identify overlapping sets of genes from our two analyses. This approach can give us insight into the regulation of TAZ target genes and potentially identify some direct targets of TAZ and determine how TAZ regulates their transcription.\n",
    "\n",
    "<strong>Learning objectives:</strong>\n",
    "\n",
    "<ul>\n",
    "    <li>Use HOMER to label ChIP-seq peaks with associated genes</li>\n",
    "    <li>Continue practice working with data in Python</li>\n",
    "    <li>Continue practicing data visualization</li>\n",
    "    <li>Continue practicing statistical analysis and functional analysis</li>\n",
    "</ul>"
   ]
  },
  {
   "cell_type": "markdown",
   "id": "aa2c665b-c0ac-4f0b-9df2-e95122220c59",
   "metadata": {},
   "source": [
    "<h1>Annotate ChIP-seq peaks based on nearest TSS method</h1>"
   ]
  },
  {
   "cell_type": "markdown",
   "id": "394d9e00-294c-4fa2-9ee6-5dea843a9359",
   "metadata": {},
   "source": [
    "A common way of annotating peaks that we've made use of before is to determine the closest TSS to a significant peak and then assign that TSS's gene to the peak (nearest TSS method). This works well with annotating peaks in promoter regions since promoters regulate transcription at a much shorter distance from the TSS, and this generally works well for enhancer regions as well. However, there is the caveat that enhancer regions can act at very long distances, where there are intervening genes between their target TSS and the enhancer region. Additionally, some enhancers may act on multiple genes, or multiple enhancers can regulate a single gene. These situations can complicate annotating peaks via the nearest TSS method, and other functional genomics approaches can get around this issue.\n",
    "\n",
    "To annotate peaks based on the nearest TSS, we can return to HOMER's <code>annotatePeaks.pl</code> command. Included in today's lesson is a .narrowPeak file containing merged peaks from the full ChIP-seq dataset. Instead of just the peaks that are in the top 500 in both replicates, this file contains peaks present in the top 2500 in both replicates. We'll pass this file to HOMER to annotate based on the nearest TSS:"
   ]
  },
  {
   "cell_type": "markdown",
   "id": "a14841db-549c-4a22-8fd9-7c9c41ea8eb6",
   "metadata": {},
   "source": [
    "<h2>Set up HOMER</h2>"
   ]
  },
  {
   "cell_type": "markdown",
   "id": "efd6af08-8743-4274-a763-9dd7ab012aa2",
   "metadata": {},
   "source": [
    "Change to your HOMER directory.\n",
    "\n",
    "<pre style=\"width: 450px; margin-top: 15px; margin-bottom: 15px; color: #000000; background-color: #EEEEEE; border: 1px solid; border-color: #AAAAAA; padding: 10px; border-radius: 15px; font-size: 12px;\">cd ~/homer</pre>\n",
    "\n",
    "Then update your PATH, so that Terminal can find where all the HOMER files are:\n",
    "\n",
    "<pre style=\"width: 450px; margin-top: 15px; margin-bottom: 15px; color: #000000; background-color: #EEEEEE; border: 1px solid; border-color: #AAAAAA; padding: 10px; border-radius: 15px; font-size: 12px;\">PATH=$PATH:/home/jovyan/homer/.//bin/</pre>"
   ]
  },
  {
   "cell_type": "markdown",
   "id": "b9104396-7940-4ea8-9f64-7890326942ea",
   "metadata": {},
   "source": [
    "<h2>Annotate the concordant ChIP-seq peaks</h2>"
   ]
  },
  {
   "cell_type": "markdown",
   "id": "a796abcf-34d6-4b39-8215-b56ae9b9282d",
   "metadata": {},
   "source": [
    "Change to your Week 15 directory:\n",
    "\n",
    "<pre style=\"width: 450px; margin-top: 15px; margin-bottom: 15px; color: #000000; background-color: #EEEEEE; border: 1px solid; border-color: #AAAAAA; padding: 10px; border-radius: 15px; font-size: 12px;\">cd ~/MCB201B_F2024/Week_15</pre>\n",
    "\n",
    "Then annotate peaks using <code>annotatePeaks.pl</code>\n",
    "\n",
    "<pre style=\"width: 450px; margin-top: 15px; margin-bottom: 15px; color: #000000; background-color: #EEEEEE; border: 1px solid; border-color: #AAAAAA; padding: 10px; border-radius: 15px; font-size: 12px;\">annotatePeaks.pl \\\n",
    "./top_concordant_peaks_full-set.narrowPeak \\\n",
    "hg19 \\\n",
    "-noann \\\n",
    "> ./annotated-peaks-full-set.txt</pre>"
   ]
  },
  {
   "cell_type": "markdown",
   "id": "33aca971-34fc-4f84-8b1d-38f3492f053e",
   "metadata": {},
   "source": [
    "<h1>Install and import packages needed for today</h1>"
   ]
  },
  {
   "cell_type": "code",
   "execution_count": null,
   "id": "ebe80d2b-0d09-4412-a723-0c086eef768f",
   "metadata": {},
   "outputs": [],
   "source": [
    "pip install matplotlib-venn"
   ]
  },
  {
   "cell_type": "code",
   "execution_count": null,
   "id": "87c402d3-4410-4736-95d2-e81b7ce4fda4",
   "metadata": {},
   "outputs": [],
   "source": [
    "pip install gseapy"
   ]
  },
  {
   "cell_type": "code",
   "execution_count": null,
   "id": "31d97645-0311-4f51-b3fd-9a73f75cd6af",
   "metadata": {},
   "outputs": [],
   "source": [
    "import pandas as pd\n",
    "import numpy as np\n",
    "import matplotlib.pyplot as plt\n",
    "import matplotlib_venn as vn\n",
    "import seaborn as sns\n",
    "import scipy.stats as stats\n",
    "import gseapy as gp"
   ]
  },
  {
   "cell_type": "markdown",
   "id": "ef7e15e5-9d2d-4871-8148-8a3aec2c9fdb",
   "metadata": {},
   "source": [
    "<h1>Exercise #1: Load in your annotated peaks and pull out the gene names</h1>"
   ]
  },
  {
   "cell_type": "markdown",
   "id": "7685f044-9d47-4792-b24f-9f5011e4275d",
   "metadata": {},
   "source": [
    "For this exercise, load in your annotated peaks file then generate a set (the data type) of gene names that correspond to peaks annotated to a protein-coding gene."
   ]
  },
  {
   "cell_type": "code",
   "execution_count": null,
   "id": "c34c2315-ede9-45a2-bd0a-54f91bc9e8ff",
   "metadata": {},
   "outputs": [],
   "source": []
  },
  {
   "cell_type": "markdown",
   "id": "757d48e2-f79c-4780-831f-089daca94bc3",
   "metadata": {},
   "source": [
    "Let's take a look to make sure the data imported properly:"
   ]
  },
  {
   "cell_type": "code",
   "execution_count": null,
   "id": "dd646026-44b4-46b2-a064-63827d378973",
   "metadata": {},
   "outputs": [],
   "source": []
  },
  {
   "cell_type": "markdown",
   "id": "4c3684b5-d55b-465b-bd76-190fbca47f08",
   "metadata": {},
   "source": [
    "Now, see if you can pull out the gene names corresponding to protein-coding genes from our dataset."
   ]
  },
  {
   "cell_type": "code",
   "execution_count": null,
   "id": "acf06cd1-8348-4f30-a593-343f7aaad3a8",
   "metadata": {},
   "outputs": [],
   "source": []
  },
  {
   "cell_type": "markdown",
   "id": "7fc46f9d-d271-433b-9175-5f2cc522e7a5",
   "metadata": {},
   "source": [
    "What additional modification can you make to the code line above to at the same time convert your data type to a set?"
   ]
  },
  {
   "cell_type": "markdown",
   "id": "bed874c7-4e88-414c-b220-2f1169d5662e",
   "metadata": {},
   "source": [
    "Let's take a quick look at our data:"
   ]
  },
  {
   "cell_type": "code",
   "execution_count": null,
   "id": "e8f7afdc-9384-4bed-89ec-65bf9eff8d6f",
   "metadata": {},
   "outputs": [],
   "source": []
  },
  {
   "cell_type": "markdown",
   "id": "84e6f743-9a15-4557-8d56-1e07d8a1e7cb",
   "metadata": {},
   "source": [
    "<h1>Exercise #2: Load in your DESeq2 results</h1>"
   ]
  },
  {
   "cell_type": "markdown",
   "id": "c1a71346-212b-445a-a497-186cdf90e596",
   "metadata": {},
   "source": [
    "Let's load in our RNA-seq results, so that we can begin looking for the intersection between our two 'omics datasets. With today's lesson is also a .csv file containing the full results table for our class's complete RNA-seq analysis that you can load into this notebook."
   ]
  },
  {
   "cell_type": "code",
   "execution_count": null,
   "id": "98c25795-9660-4df8-a74e-1a6c240f81c5",
   "metadata": {},
   "outputs": [],
   "source": []
  },
  {
   "cell_type": "markdown",
   "id": "6bc3cb23-1501-4f0f-a021-4f019c5fdbff",
   "metadata": {},
   "source": [
    "Let's also rename the <code>Unnamed: 0</code> column header to <code>gene</code>, to make things easier for us later when we're merging our DataFrames."
   ]
  },
  {
   "cell_type": "code",
   "execution_count": null,
   "id": "421e9dcd-b27d-40b6-a877-dfabf5c77590",
   "metadata": {},
   "outputs": [],
   "source": []
  },
  {
   "cell_type": "markdown",
   "id": "5b93c285-3550-4905-8176-49dac7ce62cd",
   "metadata": {},
   "source": [
    "Take a quick look at your DataFrame to make sure everything looks okay:"
   ]
  },
  {
   "cell_type": "code",
   "execution_count": null,
   "id": "5fe3b494-3cb6-4cc0-bbf1-a0f1dbee0f79",
   "metadata": {},
   "outputs": [],
   "source": []
  },
  {
   "cell_type": "markdown",
   "id": "8cb65a58-ad45-4560-96e1-b13b017bd6ec",
   "metadata": {},
   "source": [
    "<h1>Guided Exercise: Pull out genes from DESeq results</h1>"
   ]
  },
  {
   "cell_type": "markdown",
   "id": "1c244301-ce9d-499d-8ddb-695e459d2719",
   "metadata": {},
   "source": [
    "Let's then take a look at our DESeq2 results to remove the genes that were filtered out by DESeq2's independent filtering method. In short, these genes were identified as having a mean normalized count that is too low, and as a result, the high dispersion of these genes make it very unlikely that these genes will be significant and are removed. While they will still have a calculated log2FoldChange, they will not have a adjusted p-value, so those values will be set to <code>NaN</code>.\n",
    "\n",
    "More detailed information on independent filtering can be found in <a href=\"https://bioconductor.org/packages/release/bioc/vignettes/DESeq2/inst/doc/DESeq2.html#indfilttheory\" rel=\"noopener noreferrer\" target=\"_blank\"><u>the DESeq2 vignette.</u></a>\n",
    "\n",
    "There are also additional filters that DESeq2 applies to filter out other genes based on if the gene is not expressed in any sample (zero counts in in all samples) or if there is an extreme outlier present in one of the samples. These filters help to increase the detection power of DESeq2 without really changing the probability of a type I error."
   ]
  },
  {
   "cell_type": "markdown",
   "id": "855252f0-63b0-4a4b-af51-681657b0b817",
   "metadata": {},
   "source": [
    "<h2>Identify genes filtered out by DESeq2</h2>"
   ]
  },
  {
   "cell_type": "markdown",
   "id": "d03d157d-774f-48e5-8fc8-18649440903c",
   "metadata": {},
   "source": [
    "We can determine how many genes were filtered out by counting how many <code>NaN</code> are present in the DataFrame."
   ]
  },
  {
   "cell_type": "code",
   "execution_count": null,
   "id": "782eb3fe-8c39-4e4b-b39a-2960008c9534",
   "metadata": {},
   "outputs": [],
   "source": []
  },
  {
   "cell_type": "markdown",
   "id": "0dddd49c-ce09-442e-9d05-bd5d04da566f",
   "metadata": {},
   "source": [
    "We can see that no genes were filtered out based on an absence of expression in all samples because we had already done that prior to providing DESeq2 with our counts matrix. We can also see that a number of genes have been filtered out due to their low mean normalized counts based on the number of <code>NaN</code> in the adjusted p-values column."
   ]
  },
  {
   "cell_type": "markdown",
   "id": "dbe813fe-d8c2-4479-b638-98f86e9f3ee7",
   "metadata": {},
   "source": [
    "<h2>Pull out gene names for genes that pass the filter</h2>"
   ]
  },
  {
   "cell_type": "markdown",
   "id": "5d09628f-4f0f-47c9-a0b9-2bbb7fc237bf",
   "metadata": {},
   "source": [
    "We can drop the rows containing <code>NaN</code>, which will allow us to focus just on those genes that passed the filter and use those to identify overlaps with our ChIP-seq peaks."
   ]
  },
  {
   "cell_type": "code",
   "execution_count": null,
   "id": "b51aaa73-056e-4b32-ad3d-0d96fb8468eb",
   "metadata": {},
   "outputs": [],
   "source": []
  },
  {
   "cell_type": "markdown",
   "id": "aeceb90a-2bec-4c36-bab6-04b23f944cce",
   "metadata": {},
   "source": [
    "<h2>Pull out gene names for significant hits</h2>"
   ]
  },
  {
   "cell_type": "markdown",
   "id": "9d5956d8-68cb-497c-9087-0509195b71ac",
   "metadata": {},
   "source": [
    "We can also pull out just the significant hits identified by DESeq2 to narrow down our set of genes to those that are differentially expressed when we KO TAZ."
   ]
  },
  {
   "cell_type": "code",
   "execution_count": null,
   "id": "dccc367b-5aa2-42c7-8797-42309776f338",
   "metadata": {},
   "outputs": [],
   "source": []
  },
  {
   "cell_type": "markdown",
   "id": "e24c9613-7662-4917-9dc2-32771df7b08f",
   "metadata": {},
   "source": [
    "<h1>Guided: Exercise: Create a venn diagram of ChIP-seq and RNA-seq results</h1>"
   ]
  },
  {
   "cell_type": "markdown",
   "id": "eb0ba451-af6e-4852-a052-3043ae273cd9",
   "metadata": {},
   "source": [
    "Now let's create a venn diagram to see how our two analyses overlap. To do this, we'll make use of the matplotlib_venn package that we imported. <a href=\"https://pypi.org/project/matplotlib-venn/\" rel=\"noopener noreferrer\" target=\"_blank\"><u>Documentation is here.</u></a>\n",
    "\n",
    "We can start with a simple venn diagram, and then pull out elements from it to modify the style of our figure.\n",
    "\n",
    "```\n",
    "venn_diag = vn.venn2((chip_genes_only, sig_hits_genes_only), \n",
    "                     set_labels=('ChIP Peaks', 'RNA-seq DE'))\n",
    "```"
   ]
  },
  {
   "cell_type": "code",
   "execution_count": null,
   "id": "fadd3356-edb9-4033-a5a2-9cfba7be0d3b",
   "metadata": {},
   "outputs": [],
   "source": []
  },
  {
   "cell_type": "markdown",
   "id": "5fe56287-1d8d-446c-842c-fe4fd7014005",
   "metadata": {},
   "source": [
    "We can see that our two groups do share some overlapping genes, but not all the genes actually overlap. As Dr. Ingolia talked about in lecture this week, there are additional considerations to keep in mind that can inform how we interpret our results. A direct target is likely to be found in both groups, whereas indirect targets may be a significant hit from our DESeq2 analysis, but it may not have an associated ChIP-seq peak. On the other hand, additional layers of transcriptional regulation may result in a ChIP-seq peak whose associated gene is not differentially expressed."
   ]
  },
  {
   "cell_type": "markdown",
   "id": "db3eb59c-c2b3-4e61-bb6a-5a962fa0b90a",
   "metadata": {},
   "source": [
    "<h1>Guided Exercise: Identify overlapping genes between both sets</h1>"
   ]
  },
  {
   "cell_type": "markdown",
   "id": "3b48987b-00fd-480a-85ed-9c37207e6434",
   "metadata": {},
   "source": [
    "Now that we have an idea of the numbers of overlapping and non-overlapping genes between our two groups, let's take a look at which genes are in each group. We've generated a set data type object that contains the names of the genes from our ChIP-seq peaks and the names of the genes from our differential expression analysis. To identify overlapping genes, we can make use of set operators."
   ]
  },
  {
   "cell_type": "code",
   "execution_count": null,
   "id": "dacf48f3-fad7-4216-b909-1e6caa83e13f",
   "metadata": {},
   "outputs": [],
   "source": []
  },
  {
   "cell_type": "markdown",
   "id": "799c6765-52bf-49ec-a46a-e8d1423cd535",
   "metadata": {},
   "source": [
    "We can also use this set to create a DataFrame that has a column named <code>gene</code> that has all the shared genes between our two analyses."
   ]
  },
  {
   "cell_type": "code",
   "execution_count": null,
   "id": "1546858f-7451-4870-bcd6-cb4a9b1337e9",
   "metadata": {},
   "outputs": [],
   "source": []
  },
  {
   "cell_type": "markdown",
   "id": "2fc6742f-3c43-4e82-ba70-8f46dee3c8f0",
   "metadata": {},
   "source": [
    "Let's take a look at our DataFrame object containing our overlapping genes:"
   ]
  },
  {
   "cell_type": "code",
   "execution_count": null,
   "id": "fc3301dc-2ddd-4a65-b7cf-6a4084c67fa2",
   "metadata": {},
   "outputs": [],
   "source": []
  },
  {
   "cell_type": "markdown",
   "id": "ed165584-3e68-48d2-9179-dea6057df3cc",
   "metadata": {},
   "source": [
    "<h1>Guided Exercise: Pull in DESeq2 results for overlapping genes</h1>"
   ]
  },
  {
   "cell_type": "markdown",
   "id": "adda22f6-35a7-4311-9923-faabdb02e135",
   "metadata": {},
   "source": [
    "Let's merge our data contained in our DESeq2 results with our overlapping genes. This will allow us to look at the distribution of our log2 fold changes"
   ]
  },
  {
   "cell_type": "code",
   "execution_count": null,
   "id": "6f3da247-4c86-4a9f-8ac5-da533519f5fd",
   "metadata": {},
   "outputs": [],
   "source": []
  },
  {
   "cell_type": "markdown",
   "id": "a55c777c-8bfc-4c7a-b15f-ac00df0e50c8",
   "metadata": {},
   "source": [
    "Now let's take the log2 fold change data and create a histogram to take a look at the distribution of expression changes for these genes."
   ]
  },
  {
   "cell_type": "code",
   "execution_count": null,
   "id": "0d23c62e-0a3a-4ff3-818d-7f689f09026c",
   "metadata": {},
   "outputs": [],
   "source": []
  },
  {
   "cell_type": "markdown",
   "id": "3de7f29a-a219-47ac-9c72-55b4b2b59c4d",
   "metadata": {},
   "source": [
    "<h1>Exercise #3: Pull out results for genes not corresponding to a peak</h1>"
   ]
  },
  {
   "cell_type": "markdown",
   "id": "4a70efdc-9732-47f6-98b8-4c237b968359",
   "metadata": {},
   "source": [
    "For this exercise, see if you can identify the genes that do not correspond to a ChIP-seq peak and pull out the DESeq2 results for those genes."
   ]
  },
  {
   "cell_type": "code",
   "execution_count": null,
   "id": "e9d132d0-29bf-4d9c-b7e2-cc17d4c86144",
   "metadata": {},
   "outputs": [],
   "source": []
  },
  {
   "cell_type": "markdown",
   "id": "fc37a205-d594-489d-9999-03dd28d07db2",
   "metadata": {},
   "source": [
    "<h1>Exercise #4: Plot distribution of log2 fold change</h1>"
   ]
  },
  {
   "cell_type": "markdown",
   "id": "5ca2585e-8f40-4874-bb7b-648575a77654",
   "metadata": {},
   "source": [
    "Once you've identified and pulled the information for genes that did not correspond to a ChIP-seq peak, generate a histogram of the distribution of log2 fold change values. Use the same bin set-up as we used for the overlapping genes, so we can visually compare the two subsets of our data."
   ]
  },
  {
   "cell_type": "code",
   "execution_count": null,
   "id": "f95d8d85-e202-443b-b7e8-c2525abcfa43",
   "metadata": {},
   "outputs": [],
   "source": []
  },
  {
   "cell_type": "markdown",
   "id": "76c4f654-5efe-4720-bf01-8238dec3c24c",
   "metadata": {},
   "source": [
    "<h1>Exercise #5: Determine if there is a statistical difference between the distribution of the two sets of data</h1>"
   ]
  },
  {
   "cell_type": "markdown",
   "id": "41bab652-fbbf-4660-83c3-d67a5445d2fa",
   "metadata": {},
   "source": [
    "There looks like maybe there's a minor difference in the distribution of our two subsets of data. For this exercise, you'll make use of the scipy.stats package to determine if there is a stastically significant difference in the distribution of their log2 fold change values."
   ]
  },
  {
   "cell_type": "code",
   "execution_count": null,
   "id": "26979869-1d22-4093-b4e2-cea896974699",
   "metadata": {},
   "outputs": [],
   "source": []
  },
  {
   "cell_type": "markdown",
   "id": "d4d7c858-42a1-4162-b038-6c9eebe64d66",
   "metadata": {},
   "source": [
    "<h1>Determine functional group enrichment in TAZ direct targets</h1>"
   ]
  },
  {
   "cell_type": "markdown",
   "id": "9ef3e12e-3b42-47a3-849e-efe86017d7e5",
   "metadata": {},
   "source": [
    "With our subsetted data, we can perform an over-representation analysis or GSEA to determine which functional groups TAZ may be directly or indirectly regulating. "
   ]
  },
  {
   "cell_type": "markdown",
   "id": "07639d19-2bbe-4213-80f6-261205848701",
   "metadata": {},
   "source": [
    "First, let's prepare our gene sets from MSigDB Hallmark collection for use in functional analysis:"
   ]
  },
  {
   "cell_type": "code",
   "execution_count": null,
   "id": "64e90e10-8396-48fc-9382-95e560e4fab2",
   "metadata": {},
   "outputs": [],
   "source": []
  },
  {
   "cell_type": "markdown",
   "id": "73e8f7a3-757f-46ef-9158-43a571d14165",
   "metadata": {},
   "source": [
    "<h2>Perform over-representation analysis</h2>"
   ]
  },
  {
   "cell_type": "markdown",
   "id": "4eca0591-d71a-46d2-aa4c-6e2e21105a4a",
   "metadata": {},
   "source": [
    "Then we can prepare our set of background genes based on the genes present in our DESeq2 results DataFrame for an over-representation analysis."
   ]
  },
  {
   "cell_type": "code",
   "execution_count": null,
   "id": "a82f064a-c53a-4e98-8ecd-922e64b4af6a",
   "metadata": {},
   "outputs": [],
   "source": []
  },
  {
   "cell_type": "markdown",
   "id": "ff064e20-520d-4932-ac96-6e782c21bf61",
   "metadata": {},
   "source": [
    "Now we can define what our \"interesting\" genes are that we want to determine what gene sets or functional groups are enriched:"
   ]
  },
  {
   "cell_type": "code",
   "execution_count": null,
   "id": "678e748b-d69d-4c4c-aff8-78b6ec7cfd28",
   "metadata": {},
   "outputs": [],
   "source": []
  },
  {
   "cell_type": "markdown",
   "id": "814ec4f3-bcb2-4a91-b2e5-744e4abb881c",
   "metadata": {},
   "source": [
    "Let's run the over-representation analysis using the GSEApy package's <code>gp.enrich()</code> function."
   ]
  },
  {
   "cell_type": "code",
   "execution_count": null,
   "id": "5d5ecebb-5282-4e29-8bb6-1cd8c07a9226",
   "metadata": {},
   "outputs": [],
   "source": []
  },
  {
   "cell_type": "markdown",
   "id": "47bce367-4e22-486f-9aaa-f7bf5e96f502",
   "metadata": {},
   "source": [
    "Now let's take a look at the output of our analysis:"
   ]
  },
  {
   "cell_type": "code",
   "execution_count": null,
   "id": "195a314d-4ee2-46ff-b9c3-da72d2f1507c",
   "metadata": {},
   "outputs": [],
   "source": []
  },
  {
   "cell_type": "markdown",
   "id": "9c344f79-be4f-4ab0-a1a2-740060cd2218",
   "metadata": {},
   "source": [
    "We can sort our data by the adjusted p-value just to reorganize our data where the most significant over-representation is at the top of the DataFrame:"
   ]
  },
  {
   "cell_type": "code",
   "execution_count": null,
   "id": "ae62c91e-c635-42e7-b013-740ba9b5b5c6",
   "metadata": {},
   "outputs": [],
   "source": []
  },
  {
   "cell_type": "code",
   "execution_count": null,
   "id": "5507766c-a995-485b-a416-f2cd2abac082",
   "metadata": {},
   "outputs": [],
   "source": []
  },
  {
   "cell_type": "markdown",
   "id": "56c4a8fd-ffe3-435a-9181-779178bd89eb",
   "metadata": {},
   "source": [
    "<h2>Generate a dot plot of over-represented gene sets</h2>"
   ]
  },
  {
   "cell_type": "markdown",
   "id": "5911a0c9-d5e4-4cba-800b-b7669a4831c8",
   "metadata": {},
   "source": [
    "We can make use of the <code>gp.dotplot()</code> function to generate a dot plot of our over-representation analysis results."
   ]
  },
  {
   "cell_type": "code",
   "execution_count": null,
   "id": "496d1914-87ca-4691-8f44-f9bd7f7ca1cf",
   "metadata": {},
   "outputs": [],
   "source": []
  },
  {
   "cell_type": "markdown",
   "id": "96534583-6d0e-454e-a396-95e25226715b",
   "metadata": {},
   "source": [
    "What adjustments can we make to our code to instead look at the set of genes that are indirectly regulated by TAZ?"
   ]
  },
  {
   "cell_type": "markdown",
   "id": "eacc388c-d696-4f45-81a7-97a8fefdbfd9",
   "metadata": {},
   "source": [
    "<h1>Perform GSEA on overlapping genes</h1>"
   ]
  },
  {
   "cell_type": "markdown",
   "id": "38e927f6-a362-48cd-89c7-04cc34d668cc",
   "metadata": {},
   "source": [
    "Like with over-representation analysis, we can also perform GSEA on our overlapping genes to get an idea of what functional groups may be direct targets of TAZ by taking a look at the difference in enrichment between our TAZ KO and control samples. \n",
    "\n",
    "First, we can prepare our counts matrix to pass to GSEApy's <code>gp.GSEA()</code> function:"
   ]
  },
  {
   "cell_type": "code",
   "execution_count": null,
   "id": "78a52d29-1242-4b53-9bf8-fef272d0563d",
   "metadata": {},
   "outputs": [],
   "source": []
  },
  {
   "cell_type": "markdown",
   "id": "4ff82f2b-5cee-49e8-ab9d-b27022796772",
   "metadata": {},
   "source": [
    "We can rename our <code>Unnamed: 0</code> column to <code>gene</code>, so that it's easier for us to merge our DataFrames:"
   ]
  },
  {
   "cell_type": "code",
   "execution_count": null,
   "id": "d30a6dc1-8341-4d80-8673-e652293e6ce3",
   "metadata": {},
   "outputs": [],
   "source": []
  },
  {
   "cell_type": "code",
   "execution_count": null,
   "id": "beb01013-e161-4182-aad2-92af065556e7",
   "metadata": {},
   "outputs": [],
   "source": []
  },
  {
   "cell_type": "markdown",
   "id": "af2158eb-d748-44a4-a9b5-3af9b1a51de9",
   "metadata": {},
   "source": [
    "We already have our DataFrame containing our set of overlapping genes, so let's use that to pull the count information as a new DataFrame:"
   ]
  },
  {
   "cell_type": "code",
   "execution_count": null,
   "id": "ffd70c0d-69f3-4d33-bd2e-dae3de4ea44f",
   "metadata": {},
   "outputs": [],
   "source": []
  },
  {
   "cell_type": "markdown",
   "id": "2a70dba2-67b9-46a3-8789-ea45635778f9",
   "metadata": {},
   "source": [
    "Like before, we can generate our own variables that would have been created by the .cls parser."
   ]
  },
  {
   "cell_type": "code",
   "execution_count": null,
   "id": "f911f6b0-9372-4c3b-b7e6-d4fd62539baf",
   "metadata": {},
   "outputs": [],
   "source": []
  },
  {
   "cell_type": "markdown",
   "id": "6f7b5702-b051-4228-b060-aa636c7b8363",
   "metadata": {},
   "source": [
    "Now we can run a GSEA on the genes from our RNA-seq results that overlap with our ChIP-seq results as another way to identify enrichment and to glean information on the change relative to our controls."
   ]
  },
  {
   "cell_type": "code",
   "execution_count": null,
   "id": "f35afa84-b7ad-45d0-8ba0-20ea314bf74b",
   "metadata": {},
   "outputs": [],
   "source": []
  },
  {
   "cell_type": "markdown",
   "id": "b029d508-eaf3-4fcf-aae8-aae319187691",
   "metadata": {},
   "source": [
    "Let's sort our output DataFrame by the FDR, so we can see the significant hits at the top of the DataFrame."
   ]
  },
  {
   "cell_type": "code",
   "execution_count": null,
   "id": "c6e2f71a-4aee-4def-9d2e-e841fd767119",
   "metadata": {},
   "outputs": [],
   "source": []
  },
  {
   "cell_type": "code",
   "execution_count": null,
   "id": "d879cc15-2494-4a83-949e-03a120f63018",
   "metadata": {},
   "outputs": [],
   "source": []
  },
  {
   "cell_type": "markdown",
   "id": "d7f19ca6-1ac1-4329-bef7-4bd7f8e159a8",
   "metadata": {},
   "source": [
    "<h2>Generate GSEA plots for significant hits</h2>"
   ]
  },
  {
   "cell_type": "markdown",
   "id": "340c4583-c297-4e13-a873-e7bb8deecd80",
   "metadata": {},
   "source": [
    "Let's work together to come up with a way to generate a set of GSEA plots for our significant hits without needing to manually count how many gene sets are enriched.\n",
    "\n",
    "In our previous lesson, we made use of the following for-loop:\n",
    "\n",
    "```\n",
    "for i in np.arange(0, 5, 1):\n",
    "    fig = gs_res.plot(gs_res.res2d.Term[i])\n",
    "    fig.set_size_inches(4, 6)\n",
    "```\n",
    "\n",
    "Now let's modify this code to be a bit more flexible."
   ]
  },
  {
   "cell_type": "code",
   "execution_count": null,
   "id": "01e7234f-a164-43c7-9367-83878b8a06fb",
   "metadata": {},
   "outputs": [],
   "source": []
  },
  {
   "cell_type": "markdown",
   "id": "5bf32bfe-d639-4214-a82d-1de87375faae",
   "metadata": {},
   "source": [
    "<h1>Exercise #6: Run GSEA on genes that do not overlap with our ChIP-seq peaks</h1>"
   ]
  },
  {
   "cell_type": "markdown",
   "id": "be6f807e-2647-43a5-a2a8-faddee7ab3a4",
   "metadata": {},
   "source": [
    "For this last exercise, practice running GSEA on our RNA-seq genes that were found to not overlap with our ChIP-seq genes, and after, we can take a look at what the result might tell us about the indirect targets of TAZ."
   ]
  },
  {
   "cell_type": "code",
   "execution_count": null,
   "id": "d1c0ac0e-7406-46b8-ace0-b2c25b5dbf44",
   "metadata": {},
   "outputs": [],
   "source": []
  },
  {
   "cell_type": "code",
   "execution_count": null,
   "id": "fc446424-da58-4e73-ae2d-105ceb358187",
   "metadata": {},
   "outputs": [],
   "source": []
  },
  {
   "cell_type": "code",
   "execution_count": null,
   "id": "61e8ae9e-2cc9-46bd-84d8-283f6cd22a84",
   "metadata": {},
   "outputs": [],
   "source": []
  },
  {
   "cell_type": "code",
   "execution_count": null,
   "id": "3b5e8f91-86d4-4434-8833-b72b052a7ac9",
   "metadata": {},
   "outputs": [],
   "source": []
  }
 ],
 "metadata": {
  "kernelspec": {
   "display_name": "Python [conda env:root] *",
   "language": "python",
   "name": "conda-root-py"
  },
  "language_info": {
   "codemirror_mode": {
    "name": "ipython",
    "version": 3
   },
   "file_extension": ".py",
   "mimetype": "text/x-python",
   "name": "python",
   "nbconvert_exporter": "python",
   "pygments_lexer": "ipython3",
   "version": "3.11.0"
  }
 },
 "nbformat": 4,
 "nbformat_minor": 5
}
