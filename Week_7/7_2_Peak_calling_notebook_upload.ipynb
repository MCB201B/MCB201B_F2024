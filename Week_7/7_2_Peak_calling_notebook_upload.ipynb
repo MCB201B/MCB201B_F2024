{
 "cells": [
  {
   "cell_type": "markdown",
   "id": "bf6794cb-fdf9-4d72-95ab-9977bbc84824",
   "metadata": {},
   "source": [
    "<h1 style=\"font-size: 40px; margin-bottom: 0px;\">7.2 ChIP-seq peak calling</h1>\n",
    "\n",
    "<hr style=\"margin-left: 0px; border: 0.25px solid; border-color: #000000; width: 700px;\"></hr>"
   ]
  },
  {
   "cell_type": "markdown",
   "id": "b9435d5d-5ede-4c03-b5ed-e1f9fc385c40",
   "metadata": {},
   "source": [
    "Let's import the packages that we'll need:"
   ]
  },
  {
   "cell_type": "code",
   "execution_count": null,
   "id": "ec732a65-712e-4891-b994-71d820e0c619",
   "metadata": {},
   "outputs": [],
   "source": [
    "import pandas as pd\n",
    "import numpy as np\n",
    "import matplotlib.pyplot as plt\n",
    "import seaborn as sns"
   ]
  },
  {
   "cell_type": "markdown",
   "id": "461093da-1f31-44ac-8b52-e3b133ea26c5",
   "metadata": {},
   "source": [
    "Import your .xls files into their own pandas DataFrames.\n",
    "\n",
    "Since the files themselves have extra comments that we don't want to import, we can exclude comments by using the <code>comment</code> parameter, and specifying the starting value for those cells that are comments. In our case, the comment cells are denoted with a <code>&num;</code>.\n",
    "\n",
    "```\n",
    "ctrl = pd.read_csv(\"macs2/10M_ctrl_peaks.xls\", delimiter='\\t', comment='#')\n",
    "```"
   ]
  },
  {
   "cell_type": "code",
   "execution_count": null,
   "id": "dd389773-e374-45df-b6aa-6b81dbc49544",
   "metadata": {},
   "outputs": [],
   "source": []
  },
  {
   "cell_type": "markdown",
   "id": "bfb2b7db-2133-4416-bf77-517d3d43383f",
   "metadata": {},
   "source": [
    "As usual, let's take a look to make sure things imported properly by looking at just the first 5 rows of our DataFrame."
   ]
  },
  {
   "cell_type": "code",
   "execution_count": null,
   "id": "a336d967-c743-4995-9672-acd08ff28658",
   "metadata": {},
   "outputs": [],
   "source": []
  },
  {
   "cell_type": "markdown",
   "id": "b4077620-8585-4613-85e4-ed5d8313d33e",
   "metadata": {},
   "source": [
    "<h1 style=\"font-size: 40px; margin-bottom: 0px;\">Exercise #1: Import the remaining .xls files</h1>\n",
    "\n",
    "<hr style=\"margin-left: 0px; border: 0.25px solid; border-color: #000000; width: 850px;\"></hr>"
   ]
  },
  {
   "cell_type": "markdown",
   "id": "3bc51b0c-3bd7-4bf2-baee-ca2be30d1fe8",
   "metadata": {},
   "source": [
    "For this exercise, import the remaining .xls files that correspond to your 10M_taz_1 and 10M_taz_2 files. And take a look at the first five rows to double check that they've imported properly."
   ]
  },
  {
   "cell_type": "code",
   "execution_count": null,
   "id": "0f323efc-64d1-483f-a79a-e41fa9902546",
   "metadata": {},
   "outputs": [],
   "source": []
  },
  {
   "cell_type": "code",
   "execution_count": null,
   "id": "6df595ba-c016-47e0-af79-96ac708708b4",
   "metadata": {},
   "outputs": [],
   "source": []
  },
  {
   "cell_type": "code",
   "execution_count": null,
   "id": "2c4a7850-b7df-43e1-b47b-e10f5ee46776",
   "metadata": {},
   "outputs": [],
   "source": []
  },
  {
   "cell_type": "code",
   "execution_count": null,
   "id": "6e02de2e-cd87-4205-b1e5-86074bdc6f08",
   "metadata": {},
   "outputs": [],
   "source": []
  },
  {
   "cell_type": "markdown",
   "id": "7eaa244b-c96a-4db0-a29c-38ca24694410",
   "metadata": {},
   "source": [
    "<h1 style=\"font-size: 40px; margin-bottom: 0px;\">Exercise #2: Filter dataset</h1>\n",
    "\n",
    "<hr style=\"margin-left: 0px; border: 0.25px solid; border-color: #000000; width: 850px;\"></hr>"
   ]
  },
  {
   "cell_type": "markdown",
   "id": "fd0b4b65-2d77-4a7d-827e-1d9c324a9cc8",
   "metadata": {},
   "source": [
    "Now let's filter and sort our peak DataFrames to get just the most enriched peaks."
   ]
  },
  {
   "cell_type": "code",
   "execution_count": null,
   "id": "7bfb4125-36de-4242-bee0-b1bab6a172ac",
   "metadata": {},
   "outputs": [],
   "source": []
  },
  {
   "cell_type": "markdown",
   "id": "9778004f-cdc8-4952-9979-8b83f1af9b79",
   "metadata": {},
   "source": [
    "Output the rows corresponding to the top 20 highest fold-enrichment peaks. "
   ]
  },
  {
   "cell_type": "code",
   "execution_count": null,
   "id": "7421eba5-f9c9-4038-8b8e-bd53b5a6f5ed",
   "metadata": {},
   "outputs": [],
   "source": []
  },
  {
   "cell_type": "code",
   "execution_count": null,
   "id": "9ed30276-ec30-4d3b-975b-4fde52b0965a",
   "metadata": {},
   "outputs": [],
   "source": []
  },
  {
   "cell_type": "markdown",
   "id": "2650ec78-79f8-4a98-bf50-edcb0a8723cd",
   "metadata": {},
   "source": [
    "<h1 style=\"font-size: 40px; margin-bottom: 0px;\">Exercise #3: Plot fold-enrichment vs -log10(qvalue)</h1>\n",
    "\n",
    "<hr style=\"margin-left: 0px; border: 0.25px solid; border-color: #000000; width: 850px;\"></hr>"
   ]
  },
  {
   "cell_type": "markdown",
   "id": "ab3ae205-cbb6-40d3-9952-798ead22bded",
   "metadata": {},
   "source": [
    "See if you can create a seaborn scatterplot where the X-axis is the fold enrichment, and the Y-axis is the -log10(qvalue).\n",
    "\n",
    "Try to set this up just for taz_1, and we'll play around with the styling together to make it prettier."
   ]
  },
  {
   "cell_type": "code",
   "execution_count": null,
   "id": "53d257f6-b7ee-43f9-9836-ee4f75fdc127",
   "metadata": {},
   "outputs": [],
   "source": []
  },
  {
   "cell_type": "code",
   "execution_count": null,
   "id": "4d459821-2180-411a-ab16-b788f97ac21e",
   "metadata": {},
   "outputs": [],
   "source": []
  }
 ],
 "metadata": {
  "kernelspec": {
   "display_name": "Python [conda env:root] *",
   "language": "python",
   "name": "conda-root-py"
  },
  "language_info": {
   "codemirror_mode": {
    "name": "ipython",
    "version": 3
   },
   "file_extension": ".py",
   "mimetype": "text/x-python",
   "name": "python",
   "nbconvert_exporter": "python",
   "pygments_lexer": "ipython3",
   "version": "3.11.0"
  }
 },
 "nbformat": 4,
 "nbformat_minor": 5
}
